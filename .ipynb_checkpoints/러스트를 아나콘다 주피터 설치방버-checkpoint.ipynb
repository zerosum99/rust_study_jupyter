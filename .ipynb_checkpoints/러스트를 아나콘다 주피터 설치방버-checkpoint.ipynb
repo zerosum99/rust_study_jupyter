{
 "cells": [
  {
   "cell_type": "markdown",
   "id": "e22914dd",
   "metadata": {},
   "source": [
    "## 러스트 구성 방안 \n",
    "\n",
    "\n",
    "https://pipln.medium.com/rust-%EB%A5%BC-jupyter-notebook-%EC%82%AC%EC%9A%A9%ED%95%98%EA%B8%B0-cd939324e23f"
   ]
  },
  {
   "cell_type": "markdown",
   "id": "474f4435",
   "metadata": {},
   "source": [
    "## 디펜던시 추가 \n",
    "\n",
    "http://www.legendu.net/misc/blog/get-type-name-of-variables-in-rust/"
   ]
  },
  {
   "cell_type": "code",
   "execution_count": 3,
   "id": "b95af063",
   "metadata": {},
   "outputs": [],
   "source": [
    "let s = 100;"
   ]
  },
  {
   "cell_type": "code",
   "execution_count": 4,
   "id": "0298fd8b",
   "metadata": {},
   "outputs": [],
   "source": [
    "let a = 200;"
   ]
  },
  {
   "cell_type": "code",
   "execution_count": 13,
   "id": "d03f9b22",
   "metadata": {},
   "outputs": [
    {
     "name": "stdout",
     "output_type": "stream",
     "text": [
      " s+ a = 300 \n"
     ]
    }
   ],
   "source": [
    "println!(\" s + a = {} \", s + a);"
   ]
  },
  {
   "cell_type": "code",
   "execution_count": null,
   "id": "1c35e245",
   "metadata": {},
   "outputs": [],
   "source": []
  },
  {
   "cell_type": "markdown",
   "id": "70f16ba9",
   "metadata": {},
   "source": [
    "## 크레이트 추가하기 "
   ]
  },
  {
   "cell_type": "code",
   "execution_count": 5,
   "id": "6ed39306",
   "metadata": {},
   "outputs": [],
   "source": [
    ":dep typename = \"0.1.2\""
   ]
  },
  {
   "cell_type": "markdown",
   "id": "cd68a260",
   "metadata": {},
   "source": [
    "## 크레이트 사용하기 "
   ]
  },
  {
   "cell_type": "code",
   "execution_count": 6,
   "id": "a4546038",
   "metadata": {},
   "outputs": [],
   "source": [
    "use typename::TypeName;"
   ]
  },
  {
   "cell_type": "code",
   "execution_count": 7,
   "id": "df6fc25f",
   "metadata": {},
   "outputs": [
    {
     "data": {
      "text/plain": [
       "\"std::string::String\""
      ]
     },
     "execution_count": 7,
     "metadata": {},
     "output_type": "execute_result"
    }
   ],
   "source": [
    "String::type_name()"
   ]
  },
  {
   "cell_type": "code",
   "execution_count": 8,
   "id": "54974fed",
   "metadata": {},
   "outputs": [
    {
     "data": {
      "text/plain": [
       "\"std::vec::Vec<i32>\""
      ]
     },
     "execution_count": 8,
     "metadata": {},
     "output_type": "execute_result"
    }
   ],
   "source": [
    "Vec::<i32>::type_name()"
   ]
  },
  {
   "cell_type": "code",
   "execution_count": 9,
   "id": "0c1eafaf",
   "metadata": {},
   "outputs": [
    {
     "data": {
      "text/plain": [
       "\"[i32; 3]\""
      ]
     },
     "execution_count": 9,
     "metadata": {},
     "output_type": "execute_result"
    }
   ],
   "source": [
    "[0, 1, 2].type_name_of()"
   ]
  },
  {
   "cell_type": "code",
   "execution_count": null,
   "id": "bc8db62c",
   "metadata": {},
   "outputs": [],
   "source": []
  },
  {
   "cell_type": "markdown",
   "id": "27692c81",
   "metadata": {},
   "source": [
    "## 생애주기 처리 : 참조자"
   ]
  },
  {
   "cell_type": "code",
   "execution_count": 15,
   "id": "1a480621",
   "metadata": {},
   "outputs": [],
   "source": [
    "fn echo(s : &'static str) {   // 생애주기를\n",
    "    println!(\" echo {}\", s);\n",
    "}\n"
   ]
  },
  {
   "cell_type": "code",
   "execution_count": 16,
   "id": "74e88119",
   "metadata": {},
   "outputs": [
    {
     "name": "stdout",
     "output_type": "stream",
     "text": [
      " echo 가을이\n"
     ]
    }
   ],
   "source": [
    "echo(\"가을이\");\n",
    "let _s = String::from(\"겨율이\");\n",
    "//echo(&s);  //타입 에러 ... 참조자\n",
    "// echo(s.as_str());  lifetime을 명기한 경우 단순히 변환해서는 처리가 안됨"
   ]
  },
  {
   "cell_type": "markdown",
   "id": "c74879e4",
   "metadata": {},
   "source": [
    "## 참조자의 생애주기가 비 포함 "
   ]
  },
  {
   "cell_type": "code",
   "execution_count": 17,
   "id": "6ac430b0",
   "metadata": {},
   "outputs": [
    {
     "ename": "Error",
     "evalue": "`_s` does not live long enough",
     "output_type": "error",
     "traceback": [
      "\u001b[31m[E0597] Error:\u001b[0m `_s` does not live long enough",
      "   \u001b[38;5;246m╭\u001b[0m\u001b[38;5;246m─\u001b[0m\u001b[38;5;246m[\u001b[0mcommand_17:1:1\u001b[38;5;246m]\u001b[0m",
      "   \u001b[38;5;246m│\u001b[0m",
      " \u001b[38;5;246m1 │\u001b[0m \u001b[38;5;100me\u001b[0m\u001b[38;5;100mc\u001b[0m\u001b[38;5;100mh\u001b[0m\u001b[38;5;100mo\u001b[0m\u001b[38;5;100m(\u001b[0m\u001b[38;5;54m&\u001b[0m\u001b[38;5;54m_\u001b[0m\u001b[38;5;54ms\u001b[0m\u001b[38;5;100m)\u001b[0m\u001b[38;5;249m;\u001b[0m",
      " \u001b[38;5;246m  ·\u001b[0m \u001b[38;5;100m─\u001b[0m\u001b[38;5;100m─\u001b[0m\u001b[38;5;100m─\u001b[0m\u001b[38;5;100m─\u001b[0m\u001b[38;5;100m┬\u001b[0m\u001b[38;5;54m─\u001b[0m\u001b[38;5;54m┬\u001b[0m\u001b[38;5;54m─\u001b[0m\u001b[38;5;100m─\u001b[0m  ",
      " \u001b[38;5;246m  ·\u001b[0m     \u001b[38;5;100m╰\u001b[0m\u001b[38;5;100m─\u001b[0m\u001b[38;5;100m─\u001b[0m\u001b[38;5;100m─\u001b[0m\u001b[38;5;100m─\u001b[0m\u001b[38;5;100m─\u001b[0m\u001b[38;5;100m─\u001b[0m argument requires that `_s` is borrowed for `'static`",
      " \u001b[38;5;246m  ·\u001b[0m       \u001b[38;5;54m│\u001b[0m    ",
      " \u001b[38;5;246m  ·\u001b[0m       \u001b[38;5;54m╰\u001b[0m\u001b[38;5;54m─\u001b[0m\u001b[38;5;54m─\u001b[0m\u001b[38;5;54m─\u001b[0m\u001b[38;5;54m─\u001b[0m borrowed value does not live long enough",
      "\u001b[38;5;246m───╯\u001b[0m"
     ]
    },
    {
     "ename": "Error",
     "evalue": "cannot move out of `_s` because it is borrowed",
     "output_type": "error",
     "traceback": [
      "\u001b[31m[E0505] Error:\u001b[0m cannot move out of `_s` because it is borrowed",
      "   \u001b[38;5;246m╭\u001b[0m\u001b[38;5;246m─\u001b[0m\u001b[38;5;246m[\u001b[0mcommand_17:1:1\u001b[38;5;246m]\u001b[0m",
      "   \u001b[38;5;246m│\u001b[0m",
      " \u001b[38;5;246m1 │\u001b[0m \u001b[38;5;100me\u001b[0m\u001b[38;5;100mc\u001b[0m\u001b[38;5;100mh\u001b[0m\u001b[38;5;100mo\u001b[0m\u001b[38;5;100m(\u001b[0m\u001b[38;5;54m&\u001b[0m\u001b[38;5;54m_\u001b[0m\u001b[38;5;54ms\u001b[0m\u001b[38;5;100m)\u001b[0m\u001b[38;5;249m;\u001b[0m",
      " \u001b[38;5;246m  ·\u001b[0m \u001b[38;5;100m─\u001b[0m\u001b[38;5;100m─\u001b[0m\u001b[38;5;100m─\u001b[0m\u001b[38;5;100m─\u001b[0m\u001b[38;5;100m┬\u001b[0m\u001b[38;5;54m─\u001b[0m\u001b[38;5;54m┬\u001b[0m\u001b[38;5;54m─\u001b[0m\u001b[38;5;100m─\u001b[0m  ",
      " \u001b[38;5;246m  ·\u001b[0m     \u001b[38;5;100m╰\u001b[0m\u001b[38;5;100m─\u001b[0m\u001b[38;5;100m─\u001b[0m\u001b[38;5;100m─\u001b[0m\u001b[38;5;100m─\u001b[0m\u001b[38;5;100m─\u001b[0m\u001b[38;5;100m─\u001b[0m argument requires that `_s` is borrowed for `'static`",
      " \u001b[38;5;246m  ·\u001b[0m       \u001b[38;5;54m│\u001b[0m    ",
      " \u001b[38;5;246m  ·\u001b[0m       \u001b[38;5;54m╰\u001b[0m\u001b[38;5;54m─\u001b[0m\u001b[38;5;54m─\u001b[0m\u001b[38;5;54m─\u001b[0m\u001b[38;5;54m─\u001b[0m borrow of `_s` occurs here",
      "\u001b[38;5;246m───╯\u001b[0m"
     ]
    }
   ],
   "source": [
    "echo(&_s);"
   ]
  },
  {
   "cell_type": "code",
   "execution_count": null,
   "id": "93429fa9",
   "metadata": {},
   "outputs": [],
   "source": []
  }
 ],
 "metadata": {
  "kernelspec": {
   "display_name": "Rust",
   "language": "rust",
   "name": "rust"
  },
  "language_info": {
   "codemirror_mode": "rust",
   "file_extension": ".rs",
   "mimetype": "text/rust",
   "name": "Rust",
   "pygment_lexer": "rust",
   "version": ""
  }
 },
 "nbformat": 4,
 "nbformat_minor": 5
}
