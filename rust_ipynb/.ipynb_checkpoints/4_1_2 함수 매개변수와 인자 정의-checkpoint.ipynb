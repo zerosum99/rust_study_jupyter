{
 "cells": [
  {
   "cell_type": "markdown",
   "id": "ffe9db98",
   "metadata": {},
   "source": [
    "## 가변 매개변수 정의 \n",
    "\n",
    "- 매개변수를 인자로 값을 할당한 후에도 다른 값으로 재할당이 가능하다. "
   ]
  },
  {
   "cell_type": "code",
   "execution_count": 7,
   "id": "90a504a1",
   "metadata": {},
   "outputs": [],
   "source": [
    "// 함수의 매개 변수 목록에있는 가변 변수입니다.\n",
    "fn foo(mut x: u8, y: u8) -> u8 {\n",
    "    x += y;\n",
    "    x\n",
    "}\n",
    "\n",
    "fn main() { \n",
    "\n",
    "    // 가변 변수 수정.\n",
    "    let mut a = 5;\n",
    "    a = 6;\n",
    "    assert_eq!(a, 6);\n",
    "    \n",
    "    // 함수 인자 전달 \n",
    "    assert_eq!(foo(3, 4), 7);\n",
    "    println!(\"{} \", foo(3,4));\n",
    "    \n",
    "\n",
    "    \n",
    "} "
   ]
  },
  {
   "cell_type": "code",
   "execution_count": 8,
   "id": "ff9f7984",
   "metadata": {},
   "outputs": [
    {
     "name": "stdout",
     "output_type": "stream",
     "text": [
      "7 \n"
     ]
    },
    {
     "data": {
      "text/plain": [
       "()"
      ]
     },
     "execution_count": 8,
     "metadata": {},
     "output_type": "execute_result"
    }
   ],
   "source": [
    "main()"
   ]
  },
  {
   "cell_type": "markdown",
   "id": "067c01b4",
   "metadata": {},
   "source": [
    "# 3.  가변 참조 자료형 지정하기\n",
    "\n",
    "-  인자로 들어오는 값의 원소를 변경할 수 있다."
   ]
  },
  {
   "cell_type": "markdown",
   "id": "7cb2e534",
   "metadata": {},
   "source": [
    "## 벡터 처리 "
   ]
  },
  {
   "cell_type": "code",
   "execution_count": 17,
   "id": "c95aa7b6",
   "metadata": {},
   "outputs": [],
   "source": [
    "// 가변 참조를받습니다.\n",
    "fn push_two(v: &mut Vec<u8>) {\n",
    "    v.push(2);\n",
    "}\n",
    "\n",
    "fn main() { \n",
    "\n",
    "    // 변경 가능한 참조는 변경 불가능한 변수로 가져올 수 없습니다.\n",
    "    let mut v = vec![0, 1];          // 가변 참조로 전달할 대는 가변 변수로 지정이 필요 \n",
    "    // 변경 가능한 참조 전달.\n",
    "    push_two(&mut v);            // 가변 참조일 때는 항상 가변참조로 전달해야 함 \n",
    "    \n",
    "    println!(\"{:?}\", v);\n",
    "\n",
    "    assert_eq!(v, vec![0, 1, 2]);\n",
    "    \n",
    "}"
   ]
  },
  {
   "cell_type": "code",
   "execution_count": 18,
   "id": "ddd7d829",
   "metadata": {},
   "outputs": [
    {
     "name": "stdout",
     "output_type": "stream",
     "text": [
      "[0, 1, 2]\n"
     ]
    },
    {
     "data": {
      "text/plain": [
       "()"
      ]
     },
     "execution_count": 18,
     "metadata": {},
     "output_type": "execute_result"
    }
   ],
   "source": [
    "main()"
   ]
  },
  {
   "cell_type": "markdown",
   "id": "f4437ed0",
   "metadata": {},
   "source": [
    "## String 문자열 처리 "
   ]
  },
  {
   "cell_type": "code",
   "execution_count": 21,
   "id": "1edf4c8c",
   "metadata": {},
   "outputs": [],
   "source": [
    "// 가변 참조를받습니다.\n",
    "fn push_three(v: &mut String) {\n",
    "    v.push('a');\n",
    "}\n",
    "\n",
    "fn main() { \n",
    "\n",
    "    // 변경 가능한 참조는 변경 불가능한 변수로 가져올 수 없습니다.\n",
    "    let mut v = \"string\".to_string();         // 가변 참조로 전달할 대는 가변 변수로 지정이 필요 \n",
    "    // 변경 가능한 참조 전달.\n",
    "    push_three(&mut v);            // 가변 참조일 때는 항상 가변참조로 전달해야 함 \n",
    "    \n",
    "    println!(\"{:?}\", v);\n",
    "\n",
    "    assert_eq!(v, String::from(\"stringa\"));\n",
    "    \n",
    "}"
   ]
  },
  {
   "cell_type": "code",
   "execution_count": 22,
   "id": "2f850546",
   "metadata": {},
   "outputs": [
    {
     "name": "stdout",
     "output_type": "stream",
     "text": [
      "\"stringa\"\n"
     ]
    },
    {
     "data": {
      "text/plain": [
       "()"
      ]
     },
     "execution_count": 22,
     "metadata": {},
     "output_type": "execute_result"
    }
   ],
   "source": [
    "main()"
   ]
  },
  {
   "cell_type": "code",
   "execution_count": null,
   "id": "2b6902a4",
   "metadata": {},
   "outputs": [],
   "source": []
  }
 ],
 "metadata": {
  "kernelspec": {
   "display_name": "Rust",
   "language": "rust",
   "name": "rust"
  },
  "language_info": {
   "codemirror_mode": "rust",
   "file_extension": ".rs",
   "mimetype": "text/rust",
   "name": "Rust",
   "pygment_lexer": "rust",
   "version": ""
  }
 },
 "nbformat": 4,
 "nbformat_minor": 5
}
