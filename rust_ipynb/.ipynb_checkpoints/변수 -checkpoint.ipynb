{
 "cells": [
  {
   "cell_type": "code",
   "execution_count": null,
   "id": "b5e6961a",
   "metadata": {},
   "outputs": [],
   "source": []
  },
  {
   "cell_type": "code",
   "execution_count": null,
   "id": "f689a085",
   "metadata": {},
   "outputs": [],
   "source": []
  },
  {
   "cell_type": "markdown",
   "id": "73652798",
   "metadata": {},
   "source": [
    "## 변수 정의 : 불변 변수 "
   ]
  },
  {
   "cell_type": "code",
   "execution_count": null,
   "id": "227caed9",
   "metadata": {},
   "outputs": [],
   "source": []
  },
  {
   "cell_type": "code",
   "execution_count": 13,
   "id": "5703b87e",
   "metadata": {},
   "outputs": [],
   "source": [
    "\n",
    "\n",
    "fn main() {\n",
    "    let fees = 25_000;\n",
    "    let salary:f64=35_000.00;\n",
    "    println!(\"fees is {} and salary is {}\",fees,salary); \n",
    "\n",
    "}"
   ]
  },
  {
   "cell_type": "code",
   "execution_count": 14,
   "id": "e67b7b54",
   "metadata": {},
   "outputs": [
    {
     "name": "stdout",
     "output_type": "stream",
     "text": [
      "fees is 25000 and salary is 35000\n"
     ]
    },
    {
     "data": {
      "text/plain": [
       "()"
      ]
     },
     "execution_count": 14,
     "metadata": {},
     "output_type": "execute_result"
    }
   ],
   "source": [
    "main()"
   ]
  },
  {
   "cell_type": "markdown",
   "id": "6d9f797d",
   "metadata": {},
   "source": [
    "## 변수 정의 : 가변 변수 "
   ]
  },
  {
   "cell_type": "code",
   "execution_count": 6,
   "id": "f7c462bc",
   "metadata": {},
   "outputs": [],
   "source": [
    "fn main() {\n",
    "    let mut fees = 25_000;\n",
    "    println!(\"fees is {} \",fees); \n",
    "    fees=35_000;\n",
    "    println!(\"fees changed is {}\",fees);\n",
    "}"
   ]
  },
  {
   "cell_type": "code",
   "execution_count": 7,
   "id": "d29a8c84",
   "metadata": {},
   "outputs": [
    {
     "name": "stdout",
     "output_type": "stream",
     "text": [
      "fees is 25000 \n",
      "fees changed is 35000\n"
     ]
    },
    {
     "data": {
      "text/plain": [
       "()"
      ]
     },
     "execution_count": 7,
     "metadata": {},
     "output_type": "execute_result"
    }
   ],
   "source": [
    "main()"
   ]
  },
  {
   "cell_type": "code",
   "execution_count": null,
   "id": "a0ce0ba7",
   "metadata": {},
   "outputs": [],
   "source": []
  },
  {
   "cell_type": "code",
   "execution_count": 8,
   "id": "5e6faf3b",
   "metadata": {},
   "outputs": [],
   "source": [
    "fn main() {\n",
    "    const USER_LIMIT:i32=100; // Declare a integer constant \n",
    "    const PI:f32 = 3.14;//Declare a float constant\n",
    "    println!(\"user limit is {}\",USER_LIMIT); //Display value of the constant \n",
    "    println!(\"pi value is {}\",PI); //Display value of the constant\n",
    "}"
   ]
  },
  {
   "cell_type": "code",
   "execution_count": 9,
   "id": "0fb1513a",
   "metadata": {},
   "outputs": [
    {
     "name": "stdout",
     "output_type": "stream",
     "text": [
      "user limit is 100\n",
      "pi value is 3.14\n"
     ]
    },
    {
     "data": {
      "text/plain": [
       "()"
      ]
     },
     "execution_count": 9,
     "metadata": {},
     "output_type": "execute_result"
    }
   ],
   "source": [
    "main()"
   ]
  },
  {
   "cell_type": "code",
   "execution_count": null,
   "id": "2c973c95",
   "metadata": {},
   "outputs": [],
   "source": []
  },
  {
   "cell_type": "code",
   "execution_count": 10,
   "id": "07dc2344",
   "metadata": {},
   "outputs": [],
   "source": [
    "fn main() {\n",
    "    let uname=\"Mohtashim\";\n",
    "    let uname= uname.len();\n",
    "    println!(\"name changed to integer : {}\",uname);\n",
    "}\n"
   ]
  },
  {
   "cell_type": "code",
   "execution_count": 11,
   "id": "d002e426",
   "metadata": {},
   "outputs": [
    {
     "name": "stdout",
     "output_type": "stream",
     "text": [
      "name changed to integer : 9\n"
     ]
    },
    {
     "data": {
      "text/plain": [
       "()"
      ]
     },
     "execution_count": 11,
     "metadata": {},
     "output_type": "execute_result"
    }
   ],
   "source": [
    "main()"
   ]
  },
  {
   "cell_type": "markdown",
   "id": "8d13e1a4",
   "metadata": {},
   "source": []
  },
  {
   "cell_type": "code",
   "execution_count": 14,
   "id": "03ad4dd3",
   "metadata": {},
   "outputs": [],
   "source": [
    "fn main() {\n",
    "    const NAME:&str=\"Mohtashim\";\n",
    "    const NAME1:usize= NAME.len(); //Error : `NAME` already defined \n",
    "    println!(\"name changed to integer : {}\",NAME);\n",
    "    println!(\"name changed to integer : {}\",NAME1);\n",
    "}"
   ]
  },
  {
   "cell_type": "code",
   "execution_count": 15,
   "id": "c196ead6",
   "metadata": {},
   "outputs": [
    {
     "name": "stdout",
     "output_type": "stream",
     "text": [
      "name changed to integer : Mohtashim\n",
      "name changed to integer : 9\n"
     ]
    },
    {
     "data": {
      "text/plain": [
       "()"
      ]
     },
     "execution_count": 15,
     "metadata": {},
     "output_type": "execute_result"
    }
   ],
   "source": [
    "main()"
   ]
  },
  {
   "cell_type": "code",
   "execution_count": null,
   "id": "948eefdc",
   "metadata": {},
   "outputs": [],
   "source": []
  }
 ],
 "metadata": {
  "kernelspec": {
   "display_name": "Rust",
   "language": "rust",
   "name": "rust"
  },
  "language_info": {
   "codemirror_mode": "rust",
   "file_extension": ".rs",
   "mimetype": "text/rust",
   "name": "Rust",
   "pygment_lexer": "rust",
   "version": ""
  }
 },
 "nbformat": 4,
 "nbformat_minor": 5
}
