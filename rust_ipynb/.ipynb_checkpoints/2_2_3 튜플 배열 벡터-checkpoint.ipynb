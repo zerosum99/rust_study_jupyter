{
 "cells": [
  {
   "cell_type": "markdown",
   "id": "1671aa65",
   "metadata": {},
   "source": [
    "# 튜플 "
   ]
  },
  {
   "cell_type": "code",
   "execution_count": 6,
   "id": "c83beb4a",
   "metadata": {},
   "outputs": [],
   "source": [
    "let t : (u16, i16) = (100,200);"
   ]
  },
  {
   "cell_type": "code",
   "execution_count": 7,
   "id": "9f468cc8",
   "metadata": {},
   "outputs": [],
   "source": [
    "let (f,s) = t;"
   ]
  },
  {
   "cell_type": "code",
   "execution_count": 8,
   "id": "d964ef2a",
   "metadata": {},
   "outputs": [
    {
     "data": {
      "text/plain": [
       "100"
      ]
     },
     "execution_count": 8,
     "metadata": {},
     "output_type": "execute_result"
    }
   ],
   "source": [
    "f"
   ]
  },
  {
   "cell_type": "code",
   "execution_count": 9,
   "id": "187c08e9",
   "metadata": {},
   "outputs": [
    {
     "data": {
      "text/plain": [
       "200"
      ]
     },
     "execution_count": 9,
     "metadata": {},
     "output_type": "execute_result"
    }
   ],
   "source": [
    "s"
   ]
  },
  {
   "cell_type": "code",
   "execution_count": null,
   "id": "b842c882",
   "metadata": {},
   "outputs": [],
   "source": []
  },
  {
   "cell_type": "code",
   "execution_count": null,
   "id": "e9fb9536",
   "metadata": {},
   "outputs": [],
   "source": []
  },
  {
   "cell_type": "code",
   "execution_count": 2,
   "id": "2ae302a3",
   "metadata": {},
   "outputs": [],
   "source": [
    "let text = \"I see the eigenvalue in thine eye\";\n",
    "let (head, tail) = text.split_at(21);\n",
    "assert_eq!(head, \"I see the eigenvalue \");\n",
    "assert_eq!(tail, \"in thine eye\");"
   ]
  },
  {
   "cell_type": "code",
   "execution_count": 3,
   "id": "4e148934",
   "metadata": {},
   "outputs": [
    {
     "data": {
      "text/plain": [
       "\"I see the eigenvalue \""
      ]
     },
     "execution_count": 3,
     "metadata": {},
     "output_type": "execute_result"
    }
   ],
   "source": [
    "head"
   ]
  },
  {
   "cell_type": "code",
   "execution_count": 4,
   "id": "18789a9e",
   "metadata": {},
   "outputs": [
    {
     "data": {
      "text/plain": [
       "\"in thine eye\""
      ]
     },
     "execution_count": 4,
     "metadata": {},
     "output_type": "execute_result"
    }
   ],
   "source": [
    "tail"
   ]
  },
  {
   "cell_type": "code",
   "execution_count": null,
   "id": "acecc3a5",
   "metadata": {},
   "outputs": [],
   "source": []
  },
  {
   "cell_type": "code",
   "execution_count": 38,
   "id": "8c2bff78",
   "metadata": {},
   "outputs": [],
   "source": [
    "// Tuples can be used as function arguments and as return values\n",
    "fn reverse(pair: (i32, bool)) -> (bool, i32) {\n",
    "    // `let` can be used to bind the members of a tuple to variables\n",
    "    let (integer, boolean) = pair;\n",
    "\n",
    "    (boolean, integer)\n",
    "}"
   ]
  },
  {
   "cell_type": "code",
   "execution_count": 39,
   "id": "d2e3bdae",
   "metadata": {},
   "outputs": [
    {
     "data": {
      "text/plain": [
       "(true, 100)"
      ]
     },
     "execution_count": 39,
     "metadata": {},
     "output_type": "execute_result"
    }
   ],
   "source": [
    "reverse((100,true))"
   ]
  },
  {
   "cell_type": "markdown",
   "id": "7ba9e191",
   "metadata": {},
   "source": [
    "## 스왑함수 처리 하기"
   ]
  },
  {
   "cell_type": "code",
   "execution_count": 43,
   "id": "99de6559",
   "metadata": {},
   "outputs": [],
   "source": [
    "fn swap_int(x :i32, y :i32) -> (i32, i32) {\n",
    "    let (x,y) = (y,x);\n",
    "    println!(\"x={}, y={}\", x,y);\n",
    "    (x,y)\n",
    "}"
   ]
  },
  {
   "cell_type": "code",
   "execution_count": 44,
   "id": "02b8fd13",
   "metadata": {},
   "outputs": [
    {
     "name": "stdout",
     "output_type": "stream",
     "text": [
      "x=200, y=100\n"
     ]
    },
    {
     "data": {
      "text/plain": [
       "(200, 100)"
      ]
     },
     "execution_count": 44,
     "metadata": {},
     "output_type": "execute_result"
    }
   ],
   "source": [
    "swap_int(100,200)"
   ]
  },
  {
   "cell_type": "code",
   "execution_count": 50,
   "id": "808a747f",
   "metadata": {},
   "outputs": [],
   "source": [
    "fn swap_flt(x :f32, y :f32) -> (f32, f32) {\n",
    "    let (x,y) = (y,x);\n",
    "    println!(\"x={}, y={}\", x,y);\n",
    "    return (x,y)\n",
    "}"
   ]
  },
  {
   "cell_type": "code",
   "execution_count": 51,
   "id": "c300e414",
   "metadata": {},
   "outputs": [
    {
     "name": "stdout",
     "output_type": "stream",
     "text": [
      "x=200.2, y=100.1\n"
     ]
    },
    {
     "data": {
      "text/plain": [
       "(200.2, 100.1)"
      ]
     },
     "execution_count": 51,
     "metadata": {},
     "output_type": "execute_result"
    }
   ],
   "source": [
    "swap_flt(100.1,200.2)"
   ]
  },
  {
   "cell_type": "markdown",
   "id": "fb0655e8",
   "metadata": {},
   "source": [
    "## 제너릭 함수 "
   ]
  },
  {
   "cell_type": "code",
   "execution_count": 46,
   "id": "bbb18872",
   "metadata": {},
   "outputs": [],
   "source": [
    "fn swap<T:std::fmt::Display>(x: &mut T, y: &mut T) -> () {\n",
    "    let (x,y) = (y,x);\n",
    "    println!(\"x={}, y={}\", x,y);\n",
    "    //(x,y)\n",
    "}"
   ]
  },
  {
   "cell_type": "code",
   "execution_count": 47,
   "id": "15cbe644",
   "metadata": {},
   "outputs": [
    {
     "name": "stdout",
     "output_type": "stream",
     "text": [
      "x=200, y=100\n"
     ]
    }
   ],
   "source": [
    "let mut a = 100;\n",
    "let mut b = 200;\n",
    "\n",
    "swap(&mut a,&mut b);"
   ]
  },
  {
   "cell_type": "code",
   "execution_count": 48,
   "id": "141835b2",
   "metadata": {},
   "outputs": [
    {
     "data": {
      "text/plain": [
       "100"
      ]
     },
     "execution_count": 48,
     "metadata": {},
     "output_type": "execute_result"
    }
   ],
   "source": [
    "a"
   ]
  },
  {
   "cell_type": "code",
   "execution_count": 49,
   "id": "b654ce8f",
   "metadata": {},
   "outputs": [
    {
     "data": {
      "text/plain": [
       "200"
      ]
     },
     "execution_count": 49,
     "metadata": {},
     "output_type": "execute_result"
    }
   ],
   "source": [
    "b"
   ]
  },
  {
   "cell_type": "markdown",
   "id": "175a1404",
   "metadata": {},
   "source": [
    "# 배열 "
   ]
  },
  {
   "cell_type": "code",
   "execution_count": null,
   "id": "db4ebc85",
   "metadata": {},
   "outputs": [],
   "source": []
  },
  {
   "cell_type": "code",
   "execution_count": 2,
   "id": "401b52dc",
   "metadata": {},
   "outputs": [],
   "source": [
    "let lazy_caterer: [u32; 6] = [1, 2, 4, 7, 11, 16]; \n",
    "let taxonomy = [\"Animalia\", \"Arthropoda\", \"Insecta\"];\n",
    "\n",
    "assert_eq!(lazy_caterer[3], 7);\n",
    "assert_eq!(taxonomy.len(), 3);"
   ]
  },
  {
   "cell_type": "code",
   "execution_count": null,
   "id": "014191e5",
   "metadata": {},
   "outputs": [],
   "source": []
  },
  {
   "cell_type": "code",
   "execution_count": 4,
   "id": "521da437",
   "metadata": {},
   "outputs": [],
   "source": [
    "let mut sieve = [true; 10000]; \n",
    "for i in 2..100 {\n",
    "    if sieve[i] { \n",
    "        let mut j=i*i;\n",
    "        while j < 10000 {\n",
    "            sieve[j] = false;\n",
    "            j+=i; }\n",
    "    } \n",
    "}\n",
    "    \n",
    "assert!(sieve[211]);\n",
    "assert!(!sieve[9876]);"
   ]
  },
  {
   "cell_type": "code",
   "execution_count": null,
   "id": "867c2bae",
   "metadata": {},
   "outputs": [],
   "source": []
  },
  {
   "cell_type": "code",
   "execution_count": 6,
   "id": "4b4eae22",
   "metadata": {},
   "outputs": [],
   "source": [
    "let mut chaos=[3,5,4,1,2]; \n",
    "\n",
    "chaos.sort();\n",
    "\n",
    "assert_eq!(chaos, [1, 2, 3, 4, 5]);"
   ]
  },
  {
   "cell_type": "code",
   "execution_count": null,
   "id": "6e9d6da0",
   "metadata": {},
   "outputs": [],
   "source": []
  },
  {
   "cell_type": "code",
   "execution_count": null,
   "id": "f3ef7c54",
   "metadata": {},
   "outputs": [],
   "source": []
  },
  {
   "cell_type": "markdown",
   "id": "8587361e",
   "metadata": {},
   "source": [
    "# 벡터 "
   ]
  },
  {
   "cell_type": "code",
   "execution_count": 7,
   "id": "22e84a62",
   "metadata": {},
   "outputs": [],
   "source": [
    "let mut v = vec![2, 3, 5, 7]; \n",
    "\n",
    "assert_eq!(v.iter().fold(1, |a, b| a * b), 210);"
   ]
  },
  {
   "cell_type": "code",
   "execution_count": null,
   "id": "d3207eac",
   "metadata": {},
   "outputs": [],
   "source": []
  },
  {
   "cell_type": "code",
   "execution_count": 8,
   "id": "0be1fd26",
   "metadata": {},
   "outputs": [],
   "source": [
    "v.push(11);\n",
    "\n",
    "v.push(13);\n",
    "\n",
    "assert_eq!(v.iter().fold(1, |a, b| a * b), 30030);"
   ]
  },
  {
   "cell_type": "code",
   "execution_count": null,
   "id": "bef3990a",
   "metadata": {},
   "outputs": [],
   "source": []
  },
  {
   "cell_type": "code",
   "execution_count": 9,
   "id": "c3225754",
   "metadata": {},
   "outputs": [],
   "source": [
    "fn new_pixel_buffer(rows: usize, cols: usize) -> Vec<u8> { \n",
    "    vec![0; rows * cols]\n",
    "}"
   ]
  },
  {
   "cell_type": "code",
   "execution_count": null,
   "id": "366d4585",
   "metadata": {},
   "outputs": [],
   "source": []
  },
  {
   "cell_type": "code",
   "execution_count": 10,
   "id": "c9edb29d",
   "metadata": {},
   "outputs": [],
   "source": [
    "let mut v = Vec::new();\n",
    "v.push(\"step\");\n",
    "v.push(\"on\");\n",
    "v.push(\"no\");\n",
    "v.push(\"pets\");\n",
    "assert_eq!(v, vec![\"step\", \"on\", \"no\", \"pets\"]);"
   ]
  },
  {
   "cell_type": "code",
   "execution_count": null,
   "id": "6b745a37",
   "metadata": {},
   "outputs": [],
   "source": []
  },
  {
   "cell_type": "code",
   "execution_count": 11,
   "id": "f868d997",
   "metadata": {},
   "outputs": [],
   "source": [
    "let v: Vec<i32> = (0..5).collect(); \n",
    "\n",
    "assert_eq!(v, [0, 1, 2, 3, 4]);"
   ]
  },
  {
   "cell_type": "code",
   "execution_count": null,
   "id": "4c0e59e9",
   "metadata": {},
   "outputs": [],
   "source": []
  },
  {
   "cell_type": "code",
   "execution_count": 12,
   "id": "60b70d22",
   "metadata": {},
   "outputs": [],
   "source": [
    " // A palindrome!\n",
    "let mut v = vec![\"a man\", \"a plan\", \"a canal\", \"panama\"]; \n",
    "v.reverse();\n",
    "// Reasonable yet disappointing:\n",
    "assert_eq!(v, vec![\"panama\", \"a canal\", \"a plan\", \"a man\"]);"
   ]
  },
  {
   "cell_type": "code",
   "execution_count": null,
   "id": "8c2cd934",
   "metadata": {},
   "outputs": [],
   "source": []
  },
  {
   "cell_type": "code",
   "execution_count": null,
   "id": "e4fcff63",
   "metadata": {},
   "outputs": [],
   "source": []
  },
  {
   "cell_type": "code",
   "execution_count": 13,
   "id": "e3a9fd44",
   "metadata": {},
   "outputs": [],
   "source": [
    "let mut v = Vec::with_capacity(2); \n",
    "assert_eq!(v.len(), 0); \n",
    "assert_eq!(v.capacity(), 2);\n",
    "\n",
    "v.push(1);\n",
    "v.push(2);\n",
    "assert_eq!(v.len(), 2);\n",
    "assert_eq!(v.capacity(), 2);\n",
    "\n",
    "v.push(3);\n",
    "assert_eq!(v.len(), 3);\n",
    "assert_eq!(v.capacity(), 4);"
   ]
  },
  {
   "cell_type": "code",
   "execution_count": null,
   "id": "3efb4651",
   "metadata": {},
   "outputs": [],
   "source": []
  },
  {
   "cell_type": "code",
   "execution_count": 14,
   "id": "1c78c3c7",
   "metadata": {},
   "outputs": [],
   "source": [
    "let mut v = vec![10, 20, 30, 40, 50];\n",
    "// Make the element at index 3 be 35.\n",
    "v.insert(3, 35);\n",
    "assert_eq!(v, [10, 20, 30, 35, 40, 50]);\n",
    "// Remove the element at index 1.\n",
    "v.remove(1);\n",
    "assert_eq!(v, [10, 30, 35, 40, 50]);"
   ]
  },
  {
   "cell_type": "code",
   "execution_count": null,
   "id": "fc03de2c",
   "metadata": {},
   "outputs": [],
   "source": []
  },
  {
   "cell_type": "code",
   "execution_count": 15,
   "id": "2579d0bb",
   "metadata": {},
   "outputs": [],
   "source": [
    "let mut v = vec![\"carmen\", \"miranda\"]; \n",
    "\n",
    "assert_eq!(v.pop(), Some(\"miranda\")); \n",
    "assert_eq!(v.pop(), Some(\"carmen\")); \n",
    "assert_eq!(v.pop(), None);"
   ]
  },
  {
   "cell_type": "code",
   "execution_count": null,
   "id": "1e66571e",
   "metadata": {},
   "outputs": [],
   "source": []
  },
  {
   "cell_type": "code",
   "execution_count": 21,
   "id": "9670d955",
   "metadata": {},
   "outputs": [
    {
     "data": {
      "text/plain": [
       "()"
      ]
     },
     "execution_count": 21,
     "metadata": {},
     "output_type": "execute_result"
    }
   ],
   "source": [
    "// Get our command-line arguments as a vector of Strings.\n",
    "let languages: Vec<String> = std::env::args().skip(1).collect(); \n",
    "for l in languages {\n",
    "    println!(\"{}: {}\", l, \n",
    "        if l.len()%2==0 {\n",
    "            \"functional\"\n",
    "        }else{ \n",
    "            \"imperative\"\n",
    "    });\n",
    "}"
   ]
  },
  {
   "cell_type": "code",
   "execution_count": null,
   "id": "b7bfad2c",
   "metadata": {},
   "outputs": [],
   "source": []
  }
 ],
 "metadata": {
  "kernelspec": {
   "display_name": "Rust",
   "language": "rust",
   "name": "rust"
  },
  "language_info": {
   "codemirror_mode": "rust",
   "file_extension": ".rs",
   "mimetype": "text/rust",
   "name": "Rust",
   "pygment_lexer": "rust",
   "version": ""
  }
 },
 "nbformat": 4,
 "nbformat_minor": 5
}
