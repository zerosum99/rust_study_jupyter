{
 "cells": [
  {
   "cell_type": "markdown",
   "id": "acf915a1",
   "metadata": {},
   "source": [
    "## 슬라이스\n",
    "\n",
    "- 슬라이스는 항상 참조로 처리한다.\n",
    "- 기존 내용을 참조하는 레퍼런스로 만들어진다.\n",
    "\n",
    "- 슬라이스는 마지막을 포함하지 않는다.\n",
    "- 포함되려면 숫자는 = 다음에 표시\n"
   ]
  },
  {
   "cell_type": "code",
   "execution_count": 12,
   "id": "e77ae2ec",
   "metadata": {},
   "outputs": [],
   "source": [
    "fn main() {\n",
    "    let seasons = [\"봄\", \"여름\", \"가을\", \"겨울\"];\n",
    "    println!(\"{:?}\", seasons);\n",
    "    \n",
    "    println!(\"{:? } \", &seasons[0..2]);   // 슬라이스를 참조할 때는 레퍼런스로 처리해야 함\n",
    "    \n",
    "    let ss = &seasons[0..=2];\n",
    "    println!(\"{:?}\", ss);\n",
    "}"
   ]
  },
  {
   "cell_type": "code",
   "execution_count": 13,
   "id": "dc92b23b",
   "metadata": {},
   "outputs": [
    {
     "name": "stdout",
     "output_type": "stream",
     "text": [
      "[\"봄\", \"여름\", \"가을\", \"겨울\"]\n",
      "[\"봄\", \"여름\"] \n",
      "[\"봄\", \"여름\", \"가을\"]\n"
     ]
    },
    {
     "data": {
      "text/plain": [
       "()"
      ]
     },
     "execution_count": 13,
     "metadata": {},
     "output_type": "execute_result"
    }
   ],
   "source": [
    "main()"
   ]
  },
  {
   "cell_type": "code",
   "execution_count": null,
   "id": "2dcebb17",
   "metadata": {},
   "outputs": [],
   "source": []
  },
  {
   "cell_type": "code",
   "execution_count": 10,
   "id": "2a1c38ab",
   "metadata": {},
   "outputs": [],
   "source": [
    "fn main() { \n",
    "    let s = String::from(\"hello\");\n",
    "\n",
    "    let slice1 = &s[0..2];\n",
    "    println!(\"slice1 = {} \", slice1); \n",
    "    let slice2 = &s[..2];\n",
    "    println!(\"slice2 = {} \", slice2); \n",
    "    \n",
    "    let len = s.len();\n",
    "\n",
    "    let slice3 = &s[3..len];\n",
    "    println!(\"slice3 = {} \", slice3); \n",
    "    let slice4 = &s[3..];\n",
    "    println!(\"slice4 = {} \", slice4); \n",
    "    \n",
    "    let slice5 = &s[0..len];\n",
    "    println!(\"slice5 = {} \", slice5); \n",
    "    let slice6 = &s[..];\n",
    "    println!(\"slice6 = {} \", slice6); \n",
    "}"
   ]
  },
  {
   "cell_type": "code",
   "execution_count": 11,
   "id": "6ad53435",
   "metadata": {},
   "outputs": [
    {
     "name": "stdout",
     "output_type": "stream",
     "text": [
      "slice1 = he \n",
      "slice2 = he \n",
      "slice3 = lo \n",
      "slice4 = lo \n",
      "slice5 = hello \n",
      "slice6 = hello \n"
     ]
    },
    {
     "data": {
      "text/plain": [
       "()"
      ]
     },
     "execution_count": 11,
     "metadata": {},
     "output_type": "execute_result"
    }
   ],
   "source": [
    "main()"
   ]
  },
  {
   "cell_type": "markdown",
   "id": "66fa67f6",
   "metadata": {},
   "source": [
    "## 스트링 슬라이스 처리  &str => 스트링 리터럴은 슬라이스입니다"
   ]
  },
  {
   "cell_type": "code",
   "execution_count": 18,
   "id": "060a502e",
   "metadata": {},
   "outputs": [
    {
     "name": "stdout",
     "output_type": "stream",
     "text": [
      " string literal : Hello, world!\n"
     ]
    },
    {
     "data": {
      "text/plain": [
       "()"
      ]
     },
     "execution_count": 18,
     "metadata": {},
     "output_type": "execute_result"
    }
   ],
   "source": [
    "let s: &str = \"Hello, world!\";\n",
    "\n",
    "println!(\" string literal : {}\", s)"
   ]
  },
  {
   "cell_type": "code",
   "execution_count": null,
   "id": "ff615d93",
   "metadata": {},
   "outputs": [],
   "source": []
  },
  {
   "cell_type": "code",
   "execution_count": 15,
   "id": "2bd4f7e5",
   "metadata": {},
   "outputs": [],
   "source": [
    "fn main() {\n",
    "    let mut s = String::from(\"hello world\");\n",
    "\n",
    "    let word = first_word(&s); // 첫번째 단어 \n",
    "    \n",
    "    println!(\"word = {}\", word);\n",
    "\n",
    "    s.clear();       // 이 코드는 String을 비워서 \"\"로 만들게 됩니다.\n",
    "\n",
    "}\n",
    "\n",
    "\n",
    "fn first_word(s: &String) -> &str {\n",
    "    let bytes = s.as_bytes();\n",
    "\n",
    "    for (i, &item) in bytes.iter().enumerate() {\n",
    "        if item == b' ' {\n",
    "            return &s[0..i];\n",
    "        }\n",
    "    }\n",
    "\n",
    "    &s[..]       // 슬라이스로 반환하기 \n",
    "}"
   ]
  },
  {
   "cell_type": "code",
   "execution_count": 16,
   "id": "2c24e248",
   "metadata": {},
   "outputs": [
    {
     "name": "stdout",
     "output_type": "stream",
     "text": [
      "word = hello\n"
     ]
    },
    {
     "data": {
      "text/plain": [
       "()"
      ]
     },
     "execution_count": 16,
     "metadata": {},
     "output_type": "execute_result"
    }
   ],
   "source": [
    "main()"
   ]
  },
  {
   "cell_type": "code",
   "execution_count": null,
   "id": "71ead119",
   "metadata": {},
   "outputs": [],
   "source": []
  },
  {
   "cell_type": "code",
   "execution_count": 28,
   "id": "1d346afd",
   "metadata": {},
   "outputs": [
    {
     "name": "stdout",
     "output_type": "stream",
     "text": [
      "0\n",
      "0.707\n",
      "1\n",
      "0.707\n"
     ]
    }
   ],
   "source": [
    "let v: Vec<f64> = vec![0.0, 0.707, 1.0, 0.707];\n",
    "let a: [f64; 4] = [0.0, -0.707, -1.0, -0.707];\n",
    "\n",
    "fn print(n: &[f64]) { \n",
    "    for elt in n{\n",
    "            println!(\"{}\", elt);\n",
    "        }\n",
    "}\n",
    "print(&v); // works on vectors\n"
   ]
  },
  {
   "cell_type": "code",
   "execution_count": 21,
   "id": "c5fa04af",
   "metadata": {},
   "outputs": [
    {
     "name": "stdout",
     "output_type": "stream",
     "text": [
      "0\n",
      "-0.707\n",
      "-1\n",
      "-0.707\n"
     ]
    }
   ],
   "source": [
    "print(&a); // works on arrays"
   ]
  },
  {
   "cell_type": "code",
   "execution_count": 31,
   "id": "73d3eb35",
   "metadata": {},
   "outputs": [
    {
     "name": "stdout",
     "output_type": "stream",
     "text": [
      "0\n",
      "0.707\n"
     ]
    }
   ],
   "source": [
    "print(&v[0..2]);  // print the first two elements of v"
   ]
  },
  {
   "cell_type": "code",
   "execution_count": 33,
   "id": "0ab7cc24",
   "metadata": {},
   "outputs": [
    {
     "name": "stdout",
     "output_type": "stream",
     "text": [
      "-1\n",
      "-0.707\n"
     ]
    }
   ],
   "source": [
    "print(&a[2..]);  // print elements of a starting with a[2]"
   ]
  },
  {
   "cell_type": "code",
   "execution_count": 32,
   "id": "e6d15e69",
   "metadata": {},
   "outputs": [
    {
     "name": "stdout",
     "output_type": "stream",
     "text": [
      "0.707\n",
      "1\n"
     ]
    }
   ],
   "source": [
    "print(&v[1..3]);  // print v[1] and v[2]"
   ]
  },
  {
   "cell_type": "code",
   "execution_count": null,
   "id": "eb3aaeb6",
   "metadata": {},
   "outputs": [],
   "source": []
  }
 ],
 "metadata": {
  "kernelspec": {
   "display_name": "Rust",
   "language": "rust",
   "name": "rust"
  },
  "language_info": {
   "codemirror_mode": "rust",
   "file_extension": ".rs",
   "mimetype": "text/rust",
   "name": "Rust",
   "pygment_lexer": "rust",
   "version": ""
  }
 },
 "nbformat": 4,
 "nbformat_minor": 5
}
