{
 "cells": [
  {
   "cell_type": "code",
   "execution_count": null,
   "id": "02ab21ee",
   "metadata": {},
   "outputs": [],
   "source": []
  },
  {
   "cell_type": "code",
   "execution_count": 2,
   "id": "12d99524",
   "metadata": {},
   "outputs": [],
   "source": [
    "const MIN_ : i32 = 100;\n",
    "\n",
    "static mm : i32 = 100;\n",
    "\n",
    "fn get_min() -> i32 {\n",
    "    MIN_\n",
    "}\n",
    "\n",
    "\n",
    "fn main() {\n",
    "    \n",
    "    let max : i32 = 100;\n",
    "    println!(\"variable = {max}\");\n",
    "    const MAX : i32 = 100;\n",
    "    println!(\"constants = {MAX}\");\n",
    "    let min = get_min();\n",
    "    println!(\"global constants = {min}\");\n",
    "    let mmm = mm;\n",
    "    println!(\"global varialbe  = {mmm}\");\n",
    "     println!(\"global varialbe  = {mm}\");\n",
    "}"
   ]
  },
  {
   "cell_type": "code",
   "execution_count": 3,
   "id": "785d53a0",
   "metadata": {},
   "outputs": [
    {
     "name": "stdout",
     "output_type": "stream",
     "text": [
      "variable = 100\n",
      "constants = 100\n",
      "global constants = 100\n",
      "global varialbe  = 100\n",
      "global varialbe  = 100\n"
     ]
    },
    {
     "data": {
      "text/plain": [
       "()"
      ]
     },
     "execution_count": 3,
     "metadata": {},
     "output_type": "execute_result"
    }
   ],
   "source": [
    "main()"
   ]
  },
  {
   "cell_type": "code",
   "execution_count": null,
   "id": "4766a2b4",
   "metadata": {},
   "outputs": [],
   "source": []
  }
 ],
 "metadata": {
  "kernelspec": {
   "display_name": "Rust",
   "language": "rust",
   "name": "rust"
  },
  "language_info": {
   "codemirror_mode": "rust",
   "file_extension": ".rs",
   "mimetype": "text/rust",
   "name": "Rust",
   "pygment_lexer": "rust",
   "version": ""
  }
 },
 "nbformat": 4,
 "nbformat_minor": 5
}
