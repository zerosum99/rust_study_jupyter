{
 "cells": [
  {
   "cell_type": "markdown",
   "id": "8fd6db5e",
   "metadata": {},
   "source": [
    "# String Interpolation "
   ]
  },
  {
   "cell_type": "markdown",
   "id": "6ab7c7cd",
   "metadata": {},
   "source": [
    "## 변수 참조"
   ]
  },
  {
   "cell_type": "code",
   "execution_count": 2,
   "id": "edfbd81c",
   "metadata": {},
   "outputs": [],
   "source": [
    "fn main() {\n",
    "    let city = \"seoul\";\n",
    "    let year = 2022;\n",
    "    \n",
    "    println!(\" I love {city} in {year}\");\n",
    "}"
   ]
  },
  {
   "cell_type": "code",
   "execution_count": 3,
   "id": "682d4557",
   "metadata": {},
   "outputs": [
    {
     "name": "stdout",
     "output_type": "stream",
     "text": [
      " I love seoul in 2022\n"
     ]
    },
    {
     "data": {
      "text/plain": [
       "()"
      ]
     },
     "execution_count": 3,
     "metadata": {},
     "output_type": "execute_result"
    }
   ],
   "source": [
    "main()"
   ]
  },
  {
   "cell_type": "markdown",
   "id": "0c2aa56b",
   "metadata": {},
   "source": [
    "## 순서확인"
   ]
  },
  {
   "cell_type": "code",
   "execution_count": 4,
   "id": "63ca7962",
   "metadata": {},
   "outputs": [],
   "source": [
    "fn main() {\n",
    "    let city = \"seoul\";\n",
    "    let year = 2022;\n",
    "    \n",
    "    println!(\" I love {} in {}\", city, year);\n",
    "}"
   ]
  },
  {
   "cell_type": "code",
   "execution_count": 5,
   "id": "cf313e3e",
   "metadata": {},
   "outputs": [
    {
     "name": "stdout",
     "output_type": "stream",
     "text": [
      " I love seoul in 2022\n"
     ]
    },
    {
     "data": {
      "text/plain": [
       "()"
      ]
     },
     "execution_count": 5,
     "metadata": {},
     "output_type": "execute_result"
    }
   ],
   "source": [
    "main()"
   ]
  },
  {
   "cell_type": "markdown",
   "id": "ba0750a3",
   "metadata": {},
   "source": [
    "## 이름 확인 "
   ]
  },
  {
   "cell_type": "code",
   "execution_count": 7,
   "id": "194a9750",
   "metadata": {},
   "outputs": [],
   "source": [
    "fn main() {\n",
    "    let city = \"seoul\";\n",
    "    let year = 2022;\n",
    "    \n",
    "    println!(\" I love {city_} in {year_}\", city_=city, year_=year);\n",
    "}"
   ]
  },
  {
   "cell_type": "code",
   "execution_count": 8,
   "id": "6af982fc",
   "metadata": {},
   "outputs": [
    {
     "name": "stdout",
     "output_type": "stream",
     "text": [
      " I love seoul in 2022\n"
     ]
    },
    {
     "data": {
      "text/plain": [
       "()"
      ]
     },
     "execution_count": 8,
     "metadata": {},
     "output_type": "execute_result"
    }
   ],
   "source": [
    "main()"
   ]
  },
  {
   "cell_type": "markdown",
   "id": "b99e7f96",
   "metadata": {},
   "source": [
    "## 위치 확인"
   ]
  },
  {
   "cell_type": "code",
   "execution_count": 9,
   "id": "b7f1d793",
   "metadata": {},
   "outputs": [],
   "source": [
    "fn main() {\n",
    "    let city = \"seoul\";\n",
    "    let year = 2022;\n",
    "    \n",
    "    println!(\" I love {0} in {1}....{0}\", city, year);\n",
    "}"
   ]
  },
  {
   "cell_type": "code",
   "execution_count": 10,
   "id": "91905448",
   "metadata": {},
   "outputs": [
    {
     "name": "stdout",
     "output_type": "stream",
     "text": [
      " I love seoul in 2022....seoul\n"
     ]
    },
    {
     "data": {
      "text/plain": [
       "()"
      ]
     },
     "execution_count": 10,
     "metadata": {},
     "output_type": "execute_result"
    }
   ],
   "source": [
    "main()"
   ]
  },
  {
   "cell_type": "code",
   "execution_count": null,
   "id": "9df693d2",
   "metadata": {},
   "outputs": [],
   "source": []
  }
 ],
 "metadata": {
  "kernelspec": {
   "display_name": "Rust",
   "language": "rust",
   "name": "rust"
  },
  "language_info": {
   "codemirror_mode": "rust",
   "file_extension": ".rs",
   "mimetype": "text/rust",
   "name": "Rust",
   "pygment_lexer": "rust",
   "version": ""
  }
 },
 "nbformat": 4,
 "nbformat_minor": 5
}
