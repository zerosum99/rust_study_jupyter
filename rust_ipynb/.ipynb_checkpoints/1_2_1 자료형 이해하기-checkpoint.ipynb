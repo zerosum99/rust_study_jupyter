{
 "cells": [
  {
   "cell_type": "code",
   "execution_count": null,
   "id": "b6748924",
   "metadata": {},
   "outputs": [],
   "source": []
  },
  {
   "cell_type": "code",
   "execution_count": 54,
   "id": "ed9d9b65",
   "metadata": {},
   "outputs": [],
   "source": [
    "fn main() {\n",
    "    let an_integer = 1_u32;\n",
    "    let a_boolean = true;\n",
    "    let unit = ();\n",
    "\n",
    "    // 정수 복사 \n",
    "    let copied_integer = an_integer;\n",
    "\n",
    "    println!(\"An integer: {:?}\", copied_integer);\n",
    "    println!(\"A boolean: {:?}\", a_boolean);\n",
    "    println!(\"Meet the unit value: {:?}\", unit);\n",
    "\n",
    "    // 컴파일러는 사용하지 않는 변수 바인딩에 대해 경고합니다. 이러한 경고는 변수 이름에 밑줄을 접두사로 추가하여 숨길 수 있습니다.\n",
    "    let _unused_variable = 3_u32;\n",
    "\n",
    "    let noisy_unused_variable = 2_u32;\n",
    "    // FIXME ^ Prefix with an underscore to suppress the warning\n",
    "    // Please note that warnings may not be shown in a browser\n",
    "    \n",
    "}"
   ]
  },
  {
   "cell_type": "code",
   "execution_count": 55,
   "id": "ed5ba1ff",
   "metadata": {},
   "outputs": [
    {
     "name": "stdout",
     "output_type": "stream",
     "text": [
      "An integer: 1\n",
      "A boolean: true\n",
      "Meet the unit value: ()\n"
     ]
    },
    {
     "data": {
      "text/plain": [
       "()"
      ]
     },
     "execution_count": 55,
     "metadata": {},
     "output_type": "execute_result"
    }
   ],
   "source": [
    "main()"
   ]
  },
  {
   "cell_type": "markdown",
   "id": "126613f8",
   "metadata": {},
   "source": [
    "# 1. 정수와 실수 "
   ]
  },
  {
   "cell_type": "code",
   "execution_count": null,
   "id": "59820420",
   "metadata": {},
   "outputs": [],
   "source": []
  },
  {
   "cell_type": "code",
   "execution_count": 23,
   "id": "16580e63",
   "metadata": {},
   "outputs": [],
   "source": [
    "let big_val = std::i32::MAX;\n",
    "let x = big_val; // + 1; // panic: arithmetic operation overflowed"
   ]
  },
  {
   "cell_type": "code",
   "execution_count": 24,
   "id": "b1d99303",
   "metadata": {},
   "outputs": [
    {
     "data": {
      "text/plain": [
       "2147483647"
      ]
     },
     "execution_count": 24,
     "metadata": {},
     "output_type": "execute_result"
    }
   ],
   "source": [
    "x"
   ]
  },
  {
   "cell_type": "code",
   "execution_count": 39,
   "id": "29cd7841",
   "metadata": {},
   "outputs": [
    {
     "name": "stdout",
     "output_type": "stream",
     "text": [
      " i8   max =                    127,  min=                   -128\n",
      " i16  max =                  32767,  min=                 -32768\n",
      " i32  max =             2147483647,  min=            -2147483648\n",
      " i64  max =    9223372036854775807,  min=   -9223372036854775808\n"
     ]
    }
   ],
   "source": [
    "println!(\" i8   max ={:23},  min={:23}\", std::i8::MAX, std::i8::MIN);\n",
    "println!(\" i16  max ={:23},  min={:23}\", std::i16::MAX, std::i16::MIN);\n",
    "println!(\" i32  max ={:23},  min={:23}\", std::i32::MAX, std::i32::MIN);\n",
    "println!(\" i64  max ={:23},  min={:23}\", std::i64::MAX, std::i64::MIN);"
   ]
  },
  {
   "cell_type": "code",
   "execution_count": 40,
   "id": "e177f87b",
   "metadata": {},
   "outputs": [
    {
     "name": "stdout",
     "output_type": "stream",
     "text": [
      " f32  max =340282350000000000000000000000000000000,  min=-340282350000000000000000000000000000000\n"
     ]
    }
   ],
   "source": [
    "println!(\" f32  max ={},  min={}\", std::f32::MAX, std::f32::MIN);"
   ]
  },
  {
   "cell_type": "code",
   "execution_count": 41,
   "id": "634e5ca6",
   "metadata": {},
   "outputs": [
    {
     "name": "stdout",
     "output_type": "stream",
     "text": [
      " f64  max =179769313486231570000000000000000000000000000000000000000000000000000000000000000000000000000000000000000000000000000000000000000000000000000000000000000000000000000000000000000000000000000000000000000000000000000000000000000000000000000000000000000000000000000000000000000000000000000000000000000000000000000,  min=-179769313486231570000000000000000000000000000000000000000000000000000000000000000000000000000000000000000000000000000000000000000000000000000000000000000000000000000000000000000000000000000000000000000000000000000000000000000000000000000000000000000000000000000000000000000000000000000000000000000000000000000\n"
     ]
    }
   ],
   "source": [
    "println!(\" f64  max ={},  min={}\", std::f64::MAX, std::f64::MIN);"
   ]
  },
  {
   "cell_type": "code",
   "execution_count": 43,
   "id": "cfe25e6c",
   "metadata": {},
   "outputs": [
    {
     "data": {
      "text/plain": [
       "-1021"
      ]
     },
     "execution_count": 43,
     "metadata": {},
     "output_type": "execute_result"
    }
   ],
   "source": [
    "f64::MIN_EXP"
   ]
  },
  {
   "cell_type": "code",
   "execution_count": 44,
   "id": "0fda1666",
   "metadata": {},
   "outputs": [
    {
     "data": {
      "text/plain": [
       "1024"
      ]
     },
     "execution_count": 44,
     "metadata": {},
     "output_type": "execute_result"
    }
   ],
   "source": [
    "f64::MAX_EXP"
   ]
  },
  {
   "cell_type": "code",
   "execution_count": 42,
   "id": "e15ce1d5",
   "metadata": {},
   "outputs": [
    {
     "name": "stdout",
     "output_type": "stream",
     "text": [
      "1.4142135623730951\n",
      "1.4142135623730951\n"
     ]
    }
   ],
   "source": [
    "println!(\"{}\", (2.0_f64).sqrt());\n",
    "println!(\"{}\", f64::sqrt(2.0));"
   ]
  },
  {
   "cell_type": "code",
   "execution_count": null,
   "id": "a2fe9218",
   "metadata": {},
   "outputs": [],
   "source": []
  },
  {
   "cell_type": "code",
   "execution_count": null,
   "id": "67a660a8",
   "metadata": {},
   "outputs": [],
   "source": []
  },
  {
   "cell_type": "markdown",
   "id": "78313974",
   "metadata": {},
   "source": [
    "## 숫자 자료형 및 연산자 "
   ]
  },
  {
   "cell_type": "code",
   "execution_count": 4,
   "id": "858b6496",
   "metadata": {},
   "outputs": [],
   "source": [
    "fn main() {\n",
    "    // addition\n",
    "    let sum = 5 + 10;\n",
    "    println!(\" sum = {}\", sum);\n",
    "\n",
    "    // subtraction\n",
    "    let difference = 95.5 - 4.3;\n",
    "    println!(\" difference = {}\", difference);\n",
    "\n",
    "    // multiplication\n",
    "    let product = 4 * 30;\n",
    "    println!(\" product = {}\", product);\n",
    "\n",
    "    // division\n",
    "    let quotient = 56.7 / 32.2;\n",
    "    println!(\" quotient = {}\", quotient);\n",
    "\n",
    "    // remainder\n",
    "    let remainder = 43 % 5;\n",
    "    println!(\" remainder = {}\", remainder);\n",
    "}"
   ]
  },
  {
   "cell_type": "code",
   "execution_count": 5,
   "id": "e9f727a8",
   "metadata": {},
   "outputs": [
    {
     "name": "stdout",
     "output_type": "stream",
     "text": [
      " sum = 15\n",
      " difference = 91.2\n",
      " product = 120\n",
      " quotient = 1.7608695652173911\n",
      " remainder = 3\n"
     ]
    },
    {
     "data": {
      "text/plain": [
       "()"
      ]
     },
     "execution_count": 5,
     "metadata": {},
     "output_type": "execute_result"
    }
   ],
   "source": [
    "main()"
   ]
  },
  {
   "cell_type": "markdown",
   "id": "cdee9bb5",
   "metadata": {},
   "source": [
    "## 논리 자료형"
   ]
  },
  {
   "cell_type": "code",
   "execution_count": 46,
   "id": "6930a886",
   "metadata": {},
   "outputs": [
    {
     "data": {
      "text/plain": [
       "0"
      ]
     },
     "execution_count": 46,
     "metadata": {},
     "output_type": "execute_result"
    }
   ],
   "source": [
    "false as i32"
   ]
  },
  {
   "cell_type": "code",
   "execution_count": 47,
   "id": "f2377eed",
   "metadata": {},
   "outputs": [
    {
     "data": {
      "text/plain": [
       "1"
      ]
     },
     "execution_count": 47,
     "metadata": {},
     "output_type": "execute_result"
    }
   ],
   "source": [
    "true as i32"
   ]
  },
  {
   "cell_type": "code",
   "execution_count": 45,
   "id": "c3f053c0",
   "metadata": {},
   "outputs": [],
   "source": [
    "assert_eq!(false as i32, 0);\n",
    "assert_eq!(true as i32, 1);"
   ]
  },
  {
   "cell_type": "code",
   "execution_count": 8,
   "id": "590df693",
   "metadata": {},
   "outputs": [],
   "source": [
    "fn main() {\n",
    "    let t = true;\n",
    "    println!(\" bool t = {}\", t);\n",
    "\n",
    "    let f: bool = false; // with explicit type annotation\n",
    "    println!(\" bool f = {}\", f);\n",
    "}"
   ]
  },
  {
   "cell_type": "code",
   "execution_count": 9,
   "id": "0eb9a4f1",
   "metadata": {},
   "outputs": [
    {
     "name": "stdout",
     "output_type": "stream",
     "text": [
      " bool t = true\n",
      " bool f = false\n"
     ]
    },
    {
     "data": {
      "text/plain": [
       "()"
      ]
     },
     "execution_count": 9,
     "metadata": {},
     "output_type": "execute_result"
    }
   ],
   "source": [
    "main()"
   ]
  },
  {
   "cell_type": "markdown",
   "id": "31439cf0",
   "metadata": {},
   "source": [
    "## 문자 자료형"
   ]
  },
  {
   "cell_type": "code",
   "execution_count": 10,
   "id": "ce38b6ac",
   "metadata": {},
   "outputs": [],
   "source": [
    "fn main() {\n",
    "   let c = 'z';\n",
    "   println!(\" Char c = {}\", c);\n",
    "   let z = 'ℤ';\n",
    "   println!(\" Char z = {}\", z);\n",
    "   let heart_eyed_cat = '😻';\n",
    "   println!(\" char heart_eyed_cat = {}\", heart_eyed_cat);\n",
    "}"
   ]
  },
  {
   "cell_type": "code",
   "execution_count": 11,
   "id": "94951617",
   "metadata": {},
   "outputs": [
    {
     "name": "stdout",
     "output_type": "stream",
     "text": [
      " Char c = z\n",
      " Char z = ℤ\n",
      " char heart_eyed_cat = 😻\n"
     ]
    },
    {
     "data": {
      "text/plain": [
       "()"
      ]
     },
     "execution_count": 11,
     "metadata": {},
     "output_type": "execute_result"
    }
   ],
   "source": [
    "main()"
   ]
  },
  {
   "cell_type": "markdown",
   "id": "fd74c5e3",
   "metadata": {},
   "source": [
    "## 튜플 타입 처리\n"
   ]
  },
  {
   "cell_type": "code",
   "execution_count": 12,
   "id": "83ac70cb",
   "metadata": {},
   "outputs": [],
   "source": [
    "fn main() {\n",
    "    let tup: (i32, f64, u8) = (500, 6.4, 1);\n",
    "\n",
    "    let (x, y, z) = tup;\n",
    "\n",
    "    println!(\"The value of y is: {}\", y);\n",
    "}"
   ]
  },
  {
   "cell_type": "code",
   "execution_count": 13,
   "id": "b6aecb3c",
   "metadata": {},
   "outputs": [
    {
     "name": "stdout",
     "output_type": "stream",
     "text": [
      "The value of y is: 6.4\n"
     ]
    },
    {
     "data": {
      "text/plain": [
       "()"
      ]
     },
     "execution_count": 13,
     "metadata": {},
     "output_type": "execute_result"
    }
   ],
   "source": [
    "main()"
   ]
  },
  {
   "cell_type": "markdown",
   "id": "5bd9e39d",
   "metadata": {},
   "source": [
    "## 패턴매칭 = >  구조 분해"
   ]
  },
  {
   "cell_type": "code",
   "execution_count": 14,
   "id": "d0648e6f",
   "metadata": {},
   "outputs": [],
   "source": [
    "fn main() {\n",
    "    let x: (i32, f64, u8) = (500, 6.4, 1);\n",
    "\n",
    "    let five_hundred = x.0;\n",
    "    println!(\"The value of x.0 is: {}\", five_hundred);\n",
    "\n",
    "    let six_point_four = x.1;\n",
    "    println!(\"The value of x.1 is: {}\", six_point_four);\n",
    "\n",
    "    let one = x.2;\n",
    "    println!(\"The value of x.2 is: {}\", one );\n",
    "}"
   ]
  },
  {
   "cell_type": "code",
   "execution_count": 15,
   "id": "277af703",
   "metadata": {},
   "outputs": [
    {
     "name": "stdout",
     "output_type": "stream",
     "text": [
      "The value of x.0 is: 500\n",
      "The value of x.1 is: 6.4\n",
      "The value of x.2 is: 1\n"
     ]
    },
    {
     "data": {
      "text/plain": [
       "()"
      ]
     },
     "execution_count": 15,
     "metadata": {},
     "output_type": "execute_result"
    }
   ],
   "source": [
    "main()"
   ]
  },
  {
   "cell_type": "code",
   "execution_count": null,
   "id": "29bbb9c3",
   "metadata": {},
   "outputs": [],
   "source": []
  },
  {
   "cell_type": "markdown",
   "id": "938f05cc",
   "metadata": {},
   "source": [
    "## 배열 "
   ]
  },
  {
   "cell_type": "code",
   "execution_count": 16,
   "id": "bb363182",
   "metadata": {},
   "outputs": [],
   "source": [
    "fn main() {\n",
    "    let a = [1, 2, 3, 4, 5];\n",
    "\n",
    "    let first = a[0];\n",
    "    println!(\"The value of first is: {}\", first );\n",
    "    let second = a[1];\n",
    "    println!(\"The value of second is: {}\", second );\n",
    "}"
   ]
  },
  {
   "cell_type": "code",
   "execution_count": 18,
   "id": "68001dcf",
   "metadata": {},
   "outputs": [
    {
     "name": "stdout",
     "output_type": "stream",
     "text": [
      "The value of first is: 1\n",
      "The value of second is: 2\n"
     ]
    },
    {
     "data": {
      "text/plain": [
       "()"
      ]
     },
     "execution_count": 18,
     "metadata": {},
     "output_type": "execute_result"
    }
   ],
   "source": [
    "main()"
   ]
  },
  {
   "cell_type": "code",
   "execution_count": 19,
   "id": "1eca461a",
   "metadata": {},
   "outputs": [],
   "source": [
    "fn main() {\n",
    "    let a = [1, 2, 3, 4, 5];\n",
    "    let index = 10;\n",
    "\n",
    "    let element = a[index];\n",
    "\n",
    "    println!(\"The value of element is: {}\", element);\n",
    "}"
   ]
  },
  {
   "cell_type": "code",
   "execution_count": 20,
   "id": "0a4ec095",
   "metadata": {},
   "outputs": [
    {
     "ename": "Error",
     "evalue": "this operation will panic at runtime",
     "output_type": "error",
     "traceback": [
      "index out of bounds: the length is 5 but the index is 10",
      "this operation will panic at runtime"
     ]
    }
   ],
   "source": [
    "main()"
   ]
  },
  {
   "cell_type": "code",
   "execution_count": null,
   "id": "4f1f6511",
   "metadata": {},
   "outputs": [],
   "source": []
  }
 ],
 "metadata": {
  "kernelspec": {
   "display_name": "Rust",
   "language": "rust",
   "name": "rust"
  },
  "language_info": {
   "codemirror_mode": "rust",
   "file_extension": ".rs",
   "mimetype": "text/rust",
   "name": "Rust",
   "pygment_lexer": "rust",
   "version": ""
  }
 },
 "nbformat": 4,
 "nbformat_minor": 5
}
