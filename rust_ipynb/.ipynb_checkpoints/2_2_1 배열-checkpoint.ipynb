{
 "cells": [
  {
   "cell_type": "markdown",
   "id": "a2f96b9d",
   "metadata": {},
   "source": [
    "## 배열"
   ]
  },
  {
   "cell_type": "code",
   "execution_count": null,
   "id": "60fe714a",
   "metadata": {},
   "outputs": [],
   "source": []
  },
  {
   "cell_type": "code",
   "execution_count": 5,
   "id": "9a927784",
   "metadata": {},
   "outputs": [],
   "source": [
    "fn main() {\n",
    "    let arr = [1,2,3,4,5];\n",
    "    \n",
    "    println!(\"{:?}\", arr);\n",
    "    \n",
    "    println!(\"index search : {}\", arr[0])\n",
    "}"
   ]
  },
  {
   "cell_type": "code",
   "execution_count": 6,
   "id": "3773d1e0",
   "metadata": {},
   "outputs": [
    {
     "name": "stdout",
     "output_type": "stream",
     "text": [
      "[1, 2, 3, 4, 5]\n",
      "index search : 1\n"
     ]
    },
    {
     "data": {
      "text/plain": [
       "()"
      ]
     },
     "execution_count": 6,
     "metadata": {},
     "output_type": "execute_result"
    }
   ],
   "source": [
    "main()"
   ]
  },
  {
   "cell_type": "code",
   "execution_count": 7,
   "id": "dd4c2ad5",
   "metadata": {},
   "outputs": [],
   "source": [
    "fn main() {\n",
    "    let x = [\"English\", \"This\", \"sentence\", \"a\", \"in\", \"is\"];\n",
    "    println!(\"{} {} {} {} {} {}\", x[1], x[5], x[3], x[2], x[4], x[0]);\n",
    "}"
   ]
  },
  {
   "cell_type": "code",
   "execution_count": 8,
   "id": "2b5f86bb",
   "metadata": {},
   "outputs": [
    {
     "name": "stdout",
     "output_type": "stream",
     "text": [
      "This is a sentence in English\n"
     ]
    },
    {
     "data": {
      "text/plain": [
       "()"
      ]
     },
     "execution_count": 8,
     "metadata": {},
     "output_type": "execute_result"
    }
   ],
   "source": [
    "main()"
   ]
  },
  {
   "cell_type": "code",
   "execution_count": 19,
   "id": "b08dcfbb",
   "metadata": {},
   "outputs": [],
   "source": [
    "fn main() {\n",
    "    let x = [\"English\", \"This\", \"sentence\", \"a\", \"in\", \"is\"];\n",
    "    let y = \"출력\";\n",
    "    let z = &x;\n",
    "    println!(\"{:?}\", x);\n",
    "    println!(\"{y}\");\n",
    "    // println!(\"{z}\");  //[&str; 6]` cannot be formatted with the default formatter, \n",
    "                         // doesn't implement `std::fmt::Display`\n",
    "}"
   ]
  },
  {
   "cell_type": "code",
   "execution_count": 20,
   "id": "099ac06a",
   "metadata": {},
   "outputs": [
    {
     "name": "stdout",
     "output_type": "stream",
     "text": [
      "[\"English\", \"This\", \"sentence\", \"a\", \"in\", \"is\"]\n",
      "출력\n"
     ]
    },
    {
     "data": {
      "text/plain": [
       "()"
      ]
     },
     "execution_count": 20,
     "metadata": {},
     "output_type": "execute_result"
    }
   ],
   "source": [
    "main()"
   ]
  },
  {
   "cell_type": "code",
   "execution_count": null,
   "id": "7244e1f6",
   "metadata": {},
   "outputs": [],
   "source": []
  }
 ],
 "metadata": {
  "kernelspec": {
   "display_name": "Rust",
   "language": "rust",
   "name": "rust"
  },
  "language_info": {
   "codemirror_mode": "rust",
   "file_extension": ".rs",
   "mimetype": "text/rust",
   "name": "Rust",
   "pygment_lexer": "rust",
   "version": ""
  }
 },
 "nbformat": 4,
 "nbformat_minor": 5
}
