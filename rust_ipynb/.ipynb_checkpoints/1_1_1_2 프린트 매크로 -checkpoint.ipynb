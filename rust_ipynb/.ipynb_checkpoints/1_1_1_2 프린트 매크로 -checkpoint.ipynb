{
 "cells": [
  {
   "cell_type": "code",
   "execution_count": null,
   "id": "98d287be",
   "metadata": {},
   "outputs": [],
   "source": []
  },
  {
   "cell_type": "code",
   "execution_count": 2,
   "id": "34f56c37",
   "metadata": {},
   "outputs": [
    {
     "ename": "Error",
     "evalue": "expected one of `.`, `;`, `?`, `}`, or an operator, found keyword `fn`",
     "output_type": "error",
     "traceback": [
      "print!(\"프린트\")",
      "\u001b[91m             \u001b[0m \u001b[94mexpected one of `.`, `;`, `?`, `}`, or an operator\u001b[0m",
      "expected one of `.`, `;`, `?`, `}`, or an operator, found keyword `fn`"
     ]
    }
   ],
   "source": [
    "fn main() {\n",
    "    print!(\"프린트\")\n",
    "    print!(\" 할게요\")\n",
    "}\n"
   ]
  },
  {
   "cell_type": "code",
   "execution_count": null,
   "id": "a24598df",
   "metadata": {},
   "outputs": [],
   "source": []
  }
 ],
 "metadata": {
  "kernelspec": {
   "display_name": "Rust",
   "language": "rust",
   "name": "rust"
  },
  "language_info": {
   "codemirror_mode": "rust",
   "file_extension": ".rs",
   "mimetype": "text/rust",
   "name": "Rust",
   "pygment_lexer": "rust",
   "version": ""
  }
 },
 "nbformat": 4,
 "nbformat_minor": 5
}
