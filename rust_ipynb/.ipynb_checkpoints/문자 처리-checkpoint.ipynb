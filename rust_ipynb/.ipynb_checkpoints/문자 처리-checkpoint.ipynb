{
 "cells": [
  {
   "cell_type": "markdown",
   "id": "48aa7c4d",
   "metadata": {},
   "source": [
    "## 문자 \n",
    "\n",
    "- 는 일단 u8 => char로 처리"
   ]
  },
  {
   "cell_type": "code",
   "execution_count": 2,
   "id": "9f3a23a1",
   "metadata": {},
   "outputs": [
    {
     "ename": "Error",
     "evalue": "only `u8` can be cast as `char`, not `i32`",
     "output_type": "error",
     "traceback": [
      "    println!(\"{}\", my_number as char); // ⚠️",
      "\u001b[91m                   ^^^^^^^^^^^^^^^^^\u001b[0m \u001b[94minvalid cast\u001b[0m",
      "only `u8` can be cast as `char`, not `i32`",
      "\u001b[1mhelp\u001b[0m: try `char::from_u32` instead (via a `u32`)"
     ]
    }
   ],
   "source": [
    "fn main() { // main() is where Rust programs start to run. Code goes inside {} (curly brackets)\n",
    "\n",
    "    let my_number = 100; // We didn't write a type of integer,\n",
    "                         // so Rust chooses i32. Rust always\n",
    "                         // chooses i32 for integers if you don't\n",
    "                         // tell it to use a different type\n",
    "\n",
    "    println!(\"{}\", my_number as char); // ⚠️\n",
    "}"
   ]
  },
  {
   "cell_type": "markdown",
   "id": "03dcfaab",
   "metadata": {},
   "source": [
    "## 그래서 숫자를 u8로 변환 후에 char로 변환"
   ]
  },
  {
   "cell_type": "code",
   "execution_count": 9,
   "id": "94ce98e6",
   "metadata": {},
   "outputs": [],
   "source": [
    "fn main() { // main() is where Rust programs start to run. Code goes inside {} (curly brackets)\n",
    "\n",
    "    let my_number = 100; // We didn't write a type of integer,\n",
    "                         // so Rust chooses i32. Rust always\n",
    "                         // chooses i32 for integers if you don't\n",
    "                         // tell it to use a different type\n",
    "\n",
    "    println!(\"{}\", my_number as u8 as char ); // ⚠️\n",
    "}"
   ]
  },
  {
   "cell_type": "code",
   "execution_count": 6,
   "id": "4fde2dd2",
   "metadata": {},
   "outputs": [
    {
     "name": "stdout",
     "output_type": "stream",
     "text": [
      "d\n"
     ]
    },
    {
     "data": {
      "text/plain": [
       "()"
      ]
     },
     "execution_count": 6,
     "metadata": {},
     "output_type": "execute_result"
    }
   ],
   "source": [
    "main()"
   ]
  },
  {
   "cell_type": "markdown",
   "id": "f8c90949",
   "metadata": {},
   "source": [
    "## 유니코드로 처리할 때는 u32로 처리 \n",
    "\n",
    "- 출력할 때는 :? 로 처리 "
   ]
  },
  {
   "cell_type": "code",
   "execution_count": 41,
   "id": "21bd5fcd",
   "metadata": {},
   "outputs": [],
   "source": [
    "\n",
    "fn main() { // main() is where Rust programs start to run. Code goes inside {} (curly brackets)\n",
    "\n",
    "    let my_number = 54620 ; // We didn't write a type of integer,\n",
    "                         // so Rust chooses i32. Rust always\n",
    "                         // chooses i32 for integers if you don't\n",
    "                         // tell it to use a different type\n",
    "\n",
    "    println!(\"{:?}\", char::from_u32(my_number) ); // `Option<char>` doesn't implement `std::fmt::Display`\n",
    "}"
   ]
  },
  {
   "cell_type": "code",
   "execution_count": 42,
   "id": "2a84a118",
   "metadata": {},
   "outputs": [
    {
     "name": "stdout",
     "output_type": "stream",
     "text": [
      "Some('한')\n"
     ]
    },
    {
     "data": {
      "text/plain": [
       "()"
      ]
     },
     "execution_count": 42,
     "metadata": {},
     "output_type": "execute_result"
    }
   ],
   "source": [
    "main()"
   ]
  },
  {
   "cell_type": "markdown",
   "id": "705562db",
   "metadata": {},
   "source": [
    "## 유니코드 처리 "
   ]
  },
  {
   "cell_type": "code",
   "execution_count": 43,
   "id": "4e64a05d",
   "metadata": {},
   "outputs": [],
   "source": [
    "let a =  '\\u{D55C}';"
   ]
  },
  {
   "cell_type": "code",
   "execution_count": 44,
   "id": "c338a481",
   "metadata": {},
   "outputs": [
    {
     "data": {
      "text/plain": [
       "'한'"
      ]
     },
     "execution_count": 44,
     "metadata": {},
     "output_type": "execute_result"
    }
   ],
   "source": [
    "a"
   ]
  },
  {
   "cell_type": "code",
   "execution_count": 48,
   "id": "6ba84898",
   "metadata": {},
   "outputs": [],
   "source": [
    "let b : u32 = 0xD55C;"
   ]
  },
  {
   "cell_type": "code",
   "execution_count": 50,
   "id": "50181ec2",
   "metadata": {},
   "outputs": [
    {
     "data": {
      "text/plain": [
       "Some('한')"
      ]
     },
     "execution_count": 50,
     "metadata": {},
     "output_type": "execute_result"
    }
   ],
   "source": [
    "char::from_u32(b)"
   ]
  },
  {
   "cell_type": "code",
   "execution_count": null,
   "id": "92c6f69e",
   "metadata": {},
   "outputs": [],
   "source": []
  }
 ],
 "metadata": {
  "kernelspec": {
   "display_name": "Rust",
   "language": "rust",
   "name": "rust"
  },
  "language_info": {
   "codemirror_mode": "rust",
   "file_extension": ".rs",
   "mimetype": "text/rust",
   "name": "Rust",
   "pygment_lexer": "rust",
   "version": ""
  }
 },
 "nbformat": 4,
 "nbformat_minor": 5
}
