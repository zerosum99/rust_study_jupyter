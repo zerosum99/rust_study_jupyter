{
 "cells": [
  {
   "cell_type": "markdown",
   "id": "2f7fbcb9",
   "metadata": {},
   "source": [
    "# 1. 소유권에 따른 스코프 "
   ]
  },
  {
   "cell_type": "markdown",
   "id": "5e90b1a7",
   "metadata": {},
   "source": [
    "## 소유권 규칙 \n",
    "\n",
    "- 1. 러스트의 각각의 값은 해당값의 오너(owner)라고 불리우는 변수를 갖고 있다.\n",
    "- 2. 한번에 딱 하나의 오너만 존재할 수 있다.\n",
    "- 3. 오너가 스코프 밖으로 벗어나는 때, 값은 버려진다(dropped)."
   ]
  },
  {
   "cell_type": "markdown",
   "id": "fe7e4783",
   "metadata": {},
   "source": [
    "## 힙 소유권 처리 \n",
    "\n",
    "- 모든 데이터 타입들은 스택에 저장되었다가 스코프를 벗어날 때 스택으로부터 팝 됩니다"
   ]
  },
  {
   "cell_type": "markdown",
   "id": "49588101",
   "metadata": {},
   "source": [
    "## 스트링 리터럴 \n",
    "\n",
    "- 이 값은 프로그램 안에 하드코딩 되어 있습니다. \n",
    "- 문자열 값은 편리하지만, 여러분이 텍스트를 필요로 하는 모든 경우에 대해 항상 적절하진 않습니다. \n",
    "- 그 중 한가지 이유로, 문자열 값은 불변입니다(immutable)."
   ]
  },
  {
   "cell_type": "code",
   "execution_count": null,
   "id": "1c2f01c3",
   "metadata": {},
   "outputs": [],
   "source": []
  },
  {
   "cell_type": "code",
   "execution_count": 31,
   "id": "c7f9fd01",
   "metadata": {},
   "outputs": [
    {
     "name": "stdout",
     "output_type": "stream",
     "text": [
      "s = hello\n"
     ]
    }
   ],
   "source": [
    "{                      // s는 유효하지 않습니다. 아직 선언이 안됐거든요.\n",
    "    let s1 = \"hello\";   // s는 이 지점부터 유효합니다.\n",
    "\n",
    "    println!(\"s = {}\", s1); // s를 가지고 뭔가 합니다.\n",
    "}    // 이 스코프는 이제 끝이므로, s는 더이상 유효하지 않습니다.\n",
    "\n",
    "\n",
    "// s1 스코프 범위 밖은 유효하지 않음 "
   ]
  },
  {
   "cell_type": "markdown",
   "id": "e88bbcf1",
   "metadata": {},
   "source": [
    "## String 은 힙에 생성되는 변경가능한 문자열 \n",
    "\n",
    "- 문자열 타입인 String을 제공합니다. \n",
    "- 이 타입은 힙에 할당되고 그런고로 컴파일 타임에는 우리가 알 수 없는 양의 텍스트를 저장할 수 있습니다.\n",
    "\n",
    "- 런타임에 운영체제로부터 메모리가 요청되어야 한다. => 메소드 호출 \n",
    "- String의 사용이 끝났을 때 운영체제에게 메모리를 반납할 방법이 필요하다. => 가비지 콜렉터(GC) 를 갖고 있는 언어\n",
    "\n",
    "- 이 함수를 drop이라고 부르고, String의 개발자가 메모리를 반환하도록 하는 코드를 집어넣을 수 있습니다. \n",
    "     러스트는 } 괄호가 닫힐때 자동적으로 drop을 호출합니다."
   ]
  },
  {
   "cell_type": "code",
   "execution_count": 32,
   "id": "b5f35a77",
   "metadata": {},
   "outputs": [
    {
     "name": "stdout",
     "output_type": "stream",
     "text": [
      "hello, world!\n"
     ]
    }
   ],
   "source": [
    "let mut s = String::from(\"hello\");  // 전역영역 \n",
    "\n",
    "{ \n",
    "\n",
    "    s.push_str(\", world!\"); // push_str()은 해당 스트링 리터럴을 스트링에 붙여줍니다.\n",
    "    \n",
    "}\n",
    "\n",
    "println!(\"{}\", s); // 이 부분이 `hello, world!`를 출력할 겁니다."
   ]
  },
  {
   "cell_type": "markdown",
   "id": "272b50f8",
   "metadata": {},
   "source": [
    "## &str 문자열은 스택에 쌓여서 변경이 불가.  \n",
    "\n",
    "- to_owned 메소드를 사용해서 참조하면 변경이 가능"
   ]
  },
  {
   "cell_type": "code",
   "execution_count": 35,
   "id": "e57d7e24",
   "metadata": {},
   "outputs": [
    {
     "name": "stdout",
     "output_type": "stream",
     "text": [
      "helloworld \n",
      "hello \n"
     ]
    }
   ],
   "source": [
    "let mut ss = \"hello\"; \n",
    "\n",
    "// ss = ss + \"world\";   // cannot add `&str` to `&str`\n",
    "\n",
    "println!(\"{} \", ss.to_owned() + \"world\");\n",
    "\n",
    "println!(\"{} \", ss);"
   ]
  },
  {
   "cell_type": "code",
   "execution_count": 28,
   "id": "d18001aa",
   "metadata": {},
   "outputs": [
    {
     "data": {
      "text/plain": [
       "\"hello\""
      ]
     },
     "execution_count": 28,
     "metadata": {},
     "output_type": "execute_result"
    }
   ],
   "source": [
    "ss"
   ]
  },
  {
   "cell_type": "code",
   "execution_count": null,
   "id": "3334c60d",
   "metadata": {},
   "outputs": [],
   "source": []
  },
  {
   "cell_type": "code",
   "execution_count": null,
   "id": "40a776fd",
   "metadata": {},
   "outputs": [],
   "source": []
  },
  {
   "cell_type": "markdown",
   "id": "cc0118c3",
   "metadata": {},
   "source": [
    "# 2. 변수와 데이터가 상호작용하는 방법: 이동(move)\n",
    "\n",
    "\n"
   ]
  },
  {
   "cell_type": "markdown",
   "id": "b1946820",
   "metadata": {},
   "source": [
    "## 프리미티브 타입은 스택에 있는 것은 이동해도 소유권 유지\n",
    "\n",
    "- 그 이유는 정수형과 같이 컴파일 타임에 결정되어 있는 크기의 타입은 스택에 모두 저장되기 때문에, 실제 값의 복사본이 빠르게 만들어질 수 있습니다."
   ]
  },
  {
   "cell_type": "markdown",
   "id": "96bb8219",
   "metadata": {},
   "source": [
    "## 이동이 아닌 복사가 발생하는 것들 \n",
    "\n",
    "- u32와 같은 모든 정수형 타입들\n",
    "- true와 false값을 갖는 부울린 타입 bool\n",
    "- f64와 같은 모든 부동 소수점 타입들\n",
    "- Copy가 가능한 타입만으로 구성된 튜플들. (i32, i32)는 Copy가 되지만, (i32, String)은 안됩니다."
   ]
  },
  {
   "cell_type": "code",
   "execution_count": 40,
   "id": "05f13119",
   "metadata": {},
   "outputs": [
    {
     "name": "stdout",
     "output_type": "stream",
     "text": [
      " x = 5\n"
     ]
    },
    {
     "data": {
      "text/plain": [
       "()"
      ]
     },
     "execution_count": 40,
     "metadata": {},
     "output_type": "execute_result"
    }
   ],
   "source": [
    "let x = 5;\n",
    "let y = x;\n",
    "\n",
    "println!(\" x = {}\", x)"
   ]
  },
  {
   "cell_type": "code",
   "execution_count": 41,
   "id": "822ab5c8",
   "metadata": {},
   "outputs": [
    {
     "name": "stdout",
     "output_type": "stream",
     "text": [
      " xs = 가을\n"
     ]
    },
    {
     "data": {
      "text/plain": [
       "()"
      ]
     },
     "execution_count": 41,
     "metadata": {},
     "output_type": "execute_result"
    }
   ],
   "source": [
    "let xs = \"가을\";\n",
    "let ys = xs;\n",
    "\n",
    "println!(\" xs = {}\", xs)"
   ]
  },
  {
   "cell_type": "markdown",
   "id": "23d96d43",
   "metadata": {},
   "source": [
    "### 이동으로 소유권 이동 \n",
    "\n",
    "- 러스트에서는 xss이 더이상 유효하지 않다고 간주하고, \n",
    "- 그러므로 러스트는 xss가 스코프 밖으로 벗어났을 때 이무것도 해제할 필요가 없어집니다.\n",
    "\n",
    "- 첫번째 변수를 무효화 시키기도 하기 때문에, 이를 얕은 복사라고 부르는 대신 이동(move)이라 말합니다. "
   ]
  },
  {
   "cell_type": "code",
   "execution_count": 44,
   "id": "adc9a1bf",
   "metadata": {},
   "outputs": [],
   "source": [
    "let xss = String::from(\"가을\");\n",
    "let yss = xss;\n",
    "// println!(\" xss = {}\", xss)   // borrow of moved value: `xss`"
   ]
  },
  {
   "cell_type": "code",
   "execution_count": null,
   "id": "ab3b097f",
   "metadata": {},
   "outputs": [],
   "source": []
  },
  {
   "cell_type": "markdown",
   "id": "e04640c6",
   "metadata": {},
   "source": [
    "## 변수와 데이터가 상호작용하는 방법: 클론\n",
    "\n",
    "-  힙 데이터가 정말로 복사되는 동작을 여러분이 명시"
   ]
  },
  {
   "cell_type": "code",
   "execution_count": 45,
   "id": "5077348f",
   "metadata": {},
   "outputs": [
    {
     "name": "stdout",
     "output_type": "stream",
     "text": [
      "s11 = hello, s22 = hello\n"
     ]
    }
   ],
   "source": [
    "let s11 = String::from(\"hello\");\n",
    "let s22 = s11.clone();\n",
    "\n",
    "println!(\"s11 = {}, s22 = {}\", s11, s22);"
   ]
  },
  {
   "cell_type": "code",
   "execution_count": null,
   "id": "18b4156c",
   "metadata": {},
   "outputs": [],
   "source": []
  },
  {
   "cell_type": "code",
   "execution_count": null,
   "id": "6e2d69da",
   "metadata": {},
   "outputs": [],
   "source": []
  },
  {
   "cell_type": "code",
   "execution_count": null,
   "id": "603f9bda",
   "metadata": {},
   "outputs": [],
   "source": []
  },
  {
   "cell_type": "markdown",
   "id": "aed3dc5d",
   "metadata": {},
   "source": [
    "## 함수에 복사와 이동 처리하기 "
   ]
  },
  {
   "cell_type": "code",
   "execution_count": 48,
   "id": "f25c1e4a",
   "metadata": {},
   "outputs": [],
   "source": [
    "fn main() {\n",
    "    let s = String::from(\"hello\");  // s가 스코프 안으로 들어왔습니다.\n",
    "    \n",
    "    let ss = \"world\";\n",
    "    \n",
    "    let st = s.clone();             // s의 값이 함수 안으로 이동하기 전에 복사했습니다...\n",
    "\n",
    "    takes_ownership(s);             // s의 값이 함수 안으로 이동했습니다...\n",
    "                                    // ... 그리고 이제 더이상 유효하지 않습니다.\n",
    "    let x = 5;                      // x가 스코프 안으로 들어왔습니다.\n",
    "\n",
    "    makes_copy(x);                  // x가 함수 안으로 이동했습니다만,\n",
    "                                    // i32는 Copy가 되므로, x를 이후에 계속\n",
    "                                    // 사용해도 됩니다.\n",
    "    \n",
    "    println!(\"x = {}\", x);\n",
    "    \n",
    "    println!(\"ss = {}\", ss);\n",
    "    println!(\"st = {}\", st);\n",
    "\n",
    "} // 여기서 x는 스코프 밖으로 나가고, s도 그 후 나갑니다. 하지만 s는 이미 이동되었으므로,\n",
    "  // 별다른 일이 발생하지 않습니다.\n",
    "\n",
    "fn takes_ownership(some_string: String) { // some_string이 스코프 안으로 들어왔습니다.\n",
    "    println!(\"{}\", some_string);\n",
    "} // 여기서 some_string이 스코프 밖으로 벗어났고 `drop`이 호출됩니다. 메모리는\n",
    "  // 해제되었습니다.\n",
    "\n",
    "fn makes_copy(some_integer: i32) { // some_integer이 스코프 안으로 들어왔습니다.\n",
    "    println!(\"{}\", some_integer);\n",
    "} // 여기서 some_integer가 스코프 밖으로 벗어났습니다. 별다른 일은 발생하지 않습니다."
   ]
  },
  {
   "cell_type": "code",
   "execution_count": 49,
   "id": "5030d402",
   "metadata": {},
   "outputs": [
    {
     "name": "stdout",
     "output_type": "stream",
     "text": [
      "hello\n",
      "5\n",
      "x = 5\n",
      "ss = world\n",
      "st = hello\n"
     ]
    },
    {
     "data": {
      "text/plain": [
       "()"
      ]
     },
     "execution_count": 49,
     "metadata": {},
     "output_type": "execute_result"
    }
   ],
   "source": [
    "main()"
   ]
  },
  {
   "cell_type": "markdown",
   "id": "35cd83ed",
   "metadata": {},
   "source": [
    "## 반환값이 소유권이동"
   ]
  },
  {
   "cell_type": "code",
   "execution_count": null,
   "id": "38f013f3",
   "metadata": {},
   "outputs": [],
   "source": []
  },
  {
   "cell_type": "code",
   "execution_count": 51,
   "id": "f1b1e392",
   "metadata": {},
   "outputs": [],
   "source": [
    "fn main() {\n",
    "    let s1 = String::from(\"hello\");\n",
    "\n",
    "    let (s2, len) = calculate_length(s1);\n",
    "\n",
    "    println!(\"The length of '{}' is {}.\", s2, len);\n",
    "}\n",
    "\n",
    "fn calculate_length(s: String) -> (String, usize) {\n",
    "    let length = s.len(); // len()함수는 문자열의 길이를 반환합니다.\n",
    "\n",
    "    (s, length)\n",
    "}"
   ]
  },
  {
   "cell_type": "code",
   "execution_count": 52,
   "id": "8930de55",
   "metadata": {},
   "outputs": [
    {
     "name": "stdout",
     "output_type": "stream",
     "text": [
      "The length of 'hello' is 5.\n"
     ]
    },
    {
     "data": {
      "text/plain": [
       "()"
      ]
     },
     "execution_count": 52,
     "metadata": {},
     "output_type": "execute_result"
    }
   ],
   "source": [
    "main()"
   ]
  },
  {
   "cell_type": "code",
   "execution_count": null,
   "id": "40ca3301",
   "metadata": {},
   "outputs": [],
   "source": []
  },
  {
   "cell_type": "markdown",
   "id": "38ab0dd9",
   "metadata": {},
   "source": [
    "## 정수 타입 등 기본타입은 복사처리 "
   ]
  },
  {
   "cell_type": "code",
   "execution_count": 10,
   "id": "53482a39",
   "metadata": {},
   "outputs": [],
   "source": [
    "fn main() { \n",
    "    let mut limit = 4; \n",
    "    for i in 1..limit {\n",
    "        limit -= 1;\n",
    "        println!(\"{} \", i);\n",
    "        println!(\"limit :{}\", limit);\n",
    "    }\n",
    "    println!(\"limit :{}\", limit);\n",
    "}"
   ]
  },
  {
   "cell_type": "code",
   "execution_count": 11,
   "id": "b32a7c26",
   "metadata": {},
   "outputs": [
    {
     "name": "stdout",
     "output_type": "stream",
     "text": [
      "1 \n",
      "limit :3\n",
      "2 \n",
      "limit :2\n",
      "3 \n",
      "limit :1\n",
      "limit :1\n"
     ]
    },
    {
     "data": {
      "text/plain": [
       "()"
      ]
     },
     "execution_count": 11,
     "metadata": {},
     "output_type": "execute_result"
    }
   ],
   "source": [
    "main()"
   ]
  },
  {
   "cell_type": "code",
   "execution_count": 12,
   "id": "7f929cea",
   "metadata": {},
   "outputs": [],
   "source": [
    "fn main() { \n",
    "    let mut limit = 4; \n",
    "    for i in 1..4 {\n",
    "        limit -= 1;\n",
    "        println!(\"{} \", i);\n",
    "        println!(\"limit :{}\", limit);\n",
    "    }\n",
    "    println!(\"limit :{}\", limit);\n",
    "}"
   ]
  },
  {
   "cell_type": "code",
   "execution_count": 13,
   "id": "15673770",
   "metadata": {},
   "outputs": [
    {
     "name": "stdout",
     "output_type": "stream",
     "text": [
      "1 \n",
      "limit :3\n",
      "2 \n",
      "limit :2\n",
      "3 \n",
      "limit :1\n",
      "limit :1\n"
     ]
    },
    {
     "data": {
      "text/plain": [
       "()"
      ]
     },
     "execution_count": 13,
     "metadata": {},
     "output_type": "execute_result"
    }
   ],
   "source": [
    "main()"
   ]
  },
  {
   "cell_type": "markdown",
   "id": "a6e39155",
   "metadata": {},
   "source": [
    "## 변수 스코프 처리 "
   ]
  },
  {
   "cell_type": "code",
   "execution_count": 14,
   "id": "7ccd5f72",
   "metadata": {},
   "outputs": [],
   "source": [
    "fn main() {\n",
    "    let mut _i = 1;        // 외부 로컬 \n",
    "    if true {              // 내부 로컬 \n",
    "        let _i = 2; \n",
    "    } \n",
    "    println!(\"{} \", _i);   // 외부 로컬 값 처리 :\n",
    "}"
   ]
  },
  {
   "cell_type": "code",
   "execution_count": 15,
   "id": "bec343dd",
   "metadata": {},
   "outputs": [
    {
     "name": "stdout",
     "output_type": "stream",
     "text": [
      "1 \n"
     ]
    },
    {
     "data": {
      "text/plain": [
       "()"
      ]
     },
     "execution_count": 15,
     "metadata": {},
     "output_type": "execute_result"
    }
   ],
   "source": [
    "main()"
   ]
  },
  {
   "cell_type": "code",
   "execution_count": null,
   "id": "426a3515",
   "metadata": {},
   "outputs": [],
   "source": []
  }
 ],
 "metadata": {
  "kernelspec": {
   "display_name": "Rust",
   "language": "rust",
   "name": "rust"
  },
  "language_info": {
   "codemirror_mode": "rust",
   "file_extension": ".rs",
   "mimetype": "text/rust",
   "name": "Rust",
   "pygment_lexer": "rust",
   "version": ""
  }
 },
 "nbformat": 4,
 "nbformat_minor": 5
}
