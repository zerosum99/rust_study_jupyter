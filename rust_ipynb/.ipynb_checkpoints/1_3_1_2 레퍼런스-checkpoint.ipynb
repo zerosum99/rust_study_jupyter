{
 "cells": [
  {
   "cell_type": "code",
   "execution_count": null,
   "id": "c28e16ab",
   "metadata": {},
   "outputs": [],
   "source": []
  },
  {
   "cell_type": "code",
   "execution_count": 5,
   "id": "84188568",
   "metadata": {},
   "outputs": [],
   "source": [
    "fn main() {\n",
    "    let country = String::from(\"대한민국\");\n",
    "    println!(\" {country}\");\n",
    "    \n",
    "    let ref_one = &country;\n",
    "    println!(\" reference 1 = {ref_one}\");\n",
    "    \n",
    "    let ref_two = &country;\n",
    "    println!(\" reference 2 = {ref_two}\");\n",
    "    \n",
    "}"
   ]
  },
  {
   "cell_type": "code",
   "execution_count": 6,
   "id": "13b708c5",
   "metadata": {},
   "outputs": [
    {
     "name": "stdout",
     "output_type": "stream",
     "text": [
      " 대한민국\n",
      " reference 1 = 대한민국\n",
      " reference 2 = 대한민국\n"
     ]
    },
    {
     "data": {
      "text/plain": [
       "()"
      ]
     },
     "execution_count": 6,
     "metadata": {},
     "output_type": "execute_result"
    }
   ],
   "source": [
    "main()"
   ]
  },
  {
   "cell_type": "code",
   "execution_count": null,
   "id": "19e119bb",
   "metadata": {},
   "outputs": [],
   "source": []
  },
  {
   "cell_type": "markdown",
   "id": "088f8047",
   "metadata": {},
   "source": [
    "## 지역변수는 참조로 반환 금지 "
   ]
  },
  {
   "cell_type": "code",
   "execution_count": 8,
   "id": "464c9d0e",
   "metadata": {},
   "outputs": [
    {
     "ename": "Error",
     "evalue": "cannot return reference to local variable `country`",
     "output_type": "error",
     "traceback": [
      "    &country",
      "\u001b[91m    ^^^^^^^^\u001b[0m \u001b[94mreturns a reference to data owned by the current function\u001b[0m",
      "cannot return reference to local variable `country`"
     ]
    }
   ],
   "source": [
    "fn return_localref() -> &'static String {\n",
    "    let country = String::from(\"대한민국\");\n",
    "    println!(\" {country}\");\n",
    "    &country\n",
    "}"
   ]
  },
  {
   "cell_type": "code",
   "execution_count": null,
   "id": "89aadec5",
   "metadata": {},
   "outputs": [],
   "source": []
  },
  {
   "cell_type": "markdown",
   "id": "2a3ee446",
   "metadata": {},
   "source": [
    "## 참조 처리하기"
   ]
  },
  {
   "cell_type": "code",
   "execution_count": 19,
   "id": "f9baef74",
   "metadata": {},
   "outputs": [],
   "source": [
    "fn return_localref(x : &u32) -> &u32 {\n",
    "     x\n",
    "}\n",
    "\n",
    "fn main() {\n",
    "    let country = 100;\n",
    "    let x = return_localref(&country);\n",
    "    println!(\"{x}\");\n",
    "}"
   ]
  },
  {
   "cell_type": "code",
   "execution_count": 20,
   "id": "5389b2a1",
   "metadata": {},
   "outputs": [
    {
     "name": "stdout",
     "output_type": "stream",
     "text": [
      "100\n"
     ]
    },
    {
     "data": {
      "text/plain": [
       "()"
      ]
     },
     "execution_count": 20,
     "metadata": {},
     "output_type": "execute_result"
    }
   ],
   "source": [
    "main()"
   ]
  },
  {
   "cell_type": "code",
   "execution_count": null,
   "id": "f67ab395",
   "metadata": {},
   "outputs": [],
   "source": []
  }
 ],
 "metadata": {
  "kernelspec": {
   "display_name": "Rust",
   "language": "rust",
   "name": "rust"
  },
  "language_info": {
   "codemirror_mode": "rust",
   "file_extension": ".rs",
   "mimetype": "text/rust",
   "name": "Rust",
   "pygment_lexer": "rust",
   "version": ""
  }
 },
 "nbformat": 4,
 "nbformat_minor": 5
}
