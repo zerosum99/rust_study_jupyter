{
 "cells": [
  {
   "cell_type": "code",
   "execution_count": 2,
   "id": "7396ccb6",
   "metadata": {},
   "outputs": [],
   "source": [
    ":dep mysql=\"17.0.0\""
   ]
  },
  {
   "cell_type": "code",
   "execution_count": 11,
   "id": "642dadfa",
   "metadata": {},
   "outputs": [],
   "source": [
    "use mysql as my;\n",
    "\n",
    "fn main() {\n",
    "    // MySQL 연결 설정\n",
    "    let url = \"mysql://root@localhost:3306/sakila\";\n",
    "    let pool = my::Pool::new(url).unwrap();\n",
    "\n",
    "    // 쿼리 실행\n",
    "    let mut conn = pool.get_conn().unwrap();\n",
    "    let result = conn.query(\"show tables;\").unwrap();\n",
    "\n",
    "    // 결과 출력\n",
    "    for row in result {\n",
    "        let name: String = my::from_row(row.unwrap());\n",
    "        println!(\"{}\", name);\n",
    "    }\n",
    "}"
   ]
  },
  {
   "cell_type": "code",
   "execution_count": 12,
   "id": "c3225c78",
   "metadata": {},
   "outputs": [
    {
     "name": "stdout",
     "output_type": "stream",
     "text": [
      "actor\n",
      "actor_info\n",
      "address\n",
      "category\n",
      "city\n",
      "country\n",
      "customer\n",
      "customer_list\n",
      "film\n",
      "film_actor\n",
      "film_category\n",
      "film_list\n",
      "film_text\n",
      "inventory\n",
      "language\n",
      "nicer_but_slower_film_list\n",
      "payment\n",
      "rental\n",
      "sales_by_film_category\n",
      "sales_by_store\n",
      "staff\n",
      "staff_list\n",
      "store\n"
     ]
    }
   ],
   "source": [
    "main();"
   ]
  },
  {
   "cell_type": "code",
   "execution_count": 25,
   "id": "ee0b90ca",
   "metadata": {},
   "outputs": [],
   "source": [
    "fn main() {\n",
    "    // MySQL 연결 설정\n",
    "    let url = \"mysql://root@localhost:3306/sakila\";\n",
    "    let pool = my::Pool::new(url).unwrap();\n",
    "\n",
    "    // 쿼리 실행\n",
    "    let mut conn = pool.get_conn().unwrap();\n",
    "    let result = conn.query(\"select first_name from actor limit 10;\").unwrap();\n",
    "\n",
    "    // 결과 출력\n",
    "    for row in result {\n",
    "        let name : String = my::from_row(row.unwrap());\n",
    "        println!(\"{:?}\", name);\n",
    "    }\n",
    "}"
   ]
  },
  {
   "cell_type": "code",
   "execution_count": 26,
   "id": "d20922c1",
   "metadata": {},
   "outputs": [
    {
     "name": "stdout",
     "output_type": "stream",
     "text": [
      "\"PENELOPE\"\n",
      "\"NICK\"\n",
      "\"ED\"\n",
      "\"JENNIFER\"\n",
      "\"JOHNNY\"\n",
      "\"BETTE\"\n",
      "\"GRACE\"\n",
      "\"MATTHEW\"\n",
      "\"JOE\"\n",
      "\"CHRISTIAN\"\n"
     ]
    }
   ],
   "source": [
    "main();"
   ]
  },
  {
   "cell_type": "code",
   "execution_count": null,
   "id": "386fb450",
   "metadata": {},
   "outputs": [],
   "source": []
  }
 ],
 "metadata": {
  "kernelspec": {
   "display_name": "Rust",
   "language": "rust",
   "name": "rust"
  },
  "language_info": {
   "codemirror_mode": "rust",
   "file_extension": ".rs",
   "mimetype": "text/rust",
   "name": "Rust",
   "pygment_lexer": "rust",
   "version": ""
  }
 },
 "nbformat": 4,
 "nbformat_minor": 5
}
