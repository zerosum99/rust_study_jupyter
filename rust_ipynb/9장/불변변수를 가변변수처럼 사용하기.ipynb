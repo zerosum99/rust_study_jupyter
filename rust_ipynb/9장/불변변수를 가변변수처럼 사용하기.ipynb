{
 "cells": [
  {
   "cell_type": "markdown",
   "id": "de57520c",
   "metadata": {},
   "source": [
    "## 참조하기\n",
    "\n",
    "https://taegit.tistory.com/20?category=1041325"
   ]
  },
  {
   "cell_type": "code",
   "execution_count": null,
   "id": "cba93da1",
   "metadata": {},
   "outputs": [],
   "source": []
  },
  {
   "cell_type": "markdown",
   "id": "c1ddbb78",
   "metadata": {},
   "source": [
    "## 불변 변수를 가변 변수처럼 사용할 수 있게 해주는 Cell과 RefCell 타입\n",
    "\n",
    "- RefCell 스마트 포인터 타입을 사용할 수 있습니다. \n",
    "- Cell과 RefCell 타입은 모두 단일 스레드 환경에서만 가변성을 보장할 수 있으며, 다중 스레드 환경을 위한 가변성은 Mutex, RwLock, atomic과 같은 타입을 참고해보세요."
   ]
  },
  {
   "cell_type": "code",
   "execution_count": null,
   "id": "2c214703",
   "metadata": {},
   "outputs": [],
   "source": []
  }
 ],
 "metadata": {
  "kernelspec": {
   "display_name": "Rust",
   "language": "rust",
   "name": "rust"
  },
  "language_info": {
   "codemirror_mode": "rust",
   "file_extension": ".rs",
   "mimetype": "text/rust",
   "name": "Rust",
   "pygment_lexer": "rust",
   "version": ""
  }
 },
 "nbformat": 4,
 "nbformat_minor": 5
}
