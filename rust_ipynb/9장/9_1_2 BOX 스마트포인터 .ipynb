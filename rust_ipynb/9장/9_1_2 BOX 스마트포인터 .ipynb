{
 "cells": [
  {
   "cell_type": "markdown",
   "id": "f03422a3",
   "metadata": {},
   "source": [
    "##  Box 스마트 포인터 \n",
    "\n",
    "\n",
    "- 컴파일 시간에 크기를 알 수 없는 유형이 있고 정확한 크기가 필요한 컨텍스트에서 해당 유형의 값을 사용하려는 경우\n",
    "- 많은 양의 데이터가 있고 소유권을 이전하고 싶지만 그렇게 할 때 데이터가 복사되지 않도록 할 때\n",
    "- 값을 소유하고 싶고 특정 유형이 아닌 특정 특성을 구현하는 유형이라는 점에만 관심이 있는 경우"
   ]
  },
  {
   "cell_type": "code",
   "execution_count": null,
   "id": "a6356d9a",
   "metadata": {},
   "outputs": [],
   "source": []
  },
  {
   "cell_type": "markdown",
   "id": "914c83ce",
   "metadata": {},
   "source": [
    "## 1. 동적타입 : Dynamically-Sized Types\n",
    "\n",
    "- Box 타입의 주요 이점 중 하나는 동적 크기 타입(DST)의 값을 힙에 저장할 수 있다는 점입니다. \n",
    "- DST는 str 또는 [T]와 같이 컴파일 시점에 크기를 알 수 없는 타입입니다. 컴파일 시점에 DST의 크기를 알 수 없으므로 스택에 저장할 수 없습니다. \n",
    "- 대신 Box와 같은 스마트 포인터를 사용하여 힙에 저장해야 합니다.\n"
   ]
  },
  {
   "cell_type": "code",
   "execution_count": 2,
   "id": "d1419961",
   "metadata": {},
   "outputs": [],
   "source": [
    "fn main() {\n",
    "    let s = Box::new(\"hello\");\n",
    "    println!(\"s = {}\", s);\n",
    "}"
   ]
  },
  {
   "cell_type": "code",
   "execution_count": 3,
   "id": "71c90968",
   "metadata": {},
   "outputs": [
    {
     "name": "stdout",
     "output_type": "stream",
     "text": [
      "s = hello\n"
     ]
    },
    {
     "data": {
      "text/plain": [
       "()"
      ]
     },
     "execution_count": 3,
     "metadata": {},
     "output_type": "execute_result"
    }
   ],
   "source": [
    "main()"
   ]
  },
  {
   "cell_type": "code",
   "execution_count": null,
   "id": "20254b40",
   "metadata": {},
   "outputs": [],
   "source": []
  },
  {
   "cell_type": "markdown",
   "id": "871feabf",
   "metadata": {},
   "source": [
    "## 2. 소유권과 빌림\n",
    "\n",
    "- 박스 타입의 또 다른 장점은 변수와 함수 간에 값의 소유권을 이전할 수 있다는 것입니다. \n",
    "- Rust에서 소유권은 누가 언제 메모리를 할당 해제할 책임이 있는지 결정하는 핵심 개념입니다. \n",
    "- Box 타입을 사용하면 Box 인스턴스를 변수와 함수 간에 이동하여 Box 인스턴스에 저장된 값의 소유권을 이전할 수 있습니다.\n"
   ]
  },
  {
   "cell_type": "markdown",
   "id": "d3064b25",
   "metadata": {},
   "source": [
    "### 소유권 이동 후에 변수 사용하면 에러"
   ]
  },
  {
   "cell_type": "code",
   "execution_count": 4,
   "id": "d69bf5d5",
   "metadata": {},
   "outputs": [
    {
     "ename": "Error",
     "evalue": "borrow of moved value: `a`",
     "output_type": "error",
     "traceback": [
      "\u001b[31m[E0382] Error:\u001b[0m borrow of moved value: `a`",
      "   \u001b[38;5;246m╭\u001b[0m\u001b[38;5;246m─\u001b[0m\u001b[38;5;246m[\u001b[0mcommand_4:1:1\u001b[38;5;246m]\u001b[0m",
      "   \u001b[38;5;246m│\u001b[0m",
      " \u001b[38;5;246m2 │\u001b[0m \u001b[38;5;249m \u001b[0m\u001b[38;5;249m \u001b[0m\u001b[38;5;249m \u001b[0m\u001b[38;5;249m \u001b[0m\u001b[38;5;249ml\u001b[0m\u001b[38;5;249me\u001b[0m\u001b[38;5;249mt\u001b[0m\u001b[38;5;249m \u001b[0m\u001b[38;5;68ma\u001b[0m\u001b[38;5;249m \u001b[0m\u001b[38;5;249m=\u001b[0m\u001b[38;5;249m \u001b[0m\u001b[38;5;249mB\u001b[0m\u001b[38;5;249mo\u001b[0m\u001b[38;5;249mx\u001b[0m\u001b[38;5;249m:\u001b[0m\u001b[38;5;249m:\u001b[0m\u001b[38;5;249mn\u001b[0m\u001b[38;5;249me\u001b[0m\u001b[38;5;249mw\u001b[0m\u001b[38;5;249m(\u001b[0m\u001b[38;5;249m5\u001b[0m\u001b[38;5;249m)\u001b[0m\u001b[38;5;249m;\u001b[0m",
      " \u001b[38;5;246m  ·\u001b[0m         \u001b[38;5;68m┬\u001b[0m  ",
      " \u001b[38;5;246m  ·\u001b[0m         \u001b[38;5;68m╰\u001b[0m\u001b[38;5;68m─\u001b[0m\u001b[38;5;68m─\u001b[0m move occurs because `a` has type `Box<i32>`, which does not implement the `Copy` trait",
      " \u001b[38;5;246m3 │\u001b[0m \u001b[38;5;249m \u001b[0m\u001b[38;5;249m \u001b[0m\u001b[38;5;249m \u001b[0m\u001b[38;5;249m \u001b[0m\u001b[38;5;249ml\u001b[0m\u001b[38;5;249me\u001b[0m\u001b[38;5;249mt\u001b[0m\u001b[38;5;249m \u001b[0m\u001b[38;5;249mb\u001b[0m\u001b[38;5;249m \u001b[0m\u001b[38;5;249m=\u001b[0m\u001b[38;5;249m \u001b[0m\u001b[38;5;54ma\u001b[0m\u001b[38;5;249m;\u001b[0m",
      " \u001b[38;5;246m  ·\u001b[0m             \u001b[38;5;54m┬\u001b[0m  ",
      " \u001b[38;5;246m  ·\u001b[0m             \u001b[38;5;54m╰\u001b[0m\u001b[38;5;54m─\u001b[0m\u001b[38;5;54m─\u001b[0m value moved here",
      " \u001b[38;5;246m4 │\u001b[0m \u001b[38;5;249m \u001b[0m\u001b[38;5;249m \u001b[0m\u001b[38;5;249m \u001b[0m\u001b[38;5;249m \u001b[0m\u001b[38;5;249mp\u001b[0m\u001b[38;5;249mr\u001b[0m\u001b[38;5;249mi\u001b[0m\u001b[38;5;249mn\u001b[0m\u001b[38;5;249mt\u001b[0m\u001b[38;5;249ml\u001b[0m\u001b[38;5;249mn\u001b[0m\u001b[38;5;249m!\u001b[0m\u001b[38;5;249m(\u001b[0m\u001b[38;5;249m\"\u001b[0m\u001b[38;5;249ma\u001b[0m\u001b[38;5;249m \u001b[0m\u001b[38;5;249m=\u001b[0m\u001b[38;5;249m \u001b[0m\u001b[38;5;249m{\u001b[0m\u001b[38;5;249m}\u001b[0m\u001b[38;5;249m\"\u001b[0m\u001b[38;5;249m,\u001b[0m\u001b[38;5;249m \u001b[0m\u001b[38;5;100ma\u001b[0m\u001b[38;5;249m)\u001b[0m\u001b[38;5;249m;\u001b[0m\u001b[38;5;249m \u001b[0m\u001b[38;5;249m/\u001b[0m\u001b[38;5;249m/\u001b[0m\u001b[38;5;249m \u001b[0m\u001b[38;5;249me\u001b[0m\u001b[38;5;249mr\u001b[0m\u001b[38;5;249mr\u001b[0m\u001b[38;5;249mo\u001b[0m\u001b[38;5;249mr\u001b[0m\u001b[38;5;249m:\u001b[0m\u001b[38;5;249m \u001b[0m\u001b[38;5;249mu\u001b[0m\u001b[38;5;249ms\u001b[0m\u001b[38;5;249me\u001b[0m\u001b[38;5;249m \u001b[0m\u001b[38;5;249mo\u001b[0m\u001b[38;5;249mf\u001b[0m\u001b[38;5;249m \u001b[0m\u001b[38;5;249mm\u001b[0m\u001b[38;5;249mo\u001b[0m\u001b[38;5;249mv\u001b[0m\u001b[38;5;249me\u001b[0m\u001b[38;5;249md\u001b[0m\u001b[38;5;249m \u001b[0m\u001b[38;5;249mv\u001b[0m\u001b[38;5;249ma\u001b[0m\u001b[38;5;249ml\u001b[0m\u001b[38;5;249mu\u001b[0m\u001b[38;5;249me\u001b[0m",
      " \u001b[38;5;246m  ·\u001b[0m                        \u001b[38;5;100m┬\u001b[0m  ",
      " \u001b[38;5;246m  ·\u001b[0m                        \u001b[38;5;100m╰\u001b[0m\u001b[38;5;100m─\u001b[0m\u001b[38;5;100m─\u001b[0m value borrowed here after move",
      "\u001b[38;5;246m───╯\u001b[0m"
     ]
    }
   ],
   "source": [
    "fn main() {\n",
    "    let a = Box::new(5);\n",
    "    let b = a;\n",
    "    println!(\"a = {}\", a); // error: use of moved value\n",
    "    println!(\"b = {}\", b);\n",
    "}"
   ]
  },
  {
   "cell_type": "markdown",
   "id": "9164c733",
   "metadata": {},
   "source": [
    "### 소유권이동 후에는 사용하지 않는다"
   ]
  },
  {
   "cell_type": "code",
   "execution_count": 20,
   "id": "069a45e6",
   "metadata": {},
   "outputs": [],
   "source": [
    "fn main() {\n",
    "    let a = Box::new(5);\n",
    "    let b = a;\n",
    "    //println!(\"a = {}\", a); // error: use of moved value\n",
    "    println!(\"b = {}\", b);\n",
    "}"
   ]
  },
  {
   "cell_type": "code",
   "execution_count": 21,
   "id": "0affa7a7",
   "metadata": {},
   "outputs": [
    {
     "name": "stdout",
     "output_type": "stream",
     "text": [
      "b = 5\n"
     ]
    },
    {
     "data": {
      "text/plain": [
       "()"
      ]
     },
     "execution_count": 21,
     "metadata": {},
     "output_type": "execute_result"
    }
   ],
   "source": [
    "main()"
   ]
  },
  {
   "cell_type": "code",
   "execution_count": null,
   "id": "a1f68b9e",
   "metadata": {},
   "outputs": [],
   "source": []
  },
  {
   "cell_type": "markdown",
   "id": "0dd9bf99",
   "metadata": {},
   "source": [
    "## 3. When to Use Box\n",
    "\n",
    "- 스택의 공간을 절약하기 위해 힙에 저장하려는 큰 값이 있습니다.\n",
    "- 현재 함수의 수명을 초과하는 수명을 가진 값이 있으며 현재 범위 밖으로 '이동'해야 하는 경우.\n",
    "- 동적 디스패치가 필요하고 힙에 저장해야 하는 특성 객체 유형의 값이 있습니다.\n",
    "- 링크된 목록과 같은 재귀적 데이터 구조가 있어 스택 오버플로를 유발할 수 있습니다."
   ]
  },
  {
   "cell_type": "markdown",
   "id": "0585504b",
   "metadata": {},
   "source": [
    "## 3-1 스택에서 힙으로 저장, 참조, 역참조 사용"
   ]
  },
  {
   "cell_type": "code",
   "execution_count": 6,
   "id": "3336dd4a",
   "metadata": {},
   "outputs": [],
   "source": [
    "fn main() {\n",
    "    let x = Box::new(5);\n",
    "    let y = &x;\n",
    "    let z = *x + 100; // 정수값  5 + 100\n",
    "    \n",
    "    println!(\"x={}, y={}, z={}\", x, y,z);\n",
    "}"
   ]
  },
  {
   "cell_type": "code",
   "execution_count": 7,
   "id": "3150e235",
   "metadata": {},
   "outputs": [
    {
     "name": "stdout",
     "output_type": "stream",
     "text": [
      "x=5, y=5, z=105\n"
     ]
    },
    {
     "data": {
      "text/plain": [
       "()"
      ]
     },
     "execution_count": 7,
     "metadata": {},
     "output_type": "execute_result"
    }
   ],
   "source": [
    "main()"
   ]
  },
  {
   "cell_type": "markdown",
   "id": "191980bd",
   "metadata": {},
   "source": [
    "### 역참조 함수를 사용해서 처리 "
   ]
  },
  {
   "cell_type": "code",
   "execution_count": 8,
   "id": "3f908193",
   "metadata": {},
   "outputs": [],
   "source": [
    "fn main() {\n",
    "    let x = Box::new(5);\n",
    "    let y = std::ops::Deref::deref(&x);\n",
    "    println!(\"{}\", y);\n",
    "}"
   ]
  },
  {
   "cell_type": "code",
   "execution_count": 9,
   "id": "bf31258f",
   "metadata": {},
   "outputs": [
    {
     "name": "stdout",
     "output_type": "stream",
     "text": [
      "5\n"
     ]
    },
    {
     "data": {
      "text/plain": [
       "()"
      ]
     },
     "execution_count": 9,
     "metadata": {},
     "output_type": "execute_result"
    }
   ],
   "source": [
    "main()"
   ]
  },
  {
   "cell_type": "markdown",
   "id": "13dc229f",
   "metadata": {},
   "source": [
    "### 복제해서 처리하기 "
   ]
  },
  {
   "cell_type": "code",
   "execution_count": 10,
   "id": "026faa09",
   "metadata": {},
   "outputs": [],
   "source": [
    "fn main() {\n",
    "    let x = Box::new(5);\n",
    "    let y = x.clone();\n",
    "    println!(\"{:?} = {:?}\", x, y);\n",
    "}"
   ]
  },
  {
   "cell_type": "code",
   "execution_count": 11,
   "id": "9929a466",
   "metadata": {},
   "outputs": [
    {
     "name": "stdout",
     "output_type": "stream",
     "text": [
      "5 = 5\n"
     ]
    },
    {
     "data": {
      "text/plain": [
       "()"
      ]
     },
     "execution_count": 11,
     "metadata": {},
     "output_type": "execute_result"
    }
   ],
   "source": [
    "main()"
   ]
  },
  {
   "cell_type": "markdown",
   "id": "0b248959",
   "metadata": {},
   "source": [
    "## 3-2 Box를 사용하여 힙의 데이터 가리키기\n",
    "\n",
    "- Box의 가장 일반적인 용도 중 하나는 힙에 있는 데이터를 가리키는 포인터를 만드는 것입니다. \n",
    "- 힙의 데이터를 가리키는 Box를 생성할 때는 Box가 범위를 벗어날 때 데이터가 올바르게 할당 해제되도록 해야 합니다."
   ]
  },
  {
   "cell_type": "code",
   "execution_count": 12,
   "id": "e20d4102",
   "metadata": {},
   "outputs": [],
   "source": [
    "fn main() {\n",
    "    let b = Box::new(\"hello\".to_string());\n",
    "    println!(\"{}\", b);\n",
    "}"
   ]
  },
  {
   "cell_type": "code",
   "execution_count": 13,
   "id": "90a93f84",
   "metadata": {},
   "outputs": [
    {
     "name": "stdout",
     "output_type": "stream",
     "text": [
      "hello\n"
     ]
    },
    {
     "data": {
      "text/plain": [
       "()"
      ]
     },
     "execution_count": 13,
     "metadata": {},
     "output_type": "execute_result"
    }
   ],
   "source": [
    "main()"
   ]
  },
  {
   "cell_type": "code",
   "execution_count": null,
   "id": "babf7e71",
   "metadata": {},
   "outputs": [],
   "source": []
  },
  {
   "cell_type": "markdown",
   "id": "be3143fb",
   "metadata": {},
   "source": [
    "## 3-3 Box를 사용하여 재귀적 데이터 구조에 데이터 저장하기\n",
    "\n",
    "- Box의 또 다른 일반적인 용도는 링크된 목록이나 이진 트리와 같은 재귀적 데이터 구조에 데이터를 저장하는 것입니다. \n",
    "- 재귀 구조의 데이터 크기는 컴파일 시점에 알 수 없으므로 구조에 데이터를 직접 포함하지 않고 포인터를 사용하여 힙에 저장해야 합니다."
   ]
  },
  {
   "cell_type": "code",
   "execution_count": null,
   "id": "ccd2a105",
   "metadata": {},
   "outputs": [],
   "source": []
  },
  {
   "cell_type": "code",
   "execution_count": 43,
   "id": "ec72a62e",
   "metadata": {},
   "outputs": [],
   "source": [
    "#[derive(Debug)]\n",
    "enum List {\n",
    "    Cons(i32, Box<List>),\n",
    "    Nil,\n",
    "}\n",
    "\n",
    "impl List {\n",
    "        // Return representation of the list as a (heap allocated) string\n",
    "    fn stringify(&self) -> String {\n",
    "        match *self {\n",
    "            Cons(head, ref tail) => {\n",
    "                format!(\"{}, {}\", head, tail.stringify())\n",
    "            },\n",
    "            Nil => {\n",
    "                format!(\"Nil\")\n",
    "            },\n",
    "        }\n",
    "    }\n",
    "\n",
    "}\n",
    "\n",
    "\n",
    "fn main() {\n",
    "    let list = Cons(1, Box::new(Cons(2, Box::new(Cons(3, Box::new(Nil))))));\n",
    "    println!(\"{:?}\", list);\n",
    "    let ll = match list {\n",
    "            Cons(head, ref tail) => {\n",
    "                // `format!` is similar to `print!`, but returns a heap\n",
    "                // allocated string instead of printing to the console\n",
    "                format!(\"{}, {}\", head, tail.stringify())\n",
    "            },\n",
    "            Nil => {\n",
    "                format!(\"Nil\")\n",
    "            },\n",
    "        };\n",
    "    println!(\"ll {:?}\", ll);\n",
    "}"
   ]
  },
  {
   "cell_type": "code",
   "execution_count": 44,
   "id": "8966483e",
   "metadata": {},
   "outputs": [
    {
     "name": "stdout",
     "output_type": "stream",
     "text": [
      "Cons(1, Cons(2, Cons(3, Nil)))\n",
      "ll \"1, 2, 3, Nil\"\n"
     ]
    },
    {
     "data": {
      "text/plain": [
       "()"
      ]
     },
     "execution_count": 44,
     "metadata": {},
     "output_type": "execute_result"
    }
   ],
   "source": [
    "main()"
   ]
  },
  {
   "cell_type": "code",
   "execution_count": null,
   "id": "1d622a83",
   "metadata": {},
   "outputs": [],
   "source": []
  },
  {
   "cell_type": "markdown",
   "id": "3fc1775e",
   "metadata": {},
   "source": [
    "## 3-4 Box를 사용하여 벡터에 데이터 저장하기\n",
    "- Box를 사용하여 데이터를 벡터에 저장하여 서로 다른 유형의 데이터를 동일한 벡터에 저장할 수도 있습니다. \n",
    "- 이 기능은 이질적인 데이터 컬렉션을 저장하고 싶지만 Vec<Any>와 같은 더 복잡한 데이터 구조를 사용하고 싶지 않을 때 유용합니다."
   ]
  },
  {
   "cell_type": "code",
   "execution_count": 18,
   "id": "2179b609",
   "metadata": {},
   "outputs": [],
   "source": [
    "fn main() {\n",
    "    let v: Vec<Box<dyn std::fmt::Debug>> = vec![\n",
    "        Box::new(1),\n",
    "        Box::new(\"hello\"),\n",
    "        Box::new(vec![1, 2, 3]),\n",
    "    ];\n",
    "\n",
    "    for item in &v {\n",
    "        println!(\"{:?}\", item);\n",
    "    }\n",
    "}"
   ]
  },
  {
   "cell_type": "code",
   "execution_count": 19,
   "id": "0c6fe02d",
   "metadata": {},
   "outputs": [
    {
     "name": "stdout",
     "output_type": "stream",
     "text": [
      "1\n",
      "\"hello\"\n",
      "[1, 2, 3]\n"
     ]
    },
    {
     "data": {
      "text/plain": [
       "()"
      ]
     },
     "execution_count": 19,
     "metadata": {},
     "output_type": "execute_result"
    }
   ],
   "source": [
    "main()"
   ]
  },
  {
   "cell_type": "code",
   "execution_count": null,
   "id": "c9ea6e47",
   "metadata": {},
   "outputs": [],
   "source": []
  },
  {
   "cell_type": "markdown",
   "id": "24315469",
   "metadata": {},
   "source": [
    "## 링크드 리스트 구현"
   ]
  },
  {
   "cell_type": "code",
   "execution_count": 32,
   "id": "9aa318cf",
   "metadata": {},
   "outputs": [],
   "source": [
    "#[derive(Debug)]\n",
    "enum List {\n",
    "    // Cons: Tuple struct that wraps an element and a pointer to the next node\n",
    "    Cons(u32, Box<List>),\n",
    "    // Nil: A node that signifies the end of the linked list\n",
    "    Nil,\n",
    "}\n",
    "\n",
    "// Methods can be attached to an enum\n",
    "impl List {\n",
    "    // Create an empty list\n",
    "    fn new() -> List {\n",
    "        // `Nil` has type `List`\n",
    "        Nil\n",
    "    }\n",
    "\n",
    "    // Consume a list, and return the same list with a new element at its front\n",
    "    fn prepend(self, elem: u32) -> List {\n",
    "        // `Cons` also has type List\n",
    "        Cons(elem, Box::new(self))\n",
    "    }\n",
    "\n",
    "    // Return the length of the list\n",
    "    fn len(&self) -> u32 {\n",
    "        // `self` has to be matched, because the behavior of this method\n",
    "        // depends on the variant of `self`\n",
    "        // `self` has type `&List`, and `*self` has type `List`, matching on a\n",
    "        // concrete type `T` is preferred over a match on a reference `&T`\n",
    "        match *self {\n",
    "            // Can't take ownership of the tail, because `self` is borrowed;\n",
    "            // instead take a reference to the tail\n",
    "            Cons(_, ref tail) => 1 + tail.len(),\n",
    "            // Base Case: An empty list has zero length\n",
    "            Nil => 0\n",
    "        }\n",
    "    }\n",
    "\n",
    "    // Return representation of the list as a (heap allocated) string\n",
    "    fn stringify(&self) -> String {\n",
    "        match *self {\n",
    "            Cons(head, ref tail) => {\n",
    "                // `format!` is similar to `print!`, but returns a heap\n",
    "                // allocated string instead of printing to the console\n",
    "                format!(\"{}, {}\", head, tail.stringify())\n",
    "            },\n",
    "            Nil => {\n",
    "                format!(\"Nil\")\n",
    "            },\n",
    "        }\n",
    "    }\n",
    "}"
   ]
  },
  {
   "cell_type": "code",
   "execution_count": 33,
   "id": "1b569136",
   "metadata": {},
   "outputs": [],
   "source": [
    "fn main() {\n",
    "    // Create an empty linked list\n",
    "    let mut list = List::new();\n",
    "\n",
    "    // Prepend some elements\n",
    "    list = list.prepend(1);\n",
    "    list = list.prepend(2);\n",
    "    list = list.prepend(3);\n",
    "\n",
    "    // Show the final state of the list\n",
    "    println!(\"linked list has length: {}\", list.len());\n",
    "    println!(\"{}\", list.stringify());\n",
    "}"
   ]
  },
  {
   "cell_type": "code",
   "execution_count": 34,
   "id": "c5697f21",
   "metadata": {},
   "outputs": [
    {
     "name": "stdout",
     "output_type": "stream",
     "text": [
      "linked list has length: 3\n",
      "3, 2, 1, Nil\n"
     ]
    },
    {
     "data": {
      "text/plain": [
       "()"
      ]
     },
     "execution_count": 34,
     "metadata": {},
     "output_type": "execute_result"
    }
   ],
   "source": [
    "main()"
   ]
  },
  {
   "cell_type": "code",
   "execution_count": null,
   "id": "6bc3398d",
   "metadata": {},
   "outputs": [],
   "source": []
  }
 ],
 "metadata": {
  "kernelspec": {
   "display_name": "Rust",
   "language": "rust",
   "name": "rust"
  },
  "language_info": {
   "codemirror_mode": "rust",
   "file_extension": ".rs",
   "mimetype": "text/rust",
   "name": "Rust",
   "pygment_lexer": "rust",
   "version": ""
  }
 },
 "nbformat": 4,
 "nbformat_minor": 5
}
