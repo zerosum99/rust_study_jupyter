{
 "cells": [
  {
   "cell_type": "markdown",
   "id": "0e2b2764",
   "metadata": {},
   "source": [
    "## Rc와 Weak 차이점 \n",
    "\n",
    "### Rc \n",
    "- Rc는 참조 카운팅을 통해 런타임에서 소유권을 추적하고 객체가 소멸되는 시점을 결정하는 스마트 포인터입니다. \n",
    "- Rc는 다중 소유권(multiple ownership)을 지원하는 것으로도 알려져 있습니다.\n",
    "\n",
    "### Weak \n",
    "- Weak 포인터는 강한 참조가 아닌 참조자이며, 객체의 소유권을 가지지 않습니다.\n",
    "- 모든 Rc가 해제된 후에도 Weak 포인터는 여전히 유효하게 남아있을 수 있습니다. \n",
    "- 그러나 해당 객체를 직접 참조할 수 없으며, 대신 Weak 포인터를 통해 Rc를 참조할 수 있습니다. \n",
    "- Weak 포인터는 주로 순환 참조(circular references)를 방지하는 용도로 사용됩니다."
   ]
  },
  {
   "cell_type": "markdown",
   "id": "fea05f1c",
   "metadata": {},
   "source": [
    "## 참조 카운팅\n",
    "\n",
    "- Rc는 stack에 있는 데이터를 heap으로 옮겨주는 smart pointer입니다. \n",
    "- 이는 heap에 놓인 데이터를 immutable하게 대여하는 기능을 가진 다른 Rc smart pointer들을 복제할 수 있게 해줍니다.\n",
    "- std::rc::Rc 모듈에서 제공하는 T 타입을 참조하는 불변 포인터로, 여러 개의 소유자가 공유하는 메모리를 사용할 수 있습니다.\n",
    "- 마지막 smart pointer가 drop 될 때에만 heap에 있는 데이터가 할당 해제됩니다."
   ]
  },
  {
   "cell_type": "code",
   "execution_count": 6,
   "id": "f064835d",
   "metadata": {},
   "outputs": [],
   "source": [
    "use std::rc::Rc;"
   ]
  },
  {
   "cell_type": "code",
   "execution_count": 13,
   "id": "135353c4",
   "metadata": {},
   "outputs": [],
   "source": [
    "fn main() {\n",
    "    let heap_1 = Rc::new(100);\n",
    "    let heap_2 = heap_1.clone();\n",
    "    let heap_3 = heap_2.clone();\n",
    "    println!(\"heap 1 ={}\",heap_1);\n",
    "    println!(\"heap 2 ={}\",heap_2);\n",
    "    println!(\"heap 2 ={}\",heap_3);\n",
    "}"
   ]
  },
  {
   "cell_type": "code",
   "execution_count": 12,
   "id": "8abbecba",
   "metadata": {},
   "outputs": [
    {
     "name": "stdout",
     "output_type": "stream",
     "text": [
      "heap 1 =100\n",
      "heap 2 =100\n"
     ]
    }
   ],
   "source": [
    "main();"
   ]
  },
  {
   "cell_type": "markdown",
   "id": "8c971b84",
   "metadata": {},
   "source": [
    "### 구조체를 Rc 처리하기"
   ]
  },
  {
   "cell_type": "code",
   "execution_count": 2,
   "id": "54927d54",
   "metadata": {},
   "outputs": [],
   "source": [
    "use std::rc::Rc;\n",
    "\n",
    "struct Pie;\n",
    "\n",
    "impl Pie {\n",
    "    fn eat(&self) {\n",
    "        println!(\"heap에 있으니 더 맛있습니다!\")\n",
    "    }\n",
    "}\n",
    "\n",
    "fn main() {\n",
    "    let heap_pie = Rc::new(Pie);\n",
    "    let heap_pie2 = heap_pie.clone();\n",
    "    let heap_pie3 = heap_pie2.clone();\n",
    "\n",
    "    heap_pie3.eat();\n",
    "    heap_pie2.eat();\n",
    "    heap_pie.eat();\n",
    "\n",
    "    // 모든 참조 카운트 smart pointer가 여기서 drop 됩니다\n",
    "    // heap 데이터인 Pie가 드디어 할당 해제됩니다\n",
    "}\n"
   ]
  },
  {
   "cell_type": "code",
   "execution_count": 3,
   "id": "4a2390ca",
   "metadata": {},
   "outputs": [
    {
     "name": "stdout",
     "output_type": "stream",
     "text": [
      "heap에 있으니 더 맛있습니다!\n",
      "heap에 있으니 더 맛있습니다!\n",
      "heap에 있으니 더 맛있습니다!\n"
     ]
    }
   ],
   "source": [
    "main();"
   ]
  },
  {
   "cell_type": "markdown",
   "id": "a2b8f5c9",
   "metadata": {},
   "source": [
    "### 구조체를 링크드리스트 처럼 처리하기 "
   ]
  },
  {
   "cell_type": "code",
   "execution_count": 5,
   "id": "fd19d9cf",
   "metadata": {},
   "outputs": [],
   "source": [
    "use std::rc::Rc;\n",
    "\n",
    "struct Node<T> {\n",
    "    value: T,\n",
    "    next: Option<Rc<Node<T>>>,\n",
    "}\n",
    "\n",
    "fn main() {\n",
    "    let node1 = Rc::new(Node { value: 1, next: None });\n",
    "    let node2 = Rc::new(Node { value: 2, next: Some(node1.clone()) });\n",
    "    let node3 = Rc::new(Node { value: 3, next: Some(node2.clone()) });\n",
    "\n",
    "    println!(\"Value of node1: {}\", node1.value);\n",
    "    println!(\"Value of node2: {}\", node2.value);\n",
    "    println!(\"Value of node3: {}\", node3.value);\n",
    "\n",
    "    match &node3.next {\n",
    "        Some(node2_ref) => {\n",
    "            println!(\"Value of node2 in node3: {}\", node2_ref.value);\n",
    "            match &node2_ref.next {\n",
    "                Some(node1_ref) => {\n",
    "                    println!(\"Value of node1 in node2: {}\", node1_ref.value);\n",
    "                },\n",
    "                None => println!(\"End of the list.\"),\n",
    "            }\n",
    "        },\n",
    "        None => println!(\"End of the list.\"),\n",
    "    }\n",
    "}"
   ]
  },
  {
   "cell_type": "code",
   "execution_count": 3,
   "id": "46cbbdc8",
   "metadata": {},
   "outputs": [
    {
     "name": "stdout",
     "output_type": "stream",
     "text": [
      "Value of node1: 1\n",
      "Value of node2: 2\n",
      "Value of node3: 3\n",
      "Value of node2 in node3: 2\n",
      "Value of node1 in node2: 1\n"
     ]
    }
   ],
   "source": [
    "main();"
   ]
  },
  {
   "cell_type": "code",
   "execution_count": null,
   "id": "8122be4f",
   "metadata": {},
   "outputs": [],
   "source": []
  },
  {
   "cell_type": "code",
   "execution_count": null,
   "id": "a9153f1f",
   "metadata": {},
   "outputs": [],
   "source": []
  },
  {
   "cell_type": "code",
   "execution_count": 14,
   "id": "9c805b02",
   "metadata": {},
   "outputs": [],
   "source": [
    "use std::rc::{Rc, Weak};\n",
    "use std::cell::RefCell;\n",
    "\n",
    "struct Node<T> {\n",
    "    value: T,\n",
    "    next: Option<Rc<RefCell<Node<T>>>>,\n",
    "    prev: Option<Weak<RefCell<Node<T>>>>,\n",
    "}\n",
    "\n",
    "impl<T> Node<T> {\n",
    "    fn new(value: T) -> Rc<RefCell<Self>> {\n",
    "        let node = Rc::new(RefCell::new(Node {\n",
    "            value: value,\n",
    "            next: None,\n",
    "            prev: None,\n",
    "        }));\n",
    "        let weak = Rc::downgrade(&node);\n",
    "        node.borrow_mut().prev = Some(weak);\n",
    "        node\n",
    "    }\n",
    "}"
   ]
  },
  {
   "cell_type": "code",
   "execution_count": 16,
   "id": "7f11b5dc",
   "metadata": {},
   "outputs": [
    {
     "ename": "Error",
     "evalue": "no field `next` on type `Rc<RefCell<Node<{integer}>>>`",
     "output_type": "error",
     "traceback": [
      "\u001b[31m[E0609] Error:\u001b[0m no field `next` on type `Rc<RefCell<Node<{integer}>>>`",
      "    \u001b[38;5;246m╭\u001b[0m\u001b[38;5;246m─\u001b[0m\u001b[38;5;246m[\u001b[0mcommand_16:1:1\u001b[38;5;246m]\u001b[0m",
      "    \u001b[38;5;246m│\u001b[0m",
      " \u001b[38;5;246m14 │\u001b[0m \u001b[38;5;249m \u001b[0m\u001b[38;5;249m \u001b[0m\u001b[38;5;249m \u001b[0m\u001b[38;5;249m \u001b[0m\u001b[38;5;249mm\u001b[0m\u001b[38;5;249ma\u001b[0m\u001b[38;5;249mt\u001b[0m\u001b[38;5;249mc\u001b[0m\u001b[38;5;249mh\u001b[0m\u001b[38;5;249m \u001b[0m\u001b[38;5;249m&\u001b[0m\u001b[38;5;249mn\u001b[0m\u001b[38;5;249mo\u001b[0m\u001b[38;5;249md\u001b[0m\u001b[38;5;249me\u001b[0m\u001b[38;5;249m1\u001b[0m\u001b[38;5;249m.\u001b[0m\u001b[38;5;54mn\u001b[0m\u001b[38;5;54me\u001b[0m\u001b[38;5;54mx\u001b[0m\u001b[38;5;54mt\u001b[0m\u001b[38;5;249m \u001b[0m\u001b[38;5;249m{\u001b[0m",
      " \u001b[38;5;246m   ·\u001b[0m                  \u001b[38;5;54m─\u001b[0m\u001b[38;5;54m─\u001b[0m\u001b[38;5;54m┬\u001b[0m\u001b[38;5;54m─\u001b[0m  ",
      " \u001b[38;5;246m   ·\u001b[0m                    \u001b[38;5;54m╰\u001b[0m\u001b[38;5;54m─\u001b[0m\u001b[38;5;54m─\u001b[0m\u001b[38;5;54m─\u001b[0m unknown field",
      "\u001b[38;5;246m────╯\u001b[0m"
     ]
    }
   ],
   "source": [
    "fn main() {\n",
    "    let node1 = Node::new(1);\n",
    "    let node2 = Node::new(2);\n",
    "    let node3 = Node::new(3);\n",
    "\n",
    "    node1.borrow_mut().next = Some(node2.clone());\n",
    "    node2.borrow_mut().next = Some(node3.clone());\n",
    "    node3.borrow_mut().next = Some(node1.clone());\n",
    "\n",
    "    println!(\"Value of node1: {}\", node1.borrow().value);\n",
    "    println!(\"Value of node2: {}\", node2.borrow().value);\n",
    "    println!(\"Value of node3: {}\", node3.borrow().value);\n",
    "\n",
    "    match &node1.borrow().next {\n",
    "        Some(node2_ref) => {\n",
    "            println!(\"Value of node2 in node1: {}\", node2_ref.borrow().value);\n",
    "            match &node2_ref.borrow().next {\n",
    "                Some(node3_ref) => {\n",
    "                    println!(\"Value of node3 in node2: {}\", node3_ref.borrow().value);\n",
    "                    match &node3_ref.borrow().next {\n",
    "                        Some(node1_ref) => {\n",
    "                            println!(\"Value of node1 in node3: {}\", node1_ref.borrow().value);\n",
    "                        },\n",
    "                        None => println!(\"End of the list.\"),\n",
    "                    }\n",
    "                },\n",
    "                None => println!(\"End of the list.\"),\n",
    "            }\n",
    "        },\n",
    "        None => println!(\"End of the list.\"),\n",
    "    }\n",
    "}\n"
   ]
  },
  {
   "cell_type": "code",
   "execution_count": null,
   "id": "c4e1e377",
   "metadata": {},
   "outputs": [],
   "source": []
  }
 ],
 "metadata": {
  "kernelspec": {
   "display_name": "Rust",
   "language": "rust",
   "name": "rust"
  },
  "language_info": {
   "codemirror_mode": "rust",
   "file_extension": ".rs",
   "mimetype": "text/rust",
   "name": "Rust",
   "pygment_lexer": "rust",
   "version": ""
  }
 },
 "nbformat": 4,
 "nbformat_minor": 5
}
