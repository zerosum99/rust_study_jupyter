{
 "cells": [
  {
   "cell_type": "markdown",
   "id": "d827a847",
   "metadata": {},
   "source": [
    "## 참고자료 \n",
    "\n",
    "https://levelup.gitconnected.com/rust-box-type-explained-99f373802138"
   ]
  },
  {
   "cell_type": "code",
   "execution_count": null,
   "id": "af6b39c4",
   "metadata": {},
   "outputs": [],
   "source": []
  },
  {
   "cell_type": "markdown",
   "id": "0422b5fb",
   "metadata": {},
   "source": [
    "##  Box 스마트 포인터 \n",
    "\n",
    "\n",
    "- 컴파일 시간에 크기를 알 수 없는 유형이 있고 정확한 크기가 필요한 컨텍스트에서 해당 유형의 값을 사용하려는 경우\n",
    "- 많은 양의 데이터가 있고 소유권을 이전하고 싶지만 그렇게 할 때 데이터가 복사되지 않도록 할 때\n",
    "- 값을 소유하고 싶고 특정 유형이 아닌 특정 특성을 구현하는 유형이라는 점에만 관심이 있는 경우"
   ]
  },
  {
   "cell_type": "code",
   "execution_count": null,
   "id": "b9407b09",
   "metadata": {},
   "outputs": [],
   "source": []
  },
  {
   "cell_type": "code",
   "execution_count": 11,
   "id": "8121600e",
   "metadata": {},
   "outputs": [],
   "source": [
    "fn main() {\n",
    "    let my_box = Box::new(1); // This is a Box<i32>\n",
    "    let an_integer = *my_box; // This is an i32\n",
    "    println!(\"{:?}\", my_box);\n",
    "    println!(\"{:?}\", an_integer);\n",
    "    let b = an_integer + 100;\n",
    "    println!(\"{:?}\", b);\n",
    "}"
   ]
  },
  {
   "cell_type": "code",
   "execution_count": 12,
   "id": "6cc25ae2",
   "metadata": {},
   "outputs": [
    {
     "name": "stdout",
     "output_type": "stream",
     "text": [
      "1\n",
      "1\n",
      "101\n"
     ]
    },
    {
     "data": {
      "text/plain": [
       "()"
      ]
     },
     "execution_count": 12,
     "metadata": {},
     "output_type": "execute_result"
    }
   ],
   "source": [
    "main()"
   ]
  },
  {
   "cell_type": "code",
   "execution_count": null,
   "id": "a6356d9a",
   "metadata": {},
   "outputs": [],
   "source": []
  },
  {
   "cell_type": "markdown",
   "id": "eec4ad13",
   "metadata": {},
   "source": [
    "## 1. Dynamically-Sized Types\n",
    "\n",
    "- Box 타입의 주요 이점 중 하나는 동적 크기 타입(DST)의 값을 힙에 저장할 수 있다는 점입니다. \n",
    "- DST는 str 또는 [T]와 같이 컴파일 시점에 크기를 알 수 없는 타입입니다. 컴파일 시점에 DST의 크기를 알 수 없으므로 스택에 저장할 수 없습니다. \n",
    "- 대신 Box와 같은 스마트 포인터를 사용하여 힙에 저장해야 합니다.\n"
   ]
  },
  {
   "cell_type": "code",
   "execution_count": 2,
   "id": "d1419961",
   "metadata": {},
   "outputs": [],
   "source": [
    "fn main() {\n",
    "    let s = Box::new(\"hello\");\n",
    "    println!(\"s = {}\", s);\n",
    "}"
   ]
  },
  {
   "cell_type": "code",
   "execution_count": 3,
   "id": "fdac5bec",
   "metadata": {},
   "outputs": [
    {
     "name": "stdout",
     "output_type": "stream",
     "text": [
      "s = hello\n"
     ]
    },
    {
     "data": {
      "text/plain": [
       "()"
      ]
     },
     "execution_count": 3,
     "metadata": {},
     "output_type": "execute_result"
    }
   ],
   "source": [
    "main()"
   ]
  },
  {
   "cell_type": "code",
   "execution_count": null,
   "id": "894d7523",
   "metadata": {},
   "outputs": [],
   "source": []
  },
  {
   "cell_type": "markdown",
   "id": "4ff83b9b",
   "metadata": {},
   "source": [
    "## 2. 소유권과 빌림\n",
    "\n",
    "- 박스 타입의 또 다른 장점은 변수와 함수 간에 값의 소유권을 이전할 수 있다는 것입니다. \n",
    "- Rust에서 소유권은 누가 언제 메모리를 할당 해제할 책임이 있는지 결정하는 핵심 개념입니다. \n",
    "- Box 타입을 사용하면 Box 인스턴스를 변수와 함수 간에 이동하여 Box 인스턴스에 저장된 값의 소유권을 이전할 수 있습니다.\n"
   ]
  },
  {
   "cell_type": "markdown",
   "id": "40a5f098",
   "metadata": {},
   "source": [
    "### 소유권 이동 후에 변수 사용하면 에러"
   ]
  },
  {
   "cell_type": "code",
   "execution_count": 4,
   "id": "b4b061ba",
   "metadata": {},
   "outputs": [
    {
     "ename": "Error",
     "evalue": "borrow of moved value: `a`",
     "output_type": "error",
     "traceback": [
      "\u001b[31m[E0382] Error:\u001b[0m borrow of moved value: `a`",
      "   \u001b[38;5;246m╭\u001b[0m\u001b[38;5;246m─\u001b[0m\u001b[38;5;246m[\u001b[0mcommand_4:1:1\u001b[38;5;246m]\u001b[0m",
      "   \u001b[38;5;246m│\u001b[0m",
      " \u001b[38;5;246m2 │\u001b[0m \u001b[38;5;249m \u001b[0m\u001b[38;5;249m \u001b[0m\u001b[38;5;249m \u001b[0m\u001b[38;5;249m \u001b[0m\u001b[38;5;249ml\u001b[0m\u001b[38;5;249me\u001b[0m\u001b[38;5;249mt\u001b[0m\u001b[38;5;249m \u001b[0m\u001b[38;5;68ma\u001b[0m\u001b[38;5;249m \u001b[0m\u001b[38;5;249m=\u001b[0m\u001b[38;5;249m \u001b[0m\u001b[38;5;249mB\u001b[0m\u001b[38;5;249mo\u001b[0m\u001b[38;5;249mx\u001b[0m\u001b[38;5;249m:\u001b[0m\u001b[38;5;249m:\u001b[0m\u001b[38;5;249mn\u001b[0m\u001b[38;5;249me\u001b[0m\u001b[38;5;249mw\u001b[0m\u001b[38;5;249m(\u001b[0m\u001b[38;5;249m5\u001b[0m\u001b[38;5;249m)\u001b[0m\u001b[38;5;249m;\u001b[0m",
      " \u001b[38;5;246m  ·\u001b[0m         \u001b[38;5;68m┬\u001b[0m  ",
      " \u001b[38;5;246m  ·\u001b[0m         \u001b[38;5;68m╰\u001b[0m\u001b[38;5;68m─\u001b[0m\u001b[38;5;68m─\u001b[0m move occurs because `a` has type `Box<i32>`, which does not implement the `Copy` trait",
      " \u001b[38;5;246m3 │\u001b[0m \u001b[38;5;249m \u001b[0m\u001b[38;5;249m \u001b[0m\u001b[38;5;249m \u001b[0m\u001b[38;5;249m \u001b[0m\u001b[38;5;249ml\u001b[0m\u001b[38;5;249me\u001b[0m\u001b[38;5;249mt\u001b[0m\u001b[38;5;249m \u001b[0m\u001b[38;5;249mb\u001b[0m\u001b[38;5;249m \u001b[0m\u001b[38;5;249m=\u001b[0m\u001b[38;5;249m \u001b[0m\u001b[38;5;54ma\u001b[0m\u001b[38;5;249m;\u001b[0m",
      " \u001b[38;5;246m  ·\u001b[0m             \u001b[38;5;54m┬\u001b[0m  ",
      " \u001b[38;5;246m  ·\u001b[0m             \u001b[38;5;54m╰\u001b[0m\u001b[38;5;54m─\u001b[0m\u001b[38;5;54m─\u001b[0m value moved here",
      " \u001b[38;5;246m4 │\u001b[0m \u001b[38;5;249m \u001b[0m\u001b[38;5;249m \u001b[0m\u001b[38;5;249m \u001b[0m\u001b[38;5;249m \u001b[0m\u001b[38;5;249mp\u001b[0m\u001b[38;5;249mr\u001b[0m\u001b[38;5;249mi\u001b[0m\u001b[38;5;249mn\u001b[0m\u001b[38;5;249mt\u001b[0m\u001b[38;5;249ml\u001b[0m\u001b[38;5;249mn\u001b[0m\u001b[38;5;249m!\u001b[0m\u001b[38;5;249m(\u001b[0m\u001b[38;5;249m\"\u001b[0m\u001b[38;5;249ma\u001b[0m\u001b[38;5;249m \u001b[0m\u001b[38;5;249m=\u001b[0m\u001b[38;5;249m \u001b[0m\u001b[38;5;249m{\u001b[0m\u001b[38;5;249m}\u001b[0m\u001b[38;5;249m\"\u001b[0m\u001b[38;5;249m,\u001b[0m\u001b[38;5;249m \u001b[0m\u001b[38;5;100ma\u001b[0m\u001b[38;5;249m)\u001b[0m\u001b[38;5;249m;\u001b[0m\u001b[38;5;249m \u001b[0m\u001b[38;5;249m/\u001b[0m\u001b[38;5;249m/\u001b[0m\u001b[38;5;249m \u001b[0m\u001b[38;5;249me\u001b[0m\u001b[38;5;249mr\u001b[0m\u001b[38;5;249mr\u001b[0m\u001b[38;5;249mo\u001b[0m\u001b[38;5;249mr\u001b[0m\u001b[38;5;249m:\u001b[0m\u001b[38;5;249m \u001b[0m\u001b[38;5;249mu\u001b[0m\u001b[38;5;249ms\u001b[0m\u001b[38;5;249me\u001b[0m\u001b[38;5;249m \u001b[0m\u001b[38;5;249mo\u001b[0m\u001b[38;5;249mf\u001b[0m\u001b[38;5;249m \u001b[0m\u001b[38;5;249mm\u001b[0m\u001b[38;5;249mo\u001b[0m\u001b[38;5;249mv\u001b[0m\u001b[38;5;249me\u001b[0m\u001b[38;5;249md\u001b[0m\u001b[38;5;249m \u001b[0m\u001b[38;5;249mv\u001b[0m\u001b[38;5;249ma\u001b[0m\u001b[38;5;249ml\u001b[0m\u001b[38;5;249mu\u001b[0m\u001b[38;5;249me\u001b[0m",
      " \u001b[38;5;246m  ·\u001b[0m                        \u001b[38;5;100m┬\u001b[0m  ",
      " \u001b[38;5;246m  ·\u001b[0m                        \u001b[38;5;100m╰\u001b[0m\u001b[38;5;100m─\u001b[0m\u001b[38;5;100m─\u001b[0m value borrowed here after move",
      "\u001b[38;5;246m───╯\u001b[0m"
     ]
    }
   ],
   "source": [
    "fn main() {\n",
    "    let a = Box::new(5);\n",
    "    let b = a;\n",
    "    println!(\"a = {}\", a); // error: use of moved value\n",
    "    println!(\"b = {}\", b);\n",
    "}"
   ]
  },
  {
   "cell_type": "markdown",
   "id": "06707f43",
   "metadata": {},
   "source": [
    "### 소유권이동 후에는 사용하지 않는다"
   ]
  },
  {
   "cell_type": "code",
   "execution_count": 20,
   "id": "3a10833b",
   "metadata": {},
   "outputs": [],
   "source": [
    "fn main() {\n",
    "    let a = Box::new(5);\n",
    "    let b = a;\n",
    "    //println!(\"a = {}\", a); // error: use of moved value\n",
    "    println!(\"b = {}\", b);\n",
    "}"
   ]
  },
  {
   "cell_type": "code",
   "execution_count": 21,
   "id": "1e58b40d",
   "metadata": {},
   "outputs": [
    {
     "name": "stdout",
     "output_type": "stream",
     "text": [
      "b = 5\n"
     ]
    },
    {
     "data": {
      "text/plain": [
       "()"
      ]
     },
     "execution_count": 21,
     "metadata": {},
     "output_type": "execute_result"
    }
   ],
   "source": [
    "main()"
   ]
  },
  {
   "cell_type": "code",
   "execution_count": null,
   "id": "564dc6ff",
   "metadata": {},
   "outputs": [],
   "source": []
  },
  {
   "cell_type": "markdown",
   "id": "f7ffc98a",
   "metadata": {},
   "source": [
    "## 3. When to Use Box\n",
    "\n",
    "- 스택의 공간을 절약하기 위해 힙에 저장하려는 큰 값이 있습니다.\n",
    "- 현재 함수의 수명을 초과하는 수명을 가진 값이 있으며 현재 범위 밖으로 '이동'해야 하는 경우.\n",
    "- 동적 디스패치가 필요하고 힙에 저장해야 하는 특성 객체 유형의 값이 있습니다.\n",
    "- 링크된 목록과 같은 재귀적 데이터 구조가 있어 스택 오버플로를 유발할 수 있습니다."
   ]
  },
  {
   "cell_type": "markdown",
   "id": "28bdf565",
   "metadata": {},
   "source": [
    "## 3-1 스택에서 힙으로 저장, 참조, 역참조 사용"
   ]
  },
  {
   "cell_type": "code",
   "execution_count": 6,
   "id": "a9dce657",
   "metadata": {},
   "outputs": [],
   "source": [
    "fn main() {\n",
    "    let x = Box::new(5);\n",
    "    let y = &x;\n",
    "    let z = *x + 100; // 정수값  5 + 100\n",
    "    \n",
    "    println!(\"x={}, y={}, z={}\", x, y,z);\n",
    "}"
   ]
  },
  {
   "cell_type": "code",
   "execution_count": 7,
   "id": "d98ae4a0",
   "metadata": {},
   "outputs": [
    {
     "name": "stdout",
     "output_type": "stream",
     "text": [
      "x=5, y=5, z=105\n"
     ]
    },
    {
     "data": {
      "text/plain": [
       "()"
      ]
     },
     "execution_count": 7,
     "metadata": {},
     "output_type": "execute_result"
    }
   ],
   "source": [
    "main()"
   ]
  },
  {
   "cell_type": "markdown",
   "id": "8606f40b",
   "metadata": {},
   "source": [
    "### 역참조 함수를 사용해서 처리 "
   ]
  },
  {
   "cell_type": "code",
   "execution_count": 8,
   "id": "2c653f71",
   "metadata": {},
   "outputs": [],
   "source": [
    "fn main() {\n",
    "    let x = Box::new(5);\n",
    "    let y = std::ops::Deref::deref(&x);\n",
    "    println!(\"{}\", y);\n",
    "}"
   ]
  },
  {
   "cell_type": "code",
   "execution_count": 9,
   "id": "f1d4d743",
   "metadata": {},
   "outputs": [
    {
     "name": "stdout",
     "output_type": "stream",
     "text": [
      "5\n"
     ]
    },
    {
     "data": {
      "text/plain": [
       "()"
      ]
     },
     "execution_count": 9,
     "metadata": {},
     "output_type": "execute_result"
    }
   ],
   "source": [
    "main()"
   ]
  },
  {
   "cell_type": "markdown",
   "id": "ddf22a6a",
   "metadata": {},
   "source": [
    "### 복제해서 처리하기 "
   ]
  },
  {
   "cell_type": "code",
   "execution_count": 10,
   "id": "1ee30269",
   "metadata": {},
   "outputs": [],
   "source": [
    "fn main() {\n",
    "    let x = Box::new(5);\n",
    "    let y = x.clone();\n",
    "    println!(\"{:?} = {:?}\", x, y);\n",
    "}"
   ]
  },
  {
   "cell_type": "code",
   "execution_count": 11,
   "id": "205d3acd",
   "metadata": {},
   "outputs": [
    {
     "name": "stdout",
     "output_type": "stream",
     "text": [
      "5 = 5\n"
     ]
    },
    {
     "data": {
      "text/plain": [
       "()"
      ]
     },
     "execution_count": 11,
     "metadata": {},
     "output_type": "execute_result"
    }
   ],
   "source": [
    "main()"
   ]
  },
  {
   "cell_type": "markdown",
   "id": "378c22b3",
   "metadata": {},
   "source": [
    "## 3-2 Box`를 사용하여 힙의 데이터 가리키기\n",
    "\n",
    "- Box의 가장 일반적인 용도 중 하나는 힙에 있는 데이터를 가리키는 포인터를 만드는 것입니다. \n",
    "- 힙의 데이터를 가리키는 Box를 생성할 때는 Box가 범위를 벗어날 때 데이터가 올바르게 할당 해제되도록 해야 합니다."
   ]
  },
  {
   "cell_type": "code",
   "execution_count": 12,
   "id": "51fd52ca",
   "metadata": {},
   "outputs": [],
   "source": [
    "fn main() {\n",
    "    let b = Box::new(\"hello\".to_string());\n",
    "    println!(\"{}\", b);\n",
    "}"
   ]
  },
  {
   "cell_type": "code",
   "execution_count": 13,
   "id": "cab200bc",
   "metadata": {},
   "outputs": [
    {
     "name": "stdout",
     "output_type": "stream",
     "text": [
      "hello\n"
     ]
    },
    {
     "data": {
      "text/plain": [
       "()"
      ]
     },
     "execution_count": 13,
     "metadata": {},
     "output_type": "execute_result"
    }
   ],
   "source": [
    "main()"
   ]
  },
  {
   "cell_type": "code",
   "execution_count": null,
   "id": "1848a4e2",
   "metadata": {},
   "outputs": [],
   "source": []
  },
  {
   "cell_type": "markdown",
   "id": "0a3b4a42",
   "metadata": {},
   "source": [
    "## 3-3 Box`를 사용하여 재귀적 데이터 구조에 데이터 저장하기\n",
    "\n",
    "- Box의 또 다른 일반적인 용도는 링크된 목록이나 이진 트리와 같은 재귀적 데이터 구조에 데이터를 저장하는 것입니다. \n",
    "- 재귀 구조의 데이터 크기는 컴파일 시점에 알 수 없으므로 구조에 데이터를 직접 포함하지 않고 포인터를 사용하여 힙에 저장해야 합니다."
   ]
  },
  {
   "cell_type": "code",
   "execution_count": null,
   "id": "83eb0098",
   "metadata": {},
   "outputs": [],
   "source": []
  },
  {
   "cell_type": "code",
   "execution_count": 16,
   "id": "31f10323",
   "metadata": {},
   "outputs": [],
   "source": [
    "enum List {\n",
    "    Cons(i32, Box<List>),\n",
    "    Nil,\n",
    "}\n",
    "\n",
    "//use List::{Cons, Nil};\n",
    "\n",
    "fn main() {\n",
    "    let list = Cons(1, Box::new(Cons(2, Box::new(Cons(3, Box::new(Nil))))));\n",
    "}"
   ]
  },
  {
   "cell_type": "code",
   "execution_count": 17,
   "id": "d717998c",
   "metadata": {},
   "outputs": [
    {
     "data": {
      "text/plain": [
       "()"
      ]
     },
     "execution_count": 17,
     "metadata": {},
     "output_type": "execute_result"
    }
   ],
   "source": [
    "main()"
   ]
  },
  {
   "cell_type": "code",
   "execution_count": null,
   "id": "088a5cba",
   "metadata": {},
   "outputs": [],
   "source": []
  },
  {
   "cell_type": "markdown",
   "id": "2dd7b420",
   "metadata": {},
   "source": [
    "## 3-4 Box`를 사용하여 벡터에 데이터 저장하기\n",
    "- Box를 사용하여 데이터를 벡터에 저장하여 서로 다른 유형의 데이터를 동일한 벡터에 저장할 수도 있습니다. \n",
    "- 이 기능은 이질적인 데이터 컬렉션을 저장하고 싶지만 Vec<Any>와 같은 더 복잡한 데이터 구조를 사용하고 싶지 않을 때 유용합니다."
   ]
  },
  {
   "cell_type": "code",
   "execution_count": 18,
   "id": "242bee35",
   "metadata": {},
   "outputs": [],
   "source": [
    "fn main() {\n",
    "    let v: Vec<Box<dyn std::fmt::Debug>> = vec![\n",
    "        Box::new(1),\n",
    "        Box::new(\"hello\"),\n",
    "        Box::new(vec![1, 2, 3]),\n",
    "    ];\n",
    "\n",
    "    for item in &v {\n",
    "        println!(\"{:?}\", item);\n",
    "    }\n",
    "}"
   ]
  },
  {
   "cell_type": "code",
   "execution_count": 19,
   "id": "fcb986a2",
   "metadata": {},
   "outputs": [
    {
     "name": "stdout",
     "output_type": "stream",
     "text": [
      "1\n",
      "\"hello\"\n",
      "[1, 2, 3]\n"
     ]
    },
    {
     "data": {
      "text/plain": [
       "()"
      ]
     },
     "execution_count": 19,
     "metadata": {},
     "output_type": "execute_result"
    }
   ],
   "source": [
    "main()"
   ]
  },
  {
   "cell_type": "code",
   "execution_count": null,
   "id": "33f11f02",
   "metadata": {},
   "outputs": [],
   "source": []
  },
  {
   "cell_type": "code",
   "execution_count": null,
   "id": "e5672060",
   "metadata": {},
   "outputs": [],
   "source": []
  },
  {
   "cell_type": "code",
   "execution_count": null,
   "id": "75286da5",
   "metadata": {},
   "outputs": [],
   "source": []
  }
 ],
 "metadata": {
  "kernelspec": {
   "display_name": "Rust",
   "language": "rust",
   "name": "rust"
  },
  "language_info": {
   "codemirror_mode": "rust",
   "file_extension": ".rs",
   "mimetype": "text/rust",
   "name": "Rust",
   "pygment_lexer": "rust",
   "version": ""
  }
 },
 "nbformat": 4,
 "nbformat_minor": 5
}
