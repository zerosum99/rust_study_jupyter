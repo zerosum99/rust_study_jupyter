{
 "cells": [
  {
   "cell_type": "code",
   "execution_count": null,
   "id": "de510f46",
   "metadata": {},
   "outputs": [],
   "source": []
  },
  {
   "cell_type": "markdown",
   "id": "13d59322",
   "metadata": {},
   "source": [
    "## 1. 스마트 포인터 \n",
    "\n",
    "- 스마트 포인터는 포인터처럼 작동하지만 추가적인 메타데이터와 기능을 가진 데이터 구조입니다. \n",
    "\n",
    "###  스마트 포인터의 종류\n",
    "\n",
    "- Box<T>: 이 유형은 힙에 T 타입의 값을 저장합니다. 큰 값이나 현재 범위보다 오래 지속되어야 하는 값을 저장할 때 유용합니다.\n",
    "- Rc<T>: 이 타입은 T 타입의 값에 대한 참조 카운트 포인터를 저장합니다. 여러 객체 간에 값의 소유권을 공유할 때 유용합니다.\n",
    "- Weak<T>: 이 타입은 T 타입의 값에 대한 약한 참조를 저장합니다. 값의 소유권을 가지지 않고 값의 수명을 추적하는 데 유용합니다.\n",
    "    \n",
    "- Ref<T>및 RefMut<T>을 통해 액세스되며 RefCell<T>컴파일 시간 대신 런타임에 차용 규칙을 적용하는 유형입니다.\n"
   ]
  },
  {
   "cell_type": "markdown",
   "id": "b7161d1a",
   "metadata": {},
   "source": [
    "## 스마트 포인터 구성 \n",
    "\n",
    "- 스마트 포인터는 일반적으로 구조체를 사용하여 구현됩니다. \n",
    "- 일반 구조체와 달리 스마트 포인터는 디레프 및 드롭 특성을 구현합니다.\n",
    "- Deref 특성을 사용하면 스마트 포인터 구조체의 인스턴스가 참조처럼 동작할 수 있으므로 참조 또는 스마트 포인터와 함께 작동하도록 코드를 작성할 수 있습니다. \n",
    "- Drop 특성을 사용하면 스마트 포인터의 인스턴스가 범위를 벗어날 때 실행되는 코드를 사용자 정의할 수 있습니다. "
   ]
  },
  {
   "cell_type": "markdown",
   "id": "f8b30786",
   "metadata": {},
   "source": [
    "## 참조와 스마트 포인터의 차이점 \n",
    "\n",
    "- 참조는 데이터를 빌리ㅁ(대여)\n",
    "- 스마트 포인터는 자신이 가리키는 데이터를 소유 "
   ]
  },
  {
   "cell_type": "markdown",
   "id": "928c28f9",
   "metadata": {},
   "source": [
    "## 스마트 포인터의 예시 \n",
    "\n",
    "- String과 Vec<T>를 포함해 몇 가지 스마트 포인터     \n",
    "- 힙에 값을 할당하기 위한 Box<T>\n",
    "- 다중 소유권을 가능하게 하는 참조 계수 유형인 Rc<T>\n",
    "- 컴파일 타임이 아닌 런타임에 차용 규칙을 적용하는 유형인 RefCell<T>를 통해 액세스하는 Ref<T> 및 RefMut<T>.\n"
   ]
  },
  {
   "cell_type": "code",
   "execution_count": null,
   "id": "2987e699",
   "metadata": {},
   "outputs": [],
   "source": []
  },
  {
   "cell_type": "markdown",
   "id": "b370020e",
   "metadata": {},
   "source": [
    "## 2. 값에 대한 포인터 \n",
    "\n",
    "- 러스트에서는 참조를 통해서 포인터를 알 수 있습니다. "
   ]
  },
  {
   "cell_type": "markdown",
   "id": "02a0ef6e",
   "metadata": {},
   "source": [
    "### 값에 대한 포인터를 참조로 접근하기"
   ]
  },
  {
   "cell_type": "code",
   "execution_count": 2,
   "id": "5a73bd77",
   "metadata": {},
   "outputs": [],
   "source": [
    "fn main() {\n",
    "    let x = 5;\n",
    "    let y = &x;\n",
    "\n",
    "    assert_eq!(5, x);\n",
    "    assert_eq!(5, *y);\n",
    "    \n",
    "    println!(\"{:p}\", &x);\n",
    "    println!(\"{:p}\", y);\n",
    "    println!(\"{}\", std::ptr::eq(&x,y));  // 포인터 확인 \n",
    "}"
   ]
  },
  {
   "cell_type": "code",
   "execution_count": 3,
   "id": "6f622c54",
   "metadata": {},
   "outputs": [
    {
     "name": "stdout",
     "output_type": "stream",
     "text": [
      "0x16d8a2abc\n",
      "0x16d8a2abc\n",
      "true\n"
     ]
    }
   ],
   "source": [
    "main();"
   ]
  },
  {
   "cell_type": "markdown",
   "id": "8917887e",
   "metadata": {},
   "source": [
    "## 3. 스마트 포인터  사용해보기\n",
    "\n",
    "- Box를 사용해서 힙에 데이터를 저장하고 그 포인터를 스택에 저장 "
   ]
  },
  {
   "cell_type": "code",
   "execution_count": 12,
   "id": "a8e640e6",
   "metadata": {},
   "outputs": [],
   "source": [
    "fn main() {\n",
    "    let x = 5;\n",
    "    let y = Box::new(x);\n",
    "\n",
    "    assert_eq!(5, x);\n",
    "    assert_eq!(5, *y);\n",
    "    println!(\"x변수의 포인터 {:p}\", &x);\n",
    "    println!(\"스마트 포인터를 역참조해서 값 가져오기 {}\", *y);\n",
    "    println!(\"스마트 포인터가 가리키는 포인터 {:p}\", &*y);\n",
    "    println!(\"y 변수의 포인터 {:p}\", &y);\n",
    "    println!(\"{}\", std::ptr::eq(&x,&*y));\n",
    "}"
   ]
  },
  {
   "cell_type": "code",
   "execution_count": 13,
   "id": "866f14eb",
   "metadata": {},
   "outputs": [
    {
     "name": "stdout",
     "output_type": "stream",
     "text": [
      "x변수의 포인터 0x16d8a2abc\n",
      "스마트 포인터를 역참조해서 값 가져오기 5\n",
      "스마트 포인터가 가리키는 포인터 0x600002024000\n",
      "y 변수의 포인터 0x16d8a2ac0\n",
      "false\n"
     ]
    }
   ],
   "source": [
    "main();"
   ]
  },
  {
   "cell_type": "code",
   "execution_count": null,
   "id": "f503cdeb",
   "metadata": {},
   "outputs": [],
   "source": []
  },
  {
   "cell_type": "markdown",
   "id": "2d6bdc23",
   "metadata": {},
   "source": [
    "## 4. 스마트 포인터의 쓰임 "
   ]
  },
  {
   "cell_type": "markdown",
   "id": "6edcf138",
   "metadata": {},
   "source": [
    "## 힙에 메모리 사이즈 큰 값을 저장"
   ]
  },
  {
   "cell_type": "code",
   "execution_count": 29,
   "id": "3d9d3a13",
   "metadata": {},
   "outputs": [],
   "source": [
    "let large_value = vec![1, 2, 3, 4, 5];\n",
    "let boxed_large_value = Box::new(large_value);"
   ]
  },
  {
   "cell_type": "code",
   "execution_count": null,
   "id": "2f3a156b",
   "metadata": {},
   "outputs": [],
   "source": []
  },
  {
   "cell_type": "code",
   "execution_count": null,
   "id": "a9125753",
   "metadata": {},
   "outputs": [],
   "source": []
  }
 ],
 "metadata": {
  "kernelspec": {
   "display_name": "Rust",
   "language": "rust",
   "name": "rust"
  },
  "language_info": {
   "codemirror_mode": "rust",
   "file_extension": ".rs",
   "mimetype": "text/rust",
   "name": "Rust",
   "pygment_lexer": "rust",
   "version": ""
  }
 },
 "nbformat": 4,
 "nbformat_minor": 5
}
