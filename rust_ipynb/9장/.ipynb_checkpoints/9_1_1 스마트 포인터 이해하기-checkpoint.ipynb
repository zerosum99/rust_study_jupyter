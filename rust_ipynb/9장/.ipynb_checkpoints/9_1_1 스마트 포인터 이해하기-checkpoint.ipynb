{
 "cells": [
  {
   "cell_type": "code",
   "execution_count": null,
   "id": "de510f46",
   "metadata": {},
   "outputs": [],
   "source": []
  },
  {
   "cell_type": "markdown",
   "id": "13d59322",
   "metadata": {},
   "source": [
    "## 1. 스마트 포인터 \n",
    "\n",
    "- 스마트 포인터는 포인터처럼 작동하지만 추가적인 메타데이터와 기능을 가진 데이터 구조입니다. \n",
    "\n",
    "- Box<T>: 이 유형은 힙에 T 타입의 값을 저장합니다. 큰 값이나 현재 범위보다 오래 지속되어야 하는 값을 저장할 때 유용합니다.\n",
    "- Rc<T>: 이 타입은 T 타입의 값에 대한 참조 카운트 포인터를 저장합니다. 여러 객체 간에 값의 소유권을 공유할 때 유용합니다.\n",
    "- Weak<T>: 이 타입은 T 타입의 값에 대한 약한 참조를 저장합니다. 값의 소유권을 가지지 않고 값의 수명을 추적하는 데 유용합니다."
   ]
  },
  {
   "cell_type": "markdown",
   "id": "b7161d1a",
   "metadata": {},
   "source": [
    "## 스마트 포인터 구성 \n",
    "\n",
    "- 스마트 포인터는 일반적으로 구조체를 사용하여 구현됩니다. \n",
    "- 일반 구조체와 달리 스마트 포인터는 디레프 및 드롭 특성을 구현합니다.\n",
    "- Deref 특성을 사용하면 스마트 포인터 구조체의 인스턴스가 참조처럼 동작할 수 있으므로 참조 또는 스마트 포인터와 함께 작동하도록 코드를 작성할 수 있습니다. \n",
    "- Drop 특성을 사용하면 스마트 포인터의 인스턴스가 범위를 벗어날 때 실행되는 코드를 사용자 정의할 수 있습니다. "
   ]
  },
  {
   "cell_type": "markdown",
   "id": "f8b30786",
   "metadata": {},
   "source": [
    "## 참조와 스마트 포인터의 차이점 \n",
    "\n",
    "- 참조는 데이터를 빌리ㅁ(대여)\n",
    "- 스마트 포인터는 자신이 가리키는 데이터를 소유 "
   ]
  },
  {
   "cell_type": "markdown",
   "id": "928c28f9",
   "metadata": {},
   "source": [
    "## 스마트 포인터의 예시 \n",
    "\n",
    "- String과 Vec<T>를 포함해 몇 가지 스마트 포인터     \n",
    "- 힙에 값을 할당하기 위한 Box<T>\n",
    "- 다중 소유권을 가능하게 하는 참조 계수 유형인 Rc<T>\n",
    "- 컴파일 타임이 아닌 런타임에 차용 규칙을 적용하는 유형인 RefCell<T>를 통해 액세스하는 Ref<T> 및 RefMut<T>.\n"
   ]
  },
  {
   "cell_type": "code",
   "execution_count": null,
   "id": "2987e699",
   "metadata": {},
   "outputs": [],
   "source": []
  },
  {
   "cell_type": "markdown",
   "id": "b370020e",
   "metadata": {},
   "source": [
    "## 2. 값에 대한 포인터 "
   ]
  },
  {
   "cell_type": "markdown",
   "id": "02a0ef6e",
   "metadata": {},
   "source": [
    "### 값에 대한 포인터를 참조로 접근하기"
   ]
  },
  {
   "cell_type": "code",
   "execution_count": 12,
   "id": "5a73bd77",
   "metadata": {},
   "outputs": [],
   "source": [
    "fn main() {\n",
    "    let x = 5;\n",
    "    let y = &x;\n",
    "\n",
    "    assert_eq!(5, x);\n",
    "    assert_eq!(5, *y);\n",
    "    \n",
    "    println!(\"{:p}\", &x);\n",
    "    println!(\"{:p}\", y);\n",
    "    println!(\"{}\", std::ptr::eq(&x,y));\n",
    "}"
   ]
  },
  {
   "cell_type": "code",
   "execution_count": 13,
   "id": "6f622c54",
   "metadata": {},
   "outputs": [
    {
     "name": "stdout",
     "output_type": "stream",
     "text": [
      "0x16d282abc\n",
      "0x16d282abc\n",
      "true\n"
     ]
    }
   ],
   "source": [
    "main();"
   ]
  },
  {
   "cell_type": "markdown",
   "id": "8917887e",
   "metadata": {},
   "source": [
    "### 스마트 포인터  사용해보기"
   ]
  },
  {
   "cell_type": "code",
   "execution_count": 27,
   "id": "a8e640e6",
   "metadata": {},
   "outputs": [],
   "source": [
    "fn main() {\n",
    "    let x = 5;\n",
    "    let y = Box::new(x);\n",
    "\n",
    "    assert_eq!(5, x);\n",
    "    assert_eq!(5, *y);\n",
    "    println!(\"{:p}\", &x);\n",
    "    println!(\"{}\", *y);\n",
    "    println!(\"{:p}\", &*y);\n",
    "    println!(\"{:p}\", &y);\n",
    "    println!(\"{}\", std::ptr::eq(&x,&*y));\n",
    "}"
   ]
  },
  {
   "cell_type": "code",
   "execution_count": 28,
   "id": "866f14eb",
   "metadata": {},
   "outputs": [
    {
     "name": "stdout",
     "output_type": "stream",
     "text": [
      "0x16d282abc\n",
      "5\n",
      "0x600000b88000\n",
      "0x16d282ac0\n",
      "false\n"
     ]
    }
   ],
   "source": [
    "main();"
   ]
  },
  {
   "cell_type": "code",
   "execution_count": null,
   "id": "f503cdeb",
   "metadata": {},
   "outputs": [],
   "source": []
  },
  {
   "cell_type": "markdown",
   "id": "2d6bdc23",
   "metadata": {},
   "source": [
    "## 3. 스마트 포인터의 쓰임 "
   ]
  },
  {
   "cell_type": "markdown",
   "id": "6edcf138",
   "metadata": {},
   "source": [
    "## 힙에 메모리 사이즈 큰 값을 저장"
   ]
  },
  {
   "cell_type": "code",
   "execution_count": 29,
   "id": "3d9d3a13",
   "metadata": {},
   "outputs": [],
   "source": [
    "let large_value = vec![1, 2, 3, 4, 5];\n",
    "let boxed_large_value = Box::new(large_value);"
   ]
  },
  {
   "cell_type": "code",
   "execution_count": null,
   "id": "2f3a156b",
   "metadata": {},
   "outputs": [],
   "source": []
  },
  {
   "cell_type": "markdown",
   "id": "0d36a4ef",
   "metadata": {},
   "source": [
    "## 여러 개체 간에 값의 소유권을 공유합니다:"
   ]
  },
  {
   "cell_type": "code",
   "execution_count": 57,
   "id": "78ad6dd5",
   "metadata": {},
   "outputs": [],
   "source": [
    "use std::rc::Rc;\n",
    "\n",
    "#[derive(Debug)]\n",
    "struct Foo {\n",
    "    bar: Rc<String>,\n",
    "}\n",
    "\n",
    "#[derive(Debug)]\n",
    "struct Baz {\n",
    "    foo: Rc<Foo>,\n",
    "}\n",
    "\n",
    "fn main() {\n",
    "    let foo = Foo {\n",
    "        bar: Rc::new(\"Hello, world!\".to_string()),\n",
    "    };\n",
    "    println!(\" foo = {:?}\", foo);\n",
    "    \n",
    "    let baz = Baz {\n",
    "        foo: Rc::clone(&Rc::new(foo)),\n",
    "    };\n",
    "    \n",
    "    //println!(\" foo = {:?}\", foo);\n",
    "    println!(\" baz = {:?}\", baz);\n",
    "}"
   ]
  },
  {
   "cell_type": "code",
   "execution_count": 58,
   "id": "36e77d1b",
   "metadata": {},
   "outputs": [
    {
     "name": "stdout",
     "output_type": "stream",
     "text": [
      " foo = Foo { bar: \"Hello, world!\" }\n",
      " baz = Baz { foo: Foo { bar: \"Hello, world!\" } }\n"
     ]
    }
   ],
   "source": [
    "main();"
   ]
  },
  {
   "cell_type": "markdown",
   "id": "af34efb3",
   "metadata": {},
   "source": [
    "## 소유권을 갖지 않고도 가치의 수명을 추적할 수 있습니다:"
   ]
  },
  {
   "cell_type": "code",
   "execution_count": 52,
   "id": "33b0b998",
   "metadata": {},
   "outputs": [],
   "source": [
    "use std::rc::Weak;\n",
    "\n",
    "#[derive(Debug)]\n",
    "struct Foo {\n",
    "    bar: Weak<String>,\n",
    "}\n",
    "\n",
    "impl Drop for Foo {\n",
    "    fn drop(&mut self) {\n",
    "        if true {\n",
    "            println!(\"The value has been dropped.\");\n",
    "        }\n",
    "    }\n",
    "}\n",
    "    \n",
    "fn main() {\n",
    "\n",
    "    let foo = Foo {\n",
    "        bar: Rc::downgrade(&Rc::new(\"Hello, world!\".to_string())),\n",
    "    };\n",
    "    \n",
    "    println!(\" {:?}\", foo);\n",
    "}\n",
    "\n",
    "\n"
   ]
  },
  {
   "cell_type": "code",
   "execution_count": 53,
   "id": "47b71f05",
   "metadata": {},
   "outputs": [
    {
     "name": "stdout",
     "output_type": "stream",
     "text": [
      " Foo { bar: (Weak) }\n",
      "The value has been dropped.\n"
     ]
    }
   ],
   "source": [
    "main();"
   ]
  },
  {
   "cell_type": "code",
   "execution_count": null,
   "id": "38cf6fc7",
   "metadata": {},
   "outputs": [],
   "source": []
  },
  {
   "cell_type": "markdown",
   "id": "21bd9e00",
   "metadata": {},
   "source": [
    "## Weak reference\n",
    "\n",
    "- 약한 포인터는 객체가 삭제되는 것을 방지하지 않는 객체에 대한 참조입니다. \n",
    "- 즉, 객체에 대한 유일한 참조가 약 포인터인 경우 마지막 약 포인터가 삭제되면 객체가 삭제됩니다.\n",
    "\n",
    "- 약한 포인터는 객체에 대한 소유권을 가지지 않고 객체의 수명을 추적하는 데 유용합니다. \n",
    "- 예를 들어, 자식 객체에만 관심이 있을 때 부모 객체를 추적하기 위해 약 포인터를 사용할 수 있습니다."
   ]
  },
  {
   "cell_type": "code",
   "execution_count": 61,
   "id": "93623151",
   "metadata": {},
   "outputs": [],
   "source": [
    "let weak_ptr:Weak<u32> = Weak::new();"
   ]
  },
  {
   "cell_type": "code",
   "execution_count": 62,
   "id": "96399b08",
   "metadata": {},
   "outputs": [],
   "source": [
    "let strong_ptr = weak_ptr.upgrade();"
   ]
  },
  {
   "cell_type": "code",
   "execution_count": 63,
   "id": "b15e6c6c",
   "metadata": {},
   "outputs": [
    {
     "name": "stdout",
     "output_type": "stream",
     "text": [
      " None\n"
     ]
    }
   ],
   "source": [
    "println!(\" {:?}\", strong_ptr);"
   ]
  },
  {
   "cell_type": "code",
   "execution_count": null,
   "id": "a9125753",
   "metadata": {},
   "outputs": [],
   "source": []
  }
 ],
 "metadata": {
  "kernelspec": {
   "display_name": "Rust",
   "language": "rust",
   "name": "rust"
  },
  "language_info": {
   "codemirror_mode": "rust",
   "file_extension": ".rs",
   "mimetype": "text/rust",
   "name": "Rust",
   "pygment_lexer": "rust",
   "version": ""
  }
 },
 "nbformat": 4,
 "nbformat_minor": 5
}
