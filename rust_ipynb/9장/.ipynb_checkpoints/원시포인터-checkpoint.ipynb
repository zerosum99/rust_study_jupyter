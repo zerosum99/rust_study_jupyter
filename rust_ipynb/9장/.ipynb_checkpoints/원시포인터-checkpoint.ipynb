{
 "cells": [
  {
   "cell_type": "markdown",
   "id": "a325f185",
   "metadata": {},
   "source": [
    "## 원시 포인터\n",
    "참조는 더 원시적인 자료형인 raw pointer로 변환될 수 있습니다. raw pointer는 숫자와 마찬가지로 거의 제한 없이 여기저기 복사하고 이동할 수 있습니다. Rust는 raw pointer가 가리키는 메모리 위치의 유효성을 보증하지 않습니다.\n",
    "\n",
    "raw pointer에는 두 종류가 있습니다:\n",
    "\n",
    "*const T - 자료형 T의 데이터를 가리키는 절대 변경되지 않는 raw pointer.\n",
    "*mut T - 자료형 T의 데이터를 가리키는 변경될 수 있는 raw pointer.\n",
    "raw pointer는 숫자와 상호 변환이 가능합니다 (예: usize).\n",
    "\n",
    "raw pointer는 unsafe한 코드의 데이터에 접근할 수 있습니다 (이에 대해서는 뒤에 다루겠습니다).\n",
    "\n",
    "메모리 상세:\n",
    "\n",
    "Rust에서의 참조는 사용 방법에 있어서 C의 pointer와 매우 유사하나, 저장되는 방식이나 다른 함수에 전달되는 부분에 있어 훨씬 많은 컴파일 타임의 제약을 받습니다.\n",
    "Rust에서의 raw pointer는 복사하고 전달하고 심지어 pointer 연산을 할 수 있는 숫자 자료형으로 변환할 수도 있다는 점에서 C의 pointer와 유사합니다."
   ]
  },
  {
   "cell_type": "code",
   "execution_count": null,
   "id": "8a2ed98e",
   "metadata": {},
   "outputs": [],
   "source": []
  },
  {
   "cell_type": "code",
   "execution_count": 2,
   "id": "6a1cee8a",
   "metadata": {},
   "outputs": [],
   "source": [
    "fn main() {\n",
    "    let a = 42;\n",
    "    let memory_location = &a as *const i32 as usize;\n",
    "    println!(\"데이터는 여기 있습니다: {}\", memory_location);\n",
    "}\n"
   ]
  },
  {
   "cell_type": "code",
   "execution_count": 3,
   "id": "bf6ef8f5",
   "metadata": {},
   "outputs": [
    {
     "name": "stdout",
     "output_type": "stream",
     "text": [
      "데이터는 여기 있습니다: 6095481636\n"
     ]
    }
   ],
   "source": [
    "main();"
   ]
  },
  {
   "cell_type": "code",
   "execution_count": null,
   "id": "cb5352e4",
   "metadata": {},
   "outputs": [],
   "source": []
  }
 ],
 "metadata": {
  "kernelspec": {
   "display_name": "Rust",
   "language": "rust",
   "name": "rust"
  },
  "language_info": {
   "codemirror_mode": "rust",
   "file_extension": ".rs",
   "mimetype": "text/rust",
   "name": "Rust",
   "pygment_lexer": "rust",
   "version": ""
  }
 },
 "nbformat": 4,
 "nbformat_minor": 5
}
