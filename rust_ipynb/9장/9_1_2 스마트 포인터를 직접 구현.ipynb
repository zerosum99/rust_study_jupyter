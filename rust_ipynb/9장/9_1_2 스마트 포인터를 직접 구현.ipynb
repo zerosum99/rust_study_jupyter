{
 "cells": [
  {
   "cell_type": "code",
   "execution_count": null,
   "id": "7faf2bea",
   "metadata": {},
   "outputs": [],
   "source": []
  },
  {
   "cell_type": "markdown",
   "id": "a23bbe3a",
   "metadata": {},
   "source": [
    "## 스마트 포인터\n",
    "\n",
    "\n",
    "- & 연산자로 이미 존재하는 데이터의 참조를 생성하는 기능과 더불어, Rust에서는 smart pointer라 불리는 참조 같은 struct를 생성하는 기능을 제공합니다.\n",
    "\n",
    "- 고수준에서 보자면 참조는 다른 자료형에 대한 접근을 제공하는 자료형이라고 볼 수 있습니다. \n",
    "- smart pointer가 일반적인 참조와 다른 점은, 프로그래머가 작성하는 내부 로직에 기반해 작동한다는 것입니다. 여러분(프로그래머)이 바로 smart한 부분을 담당하는 겁니다.\n",
    "\n",
    "- 일반적으로 smart pointer는 struct가 *와 . 연산자로 역참조될 때 무슨 일이 발생할지 지정하기 위해 Deref, DerefMut, 그리고 Drop trait을 구현합니다."
   ]
  },
  {
   "cell_type": "code",
   "execution_count": 2,
   "id": "cdaf0ed5",
   "metadata": {},
   "outputs": [],
   "source": [
    "use std::ops::Deref;\n",
    "\n",
    "struct TattleTell<T> {\n",
    "    value: T,\n",
    "}\n",
    "\n",
    "\n",
    "impl<T> Deref for TattleTell<T> {\n",
    "    type Target = T;\n",
    "    fn deref(&self) -> &T {\n",
    "        println!(\"{} was used!\", std::any::type_name::<T>());\n",
    "        &self.value\n",
    "    }\n",
    "}"
   ]
  },
  {
   "cell_type": "code",
   "execution_count": 3,
   "id": "4e59433a",
   "metadata": {},
   "outputs": [],
   "source": [
    "fn main() {\n",
    "    let foo = TattleTell {\n",
    "        value: \"secret message\",\n",
    "    };\n",
    "    // foo가 `len` 함수를 위해 자동참조된 후\n",
    "    // 여기서 역참조가 즉시 일어납니다\n",
    "    println!(\"{}\", foo.len());\n",
    "}\n"
   ]
  },
  {
   "cell_type": "code",
   "execution_count": 4,
   "id": "7424ea82",
   "metadata": {},
   "outputs": [
    {
     "name": "stdout",
     "output_type": "stream",
     "text": [
      "&str was used!\n",
      "14\n"
     ]
    }
   ],
   "source": [
    "main();"
   ]
  },
  {
   "cell_type": "code",
   "execution_count": null,
   "id": "46c25430",
   "metadata": {},
   "outputs": [],
   "source": []
  },
  {
   "cell_type": "markdown",
   "id": "c0f1ee6f",
   "metadata": {},
   "source": [
    "## 위험한 스마트 코드\n",
    "smart pointer는 unsafe한 코드를 꽤 자주 쓰는 경향이 있습니다. 앞서 말했듯이, smart pointer는 Rust에서 가장 저수준의 메모리를 다루기 위한 일반적인 도구입니다.\n",
    "\n",
    "뭐가 unsafe한 코드일까요? unsafe한 코드는 Rust 컴파일러가 보증할 수 없는 몇 가지 기능이 있다는 예외사항을 제외하고는 일반적인 코드와 완전히 똑같이 동작합니다.\n",
    "\n",
    "unsafe한 코드의 주기능은 raw pointer를 역참조하는 것입니다. 이는 raw pointer를 메모리 상의 위치에 가져다 놓고 \"데이터 구조가 여깄다!\"고 선언한 뒤 사용할 수 있는 데이터 표현으로 변환하는 것을 의미합니다 (i.e. *const u8을 u8로). Rust에는 메모리에 쓰여지는 모든 바이트의 의미를 추적하는 방법은 없습니다. Rust는 raw pointer로 쓰이는 임의의 숫자에 무엇이 존재하는지 보증할 수 없기 때문에, 역참조를 unsafe { ... } 블록 안에 넣습니다.\n",
    "\n",
    "smart pointer는 raw pointer를 역참조하는데 널리 쓰이지만, 그 기능은 잘 입증 되었습니다."
   ]
  },
  {
   "cell_type": "code",
   "execution_count": null,
   "id": "a02e4a8a",
   "metadata": {},
   "outputs": [],
   "source": []
  },
  {
   "cell_type": "code",
   "execution_count": 4,
   "id": "894d4317",
   "metadata": {},
   "outputs": [],
   "source": [
    "fn main() {\n",
    "    let a: [u8; 4] = [86, 14, 73, 64];\n",
    "    // 이게 원시 pointer입니다.\n",
    "    // 무언가의 메모리 주소를 숫자로 가져오는 것은 완전히 안전한 일입니다\n",
    "    let pointer_a = &a as *const u8 as usize;\n",
    "    println!(\"데이터 메모리 주소: {}\", pointer_a);\n",
    "    // 숫자를 원시 pointer로, 다시 f32로 변환하는 것 역시\n",
    "    // 안전한 일입니다.\n",
    "    let pointer_b = pointer_a as *const f32;\n",
    "    let b = unsafe {\n",
    "        // 이건 unsafe한데,\n",
    "        // 컴파일러에게 우리의 pointer가 유효한 f32라고 가정하고\n",
    "        // 그 값을 변수 b로 역참조 하라고 하고 있기 때문입니다.\n",
    "        // Rust는 이런 가정이 참인지 검증할 방법이 없습니다.\n",
    "        *pointer_b\n",
    "    };\n",
    "    println!(\"맹세하건대 이건 파이다! {}\", b);\n",
    "}\n"
   ]
  },
  {
   "cell_type": "code",
   "execution_count": 5,
   "id": "88827bab",
   "metadata": {},
   "outputs": [
    {
     "name": "stdout",
     "output_type": "stream",
     "text": [
      "데이터 메모리 주소: 6125284044\n",
      "맹세하건대 이건 파이다! 3.1415\n"
     ]
    }
   ],
   "source": [
    "main();"
   ]
  },
  {
   "cell_type": "code",
   "execution_count": null,
   "id": "44e1b1e7",
   "metadata": {},
   "outputs": [],
   "source": []
  },
  {
   "cell_type": "code",
   "execution_count": null,
   "id": "876cb3a9",
   "metadata": {},
   "outputs": [],
   "source": []
  },
  {
   "cell_type": "markdown",
   "id": "e47eebb8",
   "metadata": {},
   "source": [
    "## 스마트 포인터\n",
    "\n",
    "이미 본 적 있는 Vec<T>나 String 같은 smart pointer를 생각해 봅시다.\n",
    "\n",
    "Vec<T>는 바이트들의 메모리 영역을 소유하는 smart pointer입니다. Rust 컴파일러는 이 바이트들에 뭐가 존재하는지 모릅니다. smart pointer는 관리하는 메모리 영역에서 내용물을 꺼내기 위해 자기가 뭘 의미하는지 해석하고, 데이터 구조가 그 바이트들 내 어디에서 시작하고 끝나는지 추적하며, 마지막으로 raw pointer를 데이터 구조로, 또 쓰기 편한 멋지고 깔끔한 인터페이스로 역참조 합니다. (e.g. my_vec[3])\n",
    "\n",
    "유사하게, String은 바이트들의 메모리 영역을 추적하며, 쓰여지는 내용물이 언제나 유효한 utf-8이도록 프로그램적으로 제한하며, 그 메모리 영역을 &str 자료형으로 역참조할 수 있도록 도와줍니다.\n",
    "\n",
    "이 데이터 구조들 둘 다, 자기 할 일을 하기 위해 raw pointer에 대한 unsafe한 역참조를 사용합니다.\n",
    "\n",
    "메모리 상세:\n",
    "\n",
    "Rust는 C의 malloc에 상응하는 alloc과 관리할 메모리 영역을 가져오기 위한 Layout을 갖고 있습니다."
   ]
  },
  {
   "cell_type": "code",
   "execution_count": null,
   "id": "b3baf091",
   "metadata": {},
   "outputs": [],
   "source": []
  },
  {
   "cell_type": "code",
   "execution_count": 6,
   "id": "514da886",
   "metadata": {},
   "outputs": [],
   "source": [
    "use std::alloc::{alloc, Layout};\n",
    "use std::ops::Deref;\n",
    "\n",
    "struct Pie {\n",
    "    secret_recipe: usize,\n",
    "}\n",
    "\n",
    "impl Pie {\n",
    "    fn new() -> Self {\n",
    "        // 4 바이트를 요청해 봅시다\n",
    "        let layout = Layout::from_size_align(4, 1).unwrap();\n",
    "\n",
    "        unsafe {\n",
    "            // 메모리 위치를 숫자로 할당하고 저장합니다\n",
    "            let ptr = alloc(layout) as *mut u8;\n",
    "            // pointer 연산을 사용해 u8 값 몇 개를 메모리에 써봅시다\n",
    "            ptr.write(86);\n",
    "            ptr.add(1).write(14);\n",
    "            ptr.add(2).write(73);\n",
    "            ptr.add(3).write(64);\n",
    "\n",
    "            Pie {\n",
    "                secret_recipe: ptr as usize,\n",
    "            }\n",
    "        }\n",
    "    }\n",
    "}\n",
    "impl Deref for Pie {\n",
    "    type Target = f32;\n",
    "    fn deref(&self) -> &f32 {\n",
    "        // secret_recipe pointer를 f32 raw pointer로 변환합니다\n",
    "        let pointer = self.secret_recipe as *const f32;\n",
    "        // 역참조 하여 &f32 값으로 리턴합니다\n",
    "        unsafe { &*pointer }\n",
    "    }\n",
    "}\n",
    "fn main() {\n",
    "    let p = Pie::new();\n",
    "    // Pie struct의 smart pointer를 역참조 하여\n",
    "    // \"파이를 만듭니다\"\n",
    "    println!(\"{:?}\", *p);\n",
    "}\n"
   ]
  },
  {
   "cell_type": "code",
   "execution_count": 7,
   "id": "6b7d1363",
   "metadata": {},
   "outputs": [
    {
     "name": "stdout",
     "output_type": "stream",
     "text": [
      "3.1415\n"
     ]
    }
   ],
   "source": [
    "main();"
   ]
  },
  {
   "cell_type": "code",
   "execution_count": null,
   "id": "6053b0df",
   "metadata": {},
   "outputs": [],
   "source": []
  },
  {
   "cell_type": "markdown",
   "id": "ebdf14fa",
   "metadata": {},
   "source": [
    "## 힙에 할당된 메모리\n",
    "Box는 데이터를 stack에서 heap으로 옮길 수 있게 해주는 smart pointer입니다.\n",
    "\n",
    "이를 역참조하면 마치 원래 자료형이었던 것처럼 heap에 할당된 데이터를 편하게 쓸 수 있습니다."
   ]
  },
  {
   "cell_type": "code",
   "execution_count": 8,
   "id": "e959ddba",
   "metadata": {},
   "outputs": [],
   "source": [
    "struct Pie;\n",
    "\n",
    "impl Pie {\n",
    "    fn eat(&self) {\n",
    "        println!(\"heap에 있으니 더 맛있습니다!\")\n",
    "    }\n",
    "}\n",
    "\n",
    "fn main() {\n",
    "    let heap_pie = Box::new(Pie);\n",
    "    heap_pie.eat();\n",
    "}\n"
   ]
  },
  {
   "cell_type": "code",
   "execution_count": 9,
   "id": "411cce83",
   "metadata": {},
   "outputs": [
    {
     "name": "stdout",
     "output_type": "stream",
     "text": [
      "heap에 있으니 더 맛있습니다!\n"
     ]
    }
   ],
   "source": [
    "main();"
   ]
  },
  {
   "cell_type": "markdown",
   "id": "56bad923",
   "metadata": {},
   "source": [
    "## 실패할 수 있는 메인 다시 보기\n",
    "Rust 코드에는 많고도 많은 오류 표현 방법이 있지만, 그 중에도 standard library에는 오류를 설명하기 위한 범용 trait인 std::error::Error가 있습니다.\n",
    "\n",
    "smart pointer인 Box를 사용하면 Box<dyn std::error::Error>를 오류 리턴 시 공통된 자료형으로 사용할 수 있는데, 이는 오류를 heap에 전파하고 특정한 자료형을 몰라도 고수준에서 상호작용할 수 있도록 해주기 때문입니다.\n",
    "\n",
    "Tour of Rust 초반에 main은 오류를 리턴할 수 있다고 배웠습니다. 이제 우리는 오류의 데이터 구조가 Rust의 일반적인 Error trait을 구현하는 한, 프로그램에서 발생할 수 있는 거의 모든 종류의 오류를 설명할 수 있는 자료형을 리턴할 수 있습니다.\n",
    "\n",
    "fn main() -> Result<(), Box<dyn std::error:Error>>"
   ]
  },
  {
   "cell_type": "code",
   "execution_count": 10,
   "id": "6306a424",
   "metadata": {},
   "outputs": [],
   "source": [
    "use core::fmt::Display;\n",
    "use std::error::Error;\n",
    "\n",
    "struct Pie;\n",
    "\n",
    "#[derive(Debug)]\n",
    "struct NotFreshError;\n",
    "\n",
    "impl Display for NotFreshError {\n",
    "    fn fmt(&self, f: &mut std::fmt::Formatter<'_>) -> std::fmt::Result {\n",
    "        write!(f, \"이 파이는 신선하지 않군요!\")\n",
    "    }\n",
    "}\n",
    "\n",
    "impl Error for NotFreshError {}\n",
    "\n",
    "impl Pie {\n",
    "    fn eat(&self) -> Result<(), Box<dyn Error>> {\n",
    "        Err(Box::new(NotFreshError))\n",
    "    }\n",
    "}\n",
    "\n",
    "fn main() -> Result<(), Box<dyn Error>> {\n",
    "    let heap_pie = Box::new(Pie);\n",
    "    heap_pie.eat()?;\n",
    "    Ok(())\n",
    "}\n"
   ]
  },
  {
   "cell_type": "code",
   "execution_count": 11,
   "id": "db5f12d3",
   "metadata": {},
   "outputs": [],
   "source": [
    "main();"
   ]
  },
  {
   "cell_type": "code",
   "execution_count": null,
   "id": "810f2c89",
   "metadata": {},
   "outputs": [],
   "source": []
  }
 ],
 "metadata": {
  "kernelspec": {
   "display_name": "Rust",
   "language": "rust",
   "name": "rust"
  },
  "language_info": {
   "codemirror_mode": "rust",
   "file_extension": ".rs",
   "mimetype": "text/rust",
   "name": "Rust",
   "pygment_lexer": "rust",
   "version": ""
  }
 },
 "nbformat": 4,
 "nbformat_minor": 5
}
