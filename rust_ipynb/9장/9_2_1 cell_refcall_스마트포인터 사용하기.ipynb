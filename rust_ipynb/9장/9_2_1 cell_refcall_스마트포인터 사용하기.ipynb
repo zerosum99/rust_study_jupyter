{
 "cells": [
  {
   "cell_type": "code",
   "execution_count": null,
   "id": "d070c716",
   "metadata": {},
   "outputs": [],
   "source": []
  },
  {
   "cell_type": "markdown",
   "id": "d96d63e8",
   "metadata": {},
   "source": [
    "## 변수와 참조변수를 런타입에 처리하기 \n",
    "\n",
    "- Cell 은 불변변수와 갸변변수를 처리, 단 Cell의 소유권 이동은 불가능하다, \n",
    "- RefCell 은 불변참조와 가변참조를 처리 "
   ]
  },
  {
   "cell_type": "code",
   "execution_count": null,
   "id": "060bae94",
   "metadata": {},
   "outputs": [],
   "source": []
  },
  {
   "cell_type": "markdown",
   "id": "9c8d58e8",
   "metadata": {},
   "source": [
    "## 1. Cell 타입 \n",
    "\n",
    "- Cell 타입은 값의 이동에 따른 내부 가변성을 구현합니다. \n",
    "- 단일 스레드 환경에서 데이터 경쟁을 방지하기 위해 사용되는 타입으로, 소유권 이동을 지원하지 않습니다."
   ]
  },
  {
   "cell_type": "code",
   "execution_count": null,
   "id": "35693f3c",
   "metadata": {},
   "outputs": [],
   "source": []
  },
  {
   "cell_type": "markdown",
   "id": "3964223e",
   "metadata": {},
   "source": [
    "### Cell 타입은 \n",
    "\n",
    "- new로 생성하다. \n",
    "- 내부의 값은 get() 메서드"
   ]
  },
  {
   "cell_type": "code",
   "execution_count": 30,
   "id": "59c88c8f",
   "metadata": {},
   "outputs": [],
   "source": [
    "use std::cell::Cell;\n",
    "\n",
    "fn main() {\n",
    "    let cell = Cell::new(1);\n",
    "\n",
    "    println!(\"before : {}\", cell.get());\n",
    "\n",
    "    println!(\"after : {}\", cell.get());\n",
    "}"
   ]
  },
  {
   "cell_type": "code",
   "execution_count": 31,
   "id": "04865dbe",
   "metadata": {},
   "outputs": [
    {
     "name": "stdout",
     "output_type": "stream",
     "text": [
      "before : 1\n",
      "after : 1\n"
     ]
    }
   ],
   "source": [
    "main();"
   ]
  },
  {
   "cell_type": "markdown",
   "id": "95ee0539",
   "metadata": {},
   "source": [
    "### 내부의 값을 변경하기\n",
    "\n",
    "- set 메서드로 값을 변경 , 새로운 소유권을 만듬"
   ]
  },
  {
   "cell_type": "code",
   "execution_count": 28,
   "id": "60c8720f",
   "metadata": {},
   "outputs": [],
   "source": [
    "use std::cell::Cell;\n",
    "\n",
    "fn main() {\n",
    "    let cell = Cell::new(1);\n",
    "\n",
    "    println!(\"before : {}\", cell.get());\n",
    "\n",
    "    cell.set(2);\n",
    "\n",
    "    println!(\"after : {}\", cell.get());\n",
    "}"
   ]
  },
  {
   "cell_type": "code",
   "execution_count": 29,
   "id": "c0ea78d2",
   "metadata": {},
   "outputs": [
    {
     "name": "stdout",
     "output_type": "stream",
     "text": [
      "before : 1\n",
      "after : 2\n"
     ]
    }
   ],
   "source": [
    "main();"
   ]
  },
  {
   "cell_type": "markdown",
   "id": "56576de0",
   "metadata": {},
   "source": [
    "### Cell 인스턴스의 소유권 이동은 불가"
   ]
  },
  {
   "cell_type": "code",
   "execution_count": 39,
   "id": "2068ab95",
   "metadata": {},
   "outputs": [
    {
     "ename": "Error",
     "evalue": "the method `get` exists for struct `Cell<String>`, but its trait bounds were not satisfied",
     "output_type": "error",
     "traceback": [
      "    println!(\"cell2 value: {}\", cell2.get());",
      "\u001b[91m                                      ^^^\u001b[0m \u001b[94merror: the method `get` exists for struct `Cell<String>`, but its trait bounds were not satisfied\u001b[0m",
      "the method `get` exists for struct `Cell<String>`, but its trait bounds were not satisfied"
     ]
    }
   ],
   "source": [
    "fn main() {\n",
    "    let cell1 = Cell::new(\"문자열\".to_string());\n",
    "    let cell2 = cell1;         // 소유권 이전 시도\n",
    "\n",
    "    println!(\"cell2 value: {}\", cell2.get());\n",
    "}"
   ]
  },
  {
   "cell_type": "markdown",
   "id": "0252ff70",
   "metadata": {},
   "source": [
    "### Copy 트레이트 처리일 때는 값이 복사 "
   ]
  },
  {
   "cell_type": "code",
   "execution_count": 41,
   "id": "bcfca96e",
   "metadata": {},
   "outputs": [],
   "source": [
    "fn main() {\n",
    "    let cell1 = Cell::new(\"문자열\");\n",
    "    let cell2 = cell1;                // 값이 복사되어 처리된다. \n",
    "\n",
    "    println!(\"cell2 value: {}\", cell2.get());\n",
    "}"
   ]
  },
  {
   "cell_type": "code",
   "execution_count": 42,
   "id": "8a062978",
   "metadata": {},
   "outputs": [
    {
     "name": "stdout",
     "output_type": "stream",
     "text": [
      "cell2 value: 문자열\n"
     ]
    }
   ],
   "source": [
    "main();"
   ]
  },
  {
   "cell_type": "markdown",
   "id": "7b91da6c",
   "metadata": {},
   "source": [
    "\n",
    "### Cell<T> 타입은 다음과 같은 메소드를 제공합니다.\n",
    "\n",
    "- get: 내부 데이터의 불변 참조를 반환합니다.\n",
    "- set: 내부 데이터를 새로운 값으로 설정합니다.\n",
    "- replace: 내부 데이터를 새로운 값으로 설정하고 이전 값을 반환합니다.\n",
    "- take: 내부 데이터를 가져와서 새로운 값으로 설정하고 이전 값을 반환합니다."
   ]
  },
  {
   "cell_type": "code",
   "execution_count": 32,
   "id": "1156cf89",
   "metadata": {},
   "outputs": [],
   "source": [
    "fn main() {\n",
    "    let data = Cell::new(42);\n",
    "    let data_value = data.get();\n",
    "    println!(\"data_value: {}\", data_value);\n",
    "\n",
    "    data.set(100);\n",
    "    let new_data_value = data.get();\n",
    "    println!(\"new_data_value: {}\", new_data_value);\n",
    "\n",
    "    let old_data_value = data.replace(200);\n",
    "    println!(\"old_data_value: {}\", old_data_value);\n",
    "    println!(\"new_data_value: {}\", data.get());\n",
    "\n",
    "    let taken_value = data.take();\n",
    "    println!(\"taken_value: {}\", taken_value);\n",
    "    println!(\"new_data_value: {}\", data.get());\n",
    "}"
   ]
  },
  {
   "cell_type": "code",
   "execution_count": 33,
   "id": "24c9b6db",
   "metadata": {},
   "outputs": [
    {
     "name": "stdout",
     "output_type": "stream",
     "text": [
      "data_value: 42\n",
      "new_data_value: 100\n",
      "old_data_value: 100\n",
      "new_data_value: 200\n",
      "taken_value: 200\n",
      "new_data_value: 0\n"
     ]
    }
   ],
   "source": [
    "main();"
   ]
  },
  {
   "cell_type": "code",
   "execution_count": null,
   "id": "b74c7009",
   "metadata": {},
   "outputs": [],
   "source": []
  },
  {
   "cell_type": "code",
   "execution_count": null,
   "id": "5f863b3d",
   "metadata": {},
   "outputs": [],
   "source": []
  },
  {
   "cell_type": "markdown",
   "id": "090d5619",
   "metadata": {},
   "source": [
    "### Cell<T> 단일 값만 처리\n",
    "\n",
    "- Cell<T>을 사용하여 벡터를 처리하려면, 각각의 요소에 대해 Cell<T> 값을 생성하고, 이를 담은 벡터를 사용해야 합니다."
   ]
  },
  {
   "cell_type": "code",
   "execution_count": 43,
   "id": "7417b4d7",
   "metadata": {},
   "outputs": [],
   "source": [
    "fn main() {\n",
    "    let vec = vec![1, 2, 3, 4, 5];\n",
    "    let vec_with_cells: Vec<Cell<i32>> = vec.iter().map(|&x| Cell::new(x)).collect();\n",
    "\n",
    "    for cell in vec_with_cells.iter() {\n",
    "        let value = cell.get();\n",
    "        println!(\"value: {}\", value);\n",
    "        cell.set(value * 2);\n",
    "    }\n",
    "\n",
    "    let vec_with_doubled_values: Vec<i32> = vec_with_cells.iter().map(|cell| cell.get()).collect();\n",
    "    println!(\"vec_with_doubled_values: {:?}\", vec_with_doubled_values);\n",
    "}"
   ]
  },
  {
   "cell_type": "code",
   "execution_count": 44,
   "id": "39ba5229",
   "metadata": {},
   "outputs": [
    {
     "name": "stdout",
     "output_type": "stream",
     "text": [
      "value: 1\n",
      "value: 2\n",
      "value: 3\n",
      "value: 4\n",
      "value: 5\n",
      "vec_with_doubled_values: [2, 4, 6, 8, 10]\n"
     ]
    }
   ],
   "source": [
    "main();"
   ]
  },
  {
   "cell_type": "code",
   "execution_count": null,
   "id": "159099f4",
   "metadata": {},
   "outputs": [],
   "source": []
  },
  {
   "cell_type": "markdown",
   "id": "996f9fa7",
   "metadata": {},
   "source": [
    "## 2. RefCell<T> 타입\n",
    "\n",
    "- Rust에서는 기본적으로 런타임에서 발생할 수 있는 데이터 경합(데이터 경쟁)을 방지하기 위해 여러 가지 방법을 제공합니다. \n",
    "    \n",
    "- RefCell<T> 타입은 런타임에 여러 개의 가변 참조를 제공하면서도 데이터 경합을 방지하는 기능을 제공합니다. \n",
    "- 이를 가능하게 하는 방법은, RefCell<T> 내부에서 참조가 가변인지 불변인지를 추적하면서 불변 참조가 있을 때는 가변 참조를 허용하지 않고, \n",
    "- 가변 참조가 있을 때는 불변 참조를 허용하지 않는 것입니다. \n",
    "- 이를 통해 런타임에서 데이터 경합을 방지할 수 있습니다.\n",
    "    \n",
    "- RefCell<T>는 기본적으로 스레드 간 동기화를 지원하지 않기 때문에, 멀티스레드 환경에서는 Arc<Mutex<T>>나 Arc<RwLock<T>> 등과 같은 다른 타입을 사용해야 합니다.\n"
   ]
  },
  {
   "cell_type": "markdown",
   "id": "5c57d393",
   "metadata": {},
   "source": [
    "## 참조 접근 처리 \n",
    "\n",
    "- Ref<T>와 RefMut<T>는 빌림(borrowing)을 사용하여, 참조자를 안전하게 사용하는 방법 중 하나입니다. \n",
    "- 이 두 타입은 std::cell::RefCell<T> 타입에서 생성됩니다."
   ]
  },
  {
   "cell_type": "markdown",
   "id": "ddf4cbb7",
   "metadata": {},
   "source": [
    "### 참조자일 경우 정수도 처리 가능 "
   ]
  },
  {
   "cell_type": "code",
   "execution_count": 45,
   "id": "a78c47e4",
   "metadata": {},
   "outputs": [],
   "source": [
    "use std::cell::RefCell;"
   ]
  },
  {
   "cell_type": "code",
   "execution_count": 46,
   "id": "731b5adf",
   "metadata": {},
   "outputs": [],
   "source": [
    "\n",
    "fn main() {\n",
    "    let x = RefCell::new(5);\n",
    "    let mut y = x.borrow_mut();\n",
    "    *y += 1;\n",
    "    println!(\"{}\", y);\n",
    "}"
   ]
  },
  {
   "cell_type": "code",
   "execution_count": 47,
   "id": "b54d8cee",
   "metadata": {},
   "outputs": [
    {
     "name": "stdout",
     "output_type": "stream",
     "text": [
      "6\n"
     ]
    }
   ],
   "source": [
    "main();"
   ]
  },
  {
   "cell_type": "markdown",
   "id": "10034ede",
   "metadata": {},
   "source": [
    "### 'Ref<T> \n",
    "\n",
    "- 불변 참조자로, RefCell<T>의 값을 참조하기 위해 사용됩니다. \n",
    "- 이를 사용하면 런타임에서 불변 참조자가 다수일 경우에도 안전하게 T 값을 공유할 수 있습니다. \n",
    "- 이는 다른 참조자 또는 &mut T 참조자와 함께 사용될 수 없습니다."
   ]
  },
  {
   "cell_type": "code",
   "execution_count": 10,
   "id": "9c80745c",
   "metadata": {},
   "outputs": [],
   "source": [
    "use std::cell::RefCell;\n",
    "\n",
    "fn main() {\n",
    "    let shared_data = RefCell::new(vec![1, 2, 3]);\n",
    "    let data_ref = shared_data.borrow();\n",
    "    println!(\"data_ref: {:?}\", data_ref);\n",
    "    \n",
    "    \n",
    "    let data_ref_2 = shared_data.borrow();\n",
    "    println!(\"data_ref_2: {:?}\", data_ref_2);\n",
    "\n",
    "}"
   ]
  },
  {
   "cell_type": "code",
   "execution_count": 11,
   "id": "0e30766a",
   "metadata": {},
   "outputs": [
    {
     "name": "stdout",
     "output_type": "stream",
     "text": [
      "data_ref: [1, 2, 3]\n",
      "data_ref_2: [1, 2, 3]\n"
     ]
    }
   ],
   "source": [
    "main();"
   ]
  },
  {
   "cell_type": "code",
   "execution_count": null,
   "id": "1d34f55d",
   "metadata": {},
   "outputs": [],
   "source": [
    "### 참조 스마트 포인터 타입 확인 "
   ]
  },
  {
   "cell_type": "code",
   "execution_count": 18,
   "id": "309073ee",
   "metadata": {},
   "outputs": [],
   "source": [
    "use std::cell::{RefCell, Ref};\n",
    "fn main() {\n",
    "    let data = RefCell::new(vec![1, 2, 3]);\n",
    "    let data_ref = data.borrow();\n",
    "    println!(\"Type of data_ref: {:?}\", std::any::type_name::<Ref<Vec<i32>>>());\n",
    "    println!(\"data_ref: {:?}\", data_ref);\n",
    "}"
   ]
  },
  {
   "cell_type": "code",
   "execution_count": 19,
   "id": "a86fba4f",
   "metadata": {},
   "outputs": [
    {
     "name": "stdout",
     "output_type": "stream",
     "text": [
      "Type of data_ref: \"core::cell::Ref<alloc::vec::Vec<i32>>\"\n",
      "data_ref: [1, 2, 3]\n"
     ]
    }
   ],
   "source": [
    "main();"
   ]
  },
  {
   "cell_type": "markdown",
   "id": "2e831f3e",
   "metadata": {},
   "source": [
    "### 'RefMut<T>\n",
    "- 가변 참조자로, RefCell<T>의 값을 변경하기 위해 사용됩니다. \n",
    "- RefCell<T>을 런타임에서 변경할 수 있는 일종의 \"가변 참조자\"로 생각할 수 있습니다. \n",
    "- RefMut<T>는 불변 참조자와 다르게 동시에 여러 개를 생성할 수 없으며, &T 참조자와 함께 사용할 수 없습니다."
   ]
  },
  {
   "cell_type": "code",
   "execution_count": 12,
   "id": "c64b01ce",
   "metadata": {},
   "outputs": [],
   "source": [
    "fn main() {\n",
    "    let shared_data = RefCell::new(vec![1, 2, 3]);\n",
    "    let mut data_ref_mut = shared_data.borrow_mut();\n",
    "    data_ref_mut.push(4);\n",
    "    println!(\"data_ref_mut: {:?}\", data_ref_mut);\n",
    "    \n",
    "    let data_ref_3 = shared_data.borrow();\n",
    "    println!(\"data_ref_3: {:?}\", data_ref_3);\n",
    "    \n",
    "}"
   ]
  },
  {
   "cell_type": "code",
   "execution_count": 13,
   "id": "46076878",
   "metadata": {},
   "outputs": [
    {
     "name": "stdout",
     "output_type": "stream",
     "text": [
      "data_ref_mut: [1, 2, 3, 4]\n"
     ]
    },
    {
     "name": "stderr",
     "output_type": "stream",
     "text": [
      "thread '<unnamed>' panicked at 'already mutably borrowed: BorrowError', src/lib.rs:9:34\n",
      "stack backtrace:\n",
      "   0: _rust_begin_unwind\n",
      "   1: core::panicking::panic_fmt\n",
      "   2: core::result::unwrap_failed\n",
      "   3: <unknown>\n",
      "   4: <unknown>\n",
      "   5: evcxr::runtime::Runtime::run_loop\n",
      "   6: evcxr::runtime::runtime_hook\n",
      "   7: evcxr_jupyter::main\n",
      "note: Some details are omitted, run with `RUST_BACKTRACE=full` for a verbose backtrace.\n"
     ]
    }
   ],
   "source": [
    "main();"
   ]
  },
  {
   "cell_type": "markdown",
   "id": "600823db",
   "metadata": {},
   "source": [
    "### 가변 참조는 항상 1번만 사용해야 한다"
   ]
  },
  {
   "cell_type": "code",
   "execution_count": 14,
   "id": "f0431944",
   "metadata": {},
   "outputs": [],
   "source": [
    "fn main() {\n",
    "    let shared_data = RefCell::new(vec![1, 2, 3]);\n",
    "    let mut data_ref_mut = shared_data.borrow_mut();\n",
    "    data_ref_mut.push(4);\n",
    "    println!(\"data_ref_mut: {:?}\", data_ref_mut);\n",
    "    \n",
    "    //let data_ref_3 = shared_data.borrow();\n",
    "    // println!(\"data_ref_3: {:?}\", data_ref_3);\n",
    "    \n",
    "}"
   ]
  },
  {
   "cell_type": "code",
   "execution_count": 15,
   "id": "c5c8b1df",
   "metadata": {},
   "outputs": [
    {
     "name": "stdout",
     "output_type": "stream",
     "text": [
      "data_ref_mut: [1, 2, 3, 4]\n"
     ]
    }
   ],
   "source": [
    "main();"
   ]
  },
  {
   "cell_type": "markdown",
   "id": "296a6a36",
   "metadata": {},
   "source": [
    "### 가변참조 스마트 포인터 타입 확인 "
   ]
  },
  {
   "cell_type": "code",
   "execution_count": 25,
   "id": "cb5d71d6",
   "metadata": {},
   "outputs": [],
   "source": [
    "use std::cell::{RefCell, RefMut};\n",
    "fn main() {\n",
    "    let data = RefCell::new(vec![1, 2, 3]);\n",
    "    let mut data_ref_mut = data.borrow_mut();\n",
    "    println!(\"Type of data_ref_mut: {:?}\", std::any::type_name::<RefMut<Vec<i32>>>());\n",
    "    data_ref_mut.push(4);\n",
    "    println!(\"data_ref_mut: {:?}\", data_ref_mut);\n",
    "}"
   ]
  },
  {
   "cell_type": "code",
   "execution_count": 26,
   "id": "1bc69188",
   "metadata": {},
   "outputs": [
    {
     "name": "stdout",
     "output_type": "stream",
     "text": [
      "Type of data_ref_mut: \"core::cell::RefMut<alloc::vec::Vec<i32>>\"\n",
      "data_ref_mut: [1, 2, 3, 4]\n"
     ]
    }
   ],
   "source": [
    "main();"
   ]
  },
  {
   "cell_type": "code",
   "execution_count": null,
   "id": "41efce89",
   "metadata": {},
   "outputs": [],
   "source": []
  }
 ],
 "metadata": {
  "kernelspec": {
   "display_name": "Rust",
   "language": "rust",
   "name": "rust"
  },
  "language_info": {
   "codemirror_mode": "rust",
   "file_extension": ".rs",
   "mimetype": "text/rust",
   "name": "Rust",
   "pygment_lexer": "rust",
   "version": ""
  }
 },
 "nbformat": 4,
 "nbformat_minor": 5
}
