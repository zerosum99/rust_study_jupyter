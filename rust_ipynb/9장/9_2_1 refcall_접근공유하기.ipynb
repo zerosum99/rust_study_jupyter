{
 "cells": [
  {
   "cell_type": "markdown",
   "id": "a9e28c36",
   "metadata": {},
   "source": [
    "## 참조 접근 처리 \n",
    "\n",
    "- Ref<T>와 RefMut<T>는 빌림(borrowing)을 사용하여, 참조자를 안전하게 사용하는 방법 중 하나입니다. \n",
    "- 이 두 타입은 std::cell::RefCell<T> 타입에서 생성됩니다."
   ]
  },
  {
   "cell_type": "markdown",
   "id": "b0e6f016",
   "metadata": {},
   "source": [
    "### 'Ref<T> \n",
    "\n",
    "- 불변 참조자로, RefCell<T>의 값을 참조하기 위해 사용됩니다. \n",
    "- 이를 사용하면 런타임에서 불변 참조자가 다수일 경우에도 안전하게 T 값을 공유할 수 있습니다. \n",
    "- 이는 다른 참조자 또는 &mut T 참조자와 함께 사용될 수 없습니다."
   ]
  },
  {
   "cell_type": "code",
   "execution_count": 10,
   "id": "892f5468",
   "metadata": {},
   "outputs": [],
   "source": [
    "use std::cell::RefCell;\n",
    "\n",
    "fn main() {\n",
    "    let shared_data = RefCell::new(vec![1, 2, 3]);\n",
    "    let data_ref = shared_data.borrow();\n",
    "    println!(\"data_ref: {:?}\", data_ref);\n",
    "    \n",
    "    \n",
    "    let data_ref_2 = shared_data.borrow();\n",
    "    println!(\"data_ref_2: {:?}\", data_ref_2);\n",
    "\n",
    "}"
   ]
  },
  {
   "cell_type": "code",
   "execution_count": 11,
   "id": "c7c70097",
   "metadata": {},
   "outputs": [
    {
     "name": "stdout",
     "output_type": "stream",
     "text": [
      "data_ref: [1, 2, 3]\n",
      "data_ref_2: [1, 2, 3]\n"
     ]
    }
   ],
   "source": [
    "main();"
   ]
  },
  {
   "cell_type": "code",
   "execution_count": null,
   "id": "c148c0f9",
   "metadata": {},
   "outputs": [],
   "source": []
  },
  {
   "cell_type": "markdown",
   "id": "4d0bd540",
   "metadata": {},
   "source": [
    "### 'RefMut<T>\n",
    "- 가변 참조자로, RefCell<T>의 값을 변경하기 위해 사용됩니다. \n",
    "- RefCell<T>을 런타임에서 변경할 수 있는 일종의 \"가변 참조자\"로 생각할 수 있습니다. \n",
    "- RefMut<T>는 불변 참조자와 다르게 동시에 여러 개를 생성할 수 없으며, &T 참조자와 함께 사용할 수 없습니다."
   ]
  },
  {
   "cell_type": "code",
   "execution_count": 12,
   "id": "60c47228",
   "metadata": {},
   "outputs": [],
   "source": [
    "fn main() {\n",
    "    let shared_data = RefCell::new(vec![1, 2, 3]);\n",
    "    let mut data_ref_mut = shared_data.borrow_mut();\n",
    "    data_ref_mut.push(4);\n",
    "    println!(\"data_ref_mut: {:?}\", data_ref_mut);\n",
    "    \n",
    "    let data_ref_3 = shared_data.borrow();\n",
    "    println!(\"data_ref_3: {:?}\", data_ref_3);\n",
    "    \n",
    "}"
   ]
  },
  {
   "cell_type": "code",
   "execution_count": 13,
   "id": "ca444e0d",
   "metadata": {},
   "outputs": [
    {
     "name": "stdout",
     "output_type": "stream",
     "text": [
      "data_ref_mut: [1, 2, 3, 4]\n"
     ]
    },
    {
     "name": "stderr",
     "output_type": "stream",
     "text": [
      "thread '<unnamed>' panicked at 'already mutably borrowed: BorrowError', src/lib.rs:9:34\n",
      "stack backtrace:\n",
      "   0: _rust_begin_unwind\n",
      "   1: core::panicking::panic_fmt\n",
      "   2: core::result::unwrap_failed\n",
      "   3: <unknown>\n",
      "   4: <unknown>\n",
      "   5: evcxr::runtime::Runtime::run_loop\n",
      "   6: evcxr::runtime::runtime_hook\n",
      "   7: evcxr_jupyter::main\n",
      "note: Some details are omitted, run with `RUST_BACKTRACE=full` for a verbose backtrace.\n"
     ]
    }
   ],
   "source": [
    "main();"
   ]
  },
  {
   "cell_type": "markdown",
   "id": "54b5cefd",
   "metadata": {},
   "source": [
    "### 가변 참조는 항상 1번만 사용해야 한다"
   ]
  },
  {
   "cell_type": "code",
   "execution_count": 14,
   "id": "b1ed9c01",
   "metadata": {},
   "outputs": [],
   "source": [
    "fn main() {\n",
    "    let shared_data = RefCell::new(vec![1, 2, 3]);\n",
    "    let mut data_ref_mut = shared_data.borrow_mut();\n",
    "    data_ref_mut.push(4);\n",
    "    println!(\"data_ref_mut: {:?}\", data_ref_mut);\n",
    "    \n",
    "    //let data_ref_3 = shared_data.borrow();\n",
    "    // println!(\"data_ref_3: {:?}\", data_ref_3);\n",
    "    \n",
    "}"
   ]
  },
  {
   "cell_type": "code",
   "execution_count": 15,
   "id": "08879429",
   "metadata": {},
   "outputs": [
    {
     "name": "stdout",
     "output_type": "stream",
     "text": [
      "data_ref_mut: [1, 2, 3, 4]\n"
     ]
    }
   ],
   "source": [
    "main();"
   ]
  },
  {
   "cell_type": "code",
   "execution_count": null,
   "id": "42b62302",
   "metadata": {},
   "outputs": [],
   "source": []
  }
 ],
 "metadata": {
  "kernelspec": {
   "display_name": "Rust",
   "language": "rust",
   "name": "rust"
  },
  "language_info": {
   "codemirror_mode": "rust",
   "file_extension": ".rs",
   "mimetype": "text/rust",
   "name": "Rust",
   "pygment_lexer": "rust",
   "version": ""
  }
 },
 "nbformat": 4,
 "nbformat_minor": 5
}
