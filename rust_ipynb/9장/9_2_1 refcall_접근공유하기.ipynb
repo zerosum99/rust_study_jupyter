{
 "cells": [
  {
   "cell_type": "markdown",
   "id": "d1a6083c",
   "metadata": {},
   "source": [
    "## 참고할 것 \n",
    "\n",
    "https://taegit.tistory.com/20?category=1041325"
   ]
  },
  {
   "cell_type": "markdown",
   "id": "b95b42eb",
   "metadata": {},
   "source": [
    "## 참조 접근 처리 \n",
    "\n",
    "- Ref<T>와 RefMut<T>는 빌림(borrowing)을 사용하여, 참조자를 안전하게 사용하는 방법 중 하나입니다. \n",
    "- 이 두 타입은 std::cell::RefCell<T> 타입에서 생성됩니다."
   ]
  },
  {
   "cell_type": "code",
   "execution_count": null,
   "id": "f5b81168",
   "metadata": {},
   "outputs": [],
   "source": []
  },
  {
   "cell_type": "markdown",
   "id": "9cfed705",
   "metadata": {},
   "source": [
    "### 'Ref<T> \n",
    "\n",
    "- 불변 참조자로, RefCell<T>의 값을 참조하기 위해 사용됩니다. \n",
    "- 이를 사용하면 런타임에서 불변 참조자가 다수일 경우에도 안전하게 T 값을 공유할 수 있습니다. \n",
    "- 이는 다른 참조자 또는 &mut T 참조자와 함께 사용될 수 없습니다."
   ]
  },
  {
   "cell_type": "code",
   "execution_count": 10,
   "id": "a01c7a1d",
   "metadata": {},
   "outputs": [],
   "source": [
    "use std::cell::RefCell;\n",
    "\n",
    "fn main() {\n",
    "    let shared_data = RefCell::new(vec![1, 2, 3]);\n",
    "    let data_ref = shared_data.borrow();\n",
    "    println!(\"data_ref: {:?}\", data_ref);\n",
    "    \n",
    "    \n",
    "    let data_ref_2 = shared_data.borrow();\n",
    "    println!(\"data_ref_2: {:?}\", data_ref_2);\n",
    "\n",
    "}"
   ]
  },
  {
   "cell_type": "code",
   "execution_count": 11,
   "id": "66f91127",
   "metadata": {},
   "outputs": [
    {
     "name": "stdout",
     "output_type": "stream",
     "text": [
      "data_ref: [1, 2, 3]\n",
      "data_ref_2: [1, 2, 3]\n"
     ]
    }
   ],
   "source": [
    "main();"
   ]
  },
  {
   "cell_type": "code",
   "execution_count": null,
   "id": "e77578fd",
   "metadata": {},
   "outputs": [],
   "source": [
    "### 참조 스마트 포인터 타입 확인 "
   ]
  },
  {
   "cell_type": "code",
   "execution_count": 18,
   "id": "87f23b98",
   "metadata": {},
   "outputs": [],
   "source": [
    "use std::cell::{RefCell, Ref};\n",
    "fn main() {\n",
    "    let data = RefCell::new(vec![1, 2, 3]);\n",
    "    let data_ref = data.borrow();\n",
    "    println!(\"Type of data_ref: {:?}\", std::any::type_name::<Ref<Vec<i32>>>());\n",
    "    println!(\"data_ref: {:?}\", data_ref);\n",
    "}"
   ]
  },
  {
   "cell_type": "code",
   "execution_count": 19,
   "id": "97664a88",
   "metadata": {},
   "outputs": [
    {
     "name": "stdout",
     "output_type": "stream",
     "text": [
      "Type of data_ref: \"core::cell::Ref<alloc::vec::Vec<i32>>\"\n",
      "data_ref: [1, 2, 3]\n"
     ]
    }
   ],
   "source": [
    "main();"
   ]
  },
  {
   "cell_type": "markdown",
   "id": "3d681fda",
   "metadata": {},
   "source": [
    "### 'RefMut<T>\n",
    "- 가변 참조자로, RefCell<T>의 값을 변경하기 위해 사용됩니다. \n",
    "- RefCell<T>을 런타임에서 변경할 수 있는 일종의 \"가변 참조자\"로 생각할 수 있습니다. \n",
    "- RefMut<T>는 불변 참조자와 다르게 동시에 여러 개를 생성할 수 없으며, &T 참조자와 함께 사용할 수 없습니다."
   ]
  },
  {
   "cell_type": "code",
   "execution_count": 12,
   "id": "9425f8f5",
   "metadata": {},
   "outputs": [],
   "source": [
    "fn main() {\n",
    "    let shared_data = RefCell::new(vec![1, 2, 3]);\n",
    "    let mut data_ref_mut = shared_data.borrow_mut();\n",
    "    data_ref_mut.push(4);\n",
    "    println!(\"data_ref_mut: {:?}\", data_ref_mut);\n",
    "    \n",
    "    let data_ref_3 = shared_data.borrow();\n",
    "    println!(\"data_ref_3: {:?}\", data_ref_3);\n",
    "    \n",
    "}"
   ]
  },
  {
   "cell_type": "code",
   "execution_count": 13,
   "id": "03d05642",
   "metadata": {},
   "outputs": [
    {
     "name": "stdout",
     "output_type": "stream",
     "text": [
      "data_ref_mut: [1, 2, 3, 4]\n"
     ]
    },
    {
     "name": "stderr",
     "output_type": "stream",
     "text": [
      "thread '<unnamed>' panicked at 'already mutably borrowed: BorrowError', src/lib.rs:9:34\n",
      "stack backtrace:\n",
      "   0: _rust_begin_unwind\n",
      "   1: core::panicking::panic_fmt\n",
      "   2: core::result::unwrap_failed\n",
      "   3: <unknown>\n",
      "   4: <unknown>\n",
      "   5: evcxr::runtime::Runtime::run_loop\n",
      "   6: evcxr::runtime::runtime_hook\n",
      "   7: evcxr_jupyter::main\n",
      "note: Some details are omitted, run with `RUST_BACKTRACE=full` for a verbose backtrace.\n"
     ]
    }
   ],
   "source": [
    "main();"
   ]
  },
  {
   "cell_type": "markdown",
   "id": "e479061d",
   "metadata": {},
   "source": [
    "### 가변 참조는 항상 1번만 사용해야 한다"
   ]
  },
  {
   "cell_type": "code",
   "execution_count": 14,
   "id": "4afcdb85",
   "metadata": {},
   "outputs": [],
   "source": [
    "fn main() {\n",
    "    let shared_data = RefCell::new(vec![1, 2, 3]);\n",
    "    let mut data_ref_mut = shared_data.borrow_mut();\n",
    "    data_ref_mut.push(4);\n",
    "    println!(\"data_ref_mut: {:?}\", data_ref_mut);\n",
    "    \n",
    "    //let data_ref_3 = shared_data.borrow();\n",
    "    // println!(\"data_ref_3: {:?}\", data_ref_3);\n",
    "    \n",
    "}"
   ]
  },
  {
   "cell_type": "code",
   "execution_count": 15,
   "id": "6b2fa8f1",
   "metadata": {},
   "outputs": [
    {
     "name": "stdout",
     "output_type": "stream",
     "text": [
      "data_ref_mut: [1, 2, 3, 4]\n"
     ]
    }
   ],
   "source": [
    "main();"
   ]
  },
  {
   "cell_type": "markdown",
   "id": "28753bac",
   "metadata": {},
   "source": [
    "### 가변참조 스마트 포인터 타입 확인 "
   ]
  },
  {
   "cell_type": "code",
   "execution_count": 25,
   "id": "8d94789a",
   "metadata": {},
   "outputs": [],
   "source": [
    "use std::cell::{RefCell, RefMut};\n",
    "fn main() {\n",
    "    let data = RefCell::new(vec![1, 2, 3]);\n",
    "    let mut data_ref_mut = data.borrow_mut();\n",
    "    println!(\"Type of data_ref_mut: {:?}\", std::any::type_name::<RefMut<Vec<i32>>>());\n",
    "    data_ref_mut.push(4);\n",
    "    println!(\"data_ref_mut: {:?}\", data_ref_mut);\n",
    "}"
   ]
  },
  {
   "cell_type": "code",
   "execution_count": 26,
   "id": "23b7af11",
   "metadata": {},
   "outputs": [
    {
     "name": "stdout",
     "output_type": "stream",
     "text": [
      "Type of data_ref_mut: \"core::cell::RefMut<alloc::vec::Vec<i32>>\"\n",
      "data_ref_mut: [1, 2, 3, 4]\n"
     ]
    }
   ],
   "source": [
    "main();"
   ]
  },
  {
   "cell_type": "code",
   "execution_count": null,
   "id": "307ad4d8",
   "metadata": {},
   "outputs": [],
   "source": []
  }
 ],
 "metadata": {
  "kernelspec": {
   "display_name": "Rust",
   "language": "rust",
   "name": "rust"
  },
  "language_info": {
   "codemirror_mode": "rust",
   "file_extension": ".rs",
   "mimetype": "text/rust",
   "name": "Rust",
   "pygment_lexer": "rust",
   "version": ""
  }
 },
 "nbformat": 4,
 "nbformat_minor": 5
}
