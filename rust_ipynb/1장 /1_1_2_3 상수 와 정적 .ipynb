{
 "cells": [
  {
   "cell_type": "markdown",
   "id": "64fcad14",
   "metadata": {},
   "source": [
    "## 1. 상수와 정적변수 정의 "
   ]
  },
  {
   "cell_type": "markdown",
   "id": "41e086b2",
   "metadata": {},
   "source": [
    "## 1-1. 상수 정의 "
   ]
  },
  {
   "cell_type": "markdown",
   "id": "b6f627ad",
   "metadata": {},
   "source": [
    "###  전역 영역에 정의 "
   ]
  },
  {
   "cell_type": "code",
   "execution_count": 2,
   "id": "254b1a04",
   "metadata": {},
   "outputs": [],
   "source": [
    "const MIN_ : i32 = 100;"
   ]
  },
  {
   "cell_type": "markdown",
   "id": "6f2eba23",
   "metadata": {},
   "source": [
    "### 함수 내부에 정의 "
   ]
  },
  {
   "cell_type": "code",
   "execution_count": 3,
   "id": "2d6bd91d",
   "metadata": {},
   "outputs": [],
   "source": [
    "fn main() {\n",
    "    const MIN : i32 = 100;\n",
    "    let x = 100;\n",
    "    \n",
    "    let y = x + MIN;\n",
    "    println!(\" {} \", y);\n",
    "}"
   ]
  },
  {
   "cell_type": "code",
   "execution_count": 4,
   "id": "b8fdabb6",
   "metadata": {},
   "outputs": [
    {
     "data": {
      "text/plain": [
       "()"
      ]
     },
     "execution_count": 4,
     "metadata": {},
     "output_type": "execute_result"
    },
    {
     "name": "stdout",
     "output_type": "stream",
     "text": [
      " 200 \n"
     ]
    }
   ],
   "source": [
    "main()"
   ]
  },
  {
   "cell_type": "markdown",
   "id": "46a293eb",
   "metadata": {},
   "source": [
    "## 1-2. 정적변수: 전역변수 정의 "
   ]
  },
  {
   "cell_type": "markdown",
   "id": "68a97991",
   "metadata": {},
   "source": [
    "### 함수 외부에 저으이 "
   ]
  },
  {
   "cell_type": "code",
   "execution_count": 9,
   "id": "d5658084",
   "metadata": {},
   "outputs": [],
   "source": [
    "static MM : i32 = 700;"
   ]
  },
  {
   "cell_type": "code",
   "execution_count": 10,
   "id": "f6012792",
   "metadata": {},
   "outputs": [],
   "source": [
    "fn main() {\n",
    "    let x = 100;\n",
    "    \n",
    "    let y = x + MM;\n",
    "    println!(\" {} \", y);\n",
    "}"
   ]
  },
  {
   "cell_type": "code",
   "execution_count": 11,
   "id": "e7ef8b11",
   "metadata": {},
   "outputs": [
    {
     "name": "stdout",
     "output_type": "stream",
     "text": [
      " 800 \n"
     ]
    },
    {
     "data": {
      "text/plain": [
       "()"
      ]
     },
     "execution_count": 11,
     "metadata": {},
     "output_type": "execute_result"
    }
   ],
   "source": [
    "main()"
   ]
  },
  {
   "cell_type": "code",
   "execution_count": null,
   "id": "19789add",
   "metadata": {},
   "outputs": [],
   "source": []
  },
  {
   "cell_type": "code",
   "execution_count": null,
   "id": "ead28670",
   "metadata": {},
   "outputs": [],
   "source": []
  },
  {
   "cell_type": "markdown",
   "id": "e8ee5576",
   "metadata": {},
   "source": [
    "## 1-3. 상수와 정적 변수 처리 "
   ]
  },
  {
   "cell_type": "code",
   "execution_count": 12,
   "id": "12d99524",
   "metadata": {},
   "outputs": [],
   "source": [
    "const MIN_ : i32 = 100;\n",
    "\n",
    "static MM : i32 = 100;\n",
    "\n",
    "fn get_min() -> i32 {\n",
    "    MIN_\n",
    "}\n",
    "\n",
    "\n",
    "fn main() {\n",
    "    \n",
    "    let max : i32 = 100;\n",
    "    println!(\"variable = {max}\");\n",
    "    const MAX : i32 = 100;\n",
    "    println!(\"constants = {MAX}\");\n",
    "    let min = get_min();\n",
    "    println!(\"global constants = {min}\");\n",
    "    let mmm = MM;\n",
    "    println!(\"global varialbe  = {mmm}\");\n",
    "    println!(\"global varialbe  = {MM}\");\n",
    "}"
   ]
  },
  {
   "cell_type": "code",
   "execution_count": 13,
   "id": "785d53a0",
   "metadata": {},
   "outputs": [
    {
     "name": "stdout",
     "output_type": "stream",
     "text": [
      "variable = 100\n",
      "constants = 100\n",
      "global constants = 100\n",
      "global varialbe  = 100\n",
      "global varialbe  = 100\n"
     ]
    },
    {
     "data": {
      "text/plain": [
       "()"
      ]
     },
     "execution_count": 13,
     "metadata": {},
     "output_type": "execute_result"
    }
   ],
   "source": [
    "main()"
   ]
  },
  {
   "cell_type": "code",
   "execution_count": null,
   "id": "4766a2b4",
   "metadata": {},
   "outputs": [],
   "source": []
  }
 ],
 "metadata": {
  "kernelspec": {
   "display_name": "Rust",
   "language": "rust",
   "name": "rust"
  },
  "language_info": {
   "codemirror_mode": "rust",
   "file_extension": ".rs",
   "mimetype": "text/rust",
   "name": "Rust",
   "pygment_lexer": "rust",
   "version": ""
  }
 },
 "nbformat": 4,
 "nbformat_minor": 5
}
