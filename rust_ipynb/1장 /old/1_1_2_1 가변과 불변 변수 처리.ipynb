{
 "cells": [
  {
   "cell_type": "code",
   "execution_count": null,
   "id": "2d7c759a",
   "metadata": {},
   "outputs": [],
   "source": []
  },
  {
   "cell_type": "markdown",
   "id": "a4e6e31b",
   "metadata": {},
   "source": [
    "# 1. 변수 정의 "
   ]
  },
  {
   "cell_type": "markdown",
   "id": "072deb40",
   "metadata": {},
   "source": [
    "## 변수는 기본으로 불변\n",
    "\n",
    "- 변수는 기본으로 재할당이 불가하다."
   ]
  },
  {
   "cell_type": "code",
   "execution_count": 8,
   "id": "d22a5f36",
   "metadata": {},
   "outputs": [],
   "source": [
    "fn main() {\n",
    "    let x = 5;\n",
    "    println!(\"The value of x is: {}\", x);\n",
    "    // x = 6;    // 기본으로 재할당 금지\n",
    "    println!(\"The value of x is: {}\", x);\n",
    "}"
   ]
  },
  {
   "cell_type": "code",
   "execution_count": 9,
   "id": "a62d09ca",
   "metadata": {},
   "outputs": [
    {
     "name": "stdout",
     "output_type": "stream",
     "text": [
      "The value of x is: 5\n",
      "The value of x is: 5\n"
     ]
    },
    {
     "data": {
      "text/plain": [
       "()"
      ]
     },
     "execution_count": 9,
     "metadata": {},
     "output_type": "execute_result"
    }
   ],
   "source": [
    "main() "
   ]
  },
  {
   "cell_type": "markdown",
   "id": "3a15dd07",
   "metadata": {},
   "source": [
    "## 변수 초기화\n",
    "\n",
    "- 변수를 정의하고 사용하기 전에 할당을 통해 값을 초기화해서 사용 "
   ]
  },
  {
   "cell_type": "code",
   "execution_count": 6,
   "id": "34bd8432",
   "metadata": {},
   "outputs": [],
   "source": [
    "fn main() {\n",
    "    let x;\n",
    "    x= 100;\n",
    "    println!(\"The value of x is: {}\", x);\n",
    "}"
   ]
  },
  {
   "cell_type": "code",
   "execution_count": 7,
   "id": "3ce98caf",
   "metadata": {},
   "outputs": [
    {
     "name": "stdout",
     "output_type": "stream",
     "text": [
      "The value of x is: 100\n"
     ]
    },
    {
     "data": {
      "text/plain": [
       "()"
      ]
     },
     "execution_count": 7,
     "metadata": {},
     "output_type": "execute_result"
    }
   ],
   "source": [
    "main()"
   ]
  },
  {
   "cell_type": "code",
   "execution_count": null,
   "id": "8c1c774d",
   "metadata": {},
   "outputs": [],
   "source": []
  },
  {
   "cell_type": "markdown",
   "id": "da547f7b",
   "metadata": {},
   "source": [
    "## 가변 변수 정의 \n",
    "\n",
    "- mut 키워드를 지정해서 변수를 재할당 가능하도록 정리"
   ]
  },
  {
   "cell_type": "code",
   "execution_count": 10,
   "id": "ab324ab6",
   "metadata": {},
   "outputs": [],
   "source": [
    "fn main() {\n",
    "    let mut x = 5;\n",
    "    println!(\"The value of x is: {}\", x);\n",
    "    x = 6;                \n",
    "    println!(\"The value of x is: {}\", x);\n",
    "}"
   ]
  },
  {
   "cell_type": "code",
   "execution_count": 11,
   "id": "278a0cd5",
   "metadata": {},
   "outputs": [
    {
     "name": "stdout",
     "output_type": "stream",
     "text": [
      "The value of x is: 5\n",
      "The value of x is: 6\n"
     ]
    },
    {
     "data": {
      "text/plain": [
       "()"
      ]
     },
     "execution_count": 11,
     "metadata": {},
     "output_type": "execute_result"
    }
   ],
   "source": [
    "main()"
   ]
  },
  {
   "cell_type": "code",
   "execution_count": null,
   "id": "0f83ba3b",
   "metadata": {},
   "outputs": [],
   "source": []
  }
 ],
 "metadata": {
  "kernelspec": {
   "display_name": "Rust",
   "language": "rust",
   "name": "rust"
  },
  "language_info": {
   "codemirror_mode": "rust",
   "file_extension": ".rs",
   "mimetype": "text/rust",
   "name": "Rust",
   "pygment_lexer": "rust",
   "version": ""
  }
 },
 "nbformat": 4,
 "nbformat_minor": 5
}
