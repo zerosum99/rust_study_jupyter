{
 "cells": [
  {
   "cell_type": "code",
   "execution_count": null,
   "id": "a3bfa3c8",
   "metadata": {},
   "outputs": [],
   "source": []
  },
  {
   "cell_type": "markdown",
   "id": "4527362c",
   "metadata": {},
   "source": [
    "## 불변 메서드  : i32"
   ]
  },
  {
   "cell_type": "code",
   "execution_count": 5,
   "id": "bb8ea5d2",
   "metadata": {},
   "outputs": [],
   "source": [
    "fn main() {\n",
    "    let x: i32 = -10;\n",
    "\n",
    "    // 불변 메서드 사용\n",
    "    println!(\"x.abs() = {} , {}\", x.abs(), x);\n",
    "    println!(\"x.count_ones() = {}\", x.count_ones());\n",
    "    println!(\"x.leading_zeros() = {}\", x.leading_zeros());\n",
    "    println!(\"x.trailing_zeros() = {}\", x.trailing_zeros());\n",
    "}"
   ]
  },
  {
   "cell_type": "code",
   "execution_count": 6,
   "id": "1484123e",
   "metadata": {},
   "outputs": [
    {
     "name": "stdout",
     "output_type": "stream",
     "text": [
      "x.abs() = 10 , -10\n",
      "x.count_ones() = 30\n",
      "x.leading_zeros() = 0\n",
      "x.trailing_zeros() = 1\n"
     ]
    }
   ],
   "source": [
    "main();"
   ]
  },
  {
   "cell_type": "markdown",
   "id": "d09a2325",
   "metadata": {},
   "source": [
    "## 불변 메서드  : u32"
   ]
  },
  {
   "cell_type": "code",
   "execution_count": 12,
   "id": "e50c794c",
   "metadata": {},
   "outputs": [],
   "source": [
    "fn main() {\n",
    "    let x: u32 = 10;\n",
    "\n",
    "    // 불변 메서드 사용\n",
    "    println!(\"x.count_ones() = {}\", x.count_ones());\n",
    "    println!(\"x.leading_zeros() = {}\", x.leading_zeros());\n",
    "    println!(\"x.trailing_zeros() = {}\", x.trailing_zeros());\n",
    "}"
   ]
  },
  {
   "cell_type": "code",
   "execution_count": 13,
   "id": "65c21320",
   "metadata": {},
   "outputs": [
    {
     "name": "stdout",
     "output_type": "stream",
     "text": [
      "x.count_ones() = 2\n",
      "x.leading_zeros() = 28\n",
      "x.trailing_zeros() = 1\n"
     ]
    },
    {
     "data": {
      "text/plain": [
       "()"
      ]
     },
     "execution_count": 13,
     "metadata": {},
     "output_type": "execute_result"
    }
   ],
   "source": [
    "main()"
   ]
  },
  {
   "cell_type": "code",
   "execution_count": null,
   "id": "5697777b",
   "metadata": {},
   "outputs": [],
   "source": []
  },
  {
   "cell_type": "markdown",
   "id": "eedf0c37",
   "metadata": {},
   "source": [
    "## 가변 메서드\n",
    "\n",
    "- 트레이트를 사용하고 이 메서드를 사용해야 함 "
   ]
  },
  {
   "cell_type": "code",
   "execution_count": 10,
   "id": "d6375ee8",
   "metadata": {},
   "outputs": [],
   "source": [
    "use std::ops::Add;\n",
    "use std::ops::Sub;\n",
    "use std::ops::Mul;\n",
    "use std::ops::Div;\n",
    "use std::ops::Rem;\n",
    "\n",
    "fn main() {\n",
    "    let mut x: i32 = 10;\n",
    "\n",
    "    // 가변 메서드 사용\n",
    "    x = x.add(20);\n",
    "    println!(\"x = {}\", x);\n",
    "\n",
    "    x = x.sub(5);\n",
    "    println!(\"x = {}\", x);\n",
    "\n",
    "    x = x.mul(2);\n",
    "    println!(\"x = {}\", x);\n",
    "\n",
    "    x = x.div(4);\n",
    "    println!(\"x = {}\", x);\n",
    "\n",
    "    x = x.rem(3);\n",
    "    println!(\"x = {}\", x);\n",
    "}"
   ]
  },
  {
   "cell_type": "code",
   "execution_count": 11,
   "id": "3af16819",
   "metadata": {},
   "outputs": [
    {
     "name": "stdout",
     "output_type": "stream",
     "text": [
      "x = 30\n",
      "x = 25\n",
      "x = 50\n",
      "x = 12\n",
      "x = 0\n"
     ]
    }
   ],
   "source": [
    "main();"
   ]
  },
  {
   "cell_type": "code",
   "execution_count": 14,
   "id": "087ecb22",
   "metadata": {},
   "outputs": [],
   "source": [
    "fn main() {\n",
    "    let mut x: u32 = 10;\n",
    "\n",
    "    // 가변 메서드 사용\n",
    "    x = x.add(20);\n",
    "    println!(\"x = {}\", x);\n",
    "\n",
    "    x = x.sub(5);\n",
    "    println!(\"x = {}\", x);\n",
    "\n",
    "    x = x.mul(2);\n",
    "    println!(\"x = {}\", x);\n",
    "\n",
    "    x = x.div(4);\n",
    "    println!(\"x = {}\", x);\n",
    "\n",
    "    x = x.rem(3);\n",
    "    println!(\"x = {}\", x);\n",
    "}"
   ]
  },
  {
   "cell_type": "code",
   "execution_count": 15,
   "id": "9bb6a11d",
   "metadata": {},
   "outputs": [
    {
     "name": "stdout",
     "output_type": "stream",
     "text": [
      "x = 30\n",
      "x = 25\n",
      "x = 50\n",
      "x = 12\n",
      "x = 0\n"
     ]
    }
   ],
   "source": [
    "main();"
   ]
  },
  {
   "cell_type": "code",
   "execution_count": null,
   "id": "d1d41d3d",
   "metadata": {},
   "outputs": [],
   "source": []
  }
 ],
 "metadata": {
  "kernelspec": {
   "display_name": "Rust",
   "language": "rust",
   "name": "rust"
  },
  "language_info": {
   "codemirror_mode": "rust",
   "file_extension": ".rs",
   "mimetype": "text/rust",
   "name": "Rust",
   "pygment_lexer": "rust",
   "version": ""
  }
 },
 "nbformat": 4,
 "nbformat_minor": 5
}
