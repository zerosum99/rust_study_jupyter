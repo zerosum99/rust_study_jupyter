{
 "cells": [
  {
   "cell_type": "markdown",
   "id": "5e25cd4b",
   "metadata": {},
   "source": [
    "# "
   ]
  },
  {
   "cell_type": "markdown",
   "id": "25e3beb7",
   "metadata": {},
   "source": [
    "# 1. 변수(variable) 정의하기  : 기본의 불변(immutable)\n",
    "\n",
    "- 변수 정의는 let 과 변수명을 사용한다.\n",
    "- 변수는 가변과 불변으로 정의할 수 있다.\n",
    "- 불변 변수는 한번 정의하면 다시 갱신할 수 없다.\n",
    "- 가변 변수는 정의한 후에 계속 값을 변경할 수 있다."
   ]
  },
  {
   "cell_type": "code",
   "execution_count": null,
   "id": "acb5eb68",
   "metadata": {},
   "outputs": [],
   "source": []
  },
  {
   "cell_type": "markdown",
   "id": "53232ace",
   "metadata": {},
   "source": [
    "## 1-1 변수 바인딩\n",
    "\n",
    "- 변수를 정의 즉 변수에 초기값을 할당하는 것을 변수 바인딩(binding)이라고 한다.\n",
    "- 변수를 정의하는 예약어는  let 이다. "
   ]
  },
  {
   "cell_type": "markdown",
   "id": "2cd3549b",
   "metadata": {},
   "source": [
    "### 변수를 정의하기\n",
    "\n",
    "- 변수 이름과 초기값을 할당한다. "
   ]
  },
  {
   "cell_type": "code",
   "execution_count": 2,
   "id": "a77c861d",
   "metadata": {},
   "outputs": [],
   "source": [
    "let var = 100;"
   ]
  },
  {
   "cell_type": "markdown",
   "id": "1d3553c4",
   "metadata": {},
   "source": [
    "### 변수 참조\n",
    "- 변수 내의 값을 조회하는 것을 변수 참조라고 한다.\n",
    "- 불변 변수라 한번 정의한 값은 변경할 수 없다.  "
   ]
  },
  {
   "cell_type": "code",
   "execution_count": 3,
   "id": "eecb79f0",
   "metadata": {},
   "outputs": [
    {
     "data": {
      "text/plain": [
       "100"
      ]
     },
     "execution_count": 3,
     "metadata": {},
     "output_type": "execute_result"
    }
   ],
   "source": [
    "var"
   ]
  },
  {
   "cell_type": "markdown",
   "id": "4e645a45",
   "metadata": {},
   "source": [
    "### 변수에 자료형을 지정하기 \n",
    "\n",
    "- 변수에 타입을 지정하는 것을 타입 어노테이션을 붙이는 것이다.\n",
    "- 변수 이름 다음에 콜론(:) 과 타입을 정의하는 것 "
   ]
  },
  {
   "cell_type": "code",
   "execution_count": 4,
   "id": "16605ff3",
   "metadata": {},
   "outputs": [],
   "source": [
    "let x : u32 = 100;"
   ]
  },
  {
   "cell_type": "code",
   "execution_count": 5,
   "id": "8640ba27",
   "metadata": {},
   "outputs": [
    {
     "data": {
      "text/plain": [
       "100"
      ]
     },
     "execution_count": 5,
     "metadata": {},
     "output_type": "execute_result"
    }
   ],
   "source": [
    "x "
   ]
  },
  {
   "cell_type": "code",
   "execution_count": null,
   "id": "de6e2fc4-6ce4-4022-ba36-765aefc6f69f",
   "metadata": {},
   "outputs": [],
   "source": []
  },
  {
   "cell_type": "markdown",
   "id": "89ddeee7",
   "metadata": {},
   "source": [
    "## 변수 이름 명명규칙\n",
    "\n",
    "- 스네이크 표기법 즉 단어별로 언더스코어를 붙여서 이름을 짓는다.\n",
    "- 변수는 단어가 전부 소문자로 작성한다.\n",
    "- 스네이크 방식(소문자로 처리) 예 : sbcd_edf\n",
    "- 혹시 미사용 워닝을 방지하기 위해서는 변수이름 앞에 언더스코어(_)를 넣는다.\n",
    "- 숫자가 첫번째 단어로 올 수 없다."
   ]
  },
  {
   "cell_type": "markdown",
   "id": "fb8d2e91",
   "metadata": {},
   "source": [
    "### 사용하지 않는 변수가 정의된 경우 경고\n",
    "\n",
    "- 그래서 밑줄로 시작하는 변수는 정의한 후에 사용하지 않아도 경고가 없다 "
   ]
  },
  {
   "cell_type": "code",
   "execution_count": 6,
   "id": "8dc28fa5",
   "metadata": {},
   "outputs": [],
   "source": [
    "let _abc = 300;"
   ]
  },
  {
   "cell_type": "markdown",
   "id": "150c24a0",
   "metadata": {},
   "source": [
    "### 변수의 이름은 _나 문자가 첫문자.."
   ]
  },
  {
   "cell_type": "code",
   "execution_count": 7,
   "id": "e00ba900",
   "metadata": {},
   "outputs": [],
   "source": [
    "let under_score = 100;"
   ]
  },
  {
   "cell_type": "code",
   "execution_count": null,
   "id": "750fefef",
   "metadata": {},
   "outputs": [],
   "source": []
  },
  {
   "cell_type": "markdown",
   "id": "65f3ed55",
   "metadata": {},
   "source": [
    "###  타입추론\n",
    "\n",
    "- 명시적으로 타입을 지정해야 할 때는 컴파일 에러를 내서 타입을 지정하도록 한다."
   ]
  },
  {
   "cell_type": "code",
   "execution_count": 3,
   "id": "252c5886",
   "metadata": {},
   "outputs": [],
   "source": [
    "let immu_var = 300;"
   ]
  },
  {
   "cell_type": "markdown",
   "id": "baec768f-155b-44e0-9875-dd3b59c58f91",
   "metadata": {},
   "source": [
    "### 변수를 출력하기\n",
    "- println! 즉 매크로를 호출해서 출력을 한다.\n",
    "- 함수가 아닌 매크로를 제공하는 이유는 다양한 경우에 맞춰 지정하기 때문이다.\n",
    "- 출력하는 문자열 내부에 {변수명} 등을 작성해서 변수의 값을 바로 출력할 수 있다."
   ]
  },
  {
   "cell_type": "code",
   "execution_count": 4,
   "id": "cef1da3a",
   "metadata": {},
   "outputs": [
    {
     "name": "stdout",
     "output_type": "stream",
     "text": [
      " 변수 출력 300\n"
     ]
    }
   ],
   "source": [
    "println!(\" 변수 출력 {immu_var}\");"
   ]
  },
  {
   "cell_type": "code",
   "execution_count": null,
   "id": "633e2458-d14b-4f4b-8499-362b79e2edbc",
   "metadata": {},
   "outputs": [],
   "source": []
  },
  {
   "cell_type": "markdown",
   "id": "4bab0b00",
   "metadata": {},
   "source": [
    "##  1-2. 변경불가능한 변수 \n",
    "\n"
   ]
  },
  {
   "cell_type": "markdown",
   "id": "a7fb729b",
   "metadata": {},
   "source": [
    "### 변경 불가능한 변수 \n",
    "- 한 번 변수가 정의되면 다시 갱신할 수 없다.\n",
    "\n",
    "- 변수는 let 으로 변수명을 바이딩 처리한다."
   ]
  },
  {
   "cell_type": "markdown",
   "id": "3c1a83f2",
   "metadata": {},
   "source": [
    "### let 변수명 : 타입 어노테이션 = 값;"
   ]
  },
  {
   "cell_type": "code",
   "execution_count": 8,
   "id": "df42d7d7",
   "metadata": {},
   "outputs": [],
   "source": [
    "let int_32 : u32 = 100;"
   ]
  },
  {
   "cell_type": "markdown",
   "id": "05b82a7e",
   "metadata": {},
   "source": [
    "### 변수의 주소를 출력하기\n",
    "\n",
    "- 변수의 주소를 참조 & 로 얻는다.\n",
    "- 왜 포인터가 아니고 참조일까?  포인터는 기본으로 변경가능하지만 러스트는 일단 변경이 불가능한 참조를 제공한다.\n",
    "- 변경이 가능하다 그래도 참조는 동일하고 참조가 가르치는 곳이 값이 변경된다. \n",
    "- 참조 즉 포인터 주소의 출력은 플레이스홀더 내에 추가 기능인 :p 를 추가하고 변수명 앞에 & 기호를 추가한다.\n",
    "- "
   ]
  },
  {
   "cell_type": "code",
   "execution_count": 9,
   "id": "aa83de29",
   "metadata": {},
   "outputs": [
    {
     "name": "stdout",
     "output_type": "stream",
     "text": [
      " 변수의 포인터 0x16b0aeac4\n"
     ]
    }
   ],
   "source": [
    "println!(\" 변수의 포인터 {:p}\" , &int_32 );"
   ]
  },
  {
   "cell_type": "code",
   "execution_count": null,
   "id": "b076545d-ac74-4008-afa0-321b56fe69bb",
   "metadata": {},
   "outputs": [],
   "source": []
  },
  {
   "cell_type": "markdown",
   "id": "c8dc8006",
   "metadata": {},
   "source": [
    "### 불변함수에 재할당할 경우 에러 발생 확인하기\n",
    "\n",
    "-  불변은 딱 한번만 할당이 가능하다\n",
    "-  두번째 할당하면 어떤 에러가 발생하는 지 확인한다.\n",
    "-  불변변수에 재할당을 하면 두번 할당이 불가능하다고 알려준다 "
   ]
  },
  {
   "cell_type": "code",
   "execution_count": 2,
   "id": "378c42c4",
   "metadata": {},
   "outputs": [
    {
     "ename": "Error",
     "evalue": "cannot assign twice to immutable variable `x`",
     "output_type": "error",
     "traceback": [
      "\u001b[31m[E0384] Error:\u001b[0m cannot assign twice to immutable variable `x`",
      "   \u001b[38;5;246m╭\u001b[0m\u001b[38;5;246m─\u001b[0m\u001b[38;5;246m[\u001b[0mcommand_2:1:1\u001b[38;5;246m]\u001b[0m",
      "   \u001b[38;5;246m│\u001b[0m",
      " \u001b[38;5;246m2 │\u001b[0m \u001b[38;5;249m \u001b[0m\u001b[38;5;249m \u001b[0m\u001b[38;5;249m \u001b[0m\u001b[38;5;249m \u001b[0m\u001b[38;5;249ml\u001b[0m\u001b[38;5;249me\u001b[0m\u001b[38;5;249mt\u001b[0m\u001b[38;5;249m \u001b[0m\u001b[38;5;54mx\u001b[0m\u001b[38;5;249m \u001b[0m\u001b[38;5;249m=\u001b[0m\u001b[38;5;249m \u001b[0m\u001b[38;5;249m5\u001b[0m\u001b[38;5;249m;\u001b[0m",
      " \u001b[38;5;246m  ·\u001b[0m         \u001b[38;5;54m┬\u001b[0m  ",
      " \u001b[38;5;246m  ·\u001b[0m         \u001b[38;5;54m╰\u001b[0m\u001b[38;5;54m─\u001b[0m\u001b[38;5;54m─\u001b[0m first assignment to `x`",
      " \u001b[38;5;246m  ·\u001b[0m         \u001b[38;5;68m│\u001b[0m  ",
      " \u001b[38;5;246m  ·\u001b[0m         \u001b[38;5;68m╰\u001b[0m\u001b[38;5;68m─\u001b[0m\u001b[38;5;68m─\u001b[0m help: consider making this binding mutable: `mut x`",
      " \u001b[38;5;246m  ·\u001b[0m ",
      " \u001b[38;5;246m4 │\u001b[0m \u001b[38;5;249m \u001b[0m\u001b[38;5;249m \u001b[0m\u001b[38;5;249m \u001b[0m\u001b[38;5;249m \u001b[0m\u001b[38;5;100mx\u001b[0m\u001b[38;5;100m \u001b[0m\u001b[38;5;100m=\u001b[0m\u001b[38;5;100m \u001b[0m\u001b[38;5;100m6\u001b[0m\u001b[38;5;249m;\u001b[0m",
      " \u001b[38;5;246m  ·\u001b[0m     \u001b[38;5;100m─\u001b[0m\u001b[38;5;100m─\u001b[0m\u001b[38;5;100m┬\u001b[0m\u001b[38;5;100m─\u001b[0m\u001b[38;5;100m─\u001b[0m  ",
      " \u001b[38;5;246m  ·\u001b[0m       \u001b[38;5;100m╰\u001b[0m\u001b[38;5;100m─\u001b[0m\u001b[38;5;100m─\u001b[0m\u001b[38;5;100m─\u001b[0m\u001b[38;5;100m─\u001b[0m cannot assign twice to immutable variable",
      " \u001b[38;5;246m  ·\u001b[0m ",
      " \u001b[38;5;246m  ·\u001b[0m \u001b[38;5;115mNote\u001b[0m: You can change an existing variable to mutable like: `let mut x = x;`",
      "\u001b[38;5;246m───╯\u001b[0m"
     ]
    }
   ],
   "source": [
    "fn main() {\n",
    "    let x = 5;\n",
    "    println!(\"The value of x is: {x}\");\n",
    "    x = 6;\n",
    "    println!(\"The value of x is: {x}\");\n",
    "}"
   ]
  },
  {
   "cell_type": "code",
   "execution_count": null,
   "id": "59a531d2-15e0-4986-a724-e582345354db",
   "metadata": {},
   "outputs": [],
   "source": []
  },
  {
   "cell_type": "markdown",
   "id": "19b0e3d7",
   "metadata": {},
   "source": [
    "## 1-3  변수의 값을 변경할 경우 \n",
    "\n",
    "- let 과 변수명 사이에 mut 키워드를 지정한다.\n",
    "- 그러면 변수에 저장한 값을 계속 변경할 수 있다.\n"
   ]
  },
  {
   "cell_type": "markdown",
   "id": "b3b292e3",
   "metadata": {},
   "source": [
    "### 변경가능한 변수 지정\n",
    "\n",
    "- let 과 변수명 사이 mut 예약어를 지정한다.\n",
    "- 이 변수에 저장되는 값을 변경할 수 있다는 의미이다 "
   ]
  },
  {
   "cell_type": "code",
   "execution_count": 8,
   "id": "7ac21cef",
   "metadata": {},
   "outputs": [],
   "source": [
    "let mut  mut_var = 300;"
   ]
  },
  {
   "cell_type": "code",
   "execution_count": 9,
   "id": "46c1cb4a",
   "metadata": {},
   "outputs": [
    {
     "name": "stdout",
     "output_type": "stream",
     "text": [
      " 변경가능한 변수의 포인터 0x16b322b64\n"
     ]
    }
   ],
   "source": [
    "println!(\" 변경가능한 변수의 포인터 {:p}\" , &mut_var);"
   ]
  },
  {
   "cell_type": "markdown",
   "id": "a1adc225",
   "metadata": {},
   "source": [
    "### 현재 값에 400을 더해서 새로운 값이 할당 \n",
    "\n",
    "- 변경 가능한 변수라서 변경이 가능하다 "
   ]
  },
  {
   "cell_type": "code",
   "execution_count": 10,
   "id": "7bd7795a",
   "metadata": {},
   "outputs": [],
   "source": [
    "mut_var += 400;"
   ]
  },
  {
   "cell_type": "code",
   "execution_count": 11,
   "id": "7714b955",
   "metadata": {},
   "outputs": [
    {
     "name": "stdout",
     "output_type": "stream",
     "text": [
      " 변경가능한 변수의 포인터 0x16b322b64\n"
     ]
    }
   ],
   "source": [
    "println!(\" 변경가능한 변수의 포인터 {:p}\" , &mut_var);"
   ]
  },
  {
   "cell_type": "code",
   "execution_count": 12,
   "id": "8188b364",
   "metadata": {},
   "outputs": [
    {
     "data": {
      "text/plain": [
       "700"
      ]
     },
     "execution_count": 12,
     "metadata": {},
     "output_type": "execute_result"
    }
   ],
   "source": [
    "mut_var"
   ]
  },
  {
   "cell_type": "code",
   "execution_count": null,
   "id": "10d78583",
   "metadata": {},
   "outputs": [],
   "source": []
  },
  {
   "cell_type": "markdown",
   "id": "ac7f23f3",
   "metadata": {},
   "source": [
    "## 1-4 변수 새도우잉(shadowing)  \n",
    "\n",
    "-  변경불가한 변수가 기본이다.  그래서 동일한 이름으로 여러번 변수를 지정할 수 있다.\n",
    "-  이것은 앞에 정의한 변수를 감추는 결과를 보인다.\n",
    "-  새도잉은 실제는 새로운 변수를 지정하는 것으로 이름만 같을 뿐이다.\n"
   ]
  },
  {
   "cell_type": "code",
   "execution_count": 11,
   "id": "18fe336a",
   "metadata": {},
   "outputs": [],
   "source": [
    "fn main() {\n",
    "    let variable = 100;\n",
    "    println!(\" first variable = {variable}\");\n",
    "    let variable = \"shadowing\";\n",
    "    println!(\" second variable = {variable}\");\n",
    "    \n",
    "}"
   ]
  },
  {
   "cell_type": "code",
   "execution_count": 12,
   "id": "00969da6",
   "metadata": {},
   "outputs": [
    {
     "name": "stdout",
     "output_type": "stream",
     "text": [
      " first variable = 100\n",
      " second variable = shadowing\n"
     ]
    }
   ],
   "source": [
    "main();"
   ]
  },
  {
   "cell_type": "markdown",
   "id": "a1dc5650-57a2-49bc-a4f2-bdfde75dcf32",
   "metadata": {},
   "source": [
    "### 가변 변수에 대해서도 새도잉이 발생할 수 있다."
   ]
  },
  {
   "cell_type": "code",
   "execution_count": 6,
   "id": "b910ae92-f76f-46dd-a06d-51be5b67e3be",
   "metadata": {},
   "outputs": [],
   "source": [
    "fn main() {\n",
    "    let mut variable = 100;\n",
    "    println!(\" first variable = {variable}\");\n",
    "    let variable = \"shadowing\";\n",
    "    println!(\" second variable = {variable}\");\n",
    "    \n",
    "}"
   ]
  },
  {
   "cell_type": "code",
   "execution_count": 7,
   "id": "98ca1473-aac2-4eac-bb23-89814d4dc8ca",
   "metadata": {},
   "outputs": [
    {
     "name": "stdout",
     "output_type": "stream",
     "text": [
      " first variable = 100\n",
      " second variable = shadowing\n"
     ]
    }
   ],
   "source": [
    "main();"
   ]
  },
  {
   "cell_type": "code",
   "execution_count": null,
   "id": "39412634-c3c4-4093-8b6a-6995ed3c8233",
   "metadata": {},
   "outputs": [],
   "source": []
  }
 ],
 "metadata": {
  "kernelspec": {
   "display_name": "Rust",
   "language": "rust",
   "name": "rust"
  },
  "language_info": {
   "codemirror_mode": "rust",
   "file_extension": ".rs",
   "mimetype": "text/rust",
   "name": "Rust",
   "pygment_lexer": "rust",
   "version": ""
  }
 },
 "nbformat": 4,
 "nbformat_minor": 5
}
