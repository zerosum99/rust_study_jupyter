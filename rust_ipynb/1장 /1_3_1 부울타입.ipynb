{
 "cells": [
  {
   "cell_type": "code",
   "execution_count": null,
   "id": "1be22993",
   "metadata": {},
   "outputs": [],
   "source": []
  },
  {
   "cell_type": "markdown",
   "id": "ea527d26",
   "metadata": {},
   "source": [
    "## 1. 정의"
   ]
  },
  {
   "cell_type": "code",
   "execution_count": 2,
   "id": "6d5acead",
   "metadata": {},
   "outputs": [],
   "source": [
    "let b: bool = true;"
   ]
  },
  {
   "cell_type": "code",
   "execution_count": null,
   "id": "492c2e97",
   "metadata": {},
   "outputs": [],
   "source": []
  },
  {
   "cell_type": "code",
   "execution_count": 3,
   "id": "4657dd9b",
   "metadata": {},
   "outputs": [],
   "source": [
    "let a = true;"
   ]
  },
  {
   "cell_type": "code",
   "execution_count": 4,
   "id": "8b511688",
   "metadata": {},
   "outputs": [],
   "source": [
    "let b = true;"
   ]
  },
  {
   "cell_type": "code",
   "execution_count": null,
   "id": "43895b18",
   "metadata": {},
   "outputs": [],
   "source": []
  },
  {
   "cell_type": "code",
   "execution_count": 14,
   "id": "2b1af97e",
   "metadata": {},
   "outputs": [],
   "source": [
    "use std::mem::size_of_val;   // std는 표준 크레이트를 알려준다 \n",
    "                             // 그래서 그다음에 모듈과 함수이름을 사용 "
   ]
  },
  {
   "cell_type": "code",
   "execution_count": 15,
   "id": "7c96df6e",
   "metadata": {},
   "outputs": [
    {
     "data": {
      "text/plain": [
       "1"
      ]
     },
     "execution_count": 15,
     "metadata": {},
     "output_type": "execute_result"
    }
   ],
   "source": [
    "size_of_val(&a)"
   ]
  },
  {
   "cell_type": "code",
   "execution_count": null,
   "id": "370b9da8",
   "metadata": {},
   "outputs": [],
   "source": []
  },
  {
   "cell_type": "code",
   "execution_count": 16,
   "id": "622a8f5f",
   "metadata": {},
   "outputs": [],
   "source": [
    "fn main() {\n",
    "    println!(\" bool true  size {}\", size_of_val(&true));\n",
    "    println!(\" bool flase size {}\", size_of_val(&false));\n",
    "\n",
    "}"
   ]
  },
  {
   "cell_type": "code",
   "execution_count": 17,
   "id": "ecb263b4",
   "metadata": {},
   "outputs": [
    {
     "data": {
      "text/plain": [
       "()"
      ]
     },
     "execution_count": 17,
     "metadata": {},
     "output_type": "execute_result"
    },
    {
     "name": "stdout",
     "output_type": "stream",
     "text": [
      " bool true  size 1\n",
      " bool flase size 1\n"
     ]
    }
   ],
   "source": [
    "main()"
   ]
  },
  {
   "cell_type": "code",
   "execution_count": null,
   "id": "2366976f",
   "metadata": {},
   "outputs": [],
   "source": []
  },
  {
   "cell_type": "code",
   "execution_count": 18,
   "id": "87e2d374",
   "metadata": {},
   "outputs": [],
   "source": [
    "fn main() {\n",
    "    let _f: bool = false;\n",
    "\n",
    "    let t = true;\n",
    "    if !t {\n",
    "        println!(\"Success!\");\n",
    "    }\n",
    "    \n",
    "    println!(\" Sucess !\");\n",
    "} \n"
   ]
  },
  {
   "cell_type": "code",
   "execution_count": 19,
   "id": "20de5474",
   "metadata": {},
   "outputs": [
    {
     "name": "stdout",
     "output_type": "stream",
     "text": [
      " Sucess !\n"
     ]
    },
    {
     "data": {
      "text/plain": [
       "()"
      ]
     },
     "execution_count": 19,
     "metadata": {},
     "output_type": "execute_result"
    }
   ],
   "source": [
    "main()"
   ]
  },
  {
   "cell_type": "markdown",
   "id": "a6f6001f",
   "metadata": {},
   "source": [
    "\n",
    "## 2. 연산자"
   ]
  },
  {
   "cell_type": "markdown",
   "id": "bd316522",
   "metadata": {},
   "source": [
    "## 동등성 체크"
   ]
  },
  {
   "cell_type": "code",
   "execution_count": 5,
   "id": "30bda9e0",
   "metadata": {},
   "outputs": [
    {
     "data": {
      "text/plain": [
       "false"
      ]
     },
     "execution_count": 5,
     "metadata": {},
     "output_type": "execute_result"
    }
   ],
   "source": [
    "a != b"
   ]
  },
  {
   "cell_type": "code",
   "execution_count": 6,
   "id": "d34bb3fe",
   "metadata": {},
   "outputs": [
    {
     "data": {
      "text/plain": [
       "false"
      ]
     },
     "execution_count": 6,
     "metadata": {},
     "output_type": "execute_result"
    }
   ],
   "source": [
    "!(a == b)"
   ]
  },
  {
   "cell_type": "markdown",
   "id": "79b5b139",
   "metadata": {},
   "source": [
    "## 대소 체크 "
   ]
  },
  {
   "cell_type": "code",
   "execution_count": 7,
   "id": "0f91df97",
   "metadata": {},
   "outputs": [
    {
     "data": {
      "text/plain": [
       "true"
      ]
     },
     "execution_count": 7,
     "metadata": {},
     "output_type": "execute_result"
    }
   ],
   "source": [
    "a >= b"
   ]
  },
  {
   "cell_type": "code",
   "execution_count": 9,
   "id": "40fa8439",
   "metadata": {},
   "outputs": [
    {
     "data": {
      "text/plain": [
       "true"
      ]
     },
     "execution_count": 9,
     "metadata": {},
     "output_type": "execute_result"
    }
   ],
   "source": [
    "(a == b) | (a > b)"
   ]
  },
  {
   "cell_type": "code",
   "execution_count": 10,
   "id": "7d52fba2",
   "metadata": {},
   "outputs": [
    {
     "data": {
      "text/plain": [
       "false"
      ]
     },
     "execution_count": 10,
     "metadata": {},
     "output_type": "execute_result"
    }
   ],
   "source": [
    "a < b"
   ]
  },
  {
   "cell_type": "code",
   "execution_count": 11,
   "id": "29d056cf",
   "metadata": {},
   "outputs": [
    {
     "data": {
      "text/plain": [
       "false"
      ]
     },
     "execution_count": 11,
     "metadata": {},
     "output_type": "execute_result"
    }
   ],
   "source": [
    "!(a >= b)"
   ]
  },
  {
   "cell_type": "code",
   "execution_count": 12,
   "id": "85cf1106",
   "metadata": {},
   "outputs": [
    {
     "data": {
      "text/plain": [
       "true"
      ]
     },
     "execution_count": 12,
     "metadata": {},
     "output_type": "execute_result"
    }
   ],
   "source": [
    "a <= b"
   ]
  },
  {
   "cell_type": "code",
   "execution_count": 13,
   "id": "b4d03494",
   "metadata": {},
   "outputs": [
    {
     "data": {
      "text/plain": [
       "true"
      ]
     },
     "execution_count": 13,
     "metadata": {},
     "output_type": "execute_result"
    }
   ],
   "source": [
    "(a == b) | (a < b)"
   ]
  }
 ],
 "metadata": {
  "kernelspec": {
   "display_name": "Rust",
   "language": "rust",
   "name": "rust"
  },
  "language_info": {
   "codemirror_mode": "rust",
   "file_extension": ".rs",
   "mimetype": "text/rust",
   "name": "Rust",
   "pygment_lexer": "rust",
   "version": ""
  }
 },
 "nbformat": 4,
 "nbformat_minor": 5
}
