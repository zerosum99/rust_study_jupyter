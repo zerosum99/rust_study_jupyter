{
 "cells": [
  {
   "cell_type": "markdown",
   "id": "5e25cd4b",
   "metadata": {},
   "source": [
    "# "
   ]
  },
  {
   "cell_type": "markdown",
   "id": "25e3beb7",
   "metadata": {},
   "source": [
    "# 1. 변수 정의하기 \n",
    "\n",
    "- 변수 정의는 let 과 변수명을 사용한다.\n",
    "- 변수는 가변과 불변으로 정의할 수 있다.\n",
    "- 불변 변수는 한번 정의하면 다시 갱신할 수 없다.\n",
    "- 가변 변수는 정의한 후에 계속 값을 변경할 수 있다."
   ]
  },
  {
   "cell_type": "code",
   "execution_count": null,
   "id": "b1524687",
   "metadata": {},
   "outputs": [],
   "source": []
  },
  {
   "cell_type": "markdown",
   "id": "445d1764",
   "metadata": {},
   "source": [
    "## 1-1 변수 바인딩\n",
    "\n",
    "- 변수를 정의하는 것을 변수 바인딩이라고 한다.\n",
    "- 이때 변수 이름 앞에 let을 붙인다. "
   ]
  },
  {
   "cell_type": "markdown",
   "id": "886acc2f",
   "metadata": {},
   "source": [
    "### 변수를 정의하기\n",
    "\n",
    "- 변수 이름과 초기값을 할당한다. "
   ]
  },
  {
   "cell_type": "code",
   "execution_count": 2,
   "id": "a49e6db8",
   "metadata": {},
   "outputs": [],
   "source": [
    "let var = 100;"
   ]
  },
  {
   "cell_type": "markdown",
   "id": "9fd1344b",
   "metadata": {},
   "source": [
    "### 변수 참조\n",
    "- 변수 이름으로 변수에 저장된 값을 조회한다. "
   ]
  },
  {
   "cell_type": "code",
   "execution_count": 3,
   "id": "c50f295f",
   "metadata": {},
   "outputs": [
    {
     "data": {
      "text/plain": [
       "100"
      ]
     },
     "execution_count": 3,
     "metadata": {},
     "output_type": "execute_result"
    }
   ],
   "source": [
    "var"
   ]
  },
  {
   "cell_type": "markdown",
   "id": "64fa0b85",
   "metadata": {},
   "source": [
    "### 변수에 타입 어노테이션을 붙이기\n",
    "\n",
    "- 변수 이름 다음에 콜론(:) 과 타입을 정의하는 것 "
   ]
  },
  {
   "cell_type": "code",
   "execution_count": 4,
   "id": "e84a540d",
   "metadata": {},
   "outputs": [],
   "source": [
    "let x : u32 = 100;"
   ]
  },
  {
   "cell_type": "code",
   "execution_count": 5,
   "id": "0d0ada37",
   "metadata": {},
   "outputs": [
    {
     "data": {
      "text/plain": [
       "100"
      ]
     },
     "execution_count": 5,
     "metadata": {},
     "output_type": "execute_result"
    }
   ],
   "source": [
    "x "
   ]
  },
  {
   "cell_type": "code",
   "execution_count": null,
   "id": "dce577b8",
   "metadata": {},
   "outputs": [],
   "source": []
  },
  {
   "cell_type": "markdown",
   "id": "89ddeee7",
   "metadata": {},
   "source": [
    "## 변수 이름 정의 \n",
    "\n",
    "- 소문자로 표시\n",
    "- 여러 단어를 사용할 때는 스네이크 표기법을 사용해서 단어별로 밑줄을 표시\n",
    "- 스네이크 방식(소문자로 처리) 예 : sbcd_edf\n",
    "-   혹시 미사용 워닝을 방지하기 위해서는 변수이름 앞에 언더스코어(_)를 넣는다. "
   ]
  },
  {
   "cell_type": "markdown",
   "id": "869c6a24",
   "metadata": {},
   "source": [
    "### 사용하지 않는 변수가 정의된 경우 경고\n",
    "\n",
    "- 그래서 밑줄로 시작하는 변수는 정의한 후에 사용하지 않아도 경고가 없다 "
   ]
  },
  {
   "cell_type": "code",
   "execution_count": 6,
   "id": "8c33095d",
   "metadata": {},
   "outputs": [],
   "source": [
    "let _abc = 300;"
   ]
  },
  {
   "cell_type": "markdown",
   "id": "150c24a0",
   "metadata": {},
   "source": [
    "### 변수의 이름은 _나 문자가 첫문자.."
   ]
  },
  {
   "cell_type": "code",
   "execution_count": 7,
   "id": "e00ba900",
   "metadata": {},
   "outputs": [],
   "source": [
    "let under_score = 100;"
   ]
  },
  {
   "cell_type": "code",
   "execution_count": null,
   "id": "0f71f9ae",
   "metadata": {},
   "outputs": [],
   "source": []
  },
  {
   "cell_type": "markdown",
   "id": "65f3ed55",
   "metadata": {},
   "source": [
    "### 변수에 자료형 즉 타입어노테이션을 지정하지 않으면 타입추론을 한다.\n",
    "\n",
    "- 명시적으로 타입을 지정해야 할 때는 컴파일 에러를 내서 타입을 지정하도록 한다."
   ]
  },
  {
   "cell_type": "code",
   "execution_count": 3,
   "id": "252c5886",
   "metadata": {},
   "outputs": [],
   "source": [
    "let immu_var = 300;"
   ]
  },
  {
   "cell_type": "code",
   "execution_count": 4,
   "id": "cef1da3a",
   "metadata": {},
   "outputs": [
    {
     "name": "stdout",
     "output_type": "stream",
     "text": [
      " 변수 출력 300\n"
     ]
    }
   ],
   "source": [
    "println!(\" 변수 출력 {immu_var}\");"
   ]
  },
  {
   "cell_type": "markdown",
   "id": "4bab0b00",
   "metadata": {},
   "source": [
    "##  1-2. 변경불가능한 변수 \n",
    "\n"
   ]
  },
  {
   "cell_type": "markdown",
   "id": "a7fb729b",
   "metadata": {},
   "source": [
    "### 변경 불가능한 변수 \n",
    "- 한 번 변수가 정의되면 다시 갱신할 수 없다.\n",
    "\n",
    "- 변수는 let 으로 변수명을 바이딩 처리한다."
   ]
  },
  {
   "cell_type": "markdown",
   "id": "3c1a83f2",
   "metadata": {},
   "source": [
    "### let 변수명 : 타입 어노테이션 = 값;"
   ]
  },
  {
   "cell_type": "code",
   "execution_count": 8,
   "id": "df42d7d7",
   "metadata": {},
   "outputs": [],
   "source": [
    "let int_32 : u32 = 100;"
   ]
  },
  {
   "cell_type": "markdown",
   "id": "05b82a7e",
   "metadata": {},
   "source": [
    "### 현재 변수의 포인터인 참조를 출력한다.\n",
    "\n",
    "- 참조로 출력할 때는 포인터를 출력"
   ]
  },
  {
   "cell_type": "code",
   "execution_count": 9,
   "id": "aa83de29",
   "metadata": {},
   "outputs": [
    {
     "name": "stdout",
     "output_type": "stream",
     "text": [
      " 변수의 포인터 0x16b0aeac4\n"
     ]
    }
   ],
   "source": [
    "println!(\" 변수의 포인터 {:p}\" , &int_32 );"
   ]
  },
  {
   "cell_type": "markdown",
   "id": "c8dc8006",
   "metadata": {},
   "source": [
    "### 메인 함수 내에서 불변변수에 대한 값을 재할당\n",
    "\n",
    "-  불변은 딱 한번만 할당이 가능하다"
   ]
  },
  {
   "cell_type": "code",
   "execution_count": 2,
   "id": "378c42c4",
   "metadata": {},
   "outputs": [
    {
     "ename": "Error",
     "evalue": "cannot assign twice to immutable variable `x`",
     "output_type": "error",
     "traceback": [
      "\u001b[31m[E0384] Error:\u001b[0m cannot assign twice to immutable variable `x`",
      "   \u001b[38;5;246m╭\u001b[0m\u001b[38;5;246m─\u001b[0m\u001b[38;5;246m[\u001b[0mcommand_2:1:1\u001b[38;5;246m]\u001b[0m",
      "   \u001b[38;5;246m│\u001b[0m",
      " \u001b[38;5;246m2 │\u001b[0m \u001b[38;5;249m \u001b[0m\u001b[38;5;249m \u001b[0m\u001b[38;5;249m \u001b[0m\u001b[38;5;249m \u001b[0m\u001b[38;5;249ml\u001b[0m\u001b[38;5;249me\u001b[0m\u001b[38;5;249mt\u001b[0m\u001b[38;5;249m \u001b[0m\u001b[38;5;54mx\u001b[0m\u001b[38;5;249m \u001b[0m\u001b[38;5;249m=\u001b[0m\u001b[38;5;249m \u001b[0m\u001b[38;5;249m5\u001b[0m\u001b[38;5;249m;\u001b[0m",
      " \u001b[38;5;246m  ·\u001b[0m         \u001b[38;5;54m┬\u001b[0m  ",
      " \u001b[38;5;246m  ·\u001b[0m         \u001b[38;5;54m╰\u001b[0m\u001b[38;5;54m─\u001b[0m\u001b[38;5;54m─\u001b[0m first assignment to `x`",
      " \u001b[38;5;246m  ·\u001b[0m         \u001b[38;5;68m│\u001b[0m  ",
      " \u001b[38;5;246m  ·\u001b[0m         \u001b[38;5;68m╰\u001b[0m\u001b[38;5;68m─\u001b[0m\u001b[38;5;68m─\u001b[0m help: consider making this binding mutable: `mut x`",
      " \u001b[38;5;246m  ·\u001b[0m ",
      " \u001b[38;5;246m4 │\u001b[0m \u001b[38;5;249m \u001b[0m\u001b[38;5;249m \u001b[0m\u001b[38;5;249m \u001b[0m\u001b[38;5;249m \u001b[0m\u001b[38;5;100mx\u001b[0m\u001b[38;5;100m \u001b[0m\u001b[38;5;100m=\u001b[0m\u001b[38;5;100m \u001b[0m\u001b[38;5;100m6\u001b[0m\u001b[38;5;249m;\u001b[0m",
      " \u001b[38;5;246m  ·\u001b[0m     \u001b[38;5;100m─\u001b[0m\u001b[38;5;100m─\u001b[0m\u001b[38;5;100m┬\u001b[0m\u001b[38;5;100m─\u001b[0m\u001b[38;5;100m─\u001b[0m  ",
      " \u001b[38;5;246m  ·\u001b[0m       \u001b[38;5;100m╰\u001b[0m\u001b[38;5;100m─\u001b[0m\u001b[38;5;100m─\u001b[0m\u001b[38;5;100m─\u001b[0m\u001b[38;5;100m─\u001b[0m cannot assign twice to immutable variable",
      " \u001b[38;5;246m  ·\u001b[0m ",
      " \u001b[38;5;246m  ·\u001b[0m \u001b[38;5;115mNote\u001b[0m: You can change an existing variable to mutable like: `let mut x = x;`",
      "\u001b[38;5;246m───╯\u001b[0m"
     ]
    }
   ],
   "source": [
    "fn main() {\n",
    "    let x = 5;\n",
    "    println!(\"The value of x is: {x}\");\n",
    "    x = 6;\n",
    "    println!(\"The value of x is: {x}\");\n",
    "}"
   ]
  },
  {
   "cell_type": "markdown",
   "id": "19b0e3d7",
   "metadata": {},
   "source": [
    "## 1-3  변경가능한 변수 \n",
    "\n",
    "- 한번 정의한 후에 계속 변경할 수 있다.\n",
    "- mut 키워드를 let 과 변수명 사이에 지정한다. \n",
    "- 변경가능한 변수는 계속 할당이 가능하다"
   ]
  },
  {
   "cell_type": "markdown",
   "id": "b3b292e3",
   "metadata": {},
   "source": [
    "### 변경가능한 변수 지정\n",
    "\n",
    "- let 과 변수명 사이 mut 예약어를 지정한다.\n",
    "- 이 변수에 저장되는 값을 변경할 수 있다는 의미이다 "
   ]
  },
  {
   "cell_type": "code",
   "execution_count": 8,
   "id": "7ac21cef",
   "metadata": {},
   "outputs": [],
   "source": [
    "let mut  mut_var = 300;"
   ]
  },
  {
   "cell_type": "code",
   "execution_count": 9,
   "id": "46c1cb4a",
   "metadata": {},
   "outputs": [
    {
     "name": "stdout",
     "output_type": "stream",
     "text": [
      " 변경가능한 변수의 포인터 0x16b322b64\n"
     ]
    }
   ],
   "source": [
    "println!(\" 변경가능한 변수의 포인터 {:p}\" , &mut_var);"
   ]
  },
  {
   "cell_type": "markdown",
   "id": "a1adc225",
   "metadata": {},
   "source": [
    "### 현재 값에 400을 더해서 새로운 값이 할당 \n",
    "\n",
    "- 변경 가능한 변수라서 변경이 가능하다 "
   ]
  },
  {
   "cell_type": "code",
   "execution_count": 10,
   "id": "7bd7795a",
   "metadata": {},
   "outputs": [],
   "source": [
    "mut_var += 400;"
   ]
  },
  {
   "cell_type": "code",
   "execution_count": 11,
   "id": "7714b955",
   "metadata": {},
   "outputs": [
    {
     "name": "stdout",
     "output_type": "stream",
     "text": [
      " 변경가능한 변수의 포인터 0x16b322b64\n"
     ]
    }
   ],
   "source": [
    "println!(\" 변경가능한 변수의 포인터 {:p}\" , &mut_var);"
   ]
  },
  {
   "cell_type": "code",
   "execution_count": 12,
   "id": "8188b364",
   "metadata": {},
   "outputs": [
    {
     "data": {
      "text/plain": [
       "700"
      ]
     },
     "execution_count": 12,
     "metadata": {},
     "output_type": "execute_result"
    }
   ],
   "source": [
    "mut_var"
   ]
  },
  {
   "cell_type": "code",
   "execution_count": null,
   "id": "10d78583",
   "metadata": {},
   "outputs": [],
   "source": []
  },
  {
   "cell_type": "markdown",
   "id": "ac7f23f3",
   "metadata": {},
   "source": [
    "## 1-4 변수 새도우잉  \n",
    "\n",
    "-  동일한 이름으로 새로운 변수를 지정 \n",
    "-  이름은 같지만 타입이 다른 경우에도 처리가 가능하다. "
   ]
  },
  {
   "cell_type": "code",
   "execution_count": 11,
   "id": "18fe336a",
   "metadata": {},
   "outputs": [],
   "source": [
    "fn main() {\n",
    "    let variable = 100;\n",
    "    println!(\" first variable = {variable}\");\n",
    "    let variable = \"shadowing\";\n",
    "    println!(\" second variable = {variable}\");\n",
    "    \n",
    "}"
   ]
  },
  {
   "cell_type": "code",
   "execution_count": 12,
   "id": "00969da6",
   "metadata": {},
   "outputs": [
    {
     "name": "stdout",
     "output_type": "stream",
     "text": [
      " first variable = 100\n",
      " second variable = shadowing\n"
     ]
    }
   ],
   "source": [
    "main();"
   ]
  },
  {
   "cell_type": "code",
   "execution_count": null,
   "id": "bd2c8f54",
   "metadata": {},
   "outputs": [],
   "source": []
  }
 ],
 "metadata": {
  "kernelspec": {
   "display_name": "Rust",
   "language": "rust",
   "name": "rust"
  },
  "language_info": {
   "codemirror_mode": "rust",
   "file_extension": ".rs",
   "mimetype": "text/rust",
   "name": "Rust",
   "pygment_lexer": "rust",
   "version": ""
  }
 },
 "nbformat": 4,
 "nbformat_minor": 5
}
