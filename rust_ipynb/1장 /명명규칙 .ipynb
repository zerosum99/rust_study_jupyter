{
 "cells": [
  {
   "cell_type": "code",
   "execution_count": null,
   "id": "0b3ae523",
   "metadata": {},
   "outputs": [],
   "source": []
  },
  {
   "cell_type": "markdown",
   "id": "cb27422a",
   "metadata": {},
   "source": [
    "## 변수 명명규칙 \n",
    "\n",
    "- 변수 : snake_case를 사용합니다. 예를 들어, user_name 같이 단어 사이를 언더스코어(_)로 구분합니다."
   ]
  },
  {
   "cell_type": "code",
   "execution_count": null,
   "id": "f296a92d",
   "metadata": {},
   "outputs": [],
   "source": []
  },
  {
   "cell_type": "markdown",
   "id": "349288ae",
   "metadata": {},
   "source": [
    "## 상수 명명규칙 \n",
    "\n",
    "- SCREAMING_SNAKE_CASE를 사용합니다. \n",
    "- 상수 이름은 대문자로 작성하고, 단어 사이를 언더스코어(_)로 구분합니다. 예를 들어, MAX_NUM, PI와 같이 작성합니다."
   ]
  },
  {
   "cell_type": "code",
   "execution_count": null,
   "id": "3fb5b8a3",
   "metadata": {},
   "outputs": [],
   "source": []
  },
  {
   "cell_type": "markdown",
   "id": "d9a6866a",
   "metadata": {},
   "source": [
    "## 함수 및 메서드 명명규칙\n",
    "\n",
    "- 함수, 메서드: snake_case를 사용합니다. \n",
    "- 예를 들어, calculate_area()와 같이 단어 사이를 언더스코어(_)로 구분합니다."
   ]
  },
  {
   "cell_type": "code",
   "execution_count": null,
   "id": "66fc2f2f",
   "metadata": {},
   "outputs": [],
   "source": []
  },
  {
   "cell_type": "code",
   "execution_count": null,
   "id": "a828cc74",
   "metadata": {},
   "outputs": [],
   "source": []
  },
  {
   "cell_type": "markdown",
   "id": "a2459877",
   "metadata": {},
   "source": [
    "## 구조체의 명명규칙\n",
    "\n",
    "- CamelCase를 사용하는 것이 관례입니다. 구조체의 이름은 대문자로 시작하고, 단어의 첫 글자를 대문자로 적습니다."
   ]
  },
  {
   "cell_type": "code",
   "execution_count": 2,
   "id": "0e72f040",
   "metadata": {},
   "outputs": [],
   "source": [
    "struct UserInfo {\n",
    "    name: String,\n",
    "    age: u32,\n",
    "    email: Option<String>,\n",
    "}"
   ]
  },
  {
   "cell_type": "code",
   "execution_count": null,
   "id": "76306aba",
   "metadata": {},
   "outputs": [],
   "source": []
  },
  {
   "cell_type": "markdown",
   "id": "5fa17b12",
   "metadata": {},
   "source": [
    "## 열거형 명명규칙 \n",
    "\n",
    "- CamelCase를 사용합니다. \n",
    "- 예를 들어, UserInfo, LogLevel과 같이 첫 글자를 대문자로 적고, 단어 사이를 대문자로 구분합니다."
   ]
  },
  {
   "cell_type": "code",
   "execution_count": null,
   "id": "189d6b4d",
   "metadata": {},
   "outputs": [],
   "source": []
  },
  {
   "cell_type": "markdown",
   "id": "9ea777ca",
   "metadata": {},
   "source": [
    "## 트레잇 명명규칙 \n",
    "\n",
    "- CamelCase를 사용합니다. \n",
    "- 예를 들어, UserInfo, LogLevel과 같이 첫 글자를 대문자로 적고, 단어 사이를 대문자로 구분합니다."
   ]
  },
  {
   "cell_type": "code",
   "execution_count": null,
   "id": "4f1ffa65",
   "metadata": {},
   "outputs": [],
   "source": []
  },
  {
   "cell_type": "markdown",
   "id": "e41fa5f5",
   "metadata": {},
   "source": [
    "## 제네릭 타입 매개변수 \n",
    "\n",
    "-  CamelCase를 사용합니다. 예를 들어, T, U와 같이 작성합니다."
   ]
  },
  {
   "cell_type": "code",
   "execution_count": null,
   "id": "ac78eb5e",
   "metadata": {},
   "outputs": [],
   "source": []
  },
  {
   "cell_type": "markdown",
   "id": "7eb0f164",
   "metadata": {},
   "source": [
    "## 수명 매개변수 \n",
    "\n",
    "-  소문자 한단어나 static 사용합니다. 예를 들어, 'a, 'b와 같이 작성합니다."
   ]
  },
  {
   "cell_type": "code",
   "execution_count": null,
   "id": "c78bafd6",
   "metadata": {},
   "outputs": [],
   "source": []
  },
  {
   "cell_type": "markdown",
   "id": "ce4d508b",
   "metadata": {},
   "source": [
    "## 모듈 명명규칙 \n",
    "\n",
    "- snake_case를 사용합니다. 모듈 이름은 모듈이 속한 파일의 이름과 일치시키는 것이 관례입니다."
   ]
  },
  {
   "cell_type": "code",
   "execution_count": null,
   "id": "da10ceff",
   "metadata": {},
   "outputs": [],
   "source": []
  },
  {
   "cell_type": "markdown",
   "id": "2318fe74",
   "metadata": {},
   "source": [
    "## 패키지 명명규칙 \n",
    "\n",
    "-  snake_case를 사용합니다. 패키지 이름은 Cargo.toml 파일에서 name 필드에 정의됩니다."
   ]
  },
  {
   "cell_type": "code",
   "execution_count": null,
   "id": "9c23b749",
   "metadata": {},
   "outputs": [],
   "source": []
  },
  {
   "cell_type": "code",
   "execution_count": null,
   "id": "32d967f2",
   "metadata": {},
   "outputs": [],
   "source": []
  }
 ],
 "metadata": {
  "kernelspec": {
   "display_name": "Rust",
   "language": "rust",
   "name": "rust"
  },
  "language_info": {
   "codemirror_mode": "rust",
   "file_extension": ".rs",
   "mimetype": "text/rust",
   "name": "Rust",
   "pygment_lexer": "rust",
   "version": ""
  }
 },
 "nbformat": 4,
 "nbformat_minor": 5
}
