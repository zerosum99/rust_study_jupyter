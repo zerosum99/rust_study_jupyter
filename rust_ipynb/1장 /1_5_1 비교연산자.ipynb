{
 "cells": [
  {
   "cell_type": "markdown",
   "id": "e78652d5",
   "metadata": {},
   "source": [
    "## 비교연산자"
   ]
  },
  {
   "cell_type": "markdown",
   "id": "9324bee3",
   "metadata": {},
   "source": [
    "### 동등성 "
   ]
  },
  {
   "cell_type": "code",
   "execution_count": 6,
   "id": "b8dddf5e",
   "metadata": {},
   "outputs": [
    {
     "name": "stdout",
     "output_type": "stream",
     "text": [
      "true\n",
      "true\n"
     ]
    }
   ],
   "source": [
    "// == Equal to\n",
    "let a = 10;\n",
    "let b = 10;\n",
    "\n",
    "println!(\"{}\", a == b); // true\n",
    "\n",
    "// !=  Not equal to\n",
    "let a = 10;\n",
    "let b = 15;\n",
    "\n",
    "println!(\"{}\", a != b); // true"
   ]
  },
  {
   "cell_type": "markdown",
   "id": "4ca0d476",
   "metadata": {},
   "source": [
    "### 대소 비교"
   ]
  },
  {
   "cell_type": "code",
   "execution_count": 7,
   "id": "28f40ec8",
   "metadata": {},
   "outputs": [
    {
     "name": "stdout",
     "output_type": "stream",
     "text": [
      "true\n",
      "false\n"
     ]
    }
   ],
   "source": [
    "// <   Less than\n",
    "let a = 10;\n",
    "let b = 15;\n",
    "\n",
    "println!(\"{}\", a < b); // true\n",
    "\n",
    "// >   Greater than\n",
    "let a = 10;\n",
    "let b = 15;\n",
    "\n",
    "println!(\"{}\", a > b); // false"
   ]
  },
  {
   "cell_type": "markdown",
   "id": "707b47d9",
   "metadata": {},
   "source": [
    "### 대소 및 동등 비교 "
   ]
  },
  {
   "cell_type": "code",
   "execution_count": 8,
   "id": "90943c2a",
   "metadata": {},
   "outputs": [
    {
     "name": "stdout",
     "output_type": "stream",
     "text": [
      "true\n",
      "false\n"
     ]
    }
   ],
   "source": [
    "// <=   Less than or equal to\n",
    "let a = 10;\n",
    "let b = 15;\n",
    "\n",
    "println!(\"{}\", a <= b); // true\n",
    "\n",
    "// >=     Greater than or equal to\n",
    "let a = 10;\n",
    "let b = 15;\n",
    "\n",
    "println!(\"{}\", a >= b); // false"
   ]
  },
  {
   "cell_type": "markdown",
   "id": "56e39459",
   "metadata": {},
   "source": [
    "### 포인터 비교 확인하기 "
   ]
  },
  {
   "cell_type": "code",
   "execution_count": 2,
   "id": "f0c4a55f",
   "metadata": {},
   "outputs": [],
   "source": [
    "let var = 100;\n",
    "let var1 = 100;"
   ]
  },
  {
   "cell_type": "code",
   "execution_count": 3,
   "id": "25398d39",
   "metadata": {},
   "outputs": [
    {
     "data": {
      "text/plain": [
       "true"
      ]
     },
     "execution_count": 3,
     "metadata": {},
     "output_type": "execute_result"
    }
   ],
   "source": [
    "var == var1"
   ]
  },
  {
   "cell_type": "code",
   "execution_count": 4,
   "id": "f3f774d4",
   "metadata": {},
   "outputs": [],
   "source": [
    "use std::ptr::eq"
   ]
  },
  {
   "cell_type": "code",
   "execution_count": 6,
   "id": "36235fa6",
   "metadata": {},
   "outputs": [
    {
     "data": {
      "text/plain": [
       "false"
      ]
     },
     "execution_count": 6,
     "metadata": {},
     "output_type": "execute_result"
    }
   ],
   "source": [
    "eq(&var, &var1)"
   ]
  },
  {
   "cell_type": "code",
   "execution_count": null,
   "id": "e1b58fda",
   "metadata": {},
   "outputs": [],
   "source": []
  },
  {
   "cell_type": "markdown",
   "id": "1eae31eb",
   "metadata": {},
   "source": [
    "### 참조에 대한 포인터 확인하기 "
   ]
  },
  {
   "cell_type": "code",
   "execution_count": 8,
   "id": "474d3461",
   "metadata": {},
   "outputs": [],
   "source": [
    "use std::ptr;\n",
    "\n",
    "fn main() {\n",
    "    \n",
    "    let five = 5;\n",
    "    let other_five = 5;\n",
    "    let five_ref = &five;\n",
    "    let same_five_ref = &five;\n",
    "    let other_five_ref = &other_five;\n",
    "\n",
    "    assert!(five_ref == same_five_ref);\n",
    "    assert!(ptr::eq(five_ref, same_five_ref));\n",
    "\n",
    "    assert!(five_ref == other_five_ref);\n",
    "    assert!(!ptr::eq(five_ref, other_five_ref));\n",
    "}"
   ]
  },
  {
   "cell_type": "code",
   "execution_count": 9,
   "id": "471ecf2b",
   "metadata": {},
   "outputs": [
    {
     "data": {
      "text/plain": [
       "()"
      ]
     },
     "execution_count": 9,
     "metadata": {},
     "output_type": "execute_result"
    }
   ],
   "source": [
    "main()"
   ]
  },
  {
   "cell_type": "markdown",
   "id": "33f4da59",
   "metadata": {},
   "source": [
    "### 슬라이스에 대한 포인터 비교 "
   ]
  },
  {
   "cell_type": "code",
   "execution_count": 10,
   "id": "f5ae6949",
   "metadata": {},
   "outputs": [],
   "source": [
    "fn main() {\n",
    "    let a = [1, 2, 3];\n",
    "    assert!(std::ptr::eq(&a[..3], &a[..3]));\n",
    "    assert!(!std::ptr::eq(&a[..2], &a[..3]));\n",
    "    assert!(!std::ptr::eq(&a[0..2], &a[1..3]));\n",
    "}"
   ]
  },
  {
   "cell_type": "code",
   "execution_count": 11,
   "id": "6123fb68",
   "metadata": {},
   "outputs": [],
   "source": [
    "main();"
   ]
  },
  {
   "cell_type": "markdown",
   "id": "2c587d5a",
   "metadata": {},
   "source": [
    "### 구조체 등의 포인터 비교 "
   ]
  },
  {
   "cell_type": "code",
   "execution_count": 13,
   "id": "0f652075",
   "metadata": {},
   "outputs": [],
   "source": [
    "#[repr(transparent)]\n",
    "struct Wrapper { member: i32 }\n",
    "\n",
    "trait Trait {}\n",
    "impl Trait for Wrapper {}\n",
    "impl Trait for i32 {}\n",
    "\n",
    "fn main() {  \n",
    "    \n",
    "    let wrapper = Wrapper { member: 10 };\n",
    "\n",
    "    // Pointers have equal addresses.\n",
    "    assert!(std::ptr::eq(\n",
    "        &wrapper as *const Wrapper as *const u8,\n",
    "        &wrapper.member as *const i32 as *const u8\n",
    "    ));\n",
    "\n",
    "    // Objects have equal addresses, but `Trait` has different implementations.\n",
    "    assert!(!std::ptr::eq(\n",
    "        &wrapper as &dyn Trait,\n",
    "        &wrapper.member as &dyn Trait,\n",
    "    ));\n",
    "    assert!(!std::ptr::eq(\n",
    "        &wrapper as &dyn Trait as *const dyn Trait,\n",
    "        &wrapper.member as &dyn Trait as *const dyn Trait,\n",
    "    ));\n",
    "\n",
    "    // Converting the reference to a `*const u8` compares by address.\n",
    "    assert!(std::ptr::eq(\n",
    "        &wrapper as &dyn Trait as *const dyn Trait as *const u8,\n",
    "        &wrapper.member as &dyn Trait as *const dyn Trait as *const u8,\n",
    "    ));\n",
    "}"
   ]
  },
  {
   "cell_type": "code",
   "execution_count": 14,
   "id": "dc1fd189",
   "metadata": {},
   "outputs": [],
   "source": [
    "main();"
   ]
  },
  {
   "cell_type": "code",
   "execution_count": null,
   "id": "5f628925",
   "metadata": {},
   "outputs": [],
   "source": []
  },
  {
   "cell_type": "markdown",
   "id": "455aa0cf",
   "metadata": {},
   "source": [
    "## 논리 연산자 \n",
    "\n",
    "- 두 개 이상의 부울 표현식을 결합하는 데 사용됩니다. 논리 연산자는 참 또는 거짓인 부울 값을 반환합니다. Rust에는 세 가지 논리 연산자가 있습니다:\n",
    "\n",
    "- AND(&&): 두 표현식이 모두 참이면 참을 반환합니다.\n",
    "- OR (||): 두 표현식 중 하나만 참이면 참을 반환합니다.\n",
    "- NOT (!): 표현식의 반대를 반환합니다."
   ]
  },
  {
   "cell_type": "code",
   "execution_count": null,
   "id": "929d3cd6",
   "metadata": {},
   "outputs": [],
   "source": []
  },
  {
   "cell_type": "code",
   "execution_count": 3,
   "id": "2837266c",
   "metadata": {},
   "outputs": [
    {
     "name": "stdout",
     "output_type": "stream",
     "text": [
      "false\n"
     ]
    }
   ],
   "source": [
    "// AND\n",
    "let a = true;\n",
    "let b = false;\n",
    "\n",
    "println!(\"{}\", a && b); // false\n"
   ]
  },
  {
   "cell_type": "code",
   "execution_count": null,
   "id": "17788a42",
   "metadata": {},
   "outputs": [],
   "source": []
  },
  {
   "cell_type": "code",
   "execution_count": 4,
   "id": "59358438",
   "metadata": {},
   "outputs": [
    {
     "name": "stdout",
     "output_type": "stream",
     "text": [
      "true\n"
     ]
    }
   ],
   "source": [
    "// OR\n",
    "let a = true;\n",
    "let b = false;\n",
    "\n",
    "println!(\"{}\", a || b); // true\n",
    "\n"
   ]
  },
  {
   "cell_type": "code",
   "execution_count": null,
   "id": "a85eb90c",
   "metadata": {},
   "outputs": [],
   "source": []
  },
  {
   "cell_type": "code",
   "execution_count": 5,
   "id": "a4c40814",
   "metadata": {},
   "outputs": [
    {
     "name": "stdout",
     "output_type": "stream",
     "text": [
      "false\n"
     ]
    }
   ],
   "source": [
    "// NOT\n",
    "let a = true;\n",
    "\n",
    "println!(\"{}\", !a); // false"
   ]
  },
  {
   "cell_type": "code",
   "execution_count": null,
   "id": "8b8f35bd",
   "metadata": {},
   "outputs": [],
   "source": []
  }
 ],
 "metadata": {
  "kernelspec": {
   "display_name": "Rust",
   "language": "rust",
   "name": "rust"
  },
  "language_info": {
   "codemirror_mode": "rust",
   "file_extension": ".rs",
   "mimetype": "text/rust",
   "name": "Rust",
   "pygment_lexer": "rust",
   "version": ""
  }
 },
 "nbformat": 4,
 "nbformat_minor": 5
}
