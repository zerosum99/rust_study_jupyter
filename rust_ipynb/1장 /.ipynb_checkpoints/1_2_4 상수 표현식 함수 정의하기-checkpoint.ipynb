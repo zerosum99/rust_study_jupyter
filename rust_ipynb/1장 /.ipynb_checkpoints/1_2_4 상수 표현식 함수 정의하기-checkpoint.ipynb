{
 "cells": [
  {
   "cell_type": "markdown",
   "id": "20705773",
   "metadata": {},
   "source": [
    "\n",
    "\n",
    "## 1. 함수에 const를 지정해서 상수표현 함수 지정\n",
    "\n",
    "- 이는 컴파일 타임 상수를 계산할 수 있는 함수를 작성할 수 있게 해줍니다. \n",
    "- 이 함수는 실행 시간이 아닌 컴파일 시간에 평가되므로 실행 시간에 호출될 필요가 없습니다. \n",
    "- 따라서 실행 시간에 호출될 필요가 없는 코드의 경우, const fn을 사용하여 더 효율적인 코드를 작성할 수 있습니다."
   ]
  },
  {
   "cell_type": "markdown",
   "id": "3d5e7c2e",
   "metadata": {},
   "source": [
    "## 1-1 함수를 상수로 지정해서 상수표현식 함수를 정의 가능 \n",
    "\n",
    "- const fn을 사용하여 두 정수의 합을 계산하는 함수를 만들 수 있습니다. \n",
    "- 이 함수는 컴파일 시간에 두 정수의 합을 계산하므로, 실행 시간에 이 함수를 호출하는 것은 필요하지 않습니다. \n",
    "- 이는 실행 시간 오버헤드를 줄이고 프로그램 성능을 향상시키는 데 도움이 됩니다."
   ]
  },
  {
   "cell_type": "code",
   "execution_count": 2,
   "id": "043eb612",
   "metadata": {},
   "outputs": [],
   "source": [
    "const fn add(x:u32, y:u32) -> u32 {\n",
    "    x+y\n",
    "}"
   ]
  },
  {
   "cell_type": "code",
   "execution_count": 3,
   "id": "e6bf2082",
   "metadata": {},
   "outputs": [
    {
     "data": {
      "text/plain": [
       "300"
      ]
     },
     "execution_count": 3,
     "metadata": {},
     "output_type": "execute_result"
    }
   ],
   "source": [
    "add(100,200)"
   ]
  },
  {
   "cell_type": "markdown",
   "id": "e6e467f6",
   "metadata": {},
   "source": [
    "### 상수의 결과값으로 함수의 반환값을 사용할 수 있다. "
   ]
  },
  {
   "cell_type": "code",
   "execution_count": 4,
   "id": "f23754b5",
   "metadata": {},
   "outputs": [],
   "source": [
    "const aaa : u32 = add(300,400);"
   ]
  },
  {
   "cell_type": "code",
   "execution_count": null,
   "id": "a9cb014c",
   "metadata": {},
   "outputs": [],
   "source": []
  },
  {
   "cell_type": "markdown",
   "id": "f905d84a",
   "metadata": {},
   "source": [
    "## 1-2 일반함수는 상수에 값을 할당할 수 없다. "
   ]
  },
  {
   "cell_type": "code",
   "execution_count": 5,
   "id": "dd67fbbb",
   "metadata": {},
   "outputs": [],
   "source": [
    "fn add_f(x:u32, y:u32) -> u32 {\n",
    "    x+y\n",
    "}"
   ]
  },
  {
   "cell_type": "code",
   "execution_count": 6,
   "id": "5bf379fb",
   "metadata": {},
   "outputs": [
    {
     "ename": "Error",
     "evalue": "cannot call non-const fn `add_f` in constants",
     "output_type": "error",
     "traceback": [
      "\u001b[31m[E0015] Error:\u001b[0m cannot call non-const fn `add_f` in constants",
      "   \u001b[38;5;246m╭\u001b[0m\u001b[38;5;246m─\u001b[0m\u001b[38;5;246m[\u001b[0mcommand_6:1:1\u001b[38;5;246m]\u001b[0m",
      "   \u001b[38;5;246m│\u001b[0m",
      " \u001b[38;5;246m1 │\u001b[0m \u001b[38;5;249mc\u001b[0m\u001b[38;5;249mo\u001b[0m\u001b[38;5;249mn\u001b[0m\u001b[38;5;249ms\u001b[0m\u001b[38;5;249mt\u001b[0m\u001b[38;5;249m \u001b[0m\u001b[38;5;249mb\u001b[0m\u001b[38;5;249mb\u001b[0m\u001b[38;5;249mb\u001b[0m\u001b[38;5;249m \u001b[0m\u001b[38;5;249m:\u001b[0m\u001b[38;5;249m \u001b[0m\u001b[38;5;249mu\u001b[0m\u001b[38;5;249m3\u001b[0m\u001b[38;5;249m2\u001b[0m\u001b[38;5;249m \u001b[0m\u001b[38;5;249m=\u001b[0m\u001b[38;5;249m \u001b[0m\u001b[38;5;54ma\u001b[0m\u001b[38;5;54md\u001b[0m\u001b[38;5;54md\u001b[0m\u001b[38;5;54m_\u001b[0m\u001b[38;5;54mf\u001b[0m\u001b[38;5;54m(\u001b[0m\u001b[38;5;54m3\u001b[0m\u001b[38;5;54m0\u001b[0m\u001b[38;5;54m0\u001b[0m\u001b[38;5;54m,\u001b[0m\u001b[38;5;54m4\u001b[0m\u001b[38;5;54m0\u001b[0m\u001b[38;5;54m0\u001b[0m\u001b[38;5;54m)\u001b[0m\u001b[38;5;249m;\u001b[0m",
      " \u001b[38;5;246m  ·\u001b[0m                   \u001b[38;5;54m─\u001b[0m\u001b[38;5;54m─\u001b[0m\u001b[38;5;54m─\u001b[0m\u001b[38;5;54m─\u001b[0m\u001b[38;5;54m─\u001b[0m\u001b[38;5;54m─\u001b[0m\u001b[38;5;54m─\u001b[0m\u001b[38;5;54m┬\u001b[0m\u001b[38;5;54m─\u001b[0m\u001b[38;5;54m─\u001b[0m\u001b[38;5;54m─\u001b[0m\u001b[38;5;54m─\u001b[0m\u001b[38;5;54m─\u001b[0m\u001b[38;5;54m─\u001b[0m  ",
      " \u001b[38;5;246m  ·\u001b[0m                          \u001b[38;5;54m╰\u001b[0m\u001b[38;5;54m─\u001b[0m\u001b[38;5;54m─\u001b[0m\u001b[38;5;54m─\u001b[0m\u001b[38;5;54m─\u001b[0m\u001b[38;5;54m─\u001b[0m\u001b[38;5;54m─\u001b[0m\u001b[38;5;54m─\u001b[0m\u001b[38;5;54m─\u001b[0m error: cannot call non-const fn `add_f` in constants",
      "\u001b[38;5;246m───╯\u001b[0m"
     ]
    }
   ],
   "source": [
    "const bbb : u32 = add_f(300,400);"
   ]
  },
  {
   "cell_type": "code",
   "execution_count": null,
   "id": "15f246c7",
   "metadata": {},
   "outputs": [],
   "source": []
  }
 ],
 "metadata": {
  "kernelspec": {
   "display_name": "Rust",
   "language": "rust",
   "name": "rust"
  },
  "language_info": {
   "codemirror_mode": "rust",
   "file_extension": ".rs",
   "mimetype": "text/rust",
   "name": "Rust",
   "pygment_lexer": "rust",
   "version": ""
  }
 },
 "nbformat": 4,
 "nbformat_minor": 5
}
