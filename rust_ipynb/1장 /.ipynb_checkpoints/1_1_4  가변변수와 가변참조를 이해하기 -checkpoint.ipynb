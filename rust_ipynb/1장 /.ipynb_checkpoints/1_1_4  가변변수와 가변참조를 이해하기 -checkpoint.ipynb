{
 "cells": [
  {
   "cell_type": "markdown",
   "id": "360541b4",
   "metadata": {},
   "source": [
    "# 변경 가능한 예약어 mut\n",
    "\n",
    "- 변경가능하다는 것은 변수에서 저장하는 값을 변경할 수 있다는 것임\n",
    "- 그래서 변수를 정의할 때 mut 예약어를 지정하면 변수가 가르치는 주소가 아닌 값을 변경한다. "
   ]
  },
  {
   "cell_type": "code",
   "execution_count": null,
   "id": "1ccc7cad",
   "metadata": {},
   "outputs": [],
   "source": []
  },
  {
   "cell_type": "markdown",
   "id": "8eeba130",
   "metadata": {},
   "source": [
    "## 가변변수와 가변참조\n",
    "\n",
    "- 가변변수는 변수의 값을 변경\n",
    "- 가변참조는 참조가 가르치는 곳의 값을 변경할 수 있다. "
   ]
  },
  {
   "cell_type": "code",
   "execution_count": null,
   "id": "f1d11650",
   "metadata": {},
   "outputs": [],
   "source": []
  },
  {
   "cell_type": "markdown",
   "id": "f190beed",
   "metadata": {},
   "source": [
    "## 1. mut은 변수명 앞에 사용할 때\n",
    "\n",
    "- 저장되는 값을 교체 즉 재할당할 수 있다는 뜻이다 \n",
    "\n",
    "### mut와 변수:\n",
    "- mut 키워드를 변수 앞에 붙이면 해당 변수는 가변(mut) 변수가 됩니다. 가변 변수는 값을 변경할 수 있습니다.\n",
    "- 가변 변수는 초기화 후에도 값이 변경될 수 있으며, 이후에도 값을 다시 할당할 수 있습니다.\n",
    "- 가변 변수는 let mut variable_name과 같은 형식으로 정의하고, 값을 변경할 때는 variable_name = new_value와 같이 할당 연산자를 사용합니다."
   ]
  },
  {
   "cell_type": "code",
   "execution_count": null,
   "id": "2968391f",
   "metadata": {},
   "outputs": [],
   "source": []
  },
  {
   "cell_type": "code",
   "execution_count": 22,
   "id": "cd02a2b4",
   "metadata": {},
   "outputs": [
    {
     "name": "stdout",
     "output_type": "stream",
     "text": [
      "변수  100\n",
      "변수 값 변경 300\n"
     ]
    }
   ],
   "source": [
    "let mut xx = 100;\n",
    "\n",
    "println!(\"변수  {}\", xx); \n",
    "xx = 300;\n",
    "\n",
    "println!(\"변수 값 변경 {}\", xx); "
   ]
  },
  {
   "cell_type": "code",
   "execution_count": null,
   "id": "a7c4bf2a",
   "metadata": {},
   "outputs": [],
   "source": []
  },
  {
   "cell_type": "code",
   "execution_count": null,
   "id": "ce8375b3",
   "metadata": {},
   "outputs": [],
   "source": []
  },
  {
   "cell_type": "markdown",
   "id": "aef79988",
   "metadata": {},
   "source": [
    "## 변수 앞에 mut 사용 \n",
    "\n",
    "- 변수에 할당된 값을 교체 할 수 있다.\n",
    "- 이때 값은 정수 등 모든 인스턴스이다. "
   ]
  },
  {
   "cell_type": "markdown",
   "id": "21f1ab9c",
   "metadata": {},
   "source": [
    "## 1-1 변수에 원시타입을 처리 "
   ]
  },
  {
   "cell_type": "code",
   "execution_count": 2,
   "id": "72dd15e2",
   "metadata": {},
   "outputs": [],
   "source": [
    "fn main() {\n",
    "    let mut x = 0;\n",
    "    for _ in 0..10 {\n",
    "        x += 1;\n",
    "        println!(\"The value of x is {:p}\", &x);\n",
    "    }\n",
    "\n",
    "    println!(\"The value of x is {}\", x);\n",
    "}"
   ]
  },
  {
   "cell_type": "markdown",
   "id": "b19db5b1",
   "metadata": {},
   "source": [
    "### 실행하면 변수가 가르키는 주소는 같지만 실제 저장되는 값을 변경함 "
   ]
  },
  {
   "cell_type": "code",
   "execution_count": 3,
   "id": "66e38e71",
   "metadata": {},
   "outputs": [
    {
     "name": "stdout",
     "output_type": "stream",
     "text": [
      "The value of x is 0x16ba16aa4\n",
      "The value of x is 0x16ba16aa4\n",
      "The value of x is 0x16ba16aa4\n",
      "The value of x is 0x16ba16aa4\n",
      "The value of x is 0x16ba16aa4\n",
      "The value of x is 0x16ba16aa4\n",
      "The value of x is 0x16ba16aa4\n",
      "The value of x is 0x16ba16aa4\n",
      "The value of x is 0x16ba16aa4\n",
      "The value of x is 0x16ba16aa4\n",
      "The value of x is 10\n"
     ]
    }
   ],
   "source": [
    "main();"
   ]
  },
  {
   "cell_type": "markdown",
   "id": "1bb2df06",
   "metadata": {},
   "source": [
    "## 1-2 문자열 처리 \n",
    "\n",
    "- 변수에 저장된 주소값이 변경되는 것이 아니라 실제 저장된 값이 변경됨"
   ]
  },
  {
   "cell_type": "code",
   "execution_count": 8,
   "id": "535c9b2c",
   "metadata": {},
   "outputs": [],
   "source": [
    "fn main() {\n",
    "    let mut x = \"문자열\".to_string();\n",
    "    for _ in 0..10 {\n",
    "        x += \"!\";\n",
    "        println!(\"The value of x is {:p}\", &x);\n",
    "    }\n",
    "\n",
    "    println!(\"The value of x is {}\", x);\n",
    "}"
   ]
  },
  {
   "cell_type": "code",
   "execution_count": 9,
   "id": "88a07a92",
   "metadata": {},
   "outputs": [
    {
     "name": "stdout",
     "output_type": "stream",
     "text": [
      "The value of x is 0x16f5c6ab0\n",
      "The value of x is 0x16f5c6ab0\n",
      "The value of x is 0x16f5c6ab0\n",
      "The value of x is 0x16f5c6ab0\n",
      "The value of x is 0x16f5c6ab0\n",
      "The value of x is 0x16f5c6ab0\n",
      "The value of x is 0x16f5c6ab0\n",
      "The value of x is 0x16f5c6ab0\n",
      "The value of x is 0x16f5c6ab0\n",
      "The value of x is 0x16f5c6ab0\n",
      "The value of x is 문자열!!!!!!!!!!\n"
     ]
    }
   ],
   "source": [
    "main();"
   ]
  },
  {
   "cell_type": "code",
   "execution_count": null,
   "id": "2e475b23",
   "metadata": {},
   "outputs": [],
   "source": []
  },
  {
   "cell_type": "markdown",
   "id": "c9f842de",
   "metadata": {},
   "source": [
    "## 2. 값에 대한 참조 다음에 mut 을 사용할 경우는 \n",
    "\n",
    "- 참조가 가르치는 곳이 값이 변경이 되는 것이다. \n",
    "- 참조는 주소이기 때문에 이 주소가 가르키는 값을 변경한다. "
   ]
  },
  {
   "cell_type": "markdown",
   "id": "de492436",
   "metadata": {},
   "source": [
    "## 2-1 참조 다음에 표시할 경우\n",
    "\n",
    "- 이는 변수에 할당하는 값이 변경가능한 특정 참조를 표시 \n",
    "- 곧 특정 값에 대한 참조를 저장하므로 이 값을 가르키는 곳이 값을 변경해서 저장한다. \n",
    "\n",
    "\n",
    "### mut와 값에 참조:\n",
    "- mut 키워드를 값에 참조 앞에 붙이면 해당 참조는 가변(mut) 참조가 됩니다. 가변 참조를 통해 참조된 값은 변경될 수 있습니다.\n",
    "- 가변 참조는 변수를 빌려와서 값을 변경할 수 있도록 합니다. \n",
    "- 가변 참조는 반드시 하나의 가변 참조만 존재해야 하며, 다른 참조나 가변 참조와 동시에 사용될 수 없습니다.\n",
    "- 가변 참조는 &mut variable_name과 같은 형식으로 정의하고, 값을 변경할 때는 *variable_name = new_value와 같이 역참조 연산자와 할당 연산자를 사용합니다.\n"
   ]
  },
  {
   "cell_type": "code",
   "execution_count": null,
   "id": "fecc63a3",
   "metadata": {},
   "outputs": [],
   "source": []
  },
  {
   "cell_type": "code",
   "execution_count": 27,
   "id": "119a3770",
   "metadata": {},
   "outputs": [
    {
     "name": "stdout",
     "output_type": "stream",
     "text": [
      "변수  100\n",
      "변수 값 변경 300\n"
     ]
    },
    {
     "data": {
      "text/plain": [
       "()"
      ]
     },
     "execution_count": 27,
     "metadata": {},
     "output_type": "execute_result"
    }
   ],
   "source": [
    "{ \n",
    "    \n",
    "    let xx_m : &mut i32 = &mut 100;\n",
    "\n",
    "    println!(\"변수  {}\", xx_m); \n",
    "    *xx_m = 300;\n",
    "\n",
    "    println!(\"변수 값 변경 {}\", xx_m); \n",
    "}"
   ]
  },
  {
   "cell_type": "code",
   "execution_count": null,
   "id": "2a27ebfb",
   "metadata": {},
   "outputs": [],
   "source": []
  },
  {
   "cell_type": "markdown",
   "id": "2f8e7d8d",
   "metadata": {},
   "source": [
    "### 변수 앞에 지정하지 않고 값의 변경가능한 참조 지정\n",
    "\n",
    "- 변수의 값을 변경하는 것을 알 수 있다"
   ]
  },
  {
   "cell_type": "code",
   "execution_count": 19,
   "id": "02863c54",
   "metadata": {},
   "outputs": [],
   "source": [
    "fn main() {\n",
    "    let mut x: i32 = 5;                 // 가변 변수 정의\n",
    "    let y: &mut i32 = &mut x;           // 가변 참조를 가진 변수 정의 즉 값의 가변 참조를 가져온다 \n",
    "    \n",
    "    println!(\"변수 x의 초기값: {}\", *y);   // x를 출력하려면 역참조를 통해 확인 \n",
    "    \n",
    "    *y = 10;                           // 불변 변수이지만 가변 참조를 통한 변수 x의 값 변경할 수 있다 \n",
    "    \n",
    "    println!(\"변수 x의 변경된 값: {}\", x);\n",
    "}"
   ]
  },
  {
   "cell_type": "code",
   "execution_count": 20,
   "id": "a5e52e0e",
   "metadata": {},
   "outputs": [
    {
     "name": "stdout",
     "output_type": "stream",
     "text": [
      "변수 x의 초기값: 5\n",
      "변수 x의 변경된 값: 10\n"
     ]
    }
   ],
   "source": [
    "main();"
   ]
  },
  {
   "cell_type": "code",
   "execution_count": null,
   "id": "1e3a7feb",
   "metadata": {},
   "outputs": [],
   "source": []
  },
  {
   "cell_type": "code",
   "execution_count": 3,
   "id": "1d298fcf",
   "metadata": {},
   "outputs": [],
   "source": [
    "fn main() {\n",
    "    let x = &mut 0;\n",
    "    for _ in 0..10 {\n",
    "        *x += 1;\n",
    "        println!(\"The value of x is {:p}\", x);\n",
    "    }\n",
    "\n",
    "    println!(\"The value of x is {}\", x);\n",
    "}"
   ]
  },
  {
   "cell_type": "code",
   "execution_count": 4,
   "id": "da275571",
   "metadata": {},
   "outputs": [
    {
     "name": "stdout",
     "output_type": "stream",
     "text": [
      "The value of x is 0x16f5c6aac\n",
      "The value of x is 0x16f5c6aac\n",
      "The value of x is 0x16f5c6aac\n",
      "The value of x is 0x16f5c6aac\n",
      "The value of x is 0x16f5c6aac\n",
      "The value of x is 0x16f5c6aac\n",
      "The value of x is 0x16f5c6aac\n",
      "The value of x is 0x16f5c6aac\n",
      "The value of x is 0x16f5c6aac\n",
      "The value of x is 0x16f5c6aac\n",
      "The value of x is 10\n"
     ]
    }
   ],
   "source": [
    "main();"
   ]
  },
  {
   "cell_type": "markdown",
   "id": "993371b5",
   "metadata": {},
   "source": [
    "## 1-2 문자열 처리 "
   ]
  },
  {
   "cell_type": "code",
   "execution_count": 10,
   "id": "26b1b21f",
   "metadata": {},
   "outputs": [],
   "source": [
    "fn main() {\n",
    "    let x = &mut \"문자열\".to_string();\n",
    "    for _ in 0..10 {\n",
    "        *x += \"!\";\n",
    "        println!(\"The value of x is {:p}\", x);\n",
    "    }\n",
    "\n",
    "    println!(\"The value of x is {}\", x);\n",
    "}"
   ]
  },
  {
   "cell_type": "code",
   "execution_count": 11,
   "id": "875ae28b",
   "metadata": {},
   "outputs": [
    {
     "name": "stdout",
     "output_type": "stream",
     "text": [
      "The value of x is 0x16f5c6a28\n",
      "The value of x is 0x16f5c6a28\n",
      "The value of x is 0x16f5c6a28\n",
      "The value of x is 0x16f5c6a28\n",
      "The value of x is 0x16f5c6a28\n",
      "The value of x is 0x16f5c6a28\n",
      "The value of x is 0x16f5c6a28\n",
      "The value of x is 0x16f5c6a28\n",
      "The value of x is 0x16f5c6a28\n",
      "The value of x is 0x16f5c6a28\n",
      "The value of x is 문자열!!!!!!!!!!\n"
     ]
    },
    {
     "data": {
      "text/plain": [
       "()"
      ]
     },
     "execution_count": 11,
     "metadata": {},
     "output_type": "execute_result"
    }
   ],
   "source": [
    "main()"
   ]
  },
  {
   "cell_type": "markdown",
   "id": "5b8d1bf1",
   "metadata": {},
   "source": [
    "## 3. 변수와 참조에 전부  mut 을 사용할 경우는 \n",
    "\n",
    "- "
   ]
  },
  {
   "cell_type": "markdown",
   "id": "77dd8af1",
   "metadata": {},
   "source": [
    "## 3-1 가변 참조를 사용해서 값을 변경하기 "
   ]
  },
  {
   "cell_type": "code",
   "execution_count": 28,
   "id": "c4ff13fd",
   "metadata": {},
   "outputs": [],
   "source": [
    "fn main() {\n",
    "    let mut x  = &mut \"문자열\".to_string();\n",
    "    println!(\"The value of x is {}\", x);\n",
    "    *x = \"문자열변경\".to_string();\n",
    "    println!(\"The value of x is {}\", x);\n",
    "    \n",
    "}"
   ]
  },
  {
   "cell_type": "code",
   "execution_count": 29,
   "id": "9f6a58bb",
   "metadata": {},
   "outputs": [
    {
     "name": "stdout",
     "output_type": "stream",
     "text": [
      "The value of x is 문자열\n",
      "The value of x is 문자열변경\n"
     ]
    },
    {
     "data": {
      "text/plain": [
       "()"
      ]
     },
     "execution_count": 29,
     "metadata": {},
     "output_type": "execute_result"
    }
   ],
   "source": [
    "main()"
   ]
  },
  {
   "cell_type": "markdown",
   "id": "83d1ff5a",
   "metadata": {},
   "source": [
    "## 3-2 가변변수를 사용해서 값을 변경하기\n",
    "\n",
    "- 가변변수의 값은 다른 변수의 값을 이동시킨다.\n",
    "- 그래서 문자열의 가변참조에 대해 별도의 변수를 저장하고 이를 다시 변수에 할당한다."
   ]
  },
  {
   "cell_type": "markdown",
   "id": "38500e3c",
   "metadata": {},
   "source": [
    "### 가변변수는 소유자의 소유권을 이동해야 해서 임시적인 소유권을 지정하는 경우는 처리 불가"
   ]
  },
  {
   "cell_type": "code",
   "execution_count": 40,
   "id": "525e1ab2",
   "metadata": {},
   "outputs": [
    {
     "ename": "Error",
     "evalue": "temporary value dropped while borrowed",
     "output_type": "error",
     "traceback": [
      "let mut x  = &mut \"문자열\".to_string();",
      "\u001b[91m                  ^^^^^^^^^^^^^^^^^\u001b[0m \u001b[94mcreates a temporary value which is freed while still in use\u001b[0m",
      "temporary value dropped while borrowed"
     ]
    },
    {
     "ename": "Error",
     "evalue": "temporary value dropped while borrowed",
     "output_type": "error",
     "traceback": [
      "x = &mut \"변경\".to_string();         // 변수의 값을 이동 시킬기 위해서 별도의 변수에 저장 즉 명확한 소유자인 변수를 지정",
      "\u001b[91m         ^^^^^^^^^^^^^^^^\u001b[0m \u001b[94mcreates a temporary value which is freed while still in use\u001b[0m",
      "x = &mut \"변경\".to_string();         // 변수의 값을 이동 시킬기 위해서 별도의 변수에 저장 즉 명확한 소유자인 변수를 지정",
      "\u001b[91m                         ^\u001b[0m \u001b[94mtemporary value is freed at the end of this statement\u001b[0m",
      "temporary value dropped while borrowed"
     ]
    }
   ],
   "source": [
    "let mut x  = &mut \"문자열\".to_string();\n",
    "println!(\"The value of x is {}\", x);\n",
    "    \n",
    "x = &mut \"변경\".to_string();         //  가변변수는 소유자의 소유권을 이동해야 해서 임시적인 소유권을 지정하는 경우는 처리 불가"
   ]
  },
  {
   "cell_type": "markdown",
   "id": "8bddcdad",
   "metadata": {},
   "source": [
    "### 소유자인 변수에 저장한 다음 가변변수에 할당"
   ]
  },
  {
   "cell_type": "code",
   "execution_count": 38,
   "id": "b646e8e7",
   "metadata": {},
   "outputs": [],
   "source": [
    "fn main() {\n",
    "    let mut x  = &mut \"문자열\".to_string();\n",
    "    println!(\"The value of x is {}\", x);\n",
    "    \n",
    "    let y = &mut \"변경\".to_string();         // 변수의 값을 이동 시킬기 위해서 별도의 변수에 저장 즉 명확한 소유자인 변수를 지정\n",
    "    x = y;                                  // 가변변수이므로 다른 소유권의 값을 이동처리 \n",
    "    println!(\"The value of x is {}\", x);\n",
    "    \n",
    "}"
   ]
  },
  {
   "cell_type": "code",
   "execution_count": 39,
   "id": "83706569",
   "metadata": {},
   "outputs": [
    {
     "name": "stdout",
     "output_type": "stream",
     "text": [
      "The value of x is 문자열\n",
      "The value of x is 변경\n"
     ]
    }
   ],
   "source": [
    "main();"
   ]
  },
  {
   "cell_type": "code",
   "execution_count": null,
   "id": "ad18bdeb",
   "metadata": {},
   "outputs": [],
   "source": []
  },
  {
   "cell_type": "code",
   "execution_count": 4,
   "id": "8977fda9",
   "metadata": {},
   "outputs": [],
   "source": [
    "fn main() {\n",
    "    let mut x  = &mut \"문자열\".to_string();\n",
    "    println!(\"The value of x is {:p}\", x);\n",
    "\n",
    "    let y = &mut \"변경\".to_string();\n",
    "    println!(\"The value of y is {:p}\", y);\n",
    "    x = y;\n",
    "    println!(\"The value of x is {:p}\", x);\n",
    "}"
   ]
  },
  {
   "cell_type": "code",
   "execution_count": 5,
   "id": "3e55b76a",
   "metadata": {},
   "outputs": [
    {
     "name": "stdout",
     "output_type": "stream",
     "text": [
      "The value of x is 0x16ba16a98\n",
      "The value of y is 0x16ba16ab8\n",
      "The value of x is 0x16ba16ab8\n"
     ]
    }
   ],
   "source": [
    "main();"
   ]
  },
  {
   "cell_type": "code",
   "execution_count": null,
   "id": "81703828",
   "metadata": {},
   "outputs": [],
   "source": []
  },
  {
   "cell_type": "markdown",
   "id": "93117994",
   "metadata": {},
   "source": [
    "### 변수만 변경이 가능할 경우 "
   ]
  },
  {
   "cell_type": "code",
   "execution_count": 14,
   "id": "c818b15a",
   "metadata": {},
   "outputs": [],
   "source": [
    "fn main() {\n",
    "    let mut x  =  \"문자열\";\n",
    "    println!(\"The value of x is {:p}\", x);\n",
    "\n",
    "    let y =  \"변경\";\n",
    "    println!(\"The value of y is {:p}\", y);\n",
    "    x = y;\n",
    "    println!(\"The value of x is {:p}\", x);\n",
    "}"
   ]
  },
  {
   "cell_type": "code",
   "execution_count": 15,
   "id": "d2f6a504",
   "metadata": {},
   "outputs": [
    {
     "name": "stdout",
     "output_type": "stream",
     "text": [
      "The value of x is 0x1058d3e71\n",
      "The value of y is 0x1058d3e8d\n",
      "The value of x is 0x1058d3e8d\n"
     ]
    }
   ],
   "source": [
    "main();"
   ]
  },
  {
   "cell_type": "code",
   "execution_count": null,
   "id": "ae2c852b",
   "metadata": {},
   "outputs": [],
   "source": []
  }
 ],
 "metadata": {
  "kernelspec": {
   "display_name": "Rust",
   "language": "rust",
   "name": "rust"
  },
  "language_info": {
   "codemirror_mode": "rust",
   "file_extension": ".rs",
   "mimetype": "text/rust",
   "name": "Rust",
   "pygment_lexer": "rust",
   "version": ""
  }
 },
 "nbformat": 4,
 "nbformat_minor": 5
}
