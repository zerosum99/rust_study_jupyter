{
 "cells": [
  {
   "cell_type": "code",
   "execution_count": null,
   "id": "daf95642",
   "metadata": {},
   "outputs": [],
   "source": []
  },
  {
   "cell_type": "code",
   "execution_count": null,
   "id": "473b4745",
   "metadata": {},
   "outputs": [],
   "source": []
  },
  {
   "cell_type": "code",
   "execution_count": null,
   "id": "29abcdc3",
   "metadata": {},
   "outputs": [],
   "source": []
  },
  {
   "cell_type": "code",
   "execution_count": null,
   "id": "08248721",
   "metadata": {},
   "outputs": [],
   "source": [
    "Symbol\tInteger\t   bool\tFloating Point\tOverloading Trait\t복합 할당 특성 과부하\n",
    "+       Addition\t\tAddition\tstd::ops::Add\tstd::ops::AddAssign\n",
    "-\tSubtraction\t\tSubtraction\tstd::ops::Sub\tstd::ops::SubAssign\n",
    "*\tMultiplication\t\tMultiplication\tstd::ops::Mul\tstd::ops::MulAssign\n",
    "/\tDivision*\t\tDivision\tstd::ops::Div\tstd::ops::DivAssign\n",
    "%\tRemainder**\t\tRemainder\tstd::ops::Rem\tstd::ops::RemAssign\n",
    "&\tBitwise AND\tLogical AND\t\tstd::ops::BitAnd\tstd::ops::BitAndAssign\n",
    "|\tBitwise OR\tLogical OR\t\tstd::ops::BitOr\tstd::ops::BitOrAssign\n",
    "^\tBitwise XOR\tLogical XOR\t\tstd::ops::BitXor\tstd::ops::BitXorAssign\n",
    "<<\tLeft Shift\t\t\tstd::ops::Shl\tstd::ops::ShlAssign\n",
    ">>\tRight Shift***\t\t\tstd::ops::Shr\tstd::ops::ShrAssign"
   ]
  },
  {
   "cell_type": "code",
   "execution_count": null,
   "id": "34daa3c2",
   "metadata": {},
   "outputs": [],
   "source": []
  },
  {
   "cell_type": "code",
   "execution_count": null,
   "id": "c6714c5c",
   "metadata": {},
   "outputs": [],
   "source": []
  },
  {
   "cell_type": "markdown",
   "id": "fd62506b",
   "metadata": {},
   "source": [
    "## 사칙연산 "
   ]
  },
  {
   "cell_type": "code",
   "execution_count": 2,
   "id": "095556e1",
   "metadata": {},
   "outputs": [],
   "source": [
    "fn main() {\n",
    "    // addition\n",
    "    let sum = 5 + 10;\n",
    "    println!(\"{sum}\"); \n",
    "\n",
    "    // subtraction\n",
    "    let difference = 95.5 - 4.3;\n",
    "     println!(\"{difference}\"); \n",
    "    // multiplication\n",
    "    let product = 4 * 30;\n",
    "    println!(\"{product}\"); \n",
    "\n",
    "    // division\n",
    "    let quotient = 56.7 / 32.2;\n",
    "    println!(\"{quotient}\"); \n",
    "    let floored = 2 / 3; // Results in 0\n",
    "    println!(\"{floored}\"); \n",
    "    // remainder\n",
    "    let remainder = 43 % 5;\n",
    "    println!(\"{remainder}\"); \n",
    "}"
   ]
  },
  {
   "cell_type": "code",
   "execution_count": 3,
   "id": "bb075b6d",
   "metadata": {},
   "outputs": [
    {
     "name": "stdout",
     "output_type": "stream",
     "text": [
      "15\n",
      "91.2\n",
      "120\n",
      "1.7608695652173911\n",
      "0\n",
      "3\n"
     ]
    }
   ],
   "source": [
    "main();"
   ]
  },
  {
   "cell_type": "code",
   "execution_count": null,
   "id": "ac17318b",
   "metadata": {},
   "outputs": [],
   "source": []
  },
  {
   "cell_type": "code",
   "execution_count": 6,
   "id": "0836317b",
   "metadata": {},
   "outputs": [],
   "source": [
    "fn main() {\n",
    "    assert_eq!(3 + 6, 9);\n",
    "    assert_eq!(5.5 - 1.25, 4.25);\n",
    "    assert_eq!(-5 * 14, -70);\n",
    "    assert_eq!(14 / 3, 4);\n",
    "    assert_eq!(100 % 7, 2);\n",
    "\n",
    "}"
   ]
  },
  {
   "cell_type": "code",
   "execution_count": 7,
   "id": "5dc38493",
   "metadata": {},
   "outputs": [],
   "source": [
    "main();"
   ]
  },
  {
   "cell_type": "markdown",
   "id": "d98a3a59",
   "metadata": {},
   "source": [
    "## 다양한 진법 표기"
   ]
  },
  {
   "cell_type": "code",
   "execution_count": null,
   "id": "8025b3ab",
   "metadata": {},
   "outputs": [],
   "source": []
  },
  {
   "cell_type": "code",
   "execution_count": 8,
   "id": "58eec9ed",
   "metadata": {},
   "outputs": [],
   "source": [
    "use std::any::type_name;\n",
    "\n",
    "fn type_of<T>(_: T) -> &'static str {\n",
    "    type_name::<T>()\n",
    "}"
   ]
  },
  {
   "cell_type": "code",
   "execution_count": 9,
   "id": "a0c6ca68",
   "metadata": {},
   "outputs": [],
   "source": [
    "let bn = 0b1010;"
   ]
  },
  {
   "cell_type": "code",
   "execution_count": 11,
   "id": "ddd61fa3",
   "metadata": {},
   "outputs": [
    {
     "name": "stdout",
     "output_type": "stream",
     "text": [
      "i32\n"
     ]
    }
   ],
   "source": [
    "println!(\"{}\", type_of(bn));"
   ]
  },
  {
   "cell_type": "code",
   "execution_count": 12,
   "id": "bab98208",
   "metadata": {},
   "outputs": [],
   "source": [
    "let ox = 0o1010;"
   ]
  },
  {
   "cell_type": "code",
   "execution_count": 13,
   "id": "bd1f2cc3",
   "metadata": {},
   "outputs": [
    {
     "name": "stdout",
     "output_type": "stream",
     "text": [
      "i32\n"
     ]
    }
   ],
   "source": [
    "println!(\"{}\", type_of(ox));"
   ]
  },
  {
   "cell_type": "code",
   "execution_count": 14,
   "id": "88c42ae1",
   "metadata": {},
   "outputs": [],
   "source": [
    "let hx = 0x1010;"
   ]
  },
  {
   "cell_type": "code",
   "execution_count": 15,
   "id": "3d4fe382",
   "metadata": {},
   "outputs": [
    {
     "name": "stdout",
     "output_type": "stream",
     "text": [
      "i32\n"
     ]
    }
   ],
   "source": [
    "println!(\"{}\", type_of(hx));"
   ]
  },
  {
   "cell_type": "markdown",
   "id": "2dd79d0f",
   "metadata": {},
   "source": [
    "## 비트연산자 \n",
    "\n",
    "- & (Bitwise AND)\t정수 인수의 각 비트에 대해 부울 AND 연산을 수행\t(A & B) is 2\n",
    "- | (Bitwise OR)\t정수 인수의 각 비트에 대해 부울 OR 연산을 수행\t(A | B) is 3\n",
    "- ^ (Bitwise XOR)\t정수 인수의 각 비트에 대해 부울 XOR 연산을 수행\t(A ^ B) is 1\n",
    "- ! (Bitwise Not)\t단항 연산자이며 피연산자의 모든 비트를 반대로 하여 작동\t(!B) is -4\n",
    "- '<<' (Left Shift)\t첫 번째 피연산자의 모든 비트를 두 번째 피연산자에 지정된 자릿수만큼 왼쪽으로 이동하고 새 비트는 0으로 채워짐\t(A << 1) is 4\n",
    "- '>>' (Right Shift)\t첫 번째 피연산자의 값은 두 번째 피연산자가 지정한 비트 수만큼 오른쪽으로 이동\t(A >> 1) is 1\n",
    "- '>>>' (Right shift with Zero)\t이 연산자는 왼쪽으로 이동한 비트가 항상 0이라는 점을 제외하면 >> 연산자와 같음\t(A >>> 1) is 1"
   ]
  },
  {
   "cell_type": "code",
   "execution_count": 4,
   "id": "e121c271",
   "metadata": {},
   "outputs": [],
   "source": [
    "fn main() {\n",
    "\n",
    "    assert_eq!(0b1010 & 0b1100, 0b1000);\n",
    "    assert_eq!(0b1010 | 0b1100, 0b1110);\n",
    "    assert_eq!(0b1010 ^ 0b1100, 0b110);\n",
    "    assert_eq!(13 << 3, 104);\n",
    "    assert_eq!(-10 >> 2, -3);\n",
    "}"
   ]
  },
  {
   "cell_type": "code",
   "execution_count": 5,
   "id": "88da679b",
   "metadata": {},
   "outputs": [],
   "source": [
    "main();"
   ]
  },
  {
   "cell_type": "code",
   "execution_count": null,
   "id": "d5ceedb7",
   "metadata": {},
   "outputs": [],
   "source": []
  }
 ],
 "metadata": {
  "kernelspec": {
   "display_name": "Rust",
   "language": "rust",
   "name": "rust"
  },
  "language_info": {
   "codemirror_mode": "rust",
   "file_extension": ".rs",
   "mimetype": "text/rust",
   "name": "Rust",
   "pygment_lexer": "rust",
   "version": ""
  }
 },
 "nbformat": 4,
 "nbformat_minor": 5
}
