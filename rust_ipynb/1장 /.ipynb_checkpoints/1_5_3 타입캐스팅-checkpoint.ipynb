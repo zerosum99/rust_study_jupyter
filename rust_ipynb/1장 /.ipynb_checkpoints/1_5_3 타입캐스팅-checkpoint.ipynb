{
 "cells": [
  {
   "cell_type": "code",
   "execution_count": null,
   "id": "43fe9b51",
   "metadata": {},
   "outputs": [],
   "source": []
  },
  {
   "cell_type": "markdown",
   "id": "c024783d",
   "metadata": {},
   "source": [
    "## 명시적 타입 캐스팅\n",
    "\n",
    "- as 예약어를 사용해서 타입을 변환해야 함 \n",
    "- 러스트 문자는 32비트로 처리하므로 조심해야 함 "
   ]
  },
  {
   "cell_type": "markdown",
   "id": "68cab6f7",
   "metadata": {},
   "source": [
    "## 타입 캐스팅 "
   ]
  },
  {
   "cell_type": "code",
   "execution_count": 5,
   "id": "20df17b4",
   "metadata": {},
   "outputs": [
    {
     "ename": "Error",
     "evalue": "mismatched types",
     "output_type": "error",
     "traceback": [
      "\u001b[31m[E0308] Error:\u001b[0m mismatched types",
      "   \u001b[38;5;246m╭\u001b[0m\u001b[38;5;246m─\u001b[0m\u001b[38;5;246m[\u001b[0mcommand_5:1:1\u001b[38;5;246m]\u001b[0m",
      "   \u001b[38;5;246m│\u001b[0m",
      " \u001b[38;5;246m5 │\u001b[0m \u001b[38;5;249m \u001b[0m\u001b[38;5;249m \u001b[0m\u001b[38;5;249m \u001b[0m\u001b[38;5;249m \u001b[0m\u001b[38;5;249ml\u001b[0m\u001b[38;5;249me\u001b[0m\u001b[38;5;249mt\u001b[0m\u001b[38;5;249m \u001b[0m\u001b[38;5;249mi\u001b[0m\u001b[38;5;249mn\u001b[0m\u001b[38;5;249mt\u001b[0m\u001b[38;5;249me\u001b[0m\u001b[38;5;249mg\u001b[0m\u001b[38;5;249me\u001b[0m\u001b[38;5;249mr\u001b[0m\u001b[38;5;249m:\u001b[0m\u001b[38;5;249m \u001b[0m\u001b[38;5;100mu\u001b[0m\u001b[38;5;100m8\u001b[0m\u001b[38;5;249m \u001b[0m\u001b[38;5;249m=\u001b[0m\u001b[38;5;249m \u001b[0m\u001b[38;5;54md\u001b[0m\u001b[38;5;54me\u001b[0m\u001b[38;5;54mc\u001b[0m\u001b[38;5;54mi\u001b[0m\u001b[38;5;54mm\u001b[0m\u001b[38;5;54ma\u001b[0m\u001b[38;5;54ml\u001b[0m\u001b[38;5;249m;\u001b[0m",
      " \u001b[38;5;246m  ·\u001b[0m                  \u001b[38;5;100m─\u001b[0m\u001b[38;5;100m┬\u001b[0m   \u001b[38;5;54m─\u001b[0m\u001b[38;5;54m─\u001b[0m\u001b[38;5;54m─\u001b[0m\u001b[38;5;54m┬\u001b[0m\u001b[38;5;54m─\u001b[0m\u001b[38;5;54m─\u001b[0m\u001b[38;5;54m─\u001b[0m  ",
      " \u001b[38;5;246m  ·\u001b[0m                   \u001b[38;5;100m╰\u001b[0m\u001b[38;5;100m─\u001b[0m\u001b[38;5;100m─\u001b[0m\u001b[38;5;100m─\u001b[0m\u001b[38;5;100m─\u001b[0m\u001b[38;5;100m─\u001b[0m\u001b[38;5;100m─\u001b[0m\u001b[38;5;100m─\u001b[0m\u001b[38;5;100m─\u001b[0m\u001b[38;5;100m─\u001b[0m\u001b[38;5;100m─\u001b[0m\u001b[38;5;100m─\u001b[0m\u001b[38;5;100m─\u001b[0m expected due to this",
      " \u001b[38;5;246m  ·\u001b[0m                          \u001b[38;5;54m│\u001b[0m     ",
      " \u001b[38;5;246m  ·\u001b[0m                          \u001b[38;5;54m╰\u001b[0m\u001b[38;5;54m─\u001b[0m\u001b[38;5;54m─\u001b[0m\u001b[38;5;54m─\u001b[0m\u001b[38;5;54m─\u001b[0m\u001b[38;5;54m─\u001b[0m expected `u8`, found `f32`",
      "\u001b[38;5;246m───╯\u001b[0m"
     ]
    }
   ],
   "source": [
    "fn main() {\n",
    "    let decimal = 65.4321_f32;\n",
    "\n",
    "    // Error! No implicit conversion\n",
    "    let integer: u8 = decimal;\n",
    "    // FIXME ^ Comment out this line\n",
    "\n",
    "    // Explicit conversion\n",
    "    let integer = decimal as u8;\n",
    "    let character = integer as char;\n",
    "\n",
    "    println!(\"Casting: {} -> {} -> {}\", decimal, integer, character);\n",
    "} "
   ]
  },
  {
   "cell_type": "code",
   "execution_count": 6,
   "id": "9de94341",
   "metadata": {},
   "outputs": [],
   "source": [
    "fn main() {\n",
    "    let decimal = 65.4321_f32;\n",
    "\n",
    "    // Explicit conversion\n",
    "    let integer = decimal as u8;\n",
    "    let character = integer as char;\n",
    "\n",
    "    println!(\"Casting: {} -> {} -> {}\", decimal, integer, character);\n",
    "} "
   ]
  },
  {
   "cell_type": "code",
   "execution_count": 7,
   "id": "2b0b8294",
   "metadata": {},
   "outputs": [
    {
     "data": {
      "text/plain": [
       "()"
      ]
     },
     "execution_count": 7,
     "metadata": {},
     "output_type": "execute_result"
    },
    {
     "name": "stdout",
     "output_type": "stream",
     "text": [
      "Casting: 65.4321 -> 65 -> A\n"
     ]
    }
   ],
   "source": [
    "main()"
   ]
  },
  {
   "cell_type": "code",
   "execution_count": null,
   "id": "c9bf2f0d",
   "metadata": {},
   "outputs": [],
   "source": []
  },
  {
   "cell_type": "code",
   "execution_count": 11,
   "id": "2b0925d8",
   "metadata": {},
   "outputs": [],
   "source": [
    "fn main() {\n",
    "    \n",
    "    // 1000 already fits in a u16\n",
    "    println!(\"1000 as a u16 is: {}\", 1000 as u16);\n",
    "\n",
    "    // 1000 - 256 - 256 - 256 = 232\n",
    "    // Under the hood, the first 8 least significant bits (LSB) are kept,\n",
    "    // while the rest towards the most significant bit (MSB) get truncated.\n",
    "    //println!(\"1000 as a u8 is : {}\", 1000 as u8);\n",
    "    // -1 + 256 = 255\n",
    "    println!(\"  -1 as a u8 is : {}\", (-1i8) as u8);\n",
    "\n",
    "    // For positive numbers, this is the same as the modulus\n",
    "    println!(\"1000 mod 256 is : {}\", 1000 % 256);\n",
    "}"
   ]
  },
  {
   "cell_type": "code",
   "execution_count": 12,
   "id": "99ea1cae",
   "metadata": {},
   "outputs": [
    {
     "name": "stdout",
     "output_type": "stream",
     "text": [
      "1000 as a u16 is: 1000\n",
      "  -1 as a u8 is : 255\n",
      "1000 mod 256 is : 232\n"
     ]
    },
    {
     "data": {
      "text/plain": [
       "()"
      ]
     },
     "execution_count": 12,
     "metadata": {},
     "output_type": "execute_result"
    }
   ],
   "source": [
    "main()"
   ]
  },
  {
   "cell_type": "code",
   "execution_count": null,
   "id": "7a51b96b",
   "metadata": {},
   "outputs": [],
   "source": []
  },
  {
   "cell_type": "code",
   "execution_count": 15,
   "id": "7120e890",
   "metadata": {},
   "outputs": [],
   "source": [
    "fn main() {\n",
    "    \n",
    "    // When casting to a signed type, the (bitwise) result is the same as\n",
    "    // first casting to the corresponding unsigned type. If the most significant\n",
    "    // bit of that value is 1, then the value is negative.\n",
    "\n",
    "    // Unless it already fits, of course.\n",
    "    println!(\" 128 as a i16 is: {}\", 128 as i16);\n",
    "    // 128 as u8 -> 128, whose two's complement in eight bits is:\n",
    "    //println!(\" 128 as a i8 is : {}\", 128 as i8);\n",
    "\n",
    "\n",
    "}\n"
   ]
  },
  {
   "cell_type": "code",
   "execution_count": 16,
   "id": "53bff2b5",
   "metadata": {},
   "outputs": [
    {
     "name": "stdout",
     "output_type": "stream",
     "text": [
      " 128 as a i16 is: 128\n"
     ]
    },
    {
     "data": {
      "text/plain": [
       "()"
      ]
     },
     "execution_count": 16,
     "metadata": {},
     "output_type": "execute_result"
    }
   ],
   "source": [
    "main()"
   ]
  },
  {
   "cell_type": "code",
   "execution_count": null,
   "id": "da32e2de",
   "metadata": {},
   "outputs": [],
   "source": []
  }
 ],
 "metadata": {
  "kernelspec": {
   "display_name": "Rust",
   "language": "rust",
   "name": "rust"
  },
  "language_info": {
   "codemirror_mode": "rust",
   "file_extension": ".rs",
   "mimetype": "text/rust",
   "name": "Rust",
   "pygment_lexer": "rust",
   "version": ""
  }
 },
 "nbformat": 4,
 "nbformat_minor": 5
}
