{
 "cells": [
  {
   "cell_type": "code",
   "execution_count": null,
   "id": "b35f48da",
   "metadata": {},
   "outputs": [],
   "source": []
  },
  {
   "cell_type": "code",
   "execution_count": null,
   "id": "db5ed149",
   "metadata": {},
   "outputs": [],
   "source": []
  },
  {
   "cell_type": "markdown",
   "id": "da12d21e",
   "metadata": {},
   "source": [
    "## 1-3  문자열 리터럴과 문자열 차이\n",
    "\n",
    "- 문자열 리터럴은 더블 따옴표로 만들어진 문자열을 의미한다.\n",
    "- 문자열은 String 구조체로 만들어진 문자열을 의미한다. "
   ]
  },
  {
   "cell_type": "code",
   "execution_count": null,
   "id": "db828557",
   "metadata": {},
   "outputs": [],
   "source": []
  },
  {
   "cell_type": "code",
   "execution_count": 21,
   "id": "24786fc5",
   "metadata": {},
   "outputs": [],
   "source": [
    "let s = \"문자열리터럴\";"
   ]
  },
  {
   "cell_type": "code",
   "execution_count": 26,
   "id": "e31bc04d",
   "metadata": {},
   "outputs": [
    {
     "name": "stdout",
     "output_type": "stream",
     "text": [
      "타입 확인 = &str \n"
     ]
    }
   ],
   "source": [
    "println!(\"타입 확인 = {} \", type_of(&s));"
   ]
  },
  {
   "cell_type": "code",
   "execution_count": 27,
   "id": "d57be632",
   "metadata": {},
   "outputs": [],
   "source": [
    "let ss = String::from(\"문자열\");"
   ]
  },
  {
   "cell_type": "code",
   "execution_count": 28,
   "id": "91f9cd87",
   "metadata": {},
   "outputs": [
    {
     "name": "stdout",
     "output_type": "stream",
     "text": [
      "타입 확인 = alloc::string::String \n"
     ]
    }
   ],
   "source": [
    "println!(\"타입 확인 = {} \", type_of(&ss));"
   ]
  },
  {
   "cell_type": "markdown",
   "id": "2ed5c336",
   "metadata": {},
   "source": [
    "### 문자열 리터럴과 문자열은 다르다.  "
   ]
  },
  {
   "cell_type": "code",
   "execution_count": 29,
   "id": "e38d6ffb",
   "metadata": {},
   "outputs": [
    {
     "ename": "Error",
     "evalue": "mismatched types",
     "output_type": "error",
     "traceback": [
      "\u001b[31m[E0308] Error:\u001b[0m mismatched types",
      "   \u001b[38;5;246m╭\u001b[0m\u001b[38;5;246m─\u001b[0m\u001b[38;5;246m[\u001b[0mcommand_29:1:1\u001b[38;5;246m]\u001b[0m",
      "   \u001b[38;5;246m│\u001b[0m",
      " \u001b[38;5;246m1 │\u001b[0m \u001b[38;5;249ms\u001b[0m\u001b[38;5;249ms\u001b[0m\u001b[38;5;249m \u001b[0m\u001b[38;5;249m=\u001b[0m\u001b[38;5;54ms\u001b[0m\u001b[38;5;249m;\u001b[0m",
      " \u001b[38;5;246m  ·\u001b[0m     \u001b[38;5;54m┬\u001b[0m\u001b[38;5;100m│\u001b[0m ",
      " \u001b[38;5;246m  ·\u001b[0m     \u001b[38;5;54m╰\u001b[0m\u001b[38;5;54m─\u001b[0m\u001b[38;5;54m─\u001b[0m expected struct `String`, found `&str`",
      " \u001b[38;5;246m  ·\u001b[0m      \u001b[38;5;100m│\u001b[0m ",
      " \u001b[38;5;246m  ·\u001b[0m      \u001b[38;5;100m╰\u001b[0m\u001b[38;5;100m─\u001b[0m help: try using a conversion method: `.to_string()`",
      "\u001b[38;5;246m───╯\u001b[0m"
     ]
    }
   ],
   "source": [
    "ss =s;"
   ]
  },
  {
   "cell_type": "code",
   "execution_count": 31,
   "id": "3af1502e",
   "metadata": {},
   "outputs": [],
   "source": [
    "let mut ss1 = String::new();\n",
    "ss1 =s.to_string();        // 문자열 리터럴을 문자열로 변환해서 할당한다"
   ]
  },
  {
   "cell_type": "code",
   "execution_count": null,
   "id": "fe77da54",
   "metadata": {},
   "outputs": [],
   "source": []
  },
  {
   "cell_type": "code",
   "execution_count": 5,
   "id": "b3b1f94d",
   "metadata": {},
   "outputs": [],
   "source": [
    "static SOME_STR: &str = \"A static string\";          // 문자열 리터럴 지정 "
   ]
  },
  {
   "cell_type": "code",
   "execution_count": 6,
   "id": "f1f78f34",
   "metadata": {},
   "outputs": [],
   "source": [
    "static mut DB: String = String::new();"
   ]
  },
  {
   "cell_type": "code",
   "execution_count": 11,
   "id": "084cfb5d",
   "metadata": {},
   "outputs": [],
   "source": [
    "fn main() {\n",
    "    println!(\"{}\", SOME_INT);\n",
    "    println!(\"{}\", SOME_STR);\n",
    "\n",
    "    unsafe {\n",
    "        DB = \"Some(open_database());\".to_string();\n",
    "    }\n",
    "}"
   ]
  },
  {
   "cell_type": "code",
   "execution_count": 12,
   "id": "a3cbf781",
   "metadata": {},
   "outputs": [
    {
     "name": "stdout",
     "output_type": "stream",
     "text": [
      "5\n",
      "A static string\n"
     ]
    },
    {
     "data": {
      "text/plain": [
       "()"
      ]
     },
     "execution_count": 12,
     "metadata": {},
     "output_type": "execute_result"
    }
   ],
   "source": [
    "main()"
   ]
  },
  {
   "cell_type": "code",
   "execution_count": null,
   "id": "38b35c0c",
   "metadata": {},
   "outputs": [],
   "source": []
  },
  {
   "cell_type": "markdown",
   "id": "b638ed6b",
   "metadata": {},
   "source": [
    "## 1-4 구조체 정의  내에 전역 문자열 리터럴 정의\n",
    "\n",
    "- 러스트는 클래스가 없고 구조체를 정의해서 사용한다.\n",
    "- 구조체는 별도의 메서드 없이 구조체 리터럴로 인스턴스를 생성할 수 있다."
   ]
  },
  {
   "cell_type": "code",
   "execution_count": 15,
   "id": "b98a36d5",
   "metadata": {},
   "outputs": [],
   "source": [
    "#[derive(Debug)]               // 구조체는 println 매크로에 출력할 수 없어서 속성을 사용해서 출력가능하도록 만든다.\n",
    "struct MyStruct {\n",
    "    number: i32,               // 구조체 필드 정의 \n",
    "    string: &'static str,\n",
    "}"
   ]
  },
  {
   "cell_type": "code",
   "execution_count": 16,
   "id": "a1824d67",
   "metadata": {},
   "outputs": [],
   "source": [
    "let my = MyStruct { number : 33, string : \"구조체\"};"
   ]
  },
  {
   "cell_type": "markdown",
   "id": "9d0435dd",
   "metadata": {},
   "source": [
    "### 구조체를 출력하려면 플레이스홀드에  {:?} 를 사용 "
   ]
  },
  {
   "cell_type": "code",
   "execution_count": 17,
   "id": "8d605caf",
   "metadata": {},
   "outputs": [
    {
     "name": "stdout",
     "output_type": "stream",
     "text": [
      "MyStruct { number: 33, string: \"구조체\" }\n"
     ]
    }
   ],
   "source": [
    "println!(\"{:?}\",my);"
   ]
  },
  {
   "cell_type": "markdown",
   "id": "405de48c",
   "metadata": {},
   "source": [
    "### 구조체룰 필드별로 출력할 때는 플레이스홀드에  {:#?}로 지정한다"
   ]
  },
  {
   "cell_type": "code",
   "execution_count": 18,
   "id": "069198ff",
   "metadata": {},
   "outputs": [
    {
     "name": "stdout",
     "output_type": "stream",
     "text": [
      "MyStruct {\n",
      "    number: 33,\n",
      "    string: \"구조체\",\n",
      "}\n"
     ]
    }
   ],
   "source": [
    "println!(\"{:#?}\",my);"
   ]
  },
  {
   "cell_type": "code",
   "execution_count": 19,
   "id": "83e47478",
   "metadata": {},
   "outputs": [],
   "source": [
    "static SOME_STRUCT: MyStruct = MyStruct {           // 구조체 지정 \n",
    "    number: 10,\n",
    "    string: \"Some string\",\n",
    "};"
   ]
  },
  {
   "cell_type": "markdown",
   "id": "b1be3008",
   "metadata": {},
   "source": [
    "## 1-5 전역변수도 반드시 타입 애노테이션을 지정해야 한다.\n"
   ]
  },
  {
   "cell_type": "markdown",
   "id": "47bceb82",
   "metadata": {},
   "source": [
    "### 전역변수를 지정해서 출력하기 \n",
    "\n",
    "- 전역변수는 static 키워드로 지정\n",
    "- 타입 애노테이션을 지정한다. "
   ]
  },
  {
   "cell_type": "code",
   "execution_count": 20,
   "id": "0d02e089",
   "metadata": {},
   "outputs": [],
   "source": [
    "fn main() {\n",
    "\n",
    "    println!(\"{}\", SOME_STRUCT.number);\n",
    "    println!(\"{}\", SOME_STRUCT.string);\n",
    "\n",
    "    unsafe {\n",
    "        DB = \"Some(open_database());\".to_string();\n",
    "    }\n",
    "}"
   ]
  },
  {
   "cell_type": "code",
   "execution_count": 21,
   "id": "503ebbb0",
   "metadata": {},
   "outputs": [
    {
     "name": "stdout",
     "output_type": "stream",
     "text": [
      "10\n",
      "Some string\n"
     ]
    }
   ],
   "source": [
    "main();"
   ]
  },
  {
   "cell_type": "code",
   "execution_count": null,
   "id": "b5807495",
   "metadata": {},
   "outputs": [],
   "source": []
  }
 ],
 "metadata": {
  "kernelspec": {
   "display_name": "Rust",
   "language": "rust",
   "name": "rust"
  },
  "language_info": {
   "codemirror_mode": "rust",
   "file_extension": ".rs",
   "mimetype": "text/rust",
   "name": "Rust",
   "pygment_lexer": "rust",
   "version": ""
  }
 },
 "nbformat": 4,
 "nbformat_minor": 5
}
