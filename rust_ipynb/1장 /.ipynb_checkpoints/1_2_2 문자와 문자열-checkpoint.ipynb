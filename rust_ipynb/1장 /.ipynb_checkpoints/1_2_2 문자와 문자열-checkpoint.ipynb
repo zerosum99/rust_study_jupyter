{
 "cells": [
  {
   "cell_type": "markdown",
   "id": "e6184709",
   "metadata": {},
   "source": [
    "# 0. 타입 확인 : 외부 크레이트 사용하기"
   ]
  },
  {
   "cell_type": "markdown",
   "id": "e08a8ccb",
   "metadata": {},
   "source": [
    "## 0-1. crate 를 현재 개발 환경에 가져오기\n",
    "\n",
    "- 타입에 대한 정보를 처리하기 위해 외부에서 크레이트를 가져온다\n",
    "- :dep 크레이트명 = 버전\n",
    "- 크레이트 버전은 crates.io 에서 크레이트 명을 확인하고 처리 \n"
   ]
  },
  {
   "cell_type": "markdown",
   "id": "6ef367b0",
   "metadata": {},
   "source": [
    "### 의존하는 크레이트를 가져온다 \n",
    "\n",
    "- .toml 파일 내의 [dependency] 섹션 내에 의존 중의 크레이트를 지정하듯이 \n",
    "- :dep를 통해 주피터노트북으로 크레이트를 가져올 수 있다.  "
   ]
  },
  {
   "cell_type": "code",
   "execution_count": 8,
   "id": "69ecd799",
   "metadata": {},
   "outputs": [],
   "source": [
    ":dep typename = \"0.1.2\""
   ]
  },
  {
   "cell_type": "markdown",
   "id": "c9993f7e",
   "metadata": {},
   "source": [
    "## 0-2. 크레이트 내의 트레이트 사용하기\n",
    "\n",
    "- 크레이트를 가져와서 사용할 때는 use 예약어를 사용\n",
    "- 크레이트:: 트레이트명"
   ]
  },
  {
   "cell_type": "markdown",
   "id": "9e644057",
   "metadata": {},
   "source": [
    "### 해당 메서드를 사용하려면 트레이트를 사용\n",
    "\n",
    "- use 크레이트명::트레이트명"
   ]
  },
  {
   "cell_type": "code",
   "execution_count": 9,
   "id": "6a8fd209",
   "metadata": {},
   "outputs": [],
   "source": [
    "use typename::TypeName;"
   ]
  },
  {
   "cell_type": "code",
   "execution_count": null,
   "id": "508d2844",
   "metadata": {},
   "outputs": [],
   "source": []
  },
  {
   "cell_type": "markdown",
   "id": "1d1fbb96",
   "metadata": {},
   "source": [
    "## 0-3 타입 애노테이션에서 타입이름가져오기\n",
    "\n",
    "- 타입 애노테이션에서 타입명은 연관함수를 사용\n",
    "- 연관함수는 내부에 인스턴스를 별도로 받지 않느다.\n",
    "- 그래서 타입 애노테이션 :: 함수명을 사용해서 정보를 조회"
   ]
  },
  {
   "cell_type": "code",
   "execution_count": null,
   "id": "bc6db71f",
   "metadata": {},
   "outputs": [],
   "source": []
  },
  {
   "cell_type": "code",
   "execution_count": 10,
   "id": "3d73e85b",
   "metadata": {},
   "outputs": [
    {
     "name": "stdout",
     "output_type": "stream",
     "text": [
      "i32\n"
     ]
    }
   ],
   "source": [
    "println!(\"{}\",i32::type_name());    // 문장으로 처리하면 반환값이 없어서 출력한 결과가 없다."
   ]
  },
  {
   "cell_type": "code",
   "execution_count": 12,
   "id": "38c392d1",
   "metadata": {},
   "outputs": [
    {
     "data": {
      "text/plain": [
       "\"i32\""
      ]
     },
     "execution_count": 12,
     "metadata": {},
     "output_type": "execute_result"
    }
   ],
   "source": [
    "i32::type_name()    // 세미콜론을 안 찍으면 표현식으로 인식한다. "
   ]
  },
  {
   "cell_type": "code",
   "execution_count": null,
   "id": "d14da5be",
   "metadata": {},
   "outputs": [],
   "source": []
  },
  {
   "cell_type": "code",
   "execution_count": null,
   "id": "02951a39",
   "metadata": {},
   "outputs": [],
   "source": []
  },
  {
   "cell_type": "markdown",
   "id": "58fc63a4",
   "metadata": {},
   "source": [
    "## 0.4  타입이름도 가져올 수 있다.\n",
    "- 타입 애노테이션과 동일한 방식으로 가져온다"
   ]
  },
  {
   "cell_type": "code",
   "execution_count": 11,
   "id": "74f37f8c",
   "metadata": {},
   "outputs": [],
   "source": [
    "use std::any::type_name;\n",
    "\n",
    "fn type_of<T>(_: T) -> &'static str {\n",
    "    type_name::<T>()\n",
    "}"
   ]
  },
  {
   "cell_type": "code",
   "execution_count": 13,
   "id": "28407949",
   "metadata": {},
   "outputs": [
    {
     "data": {
      "text/plain": [
       "\"i32\""
      ]
     },
     "execution_count": 13,
     "metadata": {},
     "output_type": "execute_result"
    }
   ],
   "source": [
    "type_of(100)"
   ]
  },
  {
   "cell_type": "code",
   "execution_count": null,
   "id": "55c3e075",
   "metadata": {},
   "outputs": [],
   "source": []
  },
  {
   "cell_type": "markdown",
   "id": "69e6548b",
   "metadata": {},
   "source": [
    "## 2. 문자열  관련"
   ]
  },
  {
   "cell_type": "markdown",
   "id": "fa3b2fc4",
   "metadata": {},
   "source": [
    "## 문자열\n",
    "\n",
    "- String 구조체 "
   ]
  },
  {
   "cell_type": "code",
   "execution_count": 14,
   "id": "a0d0ef95",
   "metadata": {},
   "outputs": [
    {
     "data": {
      "text/plain": [
       "\"std::string::String\""
      ]
     },
     "execution_count": 14,
     "metadata": {},
     "output_type": "execute_result"
    }
   ],
   "source": [
    "String::type_name()"
   ]
  },
  {
   "cell_type": "code",
   "execution_count": 22,
   "id": "38a21475",
   "metadata": {},
   "outputs": [
    {
     "data": {
      "text/plain": [
       "\"std::string::String\""
      ]
     },
     "execution_count": 22,
     "metadata": {},
     "output_type": "execute_result"
    }
   ],
   "source": [
    "\"문자열 리터럴\".to_string().type_name_of()"
   ]
  },
  {
   "cell_type": "code",
   "execution_count": 16,
   "id": "24307e73",
   "metadata": {},
   "outputs": [
    {
     "name": "stdout",
     "output_type": "stream",
     "text": [
      "alloc::string::String \n"
     ]
    }
   ],
   "source": [
    "let s = String::from(\"문자열\");\n",
    "\n",
    "println!(\"{} \",type_of(s));"
   ]
  },
  {
   "cell_type": "markdown",
   "id": "a1a14e8f",
   "metadata": {},
   "source": [
    "### 문자열 리터럴\n",
    "- 슬라이스로 처리됨"
   ]
  },
  {
   "cell_type": "code",
   "execution_count": 20,
   "id": "11b5b781",
   "metadata": {},
   "outputs": [
    {
     "data": {
      "text/plain": [
       "\"str\""
      ]
     },
     "execution_count": 20,
     "metadata": {},
     "output_type": "execute_result"
    }
   ],
   "source": [
    "str::type_name()"
   ]
  },
  {
   "cell_type": "code",
   "execution_count": 23,
   "id": "f515fc93",
   "metadata": {},
   "outputs": [
    {
     "data": {
      "text/plain": [
       "\"str\""
      ]
     },
     "execution_count": 23,
     "metadata": {},
     "output_type": "execute_result"
    }
   ],
   "source": [
    "\"문자열 리터럴 \".type_name_of()"
   ]
  },
  {
   "cell_type": "code",
   "execution_count": 17,
   "id": "9b3dbd5e",
   "metadata": {},
   "outputs": [
    {
     "name": "stdout",
     "output_type": "stream",
     "text": [
      "&str \n"
     ]
    }
   ],
   "source": [
    "let ss = \"문자열리터럴\"; \n",
    "\n",
    "println!(\"{} \",type_of(ss));"
   ]
  },
  {
   "cell_type": "code",
   "execution_count": null,
   "id": "a77fd3e4",
   "metadata": {},
   "outputs": [],
   "source": []
  },
  {
   "cell_type": "code",
   "execution_count": null,
   "id": "9d9f4a0b",
   "metadata": {},
   "outputs": [],
   "source": []
  },
  {
   "cell_type": "markdown",
   "id": "7801cee0",
   "metadata": {},
   "source": [
    "## 4.    문자\n",
    "\n",
    "- 문자는 하나의 따옴표를 사용해서 정의 => 정수는 4바이트 유니코드로 처리 \n",
    "\n",
    "- CHAR_LITERAL :\n",
    "' (~ [ ' \\ \\ n \\ r \\ t] | QUOTE_ESCAPE | ASCII_ESCAPE | UNICODE_ESCAPE) '\n",
    "\n",
    "- QUOTE_ESCAPE :\n",
    "\\' | \\\"\n",
    "\n",
    "- ASCII_ESCAPE :\n",
    "\\x OCT_DIGIT HEX_DIGIT\n",
    "| \\n | \\r | \\t | \\\\ | \\0\n",
    "\n",
    "- UNICODE_ESCAPE :\n",
    "\\u{ (HEX_DIGIT _ * ) 1..6 }"
   ]
  },
  {
   "cell_type": "code",
   "execution_count": 22,
   "id": "1eb73fde",
   "metadata": {},
   "outputs": [],
   "source": [
    "fn main() {\n",
    "    println!(\" char size {}\", size_of_val(&'a'));\n",
    "    println!(\" char utf8 {}\", 'a'.len_utf8());\n",
    "    println!(\" char size {}\", size_of_val(&'가'));\n",
    "    println!(\" char utf8 {}\", '가'.len_utf8());\n",
    "}"
   ]
  },
  {
   "cell_type": "code",
   "execution_count": 23,
   "id": "556d6d92",
   "metadata": {},
   "outputs": [
    {
     "name": "stdout",
     "output_type": "stream",
     "text": [
      " char size 4\n",
      " char utf8 1\n",
      " char size 4\n",
      " char utf8 3\n"
     ]
    },
    {
     "data": {
      "text/plain": [
       "()"
      ]
     },
     "execution_count": 23,
     "metadata": {},
     "output_type": "execute_result"
    }
   ],
   "source": [
    "main()"
   ]
  },
  {
   "cell_type": "markdown",
   "id": "1322f656",
   "metadata": {},
   "source": [
    "### 유니코드 문자에 대한 처리\n",
    "\n",
    "- 문자는 4바이트로 처리함"
   ]
  },
  {
   "cell_type": "code",
   "execution_count": 3,
   "id": "d722a41b",
   "metadata": {},
   "outputs": [],
   "source": [
    "use std::mem::size_of_val;\n",
    "fn main() {\n",
    "    let c1 = 'a';\n",
    "    assert_eq!(size_of_val(&c1),4); \n",
    "\n",
    "    let c2 = '中';\n",
    "    assert_eq!(size_of_val(&c2),4); \n",
    "\n",
    "    println!(\"Success!\");\n",
    "} \n"
   ]
  },
  {
   "cell_type": "code",
   "execution_count": 4,
   "id": "e97bd02a",
   "metadata": {},
   "outputs": [
    {
     "name": "stdout",
     "output_type": "stream",
     "text": [
      "Success!\n"
     ]
    }
   ],
   "source": [
    "main();"
   ]
  },
  {
   "cell_type": "code",
   "execution_count": null,
   "id": "df6c220c",
   "metadata": {},
   "outputs": [],
   "source": []
  },
  {
   "cell_type": "markdown",
   "id": "2e83ec65",
   "metadata": {},
   "source": [
    "## 6. 복합자료구조 : 문자열 리터럴 \n",
    "\n",
    "- 문자열리터럴은 변경이 불가능하다.\n",
    "- 문자열리터럴로 지정하면 &str 타입 애노테이션으로 자료형 처리\n",
    "- 실제 슬라이스이므로 처리"
   ]
  },
  {
   "cell_type": "markdown",
   "id": "56c19890",
   "metadata": {},
   "source": [
    "## 6-1.  문자열 리터럴 : 변경불가능\n",
    "- STRING_LITERAL :\n",
    "\" (\n",
    "~[\"\\IsolatedCR]\n",
    "| QUOTE_ESCAPE\n",
    "| ASCII_ESCAPE\n",
    "| UNICODE_ESCAPE\n",
    "| STRING_CONTINUE\n",
    ")*\"\n",
    "\n",
    "- STRING_CONTINUE :\n",
    "\\ 다음에 \\ n"
   ]
  },
  {
   "cell_type": "code",
   "execution_count": null,
   "id": "3e8c494d",
   "metadata": {},
   "outputs": [],
   "source": []
  },
  {
   "cell_type": "code",
   "execution_count": 38,
   "id": "91342c45",
   "metadata": {},
   "outputs": [],
   "source": [
    "#[allow(unused)]        // 사용하지 않는 변수 등의 경고 메시지 제약 \n",
    "fn main() {\n",
    "    let a = \"foobar\";\n",
    "    let b = \"foo\\\n",
    "             bar\";\n",
    "\n",
    "    assert_eq!(a,b);   // 동일한 값이 아니면 예외 처리 \n",
    "    println!(\" string dispaly a={}, b={}\", a,b)\n",
    "}"
   ]
  },
  {
   "cell_type": "code",
   "execution_count": 39,
   "id": "121d42b8",
   "metadata": {},
   "outputs": [
    {
     "name": "stdout",
     "output_type": "stream",
     "text": [
      " string dispaly a=foobar, b=foobar\n"
     ]
    },
    {
     "data": {
      "text/plain": [
       "()"
      ]
     },
     "execution_count": 39,
     "metadata": {},
     "output_type": "execute_result"
    }
   ],
   "source": [
    "main()"
   ]
  },
  {
   "cell_type": "code",
   "execution_count": null,
   "id": "57f3569f",
   "metadata": {},
   "outputs": [],
   "source": []
  },
  {
   "cell_type": "markdown",
   "id": "fc9adca8",
   "metadata": {},
   "source": [
    "## 6-2. 원시 문자열 리터럴 \n",
    "\n",
    "- 이스케이프 문자도 문자열 내의 문자로 처리\n",
    "\n",
    "- RAW_STRING_LITERAL :\n",
    "r RAW_STRING_CONTENT\n",
    "\n",
    "- RAW_STRING_CONTENT :\n",
    "\" (~ IsolatedCR ) * (비 욕심) \"\n",
    "| # RAW_STRING_CONTENT #"
   ]
  },
  {
   "cell_type": "markdown",
   "id": "b2d188df",
   "metadata": {},
   "source": [
    "### 속성 사용하기\n",
    "\n",
    "- 속성을 #[allow(unused)]"
   ]
  },
  {
   "cell_type": "code",
   "execution_count": 28,
   "id": "b968d00c",
   "metadata": {},
   "outputs": [],
   "source": [
    "#[allow(unused)]        // 사용하지 않는 변수 등의 경고 메시지 제약 \n",
    "fn main() {\n",
    "    let a = r\"foobar\";\n",
    "    let b = r\"foo\\\n",
    "              bar\";\n",
    "\n",
    "    println!(\" string dispaly a={}\", a);\n",
    "    println!(\" string dispaly b={}\", b);\n",
    "}"
   ]
  },
  {
   "cell_type": "code",
   "execution_count": 29,
   "id": "f4b487d9",
   "metadata": {},
   "outputs": [
    {
     "name": "stdout",
     "output_type": "stream",
     "text": [
      " string dispaly a=foobar\n",
      " string dispaly b=foo\\\n",
      "              bar\n"
     ]
    },
    {
     "data": {
      "text/plain": [
       "()"
      ]
     },
     "execution_count": 29,
     "metadata": {},
     "output_type": "execute_result"
    }
   ],
   "source": [
    "main()"
   ]
  },
  {
   "cell_type": "code",
   "execution_count": 36,
   "id": "21fce71f",
   "metadata": {},
   "outputs": [],
   "source": [
    "fn main() {\n",
    "    let a = r\"foobar\";\n",
    "    let b = r#\"foo\\\n",
    "    bar\"#;\n",
    "\n",
    "    println!(\" string dispaly a={}\", a);\n",
    "    println!(\" string dispaly b={}\", b);\n",
    "}"
   ]
  },
  {
   "cell_type": "code",
   "execution_count": 37,
   "id": "28085a48",
   "metadata": {},
   "outputs": [
    {
     "name": "stdout",
     "output_type": "stream",
     "text": [
      " string dispaly a=foobar\n",
      " string dispaly b=foo\\\n",
      "    bar\n"
     ]
    }
   ],
   "source": [
    "main(); "
   ]
  },
  {
   "cell_type": "code",
   "execution_count": null,
   "id": "0f40db09",
   "metadata": {},
   "outputs": [],
   "source": []
  },
  {
   "cell_type": "code",
   "execution_count": 34,
   "id": "927b63ea",
   "metadata": {},
   "outputs": [],
   "source": [
    "// source: https://github.com/serde-rs/json\n",
    "let data = r#\"{\n",
    "                    \"name\": \"John Doe\",\n",
    "                    \"age\": 43,\n",
    "                    \"phones\": [\n",
    "                      \"+44 1234567\",\n",
    "                      \"+44 2345678\"\n",
    "                    ]\n",
    "                  }\"#;"
   ]
  },
  {
   "cell_type": "code",
   "execution_count": 35,
   "id": "07c63403",
   "metadata": {},
   "outputs": [
    {
     "name": "stdout",
     "output_type": "stream",
     "text": [
      " string dispaly d={\n",
      "                    \"name\": \"John Doe\",\n",
      "                    \"age\": 43,\n",
      "                    \"phones\": [\n",
      "                      \"+44 1234567\",\n",
      "                      \"+44 2345678\"\n",
      "                    ]\n",
      "                  }\n"
     ]
    }
   ],
   "source": [
    "println!(\" string dispaly d={}\", data);"
   ]
  },
  {
   "cell_type": "code",
   "execution_count": null,
   "id": "97cbbfed",
   "metadata": {},
   "outputs": [],
   "source": []
  },
  {
   "cell_type": "code",
   "execution_count": null,
   "id": "cc1f43df",
   "metadata": {},
   "outputs": [],
   "source": []
  }
 ],
 "metadata": {
  "kernelspec": {
   "display_name": "Rust",
   "language": "rust",
   "name": "rust"
  },
  "language_info": {
   "codemirror_mode": "rust",
   "file_extension": ".rs",
   "mimetype": "text/rust",
   "name": "Rust",
   "pygment_lexer": "rust",
   "version": ""
  }
 },
 "nbformat": 4,
 "nbformat_minor": 5
}
