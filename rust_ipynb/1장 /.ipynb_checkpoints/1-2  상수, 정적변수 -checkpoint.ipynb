{
 "cells": [
  {
   "cell_type": "code",
   "execution_count": null,
   "id": "b35f48da",
   "metadata": {},
   "outputs": [],
   "source": []
  },
  {
   "cell_type": "markdown",
   "id": "306c28dc",
   "metadata": {},
   "source": [
    "# 2. 상수\n",
    "\n",
    "- const로 지정해서 정의\n",
    "- 상수의 값은 상수표현식이 가능한 경우만 할당 가능 "
   ]
  },
  {
   "cell_type": "markdown",
   "id": "8fcecc6f",
   "metadata": {},
   "source": [
    "## 상수는 반드시 타입 어노테이션을 지정"
   ]
  },
  {
   "cell_type": "code",
   "execution_count": 46,
   "id": "62d18119",
   "metadata": {},
   "outputs": [
    {
     "ename": "Error",
     "evalue": "missing type for `const` item",
     "output_type": "error",
     "traceback": [
      "\u001b[31mError:\u001b[0m missing type for `const` item",
      "   \u001b[38;5;246m╭\u001b[0m\u001b[38;5;246m─\u001b[0m\u001b[38;5;246m[\u001b[0mcommand_46:1:1\u001b[38;5;246m]\u001b[0m",
      "   \u001b[38;5;246m│\u001b[0m",
      " \u001b[38;5;246m1 │\u001b[0m \u001b[38;5;249mc\u001b[0m\u001b[38;5;249mo\u001b[0m\u001b[38;5;249mn\u001b[0m\u001b[38;5;249ms\u001b[0m\u001b[38;5;249mt\u001b[0m\u001b[38;5;249m \u001b[0m\u001b[38;5;249mc\u001b[0m\u001b[38;5;249mo\u001b[0m\u001b[38;5;249mn\u001b[0m\u001b[38;5;249m_\u001b[0m\u001b[38;5;249mv\u001b[0m\u001b[38;5;249ma\u001b[0m\u001b[38;5;249mr\u001b[0m\u001b[38;5;249m \u001b[0m\u001b[38;5;249m \u001b[0m\u001b[38;5;249m=\u001b[0m\u001b[38;5;249m \u001b[0m\u001b[38;5;249m1\u001b[0m\u001b[38;5;249m0\u001b[0m\u001b[38;5;249m0\u001b[0m\u001b[38;5;249m;\u001b[0m",
      " \u001b[38;5;246m  ·\u001b[0m              \u001b[38;5;54m│\u001b[0m ",
      " \u001b[38;5;246m  ·\u001b[0m              \u001b[38;5;54m╰\u001b[0m\u001b[38;5;54m─\u001b[0m error: missing type for `const` item",
      " \u001b[38;5;246m  ·\u001b[0m              \u001b[38;5;100m│\u001b[0m ",
      " \u001b[38;5;246m  ·\u001b[0m              \u001b[38;5;100m╰\u001b[0m\u001b[38;5;100m─\u001b[0m help: provide a type for the constant: `: i32`",
      "\u001b[38;5;246m───╯\u001b[0m"
     ]
    }
   ],
   "source": [
    "const con_var  = 100; "
   ]
  },
  {
   "cell_type": "code",
   "execution_count": null,
   "id": "36d90bde",
   "metadata": {},
   "outputs": [],
   "source": []
  },
  {
   "cell_type": "code",
   "execution_count": 47,
   "id": "52d983d7",
   "metadata": {},
   "outputs": [],
   "source": [
    "const con_var1 : i32  = 100; "
   ]
  },
  {
   "cell_type": "code",
   "execution_count": 48,
   "id": "1522a0ea",
   "metadata": {},
   "outputs": [
    {
     "data": {
      "text/plain": [
       "100"
      ]
     },
     "execution_count": 48,
     "metadata": {},
     "output_type": "execute_result"
    }
   ],
   "source": [
    "con_var1"
   ]
  },
  {
   "cell_type": "code",
   "execution_count": null,
   "id": "79f42223",
   "metadata": {},
   "outputs": [],
   "source": []
  },
  {
   "cell_type": "code",
   "execution_count": null,
   "id": "fb4a93e6",
   "metadata": {},
   "outputs": [],
   "source": []
  },
  {
   "cell_type": "code",
   "execution_count": null,
   "id": "7b62ebc9",
   "metadata": {},
   "outputs": [],
   "source": []
  },
  {
   "cell_type": "markdown",
   "id": "23db8844",
   "metadata": {},
   "source": [
    "# 3.  전역변수\n",
    "\n",
    "- 전역변수는 static 변수로만 가능하다"
   ]
  },
  {
   "cell_type": "code",
   "execution_count": 18,
   "id": "b98a36d5",
   "metadata": {},
   "outputs": [],
   "source": [
    "struct MyStruct {\n",
    "    number: i32,\n",
    "    string: &'static str,\n",
    "}"
   ]
  },
  {
   "cell_type": "code",
   "execution_count": 21,
   "id": "0d02e089",
   "metadata": {},
   "outputs": [],
   "source": [
    "static SOME_INT: i32 = 5;\n",
    "static SOME_STR: &'static str = \"A static string\";\n",
    "static SOME_STRUCT: MyStruct = MyStruct {\n",
    "    number: 10,\n",
    "    string: \"Some string\",\n",
    "};\n",
    "static mut db: String = String::new();\n",
    "\n",
    "fn main() {\n",
    "    println!(\"{}\", SOME_INT);\n",
    "    println!(\"{}\", SOME_STR);\n",
    "    println!(\"{}\", SOME_STRUCT.number);\n",
    "    println!(\"{}\", SOME_STRUCT.string);\n",
    "\n",
    "    unsafe {\n",
    "        db = \"Some(open_database());\".to_string();\n",
    "    }\n",
    "}"
   ]
  },
  {
   "cell_type": "code",
   "execution_count": 22,
   "id": "503ebbb0",
   "metadata": {},
   "outputs": [
    {
     "name": "stdout",
     "output_type": "stream",
     "text": [
      "5\n",
      "A static string\n",
      "10\n",
      "Some string\n"
     ]
    },
    {
     "data": {
      "text/plain": [
       "()"
      ]
     },
     "execution_count": 22,
     "metadata": {},
     "output_type": "execute_result"
    }
   ],
   "source": [
    "main()"
   ]
  },
  {
   "cell_type": "code",
   "execution_count": null,
   "id": "24660757",
   "metadata": {},
   "outputs": [],
   "source": []
  },
  {
   "cell_type": "markdown",
   "id": "b4befdce",
   "metadata": {},
   "source": [
    "## 변수 정의 : 불변 변수 "
   ]
  },
  {
   "cell_type": "code",
   "execution_count": null,
   "id": "0fe9cc7f",
   "metadata": {},
   "outputs": [],
   "source": []
  },
  {
   "cell_type": "code",
   "execution_count": 13,
   "id": "5703b87e",
   "metadata": {},
   "outputs": [],
   "source": [
    "\n",
    "\n",
    "fn main() {\n",
    "    let fees = 25_000;\n",
    "    let salary:f64=35_000.00;\n",
    "    println!(\"fees is {} and salary is {}\",fees,salary); \n",
    "\n",
    "}"
   ]
  },
  {
   "cell_type": "code",
   "execution_count": 14,
   "id": "e67b7b54",
   "metadata": {},
   "outputs": [
    {
     "name": "stdout",
     "output_type": "stream",
     "text": [
      "fees is 25000 and salary is 35000\n"
     ]
    },
    {
     "data": {
      "text/plain": [
       "()"
      ]
     },
     "execution_count": 14,
     "metadata": {},
     "output_type": "execute_result"
    }
   ],
   "source": [
    "main()"
   ]
  },
  {
   "cell_type": "markdown",
   "id": "6a656dc4",
   "metadata": {},
   "source": [
    "## 변수 정의 : 가변 변수 "
   ]
  },
  {
   "cell_type": "code",
   "execution_count": 6,
   "id": "f7c462bc",
   "metadata": {},
   "outputs": [],
   "source": [
    "fn main() {\n",
    "    let mut fees = 25_000;\n",
    "    println!(\"fees is {} \",fees); \n",
    "    fees=35_000;\n",
    "    println!(\"fees changed is {}\",fees);\n",
    "}"
   ]
  },
  {
   "cell_type": "code",
   "execution_count": 7,
   "id": "d29a8c84",
   "metadata": {},
   "outputs": [
    {
     "name": "stdout",
     "output_type": "stream",
     "text": [
      "fees is 25000 \n",
      "fees changed is 35000\n"
     ]
    },
    {
     "data": {
      "text/plain": [
       "()"
      ]
     },
     "execution_count": 7,
     "metadata": {},
     "output_type": "execute_result"
    }
   ],
   "source": [
    "main()"
   ]
  },
  {
   "cell_type": "code",
   "execution_count": null,
   "id": "a0ce0ba7",
   "metadata": {},
   "outputs": [],
   "source": []
  },
  {
   "cell_type": "code",
   "execution_count": 8,
   "id": "5e6faf3b",
   "metadata": {},
   "outputs": [],
   "source": [
    "fn main() {\n",
    "    const USER_LIMIT:i32=100; // Declare a integer constant \n",
    "    const PI:f32 = 3.14;//Declare a float constant\n",
    "    println!(\"user limit is {}\",USER_LIMIT); //Display value of the constant \n",
    "    println!(\"pi value is {}\",PI); //Display value of the constant\n",
    "}"
   ]
  },
  {
   "cell_type": "code",
   "execution_count": 9,
   "id": "0fb1513a",
   "metadata": {},
   "outputs": [
    {
     "name": "stdout",
     "output_type": "stream",
     "text": [
      "user limit is 100\n",
      "pi value is 3.14\n"
     ]
    },
    {
     "data": {
      "text/plain": [
       "()"
      ]
     },
     "execution_count": 9,
     "metadata": {},
     "output_type": "execute_result"
    }
   ],
   "source": [
    "main()"
   ]
  },
  {
   "cell_type": "code",
   "execution_count": null,
   "id": "2c973c95",
   "metadata": {},
   "outputs": [],
   "source": []
  },
  {
   "cell_type": "code",
   "execution_count": 10,
   "id": "07dc2344",
   "metadata": {},
   "outputs": [],
   "source": [
    "fn main() {\n",
    "    let uname=\"Mohtashim\";\n",
    "    let uname= uname.len();\n",
    "    println!(\"name changed to integer : {}\",uname);\n",
    "}\n"
   ]
  },
  {
   "cell_type": "code",
   "execution_count": 11,
   "id": "d002e426",
   "metadata": {},
   "outputs": [
    {
     "name": "stdout",
     "output_type": "stream",
     "text": [
      "name changed to integer : 9\n"
     ]
    },
    {
     "data": {
      "text/plain": [
       "()"
      ]
     },
     "execution_count": 11,
     "metadata": {},
     "output_type": "execute_result"
    }
   ],
   "source": [
    "main()"
   ]
  },
  {
   "cell_type": "markdown",
   "id": "8d13e1a4",
   "metadata": {},
   "source": []
  },
  {
   "cell_type": "code",
   "execution_count": 14,
   "id": "03ad4dd3",
   "metadata": {},
   "outputs": [],
   "source": [
    "fn main() {\n",
    "    const NAME:&str=\"Mohtashim\";\n",
    "    const NAME1:usize= NAME.len(); //Error : `NAME` already defined \n",
    "    println!(\"name changed to integer : {}\",NAME);\n",
    "    println!(\"name changed to integer : {}\",NAME1);\n",
    "}"
   ]
  },
  {
   "cell_type": "code",
   "execution_count": 15,
   "id": "c196ead6",
   "metadata": {},
   "outputs": [
    {
     "name": "stdout",
     "output_type": "stream",
     "text": [
      "name changed to integer : Mohtashim\n",
      "name changed to integer : 9\n"
     ]
    },
    {
     "data": {
      "text/plain": [
       "()"
      ]
     },
     "execution_count": 15,
     "metadata": {},
     "output_type": "execute_result"
    }
   ],
   "source": [
    "main()"
   ]
  },
  {
   "cell_type": "code",
   "execution_count": null,
   "id": "948eefdc",
   "metadata": {},
   "outputs": [],
   "source": []
  },
  {
   "cell_type": "code",
   "execution_count": 33,
   "id": "50589364",
   "metadata": {},
   "outputs": [],
   "source": [
    "// 파라미터의 데이터 타입으로 &가 붙은 &String을 사용하여 데이터 타입 String에 대한 참조임을 나타냅니다. \n",
    "fn calculate_length(s: &String) -> usize {\n",
    "    // 메소드 len을 사용하여 계산된 문자열의 길이를 자신을 호출한 곳에 전달합니다.\n",
    "    s.len()\n",
    "\n",
    "    // 함수 범위를 벗어나는 순간 참조자 s는 삭제됩니다. \n",
    "    // s는 변수 s1에 대한 참조자이기 때문에 변수 s1이 가리키는 데이터에 대한 소유권을 가지지 않습니다. \n",
    "    // 따라서 함수가 종료되면서 참조자 s가 삭제되더라도 참조자 s가 가리키는 데이터인 변수 s1의 값이 삭제되지 않습니다.\n",
    "}"
   ]
  },
  {
   "cell_type": "code",
   "execution_count": 34,
   "id": "ef2d51c9",
   "metadata": {},
   "outputs": [
    {
     "name": "stdout",
     "output_type": "stream",
     "text": [
      "The length of 'hello' is 5.\n"
     ]
    }
   ],
   "source": [
    "let s1 = String::from(\"hello\");\n",
    "\n",
    "\n",
    "// 변수 s1에 대한 참조자인 &s1을 calculate_length 함수에 전달합니다.\n",
    "// &는 참조를 나타내며 소유권 없이 값을 빌려 참조할 수 있습니다.\n",
    "let len = calculate_length(&s1);\n",
    "\n",
    "println!(\"The length of '{}' is {}.\", s1, len);"
   ]
  },
  {
   "cell_type": "code",
   "execution_count": null,
   "id": "18fe336a",
   "metadata": {},
   "outputs": [],
   "source": []
  }
 ],
 "metadata": {
  "kernelspec": {
   "display_name": "Rust",
   "language": "rust",
   "name": "rust"
  },
  "language_info": {
   "codemirror_mode": "rust",
   "file_extension": ".rs",
   "mimetype": "text/rust",
   "name": "Rust",
   "pygment_lexer": "rust",
   "version": ""
  }
 },
 "nbformat": 4,
 "nbformat_minor": 5
}
