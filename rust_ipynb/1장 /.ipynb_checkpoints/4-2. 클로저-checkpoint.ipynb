{
 "cells": [
  {
   "cell_type": "code",
   "execution_count": null,
   "id": "c08a1183",
   "metadata": {},
   "outputs": [],
   "source": []
  },
  {
   "cell_type": "markdown",
   "id": "c2a45c56",
   "metadata": {},
   "source": [
    "## 클로저"
   ]
  },
  {
   "cell_type": "code",
   "execution_count": null,
   "id": "34b3a5b3",
   "metadata": {},
   "outputs": [],
   "source": []
  },
  {
   "cell_type": "code",
   "execution_count": 31,
   "id": "93663d64",
   "metadata": {},
   "outputs": [],
   "source": [
    "fn main() {\n",
    "    fn  add_one_v1   (x: u32) -> u32 { x + 1 }\n",
    "    let add_one_v2 = |x: u32| -> u32 { x + 1 };\n",
    "    let add_one_v3 = |x|             { x + 1 };\n",
    "    let add_one_v4 = |x|               x + 1  ;\n",
    "    println!(\" add_one_v1 {} \", add_one_v1(100));\n",
    "    println!(\" add_one_v2 {} \", add_one_v2(100));\n",
    "    println!(\" add_one_v3 {} \", add_one_v3(100));\n",
    "    println!(\" add_one_v4 {} \", add_one_v4(100));\n",
    "}"
   ]
  },
  {
   "cell_type": "code",
   "execution_count": 32,
   "id": "74af10a4",
   "metadata": {},
   "outputs": [
    {
     "name": "stdout",
     "output_type": "stream",
     "text": [
      " add_one_v1 101 \n",
      " add_one_v2 101 \n",
      " add_one_v3 101 \n",
      " add_one_v4 101 \n"
     ]
    },
    {
     "data": {
      "text/plain": [
       "()"
      ]
     },
     "execution_count": 32,
     "metadata": {},
     "output_type": "execute_result"
    }
   ],
   "source": [
    "main()"
   ]
  },
  {
   "cell_type": "code",
   "execution_count": null,
   "id": "1ffd0eb3",
   "metadata": {},
   "outputs": [],
   "source": []
  },
  {
   "cell_type": "code",
   "execution_count": 35,
   "id": "33509dda",
   "metadata": {},
   "outputs": [],
   "source": [
    "fn main() {\n",
    "    let c  = |x:u32| {x+x};\n",
    "\n",
    "    println!(\" {} \",c(10))\n",
    "}"
   ]
  },
  {
   "cell_type": "code",
   "execution_count": 36,
   "id": "6f335f8c",
   "metadata": {},
   "outputs": [
    {
     "name": "stdout",
     "output_type": "stream",
     "text": [
      " 20 \n"
     ]
    },
    {
     "data": {
      "text/plain": [
       "()"
      ]
     },
     "execution_count": 36,
     "metadata": {},
     "output_type": "execute_result"
    }
   ],
   "source": [
    "main()"
   ]
  },
  {
   "cell_type": "code",
   "execution_count": null,
   "id": "c297bbb1",
   "metadata": {},
   "outputs": [],
   "source": []
  },
  {
   "cell_type": "code",
   "execution_count": 8,
   "id": "af56885a",
   "metadata": {},
   "outputs": [],
   "source": [
    "let f: Box<dyn Fn()> = Box::new(|| {println!(\"foo\")});"
   ]
  },
  {
   "cell_type": "code",
   "execution_count": 9,
   "id": "e1f4ea35",
   "metadata": {},
   "outputs": [
    {
     "name": "stdout",
     "output_type": "stream",
     "text": [
      "foo\n"
     ]
    },
    {
     "data": {
      "text/plain": [
       "()"
      ]
     },
     "execution_count": 9,
     "metadata": {},
     "output_type": "execute_result"
    }
   ],
   "source": [
    "f()"
   ]
  },
  {
   "cell_type": "code",
   "execution_count": 14,
   "id": "76ca4d39",
   "metadata": {},
   "outputs": [],
   "source": [
    "let fc: Box<dyn Fn(u32)> = Box::new(|x| {println!(\"foo {}\",x)});"
   ]
  },
  {
   "cell_type": "code",
   "execution_count": 15,
   "id": "b83c8ea8",
   "metadata": {},
   "outputs": [
    {
     "name": "stdout",
     "output_type": "stream",
     "text": [
      "foo 100\n"
     ]
    },
    {
     "data": {
      "text/plain": [
       "()"
      ]
     },
     "execution_count": 15,
     "metadata": {},
     "output_type": "execute_result"
    }
   ],
   "source": [
    "fc(100)"
   ]
  },
  {
   "cell_type": "code",
   "execution_count": 16,
   "id": "be5b900c",
   "metadata": {},
   "outputs": [],
   "source": [
    "let fc: Box<dyn Fn(u32,u32)> = Box::new(|x,y| {println!(\"foo {}\",x+y)});"
   ]
  },
  {
   "cell_type": "code",
   "execution_count": null,
   "id": "73c633dd",
   "metadata": {},
   "outputs": [],
   "source": []
  }
 ],
 "metadata": {
  "kernelspec": {
   "display_name": "Rust",
   "language": "rust",
   "name": "rust"
  },
  "language_info": {
   "codemirror_mode": "rust",
   "file_extension": ".rs",
   "mimetype": "text/rust",
   "name": "Rust",
   "pygment_lexer": "rust",
   "version": ""
  }
 },
 "nbformat": 4,
 "nbformat_minor": 5
}
