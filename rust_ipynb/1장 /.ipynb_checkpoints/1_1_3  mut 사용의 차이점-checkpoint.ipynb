{
 "cells": [
  {
   "cell_type": "code",
   "execution_count": null,
   "id": "04f56151",
   "metadata": {},
   "outputs": [],
   "source": []
  },
  {
   "cell_type": "markdown",
   "id": "aef79988",
   "metadata": {},
   "source": [
    "## 변수 앞에 mut 사용 \n",
    "\n",
    "- 변수에 할당된 값을 교체 할 수 있다.\n",
    "- 이때 값은 정수 등 모든 인스턴스이다. "
   ]
  },
  {
   "cell_type": "code",
   "execution_count": 5,
   "id": "72dd15e2",
   "metadata": {},
   "outputs": [],
   "source": [
    "fn main() {\n",
    "    let mut x = 0;\n",
    "    for _ in 0..10 {\n",
    "        x += 1;\n",
    "    }\n",
    "\n",
    "    println!(\"The value of x is {}\", x);\n",
    "}"
   ]
  },
  {
   "cell_type": "code",
   "execution_count": 6,
   "id": "66e38e71",
   "metadata": {},
   "outputs": [
    {
     "name": "stdout",
     "output_type": "stream",
     "text": [
      "The value of x is 10\n"
     ]
    }
   ],
   "source": [
    "main();"
   ]
  },
  {
   "cell_type": "markdown",
   "id": "de492436",
   "metadata": {},
   "source": [
    "## 참조 다음에 표시할 경우\n",
    "\n",
    "- 이는 변수에 할당하는 값이 변경가능한 특정 참조를 표시 \n",
    "- 곧 특정 값에 대한 참조를 저장하므로 이 값을 가르키는 곳이 값을 변경해서 저장한다. \n"
   ]
  },
  {
   "cell_type": "code",
   "execution_count": 10,
   "id": "1d298fcf",
   "metadata": {},
   "outputs": [],
   "source": [
    "fn main() {\n",
    "    let x = &mut 0;\n",
    "    for _ in 0..10 {\n",
    "        *x += 1;\n",
    "    }\n",
    "\n",
    "    println!(\"The value of x is {}\", x);\n",
    "}"
   ]
  },
  {
   "cell_type": "code",
   "execution_count": 11,
   "id": "da275571",
   "metadata": {},
   "outputs": [
    {
     "name": "stdout",
     "output_type": "stream",
     "text": [
      "The value of x is 10\n"
     ]
    }
   ],
   "source": [
    "main();"
   ]
  },
  {
   "cell_type": "code",
   "execution_count": null,
   "id": "26b1b21f",
   "metadata": {},
   "outputs": [],
   "source": []
  }
 ],
 "metadata": {
  "kernelspec": {
   "display_name": "Rust",
   "language": "rust",
   "name": "rust"
  },
  "language_info": {
   "codemirror_mode": "rust",
   "file_extension": ".rs",
   "mimetype": "text/rust",
   "name": "Rust",
   "pygment_lexer": "rust",
   "version": ""
  }
 },
 "nbformat": 4,
 "nbformat_minor": 5
}
