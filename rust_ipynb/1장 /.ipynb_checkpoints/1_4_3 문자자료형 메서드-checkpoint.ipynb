{
 "cells": [
  {
   "cell_type": "code",
   "execution_count": null,
   "id": "f86f940b",
   "metadata": {},
   "outputs": [],
   "source": []
  },
  {
   "cell_type": "markdown",
   "id": "ed9232d9",
   "metadata": {},
   "source": [
    "\n",
    "## 불변 메서드\n",
    "\n",
    "- is_alphabetic(): 알파벳 문자인지 확인합니다.\n",
    "- is_ascii(): ASCII 문자인지 확인합니다.\n",
    "- is_digit(): 10진수 숫자인지 확인합니다.\n",
    "- is_lowercase(): 소문자인지 확인합니다.\n",
    "- is_uppercase(): 대문자인지 확인합니다.\n",
    "- len_utf8(): UTF-8 인코딩에서 문자를 인코딩하는데 필요한 바이트 수를 반환합니다.\n",
    "- to_ascii_uppercase(): ASCII 대문자로 변환된 문자를 반환합니다.\n",
    "- to_ascii_lowercase(): ASCII 소문자로 변환된 문자를 반환합니다."
   ]
  },
  {
   "cell_type": "code",
   "execution_count": null,
   "id": "e0575686",
   "metadata": {},
   "outputs": [],
   "source": []
  },
  {
   "cell_type": "code",
   "execution_count": 2,
   "id": "3e4e4ab1",
   "metadata": {},
   "outputs": [],
   "source": [
    "fn main() {\n",
    "    let c: char = 'A';\n",
    "\n",
    "    // 불변 메서드 사용\n",
    "    println!(\"c.is_alphabetic() = {}\", c.is_alphabetic());\n",
    "    println!(\"c.is_ascii() = {}\", c.is_ascii());\n",
    "    println!(\"c.is_digit() = {}\", c.is_digit(10));\n",
    "    println!(\"c.is_lowercase() = {}\", c.is_lowercase());\n",
    "    println!(\"c.is_uppercase() = {}\", c.is_uppercase());\n",
    "    println!(\"c.len_utf8() = {}\", c.len_utf8());\n",
    "\n",
    "    let c_upper = c.to_ascii_uppercase();\n",
    "    println!(\"c_upper = {}\", c_upper);\n",
    "\n",
    "    let c_lower = c.to_ascii_lowercase();\n",
    "    println!(\"c_lower = {}\", c_lower);\n",
    "}"
   ]
  },
  {
   "cell_type": "code",
   "execution_count": 3,
   "id": "f175e017",
   "metadata": {},
   "outputs": [
    {
     "name": "stdout",
     "output_type": "stream",
     "text": [
      "c.is_alphabetic() = true\n",
      "c.is_ascii() = true\n",
      "c.is_digit() = false\n",
      "c.is_lowercase() = false\n",
      "c.is_uppercase() = true\n",
      "c.len_utf8() = 1\n",
      "c_upper = A\n",
      "c_lower = a\n"
     ]
    }
   ],
   "source": [
    "main();"
   ]
  },
  {
   "cell_type": "code",
   "execution_count": null,
   "id": "818176d8",
   "metadata": {},
   "outputs": [],
   "source": []
  }
 ],
 "metadata": {
  "kernelspec": {
   "display_name": "Rust",
   "language": "rust",
   "name": "rust"
  },
  "language_info": {
   "codemirror_mode": "rust",
   "file_extension": ".rs",
   "mimetype": "text/rust",
   "name": "Rust",
   "pygment_lexer": "rust",
   "version": ""
  }
 },
 "nbformat": 4,
 "nbformat_minor": 5
}
