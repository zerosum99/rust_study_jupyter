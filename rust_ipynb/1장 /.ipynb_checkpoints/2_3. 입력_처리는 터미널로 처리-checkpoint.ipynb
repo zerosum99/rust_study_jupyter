{
 "cells": [
  {
   "cell_type": "code",
   "execution_count": 2,
   "id": "e4d83edf",
   "metadata": {},
   "outputs": [],
   "source": [
    "use std::io;"
   ]
  },
  {
   "cell_type": "code",
   "execution_count": 4,
   "id": "c9637cb8",
   "metadata": {},
   "outputs": [],
   "source": [
    "fn main() {\n",
    "    println!(\"숫자를 맞혀봅시다!\");\n",
    "    \n",
    "    println!(\"정답이라고 생각하는 숫자를 입력하세요.\");\n",
    "    \n",
    "    let mut guess = String::new();\n",
    "    io::stdin().read_line(&mut guess).expect(\"입력한 값을 읽지 못했습니다.\");\n",
    "    \n",
    "    println!(\"입력한 값 : {}\", guess);\n",
    "}"
   ]
  },
  {
   "cell_type": "code",
   "execution_count": 5,
   "id": "c851b93a",
   "metadata": {},
   "outputs": [
    {
     "name": "stdout",
     "output_type": "stream",
     "text": [
      "숫자를 맞혀봅시다!\n",
      "정답이라고 생각하는 숫자를 입력하세요.\n"
     ]
    },
    {
     "ename": "Error",
     "evalue": "Subprocess terminated with signal 9. This is known to happen when evcxr is installed via a Homebrew shell under emulation. Try installing rustup and evcxr without using Homebrew and see if that helps.",
     "output_type": "error",
     "traceback": [
      "Subprocess terminated with signal 9. This is known to happen when evcxr is installed via a Homebrew shell under emulation. Try installing rustup and evcxr without using Homebrew and see if that helps."
     ]
    }
   ],
   "source": [
    "main()"
   ]
  },
  {
   "cell_type": "code",
   "execution_count": null,
   "id": "b233df72",
   "metadata": {},
   "outputs": [],
   "source": []
  }
 ],
 "metadata": {
  "kernelspec": {
   "display_name": "Rust",
   "language": "rust",
   "name": "rust"
  },
  "language_info": {
   "codemirror_mode": "rust",
   "file_extension": ".rs",
   "mimetype": "text/rust",
   "name": "Rust",
   "pygment_lexer": "rust",
   "version": ""
  }
 },
 "nbformat": 4,
 "nbformat_minor": 5
}
