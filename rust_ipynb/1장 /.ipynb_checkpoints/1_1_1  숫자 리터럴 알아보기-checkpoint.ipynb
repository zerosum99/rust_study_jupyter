{
 "cells": [
  {
   "cell_type": "markdown",
   "id": "5e25cd4b",
   "metadata": {},
   "source": [
    "# "
   ]
  },
  {
   "cell_type": "code",
   "execution_count": null,
   "id": "10d78583",
   "metadata": {},
   "outputs": [],
   "source": []
  },
  {
   "cell_type": "markdown",
   "id": "d1d5f3b7",
   "metadata": {},
   "source": [
    "## 러스트 들어가면서\n",
    "\n",
    "- 러스트는 메인 함수를 만들면 이 함수를 실행해주면 작동한다. "
   ]
  },
  {
   "cell_type": "code",
   "execution_count": 2,
   "id": "6b873573",
   "metadata": {},
   "outputs": [],
   "source": [
    "fn main() {\n",
    "    println!(\"Hello world!!!\");\n",
    "}"
   ]
  },
  {
   "cell_type": "markdown",
   "id": "12e18c83",
   "metadata": {},
   "source": [
    "### 메인함수를 호출해서 실행하기 "
   ]
  },
  {
   "cell_type": "code",
   "execution_count": 3,
   "id": "7ceca9e3",
   "metadata": {},
   "outputs": [
    {
     "name": "stdout",
     "output_type": "stream",
     "text": [
      "Hello world!!!\n"
     ]
    }
   ],
   "source": [
    "main();"
   ]
  },
  {
   "cell_type": "code",
   "execution_count": null,
   "id": "8107afa3",
   "metadata": {},
   "outputs": [],
   "source": []
  },
  {
   "cell_type": "code",
   "execution_count": null,
   "id": "d5e9b7fc",
   "metadata": {},
   "outputs": [],
   "source": []
  },
  {
   "cell_type": "markdown",
   "id": "f96517c9",
   "metadata": {},
   "source": [
    "## 1  값에 대해 알아보기"
   ]
  },
  {
   "cell_type": "markdown",
   "id": "2ffd4411",
   "metadata": {},
   "source": [
    "## 1-1  정수에 대한 값을 처리\n",
    "\n",
    "- 숫자를 그대로 작성한다.\n",
    "- 기본 정수에 원시 타입이 결정된다.\n",
    "- 보통 i32 원시타입으로 처리된다"
   ]
  },
  {
   "cell_type": "code",
   "execution_count": 12,
   "id": "7e4ce439",
   "metadata": {},
   "outputs": [
    {
     "data": {
      "text/plain": [
       "300"
      ]
     },
     "execution_count": 12,
     "metadata": {},
     "output_type": "execute_result"
    }
   ],
   "source": [
    "300"
   ]
  },
  {
   "cell_type": "markdown",
   "id": "9ec5d62f",
   "metadata": {},
   "source": [
    "##  1-2 정수도 특정 포인터 즉 참조가 가능하다.\n",
    "- 이때는 정수가 임시적인 공간에 저장되고 그 저장된 곳이 주소를 참조가 가져온다"
   ]
  },
  {
   "cell_type": "code",
   "execution_count": 13,
   "id": "238a1acb",
   "metadata": {},
   "outputs": [
    {
     "name": "stdout",
     "output_type": "stream",
     "text": [
      " 값에 대한 포인터  0x1043ab7c4\n"
     ]
    }
   ],
   "source": [
    "println!(\" 값에 대한 포인터  {:p}\" , &300);"
   ]
  },
  {
   "cell_type": "markdown",
   "id": "5a88fb60",
   "metadata": {},
   "source": [
    "### 정수 값의 주소가 바뀌는 것은 사용할 때마다 새롭게 만들어진다."
   ]
  },
  {
   "cell_type": "code",
   "execution_count": 16,
   "id": "929749bc",
   "metadata": {},
   "outputs": [
    {
     "name": "stdout",
     "output_type": "stream",
     "text": [
      " 값에 대한 포인터  0x1043db7b4\n"
     ]
    }
   ],
   "source": [
    "println!(\" 값에 대한 포인터  {:p}\" , &300);"
   ]
  },
  {
   "cell_type": "code",
   "execution_count": null,
   "id": "98130fa6",
   "metadata": {},
   "outputs": [],
   "source": []
  },
  {
   "cell_type": "markdown",
   "id": "26700f10",
   "metadata": {},
   "source": [
    "## 1-3. 타입 애노테이션 처리하기\n",
    "\n",
    "- 변수에 타입을 명시적으로 지정할 수 있다.\n"
   ]
  },
  {
   "cell_type": "markdown",
   "id": "46c11fdd",
   "metadata": {},
   "source": [
    "### 러스트의 프로그램 실행은 main 함수로 처리\n",
    "\n",
    "- main 함수의 특징은 매개변수가 없고 반환값도 없다."
   ]
  },
  {
   "cell_type": "code",
   "execution_count": 7,
   "id": "757767d4",
   "metadata": {},
   "outputs": [],
   "source": [
    "fn main() {\n",
    "    println!(\"Hello World!\");\n",
    "}"
   ]
  },
  {
   "cell_type": "code",
   "execution_count": 18,
   "id": "3bf7d0d1",
   "metadata": {},
   "outputs": [
    {
     "name": "stdout",
     "output_type": "stream",
     "text": [
      "Hello World!\n"
     ]
    },
    {
     "data": {
      "text/plain": [
       "()"
      ]
     },
     "execution_count": 18,
     "metadata": {},
     "output_type": "execute_result"
    }
   ],
   "source": [
    "main()"
   ]
  },
  {
   "cell_type": "markdown",
   "id": "58a21e0b",
   "metadata": {},
   "source": [
    "### 자료형을 알아보는 함수 정의하기 \n",
    "\n",
    "- 자료형을 알아보기 위해 제너릭 함수를 정의한다.\n",
    "- 제너릭함수는 타입 매개변수를 임의의 문자로 정의한다.\n",
    "- 타입 매개변수를 지정하는 위치는 함수명과 매개변수 정의 사이에 < > 사이에 정의\n",
    "- 제너릭함수의 타입 매개변수는 매개변수의 타입 애노테이션과 반환값의 타입 애노테이션으로 사용한다."
   ]
  },
  {
   "cell_type": "markdown",
   "id": "3a65e368",
   "metadata": {},
   "source": [
    "#### 문자열로 포매팅하는 매크로\n",
    "\n",
    "-  매크로는 함수가 아니라서 호출할 때  이름 다음에 ! 를 붙여서 매크로를 명기한다.\n",
    "-  매크로는 컴파일할 때 적절한 코드로 전환된다. "
   ]
  },
  {
   "cell_type": "code",
   "execution_count": 2,
   "id": "7f82a783",
   "metadata": {},
   "outputs": [
    {
     "data": {
      "text/plain": [
       "\"가을겨울\""
      ]
     },
     "execution_count": 2,
     "metadata": {},
     "output_type": "execute_result"
    }
   ],
   "source": [
    "format!(\"{}{}\", \"가을\", \"겨울\")  "
   ]
  },
  {
   "cell_type": "code",
   "execution_count": 3,
   "id": "b313a18f",
   "metadata": {},
   "outputs": [],
   "source": [
    "// 변수의 타입을 문자열로 확인하기  \n",
    "// , e.g \"i8\", \"u8\", \"i32\", \"u32\"\n",
    "\n",
    "fn type_of<T>(_: &T) -> String {\n",
    "    format!(\"{}\", std::any::type_name::<T>())      // std::any::type_name 이라는 함수를 호출해서 처리한다. \n",
    "}"
   ]
  },
  {
   "cell_type": "code",
   "execution_count": 4,
   "id": "061bf5f7",
   "metadata": {},
   "outputs": [
    {
     "data": {
      "text/plain": [
       "\"alloc::string::String\""
      ]
     },
     "execution_count": 4,
     "metadata": {},
     "output_type": "execute_result"
    }
   ],
   "source": [
    "std::any::type_name::<String>()"
   ]
  },
  {
   "cell_type": "code",
   "execution_count": null,
   "id": "d033c6f4",
   "metadata": {},
   "outputs": [],
   "source": []
  },
  {
   "cell_type": "markdown",
   "id": "3d05e2d4",
   "metadata": {},
   "source": [
    "### 러스트는 타입이 동일한 경우만 연산을 처리할 수 있다.\n",
    "\n",
    "- 연산은 덧셈 또는 할당 등 프로그램 언어에서 제공하는 연산자를 처리\n",
    "- 실제 각 타입별로 이 연산자에 대한 메서드를 처리한다. "
   ]
  },
  {
   "cell_type": "markdown",
   "id": "d5c3e23b",
   "metadata": {},
   "source": [
    "### 위의 문장을 동일한 타입으로 변환해서 처리 \n",
    "\n",
    "- 러스트는 항상 동일한 자료형일때만 계산이 된다. "
   ]
  },
  {
   "cell_type": "code",
   "execution_count": 7,
   "id": "ae08abe1",
   "metadata": {},
   "outputs": [],
   "source": [
    "fn main() {\n",
    "\n",
    "    \n",
    "    \n",
    "    println!(\" z type = {} \", type_of(&100));             // 제너릭함수에 변수를 인자로 전달하면 타입을 추론해서 처리\n",
    "    println!(\" z type = {} \", type_of::<u32>(&200_u32));   // 제너릭 함수에 타입매개변수를 전달해서 처리 \n",
    "    println!(\"Success!\");\n",
    "}\n"
   ]
  },
  {
   "cell_type": "code",
   "execution_count": 8,
   "id": "6ef9b362",
   "metadata": {},
   "outputs": [
    {
     "name": "stdout",
     "output_type": "stream",
     "text": [
      " z type = i32 \n",
      " z type = u32 \n",
      "Success!\n"
     ]
    }
   ],
   "source": [
    "main()                          // 함수를 호출"
   ]
  },
  {
   "cell_type": "markdown",
   "id": "2032d851",
   "metadata": {},
   "source": [
    "### 값에 타입 접미사를 붙이기\n",
    "- 러스트는 값에도 타입 접미사를 붙여서 해당하는 값의 타입을 지정할 수 있다.\n",
    "- 기본 타입을 값의 마지막에 붙이거나 밑줄 다음에 분일 수 있다. "
   ]
  },
  {
   "cell_type": "code",
   "execution_count": 9,
   "id": "67f5e764",
   "metadata": {},
   "outputs": [],
   "source": [
    "fn main() {\n",
    "\n",
    "    println!(\"x + y = {}\", 5i32+5_i32);\n",
    "}"
   ]
  },
  {
   "cell_type": "code",
   "execution_count": 10,
   "id": "793018ce",
   "metadata": {},
   "outputs": [
    {
     "name": "stdout",
     "output_type": "stream",
     "text": [
      "x + y = 10\n"
     ]
    }
   ],
   "source": [
    "main();"
   ]
  },
  {
   "cell_type": "code",
   "execution_count": null,
   "id": "fecfe051",
   "metadata": {},
   "outputs": [],
   "source": []
  },
  {
   "cell_type": "markdown",
   "id": "47c2b0e0",
   "metadata": {},
   "source": [
    "## 1-5. 타입변환하기 \n",
    "\n",
    "- 명시적으로 타입을 변환해서 바뀐다.\n"
   ]
  },
  {
   "cell_type": "markdown",
   "id": "262603c0",
   "metadata": {},
   "source": [
    "### 다른 타입으로 변환할 때는 키워드 as 를 사용한다. \n",
    "\n"
   ]
  },
  {
   "cell_type": "code",
   "execution_count": 6,
   "id": "00f86ad2",
   "metadata": {},
   "outputs": [
    {
     "ename": "Error",
     "evalue": "cannot find type `__` in this scope",
     "output_type": "error",
     "traceback": [
      "\u001b[31m[E0412] Error:\u001b[0m cannot find type `__` in this scope",
      "   \u001b[38;5;246m╭\u001b[0m\u001b[38;5;246m─\u001b[0m\u001b[38;5;246m[\u001b[0mcommand_6:1:1\u001b[38;5;246m]\u001b[0m",
      "   \u001b[38;5;246m│\u001b[0m",
      " \u001b[38;5;246m2 │\u001b[0m \u001b[38;5;249m \u001b[0m\u001b[38;5;249m \u001b[0m\u001b[38;5;249m \u001b[0m\u001b[38;5;249m \u001b[0m\u001b[38;5;249ml\u001b[0m\u001b[38;5;249me\u001b[0m\u001b[38;5;249mt\u001b[0m\u001b[38;5;249m \u001b[0m\u001b[38;5;249mv\u001b[0m\u001b[38;5;249m:\u001b[0m\u001b[38;5;249m \u001b[0m\u001b[38;5;249mu\u001b[0m\u001b[38;5;249m1\u001b[0m\u001b[38;5;249m6\u001b[0m\u001b[38;5;249m \u001b[0m\u001b[38;5;249m=\u001b[0m\u001b[38;5;249m \u001b[0m\u001b[38;5;249m3\u001b[0m\u001b[38;5;249m8\u001b[0m\u001b[38;5;249m_\u001b[0m\u001b[38;5;249mu\u001b[0m\u001b[38;5;249m8\u001b[0m\u001b[38;5;249m \u001b[0m\u001b[38;5;249ma\u001b[0m\u001b[38;5;249ms\u001b[0m\u001b[38;5;249m \u001b[0m\u001b[38;5;54m_\u001b[0m\u001b[38;5;54m_\u001b[0m\u001b[38;5;249m;\u001b[0m",
      " \u001b[38;5;246m  ·\u001b[0m                           \u001b[38;5;54m─\u001b[0m\u001b[38;5;54m┬\u001b[0m  ",
      " \u001b[38;5;246m  ·\u001b[0m                            \u001b[38;5;54m╰\u001b[0m\u001b[38;5;54m─\u001b[0m\u001b[38;5;54m─\u001b[0m not found in this scope",
      "\u001b[38;5;246m───╯\u001b[0m"
     ]
    }
   ],
   "source": [
    "fn main() {\n",
    "    let v: u16 = 38_u8 as __;\n",
    "\n",
    "    println!(\"Success!\");\n",
    "}"
   ]
  },
  {
   "cell_type": "markdown",
   "id": "8d5a2daf",
   "metadata": {},
   "source": [
    "### 타입 접미사가 있는 정수를 타입 변환해서 변수에 할당하기 "
   ]
  },
  {
   "cell_type": "code",
   "execution_count": 39,
   "id": "71e480b4",
   "metadata": {},
   "outputs": [],
   "source": [
    "fn main() {\n",
    "    let v: u16 = 38_u8 as u16;\n",
    "\n",
    "    println!(\" type conversion Success!\");\n",
    "}"
   ]
  },
  {
   "cell_type": "code",
   "execution_count": 40,
   "id": "f544ba79",
   "metadata": {},
   "outputs": [
    {
     "name": "stdout",
     "output_type": "stream",
     "text": [
      " type conversion Success!\n"
     ]
    }
   ],
   "source": [
    "main();"
   ]
  },
  {
   "cell_type": "markdown",
   "id": "32e5b0f2",
   "metadata": {},
   "source": [
    "### 타입확인하기 \n",
    "\n",
    "- type_of 함수를 통해서 자료형을 확인한다. "
   ]
  },
  {
   "cell_type": "code",
   "execution_count": 11,
   "id": "7609d8b7",
   "metadata": {},
   "outputs": [],
   "source": [
    "fn main() {\n",
    "    let x = 5;\n",
    "    println!(\"{} ,{}\",\"u32\".to_string(), type_of(&x));\n",
    "\n",
    "    println!(\"Success!\");\n",
    "}\n"
   ]
  },
  {
   "cell_type": "code",
   "execution_count": 12,
   "id": "b910b770",
   "metadata": {},
   "outputs": [
    {
     "name": "stdout",
     "output_type": "stream",
     "text": [
      "u32 ,i32\n",
      "Success!\n"
     ]
    }
   ],
   "source": [
    "main();"
   ]
  },
  {
   "cell_type": "code",
   "execution_count": null,
   "id": "13c27da8",
   "metadata": {},
   "outputs": [],
   "source": []
  },
  {
   "cell_type": "markdown",
   "id": "611855a4",
   "metadata": {},
   "source": [
    "### 숫자 단위를 표현할 때는 천단위로 밑줄을 표시할 수 있다. "
   ]
  },
  {
   "cell_type": "code",
   "execution_count": 13,
   "id": "ebebb1f6",
   "metadata": {},
   "outputs": [],
   "source": [
    "fn main() {\n",
    "    let x = 1_000.000_1;         // f64\n",
    "    let y: f32 = 0.12;           // f32\n",
    "    let z = 0.01_f64;            // f64\n",
    "\n",
    "    println!(\"{}, {} \", type_of(&x), \"f64\".to_string());\n",
    "    println!(\"Success!\");\n",
    "}"
   ]
  },
  {
   "cell_type": "code",
   "execution_count": 14,
   "id": "e0c6f130",
   "metadata": {},
   "outputs": [
    {
     "name": "stdout",
     "output_type": "stream",
     "text": [
      "f64, f64 \n",
      "Success!\n"
     ]
    }
   ],
   "source": [
    "main();"
   ]
  },
  {
   "cell_type": "code",
   "execution_count": null,
   "id": "08b6dd3e",
   "metadata": {},
   "outputs": [],
   "source": []
  },
  {
   "cell_type": "code",
   "execution_count": null,
   "id": "bd2c8f54",
   "metadata": {},
   "outputs": [],
   "source": []
  }
 ],
 "metadata": {
  "kernelspec": {
   "display_name": "Rust",
   "language": "rust",
   "name": "rust"
  },
  "language_info": {
   "codemirror_mode": "rust",
   "file_extension": ".rs",
   "mimetype": "text/rust",
   "name": "Rust",
   "pygment_lexer": "rust",
   "version": ""
  }
 },
 "nbformat": 4,
 "nbformat_minor": 5
}
