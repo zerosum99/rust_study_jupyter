{
 "cells": [
  {
   "cell_type": "code",
   "execution_count": null,
   "id": "89a9205a",
   "metadata": {},
   "outputs": [],
   "source": []
  },
  {
   "cell_type": "markdown",
   "id": "647351be",
   "metadata": {},
   "source": [
    "# 1. 매크로와 포매팅 처리 "
   ]
  },
  {
   "cell_type": "markdown",
   "id": "6dd33525",
   "metadata": {},
   "source": [
    "## 1-1 매크로\n",
    "\n",
    "- 특정 기능을 함수 등으로 정의하지 않고 전처리하는 매크로로 지정할 수 있다.\n"
   ]
  },
  {
   "cell_type": "code",
   "execution_count": null,
   "id": "6b8baa4d",
   "metadata": {},
   "outputs": [],
   "source": []
  },
  {
   "cell_type": "markdown",
   "id": "14ea9a22",
   "metadata": {},
   "source": [
    "## 프린터 매크로 \n",
    "\n",
    "- print!는 개행문자가 없이 출력\n",
    "- println!는 개행문자가 있이 출력"
   ]
  },
  {
   "cell_type": "code",
   "execution_count": null,
   "id": "78cf1ada",
   "metadata": {},
   "outputs": [],
   "source": []
  },
  {
   "cell_type": "code",
   "execution_count": 12,
   "id": "5c29759e",
   "metadata": {},
   "outputs": [],
   "source": [
    "fn main() {\n",
    "    \n",
    "    let s = 100; \n",
    "    let t = 200;\n",
    "    print!(\"지역변수 s={}\", s);\n",
    "    print!(\"지역변수 t={}\", t);\n",
    "    println!();\n",
    "}"
   ]
  },
  {
   "cell_type": "code",
   "execution_count": 13,
   "id": "c42e2268",
   "metadata": {},
   "outputs": [
    {
     "name": "stdout",
     "output_type": "stream",
     "text": [
      "지역변수 s=100지역변수 t=200\n"
     ]
    }
   ],
   "source": [
    "main();"
   ]
  },
  {
   "cell_type": "code",
   "execution_count": 14,
   "id": "f5b68636",
   "metadata": {},
   "outputs": [],
   "source": [
    "fn main() {\n",
    "    println!(\"프린트\");\n",
    "    println!(\"할게요\");\n",
    "}\n"
   ]
  },
  {
   "cell_type": "code",
   "execution_count": 15,
   "id": "a057fb82",
   "metadata": {},
   "outputs": [
    {
     "name": "stdout",
     "output_type": "stream",
     "text": [
      "프린트\n",
      "할게요\n"
     ]
    },
    {
     "data": {
      "text/plain": [
       "()"
      ]
     },
     "execution_count": 15,
     "metadata": {},
     "output_type": "execute_result"
    }
   ],
   "source": [
    "main()"
   ]
  },
  {
   "cell_type": "code",
   "execution_count": null,
   "id": "748602eb",
   "metadata": {},
   "outputs": [],
   "source": []
  },
  {
   "cell_type": "markdown",
   "id": "daf18220",
   "metadata": {},
   "source": [
    "### 포맷매크로"
   ]
  },
  {
   "cell_type": "code",
   "execution_count": null,
   "id": "81bed357",
   "metadata": {},
   "outputs": [],
   "source": []
  },
  {
   "cell_type": "code",
   "execution_count": 43,
   "id": "e8b8d2f5",
   "metadata": {},
   "outputs": [],
   "source": [
    "fn main() {\n",
    "    let s1 = format!(\"정수값 = {:10}\", 100);\n",
    "    let s2 = format!(\"실수값 = {:10.2}\", 1000.233);\n",
    "    println!(\"{} {}\", s1,s2);\n",
    "}"
   ]
  },
  {
   "cell_type": "code",
   "execution_count": 44,
   "id": "6e042173",
   "metadata": {},
   "outputs": [
    {
     "name": "stdout",
     "output_type": "stream",
     "text": [
      "정수값 =        100 실수값 =    1000.23\n"
     ]
    },
    {
     "data": {
      "text/plain": [
       "()"
      ]
     },
     "execution_count": 44,
     "metadata": {},
     "output_type": "execute_result"
    }
   ],
   "source": [
    "main()"
   ]
  },
  {
   "cell_type": "code",
   "execution_count": null,
   "id": "308fbf2c",
   "metadata": {},
   "outputs": [],
   "source": []
  },
  {
   "cell_type": "markdown",
   "id": "024cc778",
   "metadata": {},
   "source": [
    "## 1-2 숫자 포매팅"
   ]
  },
  {
   "cell_type": "markdown",
   "id": "89d05599",
   "metadata": {},
   "source": [
    "## 숫자 포매팅 출력 "
   ]
  },
  {
   "cell_type": "markdown",
   "id": "11639a65",
   "metadata": {},
   "source": [
    "### 이진수 처리 \n",
    "\n",
    "-  :b 를 지정해서 이진수 값을 처리"
   ]
  },
  {
   "cell_type": "code",
   "execution_count": 25,
   "id": "6a190cc5",
   "metadata": {},
   "outputs": [],
   "source": [
    "fn main() {\n",
    "    let b1 = 0b1001;\n",
    "    \n",
    "    println!(\"십진수 {}\", b1);\n",
    "    println!(\"이진수 {:b}\", b1);\n",
    "}"
   ]
  },
  {
   "cell_type": "code",
   "execution_count": 26,
   "id": "99f0cc2f",
   "metadata": {},
   "outputs": [
    {
     "name": "stdout",
     "output_type": "stream",
     "text": [
      "십진수 9\n",
      "이진수 1001\n"
     ]
    },
    {
     "data": {
      "text/plain": [
       "()"
      ]
     },
     "execution_count": 26,
     "metadata": {},
     "output_type": "execute_result"
    }
   ],
   "source": [
    "main()"
   ]
  },
  {
   "cell_type": "markdown",
   "id": "57a0f19d",
   "metadata": {},
   "source": [
    "### 팔진수 처리 \n",
    "\n",
    "-  :O 를 지정해서 팔진수 값을 처리"
   ]
  },
  {
   "cell_type": "code",
   "execution_count": 27,
   "id": "03dcda54",
   "metadata": {},
   "outputs": [],
   "source": [
    "fn main() {\n",
    "    let b1 = 0o1001;\n",
    "    \n",
    "    println!(\"십진수 {}\", b1);\n",
    "    println!(\"팔진수 {:o}\", b1);\n",
    "}"
   ]
  },
  {
   "cell_type": "code",
   "execution_count": 28,
   "id": "e2e1e507",
   "metadata": {},
   "outputs": [
    {
     "name": "stdout",
     "output_type": "stream",
     "text": [
      "십진수 513\n",
      "팔진수 1001\n"
     ]
    }
   ],
   "source": [
    "main();"
   ]
  },
  {
   "cell_type": "code",
   "execution_count": null,
   "id": "dfd3a991",
   "metadata": {},
   "outputs": [],
   "source": []
  },
  {
   "cell_type": "markdown",
   "id": "f6cc0b63",
   "metadata": {},
   "source": [
    "### 십육진수 처리 \n",
    "\n",
    "-  :x 를 지정해서 십육진수 값을 처리"
   ]
  },
  {
   "cell_type": "code",
   "execution_count": 29,
   "id": "dda90cc3",
   "metadata": {},
   "outputs": [],
   "source": [
    "fn main() {\n",
    "    let b1 = 0x1001;\n",
    "    \n",
    "    println!(\"십진수 {}\", b1);\n",
    "    println!(\"십육진수 {:x}\", b1);\n",
    "}"
   ]
  },
  {
   "cell_type": "code",
   "execution_count": 30,
   "id": "f6cac407",
   "metadata": {},
   "outputs": [
    {
     "name": "stdout",
     "output_type": "stream",
     "text": [
      "십진수 4097\n",
      "십육진수 1001\n"
     ]
    }
   ],
   "source": [
    "main();"
   ]
  },
  {
   "cell_type": "code",
   "execution_count": null,
   "id": "eac40273",
   "metadata": {},
   "outputs": [],
   "source": []
  },
  {
   "cell_type": "markdown",
   "id": "e002299b",
   "metadata": {},
   "source": [
    "### 통합해서 표현하기"
   ]
  },
  {
   "cell_type": "code",
   "execution_count": 15,
   "id": "08f613f6",
   "metadata": {},
   "outputs": [],
   "source": [
    "fn main() {\n",
    "    let number = 9000;\n",
    "    println!(\" 2 진수 = {number:b}\");\n",
    "    println!(\" 8 진수 = {number:o}\");\n",
    "    println!(\" 10진수 = {number}\");\n",
    "    println!(\" 10진수 = {number:e}\");\n",
    "    println!(\" 16진수 = {number:x}\");\n",
    "}\n"
   ]
  },
  {
   "cell_type": "code",
   "execution_count": 16,
   "id": "8e3496e9",
   "metadata": {},
   "outputs": [
    {
     "name": "stdout",
     "output_type": "stream",
     "text": [
      " 2 진수 = 10001100101000\n",
      " 8 진수 = 21450\n",
      " 10진수 = 9000\n",
      " 10진수 = 9e3\n",
      " 16진수 = 2328\n"
     ]
    },
    {
     "data": {
      "text/plain": [
       "()"
      ]
     },
     "execution_count": 16,
     "metadata": {},
     "output_type": "execute_result"
    }
   ],
   "source": [
    "main()"
   ]
  },
  {
   "cell_type": "code",
   "execution_count": null,
   "id": "e8713a50",
   "metadata": {},
   "outputs": [],
   "source": []
  },
  {
   "cell_type": "markdown",
   "id": "c104e1a7",
   "metadata": {},
   "source": [
    "## 1-3 문자 포매팅"
   ]
  },
  {
   "cell_type": "markdown",
   "id": "bd511e53",
   "metadata": {},
   "source": [
    "### 프린트 매크로로 포매팅하기"
   ]
  },
  {
   "cell_type": "code",
   "execution_count": 31,
   "id": "47fadd26",
   "metadata": {},
   "outputs": [],
   "source": [
    "fn main() {\n",
    "    let s1 = \"Hello\";\n",
    "    let s2 = \" World\";\n",
    "    println!(\"{}{}\",s1,s2);\n",
    "}"
   ]
  },
  {
   "cell_type": "code",
   "execution_count": 32,
   "id": "c6c06b5d",
   "metadata": {},
   "outputs": [
    {
     "name": "stdout",
     "output_type": "stream",
     "text": [
      "Hello World\n"
     ]
    }
   ],
   "source": [
    "main();"
   ]
  },
  {
   "cell_type": "markdown",
   "id": "b44cd838",
   "metadata": {},
   "source": [
    "### 포매팅 매크로로 포매팅하기"
   ]
  },
  {
   "cell_type": "code",
   "execution_count": 33,
   "id": "13f8e90d",
   "metadata": {},
   "outputs": [],
   "source": [
    "fn main() {\n",
    "    let s1 = \"Hello\";\n",
    "    let s2 = \" World\";\n",
    "    let f1 = format!(\"{}{}\",s1,s2);\n",
    "    println!(\"{}\",f1);\n",
    "}"
   ]
  },
  {
   "cell_type": "code",
   "execution_count": 34,
   "id": "772916b9",
   "metadata": {},
   "outputs": [
    {
     "name": "stdout",
     "output_type": "stream",
     "text": [
      "Hello World\n"
     ]
    }
   ],
   "source": [
    "main();"
   ]
  },
  {
   "cell_type": "markdown",
   "id": "ddd7deb4",
   "metadata": {},
   "source": [
    "### 자리수 배정 "
   ]
  },
  {
   "cell_type": "code",
   "execution_count": 35,
   "id": "639c1c80",
   "metadata": {},
   "outputs": [],
   "source": [
    "fn main() {\n",
    "    let s1 = \"Hello\";\n",
    "    let s2 = \" World\";\n",
    "    let f1 = format!(\"{:10}{:20}\",s1,s2);\n",
    "    println!(\"{}\",f1);\n",
    "}"
   ]
  },
  {
   "cell_type": "code",
   "execution_count": 36,
   "id": "889a5b85",
   "metadata": {},
   "outputs": [
    {
     "name": "stdout",
     "output_type": "stream",
     "text": [
      "Hello      World              \n"
     ]
    }
   ],
   "source": [
    "main();"
   ]
  },
  {
   "cell_type": "markdown",
   "id": "f87f72fc",
   "metadata": {},
   "source": [
    "### 특정 지점부터 처리"
   ]
  },
  {
   "cell_type": "code",
   "execution_count": 37,
   "id": "ebd3099f",
   "metadata": {},
   "outputs": [],
   "source": [
    "fn main() {\n",
    "    let s1 = \"Hello\";\n",
    "    let s2 = \" World\";\n",
    "    let f1 = format!(\"{:<10}{:>20}\",s1,s2);\n",
    "    println!(\"{}\",f1);\n",
    "}"
   ]
  },
  {
   "cell_type": "code",
   "execution_count": 38,
   "id": "3ca9a691",
   "metadata": {},
   "outputs": [
    {
     "name": "stdout",
     "output_type": "stream",
     "text": [
      "Hello                    World\n"
     ]
    },
    {
     "data": {
      "text/plain": [
       "()"
      ]
     },
     "execution_count": 38,
     "metadata": {},
     "output_type": "execute_result"
    }
   ],
   "source": [
    "main()"
   ]
  },
  {
   "cell_type": "markdown",
   "id": "1a582e2b",
   "metadata": {},
   "source": [
    "### 중앙에 정렬해서 처리"
   ]
  },
  {
   "cell_type": "code",
   "execution_count": 39,
   "id": "9e8c19e5",
   "metadata": {},
   "outputs": [],
   "source": [
    "fn main() {\n",
    "    let s1 = \"Hello\";\n",
    "    let s2 = \" World\";\n",
    "    let f1 = format!(\"{:^10}{:^20}\",s1,s2);\n",
    "    println!(\"{}\",f1);\n",
    "}"
   ]
  },
  {
   "cell_type": "code",
   "execution_count": 40,
   "id": "830304da",
   "metadata": {},
   "outputs": [
    {
     "name": "stdout",
     "output_type": "stream",
     "text": [
      "  Hello           World       \n"
     ]
    },
    {
     "data": {
      "text/plain": [
       "()"
      ]
     },
     "execution_count": 40,
     "metadata": {},
     "output_type": "execute_result"
    }
   ],
   "source": [
    "main()"
   ]
  },
  {
   "cell_type": "code",
   "execution_count": null,
   "id": "7b763161",
   "metadata": {},
   "outputs": [],
   "source": []
  }
 ],
 "metadata": {
  "kernelspec": {
   "display_name": "Rust",
   "language": "rust",
   "name": "rust"
  },
  "language_info": {
   "codemirror_mode": "rust",
   "file_extension": ".rs",
   "mimetype": "text/rust",
   "name": "Rust",
   "pygment_lexer": "rust",
   "version": ""
  }
 },
 "nbformat": 4,
 "nbformat_minor": 5
}
