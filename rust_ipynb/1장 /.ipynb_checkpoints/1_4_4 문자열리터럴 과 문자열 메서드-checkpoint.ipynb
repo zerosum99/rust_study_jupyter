{
 "cells": [
  {
   "cell_type": "markdown",
   "id": "1840447d",
   "metadata": {},
   "source": [
    "## 1. 문자열 리터럴 "
   ]
  },
  {
   "cell_type": "markdown",
   "id": "7e5ff13f",
   "metadata": {},
   "source": [
    "## 불변 메서드\n",
    "\n",
    "- contains(): 지정한 문자열이 포함되어 있는지 확인합니다.\n",
    "- len(): 문자열의 길이를 반환합니다.\n",
    "- starts_with(): 지정한 문자열로 시작하는지 확인합니다.\n",
    "- ends_with(): 지정한 문자열로 끝나는지 확인합니다.\n",
    "- split(): 지정한 구분자로 문자열을 분할하고, Iterator 타입의 구분자로 구분된 부분 문자열을 반환합니다.\n",
    "- trim(): 문자열 양쪽 끝에 있는 공백 문자를 제거합니다.\n",
    "- to_lowercase(): 모든 문자를 소문자로 변환합니다.\n",
    "- to_uppercase(): 모든 문자를 대문자로 변환합니다."
   ]
  },
  {
   "cell_type": "code",
   "execution_count": 2,
   "id": "d8adb809",
   "metadata": {},
   "outputs": [],
   "source": [
    "fn main() {\n",
    "    let s = \"Hello, Rust!\";\n",
    "\n",
    "    // 불변 메서드 사용\n",
    "    println!(\"s.contains(\\\"Rust\\\") = {}\", s.contains(\"Rust\"));\n",
    "    println!(\"s.len() = {}\", s.len());\n",
    "    println!(\"s.starts_with(\\\"Hello\\\") = {}\", s.starts_with(\"Hello\"));\n",
    "    println!(\"s.ends_with(\\\"!\\\") = {}\", s.ends_with(\"!\"));\n",
    "\n",
    "    let mut iter = s.split(\",\");\n",
    "    println!(\"iter.next() = {:?}\", iter.next());\n",
    "    println!(\"iter.next() = {:?}\", iter.next());\n",
    "\n",
    "    let s_trimmed = s.trim();\n",
    "    println!(\"s_trimmed = {}\", s_trimmed);\n",
    "\n",
    "    let s_lower = s.to_lowercase();\n",
    "    println!(\"s_lower = {}\", s_lower);\n",
    "\n",
    "    let s_upper = s.to_uppercase();\n",
    "    println!(\"s_upper = {}\", s_upper);\n",
    "}"
   ]
  },
  {
   "cell_type": "code",
   "execution_count": 3,
   "id": "ac58b4e3",
   "metadata": {},
   "outputs": [
    {
     "name": "stdout",
     "output_type": "stream",
     "text": [
      "s.contains(\"Rust\") = true\n",
      "s.len() = 12\n",
      "s.starts_with(\"Hello\") = true\n",
      "s.ends_with(\"!\") = true\n",
      "iter.next() = Some(\"Hello\")\n",
      "iter.next() = Some(\" Rust!\")\n",
      "s_trimmed = Hello, Rust!\n",
      "s_lower = hello, rust!\n",
      "s_upper = HELLO, RUST!\n"
     ]
    }
   ],
   "source": [
    "main();"
   ]
  },
  {
   "cell_type": "code",
   "execution_count": null,
   "id": "ea5464b5",
   "metadata": {},
   "outputs": [],
   "source": []
  },
  {
   "cell_type": "markdown",
   "id": "fccc7232",
   "metadata": {},
   "source": [
    "## 2. 문자열 "
   ]
  },
  {
   "cell_type": "markdown",
   "id": "e5c2d3b9",
   "metadata": {},
   "source": [
    "## 불변 메서드\n",
    "\n",
    "- as_str(): &str 타입으로 변환합니다.\n",
    "- capacity(): 내부 버퍼의 용량을 반환합니다.\n",
    "- chars(): Iterator 타입의 char 값으로 구성된 문자열의 각 문자를 반복합니다.\n",
    "- contains(): 지정한 문자열이 포함되어 있는지 확인합니다.\n",
    "- ends_with(): 지정한 문자열로 끝나는지 확인합니다.\n",
    "- eq(): 두 문자열이 같은지 확인합니다.\n",
    "- is_empty(): 문자열이 비어 있는지 확인합니다.\n",
    "- len(): 문자열의 길이를 반환합니다.\n",
    "- lines(): Iterator 타입의 각 라인을 반환합니다.\n",
    "- replace(): 지정한 문자열을 다른 문자열로 바꿉니다.\n",
    "- split(): 지정한 구분자로 문자열을 분할하고, Iterator 타입의 구분자로 구분된 부분 문자열을 반환합니다.\n",
    "- starts_with(): 지정한 문자열로 시작하는지 확인합니다.\n",
    "- trim(): 문자열 양쪽 끝에 있는 공백 문자를 제거합니다.\n",
    "- to_lowercase(): 모든 문자를 소문자로 변환합니다.\n",
    "- to_uppercase(): 모든 문자를 대문자로 변환합니다."
   ]
  },
  {
   "cell_type": "code",
   "execution_count": 4,
   "id": "2bf8d98c",
   "metadata": {},
   "outputs": [],
   "source": [
    "fn main() {\n",
    "    let mut s = String::from(\"Hello, Rust!\");\n",
    "\n",
    "    // 불변 메서드 사용\n",
    "    println!(\"s.as_str() = {}\", s.as_str());\n",
    "    println!(\"s.capacity() = {}\", s.capacity());\n",
    "\n",
    "    for c in s.chars() {\n",
    "        println!(\"c = {}\", c);\n",
    "    }\n",
    "\n",
    "    println!(\"s.contains(\\\"Rust\\\") = {}\", s.contains(\"Rust\"));\n",
    "    println!(\"s.ends_with(\\\"!\\\") = {}\", s.ends_with(\"!\"));\n",
    "    println!(\"s.eq(\\\"Hello, Rust!\\\") = {}\", s.eq(\"Hello, Rust!\"));\n",
    "    println!(\"s.is_empty() = {}\", s.is_empty());\n",
    "    println!(\"s.len() = {}\", s.len());\n",
    "\n",
    "    for line in s.lines() {\n",
    "        println!(\"line = {}\", line);\n",
    "    }\n",
    "\n",
    "    let s_replaced = s.replace(\"Rust\", \"World\");\n",
    "    println!(\"s_replaced = {}\", s_replaced);\n",
    "\n",
    "    let mut iter = s.split(\",\");\n",
    "    println!(\"iter.next() = {:?}\", iter.next());\n",
    "    println!(\"iter.next() = {:?}\", iter.next());\n",
    "\n",
    "    let s_trimmed = s.trim();\n",
    "    println!(\"s_trimmed = {}\", s_trimmed);\n",
    "\n",
    "    let s_lower = s.to_lowercase();\n",
    "    println!(\"s_lower = {}\", s_lower);\n",
    "\n",
    "    let s_upper = s.to_uppercase();\n",
    "    println!(\"s_upper = {}\", s_upper);\n",
    "}"
   ]
  },
  {
   "cell_type": "code",
   "execution_count": 5,
   "id": "56c72f27",
   "metadata": {},
   "outputs": [
    {
     "name": "stdout",
     "output_type": "stream",
     "text": [
      "s.as_str() = Hello, Rust!\n",
      "s.capacity() = 12\n",
      "c = H\n",
      "c = e\n",
      "c = l\n",
      "c = l\n",
      "c = o\n",
      "c = ,\n",
      "c =  \n",
      "c = R\n",
      "c = u\n",
      "c = s\n",
      "c = t\n",
      "c = !\n",
      "s.contains(\"Rust\") = true\n",
      "s.ends_with(\"!\") = true\n",
      "s.eq(\"Hello, Rust!\") = true\n",
      "s.is_empty() = false\n",
      "s.len() = 12\n",
      "line = Hello, Rust!\n",
      "s_replaced = Hello, World!\n",
      "iter.next() = Some(\"Hello\")\n",
      "iter.next() = Some(\" Rust!\")\n",
      "s_trimmed = Hello, Rust!\n",
      "s_lower = hello, rust!\n",
      "s_upper = HELLO, RUST!\n"
     ]
    }
   ],
   "source": [
    "main();"
   ]
  },
  {
   "cell_type": "markdown",
   "id": "58746829",
   "metadata": {},
   "source": [
    "## 가변 메서드\n",
    "\n",
    "- push(): 문자를 추가합니다.\n",
    "- push_str(): 문자열을 추가합니다.\n",
    "- insert(): 문자를 삽입합니다.\n",
    "- remove(): 지정한 위치의 문자를 제거합니다.\n",
    "- truncate(): 문자열의 길이를 지정한 위치까지 줄입니다.\n",
    "- clear(): 문자열을 비웁니다.\n",
    "`"
   ]
  },
  {
   "cell_type": "code",
   "execution_count": 8,
   "id": "f40e4cd5",
   "metadata": {},
   "outputs": [],
   "source": [
    "fn main() {\n",
    "    let mut s = String::from(\"Hello\");\n",
    "\n",
    "    // 가변 메서드 사용\n",
    "    s.push(',');\n",
    "    println!(\"s = {}\", s);\n",
    "\n",
    "    s.push_str(\" world!\");\n",
    "    println!(\"s = {}\", s);\n",
    "\n",
    "    s.insert(5, 'R');\n",
    "    println!(\"s = {}\", s);\n",
    "\n",
    "    s.remove(11);\n",
    "    println!(\"s = {}\", s);\n",
    "\n",
    "    s.truncate(11);\n",
    "    println!(\"s = {}\", s);\n",
    "\n",
    "    s.clear();\n",
    "    println!(\"s = {}\", s);\n",
    "}"
   ]
  },
  {
   "cell_type": "code",
   "execution_count": 9,
   "id": "0ba42ab2",
   "metadata": {},
   "outputs": [
    {
     "name": "stdout",
     "output_type": "stream",
     "text": [
      "s = Hello,\n",
      "s = Hello, world!\n",
      "s = HelloR, world!\n",
      "s = HelloR, word!\n",
      "s = HelloR, wor\n",
      "s = \n"
     ]
    }
   ],
   "source": [
    "main();"
   ]
  },
  {
   "cell_type": "code",
   "execution_count": null,
   "id": "88ffee88",
   "metadata": {},
   "outputs": [],
   "source": []
  }
 ],
 "metadata": {
  "kernelspec": {
   "display_name": "Rust",
   "language": "rust",
   "name": "rust"
  },
  "language_info": {
   "codemirror_mode": "rust",
   "file_extension": ".rs",
   "mimetype": "text/rust",
   "name": "Rust",
   "pygment_lexer": "rust",
   "version": ""
  }
 },
 "nbformat": 4,
 "nbformat_minor": 5
}
