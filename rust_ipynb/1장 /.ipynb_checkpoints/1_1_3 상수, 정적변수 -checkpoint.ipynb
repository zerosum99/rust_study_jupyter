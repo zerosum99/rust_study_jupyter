{
 "cells": [
  {
   "cell_type": "code",
   "execution_count": null,
   "id": "b35f48da",
   "metadata": {},
   "outputs": [],
   "source": []
  },
  {
   "cell_type": "markdown",
   "id": "d544b522",
   "metadata": {},
   "source": [
    "# 1. 상수와 정적 변수 \n",
    "\n"
   ]
  },
  {
   "cell_type": "markdown",
   "id": "306c28dc",
   "metadata": {},
   "source": [
    "## 1-1. 상수(constant) \n",
    "\n",
    "\n",
    "- 상수는 예약어 const로 지정하고 상수명을 대문자로 지정해  정의\n",
    "- 상수는 값의 자료형을 추론하지 않으므로 항상 자료형을 지정해야 한다. \n",
    "- 상수의 값은 상수표현식이 가능한 경우만 할당 가능 "
   ]
  },
  {
   "cell_type": "code",
   "execution_count": null,
   "id": "993e3e77",
   "metadata": {},
   "outputs": [],
   "source": []
  },
  {
   "cell_type": "markdown",
   "id": "5a9c4fe1",
   "metadata": {},
   "source": [
    "## 상수 명명규칙 \n",
    "\n",
    "- 대문자로 표시\n",
    "- 여러 단어를 사용할 때는 스네이크 표기법을 사용해서 단어별로 밑줄을 표시\n",
    "- 스네이크 표기법 사용 : 예 ABC_DEF "
   ]
  },
  {
   "cell_type": "code",
   "execution_count": null,
   "id": "77227e3e",
   "metadata": {},
   "outputs": [],
   "source": []
  },
  {
   "cell_type": "markdown",
   "id": "8fcecc6f",
   "metadata": {},
   "source": [
    "## 전역 상수 정의 \n",
    "\n",
    "- 모듈에 정의하면 프로그램이 종료할 때까지 사용이 가능한 상수로 사용이 가능하다. \n",
    "- 상수를 정의할 때는 항상 자료형을 명확히 지정해야 한다. \n"
   ]
  },
  {
   "cell_type": "markdown",
   "id": "53734f61",
   "metadata": {},
   "source": [
    "### 자료형 없이 상수 정의 "
   ]
  },
  {
   "cell_type": "code",
   "execution_count": 4,
   "id": "62d18119",
   "metadata": {},
   "outputs": [
    {
     "ename": "Error",
     "evalue": "missing type for `const` item",
     "output_type": "error",
     "traceback": [
      "\u001b[31mError:\u001b[0m missing type for `const` item",
      "   \u001b[38;5;246m╭\u001b[0m\u001b[38;5;246m─\u001b[0m\u001b[38;5;246m[\u001b[0mcommand_4:1:1\u001b[38;5;246m]\u001b[0m",
      "   \u001b[38;5;246m│\u001b[0m",
      " \u001b[38;5;246m1 │\u001b[0m \u001b[38;5;249mc\u001b[0m\u001b[38;5;249mo\u001b[0m\u001b[38;5;249mn\u001b[0m\u001b[38;5;249ms\u001b[0m\u001b[38;5;249mt\u001b[0m\u001b[38;5;249m \u001b[0m\u001b[38;5;249mC\u001b[0m\u001b[38;5;249mO\u001b[0m\u001b[38;5;249mN\u001b[0m\u001b[38;5;249m_\u001b[0m\u001b[38;5;249mV\u001b[0m\u001b[38;5;249mA\u001b[0m\u001b[38;5;249mR\u001b[0m\u001b[38;5;249m \u001b[0m\u001b[38;5;249m \u001b[0m\u001b[38;5;249m \u001b[0m\u001b[38;5;249m=\u001b[0m\u001b[38;5;249m \u001b[0m\u001b[38;5;249m1\u001b[0m\u001b[38;5;249m0\u001b[0m\u001b[38;5;249m0\u001b[0m\u001b[38;5;249m;\u001b[0m",
      " \u001b[38;5;246m  ·\u001b[0m              \u001b[38;5;54m│\u001b[0m ",
      " \u001b[38;5;246m  ·\u001b[0m              \u001b[38;5;54m╰\u001b[0m\u001b[38;5;54m─\u001b[0m error: missing type for `const` item",
      " \u001b[38;5;246m  ·\u001b[0m              \u001b[38;5;100m│\u001b[0m ",
      " \u001b[38;5;246m  ·\u001b[0m              \u001b[38;5;100m╰\u001b[0m\u001b[38;5;100m─\u001b[0m help: provide a type for the constant: `: i32`",
      "\u001b[38;5;246m───╯\u001b[0m"
     ]
    }
   ],
   "source": [
    "const CON_VAR   = 100; "
   ]
  },
  {
   "cell_type": "markdown",
   "id": "207bf56a",
   "metadata": {},
   "source": [
    "### 상수를 정의할 때는 상수의 이름에 정의된 값에 대한 타입 애노테이션을 지정\n",
    "\n",
    "- 상수의 특징은 실제 상수 이름을 사용하는 곳에 상수이름을 대체하는 역할\n"
   ]
  },
  {
   "cell_type": "code",
   "execution_count": 5,
   "id": "52d983d7",
   "metadata": {},
   "outputs": [],
   "source": [
    "const CON_VAR : i32  = 100; "
   ]
  },
  {
   "cell_type": "code",
   "execution_count": 6,
   "id": "1522a0ea",
   "metadata": {},
   "outputs": [
    {
     "data": {
      "text/plain": [
       "100"
      ]
     },
     "execution_count": 6,
     "metadata": {},
     "output_type": "execute_result"
    }
   ],
   "source": [
    "CON_VAR"
   ]
  },
  {
   "cell_type": "code",
   "execution_count": null,
   "id": "79f42223",
   "metadata": {},
   "outputs": [],
   "source": []
  },
  {
   "cell_type": "markdown",
   "id": "469dfdd2",
   "metadata": {},
   "source": [
    "## 함수 내부에 지역 상수 정의 \n",
    "\n",
    "- 상수는 모듈, 함수 등에 정의해서 사용이 가능하다. "
   ]
  },
  {
   "cell_type": "code",
   "execution_count": 9,
   "id": "7b62ebc9",
   "metadata": {},
   "outputs": [],
   "source": [
    "fn main() {\n",
    "    const CON_VAR1 : i32  = 100; \n",
    "    \n",
    "    println!(\"consts1 {}\", CON_VAR1);\n",
    "\n",
    "    let a = CON_VAR1;                      // 상수는 이동이 되지 않음 \n",
    "\n",
    "    println!(\"consts2 {}\", CON_VAR1);    \n",
    "\n",
    "    println!(\"a {} \", a);\n",
    "    \n",
    "}"
   ]
  },
  {
   "cell_type": "code",
   "execution_count": 10,
   "id": "509ea4bb",
   "metadata": {},
   "outputs": [
    {
     "name": "stdout",
     "output_type": "stream",
     "text": [
      "consts1 100\n",
      "consts2 100\n",
      "a 100 \n"
     ]
    }
   ],
   "source": [
    "main();"
   ]
  },
  {
   "cell_type": "markdown",
   "id": "ce8c705f",
   "metadata": {},
   "source": [
    "### 전역과 지역 상수 정의  \n",
    "\n",
    "- 지역 상수는 함수와 블럭 구문에 정의가 가능  \n",
    "\n",
    "- 상수를 모듈, 함수, 그리고 함수 내의 블럭에 정의해서 사용한다. "
   ]
  },
  {
   "cell_type": "code",
   "execution_count": 5,
   "id": "d727f492",
   "metadata": {},
   "outputs": [],
   "source": [
    "const CON_VAR3 : i32  = 100;                  // 전역 상수 \n",
    "\n",
    "fn main() {\n",
    "    const CON_VAR1 : i32  = 100;              // 지역 상수 \n",
    "    {\n",
    "        const CON_VAR2 : i32 = 200;           // 지역내의 지역 상수 \n",
    "         println!(\"consts 2 {}\", CON_VAR2);\n",
    "    }\n",
    "    \n",
    "    println!(\"consts 1 {}\", CON_VAR1);\n",
    "    println!(\"consts  {}\", CON_VAR3);         // 전역에 정의된 상수를 출력 \n",
    "}"
   ]
  },
  {
   "cell_type": "code",
   "execution_count": 6,
   "id": "1adb6c2d",
   "metadata": {},
   "outputs": [
    {
     "name": "stdout",
     "output_type": "stream",
     "text": [
      "consts 2 200\n",
      "consts 1 100\n",
      "consts  100\n"
     ]
    }
   ],
   "source": [
    "main();"
   ]
  },
  {
   "cell_type": "markdown",
   "id": "b61a9b22",
   "metadata": {},
   "source": [
    "##  상수의 초기값은 항상 상수 표현식의 결과 \n",
    "\n",
    "- 함수를 상수의 초기값으로 사용하면 에러가 발생한다. 왜냐하면 상수를 정의할 때는 항상 상수표현식의 값으로 처리해야 한다. \n",
    "\n",
    "- 이는 함수는 컴파일이 아닌 런타임에 함수가 처리된 결과인 반환값은 상수에 할당해서 에러가 발생한다. \n",
    "- 그래서  상수는 함수의 실행결과를 초기값으로 사용할 수 없다. "
   ]
  },
  {
   "cell_type": "code",
   "execution_count": 11,
   "id": "88dae38d",
   "metadata": {},
   "outputs": [],
   "source": [
    "fn func() -> i32 {\n",
    "    32\n",
    "}"
   ]
  },
  {
   "cell_type": "code",
   "execution_count": 12,
   "id": "d835ceb9",
   "metadata": {},
   "outputs": [
    {
     "ename": "Error",
     "evalue": "cannot call non-const fn `func` in constants",
     "output_type": "error",
     "traceback": [
      "\u001b[31m[E0015] Error:\u001b[0m cannot call non-const fn `func` in constants",
      "   \u001b[38;5;246m╭\u001b[0m\u001b[38;5;246m─\u001b[0m\u001b[38;5;246m[\u001b[0mcommand_12:1:1\u001b[38;5;246m]\u001b[0m",
      "   \u001b[38;5;246m│\u001b[0m",
      " \u001b[38;5;246m1 │\u001b[0m \u001b[38;5;249mc\u001b[0m\u001b[38;5;249mo\u001b[0m\u001b[38;5;249mn\u001b[0m\u001b[38;5;249ms\u001b[0m\u001b[38;5;249mt\u001b[0m\u001b[38;5;249m \u001b[0m\u001b[38;5;249mC\u001b[0m\u001b[38;5;249mO\u001b[0m\u001b[38;5;249mN\u001b[0m\u001b[38;5;249m_\u001b[0m\u001b[38;5;249mV\u001b[0m\u001b[38;5;249mA\u001b[0m\u001b[38;5;249mR\u001b[0m\u001b[38;5;249m4\u001b[0m\u001b[38;5;249m \u001b[0m\u001b[38;5;249m:\u001b[0m\u001b[38;5;249m \u001b[0m\u001b[38;5;249mi\u001b[0m\u001b[38;5;249m3\u001b[0m\u001b[38;5;249m2\u001b[0m\u001b[38;5;249m \u001b[0m\u001b[38;5;249m \u001b[0m\u001b[38;5;249m=\u001b[0m\u001b[38;5;249m \u001b[0m\u001b[38;5;54mf\u001b[0m\u001b[38;5;54mu\u001b[0m\u001b[38;5;54mn\u001b[0m\u001b[38;5;54mc\u001b[0m\u001b[38;5;54m(\u001b[0m\u001b[38;5;54m)\u001b[0m\u001b[38;5;249m;\u001b[0m",
      " \u001b[38;5;246m  ·\u001b[0m                         \u001b[38;5;54m─\u001b[0m\u001b[38;5;54m─\u001b[0m\u001b[38;5;54m─\u001b[0m\u001b[38;5;54m┬\u001b[0m\u001b[38;5;54m─\u001b[0m\u001b[38;5;54m─\u001b[0m  ",
      " \u001b[38;5;246m  ·\u001b[0m                            \u001b[38;5;54m╰\u001b[0m\u001b[38;5;54m─\u001b[0m\u001b[38;5;54m─\u001b[0m\u001b[38;5;54m─\u001b[0m\u001b[38;5;54m─\u001b[0m error: cannot call non-const fn `func` in constants",
      "\u001b[38;5;246m───╯\u001b[0m"
     ]
    }
   ],
   "source": [
    "const CON_VAR4 : i32  = func();"
   ]
  },
  {
   "cell_type": "markdown",
   "id": "04625787",
   "metadata": {},
   "source": [
    "## 상수 정의 :  리터럴 값으로 구성된 튜플은 상수표현식으로 처리 \n",
    "\n",
    "- 상수는 기본자료형만 가능하지만 튜플이 정수 실자 불리언등 기본 자료형일 경우에는 튜플도 가능하다."
   ]
  },
  {
   "cell_type": "code",
   "execution_count": 11,
   "id": "d778cf38",
   "metadata": {},
   "outputs": [],
   "source": [
    "const CON_VAR4 : (i32, i32,i32)  = (10,20,30);         // 튜플일때 기본 자료형일 경우는 상수 정의 가능"
   ]
  },
  {
   "cell_type": "code",
   "execution_count": 12,
   "id": "a82d1f2c",
   "metadata": {},
   "outputs": [
    {
     "name": "stdout",
     "output_type": "stream",
     "text": [
      " (10, 20, 30) \n"
     ]
    }
   ],
   "source": [
    "println!(\" {:?} \", CON_VAR4 );"
   ]
  },
  {
   "cell_type": "markdown",
   "id": "983357d4",
   "metadata": {},
   "source": [
    "## 상수 정의 : 문자열은 상수표현식이 아님  타입을 가진 튜플 \n",
    "\n",
    "- 리터럴 값만 배정이 가능한 튜플은 가능"
   ]
  },
  {
   "cell_type": "code",
   "execution_count": 50,
   "id": "8d67731e",
   "metadata": {},
   "outputs": [
    {
     "ename": "Error",
     "evalue": "cannot call non-const fn `<str as ToString>::to_string` in constants",
     "output_type": "error",
     "traceback": [
      "const CON_VAR5 : (i32, i32,String)  = (10,20,\"문자열\".to_string());",
      "\u001b[91m                                                   ^^^^^^^^^^^\u001b[0m \u001b[94merror: cannot call non-const fn `<str as ToString>::to_string` in constants\u001b[0m",
      "cannot call non-const fn `<str as ToString>::to_string` in constants"
     ]
    }
   ],
   "source": [
    "const CON_VAR5 : (i32, i32,String)  = (10,20,\"문자열\".to_string());"
   ]
  },
  {
   "cell_type": "markdown",
   "id": "52f2a038",
   "metadata": {},
   "source": [
    "## 상수정의 :  문자열 리터럴은 원시타입\n",
    "\n",
    "- 그래서 상수 표현식으로 처리 "
   ]
  },
  {
   "cell_type": "code",
   "execution_count": 51,
   "id": "19206efe",
   "metadata": {},
   "outputs": [],
   "source": [
    "const CON_VAR5 : (i32, i32,&str)  = (10,20,\"문자열\");"
   ]
  },
  {
   "cell_type": "markdown",
   "id": "4e45d685",
   "metadata": {},
   "source": [
    "##  상수 정의 :  구조체로 정의할 수 없다.\n",
    "\n",
    "- 반드시 리터럴 등 확정된 값으로 정의만 가능 "
   ]
  },
  {
   "cell_type": "code",
   "execution_count": 13,
   "id": "6683d1c4",
   "metadata": {},
   "outputs": [],
   "source": [
    "struct Pair(i32,i32);"
   ]
  },
  {
   "cell_type": "code",
   "execution_count": 14,
   "id": "4495c233",
   "metadata": {},
   "outputs": [
    {
     "ename": "Error",
     "evalue": "mismatched types",
     "output_type": "error",
     "traceback": [
      "\u001b[31m[E0308] Error:\u001b[0m mismatched types",
      "   \u001b[38;5;246m╭\u001b[0m\u001b[38;5;246m─\u001b[0m\u001b[38;5;246m[\u001b[0mcommand_14:1:1\u001b[38;5;246m]\u001b[0m",
      "   \u001b[38;5;246m│\u001b[0m",
      " \u001b[38;5;246m1 │\u001b[0m \u001b[38;5;249mc\u001b[0m\u001b[38;5;249mo\u001b[0m\u001b[38;5;249mn\u001b[0m\u001b[38;5;249ms\u001b[0m\u001b[38;5;249mt\u001b[0m\u001b[38;5;249m \u001b[0m\u001b[38;5;249mC\u001b[0m\u001b[38;5;249mO\u001b[0m\u001b[38;5;249mN\u001b[0m\u001b[38;5;249m_\u001b[0m\u001b[38;5;249mV\u001b[0m\u001b[38;5;249mA\u001b[0m\u001b[38;5;249mR\u001b[0m\u001b[38;5;249m6\u001b[0m\u001b[38;5;249m \u001b[0m\u001b[38;5;249m:\u001b[0m\u001b[38;5;249m \u001b[0m\u001b[38;5;249mP\u001b[0m\u001b[38;5;249ma\u001b[0m\u001b[38;5;249mi\u001b[0m\u001b[38;5;249mr\u001b[0m\u001b[38;5;249m \u001b[0m\u001b[38;5;249m=\u001b[0m\u001b[38;5;249m \u001b[0m\u001b[38;5;54m(\u001b[0m\u001b[38;5;54m1\u001b[0m\u001b[38;5;54m0\u001b[0m\u001b[38;5;54m,\u001b[0m\u001b[38;5;54m2\u001b[0m\u001b[38;5;54m0\u001b[0m\u001b[38;5;54m)\u001b[0m\u001b[38;5;249m;\u001b[0m",
      " \u001b[38;5;246m  ·\u001b[0m                         \u001b[38;5;54m─\u001b[0m\u001b[38;5;54m─\u001b[0m\u001b[38;5;54m─\u001b[0m\u001b[38;5;54m┬\u001b[0m\u001b[38;5;54m─\u001b[0m\u001b[38;5;54m─\u001b[0m\u001b[38;5;54m─\u001b[0m  ",
      " \u001b[38;5;246m  ·\u001b[0m                            \u001b[38;5;54m╰\u001b[0m\u001b[38;5;54m─\u001b[0m\u001b[38;5;54m─\u001b[0m\u001b[38;5;54m─\u001b[0m\u001b[38;5;54m─\u001b[0m\u001b[38;5;54m─\u001b[0m expected `Pair`, found `({integer}, {integer})`",
      "\u001b[38;5;246m───╯\u001b[0m"
     ]
    }
   ],
   "source": [
    "const CON_VAR6 : Pair = (10,20);"
   ]
  },
  {
   "cell_type": "markdown",
   "id": "23db8844",
   "metadata": {},
   "source": [
    "## 1-2.  전역변수\n",
    "\n",
    "- 전역변수는 static 변수로만 가능하다\n",
    "- 보통 정적변수로 처리 한다, "
   ]
  },
  {
   "cell_type": "markdown",
   "id": "772dbb84",
   "metadata": {},
   "source": [
    "## 정적변수 \n",
    "\n",
    "- 정적 변수는 별도의 메모리 공간을 가지며, 인라인 되지 않습니다. \n",
    "- 정적 변수는 안전하지 않은(unsafe) 러스트와 임베디드 시스템용 코드에서 유용합니다. \n",
    "- 이들의 수명은 프로그램이 수행되는 전체 시간과 동일합니다."
   ]
  },
  {
   "cell_type": "markdown",
   "id": "b3a64419",
   "metadata": {},
   "source": [
    "## 전역 이름 정의 \n",
    "\n",
    "- 대문자로 표시\n",
    "- 여러 단어를 사용할 때는 스네이크 표기법을 사용해서 단어별로 밑줄을 표시"
   ]
  },
  {
   "cell_type": "markdown",
   "id": "36f8bab2",
   "metadata": {},
   "source": [
    "### 타입 확인 함수 "
   ]
  },
  {
   "cell_type": "code",
   "execution_count": 23,
   "id": "754261c5",
   "metadata": {},
   "outputs": [],
   "source": [
    "// 변수의 타입을 문자열로 확인하기  \n",
    "// , e.g \"i8\", \"u8\", \"i32\", \"u32\"\n",
    "\n",
    "fn type_of<T>(_: &T) -> String {\n",
    "    format!(\"{}\", std::any::type_name::<T>())      // std::any::type_name 이라는 함수를 호출해서 처리한다. \n",
    "}"
   ]
  },
  {
   "cell_type": "markdown",
   "id": "dc5fa965",
   "metadata": {},
   "source": [
    "##  정적변수 정의 \n",
    "\n",
    "- 상수처럼 반드시 타입을 지정해야 한다. "
   ]
  },
  {
   "cell_type": "markdown",
   "id": "fb512dea",
   "metadata": {},
   "source": [
    "### 타입을 지정하지 않을 경우 컴파일 에러 "
   ]
  },
  {
   "cell_type": "code",
   "execution_count": 13,
   "id": "3e7e6265",
   "metadata": {},
   "outputs": [
    {
     "ename": "Error",
     "evalue": "missing type for `static` item",
     "output_type": "error",
     "traceback": [
      "static SOME_INT = 5;                           //  정수 지정 ",
      "\u001b[91m               \u001b[0m \u001b[94merror: missing type for `static` item\u001b[0m",
      "missing type for `static` item",
      "\u001b[1mhelp\u001b[0m: provide a type for the static variable\n\n: i32"
     ]
    }
   ],
   "source": [
    "static SOME_INT = 5;                           //  정수 지정 "
   ]
  },
  {
   "cell_type": "code",
   "execution_count": null,
   "id": "89e94de1",
   "metadata": {},
   "outputs": [],
   "source": []
  },
  {
   "cell_type": "code",
   "execution_count": null,
   "id": "db5ed149",
   "metadata": {},
   "outputs": [],
   "source": []
  },
  {
   "cell_type": "markdown",
   "id": "47bceb82",
   "metadata": {},
   "source": [
    "## 전역변수를 변경할 경우\n",
    "\n",
    "\n",
    "-  전역변수는 상수와 달리 다양한 타입을 저장 가능\n",
    "- 그래서 변경가능한 자료형도 가능\n",
    "- 단 전역변수를 갱신할 경우는 안전한 상태가 아닌 unsafe 블럭 내에서 처리가 필수"
   ]
  },
  {
   "cell_type": "code",
   "execution_count": 14,
   "id": "66e8e307",
   "metadata": {},
   "outputs": [],
   "source": [
    "static SOME_INT : u32 = 5;                           //  정수 지정 "
   ]
  },
  {
   "cell_type": "code",
   "execution_count": 15,
   "id": "d17cfcf3",
   "metadata": {},
   "outputs": [],
   "source": [
    "static mut DB: String = String::new();"
   ]
  },
  {
   "cell_type": "markdown",
   "id": "827aee0c",
   "metadata": {},
   "source": [
    "### 정적변수의 값을 갱신할 경우는 안전하지 않는 unsafe로 처리"
   ]
  },
  {
   "cell_type": "code",
   "execution_count": 16,
   "id": "0d02e089",
   "metadata": {},
   "outputs": [],
   "source": [
    "fn main() {\n",
    "\n",
    "    println!(\"{}\", SOME_INT);\n",
    "   \n",
    "\n",
    "    unsafe {\n",
    "        DB = \"Some(open_database());\".to_string();\n",
    "        println!(\"{}\", DB);\n",
    "    }\n",
    "}"
   ]
  },
  {
   "cell_type": "code",
   "execution_count": 17,
   "id": "503ebbb0",
   "metadata": {},
   "outputs": [
    {
     "name": "stdout",
     "output_type": "stream",
     "text": [
      "5\n",
      "Some(open_database());\n"
     ]
    }
   ],
   "source": [
    "main();"
   ]
  },
  {
   "cell_type": "code",
   "execution_count": null,
   "id": "b5807495",
   "metadata": {},
   "outputs": [],
   "source": []
  }
 ],
 "metadata": {
  "kernelspec": {
   "display_name": "Rust",
   "language": "rust",
   "name": "rust"
  },
  "language_info": {
   "codemirror_mode": "rust",
   "file_extension": ".rs",
   "mimetype": "text/rust",
   "name": "Rust",
   "pygment_lexer": "rust",
   "version": ""
  }
 },
 "nbformat": 4,
 "nbformat_minor": 5
}
