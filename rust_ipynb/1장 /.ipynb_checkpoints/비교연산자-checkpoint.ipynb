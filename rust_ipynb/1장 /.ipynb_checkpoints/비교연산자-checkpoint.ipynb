{
 "cells": [
  {
   "cell_type": "markdown",
   "id": "e78652d5",
   "metadata": {},
   "source": [
    "## 비교연산자"
   ]
  },
  {
   "cell_type": "code",
   "execution_count": null,
   "id": "516c40a5",
   "metadata": {},
   "outputs": [],
   "source": []
  },
  {
   "cell_type": "code",
   "execution_count": null,
   "id": "90943c2a",
   "metadata": {},
   "outputs": [],
   "source": []
  },
  {
   "cell_type": "code",
   "execution_count": 2,
   "id": "f0c4a55f",
   "metadata": {},
   "outputs": [],
   "source": [
    "let var = 100;\n",
    "let var1 = 100;"
   ]
  },
  {
   "cell_type": "code",
   "execution_count": 3,
   "id": "25398d39",
   "metadata": {},
   "outputs": [
    {
     "data": {
      "text/plain": [
       "true"
      ]
     },
     "execution_count": 3,
     "metadata": {},
     "output_type": "execute_result"
    }
   ],
   "source": [
    "var == var1"
   ]
  },
  {
   "cell_type": "code",
   "execution_count": 4,
   "id": "f3f774d4",
   "metadata": {},
   "outputs": [],
   "source": [
    "use std::ptr::eq"
   ]
  },
  {
   "cell_type": "code",
   "execution_count": 6,
   "id": "36235fa6",
   "metadata": {},
   "outputs": [
    {
     "data": {
      "text/plain": [
       "false"
      ]
     },
     "execution_count": 6,
     "metadata": {},
     "output_type": "execute_result"
    }
   ],
   "source": [
    "eq(&var, &var1)"
   ]
  },
  {
   "cell_type": "code",
   "execution_count": null,
   "id": "e1b58fda",
   "metadata": {},
   "outputs": [],
   "source": []
  },
  {
   "cell_type": "code",
   "execution_count": null,
   "id": "c855af50",
   "metadata": {},
   "outputs": [],
   "source": []
  },
  {
   "cell_type": "code",
   "execution_count": 8,
   "id": "474d3461",
   "metadata": {},
   "outputs": [],
   "source": [
    "use std::ptr;\n",
    "\n",
    "fn main() {\n",
    "    \n",
    "    let five = 5;\n",
    "    let other_five = 5;\n",
    "    let five_ref = &five;\n",
    "    let same_five_ref = &five;\n",
    "    let other_five_ref = &other_five;\n",
    "\n",
    "    assert!(five_ref == same_five_ref);\n",
    "    assert!(ptr::eq(five_ref, same_five_ref));\n",
    "\n",
    "    assert!(five_ref == other_five_ref);\n",
    "    assert!(!ptr::eq(five_ref, other_five_ref));\n",
    "}"
   ]
  },
  {
   "cell_type": "code",
   "execution_count": 9,
   "id": "471ecf2b",
   "metadata": {},
   "outputs": [
    {
     "data": {
      "text/plain": [
       "()"
      ]
     },
     "execution_count": 9,
     "metadata": {},
     "output_type": "execute_result"
    }
   ],
   "source": [
    "main()"
   ]
  },
  {
   "cell_type": "markdown",
   "id": "33f4da59",
   "metadata": {},
   "source": [
    "### 슬라이스 비교 "
   ]
  },
  {
   "cell_type": "code",
   "execution_count": 10,
   "id": "f5ae6949",
   "metadata": {},
   "outputs": [],
   "source": [
    "fn main() {\n",
    "    let a = [1, 2, 3];\n",
    "    assert!(std::ptr::eq(&a[..3], &a[..3]));\n",
    "    assert!(!std::ptr::eq(&a[..2], &a[..3]));\n",
    "    assert!(!std::ptr::eq(&a[0..2], &a[1..3]));\n",
    "}"
   ]
  },
  {
   "cell_type": "code",
   "execution_count": 11,
   "id": "6123fb68",
   "metadata": {},
   "outputs": [],
   "source": [
    "main();"
   ]
  },
  {
   "cell_type": "code",
   "execution_count": null,
   "id": "238d56c7",
   "metadata": {},
   "outputs": [],
   "source": []
  },
  {
   "cell_type": "code",
   "execution_count": 13,
   "id": "0f652075",
   "metadata": {},
   "outputs": [],
   "source": [
    "#[repr(transparent)]\n",
    "struct Wrapper { member: i32 }\n",
    "\n",
    "trait Trait {}\n",
    "impl Trait for Wrapper {}\n",
    "impl Trait for i32 {}\n",
    "\n",
    "fn main() {  \n",
    "    \n",
    "    let wrapper = Wrapper { member: 10 };\n",
    "\n",
    "    // Pointers have equal addresses.\n",
    "    assert!(std::ptr::eq(\n",
    "        &wrapper as *const Wrapper as *const u8,\n",
    "        &wrapper.member as *const i32 as *const u8\n",
    "    ));\n",
    "\n",
    "    // Objects have equal addresses, but `Trait` has different implementations.\n",
    "    assert!(!std::ptr::eq(\n",
    "        &wrapper as &dyn Trait,\n",
    "        &wrapper.member as &dyn Trait,\n",
    "    ));\n",
    "    assert!(!std::ptr::eq(\n",
    "        &wrapper as &dyn Trait as *const dyn Trait,\n",
    "        &wrapper.member as &dyn Trait as *const dyn Trait,\n",
    "    ));\n",
    "\n",
    "    // Converting the reference to a `*const u8` compares by address.\n",
    "    assert!(std::ptr::eq(\n",
    "        &wrapper as &dyn Trait as *const dyn Trait as *const u8,\n",
    "        &wrapper.member as &dyn Trait as *const dyn Trait as *const u8,\n",
    "    ));\n",
    "}"
   ]
  },
  {
   "cell_type": "code",
   "execution_count": 14,
   "id": "dc1fd189",
   "metadata": {},
   "outputs": [],
   "source": [
    "main();"
   ]
  },
  {
   "cell_type": "code",
   "execution_count": null,
   "id": "5f628925",
   "metadata": {},
   "outputs": [],
   "source": []
  }
 ],
 "metadata": {
  "kernelspec": {
   "display_name": "Rust",
   "language": "rust",
   "name": "rust"
  },
  "language_info": {
   "codemirror_mode": "rust",
   "file_extension": ".rs",
   "mimetype": "text/rust",
   "name": "Rust",
   "pygment_lexer": "rust",
   "version": ""
  }
 },
 "nbformat": 4,
 "nbformat_minor": 5
}
