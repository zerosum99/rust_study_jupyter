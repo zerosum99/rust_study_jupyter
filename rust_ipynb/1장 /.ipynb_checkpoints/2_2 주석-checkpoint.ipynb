{
 "cells": [
  {
   "cell_type": "code",
   "execution_count": null,
   "id": "849c8591",
   "metadata": {},
   "outputs": [],
   "source": []
  },
  {
   "cell_type": "code",
   "execution_count": 7,
   "id": "835fbe37",
   "metadata": {},
   "outputs": [],
   "source": [
    "fn main() {\n",
    "    // 러스트 시작은 main 함수\n",
    "    // 한줄 주석 \n",
    "    let some_number = 100; // 변수 할당.  \n",
    "    let some_number1 : i32 = 100;// 자료형 지정\n",
    "    \n",
    "    println!(\" number1 : {}\", some_number);   // 콘솔에 출력\n",
    "    println!(\" number2 : {}\", some_number1);\n",
    "    \n",
    "}"
   ]
  },
  {
   "cell_type": "code",
   "execution_count": 8,
   "id": "8352d411",
   "metadata": {},
   "outputs": [
    {
     "name": "stdout",
     "output_type": "stream",
     "text": [
      " number1 : 100\n",
      " number2 : 100\n"
     ]
    },
    {
     "data": {
      "text/plain": [
       "()"
      ]
     },
     "execution_count": 8,
     "metadata": {},
     "output_type": "execute_result"
    }
   ],
   "source": [
    "main()"
   ]
  },
  {
   "cell_type": "code",
   "execution_count": 11,
   "id": "2106de0b",
   "metadata": {},
   "outputs": [],
   "source": [
    "fn main() {\n",
    "    let some_number = 100; /* Let me tell you\n",
    "    a little about this number.\n",
    "    It's 100, which is my favourite number.\n",
    "    It's called some_number but actually I think that... */\n",
    "    println!(\" number1 : {}\", some_number);   // 콘솔에 출력\n",
    "    let some_number = 100; // Let me tell you\n",
    "    // a little about this number.\n",
    "    // It's 100, which is my favourite number.\n",
    "    // It's called some_number but actually I think that...\n",
    "    println!(\" number2 : {}\", some_number);   // 콘솔에 출력\n",
    "}"
   ]
  },
  {
   "cell_type": "code",
   "execution_count": 12,
   "id": "3bc201a2",
   "metadata": {},
   "outputs": [
    {
     "name": "stdout",
     "output_type": "stream",
     "text": [
      " number1 : 100\n",
      " number2 : 100\n"
     ]
    },
    {
     "data": {
      "text/plain": [
       "()"
      ]
     },
     "execution_count": 12,
     "metadata": {},
     "output_type": "execute_result"
    }
   ],
   "source": [
    "main()"
   ]
  },
  {
   "cell_type": "code",
   "execution_count": null,
   "id": "28dfece1",
   "metadata": {},
   "outputs": [],
   "source": []
  },
  {
   "cell_type": "markdown",
   "id": "9b2b4583",
   "metadata": {},
   "source": [
    "## 일단 미사용 경고를 제외 "
   ]
  },
  {
   "cell_type": "code",
   "execution_count": 18,
   "id": "6863c094",
   "metadata": {},
   "outputs": [],
   "source": [
    "fn main() {\n",
    "    \n",
    "    let _내숫자 = 100;\n",
    "    \n",
    "    let 내숫자 = 300;\n",
    "    println!(\" 내숫자 {}\", 내숫자);\n",
    "    \n",
    "    \n",
    "}"
   ]
  },
  {
   "cell_type": "code",
   "execution_count": 19,
   "id": "be03b61a",
   "metadata": {},
   "outputs": [
    {
     "name": "stdout",
     "output_type": "stream",
     "text": [
      " 내숫자 300\n"
     ]
    },
    {
     "data": {
      "text/plain": [
       "()"
      ]
     },
     "execution_count": 19,
     "metadata": {},
     "output_type": "execute_result"
    }
   ],
   "source": [
    "main()"
   ]
  },
  {
   "cell_type": "code",
   "execution_count": null,
   "id": "c1fb4938",
   "metadata": {},
   "outputs": [],
   "source": []
  }
 ],
 "metadata": {
  "kernelspec": {
   "display_name": "Rust",
   "language": "rust",
   "name": "rust"
  },
  "language_info": {
   "codemirror_mode": "rust",
   "file_extension": ".rs",
   "mimetype": "text/rust",
   "name": "Rust",
   "pygment_lexer": "rust",
   "version": ""
  }
 },
 "nbformat": 4,
 "nbformat_minor": 5
}
