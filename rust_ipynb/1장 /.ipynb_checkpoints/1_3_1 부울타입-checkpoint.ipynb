{
 "cells": [
  {
   "cell_type": "code",
   "execution_count": null,
   "id": "1be22993",
   "metadata": {},
   "outputs": [],
   "source": []
  },
  {
   "cell_type": "markdown",
   "id": "ea527d26",
   "metadata": {},
   "source": [
    "## 1.  부울 자료형 \n",
    "\n",
    "- 부울(Boolean) 자료형이 있습니다. \n",
    "- 부울 자료형은 참(True) 또는 거짓(False) 두 가지 값을 가질 수 있는 자료형입니다.\n",
    "- 부울 자료형은 bool 키워드로 표현됩니다."
   ]
  },
  {
   "cell_type": "code",
   "execution_count": null,
   "id": "07a7c443",
   "metadata": {},
   "outputs": [],
   "source": []
  },
  {
   "cell_type": "markdown",
   "id": "3de0041a",
   "metadata": {},
   "source": [
    "## 1-1 부울 자료형 변수에 할당하기 "
   ]
  },
  {
   "cell_type": "markdown",
   "id": "ea51eee3",
   "metadata": {},
   "source": [
    "###  자료형을 명시적 처리"
   ]
  },
  {
   "cell_type": "code",
   "execution_count": 2,
   "id": "6d5acead",
   "metadata": {},
   "outputs": [],
   "source": [
    "let b: bool = true;"
   ]
  },
  {
   "cell_type": "markdown",
   "id": "bd4ad49b",
   "metadata": {},
   "source": [
    "### 타입을 추론하기 "
   ]
  },
  {
   "cell_type": "code",
   "execution_count": 3,
   "id": "4657dd9b",
   "metadata": {},
   "outputs": [],
   "source": [
    "let a = true;"
   ]
  },
  {
   "cell_type": "code",
   "execution_count": 4,
   "id": "8b511688",
   "metadata": {},
   "outputs": [],
   "source": [
    "let b = true;"
   ]
  },
  {
   "cell_type": "markdown",
   "id": "5aa22025",
   "metadata": {},
   "source": [
    "### 메모리 사이즈 확인하기 "
   ]
  },
  {
   "cell_type": "code",
   "execution_count": 14,
   "id": "2b1af97e",
   "metadata": {},
   "outputs": [],
   "source": [
    "use std::mem::size_of_val;   // std는 표준 크레이트를 알려준다 \n",
    "                             // 그래서 그다음에 모듈과 함수이름을 사용 "
   ]
  },
  {
   "cell_type": "code",
   "execution_count": 15,
   "id": "7c96df6e",
   "metadata": {},
   "outputs": [
    {
     "data": {
      "text/plain": [
       "1"
      ]
     },
     "execution_count": 15,
     "metadata": {},
     "output_type": "execute_result"
    }
   ],
   "source": [
    "size_of_val(&a)"
   ]
  },
  {
   "cell_type": "markdown",
   "id": "f5ed2e4d",
   "metadata": {},
   "source": [
    "### 메모리 확인하기 "
   ]
  },
  {
   "cell_type": "code",
   "execution_count": 16,
   "id": "622a8f5f",
   "metadata": {},
   "outputs": [],
   "source": [
    "fn main() {\n",
    "    println!(\" bool true  size {}\", size_of_val(&true));\n",
    "    println!(\" bool flase size {}\", size_of_val(&false));\n",
    "\n",
    "}"
   ]
  },
  {
   "cell_type": "code",
   "execution_count": 17,
   "id": "ecb263b4",
   "metadata": {},
   "outputs": [
    {
     "data": {
      "text/plain": [
       "()"
      ]
     },
     "execution_count": 17,
     "metadata": {},
     "output_type": "execute_result"
    },
    {
     "name": "stdout",
     "output_type": "stream",
     "text": [
      " bool true  size 1\n",
      " bool flase size 1\n"
     ]
    }
   ],
   "source": [
    "main()"
   ]
  },
  {
   "cell_type": "markdown",
   "id": "96677447",
   "metadata": {},
   "source": [
    "### 조건문 처리하기 "
   ]
  },
  {
   "cell_type": "code",
   "execution_count": 2,
   "id": "fda6fce8",
   "metadata": {},
   "outputs": [],
   "source": [
    "fn main() {\n",
    "    let is_rust_fun: bool = true;\n",
    "    let is_open: bool = false;\n",
    "    \n",
    "    if is_rust_fun {\n",
    "        println!(\"러스트는 재미있습니다!\");\n",
    "    }\n",
    "    \n",
    "    if is_open {\n",
    "        println!(\"문이 열려 있습니다.\");\n",
    "    } else {\n",
    "        println!(\"문이 닫혀 있습니다.\");\n",
    "    }\n",
    "    \n",
    "    let is_greater: bool = 5 > 10;\n",
    "    println!(\"5는 10보다 큰가? {}\", is_greater);\n",
    "}"
   ]
  },
  {
   "cell_type": "code",
   "execution_count": 3,
   "id": "040387ce",
   "metadata": {},
   "outputs": [
    {
     "name": "stdout",
     "output_type": "stream",
     "text": [
      "러스트는 재미있습니다!\n",
      "문이 닫혀 있습니다.\n",
      "5는 10보다 큰가? false\n"
     ]
    }
   ],
   "source": [
    "main();"
   ]
  },
  {
   "cell_type": "markdown",
   "id": "ba3fe3e5",
   "metadata": {},
   "source": [
    "### 조건문 처리하기 "
   ]
  },
  {
   "cell_type": "code",
   "execution_count": 18,
   "id": "87e2d374",
   "metadata": {},
   "outputs": [],
   "source": [
    "fn main() {\n",
    "    let _f: bool = false;\n",
    "\n",
    "    let t = true;\n",
    "    if !t {\n",
    "        println!(\"Success!\");\n",
    "    }\n",
    "    \n",
    "    println!(\" Sucess !\");\n",
    "} \n"
   ]
  },
  {
   "cell_type": "code",
   "execution_count": 19,
   "id": "20de5474",
   "metadata": {},
   "outputs": [
    {
     "name": "stdout",
     "output_type": "stream",
     "text": [
      " Sucess !\n"
     ]
    },
    {
     "data": {
      "text/plain": [
       "()"
      ]
     },
     "execution_count": 19,
     "metadata": {},
     "output_type": "execute_result"
    }
   ],
   "source": [
    "main()"
   ]
  },
  {
   "cell_type": "markdown",
   "id": "a6f6001f",
   "metadata": {},
   "source": [
    "\n",
    "## 2. 연산자를 통해 부울값처리 "
   ]
  },
  {
   "cell_type": "markdown",
   "id": "bd316522",
   "metadata": {},
   "source": [
    "## 동등성 체크"
   ]
  },
  {
   "cell_type": "code",
   "execution_count": 5,
   "id": "30bda9e0",
   "metadata": {},
   "outputs": [
    {
     "data": {
      "text/plain": [
       "false"
      ]
     },
     "execution_count": 5,
     "metadata": {},
     "output_type": "execute_result"
    }
   ],
   "source": [
    "a != b"
   ]
  },
  {
   "cell_type": "code",
   "execution_count": 6,
   "id": "d34bb3fe",
   "metadata": {},
   "outputs": [
    {
     "data": {
      "text/plain": [
       "false"
      ]
     },
     "execution_count": 6,
     "metadata": {},
     "output_type": "execute_result"
    }
   ],
   "source": [
    "!(a == b)"
   ]
  },
  {
   "cell_type": "markdown",
   "id": "79b5b139",
   "metadata": {},
   "source": [
    "## 대소 체크 "
   ]
  },
  {
   "cell_type": "code",
   "execution_count": 7,
   "id": "0f91df97",
   "metadata": {},
   "outputs": [
    {
     "data": {
      "text/plain": [
       "true"
      ]
     },
     "execution_count": 7,
     "metadata": {},
     "output_type": "execute_result"
    }
   ],
   "source": [
    "a >= b"
   ]
  },
  {
   "cell_type": "code",
   "execution_count": 9,
   "id": "40fa8439",
   "metadata": {},
   "outputs": [
    {
     "data": {
      "text/plain": [
       "true"
      ]
     },
     "execution_count": 9,
     "metadata": {},
     "output_type": "execute_result"
    }
   ],
   "source": [
    "(a == b) | (a > b)"
   ]
  },
  {
   "cell_type": "code",
   "execution_count": 10,
   "id": "7d52fba2",
   "metadata": {},
   "outputs": [
    {
     "data": {
      "text/plain": [
       "false"
      ]
     },
     "execution_count": 10,
     "metadata": {},
     "output_type": "execute_result"
    }
   ],
   "source": [
    "a < b"
   ]
  },
  {
   "cell_type": "code",
   "execution_count": 11,
   "id": "29d056cf",
   "metadata": {},
   "outputs": [
    {
     "data": {
      "text/plain": [
       "false"
      ]
     },
     "execution_count": 11,
     "metadata": {},
     "output_type": "execute_result"
    }
   ],
   "source": [
    "!(a >= b)"
   ]
  },
  {
   "cell_type": "code",
   "execution_count": 12,
   "id": "85cf1106",
   "metadata": {},
   "outputs": [
    {
     "data": {
      "text/plain": [
       "true"
      ]
     },
     "execution_count": 12,
     "metadata": {},
     "output_type": "execute_result"
    }
   ],
   "source": [
    "a <= b"
   ]
  },
  {
   "cell_type": "code",
   "execution_count": 13,
   "id": "b4d03494",
   "metadata": {},
   "outputs": [
    {
     "data": {
      "text/plain": [
       "true"
      ]
     },
     "execution_count": 13,
     "metadata": {},
     "output_type": "execute_result"
    }
   ],
   "source": [
    "(a == b) | (a < b)"
   ]
  },
  {
   "cell_type": "markdown",
   "id": "c430f332",
   "metadata": {},
   "source": [
    "## 논리연산자로 처리하기\n",
    "\n",
    "- && (논리 곱), \n",
    "- || (논리 합),\n",
    "- ! (논리 부정)"
   ]
  },
  {
   "cell_type": "code",
   "execution_count": 4,
   "id": "6bfdad93",
   "metadata": {},
   "outputs": [],
   "source": [
    "fn main() {\n",
    "    let is_sunny: bool = true;\n",
    "    let is_rainy: bool = false;\n",
    "    \n",
    "    let is_good_weather = is_sunny && !is_rainy;  // 논리 곱과 논리 부정\n",
    "    \n",
    "    if is_good_weather {\n",
    "        println!(\"날씨가 좋습니다!\");\n",
    "    } else {\n",
    "        println!(\"날씨가 좋지 않습니다.\");\n",
    "    }\n",
    "    \n",
    "    let has_apples: bool = true;\n",
    "    let has_oranges: bool = true;\n",
    "    \n",
    "    let has_fruit = has_apples || has_oranges;  // 논리 합\n",
    "    \n",
    "    if has_fruit {\n",
    "        println!(\"과일이 있습니다!\");\n",
    "    } else {\n",
    "        println!(\"과일이 없습니다.\");\n",
    "    }\n",
    "}"
   ]
  },
  {
   "cell_type": "code",
   "execution_count": 5,
   "id": "95acab6e",
   "metadata": {},
   "outputs": [
    {
     "name": "stdout",
     "output_type": "stream",
     "text": [
      "날씨가 좋습니다!\n",
      "과일이 있습니다!\n"
     ]
    }
   ],
   "source": [
    "main();"
   ]
  },
  {
   "cell_type": "code",
   "execution_count": null,
   "id": "87079edf",
   "metadata": {},
   "outputs": [],
   "source": []
  }
 ],
 "metadata": {
  "kernelspec": {
   "display_name": "Rust",
   "language": "rust",
   "name": "rust"
  },
  "language_info": {
   "codemirror_mode": "rust",
   "file_extension": ".rs",
   "mimetype": "text/rust",
   "name": "Rust",
   "pygment_lexer": "rust",
   "version": ""
  }
 },
 "nbformat": 4,
 "nbformat_minor": 5
}
