{
 "cells": [
  {
   "cell_type": "markdown",
   "id": "e4cd3d66",
   "metadata": {},
   "source": [
    "## 새도우잉  \n",
    "\n",
    "-  동일한 이름으로 새로운 변수를 지정 "
   ]
  },
  {
   "cell_type": "code",
   "execution_count": 2,
   "id": "917f575a",
   "metadata": {},
   "outputs": [],
   "source": [
    "fn main() {\n",
    "    let variable = 100;\n",
    "    println!(\" first variable = {variable}\");\n",
    "    let variable = \"shadowing\";\n",
    "    println!(\" second variable = {variable}\");\n",
    "    \n",
    "}"
   ]
  },
  {
   "cell_type": "code",
   "execution_count": 3,
   "id": "af788e89",
   "metadata": {},
   "outputs": [
    {
     "name": "stdout",
     "output_type": "stream",
     "text": [
      " first variable = 100\n",
      " second variable = shadowing\n"
     ]
    },
    {
     "data": {
      "text/plain": [
       "()"
      ]
     },
     "execution_count": 3,
     "metadata": {},
     "output_type": "execute_result"
    }
   ],
   "source": [
    "main()"
   ]
  },
  {
   "cell_type": "code",
   "execution_count": null,
   "id": "3d1ff653",
   "metadata": {},
   "outputs": [],
   "source": []
  }
 ],
 "metadata": {
  "kernelspec": {
   "display_name": "Rust",
   "language": "rust",
   "name": "rust"
  },
  "language_info": {
   "codemirror_mode": "rust",
   "file_extension": ".rs",
   "mimetype": "text/rust",
   "name": "Rust",
   "pygment_lexer": "rust",
   "version": ""
  }
 },
 "nbformat": 4,
 "nbformat_minor": 5
}
