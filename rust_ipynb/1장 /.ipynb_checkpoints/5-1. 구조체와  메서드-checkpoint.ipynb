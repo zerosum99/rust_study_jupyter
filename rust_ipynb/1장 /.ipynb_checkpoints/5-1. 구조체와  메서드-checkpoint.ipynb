{
 "cells": [
  {
   "cell_type": "markdown",
   "id": "d1829cd5",
   "metadata": {},
   "source": [
    "# 1. 구조체 정의\n",
    "\n",
    "- struct 예약어 + 구조체 명\n",
    "- 구체체는 기본으로 필드를 중괄호 내부에 정의"
   ]
  },
  {
   "cell_type": "code",
   "execution_count": null,
   "id": "e181d1fe",
   "metadata": {},
   "outputs": [],
   "source": []
  },
  {
   "cell_type": "markdown",
   "id": "cee14649",
   "metadata": {},
   "source": [
    "## 1-1. 일반 구조체"
   ]
  },
  {
   "cell_type": "code",
   "execution_count": 2,
   "id": "599bea75",
   "metadata": {},
   "outputs": [],
   "source": [
    "#[derive(Debug)]\n",
    "struct People {\n",
    "    name : String,\n",
    "    age : u32\n",
    "}"
   ]
  },
  {
   "cell_type": "code",
   "execution_count": 4,
   "id": "ca865e20",
   "metadata": {},
   "outputs": [],
   "source": [
    "let p = People { name : String::from(\"가을이\"), age : 33 };"
   ]
  },
  {
   "cell_type": "code",
   "execution_count": 5,
   "id": "826408c6",
   "metadata": {},
   "outputs": [
    {
     "name": "stdout",
     "output_type": "stream",
     "text": [
      " 구조체 인스턴스 People { name: \"가을이\", age: 33 }\n"
     ]
    }
   ],
   "source": [
    "println!(\" 구조체 인스턴스 {:?}\", p);"
   ]
  },
  {
   "cell_type": "code",
   "execution_count": null,
   "id": "0ac6ee8c",
   "metadata": {},
   "outputs": [],
   "source": []
  },
  {
   "cell_type": "code",
   "execution_count": null,
   "id": "0b7ec8e3",
   "metadata": {},
   "outputs": [],
   "source": []
  },
  {
   "cell_type": "markdown",
   "id": "78609a15",
   "metadata": {},
   "source": [
    "## 1-2. 유사 구조체\n",
    "\n",
    "- 구조체 이름만 가진다.\n",
    "- 보통 구현체를 정의해서 사용할 때 사용"
   ]
  },
  {
   "cell_type": "code",
   "execution_count": 7,
   "id": "0b0e47ae",
   "metadata": {},
   "outputs": [],
   "source": [
    "#[derive(Debug)]\n",
    "struct User {}"
   ]
  },
  {
   "cell_type": "code",
   "execution_count": 9,
   "id": "2a8cda36",
   "metadata": {},
   "outputs": [],
   "source": [
    "let u = User {};"
   ]
  },
  {
   "cell_type": "code",
   "execution_count": 10,
   "id": "ec52b967",
   "metadata": {},
   "outputs": [
    {
     "name": "stdout",
     "output_type": "stream",
     "text": [
      " 구조체 인스턴스 User\n"
     ]
    }
   ],
   "source": [
    "println!(\" 구조체 인스턴스 {:?}\", u);"
   ]
  },
  {
   "cell_type": "code",
   "execution_count": null,
   "id": "4692ae94",
   "metadata": {},
   "outputs": [],
   "source": []
  },
  {
   "cell_type": "markdown",
   "id": "555c2acc",
   "metadata": {},
   "source": [
    "## 1-3. 튜플 구조체\n",
    "\n",
    "- 필드 이름이 없고 대신 튜플로만 처리 "
   ]
  },
  {
   "cell_type": "code",
   "execution_count": 18,
   "id": "2605e6b8",
   "metadata": {},
   "outputs": [],
   "source": [
    "#[derive(Debug)]\n",
    "struct Tuple (u32,i32,i32);"
   ]
  },
  {
   "cell_type": "code",
   "execution_count": 19,
   "id": "da6fe504",
   "metadata": {},
   "outputs": [],
   "source": [
    "let t = Tuple(100,200,300);"
   ]
  },
  {
   "cell_type": "code",
   "execution_count": 20,
   "id": "e0430df2",
   "metadata": {},
   "outputs": [
    {
     "name": "stdout",
     "output_type": "stream",
     "text": [
      " 구조체 인스턴스 Tuple(100, 200, 300)\n"
     ]
    }
   ],
   "source": [
    "println!(\" 구조체 인스턴스 {:?}\", t);"
   ]
  },
  {
   "cell_type": "code",
   "execution_count": null,
   "id": "5e528b49",
   "metadata": {},
   "outputs": [],
   "source": []
  },
  {
   "cell_type": "markdown",
   "id": "8d905b3b",
   "metadata": {},
   "source": [
    "## 1-4. 메서드 정의 "
   ]
  },
  {
   "cell_type": "markdown",
   "id": "474f4ecd",
   "metadata": {},
   "source": [
    "### 조회만 가능한 메서드 정의 "
   ]
  },
  {
   "cell_type": "code",
   "execution_count": 2,
   "id": "0f480d89",
   "metadata": {},
   "outputs": [],
   "source": [
    "#[derive(Debug)]\n",
    "struct User {\n",
    "    name : String,\n",
    "}"
   ]
  },
  {
   "cell_type": "code",
   "execution_count": 3,
   "id": "00f799f4",
   "metadata": {},
   "outputs": [],
   "source": [
    "impl User {\n",
    "    fn get_hello(&self, msg : &str ) {\n",
    "        println!(\" hello {}! \", msg);\n",
    "    }\n",
    "    \n",
    "}"
   ]
  },
  {
   "cell_type": "code",
   "execution_count": 11,
   "id": "c06f1e83",
   "metadata": {},
   "outputs": [],
   "source": [
    "let mut u1 = User{name : String::from(\"러스트\")}; "
   ]
  },
  {
   "cell_type": "code",
   "execution_count": 12,
   "id": "fd91115f",
   "metadata": {},
   "outputs": [
    {
     "name": "stdout",
     "output_type": "stream",
     "text": [
      " hello 호호호! \n"
     ]
    }
   ],
   "source": [
    "u1.get_hello(\"호호호\");"
   ]
  },
  {
   "cell_type": "code",
   "execution_count": null,
   "id": "6a16c9c8",
   "metadata": {},
   "outputs": [],
   "source": []
  },
  {
   "cell_type": "markdown",
   "id": "f09ff1f2",
   "metadata": {},
   "source": [
    "### 내부 값을 바꾸는 메서드 정의 "
   ]
  },
  {
   "cell_type": "code",
   "execution_count": 8,
   "id": "80cd9a97",
   "metadata": {},
   "outputs": [],
   "source": [
    "impl User {\n",
    "    fn set_name(&mut self, value : &str ) {\n",
    "        self.name = String::from(value);\n",
    "    }\n",
    "    \n",
    "}"
   ]
  },
  {
   "cell_type": "code",
   "execution_count": 13,
   "id": "8711a145",
   "metadata": {},
   "outputs": [],
   "source": [
    "u1.set_name(\"가을이\");"
   ]
  },
  {
   "cell_type": "code",
   "execution_count": 15,
   "id": "69fa60e5",
   "metadata": {},
   "outputs": [
    {
     "name": "stdout",
     "output_type": "stream",
     "text": [
      "u1  = User { name: \"가을이\" }\n"
     ]
    }
   ],
   "source": [
    "println!(\"u1  = {:?}\",u1);"
   ]
  },
  {
   "cell_type": "code",
   "execution_count": null,
   "id": "da59b156",
   "metadata": {},
   "outputs": [],
   "source": []
  },
  {
   "cell_type": "code",
   "execution_count": null,
   "id": "e64cbea5",
   "metadata": {},
   "outputs": [],
   "source": []
  },
  {
   "cell_type": "markdown",
   "id": "68449748",
   "metadata": {},
   "source": [
    "## 1-5. 연관함수 정의 "
   ]
  },
  {
   "cell_type": "code",
   "execution_count": null,
   "id": "27b69531",
   "metadata": {},
   "outputs": [],
   "source": [
    "impl User {\n",
    "    fn new(value : &str ) ->Self {\n",
    "        User {name : valeu}\n",
    "    }\n",
    "    \n",
    "}"
   ]
  },
  {
   "cell_type": "code",
   "execution_count": null,
   "id": "9f6fd53e",
   "metadata": {},
   "outputs": [],
   "source": []
  }
 ],
 "metadata": {
  "kernelspec": {
   "display_name": "Rust",
   "language": "rust",
   "name": "rust"
  },
  "language_info": {
   "codemirror_mode": "rust",
   "file_extension": ".rs",
   "mimetype": "text/rust",
   "name": "Rust",
   "pygment_lexer": "rust",
   "version": ""
  }
 },
 "nbformat": 4,
 "nbformat_minor": 5
}
