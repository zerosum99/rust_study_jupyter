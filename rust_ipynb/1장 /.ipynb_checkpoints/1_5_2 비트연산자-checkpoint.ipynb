{
 "cells": [
  {
   "cell_type": "code",
   "execution_count": null,
   "id": "cb1fc1eb",
   "metadata": {},
   "outputs": [],
   "source": []
  },
  {
   "cell_type": "code",
   "execution_count": null,
   "id": "a0bdff72",
   "metadata": {},
   "outputs": [],
   "source": []
  },
  {
   "cell_type": "markdown",
   "id": "1fa4d773",
   "metadata": {},
   "source": [
    "### AND (&): \n",
    "\n",
    "- 정수 인수의 각 비트에 대해 논리 AND 연산을 수행합니다. \n",
    "- 결과는 두 비트가 모두 1이면 1이 되고, 그렇지 않으면 0이 됩니다."
   ]
  },
  {
   "cell_type": "code",
   "execution_count": 3,
   "id": "69925517",
   "metadata": {},
   "outputs": [],
   "source": [
    "let a = 10;\n",
    "let b = 15;\n",
    "let c = a & b;   //  정수 10"
   ]
  },
  {
   "cell_type": "code",
   "execution_count": 6,
   "id": "7b30ced8",
   "metadata": {},
   "outputs": [
    {
     "name": "stdout",
     "output_type": "stream",
     "text": [
      " 10 \n",
      " 1010 \n"
     ]
    }
   ],
   "source": [
    "println!(\" {} \", c);\n",
    "println!(\" {:b} \", c);"
   ]
  },
  {
   "cell_type": "markdown",
   "id": "327461cb",
   "metadata": {},
   "source": [
    "### OR (|): \n",
    "\n",
    "- 정수 인수의 각 비트에 대해 논리 OR 연산을 수행합니다. \n",
    "- 결과는 두 비트가 모두 1이면 1, 그렇지 않으면 0입니다."
   ]
  },
  {
   "cell_type": "code",
   "execution_count": 9,
   "id": "1d7b5e44",
   "metadata": {},
   "outputs": [],
   "source": [
    "let c1 = a | b;"
   ]
  },
  {
   "cell_type": "code",
   "execution_count": 10,
   "id": "b90ff402",
   "metadata": {},
   "outputs": [
    {
     "name": "stdout",
     "output_type": "stream",
     "text": [
      " 15 \n",
      " 1111 \n"
     ]
    }
   ],
   "source": [
    "println!(\" {} \", c1);\n",
    "println!(\" {:b} \", c1);"
   ]
  },
  {
   "cell_type": "code",
   "execution_count": null,
   "id": "ae145cca",
   "metadata": {},
   "outputs": [],
   "source": []
  },
  {
   "cell_type": "markdown",
   "id": "8c4364e3",
   "metadata": {},
   "source": [
    "### XOR (^): \n",
    "- 정수 인수의 각 비트에 대해 논리 배타 OR 연산을 수행합니다. \n",
    "- 결과는 비트 중 정확히 하나가 1이면 1이고, 그렇지 않으면 0입니다."
   ]
  },
  {
   "cell_type": "code",
   "execution_count": 12,
   "id": "e7053859",
   "metadata": {},
   "outputs": [],
   "source": [
    "let c2 = a ^ b; // 5"
   ]
  },
  {
   "cell_type": "code",
   "execution_count": 13,
   "id": "a62d9749",
   "metadata": {},
   "outputs": [
    {
     "name": "stdout",
     "output_type": "stream",
     "text": [
      " 5 \n",
      " 101 \n"
     ]
    }
   ],
   "source": [
    "println!(\" {} \", c2);\n",
    "println!(\" {:b} \", c2);"
   ]
  },
  {
   "cell_type": "markdown",
   "id": "c62abca0",
   "metadata": {},
   "source": [
    "### NOT(!): \n",
    "\n",
    "- 정수 인자에 대해 논리 NOT 연산을 수행합니다. \n",
    "- 결과는 인수가 0이면 1, 그렇지 않으면 0입니다."
   ]
  },
  {
   "cell_type": "code",
   "execution_count": null,
   "id": "ae98b45e",
   "metadata": {},
   "outputs": [],
   "source": []
  },
  {
   "cell_type": "code",
   "execution_count": 14,
   "id": "7a097ade",
   "metadata": {},
   "outputs": [],
   "source": [
    "let c3 = !a; // -11"
   ]
  },
  {
   "cell_type": "code",
   "execution_count": 15,
   "id": "f20b8ec1",
   "metadata": {},
   "outputs": [
    {
     "name": "stdout",
     "output_type": "stream",
     "text": [
      " -11 \n",
      " 11111111111111111111111111110101 \n"
     ]
    }
   ],
   "source": [
    "println!(\" {} \", c3);\n",
    "println!(\" {:b} \", c3);"
   ]
  },
  {
   "cell_type": "markdown",
   "id": "1820902b",
   "metadata": {},
   "source": [
    "### 시프트 왼쪽(<<): \n",
    "- 첫 번째 피연산자의 모든 비트를 두 번째 피연산자에 지정된 자리 수만큼 왼쪽으로 이동합니다. \n",
    "- 새 비트는 0으로 채워집니다."
   ]
  },
  {
   "cell_type": "code",
   "execution_count": 16,
   "id": "10102016",
   "metadata": {},
   "outputs": [],
   "source": [
    "let a = 10;\n",
    "let c4= a << 2; // 40"
   ]
  },
  {
   "cell_type": "code",
   "execution_count": 17,
   "id": "c239d281",
   "metadata": {},
   "outputs": [
    {
     "name": "stdout",
     "output_type": "stream",
     "text": [
      " 40 \n",
      " 101000 \n"
     ]
    }
   ],
   "source": [
    "println!(\" {} \", c4);\n",
    "println!(\" {:b} \", c4);"
   ]
  },
  {
   "cell_type": "markdown",
   "id": "10d2a8bf",
   "metadata": {},
   "source": [
    "### 오른쪽 이동(>>): \n",
    "\n",
    "- 첫 번째 피연산자의 모든 비트를 두 번째 피연산자에 지정된 자리 수만큼 오른쪽으로 이동합니다. \n",
    "- 새 비트는 0으로 채워집니다."
   ]
  },
  {
   "cell_type": "code",
   "execution_count": 19,
   "id": "847e316e",
   "metadata": {},
   "outputs": [],
   "source": [
    "let c5 = a >> 2; // 2"
   ]
  },
  {
   "cell_type": "code",
   "execution_count": 20,
   "id": "01242a30",
   "metadata": {},
   "outputs": [
    {
     "name": "stdout",
     "output_type": "stream",
     "text": [
      " 2 \n",
      " 10 \n"
     ]
    }
   ],
   "source": [
    "println!(\" {} \", c5);\n",
    "println!(\" {:b} \", c5);"
   ]
  },
  {
   "cell_type": "code",
   "execution_count": null,
   "id": "54c1254f",
   "metadata": {},
   "outputs": [],
   "source": []
  }
 ],
 "metadata": {
  "kernelspec": {
   "display_name": "Rust",
   "language": "rust",
   "name": "rust"
  },
  "language_info": {
   "codemirror_mode": "rust",
   "file_extension": ".rs",
   "mimetype": "text/rust",
   "name": "Rust",
   "pygment_lexer": "rust",
   "version": ""
  }
 },
 "nbformat": 4,
 "nbformat_minor": 5
}
