{
 "cells": [
  {
   "cell_type": "code",
   "execution_count": null,
   "id": "96aaf33e",
   "metadata": {},
   "outputs": [],
   "source": []
  },
  {
   "cell_type": "markdown",
   "id": "c715d602",
   "metadata": {},
   "source": [
    "## 참고자료\n",
    "\n",
    "https://github.com/google/evcxr/tree/main/evcxr_jupyter"
   ]
  },
  {
   "cell_type": "code",
   "execution_count": null,
   "id": "3a1853b6",
   "metadata": {},
   "outputs": [],
   "source": []
  }
 ],
 "metadata": {
  "kernelspec": {
   "display_name": "Rust",
   "language": "rust",
   "name": "rust"
  },
  "language_info": {
   "codemirror_mode": "rust",
   "file_extension": ".rs",
   "mimetype": "text/rust",
   "name": "Rust",
   "pygment_lexer": "rust",
   "version": ""
  }
 },
 "nbformat": 4,
 "nbformat_minor": 5
}
