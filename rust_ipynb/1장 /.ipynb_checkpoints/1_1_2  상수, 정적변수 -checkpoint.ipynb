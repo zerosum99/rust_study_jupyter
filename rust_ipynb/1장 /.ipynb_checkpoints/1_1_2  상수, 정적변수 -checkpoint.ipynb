{
 "cells": [
  {
   "cell_type": "code",
   "execution_count": null,
   "id": "b35f48da",
   "metadata": {},
   "outputs": [],
   "source": []
  },
  {
   "cell_type": "markdown",
   "id": "93706c54",
   "metadata": {},
   "source": [
    "# 1. 상수와 정적 변수 "
   ]
  },
  {
   "cell_type": "markdown",
   "id": "306c28dc",
   "metadata": {},
   "source": [
    "## 1-1. 상수\n",
    "\n",
    "- const로 지정해서 정의\n",
    "- 상수의 값은 상수표현식이 가능한 경우만 할당 가능 "
   ]
  },
  {
   "cell_type": "markdown",
   "id": "8fcecc6f",
   "metadata": {},
   "source": [
    "### 상수는 반드시 타입 어노테이션을 지정"
   ]
  },
  {
   "cell_type": "code",
   "execution_count": 8,
   "id": "62d18119",
   "metadata": {},
   "outputs": [
    {
     "ename": "Error",
     "evalue": "missing type for `const` item",
     "output_type": "error",
     "traceback": [
      "\u001b[31mError:\u001b[0m missing type for `const` item",
      "   \u001b[38;5;246m╭\u001b[0m\u001b[38;5;246m─\u001b[0m\u001b[38;5;246m[\u001b[0mcommand_8:1:1\u001b[38;5;246m]\u001b[0m",
      "   \u001b[38;5;246m│\u001b[0m",
      " \u001b[38;5;246m1 │\u001b[0m \u001b[38;5;249mc\u001b[0m\u001b[38;5;249mo\u001b[0m\u001b[38;5;249mn\u001b[0m\u001b[38;5;249ms\u001b[0m\u001b[38;5;249mt\u001b[0m\u001b[38;5;249m \u001b[0m\u001b[38;5;249mC\u001b[0m\u001b[38;5;249mO\u001b[0m\u001b[38;5;249mN\u001b[0m\u001b[38;5;249m_\u001b[0m\u001b[38;5;249mV\u001b[0m\u001b[38;5;249mA\u001b[0m\u001b[38;5;249mR\u001b[0m\u001b[38;5;249m \u001b[0m\u001b[38;5;249m \u001b[0m\u001b[38;5;249m=\u001b[0m\u001b[38;5;249m \u001b[0m\u001b[38;5;249m1\u001b[0m\u001b[38;5;249m0\u001b[0m\u001b[38;5;249m0\u001b[0m\u001b[38;5;249m;\u001b[0m",
      " \u001b[38;5;246m  ·\u001b[0m              \u001b[38;5;54m│\u001b[0m ",
      " \u001b[38;5;246m  ·\u001b[0m              \u001b[38;5;54m╰\u001b[0m\u001b[38;5;54m─\u001b[0m error: missing type for `const` item",
      " \u001b[38;5;246m  ·\u001b[0m              \u001b[38;5;100m│\u001b[0m ",
      " \u001b[38;5;246m  ·\u001b[0m              \u001b[38;5;100m╰\u001b[0m\u001b[38;5;100m─\u001b[0m help: provide a type for the constant: `: i32`",
      "\u001b[38;5;246m───╯\u001b[0m"
     ]
    }
   ],
   "source": [
    "const CON_VAR  = 100; "
   ]
  },
  {
   "cell_type": "markdown",
   "id": "e5deb8c2",
   "metadata": {},
   "source": [
    "### 상수를 정의할 때는 상수의 이름에 정의된 값에 대한 타입 애노테이션을 지정"
   ]
  },
  {
   "cell_type": "code",
   "execution_count": 4,
   "id": "52d983d7",
   "metadata": {},
   "outputs": [],
   "source": [
    "const CON_VAR : i32  = 100; "
   ]
  },
  {
   "cell_type": "code",
   "execution_count": 5,
   "id": "1522a0ea",
   "metadata": {},
   "outputs": [
    {
     "data": {
      "text/plain": [
       "100"
      ]
     },
     "execution_count": 5,
     "metadata": {},
     "output_type": "execute_result"
    }
   ],
   "source": [
    "CON_VAR"
   ]
  },
  {
   "cell_type": "code",
   "execution_count": null,
   "id": "79f42223",
   "metadata": {},
   "outputs": [],
   "source": []
  },
  {
   "cell_type": "markdown",
   "id": "03b735e8",
   "metadata": {},
   "source": [
    "### 상수의 정의 영역 "
   ]
  },
  {
   "cell_type": "code",
   "execution_count": 6,
   "id": "7b62ebc9",
   "metadata": {},
   "outputs": [],
   "source": [
    "fn main() {\n",
    "    const CON_VAR1 : i32  = 100; \n",
    "    \n",
    "    println!(\"consts {}\", CON_VAR1);\n",
    "}"
   ]
  },
  {
   "cell_type": "code",
   "execution_count": 7,
   "id": "41c68f63",
   "metadata": {},
   "outputs": [
    {
     "name": "stdout",
     "output_type": "stream",
     "text": [
      "consts 100\n"
     ]
    }
   ],
   "source": [
    "main();"
   ]
  },
  {
   "cell_type": "markdown",
   "id": "16f0a062",
   "metadata": {},
   "source": [
    "### 블럭 내에도 정의가 가능 "
   ]
  },
  {
   "cell_type": "code",
   "execution_count": 14,
   "id": "eee4704d",
   "metadata": {},
   "outputs": [],
   "source": [
    "const CON_VAR3 : i32  = 100; \n",
    "\n",
    "fn main() {\n",
    "    const CON_VAR1 : i32  = 100; \n",
    "    {\n",
    "        const CON_VAR2 : i32 = 200; \n",
    "         println!(\"consts 2 {}\", CON_VAR2);\n",
    "    }\n",
    "    \n",
    "    println!(\"consts 1 {}\", CON_VAR1);\n",
    "    println!(\"consts  {}\", CON_VAR3);         // 전역에 정의된 상수를 출력 \n",
    "}"
   ]
  },
  {
   "cell_type": "code",
   "execution_count": 15,
   "id": "8b4b6676",
   "metadata": {},
   "outputs": [
    {
     "name": "stdout",
     "output_type": "stream",
     "text": [
      "consts 2 200\n",
      "consts 1 100\n",
      "consts  100\n"
     ]
    }
   ],
   "source": [
    "main();"
   ]
  },
  {
   "cell_type": "markdown",
   "id": "a5f34537",
   "metadata": {},
   "source": [
    "### 상수를 정의할 때는 항상 상수표현식의 값으로 처리해야 한다. \n",
    "\n",
    "- 함수의 반환값은 지정할 수 없다. "
   ]
  },
  {
   "cell_type": "code",
   "execution_count": 47,
   "id": "2b64797f",
   "metadata": {},
   "outputs": [],
   "source": [
    "fn func() -> i32 {\n",
    "    32\n",
    "}"
   ]
  },
  {
   "cell_type": "code",
   "execution_count": 48,
   "id": "8ed51910",
   "metadata": {},
   "outputs": [
    {
     "ename": "Error",
     "evalue": "cannot call non-const fn `func` in constants",
     "output_type": "error",
     "traceback": [
      "\u001b[31m[E0015] Error:\u001b[0m cannot call non-const fn `func` in constants",
      "   \u001b[38;5;246m╭\u001b[0m\u001b[38;5;246m─\u001b[0m\u001b[38;5;246m[\u001b[0mcommand_48:1:1\u001b[38;5;246m]\u001b[0m",
      "   \u001b[38;5;246m│\u001b[0m",
      " \u001b[38;5;246m1 │\u001b[0m \u001b[38;5;249mc\u001b[0m\u001b[38;5;249mo\u001b[0m\u001b[38;5;249mn\u001b[0m\u001b[38;5;249ms\u001b[0m\u001b[38;5;249mt\u001b[0m\u001b[38;5;249m \u001b[0m\u001b[38;5;249mC\u001b[0m\u001b[38;5;249mO\u001b[0m\u001b[38;5;249mN\u001b[0m\u001b[38;5;249m_\u001b[0m\u001b[38;5;249mV\u001b[0m\u001b[38;5;249mA\u001b[0m\u001b[38;5;249mR\u001b[0m\u001b[38;5;249m4\u001b[0m\u001b[38;5;249m \u001b[0m\u001b[38;5;249m:\u001b[0m\u001b[38;5;249m \u001b[0m\u001b[38;5;249mi\u001b[0m\u001b[38;5;249m3\u001b[0m\u001b[38;5;249m2\u001b[0m\u001b[38;5;249m \u001b[0m\u001b[38;5;249m \u001b[0m\u001b[38;5;249m=\u001b[0m\u001b[38;5;249m \u001b[0m\u001b[38;5;54mf\u001b[0m\u001b[38;5;54mu\u001b[0m\u001b[38;5;54mn\u001b[0m\u001b[38;5;54mc\u001b[0m\u001b[38;5;54m(\u001b[0m\u001b[38;5;54m)\u001b[0m\u001b[38;5;249m;\u001b[0m",
      " \u001b[38;5;246m  ·\u001b[0m                         \u001b[38;5;54m─\u001b[0m\u001b[38;5;54m─\u001b[0m\u001b[38;5;54m─\u001b[0m\u001b[38;5;54m┬\u001b[0m\u001b[38;5;54m─\u001b[0m\u001b[38;5;54m─\u001b[0m  ",
      " \u001b[38;5;246m  ·\u001b[0m                            \u001b[38;5;54m╰\u001b[0m\u001b[38;5;54m─\u001b[0m\u001b[38;5;54m─\u001b[0m\u001b[38;5;54m─\u001b[0m\u001b[38;5;54m─\u001b[0m error: cannot call non-const fn `func` in constants",
      "\u001b[38;5;246m───╯\u001b[0m"
     ]
    }
   ],
   "source": [
    "const CON_VAR4 : i32  = func();"
   ]
  },
  {
   "cell_type": "markdown",
   "id": "01a89b77",
   "metadata": {},
   "source": [
    "### 상수 정의 :  리터럴 값으로 구성된 튜플로 정의 "
   ]
  },
  {
   "cell_type": "code",
   "execution_count": 49,
   "id": "70ef9dd8",
   "metadata": {},
   "outputs": [],
   "source": [
    "const CON_VAR4 : (i32, i32,i32)  = (10,20,30);"
   ]
  },
  {
   "cell_type": "markdown",
   "id": "f1733a1d",
   "metadata": {},
   "source": [
    "### 상수 정의 : 문자열 타입을 가진 튜플 \n",
    "\n",
    "- 리터럴 값만 배정이 가능한 튜플은 가능"
   ]
  },
  {
   "cell_type": "code",
   "execution_count": 50,
   "id": "2f10ddca",
   "metadata": {},
   "outputs": [
    {
     "ename": "Error",
     "evalue": "cannot call non-const fn `<str as ToString>::to_string` in constants",
     "output_type": "error",
     "traceback": [
      "const CON_VAR5 : (i32, i32,String)  = (10,20,\"문자열\".to_string());",
      "\u001b[91m                                                   ^^^^^^^^^^^\u001b[0m \u001b[94merror: cannot call non-const fn `<str as ToString>::to_string` in constants\u001b[0m",
      "cannot call non-const fn `<str as ToString>::to_string` in constants"
     ]
    }
   ],
   "source": [
    "const CON_VAR5 : (i32, i32,String)  = (10,20,\"문자열\".to_string());"
   ]
  },
  {
   "cell_type": "code",
   "execution_count": 51,
   "id": "4dc2a82b",
   "metadata": {},
   "outputs": [],
   "source": [
    "const CON_VAR5 : (i32, i32,&str)  = (10,20,\"문자열\");"
   ]
  },
  {
   "cell_type": "markdown",
   "id": "9829c54b",
   "metadata": {},
   "source": [
    "### 상수 정의 :  구조체로 정의할 수 없다.\n",
    "\n",
    "- 반드시 리터럴 등 확정된 값으로 정의만 가능 "
   ]
  },
  {
   "cell_type": "code",
   "execution_count": 54,
   "id": "59b6b66f",
   "metadata": {},
   "outputs": [],
   "source": [
    "struct Pair(i32,i32);"
   ]
  },
  {
   "cell_type": "code",
   "execution_count": 55,
   "id": "32384d28",
   "metadata": {},
   "outputs": [
    {
     "ename": "Error",
     "evalue": "mismatched types",
     "output_type": "error",
     "traceback": [
      "\u001b[31m[E0308] Error:\u001b[0m mismatched types",
      "   \u001b[38;5;246m╭\u001b[0m\u001b[38;5;246m─\u001b[0m\u001b[38;5;246m[\u001b[0mcommand_55:1:1\u001b[38;5;246m]\u001b[0m",
      "   \u001b[38;5;246m│\u001b[0m",
      " \u001b[38;5;246m1 │\u001b[0m \u001b[38;5;249mc\u001b[0m\u001b[38;5;249mo\u001b[0m\u001b[38;5;249mn\u001b[0m\u001b[38;5;249ms\u001b[0m\u001b[38;5;249mt\u001b[0m\u001b[38;5;249m \u001b[0m\u001b[38;5;249mC\u001b[0m\u001b[38;5;249mO\u001b[0m\u001b[38;5;249mN\u001b[0m\u001b[38;5;249m_\u001b[0m\u001b[38;5;249mV\u001b[0m\u001b[38;5;249mA\u001b[0m\u001b[38;5;249mR\u001b[0m\u001b[38;5;249m6\u001b[0m\u001b[38;5;249m \u001b[0m\u001b[38;5;249m:\u001b[0m\u001b[38;5;249m \u001b[0m\u001b[38;5;249mP\u001b[0m\u001b[38;5;249ma\u001b[0m\u001b[38;5;249mi\u001b[0m\u001b[38;5;249mr\u001b[0m\u001b[38;5;249m \u001b[0m\u001b[38;5;249m=\u001b[0m\u001b[38;5;249m \u001b[0m\u001b[38;5;54m(\u001b[0m\u001b[38;5;54m1\u001b[0m\u001b[38;5;54m0\u001b[0m\u001b[38;5;54m,\u001b[0m\u001b[38;5;54m2\u001b[0m\u001b[38;5;54m0\u001b[0m\u001b[38;5;54m)\u001b[0m\u001b[38;5;249m;\u001b[0m",
      " \u001b[38;5;246m  ·\u001b[0m                         \u001b[38;5;54m─\u001b[0m\u001b[38;5;54m─\u001b[0m\u001b[38;5;54m─\u001b[0m\u001b[38;5;54m┬\u001b[0m\u001b[38;5;54m─\u001b[0m\u001b[38;5;54m─\u001b[0m\u001b[38;5;54m─\u001b[0m  ",
      " \u001b[38;5;246m  ·\u001b[0m                            \u001b[38;5;54m╰\u001b[0m\u001b[38;5;54m─\u001b[0m\u001b[38;5;54m─\u001b[0m\u001b[38;5;54m─\u001b[0m\u001b[38;5;54m─\u001b[0m\u001b[38;5;54m─\u001b[0m expected struct `Pair`, found tuple",
      "\u001b[38;5;246m───╯\u001b[0m"
     ]
    }
   ],
   "source": [
    "const CON_VAR6 : Pair = (10,20);"
   ]
  },
  {
   "cell_type": "markdown",
   "id": "23db8844",
   "metadata": {},
   "source": [
    "## 1-2.  전역변수\n",
    "\n",
    "- 전역변수는 static 변수로만 가능하다"
   ]
  },
  {
   "cell_type": "code",
   "execution_count": null,
   "id": "efa0f903",
   "metadata": {},
   "outputs": [],
   "source": []
  },
  {
   "cell_type": "code",
   "execution_count": 23,
   "id": "3839b01b",
   "metadata": {},
   "outputs": [],
   "source": [
    "// 변수의 타입을 문자열로 확인하기  \n",
    "// , e.g \"i8\", \"u8\", \"i32\", \"u32\"\n",
    "\n",
    "fn type_of<T>(_: &T) -> String {\n",
    "    format!(\"{}\", std::any::type_name::<T>())      // std::any::type_name 이라는 함수를 호출해서 처리한다. \n",
    "}"
   ]
  },
  {
   "cell_type": "markdown",
   "id": "c1fe9653",
   "metadata": {},
   "source": [
    "### 문자열 리터럴과 문자열 차이\n",
    "\n",
    "- 문자열 리터럴은 더블 따옴표로 만들어진 문자열을 의미한다.\n",
    "- 문자열은 String 구조체로 만들어진 문자열을 의미한다. "
   ]
  },
  {
   "cell_type": "code",
   "execution_count": null,
   "id": "f3e0457c",
   "metadata": {},
   "outputs": [],
   "source": []
  },
  {
   "cell_type": "code",
   "execution_count": 21,
   "id": "a93f96c5",
   "metadata": {},
   "outputs": [],
   "source": [
    "let s = \"문자열리터럴\";"
   ]
  },
  {
   "cell_type": "code",
   "execution_count": 26,
   "id": "3c0f8466",
   "metadata": {},
   "outputs": [
    {
     "name": "stdout",
     "output_type": "stream",
     "text": [
      "타입 확인 = &str \n"
     ]
    }
   ],
   "source": [
    "println!(\"타입 확인 = {} \", type_of(&s));"
   ]
  },
  {
   "cell_type": "code",
   "execution_count": 27,
   "id": "c3563e67",
   "metadata": {},
   "outputs": [],
   "source": [
    "let ss = String::from(\"문자열\");"
   ]
  },
  {
   "cell_type": "code",
   "execution_count": 28,
   "id": "3b6d5659",
   "metadata": {},
   "outputs": [
    {
     "name": "stdout",
     "output_type": "stream",
     "text": [
      "타입 확인 = alloc::string::String \n"
     ]
    }
   ],
   "source": [
    "println!(\"타입 확인 = {} \", type_of(&ss));"
   ]
  },
  {
   "cell_type": "markdown",
   "id": "94e590cf",
   "metadata": {},
   "source": [
    "### 문자열 리터럴과 문자열은 다르다.  "
   ]
  },
  {
   "cell_type": "code",
   "execution_count": 29,
   "id": "561db548",
   "metadata": {},
   "outputs": [
    {
     "ename": "Error",
     "evalue": "mismatched types",
     "output_type": "error",
     "traceback": [
      "\u001b[31m[E0308] Error:\u001b[0m mismatched types",
      "   \u001b[38;5;246m╭\u001b[0m\u001b[38;5;246m─\u001b[0m\u001b[38;5;246m[\u001b[0mcommand_29:1:1\u001b[38;5;246m]\u001b[0m",
      "   \u001b[38;5;246m│\u001b[0m",
      " \u001b[38;5;246m1 │\u001b[0m \u001b[38;5;249ms\u001b[0m\u001b[38;5;249ms\u001b[0m\u001b[38;5;249m \u001b[0m\u001b[38;5;249m=\u001b[0m\u001b[38;5;54ms\u001b[0m\u001b[38;5;249m;\u001b[0m",
      " \u001b[38;5;246m  ·\u001b[0m     \u001b[38;5;54m┬\u001b[0m\u001b[38;5;100m│\u001b[0m ",
      " \u001b[38;5;246m  ·\u001b[0m     \u001b[38;5;54m╰\u001b[0m\u001b[38;5;54m─\u001b[0m\u001b[38;5;54m─\u001b[0m expected struct `String`, found `&str`",
      " \u001b[38;5;246m  ·\u001b[0m      \u001b[38;5;100m│\u001b[0m ",
      " \u001b[38;5;246m  ·\u001b[0m      \u001b[38;5;100m╰\u001b[0m\u001b[38;5;100m─\u001b[0m help: try using a conversion method: `.to_string()`",
      "\u001b[38;5;246m───╯\u001b[0m"
     ]
    }
   ],
   "source": [
    "ss =s;"
   ]
  },
  {
   "cell_type": "code",
   "execution_count": 31,
   "id": "6ef8f8f2",
   "metadata": {},
   "outputs": [],
   "source": [
    "let mut ss1 = String::new();\n",
    "ss1 =s.to_string();        // 문자열 리터럴을 문자열로 변환해서 할당한다"
   ]
  },
  {
   "cell_type": "markdown",
   "id": "12d6756f",
   "metadata": {},
   "source": [
    "### 구조체 정의 \n",
    "\n",
    "- 러스트는 클래스가 없고 구조체를 정의해서 사용한다.\n",
    "- 구조체는 별도의 메서드 없이 구조체 리터럴로 인스턴스를 생성할 수 있다."
   ]
  },
  {
   "cell_type": "code",
   "execution_count": 36,
   "id": "b98a36d5",
   "metadata": {},
   "outputs": [],
   "source": [
    "#[derive(Debug)]               // 구조체는 println 매크로에 출력할 수 없어서 속성을 사용해서 출력가능하도록 만든다.\n",
    "struct MyStruct {\n",
    "    number: i32,               // 구조체 필드 정의 \n",
    "    string: &'static str,\n",
    "}"
   ]
  },
  {
   "cell_type": "code",
   "execution_count": 37,
   "id": "40f8909a",
   "metadata": {},
   "outputs": [],
   "source": [
    "let my = MyStruct { number : 33, string : \"구조체\"};"
   ]
  },
  {
   "cell_type": "markdown",
   "id": "5ced3a73",
   "metadata": {},
   "source": [
    "### 구조체를 출력하려면 플레이스홀드에  {:?} 를 사용 "
   ]
  },
  {
   "cell_type": "code",
   "execution_count": 38,
   "id": "250cabab",
   "metadata": {},
   "outputs": [
    {
     "name": "stdout",
     "output_type": "stream",
     "text": [
      "MyStruct { number: 33, string: \"구조체\" }\n"
     ]
    }
   ],
   "source": [
    "println!(\"{:?}\",my);"
   ]
  },
  {
   "cell_type": "markdown",
   "id": "b7783767",
   "metadata": {},
   "source": [
    "### 구조체룰 필드별로 출력할 때는 플레이스홀드에  {:#?}로 지정한다"
   ]
  },
  {
   "cell_type": "code",
   "execution_count": 39,
   "id": "8f1e7a58",
   "metadata": {},
   "outputs": [
    {
     "name": "stdout",
     "output_type": "stream",
     "text": [
      "MyStruct {\n",
      "    number: 33,\n",
      "    string: \"구조체\",\n",
      "}\n"
     ]
    }
   ],
   "source": [
    "println!(\"{:#?}\",my);"
   ]
  },
  {
   "cell_type": "markdown",
   "id": "ee6a8623",
   "metadata": {},
   "source": [
    "### 전역변수도 반드시 타입 애노테이션을 지정해야 한다.\n"
   ]
  },
  {
   "cell_type": "code",
   "execution_count": 46,
   "id": "74a10495",
   "metadata": {},
   "outputs": [
    {
     "ename": "Error",
     "evalue": "missing type for `static` item",
     "output_type": "error",
     "traceback": [
      "static SOME_INT = 5;                           //  정수 지정 ",
      "\u001b[91m               \u001b[0m \u001b[94merror: missing type for `static` item\u001b[0m",
      "missing type for `static` item",
      "\u001b[1mhelp\u001b[0m: provide a type for the static variable\n\n: i32"
     ]
    }
   ],
   "source": [
    "static SOME_INT = 5;                           //  정수 지정 "
   ]
  },
  {
   "cell_type": "markdown",
   "id": "f8f17cee",
   "metadata": {},
   "source": [
    "### 전역변수를 지정해서 출력하기 \n",
    "\n",
    "- 전역변수는 static 키워드로 지정\n",
    "- 타입 애노테이션을 지정한다. "
   ]
  },
  {
   "cell_type": "code",
   "execution_count": null,
   "id": "c8b000b0",
   "metadata": {},
   "outputs": [],
   "source": [
    "static SOME_INT: i32 = 5;                           //  정수 지정 "
   ]
  },
  {
   "cell_type": "code",
   "execution_count": 41,
   "id": "db7d0d98",
   "metadata": {},
   "outputs": [],
   "source": [
    "static SOME_STR: &str = \"A static string\";          // 문자열 리터럴 지정 "
   ]
  },
  {
   "cell_type": "code",
   "execution_count": 42,
   "id": "8562d51f",
   "metadata": {},
   "outputs": [],
   "source": [
    "static SOME_STRUCT: MyStruct = MyStruct {           // 구조체 지정 \n",
    "    number: 10,\n",
    "    string: \"Some string\",\n",
    "};"
   ]
  },
  {
   "cell_type": "code",
   "execution_count": 43,
   "id": "c65ac7dc",
   "metadata": {},
   "outputs": [],
   "source": [
    "static mut DB: String = String::new();"
   ]
  },
  {
   "cell_type": "code",
   "execution_count": 44,
   "id": "0d02e089",
   "metadata": {},
   "outputs": [],
   "source": [
    "fn main() {\n",
    "    println!(\"{}\", SOME_INT);\n",
    "    println!(\"{}\", SOME_STR);\n",
    "    println!(\"{}\", SOME_STRUCT.number);\n",
    "    println!(\"{}\", SOME_STRUCT.string);\n",
    "\n",
    "    unsafe {\n",
    "        DB = \"Some(open_database());\".to_string();\n",
    "    }\n",
    "}"
   ]
  },
  {
   "cell_type": "code",
   "execution_count": 45,
   "id": "503ebbb0",
   "metadata": {},
   "outputs": [
    {
     "name": "stdout",
     "output_type": "stream",
     "text": [
      "5\n",
      "A static string\n",
      "10\n",
      "Some string\n"
     ]
    }
   ],
   "source": [
    "main();"
   ]
  },
  {
   "cell_type": "code",
   "execution_count": null,
   "id": "24660757",
   "metadata": {},
   "outputs": [],
   "source": []
  },
  {
   "cell_type": "code",
   "execution_count": null,
   "id": "18fe336a",
   "metadata": {},
   "outputs": [],
   "source": []
  }
 ],
 "metadata": {
  "kernelspec": {
   "display_name": "Rust",
   "language": "rust",
   "name": "rust"
  },
  "language_info": {
   "codemirror_mode": "rust",
   "file_extension": ".rs",
   "mimetype": "text/rust",
   "name": "Rust",
   "pygment_lexer": "rust",
   "version": ""
  }
 },
 "nbformat": 4,
 "nbformat_minor": 5
}
