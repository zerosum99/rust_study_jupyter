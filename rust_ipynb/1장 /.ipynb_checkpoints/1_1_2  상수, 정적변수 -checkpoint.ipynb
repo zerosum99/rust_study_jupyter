{
 "cells": [
  {
   "cell_type": "code",
   "execution_count": null,
   "id": "b35f48da",
   "metadata": {},
   "outputs": [],
   "source": []
  },
  {
   "cell_type": "markdown",
   "id": "d544b522",
   "metadata": {},
   "source": [
    "# 1. 상수와 정적 변수 "
   ]
  },
  {
   "cell_type": "markdown",
   "id": "306c28dc",
   "metadata": {},
   "source": [
    "## 1-1. 상수\n",
    "\n",
    "- const로 지정해서 정의\n",
    "- 상수의 값은 상수표현식이 가능한 경우만 할당 가능 "
   ]
  },
  {
   "cell_type": "code",
   "execution_count": null,
   "id": "993e3e77",
   "metadata": {},
   "outputs": [],
   "source": []
  },
  {
   "cell_type": "markdown",
   "id": "5a9c4fe1",
   "metadata": {},
   "source": [
    "## 상수 이름 정의 \n",
    "\n",
    "- 대문자로 표시\n",
    "- 여러 단어를 사용할 때는 스네이크 표기법을 사용해서 단어별로 밑줄을 표시\n",
    "- 스네이크 표기법 사용 : 예 ABC_DEF "
   ]
  },
  {
   "cell_type": "code",
   "execution_count": null,
   "id": "77227e3e",
   "metadata": {},
   "outputs": [],
   "source": []
  },
  {
   "cell_type": "markdown",
   "id": "8fcecc6f",
   "metadata": {},
   "source": [
    "### 상수는 반드시 타입 어노테이션을 지정"
   ]
  },
  {
   "cell_type": "code",
   "execution_count": 8,
   "id": "62d18119",
   "metadata": {},
   "outputs": [
    {
     "ename": "Error",
     "evalue": "missing type for `const` item",
     "output_type": "error",
     "traceback": [
      "\u001b[31mError:\u001b[0m missing type for `const` item",
      "   \u001b[38;5;246m╭\u001b[0m\u001b[38;5;246m─\u001b[0m\u001b[38;5;246m[\u001b[0mcommand_8:1:1\u001b[38;5;246m]\u001b[0m",
      "   \u001b[38;5;246m│\u001b[0m",
      " \u001b[38;5;246m1 │\u001b[0m \u001b[38;5;249mc\u001b[0m\u001b[38;5;249mo\u001b[0m\u001b[38;5;249mn\u001b[0m\u001b[38;5;249ms\u001b[0m\u001b[38;5;249mt\u001b[0m\u001b[38;5;249m \u001b[0m\u001b[38;5;249mC\u001b[0m\u001b[38;5;249mO\u001b[0m\u001b[38;5;249mN\u001b[0m\u001b[38;5;249m_\u001b[0m\u001b[38;5;249mV\u001b[0m\u001b[38;5;249mA\u001b[0m\u001b[38;5;249mR\u001b[0m\u001b[38;5;249m \u001b[0m\u001b[38;5;249m \u001b[0m\u001b[38;5;249m=\u001b[0m\u001b[38;5;249m \u001b[0m\u001b[38;5;249m1\u001b[0m\u001b[38;5;249m0\u001b[0m\u001b[38;5;249m0\u001b[0m\u001b[38;5;249m;\u001b[0m",
      " \u001b[38;5;246m  ·\u001b[0m              \u001b[38;5;54m│\u001b[0m ",
      " \u001b[38;5;246m  ·\u001b[0m              \u001b[38;5;54m╰\u001b[0m\u001b[38;5;54m─\u001b[0m error: missing type for `const` item",
      " \u001b[38;5;246m  ·\u001b[0m              \u001b[38;5;100m│\u001b[0m ",
      " \u001b[38;5;246m  ·\u001b[0m              \u001b[38;5;100m╰\u001b[0m\u001b[38;5;100m─\u001b[0m help: provide a type for the constant: `: i32`",
      "\u001b[38;5;246m───╯\u001b[0m"
     ]
    }
   ],
   "source": [
    "const CON_VAR  = 100; "
   ]
  },
  {
   "cell_type": "markdown",
   "id": "207bf56a",
   "metadata": {},
   "source": [
    "### 상수를 정의할 때는 상수의 이름에 정의된 값에 대한 타입 애노테이션을 지정"
   ]
  },
  {
   "cell_type": "code",
   "execution_count": 4,
   "id": "52d983d7",
   "metadata": {},
   "outputs": [],
   "source": [
    "const CON_VAR : i32  = 100; "
   ]
  },
  {
   "cell_type": "code",
   "execution_count": 5,
   "id": "1522a0ea",
   "metadata": {},
   "outputs": [
    {
     "data": {
      "text/plain": [
       "100"
      ]
     },
     "execution_count": 5,
     "metadata": {},
     "output_type": "execute_result"
    }
   ],
   "source": [
    "CON_VAR"
   ]
  },
  {
   "cell_type": "code",
   "execution_count": null,
   "id": "79f42223",
   "metadata": {},
   "outputs": [],
   "source": []
  },
  {
   "cell_type": "markdown",
   "id": "469dfdd2",
   "metadata": {},
   "source": [
    "### 상수의 정의 영역 "
   ]
  },
  {
   "cell_type": "code",
   "execution_count": 2,
   "id": "7b62ebc9",
   "metadata": {},
   "outputs": [],
   "source": [
    "fn main() {\n",
    "    const CON_VAR1 : i32  = 100; \n",
    "    \n",
    "    println!(\"consts {}\", CON_VAR1);\n",
    "}"
   ]
  },
  {
   "cell_type": "code",
   "execution_count": 3,
   "id": "509ea4bb",
   "metadata": {},
   "outputs": [
    {
     "name": "stdout",
     "output_type": "stream",
     "text": [
      "consts 100\n"
     ]
    }
   ],
   "source": [
    "main();"
   ]
  },
  {
   "cell_type": "markdown",
   "id": "ce8c705f",
   "metadata": {},
   "source": [
    "### 블럭 내에도 정의가 가능 "
   ]
  },
  {
   "cell_type": "code",
   "execution_count": 4,
   "id": "d727f492",
   "metadata": {},
   "outputs": [],
   "source": [
    "const CON_VAR3 : i32  = 100;                  // 전역 상수 \n",
    "\n",
    "fn main() {\n",
    "    const CON_VAR1 : i32  = 100;              // 지역 상수 \n",
    "    {\n",
    "        const CON_VAR2 : i32 = 200;           // 지역내의 지역 상수 \n",
    "         println!(\"consts 2 {}\", CON_VAR2);\n",
    "    }\n",
    "    \n",
    "    println!(\"consts 1 {}\", CON_VAR1);\n",
    "    println!(\"consts  {}\", CON_VAR3);         // 전역에 정의된 상수를 출력 \n",
    "}"
   ]
  },
  {
   "cell_type": "code",
   "execution_count": 15,
   "id": "1adb6c2d",
   "metadata": {},
   "outputs": [
    {
     "name": "stdout",
     "output_type": "stream",
     "text": [
      "consts 2 200\n",
      "consts 1 100\n",
      "consts  100\n"
     ]
    }
   ],
   "source": [
    "main();"
   ]
  },
  {
   "cell_type": "markdown",
   "id": "b61a9b22",
   "metadata": {},
   "source": [
    "### 상수를 정의할 때는 항상 상수표현식의 값으로 처리해야 한다. \n",
    "\n",
    "- 함수의 반환값은 지정할 수 없다. "
   ]
  },
  {
   "cell_type": "code",
   "execution_count": 47,
   "id": "88dae38d",
   "metadata": {},
   "outputs": [],
   "source": [
    "fn func() -> i32 {\n",
    "    32\n",
    "}"
   ]
  },
  {
   "cell_type": "code",
   "execution_count": 48,
   "id": "d835ceb9",
   "metadata": {},
   "outputs": [
    {
     "ename": "Error",
     "evalue": "cannot call non-const fn `func` in constants",
     "output_type": "error",
     "traceback": [
      "\u001b[31m[E0015] Error:\u001b[0m cannot call non-const fn `func` in constants",
      "   \u001b[38;5;246m╭\u001b[0m\u001b[38;5;246m─\u001b[0m\u001b[38;5;246m[\u001b[0mcommand_48:1:1\u001b[38;5;246m]\u001b[0m",
      "   \u001b[38;5;246m│\u001b[0m",
      " \u001b[38;5;246m1 │\u001b[0m \u001b[38;5;249mc\u001b[0m\u001b[38;5;249mo\u001b[0m\u001b[38;5;249mn\u001b[0m\u001b[38;5;249ms\u001b[0m\u001b[38;5;249mt\u001b[0m\u001b[38;5;249m \u001b[0m\u001b[38;5;249mC\u001b[0m\u001b[38;5;249mO\u001b[0m\u001b[38;5;249mN\u001b[0m\u001b[38;5;249m_\u001b[0m\u001b[38;5;249mV\u001b[0m\u001b[38;5;249mA\u001b[0m\u001b[38;5;249mR\u001b[0m\u001b[38;5;249m4\u001b[0m\u001b[38;5;249m \u001b[0m\u001b[38;5;249m:\u001b[0m\u001b[38;5;249m \u001b[0m\u001b[38;5;249mi\u001b[0m\u001b[38;5;249m3\u001b[0m\u001b[38;5;249m2\u001b[0m\u001b[38;5;249m \u001b[0m\u001b[38;5;249m \u001b[0m\u001b[38;5;249m=\u001b[0m\u001b[38;5;249m \u001b[0m\u001b[38;5;54mf\u001b[0m\u001b[38;5;54mu\u001b[0m\u001b[38;5;54mn\u001b[0m\u001b[38;5;54mc\u001b[0m\u001b[38;5;54m(\u001b[0m\u001b[38;5;54m)\u001b[0m\u001b[38;5;249m;\u001b[0m",
      " \u001b[38;5;246m  ·\u001b[0m                         \u001b[38;5;54m─\u001b[0m\u001b[38;5;54m─\u001b[0m\u001b[38;5;54m─\u001b[0m\u001b[38;5;54m┬\u001b[0m\u001b[38;5;54m─\u001b[0m\u001b[38;5;54m─\u001b[0m  ",
      " \u001b[38;5;246m  ·\u001b[0m                            \u001b[38;5;54m╰\u001b[0m\u001b[38;5;54m─\u001b[0m\u001b[38;5;54m─\u001b[0m\u001b[38;5;54m─\u001b[0m\u001b[38;5;54m─\u001b[0m error: cannot call non-const fn `func` in constants",
      "\u001b[38;5;246m───╯\u001b[0m"
     ]
    }
   ],
   "source": [
    "const CON_VAR4 : i32  = func();"
   ]
  },
  {
   "cell_type": "markdown",
   "id": "04625787",
   "metadata": {},
   "source": [
    "### 상수 정의 :  리터럴 값으로 구성된 튜플로 정의 "
   ]
  },
  {
   "cell_type": "code",
   "execution_count": 5,
   "id": "d778cf38",
   "metadata": {},
   "outputs": [],
   "source": [
    "const CON_VAR4 : (i32, i32,i32)  = (10,20,30);         // 튜플일때 기본 자료형일 경우는 상수 정의 가능"
   ]
  },
  {
   "cell_type": "code",
   "execution_count": 7,
   "id": "a82d1f2c",
   "metadata": {},
   "outputs": [
    {
     "name": "stdout",
     "output_type": "stream",
     "text": [
      " (10, 20, 30) \n"
     ]
    }
   ],
   "source": [
    "println!(\" {:?} \", CON_VAR4 );"
   ]
  },
  {
   "cell_type": "markdown",
   "id": "983357d4",
   "metadata": {},
   "source": [
    "### 상수 정의 : 문자열 타입을 가진 튜플 \n",
    "\n",
    "- 리터럴 값만 배정이 가능한 튜플은 가능"
   ]
  },
  {
   "cell_type": "code",
   "execution_count": 50,
   "id": "8d67731e",
   "metadata": {},
   "outputs": [
    {
     "ename": "Error",
     "evalue": "cannot call non-const fn `<str as ToString>::to_string` in constants",
     "output_type": "error",
     "traceback": [
      "const CON_VAR5 : (i32, i32,String)  = (10,20,\"문자열\".to_string());",
      "\u001b[91m                                                   ^^^^^^^^^^^\u001b[0m \u001b[94merror: cannot call non-const fn `<str as ToString>::to_string` in constants\u001b[0m",
      "cannot call non-const fn `<str as ToString>::to_string` in constants"
     ]
    }
   ],
   "source": [
    "const CON_VAR5 : (i32, i32,String)  = (10,20,\"문자열\".to_string());"
   ]
  },
  {
   "cell_type": "code",
   "execution_count": 51,
   "id": "19206efe",
   "metadata": {},
   "outputs": [],
   "source": [
    "const CON_VAR5 : (i32, i32,&str)  = (10,20,\"문자열\");"
   ]
  },
  {
   "cell_type": "markdown",
   "id": "4e45d685",
   "metadata": {},
   "source": [
    "### 상수 정의 :  구조체로 정의할 수 없다.\n",
    "\n",
    "- 반드시 리터럴 등 확정된 값으로 정의만 가능 "
   ]
  },
  {
   "cell_type": "code",
   "execution_count": 54,
   "id": "6683d1c4",
   "metadata": {},
   "outputs": [],
   "source": [
    "struct Pair(i32,i32);"
   ]
  },
  {
   "cell_type": "code",
   "execution_count": 55,
   "id": "4495c233",
   "metadata": {},
   "outputs": [
    {
     "ename": "Error",
     "evalue": "mismatched types",
     "output_type": "error",
     "traceback": [
      "\u001b[31m[E0308] Error:\u001b[0m mismatched types",
      "   \u001b[38;5;246m╭\u001b[0m\u001b[38;5;246m─\u001b[0m\u001b[38;5;246m[\u001b[0mcommand_55:1:1\u001b[38;5;246m]\u001b[0m",
      "   \u001b[38;5;246m│\u001b[0m",
      " \u001b[38;5;246m1 │\u001b[0m \u001b[38;5;249mc\u001b[0m\u001b[38;5;249mo\u001b[0m\u001b[38;5;249mn\u001b[0m\u001b[38;5;249ms\u001b[0m\u001b[38;5;249mt\u001b[0m\u001b[38;5;249m \u001b[0m\u001b[38;5;249mC\u001b[0m\u001b[38;5;249mO\u001b[0m\u001b[38;5;249mN\u001b[0m\u001b[38;5;249m_\u001b[0m\u001b[38;5;249mV\u001b[0m\u001b[38;5;249mA\u001b[0m\u001b[38;5;249mR\u001b[0m\u001b[38;5;249m6\u001b[0m\u001b[38;5;249m \u001b[0m\u001b[38;5;249m:\u001b[0m\u001b[38;5;249m \u001b[0m\u001b[38;5;249mP\u001b[0m\u001b[38;5;249ma\u001b[0m\u001b[38;5;249mi\u001b[0m\u001b[38;5;249mr\u001b[0m\u001b[38;5;249m \u001b[0m\u001b[38;5;249m=\u001b[0m\u001b[38;5;249m \u001b[0m\u001b[38;5;54m(\u001b[0m\u001b[38;5;54m1\u001b[0m\u001b[38;5;54m0\u001b[0m\u001b[38;5;54m,\u001b[0m\u001b[38;5;54m2\u001b[0m\u001b[38;5;54m0\u001b[0m\u001b[38;5;54m)\u001b[0m\u001b[38;5;249m;\u001b[0m",
      " \u001b[38;5;246m  ·\u001b[0m                         \u001b[38;5;54m─\u001b[0m\u001b[38;5;54m─\u001b[0m\u001b[38;5;54m─\u001b[0m\u001b[38;5;54m┬\u001b[0m\u001b[38;5;54m─\u001b[0m\u001b[38;5;54m─\u001b[0m\u001b[38;5;54m─\u001b[0m  ",
      " \u001b[38;5;246m  ·\u001b[0m                            \u001b[38;5;54m╰\u001b[0m\u001b[38;5;54m─\u001b[0m\u001b[38;5;54m─\u001b[0m\u001b[38;5;54m─\u001b[0m\u001b[38;5;54m─\u001b[0m\u001b[38;5;54m─\u001b[0m expected struct `Pair`, found tuple",
      "\u001b[38;5;246m───╯\u001b[0m"
     ]
    }
   ],
   "source": [
    "const CON_VAR6 : Pair = (10,20);"
   ]
  },
  {
   "cell_type": "markdown",
   "id": "23db8844",
   "metadata": {},
   "source": [
    "## 1-2.  전역변수\n",
    "\n",
    "- 전역변수는 static 변수로만 가능하다"
   ]
  },
  {
   "cell_type": "markdown",
   "id": "772dbb84",
   "metadata": {},
   "source": [
    "## 정적변수 \n",
    "\n",
    "- 정적 변수는 별도의 메모리 공간을 가지며, 인라인 되지 않습니다. \n",
    "- 정적 변수는 안전하지 않은(unsafe) 러스트와 임베디드 시스템용 코드에서 유용합니다. \n",
    "- 이들의 수명은 프로그램이 수행되는 전체 시간과 동일합니다."
   ]
  },
  {
   "cell_type": "markdown",
   "id": "b3a64419",
   "metadata": {},
   "source": [
    "## 전역 이름 정의 \n",
    "\n",
    "- 대문자로 표시\n",
    "- 여러 단어를 사용할 때는 스네이크 표기법을 사용해서 단어별로 밑줄을 표시"
   ]
  },
  {
   "cell_type": "markdown",
   "id": "36f8bab2",
   "metadata": {},
   "source": [
    "### 타입 확인 함수 "
   ]
  },
  {
   "cell_type": "code",
   "execution_count": 23,
   "id": "754261c5",
   "metadata": {},
   "outputs": [],
   "source": [
    "// 변수의 타입을 문자열로 확인하기  \n",
    "// , e.g \"i8\", \"u8\", \"i32\", \"u32\"\n",
    "\n",
    "fn type_of<T>(_: &T) -> String {\n",
    "    format!(\"{}\", std::any::type_name::<T>())      // std::any::type_name 이라는 함수를 호출해서 처리한다. \n",
    "}"
   ]
  },
  {
   "cell_type": "code",
   "execution_count": null,
   "id": "05b25b01",
   "metadata": {},
   "outputs": [],
   "source": []
  },
  {
   "cell_type": "code",
   "execution_count": 8,
   "id": "3e7e6265",
   "metadata": {},
   "outputs": [
    {
     "ename": "Error",
     "evalue": "missing type for `static` item",
     "output_type": "error",
     "traceback": [
      "static SOME_INT = 5;                           //  정수 지정 ",
      "\u001b[91m               \u001b[0m \u001b[94merror: missing type for `static` item\u001b[0m",
      "missing type for `static` item",
      "\u001b[1mhelp\u001b[0m: provide a type for the static variable\n\n: i32"
     ]
    }
   ],
   "source": [
    "static SOME_INT = 5;                           //  정수 지정 "
   ]
  },
  {
   "cell_type": "code",
   "execution_count": 9,
   "id": "66e8e307",
   "metadata": {},
   "outputs": [],
   "source": [
    "static SOME_INT : u32 = 5;                           //  정수 지정 "
   ]
  },
  {
   "cell_type": "code",
   "execution_count": null,
   "id": "89e94de1",
   "metadata": {},
   "outputs": [],
   "source": []
  },
  {
   "cell_type": "code",
   "execution_count": null,
   "id": "db5ed149",
   "metadata": {},
   "outputs": [],
   "source": []
  },
  {
   "cell_type": "markdown",
   "id": "da12d21e",
   "metadata": {},
   "source": [
    "### 문자열 리터럴과 문자열 차이\n",
    "\n",
    "- 문자열 리터럴은 더블 따옴표로 만들어진 문자열을 의미한다.\n",
    "- 문자열은 String 구조체로 만들어진 문자열을 의미한다. "
   ]
  },
  {
   "cell_type": "code",
   "execution_count": null,
   "id": "db828557",
   "metadata": {},
   "outputs": [],
   "source": []
  },
  {
   "cell_type": "code",
   "execution_count": 21,
   "id": "24786fc5",
   "metadata": {},
   "outputs": [],
   "source": [
    "let s = \"문자열리터럴\";"
   ]
  },
  {
   "cell_type": "code",
   "execution_count": 26,
   "id": "e31bc04d",
   "metadata": {},
   "outputs": [
    {
     "name": "stdout",
     "output_type": "stream",
     "text": [
      "타입 확인 = &str \n"
     ]
    }
   ],
   "source": [
    "println!(\"타입 확인 = {} \", type_of(&s));"
   ]
  },
  {
   "cell_type": "code",
   "execution_count": 27,
   "id": "d57be632",
   "metadata": {},
   "outputs": [],
   "source": [
    "let ss = String::from(\"문자열\");"
   ]
  },
  {
   "cell_type": "code",
   "execution_count": 28,
   "id": "91f9cd87",
   "metadata": {},
   "outputs": [
    {
     "name": "stdout",
     "output_type": "stream",
     "text": [
      "타입 확인 = alloc::string::String \n"
     ]
    }
   ],
   "source": [
    "println!(\"타입 확인 = {} \", type_of(&ss));"
   ]
  },
  {
   "cell_type": "markdown",
   "id": "2ed5c336",
   "metadata": {},
   "source": [
    "### 문자열 리터럴과 문자열은 다르다.  "
   ]
  },
  {
   "cell_type": "code",
   "execution_count": 29,
   "id": "e38d6ffb",
   "metadata": {},
   "outputs": [
    {
     "ename": "Error",
     "evalue": "mismatched types",
     "output_type": "error",
     "traceback": [
      "\u001b[31m[E0308] Error:\u001b[0m mismatched types",
      "   \u001b[38;5;246m╭\u001b[0m\u001b[38;5;246m─\u001b[0m\u001b[38;5;246m[\u001b[0mcommand_29:1:1\u001b[38;5;246m]\u001b[0m",
      "   \u001b[38;5;246m│\u001b[0m",
      " \u001b[38;5;246m1 │\u001b[0m \u001b[38;5;249ms\u001b[0m\u001b[38;5;249ms\u001b[0m\u001b[38;5;249m \u001b[0m\u001b[38;5;249m=\u001b[0m\u001b[38;5;54ms\u001b[0m\u001b[38;5;249m;\u001b[0m",
      " \u001b[38;5;246m  ·\u001b[0m     \u001b[38;5;54m┬\u001b[0m\u001b[38;5;100m│\u001b[0m ",
      " \u001b[38;5;246m  ·\u001b[0m     \u001b[38;5;54m╰\u001b[0m\u001b[38;5;54m─\u001b[0m\u001b[38;5;54m─\u001b[0m expected struct `String`, found `&str`",
      " \u001b[38;5;246m  ·\u001b[0m      \u001b[38;5;100m│\u001b[0m ",
      " \u001b[38;5;246m  ·\u001b[0m      \u001b[38;5;100m╰\u001b[0m\u001b[38;5;100m─\u001b[0m help: try using a conversion method: `.to_string()`",
      "\u001b[38;5;246m───╯\u001b[0m"
     ]
    }
   ],
   "source": [
    "ss =s;"
   ]
  },
  {
   "cell_type": "code",
   "execution_count": 31,
   "id": "3af1502e",
   "metadata": {},
   "outputs": [],
   "source": [
    "let mut ss1 = String::new();\n",
    "ss1 =s.to_string();        // 문자열 리터럴을 문자열로 변환해서 할당한다"
   ]
  },
  {
   "cell_type": "code",
   "execution_count": null,
   "id": "fe77da54",
   "metadata": {},
   "outputs": [],
   "source": []
  },
  {
   "cell_type": "code",
   "execution_count": 5,
   "id": "b3b1f94d",
   "metadata": {},
   "outputs": [],
   "source": [
    "static SOME_STR: &str = \"A static string\";          // 문자열 리터럴 지정 "
   ]
  },
  {
   "cell_type": "code",
   "execution_count": 6,
   "id": "f1f78f34",
   "metadata": {},
   "outputs": [],
   "source": [
    "static mut DB: String = String::new();"
   ]
  },
  {
   "cell_type": "code",
   "execution_count": 11,
   "id": "084cfb5d",
   "metadata": {},
   "outputs": [],
   "source": [
    "fn main() {\n",
    "    println!(\"{}\", SOME_INT);\n",
    "    println!(\"{}\", SOME_STR);\n",
    "\n",
    "    unsafe {\n",
    "        DB = \"Some(open_database());\".to_string();\n",
    "    }\n",
    "}"
   ]
  },
  {
   "cell_type": "code",
   "execution_count": 12,
   "id": "a3cbf781",
   "metadata": {},
   "outputs": [
    {
     "name": "stdout",
     "output_type": "stream",
     "text": [
      "5\n",
      "A static string\n"
     ]
    },
    {
     "data": {
      "text/plain": [
       "()"
      ]
     },
     "execution_count": 12,
     "metadata": {},
     "output_type": "execute_result"
    }
   ],
   "source": [
    "main()"
   ]
  },
  {
   "cell_type": "code",
   "execution_count": null,
   "id": "38b35c0c",
   "metadata": {},
   "outputs": [],
   "source": []
  },
  {
   "cell_type": "markdown",
   "id": "b638ed6b",
   "metadata": {},
   "source": [
    "### 구조체 정의 \n",
    "\n",
    "- 러스트는 클래스가 없고 구조체를 정의해서 사용한다.\n",
    "- 구조체는 별도의 메서드 없이 구조체 리터럴로 인스턴스를 생성할 수 있다."
   ]
  },
  {
   "cell_type": "code",
   "execution_count": 15,
   "id": "b98a36d5",
   "metadata": {},
   "outputs": [],
   "source": [
    "#[derive(Debug)]               // 구조체는 println 매크로에 출력할 수 없어서 속성을 사용해서 출력가능하도록 만든다.\n",
    "struct MyStruct {\n",
    "    number: i32,               // 구조체 필드 정의 \n",
    "    string: &'static str,\n",
    "}"
   ]
  },
  {
   "cell_type": "code",
   "execution_count": 16,
   "id": "a1824d67",
   "metadata": {},
   "outputs": [],
   "source": [
    "let my = MyStruct { number : 33, string : \"구조체\"};"
   ]
  },
  {
   "cell_type": "markdown",
   "id": "9d0435dd",
   "metadata": {},
   "source": [
    "### 구조체를 출력하려면 플레이스홀드에  {:?} 를 사용 "
   ]
  },
  {
   "cell_type": "code",
   "execution_count": 17,
   "id": "8d605caf",
   "metadata": {},
   "outputs": [
    {
     "name": "stdout",
     "output_type": "stream",
     "text": [
      "MyStruct { number: 33, string: \"구조체\" }\n"
     ]
    }
   ],
   "source": [
    "println!(\"{:?}\",my);"
   ]
  },
  {
   "cell_type": "markdown",
   "id": "405de48c",
   "metadata": {},
   "source": [
    "### 구조체룰 필드별로 출력할 때는 플레이스홀드에  {:#?}로 지정한다"
   ]
  },
  {
   "cell_type": "code",
   "execution_count": 18,
   "id": "069198ff",
   "metadata": {},
   "outputs": [
    {
     "name": "stdout",
     "output_type": "stream",
     "text": [
      "MyStruct {\n",
      "    number: 33,\n",
      "    string: \"구조체\",\n",
      "}\n"
     ]
    }
   ],
   "source": [
    "println!(\"{:#?}\",my);"
   ]
  },
  {
   "cell_type": "code",
   "execution_count": 19,
   "id": "83e47478",
   "metadata": {},
   "outputs": [],
   "source": [
    "static SOME_STRUCT: MyStruct = MyStruct {           // 구조체 지정 \n",
    "    number: 10,\n",
    "    string: \"Some string\",\n",
    "};"
   ]
  },
  {
   "cell_type": "markdown",
   "id": "b1be3008",
   "metadata": {},
   "source": [
    "### 전역변수도 반드시 타입 애노테이션을 지정해야 한다.\n"
   ]
  },
  {
   "cell_type": "markdown",
   "id": "47bceb82",
   "metadata": {},
   "source": [
    "### 전역변수를 지정해서 출력하기 \n",
    "\n",
    "- 전역변수는 static 키워드로 지정\n",
    "- 타입 애노테이션을 지정한다. "
   ]
  },
  {
   "cell_type": "code",
   "execution_count": 20,
   "id": "0d02e089",
   "metadata": {},
   "outputs": [],
   "source": [
    "fn main() {\n",
    "\n",
    "    println!(\"{}\", SOME_STRUCT.number);\n",
    "    println!(\"{}\", SOME_STRUCT.string);\n",
    "\n",
    "    unsafe {\n",
    "        DB = \"Some(open_database());\".to_string();\n",
    "    }\n",
    "}"
   ]
  },
  {
   "cell_type": "code",
   "execution_count": 21,
   "id": "503ebbb0",
   "metadata": {},
   "outputs": [
    {
     "name": "stdout",
     "output_type": "stream",
     "text": [
      "10\n",
      "Some string\n"
     ]
    }
   ],
   "source": [
    "main();"
   ]
  },
  {
   "cell_type": "code",
   "execution_count": null,
   "id": "b5807495",
   "metadata": {},
   "outputs": [],
   "source": []
  }
 ],
 "metadata": {
  "kernelspec": {
   "display_name": "Rust",
   "language": "rust",
   "name": "rust"
  },
  "language_info": {
   "codemirror_mode": "rust",
   "file_extension": ".rs",
   "mimetype": "text/rust",
   "name": "Rust",
   "pygment_lexer": "rust",
   "version": ""
  }
 },
 "nbformat": 4,
 "nbformat_minor": 5
}
