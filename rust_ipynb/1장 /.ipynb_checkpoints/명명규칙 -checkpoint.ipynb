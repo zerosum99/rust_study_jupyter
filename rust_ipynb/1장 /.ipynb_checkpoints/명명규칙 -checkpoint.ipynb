{
 "cells": [
  {
   "cell_type": "code",
   "execution_count": null,
   "id": "b5a680cb",
   "metadata": {},
   "outputs": [],
   "source": []
  },
  {
   "cell_type": "markdown",
   "id": "8db813fd",
   "metadata": {},
   "source": [
    "## 변수 명명규칙 \n",
    "\n",
    "- 변수 : snake_case를 사용합니다. 예를 들어, user_name 같이 단어 사이를 언더스코어(_)로 구분합니다."
   ]
  },
  {
   "cell_type": "code",
   "execution_count": null,
   "id": "6ca9da7d",
   "metadata": {},
   "outputs": [],
   "source": []
  },
  {
   "cell_type": "markdown",
   "id": "76aa6df1",
   "metadata": {},
   "source": [
    "## 상수 명명규칙 \n",
    "\n",
    "- SCREAMING_SNAKE_CASE를 사용합니다. \n",
    "- 상수 이름은 대문자로 작성하고, 단어 사이를 언더스코어(_)로 구분합니다. 예를 들어, MAX_NUM, PI와 같이 작성합니다."
   ]
  },
  {
   "cell_type": "code",
   "execution_count": null,
   "id": "ce9928d9",
   "metadata": {},
   "outputs": [],
   "source": []
  },
  {
   "cell_type": "markdown",
   "id": "77151b6e",
   "metadata": {},
   "source": [
    "## 함수 및 메서드 명명규칙\n",
    "\n",
    "- 함수, 메서드: snake_case를 사용합니다. \n",
    "- 예를 들어, calculate_area()와 같이 단어 사이를 언더스코어(_)로 구분합니다."
   ]
  },
  {
   "cell_type": "code",
   "execution_count": null,
   "id": "50d60289",
   "metadata": {},
   "outputs": [],
   "source": []
  },
  {
   "cell_type": "code",
   "execution_count": null,
   "id": "4370cc01",
   "metadata": {},
   "outputs": [],
   "source": []
  },
  {
   "cell_type": "markdown",
   "id": "baa7d676",
   "metadata": {},
   "source": [
    "## 구조체의 명명규칙\n",
    "\n",
    "- CamelCase를 사용하는 것이 관례입니다. 구조체의 이름은 대문자로 시작하고, 단어의 첫 글자를 대문자로 적습니다."
   ]
  },
  {
   "cell_type": "code",
   "execution_count": 2,
   "id": "77cc33c9",
   "metadata": {},
   "outputs": [],
   "source": [
    "struct UserInfo {\n",
    "    name: String,\n",
    "    age: u32,\n",
    "    email: Option<String>,\n",
    "}"
   ]
  },
  {
   "cell_type": "code",
   "execution_count": null,
   "id": "e31a0919",
   "metadata": {},
   "outputs": [],
   "source": []
  },
  {
   "cell_type": "markdown",
   "id": "cb5997ff",
   "metadata": {},
   "source": [
    "## 열거형 명명규칙 \n",
    "\n",
    "- CamelCase를 사용합니다. \n",
    "- 예를 들어, UserInfo, LogLevel과 같이 첫 글자를 대문자로 적고, 단어 사이를 대문자로 구분합니다."
   ]
  },
  {
   "cell_type": "code",
   "execution_count": null,
   "id": "47b74996",
   "metadata": {},
   "outputs": [],
   "source": []
  },
  {
   "cell_type": "markdown",
   "id": "61b9afd7",
   "metadata": {},
   "source": [
    "## 트레잇 명명규칙 \n",
    "\n",
    "- CamelCase를 사용합니다. \n",
    "- 예를 들어, UserInfo, LogLevel과 같이 첫 글자를 대문자로 적고, 단어 사이를 대문자로 구분합니다."
   ]
  },
  {
   "cell_type": "code",
   "execution_count": null,
   "id": "4c2dc2ac",
   "metadata": {},
   "outputs": [],
   "source": []
  },
  {
   "cell_type": "markdown",
   "id": "252f72de",
   "metadata": {},
   "source": [
    "## 제네릭 타입 매개변수 \n",
    "\n",
    "-  CamelCase를 사용합니다. 예를 들어, T, U와 같이 작성합니다."
   ]
  },
  {
   "cell_type": "code",
   "execution_count": null,
   "id": "64882ed7",
   "metadata": {},
   "outputs": [],
   "source": []
  },
  {
   "cell_type": "markdown",
   "id": "dabc464f",
   "metadata": {},
   "source": [
    "## 수명 매개변수 \n",
    "\n",
    "-  소문자 한단어나 static 사용합니다. 예를 들어, 'a, 'b와 같이 작성합니다."
   ]
  },
  {
   "cell_type": "code",
   "execution_count": null,
   "id": "b1f6df84",
   "metadata": {},
   "outputs": [],
   "source": []
  },
  {
   "cell_type": "markdown",
   "id": "dddc9672",
   "metadata": {},
   "source": [
    "## 모듈 명명규칙 \n",
    "\n",
    "- snake_case를 사용합니다. 모듈 이름은 모듈이 속한 파일의 이름과 일치시키는 것이 관례입니다."
   ]
  },
  {
   "cell_type": "code",
   "execution_count": null,
   "id": "f73c129d",
   "metadata": {},
   "outputs": [],
   "source": []
  },
  {
   "cell_type": "markdown",
   "id": "e1b06342",
   "metadata": {},
   "source": [
    "## 패키지 명명규칙 \n",
    "\n",
    "-  snake_case를 사용합니다. 패키지 이름은 Cargo.toml 파일에서 name 필드에 정의됩니다."
   ]
  },
  {
   "cell_type": "code",
   "execution_count": null,
   "id": "bd39760e",
   "metadata": {},
   "outputs": [],
   "source": []
  },
  {
   "cell_type": "code",
   "execution_count": null,
   "id": "85bec970",
   "metadata": {},
   "outputs": [],
   "source": []
  }
 ],
 "metadata": {
  "kernelspec": {
   "display_name": "Rust",
   "language": "rust",
   "name": "rust"
  },
  "language_info": {
   "codemirror_mode": "rust",
   "file_extension": ".rs",
   "mimetype": "text/rust",
   "name": "Rust",
   "pygment_lexer": "rust",
   "version": ""
  }
 },
 "nbformat": 4,
 "nbformat_minor": 5
}
