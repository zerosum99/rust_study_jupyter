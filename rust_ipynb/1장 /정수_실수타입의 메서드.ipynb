{
 "cells": [
  {
   "cell_type": "code",
   "execution_count": null,
   "id": "a3bfa3c8",
   "metadata": {},
   "outputs": [],
   "source": []
  },
  {
   "cell_type": "markdown",
   "id": "4527362c",
   "metadata": {},
   "source": [
    "## 불변 메서드  : i32"
   ]
  },
  {
   "cell_type": "code",
   "execution_count": 5,
   "id": "bb8ea5d2",
   "metadata": {},
   "outputs": [],
   "source": [
    "fn main() {\n",
    "    let x: i32 = -10;\n",
    "\n",
    "    // 불변 메서드 사용\n",
    "    println!(\"x.abs() = {} , {}\", x.abs(), x);\n",
    "    println!(\"x.count_ones() = {}\", x.count_ones());\n",
    "    println!(\"x.leading_zeros() = {}\", x.leading_zeros());\n",
    "    println!(\"x.trailing_zeros() = {}\", x.trailing_zeros());\n",
    "}"
   ]
  },
  {
   "cell_type": "code",
   "execution_count": 6,
   "id": "1484123e",
   "metadata": {},
   "outputs": [
    {
     "name": "stdout",
     "output_type": "stream",
     "text": [
      "x.abs() = 10 , -10\n",
      "x.count_ones() = 30\n",
      "x.leading_zeros() = 0\n",
      "x.trailing_zeros() = 1\n"
     ]
    }
   ],
   "source": [
    "main();"
   ]
  },
  {
   "cell_type": "markdown",
   "id": "d09a2325",
   "metadata": {},
   "source": [
    "## 불변 메서드  : u32"
   ]
  },
  {
   "cell_type": "code",
   "execution_count": 12,
   "id": "e50c794c",
   "metadata": {},
   "outputs": [],
   "source": [
    "fn main() {\n",
    "    let x: u32 = 10;\n",
    "\n",
    "    // 불변 메서드 사용\n",
    "    println!(\"x.count_ones() = {}\", x.count_ones());\n",
    "    println!(\"x.leading_zeros() = {}\", x.leading_zeros());\n",
    "    println!(\"x.trailing_zeros() = {}\", x.trailing_zeros());\n",
    "}"
   ]
  },
  {
   "cell_type": "code",
   "execution_count": 13,
   "id": "65c21320",
   "metadata": {},
   "outputs": [
    {
     "name": "stdout",
     "output_type": "stream",
     "text": [
      "x.count_ones() = 2\n",
      "x.leading_zeros() = 28\n",
      "x.trailing_zeros() = 1\n"
     ]
    },
    {
     "data": {
      "text/plain": [
       "()"
      ]
     },
     "execution_count": 13,
     "metadata": {},
     "output_type": "execute_result"
    }
   ],
   "source": [
    "main()"
   ]
  },
  {
   "cell_type": "code",
   "execution_count": null,
   "id": "5697777b",
   "metadata": {},
   "outputs": [],
   "source": []
  },
  {
   "cell_type": "markdown",
   "id": "eedf0c37",
   "metadata": {},
   "source": [
    "## 가변 메서드\n",
    "\n",
    "- 트레이트를 사용하고 이 메서드를 사용해야 함 \n",
    "- 정수와 실수에 모두 반영된다. "
   ]
  },
  {
   "cell_type": "code",
   "execution_count": 10,
   "id": "d6375ee8",
   "metadata": {},
   "outputs": [],
   "source": [
    "use std::ops::Add;\n",
    "use std::ops::Sub;\n",
    "use std::ops::Mul;\n",
    "use std::ops::Div;\n",
    "use std::ops::Rem;\n",
    "\n",
    "fn main() {\n",
    "    let mut x: i32 = 10;\n",
    "\n",
    "    // 가변 메서드 사용\n",
    "    x = x.add(20);\n",
    "    println!(\"x = {}\", x);\n",
    "\n",
    "    x = x.sub(5);\n",
    "    println!(\"x = {}\", x);\n",
    "\n",
    "    x = x.mul(2);\n",
    "    println!(\"x = {}\", x);\n",
    "\n",
    "    x = x.div(4);\n",
    "    println!(\"x = {}\", x);\n",
    "\n",
    "    x = x.rem(3);\n",
    "    println!(\"x = {}\", x);\n",
    "}"
   ]
  },
  {
   "cell_type": "code",
   "execution_count": 11,
   "id": "3af16819",
   "metadata": {},
   "outputs": [
    {
     "name": "stdout",
     "output_type": "stream",
     "text": [
      "x = 30\n",
      "x = 25\n",
      "x = 50\n",
      "x = 12\n",
      "x = 0\n"
     ]
    }
   ],
   "source": [
    "main();"
   ]
  },
  {
   "cell_type": "code",
   "execution_count": 14,
   "id": "087ecb22",
   "metadata": {},
   "outputs": [],
   "source": [
    "fn main() {\n",
    "    let mut x: u32 = 10;\n",
    "\n",
    "    // 가변 메서드 사용\n",
    "    x = x.add(20);\n",
    "    println!(\"x = {}\", x);\n",
    "\n",
    "    x = x.sub(5);\n",
    "    println!(\"x = {}\", x);\n",
    "\n",
    "    x = x.mul(2);\n",
    "    println!(\"x = {}\", x);\n",
    "\n",
    "    x = x.div(4);\n",
    "    println!(\"x = {}\", x);\n",
    "\n",
    "    x = x.rem(3);\n",
    "    println!(\"x = {}\", x);\n",
    "}"
   ]
  },
  {
   "cell_type": "code",
   "execution_count": 15,
   "id": "9bb6a11d",
   "metadata": {},
   "outputs": [
    {
     "name": "stdout",
     "output_type": "stream",
     "text": [
      "x = 30\n",
      "x = 25\n",
      "x = 50\n",
      "x = 12\n",
      "x = 0\n"
     ]
    }
   ],
   "source": [
    "main();"
   ]
  },
  {
   "cell_type": "markdown",
   "id": "d4e21820",
   "metadata": {},
   "source": [
    "## 2.  실수 "
   ]
  },
  {
   "cell_type": "markdown",
   "id": "a50e3149",
   "metadata": {},
   "source": [
    "## 사칙연산"
   ]
  },
  {
   "cell_type": "code",
   "execution_count": 18,
   "id": "952c695f",
   "metadata": {},
   "outputs": [],
   "source": [
    "fn main() {\n",
    "    let x = 1.23_f32;\n",
    "    let y = 4.56_f32;\n",
    "\n",
    "    let sum = x.add(y);\n",
    "    println!(\"{} + {} = {}\", x, y, sum);\n",
    "\n",
    "    let a = 1.23_f64;\n",
    "    let b = 4.56_f64;\n",
    "\n",
    "    let sum = a.add(b);\n",
    "    println!(\"{} + {} = {}\", a, b, sum);\n",
    "}"
   ]
  },
  {
   "cell_type": "code",
   "execution_count": 19,
   "id": "76bc7a7f",
   "metadata": {},
   "outputs": [
    {
     "name": "stdout",
     "output_type": "stream",
     "text": [
      "1.23 + 4.56 = 5.79\n",
      "1.23 + 4.56 = 5.789999999999999\n"
     ]
    }
   ],
   "source": [
    "main();"
   ]
  },
  {
   "cell_type": "markdown",
   "id": "e1145244",
   "metadata": {},
   "source": [
    "## 수학 메서드\n",
    "\n",
    "- abs(): f32 값의 절댓값을 반환합니다.\n",
    "- sqrt(): f32 값의 제곱근을 반환합니다.\n",
    "- cos(): f32 값의 코사인을 반환합니다.\n",
    "- sin(): f32 값의 사인을 반환합니다.\n",
    "- tan(): f32 값의 탄젠트를 반환합니다."
   ]
  },
  {
   "cell_type": "code",
   "execution_count": 16,
   "id": "c056579e",
   "metadata": {},
   "outputs": [],
   "source": [
    "fn main() {\n",
    "    let x = 4.0_f32;\n",
    "    println!(\"x: {}\", x);\n",
    "\n",
    "    let abs_x = x.abs();\n",
    "    println!(\"Absolute value of x: {}\", abs_x);\n",
    "\n",
    "    let sqrt_x = x.sqrt();\n",
    "    println!(\"Square root of x: {}\", sqrt_x);\n",
    "\n",
    "    let cos_x = x.cos();\n",
    "    println!(\"Cosine of x: {}\", cos_x);\n",
    "\n",
    "    let sin_x = x.sin();\n",
    "    println!(\"Sine of x: {}\", sin_x);\n",
    "\n",
    "    let tan_x = x.tan();\n",
    "    println!(\"Tangent of x: {}\", tan_x);\n",
    "}"
   ]
  },
  {
   "cell_type": "code",
   "execution_count": 17,
   "id": "5f8a8ac5",
   "metadata": {},
   "outputs": [
    {
     "name": "stdout",
     "output_type": "stream",
     "text": [
      "x: 4\n",
      "Absolute value of x: 4\n",
      "Square root of x: 2\n",
      "Cosine of x: -0.6536436\n",
      "Sine of x: -0.7568025\n",
      "Tangent of x: 1.1578213\n"
     ]
    }
   ],
   "source": [
    "main();"
   ]
  },
  {
   "cell_type": "code",
   "execution_count": null,
   "id": "6eb7bf03",
   "metadata": {},
   "outputs": [],
   "source": []
  }
 ],
 "metadata": {
  "kernelspec": {
   "display_name": "Rust",
   "language": "rust",
   "name": "rust"
  },
  "language_info": {
   "codemirror_mode": "rust",
   "file_extension": ".rs",
   "mimetype": "text/rust",
   "name": "Rust",
   "pygment_lexer": "rust",
   "version": ""
  }
 },
 "nbformat": 4,
 "nbformat_minor": 5
}
