{
 "cells": [
  {
   "cell_type": "code",
   "execution_count": null,
   "id": "b35f48da",
   "metadata": {},
   "outputs": [],
   "source": []
  },
  {
   "cell_type": "markdown",
   "id": "25e3beb7",
   "metadata": {},
   "source": [
    "# 1. 변수 정의하기 \n",
    "\n",
    "- 변수 정의는 let 과 변수명을 사용한다.\n",
    "- 변수는 가변과 불변으로 정의할 수 있다.\n",
    "- 불변 변수는 한번 정의하면 다시 갱신할 수 없다.\n",
    "- 가변 변수는 정의한 후에 계속 값을 변경할 수 있다."
   ]
  },
  {
   "cell_type": "markdown",
   "id": "4bab0b00",
   "metadata": {},
   "source": [
    "##  1-1. 변경불가능한 변수 와 변경가능한 변수 \n",
    "\n"
   ]
  },
  {
   "cell_type": "markdown",
   "id": "89ddeee7",
   "metadata": {},
   "source": [
    "## 변수 이름 정의 \n",
    "\n",
    "- 소문자로 표시\n",
    "- 여러 단어를 사용할 때는 스네이크 표기법을 사용해서 단어별로 밑줄을 표시"
   ]
  },
  {
   "cell_type": "markdown",
   "id": "a7fb729b",
   "metadata": {},
   "source": [
    "### 변경가능한 변수 \n",
    "- 한 번 변수가 정의되면 다시 갱신할 수 없다.\n",
    "\n",
    "- 변수는 let 으로 변수명을 바이딩 처리한다."
   ]
  },
  {
   "cell_type": "code",
   "execution_count": 2,
   "id": "252c5886",
   "metadata": {},
   "outputs": [],
   "source": [
    "let immu_var = 300;"
   ]
  },
  {
   "cell_type": "code",
   "execution_count": 3,
   "id": "cef1da3a",
   "metadata": {},
   "outputs": [
    {
     "name": "stdout",
     "output_type": "stream",
     "text": [
      " 변수 출력 300\n"
     ]
    }
   ],
   "source": [
    "println!(\" 변수 출력 {immu_var}\");"
   ]
  },
  {
   "cell_type": "markdown",
   "id": "05b82a7e",
   "metadata": {},
   "source": [
    "### 현재 변수의 포인터인 참조를 출력한다."
   ]
  },
  {
   "cell_type": "code",
   "execution_count": 4,
   "id": "aa83de29",
   "metadata": {},
   "outputs": [
    {
     "name": "stdout",
     "output_type": "stream",
     "text": [
      " 변수의 포인터 0x16d026db4\n"
     ]
    }
   ],
   "source": [
    "println!(\" 변수의 포인터 {:p}\" , &immu_var);"
   ]
  },
  {
   "cell_type": "markdown",
   "id": "17505463",
   "metadata": {},
   "source": [
    "### 러스트 변수는 기본으로 불변 즉 재할당이 불가하다\n",
    "\n",
    "- cannot assign twice to immutable variable"
   ]
  },
  {
   "cell_type": "code",
   "execution_count": 5,
   "id": "9d641b30",
   "metadata": {},
   "outputs": [
    {
     "ename": "Error",
     "evalue": "cannot assign twice to immutable variable `immu_var`",
     "output_type": "error",
     "traceback": [
      "\u001b[31m[E0384] Error:\u001b[0m cannot assign twice to immutable variable `immu_var`",
      "   \u001b[38;5;246m╭\u001b[0m\u001b[38;5;246m─\u001b[0m\u001b[38;5;246m[\u001b[0mcommand_5:1:1\u001b[38;5;246m]\u001b[0m",
      "   \u001b[38;5;246m│\u001b[0m",
      " \u001b[38;5;246m1 │\u001b[0m \u001b[38;5;54mi\u001b[0m\u001b[38;5;54mm\u001b[0m\u001b[38;5;54mm\u001b[0m\u001b[38;5;54mu\u001b[0m\u001b[38;5;54m_\u001b[0m\u001b[38;5;54mv\u001b[0m\u001b[38;5;54ma\u001b[0m\u001b[38;5;54mr\u001b[0m\u001b[38;5;54m \u001b[0m\u001b[38;5;54m=\u001b[0m\u001b[38;5;54m \u001b[0m\u001b[38;5;54m4\u001b[0m\u001b[38;5;54m0\u001b[0m\u001b[38;5;54m0\u001b[0m\u001b[38;5;249m;\u001b[0m",
      " \u001b[38;5;246m  ·\u001b[0m \u001b[38;5;54m─\u001b[0m\u001b[38;5;54m─\u001b[0m\u001b[38;5;54m─\u001b[0m\u001b[38;5;54m─\u001b[0m\u001b[38;5;54m─\u001b[0m\u001b[38;5;54m─\u001b[0m\u001b[38;5;54m─\u001b[0m\u001b[38;5;54m┬\u001b[0m\u001b[38;5;54m─\u001b[0m\u001b[38;5;54m─\u001b[0m\u001b[38;5;54m─\u001b[0m\u001b[38;5;54m─\u001b[0m\u001b[38;5;54m─\u001b[0m\u001b[38;5;54m─\u001b[0m  ",
      " \u001b[38;5;246m  ·\u001b[0m        \u001b[38;5;54m╰\u001b[0m\u001b[38;5;54m─\u001b[0m\u001b[38;5;54m─\u001b[0m\u001b[38;5;54m─\u001b[0m\u001b[38;5;54m─\u001b[0m\u001b[38;5;54m─\u001b[0m\u001b[38;5;54m─\u001b[0m\u001b[38;5;54m─\u001b[0m\u001b[38;5;54m─\u001b[0m cannot assign twice to immutable variable",
      " \u001b[38;5;246m  ·\u001b[0m ",
      " \u001b[38;5;246m  ·\u001b[0m \u001b[38;5;115mNote\u001b[0m: You can change an existing variable to mutable like: `let mut x = x;`",
      "\u001b[38;5;246m───╯\u001b[0m"
     ]
    }
   ],
   "source": [
    "immu_var = 400;"
   ]
  },
  {
   "cell_type": "markdown",
   "id": "19b0e3d7",
   "metadata": {},
   "source": [
    "### 변경가능한 변수 \n",
    "\n",
    "- 한번 정의한 후에 계속 변경할 수 있다.\n",
    "- mut 키워드를 let 과 변수명 사이에 지정한다. \n",
    "- 변경가능한 변수는 계속 할당이 가능하다"
   ]
  },
  {
   "cell_type": "code",
   "execution_count": 7,
   "id": "7ac21cef",
   "metadata": {},
   "outputs": [],
   "source": [
    "let mut  mut_var = 300;"
   ]
  },
  {
   "cell_type": "code",
   "execution_count": 8,
   "id": "46c1cb4a",
   "metadata": {},
   "outputs": [
    {
     "name": "stdout",
     "output_type": "stream",
     "text": [
      " 변경가능한 변수의 포인터 0x16d026db4\n"
     ]
    }
   ],
   "source": [
    "println!(\" 변경가능한 변수의 포인터 {:p}\" , &mut_var);"
   ]
  },
  {
   "cell_type": "code",
   "execution_count": 9,
   "id": "7bd7795a",
   "metadata": {},
   "outputs": [],
   "source": [
    "mut_var += 400;"
   ]
  },
  {
   "cell_type": "code",
   "execution_count": 10,
   "id": "7714b955",
   "metadata": {},
   "outputs": [
    {
     "name": "stdout",
     "output_type": "stream",
     "text": [
      " 변경가능한 변수의 포인터 0x16d026db4\n"
     ]
    }
   ],
   "source": [
    "println!(\" 변경가능한 변수의 포인터 {:p}\" , &mut_var);"
   ]
  },
  {
   "cell_type": "code",
   "execution_count": 11,
   "id": "8188b364",
   "metadata": {},
   "outputs": [
    {
     "data": {
      "text/plain": [
       "700"
      ]
     },
     "execution_count": 11,
     "metadata": {},
     "output_type": "execute_result"
    }
   ],
   "source": [
    "mut_var"
   ]
  },
  {
   "cell_type": "code",
   "execution_count": null,
   "id": "10d78583",
   "metadata": {},
   "outputs": [],
   "source": []
  },
  {
   "cell_type": "markdown",
   "id": "f96517c9",
   "metadata": {},
   "source": [
    "## 1-2 값에 대해 알아보기"
   ]
  },
  {
   "cell_type": "markdown",
   "id": "2ffd4411",
   "metadata": {},
   "source": [
    "### 정수에 대한 값을 처리"
   ]
  },
  {
   "cell_type": "code",
   "execution_count": 12,
   "id": "7e4ce439",
   "metadata": {},
   "outputs": [
    {
     "data": {
      "text/plain": [
       "300"
      ]
     },
     "execution_count": 12,
     "metadata": {},
     "output_type": "execute_result"
    }
   ],
   "source": [
    "300"
   ]
  },
  {
   "cell_type": "code",
   "execution_count": 13,
   "id": "238a1acb",
   "metadata": {},
   "outputs": [
    {
     "name": "stdout",
     "output_type": "stream",
     "text": [
      " 값에 대한 포인터  0x1043ab7c4\n"
     ]
    }
   ],
   "source": [
    "println!(\" 값에 대한 포인터  {:p}\" , &300);"
   ]
  },
  {
   "cell_type": "code",
   "execution_count": 14,
   "id": "f31549ee",
   "metadata": {},
   "outputs": [],
   "source": [
    "let ivar = 300;"
   ]
  },
  {
   "cell_type": "code",
   "execution_count": 15,
   "id": "055e2581",
   "metadata": {},
   "outputs": [
    {
     "name": "stdout",
     "output_type": "stream",
     "text": [
      " 값에 대한 포인터  0x16d026da4\n"
     ]
    }
   ],
   "source": [
    "println!(\" 값에 대한 포인터  {:p}\" , &ivar);"
   ]
  },
  {
   "cell_type": "markdown",
   "id": "5a88fb60",
   "metadata": {},
   "source": [
    "### 정수 값의 주소가 바뀌는 것은 사용할 때마다 새롭게 만들어진다."
   ]
  },
  {
   "cell_type": "code",
   "execution_count": 16,
   "id": "929749bc",
   "metadata": {},
   "outputs": [
    {
     "name": "stdout",
     "output_type": "stream",
     "text": [
      " 값에 대한 포인터  0x1043db7b4\n"
     ]
    }
   ],
   "source": [
    "println!(\" 값에 대한 포인터  {:p}\" , &300);"
   ]
  },
  {
   "cell_type": "code",
   "execution_count": null,
   "id": "98130fa6",
   "metadata": {},
   "outputs": [],
   "source": []
  },
  {
   "cell_type": "markdown",
   "id": "26700f10",
   "metadata": {},
   "source": [
    "## 1-3. 타입 애노테이션 처리하기\n",
    "\n",
    "- 변수에 타입을 명시적으로 지정할 수 있다.\n"
   ]
  },
  {
   "cell_type": "markdown",
   "id": "46c11fdd",
   "metadata": {},
   "source": [
    "### 러스트의 프로그램 실행은 main 함수로 처리\n",
    "\n",
    "- main 함수의 특징은 매개변수가 없고 반환값도 없다."
   ]
  },
  {
   "cell_type": "code",
   "execution_count": 17,
   "id": "757767d4",
   "metadata": {},
   "outputs": [],
   "source": [
    "fn main() {\n",
    "    println!(\"Hello World!\");\n",
    "}"
   ]
  },
  {
   "cell_type": "code",
   "execution_count": 18,
   "id": "3bf7d0d1",
   "metadata": {},
   "outputs": [
    {
     "name": "stdout",
     "output_type": "stream",
     "text": [
      "Hello World!\n"
     ]
    },
    {
     "data": {
      "text/plain": [
       "()"
      ]
     },
     "execution_count": 18,
     "metadata": {},
     "output_type": "execute_result"
    }
   ],
   "source": [
    "main()"
   ]
  },
  {
   "cell_type": "markdown",
   "id": "58a21e0b",
   "metadata": {},
   "source": [
    "### 자료형을 알아보는 함수 정의하기 \n",
    "\n",
    "- 자료형을 알아보기 위해 제너릭 함수를 정의한다.\n",
    "- 제너릭함수는 타입 매개변수를 임의의 문자로 정의한다.\n",
    "- 타입 매개변수를 지정하는 위치는 함수명과 매개변수 정의 사이에 < > 사이에 정의\n",
    "- 제너릭함수의 타입 매개변수는 매개변수의 타입 애노테이션과 반환값의 타입 애노테이션으로 사용한다."
   ]
  },
  {
   "cell_type": "markdown",
   "id": "3a65e368",
   "metadata": {},
   "source": [
    "#### 문자열로 포매팅하는 매크로\n",
    "\n",
    "-  매크로는 함수가 아니라서 호출할 때  이름 다음에 ! 를 붙여서 매크로를 명기한다.\n",
    "-  매크로는 컴파일할 때 적절한 코드로 전환된다. "
   ]
  },
  {
   "cell_type": "code",
   "execution_count": 25,
   "id": "7f82a783",
   "metadata": {},
   "outputs": [
    {
     "data": {
      "text/plain": [
       "\"가을겨울\""
      ]
     },
     "execution_count": 25,
     "metadata": {},
     "output_type": "execute_result"
    }
   ],
   "source": [
    "format!(\"{}{}\", \"가을\", \"겨울\")  "
   ]
  },
  {
   "cell_type": "code",
   "execution_count": 22,
   "id": "b313a18f",
   "metadata": {},
   "outputs": [],
   "source": [
    "// 변수의 타입을 문자열로 확인하기  \n",
    "// , e.g \"i8\", \"u8\", \"i32\", \"u32\"\n",
    "\n",
    "fn type_of<T>(_: &T) -> String {\n",
    "    format!(\"{}\", std::any::type_name::<T>())      // std::any::type_name 이라는 함수를 호출해서 처리한다. \n",
    "}"
   ]
  },
  {
   "cell_type": "code",
   "execution_count": 23,
   "id": "061bf5f7",
   "metadata": {},
   "outputs": [
    {
     "data": {
      "text/plain": [
       "\"alloc::string::String\""
      ]
     },
     "execution_count": 23,
     "metadata": {},
     "output_type": "execute_result"
    }
   ],
   "source": [
    "std::any::type_name::<String>()"
   ]
  },
  {
   "cell_type": "code",
   "execution_count": null,
   "id": "d033c6f4",
   "metadata": {},
   "outputs": [],
   "source": []
  },
  {
   "cell_type": "markdown",
   "id": "82bac86e",
   "metadata": {},
   "source": [
    "### 메인 함수 내부에 변수 정의\n",
    "\n",
    "- 가변과 불변의 변수를 정의 \n",
    "- 변수에 한번과 여러번 할당이 가능한 경우에 따라서 변수를 정의한다.\n",
    "- 변수를 정읠할 때 타입 애노테이션을 붙이는 이유는 명시적인 자료형을 확정하기 위해서이다. "
   ]
  },
  {
   "cell_type": "markdown",
   "id": "3d05e2d4",
   "metadata": {},
   "source": [
    "### 러스트는 타입이 동일한 경우만 연산을 처리할 수 있다.\n",
    "\n",
    "- 연산은 덧셈 또는 할당 등 프로그램 언어에서 제공하는 연산자를 처리\n",
    "- 실제 각 타입별로 이 연산자에 대한 메서드를 처리한다. "
   ]
  },
  {
   "cell_type": "code",
   "execution_count": 26,
   "id": "05175117",
   "metadata": {},
   "outputs": [
    {
     "ename": "Error",
     "evalue": "mismatched types",
     "output_type": "error",
     "traceback": [
      "    y = y + x;                             // 두 변수를 더하고 가변변수에 할당   ",
      "\u001b[91m            ^\u001b[0m \u001b[94mexpected `u32`, found `i32`\u001b[0m",
      "mismatched types"
     ]
    },
    {
     "ename": "Error",
     "evalue": "cannot add `i32` to `u32`",
     "output_type": "error",
     "traceback": [
      "    y = y + x;                             // 두 변수를 더하고 가변변수에 할당   ",
      "\u001b[91m          ^\u001b[0m \u001b[94mno implementation for `u32 + i32`\u001b[0m",
      "cannot add `i32` to `u32`",
      "\u001b[1mhelp\u001b[0m: the trait `Add<i32>` is not implemented for `u32`",
      "\u001b[1mhelp\u001b[0m: the following other types implement trait `Add<Rhs>`:\n  <&'a f32 as Add<f32>>\n  <&'a f64 as Add<f64>>\n  <&'a i128 as Add<i128>>\n  <&'a i16 as Add<i16>>\n  <&'a i32 as Add<i32>>\n  <&'a i64 as Add<i64>>\n  <&'a i8 as Add<i8>>\n  <&'a isize as Add<isize>>\nand 48 others"
     ]
    }
   ],
   "source": [
    "fn main() {\n",
    "    let x: i32 = 5;                        // 정수 5를 정의 \n",
    "    let mut y: u32 = 5;                    // 정수 5를 정의 \n",
    "\n",
    "    y = y + x;                             // 두 변수를 더하고 가변변수에 할당   \n",
    "                                           // \n",
    "    \n",
    "    let z = 10;                            // Type of z ? \n",
    "\n",
    "    println!(\"Success!\");\n",
    "}\n"
   ]
  },
  {
   "cell_type": "markdown",
   "id": "d5c3e23b",
   "metadata": {},
   "source": [
    "### 위의 문장을 동일한 타입으로 변환해서 처리 "
   ]
  },
  {
   "cell_type": "code",
   "execution_count": 31,
   "id": "ae08abe1",
   "metadata": {},
   "outputs": [],
   "source": [
    "fn main() {\n",
    "    let x: i32 = 5;            // 동일한 자료형으로 변경 \n",
    "    let mut y: i32 = 5;\n",
    "    y = x;\n",
    "    \n",
    "    let z = 10;                 // Type of z ? \n",
    "    \n",
    "    \n",
    "    println!(\" z type = {} \", type_of(&z));          // 제너릭함수에 변수를 인자로 전달하면 타입을 추론해서 처리\n",
    "    println!(\" z type = {} \", type_of::<i32>(&z));   // 제너릭 함수에 타입매개변수를 전달해서 처리 \n",
    "    println!(\"Success!\");\n",
    "}\n"
   ]
  },
  {
   "cell_type": "code",
   "execution_count": 32,
   "id": "6ef9b362",
   "metadata": {},
   "outputs": [
    {
     "name": "stdout",
     "output_type": "stream",
     "text": [
      " z type = i32 \n",
      " z type = i32 \n",
      "Success!\n"
     ]
    }
   ],
   "source": [
    "main()                          // 함수를 호출"
   ]
  },
  {
   "cell_type": "markdown",
   "id": "2032d851",
   "metadata": {},
   "source": [
    "### 값에 타입 접미사를 붙이기\n",
    "- 러스트는 값에도 타입 접미사를 붙여서 해당하는 값의 타입을 지정할 수 있다.\n",
    "- 기본 타입을 값의 마지막에 붙이거나 밑줄 다음에 분일 수 있다. "
   ]
  },
  {
   "cell_type": "code",
   "execution_count": 33,
   "id": "67f5e764",
   "metadata": {},
   "outputs": [],
   "source": [
    "fn main() {\n",
    "    let x = 5i32;\n",
    "    let y = 5_i32; \n",
    "    println!(\"x + y = {}\", x+y);\n",
    "}"
   ]
  },
  {
   "cell_type": "code",
   "execution_count": 35,
   "id": "793018ce",
   "metadata": {},
   "outputs": [
    {
     "name": "stdout",
     "output_type": "stream",
     "text": [
      "x + y = 10\n"
     ]
    }
   ],
   "source": [
    "main();"
   ]
  },
  {
   "cell_type": "code",
   "execution_count": null,
   "id": "fecfe051",
   "metadata": {},
   "outputs": [],
   "source": []
  },
  {
   "cell_type": "markdown",
   "id": "47c2b0e0",
   "metadata": {},
   "source": [
    "## 1-4. 타입변환하기 "
   ]
  },
  {
   "cell_type": "markdown",
   "id": "262603c0",
   "metadata": {},
   "source": [
    "### 다른 타입으로 변환할 때는 키워드 as 를 사용한다. \n",
    "\n"
   ]
  },
  {
   "cell_type": "code",
   "execution_count": 6,
   "id": "00f86ad2",
   "metadata": {},
   "outputs": [
    {
     "ename": "Error",
     "evalue": "cannot find type `__` in this scope",
     "output_type": "error",
     "traceback": [
      "\u001b[31m[E0412] Error:\u001b[0m cannot find type `__` in this scope",
      "   \u001b[38;5;246m╭\u001b[0m\u001b[38;5;246m─\u001b[0m\u001b[38;5;246m[\u001b[0mcommand_6:1:1\u001b[38;5;246m]\u001b[0m",
      "   \u001b[38;5;246m│\u001b[0m",
      " \u001b[38;5;246m2 │\u001b[0m \u001b[38;5;249m \u001b[0m\u001b[38;5;249m \u001b[0m\u001b[38;5;249m \u001b[0m\u001b[38;5;249m \u001b[0m\u001b[38;5;249ml\u001b[0m\u001b[38;5;249me\u001b[0m\u001b[38;5;249mt\u001b[0m\u001b[38;5;249m \u001b[0m\u001b[38;5;249mv\u001b[0m\u001b[38;5;249m:\u001b[0m\u001b[38;5;249m \u001b[0m\u001b[38;5;249mu\u001b[0m\u001b[38;5;249m1\u001b[0m\u001b[38;5;249m6\u001b[0m\u001b[38;5;249m \u001b[0m\u001b[38;5;249m=\u001b[0m\u001b[38;5;249m \u001b[0m\u001b[38;5;249m3\u001b[0m\u001b[38;5;249m8\u001b[0m\u001b[38;5;249m_\u001b[0m\u001b[38;5;249mu\u001b[0m\u001b[38;5;249m8\u001b[0m\u001b[38;5;249m \u001b[0m\u001b[38;5;249ma\u001b[0m\u001b[38;5;249ms\u001b[0m\u001b[38;5;249m \u001b[0m\u001b[38;5;54m_\u001b[0m\u001b[38;5;54m_\u001b[0m\u001b[38;5;249m;\u001b[0m",
      " \u001b[38;5;246m  ·\u001b[0m                           \u001b[38;5;54m─\u001b[0m\u001b[38;5;54m┬\u001b[0m  ",
      " \u001b[38;5;246m  ·\u001b[0m                            \u001b[38;5;54m╰\u001b[0m\u001b[38;5;54m─\u001b[0m\u001b[38;5;54m─\u001b[0m not found in this scope",
      "\u001b[38;5;246m───╯\u001b[0m"
     ]
    }
   ],
   "source": [
    "fn main() {\n",
    "    let v: u16 = 38_u8 as __;\n",
    "\n",
    "    println!(\"Success!\");\n",
    "}"
   ]
  },
  {
   "cell_type": "markdown",
   "id": "8d5a2daf",
   "metadata": {},
   "source": [
    "### 타입 접미사가 있는 정수를 타입 변환해서 변수에 할당하기 "
   ]
  },
  {
   "cell_type": "code",
   "execution_count": 39,
   "id": "71e480b4",
   "metadata": {},
   "outputs": [],
   "source": [
    "fn main() {\n",
    "    let v: u16 = 38_u8 as u16;\n",
    "\n",
    "    println!(\" type conversion Success!\");\n",
    "}"
   ]
  },
  {
   "cell_type": "code",
   "execution_count": 40,
   "id": "f544ba79",
   "metadata": {},
   "outputs": [
    {
     "name": "stdout",
     "output_type": "stream",
     "text": [
      " type conversion Success!\n"
     ]
    }
   ],
   "source": [
    "main();"
   ]
  },
  {
   "cell_type": "markdown",
   "id": "32e5b0f2",
   "metadata": {},
   "source": [
    "### 타입확인하기 \n",
    "\n",
    "- type_of 함수를 통해서 자료형을 확인한다. "
   ]
  },
  {
   "cell_type": "code",
   "execution_count": 41,
   "id": "7609d8b7",
   "metadata": {},
   "outputs": [],
   "source": [
    "fn main() {\n",
    "    let x = 5;\n",
    "    println!(\"{} ,{}\",\"u32\".to_string(), type_of(&x));\n",
    "\n",
    "    println!(\"Success!\");\n",
    "}\n"
   ]
  },
  {
   "cell_type": "code",
   "execution_count": 42,
   "id": "b910b770",
   "metadata": {},
   "outputs": [
    {
     "name": "stdout",
     "output_type": "stream",
     "text": [
      "u32 ,i32\n",
      "Success!\n"
     ]
    }
   ],
   "source": [
    "main();"
   ]
  },
  {
   "cell_type": "code",
   "execution_count": null,
   "id": "13c27da8",
   "metadata": {},
   "outputs": [],
   "source": []
  },
  {
   "cell_type": "markdown",
   "id": "611855a4",
   "metadata": {},
   "source": [
    "### 숫자 단위를 표현할 때는 천단위로 밑줄을 표시할 수 있다. "
   ]
  },
  {
   "cell_type": "code",
   "execution_count": 43,
   "id": "ebebb1f6",
   "metadata": {},
   "outputs": [],
   "source": [
    "fn main() {\n",
    "    let x = 1_000.000_1;         // f64\n",
    "    let y: f32 = 0.12;           // f32\n",
    "    let z = 0.01_f64;            // f64\n",
    "\n",
    "    println!(\"{}, {} \", type_of(&x), \"f64\".to_string());\n",
    "    println!(\"Success!\");\n",
    "}"
   ]
  },
  {
   "cell_type": "code",
   "execution_count": 44,
   "id": "e0c6f130",
   "metadata": {},
   "outputs": [
    {
     "name": "stdout",
     "output_type": "stream",
     "text": [
      "f64, f64 \n",
      "Success!\n"
     ]
    }
   ],
   "source": [
    "main();"
   ]
  },
  {
   "cell_type": "code",
   "execution_count": null,
   "id": "08b6dd3e",
   "metadata": {},
   "outputs": [],
   "source": []
  },
  {
   "cell_type": "markdown",
   "id": "ac7f23f3",
   "metadata": {},
   "source": [
    "## 1-5 변수 새도우잉  \n",
    "\n",
    "-  동일한 이름으로 새로운 변수를 지정 \n",
    "-  이름은 같지만 타입이 다른 경우에도 처리가 가능하다. "
   ]
  },
  {
   "cell_type": "code",
   "execution_count": 47,
   "id": "18fe336a",
   "metadata": {},
   "outputs": [],
   "source": [
    "fn main() {\n",
    "    let variable = 100;\n",
    "    println!(\" first variable = {variable}\");\n",
    "    let variable = \"shadowing\";\n",
    "    println!(\" second variable = {variable}\");\n",
    "    \n",
    "}"
   ]
  },
  {
   "cell_type": "code",
   "execution_count": 48,
   "id": "00969da6",
   "metadata": {},
   "outputs": [
    {
     "name": "stdout",
     "output_type": "stream",
     "text": [
      " first variable = 100\n",
      " second variable = shadowing\n"
     ]
    }
   ],
   "source": [
    "main();"
   ]
  },
  {
   "cell_type": "code",
   "execution_count": null,
   "id": "bd2c8f54",
   "metadata": {},
   "outputs": [],
   "source": []
  }
 ],
 "metadata": {
  "kernelspec": {
   "display_name": "Rust",
   "language": "rust",
   "name": "rust"
  },
  "language_info": {
   "codemirror_mode": "rust",
   "file_extension": ".rs",
   "mimetype": "text/rust",
   "name": "Rust",
   "pygment_lexer": "rust",
   "version": ""
  }
 },
 "nbformat": 4,
 "nbformat_minor": 5
}
