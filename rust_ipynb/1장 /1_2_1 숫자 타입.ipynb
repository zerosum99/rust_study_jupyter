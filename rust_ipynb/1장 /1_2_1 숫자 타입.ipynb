{
 "cells": [
  {
   "cell_type": "markdown",
   "id": "e6184709",
   "metadata": {},
   "source": [
    "# 0. 타입 확인 : 외부 크레이트 사용하기"
   ]
  },
  {
   "cell_type": "markdown",
   "id": "e08a8ccb",
   "metadata": {},
   "source": [
    "## 0-1. crate 를 현재 개발 환경에 가져오기\n",
    "\n",
    "- 타입에 대한 정보를 처리하기 위해 외부에서 크레이트를 가져온다\n",
    "- :dep 크레이트명 = 버전\n",
    "- 크레이트 버전은 crates.io 에서 크레이트 명을 확인하고 처리 \n"
   ]
  },
  {
   "cell_type": "markdown",
   "id": "6ef367b0",
   "metadata": {},
   "source": [
    "### 의존하는 크레이트를 가져온다 \n",
    "\n",
    "- .toml 파일 내의 [dependency] 섹션 내에 의존 중의 크레이트를 지정하듯이 \n",
    "- :dep를 통해 주피터노트북으로 크레이트를 가져올 수 있다.  "
   ]
  },
  {
   "cell_type": "code",
   "execution_count": 8,
   "id": "69ecd799",
   "metadata": {},
   "outputs": [],
   "source": [
    ":dep typename = \"0.1.2\""
   ]
  },
  {
   "cell_type": "markdown",
   "id": "c9993f7e",
   "metadata": {},
   "source": [
    "## 0-2. 크레이트 내의 트레이트 사용하기\n",
    "\n",
    "- 크레이트를 가져와서 사용할 때는 use 예약어를 사용\n",
    "- 크레이트:: 트레이트명"
   ]
  },
  {
   "cell_type": "markdown",
   "id": "9e644057",
   "metadata": {},
   "source": [
    "### 해당 메서드를 사용하려면 트레이트를 사용\n",
    "\n",
    "- use 크레이트명::트레이트명"
   ]
  },
  {
   "cell_type": "code",
   "execution_count": 9,
   "id": "6a8fd209",
   "metadata": {},
   "outputs": [],
   "source": [
    "use typename::TypeName;"
   ]
  },
  {
   "cell_type": "code",
   "execution_count": null,
   "id": "508d2844",
   "metadata": {},
   "outputs": [],
   "source": []
  },
  {
   "cell_type": "markdown",
   "id": "1d1fbb96",
   "metadata": {},
   "source": [
    "## 0-3 타입 애노테이션에서 타입이름가져오기\n",
    "\n",
    "- 타입 애노테이션에서 타입명은 연관함수를 사용\n",
    "- 연관함수는 내부에 인스턴스를 별도로 받지 않느다.\n",
    "- 그래서 타입 애노테이션 :: 함수명을 사용해서 정보를 조회"
   ]
  },
  {
   "cell_type": "code",
   "execution_count": null,
   "id": "5ee3b2c7",
   "metadata": {},
   "outputs": [],
   "source": []
  },
  {
   "cell_type": "code",
   "execution_count": 10,
   "id": "3d73e85b",
   "metadata": {},
   "outputs": [
    {
     "name": "stdout",
     "output_type": "stream",
     "text": [
      "i32\n"
     ]
    }
   ],
   "source": [
    "println!(\"{}\",i32::type_name());    // 문장으로 처리하면 반환값이 없어서 출력한 결과가 없다."
   ]
  },
  {
   "cell_type": "code",
   "execution_count": 12,
   "id": "38c392d1",
   "metadata": {},
   "outputs": [
    {
     "data": {
      "text/plain": [
       "\"i32\""
      ]
     },
     "execution_count": 12,
     "metadata": {},
     "output_type": "execute_result"
    }
   ],
   "source": [
    "i32::type_name()    // 세미콜론을 안 찍으면 표현식으로 인식한다. "
   ]
  },
  {
   "cell_type": "code",
   "execution_count": null,
   "id": "e1fffa77",
   "metadata": {},
   "outputs": [],
   "source": []
  },
  {
   "cell_type": "code",
   "execution_count": null,
   "id": "dba3b88e",
   "metadata": {},
   "outputs": [],
   "source": []
  },
  {
   "cell_type": "markdown",
   "id": "58fc63a4",
   "metadata": {},
   "source": [
    "## 0.4  타입이름도 가져올 수 있다.\n",
    "- 타입 애노테이션과 동일한 방식으로 가져온다"
   ]
  },
  {
   "cell_type": "code",
   "execution_count": 4,
   "id": "88a30e34",
   "metadata": {},
   "outputs": [],
   "source": [
    "use std::any::type_name;\n",
    "\n",
    "fn type_of<T>(_: T) -> &'static str {\n",
    "    type_name::<T>()\n",
    "}"
   ]
  },
  {
   "cell_type": "code",
   "execution_count": 13,
   "id": "f0f53e44",
   "metadata": {},
   "outputs": [
    {
     "data": {
      "text/plain": [
       "\"i32\""
      ]
     },
     "execution_count": 13,
     "metadata": {},
     "output_type": "execute_result"
    }
   ],
   "source": [
    "type_of(100)"
   ]
  },
  {
   "cell_type": "code",
   "execution_count": null,
   "id": "1a79ed59",
   "metadata": {},
   "outputs": [],
   "source": []
  },
  {
   "cell_type": "markdown",
   "id": "8e9eb8f7",
   "metadata": {},
   "source": [
    "#  스칼라(scalar Literal)\n",
    "- 하나의 원소만을 표현하는 표현식\n",
    "- 보통 정수와 부동소수점 실수의 숫자, 불리언, 문자 \n",
    "\n"
   ]
  },
  {
   "cell_type": "markdown",
   "id": "60ece9fb",
   "metadata": {},
   "source": [
    "## 1.  숫자 타입"
   ]
  },
  {
   "cell_type": "markdown",
   "id": "83595f1f",
   "metadata": {},
   "source": [
    "## 1-1.  정수 숫자 타입에 대한 정보 확인하기 \n",
    "\n",
    "- 숫자 타입에 대한 최대값과 최소값을 확인\n",
    "- 각 숫자 타입의 비트 크기를 확인 "
   ]
  },
  {
   "cell_type": "markdown",
   "id": "a915b5bd",
   "metadata": {},
   "source": [
    "### 부호있는 정수에 대한 최대값, 최소값, 비트확인 "
   ]
  },
  {
   "cell_type": "code",
   "execution_count": 2,
   "id": "0d64911e",
   "metadata": {},
   "outputs": [
    {
     "name": "stdout",
     "output_type": "stream",
     "text": [
      " i8     max=                                     127, min=                                    -128 bit-length = 8\n",
      " i16    max=                                   32767, min=                                  -32768 bit-length = 16\n",
      " i32    max=                              2147483647, min=                             -2147483648 bit-length = 32\n",
      " i64    max=                     9223372036854775807, min=                    -9223372036854775808 bit-length = 64\n",
      " i128   max= 170141183460469231731687303715884105727, min=-170141183460469231731687303715884105728 bit-length = 128\n",
      " isize  max=                     9223372036854775807, min=                    -9223372036854775808 bit-length = 64\n"
     ]
    }
   ],
   "source": [
    "println!(\" i8     max={:40}, min={:40} bit-length = {}\",  i8::MAX,     i8::MIN,    i8::BITS);\n",
    "println!(\" i16    max={:40}, min={:40} bit-length = {}\",  i16::MAX,    i16::MIN,   i16::BITS);\n",
    "println!(\" i32    max={:40}, min={:40} bit-length = {}\",  i32::MAX,    i32::MIN,   i32::BITS);\n",
    "println!(\" i64    max={:40}, min={:40} bit-length = {}\",  i64::MAX,    i64::MIN,   i64::BITS);\n",
    "println!(\" i128   max={:40}, min={:40} bit-length = {}\",  i128::MAX,   i128::MIN,  i128::BITS);\n",
    "println!(\" isize  max={:40}, min={:40} bit-length = {}\",  isize::MAX,  isize::MIN, isize::BITS);"
   ]
  },
  {
   "cell_type": "markdown",
   "id": "24a1c896",
   "metadata": {},
   "source": [
    "### 부호없는 정수에 대한 최대값, 최소값, 비트확인 "
   ]
  },
  {
   "cell_type": "code",
   "execution_count": 3,
   "id": "99a7c677",
   "metadata": {},
   "outputs": [
    {
     "name": "stdout",
     "output_type": "stream",
     "text": [
      " u8     max =                                      255, min = 0 bit-length = 8\n",
      " u16    max =                                    65535, min = 0 bit-length = 16\n",
      " u32    max =                               4294967295, min = 0 bit-length = 32\n",
      " u64    max =                     18446744073709551615, min = 0 bit-length = 64\n",
      " u128   max =  340282366920938463463374607431768211455, min = 0 bit-length = 128\n",
      " usize  max =                     18446744073709551615, min = 0 bit-length = 64\n"
     ]
    }
   ],
   "source": [
    "println!(\" u8     max = {:40}, min = {} bit-length = {}\",  u8::MAX,  u8::MIN,    u8::BITS);\n",
    "println!(\" u16    max = {:40}, min = {} bit-length = {}\", u16::MAX,  u16::MIN,  u16::BITS);\n",
    "println!(\" u32    max = {:40}, min = {} bit-length = {}\", u32::MAX,  u32::MIN,  u32::BITS);\n",
    "println!(\" u64    max = {:40}, min = {} bit-length = {}\", u64::MAX,  u64::MIN,  u64::BITS);\n",
    "println!(\" u128   max = {:40}, min = {} bit-length = {}\", u128::MAX, u128::MIN, u128::BITS);\n",
    "println!(\" usize  max = {:40}, min = {} bit-length = {}\", usize::MAX,  usize::MIN,  usize::BITS);"
   ]
  },
  {
   "cell_type": "markdown",
   "id": "9f9bcdde",
   "metadata": {},
   "source": [
    "## 정수 인스턴스 : 타입 애노테이션 이름 가져오기\n",
    "\n",
    "- 메서드를 사용해서 가져온다.\n",
    "- 메서드는 인스턴스.메서드명으로 호출해서 가져온다"
   ]
  },
  {
   "cell_type": "code",
   "execution_count": 21,
   "id": "21a9988f",
   "metadata": {},
   "outputs": [
    {
     "data": {
      "text/plain": [
       "\"i32\""
      ]
     },
     "execution_count": 21,
     "metadata": {},
     "output_type": "execute_result"
    }
   ],
   "source": [
    "100.type_name_of()"
   ]
  },
  {
   "cell_type": "code",
   "execution_count": 18,
   "id": "c8e0b093",
   "metadata": {},
   "outputs": [
    {
     "data": {
      "text/plain": [
       "\"i32\""
      ]
     },
     "execution_count": 18,
     "metadata": {},
     "output_type": "execute_result"
    }
   ],
   "source": [
    "type_of(100)"
   ]
  },
  {
   "cell_type": "markdown",
   "id": "c9a79352",
   "metadata": {},
   "source": [
    "## 1-2. 실수 숫자 타입에 대한 최대값과 최소값 확인 "
   ]
  },
  {
   "cell_type": "code",
   "execution_count": 4,
   "id": "f82f2f16",
   "metadata": {},
   "outputs": [
    {
     "name": "stdout",
     "output_type": "stream",
     "text": [
      " f32    max=340282350000000000000000000000000000000, min=-340282350000000000000000000000000000000 \n",
      " f64    max=179769313486231570000000000000000000000000000000000000000000000000000000000000000000000000000000000000000000000000000000000000000000000000000000000000000000000000000000000000000000000000000000000000000000000000000000000000000000000000000000000000000000000000000000000000000000000000000000000000000000000000000\n",
      " f64    min=-179769313486231570000000000000000000000000000000000000000000000000000000000000000000000000000000000000000000000000000000000000000000000000000000000000000000000000000000000000000000000000000000000000000000000000000000000000000000000000000000000000000000000000000000000000000000000000000000000000000000000000000 \n"
     ]
    }
   ],
   "source": [
    "println!(\" f32    max={}, min={} \",  f32::MAX,    f32::MIN);\n",
    "println!(\" f64    max={}\",  f64::MAX);\n",
    "println!(\" f64    min={} \", f64::MIN);"
   ]
  },
  {
   "cell_type": "markdown",
   "id": "1a8b97bb",
   "metadata": {},
   "source": [
    "### 실수 타입 확인하기"
   ]
  },
  {
   "cell_type": "code",
   "execution_count": 5,
   "id": "e7eeed05",
   "metadata": {},
   "outputs": [],
   "source": [
    "fn main() {\n",
    "    let x = 2.0; // f64\n",
    "    println!(\" {}\", type_of(x));\n",
    "\n",
    "    let y: f32 = 3.0; // f32\n",
    "    println!(\" {}\", type_of(y));\n",
    "}"
   ]
  },
  {
   "cell_type": "code",
   "execution_count": 6,
   "id": "a594aad1",
   "metadata": {},
   "outputs": [
    {
     "name": "stdout",
     "output_type": "stream",
     "text": [
      " f64\n",
      " f32\n"
     ]
    },
    {
     "data": {
      "text/plain": [
       "()"
      ]
     },
     "execution_count": 6,
     "metadata": {},
     "output_type": "execute_result"
    }
   ],
   "source": [
    "main()"
   ]
  },
  {
   "cell_type": "markdown",
   "id": "039047b8",
   "metadata": {},
   "source": [
    "## 2  숫자 타입과 숫자 리터럴 사용법 확인하기  \n",
    "\n",
    "- 러스트는 숫자에 대한 타입이 구조체 정의\n",
    "- 각 구조체에 대한 함수나 메서드 정의 "
   ]
  },
  {
   "cell_type": "markdown",
   "id": "d843f3af",
   "metadata": {},
   "source": [
    "## 2-1 타입에서 제공하는 연관 함수로 정의 "
   ]
  },
  {
   "cell_type": "code",
   "execution_count": 21,
   "id": "f385d14b",
   "metadata": {},
   "outputs": [],
   "source": [
    "fn main() {\n",
    "    let def = i32::default();      // 연관함수로 default 값 할당하기 \n",
    "    let i1 = i32::from(30);        // 연관함수로  값 할당하기 \n",
    "    let i2 = 30;                   // 리터럴로 값 할당하기\n",
    "    \n",
    "    println!(\" def ={} \",def);\n",
    "    println!(\" i1 ={} \",i1);\n",
    "    println!(\" i2 ={} \",i2);\n",
    "}"
   ]
  },
  {
   "cell_type": "code",
   "execution_count": 22,
   "id": "0244c873",
   "metadata": {},
   "outputs": [
    {
     "name": "stdout",
     "output_type": "stream",
     "text": [
      " def =0 \n",
      " i1 =30 \n",
      " i2 =30 \n"
     ]
    },
    {
     "data": {
      "text/plain": [
       "()"
      ]
     },
     "execution_count": 22,
     "metadata": {},
     "output_type": "execute_result"
    }
   ],
   "source": [
    "main()"
   ]
  },
  {
   "cell_type": "markdown",
   "id": "79964d85",
   "metadata": {},
   "source": [
    "###  두 값을 비교하기  : 연산자"
   ]
  },
  {
   "cell_type": "code",
   "execution_count": 8,
   "id": "d2b21a47",
   "metadata": {},
   "outputs": [
    {
     "data": {
      "text/plain": [
       "true"
      ]
     },
     "execution_count": 8,
     "metadata": {},
     "output_type": "execute_result"
    }
   ],
   "source": [
    "i1 == i2 "
   ]
  },
  {
   "cell_type": "markdown",
   "id": "89cfdee1",
   "metadata": {},
   "source": [
    "###  두 값을 비교하기  : 메서드"
   ]
  },
  {
   "cell_type": "code",
   "execution_count": 13,
   "id": "a175e2f6",
   "metadata": {},
   "outputs": [
    {
     "data": {
      "text/plain": [
       "true"
      ]
     },
     "execution_count": 13,
     "metadata": {},
     "output_type": "execute_result"
    }
   ],
   "source": [
    "i1.eq(&i2)"
   ]
  },
  {
   "cell_type": "markdown",
   "id": "e93babab",
   "metadata": {},
   "source": [
    "### 정수 리터럴로 변수 정의 "
   ]
  },
  {
   "cell_type": "code",
   "execution_count": 10,
   "id": "4ca9241a",
   "metadata": {},
   "outputs": [],
   "source": [
    "let i3 = 30;"
   ]
  },
  {
   "cell_type": "code",
   "execution_count": 11,
   "id": "c43a2c22",
   "metadata": {},
   "outputs": [
    {
     "data": {
      "text/plain": [
       "true"
      ]
     },
     "execution_count": 11,
     "metadata": {},
     "output_type": "execute_result"
    }
   ],
   "source": [
    "i1 == i3"
   ]
  },
  {
   "cell_type": "markdown",
   "id": "186de80a",
   "metadata": {},
   "source": [
    "## 2-2. 숫자에 대한 리터럴 확인"
   ]
  },
  {
   "cell_type": "code",
   "execution_count": null,
   "id": "8b2f50b7",
   "metadata": {},
   "outputs": [],
   "source": []
  },
  {
   "cell_type": "markdown",
   "id": "68dcfe76",
   "metadata": {},
   "source": [
    "### 정수는 기본 i32 타입 애노테이션으로 인식"
   ]
  },
  {
   "cell_type": "code",
   "execution_count": 24,
   "id": "8d515439",
   "metadata": {},
   "outputs": [],
   "source": [
    "let v = 100;"
   ]
  },
  {
   "cell_type": "markdown",
   "id": "e648ecbd",
   "metadata": {},
   "source": [
    "### 메서드로 구현된 것은 점연산자를 사용해서 접근"
   ]
  },
  {
   "cell_type": "code",
   "execution_count": 25,
   "id": "306110e3",
   "metadata": {},
   "outputs": [
    {
     "data": {
      "text/plain": [
       "\"i32\""
      ]
     },
     "execution_count": 25,
     "metadata": {},
     "output_type": "execute_result"
    }
   ],
   "source": [
    "v.type_name_of()"
   ]
  },
  {
   "cell_type": "markdown",
   "id": "cab312b2",
   "metadata": {},
   "source": [
    "### 리터럴에 타입애노테이션 붙이기\n",
    "\n",
    "- 리터럴에 타입 애너테이션을 접미사로 붙인다.\n",
    "- 보통 밑줄 다음에 붙이지만 밑줄 없이 붙여도 가능"
   ]
  },
  {
   "cell_type": "code",
   "execution_count": 26,
   "id": "ed4b4a82",
   "metadata": {},
   "outputs": [
    {
     "data": {
      "text/plain": [
       "\"u32\""
      ]
     },
     "execution_count": 26,
     "metadata": {},
     "output_type": "execute_result"
    }
   ],
   "source": [
    "100_u32.type_name_of()"
   ]
  },
  {
   "cell_type": "code",
   "execution_count": 27,
   "id": "a1fb8b8d",
   "metadata": {},
   "outputs": [
    {
     "data": {
      "text/plain": [
       "\"u32\""
      ]
     },
     "execution_count": 27,
     "metadata": {},
     "output_type": "execute_result"
    }
   ],
   "source": [
    "100u32.type_name_of()"
   ]
  },
  {
   "cell_type": "code",
   "execution_count": null,
   "id": "00be71f2",
   "metadata": {},
   "outputs": [],
   "source": []
  },
  {
   "cell_type": "markdown",
   "id": "e517a4a2",
   "metadata": {},
   "source": [
    "### 실수는 기본 f64로 사용\n",
    "\n",
    "- 실수를 f32 리터럴로 사용하려면 리터럴 타입에 접미사로 처리가 필요"
   ]
  },
  {
   "cell_type": "code",
   "execution_count": 28,
   "id": "b00e53fb",
   "metadata": {},
   "outputs": [
    {
     "data": {
      "text/plain": [
       "\"f64\""
      ]
     },
     "execution_count": 28,
     "metadata": {},
     "output_type": "execute_result"
    }
   ],
   "source": [
    "100.33.type_name_of()"
   ]
  },
  {
   "cell_type": "code",
   "execution_count": 29,
   "id": "c78ef8ff",
   "metadata": {},
   "outputs": [
    {
     "data": {
      "text/plain": [
       "\"f32\""
      ]
     },
     "execution_count": 29,
     "metadata": {},
     "output_type": "execute_result"
    }
   ],
   "source": [
    "100.33_f32.type_name_of()"
   ]
  },
  {
   "cell_type": "code",
   "execution_count": 30,
   "id": "517ac861",
   "metadata": {},
   "outputs": [
    {
     "data": {
      "text/plain": [
       "\"f32\""
      ]
     },
     "execution_count": 30,
     "metadata": {},
     "output_type": "execute_result"
    }
   ],
   "source": [
    "100.33f32.type_name_of()"
   ]
  },
  {
   "cell_type": "markdown",
   "id": "898693a6",
   "metadata": {},
   "source": [
    "## 2-3. 메모리의 사이즈 처리 "
   ]
  },
  {
   "cell_type": "markdown",
   "id": "1233ee0d",
   "metadata": {},
   "source": [
    "### 메모리를 처리하는 함수 사용하기\n",
    "\n",
    "- 해당 함수 등을 가져와서 사용하기 위해서는 use  크레이트(std)::모듈(mem)::함수(size_of_val)"
   ]
  },
  {
   "cell_type": "code",
   "execution_count": 24,
   "id": "982c4d63",
   "metadata": {},
   "outputs": [],
   "source": [
    "use std::mem::size_of_val;   // std는 표준 크레이트를 알려준다 \n",
    "                             // 그래서 그다음에 모듈과 함수이름을 사용 "
   ]
  },
  {
   "cell_type": "markdown",
   "id": "039df2f7",
   "metadata": {},
   "source": [
    "### size_of_val 함수는 인자로 전달할 때 참조 & 를 사용해서 처리"
   ]
  },
  {
   "cell_type": "code",
   "execution_count": 25,
   "id": "d82fc611",
   "metadata": {},
   "outputs": [
    {
     "data": {
      "text/plain": [
       "1"
      ]
     },
     "execution_count": 25,
     "metadata": {},
     "output_type": "execute_result"
    }
   ],
   "source": [
    "size_of_val(&10_u8)"
   ]
  },
  {
   "cell_type": "markdown",
   "id": "da755a15",
   "metadata": {},
   "source": [
    "### 출력하는 매크로 사용\n",
    "\n",
    "- 화면에 출력은 println! 매크로를 사용한다.  \n",
    "- 이 매크로의 기능은 주어진 것을 문자열로 출력을 한다.\n",
    "- 포매팅을 할 때 특정 값을 문자열 내부의 {} 에 표시"
   ]
  },
  {
   "cell_type": "code",
   "execution_count": 47,
   "id": "efaecb65",
   "metadata": {},
   "outputs": [
    {
     "name": "stdout",
     "output_type": "stream",
     "text": [
      " 정수 u8  size 1\n"
     ]
    }
   ],
   "source": [
    "println!(\" 정수 u8  size {}\",size_of_val(&10_u8));"
   ]
  },
  {
   "cell_type": "markdown",
   "id": "c81284cd",
   "metadata": {},
   "source": [
    "###  숫자\n",
    "\n",
    "- 부호가 있는 정수 =>  i와 비트 : i8, i16,i32,i64,i128\n",
    "- 부호가 없는 정수 =>  u와 비트 : u8, u16,u32,u64,u128"
   ]
  },
  {
   "cell_type": "markdown",
   "id": "e3a32454",
   "metadata": {},
   "source": [
    "### 러스트는 실제 main 함수를 지정해야 어플리케애션을 실행할 수 있다.\n",
    "\n",
    "- 그래서 main 함수 내부에 기능을 넣어서 처리\n"
   ]
  },
  {
   "cell_type": "code",
   "execution_count": null,
   "id": "091ec070",
   "metadata": {},
   "outputs": [],
   "source": []
  },
  {
   "cell_type": "markdown",
   "id": "d78a4eda",
   "metadata": {},
   "source": [
    "### 메인함수에 리터럴의 메모리 사이즈를 확인 "
   ]
  },
  {
   "cell_type": "code",
   "execution_count": 26,
   "id": "b7d67837",
   "metadata": {},
   "outputs": [],
   "source": [
    "fn main() {\n",
    "    \n",
    "    println!(\" 정수 u8  size {}\",size_of_val(&10_u8));\n",
    "    println!(\" 정수 i32 size {}\",size_of_val(&10_i32));\n",
    "    println!(\" 실수 f32 size {}\",size_of_val(&20.1_f32));\n",
    "    println!(\" 실수 f64 size {}\",size_of_val(&20.1_f64));\n",
    "}"
   ]
  },
  {
   "cell_type": "markdown",
   "id": "100e0d72",
   "metadata": {},
   "source": [
    "### 메인함수를 실행한다."
   ]
  },
  {
   "cell_type": "code",
   "execution_count": 27,
   "id": "f0a4a2b7",
   "metadata": {},
   "outputs": [
    {
     "name": "stdout",
     "output_type": "stream",
     "text": [
      " 정수 u8  size 1\n",
      " 정수 i32 size 4\n",
      " 실수 f32 size 4\n",
      " 실수 f64 size 8\n"
     ]
    },
    {
     "data": {
      "text/plain": [
       "()"
      ]
     },
     "execution_count": 27,
     "metadata": {},
     "output_type": "execute_result"
    }
   ],
   "source": [
    "main()"
   ]
  },
  {
   "cell_type": "code",
   "execution_count": null,
   "id": "9d9f4a0b",
   "metadata": {},
   "outputs": [],
   "source": []
  },
  {
   "cell_type": "markdown",
   "id": "98a0498b",
   "metadata": {},
   "source": [
    "## 3.  다양한 리터럴 표기법 확인 "
   ]
  },
  {
   "cell_type": "markdown",
   "id": "34ade47f",
   "metadata": {},
   "source": [
    "### 변수 선언하기\n",
    "\n",
    "- let 으로 선언한 변수에 특정형 지정을 안하면 초기값으로 주어진 값에 붙은 접미사 형식의 데이터형으로 타입이 정해진다\n",
    "- 변수 선언은 문장이라 아무런 결과를 반환하지 않는다."
   ]
  },
  {
   "cell_type": "markdown",
   "id": "92487de0",
   "metadata": {},
   "source": [
    "### 하나의 셀에서 처리하면 연산하는 것까지 확인하고 타입을 확정함"
   ]
  },
  {
   "cell_type": "code",
   "execution_count": 38,
   "id": "92153fee",
   "metadata": {},
   "outputs": [],
   "source": [
    "fn main() { // let 으로 선언한 변수에 특정형 지정을 안하면 초기값으로 주어진 값에 붙은 접미사 형식의 데이터형으로 타입이 정해진다\n",
    "    let x = 1u8;\n",
    "    let y = 2_u16;\n",
    "    let z = 3f32;\n",
    "\n",
    "    let i = 1;          //  i는 u8 데이터 형식이 된다. 컴파일 타임에 결정\n",
    "    let f = 1.0;        // f는 z와의 덧셈에 쓰였으므로 f32형이 된다.\n",
    "\n",
    "    // Constraints (summands must have the same type) for `i` and `f`\n",
    "    let _constraint_i = x + i;\n",
    "    let _constraint_f = z + f;\n",
    "\n",
    "    println!(\" _constraint_i : {}\", _constraint_i.type_name_of());\n",
    "    println!(\" _constraint_f : {}\", _constraint_f.type_name_of());\n",
    "}"
   ]
  },
  {
   "cell_type": "code",
   "execution_count": 39,
   "id": "c680f224",
   "metadata": {},
   "outputs": [
    {
     "name": "stdout",
     "output_type": "stream",
     "text": [
      " _constraint_i : u8\n",
      " _constraint_f : f32\n"
     ]
    }
   ],
   "source": [
    "main();"
   ]
  },
  {
   "cell_type": "code",
   "execution_count": 40,
   "id": "5b4e97c6",
   "metadata": {},
   "outputs": [],
   "source": [
    "fn main() { // let 으로 선언한 변수에 특정형 지정을 안하면 초기값으로 주어진 값에 붙은 접미사 형식의 데이터형으로 타입이 정해진다\n",
    "    let x = 1u8;\n",
    "    let y = 2_u16;\n",
    "    let z = 3f32;\n",
    "\n",
    "    let i = 1;          //  i는 u8 데이터 형식이 된다. 컴파일 타임에 결정\n",
    "    let f = 1.0;        // f는 z와의 덧셈에 쓰였으므로 f32형이 된다.\n",
    "\n",
    "    // Constraints (summands must have the same type) for `i` and `f`\n",
    "    {  \n",
    "        let _constraint_i = x + i;\n",
    "        let _constraint_f = z + f;\n",
    "\n",
    "        println!(\" _constraint_i : {}\", _constraint_i.type_name_of());\n",
    "        println!(\" _constraint_f : {}\", _constraint_f.type_name_of());\n",
    "    }\n",
    "}"
   ]
  },
  {
   "cell_type": "code",
   "execution_count": 41,
   "id": "5051836a",
   "metadata": {},
   "outputs": [
    {
     "name": "stdout",
     "output_type": "stream",
     "text": [
      " _constraint_i : u8\n",
      " _constraint_f : f32\n"
     ]
    }
   ],
   "source": [
    "main();"
   ]
  },
  {
   "cell_type": "code",
   "execution_count": null,
   "id": "a1e09ad3",
   "metadata": {},
   "outputs": [],
   "source": []
  },
  {
   "cell_type": "markdown",
   "id": "bee4d0a8",
   "metadata": {},
   "source": [
    "### 별도로 처리하면 타입이 확정되어 처리할 때 오류 발생"
   ]
  },
  {
   "cell_type": "code",
   "execution_count": 54,
   "id": "74410e6e",
   "metadata": {},
   "outputs": [],
   "source": [
    "// 타입 확정\n",
    "let x = 1u8;\n",
    "let y = 2_u16;\n",
    "let z = 3f32;"
   ]
  },
  {
   "cell_type": "code",
   "execution_count": 61,
   "id": "761de596",
   "metadata": {},
   "outputs": [],
   "source": [
    "// 타입 확정 \n",
    "let i = 1;          //  i32 데이터 형식이 된다\n",
    "let f = 1.0;        // f64 "
   ]
  },
  {
   "cell_type": "code",
   "execution_count": null,
   "id": "aa41398c",
   "metadata": {},
   "outputs": [],
   "source": [
    "### 타입이 안 맞으면 에러 발생"
   ]
  },
  {
   "cell_type": "code",
   "execution_count": 62,
   "id": "b9f4c0b4",
   "metadata": {},
   "outputs": [
    {
     "ename": "Error",
     "evalue": "mismatched types",
     "output_type": "error",
     "traceback": [
      "\u001b[31m[E0308] Error:\u001b[0m mismatched types",
      "   \u001b[38;5;246m╭\u001b[0m\u001b[38;5;246m─\u001b[0m\u001b[38;5;246m[\u001b[0mcommand_62:1:1\u001b[38;5;246m]\u001b[0m",
      "   \u001b[38;5;246m│\u001b[0m",
      " \u001b[38;5;246m2 │\u001b[0m \u001b[38;5;249ml\u001b[0m\u001b[38;5;249me\u001b[0m\u001b[38;5;249mt\u001b[0m\u001b[38;5;249m \u001b[0m\u001b[38;5;249m_\u001b[0m\u001b[38;5;249mc\u001b[0m\u001b[38;5;249mo\u001b[0m\u001b[38;5;249mn\u001b[0m\u001b[38;5;249ms\u001b[0m\u001b[38;5;249mt\u001b[0m\u001b[38;5;249mr\u001b[0m\u001b[38;5;249ma\u001b[0m\u001b[38;5;249mi\u001b[0m\u001b[38;5;249mn\u001b[0m\u001b[38;5;249mt\u001b[0m\u001b[38;5;249m_\u001b[0m\u001b[38;5;249mi\u001b[0m\u001b[38;5;249m \u001b[0m\u001b[38;5;249m=\u001b[0m\u001b[38;5;249m \u001b[0m\u001b[38;5;249mx\u001b[0m\u001b[38;5;249m \u001b[0m\u001b[38;5;249m+\u001b[0m\u001b[38;5;249m \u001b[0m\u001b[38;5;54mi\u001b[0m\u001b[38;5;249m;\u001b[0m",
      " \u001b[38;5;246m  ·\u001b[0m                         \u001b[38;5;54m┬\u001b[0m  ",
      " \u001b[38;5;246m  ·\u001b[0m                         \u001b[38;5;54m╰\u001b[0m\u001b[38;5;54m─\u001b[0m\u001b[38;5;54m─\u001b[0m expected `u8`, found `i32`",
      "\u001b[38;5;246m───╯\u001b[0m"
     ]
    },
    {
     "ename": "Error",
     "evalue": "cannot add `i32` to `u8`",
     "output_type": "error",
     "traceback": [
      "\u001b[31m[E0277] Error:\u001b[0m cannot add `i32` to `u8`",
      "   \u001b[38;5;246m╭\u001b[0m\u001b[38;5;246m─\u001b[0m\u001b[38;5;246m[\u001b[0mcommand_62:1:1\u001b[38;5;246m]\u001b[0m",
      "   \u001b[38;5;246m│\u001b[0m",
      " \u001b[38;5;246m2 │\u001b[0m \u001b[38;5;249ml\u001b[0m\u001b[38;5;249me\u001b[0m\u001b[38;5;249mt\u001b[0m\u001b[38;5;249m \u001b[0m\u001b[38;5;249m_\u001b[0m\u001b[38;5;249mc\u001b[0m\u001b[38;5;249mo\u001b[0m\u001b[38;5;249mn\u001b[0m\u001b[38;5;249ms\u001b[0m\u001b[38;5;249mt\u001b[0m\u001b[38;5;249mr\u001b[0m\u001b[38;5;249ma\u001b[0m\u001b[38;5;249mi\u001b[0m\u001b[38;5;249mn\u001b[0m\u001b[38;5;249mt\u001b[0m\u001b[38;5;249m_\u001b[0m\u001b[38;5;249mi\u001b[0m\u001b[38;5;249m \u001b[0m\u001b[38;5;249m=\u001b[0m\u001b[38;5;249m \u001b[0m\u001b[38;5;249mx\u001b[0m\u001b[38;5;249m \u001b[0m\u001b[38;5;54m+\u001b[0m\u001b[38;5;249m \u001b[0m\u001b[38;5;249mi\u001b[0m\u001b[38;5;249m;\u001b[0m",
      " \u001b[38;5;246m  ·\u001b[0m                       \u001b[38;5;54m┬\u001b[0m  ",
      " \u001b[38;5;246m  ·\u001b[0m                       \u001b[38;5;54m╰\u001b[0m\u001b[38;5;54m─\u001b[0m\u001b[38;5;54m─\u001b[0m no implementation for `u8 + i32`",
      "\u001b[38;5;246m───╯\u001b[0m"
     ]
    },
    {
     "ename": "Error",
     "evalue": "mismatched types",
     "output_type": "error",
     "traceback": [
      "\u001b[31m[E0308] Error:\u001b[0m mismatched types",
      "   \u001b[38;5;246m╭\u001b[0m\u001b[38;5;246m─\u001b[0m\u001b[38;5;246m[\u001b[0mcommand_62:1:1\u001b[38;5;246m]\u001b[0m",
      "   \u001b[38;5;246m│\u001b[0m",
      " \u001b[38;5;246m3 │\u001b[0m \u001b[38;5;249ml\u001b[0m\u001b[38;5;249me\u001b[0m\u001b[38;5;249mt\u001b[0m\u001b[38;5;249m \u001b[0m\u001b[38;5;249m_\u001b[0m\u001b[38;5;249mc\u001b[0m\u001b[38;5;249mo\u001b[0m\u001b[38;5;249mn\u001b[0m\u001b[38;5;249ms\u001b[0m\u001b[38;5;249mt\u001b[0m\u001b[38;5;249mr\u001b[0m\u001b[38;5;249ma\u001b[0m\u001b[38;5;249mi\u001b[0m\u001b[38;5;249mn\u001b[0m\u001b[38;5;249mt\u001b[0m\u001b[38;5;249m_\u001b[0m\u001b[38;5;249mf\u001b[0m\u001b[38;5;249m \u001b[0m\u001b[38;5;249m=\u001b[0m\u001b[38;5;249m \u001b[0m\u001b[38;5;249mz\u001b[0m\u001b[38;5;249m \u001b[0m\u001b[38;5;249m+\u001b[0m\u001b[38;5;249m \u001b[0m\u001b[38;5;54mf\u001b[0m\u001b[38;5;249m;\u001b[0m",
      " \u001b[38;5;246m  ·\u001b[0m                         \u001b[38;5;54m┬\u001b[0m  ",
      " \u001b[38;5;246m  ·\u001b[0m                         \u001b[38;5;54m╰\u001b[0m\u001b[38;5;54m─\u001b[0m\u001b[38;5;54m─\u001b[0m expected `f32`, found `f64`",
      "\u001b[38;5;246m───╯\u001b[0m"
     ]
    },
    {
     "ename": "Error",
     "evalue": "cannot add `f64` to `f32`",
     "output_type": "error",
     "traceback": [
      "\u001b[31m[E0277] Error:\u001b[0m cannot add `f64` to `f32`",
      "   \u001b[38;5;246m╭\u001b[0m\u001b[38;5;246m─\u001b[0m\u001b[38;5;246m[\u001b[0mcommand_62:1:1\u001b[38;5;246m]\u001b[0m",
      "   \u001b[38;5;246m│\u001b[0m",
      " \u001b[38;5;246m3 │\u001b[0m \u001b[38;5;249ml\u001b[0m\u001b[38;5;249me\u001b[0m\u001b[38;5;249mt\u001b[0m\u001b[38;5;249m \u001b[0m\u001b[38;5;249m_\u001b[0m\u001b[38;5;249mc\u001b[0m\u001b[38;5;249mo\u001b[0m\u001b[38;5;249mn\u001b[0m\u001b[38;5;249ms\u001b[0m\u001b[38;5;249mt\u001b[0m\u001b[38;5;249mr\u001b[0m\u001b[38;5;249ma\u001b[0m\u001b[38;5;249mi\u001b[0m\u001b[38;5;249mn\u001b[0m\u001b[38;5;249mt\u001b[0m\u001b[38;5;249m_\u001b[0m\u001b[38;5;249mf\u001b[0m\u001b[38;5;249m \u001b[0m\u001b[38;5;249m=\u001b[0m\u001b[38;5;249m \u001b[0m\u001b[38;5;249mz\u001b[0m\u001b[38;5;249m \u001b[0m\u001b[38;5;54m+\u001b[0m\u001b[38;5;249m \u001b[0m\u001b[38;5;249mf\u001b[0m\u001b[38;5;249m;\u001b[0m",
      " \u001b[38;5;246m  ·\u001b[0m                       \u001b[38;5;54m┬\u001b[0m  ",
      " \u001b[38;5;246m  ·\u001b[0m                       \u001b[38;5;54m╰\u001b[0m\u001b[38;5;54m─\u001b[0m\u001b[38;5;54m─\u001b[0m no implementation for `f32 + f64`",
      "\u001b[38;5;246m───╯\u001b[0m"
     ]
    }
   ],
   "source": [
    "// Constraints (summands must have the same type) for `i` and `f`\n",
    "let _constraint_i = x + i;\n",
    "let _constraint_f = z + f;"
   ]
  },
  {
   "cell_type": "code",
   "execution_count": null,
   "id": "fd950683",
   "metadata": {},
   "outputs": [],
   "source": []
  },
  {
   "cell_type": "markdown",
   "id": "873c802a",
   "metadata": {},
   "source": [
    "### 메인함수에서 리터럴 출력하기"
   ]
  },
  {
   "cell_type": "code",
   "execution_count": 59,
   "id": "91af5fdc",
   "metadata": {},
   "outputs": [],
   "source": [
    "use std::mem::size_of_val;\n",
    "\n",
    "fn main() {\n",
    "    // let 으로 선언한 변수에 특정형 지정을 안하면 초기값으로 주어진 값에 붙은 접미사 형식의 데이터형으로 타입이 정해진다\n",
    "    let x = 1u8;\n",
    "    let y = 2_u16;\n",
    "    let z = 3f32;\n",
    "\n",
    "    // 접미사를 주지 않으면 기본적으로 컴파일 에러가 난다.\n",
    "\n",
    "    // 소스의 어느곳에선가 쓰일 경우에 컴파일이 되는데 그 때의 데이터형으로 데이터형이 정해진다.\n",
    "\n",
    "    // let _constraint_i = x + i;  에서 i가 u8형식인 x와 덧셈에 쓰였기 때문에 u8형으로 지정됐다.\n",
    "\n",
    "    let i = 1;          //  i는 u8 데이터 형식이 된다. 컴파일 타임에 결정\n",
    "    let f = 1.0;        // f는 z와의 덧셈에 쓰였으므로 f32형이 된다.\n",
    "\n",
    "    // `size_of_val` returns the size of a variable in bytes\n",
    "    println!(\"size of `x` in bytes: {}\", size_of_val(&x));\n",
    "    println!(\"size of `y` in bytes: {}\", size_of_val(&y));\n",
    "    println!(\"size of `z` in bytes: {}\", size_of_val(&z));\n",
    "    println!(\"size of `i` in bytes: {}\", size_of_val(&i));   //==> 1\n",
    "    println!(\"size of `f` in bytes: {}\", size_of_val(&f));   //==> 4\n",
    "\n",
    "    // 내부적으로 타입을 안지정한 변수를 계산할 때 예외를 발생하지 않고 타입을 조정해서 처리함\n",
    "    let _constraint_i = x + i;\n",
    "    let _constraint_f = z + f;\n",
    "    println!(\" _constraint_i : {}\", _constraint_i.type_name_of());\n",
    "    println!(\" _constraint_f : {}\", _constraint_f.type_name_of());\n",
    "  \n",
    "}"
   ]
  },
  {
   "cell_type": "code",
   "execution_count": 60,
   "id": "19e4be6d",
   "metadata": {},
   "outputs": [
    {
     "name": "stdout",
     "output_type": "stream",
     "text": [
      "size of `x` in bytes: 1\n",
      "size of `y` in bytes: 2\n",
      "size of `z` in bytes: 4\n",
      "size of `i` in bytes: 1\n",
      "size of `f` in bytes: 4\n",
      " _constraint_i : u8\n",
      " _constraint_f : f32\n"
     ]
    },
    {
     "data": {
      "text/plain": [
       "()"
      ]
     },
     "execution_count": 60,
     "metadata": {},
     "output_type": "execute_result"
    }
   ],
   "source": [
    "main()"
   ]
  },
  {
   "cell_type": "code",
   "execution_count": null,
   "id": "97cbbfed",
   "metadata": {},
   "outputs": [],
   "source": []
  },
  {
   "cell_type": "code",
   "execution_count": null,
   "id": "cc1f43df",
   "metadata": {},
   "outputs": [],
   "source": []
  }
 ],
 "metadata": {
  "kernelspec": {
   "display_name": "Rust",
   "language": "rust",
   "name": "rust"
  },
  "language_info": {
   "codemirror_mode": "rust",
   "file_extension": ".rs",
   "mimetype": "text/rust",
   "name": "Rust",
   "pygment_lexer": "rust",
   "version": ""
  }
 },
 "nbformat": 4,
 "nbformat_minor": 5
}
