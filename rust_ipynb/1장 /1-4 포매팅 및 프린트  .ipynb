{
 "cells": [
  {
   "cell_type": "markdown",
   "id": "14ea9a22",
   "metadata": {},
   "source": [
    "## 프린터 매크로 "
   ]
  },
  {
   "cell_type": "code",
   "execution_count": 2,
   "id": "f5b68636",
   "metadata": {},
   "outputs": [],
   "source": [
    "fn main() {\n",
    "    println!(\"프린트\");\n",
    "    println!(\" 할게요\");\n",
    "}\n"
   ]
  },
  {
   "cell_type": "code",
   "execution_count": 3,
   "id": "a057fb82",
   "metadata": {},
   "outputs": [
    {
     "name": "stdout",
     "output_type": "stream",
     "text": [
      "프린트\n",
      " 할게요\n"
     ]
    },
    {
     "data": {
      "text/plain": [
       "()"
      ]
     },
     "execution_count": 3,
     "metadata": {},
     "output_type": "execute_result"
    }
   ],
   "source": [
    "main()"
   ]
  },
  {
   "cell_type": "markdown",
   "id": "89d05599",
   "metadata": {},
   "source": [
    "## 숫자 포매팅 출력 "
   ]
  },
  {
   "cell_type": "code",
   "execution_count": 15,
   "id": "08f613f6",
   "metadata": {},
   "outputs": [],
   "source": [
    "fn main() {\n",
    "    let number = 9000;\n",
    "    println!(\" 2 진수 = {number:b}\");\n",
    "    println!(\" 8 진수 = {number:o}\");\n",
    "    println!(\" 10진수 = {number}\");\n",
    "    println!(\" 10진수 = {number:e}\");\n",
    "    println!(\" 16진수 = {number:x}\");\n",
    "}\n"
   ]
  },
  {
   "cell_type": "code",
   "execution_count": 16,
   "id": "8e3496e9",
   "metadata": {},
   "outputs": [
    {
     "name": "stdout",
     "output_type": "stream",
     "text": [
      " 2 진수 = 10001100101000\n",
      " 8 진수 = 21450\n",
      " 10진수 = 9000\n",
      " 10진수 = 9e3\n",
      " 16진수 = 2328\n"
     ]
    },
    {
     "data": {
      "text/plain": [
       "()"
      ]
     },
     "execution_count": 16,
     "metadata": {},
     "output_type": "execute_result"
    }
   ],
   "source": [
    "main()"
   ]
  },
  {
   "cell_type": "code",
   "execution_count": null,
   "id": "e8713a50",
   "metadata": {},
   "outputs": [],
   "source": []
  }
 ],
 "metadata": {
  "kernelspec": {
   "display_name": "Rust",
   "language": "rust",
   "name": "rust"
  },
  "language_info": {
   "codemirror_mode": "rust",
   "file_extension": ".rs",
   "mimetype": "text/rust",
   "name": "Rust",
   "pygment_lexer": "rust",
   "version": ""
  }
 },
 "nbformat": 4,
 "nbformat_minor": 5
}
