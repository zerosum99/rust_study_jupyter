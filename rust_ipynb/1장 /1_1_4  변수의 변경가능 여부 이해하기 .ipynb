{
 "cells": [
  {
   "cell_type": "markdown",
   "id": "360541b4",
   "metadata": {},
   "source": [
    "# 변경 가능한 예약어 mut\n",
    "\n",
    "- 변경가능하다는 것은 변수에서 저장하는 값을 변경할 수 있다는 것임\n",
    "- 그래서 변수를 정의할 때 mut 예약어를 지정하면 변수가 가르치는 주소가 아닌 값을 변경한다. "
   ]
  },
  {
   "cell_type": "code",
   "execution_count": null,
   "id": "1ccc7cad",
   "metadata": {},
   "outputs": [],
   "source": []
  },
  {
   "cell_type": "markdown",
   "id": "f190beed",
   "metadata": {},
   "source": [
    "## 1. mut은 변수명 앞에 사용할 때\n",
    "\n",
    "- 저장되는 값을 교체 즉 재할당할 수 있다는 뜻이다 "
   ]
  },
  {
   "cell_type": "markdown",
   "id": "aef79988",
   "metadata": {},
   "source": [
    "## 변수 앞에 mut 사용 \n",
    "\n",
    "- 변수에 할당된 값을 교체 할 수 있다.\n",
    "- 이때 값은 정수 등 모든 인스턴스이다. "
   ]
  },
  {
   "cell_type": "markdown",
   "id": "be95eb6d",
   "metadata": {},
   "source": [
    "## 1-1 변수에 원시타입을 처리 "
   ]
  },
  {
   "cell_type": "code",
   "execution_count": 2,
   "id": "72dd15e2",
   "metadata": {},
   "outputs": [],
   "source": [
    "fn main() {\n",
    "    let mut x = 0;\n",
    "    for _ in 0..10 {\n",
    "        x += 1;\n",
    "        println!(\"The value of x is {:p}\", &x);\n",
    "    }\n",
    "\n",
    "    println!(\"The value of x is {}\", x);\n",
    "}"
   ]
  },
  {
   "cell_type": "markdown",
   "id": "78f4e44e",
   "metadata": {},
   "source": [
    "### 실행하면 변수가 가르키는 주소는 같지만 실제 저장되는 값을 변경함 "
   ]
  },
  {
   "cell_type": "code",
   "execution_count": 3,
   "id": "66e38e71",
   "metadata": {},
   "outputs": [
    {
     "name": "stdout",
     "output_type": "stream",
     "text": [
      "The value of x is 0x16ba16aa4\n",
      "The value of x is 0x16ba16aa4\n",
      "The value of x is 0x16ba16aa4\n",
      "The value of x is 0x16ba16aa4\n",
      "The value of x is 0x16ba16aa4\n",
      "The value of x is 0x16ba16aa4\n",
      "The value of x is 0x16ba16aa4\n",
      "The value of x is 0x16ba16aa4\n",
      "The value of x is 0x16ba16aa4\n",
      "The value of x is 0x16ba16aa4\n",
      "The value of x is 10\n"
     ]
    }
   ],
   "source": [
    "main();"
   ]
  },
  {
   "cell_type": "markdown",
   "id": "1bb2df06",
   "metadata": {},
   "source": [
    "## 1-2 문자열 처리 \n",
    "\n",
    "- 변수에 저장된 주소값이 변경되는 것이 아니라 실제 저장된 값이 변경됨"
   ]
  },
  {
   "cell_type": "code",
   "execution_count": 8,
   "id": "535c9b2c",
   "metadata": {},
   "outputs": [],
   "source": [
    "fn main() {\n",
    "    let mut x = \"문자열\".to_string();\n",
    "    for _ in 0..10 {\n",
    "        x += \"!\";\n",
    "        println!(\"The value of x is {:p}\", &x);\n",
    "    }\n",
    "\n",
    "    println!(\"The value of x is {}\", x);\n",
    "}"
   ]
  },
  {
   "cell_type": "code",
   "execution_count": 9,
   "id": "88a07a92",
   "metadata": {},
   "outputs": [
    {
     "name": "stdout",
     "output_type": "stream",
     "text": [
      "The value of x is 0x16f5c6ab0\n",
      "The value of x is 0x16f5c6ab0\n",
      "The value of x is 0x16f5c6ab0\n",
      "The value of x is 0x16f5c6ab0\n",
      "The value of x is 0x16f5c6ab0\n",
      "The value of x is 0x16f5c6ab0\n",
      "The value of x is 0x16f5c6ab0\n",
      "The value of x is 0x16f5c6ab0\n",
      "The value of x is 0x16f5c6ab0\n",
      "The value of x is 0x16f5c6ab0\n",
      "The value of x is 문자열!!!!!!!!!!\n"
     ]
    }
   ],
   "source": [
    "main();"
   ]
  },
  {
   "cell_type": "code",
   "execution_count": null,
   "id": "10aca101",
   "metadata": {},
   "outputs": [],
   "source": []
  },
  {
   "cell_type": "markdown",
   "id": "c9f842de",
   "metadata": {},
   "source": [
    "## 2. 값에 대한 참조 다음에 mut 을 사용할 경우는 \n",
    "\n",
    "- 참조가 가르치는 곳이 값이 변경이 되는 것이다. \n",
    "- 참조는 주소이기 때문에 이 주소가 가르키는 값을 변경한다. "
   ]
  },
  {
   "cell_type": "markdown",
   "id": "de492436",
   "metadata": {},
   "source": [
    "## 2-1 참조 다음에 표시할 경우\n",
    "\n",
    "- 이는 변수에 할당하는 값이 변경가능한 특정 참조를 표시 \n",
    "- 곧 특정 값에 대한 참조를 저장하므로 이 값을 가르키는 곳이 값을 변경해서 저장한다. \n"
   ]
  },
  {
   "cell_type": "markdown",
   "id": "faba2961",
   "metadata": {},
   "source": [
    "### 변수 앞에 지정하지 않고 값의 변경가능한 참조 지정\n",
    "\n",
    "- 변수의 값을 변경하는 것을 알 수 있다"
   ]
  },
  {
   "cell_type": "code",
   "execution_count": 3,
   "id": "1d298fcf",
   "metadata": {},
   "outputs": [],
   "source": [
    "fn main() {\n",
    "    let x = &mut 0;\n",
    "    for _ in 0..10 {\n",
    "        *x += 1;\n",
    "        println!(\"The value of x is {:p}\", x);\n",
    "    }\n",
    "\n",
    "    println!(\"The value of x is {}\", x);\n",
    "}"
   ]
  },
  {
   "cell_type": "code",
   "execution_count": 4,
   "id": "da275571",
   "metadata": {},
   "outputs": [
    {
     "name": "stdout",
     "output_type": "stream",
     "text": [
      "The value of x is 0x16f5c6aac\n",
      "The value of x is 0x16f5c6aac\n",
      "The value of x is 0x16f5c6aac\n",
      "The value of x is 0x16f5c6aac\n",
      "The value of x is 0x16f5c6aac\n",
      "The value of x is 0x16f5c6aac\n",
      "The value of x is 0x16f5c6aac\n",
      "The value of x is 0x16f5c6aac\n",
      "The value of x is 0x16f5c6aac\n",
      "The value of x is 0x16f5c6aac\n",
      "The value of x is 10\n"
     ]
    }
   ],
   "source": [
    "main();"
   ]
  },
  {
   "cell_type": "markdown",
   "id": "993371b5",
   "metadata": {},
   "source": [
    "## 1-2 문자열 처리 "
   ]
  },
  {
   "cell_type": "code",
   "execution_count": 10,
   "id": "26b1b21f",
   "metadata": {},
   "outputs": [],
   "source": [
    "fn main() {\n",
    "    let x = &mut \"문자열\".to_string();\n",
    "    for _ in 0..10 {\n",
    "        *x += \"!\";\n",
    "        println!(\"The value of x is {:p}\", x);\n",
    "    }\n",
    "\n",
    "    println!(\"The value of x is {}\", x);\n",
    "}"
   ]
  },
  {
   "cell_type": "code",
   "execution_count": 11,
   "id": "875ae28b",
   "metadata": {},
   "outputs": [
    {
     "name": "stdout",
     "output_type": "stream",
     "text": [
      "The value of x is 0x16f5c6a28\n",
      "The value of x is 0x16f5c6a28\n",
      "The value of x is 0x16f5c6a28\n",
      "The value of x is 0x16f5c6a28\n",
      "The value of x is 0x16f5c6a28\n",
      "The value of x is 0x16f5c6a28\n",
      "The value of x is 0x16f5c6a28\n",
      "The value of x is 0x16f5c6a28\n",
      "The value of x is 0x16f5c6a28\n",
      "The value of x is 0x16f5c6a28\n",
      "The value of x is 문자열!!!!!!!!!!\n"
     ]
    },
    {
     "data": {
      "text/plain": [
       "()"
      ]
     },
     "execution_count": 11,
     "metadata": {},
     "output_type": "execute_result"
    }
   ],
   "source": [
    "main()"
   ]
  },
  {
   "cell_type": "markdown",
   "id": "5b8d1bf1",
   "metadata": {},
   "source": [
    "## 3. 변수와 참조에 전부  mut 을 사용할 경우는 \n",
    "\n",
    "- "
   ]
  },
  {
   "cell_type": "code",
   "execution_count": 4,
   "id": "8977fda9",
   "metadata": {},
   "outputs": [],
   "source": [
    "fn main() {\n",
    "    let mut x  = &mut \"문자열\".to_string();\n",
    "    println!(\"The value of x is {:p}\", x);\n",
    "\n",
    "    let y = &mut \"변경\".to_string();\n",
    "    println!(\"The value of y is {:p}\", y);\n",
    "    x = y;\n",
    "    println!(\"The value of x is {:p}\", x);\n",
    "}"
   ]
  },
  {
   "cell_type": "code",
   "execution_count": 5,
   "id": "3e55b76a",
   "metadata": {},
   "outputs": [
    {
     "name": "stdout",
     "output_type": "stream",
     "text": [
      "The value of x is 0x16ba16a98\n",
      "The value of y is 0x16ba16ab8\n",
      "The value of x is 0x16ba16ab8\n"
     ]
    }
   ],
   "source": [
    "main();"
   ]
  },
  {
   "cell_type": "code",
   "execution_count": null,
   "id": "81703828",
   "metadata": {},
   "outputs": [],
   "source": []
  },
  {
   "cell_type": "markdown",
   "id": "acf03dac",
   "metadata": {},
   "source": [
    "### 변수만 변경이 가능할 경우 "
   ]
  },
  {
   "cell_type": "code",
   "execution_count": 14,
   "id": "53f63b1b",
   "metadata": {},
   "outputs": [],
   "source": [
    "fn main() {\n",
    "    let mut x  =  \"문자열\";\n",
    "    println!(\"The value of x is {:p}\", x);\n",
    "\n",
    "    let y =  \"변경\";\n",
    "    println!(\"The value of y is {:p}\", y);\n",
    "    x = y;\n",
    "    println!(\"The value of x is {:p}\", x);\n",
    "}"
   ]
  },
  {
   "cell_type": "code",
   "execution_count": 15,
   "id": "41621817",
   "metadata": {},
   "outputs": [
    {
     "name": "stdout",
     "output_type": "stream",
     "text": [
      "The value of x is 0x1058d3e71\n",
      "The value of y is 0x1058d3e8d\n",
      "The value of x is 0x1058d3e8d\n"
     ]
    }
   ],
   "source": [
    "main();"
   ]
  },
  {
   "cell_type": "code",
   "execution_count": null,
   "id": "d0b475a0",
   "metadata": {},
   "outputs": [],
   "source": []
  }
 ],
 "metadata": {
  "kernelspec": {
   "display_name": "Rust",
   "language": "rust",
   "name": "rust"
  },
  "language_info": {
   "codemirror_mode": "rust",
   "file_extension": ".rs",
   "mimetype": "text/rust",
   "name": "Rust",
   "pygment_lexer": "rust",
   "version": ""
  }
 },
 "nbformat": 4,
 "nbformat_minor": 5
}
