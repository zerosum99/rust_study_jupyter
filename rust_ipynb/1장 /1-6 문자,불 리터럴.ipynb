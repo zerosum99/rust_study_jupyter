{
 "cells": [
  {
   "cell_type": "code",
   "execution_count": null,
   "id": "29aaa440",
   "metadata": {},
   "outputs": [],
   "source": []
  },
  {
   "cell_type": "markdown",
   "id": "6a08b2ba",
   "metadata": {},
   "source": [
    "## 1-1 문자 리터럴 알아보기"
   ]
  },
  {
   "cell_type": "code",
   "execution_count": 5,
   "id": "c618bef8",
   "metadata": {},
   "outputs": [],
   "source": [
    "use std::mem::size_of_val;"
   ]
  },
  {
   "cell_type": "code",
   "execution_count": 4,
   "id": "d6071bba",
   "metadata": {},
   "outputs": [
    {
     "name": "stderr",
     "output_type": "stream",
     "text": [
      "thread '<unnamed>' panicked at 'assertion failed: `(left == right)`\n",
      "  left: `4`,\n",
      " right: `1`', src/lib.rs:113:1\n",
      "stack backtrace:\n",
      "   0: _rust_begin_unwind\n",
      "   1: core::panicking::panic_fmt\n",
      "   2: core::panicking::assert_failed_inner\n",
      "   3: <unknown>\n",
      "   4: <unknown>\n",
      "   5: <unknown>\n",
      "   6: evcxr::runtime::Runtime::run_loop\n",
      "   7: evcxr::runtime::runtime_hook\n",
      "   8: evcxr_jupyter::main\n",
      "note: Some details are omitted, run with `RUST_BACKTRACE=full` for a verbose backtrace.\n"
     ]
    }
   ],
   "source": [
    "let c1 = 'a';\n",
    "assert_eq!(size_of_val(&c1),1); "
   ]
  },
  {
   "cell_type": "code",
   "execution_count": null,
   "id": "da98c7a3",
   "metadata": {},
   "outputs": [],
   "source": []
  },
  {
   "cell_type": "code",
   "execution_count": 6,
   "id": "54a8a329",
   "metadata": {},
   "outputs": [
    {
     "name": "stderr",
     "output_type": "stream",
     "text": [
      "thread '<unnamed>' panicked at 'assertion failed: `(left == right)`\n",
      "  left: `4`,\n",
      " right: `3`', src/lib.rs:113:1\n",
      "stack backtrace:\n",
      "   0: _rust_begin_unwind\n",
      "   1: core::panicking::panic_fmt\n",
      "   2: core::panicking::assert_failed_inner\n",
      "   3: <unknown>\n",
      "   4: <unknown>\n",
      "   5: <unknown>\n",
      "   6: evcxr::runtime::Runtime::run_loop\n",
      "   7: evcxr::runtime::runtime_hook\n",
      "   8: evcxr_jupyter::main\n",
      "note: Some details are omitted, run with `RUST_BACKTRACE=full` for a verbose backtrace.\n"
     ]
    }
   ],
   "source": [
    "let c2 = '中';\n",
    "assert_eq!(size_of_val(&c2),3); "
   ]
  },
  {
   "cell_type": "markdown",
   "id": "9169035d",
   "metadata": {},
   "source": [
    "### 문자는 4바이트 처리"
   ]
  },
  {
   "cell_type": "code",
   "execution_count": 7,
   "id": "58387be9",
   "metadata": {},
   "outputs": [],
   "source": [
    "use std::mem::size_of_val;\n",
    "fn main() {\n",
    "    let c1 = 'a';\n",
    "    assert_eq!(size_of_val(&c1),4); \n",
    "\n",
    "    let c2 = '中';\n",
    "    assert_eq!(size_of_val(&c2),4); \n",
    "\n",
    "    println!(\"Success!\");\n",
    "} \n"
   ]
  },
  {
   "cell_type": "code",
   "execution_count": 8,
   "id": "ccf5d8a3",
   "metadata": {},
   "outputs": [
    {
     "name": "stdout",
     "output_type": "stream",
     "text": [
      "Success!\n"
     ]
    },
    {
     "data": {
      "text/plain": [
       "()"
      ]
     },
     "execution_count": 8,
     "metadata": {},
     "output_type": "execute_result"
    }
   ],
   "source": [
    "main()"
   ]
  },
  {
   "cell_type": "markdown",
   "id": "d30f9ddc",
   "metadata": {},
   "source": [
    "## 1-2 불리언 리터럴 "
   ]
  },
  {
   "cell_type": "code",
   "execution_count": 9,
   "id": "54b765f7",
   "metadata": {},
   "outputs": [],
   "source": [
    "fn main() {\n",
    "    let _f: bool = false;\n",
    "\n",
    "    let t = true;\n",
    "    if !t {\n",
    "        println!(\"Success!\");\n",
    "    }\n",
    "} \n"
   ]
  },
  {
   "cell_type": "code",
   "execution_count": 10,
   "id": "3870f753",
   "metadata": {},
   "outputs": [
    {
     "data": {
      "text/plain": [
       "()"
      ]
     },
     "execution_count": 10,
     "metadata": {},
     "output_type": "execute_result"
    }
   ],
   "source": [
    "main()"
   ]
  },
  {
   "cell_type": "code",
   "execution_count": 11,
   "id": "f9e17215",
   "metadata": {},
   "outputs": [],
   "source": [
    "fn main() {\n",
    "    let f = true;\n",
    "    let t = true && false;\n",
    "    assert_eq!(t, f);\n",
    "\n",
    "    println!(\"Success!\");\n",
    "}"
   ]
  },
  {
   "cell_type": "code",
   "execution_count": 12,
   "id": "7eae0902",
   "metadata": {},
   "outputs": [
    {
     "name": "stderr",
     "output_type": "stream",
     "text": [
      "thread '<unnamed>' panicked at 'assertion failed: `(left == right)`\n",
      "  left: `false`,\n",
      " right: `true`', src/lib.rs:5:5\n",
      "stack backtrace:\n",
      "   0: _rust_begin_unwind\n",
      "   1: core::panicking::panic_fmt\n",
      "   2: core::panicking::assert_failed_inner\n",
      "   3: <unknown>\n",
      "   4: <unknown>\n",
      "   5: <unknown>\n",
      "   6: evcxr::runtime::Runtime::run_loop\n",
      "   7: evcxr::runtime::runtime_hook\n",
      "   8: evcxr_jupyter::main\n",
      "note: Some details are omitted, run with `RUST_BACKTRACE=full` for a verbose backtrace.\n"
     ]
    }
   ],
   "source": [
    "main()"
   ]
  },
  {
   "cell_type": "code",
   "execution_count": null,
   "id": "ac3eeac1",
   "metadata": {},
   "outputs": [],
   "source": []
  },
  {
   "cell_type": "markdown",
   "id": "96abc2cc",
   "metadata": {},
   "source": [
    "## 1-3 유닛 타입 리터럴"
   ]
  },
  {
   "cell_type": "code",
   "execution_count": null,
   "id": "b6eea2df",
   "metadata": {},
   "outputs": [],
   "source": []
  },
  {
   "cell_type": "code",
   "execution_count": 25,
   "id": "2f07d4ce",
   "metadata": {},
   "outputs": [],
   "source": [
    "fn implicitly_ret_unit() {\n",
    "    println!(\"I will return a ()\");\n",
    "}\n",
    "\n",
    "// Don't use this one\n",
    "fn explicitly_ret_unit() -> () {\n",
    "    println!(\"I will return a ()\");\n",
    "}"
   ]
  },
  {
   "cell_type": "code",
   "execution_count": 26,
   "id": "f2052cf0",
   "metadata": {},
   "outputs": [],
   "source": [
    "// Get the type of given variable, return a string representation of the type  , e.g \"i8\", \"u8\", \"i32\", \"u32\"\n",
    "fn type_of<T>(_: &T) -> String {\n",
    "    format!(\"{}\", std::any::type_name::<T>())\n",
    "}"
   ]
  },
  {
   "cell_type": "code",
   "execution_count": 27,
   "id": "3de3d767",
   "metadata": {},
   "outputs": [],
   "source": [
    "fn main() {\n",
    "    let _v: () = ();\n",
    "    implicitly_ret_unit();\n",
    "    explicitly_ret_unit();\n",
    "    \n",
    "    let v = (2, 3);\n",
    "    println!(\" 튜플 타입 {}\", type_of(&v));\n",
    "    println!(\"Success!\");\n",
    "}"
   ]
  },
  {
   "cell_type": "code",
   "execution_count": 28,
   "id": "57bb4a0a",
   "metadata": {},
   "outputs": [
    {
     "name": "stdout",
     "output_type": "stream",
     "text": [
      "I will return a ()\n",
      "I will return a ()\n",
      " 튜플 타입 (i32, i32)\n",
      "Success!\n"
     ]
    },
    {
     "data": {
      "text/plain": [
       "()"
      ]
     },
     "execution_count": 28,
     "metadata": {},
     "output_type": "execute_result"
    }
   ],
   "source": [
    "main()"
   ]
  },
  {
   "cell_type": "code",
   "execution_count": null,
   "id": "7bbfd28c",
   "metadata": {},
   "outputs": [],
   "source": []
  }
 ],
 "metadata": {
  "kernelspec": {
   "display_name": "Rust",
   "language": "rust",
   "name": "rust"
  },
  "language_info": {
   "codemirror_mode": "rust",
   "file_extension": ".rs",
   "mimetype": "text/rust",
   "name": "Rust",
   "pygment_lexer": "rust",
   "version": ""
  }
 },
 "nbformat": 4,
 "nbformat_minor": 5
}
