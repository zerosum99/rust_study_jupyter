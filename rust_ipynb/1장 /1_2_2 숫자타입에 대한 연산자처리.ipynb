{
 "cells": [
  {
   "cell_type": "code",
   "execution_count": null,
   "id": "daf95642",
   "metadata": {},
   "outputs": [],
   "source": []
  },
  {
   "cell_type": "code",
   "execution_count": null,
   "id": "473b4745",
   "metadata": {},
   "outputs": [],
   "source": []
  },
  {
   "cell_type": "markdown",
   "id": "648fe9e7",
   "metadata": {},
   "source": [
    "## 1. 숫자에 대한 연산자 처리 "
   ]
  },
  {
   "cell_type": "markdown",
   "id": "2c38facb",
   "metadata": {},
   "source": [
    "\n",
    "##  연산자 :: 트레이트이름 :: 기본연산자 트레이트와 모듈명 :: 할당연산자 트레이트와 모듈명\n",
    "\n",
    "- \"+\"   Addition\t    \t\t    std::ops::Add\t    std::ops::AddAssign\n",
    "- \"-\tSubtraction\t\t    \t    std::ops::Sub\t    std::ops::SubAssign\n",
    "- \"*\tMultiplication\t\t\t    std::ops::Mul\t    std::ops::MulAssign\n",
    "- \"/\tDivision*\t\t \t        std::ops::Div\t    std::ops::DivAssign\n",
    "- \"%\tRemainder**\t\t    \t    std::ops::Rem\t    std::ops::RemAssign\n",
    "- \"&\tBitwise AND\tLogical AND\t\tstd::ops::BitAnd\tstd::ops::BitAndAssign\n",
    "- \"|\tBitwise OR\tLogical OR\t\tstd::ops::BitOr\t    std::ops::BitOrAssign\n",
    "- \"^\tBitwise XOR\tLogical XOR\t\tstd::ops::BitXor\tstd::ops::BitXorAssign\n",
    "- \"<<\tLeft Shift\t\t\t        std::ops::Shl\t    std::ops::ShlAssign\n",
    "- \">>\tRight Shift***\t\t\t    std::ops::Shr\t    std::ops::ShrAssign"
   ]
  },
  {
   "cell_type": "code",
   "execution_count": null,
   "id": "34daa3c2",
   "metadata": {},
   "outputs": [],
   "source": []
  },
  {
   "cell_type": "code",
   "execution_count": null,
   "id": "c6714c5c",
   "metadata": {},
   "outputs": [],
   "source": []
  },
  {
   "cell_type": "markdown",
   "id": "fd62506b",
   "metadata": {},
   "source": [
    "## 1-1 사칙연산 \n",
    "\n",
    "- 덧셈, 뺄셈, 곱셈, 나눗셈, 나머지 구하기 등을 처리하는 연산자 "
   ]
  },
  {
   "cell_type": "code",
   "execution_count": 2,
   "id": "095556e1",
   "metadata": {},
   "outputs": [],
   "source": [
    "fn main() {\n",
    "    // addition\n",
    "    let sum = 5 + 10;\n",
    "    println!(\"{sum}\"); \n",
    "\n",
    "    // subtraction\n",
    "    let difference = 95.5 - 4.3;\n",
    "     println!(\"{difference}\"); \n",
    "    // multiplication\n",
    "    let product = 4 * 30;\n",
    "    println!(\"{product}\"); \n",
    "\n",
    "    // division\n",
    "    let quotient = 56.7 / 32.2;\n",
    "    println!(\"{quotient}\"); \n",
    "    let floored = 2 / 3; // Results in 0\n",
    "    println!(\"{floored}\"); \n",
    "    // remainder\n",
    "    let remainder = 43 % 5;\n",
    "    println!(\"{remainder}\"); \n",
    "}"
   ]
  },
  {
   "cell_type": "code",
   "execution_count": 3,
   "id": "bb075b6d",
   "metadata": {},
   "outputs": [
    {
     "name": "stdout",
     "output_type": "stream",
     "text": [
      "15\n",
      "91.2\n",
      "120\n",
      "1.7608695652173911\n",
      "0\n",
      "3\n"
     ]
    }
   ],
   "source": [
    "main();"
   ]
  },
  {
   "cell_type": "markdown",
   "id": "3fe51354",
   "metadata": {},
   "source": [
    "### 연산자 처리 결과를 확인하기 \n",
    "\n",
    "- assert는 동일하지 않을 경우만 출력을 수행함 "
   ]
  },
  {
   "cell_type": "code",
   "execution_count": 6,
   "id": "0836317b",
   "metadata": {},
   "outputs": [],
   "source": [
    "fn main() {\n",
    "    assert_eq!(3 + 6, 9);\n",
    "    assert_eq!(5.5 - 1.25, 4.25);\n",
    "    assert_eq!(-5 * 14, -70);\n",
    "    assert_eq!(14 / 3, 4);\n",
    "    assert_eq!(100 % 7, 2);\n",
    "\n",
    "}"
   ]
  },
  {
   "cell_type": "code",
   "execution_count": 7,
   "id": "5dc38493",
   "metadata": {},
   "outputs": [],
   "source": [
    "main();"
   ]
  },
  {
   "cell_type": "markdown",
   "id": "d98a3a59",
   "metadata": {},
   "source": [
    "## 1-2 다양한 진법 표기\n",
    "\n",
    "- 정수일 경우 2진수, 8진수, 16진수를 표시가능 기본은 10진수\n"
   ]
  },
  {
   "cell_type": "code",
   "execution_count": null,
   "id": "8025b3ab",
   "metadata": {},
   "outputs": [],
   "source": []
  },
  {
   "cell_type": "code",
   "execution_count": 8,
   "id": "58eec9ed",
   "metadata": {},
   "outputs": [],
   "source": [
    "use std::any::type_name;\n",
    "\n",
    "fn type_of<T>(_: T) -> &'static str {\n",
    "    type_name::<T>()\n",
    "}"
   ]
  },
  {
   "cell_type": "markdown",
   "id": "f457c15a",
   "metadata": {},
   "source": [
    "### 이진수 "
   ]
  },
  {
   "cell_type": "code",
   "execution_count": 9,
   "id": "a0c6ca68",
   "metadata": {},
   "outputs": [],
   "source": [
    "let bn = 0b1010;"
   ]
  },
  {
   "cell_type": "code",
   "execution_count": 11,
   "id": "ddd61fa3",
   "metadata": {},
   "outputs": [
    {
     "name": "stdout",
     "output_type": "stream",
     "text": [
      "i32\n"
     ]
    }
   ],
   "source": [
    "println!(\"{}\", type_of(bn));"
   ]
  },
  {
   "cell_type": "markdown",
   "id": "38544b49",
   "metadata": {},
   "source": [
    "### 8진수"
   ]
  },
  {
   "cell_type": "code",
   "execution_count": 12,
   "id": "bab98208",
   "metadata": {},
   "outputs": [],
   "source": [
    "let ox = 0o1010;"
   ]
  },
  {
   "cell_type": "code",
   "execution_count": 13,
   "id": "bd1f2cc3",
   "metadata": {},
   "outputs": [
    {
     "name": "stdout",
     "output_type": "stream",
     "text": [
      "i32\n"
     ]
    }
   ],
   "source": [
    "println!(\"{}\", type_of(ox));"
   ]
  },
  {
   "cell_type": "markdown",
   "id": "90a1fe1d",
   "metadata": {},
   "source": [
    "### 16진수 "
   ]
  },
  {
   "cell_type": "code",
   "execution_count": 14,
   "id": "88c42ae1",
   "metadata": {},
   "outputs": [],
   "source": [
    "let hx = 0x1010;"
   ]
  },
  {
   "cell_type": "code",
   "execution_count": 15,
   "id": "3d4fe382",
   "metadata": {},
   "outputs": [
    {
     "name": "stdout",
     "output_type": "stream",
     "text": [
      "i32\n"
     ]
    }
   ],
   "source": [
    "println!(\"{}\", type_of(hx));"
   ]
  },
  {
   "cell_type": "code",
   "execution_count": null,
   "id": "e7b02dbf",
   "metadata": {},
   "outputs": [],
   "source": []
  },
  {
   "cell_type": "markdown",
   "id": "0d83abcc",
   "metadata": {},
   "source": [
    "## 1-3  비트연산자 \n",
    "\n",
    "- 정수일 경우만 비트 연산자로 비트간 처리가 가능 "
   ]
  },
  {
   "cell_type": "markdown",
   "id": "2dd79d0f",
   "metadata": {},
   "source": [
    "## 비트연산자 \n",
    "\n",
    "- \"& (Bitwise AND)\t정수 인수의 각 비트에 대해 부울 AND 연산을 수행\t(A & B) is 2\n",
    "- \"| (Bitwise OR)\t정수 인수의 각 비트에 대해 부울 OR 연산을 수행\t(A | B) is 3\n",
    "- \"^ (Bitwise XOR)\t정수 인수의 각 비트에 대해 부울 XOR 연산을 수행\t(A ^ B) is 1\n",
    "- \"! (Bitwise Not)\t단항 연산자이며 피연산자의 모든 비트를 반대로 하여 작동\t(!B) is -4\n",
    "- '<<' (Left Shift)\t첫 번째 피연산자의 모든 비트를 두 번째 피연산자에 지정된 자릿수만큼 왼쪽으로 이동하고 새 비트는 0으로 채워짐\t(A << 1) is 4\n",
    "- '>>' (Right Shift)\t첫 번째 피연산자의 값은 두 번째 피연산자가 지정한 비트 수만큼 오른쪽으로 이동\t(A >> 1) is 1\n",
    "- '>>>' (Right shift with Zero)\t이 연산자는 왼쪽으로 이동한 비트가 항상 0이라는 점을 제외하면 >> 연산자와 같음\t(A >>> 1) is 1"
   ]
  },
  {
   "cell_type": "markdown",
   "id": "840f8cd9",
   "metadata": {},
   "source": [
    "### 부울대수 기본처리 "
   ]
  },
  {
   "cell_type": "code",
   "execution_count": 2,
   "id": "e121c271",
   "metadata": {},
   "outputs": [],
   "source": [
    "fn main() {\n",
    "\n",
    "    assert_eq!(0b1010 & 0b1100, 0b1000);\n",
    "    assert_eq!(0b1010 | 0b1100, 0b1110);\n",
    "    assert_eq!(0b1010 ^ 0b1100, 0b110);\n",
    "\n",
    "}"
   ]
  },
  {
   "cell_type": "code",
   "execution_count": 3,
   "id": "88da679b",
   "metadata": {},
   "outputs": [],
   "source": [
    "main();"
   ]
  },
  {
   "cell_type": "markdown",
   "id": "3f950d04",
   "metadata": {},
   "source": [
    "### 시프트 연산 처리 "
   ]
  },
  {
   "cell_type": "code",
   "execution_count": 4,
   "id": "d5ceedb7",
   "metadata": {},
   "outputs": [],
   "source": [
    "fn main() {\n",
    "    assert_eq!(13 << 3, 104);\n",
    "    assert_eq!(-10 >> 2, -3);\n",
    "}"
   ]
  },
  {
   "cell_type": "code",
   "execution_count": 5,
   "id": "fabd7e2d",
   "metadata": {},
   "outputs": [],
   "source": [
    "main();"
   ]
  },
  {
   "cell_type": "code",
   "execution_count": null,
   "id": "4989dcdd",
   "metadata": {},
   "outputs": [],
   "source": []
  }
 ],
 "metadata": {
  "kernelspec": {
   "display_name": "Rust",
   "language": "rust",
   "name": "rust"
  },
  "language_info": {
   "codemirror_mode": "rust",
   "file_extension": ".rs",
   "mimetype": "text/rust",
   "name": "Rust",
   "pygment_lexer": "rust",
   "version": ""
  }
 },
 "nbformat": 4,
 "nbformat_minor": 5
}
