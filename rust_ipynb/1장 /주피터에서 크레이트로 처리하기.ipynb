{
 "cells": [
  {
   "cell_type": "markdown",
   "id": "e6184709",
   "metadata": {},
   "source": [
    "# 0. 타입 확인 : 외부 크레이트 사용하기"
   ]
  },
  {
   "cell_type": "markdown",
   "id": "e08a8ccb",
   "metadata": {},
   "source": [
    "## 0-1. crate 를 현재 개발 환경에 가져오기\n",
    "\n",
    "- 타입에 대한 정보를 처리하기 위해 외부에서 크레이트를 가져온다\n",
    "- :dep 크레이트명 = 버전\n",
    "- 크레이트 버전은 crates.io 에서 크레이트 명을 확인하고 처리 \n"
   ]
  },
  {
   "cell_type": "markdown",
   "id": "6ef367b0",
   "metadata": {},
   "source": [
    "### 의존하는 크레이트를 가져온다 \n",
    "\n",
    "- .toml 파일 내의 [dependency] 섹션 내에 의존 중의 크레이트를 지정하듯이 \n",
    "- :dep를 통해 주피터노트북으로 크레이트를 가져올 수 있다.  "
   ]
  },
  {
   "cell_type": "code",
   "execution_count": 14,
   "id": "69ecd799",
   "metadata": {},
   "outputs": [],
   "source": [
    ":dep typename = \"0.1.2\""
   ]
  },
  {
   "cell_type": "markdown",
   "id": "c9993f7e",
   "metadata": {},
   "source": [
    "## 0-2. 크레이트 내의 트레이트 사용하기\n",
    "\n",
    "- 크레이트를 가져와서 사용할 때는 use 예약어를 사용\n",
    "- 크레이트:: 트레이트명"
   ]
  },
  {
   "cell_type": "markdown",
   "id": "9e644057",
   "metadata": {},
   "source": [
    "### 해당 메서드를 사용하려면 트레이트를 사용\n",
    "\n",
    "- use 크레이트명::트레이트명"
   ]
  },
  {
   "cell_type": "code",
   "execution_count": 15,
   "id": "6a8fd209",
   "metadata": {},
   "outputs": [],
   "source": [
    "use typename::TypeName;"
   ]
  },
  {
   "cell_type": "code",
   "execution_count": null,
   "id": "508d2844",
   "metadata": {},
   "outputs": [],
   "source": []
  },
  {
   "cell_type": "markdown",
   "id": "83595f1f",
   "metadata": {},
   "source": [
    "## 0-3. 숫자 타입에 대한 정보 확인하기 \n",
    "\n",
    "- 숫자 타입에 대한 최대값과 최소값을 확인\n",
    "- 각 숫자 타입의 비트 크기를 확인 "
   ]
  },
  {
   "cell_type": "markdown",
   "id": "a915b5bd",
   "metadata": {},
   "source": [
    "### 부호있는 정수에 대한 최대값, 최소값, 비트확인 "
   ]
  },
  {
   "cell_type": "code",
   "execution_count": 2,
   "id": "0d64911e",
   "metadata": {},
   "outputs": [
    {
     "name": "stdout",
     "output_type": "stream",
     "text": [
      " i8     max=                                     127, min=                                    -128 bit-length = 8\n",
      " i16    max=                                   32767, min=                                  -32768 bit-length = 16\n",
      " i32    max=                              2147483647, min=                             -2147483648 bit-length = 32\n",
      " i64    max=                     9223372036854775807, min=                    -9223372036854775808 bit-length = 64\n",
      " i128   max= 170141183460469231731687303715884105727, min=-170141183460469231731687303715884105728 bit-length = 128\n",
      " isize  max=                     9223372036854775807, min=                    -9223372036854775808 bit-length = 64\n"
     ]
    }
   ],
   "source": [
    "println!(\" i8     max={:40}, min={:40} bit-length = {}\",  i8::MAX,     i8::MIN,    i8::BITS);\n",
    "println!(\" i16    max={:40}, min={:40} bit-length = {}\",  i16::MAX,    i16::MIN,   i16::BITS);\n",
    "println!(\" i32    max={:40}, min={:40} bit-length = {}\",  i32::MAX,    i32::MIN,   i32::BITS);\n",
    "println!(\" i64    max={:40}, min={:40} bit-length = {}\",  i64::MAX,    i64::MIN,   i64::BITS);\n",
    "println!(\" i128   max={:40}, min={:40} bit-length = {}\",  i128::MAX,   i128::MIN,  i128::BITS);\n",
    "println!(\" isize  max={:40}, min={:40} bit-length = {}\",  isize::MAX,  isize::MIN, isize::BITS);"
   ]
  },
  {
   "cell_type": "markdown",
   "id": "24a1c896",
   "metadata": {},
   "source": [
    "### 부호없는 정수에 대한 최대값, 최소값, 비트확인 "
   ]
  },
  {
   "cell_type": "code",
   "execution_count": 3,
   "id": "99a7c677",
   "metadata": {},
   "outputs": [
    {
     "name": "stdout",
     "output_type": "stream",
     "text": [
      " u8     max =                                      255, min = 0 bit-length = 8\n",
      " u16    max =                                    65535, min = 0 bit-length = 16\n",
      " u32    max =                               4294967295, min = 0 bit-length = 32\n",
      " u64    max =                     18446744073709551615, min = 0 bit-length = 64\n",
      " u128   max =  340282366920938463463374607431768211455, min = 0 bit-length = 128\n",
      " usize  max =                     18446744073709551615, min = 0 bit-length = 64\n"
     ]
    }
   ],
   "source": [
    "println!(\" u8     max = {:40}, min = {} bit-length = {}\",  u8::MAX,  u8::MIN,    u8::BITS);\n",
    "println!(\" u16    max = {:40}, min = {} bit-length = {}\", u16::MAX,  u16::MIN,  u16::BITS);\n",
    "println!(\" u32    max = {:40}, min = {} bit-length = {}\", u32::MAX,  u32::MIN,  u32::BITS);\n",
    "println!(\" u64    max = {:40}, min = {} bit-length = {}\", u64::MAX,  u64::MIN,  u64::BITS);\n",
    "println!(\" u128   max = {:40}, min = {} bit-length = {}\", u128::MAX, u128::MIN, u128::BITS);\n",
    "println!(\" usize  max = {:40}, min = {} bit-length = {}\", usize::MAX,  usize::MIN,  usize::BITS);"
   ]
  },
  {
   "cell_type": "markdown",
   "id": "c9a79352",
   "metadata": {},
   "source": [
    "### 실수값에 대한 최대값과 최소값 확인 "
   ]
  },
  {
   "cell_type": "code",
   "execution_count": 4,
   "id": "f82f2f16",
   "metadata": {},
   "outputs": [
    {
     "name": "stdout",
     "output_type": "stream",
     "text": [
      " f32    max=340282350000000000000000000000000000000, min=-340282350000000000000000000000000000000 \n",
      " f64    max=179769313486231570000000000000000000000000000000000000000000000000000000000000000000000000000000000000000000000000000000000000000000000000000000000000000000000000000000000000000000000000000000000000000000000000000000000000000000000000000000000000000000000000000000000000000000000000000000000000000000000000000\n",
      " f64    min=-179769313486231570000000000000000000000000000000000000000000000000000000000000000000000000000000000000000000000000000000000000000000000000000000000000000000000000000000000000000000000000000000000000000000000000000000000000000000000000000000000000000000000000000000000000000000000000000000000000000000000000000 \n"
     ]
    }
   ],
   "source": [
    "println!(\" f32    max={}, min={} \",  f32::MAX,    f32::MIN);\n",
    "println!(\" f64    max={}\",  f64::MAX);\n",
    "println!(\" f64    min={} \", f64::MIN);"
   ]
  },
  {
   "cell_type": "code",
   "execution_count": null,
   "id": "60e598bc",
   "metadata": {},
   "outputs": [],
   "source": []
  },
  {
   "cell_type": "markdown",
   "id": "1d1fbb96",
   "metadata": {},
   "source": [
    "## 0-4 타입 애노테이션에서 타입이름가져오기\n",
    "\n",
    "- 타입 애노테이션에서 타입명은 연관함수를 사용\n",
    "- 연관함수는 내부에 인스턴스를 별도로 받지 않느다.\n",
    "- 그래서 타입 애노테이션 :: 함수명을 사용해서 정보를 조회"
   ]
  },
  {
   "cell_type": "markdown",
   "id": "d6987e11",
   "metadata": {},
   "source": [
    "### 구조체 내에 정의된 함수 중에는 인스턴스 정보가 없을 수도 있다.\n",
    "\n",
    "- 이런 함수를 연관함수이고 접근할 때는 콜론 두개를 사용해서 접근 "
   ]
  },
  {
   "cell_type": "markdown",
   "id": "7617ddee",
   "metadata": {},
   "source": [
    "### 트레이트를 지정해서 타입에서 함수로 정보 확인 가능\n",
    "\n",
    "- 크레이트의 트레이트를 가져오면 각 타입에서 이 함수를 사용할 수 있다.\n"
   ]
  },
  {
   "cell_type": "code",
   "execution_count": 16,
   "id": "3d73e85b",
   "metadata": {},
   "outputs": [],
   "source": [
    "i32::type_name();    // 문장으로 처리하면 반환값이 없어서 출력한 결과가 없다."
   ]
  },
  {
   "cell_type": "code",
   "execution_count": 17,
   "id": "ffa15db8",
   "metadata": {},
   "outputs": [],
   "source": [
    "// 세미콜론을 안 찍으면 표현식으로 인식한다. "
   ]
  },
  {
   "cell_type": "code",
   "execution_count": 18,
   "id": "38c392d1",
   "metadata": {},
   "outputs": [
    {
     "data": {
      "text/plain": [
       "\"i32\""
      ]
     },
     "execution_count": 18,
     "metadata": {},
     "output_type": "execute_result"
    }
   ],
   "source": [
    "i32::type_name()"
   ]
  },
  {
   "cell_type": "code",
   "execution_count": null,
   "id": "97cbbfed",
   "metadata": {},
   "outputs": [],
   "source": []
  },
  {
   "cell_type": "code",
   "execution_count": null,
   "id": "cc1f43df",
   "metadata": {},
   "outputs": [],
   "source": []
  }
 ],
 "metadata": {
  "kernelspec": {
   "display_name": "Rust",
   "language": "rust",
   "name": "rust"
  },
  "language_info": {
   "codemirror_mode": "rust",
   "file_extension": ".rs",
   "mimetype": "text/rust",
   "name": "Rust",
   "pygment_lexer": "rust",
   "version": ""
  }
 },
 "nbformat": 4,
 "nbformat_minor": 5
}
