{
 "cells": [
  {
   "cell_type": "markdown",
   "id": "ab30e5e6",
   "metadata": {},
   "source": [
    "## 1 트레이트는 다른 트레이트를 상속할 수 있다."
   ]
  },
  {
   "cell_type": "markdown",
   "id": "43082741",
   "metadata": {},
   "source": [
    "### 트레이트 상속\n",
    "\n",
    "- 트레이트 명 다음에 콜론을 붙이고 상속할 트레이트를 표시한다.\n"
   ]
  },
  {
   "cell_type": "code",
   "execution_count": 4,
   "id": "48d5234e",
   "metadata": {},
   "outputs": [],
   "source": [
    "struct SeaCreature {\n",
    "    pub name: String,\n",
    "    noise: String,\n",
    "}\n",
    "\n",
    "impl SeaCreature {\n",
    "    pub fn get_sound(&self) -> &str {\n",
    "        &self.noise\n",
    "    }\n",
    "}\n",
    "\n",
    "trait NoiseMaker {\n",
    "    fn make_noise(&self);\n",
    "}\n",
    "\n",
    "trait LoudNoiseMaker: NoiseMaker {       // 트레이트 상속 \n",
    "    fn make_alot_of_noise(&self) {\n",
    "        self.make_noise();\n",
    "        self.make_noise();\n",
    "        self.make_noise();\n",
    "    }\n",
    "}\n",
    "\n",
    "impl NoiseMaker for SeaCreature {\n",
    "    fn make_noise(&self) {\n",
    "        println!(\"{}\", &self.get_sound());\n",
    "    }\n",
    "}\n",
    "\n",
    "impl LoudNoiseMaker for SeaCreature {}\n",
    "\n"
   ]
  },
  {
   "cell_type": "markdown",
   "id": "139735c3",
   "metadata": {},
   "source": [
    "## 메인 함수를 정의한다"
   ]
  },
  {
   "cell_type": "code",
   "execution_count": 5,
   "id": "c21fec22",
   "metadata": {},
   "outputs": [],
   "source": [
    "fn main() {\n",
    "    let creature = SeaCreature {\n",
    "        name: String::from(\"Ferris\"),\n",
    "        noise: String::from(\"blub\"),\n",
    "    };\n",
    "    creature.make_alot_of_noise();\n",
    "}\n"
   ]
  },
  {
   "cell_type": "code",
   "execution_count": 6,
   "id": "6a785dbd",
   "metadata": {},
   "outputs": [
    {
     "name": "stdout",
     "output_type": "stream",
     "text": [
      "blub\n",
      "blub\n",
      "blub\n"
     ]
    },
    {
     "data": {
      "text/plain": [
       "()"
      ]
     },
     "execution_count": 6,
     "metadata": {},
     "output_type": "execute_result"
    }
   ],
   "source": [
    "main()"
   ]
  },
  {
   "cell_type": "code",
   "execution_count": null,
   "id": "b87f0cbe",
   "metadata": {},
   "outputs": [],
   "source": []
  }
 ],
 "metadata": {
  "kernelspec": {
   "display_name": "Rust",
   "language": "rust",
   "name": "rust"
  },
  "language_info": {
   "codemirror_mode": "rust",
   "file_extension": ".rs",
   "mimetype": "text/rust",
   "name": "Rust",
   "pygment_lexer": "rust",
   "version": ""
  }
 },
 "nbformat": 4,
 "nbformat_minor": 5
}
