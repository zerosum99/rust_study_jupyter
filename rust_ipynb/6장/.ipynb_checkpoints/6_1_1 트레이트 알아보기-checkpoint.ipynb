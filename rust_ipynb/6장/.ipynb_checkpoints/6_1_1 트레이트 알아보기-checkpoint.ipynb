{
 "cells": [
  {
   "cell_type": "code",
   "execution_count": null,
   "id": "124b269e",
   "metadata": {},
   "outputs": [],
   "source": []
  },
  {
   "cell_type": "markdown",
   "id": "7178df10",
   "metadata": {},
   "source": [
    "## 1. 트레이트(Trait) \n",
    "\n",
    "- 여러 구조체나 이넘에 필요한 공통적인 메서드를 선언해서 필요한 구조체나 이넘에 이 메서드를 구현한다.\n",
    "- 공통적인 메서드에는 선언말고도 전체를 구현한 디폴트(default) 메서드도 있다. 이 메서드를 사용할때도 구현이 필요하다.\n",
    "\n",
    "### 트레이트 정의와 트레이트 구현이 필요\n",
    "- 트레이트 정의는 trait 예약어로 선언을 한다.\n",
    "- 트레이트 구현은 해당 trait의 이름을 impl 에 선언하고 내부 메서드를 구현한다.\n",
    "- 이는 일반적인 메서드 구현과 다르다. "
   ]
  },
  {
   "cell_type": "markdown",
   "id": "f5c4a2a6",
   "metadata": {},
   "source": [
    "## 1-1 트레이트 정의 \n",
    "\n",
    "- 구조체의 참조만 사용할 경우는 첫번째 매개변수는 &self\n",
    "- 구조체 내부의 정보를 갱신이 필요할 경우는 첫번째 매개변수를 &mut self\n",
    "- 구조체의 새로운 인스턴스를 만들려면 첫번째 매개변수는 self를 사용"
   ]
  },
  {
   "cell_type": "markdown",
   "id": "99c0fe4a",
   "metadata": {},
   "source": [
    "### 하나의 메서드를 가진 트레이트 정의\n",
    "\n",
    "- 메서드는 기본 메서드 선언 즉 구현체가 없다 "
   ]
  },
  {
   "cell_type": "code",
   "execution_count": 4,
   "id": "9a2ae901",
   "metadata": {},
   "outputs": [],
   "source": [
    "trait Say {\n",
    "    fn say(&self); \n",
    "}"
   ]
  },
  {
   "cell_type": "markdown",
   "id": "aa874789",
   "metadata": {},
   "source": [
    "### 빈 구조체 정의 "
   ]
  },
  {
   "cell_type": "code",
   "execution_count": 5,
   "id": "e6f99a1d",
   "metadata": {},
   "outputs": [],
   "source": [
    "#[derive(Debug)]\n",
    "struct User;"
   ]
  },
  {
   "cell_type": "markdown",
   "id": "6f6db6c0",
   "metadata": {},
   "source": [
    "### 구조체에 트레이트를 구현하기 \n",
    "\n",
    "- 트레이트 이름을 impl 다음에 정의하고 구조체 이름은 for 다음에 정의\n",
    "- 본문에는 트레이트에 있는 메서드 선언을 구현한다. "
   ]
  },
  {
   "cell_type": "code",
   "execution_count": 6,
   "id": "170a8430",
   "metadata": {},
   "outputs": [],
   "source": [
    "impl Say for User {\n",
    "    fn say(&self) {\n",
    "        println!(\" 안녕하세요 !!!! \");\n",
    "    }\n",
    "}"
   ]
  },
  {
   "cell_type": "markdown",
   "id": "342f8b97",
   "metadata": {},
   "source": [
    "## 1-2 메서드 사용  \n",
    "\n",
    "- 메서드를 사용하려면 항상 인스턴스가 존재해야 함\n",
    "- 트레이트의 메서드도 인스턴스로 호출함"
   ]
  },
  {
   "cell_type": "markdown",
   "id": "946f56da",
   "metadata": {},
   "source": [
    "### 인스턴스 생성하기 "
   ]
  },
  {
   "cell_type": "code",
   "execution_count": 7,
   "id": "01d361e7",
   "metadata": {},
   "outputs": [],
   "source": [
    "let u = User;"
   ]
  },
  {
   "cell_type": "markdown",
   "id": "1b5157d4",
   "metadata": {},
   "source": [
    "### 구조체에 구현한 메서드를 호출한다. "
   ]
  },
  {
   "cell_type": "code",
   "execution_count": 8,
   "id": "ce8d6d02",
   "metadata": {},
   "outputs": [
    {
     "name": "stdout",
     "output_type": "stream",
     "text": [
      " 안녕하세요 !!!! \n"
     ]
    }
   ],
   "source": [
    "u.say();"
   ]
  },
  {
   "cell_type": "code",
   "execution_count": null,
   "id": "1379c977",
   "metadata": {},
   "outputs": [],
   "source": []
  },
  {
   "cell_type": "markdown",
   "id": "0bde4caf",
   "metadata": {},
   "source": [
    "## 2. 트레이트는 공통 기능에 대한 선언 \n",
    "\n",
    "- 위에서 선언된 트레이트를 다른 구조체에 다시 정의가 가능하다. \n",
    "- 여러 구조체에 동일한 트레이트의 메서드를 구현할 수 있다. "
   ]
  },
  {
   "cell_type": "markdown",
   "id": "4babfbcb",
   "metadata": {},
   "source": [
    "## 2-1 여러 구조체에 필요한 트레이트 처리 "
   ]
  },
  {
   "cell_type": "markdown",
   "id": "f8bed5bd",
   "metadata": {},
   "source": [
    "### 구조체 정의 "
   ]
  },
  {
   "cell_type": "code",
   "execution_count": 9,
   "id": "6b4c8768",
   "metadata": {},
   "outputs": [],
   "source": [
    "#[derive(Debug)]\n",
    "struct People {\n",
    "    name : String,\n",
    "    age  : u16,\n",
    "}\n",
    "\n",
    "#[derive(Debug)]\n",
    "struct Animal {\n",
    "    name : String,\n",
    "    age  : u16,\n",
    "}"
   ]
  },
  {
   "cell_type": "markdown",
   "id": "16714ac1",
   "metadata": {},
   "source": [
    "### 위에서 정의된 트레이트의 메서드를 구현"
   ]
  },
  {
   "cell_type": "code",
   "execution_count": 10,
   "id": "8b616a78",
   "metadata": {},
   "outputs": [],
   "source": [
    "impl Say for People {\n",
    "    fn say(&self) {\n",
    "        println!(\" People says {} \", self.name);\n",
    "    }\n",
    "}\n",
    "\n",
    "impl Say for Animal  {\n",
    "    fn say(&self) {\n",
    "        println!(\" Animal says {} \", self.name);\n",
    "    }\n",
    "}"
   ]
  },
  {
   "cell_type": "markdown",
   "id": "b9e3cecc",
   "metadata": {},
   "source": [
    "### 구조체의 인스턴스를 생성 "
   ]
  },
  {
   "cell_type": "code",
   "execution_count": 11,
   "id": "2dde9af6",
   "metadata": {},
   "outputs": [],
   "source": [
    "let p = People {name : \"러스트\".to_string(), age : 33 };"
   ]
  },
  {
   "cell_type": "code",
   "execution_count": 13,
   "id": "44a4dea3",
   "metadata": {},
   "outputs": [],
   "source": [
    "let a = Animal {name : \"개\".to_string(), age : 7 };"
   ]
  },
  {
   "cell_type": "markdown",
   "id": "c53a55eb",
   "metadata": {},
   "source": [
    "### 메서드를 호출 "
   ]
  },
  {
   "cell_type": "code",
   "execution_count": 12,
   "id": "72558604",
   "metadata": {},
   "outputs": [
    {
     "name": "stdout",
     "output_type": "stream",
     "text": [
      " People says 러스트 \n"
     ]
    }
   ],
   "source": [
    "p.say();"
   ]
  },
  {
   "cell_type": "code",
   "execution_count": 14,
   "id": "2415e4e8",
   "metadata": {},
   "outputs": [
    {
     "name": "stdout",
     "output_type": "stream",
     "text": [
      " Animal says 개 \n"
     ]
    }
   ],
   "source": [
    "a.say();"
   ]
  },
  {
   "cell_type": "code",
   "execution_count": null,
   "id": "86827757",
   "metadata": {},
   "outputs": [],
   "source": []
  },
  {
   "cell_type": "code",
   "execution_count": null,
   "id": "e5ba2093",
   "metadata": {},
   "outputs": [],
   "source": []
  },
  {
   "cell_type": "markdown",
   "id": "385cfec2",
   "metadata": {},
   "source": [
    "## 2-2. 일반 메서드와 트레이트 메서드의 차이점 이해하기"
   ]
  },
  {
   "cell_type": "markdown",
   "id": "3fa8f4b1",
   "metadata": {},
   "source": [
    "### 구조체의 기능인 메서드 정의 \n",
    "\n",
    "- 구조체만 사용하는 기능을 정의 "
   ]
  },
  {
   "cell_type": "code",
   "execution_count": 15,
   "id": "fdfddb76",
   "metadata": {},
   "outputs": [],
   "source": [
    "struct SeaCreature {\n",
    "    name: String,\n",
    "    noise: String,\n",
    "}\n",
    "\n",
    "impl SeaCreature {\n",
    "    fn get_sound(&self) -> &str {\n",
    "        &self.noise\n",
    "    }\n",
    "}"
   ]
  },
  {
   "cell_type": "markdown",
   "id": "4fe3d06e",
   "metadata": {},
   "source": [
    "### 트레이트 정의 및 이를 구조체에 구현하기 \n",
    "\n",
    "- 트레이트의 메서드 내에서 구조체의 일반 메서드를 호출해서 처리\n",
    "- 구조체 메서드는 인스턴스를 통해 호출이 가능하므로 같이 정의가 되어있다면 호출이 가능"
   ]
  },
  {
   "cell_type": "code",
   "execution_count": 16,
   "id": "0e507071",
   "metadata": {},
   "outputs": [],
   "source": [
    "trait NoiseMaker_ {\n",
    "    fn make_noise_(&self);\n",
    "}\n",
    "\n",
    "impl NoiseMaker_ for SeaCreature {\n",
    "    fn make_noise_(&self) {\n",
    "        println!(\"{}\", &self.get_sound());\n",
    "    }\n",
    "}"
   ]
  },
  {
   "cell_type": "markdown",
   "id": "a107dfd9",
   "metadata": {},
   "source": [
    "### 구조체 인스턴스를 생성하고 트레이트 기능을 실행"
   ]
  },
  {
   "cell_type": "code",
   "execution_count": 17,
   "id": "0c2d151f",
   "metadata": {},
   "outputs": [],
   "source": [
    "fn main() {\n",
    "    let creature = SeaCreature {\n",
    "        name: String::from(\"Ferris\"),\n",
    "        noise: String::from(\"blub\"),\n",
    "    };\n",
    "    creature.make_noise_();\n",
    "}\n"
   ]
  },
  {
   "cell_type": "code",
   "execution_count": 18,
   "id": "078ad442",
   "metadata": {},
   "outputs": [
    {
     "name": "stdout",
     "output_type": "stream",
     "text": [
      "blub\n"
     ]
    },
    {
     "data": {
      "text/plain": [
       "()"
      ]
     },
     "execution_count": 18,
     "metadata": {},
     "output_type": "execute_result"
    }
   ],
   "source": [
    "main()"
   ]
  },
  {
   "cell_type": "markdown",
   "id": "33fe3132",
   "metadata": {},
   "source": [
    "## 3. 트레이트 내의 default 메서드에서 트레이트 내부 메서드 호출  "
   ]
  },
  {
   "cell_type": "markdown",
   "id": "0e9f05a4",
   "metadata": {},
   "source": [
    "### 트레이트 default 메서드 지정\n",
    "- 트레이트의 메서드를 여러번 호출 \n",
    "- 트레이트 default 메서드는 별도로 재구현하지 않으면 이 트레이트를 구현하는 모든 구조체에서 그대로 사용가능"
   ]
  },
  {
   "cell_type": "code",
   "execution_count": 19,
   "id": "3a5dcaf9",
   "metadata": {},
   "outputs": [],
   "source": [
    "trait NoiseMaker {\n",
    "    fn make_noise(&self);\n",
    "    \n",
    "    fn make_alot_of_noise(&self){   // default 메서드\n",
    "        self.make_noise();\n",
    "        self.make_noise();\n",
    "        self.make_noise();\n",
    "    }\n",
    "}"
   ]
  },
  {
   "cell_type": "markdown",
   "id": "f4bb722a",
   "metadata": {},
   "source": [
    "### 구조체에 트레이트의 메서드 선언만  구현 "
   ]
  },
  {
   "cell_type": "code",
   "execution_count": 20,
   "id": "2803fa49",
   "metadata": {},
   "outputs": [],
   "source": [
    "impl NoiseMaker for SeaCreature {\n",
    "    fn make_noise(&self) {\n",
    "        println!(\"{}\", &self.get_sound());\n",
    "    }\n",
    "}"
   ]
  },
  {
   "cell_type": "markdown",
   "id": "e2e82f3b",
   "metadata": {},
   "source": [
    "### 구조체의 인스턴스를 생성하고 default 메서드를 호출 "
   ]
  },
  {
   "cell_type": "code",
   "execution_count": 21,
   "id": "f094f97a",
   "metadata": {},
   "outputs": [],
   "source": [
    "fn main() {\n",
    "    let creature = SeaCreature {\n",
    "        name: String::from(\"Ferris\"),\n",
    "        noise: String::from(\"blub\"),\n",
    "    };\n",
    "    creature.make_alot_of_noise();\n",
    "}\n"
   ]
  },
  {
   "cell_type": "code",
   "execution_count": 22,
   "id": "1258800c",
   "metadata": {},
   "outputs": [
    {
     "name": "stdout",
     "output_type": "stream",
     "text": [
      "blub\n",
      "blub\n",
      "blub\n"
     ]
    },
    {
     "data": {
      "text/plain": [
       "()"
      ]
     },
     "execution_count": 22,
     "metadata": {},
     "output_type": "execute_result"
    }
   ],
   "source": [
    "main()"
   ]
  },
  {
   "cell_type": "code",
   "execution_count": null,
   "id": "35125c5d",
   "metadata": {},
   "outputs": [],
   "source": []
  },
  {
   "cell_type": "code",
   "execution_count": null,
   "id": "d2d962ca",
   "metadata": {},
   "outputs": [],
   "source": []
  },
  {
   "cell_type": "code",
   "execution_count": null,
   "id": "d7410f22",
   "metadata": {},
   "outputs": [],
   "source": []
  },
  {
   "cell_type": "code",
   "execution_count": null,
   "id": "7a1be288",
   "metadata": {},
   "outputs": [],
   "source": []
  }
 ],
 "metadata": {
  "kernelspec": {
   "display_name": "Rust",
   "language": "rust",
   "name": "rust"
  },
  "language_info": {
   "codemirror_mode": "rust",
   "file_extension": ".rs",
   "mimetype": "text/rust",
   "name": "Rust",
   "pygment_lexer": "rust",
   "version": ""
  }
 },
 "nbformat": 4,
 "nbformat_minor": 5
}
