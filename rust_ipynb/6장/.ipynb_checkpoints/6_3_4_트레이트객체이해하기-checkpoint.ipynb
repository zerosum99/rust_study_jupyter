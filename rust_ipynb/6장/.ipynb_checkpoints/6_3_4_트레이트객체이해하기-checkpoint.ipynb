{
 "cells": [
  {
   "cell_type": "code",
   "execution_count": null,
   "id": "69d9af02-4650-4776-9a33-8d1873f86466",
   "metadata": {},
   "outputs": [],
   "source": []
  },
  {
   "cell_type": "code",
   "execution_count": null,
   "id": "ad925d59-d996-4e45-a056-29dd8db5e89f",
   "metadata": {},
   "outputs": [],
   "source": []
  },
  {
   "cell_type": "markdown",
   "id": "4200d8c9-0ab6-440f-85fb-63aec663f03e",
   "metadata": {},
   "source": [
    "## 1. 트레이트 객체 \n",
    "\n",
    "### 참조를 이용한 트레이트 객체: \n",
    "- 트레이트를 가리키는 참조를 사용하여 트레이트 객체를 생성할 수 있습니다.\n",
    "- 예를 들어, &dyn Trait 형태의 트레이트 참조를 사용하여 트레이트 객체를 만들 수 있습니다.\n",
    "\n",
    "### 박싱을 이용한 트레이트 객체: \n",
    "- 박싱(Boxing)은 트레이트를 구현한 구조체나 열거형을 힙에 할당하여 포인터로 관리하는 방식입니다.\n",
    "- 따라서 Box<dyn Trait> 형태의 박싱된 트레이트 객체를 사용하여 트레이트 객체를 생성할 수 있습니다."
   ]
  },
  {
   "cell_type": "code",
   "execution_count": null,
   "id": "2408f0a6-ab92-47e0-82b6-50a3522262b5",
   "metadata": {},
   "outputs": [],
   "source": []
  },
  {
   "cell_type": "code",
   "execution_count": null,
   "id": "61921bec-3ea9-475d-8881-a7047a8531ee",
   "metadata": {},
   "outputs": [],
   "source": []
  },
  {
   "cell_type": "markdown",
   "id": "fa60c67c-236d-4cfe-b671-7978b1ce065a",
   "metadata": {},
   "source": [
    "## 1-1 dyn 트레이트  "
   ]
  },
  {
   "cell_type": "markdown",
   "id": "0fbf3193-e285-4951-aee7-c31ee4e71f75",
   "metadata": {},
   "source": [
    "### dyn 트레이트는 \n",
    "- 트레이트를 구현한 구조체나 열거형에 대한 동적 디스패치를 수행하기 위해 사용됩니다. \n",
    "- 즉, 런타임에 구체적인 타입이 알려진 구조체나 열거형의 인스턴스에 대해 해당 트레이트의 메서드를 호출할 때 사용됩니다. \n",
    "- 예를 들어, fn some_function(arg: &dyn SomeTrait)와 같이 트레이트 객체를 인자로 받는 함수를 선언할 때 사용됩니다."
   ]
  },
  {
   "cell_type": "markdown",
   "id": "9803cffc-9d06-4304-8129-90ddd905f51b",
   "metadata": {},
   "source": [
    "### 1-1 함수 매개변수에 정의해서 처리하기 "
   ]
  },
  {
   "cell_type": "code",
   "execution_count": 2,
   "id": "6478786b-672c-43a5-8249-d36ac26c8864",
   "metadata": {},
   "outputs": [],
   "source": [
    "// 동물 트레이트 정의\n",
    "trait Animal {\n",
    "    fn sound(&self) -> &'static str;\n",
    "}\n",
    "\n",
    "// Dog 구조체 정의 및 Animal 트레이트 구현\n",
    "struct Dog;\n",
    "\n",
    "impl Animal for Dog {\n",
    "    fn sound(&self) -> &'static str {\n",
    "        \"Woof!\"\n",
    "    }\n",
    "}\n",
    "\n",
    "// Cat 구조체 정의 및 Animal 트레이트 구현\n",
    "struct Cat;\n",
    "\n",
    "impl Animal for Cat {\n",
    "    fn sound(&self) -> &'static str {\n",
    "        \"Meow!\"\n",
    "    }\n",
    "}\n",
    "\n",
    "// make_sound 함수 정의\n",
    "fn make_sound(animal: &dyn Animal) {\n",
    "    println!(\"{}\", animal.sound());\n",
    "}"
   ]
  },
  {
   "cell_type": "code",
   "execution_count": 3,
   "id": "286aeda2-4f7d-49e9-9f3b-faa369150119",
   "metadata": {},
   "outputs": [],
   "source": [
    "fn main() {\n",
    "    // Dog와 Cat은 각각 Animal 트레이트를 구현했지만,\n",
    "    // 컴파일 시점에는 실제 타입을 알 수 없음\n",
    "    let dog = Dog;\n",
    "    let cat = Cat;\n",
    "\n",
    "    // make_sound 함수 호출\n",
    "    make_sound(&dog); // \"Woof!\" 출력\n",
    "    make_sound(&cat); // \"Meow!\" 출력\n",
    "}"
   ]
  },
  {
   "cell_type": "code",
   "execution_count": 4,
   "id": "cd443cca-200a-434c-9618-7df8f47569d9",
   "metadata": {},
   "outputs": [
    {
     "name": "stdout",
     "output_type": "stream",
     "text": [
      "Woof!\n",
      "Meow!\n"
     ]
    }
   ],
   "source": [
    "main();"
   ]
  },
  {
   "cell_type": "markdown",
   "id": "ab500321-b0cf-429d-b0e0-26176899afd2",
   "metadata": {},
   "source": [
    "### 1-1-2 변수에 정의해서 사용하기 "
   ]
  },
  {
   "cell_type": "code",
   "execution_count": 7,
   "id": "373c1849-734d-4c58-a7d0-ca3437e416e6",
   "metadata": {},
   "outputs": [],
   "source": [
    "fn main() {\n",
    "    // dyn 트레이트 변수 정의\n",
    "    let animal: &dyn Animal;\n",
    "\n",
    "    // 런타임에서 구체적인 구현을 선택하여 변수에 할당\n",
    "    let is_dog = true;\n",
    "    if is_dog {\n",
    "        animal = &Dog;\n",
    "    } else {\n",
    "        animal = &Cat;\n",
    "    }\n",
    "\n",
    "    // make_sound 함수 호출\n",
    "    println!(\"{}\", animal.sound()); // \"Woof!\" 또는 \"Meow!\" 출력\n",
    "}"
   ]
  },
  {
   "cell_type": "code",
   "execution_count": 8,
   "id": "9b9d9f72-f59e-4645-b5b1-0aaf433e8061",
   "metadata": {},
   "outputs": [
    {
     "name": "stdout",
     "output_type": "stream",
     "text": [
      "Woof!\n"
     ]
    }
   ],
   "source": [
    "main();"
   ]
  },
  {
   "cell_type": "markdown",
   "id": "b9ce65d0-05cf-47d3-821e-831030747648",
   "metadata": {},
   "source": [
    "## 1-2 Box<dyn 트레이트>  "
   ]
  },
  {
   "cell_type": "markdown",
   "id": "de282aa1-a88d-4ecf-b7a9-a076b44c907c",
   "metadata": {},
   "source": [
    "### Box<dyn 트레이트>는 \n",
    "- dyn 트레이트를 가리키는 스마트 포인터로, 힙에 할당된 dyn 트레이트 객체에 대한 소유권을 가집니다. \n",
    "- 일반적으로 dyn 트레이트 객체의 크기가 컴파일 타임에 알려지지 않으므로 스택에 직접 할당할 수 없습니다. \n",
    "- 따라서 Box<dyn 트레이트>를 사용하여 힙에 할당된 동적 트레이트 객체를 만들고, 이 객체에 대한 소유권을 관리할 수 있습니다. \n",
    "- 이는 동적 디스패치를 수행해야 하는 상황에서 편리하게 사용됩니다."
   ]
  },
  {
   "cell_type": "markdown",
   "id": "591856bf-16cb-4214-a38d-3da7787b3d9b",
   "metadata": {},
   "source": [
    "### 1-2-1  함수에 넣고 처리하기 "
   ]
  },
  {
   "cell_type": "code",
   "execution_count": 5,
   "id": "d673af52-9bb2-4acf-a827-2389a39250d2",
   "metadata": {},
   "outputs": [],
   "source": [
    "// make_sound 함수 정의\n",
    "fn make_sound(animal: Box<dyn Animal>) {\n",
    "    println!(\"{}\", animal.sound());\n",
    "}\n",
    "\n",
    "fn main() {\n",
    "    // Box<dyn Animal>으로 힙에 동적으로 할당된 동물 객체 생성\n",
    "    let dog_box = Box::new(Dog);\n",
    "    let cat_box = Box::new(Cat);\n",
    "\n",
    "    // make_sound 함수 호출\n",
    "    make_sound(dog_box); // \"Woof!\" 출력\n",
    "    make_sound(cat_box); // \"Meow!\" 출력\n",
    "}"
   ]
  },
  {
   "cell_type": "code",
   "execution_count": 6,
   "id": "79b49e1d-fad2-4d6b-ac99-94ea2cc3565e",
   "metadata": {},
   "outputs": [
    {
     "name": "stdout",
     "output_type": "stream",
     "text": [
      "Woof!\n",
      "Meow!\n"
     ]
    }
   ],
   "source": [
    "main();"
   ]
  },
  {
   "cell_type": "code",
   "execution_count": null,
   "id": "095ae0fd-e7c3-4678-8fdd-770685473bcc",
   "metadata": {},
   "outputs": [],
   "source": []
  },
  {
   "cell_type": "markdown",
   "id": "b495be75-a541-499a-a596-2fe716b891c8",
   "metadata": {},
   "source": [
    "### 1-2-2 벡터의 자료형으로 넣고 처리하기 "
   ]
  },
  {
   "cell_type": "code",
   "execution_count": 9,
   "id": "66918888-7857-4add-bef2-30a98aeec46d",
   "metadata": {},
   "outputs": [],
   "source": [
    "fn main() {\n",
    "    // Box<dyn Animal>으로 이루어진 벡터 생성\n",
    "    let mut animals: Vec<Box<dyn Animal>> = Vec::new();\n",
    "\n",
    "    // 벡터에 Box<dyn Animal> 추가\n",
    "    animals.push(Box::new(Dog));\n",
    "    animals.push(Box::new(Cat));\n",
    "\n",
    "    // 벡터 순회하며 각 동물의 소리 출력\n",
    "    for animal in animals.iter() {\n",
    "        println!(\"{}\", animal.sound());\n",
    "    }\n",
    "}"
   ]
  },
  {
   "cell_type": "code",
   "execution_count": 10,
   "id": "7ebdd74d-79ab-448c-a403-dae5623d1541",
   "metadata": {},
   "outputs": [
    {
     "name": "stdout",
     "output_type": "stream",
     "text": [
      "Woof!\n",
      "Meow!\n"
     ]
    }
   ],
   "source": [
    "main();"
   ]
  },
  {
   "cell_type": "code",
   "execution_count": null,
   "id": "54b8a706-fd5f-4383-863f-ad939cd80f72",
   "metadata": {},
   "outputs": [],
   "source": []
  }
 ],
 "metadata": {
  "kernelspec": {
   "display_name": "Rust",
   "language": "rust",
   "name": "rust"
  },
  "language_info": {
   "codemirror_mode": "rust",
   "file_extension": ".rs",
   "mimetype": "text/rust",
   "name": "Rust",
   "pygment_lexer": "rust",
   "version": ""
  }
 },
 "nbformat": 4,
 "nbformat_minor": 5
}
