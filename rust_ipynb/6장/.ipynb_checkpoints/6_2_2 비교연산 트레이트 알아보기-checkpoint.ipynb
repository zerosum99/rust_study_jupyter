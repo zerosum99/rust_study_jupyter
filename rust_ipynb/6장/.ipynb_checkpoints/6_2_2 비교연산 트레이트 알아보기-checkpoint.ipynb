{
 "cells": [
  {
   "cell_type": "markdown",
   "id": "ebc3c12f",
   "metadata": {},
   "source": [
    "## PartialOrd 트레이트와 Ord 트레이트는 비교 연산에 사용되는 트레이트 \n",
    "\n",
    "- PartialOrd는 부분적인 순서를 정의하고, \n",
    "- Ord는 전체적인 순서를 정의합니다.\n",
    "\n",
    "- 이 둘은 상속관계이며, Ord 트레이트는 PartialOrd 트레이트를 구현하고 있습니다."
   ]
  },
  {
   "cell_type": "markdown",
   "id": "70d341d7",
   "metadata": {},
   "source": [
    "### PartialOrd 트레이트는 다음과 같은 연산자를 정의합니다.\n",
    "\n",
    "- lt(&self, other: &Self) -> bool:  < : 두 값을 비교하여 첫 번째 값이 두 번째 값보다 작으면 true를 반환합니다.\n",
    "- le(&self, other: &Self) -> bool: <= : 두 값을 비교하여 첫 번째 값이 두 번째 값보다 작거나 같으면 true를 반환합니다.\n",
    "- gt(&self, other: &Self) -> bool: > : 두 값을 비교하여 첫 번째 값이 두 번째 값보다 크면 true를 반환합니다.\n",
    "- ge(&self, other: &Self) -> bool: >= : 두 값을 비교하여 첫 번째 값이 두 번째 값보다 크거나 같으면 true를 반환합니다.\n",
    "\n",
    "### Ord 트레이트는 PartialOrd 트레이트를 상속하며, 다음과 같은 연산자를 정의합니다.\n",
    "\n",
    "- == : 두 값을 비교하여 같으면 true를 반환합니다.\n",
    "- != : 두 값을 비교하여 다르면 true를 반환합니다.\n",
    "- cmp : 두 값을 비교하여, 첫 번째 값이 작으면 Ordering::Less, 같으면 Ordering::Equal, 크면 Ordering::Greater를 반환합니다."
   ]
  },
  {
   "cell_type": "code",
   "execution_count": null,
   "id": "b38c6427",
   "metadata": {},
   "outputs": [],
   "source": []
  },
  {
   "cell_type": "code",
   "execution_count": 19,
   "id": "a315beda",
   "metadata": {},
   "outputs": [],
   "source": [
    "use std::cmp::Ordering;"
   ]
  },
  {
   "cell_type": "code",
   "execution_count": 20,
   "id": "7f8112fa",
   "metadata": {},
   "outputs": [],
   "source": [
    "struct Person {\n",
    "    age: u32,\n",
    "}\n",
    "\n",
    "impl PartialOrd for Person {\n",
    "    fn partial_cmp(&self, other: &Self) -> Option<Ordering> {\n",
    "        self.age.partial_cmp(&other.age)\n",
    "    }\n",
    "}\n",
    "\n",
    "impl PartialEq for Person {\n",
    "    fn eq(&self, other: &Self) -> bool {\n",
    "        self.age == other.age\n",
    "    }\n",
    "}\n",
    "\n",
    "impl Person {\n",
    "    fn new(age: u32) -> Self {\n",
    "        Person { age }\n",
    "    }\n",
    "}"
   ]
  },
  {
   "cell_type": "code",
   "execution_count": 21,
   "id": "4e792b98",
   "metadata": {},
   "outputs": [],
   "source": [
    "fn main() {\n",
    "    let alice = Person::new(25);\n",
    "    let bob = Person::new(30);\n",
    "\n",
    "    if alice < bob {\n",
    "        println!(\"Alice is younger than Bob\");\n",
    "    } else {\n",
    "        println!(\"Bob is younger than Alice\");\n",
    "    }\n",
    "}"
   ]
  },
  {
   "cell_type": "code",
   "execution_count": 22,
   "id": "4d5fb69d",
   "metadata": {},
   "outputs": [
    {
     "name": "stdout",
     "output_type": "stream",
     "text": [
      "Alice is younger than Bob\n"
     ]
    }
   ],
   "source": [
    "main();"
   ]
  },
  {
   "cell_type": "code",
   "execution_count": null,
   "id": "5c694578",
   "metadata": {},
   "outputs": [],
   "source": []
  },
  {
   "cell_type": "code",
   "execution_count": null,
   "id": "d286a623",
   "metadata": {},
   "outputs": [],
   "source": []
  },
  {
   "cell_type": "code",
   "execution_count": 10,
   "id": "f56c3dec",
   "metadata": {},
   "outputs": [],
   "source": [
    "#[derive(PartialEq, PartialOrd, Ord, Eq)]\n",
    "struct Student {\n",
    "    name: String,\n",
    "    age: i32,\n",
    "}\n"
   ]
  },
  {
   "cell_type": "code",
   "execution_count": 12,
   "id": "13696c7e",
   "metadata": {},
   "outputs": [],
   "source": [
    "fn main() {\n",
    "    let s1 = Student { name: String::from(\"Alice\"), age: 20 };\n",
    "    let s2 = Student { name: String::from(\"Bob\"), age: 22 };\n",
    "    let s3 = Student { name: String::from(\"Charlie\"), age: 20 };\n",
    "    let s4 = Student { name: String::from(\"Alice\"), age: 20 };\n",
    "    \n",
    "    // PartialOrd example\n",
    "    assert!(s1 < s2);\n",
    "    assert!(s1 <= s2);\n",
    "    assert!(s1 <= s3);\n",
    "    assert!(s1 > s2);\n",
    "    //assert!(s2 >= s3);\n",
    "    \n",
    "    // Ord example\n",
    "    //assert_eq!(s1.cmp(&s2), std::cmp::Ordering::Less);\n",
    "    //assert_eq!(s1.cmp(&s4), std::cmp::Ordering::Equal);\n",
    "    //assert_eq!(s2.cmp(&s3), std::cmp::Ordering::Greater);\n",
    "}"
   ]
  },
  {
   "cell_type": "code",
   "execution_count": 13,
   "id": "854f8b39",
   "metadata": {},
   "outputs": [
    {
     "name": "stderr",
     "output_type": "stream",
     "text": [
      "thread '<unnamed>' panicked at 'assertion failed: s1 > s2', src/lib.rs:12:5\n",
      "stack backtrace:\n",
      "   0: _rust_begin_unwind\n",
      "   1: core::panicking::panic_fmt\n",
      "   2: core::panicking::panic\n",
      "   3: <unknown>\n",
      "   4: <unknown>\n",
      "   5: evcxr::runtime::Runtime::run_loop\n",
      "   6: evcxr::runtime::runtime_hook\n",
      "   7: evcxr_jupyter::main\n",
      "note: Some details are omitted, run with `RUST_BACKTRACE=full` for a verbose backtrace.\n"
     ]
    }
   ],
   "source": [
    "main();"
   ]
  },
  {
   "cell_type": "code",
   "execution_count": null,
   "id": "77d778c0",
   "metadata": {},
   "outputs": [],
   "source": []
  },
  {
   "cell_type": "markdown",
   "id": "bbfe2cd8",
   "metadata": {},
   "source": [
    "## 3. 비교연산 \n",
    "\n",
    "- "
   ]
  },
  {
   "cell_type": "markdown",
   "id": "30a3a72b",
   "metadata": {},
   "source": [
    "### 순서 체크는 Ordering 이넘 사용 \n",
    "\n",
    "- 러스트의 Ordering은 정렬 순서를 표현하기 위해 사용되는 열거형(Enum)입니다. \n",
    "- Ordering은 크기 비교 함수를 사용할 때 결과를 표현하기 위해 사용됩니다. \n",
    "\n",
    "\n",
    "#### Ordering에는 다음과 같은 세 가지 가치가 있습니다.\n",
    "\n",
    "- Less: 왼쪽 값이 작은 경우\n",
    "- Equal: 두 값이 동일한 경우\n",
    "- Greater: 왼쪽 값이 큰 경우"
   ]
  },
  {
   "cell_type": "code",
   "execution_count": 32,
   "id": "15478448",
   "metadata": {},
   "outputs": [],
   "source": [
    "assert_eq!(Ordering::Less.is_eq(), false);\n",
    "assert_eq!(Ordering::Equal.is_eq(), true);\n",
    "assert_eq!(Ordering::Greater.is_eq(), false);"
   ]
  },
  {
   "cell_type": "code",
   "execution_count": null,
   "id": "ff48ba03",
   "metadata": {},
   "outputs": [],
   "source": []
  },
  {
   "cell_type": "code",
   "execution_count": 33,
   "id": "cdfd57cb",
   "metadata": {},
   "outputs": [],
   "source": [
    "fn main() {\n",
    "    let x = 5;\n",
    "    let y = 10;\n",
    "    match x.cmp(&y) {\n",
    "        Ordering::Less => println!(\"x is less than y\"),\n",
    "        Ordering::Equal => println!(\"x is equal to y\"),\n",
    "        Ordering::Greater => println!(\"x is greater than y\"),\n",
    "    }\n",
    "}"
   ]
  },
  {
   "cell_type": "code",
   "execution_count": 34,
   "id": "cc154a5a",
   "metadata": {},
   "outputs": [
    {
     "name": "stdout",
     "output_type": "stream",
     "text": [
      "x is less than y\n"
     ]
    }
   ],
   "source": [
    "main();"
   ]
  },
  {
   "cell_type": "markdown",
   "id": "7f37b4ba",
   "metadata": {},
   "source": [
    "### 비교 메서드 처리 1"
   ]
  },
  {
   "cell_type": "code",
   "execution_count": 29,
   "id": "75a6a679",
   "metadata": {},
   "outputs": [],
   "source": [
    "use std::cmp::Ordering;\n",
    "\n",
    "let result = 1.cmp(&2);\n",
    "assert_eq!(Ordering::Less, result);\n",
    "\n",
    "let result = 1.cmp(&1);\n",
    "assert_eq!(Ordering::Equal, result);\n",
    "\n",
    "let result = 2.cmp(&1);\n",
    "assert_eq!(Ordering::Greater, result);"
   ]
  },
  {
   "cell_type": "markdown",
   "id": "a25b94bd",
   "metadata": {},
   "source": [
    "### 비교 메서드 처리  2"
   ]
  },
  {
   "cell_type": "code",
   "execution_count": 25,
   "id": "fd54a2a6",
   "metadata": {},
   "outputs": [],
   "source": [
    "use std::cmp::Ordering;"
   ]
  },
  {
   "cell_type": "code",
   "execution_count": 30,
   "id": "d68f657e",
   "metadata": {},
   "outputs": [],
   "source": [
    "fn main() {\n",
    "    let a = 1;\n",
    "    let b = 2;\n",
    "    let c = 3;\n",
    "    let d = 4;\n",
    "\n",
    "    // PartialOrd trait\n",
    "    println!(\"{:?}\", a.partial_cmp(&b).unwrap()); // Less\n",
    "    println!(\"{:?}\", c.partial_cmp(&d).unwrap()); // Less\n",
    "\n",
    "    // Ord trait\n",
    "    println!(\"{:?}\", a.cmp(&b)); // Less\n",
    "    println!(\"{:?}\", c.cmp(&d)); // Less\n",
    "}"
   ]
  },
  {
   "cell_type": "code",
   "execution_count": 31,
   "id": "b6f4e8bd",
   "metadata": {},
   "outputs": [
    {
     "name": "stdout",
     "output_type": "stream",
     "text": [
      "Less\n",
      "Less\n",
      "Less\n",
      "Less\n"
     ]
    }
   ],
   "source": [
    "main();"
   ]
  },
  {
   "cell_type": "code",
   "execution_count": null,
   "id": "fb928e85",
   "metadata": {},
   "outputs": [],
   "source": []
  },
  {
   "cell_type": "markdown",
   "id": "948d904b",
   "metadata": {},
   "source": [
    "## 정렬 "
   ]
  },
  {
   "cell_type": "code",
   "execution_count": 39,
   "id": "68a9f10e",
   "metadata": {},
   "outputs": [],
   "source": [
    "#[derive(PartialEq, PartialOrd, Eq, Ord)]\n",
    "struct Person {\n",
    "    name: String,\n",
    "    age: u8,\n",
    "}\n",
    "\n",
    "fn main() {\n",
    "    let mut people = vec![\n",
    "        Person {\n",
    "            name: \"Alice\".to_string(),\n",
    "            age: 23,\n",
    "        },\n",
    "        Person {\n",
    "            name: \"Bob\".to_string(),\n",
    "            age: 25,\n",
    "        },\n",
    "        Person {\n",
    "            name: \"Charlie\".to_string(),\n",
    "            age: 25,\n",
    "        },\n",
    "    ];\n",
    "\n",
    "    // Ord로 정렬하기\n",
    "    people.sort();\n",
    "\n",
    "    for person in &people {\n",
    "        println!(\"{} {}\", person.name, person.age);\n",
    "    }\n",
    "}"
   ]
  },
  {
   "cell_type": "code",
   "execution_count": 40,
   "id": "fb7083a1",
   "metadata": {},
   "outputs": [
    {
     "name": "stdout",
     "output_type": "stream",
     "text": [
      "Alice 23\n",
      "Bob 25\n",
      "Charlie 25\n"
     ]
    }
   ],
   "source": [
    "main();"
   ]
  },
  {
   "cell_type": "code",
   "execution_count": null,
   "id": "c2e7e099",
   "metadata": {},
   "outputs": [],
   "source": []
  },
  {
   "cell_type": "markdown",
   "id": "c9e5d093",
   "metadata": {},
   "source": [
    "## 트레이트를 구현하기 "
   ]
  },
  {
   "cell_type": "code",
   "execution_count": 41,
   "id": "48a9cb4f",
   "metadata": {},
   "outputs": [],
   "source": [
    "#[derive(Eq)]\n",
    "struct Person_1 {\n",
    "    id: u32,\n",
    "    name: String,\n",
    "    height: u32,\n",
    "}\n",
    "\n",
    "impl PartialOrd for Person_1 {\n",
    "    fn partial_cmp(&self, other: &Self) -> Option<Ordering> {\n",
    "        Some(self.cmp(other))\n",
    "    }\n",
    "}\n",
    "\n",
    "impl Ord for Person_1 {\n",
    "    fn cmp(&self, other: &Self) -> Ordering {\n",
    "        self.height.cmp(&other.height)\n",
    "    }\n",
    "}\n",
    "\n",
    "impl PartialEq for Person_1 {\n",
    "    fn eq(&self, other: &Self) -> bool {\n",
    "        self.height == other.height\n",
    "    }\n",
    "}"
   ]
  },
  {
   "cell_type": "code",
   "execution_count": null,
   "id": "f43a24b0",
   "metadata": {},
   "outputs": [],
   "source": []
  },
  {
   "cell_type": "code",
   "execution_count": 43,
   "id": "33260776",
   "metadata": {},
   "outputs": [],
   "source": [
    "fn main() {\n",
    "    let mut people = vec![\n",
    "        Person_1 { \n",
    "            id : 1,\n",
    "            name: \"Alice\".to_string(),\n",
    "            height: 179,\n",
    "        },\n",
    "        Person_1 {\n",
    "            id : 2,\n",
    "            name: \"Bob\".to_string(),\n",
    "            height: 189,\n",
    "        },\n",
    "        Person_1 {\n",
    "            id : 3,\n",
    "            name: \"Charlie\".to_string(),\n",
    "            height: 169,\n",
    "        },\n",
    "    ];\n",
    "\n",
    "    // Ord로 정렬하기\n",
    "    people.sort();\n",
    "\n",
    "    for person in &people {\n",
    "        println!(\"{} {}\", person.name, person.height);\n",
    "    }\n",
    "}"
   ]
  },
  {
   "cell_type": "code",
   "execution_count": 44,
   "id": "573d3b4b",
   "metadata": {},
   "outputs": [
    {
     "name": "stdout",
     "output_type": "stream",
     "text": [
      "Charlie 169\n",
      "Alice 179\n",
      "Bob 189\n"
     ]
    }
   ],
   "source": [
    "main();"
   ]
  },
  {
   "cell_type": "code",
   "execution_count": null,
   "id": "7bc55c32",
   "metadata": {},
   "outputs": [],
   "source": []
  },
  {
   "cell_type": "code",
   "execution_count": null,
   "id": "2ef509b4",
   "metadata": {},
   "outputs": [],
   "source": []
  },
  {
   "cell_type": "code",
   "execution_count": null,
   "id": "74247e21",
   "metadata": {},
   "outputs": [],
   "source": []
  },
  {
   "cell_type": "code",
   "execution_count": 35,
   "id": "e5d99e08",
   "metadata": {},
   "outputs": [],
   "source": [
    "fn main() {\n",
    "    let a = 2.0_f64.sqrt();\n",
    "    let b = a * a;\n",
    "    println!(\"a = {}, b = {}\", a, b);\n",
    "    println!(\"a == b : {}\", a == b);\n",
    "    println!(\"a.partial_cmp(&b) : {:?}\", a.partial_cmp(&b));\n",
    "    println!(\"a.is_nan() : {}\", a.is_nan());\n",
    "    println!(\"b.is_nan() : {}\", b.is_nan());\n",
    "}"
   ]
  },
  {
   "cell_type": "code",
   "execution_count": 36,
   "id": "77eb747c",
   "metadata": {},
   "outputs": [
    {
     "name": "stdout",
     "output_type": "stream",
     "text": [
      "a = 1.4142135623730951, b = 2.0000000000000004\n",
      "a == b : false\n",
      "a.partial_cmp(&b) : Some(Less)\n",
      "a.is_nan() : false\n",
      "b.is_nan() : false\n"
     ]
    }
   ],
   "source": [
    "main();"
   ]
  },
  {
   "cell_type": "markdown",
   "id": "62407169",
   "metadata": {},
   "source": [
    "### 부동소수점일 때는 엡실론 사용하기"
   ]
  },
  {
   "cell_type": "code",
   "execution_count": 37,
   "id": "d177c3cf",
   "metadata": {},
   "outputs": [],
   "source": [
    "fn approx_eq(x: f64, y: f64, epsilon: f64) -> bool {\n",
    "    (x - y).abs() < epsilon\n",
    "}"
   ]
  },
  {
   "cell_type": "code",
   "execution_count": 38,
   "id": "c528fff1",
   "metadata": {},
   "outputs": [
    {
     "name": "stdout",
     "output_type": "stream",
     "text": [
      "x is equal to 0.3\n"
     ]
    },
    {
     "data": {
      "text/plain": [
       "()"
      ]
     },
     "execution_count": 38,
     "metadata": {},
     "output_type": "execute_result"
    }
   ],
   "source": [
    "let x = 0.1 + 0.2;\n",
    "if approx_eq(x, 0.3, 1e-10) {\n",
    "    println!(\"x is equal to 0.3\");\n",
    "} else {\n",
    "    println!(\"x is not equal to 0.3\");\n",
    "}"
   ]
  },
  {
   "cell_type": "code",
   "execution_count": 48,
   "id": "6c6a8bc7",
   "metadata": {},
   "outputs": [],
   "source": [
    "fn main() {\n",
    "    let a = 1.0;\n",
    "    let b = 2.0;\n",
    "    let c = 2.000_000_000_000_000_5;\n",
    "\n",
    "    // `f64` 타입은 이미 `PartialOrd`와 `Ord` 트레이트를 구현하고 있으므로,\n",
    "    // 바로 비교할 수 있습니다.\n",
    "    println!(\"{}\", a < b); // true\n",
    "    println!(\"{}\", b > c); // false\n",
    "\n",
    "    // 상수 `EPSILON`을 사용하여 비교하는 예시입니다.\n",
    "    const EPSILON: f64 = 0.000_000_000_000_001;\n",
    "    let d :f64 = a -b;\n",
    "    let e :f64 = b-c; \n",
    "    println!(\"{}\", d.abs() < EPSILON); // true\n",
    "    println!(\"{}\", e.abs() < EPSILON); // true\n",
    "\n",
    "}"
   ]
  },
  {
   "cell_type": "code",
   "execution_count": 49,
   "id": "ac759e3b",
   "metadata": {},
   "outputs": [
    {
     "name": "stdout",
     "output_type": "stream",
     "text": [
      "true\n",
      "false\n",
      "false\n",
      "true\n"
     ]
    }
   ],
   "source": [
    "main();"
   ]
  },
  {
   "cell_type": "code",
   "execution_count": null,
   "id": "d42efeb2",
   "metadata": {},
   "outputs": [],
   "source": []
  }
 ],
 "metadata": {
  "kernelspec": {
   "display_name": "Rust",
   "language": "rust",
   "name": "rust"
  },
  "language_info": {
   "codemirror_mode": "rust",
   "file_extension": ".rs",
   "mimetype": "text/rust",
   "name": "Rust",
   "pygment_lexer": "rust",
   "version": ""
  }
 },
 "nbformat": 4,
 "nbformat_minor": 5
}
