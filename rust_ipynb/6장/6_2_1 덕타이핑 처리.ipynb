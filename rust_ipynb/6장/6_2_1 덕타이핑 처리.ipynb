{
 "cells": [
  {
   "cell_type": "markdown",
   "id": "5450897c",
   "metadata": {},
   "source": [
    "# 1. 덕타이핑 처리 \n",
    "\n",
    "- 구현 트레이트 타입과 트레이트 객체를 통해서 덕타이핑 처리 하기 "
   ]
  },
  {
   "cell_type": "markdown",
   "id": "1f9a4c70",
   "metadata": {},
   "source": [
    "## 1-1 : 트레이트 정의 및 구조체의 구현 "
   ]
  },
  {
   "cell_type": "code",
   "execution_count": 4,
   "id": "1b4acc9a",
   "metadata": {},
   "outputs": [],
   "source": [
    "trait Say {\n",
    "    fn say(&self) ;\n",
    "}"
   ]
  },
  {
   "cell_type": "code",
   "execution_count": 5,
   "id": "9d80b62d",
   "metadata": {},
   "outputs": [],
   "source": [
    "#[derive(Debug)]\n",
    "struct Parent {\n",
    "    name : String, \n",
    "}"
   ]
  },
  {
   "cell_type": "code",
   "execution_count": 6,
   "id": "6431f372",
   "metadata": {},
   "outputs": [],
   "source": [
    "impl Say for Parent {\n",
    "    fn say(&self) {\n",
    "        println!(\" Parent instance ={}\", self.name); \n",
    "    }\n",
    "}"
   ]
  },
  {
   "cell_type": "code",
   "execution_count": null,
   "id": "35c88e4c",
   "metadata": {},
   "outputs": [],
   "source": []
  },
  {
   "cell_type": "code",
   "execution_count": 7,
   "id": "b2fbf7a3",
   "metadata": {},
   "outputs": [],
   "source": [
    "#[derive(Debug)]\n",
    "struct Child {\n",
    "    name : String, \n",
    "}"
   ]
  },
  {
   "cell_type": "code",
   "execution_count": 8,
   "id": "3212e133",
   "metadata": {},
   "outputs": [],
   "source": [
    "impl Say for Child {\n",
    "    fn say(&self) {\n",
    "        println!(\" Child instance ={}\", self.name); \n",
    "    }\n",
    "}"
   ]
  },
  {
   "cell_type": "markdown",
   "id": "b80803f2",
   "metadata": {},
   "source": [
    "## 1-2 :  구현 트레이트로 동일한 메서드 호출\n",
    "\n",
    "- 덕 타이핑이 특징은 동일한 타입에 대한 처리 \n"
   ]
  },
  {
   "cell_type": "code",
   "execution_count": 9,
   "id": "a22f7494",
   "metadata": {},
   "outputs": [],
   "source": [
    "fn say(ins : impl Say) {\n",
    "    ins.say(); \n",
    "}"
   ]
  },
  {
   "cell_type": "code",
   "execution_count": 10,
   "id": "f8b57b6f",
   "metadata": {},
   "outputs": [],
   "source": [
    "let p = Parent { name :\"부모\".to_string() };"
   ]
  },
  {
   "cell_type": "code",
   "execution_count": 11,
   "id": "351594c0",
   "metadata": {},
   "outputs": [],
   "source": [
    "let c = Child { name :\"자식\".to_string() };"
   ]
  },
  {
   "cell_type": "code",
   "execution_count": 12,
   "id": "cba06ac6",
   "metadata": {},
   "outputs": [],
   "source": [
    "say(p);"
   ]
  },
  {
   "cell_type": "code",
   "execution_count": 13,
   "id": "3f0cc863",
   "metadata": {},
   "outputs": [
    {
     "name": "stdout",
     "output_type": "stream",
     "text": [
      " Parent instance =부모\n"
     ]
    }
   ],
   "source": [
    "say(c);"
   ]
  },
  {
   "cell_type": "code",
   "execution_count": 14,
   "id": "e8562e0f",
   "metadata": {},
   "outputs": [
    {
     "name": "stdout",
     "output_type": "stream",
     "text": [
      " Child instance =자식\n"
     ]
    },
    {
     "ename": "Error",
     "evalue": "cannot find value `p` in this scope",
     "output_type": "error",
     "traceback": [
      "\u001b[31m[E0425] Error:\u001b[0m cannot find value `p` in this scope",
      "   \u001b[38;5;246m╭\u001b[0m\u001b[38;5;246m─\u001b[0m\u001b[38;5;246m[\u001b[0mcommand_14:1:1\u001b[38;5;246m]\u001b[0m",
      "   \u001b[38;5;246m│\u001b[0m",
      " \u001b[38;5;246m1 │\u001b[0m \u001b[38;5;54mp\u001b[0m",
      " \u001b[38;5;246m  ·\u001b[0m \u001b[38;5;54m┬\u001b[0m  ",
      " \u001b[38;5;246m  ·\u001b[0m \u001b[38;5;54m╰\u001b[0m\u001b[38;5;54m─\u001b[0m\u001b[38;5;54m─\u001b[0m not found in this scope",
      "\u001b[38;5;246m───╯\u001b[0m"
     ]
    }
   ],
   "source": [
    "p"
   ]
  },
  {
   "cell_type": "code",
   "execution_count": 15,
   "id": "a622392d",
   "metadata": {},
   "outputs": [
    {
     "ename": "Error",
     "evalue": "cannot find value `c` in this scope",
     "output_type": "error",
     "traceback": [
      "\u001b[31m[E0425] Error:\u001b[0m cannot find value `c` in this scope",
      "   \u001b[38;5;246m╭\u001b[0m\u001b[38;5;246m─\u001b[0m\u001b[38;5;246m[\u001b[0mcommand_15:1:1\u001b[38;5;246m]\u001b[0m",
      "   \u001b[38;5;246m│\u001b[0m",
      " \u001b[38;5;246m1 │\u001b[0m \u001b[38;5;54mc\u001b[0m",
      " \u001b[38;5;246m  ·\u001b[0m \u001b[38;5;54m┬\u001b[0m  ",
      " \u001b[38;5;246m  ·\u001b[0m \u001b[38;5;54m╰\u001b[0m\u001b[38;5;54m─\u001b[0m\u001b[38;5;54m─\u001b[0m not found in this scope",
      "\u001b[38;5;246m───╯\u001b[0m"
     ]
    }
   ],
   "source": [
    "c"
   ]
  },
  {
   "cell_type": "code",
   "execution_count": null,
   "id": "f6c0d411",
   "metadata": {},
   "outputs": [],
   "source": []
  },
  {
   "cell_type": "code",
   "execution_count": 16,
   "id": "bea896a2",
   "metadata": {},
   "outputs": [],
   "source": [
    "let p1 = Parent { name :\"부모1\".to_string() };\n",
    "let c1 = Child { name :\"자식1\".to_string() };"
   ]
  },
  {
   "cell_type": "code",
   "execution_count": 17,
   "id": "e66778f7",
   "metadata": {},
   "outputs": [],
   "source": [
    "fn say1(ins : &impl Say) {\n",
    "    ins.say(); \n",
    "}"
   ]
  },
  {
   "cell_type": "code",
   "execution_count": 18,
   "id": "ef7049de",
   "metadata": {},
   "outputs": [
    {
     "name": "stdout",
     "output_type": "stream",
     "text": [
      " Parent instance =부모1\n"
     ]
    }
   ],
   "source": [
    "say1(&p1);"
   ]
  },
  {
   "cell_type": "code",
   "execution_count": 19,
   "id": "272edff3",
   "metadata": {},
   "outputs": [
    {
     "name": "stdout",
     "output_type": "stream",
     "text": [
      " Parent instance =부모1\n"
     ]
    }
   ],
   "source": [
    "say1(&p1);"
   ]
  },
  {
   "cell_type": "code",
   "execution_count": 20,
   "id": "28416f39",
   "metadata": {},
   "outputs": [
    {
     "name": "stdout",
     "output_type": "stream",
     "text": [
      " Parent { name: \"부모1\" }\n"
     ]
    }
   ],
   "source": [
    "println!(\" {:?}\",p1);"
   ]
  },
  {
   "cell_type": "code",
   "execution_count": 21,
   "id": "5da77d87",
   "metadata": {},
   "outputs": [
    {
     "name": "stdout",
     "output_type": "stream",
     "text": [
      " Child { name: \"자식1\" }\n"
     ]
    }
   ],
   "source": [
    "println!(\" {:?}\",c1);"
   ]
  },
  {
   "cell_type": "markdown",
   "id": "c047e865",
   "metadata": {},
   "source": [
    "## 1-3 :  트레이트 객체로 동일한 메서드 호출"
   ]
  },
  {
   "cell_type": "code",
   "execution_count": 30,
   "id": "7feb8be9",
   "metadata": {},
   "outputs": [],
   "source": [
    "let p2 = Parent { name :\"부모2\".to_string() };"
   ]
  },
  {
   "cell_type": "code",
   "execution_count": 31,
   "id": "514a73e1",
   "metadata": {},
   "outputs": [],
   "source": [
    "let c2 = Child { name :\"자식2\".to_string() };"
   ]
  },
  {
   "cell_type": "code",
   "execution_count": 32,
   "id": "f6c169e4",
   "metadata": {},
   "outputs": [],
   "source": [
    "fn say_obj(ins : Box<dyn Say>) {\n",
    "    ins.say(); \n",
    "}"
   ]
  },
  {
   "cell_type": "code",
   "execution_count": 33,
   "id": "42ab7667",
   "metadata": {},
   "outputs": [
    {
     "name": "stdout",
     "output_type": "stream",
     "text": [
      " Parent instance =부모2\n"
     ]
    }
   ],
   "source": [
    "say_obj(Box::new(p2));"
   ]
  },
  {
   "cell_type": "code",
   "execution_count": 34,
   "id": "671b8640",
   "metadata": {},
   "outputs": [
    {
     "name": "stdout",
     "output_type": "stream",
     "text": [
      " Child instance =자식2\n"
     ]
    }
   ],
   "source": [
    "say_obj(Box::new(c2));"
   ]
  },
  {
   "cell_type": "code",
   "execution_count": null,
   "id": "a74707ba",
   "metadata": {},
   "outputs": [],
   "source": []
  }
 ],
 "metadata": {
  "kernelspec": {
   "display_name": "Rust",
   "language": "rust",
   "name": "rust"
  },
  "language_info": {
   "codemirror_mode": "rust",
   "file_extension": ".rs",
   "mimetype": "text/rust",
   "name": "Rust",
   "pygment_lexer": "rust",
   "version": ""
  }
 },
 "nbformat": 4,
 "nbformat_minor": 5
}
