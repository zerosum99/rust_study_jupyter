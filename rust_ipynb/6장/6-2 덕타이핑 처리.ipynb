{
 "cells": [
  {
   "cell_type": "markdown",
   "id": "5450897c",
   "metadata": {},
   "source": [
    "# 1. 덕타이핑 처리 "
   ]
  },
  {
   "cell_type": "markdown",
   "id": "1f9a4c70",
   "metadata": {},
   "source": [
    "## 1-1 : 트레이트 정의 및 구조체의 구현 "
   ]
  },
  {
   "cell_type": "code",
   "execution_count": 4,
   "id": "1b4acc9a",
   "metadata": {},
   "outputs": [],
   "source": [
    "trait Say {\n",
    "    fn say(&self) ;\n",
    "}"
   ]
  },
  {
   "cell_type": "code",
   "execution_count": 3,
   "id": "9d80b62d",
   "metadata": {},
   "outputs": [],
   "source": [
    "struct Parent {\n",
    "    name : String, \n",
    "}"
   ]
  },
  {
   "cell_type": "code",
   "execution_count": 5,
   "id": "6431f372",
   "metadata": {},
   "outputs": [],
   "source": [
    "impl Say for Parent {\n",
    "    fn say(&self) {\n",
    "        println!(\" Parent instance ={}\", self.name); \n",
    "    }\n",
    "}"
   ]
  },
  {
   "cell_type": "code",
   "execution_count": null,
   "id": "35c88e4c",
   "metadata": {},
   "outputs": [],
   "source": []
  },
  {
   "cell_type": "code",
   "execution_count": 2,
   "id": "b2fbf7a3",
   "metadata": {},
   "outputs": [],
   "source": [
    "struct Child {\n",
    "    name : String, \n",
    "}"
   ]
  },
  {
   "cell_type": "code",
   "execution_count": 6,
   "id": "3212e133",
   "metadata": {},
   "outputs": [],
   "source": [
    "impl Say for Child {\n",
    "    fn say(&self) {\n",
    "        println!(\" Child instance ={}\", self.name); \n",
    "    }\n",
    "}"
   ]
  },
  {
   "cell_type": "markdown",
   "id": "b80803f2",
   "metadata": {},
   "source": [
    "## 1-2 : 매개변수 타입을 트레이트 구현으로 지정"
   ]
  },
  {
   "cell_type": "code",
   "execution_count": 7,
   "id": "a22f7494",
   "metadata": {},
   "outputs": [],
   "source": [
    "fn say(ins : impl Say) {\n",
    "    ins.say(); \n",
    "}"
   ]
  },
  {
   "cell_type": "code",
   "execution_count": 15,
   "id": "f8b57b6f",
   "metadata": {},
   "outputs": [],
   "source": [
    "let p = Parent { name :\"부모\".to_string() };"
   ]
  },
  {
   "cell_type": "code",
   "execution_count": 16,
   "id": "351594c0",
   "metadata": {},
   "outputs": [],
   "source": [
    "let c = Child { name :\"자식\".to_string() };"
   ]
  },
  {
   "cell_type": "code",
   "execution_count": 17,
   "id": "cba06ac6",
   "metadata": {},
   "outputs": [
    {
     "name": "stdout",
     "output_type": "stream",
     "text": [
      " Parent instance =부모\n"
     ]
    }
   ],
   "source": [
    "say(p);"
   ]
  },
  {
   "cell_type": "code",
   "execution_count": 18,
   "id": "3f0cc863",
   "metadata": {},
   "outputs": [
    {
     "name": "stdout",
     "output_type": "stream",
     "text": [
      " Child instance =자식\n"
     ]
    }
   ],
   "source": [
    "say(c);"
   ]
  },
  {
   "cell_type": "code",
   "execution_count": 21,
   "id": "e8562e0f",
   "metadata": {},
   "outputs": [
    {
     "ename": "Error",
     "evalue": "cannot find value `p` in this scope",
     "output_type": "error",
     "traceback": [
      "\u001b[31m[E0425] Error:\u001b[0m cannot find value `p` in this scope",
      "   \u001b[38;5;246m╭\u001b[0m\u001b[38;5;246m─\u001b[0m\u001b[38;5;246m[\u001b[0mcommand_21:1:1\u001b[38;5;246m]\u001b[0m",
      "   \u001b[38;5;246m│\u001b[0m",
      " \u001b[38;5;246m1 │\u001b[0m \u001b[38;5;54mp\u001b[0m",
      " \u001b[38;5;246m  ·\u001b[0m \u001b[38;5;54m┬\u001b[0m  ",
      " \u001b[38;5;246m  ·\u001b[0m \u001b[38;5;54m╰\u001b[0m\u001b[38;5;54m─\u001b[0m\u001b[38;5;54m─\u001b[0m not found in this scope",
      "\u001b[38;5;246m───╯\u001b[0m"
     ]
    }
   ],
   "source": [
    "p"
   ]
  },
  {
   "cell_type": "code",
   "execution_count": 22,
   "id": "a622392d",
   "metadata": {},
   "outputs": [
    {
     "ename": "Error",
     "evalue": "cannot find value `c` in this scope",
     "output_type": "error",
     "traceback": [
      "\u001b[31m[E0425] Error:\u001b[0m cannot find value `c` in this scope",
      "   \u001b[38;5;246m╭\u001b[0m\u001b[38;5;246m─\u001b[0m\u001b[38;5;246m[\u001b[0mcommand_22:1:1\u001b[38;5;246m]\u001b[0m",
      "   \u001b[38;5;246m│\u001b[0m",
      " \u001b[38;5;246m1 │\u001b[0m \u001b[38;5;54mc\u001b[0m",
      " \u001b[38;5;246m  ·\u001b[0m \u001b[38;5;54m┬\u001b[0m  ",
      " \u001b[38;5;246m  ·\u001b[0m \u001b[38;5;54m╰\u001b[0m\u001b[38;5;54m─\u001b[0m\u001b[38;5;54m─\u001b[0m not found in this scope",
      "\u001b[38;5;246m───╯\u001b[0m"
     ]
    }
   ],
   "source": [
    "c"
   ]
  },
  {
   "cell_type": "code",
   "execution_count": null,
   "id": "f6c0d411",
   "metadata": {},
   "outputs": [],
   "source": []
  },
  {
   "cell_type": "code",
   "execution_count": 23,
   "id": "bea896a2",
   "metadata": {},
   "outputs": [],
   "source": [
    "let p1 = Parent { name :\"부모1\".to_string() };\n",
    "let c1 = Child { name :\"자식1\".to_string() };"
   ]
  },
  {
   "cell_type": "code",
   "execution_count": 19,
   "id": "e66778f7",
   "metadata": {},
   "outputs": [],
   "source": [
    "fn say1(ins : &impl Say) {\n",
    "    ins.say(); \n",
    "}"
   ]
  },
  {
   "cell_type": "code",
   "execution_count": 24,
   "id": "ef7049de",
   "metadata": {},
   "outputs": [
    {
     "name": "stdout",
     "output_type": "stream",
     "text": [
      " Parent instance =부모1\n"
     ]
    }
   ],
   "source": [
    "say1(&p1);"
   ]
  },
  {
   "cell_type": "code",
   "execution_count": 25,
   "id": "272edff3",
   "metadata": {},
   "outputs": [
    {
     "name": "stdout",
     "output_type": "stream",
     "text": [
      " Parent instance =부모1\n"
     ]
    }
   ],
   "source": [
    "say1(&p1);"
   ]
  },
  {
   "cell_type": "code",
   "execution_count": null,
   "id": "28416f39",
   "metadata": {},
   "outputs": [],
   "source": []
  }
 ],
 "metadata": {
  "kernelspec": {
   "display_name": "Rust",
   "language": "rust",
   "name": "rust"
  },
  "language_info": {
   "codemirror_mode": "rust",
   "file_extension": ".rs",
   "mimetype": "text/rust",
   "name": "Rust",
   "pygment_lexer": "rust",
   "version": ""
  }
 },
 "nbformat": 4,
 "nbformat_minor": 5
}
