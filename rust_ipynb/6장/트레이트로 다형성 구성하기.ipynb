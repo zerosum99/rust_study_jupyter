{
 "cells": [
  {
   "cell_type": "markdown",
   "id": "f0571bb1",
   "metadata": {},
   "source": [
    "## 다형성\n",
    "\n",
    "- Rust에서 트레이트(traits)는 관련된 동작(behavior)의 집합을 정의하는 방법입니다. \n",
    "- 트레이트를 사용하여 공통된 동작을 추상화하고, 다양한 타입들 간에 해당 동작을 공유하고 재사용할 수 있습니다. \n",
    "- 트레이트는 Rust의 다형성(polymorphism)을 지원하는 핵심 기능 중 하나입니다."
   ]
  },
  {
   "cell_type": "markdown",
   "id": "24ca2247",
   "metadata": {},
   "source": [
    "## 트레이트 정의"
   ]
  },
  {
   "cell_type": "code",
   "execution_count": 2,
   "id": "4602899f",
   "metadata": {},
   "outputs": [],
   "source": [
    "trait Animal {\n",
    "    fn make_sound(&self);\n",
    "}"
   ]
  },
  {
   "cell_type": "markdown",
   "id": "edc193dd",
   "metadata": {},
   "source": [
    "### 구현체에 트레이트 정의 "
   ]
  },
  {
   "cell_type": "code",
   "execution_count": 3,
   "id": "81bb08d6",
   "metadata": {},
   "outputs": [],
   "source": [
    "struct Cat;\n",
    "struct Dog;\n",
    "\n",
    "impl Animal for Cat {\n",
    "    fn make_sound(&self) {\n",
    "        println!(\"Meow\");\n",
    "    }\n",
    "}\n",
    "\n",
    "impl Animal for Dog {\n",
    "    fn make_sound(&self) {\n",
    "        println!(\"Woof\");\n",
    "    }\n",
    "}"
   ]
  },
  {
   "cell_type": "code",
   "execution_count": 8,
   "id": "ac4ccc29",
   "metadata": {},
   "outputs": [],
   "source": [
    "let cat = Cat;\n",
    "let dog = Dog;"
   ]
  },
  {
   "cell_type": "code",
   "execution_count": 9,
   "id": "6333a114",
   "metadata": {},
   "outputs": [
    {
     "name": "stdout",
     "output_type": "stream",
     "text": [
      "Meow\n",
      "Woof\n"
     ]
    }
   ],
   "source": [
    "cat.make_sound();\n",
    "dog.make_sound();"
   ]
  },
  {
   "cell_type": "markdown",
   "id": "bc9391e0",
   "metadata": {},
   "source": [
    "### 함수 정의 :  트레이트 경계로 특정 기능 제한 "
   ]
  },
  {
   "cell_type": "code",
   "execution_count": 10,
   "id": "d9ec3a84",
   "metadata": {},
   "outputs": [],
   "source": [
    "fn sound<T: Animal>(pl: &T) {\n",
    "    pl.make_sound();\n",
    "}"
   ]
  },
  {
   "cell_type": "code",
   "execution_count": 12,
   "id": "7cc742ec",
   "metadata": {},
   "outputs": [
    {
     "name": "stdout",
     "output_type": "stream",
     "text": [
      "Meow\n",
      "Woof\n"
     ]
    }
   ],
   "source": [
    "let cat = Cat;\n",
    "let dog = Dog;\n",
    "\n",
    "sound(&cat);\n",
    "sound(&dog);"
   ]
  },
  {
   "cell_type": "code",
   "execution_count": null,
   "id": "926fddb4",
   "metadata": {},
   "outputs": [],
   "source": []
  },
  {
   "cell_type": "markdown",
   "id": "483e344b",
   "metadata": {},
   "source": [
    "## 다형성 처리 \n",
    "\n",
    "- Rust에서 다형성(polymorphism)은 서로 다른 타입이 동일한 인터페이스나 행위를 가질 수 있는 기능을 말합니다. \n",
    "- 다형성은 코드의 재사용성과 유연성을 높이는 데에 도움이 됩니다. \n",
    "- Rust에서는 두 가지 다형성 방식을 지원합니다: 트레이트(trait) 기반 다형성과 제네릭(generic) 다형성입니다."
   ]
  },
  {
   "cell_type": "markdown",
   "id": "019bcb57",
   "metadata": {},
   "source": [
    "## 트레이트 기반 다형성:\n",
    "\n",
    "- 트레이트는 공통된 동작(메서드)의 집합을 정의합니다.\n",
    "- 트레이트를 구현하는 타입들은 해당 동작을 구현해야 합니다.\n",
    "- 트레이트를 사용하여 다른 타입의 값을 동일한 트레이트 타입으로 다룰 수 있습니다.\n",
    "- 다형성을 위해 트레이트를 함수의 매개변수나 반환 타입으로 사용할 수 있습니다."
   ]
  },
  {
   "cell_type": "code",
   "execution_count": 13,
   "id": "0c8c73a9",
   "metadata": {},
   "outputs": [],
   "source": [
    "trait Printable {\n",
    "    fn print(&self);\n",
    "}\n",
    "\n",
    "struct Point<T> {\n",
    "    x: T,\n",
    "    y: T,\n",
    "}\n",
    "\n",
    "impl<T> Printable for Point<T>\n",
    "where\n",
    "    T: std::fmt::Display,\n",
    "{\n",
    "    fn print(&self) {\n",
    "        println!(\"Point: x={}, y={}\", self.x, self.y);\n",
    "    }\n",
    "}\n",
    "\n",
    "fn main() {\n",
    "    let point_int = Point { x: 3, y: 5 };\n",
    "    point_int.print(); // Point: x=3, y=5\n",
    "\n",
    "    let point_float = Point { x: 3.5, y: 5.5 };\n",
    "    point_float.print(); // Point: x=3.5, y=5.5\n",
    "}"
   ]
  },
  {
   "cell_type": "code",
   "execution_count": 14,
   "id": "28683fb1",
   "metadata": {},
   "outputs": [
    {
     "name": "stdout",
     "output_type": "stream",
     "text": [
      "Point: x=3, y=5\n",
      "Point: x=3.5, y=5.5\n"
     ]
    }
   ],
   "source": [
    "main();"
   ]
  },
  {
   "cell_type": "code",
   "execution_count": null,
   "id": "7f8b91e6",
   "metadata": {},
   "outputs": [],
   "source": []
  },
  {
   "cell_type": "markdown",
   "id": "08179c62",
   "metadata": {},
   "source": [
    "## 제네릭 다형성:\n",
    "\n",
    "- 제네릭은 타입을 일반화하여 재사용 가능한 코드를 작성하는 기능입니다.\n",
    "- 제네릭을 사용하여 함수나 구조체를 정의할 때, 타입 매개변수를 사용하여 여러 다른 타입에 대해 동작할 수 있습니다.\n",
    "- 제네릭 코드는 컴파일 시점에 타입에 대한 구체화가 이루어집니다.\n",
    "- 제네릭을 통해 타입에 독립적인 코드를 작성할 수 있고, 코드의 재사용성과 성능을 향상시킬 수 있습니다."
   ]
  },
  {
   "cell_type": "code",
   "execution_count": null,
   "id": "39c290c2",
   "metadata": {},
   "outputs": [],
   "source": []
  },
  {
   "cell_type": "code",
   "execution_count": 16,
   "id": "7467246b",
   "metadata": {},
   "outputs": [],
   "source": [
    "fn print<T: std::fmt::Display>(value: T) {\n",
    "    println!(\"{}\", value);\n",
    "}\n",
    "\n",
    "fn main() {\n",
    "    print(\"Hello, world!\"); // 문자열 타입\n",
    "    print(42); // 정수 타입\n",
    "    print(3.14); // 부동소수점 타입\n",
    "}"
   ]
  },
  {
   "cell_type": "code",
   "execution_count": 17,
   "id": "143aa852",
   "metadata": {},
   "outputs": [
    {
     "name": "stdout",
     "output_type": "stream",
     "text": [
      "Hello, world!\n",
      "42\n",
      "3.14\n"
     ]
    }
   ],
   "source": [
    "main();"
   ]
  },
  {
   "cell_type": "code",
   "execution_count": null,
   "id": "f4942fb9",
   "metadata": {},
   "outputs": [],
   "source": []
  },
  {
   "cell_type": "code",
   "execution_count": 23,
   "id": "bcaef44e",
   "metadata": {},
   "outputs": [],
   "source": [
    "trait Printable {\n",
    "    fn print(&self);\n",
    "}\n",
    "\n",
    "struct Foo;\n",
    "struct Bar;\n",
    "\n",
    "impl Printable for Foo {\n",
    "    fn print(&self) {\n",
    "        println!(\"Foo\");\n",
    "    }\n",
    "}\n",
    "\n",
    "impl Printable for Bar {\n",
    "    fn print(&self) {\n",
    "        println!(\"Bar\");\n",
    "    }\n",
    "}\n",
    "\n",
    "fn print_all(items: &[&dyn Printable]) {\n",
    "    for item in items {\n",
    "        item.print();\n",
    "    }\n",
    "}\n",
    "\n",
    "fn main() {\n",
    "    let items: Vec<&dyn Printable> = vec![&Foo, &Bar];\n",
    "    print_all(&items);\n",
    "}\n"
   ]
  },
  {
   "cell_type": "code",
   "execution_count": 24,
   "id": "d0166e06",
   "metadata": {},
   "outputs": [
    {
     "name": "stdout",
     "output_type": "stream",
     "text": [
      "Foo\n",
      "Bar\n"
     ]
    }
   ],
   "source": [
    "main();"
   ]
  },
  {
   "cell_type": "markdown",
   "id": "7ecdb4a0",
   "metadata": {},
   "source": [
    "## 트레이트 객체를 사용한 다형성 "
   ]
  },
  {
   "cell_type": "code",
   "execution_count": 19,
   "id": "cf2f9b6b",
   "metadata": {},
   "outputs": [],
   "source": [
    "trait Animal_ {\n",
    "    fn speak(&self);\n",
    "}\n",
    "\n",
    "struct Dog;\n",
    "impl Animal_ for Dog {\n",
    "    fn speak(&self) {\n",
    "        println!(\"Woof!\");\n",
    "    }\n",
    "}\n",
    "\n",
    "struct Cat;\n",
    "impl Animal_ for Cat {\n",
    "    fn speak(&self) {\n",
    "        println!(\"Meow!\");\n",
    "    }\n",
    "}\n",
    "\n",
    "fn main() {\n",
    "    let dog: Box<dyn Animal_> = Box::new(Dog {});\n",
    "    let cat: Box<dyn Animal_> = Box::new(Cat {});\n",
    "    dog.speak();\n",
    "    cat.speak();\n",
    "}"
   ]
  },
  {
   "cell_type": "code",
   "execution_count": 20,
   "id": "81aac222",
   "metadata": {},
   "outputs": [
    {
     "name": "stdout",
     "output_type": "stream",
     "text": [
      "Woof!\n",
      "Meow!\n"
     ]
    }
   ],
   "source": [
    "main();"
   ]
  },
  {
   "cell_type": "code",
   "execution_count": null,
   "id": "f9145e45",
   "metadata": {},
   "outputs": [],
   "source": []
  }
 ],
 "metadata": {
  "kernelspec": {
   "display_name": "Rust",
   "language": "rust",
   "name": "rust"
  },
  "language_info": {
   "codemirror_mode": "rust",
   "file_extension": ".rs",
   "mimetype": "text/rust",
   "name": "Rust",
   "pygment_lexer": "rust",
   "version": ""
  }
 },
 "nbformat": 4,
 "nbformat_minor": 5
}
