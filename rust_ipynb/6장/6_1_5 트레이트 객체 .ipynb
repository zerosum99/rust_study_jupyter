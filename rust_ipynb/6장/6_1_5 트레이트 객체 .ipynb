{
 "cells": [
  {
   "cell_type": "markdown",
   "id": "dc56d568",
   "metadata": {},
   "source": [
    "## Trait 객체\n",
    "\n",
    "- 객체의 인스턴스를 &dyn MyTrait 자료형을 가진 매개변수로 넘길 때, 이를 trait 객체라고 부릅니다.\n",
    "\n",
    "- trait 객체는 인스턴스의 올바른 메소드를 간접적으로 호출할 수 있게 해줍니다. \n",
    "\n",
    "- trait 객체는 인스턴스에 대한 포인터와 인스턴스 메소드들에 대한 함수 포인터 목록을 갖고있는 struct입니다.\n",
    "\n",
    "- 메모리 상세: 이런 함수 목록을 C++에서는 vtable이라고 합니다."
   ]
  },
  {
   "cell_type": "code",
   "execution_count": null,
   "id": "718395e1",
   "metadata": {},
   "outputs": [],
   "source": []
  }
 ],
 "metadata": {
  "kernelspec": {
   "display_name": "Rust",
   "language": "rust",
   "name": "rust"
  },
  "language_info": {
   "codemirror_mode": "rust",
   "file_extension": ".rs",
   "mimetype": "text/rust",
   "name": "Rust",
   "pygment_lexer": "rust",
   "version": ""
  }
 },
 "nbformat": 4,
 "nbformat_minor": 5
}
