{
 "cells": [
  {
   "cell_type": "markdown",
   "id": "203b2fd4",
   "metadata": {},
   "source": [
    "## 연산자 \n",
    "\n",
    "- 러스트(Rust)에서 연산자(Operator)는 트레이트(Trait)로 구현되어 있습니다. \n",
    "- 이를 통해 연산자를 오버로딩(Overloading)할 수 있으며, 사용자가 정의한 타입에 대해 새로운 연산을 추가할 수 있습니다."
   ]
  },
  {
   "cell_type": "markdown",
   "id": "cffb470d",
   "metadata": {},
   "source": [
    "## std::ops 모듈\n",
    "\n",
    "- std::ops 모듈은 연산자를 오버로드(overload)하는 데 사용되는 연산자 트레이트(operator traits)를 제공합니다. \n",
    "- 이 모듈은 연산자 트레이트를 정의하고 구현하는 데 필요한 여러 가지 유틸리티 타입과 구조체를 제공합니다."
   ]
  },
  {
   "cell_type": "markdown",
   "id": "eaf84774",
   "metadata": {},
   "source": [
    "### 모듈 내의 트레이트 \n",
    "\n",
    "- Range, RangeInclusive, RangeFrom, RangeTo, RangeToInclusive 등의 구조체는 인덱싱 연산자를 사용하여 슬라이스를 구현하는 데 유용합니다."
   ]
  },
  {
   "cell_type": "markdown",
   "id": "cdee53b9",
   "metadata": {},
   "source": [
    "### 모듈 내의 트레이트 \n",
    "\n",
    "- Add 및 AddAssign: + 연산자의 오버로딩을 위한 트레이트와 메소드를 제공합니다. \n",
    "  Add 트레이트는 두 개의 값을 더하는 연산을 정의하며, AddAssign 트레이트는 덧셈 연산 후 값을 대입하는 메소드를 정의합니다.\n",
    "- Sub 및 SubAssign: - 연산자의 오버로딩을 위한 트레이트와 메소드를 제공합니다. \n",
    "  Sub 트레이트는 두 개의 값을 빼는 연산을 정의하며, SubAssign 트레이트는 뺄셈 연산 후 값을 대입하는 메소드를 정의합니다.\n",
    "- Mul 및 MulAssign: * 연산자의 오버로딩을 위한 트레이트와 메소드를 제공합니다. \n",
    "  Mul 트레이트는 두 개의 값을 곱하는 연산을 정의하며, MulAssign 트레이트는 곱셈 연산 후 값을 대입하는 메소드를 정의합니다.\n",
    "- Div 및 DivAssign: / 연산자의 오버로딩을 위한 트레이트와 메소드를 제공합니다. \n",
    "  Div 트레이트는 두 개의 값을 나누는 연산을 정의하며, DivAssign 트레이트는 나눗셈 연산 후 값을 대입하는 메소드를 정의합니다.\n",
    "- Rem 및 RemAssign: % 연산자의 오버로딩을 위한 트레이트와 메소드를 제공합니다. \n",
    "  Rem 트레이트는 두 개의 값을 나눈 나머지를 계산하는 연산을 정의하며, RemAssign 트레이트는 나머지 연산 후 값을 대입하는 메소드를 정의합니다.\n",
    "\n",
    "- Neg: 단항 마이너스(-) 연산자를 오버로드하는 트레이트입니다.\n",
    "- BitAnd : 비트 AND 연산을 구현하는 트레이트\n",
    "- BitOr : 비트 OR 연산을 구현하는 트레이트\n",
    "- Not : 비트 NOT 연산을 구현하는 트레이트\n",
    "- Shl : 비트 왼쪽 시프트 연산을 구현하는 트레이트\n",
    "- Shr : 비트 오른쪽 시프트 연산을 구현하는 트레이트\n",
    "- PartialEq : 등호 비교 연산을 구현하는 트레이트\n",
    "- PartialOrd : 부등호 비교 연산을 구현하는 트레이트\n",
    "- Index: [] 연산자를 오버로딩할 때 사용합니다. Index 트레이트는 std::ops 모듈에 정의되어 있습니다.\n",
    "- Deref: * 연산자를 오버로딩할 때 사용합니다. Deref 트레이트는 std::ops 모듈에 정의되어 있습니다.\n",
    "- Index, IndexMut: 인덱싱([]) 연산자를 오버로드하는 트레이트입니다.\n",
    "- Deref, DerefMut: 역참조(*) 연산자를 오버로드하는 트레이트입니다."
   ]
  },
  {
   "cell_type": "code",
   "execution_count": null,
   "id": "a084ba88",
   "metadata": {},
   "outputs": [],
   "source": []
  },
  {
   "cell_type": "code",
   "execution_count": null,
   "id": "3001c97a",
   "metadata": {},
   "outputs": [],
   "source": []
  },
  {
   "cell_type": "markdown",
   "id": "e1c3e01f",
   "metadata": {},
   "source": [
    "## 트레이트 연관타입 \n",
    "\n",
    "- 트레이트의 함수에서 사용되며, 트레이트를 구현하는 타입이 구체화될 때 트레이트 연관타입의 실제 타입으로 대체됩니다.\n",
    "\n",
    "### 트레이트 타입 매개변수와 트레이트 연관타입의 차이점 \n",
    "\n",
    "- 트레이트 연관타입은 제네릭 타입 매개변수와 비교해보면, 제네릭 타입 매개변수는 트레이트를 구현하는 타입에서 구체화됩니다. \n",
    "- 반면에, 트레이트 연관타입은 트레이트 자체에서 선언됩니다. 따라서, 트레이트 연관타입을 사용하면 구체화를 더 미룰 수 있으며, 유연성을 높일 수 있습니다."
   ]
  },
  {
   "cell_type": "code",
   "execution_count": 13,
   "id": "5c347d13",
   "metadata": {},
   "outputs": [],
   "source": [
    "trait MyTrait {\n",
    "    type MyType;\n",
    "\n",
    "    fn my_function(&self) -> Self::MyType;\n",
    "}"
   ]
  },
  {
   "cell_type": "code",
   "execution_count": 14,
   "id": "7cdb7ed1",
   "metadata": {},
   "outputs": [],
   "source": [
    "struct MyStruct {\n",
    "    my_value: i32,\n",
    "}\n",
    "\n",
    "impl MyTrait for MyStruct {\n",
    "    type MyType = i32;\n",
    "\n",
    "    fn my_function(&self) -> Self::MyType {\n",
    "        self.my_value\n",
    "    }\n",
    "}"
   ]
  },
  {
   "cell_type": "markdown",
   "id": "06cc57f9",
   "metadata": {},
   "source": [
    "## 트레이트의 초기값 지정하기 \n",
    "\n",
    "- Add 트레이트에서 RHS = Self는 제네릭(Generic) 타입 매개변수로 RHS를 받고, 기본값으로 Self를 할당하는 구문입니다. \n",
    "- 이 구문은 Add 트레이트의 제네릭 타입 매개변수인 RHS가 생략될 경우, RHS를 Self로 지정하도록 하는 것입니다."
   ]
  },
  {
   "cell_type": "markdown",
   "id": "a41cacce",
   "metadata": {},
   "source": [
    "### 연산자를 구조체에 구현하기 "
   ]
  },
  {
   "cell_type": "code",
   "execution_count": 11,
   "id": "90b1e4f0",
   "metadata": {},
   "outputs": [],
   "source": [
    "use std::ops::Add;\n",
    "\n",
    "struct MyNumber(f32);\n",
    "\n",
    "impl Add<f32> for MyNumber {                   // 타입 매개변수에 대한 타입 인자 지정\n",
    "    type Output = f32;                         // 연관함수 지정\n",
    "\n",
    "    fn add(self, rhs: f32) -> Self::Output {\n",
    "        self.0 + rhs\n",
    "    }\n",
    "}\n",
    "\n",
    "fn main() {\n",
    "    let num1 = MyNumber(10.0_f32);\n",
    "    let num2 = 3.14_f32;\n",
    "\n",
    "    let result = num1.0 + num2;\n",
    "\n",
    "    println!(\"{:?} + {:?} = {:?}\", num1.0, num2, result);\n",
    "}"
   ]
  },
  {
   "cell_type": "code",
   "execution_count": 12,
   "id": "4f92778b",
   "metadata": {},
   "outputs": [
    {
     "name": "stdout",
     "output_type": "stream",
     "text": [
      "10.0 + 3.14 = 13.14\n"
     ]
    }
   ],
   "source": [
    "main();"
   ]
  },
  {
   "cell_type": "code",
   "execution_count": null,
   "id": "c046eb6b",
   "metadata": {},
   "outputs": [],
   "source": []
  },
  {
   "cell_type": "code",
   "execution_count": 2,
   "id": "3d4952a8",
   "metadata": {},
   "outputs": [],
   "source": [
    "#[derive(Debug)]\n",
    "struct Point {\n",
    "    x: i32,\n",
    "    y: i32,\n",
    "}\n",
    "\n",
    "impl std::ops::Add for Point {\n",
    "    type Output = Point;\n",
    "\n",
    "    fn add(self, other: Point) -> Point {\n",
    "        Point {\n",
    "            x: self.x + other.x,\n",
    "            y: self.y + other.y,\n",
    "        }\n",
    "    }\n",
    "}\n",
    "\n",
    "fn main() {\n",
    "    let p1 = Point { x: 1, y: 2 };\n",
    "    let p2 = Point { x: 3, y: 4 };\n",
    "    let p3 = p1 + p2;\n",
    "    println!(\"{:?}\", p3);\n",
    "}"
   ]
  },
  {
   "cell_type": "code",
   "execution_count": 3,
   "id": "1a6afa92",
   "metadata": {},
   "outputs": [
    {
     "name": "stdout",
     "output_type": "stream",
     "text": [
      "Point { x: 4, y: 6 }\n"
     ]
    }
   ],
   "source": [
    "main();"
   ]
  },
  {
   "cell_type": "code",
   "execution_count": null,
   "id": "3dacbeb5",
   "metadata": {},
   "outputs": [],
   "source": []
  },
  {
   "cell_type": "code",
   "execution_count": 4,
   "id": "77f78711",
   "metadata": {},
   "outputs": [],
   "source": [
    "impl std::ops::Mul for Point {\n",
    "    type Output = Point;\n",
    "\n",
    "    fn mul(self, other: Point) -> Point {\n",
    "        Point {\n",
    "            x: self.x * other.x,\n",
    "            y: self.y * other.y,\n",
    "        }\n",
    "    }\n",
    "}\n",
    "\n",
    "fn main() {\n",
    "    let p1 = Point { x: 1, y: 2 };\n",
    "    let p2 = Point { x: 3, y: 4 };\n",
    "    let p3 = p1 * p2;\n",
    "    println!(\"{:?}\", p3);\n",
    "}"
   ]
  },
  {
   "cell_type": "code",
   "execution_count": 5,
   "id": "5f185bf0",
   "metadata": {},
   "outputs": [
    {
     "name": "stdout",
     "output_type": "stream",
     "text": [
      "Point { x: 3, y: 8 }\n"
     ]
    }
   ],
   "source": [
    "main();"
   ]
  },
  {
   "cell_type": "code",
   "execution_count": null,
   "id": "5bcfafb0",
   "metadata": {},
   "outputs": [],
   "source": []
  }
 ],
 "metadata": {
  "kernelspec": {
   "display_name": "Rust",
   "language": "rust",
   "name": "rust"
  },
  "language_info": {
   "codemirror_mode": "rust",
   "file_extension": ".rs",
   "mimetype": "text/rust",
   "name": "Rust",
   "pygment_lexer": "rust",
   "version": ""
  }
 },
 "nbformat": 4,
 "nbformat_minor": 5
}
