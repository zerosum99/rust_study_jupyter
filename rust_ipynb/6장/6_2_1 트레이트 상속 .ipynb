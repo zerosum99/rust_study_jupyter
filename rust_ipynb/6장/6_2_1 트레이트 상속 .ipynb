{
 "cells": [
  {
   "cell_type": "markdown",
   "id": "ab30e5e6",
   "metadata": {},
   "source": [
    "## 1 트레이트는 다른 트레이트를 상속할 수 있다.\n",
    "\n",
    "- 러스트의 트레잇 상속은 코드 재사용과 추상화를 촉진하기 때문에 매우 유용합니다. \n",
    "- 이것은 인터페이스와 유사한 개념이지만, 트레잇이 제공하는 더 많은 유연성과 기능을 제공합니다."
   ]
  },
  {
   "cell_type": "markdown",
   "id": "623e08bc",
   "metadata": {},
   "source": [
    "### 구조체와 구조체 메소드 정의\n",
    "\n",
    "- 구조체의 필드 하나만 공개 \n",
    "\n",
    "- 구조체 메서도 정의할 때 메서드를 공개"
   ]
  },
  {
   "cell_type": "code",
   "execution_count": 2,
   "id": "990afd7d",
   "metadata": {},
   "outputs": [],
   "source": [
    "struct SeaCreature {\n",
    "    pub name: String,\n",
    "    noise: String,\n",
    "}\n",
    "\n",
    "impl SeaCreature {\n",
    "    pub fn get_sound(&self) -> &str {\n",
    "        &self.noise\n",
    "    }\n",
    "}\n"
   ]
  },
  {
   "cell_type": "markdown",
   "id": "43082741",
   "metadata": {},
   "source": [
    "### 트레이트 상속\n",
    "\n",
    "- 트레이트 명 다음에 콜론을 붙이고 상속할 트레이트를 표시한다.\n"
   ]
  },
  {
   "cell_type": "code",
   "execution_count": 3,
   "id": "80d76ee4",
   "metadata": {},
   "outputs": [],
   "source": [
    "trait NoiseMaker {\n",
    "    fn make_noise(&self);\n",
    "}\n",
    "\n",
    "trait LoudNoiseMaker: NoiseMaker {       // 트레이트 상속 \n",
    "    fn make_alot_of_noise(&self) {\n",
    "        self.make_noise();\n",
    "        self.make_noise();\n",
    "        self.make_noise();\n",
    "    }\n",
    "}"
   ]
  },
  {
   "cell_type": "markdown",
   "id": "a5575de5",
   "metadata": {},
   "source": [
    "### 구조체에 부모 자식 트레이트를 모두 구현 \n",
    "\n",
    "- 상속된 메서드에 대해 구현 \n",
    "- 실제 상속받은 트레이트에는 default 메서드만 존재해서 빈 구현만 생성 "
   ]
  },
  {
   "cell_type": "code",
   "execution_count": 4,
   "id": "48d5234e",
   "metadata": {},
   "outputs": [],
   "source": [
    "impl NoiseMaker for SeaCreature {\n",
    "    fn make_noise(&self) {\n",
    "        println!(\"{}\", &self.get_sound());\n",
    "    }\n",
    "}\n",
    "\n",
    "impl LoudNoiseMaker for SeaCreature {}\n",
    "\n"
   ]
  },
  {
   "cell_type": "markdown",
   "id": "139735c3",
   "metadata": {},
   "source": [
    "## 메인 함수를 정의한다"
   ]
  },
  {
   "cell_type": "code",
   "execution_count": 5,
   "id": "c21fec22",
   "metadata": {},
   "outputs": [],
   "source": [
    "fn main() {\n",
    "    let creature = SeaCreature {\n",
    "        name: String::from(\"Ferris\"),\n",
    "        noise: String::from(\"blub\"),\n",
    "    };\n",
    "    creature.make_alot_of_noise();\n",
    "}\n"
   ]
  },
  {
   "cell_type": "code",
   "execution_count": 6,
   "id": "6a785dbd",
   "metadata": {},
   "outputs": [
    {
     "data": {
      "text/plain": [
       "()"
      ]
     },
     "execution_count": 6,
     "metadata": {},
     "output_type": "execute_result"
    },
    {
     "name": "stdout",
     "output_type": "stream",
     "text": [
      "blub\n",
      "blub\n",
      "blub\n"
     ]
    }
   ],
   "source": [
    "main()"
   ]
  },
  {
   "cell_type": "code",
   "execution_count": null,
   "id": "b87f0cbe",
   "metadata": {},
   "outputs": [],
   "source": []
  },
  {
   "cell_type": "markdown",
   "id": "3ff8dceb",
   "metadata": {},
   "source": [
    "## 2. 여러 트레이트 상속하기 "
   ]
  },
  {
   "cell_type": "markdown",
   "id": "2768e41d",
   "metadata": {},
   "source": [
    "### 2 개의 다른 트레이트를 상속한다"
   ]
  },
  {
   "cell_type": "code",
   "execution_count": 7,
   "id": "aae665ae",
   "metadata": {},
   "outputs": [],
   "source": [
    "trait Foo {\n",
    "    fn foo(&self);\n",
    "}\n",
    "\n",
    "trait Bar {\n",
    "    fn bar(&self);\n",
    "}\n",
    "\n",
    "trait FooBar: Foo + Bar {}"
   ]
  },
  {
   "cell_type": "markdown",
   "id": "a849524a",
   "metadata": {},
   "source": [
    "### 구조체를 정의\n",
    "\n",
    "- 두 개의 트레이트를 구현\n",
    "- 상속받은 트레이트도 구현 "
   ]
  },
  {
   "cell_type": "code",
   "execution_count": 8,
   "id": "9a5af41c",
   "metadata": {},
   "outputs": [],
   "source": [
    "struct MyType {}\n",
    "\n",
    "impl Foo for MyType {\n",
    "    fn foo(&self) {\n",
    "        println!(\"foo\");\n",
    "    }\n",
    "}\n",
    "\n",
    "impl Bar for MyType {\n",
    "    fn bar(&self) {\n",
    "        println!(\"bar\");\n",
    "    }\n",
    "}\n",
    "\n",
    "impl FooBar for MyType {}"
   ]
  },
  {
   "cell_type": "markdown",
   "id": "f0bb4fd9",
   "metadata": {},
   "source": [
    "### 구조체 인스턴스를 생성"
   ]
  },
  {
   "cell_type": "code",
   "execution_count": 9,
   "id": "24402eab",
   "metadata": {},
   "outputs": [],
   "source": [
    "fn main() {\n",
    "    let my_type = MyType{};\n",
    "    \n",
    "    my_type.foo();\n",
    "    my_type.bar();\n",
    "}"
   ]
  },
  {
   "cell_type": "markdown",
   "id": "d493d749",
   "metadata": {},
   "source": [
    "### 메인함수 호출 "
   ]
  },
  {
   "cell_type": "code",
   "execution_count": 10,
   "id": "6a55cce8",
   "metadata": {},
   "outputs": [
    {
     "name": "stdout",
     "output_type": "stream",
     "text": [
      "foo\n",
      "bar\n"
     ]
    }
   ],
   "source": [
    "main();"
   ]
  },
  {
   "cell_type": "code",
   "execution_count": null,
   "id": "ad5fcb5a",
   "metadata": {},
   "outputs": [],
   "source": []
  }
 ],
 "metadata": {
  "kernelspec": {
   "display_name": "Rust",
   "language": "rust",
   "name": "rust"
  },
  "language_info": {
   "codemirror_mode": "rust",
   "file_extension": ".rs",
   "mimetype": "text/rust",
   "name": "Rust",
   "pygment_lexer": "rust",
   "version": ""
  }
 },
 "nbformat": 4,
 "nbformat_minor": 5
}
