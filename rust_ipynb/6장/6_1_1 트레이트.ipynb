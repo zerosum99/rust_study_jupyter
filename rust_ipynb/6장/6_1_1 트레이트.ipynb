{
 "cells": [
  {
   "cell_type": "code",
   "execution_count": null,
   "id": "124b269e",
   "metadata": {},
   "outputs": [],
   "source": []
  },
  {
   "cell_type": "markdown",
   "id": "7178df10",
   "metadata": {},
   "source": [
    "## 트레이트\n",
    "\n",
    "- 공통적인 메서드로 정의\n",
    "- 트레이트로 정의될 경우 이를 impl에 구현"
   ]
  },
  {
   "cell_type": "code",
   "execution_count": 2,
   "id": "9a2ae901",
   "metadata": {},
   "outputs": [],
   "source": [
    "trait Say {\n",
    "    fn say(&self); \n",
    "}"
   ]
  },
  {
   "cell_type": "code",
   "execution_count": 3,
   "id": "e6f99a1d",
   "metadata": {},
   "outputs": [],
   "source": [
    "#[derive(Debug)]\n",
    "struct User;"
   ]
  },
  {
   "cell_type": "code",
   "execution_count": 4,
   "id": "170a8430",
   "metadata": {},
   "outputs": [],
   "source": [
    "impl Say for User {\n",
    "    fn say(&self) {\n",
    "        println!(\" 안녕하세요 !!!! \");\n",
    "    }\n",
    "}"
   ]
  },
  {
   "cell_type": "code",
   "execution_count": 5,
   "id": "01d361e7",
   "metadata": {},
   "outputs": [],
   "source": [
    "let u = User;"
   ]
  },
  {
   "cell_type": "code",
   "execution_count": 6,
   "id": "ce8d6d02",
   "metadata": {},
   "outputs": [
    {
     "name": "stdout",
     "output_type": "stream",
     "text": [
      " 안녕하세요 !!!! \n"
     ]
    }
   ],
   "source": [
    "u.say();"
   ]
  },
  {
   "cell_type": "code",
   "execution_count": null,
   "id": "1379c977",
   "metadata": {},
   "outputs": [],
   "source": []
  },
  {
   "cell_type": "markdown",
   "id": "0bde4caf",
   "metadata": {},
   "source": [
    "## 다른 구조체에 트레이트를 구현하기 "
   ]
  },
  {
   "cell_type": "code",
   "execution_count": 7,
   "id": "6b4c8768",
   "metadata": {},
   "outputs": [],
   "source": [
    "#[derive(Debug)]\n",
    "struct People {\n",
    "    name : String,\n",
    "    age  : u16,\n",
    "}"
   ]
  },
  {
   "cell_type": "code",
   "execution_count": 8,
   "id": "8b616a78",
   "metadata": {},
   "outputs": [],
   "source": [
    "impl Say for People {\n",
    "    fn say(&self) {\n",
    "        println!(\" People says {} \", self.name);\n",
    "    }\n",
    "}"
   ]
  },
  {
   "cell_type": "code",
   "execution_count": 9,
   "id": "2dde9af6",
   "metadata": {},
   "outputs": [],
   "source": [
    "let p = People {name : \"러스트\".to_string(), age : 33 };"
   ]
  },
  {
   "cell_type": "code",
   "execution_count": 10,
   "id": "72558604",
   "metadata": {},
   "outputs": [
    {
     "name": "stdout",
     "output_type": "stream",
     "text": [
      " People says 러스트 \n"
     ]
    }
   ],
   "source": [
    "p.say();"
   ]
  },
  {
   "cell_type": "code",
   "execution_count": null,
   "id": "2415e4e8",
   "metadata": {},
   "outputs": [],
   "source": []
  },
  {
   "cell_type": "markdown",
   "id": "3fa8f4b1",
   "metadata": {},
   "source": [
    "## 구조체의 메서드와 트레이트의 메서드를 정의하기"
   ]
  },
  {
   "cell_type": "code",
   "execution_count": 11,
   "id": "fdfddb76",
   "metadata": {},
   "outputs": [],
   "source": [
    "struct SeaCreature {\n",
    "    name: String,\n",
    "    noise: String,\n",
    "}\n",
    "\n",
    "impl SeaCreature {\n",
    "    fn get_sound(&self) -> &str {\n",
    "        &self.noise\n",
    "    }\n",
    "}"
   ]
  },
  {
   "cell_type": "code",
   "execution_count": 12,
   "id": "0e507071",
   "metadata": {},
   "outputs": [],
   "source": [
    "trait NoiseMaker_ {\n",
    "    fn make_noise_(&self);\n",
    "}\n",
    "\n",
    "impl NoiseMaker_ for SeaCreature {\n",
    "    fn make_noise_(&self) {\n",
    "        println!(\"{}\", &self.get_sound());\n",
    "    }\n",
    "}"
   ]
  },
  {
   "cell_type": "code",
   "execution_count": 13,
   "id": "0c2d151f",
   "metadata": {},
   "outputs": [],
   "source": [
    "fn main() {\n",
    "    let creature = SeaCreature {\n",
    "        name: String::from(\"Ferris\"),\n",
    "        noise: String::from(\"blub\"),\n",
    "    };\n",
    "    creature.make_noise_();\n",
    "}\n"
   ]
  },
  {
   "cell_type": "code",
   "execution_count": 14,
   "id": "078ad442",
   "metadata": {},
   "outputs": [
    {
     "name": "stdout",
     "output_type": "stream",
     "text": [
      "blub\n"
     ]
    },
    {
     "data": {
      "text/plain": [
       "()"
      ]
     },
     "execution_count": 14,
     "metadata": {},
     "output_type": "execute_result"
    }
   ],
   "source": [
    "main()"
   ]
  },
  {
   "cell_type": "markdown",
   "id": "0e9f05a4",
   "metadata": {},
   "source": [
    "### 일반 메서드가 있는 트레이트 정의하기"
   ]
  },
  {
   "cell_type": "code",
   "execution_count": 15,
   "id": "409248d1",
   "metadata": {},
   "outputs": [],
   "source": [
    "trait NoiseMaker {\n",
    "    fn make_noise(&self);\n",
    "    \n",
    "    fn make_alot_of_noise(&self){\n",
    "        self.make_noise();\n",
    "        self.make_noise();\n",
    "        self.make_noise();\n",
    "    }\n",
    "}"
   ]
  },
  {
   "cell_type": "code",
   "execution_count": 16,
   "id": "2803fa49",
   "metadata": {},
   "outputs": [],
   "source": [
    "impl NoiseMaker for SeaCreature {\n",
    "    fn make_noise(&self) {\n",
    "        println!(\"{}\", &self.get_sound());\n",
    "    }\n",
    "}"
   ]
  },
  {
   "cell_type": "code",
   "execution_count": 17,
   "id": "f094f97a",
   "metadata": {},
   "outputs": [],
   "source": [
    "fn main() {\n",
    "    let creature = SeaCreature {\n",
    "        name: String::from(\"Ferris\"),\n",
    "        noise: String::from(\"blub\"),\n",
    "    };\n",
    "    creature.make_alot_of_noise();\n",
    "}\n"
   ]
  },
  {
   "cell_type": "code",
   "execution_count": 18,
   "id": "1258800c",
   "metadata": {},
   "outputs": [
    {
     "name": "stdout",
     "output_type": "stream",
     "text": [
      "blub\n",
      "blub\n",
      "blub\n"
     ]
    },
    {
     "data": {
      "text/plain": [
       "()"
      ]
     },
     "execution_count": 18,
     "metadata": {},
     "output_type": "execute_result"
    }
   ],
   "source": [
    "main()"
   ]
  },
  {
   "cell_type": "code",
   "execution_count": null,
   "id": "35125c5d",
   "metadata": {},
   "outputs": [],
   "source": []
  }
 ],
 "metadata": {
  "kernelspec": {
   "display_name": "Rust",
   "language": "rust",
   "name": "rust"
  },
  "language_info": {
   "codemirror_mode": "rust",
   "file_extension": ".rs",
   "mimetype": "text/rust",
   "name": "Rust",
   "pygment_lexer": "rust",
   "version": ""
  }
 },
 "nbformat": 4,
 "nbformat_minor": 5
}
