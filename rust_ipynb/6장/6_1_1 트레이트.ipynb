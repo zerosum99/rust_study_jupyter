{
 "cells": [
  {
   "cell_type": "code",
   "execution_count": null,
   "id": "124b269e",
   "metadata": {},
   "outputs": [],
   "source": []
  },
  {
   "cell_type": "code",
   "execution_count": null,
   "id": "895526eb",
   "metadata": {},
   "outputs": [],
   "source": []
  },
  {
   "cell_type": "code",
   "execution_count": 2,
   "id": "9a2ae901",
   "metadata": {},
   "outputs": [],
   "source": [
    "trait Say {\n",
    "    fn say(&self); \n",
    "}"
   ]
  },
  {
   "cell_type": "code",
   "execution_count": 3,
   "id": "e6f99a1d",
   "metadata": {},
   "outputs": [],
   "source": [
    "#[derive(Debug)]\n",
    "struct User;"
   ]
  },
  {
   "cell_type": "code",
   "execution_count": 4,
   "id": "170a8430",
   "metadata": {},
   "outputs": [],
   "source": [
    "impl Say for User {\n",
    "    fn say(&self) {\n",
    "        println!(\" User says \");\n",
    "    }\n",
    "}"
   ]
  },
  {
   "cell_type": "code",
   "execution_count": 5,
   "id": "01d361e7",
   "metadata": {},
   "outputs": [],
   "source": [
    "let u = User;"
   ]
  },
  {
   "cell_type": "code",
   "execution_count": 6,
   "id": "ce8d6d02",
   "metadata": {},
   "outputs": [
    {
     "name": "stdout",
     "output_type": "stream",
     "text": [
      " User says \n"
     ]
    }
   ],
   "source": [
    "u.say();"
   ]
  },
  {
   "cell_type": "code",
   "execution_count": null,
   "id": "1379c977",
   "metadata": {},
   "outputs": [],
   "source": []
  },
  {
   "cell_type": "code",
   "execution_count": null,
   "id": "51cec548",
   "metadata": {},
   "outputs": [],
   "source": []
  },
  {
   "cell_type": "code",
   "execution_count": 7,
   "id": "6b4c8768",
   "metadata": {},
   "outputs": [],
   "source": [
    "#[derive(Debug)]\n",
    "struct People {\n",
    "    name : String,\n",
    "    age  : u16,\n",
    "}"
   ]
  },
  {
   "cell_type": "code",
   "execution_count": 8,
   "id": "8b616a78",
   "metadata": {},
   "outputs": [],
   "source": [
    "impl Say for People {\n",
    "    fn say(&self) {\n",
    "        println!(\" People says {} \", self.name);\n",
    "    }\n",
    "}"
   ]
  },
  {
   "cell_type": "code",
   "execution_count": 9,
   "id": "2dde9af6",
   "metadata": {},
   "outputs": [],
   "source": [
    "let p = People {name : \"러스트\".to_string(), age : 33 };"
   ]
  },
  {
   "cell_type": "code",
   "execution_count": 11,
   "id": "72558604",
   "metadata": {},
   "outputs": [
    {
     "name": "stdout",
     "output_type": "stream",
     "text": [
      " People says 러스트 \n"
     ]
    }
   ],
   "source": [
    "p.say();"
   ]
  },
  {
   "cell_type": "code",
   "execution_count": null,
   "id": "2415e4e8",
   "metadata": {},
   "outputs": [],
   "source": []
  }
 ],
 "metadata": {
  "kernelspec": {
   "display_name": "Rust",
   "language": "rust",
   "name": "rust"
  },
  "language_info": {
   "codemirror_mode": "rust",
   "file_extension": ".rs",
   "mimetype": "text/rust",
   "name": "Rust",
   "pygment_lexer": "rust",
   "version": ""
  }
 },
 "nbformat": 4,
 "nbformat_minor": 5
}
