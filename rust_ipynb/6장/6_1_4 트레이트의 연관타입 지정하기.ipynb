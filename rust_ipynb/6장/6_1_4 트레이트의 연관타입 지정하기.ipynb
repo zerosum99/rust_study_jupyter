{
 "cells": [
  {
   "cell_type": "code",
   "execution_count": null,
   "id": "34f3c890",
   "metadata": {},
   "outputs": [],
   "source": []
  },
  {
   "cell_type": "markdown",
   "id": "90ef1394",
   "metadata": {},
   "source": [
    "## 트레이트 연관 타입(Associated Type)\n",
    "\n",
    "- 특정 트레이트 내부에서 사용되는 타입을 나타내는 개념입니다. \n",
    "- 연관 타입은 제네릭 타입과 유사하지만, 제네릭 타입은 타입을 인수화하는 반면, 연관 타입은 특정 트레이트에서 사용되는 타입을 나타냅니다.\n",
    "\n",
    "- 연관 타입은 보통 트레이트 내부에서 사용되는 메서드나 상수 등의 반환 타입으로 사용됩니다. \n",
    "- 이를 통해 트레이트를 구현한 타입들은 해당 연관 타입을 구체적인 타입으로 대체하게 됩니다."
   ]
  },
  {
   "cell_type": "markdown",
   "id": "ba08607e",
   "metadata": {},
   "source": [
    "### 트레이트에 연관 타입 지정하기 \n",
    "\n",
    "- 트레이트 내부에 type과 타입명을 지정하기 "
   ]
  },
  {
   "cell_type": "code",
   "execution_count": 2,
   "id": "7e4d3cf4",
   "metadata": {},
   "outputs": [],
   "source": [
    "trait Drawable {\n",
    "    type Color;                           // 연관타입 \n",
    "    \n",
    "    fn draw(&self, color: Self::Color);   // 매개변수의 타입 정의 \n",
    "}\n"
   ]
  },
  {
   "cell_type": "markdown",
   "id": "a3bc0106",
   "metadata": {},
   "source": [
    "### 트레이트 구현할 때 연관티입에 실 타입 설정 "
   ]
  },
  {
   "cell_type": "code",
   "execution_count": 3,
   "id": "7c8fed7a",
   "metadata": {},
   "outputs": [],
   "source": [
    "struct Circle {\n",
    "    radius: f32,\n",
    "}\n",
    "\n",
    "impl Drawable for Circle {                  // 트레이트 구현 \n",
    "    type Color = (u8, u8, u8);              // 연관타입 지정 \n",
    "    \n",
    "    fn draw(&self, color: Self::Color) {\n",
    "        println!(\"Drawing a circle with radius {} and color {:?}\", self.radius, color);\n",
    "    }\n",
    "}\n"
   ]
  },
  {
   "cell_type": "markdown",
   "id": "617e81b2",
   "metadata": {},
   "source": [
    "### 트레이트 구현할 때 연관타입에 실 타입 설정 "
   ]
  },
  {
   "cell_type": "code",
   "execution_count": 4,
   "id": "154eb91d",
   "metadata": {},
   "outputs": [],
   "source": [
    "struct Rectangle {\n",
    "    width: f32,\n",
    "    height: f32,\n",
    "}\n",
    "\n",
    "impl Drawable for Rectangle {\n",
    "    type Color = (u8, u8, u8, u8);\n",
    "    \n",
    "    fn draw(&self, color: Self::Color) {\n",
    "        println!(\"Drawing a rectangle with width {} and height {} and color {:?}\", self.width, self.height, color);\n",
    "    }\n",
    "}"
   ]
  },
  {
   "cell_type": "markdown",
   "id": "bb8809f7",
   "metadata": {},
   "source": [
    "### 구현체 인스턴스 생성 및 메서드 호출"
   ]
  },
  {
   "cell_type": "code",
   "execution_count": 5,
   "id": "fbd08cc0",
   "metadata": {},
   "outputs": [],
   "source": [
    "fn main() {\n",
    "    let circle = Circle { radius: 10.0 };\n",
    "    let rectangle = Rectangle { width: 20.0, height: 30.0 };\n",
    "    \n",
    "    circle.draw((255, 0, 0));\n",
    "    rectangle.draw((0, 255, 0, 128));\n",
    "}"
   ]
  },
  {
   "cell_type": "code",
   "execution_count": 6,
   "id": "4e30b965",
   "metadata": {},
   "outputs": [
    {
     "name": "stdout",
     "output_type": "stream",
     "text": [
      "Drawing a circle with radius 10 and color (255, 0, 0)\n",
      "Drawing a rectangle with width 20 and height 30 and color (0, 255, 0, 128)\n"
     ]
    }
   ],
   "source": [
    "main();"
   ]
  },
  {
   "cell_type": "markdown",
   "id": "ab106bf0",
   "metadata": {},
   "source": [
    "## 2. 출력하는 연관타입 정의하기 "
   ]
  },
  {
   "cell_type": "markdown",
   "id": "82cb6a03",
   "metadata": {},
   "source": [
    "### 트레이트 작성 "
   ]
  },
  {
   "cell_type": "code",
   "execution_count": 7,
   "id": "a51ecb9f",
   "metadata": {},
   "outputs": [],
   "source": [
    "trait First {\n",
    "    type Output;\n",
    "    \n",
    "    fn first(&self) -> Self::Output;\n",
    "}\n",
    "\n",
    "trait Second {\n",
    "    type Output;\n",
    "    \n",
    "    fn second(&self) -> Self::Output;\n",
    "}"
   ]
  },
  {
   "cell_type": "markdown",
   "id": "4ff41961",
   "metadata": {},
   "source": [
    "### 구조체 작성 \n",
    "\n",
    "- 두 개의 다른 타입을 가지는 튜플을 구조체로 정의 "
   ]
  },
  {
   "cell_type": "code",
   "execution_count": 8,
   "id": "c4563c50",
   "metadata": {},
   "outputs": [],
   "source": [
    "#[derive(Clone,Copy)]\n",
    "struct Pair<A, B>(A, B);\n"
   ]
  },
  {
   "cell_type": "markdown",
   "id": "ed8e5ae9",
   "metadata": {},
   "source": [
    "### 트레이트 구현을 위한 제너릭 타입을 지정 \n",
    "\n",
    "- 트레이트 경계를 Clone으로 지정\n",
    "- 메서드의 결과는 특정 값이므로 이동이 발생한다. "
   ]
  },
  {
   "cell_type": "code",
   "execution_count": 9,
   "id": "5974b1a2",
   "metadata": {},
   "outputs": [],
   "source": [
    "impl<A:Clone, B:Clone> First for Pair<A, B> {\n",
    "    type Output = A;\n",
    "    \n",
    "    fn first(&self) -> Self::Output {\n",
    "        (&self).0.clone()                // 이동값은 이동을 발생해야 함 \n",
    "    }\n",
    "}\n",
    "\n",
    "impl<A:Clone, B:Clone> Second for Pair<A, B> {\n",
    "    type Output = B;\n",
    "    \n",
    "    fn second(&self) -> Self::Output {\n",
    "        (&self).1.clone()                // 반환값은 이동을 발생해야 함 \n",
    "    }\n",
    "}\n"
   ]
  },
  {
   "cell_type": "markdown",
   "id": "2d68f220",
   "metadata": {},
   "source": [
    "### 튜플을 생성하고 값을 메서드로 처리\n",
    "\n",
    "- 첫번째 값은 first 메서드\n",
    "- 두번째 값은 second 메서드"
   ]
  },
  {
   "cell_type": "code",
   "execution_count": 10,
   "id": "f1b1e6b3",
   "metadata": {},
   "outputs": [],
   "source": [
    "fn main() {\n",
    "    let pair = Pair(42, \"hello\");\n",
    "    let first = pair.first();\n",
    "    let second = pair.second();\n",
    "    \n",
    "    println!(\"First: {}\", first);\n",
    "    println!(\"Second: {}\", second);\n",
    "}\n"
   ]
  },
  {
   "cell_type": "code",
   "execution_count": 11,
   "id": "077c64f6",
   "metadata": {},
   "outputs": [
    {
     "name": "stdout",
     "output_type": "stream",
     "text": [
      "First: 42\n",
      "Second: hello\n"
     ]
    }
   ],
   "source": [
    "main();"
   ]
  },
  {
   "cell_type": "code",
   "execution_count": null,
   "id": "e9e455d6",
   "metadata": {},
   "outputs": [],
   "source": []
  }
 ],
 "metadata": {
  "kernelspec": {
   "display_name": "Rust",
   "language": "rust",
   "name": "rust"
  },
  "language_info": {
   "codemirror_mode": "rust",
   "file_extension": ".rs",
   "mimetype": "text/rust",
   "name": "Rust",
   "pygment_lexer": "rust",
   "version": ""
  }
 },
 "nbformat": 4,
 "nbformat_minor": 5
}
