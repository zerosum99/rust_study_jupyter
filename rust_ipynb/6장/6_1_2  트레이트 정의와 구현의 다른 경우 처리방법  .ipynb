{
 "cells": [
  {
   "cell_type": "markdown",
   "id": "6be992f8",
   "metadata": {},
   "source": [
    "## 모듈 별로 구조체와 구현, 트레이트와 구현 알아보기\n",
    "\n",
    "- 구조체와 구현이 다른 모듈인 경우 \n",
    "- 트레이트와 트레이트 구현이 다른 모듈인 경우 \n"
   ]
  },
  {
   "cell_type": "markdown",
   "id": "ec264b5a",
   "metadata": {},
   "source": [
    "## 1 구조체의 일반 메서드 처리\n",
    "\n",
    "- 다른 모듈에 구조체를 정의하고 현재 모듈에서 메서드를 구현\n",
    "- 인스턴스를 만들고 바로 호출 처리"
   ]
  },
  {
   "cell_type": "markdown",
   "id": "21459f68",
   "metadata": {},
   "source": [
    "## 1-1  구조체와 구현이 다른 경우\n",
    "\n",
    "- 다른 모듈의 구조체를 가져와서 현재 모듈에서 메서드를 구현하기 "
   ]
  },
  {
   "cell_type": "markdown",
   "id": "4e41f8c5",
   "metadata": {},
   "source": [
    "### 다른 모듈에 구조체만 정의 "
   ]
  },
  {
   "cell_type": "code",
   "execution_count": 2,
   "id": "f0ffb8a9",
   "metadata": {},
   "outputs": [],
   "source": [
    "mod Bbb {\n",
    "    pub struct People {\n",
    "        pub name : String,\n",
    "        pub age : u32,\n",
    "    }\n",
    "}"
   ]
  },
  {
   "cell_type": "markdown",
   "id": "259bda67",
   "metadata": {},
   "source": [
    "### 현재 모듈에서 구조체의 메서드 정의 "
   ]
  },
  {
   "cell_type": "code",
   "execution_count": 3,
   "id": "8d9604a0",
   "metadata": {},
   "outputs": [],
   "source": [
    "impl Bbb::People {\n",
    "    fn say(&self) {\n",
    "        println!(\" 구조체의 일반 method 처리 \")\n",
    "    }\n",
    "}"
   ]
  },
  {
   "cell_type": "markdown",
   "id": "0e663534",
   "metadata": {},
   "source": [
    "### 인스턴스 생성 후 바로 메서드 호출 "
   ]
  },
  {
   "cell_type": "code",
   "execution_count": 4,
   "id": "e219004a",
   "metadata": {},
   "outputs": [],
   "source": [
    "let p = Bbb::People { name: String::from(\"달님\"), age: 55};"
   ]
  },
  {
   "cell_type": "code",
   "execution_count": 5,
   "id": "2fa063de",
   "metadata": {},
   "outputs": [
    {
     "name": "stdout",
     "output_type": "stream",
     "text": [
      " 구조체의 일반 method 처리 \n"
     ]
    }
   ],
   "source": [
    "p.say();"
   ]
  },
  {
   "cell_type": "code",
   "execution_count": null,
   "id": "abc60ece",
   "metadata": {},
   "outputs": [],
   "source": []
  },
  {
   "cell_type": "markdown",
   "id": "d19c76fd",
   "metadata": {},
   "source": [
    "## 2. 트레이트와 트레이트  정의 알아보기\n",
    "\n",
    "- 동일한 모듈에 트레이트와 트레이트 구현\n",
    "- 다른 모듈에 트레이트와 트레이트 구현 "
   ]
  },
  {
   "cell_type": "markdown",
   "id": "427be688",
   "metadata": {},
   "source": [
    "## 2-1 동일한 모듈에 트레이트 정의 및 구현 "
   ]
  },
  {
   "cell_type": "markdown",
   "id": "16fa2e60",
   "metadata": {},
   "source": [
    "### 트레이트 정의 "
   ]
  },
  {
   "cell_type": "code",
   "execution_count": 7,
   "id": "120b2c2b",
   "metadata": {},
   "outputs": [],
   "source": [
    "trait Say_ {\n",
    "    fn say(&self);\n",
    "}"
   ]
  },
  {
   "cell_type": "markdown",
   "id": "8a8b909b",
   "metadata": {},
   "source": [
    "### 구조체 정의 "
   ]
  },
  {
   "cell_type": "code",
   "execution_count": 8,
   "id": "9d48416a",
   "metadata": {},
   "outputs": [],
   "source": [
    "struct Student {\n",
    "    name : String,\n",
    "    age : u32\n",
    "}\n",
    "\n",
    "impl Say_ for Student {\n",
    "    fn say(&self) {\n",
    "        println!(\" 동일한 모듈에 정의된 트레이트 구현 \")\n",
    "    }\n",
    "}"
   ]
  },
  {
   "cell_type": "markdown",
   "id": "36c5f27b",
   "metadata": {},
   "source": [
    "### 트레이트 적용된 메서드 호출하기 "
   ]
  },
  {
   "cell_type": "code",
   "execution_count": 9,
   "id": "27c61aba",
   "metadata": {},
   "outputs": [],
   "source": [
    "let s = Student { name : String::from(\"경욱\"), age:25};"
   ]
  },
  {
   "cell_type": "markdown",
   "id": "0411ca1d",
   "metadata": {},
   "source": [
    "### 트레이트를 별도로 use 할 필요가 없다 "
   ]
  },
  {
   "cell_type": "code",
   "execution_count": 15,
   "id": "43b66aba",
   "metadata": {},
   "outputs": [
    {
     "name": "stdout",
     "output_type": "stream",
     "text": [
      " 동일한 모듈에 정의된 트레이트 구현 \n"
     ]
    },
    {
     "data": {
      "text/plain": [
       "()"
      ]
     },
     "execution_count": 15,
     "metadata": {},
     "output_type": "execute_result"
    }
   ],
   "source": [
    "s.say()"
   ]
  },
  {
   "cell_type": "markdown",
   "id": "484ec48d",
   "metadata": {},
   "source": [
    "## 2-2 트레이트를 다른 모듈에 정의"
   ]
  },
  {
   "cell_type": "markdown",
   "id": "b1d0dd02",
   "metadata": {},
   "source": [
    "### 별도 모듈에 트레이트 정의 "
   ]
  },
  {
   "cell_type": "code",
   "execution_count": 10,
   "id": "f9fabee5",
   "metadata": {},
   "outputs": [],
   "source": [
    "mod Aaa {\n",
    "    pub trait Say {\n",
    "        fn say(&self);\n",
    "    }\n",
    "}"
   ]
  },
  {
   "cell_type": "markdown",
   "id": "723ccc31",
   "metadata": {},
   "source": [
    "###  현재에 구조체와 트레이트의 메서드를 정의 "
   ]
  },
  {
   "cell_type": "code",
   "execution_count": 11,
   "id": "f366532c",
   "metadata": {},
   "outputs": [],
   "source": [
    "struct User;\n",
    "\n",
    "impl Aaa::Say for User {\n",
    "    fn say(&self) {\n",
    "        println!(\" 안녕하세요! 트레이트 정의 메서드를 호출합니다. \");\n",
    "    }\n",
    "}"
   ]
  },
  {
   "cell_type": "markdown",
   "id": "1292576b",
   "metadata": {},
   "source": [
    "### 인스턴스를 만들고 say 메서드를 호출하려면 트레이트를 import 해줘야 함 "
   ]
  },
  {
   "cell_type": "code",
   "execution_count": 12,
   "id": "3aff1886",
   "metadata": {},
   "outputs": [],
   "source": [
    "let u = User;"
   ]
  },
  {
   "cell_type": "markdown",
   "id": "98bc2d47",
   "metadata": {},
   "source": [
    "### 트레이트 정의된 메서드를 호출하기 전에 트레이트를 use로 지정해야 함 "
   ]
  },
  {
   "cell_type": "code",
   "execution_count": 13,
   "id": "ea51b643",
   "metadata": {},
   "outputs": [
    {
     "name": "stdout",
     "output_type": "stream",
     "text": [
      " 안녕하세요! 트레이트 정의 메서드를 호출합니다. \n"
     ]
    }
   ],
   "source": [
    "use crate::Aaa::Say;\n",
    "\n",
    "u.say();"
   ]
  },
  {
   "cell_type": "code",
   "execution_count": null,
   "id": "4c208377",
   "metadata": {},
   "outputs": [],
   "source": []
  }
 ],
 "metadata": {
  "kernelspec": {
   "display_name": "Rust",
   "language": "rust",
   "name": "rust"
  },
  "language_info": {
   "codemirror_mode": "rust",
   "file_extension": ".rs",
   "mimetype": "text/rust",
   "name": "Rust",
   "pygment_lexer": "rust",
   "version": ""
  }
 },
 "nbformat": 4,
 "nbformat_minor": 5
}
