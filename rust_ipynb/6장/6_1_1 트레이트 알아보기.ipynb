{
 "cells": [
  {
   "cell_type": "code",
   "execution_count": null,
   "id": "124b269e",
   "metadata": {},
   "outputs": [],
   "source": []
  },
  {
   "cell_type": "markdown",
   "id": "29b1e5e7",
   "metadata": {},
   "source": [
    "## 트레이트 \n",
    "\n",
    "- Rust에서 trait는 인터페이스 개념으로, 특정한 행동을 정의하는 추상화된 타입입니다. \n",
    "- trait는 메서드와 관련된 함수들의 집합이며, 구조체와 열거형에 대한 기능을 정의합니다. \n",
    "- Rust에서 trait는 제네릭 타입에 대한 제한을 정의하는 데에도 사용됩니다.\n",
    "\n"
   ]
  },
  {
   "cell_type": "markdown",
   "id": "faad622a",
   "metadata": {},
   "source": [
    "## Rust의 trait는 몇 가지 특징이 있습니다:\n",
    "\n",
    "### 디폴트메서드\n",
    "- Trait는 기본 구현을 가질 수 있습니다. 따라서 Trait의 메서드가 구현될 수 없는 타입에 대해서도 Trait를 구현할 수 있습니다.\n",
    "\n",
    "### 트레이트 상속 \n",
    "- Trait는 상속이 가능합니다. 하나의 Trait가 다른 Trait를 상속하도록 할 수 있습니다.\n",
    "\n",
    "### 트레이트 확장 \n",
    "- Trait는 외부 타입에 대해서도 구현될 수 있습니다. 즉, 외부 라이브러리의 타입에 대해 Trait를 구현할 수 있습니다.\n",
    "\n",
    "### 명시적 구현\n",
    "- Trait는 명시적으로 구현되어야 합니다. Trait를 구현하지 않으면 컴파일 오류가 발생합니다.\n",
    "\n",
    "### 구조체, 이넘 등에만 구현가능 \n",
    "- Trait 구현은 타입에 대해서만 구현할 수 있습니다. 따라서 Trait를 구현할 때, Trait 자체가 아니라 구현할 타입에 대해 구현을 해야 합니다."
   ]
  },
  {
   "cell_type": "code",
   "execution_count": null,
   "id": "5114d0e9",
   "metadata": {},
   "outputs": [],
   "source": []
  },
  {
   "cell_type": "markdown",
   "id": "7178df10",
   "metadata": {},
   "source": [
    "## 1. 트레이트(Trait) \n",
    "\n",
    "- 여러 구조체나 이넘에 필요한 공통적인 메서드를 선언해서 필요한 구조체나 이넘에 이 메서드를 구현한다.\n",
    "- 공통적인 메서드에는 선언말고도 전체를 구현한 디폴트(default) 메서드도 있다. 이 메서드를 사용할때도 구현이 필요하다.\n",
    "\n",
    "### 트레이트 정의와 트레이트 구현이 필요\n",
    "- 트레이트 정의는 trait 예약어로 선언을 한다.\n",
    "- 트레이트 구현은 해당 trait의 이름을 impl 에 선언하고 내부 메서드를 구현한다.\n",
    "- 이는 일반적인 메서드 구현과 다르다. "
   ]
  },
  {
   "cell_type": "markdown",
   "id": "f5c4a2a6",
   "metadata": {},
   "source": [
    "## 1-1 트레이트 선언과 트레이트 구현\n",
    "\n",
    "- 구조체의 참조만 사용할 경우는 첫번째 매개변수는 &self\n",
    "- 구조체 내부의 정보를 갱신이 필요할 경우는 첫번째 매개변수를 &mut self\n",
    "- 구조체의 새로운 인스턴스를 만들려면 첫번째 매개변수는 self를 사용"
   ]
  },
  {
   "cell_type": "markdown",
   "id": "49943ba8",
   "metadata": {},
   "source": [
    "### 하나의 메서드를 가진 트레이트 정의\n",
    "\n",
    "- 메서드는 기본 메서드 선언 즉 구현체가 없다 "
   ]
  },
  {
   "cell_type": "code",
   "execution_count": 4,
   "id": "9a2ae901",
   "metadata": {},
   "outputs": [],
   "source": [
    "trait Say {\n",
    "    fn say(&self); \n",
    "}"
   ]
  },
  {
   "cell_type": "markdown",
   "id": "aa874789",
   "metadata": {},
   "source": [
    "### 빈 구조체 정의 "
   ]
  },
  {
   "cell_type": "code",
   "execution_count": 5,
   "id": "e6f99a1d",
   "metadata": {},
   "outputs": [],
   "source": [
    "#[derive(Debug)]\n",
    "struct User;"
   ]
  },
  {
   "cell_type": "markdown",
   "id": "6f6db6c0",
   "metadata": {},
   "source": [
    "### 구조체에 트레이트를 구현하기 \n",
    "\n",
    "- 트레이트 이름을 impl 다음에 정의하고 구조체 이름은 for 다음에 정의\n",
    "- 본문에는 트레이트에 있는 메서드 선언을 구현한다. "
   ]
  },
  {
   "cell_type": "code",
   "execution_count": 6,
   "id": "170a8430",
   "metadata": {},
   "outputs": [],
   "source": [
    "impl Say for User {\n",
    "    fn say(&self) {\n",
    "        println!(\" 안녕하세요 !!!! \");\n",
    "    }\n",
    "}"
   ]
  },
  {
   "cell_type": "markdown",
   "id": "342f8b97",
   "metadata": {},
   "source": [
    "## 1-2 트레이트 메서드 사용  \n",
    "\n",
    "- 메서드를 사용하려면 항상 인스턴스가 존재해야 함\n",
    "- 트레이트의 메서드도 인스턴스로 호출함"
   ]
  },
  {
   "cell_type": "markdown",
   "id": "15b34f75",
   "metadata": {},
   "source": [
    "### 인스턴스 생성하기 "
   ]
  },
  {
   "cell_type": "code",
   "execution_count": 7,
   "id": "01d361e7",
   "metadata": {},
   "outputs": [],
   "source": [
    "let u = User;"
   ]
  },
  {
   "cell_type": "markdown",
   "id": "1b5157d4",
   "metadata": {},
   "source": [
    "### 구조체에 구현한 메서드를 호출한다. "
   ]
  },
  {
   "cell_type": "code",
   "execution_count": 8,
   "id": "ce8d6d02",
   "metadata": {},
   "outputs": [
    {
     "name": "stdout",
     "output_type": "stream",
     "text": [
      " 안녕하세요 !!!! \n"
     ]
    }
   ],
   "source": [
    "u.say();"
   ]
  },
  {
   "cell_type": "code",
   "execution_count": null,
   "id": "1379c977",
   "metadata": {},
   "outputs": [],
   "source": []
  },
  {
   "cell_type": "markdown",
   "id": "0bde4caf",
   "metadata": {},
   "source": [
    "## 2. 트레이트는 공통 기능에 대한 선언 \n",
    "\n",
    "- 위에서 선언된 트레이트를 다른 구조체에 다시 정의가 가능하다. \n",
    "- 여러 구조체에 동일한 트레이트의 메서드를 구현할 수 있다. "
   ]
  },
  {
   "cell_type": "markdown",
   "id": "6f73fd3b",
   "metadata": {},
   "source": [
    "## 2-1 여러 구조체에 필요한 트레이트 처리 "
   ]
  },
  {
   "cell_type": "markdown",
   "id": "f8bed5bd",
   "metadata": {},
   "source": [
    "### 구조체 정의 "
   ]
  },
  {
   "cell_type": "code",
   "execution_count": 9,
   "id": "6b4c8768",
   "metadata": {},
   "outputs": [],
   "source": [
    "#[derive(Debug)]\n",
    "struct People {\n",
    "    name : String,\n",
    "    age  : u16,\n",
    "}\n",
    "\n",
    "#[derive(Debug)]\n",
    "struct Animal {\n",
    "    name : String,\n",
    "    age  : u16,\n",
    "}"
   ]
  },
  {
   "cell_type": "markdown",
   "id": "16714ac1",
   "metadata": {},
   "source": [
    "### 위에서 정의된 트레이트의 메서드를 구현"
   ]
  },
  {
   "cell_type": "code",
   "execution_count": 10,
   "id": "8b616a78",
   "metadata": {},
   "outputs": [],
   "source": [
    "impl Say for People {\n",
    "    fn say(&self) {\n",
    "        println!(\" People says {} \", self.name);\n",
    "    }\n",
    "}\n",
    "\n",
    "impl Say for Animal  {\n",
    "    fn say(&self) {\n",
    "        println!(\" Animal says {} \", self.name);\n",
    "    }\n",
    "}"
   ]
  },
  {
   "cell_type": "markdown",
   "id": "b9e3cecc",
   "metadata": {},
   "source": [
    "### 구조체의 인스턴스를 생성 "
   ]
  },
  {
   "cell_type": "code",
   "execution_count": 11,
   "id": "2dde9af6",
   "metadata": {},
   "outputs": [],
   "source": [
    "let p = People {name : \"러스트\".to_string(), age : 33 };"
   ]
  },
  {
   "cell_type": "code",
   "execution_count": 13,
   "id": "bcc41ee8",
   "metadata": {},
   "outputs": [],
   "source": [
    "let a = Animal {name : \"개\".to_string(), age : 7 };"
   ]
  },
  {
   "cell_type": "markdown",
   "id": "c53a55eb",
   "metadata": {},
   "source": [
    "### 메서드를 호출 "
   ]
  },
  {
   "cell_type": "code",
   "execution_count": 12,
   "id": "72558604",
   "metadata": {},
   "outputs": [
    {
     "name": "stdout",
     "output_type": "stream",
     "text": [
      " People says 러스트 \n"
     ]
    }
   ],
   "source": [
    "p.say();"
   ]
  },
  {
   "cell_type": "code",
   "execution_count": 14,
   "id": "2415e4e8",
   "metadata": {},
   "outputs": [
    {
     "name": "stdout",
     "output_type": "stream",
     "text": [
      " Animal says 개 \n"
     ]
    }
   ],
   "source": [
    "a.say();"
   ]
  },
  {
   "cell_type": "code",
   "execution_count": null,
   "id": "e7b3b397",
   "metadata": {},
   "outputs": [],
   "source": []
  },
  {
   "cell_type": "code",
   "execution_count": null,
   "id": "0f26f837",
   "metadata": {},
   "outputs": [],
   "source": []
  },
  {
   "cell_type": "markdown",
   "id": "385cfec2",
   "metadata": {},
   "source": [
    "## 2-2. 일반 메서드와 트레이트 메서드의 차이점 이해하기"
   ]
  },
  {
   "cell_type": "markdown",
   "id": "3fa8f4b1",
   "metadata": {},
   "source": [
    "### 구조체에 필요한 기능을  메서드로 정의 \n",
    "\n",
    "- 구조체만 사용하는 기능을 정의 \n",
    "- impl에 바로 구조체 이름을 작성"
   ]
  },
  {
   "cell_type": "code",
   "execution_count": 15,
   "id": "fdfddb76",
   "metadata": {},
   "outputs": [],
   "source": [
    "struct SeaCreature {\n",
    "    name: String,\n",
    "    noise: String,\n",
    "}\n",
    "\n",
    "impl SeaCreature {\n",
    "    fn get_sound(&self) -> &str {\n",
    "        &self.noise\n",
    "    }\n",
    "}"
   ]
  },
  {
   "cell_type": "markdown",
   "id": "4fe3d06e",
   "metadata": {},
   "source": [
    "### 트레이트 정의 및 이를 구조체에 구현하기 \n",
    "\n",
    "- 트레이트에  메서드  정의 \n",
    "- 트레이트를 구조체에 구현할 때는 트레이트 이름이 먼저오고 for 다음에 구조체, 그 다음에 메서드 구현\n"
   ]
  },
  {
   "cell_type": "code",
   "execution_count": 16,
   "id": "0e507071",
   "metadata": {},
   "outputs": [],
   "source": [
    "trait NoiseMaker_ {\n",
    "    fn make_noise_(&self);\n",
    "}\n",
    "\n",
    "impl NoiseMaker_ for SeaCreature {\n",
    "    fn make_noise_(&self) {\n",
    "        println!(\"{}\", &self.get_sound());\n",
    "    }\n",
    "}"
   ]
  },
  {
   "cell_type": "markdown",
   "id": "a107dfd9",
   "metadata": {},
   "source": [
    "### 구조체 인스턴스를 생성하고 트레이트 기능을 실행"
   ]
  },
  {
   "cell_type": "code",
   "execution_count": 17,
   "id": "0c2d151f",
   "metadata": {},
   "outputs": [],
   "source": [
    "fn main() {\n",
    "    let creature = SeaCreature {\n",
    "        name: String::from(\"Ferris\"),\n",
    "        noise: String::from(\"blub\"),\n",
    "    };\n",
    "    creature.make_noise_();\n",
    "}\n"
   ]
  },
  {
   "cell_type": "code",
   "execution_count": 18,
   "id": "078ad442",
   "metadata": {},
   "outputs": [
    {
     "name": "stdout",
     "output_type": "stream",
     "text": [
      "blub\n"
     ]
    },
    {
     "data": {
      "text/plain": [
       "()"
      ]
     },
     "execution_count": 18,
     "metadata": {},
     "output_type": "execute_result"
    }
   ],
   "source": [
    "main()"
   ]
  },
  {
   "cell_type": "code",
   "execution_count": null,
   "id": "eb2ccb43",
   "metadata": {},
   "outputs": [],
   "source": []
  },
  {
   "cell_type": "markdown",
   "id": "452aceb5",
   "metadata": {},
   "source": [
    "## 2-2 트레이트의 메서드 이름이 충돌날 경우 \n",
    "\n",
    "- 트레이트 메서드는 해당 구조체의 내부 메서드를 오버라이드하지 않습니다. \n",
    "- 대신, 구조체에서 직접 호출하거나 명시적으로 Trait명::method()와 같은 방식으로 호출해야 합니다. 이는 Rust의 명시성과 안전성을 유지하기 위한 것입니다. \n",
    "- 예를 들어, 다음과 같은 코드에서는 Point 구조체 내부의 distance 메서드가 호출됩니다."
   ]
  },
  {
   "cell_type": "markdown",
   "id": "854253fe",
   "metadata": {},
   "source": [
    "### 구조체 구현된 메서드와 트레이트 메서드이 이름이 같을 경우 \n",
    "\n",
    "- 구조체의 메서드가 호출된다. "
   ]
  },
  {
   "cell_type": "code",
   "execution_count": 23,
   "id": "0388d492",
   "metadata": {},
   "outputs": [],
   "source": [
    "trait Hello {\n",
    "    fn say(&self);\n",
    "}"
   ]
  },
  {
   "cell_type": "code",
   "execution_count": 25,
   "id": "a0324adf",
   "metadata": {},
   "outputs": [],
   "source": [
    "struct A;\n",
    "\n",
    "\n",
    "impl A {\n",
    "    fn say(&self) {\n",
    "        println!(\" 구조체의 메서드 호출 \");\n",
    "    }\n",
    "}"
   ]
  },
  {
   "cell_type": "code",
   "execution_count": 26,
   "id": "153f7bc9",
   "metadata": {},
   "outputs": [],
   "source": [
    "impl Hello for A {\n",
    "    fn say(&self) {\n",
    "        println!(\" 트레이트 메서드 호출 \");\n",
    "    }\n",
    "}"
   ]
  },
  {
   "cell_type": "code",
   "execution_count": 28,
   "id": "0e88418d",
   "metadata": {},
   "outputs": [],
   "source": [
    "let a = A {};"
   ]
  },
  {
   "cell_type": "code",
   "execution_count": 29,
   "id": "c40c21e7",
   "metadata": {},
   "outputs": [
    {
     "name": "stdout",
     "output_type": "stream",
     "text": [
      " 구조체의 메서드 호출 \n"
     ]
    },
    {
     "data": {
      "text/plain": [
       "()"
      ]
     },
     "execution_count": 29,
     "metadata": {},
     "output_type": "execute_result"
    }
   ],
   "source": [
    "a.say()"
   ]
  },
  {
   "cell_type": "code",
   "execution_count": null,
   "id": "df105bbd",
   "metadata": {},
   "outputs": [],
   "source": []
  },
  {
   "cell_type": "markdown",
   "id": "b68945fb",
   "metadata": {},
   "source": [
    "### Rust에서 트레이트 메서드와 구조체 내부 메서드의 이름이 충돌할 경우, \n",
    "- 트레이트 메서드는 트레이트 이름으로 호출해서 처리 "
   ]
  },
  {
   "cell_type": "code",
   "execution_count": 31,
   "id": "f0c7b0c0",
   "metadata": {},
   "outputs": [],
   "source": [
    "trait Distance {\n",
    "    fn distance(&self) -> f64;\n",
    "}\n",
    "\n",
    "struct Point {\n",
    "    x: f64,\n",
    "    y: f64,\n",
    "}\n",
    "\n",
    "impl Distance for Point {\n",
    "    fn distance(&self) -> f64 {\n",
    "        (self.x * self.x + self.y * self.y).sqrt()\n",
    "    }\n",
    "}"
   ]
  },
  {
   "cell_type": "markdown",
   "id": "5d4c30ab",
   "metadata": {},
   "source": [
    "### 이름 충돌한 경우 트레이트내의 메서드를 직접 호출 \n",
    "\n",
    "-  트레이트명 :: 메서드명 (인스턴스이름) "
   ]
  },
  {
   "cell_type": "code",
   "execution_count": 35,
   "id": "adb09e9f",
   "metadata": {},
   "outputs": [],
   "source": [
    "fn main() {\n",
    "    let p = Point { x: 3.0, y: 4.0 };\n",
    "    println!(\" 구조체의 메서드  : {}\", p.distance());\n",
    "    println!(\" 트레이트의 메서드 : {}\", Distance::distance(&p));\n",
    "}"
   ]
  },
  {
   "cell_type": "code",
   "execution_count": 36,
   "id": "252fcf5f",
   "metadata": {},
   "outputs": [
    {
     "name": "stdout",
     "output_type": "stream",
     "text": [
      " 구조체의 메서드  : 5\n",
      " 트레이트의 메서드 : 5\n"
     ]
    }
   ],
   "source": [
    "main();"
   ]
  },
  {
   "cell_type": "markdown",
   "id": "33fe3132",
   "metadata": {},
   "source": [
    "## 3. 트레이트 내의 default 메서드 \n",
    "\n",
    "- 트레이트 내에 메서드 정의까지 한 메서드 \n",
    "- 트레이트 구현에서 재구현 없이 호출이 가능함\n",
    " "
   ]
  },
  {
   "cell_type": "markdown",
   "id": "0e9f05a4",
   "metadata": {},
   "source": [
    "## 3-1  트레이트 default 메서드 지정\n",
    "- 트레이트의 디폴트 메서드는 메서드 선언 + 메서드 구현까지 포함\n"
   ]
  },
  {
   "cell_type": "markdown",
   "id": "006558ef",
   "metadata": {},
   "source": [
    "### 트레이트에 메서드 선언과 디폴트 메서드 정의 \n",
    "\n",
    "- 트레이트 메서드에 선언된 메서드를 호출이 가능, 실제 구조체 등에 구현되면 이 인스턴스를 호출 \n"
   ]
  },
  {
   "cell_type": "code",
   "execution_count": 19,
   "id": "3a5dcaf9",
   "metadata": {},
   "outputs": [],
   "source": [
    "trait NoiseMaker {\n",
    "    fn make_noise(&self);\n",
    "    \n",
    "    fn make_alot_of_noise(&self){   // default 메서드\n",
    "        self.make_noise();\n",
    "        self.make_noise();\n",
    "        self.make_noise();\n",
    "    }\n",
    "}"
   ]
  },
  {
   "cell_type": "markdown",
   "id": "f4bb722a",
   "metadata": {},
   "source": [
    "### 구조체에 트레이트의 메서드 선언만  구현 "
   ]
  },
  {
   "cell_type": "code",
   "execution_count": 20,
   "id": "2803fa49",
   "metadata": {},
   "outputs": [],
   "source": [
    "impl NoiseMaker for SeaCreature {\n",
    "    fn make_noise(&self) {\n",
    "        println!(\"{}\", &self.get_sound());\n",
    "    }\n",
    "}"
   ]
  },
  {
   "cell_type": "markdown",
   "id": "e2e82f3b",
   "metadata": {},
   "source": [
    "### 구조체의 인스턴스를 생성하고 default 메서드를 호출 "
   ]
  },
  {
   "cell_type": "code",
   "execution_count": 21,
   "id": "f094f97a",
   "metadata": {},
   "outputs": [],
   "source": [
    "fn main() {\n",
    "    let creature = SeaCreature {\n",
    "        name: String::from(\"Ferris\"),\n",
    "        noise: String::from(\"blub\"),\n",
    "    };\n",
    "    creature.make_alot_of_noise();\n",
    "}\n"
   ]
  },
  {
   "cell_type": "code",
   "execution_count": 22,
   "id": "1258800c",
   "metadata": {},
   "outputs": [
    {
     "name": "stdout",
     "output_type": "stream",
     "text": [
      "blub\n",
      "blub\n",
      "blub\n"
     ]
    },
    {
     "data": {
      "text/plain": [
       "()"
      ]
     },
     "execution_count": 22,
     "metadata": {},
     "output_type": "execute_result"
    }
   ],
   "source": [
    "main()"
   ]
  },
  {
   "cell_type": "code",
   "execution_count": null,
   "id": "35125c5d",
   "metadata": {},
   "outputs": [],
   "source": []
  },
  {
   "cell_type": "markdown",
   "id": "01ce606f",
   "metadata": {},
   "source": [
    "## 3-2 트레이트 디폴트 메서드를 구조체에서 재구현\n",
    "\n",
    "- 구조체에 메서드를 구현하면 트레이트 내의 디폴트 구현(default implementation)을 덮어쓸 수 있습니다. \n",
    "- 이러한 동작은 트레이트의 기본 메서드를 새롭게 구현하거나 트레이트를 상속하여 새로운 트레이트를 만들 때 유용합니다."
   ]
  },
  {
   "cell_type": "markdown",
   "id": "c47d4d82",
   "metadata": {},
   "source": [
    "### 메서드는 항상 구현된 것부터 처리\n",
    "\n",
    "- 메서드가 다시 지정되면 구조체에 구현된 것을 우선 참조 "
   ]
  },
  {
   "cell_type": "code",
   "execution_count": 46,
   "id": "7a1be288",
   "metadata": {},
   "outputs": [],
   "source": [
    "trait Speak {\n",
    "    fn speak(&self) {\n",
    "        println!(\"Animal cannot speak.\");\n",
    "    }\n",
    "}\n",
    "\n",
    "struct Cat;\n",
    "\n",
    "impl Speak for Cat {\n",
    "    fn speak(&self) {\n",
    "        println!(\"Meow!\");\n",
    "    }\n",
    "}\n",
    "\n",
    "fn main() {\n",
    "    let cat = Cat;\n",
    "    cat.speak(); // Meow!\n",
    "    \n",
    "    Speak::speak(&cat);  // 트레이트 내의 함수를 호출해도 구조체에 정의된 메서드 호출 \n",
    "}"
   ]
  },
  {
   "cell_type": "code",
   "execution_count": 47,
   "id": "b0bc3805",
   "metadata": {},
   "outputs": [
    {
     "name": "stdout",
     "output_type": "stream",
     "text": [
      "Meow!\n",
      "Meow!\n"
     ]
    }
   ],
   "source": [
    "main();"
   ]
  },
  {
   "cell_type": "markdown",
   "id": "8d92a5ff",
   "metadata": {},
   "source": [
    "### 이름 충돌시 구조체 내의 메서드 사용"
   ]
  },
  {
   "cell_type": "code",
   "execution_count": 41,
   "id": "74653386",
   "metadata": {},
   "outputs": [],
   "source": [
    "trait MyTrait {\n",
    "    fn my_method(&self) {\n",
    "        println!(\"Default implementation\");\n",
    "    }\n",
    "}\n",
    "\n",
    "struct MyStruct;\n",
    "\n",
    "impl MyTrait for MyStruct {\n",
    "    fn my_method(&self) {\n",
    "        println!(\"Struct implementation\");\n",
    "    }\n",
    "}\n",
    "\n",
    "fn main() {\n",
    "    let s = MyStruct;\n",
    "    s.my_method(); // \"Struct implementation\"\n",
    "}"
   ]
  },
  {
   "cell_type": "code",
   "execution_count": null,
   "id": "db421fc8",
   "metadata": {},
   "outputs": [],
   "source": []
  }
 ],
 "metadata": {
  "kernelspec": {
   "display_name": "Rust",
   "language": "rust",
   "name": "rust"
  },
  "language_info": {
   "codemirror_mode": "rust",
   "file_extension": ".rs",
   "mimetype": "text/rust",
   "name": "Rust",
   "pygment_lexer": "rust",
   "version": ""
  }
 },
 "nbformat": 4,
 "nbformat_minor": 5
}
