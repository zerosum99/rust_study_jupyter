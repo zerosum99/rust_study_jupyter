{
 "cells": [
  {
   "cell_type": "markdown",
   "id": "e819479b",
   "metadata": {},
   "source": [
    "## PartialOrd 트레이트와 Ord 트레이트는 비교 연산에 사용되는 트레이트 \n",
    "\n",
    "- PartialOrd는 부분적인 순서를 정의하고, \n",
    "- Ord는 전체적인 순서를 정의합니다.\n",
    "\n",
    "- 이 둘은 상속관계이며, Ord 트레이트는 PartialOrd 트레이트를 구현하고 있습니다."
   ]
  },
  {
   "cell_type": "markdown",
   "id": "21422354",
   "metadata": {},
   "source": [
    "### PartialOrd 트레이트는 다음과 같은 연산자를 정의합니다.\n",
    "\n",
    "- lt(&self, other: &Self) -> bool:  < : 두 값을 비교하여 첫 번째 값이 두 번째 값보다 작으면 true를 반환합니다.\n",
    "- le(&self, other: &Self) -> bool: <= : 두 값을 비교하여 첫 번째 값이 두 번째 값보다 작거나 같으면 true를 반환합니다.\n",
    "- gt(&self, other: &Self) -> bool: > : 두 값을 비교하여 첫 번째 값이 두 번째 값보다 크면 true를 반환합니다.\n",
    "- ge(&self, other: &Self) -> bool: >= : 두 값을 비교하여 첫 번째 값이 두 번째 값보다 크거나 같으면 true를 반환합니다.\n",
    "\n",
    "### Ord 트레이트는 PartialOrd 트레이트를 상속하며, 다음과 같은 연산자를 정의합니다.\n",
    "\n",
    "- == : 두 값을 비교하여 같으면 true를 반환합니다.\n",
    "- != : 두 값을 비교하여 다르면 true를 반환합니다.\n",
    "- cmp : 두 값을 비교하여, 첫 번째 값이 작으면 Ordering::Less, 같으면 Ordering::Equal, 크면 Ordering::Greater를 반환합니다."
   ]
  },
  {
   "cell_type": "code",
   "execution_count": null,
   "id": "ec49644f",
   "metadata": {},
   "outputs": [],
   "source": []
  },
  {
   "cell_type": "code",
   "execution_count": 19,
   "id": "c02ade92",
   "metadata": {},
   "outputs": [],
   "source": [
    "use std::cmp::Ordering;"
   ]
  },
  {
   "cell_type": "code",
   "execution_count": 20,
   "id": "325e2f8e",
   "metadata": {},
   "outputs": [],
   "source": [
    "struct Person {\n",
    "    age: u32,\n",
    "}\n",
    "\n",
    "impl PartialOrd for Person {\n",
    "    fn partial_cmp(&self, other: &Self) -> Option<Ordering> {\n",
    "        self.age.partial_cmp(&other.age)\n",
    "    }\n",
    "}\n",
    "\n",
    "impl PartialEq for Person {\n",
    "    fn eq(&self, other: &Self) -> bool {\n",
    "        self.age == other.age\n",
    "    }\n",
    "}\n",
    "\n",
    "impl Person {\n",
    "    fn new(age: u32) -> Self {\n",
    "        Person { age }\n",
    "    }\n",
    "}"
   ]
  },
  {
   "cell_type": "code",
   "execution_count": 21,
   "id": "44b5b52d",
   "metadata": {},
   "outputs": [],
   "source": [
    "fn main() {\n",
    "    let alice = Person::new(25);\n",
    "    let bob = Person::new(30);\n",
    "\n",
    "    if alice < bob {\n",
    "        println!(\"Alice is younger than Bob\");\n",
    "    } else {\n",
    "        println!(\"Bob is younger than Alice\");\n",
    "    }\n",
    "}"
   ]
  },
  {
   "cell_type": "code",
   "execution_count": 22,
   "id": "7121b7e4",
   "metadata": {},
   "outputs": [
    {
     "name": "stdout",
     "output_type": "stream",
     "text": [
      "Alice is younger than Bob\n"
     ]
    }
   ],
   "source": [
    "main();"
   ]
  },
  {
   "cell_type": "code",
   "execution_count": null,
   "id": "4952ca06",
   "metadata": {},
   "outputs": [],
   "source": []
  },
  {
   "cell_type": "code",
   "execution_count": null,
   "id": "1bc9b9ed",
   "metadata": {},
   "outputs": [],
   "source": []
  },
  {
   "cell_type": "code",
   "execution_count": 10,
   "id": "9998d9d8",
   "metadata": {},
   "outputs": [],
   "source": [
    "#[derive(PartialEq, PartialOrd, Ord, Eq)]\n",
    "struct Student {\n",
    "    name: String,\n",
    "    age: i32,\n",
    "}\n"
   ]
  },
  {
   "cell_type": "code",
   "execution_count": 12,
   "id": "efad3606",
   "metadata": {},
   "outputs": [],
   "source": [
    "fn main() {\n",
    "    let s1 = Student { name: String::from(\"Alice\"), age: 20 };\n",
    "    let s2 = Student { name: String::from(\"Bob\"), age: 22 };\n",
    "    let s3 = Student { name: String::from(\"Charlie\"), age: 20 };\n",
    "    let s4 = Student { name: String::from(\"Alice\"), age: 20 };\n",
    "    \n",
    "    // PartialOrd example\n",
    "    assert!(s1 < s2);\n",
    "    assert!(s1 <= s2);\n",
    "    assert!(s1 <= s3);\n",
    "    assert!(s1 > s2);\n",
    "    //assert!(s2 >= s3);\n",
    "    \n",
    "    // Ord example\n",
    "    //assert_eq!(s1.cmp(&s2), std::cmp::Ordering::Less);\n",
    "    //assert_eq!(s1.cmp(&s4), std::cmp::Ordering::Equal);\n",
    "    //assert_eq!(s2.cmp(&s3), std::cmp::Ordering::Greater);\n",
    "}"
   ]
  },
  {
   "cell_type": "code",
   "execution_count": 13,
   "id": "f7be9e81",
   "metadata": {},
   "outputs": [
    {
     "name": "stderr",
     "output_type": "stream",
     "text": [
      "thread '<unnamed>' panicked at 'assertion failed: s1 > s2', src/lib.rs:12:5\n",
      "stack backtrace:\n",
      "   0: _rust_begin_unwind\n",
      "   1: core::panicking::panic_fmt\n",
      "   2: core::panicking::panic\n",
      "   3: <unknown>\n",
      "   4: <unknown>\n",
      "   5: evcxr::runtime::Runtime::run_loop\n",
      "   6: evcxr::runtime::runtime_hook\n",
      "   7: evcxr_jupyter::main\n",
      "note: Some details are omitted, run with `RUST_BACKTRACE=full` for a verbose backtrace.\n"
     ]
    }
   ],
   "source": [
    "main();"
   ]
  },
  {
   "cell_type": "code",
   "execution_count": null,
   "id": "a0ff8d48",
   "metadata": {},
   "outputs": [],
   "source": []
  }
 ],
 "metadata": {
  "kernelspec": {
   "display_name": "Rust",
   "language": "rust",
   "name": "rust"
  },
  "language_info": {
   "codemirror_mode": "rust",
   "file_extension": ".rs",
   "mimetype": "text/rust",
   "name": "Rust",
   "pygment_lexer": "rust",
   "version": ""
  }
 },
 "nbformat": 4,
 "nbformat_minor": 5
}
