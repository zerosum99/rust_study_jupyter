{
 "cells": [
  {
   "cell_type": "markdown",
   "id": "ab30e5e6",
   "metadata": {},
   "source": [
    "## 1 트레이트는 다른 트레이트를 상속할 수 있다.\n",
    "\n",
    "- 러스트의 트레잇 상속은 코드 재사용과 추상화를 촉진하기 때문에 매우 유용합니다. \n",
    "- 이것은 인터페이스와 유사한 개념이지만, 트레잇이 제공하는 더 많은 유연성과 기능을 제공합니다.\n",
    "\n",
    "### 트레이트 상속의 의미\n",
    "\n",
    "- 트레이트 상속은 슈퍼 트레이트의 기능을 하위 트레이트에서도 사용할 수 있도록 하는 것을 의미합니다. \n",
    "- 이를 통해 코드 재사용성을 높이고, 간결한 코드 작성이 가능해집니다."
   ]
  },
  {
   "cell_type": "markdown",
   "id": "3a4e0389",
   "metadata": {},
   "source": [
    "## 1-1 하나의 트레이트 상속 "
   ]
  },
  {
   "cell_type": "markdown",
   "id": "1b121305",
   "metadata": {},
   "source": [
    "### 2개의 트레이트 정의\n",
    "\n",
    "- 내부에는 디폴트 메서드 "
   ]
  },
  {
   "cell_type": "code",
   "execution_count": 6,
   "id": "17d05b38",
   "metadata": {},
   "outputs": [],
   "source": [
    "trait A {\n",
    "    fn a(&self) {\n",
    "        println!(\"This is A\");\n",
    "    }\n",
    "}\n",
    "\n",
    "trait B {\n",
    "    fn b(&self) {\n",
    "        println!(\"This is B\");\n",
    "    }\n",
    "}"
   ]
  },
  {
   "cell_type": "markdown",
   "id": "727851d7",
   "metadata": {},
   "source": [
    "### 트레이트 상속하기 \n",
    "\n",
    "- 상속은 트레이트 이름 다음에 콜론을 적고 그 다음에 상속한 트레이트를 지정\n",
    "- 두 개의 트레이트가 하나로 지정된 것 "
   ]
  },
  {
   "cell_type": "code",
   "execution_count": 7,
   "id": "d7f5e9fe",
   "metadata": {},
   "outputs": [],
   "source": [
    "trait B: A {\n",
    "    fn b(&self) {\n",
    "        println!(\"This is B\");\n",
    "    }\n",
    "}"
   ]
  },
  {
   "cell_type": "markdown",
   "id": "b12c6de3",
   "metadata": {},
   "source": [
    "### 트레이트를 구현할 때는 상속한 것도 구현해야 함 "
   ]
  },
  {
   "cell_type": "code",
   "execution_count": 8,
   "id": "5dc7df6a",
   "metadata": {},
   "outputs": [],
   "source": [
    "struct MyType {}\n",
    "\n",
    "impl A for MyType {}\n",
    "\n",
    "impl B for MyType {}\n",
    "\n",
    "fn main() {\n",
    "    let x = MyType {};\n",
    "    x.a();\n",
    "    x.b();\n",
    "}"
   ]
  },
  {
   "cell_type": "code",
   "execution_count": null,
   "id": "6c16c00b",
   "metadata": {},
   "outputs": [],
   "source": []
  },
  {
   "cell_type": "code",
   "execution_count": 9,
   "id": "e02085c3",
   "metadata": {},
   "outputs": [
    {
     "name": "stdout",
     "output_type": "stream",
     "text": [
      "This is A\n",
      "This is B\n"
     ]
    }
   ],
   "source": [
    "main();"
   ]
  },
  {
   "cell_type": "markdown",
   "id": "4f8afd96",
   "metadata": {},
   "source": [
    "## 1-2  여러 트레이트 상속 하기 \n",
    "\n",
    "- 트레이트 상속은 한 트레이트가 다른 트레이트의 모든 기능을 상속하도록 하는 것을 의미합니다. \n",
    "- 이것은 러스트에서 다른 언어에서의 인터페이스 상속과 비슷한 개념입니다."
   ]
  },
  {
   "cell_type": "markdown",
   "id": "749ecfe1",
   "metadata": {},
   "source": [
    "###  두 개의 트레이트 정의하기"
   ]
  },
  {
   "cell_type": "code",
   "execution_count": 2,
   "id": "d8292abb",
   "metadata": {},
   "outputs": [],
   "source": [
    "trait Fly {\n",
    "    fn fly(&self);\n",
    "}\n",
    "\n",
    "trait Walk {\n",
    "    fn walk(&self);\n",
    "}"
   ]
  },
  {
   "cell_type": "markdown",
   "id": "393415df",
   "metadata": {},
   "source": [
    "### 트레이트를 상속하기 "
   ]
  },
  {
   "cell_type": "code",
   "execution_count": 4,
   "id": "31477da8",
   "metadata": {},
   "outputs": [],
   "source": [
    "trait FlyAndWalk: Fly + Walk {}"
   ]
  },
  {
   "cell_type": "markdown",
   "id": "91377599",
   "metadata": {},
   "source": [
    "### 구조체 정의하기 "
   ]
  },
  {
   "cell_type": "code",
   "execution_count": 5,
   "id": "a87118fb",
   "metadata": {},
   "outputs": [],
   "source": [
    "struct Person {}"
   ]
  },
  {
   "cell_type": "markdown",
   "id": "fbe7c5b7",
   "metadata": {},
   "source": [
    "### 트레이트를 구현하기 "
   ]
  },
  {
   "cell_type": "code",
   "execution_count": 6,
   "id": "366c34c2",
   "metadata": {},
   "outputs": [],
   "source": [
    "impl Fly for Person {\n",
    "    fn fly(&self) {\n",
    "        println!(\"Person is flying!\");\n",
    "    }\n",
    "}\n",
    "\n",
    "impl Walk for Person {\n",
    "    fn walk(&self) {\n",
    "        println!(\"Person is walking!\");\n",
    "    }\n",
    "}\n",
    "\n",
    "impl FlyAndWalk for Person {}"
   ]
  },
  {
   "cell_type": "markdown",
   "id": "61becdb5",
   "metadata": {},
   "source": [
    "### 구조체 인스턴스 생성 후에 메서드 사용하기 "
   ]
  },
  {
   "cell_type": "code",
   "execution_count": 7,
   "id": "c282e1f4",
   "metadata": {},
   "outputs": [],
   "source": [
    "fn main() {\n",
    "    let p = Person {};\n",
    "    \n",
    "    p.fly();\n",
    "    p.walk();\n",
    "    \n",
    "}"
   ]
  },
  {
   "cell_type": "code",
   "execution_count": 8,
   "id": "a3bc854d",
   "metadata": {},
   "outputs": [
    {
     "name": "stdout",
     "output_type": "stream",
     "text": [
      "Person is flying!\n",
      "Person is walking!\n"
     ]
    }
   ],
   "source": [
    "main();"
   ]
  },
  {
   "cell_type": "code",
   "execution_count": null,
   "id": "e2dae22b",
   "metadata": {},
   "outputs": [],
   "source": []
  },
  {
   "cell_type": "markdown",
   "id": "4ab7fa54",
   "metadata": {},
   "source": [
    "## 2. 트레이트 상속을 더 자세히 알아보기"
   ]
  },
  {
   "cell_type": "markdown",
   "id": "623e08bc",
   "metadata": {},
   "source": [
    "### 구조체와 구조체 메소드 정의\n",
    "\n",
    "- 구조체의 필드 하나만 공개 \n",
    "\n",
    "- 구조체 메서도 정의할 때 메서드를 공개"
   ]
  },
  {
   "cell_type": "code",
   "execution_count": 2,
   "id": "990afd7d",
   "metadata": {},
   "outputs": [],
   "source": [
    "struct SeaCreature {\n",
    "    pub name: String,\n",
    "    noise: String,\n",
    "}\n",
    "\n",
    "impl SeaCreature {\n",
    "    pub fn get_sound(&self) -> &str {\n",
    "        &self.noise\n",
    "    }\n",
    "}\n"
   ]
  },
  {
   "cell_type": "markdown",
   "id": "43082741",
   "metadata": {},
   "source": [
    "### 트레이트 상속\n",
    "\n",
    "- 트레이트 명 다음에 콜론을 붙이고 상속할 트레이트를 표시한다.\n"
   ]
  },
  {
   "cell_type": "code",
   "execution_count": 3,
   "id": "80d76ee4",
   "metadata": {},
   "outputs": [],
   "source": [
    "trait NoiseMaker {\n",
    "    fn make_noise(&self);\n",
    "}\n",
    "\n",
    "trait LoudNoiseMaker: NoiseMaker {       // 트레이트 상속 \n",
    "    fn make_alot_of_noise(&self) {\n",
    "        self.make_noise();\n",
    "        self.make_noise();\n",
    "        self.make_noise();\n",
    "    }\n",
    "}"
   ]
  },
  {
   "cell_type": "markdown",
   "id": "a5575de5",
   "metadata": {},
   "source": [
    "### 구조체에 부모 자식 트레이트를 모두 구현 \n",
    "\n",
    "- 상속된 메서드에 대해 구현 \n",
    "- 실제 상속받은 트레이트에는 default 메서드만 존재해서 빈 구현만 생성 "
   ]
  },
  {
   "cell_type": "code",
   "execution_count": 4,
   "id": "48d5234e",
   "metadata": {},
   "outputs": [],
   "source": [
    "impl NoiseMaker for SeaCreature {\n",
    "    fn make_noise(&self) {\n",
    "        println!(\"{}\", &self.get_sound());\n",
    "    }\n",
    "}\n",
    "\n",
    "impl LoudNoiseMaker for SeaCreature {}\n",
    "\n"
   ]
  },
  {
   "cell_type": "markdown",
   "id": "139735c3",
   "metadata": {},
   "source": [
    "### 메인 함수를 정의한다"
   ]
  },
  {
   "cell_type": "code",
   "execution_count": 5,
   "id": "c21fec22",
   "metadata": {},
   "outputs": [],
   "source": [
    "fn main() {\n",
    "    let creature = SeaCreature {\n",
    "        name: String::from(\"Ferris\"),\n",
    "        noise: String::from(\"blub\"),\n",
    "    };\n",
    "    creature.make_alot_of_noise();\n",
    "}\n"
   ]
  },
  {
   "cell_type": "code",
   "execution_count": 6,
   "id": "6a785dbd",
   "metadata": {},
   "outputs": [
    {
     "data": {
      "text/plain": [
       "()"
      ]
     },
     "execution_count": 6,
     "metadata": {},
     "output_type": "execute_result"
    },
    {
     "name": "stdout",
     "output_type": "stream",
     "text": [
      "blub\n",
      "blub\n",
      "blub\n"
     ]
    }
   ],
   "source": [
    "main()"
   ]
  },
  {
   "cell_type": "code",
   "execution_count": null,
   "id": "b87f0cbe",
   "metadata": {},
   "outputs": [],
   "source": []
  },
  {
   "cell_type": "code",
   "execution_count": null,
   "id": "6fa8ac01",
   "metadata": {},
   "outputs": [],
   "source": []
  },
  {
   "cell_type": "markdown",
   "id": "27f39a40",
   "metadata": {},
   "source": [
    "## 2-2  디폴트 메서드 처리하기 : 부모에만 있는 경우"
   ]
  },
  {
   "cell_type": "code",
   "execution_count": 12,
   "id": "000b3aea",
   "metadata": {},
   "outputs": [],
   "source": [
    "trait MyTrait {\n",
    "    fn my_function(&self) -> i32;\n",
    "    \n",
    "    fn default_func(&self) {\n",
    "        println!(\"디폴트 메서드 처리\");\n",
    "    }\n",
    "}\n",
    "\n",
    "trait MySubTrait: MyTrait {\n",
    "    fn my_sub_function(&self) -> i32;\n",
    "}\n",
    "\n",
    "struct MyStruct {}\n",
    "\n",
    "impl MyTrait for MyStruct {\n",
    "    fn my_function(&self) -> i32 {\n",
    "        1\n",
    "    }\n",
    "}\n",
    "\n",
    "impl MySubTrait for MyStruct {\n",
    "    fn my_sub_function(&self) -> i32 {\n",
    "        2\n",
    "    }\n",
    "}"
   ]
  },
  {
   "cell_type": "code",
   "execution_count": 13,
   "id": "f5478a6d",
   "metadata": {},
   "outputs": [],
   "source": [
    "fn main() {\n",
    "    let my_struct = MyStruct {};\n",
    "    println!(\"{}\", my_struct.my_function()); // 1\n",
    "    println!(\"{}\", my_struct.my_sub_function()); // 2\n",
    "    \n",
    "    my_struct.default_func();\n",
    "}"
   ]
  },
  {
   "cell_type": "code",
   "execution_count": 14,
   "id": "84db131d",
   "metadata": {},
   "outputs": [
    {
     "name": "stdout",
     "output_type": "stream",
     "text": [
      "1\n",
      "2\n",
      "디폴트 메서드 처리\n"
     ]
    }
   ],
   "source": [
    "main();"
   ]
  },
  {
   "cell_type": "markdown",
   "id": "c5db5fbc",
   "metadata": {},
   "source": [
    "## 2-3 디폴트 메서드 처리 : 자식 트레이트에서 재정의 "
   ]
  },
  {
   "cell_type": "code",
   "execution_count": 19,
   "id": "d1c306f2",
   "metadata": {},
   "outputs": [],
   "source": [
    "trait Parent {\n",
    "    fn print(&self);\n",
    "    fn default_print(&self) {\n",
    "        println!(\"This is parent default print.\");\n",
    "    }\n",
    "}\n",
    "\n",
    "trait Child: Parent {\n",
    "    fn child_print(&self);\n",
    "    fn default_print(&self) {\n",
    "        println!(\"This is child default print.\");\n",
    "    }\n",
    "}"
   ]
  },
  {
   "cell_type": "markdown",
   "id": "75e7d6a9",
   "metadata": {},
   "source": [
    "### 디폴트 메서드 처리할 때 에러 발생\n",
    "\n",
    "- 그래서 구조체 내의 디폴트 메서드로 정의"
   ]
  },
  {
   "cell_type": "code",
   "execution_count": 32,
   "id": "7ba3209e",
   "metadata": {},
   "outputs": [],
   "source": [
    "struct MyS {\n",
    "    x: i32,\n",
    "}\n",
    "\n",
    "impl MyS {\n",
    "    fn default_print(&self) {\n",
    "        println!(\"현재 구조체에 재정의 처리\");\n",
    "        \n",
    "    }\n",
    "}\n",
    "\n",
    "impl Parent for MyS {\n",
    "    fn print(&self) {\n",
    "        println!(\"MyStruct x: {}\", self.x);\n",
    "    }\n",
    "}\n",
    "\n",
    "impl Child for MyS {\n",
    "    fn child_print(&self) {\n",
    "        println!(\"Child print. MyStruct x: {}\", self.x);\n",
    "    }\n",
    "    \n",
    "}"
   ]
  },
  {
   "cell_type": "code",
   "execution_count": 33,
   "id": "3116271b",
   "metadata": {},
   "outputs": [],
   "source": [
    "fn main() {\n",
    "    let s = MyS { x: 10 };\n",
    "    s.print();\n",
    "    s.child_print();\n",
    "    s.default_print();\n",
    "}"
   ]
  },
  {
   "cell_type": "code",
   "execution_count": 34,
   "id": "6fe23bab",
   "metadata": {},
   "outputs": [
    {
     "name": "stdout",
     "output_type": "stream",
     "text": [
      "MyStruct x: 10\n",
      "Child print. MyStruct x: 10\n",
      "현재 구조체에 재정의 처리\n"
     ]
    }
   ],
   "source": [
    "main();"
   ]
  },
  {
   "cell_type": "markdown",
   "id": "ac4e26ba",
   "metadata": {},
   "source": [
    "## 2-4 디폴트 메서드 이름 충돌시 해결방안 \n",
    "\n",
    "- 상속된 트레이트가 동일한 이름의 디폴트 메서드를 가지고 있는 경우 충돌이 발생할 수 있습니다.\n",
    "- 이 경우, 컴파일러는 어떤 디폴트 메서드를 사용해야 할 지 모르기 때문에 에러가 발생합니다. \n",
    "- 이러한 상황을 해결하기 위해서는 명시적으로 해당 메서드를 호출해주어야 합니다.\n",
    "\n",
    "- 트레이트를 명시한 후에 인스턴스를 메서드에 전달해서 처리"
   ]
  },
  {
   "cell_type": "code",
   "execution_count": 43,
   "id": "1be4df22",
   "metadata": {},
   "outputs": [],
   "source": [
    "trait Foo {\n",
    "    fn method(&self) -> i32 {\n",
    "        1\n",
    "    }\n",
    "}\n",
    "\n",
    "trait Bar: Foo {\n",
    "    fn method(&self) -> i32 {\n",
    "        2\n",
    "    }\n",
    "}\n",
    "\n",
    "struct Baz;\n",
    "\n",
    "impl Foo for Baz {}\n",
    "impl Bar for Baz {}\n",
    "\n",
    "fn main() {\n",
    "    let baz = Baz;\n",
    "    println!(\" {} \", Bar::method(&baz));\n",
    "}"
   ]
  },
  {
   "cell_type": "code",
   "execution_count": 44,
   "id": "eb1aa52d",
   "metadata": {},
   "outputs": [
    {
     "name": "stdout",
     "output_type": "stream",
     "text": [
      " 2 \n"
     ]
    }
   ],
   "source": [
    "main();"
   ]
  },
  {
   "cell_type": "markdown",
   "id": "3ff8dceb",
   "metadata": {},
   "source": [
    "## 3. 여러 트레이트 상속하기 "
   ]
  },
  {
   "cell_type": "markdown",
   "id": "c19c1a9d",
   "metadata": {},
   "source": [
    "## 3-1 두 개의 트레이트 상속하기"
   ]
  },
  {
   "cell_type": "markdown",
   "id": "2768e41d",
   "metadata": {},
   "source": [
    "### 2 개의 다른 트레이트를 상속한다\n",
    "\n",
    "- 상속을 할 때는 두 트레이트를 + 기호를 사용"
   ]
  },
  {
   "cell_type": "code",
   "execution_count": 7,
   "id": "aae665ae",
   "metadata": {},
   "outputs": [],
   "source": [
    "trait Foo {\n",
    "    fn foo(&self);\n",
    "}\n",
    "\n",
    "trait Bar {\n",
    "    fn bar(&self);\n",
    "}\n",
    "\n",
    "trait FooBar: Foo + Bar {}"
   ]
  },
  {
   "cell_type": "markdown",
   "id": "a849524a",
   "metadata": {},
   "source": [
    "### 구조체를 정의\n",
    "\n",
    "- 두 개의 트레이트를 구현\n",
    "- 상속받은 트레이트도 구현 "
   ]
  },
  {
   "cell_type": "code",
   "execution_count": 8,
   "id": "9a5af41c",
   "metadata": {},
   "outputs": [],
   "source": [
    "struct MyType {}\n",
    "\n",
    "impl Foo for MyType {\n",
    "    fn foo(&self) {\n",
    "        println!(\"foo\");\n",
    "    }\n",
    "}\n",
    "\n",
    "impl Bar for MyType {\n",
    "    fn bar(&self) {\n",
    "        println!(\"bar\");\n",
    "    }\n",
    "}\n",
    "\n",
    "impl FooBar for MyType {}"
   ]
  },
  {
   "cell_type": "markdown",
   "id": "f0bb4fd9",
   "metadata": {},
   "source": [
    "### 구조체 인스턴스를 생성"
   ]
  },
  {
   "cell_type": "code",
   "execution_count": 9,
   "id": "24402eab",
   "metadata": {},
   "outputs": [],
   "source": [
    "fn main() {\n",
    "    let my_type = MyType{};\n",
    "    \n",
    "    my_type.foo();\n",
    "    my_type.bar();\n",
    "}"
   ]
  },
  {
   "cell_type": "markdown",
   "id": "d493d749",
   "metadata": {},
   "source": [
    "### 메인함수 호출 "
   ]
  },
  {
   "cell_type": "code",
   "execution_count": 10,
   "id": "6a55cce8",
   "metadata": {},
   "outputs": [
    {
     "name": "stdout",
     "output_type": "stream",
     "text": [
      "foo\n",
      "bar\n"
     ]
    }
   ],
   "source": [
    "main();"
   ]
  },
  {
   "cell_type": "code",
   "execution_count": null,
   "id": "ad5fcb5a",
   "metadata": {},
   "outputs": [],
   "source": []
  }
 ],
 "metadata": {
  "kernelspec": {
   "display_name": "Rust",
   "language": "rust",
   "name": "rust"
  },
  "language_info": {
   "codemirror_mode": "rust",
   "file_extension": ".rs",
   "mimetype": "text/rust",
   "name": "Rust",
   "pygment_lexer": "rust",
   "version": ""
  }
 },
 "nbformat": 4,
 "nbformat_minor": 5
}
