{
 "cells": [
  {
   "cell_type": "markdown",
   "id": "85ebb21f",
   "metadata": {},
   "source": [
    "\n",
    "## 동적 vs 정적 디스패치\n",
    "메소드는 다음의 두 가지 방식으로 실행됩니다:\n",
    "\n",
    "- 정적 디스패치 (static dispatch) - 인스턴스의 자료형을 알고 있는 경우, 어떤 함수룰 호출해야 하는지 정확히 알고 있습니다.\n",
    "- 동적 디스패치 (dynamic dispatch) - 인스턴스의 자료형을 모르는 경우, 올바른 함수를 호출할 방법을 찾아야 합니다."
   ]
  },
  {
   "cell_type": "markdown",
   "id": "419bffa3",
   "metadata": {},
   "source": [
    "## 트레이트를 사용한 동적 디스패치\n",
    "\n",
    "- trait 자료형인 &dyn MyTrait은 동적 디스패치를 통해 객체의 인스턴스들을 간접적으로 작동시킬 수 있게 해줍니다.\n",
    "\n",
    "- 동적 디스패치를 사용할 경우, Rust에서는 사람들이 알 수 있도록 trait 자료형 앞에 dyn을 붙일 것을 권고합니다."
   ]
  },
  {
   "cell_type": "code",
   "execution_count": 5,
   "id": "2a16eca2",
   "metadata": {},
   "outputs": [],
   "source": [
    "struct SeaCreature {\n",
    "    pub name: String,\n",
    "    noise: String,\n",
    "}\n",
    "\n",
    "impl SeaCreature {\n",
    "    pub fn get_sound(&self) -> &str {\n",
    "        &self.noise\n",
    "    }\n",
    "}\n",
    "\n",
    "trait NoiseMaker {\n",
    "    fn make_noise(&self);\n",
    "}\n",
    "\n",
    "impl NoiseMaker for SeaCreature {\n",
    "    fn make_noise(&self) {\n",
    "        println!(\"{}\", &self.get_sound());\n",
    "    }\n",
    "}\n",
    "\n",
    "fn static_make_noise(creature: &SeaCreature) {\n",
    "    // 실제 자료형을 압니다\n",
    "    println!(\"정적 디스패치 처리 \");\n",
    "    creature.make_noise();\n",
    "}\n",
    "\n",
    "fn dynamic_make_noise(noise_maker: &dyn NoiseMaker) {\n",
    "    // 실제 자료형을 모릅니다\n",
    "    println!(\"동적 디스패치 처리 \");\n",
    "    noise_maker.make_noise();\n",
    "}\n",
    "\n"
   ]
  },
  {
   "cell_type": "markdown",
   "id": "566ffb59",
   "metadata": {},
   "source": [
    "## 정적과 동적 디스패치 처리하기"
   ]
  },
  {
   "cell_type": "code",
   "execution_count": 7,
   "id": "b921f902",
   "metadata": {},
   "outputs": [],
   "source": [
    "fn main() {\n",
    "    let creature = SeaCreature {\n",
    "        name: String::from(\"Ferris\"),\n",
    "        noise: String::from(\"blub\"),\n",
    "    };\n",
    "    static_make_noise(&creature);\n",
    "    dynamic_make_noise(&creature);\n",
    "}"
   ]
  },
  {
   "cell_type": "code",
   "execution_count": 8,
   "id": "dd73828c",
   "metadata": {},
   "outputs": [
    {
     "name": "stdout",
     "output_type": "stream",
     "text": [
      "정적 디스패치 처리 \n",
      "blub\n",
      "동적 디스패치 처리 \n",
      "blub\n"
     ]
    },
    {
     "data": {
      "text/plain": [
       "()"
      ]
     },
     "execution_count": 8,
     "metadata": {},
     "output_type": "execute_result"
    }
   ],
   "source": [
    "main()"
   ]
  },
  {
   "cell_type": "code",
   "execution_count": null,
   "id": "66dd8442",
   "metadata": {},
   "outputs": [],
   "source": []
  }
 ],
 "metadata": {
  "kernelspec": {
   "display_name": "Rust",
   "language": "rust",
   "name": "rust"
  },
  "language_info": {
   "codemirror_mode": "rust",
   "file_extension": ".rs",
   "mimetype": "text/rust",
   "name": "Rust",
   "pygment_lexer": "rust",
   "version": ""
  }
 },
 "nbformat": 4,
 "nbformat_minor": 5
}
