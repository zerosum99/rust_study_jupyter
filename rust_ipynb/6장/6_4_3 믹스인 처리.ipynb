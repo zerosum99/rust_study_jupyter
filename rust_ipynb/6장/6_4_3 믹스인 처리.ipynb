{
 "cells": [
  {
   "cell_type": "code",
   "execution_count": null,
   "id": "87386486",
   "metadata": {},
   "outputs": [],
   "source": []
  },
  {
   "cell_type": "markdown",
   "id": "6a3b5982",
   "metadata": {},
   "source": [
    "## 믹스인 처리 \n",
    "\n",
    "-  트레이트에 디폴트 메서드를 정의\n",
    "-  이런 트레이트 여러 개를 구조체에 구현\n",
    "-  구조체에서 여러 트레이트의 디폴트 메서드를 실행해서 믹스인 "
   ]
  },
  {
   "cell_type": "markdown",
   "id": "75839090",
   "metadata": {},
   "source": [
    "### 믹스인 처리를 위한 여러 트레이트 구성\n",
    "- 각 트레이트에 디폴트 메서드 작성"
   ]
  },
  {
   "cell_type": "code",
   "execution_count": 2,
   "id": "df8dc891",
   "metadata": {},
   "outputs": [],
   "source": [
    "trait Mixin1 {\n",
    "    fn mixin_func1(&self) {\n",
    "        println!(\"This is a mixin function 1.\");\n",
    "    }\n",
    "}"
   ]
  },
  {
   "cell_type": "code",
   "execution_count": 3,
   "id": "fda9d9f7",
   "metadata": {},
   "outputs": [],
   "source": [
    "trait Mixin2 {\n",
    "    fn mixin_func2(&self) {\n",
    "        println!(\"This is a mixin function 2.\");\n",
    "    }\n",
    "}"
   ]
  },
  {
   "cell_type": "markdown",
   "id": "e1abd0fe",
   "metadata": {},
   "source": [
    "### 구조체 정의 "
   ]
  },
  {
   "cell_type": "code",
   "execution_count": 4,
   "id": "55d7a6b0",
   "metadata": {},
   "outputs": [],
   "source": [
    "struct MyStruct {\n",
    "    name: String,\n",
    "}\n",
    "\n",
    "impl MyStruct {\n",
    "    fn new(name: &str) -> MyStruct {\n",
    "        MyStruct { name: name.to_string() }\n",
    "    }\n",
    "}"
   ]
  },
  {
   "cell_type": "markdown",
   "id": "7d96e17c",
   "metadata": {},
   "source": [
    "### 믹스인 구성 \n",
    "\n",
    "- 디폴트 메서드를 지정하므로 실제 트레이트를 구현은 필요하지 않음"
   ]
  },
  {
   "cell_type": "code",
   "execution_count": 5,
   "id": "035b3248",
   "metadata": {},
   "outputs": [],
   "source": [
    "impl Mixin1 for MyStruct {}\n",
    "\n",
    "impl Mixin2 for MyStruct {}"
   ]
  },
  {
   "cell_type": "code",
   "execution_count": null,
   "id": "069464a6",
   "metadata": {},
   "outputs": [],
   "source": []
  },
  {
   "cell_type": "code",
   "execution_count": 6,
   "id": "83865b79",
   "metadata": {},
   "outputs": [],
   "source": [
    "fn main() {\n",
    "    let my_struct = MyStruct::new(\"My Struct\");\n",
    "    my_struct.mixin_func1();\n",
    "    my_struct.mixin_func2();\n",
    "}"
   ]
  },
  {
   "cell_type": "code",
   "execution_count": 7,
   "id": "94996737",
   "metadata": {},
   "outputs": [
    {
     "name": "stdout",
     "output_type": "stream",
     "text": [
      "This is a mixin function 1.\n",
      "This is a mixin function 2.\n"
     ]
    }
   ],
   "source": [
    "main();"
   ]
  },
  {
   "cell_type": "code",
   "execution_count": null,
   "id": "4bb5a11e",
   "metadata": {},
   "outputs": [],
   "source": []
  }
 ],
 "metadata": {
  "kernelspec": {
   "display_name": "Rust",
   "language": "rust",
   "name": "rust"
  },
  "language_info": {
   "codemirror_mode": "rust",
   "file_extension": ".rs",
   "mimetype": "text/rust",
   "name": "Rust",
   "pygment_lexer": "rust",
   "version": ""
  }
 },
 "nbformat": 4,
 "nbformat_minor": 5
}
