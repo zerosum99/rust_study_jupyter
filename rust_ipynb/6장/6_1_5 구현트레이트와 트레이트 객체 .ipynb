{
 "cells": [
  {
   "cell_type": "markdown",
   "id": "b6aa43aa",
   "metadata": {},
   "source": [
    "## 참조 \n",
    "\n",
    "https://taegit.tistory.com/21?category=1041325"
   ]
  },
  {
   "cell_type": "code",
   "execution_count": null,
   "id": "cee7c18e",
   "metadata": {},
   "outputs": [],
   "source": []
  },
  {
   "cell_type": "markdown",
   "id": "aff85be6",
   "metadata": {},
   "source": [
    "## 1. 구현 트레이트\n",
    "\n",
    "- impl trait를 표기해서 처리 \n",
    "\n",
    "- 특정 트레이트로 구현된 인스턴스를 전달 받을 때 사용한다. "
   ]
  },
  {
   "cell_type": "markdown",
   "id": "4168aa19",
   "metadata": {},
   "source": [
    "## 구현 트레이트의 특징 \n",
    "\n",
    "- Generic Type과 Trait Bound를 함께 사용하면 일부 추상화 기능을 구현할 수 있습니다.\n",
    "-  이 방법을 일반 함수 등에 사용하는 것을 impl Trait 라고 함"
   ]
  },
  {
   "cell_type": "markdown",
   "id": "06db6d99",
   "metadata": {},
   "source": [
    "## impl Trait에 대한 몇 가지 규칙 \n",
    "\n",
    "- 함수의 인자 위치\n",
    "- 함수의 반환 타입 위치"
   ]
  },
  {
   "cell_type": "code",
   "execution_count": 3,
   "id": "9204759e",
   "metadata": {},
   "outputs": [],
   "source": [
    "trait Car {\n",
    "    fn drive(&self);\n",
    "}\n",
    "\n",
    "struct Sedan;\n",
    "\n",
    "impl Car for Sedan {\n",
    "    fn drive(&self) {\n",
    "        println!(\"drvie Sedan\");\n",
    "    }\n",
    "}\n",
    "\n",
    "struct Suv;\n",
    "\n",
    "impl Car for Suv {\n",
    "    fn drive(&self) {\n",
    "        println!(\"drvie Suv\");\n",
    "    }\n",
    "}"
   ]
  },
  {
   "cell_type": "markdown",
   "id": "3ff57ac3",
   "metadata": {},
   "source": [
    "### 함수의 인자에 사용 "
   ]
  },
  {
   "cell_type": "code",
   "execution_count": 6,
   "id": "e8c5fc83",
   "metadata": {},
   "outputs": [],
   "source": [
    "fn drive_car(car: impl Car) {\n",
    "    car.drive();\n",
    "}"
   ]
  },
  {
   "cell_type": "code",
   "execution_count": 7,
   "id": "f3b21035",
   "metadata": {},
   "outputs": [],
   "source": [
    "fn main() {\n",
    "    let sedan = Sedan;\n",
    "    let suv = Suv;\n",
    "\n",
    "    let is_sedan = true;\n",
    "\n",
    "    if is_sedan {\n",
    "        drive_car(sedan);\n",
    "    } else {\n",
    "        drive_car(suv);\n",
    "    }\n",
    "}"
   ]
  },
  {
   "cell_type": "code",
   "execution_count": 8,
   "id": "80beb2b4",
   "metadata": {},
   "outputs": [
    {
     "name": "stdout",
     "output_type": "stream",
     "text": [
      "drvie Sedan\n"
     ]
    }
   ],
   "source": [
    "main();"
   ]
  },
  {
   "cell_type": "markdown",
   "id": "558d7bfc",
   "metadata": {},
   "source": [
    "###  impl Trait을 이용한 코드는 아래 Generic Type + Trait Bound를 사용한 코드"
   ]
  },
  {
   "cell_type": "code",
   "execution_count": 9,
   "id": "2ffdfd1c",
   "metadata": {},
   "outputs": [],
   "source": [
    "fn drive_car<T: Car>(car: T) {\n",
    "    car.drive();\n",
    "}"
   ]
  },
  {
   "cell_type": "code",
   "execution_count": 10,
   "id": "a26d2ba1",
   "metadata": {},
   "outputs": [],
   "source": [
    "fn main() {\n",
    "    let sedan = Sedan;\n",
    "    let suv = Suv;\n",
    "\n",
    "    let is_sedan = true;\n",
    "\n",
    "    if is_sedan {\n",
    "        drive_car(sedan);\n",
    "    } else {\n",
    "        drive_car(suv);\n",
    "    }\n",
    "}"
   ]
  },
  {
   "cell_type": "code",
   "execution_count": 11,
   "id": "60b12a35",
   "metadata": {},
   "outputs": [
    {
     "name": "stdout",
     "output_type": "stream",
     "text": [
      "drvie Sedan\n"
     ]
    }
   ],
   "source": [
    "main();"
   ]
  },
  {
   "cell_type": "code",
   "execution_count": null,
   "id": "44e61c46",
   "metadata": {},
   "outputs": [],
   "source": []
  },
  {
   "cell_type": "markdown",
   "id": "14513289",
   "metadata": {},
   "source": [
    "## 함수의 반환 타입 위치"
   ]
  },
  {
   "cell_type": "code",
   "execution_count": 13,
   "id": "71c62f77",
   "metadata": {},
   "outputs": [
    {
     "ename": "Error",
     "evalue": "`if` and `else` have incompatible types",
     "output_type": "error",
     "traceback": [
      "\u001b[31m[E0308] Error:\u001b[0m `if` and `else` have incompatible types",
      "   \u001b[38;5;246m╭\u001b[0m\u001b[38;5;246m─\u001b[0m\u001b[38;5;246m[\u001b[0mcommand_13:1:1\u001b[38;5;246m]\u001b[0m",
      "   \u001b[38;5;246m│\u001b[0m",
      " \u001b[38;5;246m2 │\u001b[0m \u001b[38;5;68m╭\u001b[0m\u001b[38;5;68m─\u001b[0m\u001b[38;5;68m▶\u001b[0m\u001b[38;5;68m \u001b[0m\u001b[38;5;249m \u001b[0m\u001b[38;5;249m \u001b[0m\u001b[38;5;249m \u001b[0m\u001b[38;5;249m \u001b[0m\u001b[38;5;68mi\u001b[0m\u001b[38;5;68mf\u001b[0m\u001b[38;5;68m \u001b[0m\u001b[38;5;68mi\u001b[0m\u001b[38;5;68ms\u001b[0m\u001b[38;5;68m_\u001b[0m\u001b[38;5;68ms\u001b[0m\u001b[38;5;68me\u001b[0m\u001b[38;5;68md\u001b[0m\u001b[38;5;68ma\u001b[0m\u001b[38;5;68mn\u001b[0m\u001b[38;5;68m \u001b[0m\u001b[38;5;68m{\u001b[0m",
      " \u001b[38;5;246m3 │\u001b[0m \u001b[38;5;68m│\u001b[0m   \u001b[38;5;68m \u001b[0m\u001b[38;5;68m \u001b[0m\u001b[38;5;68m \u001b[0m\u001b[38;5;68m \u001b[0m\u001b[38;5;68m \u001b[0m\u001b[38;5;68m \u001b[0m\u001b[38;5;68m \u001b[0m\u001b[38;5;68m \u001b[0m\u001b[38;5;100mS\u001b[0m\u001b[38;5;100me\u001b[0m\u001b[38;5;100md\u001b[0m\u001b[38;5;100ma\u001b[0m\u001b[38;5;100mn\u001b[0m",
      " \u001b[38;5;246m  ·\u001b[0m \u001b[38;5;68m│\u001b[0m           \u001b[38;5;100m─\u001b[0m\u001b[38;5;100m─\u001b[0m\u001b[38;5;100m┬\u001b[0m\u001b[38;5;100m─\u001b[0m\u001b[38;5;100m─\u001b[0m  ",
      " \u001b[38;5;246m  ·\u001b[0m \u001b[38;5;68m│\u001b[0m             \u001b[38;5;100m╰\u001b[0m\u001b[38;5;100m─\u001b[0m\u001b[38;5;100m─\u001b[0m\u001b[38;5;100m─\u001b[0m\u001b[38;5;100m─\u001b[0m expected because of this",
      " \u001b[38;5;246m  ⋮\u001b[0m \u001b[38;5;68m⋮\u001b[0m   ",
      " \u001b[38;5;246m5 │\u001b[0m \u001b[38;5;68m│\u001b[0m   \u001b[38;5;68m \u001b[0m\u001b[38;5;68m \u001b[0m\u001b[38;5;68m \u001b[0m\u001b[38;5;68m \u001b[0m\u001b[38;5;68m \u001b[0m\u001b[38;5;68m \u001b[0m\u001b[38;5;68m \u001b[0m\u001b[38;5;68m \u001b[0m\u001b[38;5;54mS\u001b[0m\u001b[38;5;54mu\u001b[0m\u001b[38;5;54mv\u001b[0m",
      " \u001b[38;5;246m  ·\u001b[0m \u001b[38;5;68m│\u001b[0m           \u001b[38;5;54m─\u001b[0m\u001b[38;5;54m┬\u001b[0m\u001b[38;5;54m─\u001b[0m  ",
      " \u001b[38;5;246m  ·\u001b[0m \u001b[38;5;68m│\u001b[0m            \u001b[38;5;54m╰\u001b[0m\u001b[38;5;54m─\u001b[0m\u001b[38;5;54m─\u001b[0m\u001b[38;5;54m─\u001b[0m expected struct `Sedan`, found struct `Suv`",
      " \u001b[38;5;246m6 │\u001b[0m \u001b[38;5;68m├\u001b[0m\u001b[38;5;68m─\u001b[0m\u001b[38;5;68m▶\u001b[0m\u001b[38;5;68m \u001b[0m\u001b[38;5;68m \u001b[0m\u001b[38;5;68m \u001b[0m\u001b[38;5;68m \u001b[0m\u001b[38;5;68m \u001b[0m\u001b[38;5;68m}\u001b[0m",
      " \u001b[38;5;246m  ·\u001b[0m \u001b[38;5;68m│\u001b[0m           ",
      " \u001b[38;5;246m  ·\u001b[0m \u001b[38;5;68m╰\u001b[0m\u001b[38;5;68m─\u001b[0m\u001b[38;5;68m─\u001b[0m\u001b[38;5;68m─\u001b[0m\u001b[38;5;68m─\u001b[0m\u001b[38;5;68m─\u001b[0m\u001b[38;5;68m─\u001b[0m\u001b[38;5;68m─\u001b[0m\u001b[38;5;68m─\u001b[0m\u001b[38;5;68m─\u001b[0m\u001b[38;5;68m─\u001b[0m\u001b[38;5;68m─\u001b[0m `if` and `else` have incompatible types",
      "\u001b[38;5;246m───╯\u001b[0m"
     ]
    }
   ],
   "source": [
    "fn get_car(is_sedan: bool) -> impl Car{\n",
    "    if is_sedan {\n",
    "        Sedan\n",
    "    } else {\n",
    "        Suv\n",
    "    }\n",
    "}"
   ]
  },
  {
   "cell_type": "markdown",
   "id": "6df6798b",
   "metadata": {},
   "source": [
    "### 반환할 때는 항상 하나의 구조체의 인스턴스만 가능 "
   ]
  },
  {
   "cell_type": "code",
   "execution_count": 17,
   "id": "bd1b95d5",
   "metadata": {},
   "outputs": [],
   "source": [
    "fn get_car(is_sedan: bool) -> impl Car{\n",
    "    Sedan {}\n",
    "}"
   ]
  },
  {
   "cell_type": "code",
   "execution_count": null,
   "id": "2053c72b",
   "metadata": {},
   "outputs": [],
   "source": []
  },
  {
   "cell_type": "markdown",
   "id": "dc56d568",
   "metadata": {},
   "source": [
    "## 2. Trait 객체\n",
    "\n",
    "- 객체의 인스턴스를 &dyn MyTrait 자료형을 가진 매개변수로 넘길 때, 이를 trait 객체라고 부릅니다.\n",
    "\n",
    "- trait 객체는 인스턴스의 올바른 메소드를 간접적으로 호출할 수 있게 해줍니다. \n",
    "\n",
    "- trait 객체는 인스턴스에 대한 포인터와 인스턴스 메소드들에 대한 함수 포인터 목록을 갖고있는 struct입니다.\n",
    "\n",
    "- 메모리 상세: 이런 함수 목록을 C++에서는 vtable이라고 합니다."
   ]
  },
  {
   "cell_type": "markdown",
   "id": "8baef40f",
   "metadata": {},
   "source": [
    "### 동적으로 타입을 변경해서 처리 \n",
    "\n",
    "- dyn 키워드는 Trait 타입 앞에 오고 메서드가 동적 디스패치 될 것을 나타내기 위해 사용됩니다. \n",
    "- dyn Trait의 참조자는 인스턴스 객체를 위한 포인터와 vtable을 가리키는 포인터 총 두 개의 포인터를 갖습니다. \n",
    "- 그리고 런타임에 이 함수가 필요해지면 vtable을 참조해 포인터를 얻게 됩니다."
   ]
  },
  {
   "cell_type": "code",
   "execution_count": 18,
   "id": "0de35d0c",
   "metadata": {},
   "outputs": [],
   "source": [
    "fn get_car(is_sedan: bool) -> Box<dyn Car>{\n",
    "    if is_sedan {\n",
    "        Box::new(Sedan)\n",
    "    } else {\n",
    "        Box::new(Suv)\n",
    "    }\n",
    "}"
   ]
  },
  {
   "cell_type": "markdown",
   "id": "d5add979",
   "metadata": {},
   "source": [
    "### 동적 다형성 처리의 트레이드 오프\n",
    "\n",
    "이런 식으로 동적 다형성을 사용하면 컴파일러는 컴파일 타임에 명확한 타입을 알 수 없고, 런타임 비용을 증가시킵니다. \n",
    "앞서 말했듯이 Rust에서는 정적 다형성을 선호하지만, 분명 정적 다형성만으로 해결하기 까다로운 상황이 존재할 것입니다. \n",
    "이는 트레이드오프의 관점에서 상황에 맞게 사용하는 것이 좋겠습니다."
   ]
  },
  {
   "cell_type": "code",
   "execution_count": 19,
   "id": "7a2f8bf3",
   "metadata": {},
   "outputs": [],
   "source": [
    "fn main() {\n",
    "\n",
    "    let is_sedan = false;\n",
    "\n",
    "    let car = get_car(is_sedan);\n",
    "\n",
    "    car.drive();\n",
    "\n",
    "}"
   ]
  },
  {
   "cell_type": "code",
   "execution_count": 20,
   "id": "5fcbd3f4",
   "metadata": {},
   "outputs": [
    {
     "name": "stdout",
     "output_type": "stream",
     "text": [
      "drvie Suv\n"
     ]
    }
   ],
   "source": [
    "main();"
   ]
  },
  {
   "cell_type": "code",
   "execution_count": null,
   "id": "11d9a243",
   "metadata": {},
   "outputs": [],
   "source": []
  }
 ],
 "metadata": {
  "kernelspec": {
   "display_name": "Rust",
   "language": "rust",
   "name": "rust"
  },
  "language_info": {
   "codemirror_mode": "rust",
   "file_extension": ".rs",
   "mimetype": "text/rust",
   "name": "Rust",
   "pygment_lexer": "rust",
   "version": ""
  }
 },
 "nbformat": 4,
 "nbformat_minor": 5
}
