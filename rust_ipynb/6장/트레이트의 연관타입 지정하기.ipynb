{
 "cells": [
  {
   "cell_type": "code",
   "execution_count": null,
   "id": "15112778",
   "metadata": {},
   "outputs": [],
   "source": []
  },
  {
   "cell_type": "markdown",
   "id": "4222f9e1",
   "metadata": {},
   "source": [
    "## 연관 타입(Associated Type)\n",
    "\n",
    "- 특정 트레이트 내부에서 사용되는 타입을 나타내는 개념입니다. \n",
    "- 연관 타입은 제네릭 타입과 유사하지만, 제네릭 타입은 타입을 인수화하는 반면, 연관 타입은 특정 트레이트에서 사용되는 타입을 나타냅니다.\n",
    "\n",
    "- 연관 타입은 보통 트레이트 내부에서 사용되는 메서드나 상수 등의 반환 타입으로 사용됩니다. \n",
    "- 이를 통해 트레이트를 구현한 타입들은 해당 연관 타입을 구체적인 타입으로 대체하게 됩니다."
   ]
  },
  {
   "cell_type": "code",
   "execution_count": null,
   "id": "a4839681",
   "metadata": {},
   "outputs": [],
   "source": []
  },
  {
   "cell_type": "code",
   "execution_count": 6,
   "id": "4be6dd97",
   "metadata": {},
   "outputs": [],
   "source": [
    "trait Drawable {\n",
    "    type Color;                           // 연관타입 \n",
    "    \n",
    "    fn draw(&self, color: Self::Color);   // 매개변수의 타입 정의 \n",
    "}\n"
   ]
  },
  {
   "cell_type": "code",
   "execution_count": 7,
   "id": "bac9ac7f",
   "metadata": {},
   "outputs": [],
   "source": [
    "struct Circle {\n",
    "    radius: f32,\n",
    "}\n",
    "\n",
    "impl Drawable for Circle {                  // 트레이트 구현 \n",
    "    type Color = (u8, u8, u8);              // 연관타입 지정 \n",
    "    \n",
    "    fn draw(&self, color: Self::Color) {\n",
    "        println!(\"Drawing a circle with radius {} and color {:?}\", self.radius, color);\n",
    "    }\n",
    "}\n"
   ]
  },
  {
   "cell_type": "code",
   "execution_count": 8,
   "id": "5d364e74",
   "metadata": {},
   "outputs": [],
   "source": [
    "struct Rectangle {\n",
    "    width: f32,\n",
    "    height: f32,\n",
    "}\n",
    "\n",
    "impl Drawable for Rectangle {\n",
    "    type Color = (u8, u8, u8, u8);\n",
    "    \n",
    "    fn draw(&self, color: Self::Color) {\n",
    "        println!(\"Drawing a rectangle with width {} and height {} and color {:?}\", self.width, self.height, color);\n",
    "    }\n",
    "}"
   ]
  },
  {
   "cell_type": "code",
   "execution_count": null,
   "id": "d882d60f",
   "metadata": {},
   "outputs": [],
   "source": []
  },
  {
   "cell_type": "code",
   "execution_count": 9,
   "id": "f779b0de",
   "metadata": {},
   "outputs": [],
   "source": [
    "fn main() {\n",
    "    let circle = Circle { radius: 10.0 };\n",
    "    let rectangle = Rectangle { width: 20.0, height: 30.0 };\n",
    "    \n",
    "    circle.draw((255, 0, 0));\n",
    "    rectangle.draw((0, 255, 0, 128));\n",
    "}"
   ]
  },
  {
   "cell_type": "code",
   "execution_count": 10,
   "id": "9041a2b1",
   "metadata": {},
   "outputs": [
    {
     "name": "stdout",
     "output_type": "stream",
     "text": [
      "Drawing a circle with radius 10 and color (255, 0, 0)\n",
      "Drawing a rectangle with width 20 and height 30 and color (0, 255, 0, 128)\n"
     ]
    }
   ],
   "source": [
    "main();"
   ]
  },
  {
   "cell_type": "code",
   "execution_count": null,
   "id": "96f15326",
   "metadata": {},
   "outputs": [],
   "source": []
  }
 ],
 "metadata": {
  "kernelspec": {
   "display_name": "Rust",
   "language": "rust",
   "name": "rust"
  },
  "language_info": {
   "codemirror_mode": "rust",
   "file_extension": ".rs",
   "mimetype": "text/rust",
   "name": "Rust",
   "pygment_lexer": "rust",
   "version": ""
  }
 },
 "nbformat": 4,
 "nbformat_minor": 5
}
