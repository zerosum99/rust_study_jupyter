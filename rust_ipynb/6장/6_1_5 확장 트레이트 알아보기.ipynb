{
 "cells": [
  {
   "cell_type": "code",
   "execution_count": null,
   "id": "779513b3",
   "metadata": {},
   "outputs": [],
   "source": []
  },
  {
   "cell_type": "markdown",
   "id": "5381dfdd",
   "metadata": {},
   "source": [
    "## 확장 트레이트 \n",
    "\n",
    "-  러스트에서 특정 타입에 대해 구현되어 있지 않은 트레이트의 동작을 정의하려면, 확장 트레이트(extension trait)를 사용할 수 있습니다.\n",
    "\n",
    "- 확장 트레이트란, 기존의 타입에 대해 외부에서 새로운 트레이트를 정의하고, 이 트레이트에 대한 메서드를 해당 타입에 대한 구현 없이도 호출할 수 있게 해주는 기능입니다. \n",
    "- 이를 통해 외부에서 기존 타입에 대한 새로운 동작을 추가할 수 있습니다.\n",
    "\n",
    "- 확장 트레이트는 trait 키워드를 사용하여 정의하며, 해당 트레이트의 메서드는 기존 타입의 값을 참조할 수 있도록 &self나 &mut self 매개변수를 받을 수 있습니다. \n",
    "- 예를 들어, 다음은 i32 타입에 대해 abs() 메서드를 추가하는 확장 트레이트의 예시입니다."
   ]
  },
  {
   "cell_type": "code",
   "execution_count": null,
   "id": "060c61d4",
   "metadata": {},
   "outputs": [],
   "source": []
  },
  {
   "cell_type": "code",
   "execution_count": null,
   "id": "c8fcebe9",
   "metadata": {},
   "outputs": [],
   "source": []
  },
  {
   "cell_type": "markdown",
   "id": "9c5b5a8d",
   "metadata": {},
   "source": [
    "## 원시타입에는 메서드를 추가할 수 없다."
   ]
  },
  {
   "cell_type": "code",
   "execution_count": 7,
   "id": "a8aa1e02",
   "metadata": {},
   "outputs": [
    {
     "ename": "Error",
     "evalue": "cannot define inherent `impl` for primitive types",
     "output_type": "error",
     "traceback": [
      "\u001b[31m[E0390] Error:\u001b[0m cannot define inherent `impl` for primitive types",
      "   \u001b[38;5;246m╭\u001b[0m\u001b[38;5;246m─\u001b[0m\u001b[38;5;246m[\u001b[0mcommand_7:1:1\u001b[38;5;246m]\u001b[0m",
      "   \u001b[38;5;246m│\u001b[0m",
      " \u001b[38;5;246m1 │\u001b[0m \u001b[38;5;249mi\u001b[0m\u001b[38;5;249mm\u001b[0m\u001b[38;5;249mp\u001b[0m\u001b[38;5;249ml\u001b[0m\u001b[38;5;249m \u001b[0m\u001b[38;5;54mi\u001b[0m\u001b[38;5;54m3\u001b[0m\u001b[38;5;54m2\u001b[0m\u001b[38;5;249m \u001b[0m\u001b[38;5;249m{\u001b[0m",
      " \u001b[38;5;246m  ·\u001b[0m      \u001b[38;5;54m─\u001b[0m\u001b[38;5;54m┬\u001b[0m\u001b[38;5;54m─\u001b[0m  ",
      " \u001b[38;5;246m  ·\u001b[0m       \u001b[38;5;54m╰\u001b[0m\u001b[38;5;54m─\u001b[0m\u001b[38;5;54m─\u001b[0m\u001b[38;5;54m─\u001b[0m error: cannot define inherent `impl` for primitive types",
      "\u001b[38;5;246m───╯\u001b[0m"
     ]
    }
   ],
   "source": [
    "impl i32 {\n",
    "    fn is_even(&self) -> bool {\n",
    "        self % 2 == 0\n",
    "    }\n",
    "}"
   ]
  },
  {
   "cell_type": "code",
   "execution_count": null,
   "id": "24bb87e6",
   "metadata": {},
   "outputs": [],
   "source": []
  },
  {
   "cell_type": "markdown",
   "id": "3ffb4723",
   "metadata": {},
   "source": [
    "## 트레이트를 사용해서 확장 메서드를 지정하기 "
   ]
  },
  {
   "cell_type": "code",
   "execution_count": 6,
   "id": "44cd9800",
   "metadata": {},
   "outputs": [],
   "source": [
    "trait AbsoluteValue {\n",
    "    fn abs(&self) -> i32;\n",
    "}"
   ]
  },
  {
   "cell_type": "code",
   "execution_count": 3,
   "id": "f76fdfdd",
   "metadata": {},
   "outputs": [],
   "source": [
    "impl AbsoluteValue for i32 {\n",
    "    fn abs(&self) -> i32 {\n",
    "        if *self < 0 {\n",
    "            -*self\n",
    "        } else {\n",
    "            *self\n",
    "        }\n",
    "    }\n",
    "}"
   ]
  },
  {
   "cell_type": "code",
   "execution_count": 4,
   "id": "9ef1857a",
   "metadata": {},
   "outputs": [],
   "source": [
    "fn main() {\n",
    "    let x = -42;\n",
    "    println!(\"{}\", x.abs()); // 42\n",
    "}"
   ]
  },
  {
   "cell_type": "code",
   "execution_count": 5,
   "id": "b78492b4",
   "metadata": {},
   "outputs": [
    {
     "name": "stdout",
     "output_type": "stream",
     "text": [
      "42\n"
     ]
    }
   ],
   "source": [
    "main();"
   ]
  },
  {
   "cell_type": "code",
   "execution_count": null,
   "id": "f6cf072e",
   "metadata": {},
   "outputs": [],
   "source": []
  },
  {
   "cell_type": "markdown",
   "id": "bf2d6b37",
   "metadata": {},
   "source": [
    "## 확장 제너릭 트레이트 "
   ]
  },
  {
   "cell_type": "code",
   "execution_count": 2,
   "id": "ecdd5215",
   "metadata": {},
   "outputs": [],
   "source": [
    "trait Add_<RHS, Output> {\n",
    "    fn add_(self, rhs: RHS) -> Output;\n",
    "}"
   ]
  },
  {
   "cell_type": "code",
   "execution_count": 3,
   "id": "44ebc447",
   "metadata": {},
   "outputs": [],
   "source": [
    "impl Add_<i32, i32> for i32 {\n",
    "    fn add_(self, rhs: i32) -> i32 {\n",
    "        self + rhs\n",
    "    }\n",
    "}"
   ]
  },
  {
   "cell_type": "code",
   "execution_count": 5,
   "id": "1f122c8e",
   "metadata": {},
   "outputs": [],
   "source": [
    "fn main() {\n",
    "    let x = -42;\n",
    "    let y = 400;\n",
    "    println!(\"{}\", x.add_(y)); //  358\n",
    "}"
   ]
  },
  {
   "cell_type": "code",
   "execution_count": 6,
   "id": "d41d1574",
   "metadata": {},
   "outputs": [
    {
     "name": "stdout",
     "output_type": "stream",
     "text": [
      "358\n"
     ]
    }
   ],
   "source": [
    "main();"
   ]
  },
  {
   "cell_type": "code",
   "execution_count": null,
   "id": "c03d97b5",
   "metadata": {},
   "outputs": [],
   "source": []
  }
 ],
 "metadata": {
  "kernelspec": {
   "display_name": "Rust",
   "language": "rust",
   "name": "rust"
  },
  "language_info": {
   "codemirror_mode": "rust",
   "file_extension": ".rs",
   "mimetype": "text/rust",
   "name": "Rust",
   "pygment_lexer": "rust",
   "version": ""
  }
 },
 "nbformat": 4,
 "nbformat_minor": 5
}
