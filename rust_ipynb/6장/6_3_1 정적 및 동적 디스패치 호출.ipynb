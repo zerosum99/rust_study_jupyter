{
 "cells": [
  {
   "cell_type": "markdown",
   "id": "60b40fe4",
   "metadata": {},
   "source": [
    "## 디스패치\n",
    "\n",
    "- Rust에서 디스패치는 호출되는 메소드 또는 함수가 어떤 코드를 실행할지 결정하는 과정을 말합니다.\n",
    "- Rust에서는 크게 정적 디스패치와 동적 디스패치 두 가지 유형이 있습니다.\n",
    "\n",
    "### 정적 디스패치는 \n",
    "- 컴파일 시간에 구체화되는 메소드 호출 방식입니다. 구조체나 열거형과 같은 타입이 정의된 모듈 내부에서 메소드를 호출할 때 사용됩니다. \n",
    "- 컴파일 시간에 모든 호출이 결정되기 때문에 실행 시간에 메소드 호출을 결정하는 동적 디스패치보다 더 빠릅니다.\n",
    "\n",
    "### 동적 디스패치는 \n",
    "- 런타임에 결정되는 메소드 호출 방식입니다. 일반적으로 다형성을 구현할 때 사용됩니다. \n",
    "- 동적 디스패치는 실행 시간에 메소드 호출을 결정하기 때문에 실행 시간에 비용이 발생합니다."
   ]
  },
  {
   "cell_type": "markdown",
   "id": "85ebb21f",
   "metadata": {},
   "source": [
    "\n",
    "## 동적 vs 정적 디스패치\n",
    "메소드는 다음의 두 가지 방식으로 실행됩니다:\n",
    "\n",
    "- 정적 디스패치 (static dispatch) - 인스턴스의 자료형을 알고 있는 경우, 어떤 함수룰 호출해야 하는지 정확히 알고 있습니다.\n",
    "- 동적 디스패치 (dynamic dispatch) - 인스턴스의 자료형을 모르는 경우, 올바른 함수를 호출할 방법을 찾아야 합니다."
   ]
  },
  {
   "cell_type": "markdown",
   "id": "466b157d",
   "metadata": {},
   "source": [
    "\n",
    "### 정적 디스패치 \n",
    "-  컴파일 시간에 호출할 함수가 결정되는 방식입니다. \n",
    "- 이 방식에서 호출할 함수는 컴파일러가 컴파일 타임에 함수의 정확한 타입을 알고 있기 때문에 바로 호출할 수 있습니다. \n",
    "- 이 방식은 함수 호출 시간이 매우 짧아져 빠른 속도를 보장합니다. \n",
    "- 대표적인 예시로는 제네릭 함수나 인라인 함수가 있습니다.\n",
    "\n",
    "### 동적 디스패치는 \n",
    "- 런타임에 호출할 함수가 결정되는 방식입니다. \n",
    "- 이 방식에서 호출할 함수는 컴파일러가 컴파일 타임에 함수의 정확한 타입을 알 수 없기 때문에 런타임에 함수의 타입을 확인한 후 호출해야 합니다. \n",
    "- 이 방식은 함수 호출 시간이 매우 길어지므로 느린 속도를 보장합니다. \n",
    "- 하지만 동적 디스패치는 유연성과 확장성이 좋아서, 런타임에 호출할 함수가 결정되는 경우에는 필수적입니다."
   ]
  },
  {
   "cell_type": "code",
   "execution_count": null,
   "id": "8ff56d26",
   "metadata": {},
   "outputs": [],
   "source": []
  },
  {
   "cell_type": "markdown",
   "id": "2543f3de",
   "metadata": {},
   "source": [
    "## 1. 디스패치 "
   ]
  },
  {
   "cell_type": "markdown",
   "id": "a728c07e",
   "metadata": {},
   "source": [
    "## 정적 디스패치 \n",
    "\n",
    "- 정적 디스패치는 컴파일 시간에 구체화되는 메소드 호출 방식입니다. \n",
    "- 일반적으로 구조체나 열거형과 같은 타입이 정의된 모듈 내부에서 메소드를 호출할 때 사용됩니다. \n",
    "- 컴파일 시간에 모든 호출이 결정되기 때문에 실행 시간에 메소드 호출을 결정하는 동적 디스패치보다 더 빠릅니다."
   ]
  },
  {
   "cell_type": "code",
   "execution_count": 27,
   "id": "71c5802f",
   "metadata": {},
   "outputs": [],
   "source": [
    "struct Point {\n",
    "    x: i32,\n",
    "    y: i32,\n",
    "}\n",
    "\n",
    "impl Point {\n",
    "    fn new(x: i32, y: i32) -> Self {\n",
    "        Point { x, y }\n",
    "    }\n",
    "\n",
    "    fn distance_from_origin(&self) -> f64 {\n",
    "        ((self.x.pow(2) + self.y.pow(2)) as f64).sqrt()\n",
    "    }\n",
    "}\n",
    "\n",
    "fn main() {\n",
    "    let point = Point::new(3, 4);\n",
    "    let distance = point.distance_from_origin();\n",
    "    println!(\"The distance from origin is {}\", distance);\n",
    "}"
   ]
  },
  {
   "cell_type": "code",
   "execution_count": 28,
   "id": "b97e11dd",
   "metadata": {},
   "outputs": [
    {
     "name": "stdout",
     "output_type": "stream",
     "text": [
      "The distance from origin is 5\n"
     ]
    }
   ],
   "source": [
    "main();"
   ]
  },
  {
   "cell_type": "markdown",
   "id": "419bffa3",
   "metadata": {},
   "source": [
    "## 트레이트를 사용한 동적 디스패치\n",
    "\n",
    "- trait 자료형인 &dyn MyTrait은 동적 디스패치를 통해 객체의 인스턴스들을 간접적으로 작동시킬 수 있게 해줍니다.\n",
    "\n",
    "- 동적 디스패치를 사용할 경우, Rust에서는 사람들이 알 수 있도록 trait 자료형 앞에 dyn을 붙일 것을 권고합니다."
   ]
  },
  {
   "cell_type": "code",
   "execution_count": 5,
   "id": "2a16eca2",
   "metadata": {},
   "outputs": [],
   "source": [
    "struct SeaCreature {\n",
    "    pub name: String,\n",
    "    noise: String,\n",
    "}\n",
    "\n",
    "impl SeaCreature {\n",
    "    pub fn get_sound(&self) -> &str {\n",
    "        &self.noise\n",
    "    }\n",
    "}\n",
    "\n",
    "trait NoiseMaker {\n",
    "    fn make_noise(&self);\n",
    "}\n",
    "\n",
    "impl NoiseMaker for SeaCreature {\n",
    "    fn make_noise(&self) {\n",
    "        println!(\"{}\", &self.get_sound());\n",
    "    }\n",
    "}\n",
    "\n",
    "fn static_make_noise(creature: &SeaCreature) {\n",
    "    // 실제 자료형을 압니다\n",
    "    println!(\"정적 디스패치 처리 \");\n",
    "    creature.make_noise();\n",
    "}\n",
    "\n",
    "fn dynamic_make_noise(noise_maker: &dyn NoiseMaker) {\n",
    "    // 실제 자료형을 모릅니다\n",
    "    println!(\"동적 디스패치 처리 \");\n",
    "    noise_maker.make_noise();\n",
    "}\n",
    "\n"
   ]
  },
  {
   "cell_type": "markdown",
   "id": "566ffb59",
   "metadata": {},
   "source": [
    "## 정적과 동적 디스패치 처리하기"
   ]
  },
  {
   "cell_type": "code",
   "execution_count": 7,
   "id": "b921f902",
   "metadata": {},
   "outputs": [],
   "source": [
    "fn main() {\n",
    "    let creature = SeaCreature {\n",
    "        name: String::from(\"Ferris\"),\n",
    "        noise: String::from(\"blub\"),\n",
    "    };\n",
    "    static_make_noise(&creature);\n",
    "    dynamic_make_noise(&creature);\n",
    "}"
   ]
  },
  {
   "cell_type": "code",
   "execution_count": 8,
   "id": "dd73828c",
   "metadata": {},
   "outputs": [
    {
     "name": "stdout",
     "output_type": "stream",
     "text": [
      "정적 디스패치 처리 \n",
      "blub\n",
      "동적 디스패치 처리 \n",
      "blub\n"
     ]
    },
    {
     "data": {
      "text/plain": [
       "()"
      ]
     },
     "execution_count": 8,
     "metadata": {},
     "output_type": "execute_result"
    }
   ],
   "source": [
    "main()"
   ]
  },
  {
   "cell_type": "markdown",
   "id": "d09960cd",
   "metadata": {},
   "source": [
    "## 2.  정적 디스패치 "
   ]
  },
  {
   "cell_type": "markdown",
   "id": "29af5c02",
   "metadata": {},
   "source": [
    "## 트레이트 경계로 정적디스패치 처리하기\n",
    "\n",
    "- 트레이트 경계는 특정한 하나의 자료형을 한정한다"
   ]
  },
  {
   "cell_type": "code",
   "execution_count": 32,
   "id": "d31ee425",
   "metadata": {},
   "outputs": [],
   "source": [
    "trait Shape {\n",
    "    fn area(&self) -> f64;\n",
    "}\n",
    "\n",
    "struct Circle {\n",
    "    radius: f64,\n",
    "}\n",
    "\n",
    "impl Shape for Circle {\n",
    "    fn area(&self) -> f64 {\n",
    "        std::f64::consts::PI * self.radius * self.radius\n",
    "    }\n",
    "}\n",
    "\n",
    "struct Rectangle {\n",
    "    width: f64,\n",
    "    height: f64,\n",
    "}\n",
    "\n",
    "impl Shape for Rectangle {\n",
    "    fn area(&self) -> f64 {\n",
    "        self.width * self.height\n",
    "    }\n",
    "}\n",
    "\n",
    "fn print_area<T: Shape>(shape: T) {\n",
    "    println!(\"The area of the shape is {}\", shape.area());\n",
    "}\n",
    "\n",
    "fn main() {\n",
    "    let circle = Circle { radius: 5.0 };\n",
    "    let rectangle = Rectangle { width: 10.0, height: 5.0 };\n",
    "    \n",
    "    print_area(circle);\n",
    "    print_area(rectangle);\n",
    "}"
   ]
  },
  {
   "cell_type": "code",
   "execution_count": 33,
   "id": "c2b56ad1",
   "metadata": {},
   "outputs": [
    {
     "name": "stdout",
     "output_type": "stream",
     "text": [
      "The area of the shape is 78.53981633974483\n",
      "The area of the shape is 50\n"
     ]
    }
   ],
   "source": [
    "main();"
   ]
  },
  {
   "cell_type": "markdown",
   "id": "a1df4af6",
   "metadata": {},
   "source": [
    "## 트레이트 바운드로 정적 디스패치처리 "
   ]
  },
  {
   "cell_type": "code",
   "execution_count": 5,
   "id": "41886eef",
   "metadata": {},
   "outputs": [],
   "source": [
    "trait Animal {\n",
    "    fn speak(&self);\n",
    "}"
   ]
  },
  {
   "cell_type": "code",
   "execution_count": 6,
   "id": "cf7aeafd",
   "metadata": {},
   "outputs": [],
   "source": [
    "struct Dog;\n",
    "impl Animal for Dog {\n",
    "    fn speak(&self) {\n",
    "        println!(\"Woof!\");\n",
    "    }\n",
    "}\n",
    "\n",
    "struct Cat;\n",
    "impl Animal for Cat {\n",
    "    fn speak(&self) {\n",
    "        println!(\"Meow!\");\n",
    "    }\n",
    "}"
   ]
  },
  {
   "cell_type": "code",
   "execution_count": 8,
   "id": "ee9824ec",
   "metadata": {},
   "outputs": [],
   "source": [
    "fn speak_animal<T: Animal>(animal: &T) {\n",
    "    animal.speak();\n",
    "}"
   ]
  },
  {
   "cell_type": "code",
   "execution_count": null,
   "id": "ab5e0a13",
   "metadata": {},
   "outputs": [],
   "source": []
  },
  {
   "cell_type": "code",
   "execution_count": 11,
   "id": "8875ace5",
   "metadata": {},
   "outputs": [],
   "source": [
    "fn main() {\n",
    "    \n",
    "    speak_animal(&Dog);\n",
    "    speak_animal(&Cat);\n",
    "    \n",
    "}"
   ]
  },
  {
   "cell_type": "code",
   "execution_count": 12,
   "id": "20c712cf",
   "metadata": {},
   "outputs": [
    {
     "name": "stdout",
     "output_type": "stream",
     "text": [
      "Woof!\n",
      "Meow!\n"
     ]
    }
   ],
   "source": [
    "main();"
   ]
  },
  {
   "cell_type": "code",
   "execution_count": null,
   "id": "0f2e844d",
   "metadata": {},
   "outputs": [],
   "source": []
  },
  {
   "cell_type": "markdown",
   "id": "d0eb7893",
   "metadata": {},
   "source": [
    "## 3. 동적 디스패치 "
   ]
  },
  {
   "cell_type": "markdown",
   "id": "ddddd2fd",
   "metadata": {},
   "source": [
    "## 배열의 타입을 트레이트 객체로 지정해서 동적 디스패치 처리"
   ]
  },
  {
   "cell_type": "code",
   "execution_count": 29,
   "id": "77cb9ff1",
   "metadata": {},
   "outputs": [],
   "source": [
    "trait Animal {\n",
    "    fn speak(&self);\n",
    "}\n",
    "\n",
    "struct Dog;\n",
    "struct Cat;\n",
    "\n",
    "impl Animal for Dog {\n",
    "    fn speak(&self) {\n",
    "        println!(\"Woof!\");\n",
    "    }\n",
    "}\n",
    "\n",
    "impl Animal for Cat {\n",
    "    fn speak(&self) {\n",
    "        println!(\"Meow!\");\n",
    "    }\n",
    "}\n",
    "\n",
    "fn main() {\n",
    "    let dog = Dog;\n",
    "    let cat = Cat;\n",
    "\n",
    "    let animals: [&dyn Animal; 2] = [&dog, &cat];\n",
    "\n",
    "    for animal in &animals {\n",
    "        animal.speak();\n",
    "    }\n",
    "}"
   ]
  },
  {
   "cell_type": "code",
   "execution_count": 30,
   "id": "b06f6cef",
   "metadata": {},
   "outputs": [
    {
     "name": "stdout",
     "output_type": "stream",
     "text": [
      "Woof!\n",
      "Meow!\n"
     ]
    }
   ],
   "source": [
    "main();"
   ]
  },
  {
   "cell_type": "markdown",
   "id": "3a642604",
   "metadata": {},
   "source": [
    "## 트레이트 객체를 트레이트 바운드를 사용한 동적 디스패치"
   ]
  },
  {
   "cell_type": "code",
   "execution_count": 15,
   "id": "cd4f706a",
   "metadata": {},
   "outputs": [],
   "source": [
    "trait MyTrait {\n",
    "    fn my_function(&self);\n",
    "}"
   ]
  },
  {
   "cell_type": "code",
   "execution_count": 20,
   "id": "d4bd7806",
   "metadata": {},
   "outputs": [],
   "source": [
    "struct MyStruct_A {\n",
    "    value: i32,\n",
    "}\n",
    "\n",
    "impl MyTrait for MyStruct_A {\n",
    "    fn my_function(&self) {\n",
    "        println!(\"MyStruct A value is {}\", self.value);\n",
    "    }\n",
    "}"
   ]
  },
  {
   "cell_type": "code",
   "execution_count": 21,
   "id": "64d27588",
   "metadata": {},
   "outputs": [],
   "source": [
    "struct MyStruct_B {\n",
    "    value: i32,\n",
    "}\n",
    "\n",
    "impl MyTrait for MyStruct_B {\n",
    "    fn my_function(&self) {\n",
    "        println!(\"MyStruct B value is {}\", self.value);\n",
    "    }\n",
    "}"
   ]
  },
  {
   "cell_type": "code",
   "execution_count": null,
   "id": "c9c06d60",
   "metadata": {},
   "outputs": [],
   "source": []
  },
  {
   "cell_type": "code",
   "execution_count": 22,
   "id": "6142550a",
   "metadata": {},
   "outputs": [],
   "source": [
    "fn call_my_function(item: &dyn MyTrait) {\n",
    "    item.my_function();\n",
    "}"
   ]
  },
  {
   "cell_type": "code",
   "execution_count": 25,
   "id": "a29e2b27",
   "metadata": {},
   "outputs": [],
   "source": [
    "fn main() {\n",
    "    let item = MyStruct_A { value: 42 };\n",
    "    call_my_function(&item);\n",
    "    let item = MyStruct_B { value: 420 };\n",
    "    call_my_function(&item);\n",
    "}"
   ]
  },
  {
   "cell_type": "code",
   "execution_count": 26,
   "id": "5c999040",
   "metadata": {},
   "outputs": [
    {
     "name": "stdout",
     "output_type": "stream",
     "text": [
      "MyStruct A value is 42\n",
      "MyStruct B value is 420\n"
     ]
    }
   ],
   "source": [
    "main();"
   ]
  },
  {
   "cell_type": "code",
   "execution_count": null,
   "id": "13b3a52b",
   "metadata": {},
   "outputs": [],
   "source": []
  },
  {
   "cell_type": "markdown",
   "id": "1da64e9b",
   "metadata": {},
   "source": [
    "## 트레이트 객체로 동적 디스패치"
   ]
  },
  {
   "cell_type": "code",
   "execution_count": 2,
   "id": "2ee2a69a",
   "metadata": {},
   "outputs": [],
   "source": [
    "trait Animal {\n",
    "    fn speak(&self);\n",
    "}\n",
    "\n",
    "struct Dog;\n",
    "impl Animal for Dog {\n",
    "    fn speak(&self) {\n",
    "        println!(\"Woof!\");\n",
    "    }\n",
    "}\n",
    "\n",
    "struct Cat;\n",
    "impl Animal for Cat {\n",
    "    fn speak(&self) {\n",
    "        println!(\"Meow!\");\n",
    "    }\n",
    "}\n",
    "\n",
    "fn main() {\n",
    "    let animals: Vec<Box<dyn Animal>> = vec![Box::new(Dog), Box::new(Cat)];\n",
    "\n",
    "    for animal in animals {\n",
    "        animal.speak();\n",
    "    }\n",
    "}"
   ]
  },
  {
   "cell_type": "code",
   "execution_count": 3,
   "id": "f355a790",
   "metadata": {},
   "outputs": [
    {
     "name": "stdout",
     "output_type": "stream",
     "text": [
      "Woof!\n",
      "Meow!\n"
     ]
    }
   ],
   "source": [
    "main();"
   ]
  },
  {
   "cell_type": "markdown",
   "id": "95507737",
   "metadata": {},
   "source": [
    "## 함수포인터로 동적디스패치 처리하기"
   ]
  },
  {
   "cell_type": "code",
   "execution_count": 13,
   "id": "53dee148",
   "metadata": {},
   "outputs": [],
   "source": [
    "fn foo() {\n",
    "    println!(\"Foo called\");\n",
    "}\n",
    "\n",
    "fn bar() {\n",
    "    println!(\"Bar called\");\n",
    "}\n",
    "\n",
    "fn call_func(f: fn()) {\n",
    "    f();\n",
    "}\n",
    "\n",
    "fn main() {\n",
    "    let f1: fn() = foo;\n",
    "    let f2: fn() = bar;\n",
    "\n",
    "    call_func(f1);\n",
    "    call_func(f2);\n",
    "}"
   ]
  },
  {
   "cell_type": "code",
   "execution_count": 14,
   "id": "105326e2",
   "metadata": {},
   "outputs": [
    {
     "name": "stdout",
     "output_type": "stream",
     "text": [
      "Foo called\n",
      "Bar called\n"
     ]
    }
   ],
   "source": [
    "main();"
   ]
  },
  {
   "cell_type": "code",
   "execution_count": null,
   "id": "dacc8e04",
   "metadata": {},
   "outputs": [],
   "source": []
  }
 ],
 "metadata": {
  "kernelspec": {
   "display_name": "Rust",
   "language": "rust",
   "name": "rust"
  },
  "language_info": {
   "codemirror_mode": "rust",
   "file_extension": ".rs",
   "mimetype": "text/rust",
   "name": "Rust",
   "pygment_lexer": "rust",
   "version": ""
  }
 },
 "nbformat": 4,
 "nbformat_minor": 5
}
