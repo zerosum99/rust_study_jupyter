{
 "cells": [
  {
   "cell_type": "markdown",
   "id": "cf461229",
   "metadata": {},
   "source": [
    "## from\n",
    "\n",
    "- From 특성을 사용하면 한 유형이 다른 유형에서 자신을 생성하는 방법을 정의할 수 있으므로 여러 유형 간 변환을 위한 매우 간단한 메커니즘을 제공합니다.\n",
    "- 표준 라이브러리에는 원시 유형과 공통 유형의 변환을 위해 이 특성이 다양하게 구현되어 있습니다."
   ]
  },
  {
   "cell_type": "code",
   "execution_count": 2,
   "id": "518a4c33",
   "metadata": {},
   "outputs": [],
   "source": [
    "use std::convert::From;\n",
    "\n",
    "#[derive(Debug)]\n",
    "struct Number {\n",
    "    value: i32,\n",
    "}\n",
    "\n",
    "impl From<i32> for Number {\n",
    "    fn from(item: i32) -> Self {\n",
    "        Number { value: item }\n",
    "    }\n",
    "}\n",
    "\n",
    "fn main() {\n",
    "    let num = Number::from(30);\n",
    "    println!(\"My number is {:?}\", num);\n",
    "}"
   ]
  },
  {
   "cell_type": "code",
   "execution_count": 3,
   "id": "44894d72",
   "metadata": {},
   "outputs": [
    {
     "name": "stdout",
     "output_type": "stream",
     "text": [
      "My number is Number { value: 30 }\n"
     ]
    }
   ],
   "source": [
    "main();"
   ]
  },
  {
   "cell_type": "markdown",
   "id": "ef5d4bd5",
   "metadata": {},
   "source": [
    "## Into\n",
    "\n",
    "- Into 특성은 단순히 From 특성의 역수입니다. 즉, 유형에 대해 From 특성을 구현한 경우 Into는 필요할 때 이를 호출합니다.\n",
    "\n",
    "- 컴파일러가 대부분의 경우 이를 확인할 수 없기 때문에 Into 특성을 사용하려면 일반적으로 변환할 유형을 지정해야 합니다. "
   ]
  },
  {
   "cell_type": "code",
   "execution_count": 4,
   "id": "a8fb79ad",
   "metadata": {},
   "outputs": [],
   "source": [
    "use std::convert::From;\n",
    "\n",
    "#[derive(Debug)]\n",
    "struct Number {\n",
    "    value: i32,\n",
    "}\n",
    "\n",
    "impl From<i32> for Number {\n",
    "    fn from(item: i32) -> Self {\n",
    "        Number { value: item }\n",
    "    }\n",
    "}\n",
    "\n",
    "fn main() {\n",
    "    let int = 5;\n",
    "    // Try removing the type annotation\n",
    "    let num: Number = int.into();\n",
    "    println!(\"My number is {:?}\", num);\n",
    "}"
   ]
  },
  {
   "cell_type": "code",
   "execution_count": 5,
   "id": "dddded4a",
   "metadata": {},
   "outputs": [
    {
     "name": "stdout",
     "output_type": "stream",
     "text": [
      "My number is Number { value: 5 }\n"
     ]
    }
   ],
   "source": [
    "main();"
   ]
  },
  {
   "cell_type": "code",
   "execution_count": null,
   "id": "074a530c",
   "metadata": {},
   "outputs": [],
   "source": []
  }
 ],
 "metadata": {
  "kernelspec": {
   "display_name": "Rust",
   "language": "rust",
   "name": "rust"
  },
  "language_info": {
   "codemirror_mode": "rust",
   "file_extension": ".rs",
   "mimetype": "text/rust",
   "name": "Rust",
   "pygment_lexer": "rust",
   "version": ""
  }
 },
 "nbformat": 4,
 "nbformat_minor": 5
}
