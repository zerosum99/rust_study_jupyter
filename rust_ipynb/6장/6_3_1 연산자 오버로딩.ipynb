{
 "cells": [
  {
   "cell_type": "code",
   "execution_count": null,
   "id": "7cd1b5e2",
   "metadata": {},
   "outputs": [],
   "source": []
  },
  {
   "cell_type": "markdown",
   "id": "9ad6010d",
   "metadata": {},
   "source": [
    "## 연산자 오버로딩 \n",
    "\n",
    "- 다양한 연산자가 트레이트에 선언\n",
    "- 이를 구조체에 구현해서 연산자로 사용 가능 "
   ]
  },
  {
   "cell_type": "code",
   "execution_count": null,
   "id": "c5be76e2",
   "metadata": {},
   "outputs": [],
   "source": []
  },
  {
   "cell_type": "markdown",
   "id": "025bb4d8",
   "metadata": {},
   "source": [
    "## 덧셈 연산자 오버로딩 "
   ]
  },
  {
   "cell_type": "code",
   "execution_count": 7,
   "id": "3744114c",
   "metadata": {},
   "outputs": [],
   "source": [
    "use std::ops::Add;\n",
    "\n",
    "#[derive(Debug, PartialEq)]\n",
    "struct Point {\n",
    "    x: i32,\n",
    "    y: i32,\n",
    "}\n",
    "\n",
    "impl Add for Point {\n",
    "    type Output = Point;\n",
    "\n",
    "    fn add(self, other: Point) -> Point {\n",
    "        Point {\n",
    "            x: self.x + other.x,\n",
    "            y: self.y + other.y,\n",
    "        }\n",
    "    }\n",
    "}\n"
   ]
  },
  {
   "cell_type": "code",
   "execution_count": 8,
   "id": "88ec134e",
   "metadata": {},
   "outputs": [],
   "source": [
    "fn main() {\n",
    "    let p1 = Point { x: 1, y: 2 };\n",
    "    let p2 = Point { x: 3, y: 4 };\n",
    "    let p3 = p1 + p2;\n",
    "    assert_eq!(p3, Point { x: 4, y: 6 });\n",
    "    println!(\" 실행 종료\");\n",
    "}"
   ]
  },
  {
   "cell_type": "code",
   "execution_count": 9,
   "id": "97580b5c",
   "metadata": {},
   "outputs": [
    {
     "name": "stdout",
     "output_type": "stream",
     "text": [
      " 실행 종료\n"
     ]
    }
   ],
   "source": [
    "main();"
   ]
  },
  {
   "cell_type": "markdown",
   "id": "001ed5ee",
   "metadata": {},
   "source": [
    "## PartialEq trait를 구현하여 사용자 정의 타입에 대한 동치성 비교"
   ]
  },
  {
   "cell_type": "markdown",
   "id": "b8803cfc",
   "metadata": {},
   "source": [
    "### PartialEq trait를 구현하여 eq 메서드를 오버로딩\n",
    "\n",
    "- Person 구조체의 동치성 비교를 정의합니다.\n",
    "- ==/ != 연산자를 사용 "
   ]
  },
  {
   "cell_type": "code",
   "execution_count": 10,
   "id": "fc6db722",
   "metadata": {},
   "outputs": [],
   "source": [
    "#[derive(Debug)]\n",
    "struct Person {\n",
    "    name: String,\n",
    "    age: u32,\n",
    "}\n",
    "\n",
    "impl PartialEq for Person {\n",
    "    fn eq(&self, other: &Person) -> bool {\n",
    "        self.name == other.name && self.age == other.age\n",
    "    }\n",
    "}"
   ]
  },
  {
   "cell_type": "code",
   "execution_count": 13,
   "id": "391a2ad3",
   "metadata": {},
   "outputs": [],
   "source": [
    "fn main() {\n",
    "    let p1 = Person {\n",
    "        name: \"Alice\".to_string(),\n",
    "        age: 25,\n",
    "    };\n",
    "    let p2 = Person {\n",
    "        name: \"Bob\".to_string(),\n",
    "        age: 30,\n",
    "    };\n",
    "    let p3 = Person {\n",
    "        name: \"Alice\".to_string(),\n",
    "        age: 25,\n",
    "    };\n",
    "\n",
    "    println!(\"{:?}\", p1 != p2); // true\n",
    "    println!(\"{:?}\", p1 == p3); // true\n",
    "}"
   ]
  },
  {
   "cell_type": "code",
   "execution_count": 14,
   "id": "bce38366",
   "metadata": {},
   "outputs": [
    {
     "name": "stdout",
     "output_type": "stream",
     "text": [
      "true\n",
      "true\n"
     ]
    }
   ],
   "source": [
    "main();"
   ]
  },
  {
   "cell_type": "code",
   "execution_count": null,
   "id": "340a987f",
   "metadata": {},
   "outputs": [],
   "source": []
  },
  {
   "cell_type": "markdown",
   "id": "dfb34da1",
   "metadata": {},
   "source": [
    "## 비교와 순서 처리 "
   ]
  },
  {
   "cell_type": "code",
   "execution_count": null,
   "id": "9f3a7134",
   "metadata": {},
   "outputs": [],
   "source": []
  },
  {
   "cell_type": "code",
   "execution_count": 2,
   "id": "56094713",
   "metadata": {},
   "outputs": [],
   "source": [
    "use std::cmp::Ordering;\n",
    "\n",
    "#[derive(Debug, Clone)]\n",
    "struct User {\n",
    "    name: String,\n",
    "    age: u32,\n",
    "}\n",
    "\n",
    "impl Eq for User {}\n",
    "\n",
    "impl PartialEq for User {\n",
    "    fn eq(&self, other: &User) -> bool {\n",
    "        self.name == other.name && self.age == other.age\n",
    "    }\n",
    "}"
   ]
  },
  {
   "cell_type": "code",
   "execution_count": 3,
   "id": "58741494",
   "metadata": {},
   "outputs": [],
   "source": [
    "impl Ord for User {\n",
    "    fn cmp(&self, other: &Self) -> Ordering {\n",
    "        if self.name != other.name {\n",
    "            self.name.cmp(&other.name)\n",
    "        } else {\n",
    "            self.age.cmp(&other.age)\n",
    "        }\n",
    "    }\n",
    "}\n",
    "\n",
    "impl PartialOrd for User {\n",
    "    fn partial_cmp(&self, other: &Self) -> Option<Ordering> {\n",
    "        Some(self.cmp(other))\n",
    "    }\n",
    "}"
   ]
  },
  {
   "cell_type": "code",
   "execution_count": 4,
   "id": "66014c5e",
   "metadata": {},
   "outputs": [],
   "source": [
    "fn main() {\n",
    "    let p1 = User {\n",
    "        name: \"Alice\".to_string(),\n",
    "        age: 25,\n",
    "    };\n",
    "    let p2 = User {\n",
    "        name: \"Bob\".to_string(),\n",
    "        age: 30,\n",
    "    };\n",
    "    let p3 = User {\n",
    "        name: \"Alice\".to_string(),\n",
    "        age: 25,\n",
    "    };\n",
    "\n",
    "    println!(\"{:?}\", p1 == p2); // false\n",
    "    println!(\"{:?}\", p1 == p3); // true\n",
    "\n",
    "    let mut people = vec![p1.clone(), p2.clone(), p3.clone()];\n",
    "    people.sort();\n",
    "    println!(\"{:?}\", people); // [Person { name: \"Alice\", age: 25 }, Person { name: \"Bob\", age: 30 }, Person { name: \"Alice\", age: 25 }]\n",
    "}\n"
   ]
  },
  {
   "cell_type": "code",
   "execution_count": 5,
   "id": "3e6db20a",
   "metadata": {},
   "outputs": [
    {
     "name": "stdout",
     "output_type": "stream",
     "text": [
      "false\n",
      "true\n",
      "[User { name: \"Alice\", age: 25 }, User { name: \"Alice\", age: 25 }, User { name: \"Bob\", age: 30 }]\n"
     ]
    }
   ],
   "source": [
    "main();"
   ]
  },
  {
   "cell_type": "code",
   "execution_count": null,
   "id": "918f3616",
   "metadata": {},
   "outputs": [],
   "source": []
  }
 ],
 "metadata": {
  "kernelspec": {
   "display_name": "Rust",
   "language": "rust",
   "name": "rust"
  },
  "language_info": {
   "codemirror_mode": "rust",
   "file_extension": ".rs",
   "mimetype": "text/rust",
   "name": "Rust",
   "pygment_lexer": "rust",
   "version": ""
  }
 },
 "nbformat": 4,
 "nbformat_minor": 5
}
