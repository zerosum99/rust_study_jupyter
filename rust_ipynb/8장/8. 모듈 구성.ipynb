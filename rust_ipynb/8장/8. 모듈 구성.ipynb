{
 "cells": [
  {
   "cell_type": "markdown",
   "id": "d67ccea1",
   "metadata": {},
   "source": [
    "# 1. 모듈 구성하기"
   ]
  },
  {
   "cell_type": "markdown",
   "id": "b63358d2",
   "metadata": {},
   "source": [
    "## 1-1. 모듈을 파일 내부에 구성하기 "
   ]
  },
  {
   "cell_type": "code",
   "execution_count": 6,
   "id": "f56d3399",
   "metadata": {},
   "outputs": [],
   "source": [
    "pub mod a {\n",
    "    pub mod series {\n",
    "        pub mod of {\n",
    "            pub fn nested_function() {\n",
    "                println!(\" fo 내의 nested function\")\n",
    "            }\n",
    "        }\n",
    "    }\n",
    "}"
   ]
  },
  {
   "cell_type": "markdown",
   "id": "3c815c92",
   "metadata": {},
   "source": [
    "### 함수 내부에서 모듈 사용하기 "
   ]
  },
  {
   "cell_type": "code",
   "execution_count": 7,
   "id": "1acc22d0",
   "metadata": {},
   "outputs": [],
   "source": [
    "fn main() {\n",
    "    a::series::of::nested_function();\n",
    "}"
   ]
  },
  {
   "cell_type": "code",
   "execution_count": 8,
   "id": "3cb09a0e",
   "metadata": {},
   "outputs": [
    {
     "name": "stdout",
     "output_type": "stream",
     "text": [
      " fo 내의 nested function\n"
     ]
    },
    {
     "data": {
      "text/plain": [
       "()"
      ]
     },
     "execution_count": 8,
     "metadata": {},
     "output_type": "execute_result"
    }
   ],
   "source": [
    "main()"
   ]
  },
  {
   "cell_type": "code",
   "execution_count": null,
   "id": "b6377e9c",
   "metadata": {},
   "outputs": [],
   "source": []
  }
 ],
 "metadata": {
  "kernelspec": {
   "display_name": "Rust",
   "language": "rust",
   "name": "rust"
  },
  "language_info": {
   "codemirror_mode": "rust",
   "file_extension": ".rs",
   "mimetype": "text/rust",
   "name": "Rust",
   "pygment_lexer": "rust",
   "version": ""
  }
 },
 "nbformat": 4,
 "nbformat_minor": 5
}
