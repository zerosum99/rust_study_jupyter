{
 "cells": [
  {
   "cell_type": "markdown",
   "id": "be8badad",
   "metadata": {},
   "source": [
    "## 스마트 포인터 조합하기\n",
    "smart pointer는 한계가 있는 것처럼 보이지만, 조합해서 사용하면 매우 강력해질 수 있습니다.\n",
    "\n",
    "Rc<Vec<Foo>> - heap에 있는 immutable한 데이터 구조의 동일한 vector를 대여할 수 있는 복수의 smart pointer를 복제할 수 있게 해줍니다.\n",
    "\n",
    "Rc<RefCell<Foo>> - 복수의 smart pointer가 동일한 Foo struct를 mutable/immutable하게 대여할 수 있게 해줍니다.\n",
    "\n",
    "Arc<Mutex<Foo>> - 복수의 smart pointer가 임시의 mutable/immutable한 대여를 CPU 쓰레드 독점 방식으로 잠글 수 있게 해줍니다.\n",
    "\n",
    "메모리 상세:\n",
    "\n",
    "이런 조합이 많이 포함된 주제를 확인할 수 있을겁니다. 내부 데이터를 변경하기 위해 immutable한 데이터 유형(복수의 smart pointer가 소유할 수 있음)을 사용합니다. 이를 Rust에서는 \"내부 가변성\" 패턴이라고 합니다. \n",
    "이는 Rust의 컴파일 타임 체크와 동일 수준의 안전성으로 런타임의 메모리 사용 규칙을 변경할 수 있는 패턴입니다."
   ]
  },
  {
   "cell_type": "code",
   "execution_count": null,
   "id": "da6c31d4",
   "metadata": {},
   "outputs": [],
   "source": []
  },
  {
   "cell_type": "code",
   "execution_count": 2,
   "id": "8341386e",
   "metadata": {},
   "outputs": [],
   "source": [
    "use std::cell::RefCell;\n",
    "use std::rc::Rc;\n",
    "\n",
    "struct Pie {\n",
    "    slices: u8,\n",
    "}\n",
    "\n",
    "impl Pie {\n",
    "    fn eat_slice(&mut self, name: &str) {\n",
    "        println!(\"{}가 한 조각 먹었습니다!\", name);\n",
    "        self.slices -= 1;\n",
    "    }\n",
    "}\n",
    "\n",
    "struct SeaCreature {\n",
    "    name: String,\n",
    "    pie: Rc<RefCell<Pie>>,\n",
    "}\n",
    "\n",
    "impl SeaCreature {\n",
    "    fn eat(&self) {\n",
    "        // mutable 대여를 위해 파이에 대한 smart pointer를 사용\n",
    "        let mut p = self.pie.borrow_mut();\n",
    "        // 한 입 먹자!\n",
    "        p.eat_slice(&self.name);\n",
    "    }\n",
    "}\n",
    "\n",
    "fn main() {\n",
    "    let pie = Rc::new(RefCell::new(Pie { slices: 8 }));\n",
    "    // ferris와 sarah에겐 파이에 대한 smart pointer의 복제가 주어집니다\n",
    "    let ferris = SeaCreature {\n",
    "        name: String::from(\"ferris\"),\n",
    "        pie: pie.clone(),\n",
    "    };\n",
    "    let sarah = SeaCreature {\n",
    "        name: String::from(\"sarah\"),\n",
    "        pie: pie.clone(),\n",
    "    };\n",
    "    ferris.eat();\n",
    "    sarah.eat();\n",
    "\n",
    "    let p = pie.borrow();\n",
    "    println!(\"{} 조각 남았습니다\", p.slices);\n",
    "}\n",
    "\n",
    "\n"
   ]
  },
  {
   "cell_type": "code",
   "execution_count": null,
   "id": "2c8d114f",
   "metadata": {},
   "outputs": [],
   "source": []
  }
 ],
 "metadata": {
  "kernelspec": {
   "display_name": "Rust",
   "language": "rust",
   "name": "rust"
  },
  "language_info": {
   "codemirror_mode": "rust",
   "file_extension": ".rs",
   "mimetype": "text/rust",
   "name": "Rust",
   "pygment_lexer": "rust",
   "version": ""
  }
 },
 "nbformat": 4,
 "nbformat_minor": 5
}
