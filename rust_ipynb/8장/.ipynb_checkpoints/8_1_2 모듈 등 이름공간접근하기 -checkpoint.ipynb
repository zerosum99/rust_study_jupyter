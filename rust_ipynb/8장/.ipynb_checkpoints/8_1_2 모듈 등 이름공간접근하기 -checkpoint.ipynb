{
 "cells": [
  {
   "cell_type": "code",
   "execution_count": null,
   "id": "2382897b",
   "metadata": {},
   "outputs": [],
   "source": []
  },
  {
   "cell_type": "code",
   "execution_count": null,
   "id": "3743a0b2",
   "metadata": {},
   "outputs": [],
   "source": []
  },
  {
   "cell_type": "markdown",
   "id": "dae75cc0",
   "metadata": {},
   "source": [
    "## 열거형 또한 모듈과 비슷한 일종의 이름공간을 형성\n",
    "\n",
    "-  use 구문이건 하나의 이름공간으로부터 여러 개의 아이템을 가져"
   ]
  },
  {
   "cell_type": "code",
   "execution_count": 26,
   "id": "d22a380f",
   "metadata": {},
   "outputs": [],
   "source": [
    "enum TrafficLight {\n",
    "    Red,\n",
    "    Yellow,\n",
    "    Green,\n",
    "}"
   ]
  },
  {
   "cell_type": "code",
   "execution_count": 27,
   "id": "cecf9b0a",
   "metadata": {},
   "outputs": [],
   "source": [
    "use TrafficLight::{Red, Yellow};\n",
    "\n",
    "fn main() {\n",
    "    let red = Red;\n",
    "    let yellow = Yellow;\n",
    "    let green = TrafficLight::Green;\n",
    "    \n",
    "     println!(\"client mod public function !!!\")\n",
    "}"
   ]
  },
  {
   "cell_type": "code",
   "execution_count": 28,
   "id": "07aff083",
   "metadata": {},
   "outputs": [
    {
     "name": "stdout",
     "output_type": "stream",
     "text": [
      "client mod public function !!!\n"
     ]
    },
    {
     "data": {
      "text/plain": [
       "()"
      ]
     },
     "execution_count": 28,
     "metadata": {},
     "output_type": "execute_result"
    }
   ],
   "source": [
    "main()"
   ]
  },
  {
   "cell_type": "code",
   "execution_count": 29,
   "id": "5e18eed2",
   "metadata": {},
   "outputs": [],
   "source": [
    "use TrafficLight::*;\n",
    "\n",
    "fn main() {\n",
    "    let red = Red;\n",
    "    let yellow = Yellow;\n",
    "    let green = Green;\n",
    "    println!(\" xxx client mod public function !!!\")\n",
    "}"
   ]
  },
  {
   "cell_type": "code",
   "execution_count": 30,
   "id": "8b607efd",
   "metadata": {},
   "outputs": [
    {
     "name": "stdout",
     "output_type": "stream",
     "text": [
      " xxx client mod public function !!!\n"
     ]
    },
    {
     "data": {
      "text/plain": [
       "()"
      ]
     },
     "execution_count": 30,
     "metadata": {},
     "output_type": "execute_result"
    }
   ],
   "source": [
    "main()"
   ]
  },
  {
   "cell_type": "markdown",
   "id": "d29dfe03",
   "metadata": {},
   "source": [
    "## 모듈 이름공간 접근하기 "
   ]
  },
  {
   "cell_type": "code",
   "execution_count": null,
   "id": "97cd1a6e",
   "metadata": {},
   "outputs": [],
   "source": []
  },
  {
   "cell_type": "code",
   "execution_count": null,
   "id": "39740e4a",
   "metadata": {},
   "outputs": [],
   "source": []
  },
  {
   "cell_type": "markdown",
   "id": "7456a1b9",
   "metadata": {},
   "source": [
    "## super and self\n",
    "\n",
    "- super는 상위 모듈\n",
    "- self는 지금 모듈"
   ]
  },
  {
   "cell_type": "code",
   "execution_count": 2,
   "id": "65916a70",
   "metadata": {},
   "outputs": [],
   "source": [
    "mod cool {\n",
    "    pub fn function() {\n",
    "        println!(\"called `cool::function()`\");\n",
    "    }\n",
    "}"
   ]
  },
  {
   "cell_type": "code",
   "execution_count": 3,
   "id": "94b64aba",
   "metadata": {},
   "outputs": [],
   "source": [
    "fn function() {\n",
    "    println!(\"called `function()`\");\n",
    "}\n",
    "\n",
    "mod my {\n",
    "    fn function() {\n",
    "        println!(\"called `my::function()`\");\n",
    "    }\n",
    "    \n",
    "    mod cool {\n",
    "        pub fn function() {\n",
    "            println!(\"called `my::cool::function()`\");\n",
    "        }\n",
    "    }\n",
    "    \n",
    "    pub fn indirect_call() {\n",
    "        print!(\"called `my::indirect_call()`, that\\n> \");\n",
    "        \n",
    "        // 현재 모듈에 있는 함수 접근\n",
    "        self::function();\n",
    "        function();\n",
    "        \n",
    "        // 현재 모듈에서 coo 모듈 접근하고 그 내부의 함수 호출 \n",
    "        self::cool::function();\n",
    "        \n",
    "        // 상위 모듈에 있는 함수 호출 \n",
    "        super::function();\n",
    "        \n",
    "        // 내부 블럭에서도 use를 사용해서 접근이 가능하다. 또한 as를 사용해서 별칭 \n",
    "        {\n",
    "            use cool::function as root_function;\n",
    "            root_function();\n",
    "        }\n",
    "    }\n",
    "}\n"
   ]
  },
  {
   "cell_type": "code",
   "execution_count": 4,
   "id": "a0aecedf",
   "metadata": {},
   "outputs": [],
   "source": [
    "fn main() {\n",
    "    my::indirect_call();\n",
    "}\n"
   ]
  },
  {
   "cell_type": "code",
   "execution_count": 5,
   "id": "edc0d9fa",
   "metadata": {},
   "outputs": [
    {
     "name": "stdout",
     "output_type": "stream",
     "text": [
      "called `my::indirect_call()`, that\n",
      "> called `my::function()`\n",
      "called `my::function()`\n",
      "called `my::cool::function()`\n",
      "called `function()`\n",
      "called `my::cool::function()`\n"
     ]
    }
   ],
   "source": [
    "main();"
   ]
  },
  {
   "cell_type": "code",
   "execution_count": null,
   "id": "10675d98",
   "metadata": {},
   "outputs": [],
   "source": []
  }
 ],
 "metadata": {
  "kernelspec": {
   "display_name": "Rust",
   "language": "rust",
   "name": "rust"
  },
  "language_info": {
   "codemirror_mode": "rust",
   "file_extension": ".rs",
   "mimetype": "text/rust",
   "name": "Rust",
   "pygment_lexer": "rust",
   "version": ""
  }
 },
 "nbformat": 4,
 "nbformat_minor": 5
}
