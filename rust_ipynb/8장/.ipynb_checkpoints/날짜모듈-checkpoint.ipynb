{
 "cells": [
  {
   "cell_type": "code",
   "execution_count": null,
   "id": "ab375f40",
   "metadata": {},
   "outputs": [],
   "source": []
  },
  {
   "cell_type": "markdown",
   "id": "83faf0ee",
   "metadata": {},
   "source": [
    "## 기본 타임 모듈 사용"
   ]
  },
  {
   "cell_type": "code",
   "execution_count": 4,
   "id": "112bcc98",
   "metadata": {},
   "outputs": [],
   "source": [
    "use std::time::{Duration, Instant};\n",
    "\n",
    "fn main() {\n",
    "    let start = Instant::now();\n",
    "    expensive_function();\n",
    "    let duration = start.elapsed();\n",
    "\n",
    "    println!(\"Time elapsed in expensive_function() is: {:?}\", duration);\n",
    "}\n",
    "\n",
    "\n",
    "fn expensive_function() {\n",
    "    let mut result = 0;\n",
    "    for i in (1..=100) {\n",
    "         result = result + i;   \n",
    "    }\n",
    "    \n",
    "    println!(\" result {} \", result);\n",
    "}"
   ]
  },
  {
   "cell_type": "code",
   "execution_count": 5,
   "id": "af27f78a",
   "metadata": {},
   "outputs": [
    {
     "name": "stdout",
     "output_type": "stream",
     "text": [
      " result 5050 \n",
      "Time elapsed in expensive_function() is: 44.375µs\n"
     ]
    },
    {
     "data": {
      "text/plain": [
       "()"
      ]
     },
     "execution_count": 5,
     "metadata": {},
     "output_type": "execute_result"
    }
   ],
   "source": [
    "main()"
   ]
  },
  {
   "cell_type": "code",
   "execution_count": null,
   "id": "2348e65b",
   "metadata": {},
   "outputs": [],
   "source": []
  },
  {
   "cell_type": "markdown",
   "id": "4f9a2745",
   "metadata": {},
   "source": [
    "## 외부 모듈 사용 "
   ]
  },
  {
   "cell_type": "code",
   "execution_count": 6,
   "id": "d8e14317",
   "metadata": {},
   "outputs": [],
   "source": [
    ":dep chrono = \"0.4.24\""
   ]
  },
  {
   "cell_type": "code",
   "execution_count": 7,
   "id": "7562243a",
   "metadata": {},
   "outputs": [],
   "source": [
    "use chrono::{DateTime, Duration, Utc};\n",
    "\n",
    "fn day_earlier(date_time: DateTime<Utc>) -> Option<DateTime<Utc>> {\n",
    "    date_time.checked_sub_signed(Duration::days(1))\n",
    "}\n",
    "\n",
    "fn main() {\n",
    "    let now = Utc::now();\n",
    "    println!(\"{}\", now);\n",
    "\n",
    "    let almost_three_weeks_from_now = now.checked_add_signed(Duration::weeks(2))\n",
    "            .and_then(|in_2weeks| in_2weeks.checked_add_signed(Duration::weeks(1)))\n",
    "            .and_then(day_earlier);\n",
    "\n",
    "    match almost_three_weeks_from_now {\n",
    "        Some(x) => println!(\"{}\", x),\n",
    "        None => eprintln!(\"Almost three weeks from now overflows!\"),\n",
    "    }\n",
    "\n",
    "    match now.checked_add_signed(Duration::max_value()) {\n",
    "        Some(x) => println!(\"{}\", x),\n",
    "        None => eprintln!(\"We can't use chrono to tell the time for the Solar System to complete more than one full orbit around the galactic center.\"),\n",
    "    }\n",
    "}"
   ]
  },
  {
   "cell_type": "code",
   "execution_count": 8,
   "id": "f66f7c20",
   "metadata": {},
   "outputs": [
    {
     "name": "stdout",
     "output_type": "stream",
     "text": [
      "2023-04-21 00:09:05.396333 UTC\n",
      "2023-05-11 00:09:05.396333 UTC\n"
     ]
    },
    {
     "data": {
      "text/plain": [
       "()"
      ]
     },
     "execution_count": 8,
     "metadata": {},
     "output_type": "execute_result"
    },
    {
     "name": "stderr",
     "output_type": "stream",
     "text": [
      "We can't use chrono to tell the time for the Solar System to complete more than one full orbit around the galactic center.\n"
     ]
    }
   ],
   "source": [
    "main()"
   ]
  },
  {
   "cell_type": "code",
   "execution_count": null,
   "id": "a36f2dab",
   "metadata": {},
   "outputs": [],
   "source": []
  },
  {
   "cell_type": "markdown",
   "id": "8df0996f",
   "metadata": {},
   "source": [
    "## 지역 시간 "
   ]
  },
  {
   "cell_type": "code",
   "execution_count": 9,
   "id": "5ae66fd9",
   "metadata": {},
   "outputs": [],
   "source": [
    "use chrono::{DateTime, FixedOffset, Local, Utc};\n",
    "\n",
    "fn main() {\n",
    "    let local_time = Local::now();\n",
    "    let utc_time = DateTime::<Utc>::from_utc(local_time.naive_utc(), Utc);\n",
    "    let china_timezone = FixedOffset::east(8 * 3600);\n",
    "    let rio_timezone = FixedOffset::west(2 * 3600);\n",
    "    println!(\"Local time now is {}\", local_time);\n",
    "    println!(\"UTC time now is {}\", utc_time);\n",
    "    println!(\n",
    "        \"Time in Hong Kong now is {}\",\n",
    "        utc_time.with_timezone(&china_timezone)\n",
    "    );\n",
    "    println!(\"Time in Rio de Janeiro now is {}\", utc_time.with_timezone(&rio_timezone));\n",
    "}"
   ]
  },
  {
   "cell_type": "code",
   "execution_count": 10,
   "id": "37497240",
   "metadata": {},
   "outputs": [
    {
     "name": "stdout",
     "output_type": "stream",
     "text": [
      "Local time now is 2023-04-21 09:10:20.117535 +09:00\n",
      "UTC time now is 2023-04-21 00:10:20.117535 UTC\n",
      "Time in Hong Kong now is 2023-04-21 08:10:20.117535 +08:00\n",
      "Time in Rio de Janeiro now is 2023-04-20 22:10:20.117535 -02:00\n"
     ]
    },
    {
     "data": {
      "text/plain": [
       "()"
      ]
     },
     "execution_count": 10,
     "metadata": {},
     "output_type": "execute_result"
    }
   ],
   "source": [
    "main()"
   ]
  },
  {
   "cell_type": "code",
   "execution_count": null,
   "id": "95d89050",
   "metadata": {},
   "outputs": [],
   "source": []
  }
 ],
 "metadata": {
  "kernelspec": {
   "display_name": "Rust",
   "language": "rust",
   "name": "rust"
  },
  "language_info": {
   "codemirror_mode": "rust",
   "file_extension": ".rs",
   "mimetype": "text/rust",
   "name": "Rust",
   "pygment_lexer": "rust",
   "version": ""
  }
 },
 "nbformat": 4,
 "nbformat_minor": 5
}
