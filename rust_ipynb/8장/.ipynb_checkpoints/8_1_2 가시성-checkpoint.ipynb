{
 "cells": [
  {
   "cell_type": "code",
   "execution_count": null,
   "id": "0c8893a1",
   "metadata": {},
   "outputs": [],
   "source": []
  },
  {
   "cell_type": "markdown",
   "id": "b61b922c",
   "metadata": {},
   "source": [
    "## Rust에서 가시성(visibility) \n",
    "\n",
    "- 가시성은 모듈 시스템을 통해 구현됩니다. \n",
    "- 모듈은 관련된 코드를 묶어서 캡슐화하는데 사용되며, 모듈 내부에서 선언된 항목들에 대한 가시성을 제어할 수 있습니다.\n",
    "\n",
    "- Rust에서 가시성은 기본적으로 비공개(Private)입니다. \n",
    "- 즉, 모듈 내부에서만 접근이 가능합니다. 하지만 pub 예약어를 사용하여 항목을 공개(Public)할 수 있습니다. \n",
    "- 이러한 가시성 제한은 라이브러리나 큰 프로젝트에서 여러 모듈이 상호작용하면서 코드의 복잡도를 줄이고, 모듈 간 결합도를 낮추기 위해 중요합니다.\n"
   ]
  },
  {
   "cell_type": "code",
   "execution_count": null,
   "id": "deccbcd1",
   "metadata": {},
   "outputs": [],
   "source": []
  },
  {
   "cell_type": "markdown",
   "id": "d632400d",
   "metadata": {},
   "source": [
    "##  1.  가시성 제어를 위해 pub 키워드\n",
    "\n",
    "### pub 키워드는 아래와 같은 항목에서 사용될 수 있습니다.\n",
    "\n",
    "- 모듈\n",
    "- 열거형\n",
    "- 구조체/구조체 필드 \n",
    "- 함수\n",
    "- 메서드\n",
    "- 트레잇\n",
    "- 트레잇 메서드\n",
    "- 모듈 내의 멤버( 모듈을 포함한 모든 아이템) \n"
   ]
  },
  {
   "cell_type": "markdown",
   "id": "69ea023e",
   "metadata": {},
   "source": [
    "## 1-1 가시성 정의하기 "
   ]
  },
  {
   "cell_type": "code",
   "execution_count": 15,
   "id": "59a0e630",
   "metadata": {},
   "outputs": [],
   "source": [
    "mod my_module {\n",
    "    pub fn public_function() {\n",
    "        println!(\"This is a public function\");\n",
    "    }\n",
    "\n",
    "    pub(crate) fn private_function() {\n",
    "        println!(\"This is a private function\");\n",
    "    }\n",
    "}"
   ]
  },
  {
   "cell_type": "code",
   "execution_count": null,
   "id": "efc82c8c",
   "metadata": {},
   "outputs": [],
   "source": []
  },
  {
   "cell_type": "markdown",
   "id": "9e5ebb22",
   "metadata": {},
   "source": [
    "## 1-2 경로 참조 하기 \n",
    "\n",
    "- 러스트에서 :: 연산자는 경로(path) 구분자로 사용됩니다. 경로는 모듈, 열거형, 구조체, 함수 등의 이름을 지정하는 데 사용됩니다.\n",
    "\n",
    "- :: 연산자를 사용하여 경로를 지정할 때, 최상위(root) 모듈인 crate로부터 시작하여 하위 모듈을 지정합니다. 예를 들어, std::io::stdin() 함수는 std 모듈 내부의 io 모듈 내부의 stdin() 함수를 지정합니다.\n",
    "\n",
    "- 또한, :: 연산자는 관례적으로 스코프 연산자로 사용되기도 합니다. 이 때는 self:: 형태로 사용됩니다. self:: 연산자를 사용하여 현재 모듈 내에 선언된 항목을 참조할 수 있습니다. 예를 들어, self::foo()는 현재 모듈 내부의 foo() 함수를 참조합니다.\n",
    "\n",
    "- super:: 연산자를 사용하면 현재 모듈의 부모 모듈을 참조할 수 있습니다. 예를 들어, super::foo()는 현재 모듈의 부모 모듈 내부의 foo() 함수를 참조합니다."
   ]
  },
  {
   "cell_type": "code",
   "execution_count": 16,
   "id": "903f1882",
   "metadata": {},
   "outputs": [],
   "source": [
    "fn main() {\n",
    "    my_module::public_function();   // This is a public function\n",
    "    my_module::private_function();  // OK\n",
    "}"
   ]
  },
  {
   "cell_type": "code",
   "execution_count": 17,
   "id": "9fafa066",
   "metadata": {},
   "outputs": [
    {
     "name": "stdout",
     "output_type": "stream",
     "text": [
      "This is a public function\n",
      "This is a private function\n"
     ]
    }
   ],
   "source": [
    "main();"
   ]
  },
  {
   "cell_type": "code",
   "execution_count": null,
   "id": "6cfd8261",
   "metadata": {},
   "outputs": [],
   "source": []
  },
  {
   "cell_type": "markdown",
   "id": "9b6f374c",
   "metadata": {},
   "source": [
    "## 2.  가시성 제한자 및 경로 참조\n",
    "\n",
    "- pub : 공개된 항목으로, 모듈 외부에서도 접근 가능합니다.\n",
    "- pub(crate) : 해당 모듈 내부에서만 접근 가능한 공개 항목입니다.\n",
    "- pub(super) : 부모 모듈 내부에서만 접근 가능한 공개 항목입니다.\n",
    "- pub(in path) : 지정된 모듈 경로 내부에서만 접근 가능한 공개 항목입니다."
   ]
  },
  {
   "cell_type": "code",
   "execution_count": null,
   "id": "5b5c204e",
   "metadata": {},
   "outputs": [],
   "source": []
  },
  {
   "cell_type": "markdown",
   "id": "37e77a0d",
   "metadata": {},
   "source": [
    "## 2-1 pub(super) 예약어\n",
    "\n",
    "- 부모 모듈 내부에서만 접근 가능한 공개 항목을 정의할 수 있습니다."
   ]
  },
  {
   "cell_type": "code",
   "execution_count": 7,
   "id": "e037c465",
   "metadata": {},
   "outputs": [],
   "source": [
    "mod parent_module {\n",
    "    pub fn parent_public_function() {\n",
    "        println!(\"This is a parent public function\");\n",
    "        child_module::child_super_function();         // 상위 모델에서만 사용이 가능 \n",
    "    }\n",
    "\n",
    "    pub(crate) fn parent_private_function() {\n",
    "        println!(\"This is a parent private function\");\n",
    "    }\n",
    "\n",
    "    pub mod child_module {\n",
    "        pub fn child_public_function() {\n",
    "            println!(\"This is a child public function\");\n",
    "        }\n",
    "\n",
    "        pub(super) fn child_super_function() {\n",
    "            println!(\"This is a child super function\");\n",
    "        }\n",
    "    }\n",
    "}\n",
    "\n",
    "fn main() {\n",
    "    parent_module::parent_public_function();  // This is a parent public function\n",
    "    parent_module::parent_private_function(); // This is a parent private function\n",
    "    parent_module::child_module::child_public_function(); // This is a child public function\n",
    "    // parent_module::child_module::child_super_function(); // Error: function `child_super_function` is private\n",
    "}"
   ]
  },
  {
   "cell_type": "code",
   "execution_count": 8,
   "id": "564e25b3",
   "metadata": {},
   "outputs": [
    {
     "name": "stdout",
     "output_type": "stream",
     "text": [
      "This is a parent public function\n",
      "This is a child super function\n",
      "This is a parent private function\n",
      "This is a child public function\n"
     ]
    }
   ],
   "source": [
    "main();"
   ]
  },
  {
   "cell_type": "code",
   "execution_count": null,
   "id": "28fd6760",
   "metadata": {},
   "outputs": [],
   "source": []
  },
  {
   "cell_type": "markdown",
   "id": "c773e9d3",
   "metadata": {},
   "source": [
    "## 2-2.  pub(in path) \n",
    "\n",
    "- 특정 모듈 경로 내부에서만 접근 가능한 공개 항목을 정의할 수 있습니다. \n",
    "\n",
    "\n",
    "- child_internal_function은 pub(in crate::parent_module) 예약어를 사용하여 해당 함수의 가시성 범위를 parent_module 모듈 경로 내부로 제한"
   ]
  },
  {
   "cell_type": "code",
   "execution_count": 12,
   "id": "f4271502",
   "metadata": {},
   "outputs": [],
   "source": [
    "mod parent_module {\n",
    "    pub fn parent_public_function() {\n",
    "        println!(\"This is a parent public function\");\n",
    "        \n",
    "        child_module::child_internal_function()\n",
    "    }\n",
    "\n",
    "    pub(crate) fn parent_private_function() {\n",
    "        println!(\"This is a parent private function\");\n",
    "    }\n",
    "\n",
    "    pub mod child_module {\n",
    "        pub fn child_public_function() {\n",
    "            println!(\"This is a child public function\");\n",
    "        }\n",
    "\n",
    "        pub(in crate::parent_module) fn child_internal_function() {\n",
    "            println!(\"This is a child internal function\");\n",
    "        }\n",
    "    }\n",
    "}\n",
    "\n",
    "fn main() {\n",
    "    parent_module::parent_public_function(); // This is a parent public function\n",
    "    parent_module::parent_private_function(); // This is a parent private function\n",
    "    parent_module::child_module::child_public_function(); // This is a child public function\n",
    "    //parent_module::child_module::child_internal_function(); // This is a child internal function\n",
    "    // crate::parent_module::child_module::child_internal_function(); // Error: function `child_internal_function` is private\n",
    "}"
   ]
  },
  {
   "cell_type": "code",
   "execution_count": 13,
   "id": "f263d5c0",
   "metadata": {},
   "outputs": [
    {
     "name": "stdout",
     "output_type": "stream",
     "text": [
      "This is a parent public function\n",
      "This is a child internal function\n",
      "This is a parent private function\n",
      "This is a child public function\n"
     ]
    }
   ],
   "source": [
    "main();"
   ]
  },
  {
   "cell_type": "code",
   "execution_count": null,
   "id": "10ea27c5",
   "metadata": {},
   "outputs": [],
   "source": []
  }
 ],
 "metadata": {
  "kernelspec": {
   "display_name": "Rust",
   "language": "rust",
   "name": "rust"
  },
  "language_info": {
   "codemirror_mode": "rust",
   "file_extension": ".rs",
   "mimetype": "text/rust",
   "name": "Rust",
   "pygment_lexer": "rust",
   "version": ""
  }
 },
 "nbformat": 4,
 "nbformat_minor": 5
}
