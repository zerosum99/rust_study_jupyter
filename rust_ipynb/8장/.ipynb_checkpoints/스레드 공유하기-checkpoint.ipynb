{
 "cells": [
  {
   "cell_type": "code",
   "execution_count": null,
   "id": "7a7cafe6",
   "metadata": {},
   "outputs": [],
   "source": []
  },
  {
   "cell_type": "markdown",
   "id": "6cef0c24",
   "metadata": {},
   "source": [
    "## 쓰레드 간에 공유하기\n",
    "Mutex는 보통 smart pointer가 보유하는 컨테이너 데이터 구조로서, 데이터를 가져오거나 내부 데이터에 대한 mutable 또는 immutable한 참조를 대여할 수 있게 해줍니다. 이는 잠긴 대여를 통해 운영체제가 동시에 오직 하나의 CPU만 데이터에 접근 가능하도록 하고, 원래 쓰레드가 끝날 때까지 다른 쓰레드들을 막음으로써 대여가 남용되는 것을 방지합니다.\n",
    "\n",
    "멀티쓰레드는 Tour of Rust의 범위를 벗어나지만, Mutex는 여러 개의 CPU 쓰레드가 같은 데이터에 접근하는 것을 조율하는 근본적인 부분입니다.\n",
    "\n",
    "특별한 smart pointer인 Arc도 있는데, 쓰레드-안전성을 가진 참조 카운트 증가 방식을 사용한다는 것을 제외하고는 Rc와 동일합니다. 이는 동일한 Mutex에 다수의 참조를 가질 때 종종 사용되곤 합니다."
   ]
  },
  {
   "cell_type": "code",
   "execution_count": null,
   "id": "470b0eba",
   "metadata": {},
   "outputs": [],
   "source": []
  },
  {
   "cell_type": "code",
   "execution_count": 2,
   "id": "05dd365e",
   "metadata": {},
   "outputs": [],
   "source": [
    "use std::sync::Mutex;\n",
    "\n",
    "struct Pie;\n",
    "\n",
    "impl Pie {\n",
    "    fn eat(&self) {\n",
    "        println!(\"지금은 오직 나만이 파이를 먹는다!\");\n",
    "    }\n",
    "}\n",
    "\n",
    "fn main() {\n",
    "    let mutex_pie = Mutex::new(Pie);\n",
    "    // 파이에 대한 잠겨있는 immutable한 참조를 빌려봅시다\n",
    "    // lock은 실패할 수도 있기 때문에 그 결과는 unwrap 해야합니다\n",
    "    let ref_pie = mutex_pie.lock().unwrap();\n",
    "    ref_pie.eat();\n",
    "    // 잠긴 참조는 여기서 drop 되며, mutex로 보호되는 값은 다른 이에 의해 쓰일 수 있습니다\n",
    "}\n"
   ]
  },
  {
   "cell_type": "code",
   "execution_count": null,
   "id": "81e6574a",
   "metadata": {},
   "outputs": [],
   "source": []
  },
  {
   "cell_type": "code",
   "execution_count": null,
   "id": "e9ee20d2",
   "metadata": {},
   "outputs": [],
   "source": []
  }
 ],
 "metadata": {
  "kernelspec": {
   "display_name": "Rust",
   "language": "rust",
   "name": "rust"
  },
  "language_info": {
   "codemirror_mode": "rust",
   "file_extension": ".rs",
   "mimetype": "text/rust",
   "name": "Rust",
   "pygment_lexer": "rust",
   "version": ""
  }
 },
 "nbformat": 4,
 "nbformat_minor": 5
}
