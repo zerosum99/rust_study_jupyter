{
 "cells": [
  {
   "cell_type": "markdown",
   "id": "d67ccea1",
   "metadata": {},
   "source": [
    "# 1. 모듈 구성하기"
   ]
  },
  {
   "cell_type": "markdown",
   "id": "8ebdd8c4",
   "metadata": {},
   "source": [
    "## 1-1 가시성\n",
    "\n",
    "- pub 예약어를 사용해서 아이템들을 다른 모듈에서 접근이 가능하도록 지정한다.\n",
    "\n",
    "- 모듈::내부아이템 즉 :: 연산자로 모듈 내의 아이템을 접근한다."
   ]
  },
  {
   "cell_type": "markdown",
   "id": "8a553622",
   "metadata": {},
   "source": [
    "### 다른 모듈을 참조할 때 가시성이 없으면 에러"
   ]
  },
  {
   "cell_type": "code",
   "execution_count": 7,
   "id": "c086afd4",
   "metadata": {},
   "outputs": [
    {
     "ename": "Error",
     "evalue": "function `function` is private",
     "output_type": "error",
     "traceback": [
      "    outer::function(); ",
      "\u001b[91m           ^^^^^^^^\u001b[0m \u001b[94mprivate function\u001b[0m",
      "function `function` is private"
     ]
    },
    {
     "ename": "Error",
     "evalue": "module `inner` is private",
     "output_type": "error",
     "traceback": [
      "    outer::inner::nested_function(); ",
      "\u001b[91m           ^^^^^\u001b[0m \u001b[94mprivate module\u001b[0m",
      "module `inner` is private"
     ]
    }
   ],
   "source": [
    "mod outer {\n",
    "    fn function() {\n",
    "                println!(\" 모듈 내의 function\")\n",
    "    }\n",
    "    mod inner {\n",
    "        fn nested_function() {\n",
    "                println!(\" inner 내의 nested function\")\n",
    "            }\n",
    "    }\n",
    "}\n",
    "\n",
    "fn main() {\n",
    "    outer::function(); \n",
    "    outer::inner::nested_function(); \n",
    "}"
   ]
  },
  {
   "cell_type": "markdown",
   "id": "51143e5f",
   "metadata": {},
   "source": [
    "### 동일한 곳에서 모듈 내부를 참조\n",
    "\n",
    "- 모듈 내부의 함수에 가시성을 부여하면 참조가 가능"
   ]
  },
  {
   "cell_type": "code",
   "execution_count": 8,
   "id": "f6e4649c",
   "metadata": {},
   "outputs": [],
   "source": [
    "mod outer {\n",
    "    pub fn function() {\n",
    "                println!(\" 모듈 내의 function\")\n",
    "    }\n",
    "    \n",
    "}\n",
    "\n",
    "fn main() {\n",
    "    outer::function(); \n",
    "}"
   ]
  },
  {
   "cell_type": "markdown",
   "id": "3ee068a3",
   "metadata": {},
   "source": [
    "### 내포된 모듈 내의 아이템들도 외부 공개 가시성이면 참조가 가능"
   ]
  },
  {
   "cell_type": "code",
   "execution_count": 9,
   "id": "bf61ac72",
   "metadata": {},
   "outputs": [],
   "source": [
    "mod outer {\n",
    "    pub fn function() {\n",
    "                println!(\" 모듈 내의 function\")\n",
    "    }\n",
    "    pub mod inner {\n",
    "        pub fn nested_function() {\n",
    "                println!(\" inner 내의 nested function\")\n",
    "            }\n",
    "    }\n",
    "}\n",
    "\n",
    "fn main() {\n",
    "    outer::function(); \n",
    "    outer::inner::nested_function(); \n",
    "}"
   ]
  },
  {
   "cell_type": "code",
   "execution_count": 10,
   "id": "a8838b5e",
   "metadata": {},
   "outputs": [
    {
     "name": "stdout",
     "output_type": "stream",
     "text": [
      " 모듈 내의 function\n",
      " inner 내의 nested function\n"
     ]
    },
    {
     "data": {
      "text/plain": [
       "()"
      ]
     },
     "execution_count": 10,
     "metadata": {},
     "output_type": "execute_result"
    }
   ],
   "source": [
    "main()"
   ]
  },
  {
   "cell_type": "code",
   "execution_count": null,
   "id": "54a6d56f",
   "metadata": {},
   "outputs": [],
   "source": []
  },
  {
   "cell_type": "markdown",
   "id": "b63358d2",
   "metadata": {},
   "source": [
    "### 가시성을 제공하면 항상 접근이 가능하다 "
   ]
  },
  {
   "cell_type": "code",
   "execution_count": 11,
   "id": "f56d3399",
   "metadata": {},
   "outputs": [],
   "source": [
    "pub mod a {\n",
    "    pub mod series {\n",
    "        pub mod of {\n",
    "            pub fn nested_function() {\n",
    "                println!(\" fo 내의 nested function\")\n",
    "            }\n",
    "        }\n",
    "    }\n",
    "}"
   ]
  },
  {
   "cell_type": "markdown",
   "id": "3c815c92",
   "metadata": {},
   "source": [
    "### 함수 내부에서 모듈 사용하기 "
   ]
  },
  {
   "cell_type": "code",
   "execution_count": 12,
   "id": "1acc22d0",
   "metadata": {},
   "outputs": [],
   "source": [
    "fn main() {\n",
    "    a::series::of::nested_function();\n",
    "}"
   ]
  },
  {
   "cell_type": "code",
   "execution_count": 13,
   "id": "3cb09a0e",
   "metadata": {},
   "outputs": [
    {
     "name": "stdout",
     "output_type": "stream",
     "text": [
      " fo 내의 nested function\n"
     ]
    },
    {
     "data": {
      "text/plain": [
       "()"
      ]
     },
     "execution_count": 13,
     "metadata": {},
     "output_type": "execute_result"
    }
   ],
   "source": [
    "main()"
   ]
  },
  {
   "cell_type": "code",
   "execution_count": null,
   "id": "b6377e9c",
   "metadata": {},
   "outputs": [],
   "source": []
  },
  {
   "cell_type": "markdown",
   "id": "26c916a6",
   "metadata": {},
   "source": [
    "## Use 를 사용해서 다른 모듈이나 아이템 접근하기 \n",
    "\n",
    "- 그레이트 모듈 등을 접근하기 위한 경로를 지정\n",
    "- 다른 언어의 import와 유사"
   ]
  },
  {
   "cell_type": "code",
   "execution_count": 16,
   "id": "7e593191",
   "metadata": {},
   "outputs": [],
   "source": [
    "mod deeply {\n",
    "    pub mod nested {\n",
    "        pub fn function() {\n",
    "            println!(\"called `deeply::nested::function()`\");\n",
    "        }\n",
    "    }\n",
    "}\n"
   ]
  },
  {
   "cell_type": "code",
   "execution_count": 17,
   "id": "20f3de0c",
   "metadata": {},
   "outputs": [],
   "source": [
    "// Bind the `deeply::nested::function` path to `other_function`.\n",
    "use deeply::nested::function as other_function;\n",
    "\n",
    "fn function() {\n",
    "    println!(\"called `function()`\");\n",
    "}\n",
    "\n",
    "fn main() {\n",
    "    // Easier access to `deeply::nested::function`\n",
    "    other_function();\n",
    "\n",
    "    println!(\"Entering block\");\n",
    "    {\n",
    "        // This is equivalent to `use deeply::nested::function as function`.\n",
    "        // This `function()` will shadow the outer one.\n",
    "        use deeply::nested::function;\n",
    "        function();\n",
    "\n",
    "        // `use` bindings have a local scope. In this case, the\n",
    "        // shadowing of `function()` is only in this block.\n",
    "        println!(\"Leaving block\");\n",
    "    }\n",
    "\n",
    "    function();\n",
    "}\n"
   ]
  },
  {
   "cell_type": "code",
   "execution_count": 18,
   "id": "3bb53b77",
   "metadata": {},
   "outputs": [
    {
     "name": "stdout",
     "output_type": "stream",
     "text": [
      "called `deeply::nested::function()`\n",
      "Entering block\n",
      "called `deeply::nested::function()`\n",
      "Leaving block\n",
      "called `function()`\n"
     ]
    },
    {
     "data": {
      "text/plain": [
       "()"
      ]
     },
     "execution_count": 18,
     "metadata": {},
     "output_type": "execute_result"
    }
   ],
   "source": [
    "main()"
   ]
  },
  {
   "cell_type": "code",
   "execution_count": null,
   "id": "c0830327",
   "metadata": {},
   "outputs": [],
   "source": []
  },
  {
   "cell_type": "markdown",
   "id": "59dff358",
   "metadata": {},
   "source": [
    "## super and self\n",
    "\n",
    "- super는 상위 모듈\n",
    "- self는 지금 모듈"
   ]
  },
  {
   "cell_type": "code",
   "execution_count": 22,
   "id": "41c8fda8",
   "metadata": {},
   "outputs": [],
   "source": [
    "mod cool {\n",
    "    pub fn function() {\n",
    "        println!(\"called `cool::function()`\");\n",
    "    }\n",
    "}"
   ]
  },
  {
   "cell_type": "code",
   "execution_count": 25,
   "id": "cc7dfafe",
   "metadata": {},
   "outputs": [],
   "source": [
    "fn function() {\n",
    "    println!(\"called `function()`\");\n",
    "}\n",
    "\n",
    "mod my {\n",
    "    fn function() {\n",
    "        println!(\"called `my::function()`\");\n",
    "    }\n",
    "    \n",
    "    mod cool {\n",
    "        pub fn function() {\n",
    "            println!(\"called `my::cool::function()`\");\n",
    "        }\n",
    "    }\n",
    "    \n",
    "    pub fn indirect_call() {\n",
    "        print!(\"called `my::indirect_call()`, that\\n> \");\n",
    "        \n",
    "        // 현재 모듈에 있는 함수 접근\n",
    "        self::function();\n",
    "        function();\n",
    "        \n",
    "        // 현재 모듈에서 coo 모듈 접근하고 그 내부의 함수 호출 \n",
    "        self::cool::function();\n",
    "        \n",
    "        // 상위 모듈에 있는 함수 호출 \n",
    "        super::function();\n",
    "        \n",
    "        // 내부 블럭에서도 use를 사용해서 접근이 가능하다. 또한 as를 사용해서 별칭 \n",
    "        {\n",
    "            use cool::function as root_function;\n",
    "            root_function();\n",
    "        }\n",
    "    }\n",
    "}\n"
   ]
  },
  {
   "cell_type": "code",
   "execution_count": 26,
   "id": "61a94d54",
   "metadata": {},
   "outputs": [],
   "source": [
    "fn main() {\n",
    "    my::indirect_call();\n",
    "}\n"
   ]
  },
  {
   "cell_type": "code",
   "execution_count": 21,
   "id": "91b9532c",
   "metadata": {},
   "outputs": [
    {
     "name": "stdout",
     "output_type": "stream",
     "text": [
      "called `my::indirect_call()`, that\n",
      "> called `my::function()`\n",
      "called `my::function()`\n",
      "called `my::cool::function()`\n",
      "called `function()`\n",
      "called `my::cool::function()`\n"
     ]
    },
    {
     "data": {
      "text/plain": [
       "()"
      ]
     },
     "execution_count": 21,
     "metadata": {},
     "output_type": "execute_result"
    }
   ],
   "source": [
    "main()"
   ]
  },
  {
   "cell_type": "code",
   "execution_count": null,
   "id": "26745cf8",
   "metadata": {},
   "outputs": [],
   "source": []
  }
 ],
 "metadata": {
  "kernelspec": {
   "display_name": "Rust",
   "language": "rust",
   "name": "rust"
  },
  "language_info": {
   "codemirror_mode": "rust",
   "file_extension": ".rs",
   "mimetype": "text/rust",
   "name": "Rust",
   "pygment_lexer": "rust",
   "version": ""
  }
 },
 "nbformat": 4,
 "nbformat_minor": 5
}
