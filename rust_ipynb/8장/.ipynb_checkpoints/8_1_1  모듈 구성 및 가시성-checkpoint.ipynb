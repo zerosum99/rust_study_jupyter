{
 "cells": [
  {
   "cell_type": "markdown",
   "id": "d67ccea1",
   "metadata": {},
   "source": [
    "# 1. 모듈 구성하기"
   ]
  },
  {
   "cell_type": "markdown",
   "id": "9c98e4af",
   "metadata": {},
   "source": [
    "## 1-1 가시성\n",
    "\n",
    "- pub 예약어를 사용해서 아이템들을 다른 모듈에서 접근이 가능하도록 지정한다.\n",
    "\n",
    "- 모듈::내부아이템 즉 :: 연산자로 모듈 내의 아이템을 접근한다."
   ]
  },
  {
   "cell_type": "markdown",
   "id": "2b03c780",
   "metadata": {},
   "source": [
    "### 다른 모듈을 참조할 때 가시성이 없으면 에러"
   ]
  },
  {
   "cell_type": "code",
   "execution_count": 7,
   "id": "5334349b",
   "metadata": {},
   "outputs": [
    {
     "ename": "Error",
     "evalue": "function `function` is private",
     "output_type": "error",
     "traceback": [
      "    outer::function(); ",
      "\u001b[91m           ^^^^^^^^\u001b[0m \u001b[94mprivate function\u001b[0m",
      "function `function` is private"
     ]
    },
    {
     "ename": "Error",
     "evalue": "module `inner` is private",
     "output_type": "error",
     "traceback": [
      "    outer::inner::nested_function(); ",
      "\u001b[91m           ^^^^^\u001b[0m \u001b[94mprivate module\u001b[0m",
      "module `inner` is private"
     ]
    }
   ],
   "source": [
    "mod outer {\n",
    "    fn function() {\n",
    "                println!(\" 모듈 내의 function\")\n",
    "    }\n",
    "    mod inner {\n",
    "        fn nested_function() {\n",
    "                println!(\" inner 내의 nested function\")\n",
    "            }\n",
    "    }\n",
    "}\n",
    "\n",
    "fn main() {\n",
    "    outer::function(); \n",
    "    outer::inner::nested_function(); \n",
    "}"
   ]
  },
  {
   "cell_type": "markdown",
   "id": "7c98c484",
   "metadata": {},
   "source": [
    "### 동일한 곳에서 모듈 내부를 참조\n",
    "\n",
    "- 모듈 내부의 함수에 가시성을 부여하면 참조가 가능"
   ]
  },
  {
   "cell_type": "code",
   "execution_count": 8,
   "id": "b6c7a691",
   "metadata": {},
   "outputs": [],
   "source": [
    "mod outer {\n",
    "    pub fn function() {\n",
    "                println!(\" 모듈 내의 function\")\n",
    "    }\n",
    "    \n",
    "}\n",
    "\n",
    "fn main() {\n",
    "    outer::function(); \n",
    "}"
   ]
  },
  {
   "cell_type": "markdown",
   "id": "c1cf98b0",
   "metadata": {},
   "source": [
    "### 내포된 모듈 내의 아이템들도 외부 공개 가시성이면 참조가 가능"
   ]
  },
  {
   "cell_type": "code",
   "execution_count": 9,
   "id": "948c63b1",
   "metadata": {},
   "outputs": [],
   "source": [
    "mod outer {\n",
    "    pub fn function() {\n",
    "                println!(\" 모듈 내의 function\")\n",
    "    }\n",
    "    pub mod inner {\n",
    "        pub fn nested_function() {\n",
    "                println!(\" inner 내의 nested function\")\n",
    "            }\n",
    "    }\n",
    "}\n",
    "\n",
    "fn main() {\n",
    "    outer::function(); \n",
    "    outer::inner::nested_function(); \n",
    "}"
   ]
  },
  {
   "cell_type": "code",
   "execution_count": 10,
   "id": "1d8ee737",
   "metadata": {},
   "outputs": [
    {
     "name": "stdout",
     "output_type": "stream",
     "text": [
      " 모듈 내의 function\n",
      " inner 내의 nested function\n"
     ]
    },
    {
     "data": {
      "text/plain": [
       "()"
      ]
     },
     "execution_count": 10,
     "metadata": {},
     "output_type": "execute_result"
    }
   ],
   "source": [
    "main()"
   ]
  },
  {
   "cell_type": "code",
   "execution_count": null,
   "id": "e51666d9",
   "metadata": {},
   "outputs": [],
   "source": []
  },
  {
   "cell_type": "markdown",
   "id": "b63358d2",
   "metadata": {},
   "source": [
    "### 가시성을 제공하면 항상 접근이 가능하다 "
   ]
  },
  {
   "cell_type": "code",
   "execution_count": 11,
   "id": "f56d3399",
   "metadata": {},
   "outputs": [],
   "source": [
    "pub mod a {\n",
    "    pub mod series {\n",
    "        pub mod of {\n",
    "            pub fn nested_function() {\n",
    "                println!(\" fo 내의 nested function\")\n",
    "            }\n",
    "        }\n",
    "    }\n",
    "}"
   ]
  },
  {
   "cell_type": "markdown",
   "id": "3c815c92",
   "metadata": {},
   "source": [
    "### 함수 내부에서 모듈 사용하기 "
   ]
  },
  {
   "cell_type": "code",
   "execution_count": 12,
   "id": "1acc22d0",
   "metadata": {},
   "outputs": [],
   "source": [
    "fn main() {\n",
    "    a::series::of::nested_function();\n",
    "}"
   ]
  },
  {
   "cell_type": "code",
   "execution_count": 13,
   "id": "3cb09a0e",
   "metadata": {},
   "outputs": [
    {
     "name": "stdout",
     "output_type": "stream",
     "text": [
      " fo 내의 nested function\n"
     ]
    },
    {
     "data": {
      "text/plain": [
       "()"
      ]
     },
     "execution_count": 13,
     "metadata": {},
     "output_type": "execute_result"
    }
   ],
   "source": [
    "main()"
   ]
  },
  {
   "cell_type": "code",
   "execution_count": null,
   "id": "b6377e9c",
   "metadata": {},
   "outputs": [],
   "source": []
  },
  {
   "cell_type": "markdown",
   "id": "6d25c3f9",
   "metadata": {},
   "source": [
    "## Use 를 사용해서 다른 모듈이나 아이템 접근하기 \n",
    "\n",
    "- 그레이트 모듈 등을 접근하기 위한 경로를 지정\n",
    "- 다른 언어의 import와 유사"
   ]
  },
  {
   "cell_type": "code",
   "execution_count": 16,
   "id": "2db2d553",
   "metadata": {},
   "outputs": [],
   "source": [
    "mod deeply {\n",
    "    pub mod nested {\n",
    "        pub fn function() {\n",
    "            println!(\"called `deeply::nested::function()`\");\n",
    "        }\n",
    "    }\n",
    "}\n"
   ]
  },
  {
   "cell_type": "code",
   "execution_count": 17,
   "id": "0d067855",
   "metadata": {},
   "outputs": [],
   "source": [
    "// Bind the `deeply::nested::function` path to `other_function`.\n",
    "use deeply::nested::function as other_function;\n",
    "\n",
    "fn function() {\n",
    "    println!(\"called `function()`\");\n",
    "}\n",
    "\n",
    "fn main() {\n",
    "    // Easier access to `deeply::nested::function`\n",
    "    other_function();\n",
    "\n",
    "    println!(\"Entering block\");\n",
    "    {\n",
    "        // This is equivalent to `use deeply::nested::function as function`.\n",
    "        // This `function()` will shadow the outer one.\n",
    "        use deeply::nested::function;\n",
    "        function();\n",
    "\n",
    "        // `use` bindings have a local scope. In this case, the\n",
    "        // shadowing of `function()` is only in this block.\n",
    "        println!(\"Leaving block\");\n",
    "    }\n",
    "\n",
    "    function();\n",
    "}\n"
   ]
  },
  {
   "cell_type": "code",
   "execution_count": 18,
   "id": "87786ee4",
   "metadata": {},
   "outputs": [
    {
     "name": "stdout",
     "output_type": "stream",
     "text": [
      "called `deeply::nested::function()`\n",
      "Entering block\n",
      "called `deeply::nested::function()`\n",
      "Leaving block\n",
      "called `function()`\n"
     ]
    },
    {
     "data": {
      "text/plain": [
       "()"
      ]
     },
     "execution_count": 18,
     "metadata": {},
     "output_type": "execute_result"
    }
   ],
   "source": [
    "main()"
   ]
  },
  {
   "cell_type": "code",
   "execution_count": null,
   "id": "aef98827",
   "metadata": {},
   "outputs": [],
   "source": []
  },
  {
   "cell_type": "code",
   "execution_count": null,
   "id": "d3bac294",
   "metadata": {},
   "outputs": [],
   "source": []
  }
 ],
 "metadata": {
  "kernelspec": {
   "display_name": "Rust",
   "language": "rust",
   "name": "rust"
  },
  "language_info": {
   "codemirror_mode": "rust",
   "file_extension": ".rs",
   "mimetype": "text/rust",
   "name": "Rust",
   "pygment_lexer": "rust",
   "version": ""
  }
 },
 "nbformat": 4,
 "nbformat_minor": 5
}
