{
 "cells": [
  {
   "cell_type": "code",
   "execution_count": null,
   "id": "a3e9cae6",
   "metadata": {},
   "outputs": [],
   "source": []
  },
  {
   "cell_type": "markdown",
   "id": "fea05f1c",
   "metadata": {},
   "source": [
    "## 참조 카운팅\n",
    "Rc는 stack에 있는 데이터를 heap으로 옮겨주는 smart pointer입니다. 이는 heap에 놓인 데이터를 immutable하게 대여하는 기능을 가진 다른 Rc smart pointer들을 복제할 수 있게 해줍니다.\n",
    "\n",
    "마지막 smart pointer가 drop 될 때에만 heap에 있는 데이터가 할당 해제됩니다."
   ]
  },
  {
   "cell_type": "code",
   "execution_count": null,
   "id": "8abbecba",
   "metadata": {},
   "outputs": [],
   "source": []
  },
  {
   "cell_type": "code",
   "execution_count": 2,
   "id": "54927d54",
   "metadata": {},
   "outputs": [],
   "source": [
    "use std::rc::Rc;\n",
    "\n",
    "struct Pie;\n",
    "\n",
    "impl Pie {\n",
    "    fn eat(&self) {\n",
    "        println!(\"heap에 있으니 더 맛있습니다!\")\n",
    "    }\n",
    "}\n",
    "\n",
    "fn main() {\n",
    "    let heap_pie = Rc::new(Pie);\n",
    "    let heap_pie2 = heap_pie.clone();\n",
    "    let heap_pie3 = heap_pie2.clone();\n",
    "\n",
    "    heap_pie3.eat();\n",
    "    heap_pie2.eat();\n",
    "    heap_pie.eat();\n",
    "\n",
    "    // 모든 참조 카운트 smart pointer가 여기서 drop 됩니다\n",
    "    // heap 데이터인 Pie가 드디어 할당 해제됩니다\n",
    "}\n"
   ]
  },
  {
   "cell_type": "code",
   "execution_count": 3,
   "id": "4a2390ca",
   "metadata": {},
   "outputs": [
    {
     "name": "stdout",
     "output_type": "stream",
     "text": [
      "heap에 있으니 더 맛있습니다!\n",
      "heap에 있으니 더 맛있습니다!\n",
      "heap에 있으니 더 맛있습니다!\n"
     ]
    }
   ],
   "source": [
    "main();"
   ]
  },
  {
   "cell_type": "code",
   "execution_count": null,
   "id": "2f8b4ce3",
   "metadata": {},
   "outputs": [],
   "source": []
  }
 ],
 "metadata": {
  "kernelspec": {
   "display_name": "Rust",
   "language": "rust",
   "name": "rust"
  },
  "language_info": {
   "codemirror_mode": "rust",
   "file_extension": ".rs",
   "mimetype": "text/rust",
   "name": "Rust",
   "pygment_lexer": "rust",
   "version": ""
  }
 },
 "nbformat": 4,
 "nbformat_minor": 5
}
