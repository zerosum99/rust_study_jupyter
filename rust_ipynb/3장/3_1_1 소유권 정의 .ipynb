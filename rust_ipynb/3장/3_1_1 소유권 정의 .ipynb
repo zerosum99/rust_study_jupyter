{
 "cells": [
  {
   "cell_type": "markdown",
   "id": "2f7fbcb9",
   "metadata": {},
   "source": [
    "# 1. 소유자와 소유권 알아보기 \n",
    "\n",
    "- 소유자는 변수이고 소유권은 값에 있다. \n",
    "- 그래서 변수를 정의하면 소유자에게 소유권이 할당된다. \n",
    "- 변수를 정의할 때는 let과 let mut으로 지정한다. 이때 값이 할당되어 소유권을 가진다.  \n",
    "- 변수를 블럭단위로 정의하므로 변수의 유효범위는 해당 블럭이다. 이를 스코프라고 한다."
   ]
  },
  {
   "cell_type": "markdown",
   "id": "f90fbe91",
   "metadata": {},
   "source": [
    "### 소유자(Owner)는 해당 값을 가지고 있는 변수를 의미\n",
    "### 소유권(Ownership)은 변수가 해당 값의 소유를 가지고 있다는 것을 의미\n",
    "\n",
    "\n",
    "### 소유권 시스템은 다음과 같은 규칙을 가지고 있습니다.\n",
    "\n",
    "- 각 값은 해당 값의 소유자가 있습니다.\n",
    "- 한 번에 하나의 소유자만이 해당 값의 소유자가 될 수 있습니다.\n",
    "- 소유자는 값의 생명주기 동안 유효합니다.\n",
    "- 소유자가 범위를 벗어나면 해당 값은 소멸됩니다.\n",
    "- 값에 대한 참조(빌림)는 소유권을 이전하지 않습니다.\n",
    "\n",
    "즉, 소유자가 범위를 벗어나면 해당 값은 소멸되기 때문에, 값을 참조하는 빌림이 있을 경우 소유자가 값을 사용할 수 없게 됩니다.\n",
    "이를 통해 Rust는 메모리 안전성을 보장하고, 다른 언어에서 발생할 수 있는 다양한 버그를 방지합니다."
   ]
  },
  {
   "cell_type": "code",
   "execution_count": null,
   "id": "ee5d6dca",
   "metadata": {},
   "outputs": [],
   "source": []
  },
  {
   "cell_type": "markdown",
   "id": "c983998e",
   "metadata": {},
   "source": [
    "## 1-1  소유권 시스템은 다음과 같은 규칙을 가지고 있습니다.\n",
    "\n",
    "- 각 값은 해당 값의 소유자가 있습니다.\n",
    "- 한 번에 하나의 소유자만이 해당 값의 소유자가 될 수 있습니다.\n",
    "- 소유자는 값의 생명주기 동안 유효합니다.\n",
    "- 소유자가 범위를 벗어나면 해당 값은 소멸됩니다.\n",
    "- 값에 대한 참조(빌림)는 소유권을 이전하지 않습니다."
   ]
  },
  {
   "cell_type": "markdown",
   "id": "f65f9633",
   "metadata": {},
   "source": [
    "### 각 값은 해당 값의 소유자가 있습니다.\n",
    "### 한 번에 하나의 소유자만이 해당 값의 소유자가 될 수 있습니다."
   ]
  },
  {
   "cell_type": "code",
   "execution_count": 2,
   "id": "4484745a",
   "metadata": {},
   "outputs": [],
   "source": [
    "fn main() {\n",
    "    let x = 5; // x는 5의 소유자입니다.\n",
    "    let y = x; // x의 값을 y에 대입하여 y가 5의 소유자가 됩니다.\n",
    "    println!(\"x = {}, y = {}\", x, y); // x와 y 모두 5의 소유자입니다.\n",
    "}"
   ]
  },
  {
   "cell_type": "code",
   "execution_count": 3,
   "id": "47599e46",
   "metadata": {},
   "outputs": [
    {
     "name": "stdout",
     "output_type": "stream",
     "text": [
      "x = 5, y = 5\n"
     ]
    }
   ],
   "source": [
    "main();"
   ]
  },
  {
   "cell_type": "code",
   "execution_count": null,
   "id": "7e364446",
   "metadata": {},
   "outputs": [],
   "source": []
  },
  {
   "cell_type": "code",
   "execution_count": 4,
   "id": "43228e1a",
   "metadata": {},
   "outputs": [],
   "source": [
    "fn main() {\n",
    "    let x = String::from(\"hello\"); // x는 String 값 \"hello\"의 소유자입니다.\n",
    "    let y = x; // x의 소유권이 y로 이전됩니다.\n",
    "    // println!(\"x = {}\", x); // 에러! x의 소유권은 이전되었기 때문에 사용할 수 없습니다.\n",
    "    println!(\"y = {}\", y); // y는 \"hello\"의 소유자입니다.\n",
    "}"
   ]
  },
  {
   "cell_type": "code",
   "execution_count": 5,
   "id": "c3e7e37c",
   "metadata": {},
   "outputs": [
    {
     "name": "stdout",
     "output_type": "stream",
     "text": [
      "y = hello\n"
     ]
    }
   ],
   "source": [
    "main();"
   ]
  },
  {
   "cell_type": "markdown",
   "id": "30112e27",
   "metadata": {},
   "source": [
    "### 소유자는 값의 생명주기 동안 유효합니다.\n",
    "### 소유자가 범위를 벗어나면 해당 값은 소멸됩니다."
   ]
  },
  {
   "cell_type": "code",
   "execution_count": 6,
   "id": "9b2265a6",
   "metadata": {},
   "outputs": [],
   "source": [
    "fn main() {\n",
    "    let s1 = String::from(\"hello\"); // s1이 String 타입의 값을 소유합니다.\n",
    "\n",
    "    let s2 = s1; // s1의 소유권이 s2로 이전되었습니다. s1은 더 이상 유효하지 않습니다.\n",
    "\n",
    "    println!(\"{}\", s2); // s2는 여전히 값을 소유하고 있으므로, \"hello\"가 출력됩니다.\n",
    "} // s2가 스코프를 벗어나면, 소유하던 값의 메모리가 해제됩니다."
   ]
  },
  {
   "cell_type": "code",
   "execution_count": 7,
   "id": "4a20155c",
   "metadata": {},
   "outputs": [
    {
     "name": "stdout",
     "output_type": "stream",
     "text": [
      "hello\n"
     ]
    }
   ],
   "source": [
    "main();"
   ]
  },
  {
   "cell_type": "markdown",
   "id": "998d5c5f",
   "metadata": {},
   "source": [
    "### 범위에 따라 이동된 경우도 소유권은 사라진다"
   ]
  },
  {
   "cell_type": "code",
   "execution_count": 8,
   "id": "058f9fb6",
   "metadata": {},
   "outputs": [
    {
     "ename": "Error",
     "evalue": "borrow of moved value: `x`",
     "output_type": "error",
     "traceback": [
      "        let y = x; // x의 소유권이 y로 이전됨",
      "\u001b[91m                ^\u001b[0m \u001b[94mvalue moved here\u001b[0m",
      "    println!(\"{}\", x); // 컴파일 오류 발생",
      "\u001b[91m                   ^\u001b[0m \u001b[94mvalue borrowed here after move\u001b[0m",
      "    let x = String::from(\"Hello\"); // x는 스코프에 들어감",
      "\u001b[91m        ^\u001b[0m \u001b[94mmove occurs because `x` has type `String`, which does not implement the `Copy` trait\u001b[0m",
      "borrow of moved value: `x`"
     ]
    }
   ],
   "source": [
    "fn main() {\n",
    "    let x = String::from(\"Hello\"); // x는 스코프에 들어감\n",
    "    if true {\n",
    "        let y = x; // x의 소유권이 y로 이전됨\n",
    "        println!(\"{}\", y); // \"Hello\" 출력\n",
    "    } // y가 범위를 벗어남\n",
    "    println!(\"{}\", x); // 컴파일 오류 발생\n",
    "}"
   ]
  },
  {
   "cell_type": "code",
   "execution_count": null,
   "id": "c3afeaea",
   "metadata": {},
   "outputs": [],
   "source": []
  },
  {
   "cell_type": "markdown",
   "id": "54b2ef31",
   "metadata": {},
   "source": [
    "### 값에 대한 참조(빌림)는 소유권을 이전하지 않습니다."
   ]
  },
  {
   "cell_type": "code",
   "execution_count": 9,
   "id": "2f4ac84b",
   "metadata": {},
   "outputs": [],
   "source": [
    "fn main() {\n",
    "    let mut my_string = String::from(\"Hello, world!\");\n",
    "\n",
    "    let string_slice = &my_string[0..5];\n",
    "\n",
    "    println!(\"The first word of my_string is: {}\", string_slice);\n",
    "}"
   ]
  },
  {
   "cell_type": "code",
   "execution_count": 10,
   "id": "05393f08",
   "metadata": {},
   "outputs": [
    {
     "name": "stdout",
     "output_type": "stream",
     "text": [
      "The first word of my_string is: Hello\n"
     ]
    }
   ],
   "source": [
    "main();"
   ]
  },
  {
   "cell_type": "code",
   "execution_count": null,
   "id": "e6012afe",
   "metadata": {},
   "outputs": [],
   "source": []
  },
  {
   "cell_type": "markdown",
   "id": "ba9d159e",
   "metadata": {},
   "source": [
    "## 2  소유권에 대한 이동 알아보기 "
   ]
  },
  {
   "cell_type": "markdown",
   "id": "0a4dc314",
   "metadata": {},
   "source": [
    "## 2-1 소유권 이동 이해하기"
   ]
  },
  {
   "cell_type": "markdown",
   "id": "d86e5731",
   "metadata": {},
   "source": [
    "### 값에 대한 소유권은 변수를 지정하면서 생성된다. \n",
    "\n",
    "- 소유권을 변수에 할당하는 것을 이동(move) 라고한다.\n",
    "- 실제 값은 heap 메모리에 생기고 그것을 변수에 할당해서 소유권을 확정하기 때문이다.\n"
   ]
  },
  {
   "cell_type": "code",
   "execution_count": 35,
   "id": "c05d2bba",
   "metadata": {},
   "outputs": [],
   "source": [
    "fn main() {\n",
    "    let s1: String = String::from(\"Hello!\");\n",
    "    println!(\" s1= {}\",s1 );\n",
    "}"
   ]
  },
  {
   "cell_type": "code",
   "execution_count": 36,
   "id": "55224f5a",
   "metadata": {},
   "outputs": [
    {
     "name": "stdout",
     "output_type": "stream",
     "text": [
      " s1= Hello!\n"
     ]
    }
   ],
   "source": [
    "main();"
   ]
  },
  {
   "cell_type": "markdown",
   "id": "016adc73",
   "metadata": {},
   "source": [
    "### 소유권에는 하나의 소유자만 있어야 한다.\n",
    "\n",
    "- 기존 변수에 할당해서 소유권을 확정했지만 \n",
    "-  또 다른 변수에 기존 변수의 값을 할당하면 소유권이 옮겨간다. \n",
    "- 이것도 이동(move)이다. 그래서 기존 변수는 수명이 종료된다. "
   ]
  },
  {
   "cell_type": "code",
   "execution_count": 37,
   "id": "2eb9a54d",
   "metadata": {},
   "outputs": [
    {
     "ename": "Error",
     "evalue": "borrow of moved value: `s1`",
     "output_type": "error",
     "traceback": [
      "\u001b[31m[E0382] Error:\u001b[0m borrow of moved value: `s1`",
      "   \u001b[38;5;246m╭\u001b[0m\u001b[38;5;246m─\u001b[0m\u001b[38;5;246m[\u001b[0mcommand_37:1:1\u001b[38;5;246m]\u001b[0m",
      "   \u001b[38;5;246m│\u001b[0m",
      " \u001b[38;5;246m2 │\u001b[0m \u001b[38;5;249m \u001b[0m\u001b[38;5;249m \u001b[0m\u001b[38;5;249m \u001b[0m\u001b[38;5;249m \u001b[0m\u001b[38;5;249ml\u001b[0m\u001b[38;5;249me\u001b[0m\u001b[38;5;249mt\u001b[0m\u001b[38;5;249m \u001b[0m\u001b[38;5;68ms\u001b[0m\u001b[38;5;68m1\u001b[0m\u001b[38;5;249m:\u001b[0m\u001b[38;5;249m \u001b[0m\u001b[38;5;249mS\u001b[0m\u001b[38;5;249mt\u001b[0m\u001b[38;5;249mr\u001b[0m\u001b[38;5;249mi\u001b[0m\u001b[38;5;249mn\u001b[0m\u001b[38;5;249mg\u001b[0m\u001b[38;5;249m \u001b[0m\u001b[38;5;249m=\u001b[0m\u001b[38;5;249m \u001b[0m\u001b[38;5;249mS\u001b[0m\u001b[38;5;249mt\u001b[0m\u001b[38;5;249mr\u001b[0m\u001b[38;5;249mi\u001b[0m\u001b[38;5;249mn\u001b[0m\u001b[38;5;249mg\u001b[0m\u001b[38;5;249m:\u001b[0m\u001b[38;5;249m:\u001b[0m\u001b[38;5;249mf\u001b[0m\u001b[38;5;249mr\u001b[0m\u001b[38;5;249mo\u001b[0m\u001b[38;5;249mm\u001b[0m\u001b[38;5;249m(\u001b[0m\u001b[38;5;249m\"\u001b[0m\u001b[38;5;249mH\u001b[0m\u001b[38;5;249me\u001b[0m\u001b[38;5;249ml\u001b[0m\u001b[38;5;249ml\u001b[0m\u001b[38;5;249mo\u001b[0m\u001b[38;5;249m!\u001b[0m\u001b[38;5;249m\"\u001b[0m\u001b[38;5;249m)\u001b[0m\u001b[38;5;249m;\u001b[0m",
      " \u001b[38;5;246m  ·\u001b[0m         \u001b[38;5;68m─\u001b[0m\u001b[38;5;68m┬\u001b[0m  ",
      " \u001b[38;5;246m  ·\u001b[0m          \u001b[38;5;68m╰\u001b[0m\u001b[38;5;68m─\u001b[0m\u001b[38;5;68m─\u001b[0m move occurs because `s1` has type `String`, which does not implement the `Copy` trait",
      " \u001b[38;5;246m3 │\u001b[0m \u001b[38;5;249m \u001b[0m\u001b[38;5;249m \u001b[0m\u001b[38;5;249m \u001b[0m\u001b[38;5;249m \u001b[0m\u001b[38;5;249ml\u001b[0m\u001b[38;5;249me\u001b[0m\u001b[38;5;249mt\u001b[0m\u001b[38;5;249m \u001b[0m\u001b[38;5;249ms\u001b[0m\u001b[38;5;249m2\u001b[0m\u001b[38;5;249m:\u001b[0m\u001b[38;5;249m \u001b[0m\u001b[38;5;249mS\u001b[0m\u001b[38;5;249mt\u001b[0m\u001b[38;5;249mr\u001b[0m\u001b[38;5;249mi\u001b[0m\u001b[38;5;249mn\u001b[0m\u001b[38;5;249mg\u001b[0m\u001b[38;5;249m \u001b[0m\u001b[38;5;249m=\u001b[0m\u001b[38;5;249m \u001b[0m\u001b[38;5;54ms\u001b[0m\u001b[38;5;54m1\u001b[0m\u001b[38;5;249m;\u001b[0m",
      " \u001b[38;5;246m  ·\u001b[0m                      \u001b[38;5;54m─\u001b[0m\u001b[38;5;54m┬\u001b[0m  ",
      " \u001b[38;5;246m  ·\u001b[0m                       \u001b[38;5;54m╰\u001b[0m\u001b[38;5;54m─\u001b[0m\u001b[38;5;54m─\u001b[0m value moved here",
      " \u001b[38;5;246m  ·\u001b[0m ",
      " \u001b[38;5;246m5 │\u001b[0m \u001b[38;5;249m \u001b[0m\u001b[38;5;249m \u001b[0m\u001b[38;5;249m \u001b[0m\u001b[38;5;249m \u001b[0m\u001b[38;5;249mp\u001b[0m\u001b[38;5;249mr\u001b[0m\u001b[38;5;249mi\u001b[0m\u001b[38;5;249mn\u001b[0m\u001b[38;5;249mt\u001b[0m\u001b[38;5;249ml\u001b[0m\u001b[38;5;249mn\u001b[0m\u001b[38;5;249m!\u001b[0m\u001b[38;5;249m(\u001b[0m\u001b[38;5;249m\"\u001b[0m\u001b[38;5;249ms\u001b[0m\u001b[38;5;249m1\u001b[0m\u001b[38;5;249m:\u001b[0m\u001b[38;5;249m \u001b[0m\u001b[38;5;249m{\u001b[0m\u001b[38;5;100ms\u001b[0m\u001b[38;5;100m1\u001b[0m\u001b[38;5;249m}\u001b[0m\u001b[38;5;249m\"\u001b[0m\u001b[38;5;249m)\u001b[0m\u001b[38;5;249m;\u001b[0m",
      " \u001b[38;5;246m  ·\u001b[0m                    \u001b[38;5;100m─\u001b[0m\u001b[38;5;100m┬\u001b[0m  ",
      " \u001b[38;5;246m  ·\u001b[0m                     \u001b[38;5;100m╰\u001b[0m\u001b[38;5;100m─\u001b[0m\u001b[38;5;100m─\u001b[0m value borrowed here after move",
      "\u001b[38;5;246m───╯\u001b[0m"
     ]
    }
   ],
   "source": [
    "fn main() {\n",
    "    let s1: String = String::from(\"Hello!\");\n",
    "    let s2: String = s1;\n",
    "    println!(\"s2: {s2}\");\n",
    "    println!(\"s1: {s1}\");\n",
    "}"
   ]
  },
  {
   "cell_type": "markdown",
   "id": "05a42aed",
   "metadata": {},
   "source": [
    "### 소유권이 사라진 변수를 다시 사용할 수 없다."
   ]
  },
  {
   "cell_type": "code",
   "execution_count": 38,
   "id": "9d870c64",
   "metadata": {},
   "outputs": [],
   "source": [
    "fn main() {\n",
    "    let s1: String = String::from(\"Hello!\");\n",
    "    let s2: String = s1;\n",
    "    println!(\"s2: {s2}\");\n",
    "    //println!(\"s1: {s1}\");\n",
    "}"
   ]
  },
  {
   "cell_type": "code",
   "execution_count": 39,
   "id": "3cf6fc42",
   "metadata": {},
   "outputs": [
    {
     "name": "stdout",
     "output_type": "stream",
     "text": [
      "s2: Hello!\n"
     ]
    }
   ],
   "source": [
    "main();"
   ]
  },
  {
   "cell_type": "code",
   "execution_count": null,
   "id": "f810920b",
   "metadata": {},
   "outputs": [],
   "source": []
  },
  {
   "cell_type": "markdown",
   "id": "88193cf7",
   "metadata": {},
   "source": [
    "## 2-2 소유권을 새로 생성하기 "
   ]
  },
  {
   "cell_type": "markdown",
   "id": "537905ef",
   "metadata": {},
   "source": [
    "### 새로운 변수에 소유권을 지정하려면 복제가 필수이다. \n",
    "\n",
    "- 이때는 clone 메서드를 사용한다.  "
   ]
  },
  {
   "cell_type": "code",
   "execution_count": 40,
   "id": "7c8689c0",
   "metadata": {},
   "outputs": [],
   "source": [
    "fn main() {\n",
    "    let s1: String = String::from(\"Hello!\");\n",
    "    let s2: String = s1.clone();\n",
    "    println!(\"s2: {s2}\");\n",
    "    println!(\"s1: {s1}\");\n",
    "}"
   ]
  },
  {
   "cell_type": "code",
   "execution_count": 41,
   "id": "c78964af",
   "metadata": {},
   "outputs": [
    {
     "name": "stdout",
     "output_type": "stream",
     "text": [
      "s2: Hello!\n",
      "s1: Hello!\n"
     ]
    }
   ],
   "source": [
    "main();"
   ]
  },
  {
   "cell_type": "code",
   "execution_count": null,
   "id": "daf444a9",
   "metadata": {},
   "outputs": [],
   "source": []
  },
  {
   "cell_type": "markdown",
   "id": "562b9056",
   "metadata": {},
   "source": [
    "## 2-3 변수에 소유권을 변경하도록 지정하기 "
   ]
  },
  {
   "cell_type": "markdown",
   "id": "c812e513",
   "metadata": {},
   "source": [
    "### 변수에 mut으로 가변변수를 지정하면 값에 대한 소유권이 변경\n",
    "\n",
    "-  가변 변수는 값을 변경할 수 있어서 새로운 값을 가지므로 소유권을 변경할 수 있다. "
   ]
  },
  {
   "cell_type": "code",
   "execution_count": 42,
   "id": "c71196ac",
   "metadata": {},
   "outputs": [],
   "source": [
    "fn main() {\n",
    "    let mut s1: String = String::from(\"Hello!\");\n",
    "    println!(\"s1: {s1}\");\n",
    "    s1 = String::from(\"World!\");\n",
    "    println!(\"s1: {s1}\");\n",
    "}"
   ]
  },
  {
   "cell_type": "code",
   "execution_count": 43,
   "id": "d41ce37c",
   "metadata": {},
   "outputs": [
    {
     "name": "stdout",
     "output_type": "stream",
     "text": [
      "s1: Hello!\n",
      "s1: World!\n"
     ]
    }
   ],
   "source": [
    "main();"
   ]
  },
  {
   "cell_type": "code",
   "execution_count": null,
   "id": "350add9f",
   "metadata": {},
   "outputs": [],
   "source": []
  },
  {
   "cell_type": "code",
   "execution_count": null,
   "id": "eadd8b29",
   "metadata": {},
   "outputs": [],
   "source": []
  },
  {
   "cell_type": "code",
   "execution_count": null,
   "id": "426a3515",
   "metadata": {},
   "outputs": [],
   "source": []
  }
 ],
 "metadata": {
  "kernelspec": {
   "display_name": "Rust",
   "language": "rust",
   "name": "rust"
  },
  "language_info": {
   "codemirror_mode": "rust",
   "file_extension": ".rs",
   "mimetype": "text/rust",
   "name": "Rust",
   "pygment_lexer": "rust",
   "version": ""
  }
 },
 "nbformat": 4,
 "nbformat_minor": 5
}
