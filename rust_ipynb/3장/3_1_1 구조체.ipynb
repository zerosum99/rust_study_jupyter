{
 "cells": [
  {
   "cell_type": "code",
   "execution_count": null,
   "id": "921fb389",
   "metadata": {},
   "outputs": [],
   "source": []
  },
  {
   "cell_type": "markdown",
   "id": "3a89809e",
   "metadata": {},
   "source": [
    "## 구조체 정의 "
   ]
  },
  {
   "cell_type": "code",
   "execution_count": 2,
   "id": "cf492f48",
   "metadata": {},
   "outputs": [],
   "source": [
    "struct User {\n",
    "    username: String,\n",
    "    email: String,\n",
    "    sign_in_count: u64,\n",
    "    active: bool,\n",
    "}"
   ]
  },
  {
   "cell_type": "markdown",
   "id": "42a74645",
   "metadata": {},
   "source": [
    "## 구조체 생성 "
   ]
  },
  {
   "cell_type": "code",
   "execution_count": 3,
   "id": "8e9b5f16",
   "metadata": {},
   "outputs": [],
   "source": [
    "let user1 = User {\n",
    "    email: String::from(\"someone@example.com\"),\n",
    "    username: String::from(\"someusername123\"),\n",
    "    active: true,\n",
    "    sign_in_count: 1,\n",
    "};"
   ]
  },
  {
   "cell_type": "code",
   "execution_count": null,
   "id": "4ea30888",
   "metadata": {},
   "outputs": [],
   "source": []
  },
  {
   "cell_type": "markdown",
   "id": "5cd01140",
   "metadata": {},
   "source": [
    "### 구조체에서 특정한 값을 읽어오려면, 점(.) 표기법을 사용"
   ]
  },
  {
   "cell_type": "code",
   "execution_count": 4,
   "id": "06c4aee7",
   "metadata": {},
   "outputs": [
    {
     "data": {
      "text/plain": [
       "\"someone@example.com\""
      ]
     },
     "execution_count": 4,
     "metadata": {},
     "output_type": "execute_result"
    }
   ],
   "source": [
    "user1.email"
   ]
  },
  {
   "cell_type": "code",
   "execution_count": 5,
   "id": "bf2e7beb",
   "metadata": {},
   "outputs": [
    {
     "data": {
      "text/plain": [
       "\"someusername123\""
      ]
     },
     "execution_count": 5,
     "metadata": {},
     "output_type": "execute_result"
    }
   ],
   "source": [
    "user1.username"
   ]
  },
  {
   "cell_type": "code",
   "execution_count": 6,
   "id": "3cf5c87d",
   "metadata": {},
   "outputs": [
    {
     "data": {
      "text/plain": [
       "true"
      ]
     },
     "execution_count": 6,
     "metadata": {},
     "output_type": "execute_result"
    }
   ],
   "source": [
    "user1.active"
   ]
  },
  {
   "cell_type": "code",
   "execution_count": 7,
   "id": "c2766fb3",
   "metadata": {},
   "outputs": [
    {
     "data": {
      "text/plain": [
       "1"
      ]
     },
     "execution_count": 7,
     "metadata": {},
     "output_type": "execute_result"
    }
   ],
   "source": [
    "user1.sign_in_count "
   ]
  },
  {
   "cell_type": "markdown",
   "id": "c69602e2",
   "metadata": {},
   "source": [
    "##  변경이 가능한 구조체 인스턴스에 들어있는 값을 바꾸고자 할 때는, 점(.) 표기법을 사용하여 특정 필드에 새 값을 할당"
   ]
  },
  {
   "cell_type": "code",
   "execution_count": 8,
   "id": "91839ab7",
   "metadata": {},
   "outputs": [],
   "source": [
    "let mut user2 = User {\n",
    "    email: String::from(\"someone@example.com\"),\n",
    "    username: String::from(\"someusername123\"),\n",
    "    active: true,\n",
    "    sign_in_count: 1,\n",
    "};\n"
   ]
  },
  {
   "cell_type": "code",
   "execution_count": 9,
   "id": "6906e33f",
   "metadata": {},
   "outputs": [
    {
     "data": {
      "text/plain": [
       "\"someone@example.com\""
      ]
     },
     "execution_count": 9,
     "metadata": {},
     "output_type": "execute_result"
    }
   ],
   "source": [
    "user2.email "
   ]
  },
  {
   "cell_type": "code",
   "execution_count": 10,
   "id": "9f470701",
   "metadata": {},
   "outputs": [],
   "source": [
    "user2.email = String::from(\"anotheremail@example.com\");"
   ]
  },
  {
   "cell_type": "code",
   "execution_count": 11,
   "id": "c6516b4d",
   "metadata": {},
   "outputs": [
    {
     "data": {
      "text/plain": [
       "\"anotheremail@example.com\""
      ]
     },
     "execution_count": 11,
     "metadata": {},
     "output_type": "execute_result"
    }
   ],
   "source": [
    "user2.email "
   ]
  },
  {
   "cell_type": "code",
   "execution_count": null,
   "id": "be078bb5",
   "metadata": {},
   "outputs": [],
   "source": []
  },
  {
   "cell_type": "code",
   "execution_count": 12,
   "id": "f570b5f2",
   "metadata": {},
   "outputs": [],
   "source": [
    "impl User {\n",
    "    fn getString(&self) {\n",
    "        println!(\" hello method \");\n",
    "    }\n",
    "    \n",
    "    fn build_user(email: String, username: String) -> User {\n",
    "        User {\n",
    "            email: email,\n",
    "            username: username,\n",
    "            active: true,\n",
    "            sign_in_count: 1,\n",
    "        }\n",
    "    }\n",
    "}"
   ]
  },
  {
   "cell_type": "code",
   "execution_count": 13,
   "id": "84c8518e",
   "metadata": {},
   "outputs": [
    {
     "name": "stdout",
     "output_type": "stream",
     "text": [
      " hello method \n"
     ]
    },
    {
     "data": {
      "text/plain": [
       "()"
      ]
     },
     "execution_count": 13,
     "metadata": {},
     "output_type": "execute_result"
    }
   ],
   "source": [
    "user1.getString()"
   ]
  },
  {
   "cell_type": "code",
   "execution_count": 14,
   "id": "6acfbbbe",
   "metadata": {},
   "outputs": [],
   "source": [
    "let user2 = User::build_user(String::from(\"someone@example.com\"),String::from(\"dahl\"));"
   ]
  },
  {
   "cell_type": "code",
   "execution_count": 15,
   "id": "6aa980ab",
   "metadata": {},
   "outputs": [
    {
     "name": "stdout",
     "output_type": "stream",
     "text": [
      " hello method \n"
     ]
    },
    {
     "data": {
      "text/plain": [
       "()"
      ]
     },
     "execution_count": 15,
     "metadata": {},
     "output_type": "execute_result"
    }
   ],
   "source": [
    "user2.getString()"
   ]
  },
  {
   "cell_type": "code",
   "execution_count": 16,
   "id": "eee4ffaf",
   "metadata": {},
   "outputs": [],
   "source": [
    "fn build_user(email: String, username: String) -> User {\n",
    "    User {\n",
    "        email: email,\n",
    "        username: username,\n",
    "        active: true,\n",
    "        sign_in_count: 1,\n",
    "    }\n",
    "}"
   ]
  },
  {
   "cell_type": "code",
   "execution_count": null,
   "id": "d5f2663e",
   "metadata": {},
   "outputs": [],
   "source": []
  },
  {
   "cell_type": "code",
   "execution_count": null,
   "id": "44886ad7",
   "metadata": {},
   "outputs": [],
   "source": []
  },
  {
   "cell_type": "code",
   "execution_count": null,
   "id": "add35488",
   "metadata": {},
   "outputs": [],
   "source": []
  },
  {
   "cell_type": "code",
   "execution_count": 17,
   "id": "43029e7a",
   "metadata": {},
   "outputs": [],
   "source": [
    "fn build_user_1(email: String, username: String) -> User {\n",
    "    User {\n",
    "        email,\n",
    "        username,\n",
    "        active: true,\n",
    "        sign_in_count: 1,\n",
    "    }\n",
    "}"
   ]
  },
  {
   "cell_type": "code",
   "execution_count": null,
   "id": "1067375e",
   "metadata": {},
   "outputs": [],
   "source": []
  },
  {
   "cell_type": "markdown",
   "id": "45a7a6dd",
   "metadata": {},
   "source": [
    "# 어노테이션 처리 \n",
    "\n",
    "- std::fmt::Debug라는 트레이트가 구현되어 있지 않아서 그런다고 한다.\n",
    "- {:?}는 디버그 출력 형태로 결과를 출력하는데\n",
    "- std::fmt::Debug 트레이트가 구현되어 있어야 그것이 가능해진다.\n",
    "- 우리는 구조체 정의 앞에 #[derive(Debug)] 애노테이션을 추가함으로써 그것을 할 수 있다."
   ]
  },
  {
   "cell_type": "code",
   "execution_count": 21,
   "id": "06427a7b",
   "metadata": {},
   "outputs": [],
   "source": [
    "#[derive(Debug)]\n",
    "struct Rectangle {\n",
    "    height: u32,\n",
    "    width: u32,\n",
    "}\n",
    "\n",
    "impl Rectangle {\n",
    "    fn area(&self) -> u32 {\n",
    "        self.height * self.width\n",
    "    }\n",
    "    \n",
    "    fn can_hold(&self, other: &Rectangle) -> bool {\n",
    "        self.height > other.height && self.width > other.width\n",
    "    }\n",
    "    \n",
    "    fn square(size: u32) -> Rectangle {\n",
    "        Rectangle {\n",
    "            width: size,\n",
    "            height: size,\n",
    "        }\n",
    "    }\n",
    "    \n",
    "    fn new(width: u32, height: u32) -> Rectangle {\n",
    "        Rectangle {\n",
    "            width,\n",
    "            height,\n",
    "        }\n",
    "    }\n",
    "}"
   ]
  },
  {
   "cell_type": "code",
   "execution_count": 22,
   "id": "1a36b963",
   "metadata": {},
   "outputs": [],
   "source": [
    "fn main() {\n",
    "    let rect1 = Rectangle { height: 50, width: 30 };\n",
    "\n",
    "    println!(\n",
    "        \"The area of the rectangle is {} square pixels.\",\n",
    "        rect1.area()\n",
    "    );\n",
    "    \n",
    "    println!(\n",
    "        \"The area of the rectangle is {} square pixels.\",\n",
    "        rect1.can_hold(&rect1)\n",
    "    );\n",
    "    \n",
    "    let aaa =  Rectangle::square(10);\n",
    "    \n",
    "    println!(\n",
    "        \"The square of the rectangle is {} square pixels.\",\n",
    "        aaa.area()\n",
    "    );\n",
    "}"
   ]
  },
  {
   "cell_type": "code",
   "execution_count": 23,
   "id": "a71ef9ae",
   "metadata": {},
   "outputs": [
    {
     "name": "stdout",
     "output_type": "stream",
     "text": [
      "The area of the rectangle is 1500 square pixels.\n",
      "The area of the rectangle is false square pixels.\n",
      "The square of the rectangle is 100 square pixels.\n"
     ]
    },
    {
     "data": {
      "text/plain": [
       "()"
      ]
     },
     "execution_count": 23,
     "metadata": {},
     "output_type": "execute_result"
    }
   ],
   "source": [
    "main()"
   ]
  },
  {
   "cell_type": "code",
   "execution_count": null,
   "id": "c4a11fa7",
   "metadata": {},
   "outputs": [],
   "source": []
  }
 ],
 "metadata": {
  "kernelspec": {
   "display_name": "Rust",
   "language": "rust",
   "name": "rust"
  },
  "language_info": {
   "codemirror_mode": "rust",
   "file_extension": ".rs",
   "mimetype": "text/rust",
   "name": "Rust",
   "pygment_lexer": "rust",
   "version": ""
  }
 },
 "nbformat": 4,
 "nbformat_minor": 5
}
