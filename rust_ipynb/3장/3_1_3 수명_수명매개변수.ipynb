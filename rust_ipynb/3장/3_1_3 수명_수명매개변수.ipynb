{
 "cells": [
  {
   "cell_type": "code",
   "execution_count": null,
   "id": "bd3da71e",
   "metadata": {},
   "outputs": [],
   "source": []
  },
  {
   "cell_type": "markdown",
   "id": "33343113",
   "metadata": {},
   "source": [
    "## 참조로 했을 때는 참조가 가능 "
   ]
  },
  {
   "cell_type": "markdown",
   "id": "dccb5031",
   "metadata": {},
   "source": [
    "## 수명매개변수 \n",
    "\n",
    "- 1. 모든 레퍼런스는 lifetime을 갖는다.\n",
    "- 2. 만약 인자로 입력받는 레퍼런스가 1개라면, 해당 레퍼런스의 lifetime이 모든 리턴값에 적용된다.\n",
    "- 3. 함수가 self 혹은 &mut self를 인자로 받는 메소드라면, self의 lifetime이 모든 리턴값에 적용된다."
   ]
  },
  {
   "cell_type": "code",
   "execution_count": null,
   "id": "f1ddf5c4",
   "metadata": {},
   "outputs": [],
   "source": []
  },
  {
   "cell_type": "markdown",
   "id": "e4440d74",
   "metadata": {},
   "source": [
    "### 수명매개변수 : 매개변수가 1개 일때는 반환값과 매개변수의 수명은 같다\n",
    "\n",
    "- 타입매개변수와 같은 자리에 지정한다.\n",
    "- 수명매개변수 이름 앞에 '를 더 붙이고 소문자를 사용해서 타입 매개변수와 구분한다. "
   ]
  },
  {
   "cell_type": "code",
   "execution_count": 4,
   "id": "55a0206f",
   "metadata": {},
   "outputs": [],
   "source": [
    "fn add<'a>(x: &'a str) -> &'a str {\n",
    "    x\n",
    "}"
   ]
  },
  {
   "cell_type": "code",
   "execution_count": 6,
   "id": "45c5f8b4",
   "metadata": {},
   "outputs": [
    {
     "name": "stdout",
     "output_type": "stream",
     "text": [
      " 가을이 \n"
     ]
    }
   ],
   "source": [
    "println!(\" {} \",add(\"가을이\"));"
   ]
  },
  {
   "cell_type": "code",
   "execution_count": null,
   "id": "0922e951",
   "metadata": {},
   "outputs": [],
   "source": []
  },
  {
   "cell_type": "code",
   "execution_count": 10,
   "id": "6ada0e32",
   "metadata": {},
   "outputs": [],
   "source": [
    "fn add_s<'a>(x: &'a String) -> &'a str {\n",
    "    let ss = x.as_str();\n",
    "    ss\n",
    "}"
   ]
  },
  {
   "cell_type": "code",
   "execution_count": 14,
   "id": "21afdb9a",
   "metadata": {},
   "outputs": [
    {
     "name": "stdout",
     "output_type": "stream",
     "text": [
      " \"가을이\" \n"
     ]
    }
   ],
   "source": [
    "println!(\" {:?} \",add_s(&String::from(\"가을이\")));"
   ]
  },
  {
   "cell_type": "code",
   "execution_count": null,
   "id": "e28ad9bf",
   "metadata": {},
   "outputs": [],
   "source": [
    "### "
   ]
  },
  {
   "cell_type": "code",
   "execution_count": 16,
   "id": "ee60d305",
   "metadata": {},
   "outputs": [],
   "source": [
    "fn add_ss<'a>(x: &'a String) -> &'a String {\n",
    "    let ss = x;\n",
    "    ss\n",
    "}"
   ]
  },
  {
   "cell_type": "code",
   "execution_count": 17,
   "id": "9732b6d4",
   "metadata": {},
   "outputs": [
    {
     "name": "stdout",
     "output_type": "stream",
     "text": [
      " \"가을이\" \n"
     ]
    }
   ],
   "source": [
    "println!(\" {:?} \",add_ss(&String::from(\"가을이\")));"
   ]
  },
  {
   "cell_type": "code",
   "execution_count": null,
   "id": "f68418d5",
   "metadata": {},
   "outputs": [],
   "source": []
  },
  {
   "cell_type": "markdown",
   "id": "93b854a9",
   "metadata": {},
   "source": [
    "## 수명 이해하기 \n",
    "\n",
    "- 수명은 소유가 발생한 후에 대여 처리도니다.\n",
    "- 소유가 사라지면 모든 대여도 사라진다.  그래서 소유보다 긴 대여는 없다. "
   ]
  },
  {
   "cell_type": "code",
   "execution_count": 20,
   "id": "28112a84",
   "metadata": {},
   "outputs": [],
   "source": [
    "// 수명은 각 변수의 생성과 소멸을 나타내는 줄로 아래에 주석이 달려 있습니다.\n",
    "// 각 변수의 생성과 소멸을 나타내는 선으로 주석 처리되어 있습니다.\n",
    "// `borrow1`과 `borrow2`를 모두 포함하기 때문에 수명이 가장 깁니다. \n",
    "// `borrow1`과 `borrow2`의 블럭이 분할로 지속시간은 서로 분리되어 있으므로 무관합니다."
   ]
  },
  {
   "cell_type": "code",
   "execution_count": 21,
   "id": "8303529a",
   "metadata": {},
   "outputs": [],
   "source": [
    "fn main() {\n",
    "    let i = 3;    // Lifetime for `i` starts. ────────────────┐ // 소유 발생 \n",
    "                  //                                                 │\n",
    "    {             //                                                 │\n",
    "        let borrow1 = &i; // `borrow1` lifetime starts.          ──┐│ // 빌림 \n",
    "                  //                                                ││\n",
    "        println!(\"borrow1: {}\", borrow1); //                        ││\n",
    "    }             // `borrow1` ──────────────────────────┘│\n",
    "                  //                                                  │\n",
    "                  //                                                  │\n",
    "    {             //                                                  │\n",
    "        let borrow2 = &i; // `borrow2` lifetime starts.─────────┐│ // 빌림 \n",
    "                  //                                                ││\n",
    "        println!(\"borrow2: {}\", borrow2); //                        ││\n",
    "    }             // `borrow2` ends. ──────────────────────┘│\n",
    "                  //                                                  │\n",
    "}                 // Lifetime ends. ───────────────────────┘  // 소유 종료 "
   ]
  },
  {
   "cell_type": "code",
   "execution_count": 22,
   "id": "d29e678d",
   "metadata": {},
   "outputs": [
    {
     "name": "stdout",
     "output_type": "stream",
     "text": [
      "borrow1: 3\n",
      "borrow2: 3\n"
     ]
    },
    {
     "data": {
      "text/plain": [
       "()"
      ]
     },
     "execution_count": 22,
     "metadata": {},
     "output_type": "execute_result"
    }
   ],
   "source": [
    "main()"
   ]
  },
  {
   "cell_type": "code",
   "execution_count": null,
   "id": "7110980d",
   "metadata": {},
   "outputs": [],
   "source": []
  },
  {
   "cell_type": "markdown",
   "id": "5c3aef5e",
   "metadata": {},
   "source": [
    "## 명시적 수명 표시하기 : Explicit annotation\n",
    "\n",
    "- foo<'a>    // `foo` has a lifetime parameter `'a`\n",
    "\n",
    "- foo<'a, 'b>  // `foo` has lifetime parameters `'a` and `'b`"
   ]
  },
  {
   "cell_type": "code",
   "execution_count": 23,
   "id": "ce064a19",
   "metadata": {},
   "outputs": [],
   "source": [
    "// `print_refs`는 `i32`에 대한 두 개의 참조를 취합니다.\n",
    "// 수명이 `'a`와 `'b`인 두 개의 참조를 받습니다. 이 두 수명은 모두\n",
    "// 적어도 `print_refs` 함수만큼 길어야 합니다.\n",
    "fn print_refs<'a, 'b>(x: &'a i32, y: &'b i32) {\n",
    "    println!(\"x is {} and y is {}\", x, y);\n",
    "}"
   ]
  },
  {
   "cell_type": "code",
   "execution_count": 25,
   "id": "ecea4296",
   "metadata": {},
   "outputs": [],
   "source": [
    "fn main() {\n",
    "    print_refs(&100,&200);\n",
    "}"
   ]
  },
  {
   "cell_type": "code",
   "execution_count": 26,
   "id": "3684dcce",
   "metadata": {},
   "outputs": [
    {
     "name": "stdout",
     "output_type": "stream",
     "text": [
      "x is 100 and y is 200\n"
     ]
    },
    {
     "data": {
      "text/plain": [
       "()"
      ]
     },
     "execution_count": 26,
     "metadata": {},
     "output_type": "execute_result"
    }
   ],
   "source": [
    "main()"
   ]
  },
  {
   "cell_type": "markdown",
   "id": "d6ec4304",
   "metadata": {},
   "source": [
    "###  수명 어노테이션만 있고 내부에서 사용하면 예외가 발생한다. "
   ]
  },
  {
   "cell_type": "code",
   "execution_count": 32,
   "id": "05bbd424",
   "metadata": {},
   "outputs": [
    {
     "ename": "Error",
     "evalue": "`_x` does not live long enough",
     "output_type": "error",
     "traceback": [
      "\u001b[31m[E0597] Error:\u001b[0m `_x` does not live long enough",
      "    \u001b[38;5;246m╭\u001b[0m\u001b[38;5;246m─\u001b[0m\u001b[38;5;246m[\u001b[0mcommand_32:1:1\u001b[38;5;246m]\u001b[0m",
      "    \u001b[38;5;246m│\u001b[0m",
      " \u001b[38;5;246m 2 │\u001b[0m \u001b[38;5;249mf\u001b[0m\u001b[38;5;249mn\u001b[0m\u001b[38;5;249m \u001b[0m\u001b[38;5;249mf\u001b[0m\u001b[38;5;249ma\u001b[0m\u001b[38;5;249mi\u001b[0m\u001b[38;5;249ml\u001b[0m\u001b[38;5;249me\u001b[0m\u001b[38;5;249md\u001b[0m\u001b[38;5;249m_\u001b[0m\u001b[38;5;249mb\u001b[0m\u001b[38;5;249mo\u001b[0m\u001b[38;5;249mr\u001b[0m\u001b[38;5;249mr\u001b[0m\u001b[38;5;249mo\u001b[0m\u001b[38;5;249mw\u001b[0m\u001b[38;5;249m<\u001b[0m\u001b[38;5;68m'\u001b[0m\u001b[38;5;68ma\u001b[0m\u001b[38;5;249m>\u001b[0m\u001b[38;5;249m(\u001b[0m\u001b[38;5;249m)\u001b[0m\u001b[38;5;249m \u001b[0m\u001b[38;5;249m{\u001b[0m",
      " \u001b[38;5;246m   ·\u001b[0m                  \u001b[38;5;68m─\u001b[0m\u001b[38;5;68m┬\u001b[0m  ",
      " \u001b[38;5;246m   ·\u001b[0m                   \u001b[38;5;68m╰\u001b[0m\u001b[38;5;68m─\u001b[0m\u001b[38;5;68m─\u001b[0m lifetime `'a` defined here",
      " \u001b[38;5;246m   ·\u001b[0m ",
      " \u001b[38;5;246m 6 │\u001b[0m \u001b[38;5;249m \u001b[0m\u001b[38;5;249m \u001b[0m\u001b[38;5;249m \u001b[0m\u001b[38;5;249m \u001b[0m\u001b[38;5;249ml\u001b[0m\u001b[38;5;249me\u001b[0m\u001b[38;5;249mt\u001b[0m\u001b[38;5;249m \u001b[0m\u001b[38;5;249my\u001b[0m\u001b[38;5;249m:\u001b[0m\u001b[38;5;249m \u001b[0m\u001b[38;5;37m&\u001b[0m\u001b[38;5;37m'\u001b[0m\u001b[38;5;37ma\u001b[0m\u001b[38;5;37m \u001b[0m\u001b[38;5;37mi\u001b[0m\u001b[38;5;37m3\u001b[0m\u001b[38;5;37m2\u001b[0m\u001b[38;5;249m \u001b[0m\u001b[38;5;249m=\u001b[0m\u001b[38;5;249m \u001b[0m\u001b[38;5;54m&\u001b[0m\u001b[38;5;54m_\u001b[0m\u001b[38;5;54mx\u001b[0m\u001b[38;5;249m;\u001b[0m",
      " \u001b[38;5;246m   ·\u001b[0m            \u001b[38;5;37m─\u001b[0m\u001b[38;5;37m─\u001b[0m\u001b[38;5;37m─\u001b[0m\u001b[38;5;37m┬\u001b[0m\u001b[38;5;37m─\u001b[0m\u001b[38;5;37m─\u001b[0m\u001b[38;5;37m─\u001b[0m   \u001b[38;5;54m─\u001b[0m\u001b[38;5;54m┬\u001b[0m\u001b[38;5;54m─\u001b[0m  ",
      " \u001b[38;5;246m   ·\u001b[0m               \u001b[38;5;37m╰\u001b[0m\u001b[38;5;37m─\u001b[0m\u001b[38;5;37m─\u001b[0m\u001b[38;5;37m─\u001b[0m\u001b[38;5;37m─\u001b[0m\u001b[38;5;37m─\u001b[0m\u001b[38;5;37m─\u001b[0m\u001b[38;5;37m─\u001b[0m\u001b[38;5;37m─\u001b[0m\u001b[38;5;37m─\u001b[0m\u001b[38;5;37m─\u001b[0m\u001b[38;5;37m─\u001b[0m type annotation requires that `_x` is borrowed for `'a`",
      " \u001b[38;5;246m   ·\u001b[0m                       \u001b[38;5;54m│\u001b[0m   ",
      " \u001b[38;5;246m   ·\u001b[0m                       \u001b[38;5;54m╰\u001b[0m\u001b[38;5;54m─\u001b[0m\u001b[38;5;54m─\u001b[0m\u001b[38;5;54m─\u001b[0m borrowed value does not live long enough",
      " \u001b[38;5;246m   ·\u001b[0m ",
      " \u001b[38;5;246m13 │\u001b[0m \u001b[38;5;100m}\u001b[0m",
      " \u001b[38;5;246m   ·\u001b[0m \u001b[38;5;100m┬\u001b[0m  ",
      " \u001b[38;5;246m   ·\u001b[0m \u001b[38;5;100m╰\u001b[0m\u001b[38;5;100m─\u001b[0m\u001b[38;5;100m─\u001b[0m `_x` dropped here while still borrowed",
      "\u001b[38;5;246m────╯\u001b[0m"
     ]
    }
   ],
   "source": [
    "// A function which takes no arguments, but has a lifetime parameter `'a`.\n",
    "fn failed_borrow<'a>() {\n",
    "    let _x = 12;\n",
    "\n",
    "    // ERROR: `_x` does not live long enough\n",
    "    let y: &'a i32 = &_x;\n",
    "    // Attempting to use the lifetime `'a` as an explicit type annotation \n",
    "    // inside the function will fail because the lifetime of `&_x` is shorter\n",
    "    // than that of `y`. A short lifetime cannot be coerced into a longer one.\n",
    "    \n",
    "    println!(\" {}\", y);\n",
    "    println!(\" {}\", _x);\n",
    "}"
   ]
  },
  {
   "cell_type": "markdown",
   "id": "e7bca2f1",
   "metadata": {},
   "source": [
    "### 수명어노테이션을 지정하면 매개변수를 지정해서 활용하는 것이 좋다"
   ]
  },
  {
   "cell_type": "code",
   "execution_count": 36,
   "id": "5bdee3f3",
   "metadata": {},
   "outputs": [],
   "source": [
    "fn failed_borrow_<'a>(x :&'a i32) {\n",
    "    \n",
    "    let y: &'a i32 = &x;\n",
    "    \n",
    "    println!(\" {}\", y);\n",
    "    println!(\" {}\", x);\n",
    "}"
   ]
  },
  {
   "cell_type": "code",
   "execution_count": 40,
   "id": "7d3a8696",
   "metadata": {},
   "outputs": [],
   "source": [
    "fn main() {\n",
    "    \n",
    "    failed_borrow_(&100);\n",
    "    \n",
    "}"
   ]
  },
  {
   "cell_type": "code",
   "execution_count": 41,
   "id": "d9424f3f",
   "metadata": {},
   "outputs": [
    {
     "name": "stdout",
     "output_type": "stream",
     "text": [
      " 100\n",
      " 100\n"
     ]
    },
    {
     "data": {
      "text/plain": [
       "()"
      ]
     },
     "execution_count": 41,
     "metadata": {},
     "output_type": "execute_result"
    }
   ],
   "source": [
    "main()"
   ]
  },
  {
   "cell_type": "code",
   "execution_count": null,
   "id": "eef9abe4",
   "metadata": {},
   "outputs": [],
   "source": []
  }
 ],
 "metadata": {
  "kernelspec": {
   "display_name": "Rust",
   "language": "rust",
   "name": "rust"
  },
  "language_info": {
   "codemirror_mode": "rust",
   "file_extension": ".rs",
   "mimetype": "text/rust",
   "name": "Rust",
   "pygment_lexer": "rust",
   "version": ""
  }
 },
 "nbformat": 4,
 "nbformat_minor": 5
}
