{
 "cells": [
  {
   "cell_type": "code",
   "execution_count": null,
   "id": "d0f3d4bf",
   "metadata": {},
   "outputs": [],
   "source": []
  },
  {
   "cell_type": "markdown",
   "id": "83c80da0",
   "metadata": {},
   "source": [
    "## 열거형 알아보기 "
   ]
  },
  {
   "cell_type": "code",
   "execution_count": 7,
   "id": "4057d780",
   "metadata": {},
   "outputs": [],
   "source": [
    "#[derive(Debug)]\n",
    "enum IpAddrKind {\n",
    "    V4,\n",
    "    V6,\n",
    "}"
   ]
  },
  {
   "cell_type": "code",
   "execution_count": 8,
   "id": "436e68a6",
   "metadata": {},
   "outputs": [],
   "source": [
    "let four = IpAddrKind::V4;\n",
    "let six = IpAddrKind::V6;"
   ]
  },
  {
   "cell_type": "code",
   "execution_count": 9,
   "id": "18601a81",
   "metadata": {},
   "outputs": [
    {
     "data": {
      "text/plain": [
       "V4"
      ]
     },
     "execution_count": 9,
     "metadata": {},
     "output_type": "execute_result"
    }
   ],
   "source": [
    "four"
   ]
  },
  {
   "cell_type": "code",
   "execution_count": 10,
   "id": "c4bac487",
   "metadata": {},
   "outputs": [
    {
     "data": {
      "text/plain": [
       "V6"
      ]
     },
     "execution_count": 10,
     "metadata": {},
     "output_type": "execute_result"
    }
   ],
   "source": [
    "six"
   ]
  },
  {
   "cell_type": "code",
   "execution_count": 11,
   "id": "b9000744",
   "metadata": {},
   "outputs": [],
   "source": [
    "struct IpAddr {\n",
    "    kind: IpAddrKind,\n",
    "    address: String,\n",
    "}\n",
    "\n",
    "let home = IpAddr {\n",
    "    kind: IpAddrKind::V4,\n",
    "    address: String::from(\"127.0.0.1\"),\n",
    "};\n",
    "\n",
    "let loopback = IpAddr {\n",
    "    kind: IpAddrKind::V6,\n",
    "    address: String::from(\"::1\"),\n",
    "};"
   ]
  },
  {
   "cell_type": "code",
   "execution_count": null,
   "id": "5a4a016b",
   "metadata": {},
   "outputs": [],
   "source": []
  },
  {
   "cell_type": "markdown",
   "id": "611e4f24",
   "metadata": {},
   "source": [
    "##  열거형에 값을 넣기\n",
    "\n",
    "- 각 열거형 variant 에 데이터를 직접 넣는 방식을 사용해서 열거형을 구조체의 일부로 사용하는 방식보다 더 간결하게 동일한 개념을 표현할 수 있습니다"
   ]
  },
  {
   "cell_type": "code",
   "execution_count": 14,
   "id": "d5f657cd",
   "metadata": {},
   "outputs": [],
   "source": [
    "#[derive(Debug)]\n",
    "enum IpAddr_ {\n",
    "    V4(String),\n",
    "    V6(String),\n",
    "}\n",
    "\n",
    "let home = IpAddr_::V4(String::from(\"127.0.0.1\"));\n",
    "\n",
    "let loopback = IpAddr_::V6(String::from(\"::1\"));"
   ]
  },
  {
   "cell_type": "code",
   "execution_count": 15,
   "id": "58731daa",
   "metadata": {},
   "outputs": [
    {
     "data": {
      "text/plain": [
       "V4(\"127.0.0.1\")"
      ]
     },
     "execution_count": 15,
     "metadata": {},
     "output_type": "execute_result"
    }
   ],
   "source": [
    "home"
   ]
  },
  {
   "cell_type": "code",
   "execution_count": 16,
   "id": "1e3275e9",
   "metadata": {},
   "outputs": [
    {
     "data": {
      "text/plain": [
       "V6(\"::1\")"
      ]
     },
     "execution_count": 16,
     "metadata": {},
     "output_type": "execute_result"
    }
   ],
   "source": [
    "loopback"
   ]
  },
  {
   "cell_type": "code",
   "execution_count": null,
   "id": "6f01fb85",
   "metadata": {},
   "outputs": [],
   "source": []
  },
  {
   "cell_type": "markdown",
   "id": "0fa1e351",
   "metadata": {},
   "source": [
    "## 열거형에 튜플 처리"
   ]
  },
  {
   "cell_type": "code",
   "execution_count": 17,
   "id": "cd939e00",
   "metadata": {},
   "outputs": [],
   "source": [
    "#[derive(Debug)]\n",
    "enum IpAddr_2 {\n",
    "    V4(u8, u8, u8, u8),\n",
    "    V6(String),\n",
    "}\n",
    "\n",
    "let home = IpAddr_2::V4(127, 0, 0, 1);\n",
    "\n",
    "let loopback = IpAddr_2::V6(String::from(\"::1\"));"
   ]
  },
  {
   "cell_type": "code",
   "execution_count": 18,
   "id": "11c3c1ca",
   "metadata": {},
   "outputs": [
    {
     "data": {
      "text/plain": [
       "V4(127, 0, 0, 1)"
      ]
     },
     "execution_count": 18,
     "metadata": {},
     "output_type": "execute_result"
    }
   ],
   "source": [
    "home"
   ]
  },
  {
   "cell_type": "code",
   "execution_count": 19,
   "id": "07c9883f",
   "metadata": {},
   "outputs": [
    {
     "data": {
      "text/plain": [
       "V6(\"::1\")"
      ]
     },
     "execution_count": 19,
     "metadata": {},
     "output_type": "execute_result"
    }
   ],
   "source": [
    "loopback"
   ]
  },
  {
   "cell_type": "code",
   "execution_count": null,
   "id": "9457b9db",
   "metadata": {},
   "outputs": [],
   "source": []
  }
 ],
 "metadata": {
  "kernelspec": {
   "display_name": "Rust",
   "language": "rust",
   "name": "rust"
  },
  "language_info": {
   "codemirror_mode": "rust",
   "file_extension": ".rs",
   "mimetype": "text/rust",
   "name": "Rust",
   "pygment_lexer": "rust",
   "version": ""
  }
 },
 "nbformat": 4,
 "nbformat_minor": 5
}
