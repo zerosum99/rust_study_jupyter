{
 "cells": [
  {
   "cell_type": "markdown",
   "id": "7ee8ffaa",
   "metadata": {},
   "source": [
    "\n",
    "## 러스트에서 수명 매개변수(lifetime parameter)\n",
    "- 참조의 수명을 명시적으로 지정하기 위해 사용됩니다. \n",
    "- 수명 매개변수는 함수나 구조체의 정의에서 'a와 같은 형식으로 표시됩니다."
   ]
  },
  {
   "cell_type": "markdown",
   "id": "91483c9d",
   "metadata": {},
   "source": [
    "## 수명 점검 \n",
    "\n",
    "- 컴파일러는 모든 변수의 lifetime을 이해하며 참조가 절대로 그 owner보다 더 오래 존재하지 못하도록 검증을 시도합니다.\n",
    "\n",
    "- 함수에서는 어떤 매개변수와 리턴 값이 서로 같은 lifetime을 공유하는지 식별할 수 있도록 심볼로 표시하여 명시적으로 생명주기를 지정할 수 있습니다."
   ]
  },
  {
   "cell_type": "markdown",
   "id": "0ec3a501",
   "metadata": {},
   "source": [
    "## 1. 참조 수명 매개변수 정의  : 함수"
   ]
  },
  {
   "cell_type": "markdown",
   "id": "00350d00",
   "metadata": {},
   "source": [
    "## 수명매개변수를 지정하지 않을 때 컴파일러가 필요하가고 지정한다. \n",
    "\n",
    "- 두 개의 참조를 받는데 이중에 하나가 반환이 되는데 수명이 불명확하다 "
   ]
  },
  {
   "cell_type": "code",
   "execution_count": 21,
   "id": "a349afd9",
   "metadata": {},
   "outputs": [
    {
     "ename": "Error",
     "evalue": "missing lifetime specifier",
     "output_type": "error",
     "traceback": [
      "\u001b[31m[E0106] Error:\u001b[0m missing lifetime specifier",
      "   \u001b[38;5;246m╭\u001b[0m\u001b[38;5;246m─\u001b[0m\u001b[38;5;246m[\u001b[0mcommand_21:1:1\u001b[38;5;246m]\u001b[0m",
      "   \u001b[38;5;246m│\u001b[0m",
      " \u001b[38;5;246m9 │\u001b[0m \u001b[38;5;249mf\u001b[0m\u001b[38;5;249mn\u001b[0m\u001b[38;5;249m \u001b[0m\u001b[38;5;249ml\u001b[0m\u001b[38;5;249mo\u001b[0m\u001b[38;5;249mn\u001b[0m\u001b[38;5;249mg\u001b[0m\u001b[38;5;249me\u001b[0m\u001b[38;5;249ms\u001b[0m\u001b[38;5;249mt\u001b[0m\u001b[38;5;249m(\u001b[0m\u001b[38;5;249mx\u001b[0m\u001b[38;5;249m:\u001b[0m\u001b[38;5;249m \u001b[0m\u001b[38;5;249m&\u001b[0m\u001b[38;5;249ms\u001b[0m\u001b[38;5;249mt\u001b[0m\u001b[38;5;249mr\u001b[0m\u001b[38;5;249m,\u001b[0m\u001b[38;5;249m \u001b[0m\u001b[38;5;249my\u001b[0m\u001b[38;5;249m:\u001b[0m\u001b[38;5;249m \u001b[0m\u001b[38;5;249m&\u001b[0m\u001b[38;5;249ms\u001b[0m\u001b[38;5;249mt\u001b[0m\u001b[38;5;249mr\u001b[0m\u001b[38;5;249m)\u001b[0m\u001b[38;5;249m \u001b[0m\u001b[38;5;249m-\u001b[0m\u001b[38;5;249m>\u001b[0m\u001b[38;5;249m \u001b[0m\u001b[38;5;54m&\u001b[0m\u001b[38;5;249ms\u001b[0m\u001b[38;5;249mt\u001b[0m\u001b[38;5;249mr\u001b[0m\u001b[38;5;249m \u001b[0m\u001b[38;5;249m{\u001b[0m",
      " \u001b[38;5;246m  ·\u001b[0m                                 \u001b[38;5;54m┬\u001b[0m  ",
      " \u001b[38;5;246m  ·\u001b[0m                                 \u001b[38;5;54m╰\u001b[0m\u001b[38;5;54m─\u001b[0m\u001b[38;5;54m─\u001b[0m expected named lifetime parameter",
      "\u001b[38;5;246m───╯\u001b[0m"
     ]
    }
   ],
   "source": [
    "fn longest(x: &str, y: &str) -> &str {\n",
    "    if x.len() > y.len() {\n",
    "        x\n",
    "    } else {\n",
    "        y\n",
    "    }\n",
    "}\n",
    "\n",
    "fn main() {\n",
    "    let string1 = String::from(\"abcd\");\n",
    "    let string2 = \"xyz\";\n",
    "\n",
    "    let result = longest(string1.as_str(), string2);\n",
    "    println!(\"The longest string is {}\", result);\n",
    "}\n",
    "\n",
    "main();"
   ]
  },
  {
   "cell_type": "code",
   "execution_count": null,
   "id": "34bed997",
   "metadata": {},
   "outputs": [],
   "source": []
  },
  {
   "cell_type": "markdown",
   "id": "93b91438",
   "metadata": {},
   "source": [
    "## 수명매개변수를 지정하기\n",
    "\n",
    "- 동일한 수명을 알려주기 위해 수명 매개변수를 지정"
   ]
  },
  {
   "cell_type": "code",
   "execution_count": 22,
   "id": "3c4aed45",
   "metadata": {},
   "outputs": [
    {
     "name": "stdout",
     "output_type": "stream",
     "text": [
      "The longest string is: world\n"
     ]
    }
   ],
   "source": [
    "fn longest<'a>(x: &'a str, y: &'a str) -> &'a str {\n",
    "    if x.len() > y.len() {\n",
    "        x\n",
    "    } else {\n",
    "        y\n",
    "    }\n",
    "}\n",
    "\n",
    "fn main() {\n",
    "    let s1 = \"hello\";\n",
    "    let s2 = \"world\";\n",
    "    let result = longest(s1, s2);\n",
    "    println!(\"The longest string is: {}\", result);\n",
    "}\n",
    "main();"
   ]
  },
  {
   "cell_type": "code",
   "execution_count": null,
   "id": "4505c610",
   "metadata": {},
   "outputs": [],
   "source": []
  },
  {
   "cell_type": "markdown",
   "id": "a8722761",
   "metadata": {},
   "source": [
    "## 함수 매개변수가 구조체일 경우 수명으로 처리하기 "
   ]
  },
  {
   "cell_type": "code",
   "execution_count": 31,
   "id": "9225c502",
   "metadata": {},
   "outputs": [
    {
     "name": "stdout",
     "output_type": "stream",
     "text": [
      "13\n"
     ]
    }
   ],
   "source": [
    "struct Foo {\n",
    "    x: i32,\n",
    "}\n",
    "\n",
    "                                                  // 매개변수 foo와 리턴 값은 동일한 lifetime을 공유함\n",
    "fn do_something<'a>(foo: &'a Foo) -> &'a i32 {\n",
    "    return &foo.x;\n",
    "}\n",
    "\n",
    "fn main() {\n",
    "    let mut foo = Foo { x: 42 };\n",
    "    let x = &mut foo.x;\n",
    "    *x = 13;\n",
    "                                                  // x가 여기서 drop 되어, non-mutable 참조를 생성할 수 있음\n",
    "    let y = do_something(&foo);\n",
    "    println!(\"{}\", y);\n",
    "}                                                  // y는 여기서 drop 됨\n",
    "                                                   // foo는 여기서 drop 됨\n",
    "\n",
    "main();"
   ]
  },
  {
   "cell_type": "code",
   "execution_count": null,
   "id": "bd6b3f2b",
   "metadata": {},
   "outputs": [],
   "source": []
  },
  {
   "cell_type": "code",
   "execution_count": null,
   "id": "1a01bb41",
   "metadata": {},
   "outputs": [],
   "source": []
  },
  {
   "cell_type": "code",
   "execution_count": null,
   "id": "04616a30",
   "metadata": {},
   "outputs": [],
   "source": []
  },
  {
   "cell_type": "code",
   "execution_count": 24,
   "id": "5d4b4552",
   "metadata": {},
   "outputs": [
    {
     "name": "stdout",
     "output_type": "stream",
     "text": [
      "42\n",
      "12\n",
      "12\n"
     ]
    }
   ],
   "source": [
    "struct Foo3 {\n",
    "    x: i32,\n",
    "}\n",
    "\n",
    "// foo_b와 리턴 값은 동일한 lifetime을 공유함\n",
    "// foo_a는 무관한 lifetime을 가짐\n",
    "fn do_something<'a, 'b>(foo_a: &'a Foo3, foo_b: &'b Foo3) -> &'b i32 {\n",
    "    println!(\"{}\", foo_a.x);\n",
    "    println!(\"{}\", foo_b.x);\n",
    "    return &foo_b.x;\n",
    "}\n",
    "\n",
    "fn main() {\n",
    "    let foo_a = Foo3 { x: 42 };\n",
    "    let foo_b = Foo3 { x: 12 };\n",
    "    let x = do_something(&foo_a, &foo_b);\n",
    "    // 여기 이후에는 foo_b의 lifetime만 존재하므로 foo_a만 drop 됨\n",
    "    println!(\"{}\", x);\n",
    "    // 여기서 x가 drop 됨\n",
    "    // 여기서 foo_b가 drop 됨\n",
    "}\n",
    "\n",
    "main();"
   ]
  },
  {
   "cell_type": "code",
   "execution_count": null,
   "id": "cef5f696",
   "metadata": {},
   "outputs": [],
   "source": []
  },
  {
   "cell_type": "code",
   "execution_count": null,
   "id": "9e166ebe",
   "metadata": {},
   "outputs": [],
   "source": []
  },
  {
   "cell_type": "markdown",
   "id": "fbfb76ff",
   "metadata": {},
   "source": [
    "## 2. 참조 수명 매개변수 정의  : 구조체"
   ]
  },
  {
   "cell_type": "markdown",
   "id": "f7609ac1",
   "metadata": {},
   "source": [
    "## 데이터 자료형의 생명주기\n",
    "\n",
    "- 함수와 마찬가지로, 데이터 자료형의 구성원들도 lifetime 지정자로 지정할 수 있습니다.\n",
    "\n",
    "- Rust는 참조가 품고 있는 데이터 구조가 참조가 가리키는 owner보다 절대 오래 살아남지 못하도록 검증합니다.\n",
    "\n",
    "- 아무 것도 아닌 것을 가리키는 참조를 들고 다니는 struct란 있을 수 없습니다!"
   ]
  },
  {
   "cell_type": "code",
   "execution_count": 27,
   "id": "355fcfca",
   "metadata": {},
   "outputs": [
    {
     "ename": "Error",
     "evalue": "cannot find value `foo` in this scope",
     "output_type": "error",
     "traceback": [
      "\u001b[31m[E0425] Error:\u001b[0m cannot find value `foo` in this scope",
      "    \u001b[38;5;246m╭\u001b[0m\u001b[38;5;246m─\u001b[0m\u001b[38;5;246m[\u001b[0mcommand_27:1:1\u001b[38;5;246m]\u001b[0m",
      "    \u001b[38;5;246m│\u001b[0m",
      " \u001b[38;5;246m 8 │\u001b[0m \u001b[38;5;249m \u001b[0m\u001b[38;5;249m \u001b[0m\u001b[38;5;249m \u001b[0m\u001b[38;5;249m \u001b[0m\u001b[38;5;249m \u001b[0m\u001b[38;5;249m \u001b[0m\u001b[38;5;249m \u001b[0m\u001b[38;5;249m \u001b[0m\u001b[38;5;249ml\u001b[0m\u001b[38;5;249me\u001b[0m\u001b[38;5;249mt\u001b[0m\u001b[38;5;249m \u001b[0m\u001b[38;5;100mf\u001b[0m\u001b[38;5;100mo\u001b[0m\u001b[38;5;100mo\u001b[0m\u001b[38;5;249m \u001b[0m\u001b[38;5;249m=\u001b[0m\u001b[38;5;249m \u001b[0m\u001b[38;5;249mF\u001b[0m\u001b[38;5;249mo\u001b[0m\u001b[38;5;249mo\u001b[0m\u001b[38;5;249m \u001b[0m\u001b[38;5;249m{\u001b[0m",
      " \u001b[38;5;246m   ·\u001b[0m             \u001b[38;5;100m─\u001b[0m\u001b[38;5;100m┬\u001b[0m\u001b[38;5;100m─\u001b[0m  ",
      " \u001b[38;5;246m   ·\u001b[0m              \u001b[38;5;100m╰\u001b[0m\u001b[38;5;100m─\u001b[0m\u001b[38;5;100m─\u001b[0m\u001b[38;5;100m─\u001b[0m help: the binding `foo` is available in a different scope in the same function",
      " \u001b[38;5;246m   ·\u001b[0m ",
      " \u001b[38;5;246m12 │\u001b[0m \u001b[38;5;249m \u001b[0m\u001b[38;5;249m \u001b[0m\u001b[38;5;249m \u001b[0m\u001b[38;5;249m \u001b[0m\u001b[38;5;249mp\u001b[0m\u001b[38;5;249mr\u001b[0m\u001b[38;5;249mi\u001b[0m\u001b[38;5;249mn\u001b[0m\u001b[38;5;249mt\u001b[0m\u001b[38;5;249ml\u001b[0m\u001b[38;5;249mn\u001b[0m\u001b[38;5;249m!\u001b[0m\u001b[38;5;249m(\u001b[0m\u001b[38;5;249m\"\u001b[0m\u001b[38;5;249m{\u001b[0m\u001b[38;5;249m}\u001b[0m\u001b[38;5;249m\"\u001b[0m\u001b[38;5;249m,\u001b[0m\u001b[38;5;54mf\u001b[0m\u001b[38;5;54mo\u001b[0m\u001b[38;5;54mo\u001b[0m\u001b[38;5;249m.\u001b[0m\u001b[38;5;249mi\u001b[0m\u001b[38;5;249m)\u001b[0m\u001b[38;5;249m;\u001b[0m",
      " \u001b[38;5;246m   ·\u001b[0m                   \u001b[38;5;54m─\u001b[0m\u001b[38;5;54m┬\u001b[0m\u001b[38;5;54m─\u001b[0m  ",
      " \u001b[38;5;246m   ·\u001b[0m                    \u001b[38;5;54m╰\u001b[0m\u001b[38;5;54m─\u001b[0m\u001b[38;5;54m─\u001b[0m\u001b[38;5;54m─\u001b[0m error: cannot find value `foo` in this scope",
      "\u001b[38;5;246m────╯\u001b[0m"
     ]
    }
   ],
   "source": [
    "struct Foo<'a> {\n",
    "    i:&'a i32\n",
    "}\n",
    "\n",
    "fn main() {\n",
    "    let x = 42;\n",
    "    {\n",
    "        let foo = Foo {\n",
    "            i: &x\n",
    "        };\n",
    "    };\n",
    "    println!(\"{}\",foo.i);\n",
    "}\n",
    "\n",
    "main();"
   ]
  },
  {
   "cell_type": "code",
   "execution_count": 28,
   "id": "ebbf9694",
   "metadata": {},
   "outputs": [
    {
     "name": "stdout",
     "output_type": "stream",
     "text": [
      "42\n"
     ]
    }
   ],
   "source": [
    "fn main() {\n",
    "    let x = 42;\n",
    "    \n",
    "    let foo = Foo {\n",
    "            i: &x\n",
    "        };\n",
    "\n",
    "    println!(\"{}\",foo.i);\n",
    "}\n",
    "\n",
    "main();"
   ]
  },
  {
   "cell_type": "code",
   "execution_count": null,
   "id": "b3fb1211",
   "metadata": {},
   "outputs": [],
   "source": []
  },
  {
   "cell_type": "code",
   "execution_count": null,
   "id": "9bf9abf1",
   "metadata": {},
   "outputs": [],
   "source": []
  },
  {
   "cell_type": "code",
   "execution_count": 2,
   "id": "e1a1f66e",
   "metadata": {},
   "outputs": [],
   "source": [
    "struct S<'a> {\n",
    "    x : &'a i32,\n",
    "    y : &'a i32,\n",
    "}"
   ]
  },
  {
   "cell_type": "code",
   "execution_count": 4,
   "id": "d6767858",
   "metadata": {},
   "outputs": [
    {
     "ename": "Error",
     "evalue": "`y` does not live long enough",
     "output_type": "error",
     "traceback": [
      "            let s = S {x:&x, y:&y};",
      "\u001b[91m                               ^^\u001b[0m \u001b[94mborrowed value does not live long enough\u001b[0m",
      "    }",
      "\u001b[91m    ^\u001b[0m \u001b[94m`y` dropped here while still borrowed\u001b[0m",
      "        let y = 20;                        // y의 시작",
      "\u001b[91m            ^\u001b[0m \u001b[94mbinding `y` declared here\u001b[0m",
      "    println!(\" {} \", r);",
      "\u001b[91m                     ^\u001b[0m \u001b[94mborrow later used here\u001b[0m",
      "`y` does not live long enough"
     ]
    }
   ],
   "source": [
    "fn main() {\n",
    "    let x = 10;                            // x의 시작 \n",
    "    let r ;\n",
    "\n",
    "    {\n",
    "        let y = 20;                        // y의 시작\n",
    "        {\n",
    "            let s = S {x:&x, y:&y};\n",
    "            r = s.x;                       // r의 시작 \n",
    "        }\n",
    "    }\n",
    "\n",
    "    println!(\" {} \", r);\n",
    "}\n",
    "\n",
    "main();"
   ]
  },
  {
   "cell_type": "markdown",
   "id": "2c3577d0",
   "metadata": {},
   "source": [
    "## 변수를 지정하는 위치를 변경 "
   ]
  },
  {
   "cell_type": "code",
   "execution_count": 5,
   "id": "8aa618eb",
   "metadata": {},
   "outputs": [
    {
     "name": "stdout",
     "output_type": "stream",
     "text": [
      " 10 \n"
     ]
    }
   ],
   "source": [
    "fn main() {\n",
    "    let x = 10;                            // x의 시작 \n",
    "    let y = 20;                            // y의 시작\n",
    "    let r ;\n",
    "\n",
    "    {\n",
    "        {\n",
    "            let s = S {x:&x, y:&y};\n",
    "            r = s.x;                       // r의 시작 \n",
    "        }\n",
    "    }\n",
    "\n",
    "    println!(\" {} \", r);\n",
    "}\n",
    "\n",
    "main();"
   ]
  },
  {
   "cell_type": "markdown",
   "id": "0e06802c",
   "metadata": {},
   "source": [
    "## 구조체의 수명매개변수를 별도로 지정"
   ]
  },
  {
   "cell_type": "code",
   "execution_count": 6,
   "id": "56e4ec55",
   "metadata": {},
   "outputs": [],
   "source": [
    "struct S2<'a,'b> {\n",
    "    x : &'a i32,\n",
    "    y : &'b i32,\n",
    "}"
   ]
  },
  {
   "cell_type": "code",
   "execution_count": 7,
   "id": "7a3532d0",
   "metadata": {},
   "outputs": [
    {
     "name": "stdout",
     "output_type": "stream",
     "text": [
      " 10 \n"
     ]
    }
   ],
   "source": [
    "fn main() {\n",
    "    let x = 10;                            // x의 시작 \n",
    "    let r ;\n",
    "\n",
    "    {\n",
    "        let y = 20;                        // y의 시작\n",
    "        {\n",
    "            let s = S2 {x:&x, y:&y};\n",
    "            r = s.x;                       // r의 시작 \n",
    "        }\n",
    "    }\n",
    "\n",
    "    println!(\" {} \", r);\n",
    "}\n",
    "\n",
    "main();"
   ]
  },
  {
   "cell_type": "code",
   "execution_count": null,
   "id": "2b07e44a",
   "metadata": {},
   "outputs": [],
   "source": []
  },
  {
   "cell_type": "markdown",
   "id": "ce089e2a",
   "metadata": {},
   "source": [
    "## 3. 정적인 생명주기 \n",
    "\n",
    "### 정적인 생명주기\n",
    "- static 변수는 컴파일 타임에 생성되어 프로그램의 시작부터 끝까지 존재하는 메모리 리소스입니다. 이들은 명시적으로 자료형을 지정해 주어야 합니다.\n",
    "\n",
    "- static lifetime은 프로그램이 끝날 때까지 무한정 유지되는 메모리 리소스입니다. 이 정의에 따르면, 어떤 static lifetime의 리소스는 런타임에 생성될 수도 있다는 점 알아두세요.\n",
    "\n",
    "- static lifetime을 가진 리소스는 'static이라는 특별한 lifetime 지정자를 갖습니다.\n",
    "\n",
    "- 'static한 리소스는 절대 drop 되지 않습니다.\n",
    "\n",
    "- 만약 static lifetime을 가진 리소스가 참조를 포함하는 경우, 그들도 모두 'static이어야 합니다 (그 이하의 것들은 충분히 오래 살아남지 못합니다)."
   ]
  },
  {
   "cell_type": "code",
   "execution_count": null,
   "id": "ac8cc907",
   "metadata": {},
   "outputs": [],
   "source": []
  },
  {
   "cell_type": "code",
   "execution_count": 25,
   "id": "37ca4bd6",
   "metadata": {},
   "outputs": [
    {
     "name": "stdout",
     "output_type": "stream",
     "text": [
      "Hello World! 3.1415\n",
      "abracadabra\n"
     ]
    }
   ],
   "source": [
    "static PI: f64 = 3.1415;\n",
    "\n",
    "fn main() {\n",
    "    // static 변수는 함수 scope 안에도 넣을 수 있습니다\n",
    "    static mut SECRET: &'static str = \"swordfish\";\n",
    "\n",
    "    // string 값들은 'static lifetime을 갖습니다\n",
    "    let msg: &'static str = \"Hello World!\";\n",
    "    let p: &'static f64 = &PI;\n",
    "    println!(\"{} {}\", msg, p);\n",
    "\n",
    "    // 일부 규칙은 깰 수 있으나, 반드시 명시적으로 해야 합니다\n",
    "    unsafe {\n",
    "        // SECRET에 string 값을 설정할 수 있는데, 이 값 역시 'static이기 때문입니다\n",
    "        SECRET = \"abracadabra\";\n",
    "        println!(\"{}\", SECRET);\n",
    "    }\n",
    "}\n",
    "\n",
    "main();"
   ]
  },
  {
   "cell_type": "code",
   "execution_count": null,
   "id": "b07a0913",
   "metadata": {},
   "outputs": [],
   "source": []
  },
  {
   "cell_type": "markdown",
   "id": "4ccb3524",
   "metadata": {},
   "source": [
    "## 4. 수명매개변수와 제너릭을 같이 처리하기"
   ]
  },
  {
   "cell_type": "code",
   "execution_count": null,
   "id": "eb23264e",
   "metadata": {},
   "outputs": [],
   "source": []
  },
  {
   "cell_type": "code",
   "execution_count": 12,
   "id": "90603755",
   "metadata": {},
   "outputs": [
    {
     "name": "stdout",
     "output_type": "stream",
     "text": [
      "The first element is: 1\n"
     ]
    }
   ],
   "source": [
    "fn first_element<'a, T>(vec: &'a Vec<T>) -> Option<&'a T> {\n",
    "    vec.first()\n",
    "}\n",
    "\n",
    "fn main() {\n",
    "    let vec = vec![1, 2, 3, 4, 5];\n",
    "    let result = first_element(&vec);\n",
    "    \n",
    "    match result {\n",
    "        Some(value) => println!(\"The first element is: {}\", value),\n",
    "        None => println!(\"The vector is empty.\"),\n",
    "    }\n",
    "}\n",
    "\n",
    "main();"
   ]
  },
  {
   "cell_type": "code",
   "execution_count": null,
   "id": "6a685654",
   "metadata": {},
   "outputs": [],
   "source": []
  },
  {
   "cell_type": "code",
   "execution_count": null,
   "id": "a716c035",
   "metadata": {},
   "outputs": [],
   "source": []
  },
  {
   "cell_type": "code",
   "execution_count": null,
   "id": "ffbc808e",
   "metadata": {},
   "outputs": [],
   "source": []
  }
 ],
 "metadata": {
  "kernelspec": {
   "display_name": "Rust",
   "language": "rust",
   "name": "rust"
  },
  "language_info": {
   "codemirror_mode": "rust",
   "file_extension": ".rs",
   "mimetype": "text/rust",
   "name": "Rust",
   "pygment_lexer": "rust",
   "version": ""
  }
 },
 "nbformat": 4,
 "nbformat_minor": 5
}
