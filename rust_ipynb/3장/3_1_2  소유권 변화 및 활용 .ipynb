{
 "cells": [
  {
   "cell_type": "markdown",
   "id": "2f7fbcb9",
   "metadata": {},
   "source": [
    "# 1. 소유자에 대한 스코프\n",
    "\n",
    "### 소유자는 변수이고 소유권은 값(인스턴스 포함)에 있다. \n",
    "- 그래서 변수를 정의하면 소유자에게 소유권이 할당된다. \n",
    "- 변수를 정의할 때는 let과 let mut으로 지정한다. 이때 값이 할당되어 소유권을 가진다.  \n",
    "- 변수를 블럭단위로 정의하므로 변수의 유효범위는 해당 블럭이다. 이를 스코프라고 한다."
   ]
  },
  {
   "cell_type": "code",
   "execution_count": null,
   "id": "3cf6fc42",
   "metadata": {},
   "outputs": [],
   "source": []
  },
  {
   "cell_type": "markdown",
   "id": "500f4106",
   "metadata": {},
   "source": [
    "## 1-1  블럭 단위 스코프  \n",
    "\n",
    "- 기본적으로 변수를 블럭 단위로 관리한다.\n",
    "- 블럭 밖에 있는 변수는 모듈 기준의 변수이거나 정적변수이다.\n",
    "- 블럭은 중괄호로 내부의 스코프 영역을 구성하면서 코드를 작성할 수 있다."
   ]
  },
  {
   "cell_type": "markdown",
   "id": "6d093fa8",
   "metadata": {},
   "source": [
    "### 일반 블럭에 변수 정의 및 외부 사용(에러)\n",
    "\n",
    "- 일반 블럭도 블럭단위로 스코프를 고나리한다. 그래서 정의된 변수는 블럭 범위를 벗어나면 사용할 수 없다\n",
    "- 함수 블럭이나 일반 블럭 등 블럭 내부에서 정의한 변수는 그 블럭을 벗어나면 파기된다.\n",
    "- 그래서 변수가 소유한 값도 같이 파기된다.\n",
    "- 변수 즉 소유자가 파기되면 이 값을 대여한 변수들도 전부 파기된다. "
   ]
  },
  {
   "cell_type": "code",
   "execution_count": 5,
   "id": "9a7d81d7",
   "metadata": {},
   "outputs": [
    {
     "ename": "Error",
     "evalue": "cannot find value `var` in this scope",
     "output_type": "error",
     "traceback": [
      "println!(\" block = {}\", var);",
      "\u001b[91m                        ^^^\u001b[0m \u001b[94mnot found in this scope\u001b[0m",
      "cannot find value `var` in this scope",
      "\u001b[1mhelp\u001b[0m: consider importing this function\n\nuse std::env::var;"
     ]
    }
   ],
   "source": [
    "{\n",
    "    println!(\" 블럭 처리 \");\n",
    "    let var = 100;            // 블럭내부의 지역변수 \n",
    "}                             // 블럭 범위가 벗어나면 변수가 삭제됨 \n",
    "\n",
    "println!(\" block = {}\", var); // 파기된 변수를 참조하면 에러가 발생한다. "
   ]
  },
  {
   "cell_type": "markdown",
   "id": "f2904e62",
   "metadata": {},
   "source": [
    "### 위의 에러는 블럭 내에서 사용으로 에러를 제거함 \n",
    "\n",
    "- 소유자인 변수를 블록 내에 정의하고 블럭 내에서만 접근해서 사용하면 에러가 없다.  "
   ]
  },
  {
   "cell_type": "code",
   "execution_count": 2,
   "id": "5b7de6d4",
   "metadata": {},
   "outputs": [
    {
     "name": "stdout",
     "output_type": "stream",
     "text": [
      " 블럭 처리 \n",
      " block = 100\n"
     ]
    },
    {
     "data": {
      "text/plain": [
       "()"
      ]
     },
     "execution_count": 2,
     "metadata": {},
     "output_type": "execute_result"
    }
   ],
   "source": [
    "{\n",
    "    println!(\" 블럭 처리 \");\n",
    "    let var = 100;           // 블럭내부의 지역변수 \n",
    "    println!(\" block = {}\", var);\n",
    "}                            // 블럭 범위가 벗어나면 변수가 삭제됨 \n"
   ]
  },
  {
   "cell_type": "markdown",
   "id": "c3cee47e",
   "metadata": {},
   "source": [
    "### 블럭은 항상 반환한다.\n",
    "\n",
    "- 블럭의 마지막을 값으로 지정하면 이 값이 자동으로 반환된다. \n",
    "- 그래서 이 값을 변수에 할당이 가능하다. \n",
    "- 단순하게 값을 반환하므로 소유자가 바뀌는 것을 알 수 있다. \n",
    "-  새로운 변수에 블럭 내의 값을 반환하면 이 값의 소유자가 반환 값을 받는 변수가 된다. \n"
   ]
  },
  {
   "cell_type": "code",
   "execution_count": 3,
   "id": "d44f9e38",
   "metadata": {},
   "outputs": [
    {
     "name": "stdout",
     "output_type": "stream",
     "text": [
      " 블럭처리 \n"
     ]
    },
    {
     "data": {
      "text/plain": [
       "100"
      ]
     },
     "execution_count": 3,
     "metadata": {},
     "output_type": "execute_result"
    }
   ],
   "source": [
    "{                 // 전역변수 지정\n",
    "    println!(\" 블럭처리 \");\n",
    "    100                   // 값이 반환처리\n",
    "}"
   ]
  },
  {
   "cell_type": "code",
   "execution_count": 4,
   "id": "cab0b50c",
   "metadata": {},
   "outputs": [
    {
     "name": "stdout",
     "output_type": "stream",
     "text": [
      " 블럭처리 \n"
     ]
    }
   ],
   "source": [
    "let a = {                 // 전역변수 지정\n",
    "    println!(\" 블럭처리 \");\n",
    "    100                   // 값이 반환처리\n",
    "};"
   ]
  },
  {
   "cell_type": "code",
   "execution_count": 9,
   "id": "68dabee3",
   "metadata": {},
   "outputs": [
    {
     "data": {
      "text/plain": [
       "100"
      ]
     },
     "execution_count": 9,
     "metadata": {},
     "output_type": "execute_result"
    }
   ],
   "source": [
    "a"
   ]
  },
  {
   "cell_type": "code",
   "execution_count": null,
   "id": "775e149d",
   "metadata": {},
   "outputs": [],
   "source": []
  },
  {
   "cell_type": "markdown",
   "id": "337b8606",
   "metadata": {},
   "source": [
    "### 조건문 블럭도 지역 스코프를 가진다"
   ]
  },
  {
   "cell_type": "code",
   "execution_count": 5,
   "id": "7b6c1765",
   "metadata": {},
   "outputs": [
    {
     "ename": "Error",
     "evalue": "cannot find value `a_b` in this scope",
     "output_type": "error",
     "traceback": [
      "\u001b[31m[E0425] Error:\u001b[0m cannot find value `a_b` in this scope",
      "   \u001b[38;5;246m╭\u001b[0m\u001b[38;5;246m─\u001b[0m\u001b[38;5;246m[\u001b[0mcommand_5:1:1\u001b[38;5;246m]\u001b[0m",
      "   \u001b[38;5;246m│\u001b[0m",
      " \u001b[38;5;246m7 │\u001b[0m \u001b[38;5;249mp\u001b[0m\u001b[38;5;249mr\u001b[0m\u001b[38;5;249mi\u001b[0m\u001b[38;5;249mn\u001b[0m\u001b[38;5;249mt\u001b[0m\u001b[38;5;249ml\u001b[0m\u001b[38;5;249mn\u001b[0m\u001b[38;5;249m!\u001b[0m\u001b[38;5;249m(\u001b[0m\u001b[38;5;249m\"\u001b[0m\u001b[38;5;249m \u001b[0m\u001b[38;5;249m{\u001b[0m\u001b[38;5;249m}\u001b[0m\u001b[38;5;249m\"\u001b[0m\u001b[38;5;249m,\u001b[0m\u001b[38;5;249m \u001b[0m\u001b[38;5;54ma\u001b[0m\u001b[38;5;54m_\u001b[0m\u001b[38;5;54mb\u001b[0m\u001b[38;5;249m)\u001b[0m\u001b[38;5;249m;\u001b[0m",
      " \u001b[38;5;246m  ·\u001b[0m                 \u001b[38;5;54m─\u001b[0m\u001b[38;5;54m┬\u001b[0m\u001b[38;5;54m─\u001b[0m  ",
      " \u001b[38;5;246m  ·\u001b[0m                  \u001b[38;5;54m╰\u001b[0m\u001b[38;5;54m─\u001b[0m\u001b[38;5;54m─\u001b[0m\u001b[38;5;54m─\u001b[0m not found in this scope",
      "\u001b[38;5;246m───╯\u001b[0m"
     ]
    }
   ],
   "source": [
    "if true {\n",
    "    let a_b = 100;\n",
    "} else {\n",
    "    let a_c = 300;\n",
    "}\n",
    "\n",
    "println!(\" {}\", a_b);"
   ]
  },
  {
   "cell_type": "markdown",
   "id": "2b2a147d",
   "metadata": {},
   "source": [
    "### 순환문도 지역 스코프를 가진다. "
   ]
  },
  {
   "cell_type": "code",
   "execution_count": 8,
   "id": "bf18d308",
   "metadata": {},
   "outputs": [
    {
     "ename": "Error",
     "evalue": "cannot find value `a_d` in this scope",
     "output_type": "error",
     "traceback": [
      "\u001b[31m[E0425] Error:\u001b[0m cannot find value `a_d` in this scope",
      "   \u001b[38;5;246m╭\u001b[0m\u001b[38;5;246m─\u001b[0m\u001b[38;5;246m[\u001b[0mcommand_8:1:1\u001b[38;5;246m]\u001b[0m",
      "   \u001b[38;5;246m│\u001b[0m",
      " \u001b[38;5;246m8 │\u001b[0m \u001b[38;5;249m \u001b[0m\u001b[38;5;249m \u001b[0m\u001b[38;5;249m \u001b[0m\u001b[38;5;249m \u001b[0m\u001b[38;5;249mp\u001b[0m\u001b[38;5;249mr\u001b[0m\u001b[38;5;249mi\u001b[0m\u001b[38;5;249mn\u001b[0m\u001b[38;5;249mt\u001b[0m\u001b[38;5;249ml\u001b[0m\u001b[38;5;249mn\u001b[0m\u001b[38;5;249m!\u001b[0m\u001b[38;5;249m(\u001b[0m\u001b[38;5;249m\"\u001b[0m\u001b[38;5;249m{\u001b[0m\u001b[38;5;249m}\u001b[0m\u001b[38;5;249m\"\u001b[0m\u001b[38;5;249m,\u001b[0m\u001b[38;5;249m \u001b[0m\u001b[38;5;54ma\u001b[0m\u001b[38;5;54m_\u001b[0m\u001b[38;5;54md\u001b[0m\u001b[38;5;249m)\u001b[0m\u001b[38;5;249m;\u001b[0m",
      " \u001b[38;5;246m  ·\u001b[0m                    \u001b[38;5;54m─\u001b[0m\u001b[38;5;54m┬\u001b[0m\u001b[38;5;54m─\u001b[0m  ",
      " \u001b[38;5;246m  ·\u001b[0m                     \u001b[38;5;54m╰\u001b[0m\u001b[38;5;54m─\u001b[0m\u001b[38;5;54m─\u001b[0m\u001b[38;5;54m─\u001b[0m not found in this scope",
      "\u001b[38;5;246m───╯\u001b[0m"
     ]
    }
   ],
   "source": [
    "fn main() {\n",
    "    for i in 1..=5 {\n",
    "        println!(\"{}\", i);\n",
    "        \n",
    "        let a_d = 100;\n",
    "    }\n",
    "    \n",
    "    println!(\"{}\", a_d);\n",
    "}"
   ]
  },
  {
   "cell_type": "code",
   "execution_count": null,
   "id": "4644a75e",
   "metadata": {},
   "outputs": [],
   "source": []
  },
  {
   "cell_type": "markdown",
   "id": "5e90b1a7",
   "metadata": {},
   "source": [
    "## 1-2  소유자에 대한 값의 소유권 규칙 \n",
    "\n",
    "### 하나의 값은 항상 하나의 소유자만 존재한다. \n",
    "\n",
    "- 1. 러스트의 각각의 값은 해당값의 오너(owner)라고 불리우는 변수를 갖고 있다.\n",
    "- 2. 한번에 딱 하나의 오너만 존재할 수 있다.\n",
    "- 3. 오너가 스코프 밖으로 벗어나는 때, 값은 버려진다(dropped).\n",
    "\n",
    "### 스택 메모리의 값을 처리하는 방식\n",
    "-  컴파일 시점에 사이즈가 확정되는 원시타입은 스택에 저장\n",
    "- 그래서 스택에 저장되는 대부분의 값은 복사되어 소유권을 새롭게 생성한다.\n",
    "\n",
    "### 힙 메모리의 값을 처리하는 방식 \n",
    "- 런타입 시점에 사이즈가 변경되는 복합타입은 힙에 저장\n",
    "- 이 힙에 저장되는 것은 스택에 스마트 포인터가 저장된다. \n",
    "- 그래서 소유권을 변수에 이동한다. 이때 실제 힙에 저장된 값이 이동이 아니라 스택에 저장된 스마트포인터가 이동된다.\n"
   ]
  },
  {
   "cell_type": "markdown",
   "id": "a9dc7baa",
   "metadata": {},
   "source": [
    "## 스택 내의 소유권 처리 : 원시타입 \n",
    "\n",
    "- 원시타입은 변수가 소유권을 가지지만 다른 변수에 할당할 때 이동이 아닌 복사가 발생한다.\n",
    "- 스택 내에 들어가는 값은 항상 고정길이이므로 별도 이동없이 복사처리하는 것이다. "
   ]
  },
  {
   "cell_type": "code",
   "execution_count": 3,
   "id": "a233cb26",
   "metadata": {},
   "outputs": [],
   "source": [
    "fn main() {\n",
    "    let var = 100;        // 스택 메모리에 변수 정의 \n",
    "    let var1 = var;       // 스택 메모리에 복사 즉 별도의 메모리 생성 \n",
    "    \n",
    "    println!(\" var={}, var1={}\", var,var1);  // 두 변수의 값은 같지만 실제 다른 소유권이 생김 \n",
    "}"
   ]
  },
  {
   "cell_type": "code",
   "execution_count": 4,
   "id": "61c54a80",
   "metadata": {},
   "outputs": [
    {
     "name": "stdout",
     "output_type": "stream",
     "text": [
      " var=100, var1=100\n"
     ]
    }
   ],
   "source": [
    "main();"
   ]
  },
  {
   "cell_type": "markdown",
   "id": "64acc8cc",
   "metadata": {},
   "source": [
    "## 스택 내의 소유권 처리 :  배열\n",
    "\n",
    "- 배열은 고정길이이므로 여러 원소를 가지지만 스택에 저장된다. "
   ]
  },
  {
   "cell_type": "code",
   "execution_count": 30,
   "id": "532afa17",
   "metadata": {},
   "outputs": [],
   "source": [
    "fn main() {\n",
    "    let var = [1,2,3,4,];                       \n",
    "    let var1 = var;\n",
    "    \n",
    "    println!(\" var={:?}, var1={:?}\", var,var1);\n",
    "    println!(\" var == var1 {} \", var == var1);\n",
    "}"
   ]
  },
  {
   "cell_type": "code",
   "execution_count": 31,
   "id": "0b8bd7b0",
   "metadata": {},
   "outputs": [
    {
     "name": "stdout",
     "output_type": "stream",
     "text": [
      " var=[1, 2, 3, 4], var1=[1, 2, 3, 4]\n",
      " var == var1 true \n"
     ]
    }
   ],
   "source": [
    "main();"
   ]
  },
  {
   "cell_type": "code",
   "execution_count": null,
   "id": "388ff78c",
   "metadata": {},
   "outputs": [],
   "source": []
  },
  {
   "cell_type": "markdown",
   "id": "49588101",
   "metadata": {},
   "source": [
    "## 스택 내의 소유권 처리 : 스트링 리터럴 (&str) \n",
    "\n",
    "- 이 값은 프로그램 안에 하드코딩 되어 있습니다. \n",
    "- 문자열 값은 편리하지만, 여러분이 텍스트를 필요로 하는 모든 경우에 대해 항상 적절하진 않습니다. \n",
    "- 그 중 한가지 이유로, 문자열 값은 불변입니다(immutable)."
   ]
  },
  {
   "cell_type": "code",
   "execution_count": 10,
   "id": "c7f9fd01",
   "metadata": {},
   "outputs": [
    {
     "name": "stdout",
     "output_type": "stream",
     "text": [
      "s = hello\n"
     ]
    }
   ],
   "source": [
    "{                           // s는 유효하지 않습니다. 아직 선언이 안됐거든요.\n",
    "    let s1 = \"hello\";       // s는 이 지점부터 유효합니다.\n",
    "\n",
    "    println!(\"s = {}\", s1); // s를 가지고 뭔가 합니다.\n",
    "}                           // 이 스코프는 이제 끝이므로, s는 더이상 유효하지 않습니다.\n",
    "                            // s1 스코프 범위 밖은 유효하지 않음 "
   ]
  },
  {
   "cell_type": "markdown",
   "id": "fe7e4783",
   "metadata": {},
   "source": [
    "## 1-3 힙 소유권 처리 \n",
    "\n",
    "- 모든 데이터 타입들은 스택에 저장되었다가 스코프를 벗어날 때 스택에서 제거됩니다. \n",
    "- 힙에 지정된 경우도 이 힙과 연결된 구조체는 스택에 만들어진다."
   ]
  },
  {
   "cell_type": "markdown",
   "id": "e88bbcf1",
   "metadata": {},
   "source": [
    "## String 은 힙에 생성되는 변경가능한 문자열 \n",
    "\n",
    "- 문자열 타입인 String을 제공합니다. \n",
    "- 이 타입은 힙에 할당되고 그런고로 컴파일 타임에는 우리가 알 수 없는 양의 텍스트를 저장할 수 있습니다.\n",
    "\n",
    "- 런타임에 운영체제로부터 메모리가 요청되어야 한다. => 메소드 호출 \n",
    "- String의 사용이 끝났을 때 운영체제에게 메모리를 반납할 방법이 필요하다. => 가비지 콜렉터(GC) 를 갖고 있는 언어\n",
    "\n",
    "- 이 함수를 drop이라고 부르고, String의 개발자가 메모리를 반환하도록 하는 코드를 집어넣을 수 있습니다. \n",
    "     러스트는 } 괄호가 닫힐때 자동적으로 drop을 호출합니다."
   ]
  },
  {
   "cell_type": "code",
   "execution_count": 32,
   "id": "b5f35a77",
   "metadata": {},
   "outputs": [
    {
     "name": "stdout",
     "output_type": "stream",
     "text": [
      "hello, world!\n"
     ]
    }
   ],
   "source": [
    "let mut s = String::from(\"hello\");  // 전역영역 \n",
    "\n",
    "{ \n",
    "\n",
    "    s.push_str(\", world!\");         // push_str()은 해당 스트링 리터럴을 스트링에 붙여줍니다.\n",
    "    \n",
    "}\n",
    "\n",
    "println!(\"{}\", s);                   // 이 부분이 `hello, world!`를 출력할 겁니다."
   ]
  },
  {
   "cell_type": "markdown",
   "id": "272b50f8",
   "metadata": {},
   "source": [
    "## &str 문자열은 스택에 쌓여서 변경이 불가.  \n",
    "\n",
    "- to_owned 메소드를 사용해서 참조하면 변경이 가능"
   ]
  },
  {
   "cell_type": "code",
   "execution_count": 35,
   "id": "e57d7e24",
   "metadata": {},
   "outputs": [
    {
     "name": "stdout",
     "output_type": "stream",
     "text": [
      "helloworld \n",
      "hello \n"
     ]
    }
   ],
   "source": [
    "let mut ss = \"hello\"; \n",
    "\n",
    "// ss = ss + \"world\";   // cannot add `&str` to `&str`\n",
    "\n",
    "println!(\"{} \", ss.to_owned() + \"world\");\n",
    "\n",
    "println!(\"{} \", ss);"
   ]
  },
  {
   "cell_type": "code",
   "execution_count": 28,
   "id": "d18001aa",
   "metadata": {},
   "outputs": [
    {
     "data": {
      "text/plain": [
       "\"hello\""
      ]
     },
     "execution_count": 28,
     "metadata": {},
     "output_type": "execute_result"
    }
   ],
   "source": [
    "ss"
   ]
  },
  {
   "cell_type": "code",
   "execution_count": null,
   "id": "3334c60d",
   "metadata": {},
   "outputs": [],
   "source": []
  },
  {
   "cell_type": "code",
   "execution_count": null,
   "id": "40a776fd",
   "metadata": {},
   "outputs": [],
   "source": []
  },
  {
   "cell_type": "markdown",
   "id": "cc0118c3",
   "metadata": {},
   "source": [
    "# 2. 변수와 데이터가 상호작용하는 방법: 이동(move)\n",
    "\n",
    "\n",
    "- 소유권이 어떻게 다른 변수로 이동되는 지를 알아본다. "
   ]
  },
  {
   "cell_type": "markdown",
   "id": "96bb8219",
   "metadata": {},
   "source": [
    "## 2-1 원시 타입은 이동이 아닌 복사가 발생하는 것들 \n",
    "\n",
    "- u32와 같은 모든 정수형 타입들\n",
    "- true와 false값을 갖는 부울린 타입 bool\n",
    "- f64와 같은 모든 부동 소수점 타입들\n",
    "- Copy가 가능한 타입만으로 구성된 튜플들. (i32, i32)는 Copy가 되지만, (i32, String)은 안됩니다."
   ]
  },
  {
   "cell_type": "markdown",
   "id": "cd4e2055",
   "metadata": {},
   "source": [
    "### 숫자 타입 "
   ]
  },
  {
   "cell_type": "code",
   "execution_count": 28,
   "id": "05f13119",
   "metadata": {},
   "outputs": [],
   "source": [
    "fn main() { \n",
    "    \n",
    "    let x = 5;\n",
    "    let y = x;\n",
    "\n",
    "    println!(\" x = {}\", x);\n",
    "    println!(\" y = {}\", y);\n",
    "    println!(\" x== y {}\", x==y);\n",
    "    println!(\" x.eq(&y) {}\", x.eq(&y));\n",
    "    println!(\" std::ptr::eq {}\", std::ptr::eq(&x,&y));   // 복사가 일어나서 다른 값\n",
    "}"
   ]
  },
  {
   "cell_type": "code",
   "execution_count": 29,
   "id": "c85b9535",
   "metadata": {},
   "outputs": [
    {
     "name": "stdout",
     "output_type": "stream",
     "text": [
      " x = 5\n",
      " y = 5\n",
      " x== y true\n",
      " x.eq(&y) true\n",
      " std::ptr::eq false\n"
     ]
    }
   ],
   "source": [
    "main();"
   ]
  },
  {
   "cell_type": "code",
   "execution_count": null,
   "id": "95a84d68",
   "metadata": {},
   "outputs": [],
   "source": []
  },
  {
   "cell_type": "markdown",
   "id": "4e2f0777",
   "metadata": {},
   "source": [
    "### 문자열리터럴 타입 "
   ]
  },
  {
   "cell_type": "code",
   "execution_count": 41,
   "id": "822ab5c8",
   "metadata": {},
   "outputs": [
    {
     "name": "stdout",
     "output_type": "stream",
     "text": [
      " xs = 가을\n"
     ]
    },
    {
     "data": {
      "text/plain": [
       "()"
      ]
     },
     "execution_count": 41,
     "metadata": {},
     "output_type": "execute_result"
    }
   ],
   "source": [
    "let xs = \"가을\";\n",
    "let ys = xs;\n",
    "\n",
    "println!(\" xs = {}\", xs)"
   ]
  },
  {
   "cell_type": "markdown",
   "id": "23d96d43",
   "metadata": {},
   "source": [
    "## 2-2 이동으로 소유권 이동 \n",
    "\n",
    "- 러스트에서는 xss이 더이상 유효하지 않다고 간주하고, \n",
    "- 그러므로 러스트는 xss가 스코프 밖으로 벗어났을 때 이무것도 해제할 필요가 없어집니다.\n",
    "\n",
    "- 첫번째 변수를 무효화 시키기도 하기 때문에, 이를 얕은 복사라고 부르는 대신 이동(move)이라 말합니다. "
   ]
  },
  {
   "cell_type": "markdown",
   "id": "2bdf1ae8",
   "metadata": {},
   "source": [
    "### 힙에 저장되는 문자열 "
   ]
  },
  {
   "cell_type": "code",
   "execution_count": 8,
   "id": "adc9a1bf",
   "metadata": {},
   "outputs": [],
   "source": [
    "let xss = String::from(\"가을\");\n",
    "let yss = xss;\n",
    "// println!(\" xss = {}\", xss)   // borrow of moved value: `xss`"
   ]
  },
  {
   "cell_type": "code",
   "execution_count": null,
   "id": "ab3b097f",
   "metadata": {},
   "outputs": [],
   "source": []
  },
  {
   "cell_type": "code",
   "execution_count": 7,
   "id": "c5c9e494",
   "metadata": {},
   "outputs": [],
   "source": [
    "let v = vec![12,3,4];\n",
    "let v1 = v;\n",
    "// println!(\" v = {}\", v)   // borrow of moved value: `v`"
   ]
  },
  {
   "cell_type": "code",
   "execution_count": null,
   "id": "96a6a65b",
   "metadata": {},
   "outputs": [],
   "source": []
  },
  {
   "cell_type": "markdown",
   "id": "e04640c6",
   "metadata": {},
   "source": [
    "## 2-3 이동을 방지해서 처리하는 방법 : 클론\n",
    "\n",
    "-  힙 데이터가 계속 필요하면 기존 데이터를 복제해서 새로윤 소유자를 만든다.\n",
    "- 즉 힙에 새로운 메모리에 값을 저장하고 소유자를 지정하는 것이다. "
   ]
  },
  {
   "cell_type": "code",
   "execution_count": 9,
   "id": "5077348f",
   "metadata": {},
   "outputs": [
    {
     "name": "stdout",
     "output_type": "stream",
     "text": [
      "s11 = hello, s22 = hello\n"
     ]
    }
   ],
   "source": [
    "let s11 = String::from(\"hello\");\n",
    "let s22 = s11.clone();\n",
    "\n",
    "println!(\"s11 = {}, s22 = {}\", s11, s22);"
   ]
  },
  {
   "cell_type": "markdown",
   "id": "123c92df",
   "metadata": {},
   "source": [
    "### 값은 같지만 실제 저장된 메모리는 다르다"
   ]
  },
  {
   "cell_type": "code",
   "execution_count": 11,
   "id": "18b4156c",
   "metadata": {},
   "outputs": [
    {
     "data": {
      "text/plain": [
       "true"
      ]
     },
     "execution_count": 11,
     "metadata": {},
     "output_type": "execute_result"
    }
   ],
   "source": [
    "s11 == s22"
   ]
  },
  {
   "cell_type": "markdown",
   "id": "daead7b7",
   "metadata": {},
   "source": [
    "### 문자열을 비교할 경우는 인자로 참조를 전달해야함"
   ]
  },
  {
   "cell_type": "code",
   "execution_count": 17,
   "id": "fe59b512",
   "metadata": {},
   "outputs": [
    {
     "data": {
      "text/plain": [
       "true"
      ]
     },
     "execution_count": 17,
     "metadata": {},
     "output_type": "execute_result"
    }
   ],
   "source": [
    "s11.eq(&s22)"
   ]
  },
  {
   "cell_type": "markdown",
   "id": "f68dd8d4",
   "metadata": {},
   "source": [
    "### 메모리 비료는 ptr::eq 함수로 처리"
   ]
  },
  {
   "cell_type": "code",
   "execution_count": 13,
   "id": "603f9bda",
   "metadata": {},
   "outputs": [
    {
     "data": {
      "text/plain": [
       "false"
      ]
     },
     "execution_count": 13,
     "metadata": {},
     "output_type": "execute_result"
    }
   ],
   "source": [
    "std::ptr::eq(&s11,&s22)"
   ]
  },
  {
   "cell_type": "markdown",
   "id": "aed3dc5d",
   "metadata": {},
   "source": [
    "## 2-4 함수의 인자로 전달할 때  복사와 이동 \n",
    "\n",
    "- 변수에 할당하듣 매개변수에 값을 할당하면 복사와 이동이 발생한다.\n",
    "- 이동이 되면 소유자가 매개변수가 되어 기존 변수가 삭제된다.\n"
   ]
  },
  {
   "cell_type": "code",
   "execution_count": 48,
   "id": "f25c1e4a",
   "metadata": {},
   "outputs": [],
   "source": [
    "fn main() {\n",
    "    let s = String::from(\"hello\");  // s가 스코프 안으로 들어왔습니다.\n",
    "    \n",
    "    let ss = \"world\";\n",
    "    \n",
    "    let st = s.clone();             // s의 값이 함수 안으로 이동하기 전에 복사했습니다...\n",
    "\n",
    "    takes_ownership(s);             // s의 값이 함수 안으로 이동했습니다...\n",
    "                                    // ... 그리고 이제 더이상 유효하지 않습니다.\n",
    "    let x = 5;                      // x가 스코프 안으로 들어왔습니다.\n",
    "\n",
    "    makes_copy(x);                  // x가 함수 안으로 이동했습니다만,\n",
    "                                    // i32는 Copy가 되므로, x를 이후에 계속\n",
    "                                    // 사용해도 됩니다.\n",
    "    \n",
    "    println!(\"x = {}\", x);\n",
    "    \n",
    "    println!(\"ss = {}\", ss);\n",
    "    println!(\"st = {}\", st);\n",
    "\n",
    "}                                         // 여기서 x는 스코프 밖으로 나가고, s도 그 후 나갑니다. 하지만 s는 이미 이동되었으므로,\n",
    "                                          // 별다른 일이 발생하지 않습니다.\n",
    "\n",
    "fn takes_ownership(some_string: String) { // some_string이 스코프 안으로 들어왔습니다.\n",
    "    println!(\"{}\", some_string);\n",
    "}                                         // 여기서 some_string이 스코프 밖으로 벗어났고 `drop`이 호출됩니다. 메모리는\n",
    "                                          // 해제되었습니다.\n",
    "\n",
    "fn makes_copy(some_integer: i32) {        // some_integer이 스코프 안으로 들어왔습니다.\n",
    "    println!(\"{}\", some_integer);\n",
    "}                                          // 여기서 some_integer가 스코프 밖으로 벗어났습니다. 별다른 일은 발생하지 않습니다."
   ]
  },
  {
   "cell_type": "code",
   "execution_count": 49,
   "id": "5030d402",
   "metadata": {},
   "outputs": [
    {
     "name": "stdout",
     "output_type": "stream",
     "text": [
      "hello\n",
      "5\n",
      "x = 5\n",
      "ss = world\n",
      "st = hello\n"
     ]
    },
    {
     "data": {
      "text/plain": [
       "()"
      ]
     },
     "execution_count": 49,
     "metadata": {},
     "output_type": "execute_result"
    }
   ],
   "source": [
    "main()"
   ]
  },
  {
   "cell_type": "markdown",
   "id": "35cd83ed",
   "metadata": {},
   "source": [
    "## 2-5 반환값이 소유권이동\n",
    "\n",
    "- 함수의 반환값도 값이므로 소유권을 가지고 있고 이를 다시 변수에 할당하면 소유자가 새롭게 생긴다.\n",
    "- 반환값이 참조일 경우는 변수에 참조를 처리하는 것과 동일하다.  이때 주의할 점은 지역변수가 소유자일때 이 참조를 반환처리하면 안된다."
   ]
  },
  {
   "cell_type": "code",
   "execution_count": null,
   "id": "38f013f3",
   "metadata": {},
   "outputs": [],
   "source": []
  },
  {
   "cell_type": "code",
   "execution_count": 51,
   "id": "f1b1e392",
   "metadata": {},
   "outputs": [],
   "source": [
    "fn main() {\n",
    "    let s1 = String::from(\"hello\");\n",
    "\n",
    "    let (s2, len) = calculate_length(s1);\n",
    "\n",
    "    println!(\"The length of '{}' is {}.\", s2, len);\n",
    "}\n",
    "\n",
    "fn calculate_length(s: String) -> (String, usize) {\n",
    "    let length = s.len();                            // len()함수는 문자열의 길이를 반환합니다.\n",
    "\n",
    "    (s, length)\n",
    "}"
   ]
  },
  {
   "cell_type": "code",
   "execution_count": 52,
   "id": "8930de55",
   "metadata": {},
   "outputs": [
    {
     "name": "stdout",
     "output_type": "stream",
     "text": [
      "The length of 'hello' is 5.\n"
     ]
    },
    {
     "data": {
      "text/plain": [
       "()"
      ]
     },
     "execution_count": 52,
     "metadata": {},
     "output_type": "execute_result"
    }
   ],
   "source": [
    "main()"
   ]
  },
  {
   "cell_type": "code",
   "execution_count": null,
   "id": "40ca3301",
   "metadata": {},
   "outputs": [],
   "source": []
  },
  {
   "cell_type": "markdown",
   "id": "38ab0dd9",
   "metadata": {},
   "source": [
    "## 3. 범위를 가지고 처리 \n",
    "\n",
    "- "
   ]
  },
  {
   "cell_type": "markdown",
   "id": "0a8ed177",
   "metadata": {},
   "source": [
    "### 순환문에서 정수를 가지고 처리할 때는 이동이 아닌 복사처리"
   ]
  },
  {
   "cell_type": "code",
   "execution_count": 10,
   "id": "53482a39",
   "metadata": {},
   "outputs": [],
   "source": [
    "fn main() { \n",
    "    let mut limit = 4; \n",
    "    for i in 1..limit {\n",
    "        limit -= 1;\n",
    "        println!(\"{} \", i);\n",
    "        println!(\"limit :{}\", limit);\n",
    "    }\n",
    "    println!(\"limit :{}\", limit);\n",
    "}"
   ]
  },
  {
   "cell_type": "code",
   "execution_count": 11,
   "id": "b32a7c26",
   "metadata": {},
   "outputs": [
    {
     "name": "stdout",
     "output_type": "stream",
     "text": [
      "1 \n",
      "limit :3\n",
      "2 \n",
      "limit :2\n",
      "3 \n",
      "limit :1\n",
      "limit :1\n"
     ]
    },
    {
     "data": {
      "text/plain": [
       "()"
      ]
     },
     "execution_count": 11,
     "metadata": {},
     "output_type": "execute_result"
    }
   ],
   "source": [
    "main()"
   ]
  },
  {
   "cell_type": "code",
   "execution_count": null,
   "id": "eadd8b29",
   "metadata": {},
   "outputs": [],
   "source": []
  },
  {
   "cell_type": "code",
   "execution_count": null,
   "id": "426a3515",
   "metadata": {},
   "outputs": [],
   "source": []
  }
 ],
 "metadata": {
  "kernelspec": {
   "display_name": "Rust",
   "language": "rust",
   "name": "rust"
  },
  "language_info": {
   "codemirror_mode": "rust",
   "file_extension": ".rs",
   "mimetype": "text/rust",
   "name": "Rust",
   "pygment_lexer": "rust",
   "version": ""
  }
 },
 "nbformat": 4,
 "nbformat_minor": 5
}
