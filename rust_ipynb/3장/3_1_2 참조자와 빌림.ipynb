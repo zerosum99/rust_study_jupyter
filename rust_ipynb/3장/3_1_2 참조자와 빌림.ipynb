{
 "cells": [
  {
   "cell_type": "markdown",
   "id": "b48b6cb8",
   "metadata": {},
   "source": [
    "# 참조자(References)와 빌림(Borrowing)\n"
   ]
  },
  {
   "cell_type": "markdown",
   "id": "0bf7e007",
   "metadata": {},
   "source": [
    "\n",
    "- 변수 s가 유효한 스코프는 여느 함수의 파라미터의 스코프와 동일하지만, \n",
    "- 소유권을 갖고 있지 않으므로 이 참조자가 스코프 밖으로 벗어났을 때 참조자가 가리키고 있는 값은 버리지 않습니다. \n",
    "- 또한 실제 값 대신 참조자를 파라미터로 갖고 있는 함수는 소유권을 갖고 있지 않기 때문에 \n",
    "- 소유권을 되돌려주기 위해 값을 다시 반환할 필요도 없다는 뜻이 됩니다."
   ]
  },
  {
   "cell_type": "code",
   "execution_count": 2,
   "id": "ad3b5af8",
   "metadata": {},
   "outputs": [],
   "source": [
    "fn main() {\n",
    "    let s1 = String::from(\"hello\");\n",
    "\n",
    "    let len = calculate_length(&s1);\n",
    "\n",
    "    println!(\"The length of '{}' is {}.\", s1, len);\n",
    "}\n",
    "\n",
    "fn calculate_length(s: &String) -> usize { // s는 String의 참조자입니다\n",
    "    s.len()\n",
    "} // 여기서 s는 스코프 밖으로 벗어났습니다. 하지만 가리키고 있는 값에 대한 소유권이 없기\n",
    "  // 때문에, 아무런 일도 발생하지 않습니다."
   ]
  },
  {
   "cell_type": "code",
   "execution_count": 3,
   "id": "cdd6dbae",
   "metadata": {},
   "outputs": [
    {
     "name": "stdout",
     "output_type": "stream",
     "text": [
      "The length of 'hello' is 5.\n"
     ]
    },
    {
     "data": {
      "text/plain": [
       "()"
      ]
     },
     "execution_count": 3,
     "metadata": {},
     "output_type": "execute_result"
    }
   ],
   "source": [
    "main()"
   ]
  },
  {
   "cell_type": "markdown",
   "id": "1dafb874",
   "metadata": {},
   "source": [
    "## 참조는 갱신이 불가하다"
   ]
  },
  {
   "cell_type": "code",
   "execution_count": 5,
   "id": "10e025ae",
   "metadata": {},
   "outputs": [
    {
     "ename": "Error",
     "evalue": "cannot borrow `*some_string` as mutable, as it is behind a `&` reference",
     "output_type": "error",
     "traceback": [
      "    some_string.push_str(\", world\");",
      "\u001b[91m    ^^^^^^^^^^^^^^^^^^^^^^^^^^^^^^^\u001b[0m \u001b[94m`some_string` is a `&` reference, so the data it refers to cannot be borrowed as mutable\u001b[0m",
      "cannot borrow `*some_string` as mutable, as it is behind a `&` reference",
      "\u001b[1mhelp\u001b[0m: consider changing this to be a mutable reference\n\n&mut String"
     ]
    }
   ],
   "source": [
    "fn main() {\n",
    "    let s = String::from(\"hello\");\n",
    "\n",
    "    change(&s);\n",
    "}\n",
    "\n",
    "fn change(some_string: &String) {\n",
    "    some_string.push_str(\", world\");\n",
    "}"
   ]
  },
  {
   "cell_type": "markdown",
   "id": "5dd36d54",
   "metadata": {},
   "source": [
    "## 갱신은 가변 참조를 사용한다\n",
    "\n",
    "- 가변 참조자는 딱 한가지 큰 제한이 있습니다: 특정한 스코프 내에 특정한 데이터 조각에 대한 가변 참조자를 딱 하나만 만들 수 있다는 겁니다"
   ]
  },
  {
   "cell_type": "code",
   "execution_count": 12,
   "id": "711f474f",
   "metadata": {},
   "outputs": [],
   "source": [
    "fn main() {\n",
    "    let mut s = String::from(\"hello\");\n",
    "\n",
    "    change(&mut s);\n",
    "    \n",
    "    println!(\"s = {}\", s)\n",
    "}\n",
    "\n",
    "fn change(some_string: &mut String) {\n",
    "    some_string.push_str(\", world\");\n",
    "}"
   ]
  },
  {
   "cell_type": "code",
   "execution_count": 13,
   "id": "29705728",
   "metadata": {},
   "outputs": [
    {
     "name": "stdout",
     "output_type": "stream",
     "text": [
      "s = hello, world\n"
     ]
    },
    {
     "data": {
      "text/plain": [
       "()"
      ]
     },
     "execution_count": 13,
     "metadata": {},
     "output_type": "execute_result"
    }
   ],
   "source": [
    "main()"
   ]
  },
  {
   "cell_type": "markdown",
   "id": "0b1f150e",
   "metadata": {},
   "source": [
    "## 스코프 별로 가변 참조는 하나만 사용이 가능하다"
   ]
  },
  {
   "cell_type": "code",
   "execution_count": 21,
   "id": "573cd7da",
   "metadata": {},
   "outputs": [
    {
     "data": {
      "text/plain": [
       "()"
      ]
     },
     "execution_count": 21,
     "metadata": {},
     "output_type": "execute_result"
    }
   ],
   "source": [
    "let mut s = String::from(\"hello\");\n",
    "\n",
    "{\n",
    "    let _r1 = &mut s;\n",
    "\n",
    "} // 여기서 r1은 스코프 밖으로 벗어났으므로, 우리는 아무 문제 없이 새로운 참조자를 만들 수 있습니다.\n",
    "\n",
    "{\n",
    "    let _r2 = &mut s;\n",
    "}"
   ]
  },
  {
   "cell_type": "code",
   "execution_count": null,
   "id": "73eb77b1",
   "metadata": {},
   "outputs": [],
   "source": []
  },
  {
   "cell_type": "code",
   "execution_count": 27,
   "id": "47eb7c52",
   "metadata": {},
   "outputs": [],
   "source": [
    "\n",
    "fn main() { \n",
    "    let mut s1 = String::from(\"hello\");\n",
    "\n",
    "    let r11 = &s1; // 문제 없음\n",
    "    let r22 = &s1; // 문제 없음\n",
    "    let r33 = &mut s1; \n",
    "}"
   ]
  },
  {
   "cell_type": "code",
   "execution_count": 28,
   "id": "c5ea4b0b",
   "metadata": {},
   "outputs": [
    {
     "data": {
      "text/plain": [
       "()"
      ]
     },
     "execution_count": 28,
     "metadata": {},
     "output_type": "execute_result"
    }
   ],
   "source": [
    "main()"
   ]
  },
  {
   "cell_type": "code",
   "execution_count": null,
   "id": "f4a8cf2d",
   "metadata": {},
   "outputs": [],
   "source": []
  },
  {
   "cell_type": "code",
   "execution_count": null,
   "id": "88629ad8",
   "metadata": {},
   "outputs": [],
   "source": []
  },
  {
   "cell_type": "code",
   "execution_count": 29,
   "id": "64ee016f",
   "metadata": {},
   "outputs": [
    {
     "ename": "Error",
     "evalue": "missing lifetime specifier",
     "output_type": "error",
     "traceback": [
      "fn dangle() -> &String { // dangle은 String의 참조자를 반환합니다",
      "\u001b[91m               ^\u001b[0m \u001b[94mexpected named lifetime parameter\u001b[0m",
      "missing lifetime specifier",
      "\u001b[1mhelp\u001b[0m: this function's return type contains a borrowed value, but there is no value for it to be borrowed from",
      "\u001b[1mhelp\u001b[0m: consider using the `'static` lifetime\n\n&'static"
     ]
    }
   ],
   "source": [
    "fn main() {\n",
    "    let reference_to_nothing = dangle();\n",
    "}\n",
    "\n",
    "fn dangle() -> &String { // dangle은 String의 참조자를 반환합니다\n",
    "\n",
    "    let s = String::from(\"hello\"); // s는 새로운 String입니다\n",
    "\n",
    "    &s // 우리는 String s의 참조자를 반환합니다.\n",
    "} // 여기서 s는 스코프를 벗어나고 버려집니다. 이것의 메모리는 사라집니다.\n",
    "  // 위험하군요!"
   ]
  },
  {
   "cell_type": "markdown",
   "id": "2fbaf019",
   "metadata": {},
   "source": [
    "## 위의 해법 "
   ]
  },
  {
   "cell_type": "code",
   "execution_count": 30,
   "id": "d60adb5f",
   "metadata": {},
   "outputs": [],
   "source": [
    "fn main() {\n",
    "    let reference_to_nothing = dangle();\n",
    "}\n",
    "\n",
    "fn dangle() -> String { // dangle은 String의 참조자를 반환합니다\n",
    "\n",
    "    let s = String::from(\"hello\"); // s는 새로운 String입니다\n",
    "\n",
    "    s // 우리는 String s의 참조자를 반환합니다.\n",
    "} // 여기서 s는 스코프를 벗어나고 버려집니다. 이것의 메모리는 사라집니다.\n",
    "  // 위험하군요!"
   ]
  },
  {
   "cell_type": "code",
   "execution_count": 31,
   "id": "80b6277e",
   "metadata": {},
   "outputs": [
    {
     "data": {
      "text/plain": [
       "()"
      ]
     },
     "execution_count": 31,
     "metadata": {},
     "output_type": "execute_result"
    }
   ],
   "source": [
    "main()"
   ]
  },
  {
   "cell_type": "code",
   "execution_count": null,
   "id": "0c4bebba",
   "metadata": {},
   "outputs": [],
   "source": []
  }
 ],
 "metadata": {
  "kernelspec": {
   "display_name": "Rust",
   "language": "rust",
   "name": "rust"
  },
  "language_info": {
   "codemirror_mode": "rust",
   "file_extension": ".rs",
   "mimetype": "text/rust",
   "name": "Rust",
   "pygment_lexer": "rust",
   "version": ""
  }
 },
 "nbformat": 4,
 "nbformat_minor": 5
}
