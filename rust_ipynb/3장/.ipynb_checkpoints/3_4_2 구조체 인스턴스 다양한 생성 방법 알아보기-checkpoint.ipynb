{
 "cells": [
  {
   "cell_type": "code",
   "execution_count": null,
   "id": "6ff90752",
   "metadata": {},
   "outputs": [],
   "source": []
  },
  {
   "cell_type": "code",
   "execution_count": null,
   "id": "142241a8",
   "metadata": {},
   "outputs": [],
   "source": []
  },
  {
   "cell_type": "code",
   "execution_count": null,
   "id": "fc679db5",
   "metadata": {},
   "outputs": [],
   "source": []
  },
  {
   "cell_type": "markdown",
   "id": "379f7a08",
   "metadata": {},
   "source": [
    "## 1. 필드 값을 직접 할당하여 인스턴스 생성하기"
   ]
  },
  {
   "cell_type": "code",
   "execution_count": 2,
   "id": "cc515dc4",
   "metadata": {},
   "outputs": [],
   "source": [
    "#[derive(Debug)]\n",
    "struct Person {\n",
    "    name: String,\n",
    "    age: u32,\n",
    "}"
   ]
  },
  {
   "cell_type": "code",
   "execution_count": 3,
   "id": "54806a65",
   "metadata": {},
   "outputs": [],
   "source": [
    "let person = Person {\n",
    "    name: String::from(\"Alice\"),\n",
    "    age: 30,\n",
    "};"
   ]
  },
  {
   "cell_type": "code",
   "execution_count": null,
   "id": "40575c3a",
   "metadata": {},
   "outputs": [],
   "source": []
  },
  {
   "cell_type": "markdown",
   "id": "d7f6892f",
   "metadata": {},
   "source": [
    "## 2, 구조체에 구현된 new 함수 사용하기"
   ]
  },
  {
   "cell_type": "code",
   "execution_count": 4,
   "id": "1252ee8b",
   "metadata": {},
   "outputs": [],
   "source": [
    "impl Person {\n",
    "    fn new(name: String, age: u32) -> Self {\n",
    "        Person { name, age }\n",
    "    }\n",
    "}\n",
    "\n",
    "let person = Person::new(String::from(\"Bob\"), 25);"
   ]
  },
  {
   "cell_type": "markdown",
   "id": "8c24d374",
   "metadata": {},
   "source": [
    "### 디폴트값 처리"
   ]
  },
  {
   "cell_type": "code",
   "execution_count": 6,
   "id": "d7ae2553",
   "metadata": {},
   "outputs": [],
   "source": [
    "impl Person {\n",
    "    fn new_(name: String, age: Option<u32>) -> Person {\n",
    "        let default_age = 18;\n",
    "        Person {\n",
    "            name,\n",
    "            age: age.unwrap_or(default_age),\n",
    "        }\n",
    "    }\n",
    "}\n",
    "\n",
    "let person1 = Person::new_(String::from(\"Alice\"), Some(20));\n",
    "let person2 = Person::new_(String::from(\"Bob\"), None);"
   ]
  },
  {
   "cell_type": "markdown",
   "id": "3555c2bb",
   "metadata": {},
   "source": [
    "### 구조체 인스턴스 갱신 "
   ]
  },
  {
   "cell_type": "code",
   "execution_count": 7,
   "id": "2f1c5dd2",
   "metadata": {},
   "outputs": [],
   "source": [
    "// init 함수를 사용하여 구조체 인스턴스 생성\n",
    "impl Person {\n",
    "    fn init(&mut self, name: String, age: u32) {\n",
    "        self.name = name;\n",
    "        self.age = age;\n",
    "    }\n",
    "}"
   ]
  },
  {
   "cell_type": "code",
   "execution_count": 8,
   "id": "60a48696",
   "metadata": {},
   "outputs": [],
   "source": [
    "let mut person3 = Person {\n",
    "    name: String::from(\"Charlie\"),\n",
    "    age: 20,\n",
    "};\n",
    "person3.init(String::from(\"David\"), 35);"
   ]
  },
  {
   "cell_type": "code",
   "execution_count": 9,
   "id": "f35888a1",
   "metadata": {},
   "outputs": [
    {
     "name": "stdout",
     "output_type": "stream",
     "text": [
      "Person { name: \"David\", age: 35 }\n"
     ]
    }
   ],
   "source": [
    "println!(\"{:?}\",person3);"
   ]
  },
  {
   "cell_type": "markdown",
   "id": "a79b2ce1",
   "metadata": {},
   "source": [
    "## 3. 기존 인스턴스를 복제하여 새로운 인스턴스 생성하기\n",
    "\n",
    "- ..은 구조체 인스턴스의 나머지 필드 값을 그대로 가져오겠다는 의미입니다. \n",
    "- 따라서 person2는 person1의 모든 필드 값을 그대로 가지고 있게 됩니다."
   ]
  },
  {
   "cell_type": "code",
   "execution_count": null,
   "id": "bad99918",
   "metadata": {},
   "outputs": [],
   "source": []
  },
  {
   "cell_type": "code",
   "execution_count": 10,
   "id": "64bb3794",
   "metadata": {},
   "outputs": [],
   "source": [
    "let person1 = Person {\n",
    "    name: String::from(\"Charlie\"),\n",
    "    age: 40,\n",
    "};\n",
    "\n",
    "let person2 = Person { ..person1 };"
   ]
  },
  {
   "cell_type": "code",
   "execution_count": null,
   "id": "78dbce70",
   "metadata": {},
   "outputs": [],
   "source": []
  },
  {
   "cell_type": "markdown",
   "id": "5b087aba",
   "metadata": {},
   "source": [
    "## 4. 빌더 패턴을 사용하여 인스턴스 생성하기"
   ]
  },
  {
   "cell_type": "markdown",
   "id": "2f22c36a",
   "metadata": {},
   "source": [
    "- PersonBuilder는 Person의 필드 값을 설정하기 위한 빌더 패턴을 구현한 구조체입니다. \n",
    "- PersonBuilder는 new 함수로 시작하여 name과 age 필드 값을 설정한 후 build 함수를 호출하여 Person 인스턴스를 생성합니다.\n",
    "- build 함수는 필드 값이 누락된 경우 Err 값을 반환합니다.\n",
    "- 따라서 unwrap 함수를 사용하여 Person 인스턴스를 가져옵니다."
   ]
  },
  {
   "cell_type": "code",
   "execution_count": 11,
   "id": "b40345ba",
   "metadata": {},
   "outputs": [],
   "source": [
    "struct PersonBuilder {\n",
    "    name: Option<String>,\n",
    "    age: Option<u32>,\n",
    "}\n",
    "\n",
    "impl PersonBuilder {\n",
    "    fn new() -> Self {\n",
    "        PersonBuilder {\n",
    "            name: None,\n",
    "            age: None,\n",
    "        }\n",
    "    }\n",
    "\n",
    "    fn name(mut self, name: String) -> Self {\n",
    "        self.name = Some(name);\n",
    "        self\n",
    "    }\n",
    "\n",
    "    fn age(mut self, age: u32) -> Self {\n",
    "        self.age = Some(age);\n",
    "        self\n",
    "    }\n",
    "\n",
    "    fn build(self) -> Result<Person, &'static str> {\n",
    "        let name = self.name.ok_or(\"Name is missing\")?;\n",
    "        let age = self.age.ok_or(\"Age is missing\")?;\n",
    "        Ok(Person { name, age })\n",
    "    }\n",
    "}\n",
    "\n",
    "let person = PersonBuilder::new()\n",
    "    .name(String::from(\"Dave\"))\n",
    "    .age(35)\n",
    "    .build()\n",
    "    .unwrap();\n"
   ]
  },
  {
   "cell_type": "code",
   "execution_count": null,
   "id": "4e1cdb1e",
   "metadata": {},
   "outputs": [],
   "source": []
  },
  {
   "cell_type": "code",
   "execution_count": null,
   "id": "a4e249f6",
   "metadata": {},
   "outputs": [],
   "source": []
  }
 ],
 "metadata": {
  "kernelspec": {
   "display_name": "Rust",
   "language": "rust",
   "name": "rust"
  },
  "language_info": {
   "codemirror_mode": "rust",
   "file_extension": ".rs",
   "mimetype": "text/rust",
   "name": "Rust",
   "pygment_lexer": "rust",
   "version": ""
  }
 },
 "nbformat": 4,
 "nbformat_minor": 5
}
