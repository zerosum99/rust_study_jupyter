{
 "cells": [
  {
   "cell_type": "markdown",
   "id": "8279c4eb",
   "metadata": {},
   "source": [
    "\n",
    "\n",
    "\n",
    "## 다음은 Rust에서 스마트 포인터와 참조의 몇 가지 차이점입니다:\n",
    "\n",
    "\n",
    "- 소유권: 스마트 포인터는 가리키는 데이터를 소유하지만 참조는 소유하지 않습니다. 즉, 스마트 포인터는 가리키는 데이터의 수명을 관리할 책임이 있지만 참조는 그렇지 않습니다.\n",
    "- 수명: 스마트 포인터에는 수명이 있으며, 이는 해당 포인터가 유효한 기간입니다. 참조에는 수명이 없습니다.\n",
    "- 안전: 스마트 포인터는 댕글링 포인터를 방지하므로 참조보다 안전합니다. 댕글링 포인터는 할당 해제된 메모리를 가리키는 포인터입니다. 스마트 포인터는 스마트 포인터가 범위를 벗어나면 포인터가 가리키는 데이터를 자동으로 삭제하여 댕글링 포인터를 방지합니다.\n",
    "- 성능: 스마트 포인터는 가리키는 데이터의 수명을 관리해야 하므로 일반적으로 참조보다 느립니다. 그러나 성능 차이는 일반적으로 무시할 수 있는 수준입니다.\n",
    "\n",
    "- 일반적으로 가능하면 참조 대신 스마트 포인터를 사용하는 것이 가장 좋습니다. 스마트 포인터가 더 안전하고 효율적입니다. \n",
    "그러나 함수에 대한 참조를 전달해야 하는 경우와 같이 참조를 사용해야 하는 경우도 있습니다."
   ]
  },
  {
   "cell_type": "code",
   "execution_count": null,
   "id": "ecdbfc8c",
   "metadata": {},
   "outputs": [],
   "source": []
  },
  {
   "cell_type": "markdown",
   "id": "172550c3",
   "metadata": {},
   "source": [
    "## 수명과 수명 매개변수 이해하기 \n",
    "\n",
    "- Rust에서 수명은 변수의 수명을 나타내는 개념입니다. 변수에 대한 참조가 해당 변수가 범위 내에 있는 전체 시간 동안 유효하도록 하는 데 사용됩니다. \n",
    "\n",
    "- 수명 매개변수는 변수의 수명을 나타내는 유형 매개변수입니다. 함수 서명에서 변수의 수명을 지정하는 데 사용됩니다.\n",
    "\n",
    "### 수명과 수명 매개변수의 주요 차이점은 \n",
    "\n",
    "- 수명은 컴파일러가 추론하는 반면 수명 매개변수는 프로그래머가 지정해야 한다는 것입니다.\n",
    "- 이는 특히 복잡한 코드의 경우 수명을 유추하기 어려운 경우가 많기 때문입니다. \n",
    "- 수명 매개 변수를 사용하면 코드를 더 명확하고 이해하기 쉽게 만들 수 있습니다."
   ]
  },
  {
   "cell_type": "markdown",
   "id": "c28ece03",
   "metadata": {},
   "source": [
    "## 1. 수명매개변수 \n",
    "\n",
    "- 1. 모든 변수는 lifetime을 갖는다.\n",
    "- 2. 만약 인자로 입력받는 레퍼런스가 1개라면, 해당 레퍼런스의 lifetime이 모든 리턴값에 적용된다.\n",
    "- 3. 함수가 self 혹은 &mut self를 인자로 받는 메소드라면, self의 lifetime이 모든 리턴값에 적용된다."
   ]
  },
  {
   "cell_type": "code",
   "execution_count": null,
   "id": "e92cc480",
   "metadata": {},
   "outputs": [],
   "source": []
  },
  {
   "cell_type": "markdown",
   "id": "aa73c3bf",
   "metadata": {},
   "source": [
    "### 수명매개변수 : 매개변수가 1개 일때는 반환값과 매개변수의 수명은 같다\n",
    "\n",
    "- 타입매개변수와 같은 자리에 지정한다.\n",
    "- 수명매개변수 이름 앞에 '를 더 붙이고 소문자를 사용해서 타입 매개변수와 구분한다. "
   ]
  },
  {
   "cell_type": "code",
   "execution_count": 4,
   "id": "dd2df323",
   "metadata": {},
   "outputs": [],
   "source": [
    "fn add<'a>(x: &'a str) -> &'a str {\n",
    "    x\n",
    "}"
   ]
  },
  {
   "cell_type": "code",
   "execution_count": 6,
   "id": "15dac191",
   "metadata": {},
   "outputs": [
    {
     "name": "stdout",
     "output_type": "stream",
     "text": [
      " 가을이 \n"
     ]
    }
   ],
   "source": [
    "println!(\" {} \",add(\"가을이\"));"
   ]
  },
  {
   "cell_type": "markdown",
   "id": "b910ee32",
   "metadata": {},
   "source": [
    "### 문자열 참조를 지역변수에 문자열 리터럴로 할당하고 처리 "
   ]
  },
  {
   "cell_type": "code",
   "execution_count": 10,
   "id": "1b8b1527",
   "metadata": {},
   "outputs": [],
   "source": [
    "fn add_s<'a>(x: &'a String) -> &'a str {\n",
    "    let ss = x.as_str();\n",
    "    ss\n",
    "}"
   ]
  },
  {
   "cell_type": "code",
   "execution_count": 14,
   "id": "963e3c99",
   "metadata": {},
   "outputs": [
    {
     "name": "stdout",
     "output_type": "stream",
     "text": [
      " \"가을이\" \n"
     ]
    }
   ],
   "source": [
    "println!(\" {:?} \",add_s(&String::from(\"가을이\")));"
   ]
  },
  {
   "cell_type": "markdown",
   "id": "193f2a3d",
   "metadata": {},
   "source": [
    "###  반환값을 문자열 참조로 반환하기 "
   ]
  },
  {
   "cell_type": "code",
   "execution_count": 16,
   "id": "1675d085",
   "metadata": {},
   "outputs": [],
   "source": [
    "fn add_ss<'a>(x: &'a String) -> &'a String {\n",
    "    let ss = x;\n",
    "    ss\n",
    "}"
   ]
  },
  {
   "cell_type": "code",
   "execution_count": 17,
   "id": "ca2f6588",
   "metadata": {},
   "outputs": [
    {
     "name": "stdout",
     "output_type": "stream",
     "text": [
      " \"가을이\" \n"
     ]
    }
   ],
   "source": [
    "println!(\" {:?} \",add_ss(&String::from(\"가을이\")));"
   ]
  },
  {
   "cell_type": "code",
   "execution_count": null,
   "id": "739f78fc",
   "metadata": {},
   "outputs": [],
   "source": []
  },
  {
   "cell_type": "markdown",
   "id": "f3f0e42e",
   "metadata": {},
   "source": [
    "## 2. 수명 이해하기 \n",
    "\n",
    "- 수명은 소유가 발생한 후에 대여되는 모든 참조에 영향을 미친다. \n",
    "- 그래서 소유가 사라지면 모든 대여도 사라진다.  그래서 소유자인 변수의 수명을 기준으로 참조 즉 대여가 처리된다. \n",
    "- 변수보다 더 긴 참조(대여)는 없다. "
   ]
  },
  {
   "cell_type": "code",
   "execution_count": 43,
   "id": "d83ddd1f",
   "metadata": {},
   "outputs": [],
   "source": [
    "// 수명은 각 변수의 생성과 소멸을 나타내는 줄로 아래에 주석이 달려 있습니다.\n",
    "// 각 변수의 생성과 소멸을 나타내는 선으로 주석 처리되어 있습니다.\n",
    "// `borrow1`과 `borrow2`를 모두 포함하기 때문에 수명이 가장 깁니다. \n",
    "// `borrow1`과 `borrow2`의 블럭이 분할로 지속시간은 서로 분리되어 있으므로 무관합니다."
   ]
  },
  {
   "cell_type": "code",
   "execution_count": 42,
   "id": "9b77045e",
   "metadata": {},
   "outputs": [],
   "source": [
    "fn main() {\n",
    "    let i = 3;    // Lifetime for `i` starts. ────────────────┐ // 변수 생성 즉 수명 발생  \n",
    "                  //                                                 │\n",
    "    {             //                                                 │\n",
    "        let borrow1 = &i; // `borrow1` lifetime starts.          ──┐│ // 변수에 대한 대여, 새로운 borrow1변수의 수명 발생  \n",
    "                  //                                                ││\n",
    "        println!(\"borrow1: {}\", borrow1); //                        ││\n",
    "    }             // `borrow1` ──────────────────────────┘│ // borrow1블럭 유효범위 내에서 수명 종료 \n",
    "                  //                                                  │\n",
    "                  //                                                  │\n",
    "    {             //                                                  │\n",
    "        let borrow2 = &i; // `borrow2` lifetime starts.─────────┐│ // borrow2 변수에 대한 수명 발생  \n",
    "                  //                                                ││\n",
    "        println!(\"borrow2: {}\", borrow2); //                        ││\n",
    "    }             // `borrow2` ends. ──────────────────────┘│ // borrow2 수명 종료 \n",
    "                  //                                                  │\n",
    "}                 // Lifetime ends. ───────────────────────┘  // i 수명 종료 "
   ]
  },
  {
   "cell_type": "code",
   "execution_count": 22,
   "id": "07943b42",
   "metadata": {},
   "outputs": [
    {
     "name": "stdout",
     "output_type": "stream",
     "text": [
      "borrow1: 3\n",
      "borrow2: 3\n"
     ]
    },
    {
     "data": {
      "text/plain": [
       "()"
      ]
     },
     "execution_count": 22,
     "metadata": {},
     "output_type": "execute_result"
    }
   ],
   "source": [
    "main()"
   ]
  },
  {
   "cell_type": "code",
   "execution_count": null,
   "id": "c09a5b5b",
   "metadata": {},
   "outputs": [],
   "source": []
  },
  {
   "cell_type": "markdown",
   "id": "1090836d",
   "metadata": {},
   "source": [
    "## 명시적 수명 매개변수  표시하기 : Explicit annotation\n",
    "\n",
    "- foo<'a>    // `foo` has a lifetime parameter `'a`\n",
    "\n",
    "- foo<'a, 'b>  // `foo` has lifetime parameters `'a` and `'b`"
   ]
  },
  {
   "cell_type": "code",
   "execution_count": 23,
   "id": "535f5d67",
   "metadata": {},
   "outputs": [],
   "source": [
    "// `print_refs`는 `i32`에 대한 두 개의 참조를 취합니다.\n",
    "// 수명이 `'a`와 `'b`인 두 개의 참조를 받습니다. 이 두 수명은 모두 적어도 `print_refs` 함수만큼 길어야 합니다.\n",
    "fn print_refs<'a, 'b>(x: &'a i32, y: &'b i32) {\n",
    "    println!(\"x is {} and y is {}\", x, y);\n",
    "}"
   ]
  },
  {
   "cell_type": "code",
   "execution_count": 25,
   "id": "412c7343",
   "metadata": {},
   "outputs": [],
   "source": [
    "fn main() {\n",
    "    print_refs(&100,&200);\n",
    "}"
   ]
  },
  {
   "cell_type": "code",
   "execution_count": 26,
   "id": "4d77bec3",
   "metadata": {},
   "outputs": [
    {
     "name": "stdout",
     "output_type": "stream",
     "text": [
      "x is 100 and y is 200\n"
     ]
    },
    {
     "data": {
      "text/plain": [
       "()"
      ]
     },
     "execution_count": 26,
     "metadata": {},
     "output_type": "execute_result"
    }
   ],
   "source": [
    "main()"
   ]
  },
  {
   "cell_type": "markdown",
   "id": "23781cb0",
   "metadata": {},
   "source": [
    "###  수명 매개변수만 있고 내부에서 사용하면 예외가 발생한다. "
   ]
  },
  {
   "cell_type": "code",
   "execution_count": 46,
   "id": "9c59fd07",
   "metadata": {},
   "outputs": [
    {
     "ename": "Error",
     "evalue": "`_x` does not live long enough",
     "output_type": "error",
     "traceback": [
      "    let y: &'a i32 = & _x;",
      "\u001b[91m                     ^^^^\u001b[0m \u001b[94mborrowed value does not live long enough\u001b[0m",
      "}",
      "\u001b[91m^\u001b[0m \u001b[94m`_x` dropped here while still borrowed\u001b[0m",
      "fn failed_borrow<'a>() {",
      "\u001b[91m                 ^^\u001b[0m \u001b[94mlifetime `'a` defined here\u001b[0m",
      "    let y: &'a i32 = & _x;",
      "\u001b[91m           ^^^^^^^\u001b[0m \u001b[94mtype annotation requires that `_x` is borrowed for `'a`\u001b[0m",
      "`_x` does not live long enough"
     ]
    }
   ],
   "source": [
    "// A function which takes no arguments, but has a lifetime parameter `'a`.\n",
    "fn failed_borrow<'a>() {\n",
    "    let _x = 12;\n",
    "\n",
    "    // ERROR: `_x` does not live long enough\n",
    "    let y: &'a i32 = & _x;\n",
    "    // 명시적 타입 어노테이션으로 수명 `'a`를 사용하려고 시도 중입니다. \n",
    "    // 함수 내에서 `&_x`의 수명이 `y`보다 짧기 때문에 실패합니다.\n",
    "    // 수명이 짧기 때문에 실패합니다. 짧은 수명을 더 긴 수명으로 강제할 수는 없습니다.\n",
    "    \n",
    "    println!(\" {}\", y);\n",
    "    println!(\" {}\", _x);\n",
    "}"
   ]
  },
  {
   "cell_type": "markdown",
   "id": "97b79529",
   "metadata": {},
   "source": [
    "### 수명 매개변수을 지정하면 매개변수를 지정해서 활용하는 것이 좋다"
   ]
  },
  {
   "cell_type": "code",
   "execution_count": 36,
   "id": "08be4381",
   "metadata": {},
   "outputs": [],
   "source": [
    "fn failed_borrow_<'a>(x :&'a i32) {\n",
    "    \n",
    "    let y: &'a i32 = &x;\n",
    "    \n",
    "    println!(\"y {}\", y);\n",
    "    println!(\"x {}\", x);\n",
    "}"
   ]
  },
  {
   "cell_type": "code",
   "execution_count": 40,
   "id": "f37fa749",
   "metadata": {},
   "outputs": [],
   "source": [
    "fn main() {\n",
    "    \n",
    "    failed_borrow_(&100);\n",
    "    \n",
    "}"
   ]
  },
  {
   "cell_type": "code",
   "execution_count": 41,
   "id": "241b0874",
   "metadata": {},
   "outputs": [
    {
     "name": "stdout",
     "output_type": "stream",
     "text": [
      " 100\n",
      " 100\n"
     ]
    },
    {
     "data": {
      "text/plain": [
       "()"
      ]
     },
     "execution_count": 41,
     "metadata": {},
     "output_type": "execute_result"
    }
   ],
   "source": [
    "main()"
   ]
  },
  {
   "cell_type": "code",
   "execution_count": null,
   "id": "444bca93",
   "metadata": {},
   "outputs": [],
   "source": []
  }
 ],
 "metadata": {
  "kernelspec": {
   "display_name": "Rust",
   "language": "rust",
   "name": "rust"
  },
  "language_info": {
   "codemirror_mode": "rust",
   "file_extension": ".rs",
   "mimetype": "text/rust",
   "name": "Rust",
   "pygment_lexer": "rust",
   "version": ""
  }
 },
 "nbformat": 4,
 "nbformat_minor": 5
}
