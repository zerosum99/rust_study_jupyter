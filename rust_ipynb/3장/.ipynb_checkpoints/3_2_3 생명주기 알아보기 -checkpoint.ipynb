{
 "cells": [
  {
   "cell_type": "code",
   "execution_count": null,
   "id": "7dc49f89",
   "metadata": {},
   "outputs": [],
   "source": []
  },
  {
   "cell_type": "markdown",
   "id": "cc4f1168",
   "metadata": {},
   "source": [
    "## 러스트에서 소유권(ownership)과 생명주기(lifetime)는 서로 다른 개념입니다.\n",
    "\n",
    "### 소유권은\n",
    "\n",
    "- 메모리 자원을 소유하는 변수가 유일하며, 해당 변수가 스코프를 벗어나면 자동으로 메모리 자원이 해제됩니다. \n",
    "- 이는 런타임에서 자동으로 처리되는 개념입니다.\n",
    "\n",
    "### 생명주기 \n",
    "\n",
    "- 컴파일 타임에서 검사되는 개념으로, 특정한 블록 내에서 참조되는 변수나 데이터의 유효성 기간을 의미합니다. \n",
    "- 이는 컴파일러가 실제 값이 변수가 유지되어할 범위 내에 있는지 확인하는 데 사용됩니다\n",
    "- 예를 들어, 블록 내에서 생성된 데이터가 블록을 벗어나더라도 다른 함수나 블록에서 사용될 수 있기 때문에, 해당 데이터의 생명주기는 블록 내부의 스코프보다 더 길게 유지될 수 있습니다.\n",
    "\n",
    "\n",
    "따라서 러스트에서는 소유권과 생명주기를 구분하여 사용하며, 소유권이 유지되는 동안에만 해당 데이터의 생명주기가 유효하다는 것을 보장합니다. 이는 러스트에서 안전하고 효율적인 메모리 관리를 가능하게 합니다."
   ]
  },
  {
   "cell_type": "code",
   "execution_count": null,
   "id": "156e2064",
   "metadata": {},
   "outputs": [],
   "source": []
  },
  {
   "cell_type": "code",
   "execution_count": null,
   "id": "ce5d423e",
   "metadata": {},
   "outputs": [],
   "source": []
  },
  {
   "cell_type": "markdown",
   "id": "9a46f46d",
   "metadata": {},
   "source": [
    "## 러스트에서 생명주기(lifetime)란, \n",
    "\n",
    "- 참조자(Reference)가 유효한 범위를 의미합니다. 모든 참조자는 소유자(Owner)에 의해 만들어지며, 해당 소유자가 유효한 범위 안에서만 참조자를 사용할 수 있습니다. \n",
    "- 이를 통해 메모리 관리와 런타임 안정성을 보장할 수 있습니다.\n",
    "\n",
    "### 생명주기 매개변수 \n",
    " - 생명 매개변수 는 'a와 같은 문법으로 표현하며, 일반적으로 제네릭 타입 파라미터와 함께 사용됩니다. \n",
    " - 생명주기는 여러 개의 라이프타임 파라미터가 있다면 각각을 'a, 'b, 'c와 같이 구분하여 표기합니다.\n",
    "\n",
    "- 생명주기를 명시하기 위해서는 'a lifetime parameter'를 사용해 함수나 구조체의 참조자가 유효한 범위를 정의합니다. \n",
    "- 이 lifetime parameter는 작은 따옴표(')와 함께 이름을 명시하며, 일반적으로 'a, 'b, 'c와 같이 사용합니다.\n",
    "\n",
    "\n",
    "### 생명주기 범위\n",
    " - 생명주기는 함수나 메서드에서 반환되는 참조자와 함수나 메서드의 파라미터로 전달되는 참조자 사이에서 관계를 형성합니다. \n",
    " - 이러한 관계를 생명주기 범위 규칙(lifetime elision rules)을 이용하여 컴파일러가 암묵적으로 적용합니다. \n",
    " - 하지만, 명시적으로 생명주기를 지정해주는 것이 가독성과 유지보수에 도움이 될 수 있습니다."
   ]
  },
  {
   "cell_type": "code",
   "execution_count": null,
   "id": "1506acc6",
   "metadata": {},
   "outputs": [],
   "source": []
  },
  {
   "cell_type": "markdown",
   "id": "fa6f9af3",
   "metadata": {},
   "source": [
    "## 1. 소유권 생성 방법 \n",
    "\n",
    "- 러스트에서는 소유권(ownership) 시스템을 통해 메모리 관리를 수행합니다. \n",
    "- 소유권 시스템은 메모리의 할당과 해제를 명확하게 추적하고, 데이터에 대한 접근 권한을 명확하게 할당합니다.\n",
    "\n",
    "- 소유권을 설정하는 방법은 변수 정의 및 할당, 함수 호출, 함수 반환 등에서 결정됩니다.\n",
    "- 소유권은 값이 할당되면 생성되고 값이 이동 즉 다른 소유자에게 할당되면 변경됩니다.\n",
    "\n",
    "\n",
    "\n"
   ]
  },
  {
   "cell_type": "markdown",
   "id": "26cce750",
   "metadata": {},
   "source": [
    "## 1-1  변수 정의 및 할당 \n",
    "\n",
    "- 변수를 선언 즉 값 할당을 지연 \n",
    "- 변수 정의는 변수 선언과 값 할당을 동시에 처리 "
   ]
  },
  {
   "cell_type": "code",
   "execution_count": 8,
   "id": "dbe7d813",
   "metadata": {},
   "outputs": [],
   "source": [
    "let s = String::from(\"Hello, world!\"); // String 타입의 소유자 s를 생성합니다."
   ]
  },
  {
   "cell_type": "markdown",
   "id": "10798c07",
   "metadata": {},
   "source": [
    "## 1-2 함수 반환값 전달 \n",
    "\n",
    "- 함수의 반환값을 참조가 아닌 실제 값으로 반환\n",
    "- 값 자체를 반환하므로 소유권이 이동되에 소유자를 새롭게 지정한다. "
   ]
  },
  {
   "cell_type": "code",
   "execution_count": 9,
   "id": "e7836803",
   "metadata": {},
   "outputs": [],
   "source": [
    "let s1 = String::from(\"Hello, world!\");\n",
    "let s2 = s1; // s1의 소유권이 s2로 이전됩니다."
   ]
  },
  {
   "cell_type": "markdown",
   "id": "7e2d045e",
   "metadata": {},
   "source": [
    "## 1-3 함수 인자값으로 전달 \n",
    "\n",
    "- 함수의 매개변수에 인자 값이 이동되어 새로운 소유자가 발생한다. \n",
    "- 함수 범위 내부로 값이 이동되어서 함수 내부 스코프 내에서만 처리가 끝난다. "
   ]
  },
  {
   "cell_type": "code",
   "execution_count": 10,
   "id": "f1ee7ebe",
   "metadata": {},
   "outputs": [],
   "source": [
    "fn str_owner(x:String) {\n",
    "    println!(\"소유권이전 {}\", x);\n",
    "}"
   ]
  },
  {
   "cell_type": "code",
   "execution_count": 12,
   "id": "943c4acd",
   "metadata": {},
   "outputs": [
    {
     "name": "stdout",
     "output_type": "stream",
     "text": [
      "소유권이전 Hello, world!\n"
     ]
    }
   ],
   "source": [
    "let s11 = String::from(\"Hello, world!\");\n",
    "let s12 = str_owner(s11);\n"
   ]
  },
  {
   "cell_type": "code",
   "execution_count": null,
   "id": "e39c0835",
   "metadata": {},
   "outputs": [],
   "source": []
  },
  {
   "cell_type": "markdown",
   "id": "5f0cdafb",
   "metadata": {},
   "source": [
    "## 2. 참조에 대한 생명 타입 매개변수 지정하기\n",
    "\n",
    "- 참조는 소유권을 가지지 않고 소유자에게서 사용할 수 있도록 빌리는 것이다. \n",
    "- 그래서 참조는 실제 값의 주소를 참조해서 처리하는 방식을 선택한다. "
   ]
  },
  {
   "cell_type": "markdown",
   "id": "22f6975b",
   "metadata": {},
   "source": [
    "### 참조로 값을 대여해서 소유권보다 스코프가 더 길면 안된다. \n",
    "\n",
    "-  소유권는 스코프 단위로만 처리된다. 그래서 참조도 이 스크프 범위를 벗어나면 안된다. \n",
    "-  참조에 대한 체크를 하기위해 생명주기(즉 수명)을 지정해서 이 참조가 컴파일 시점에 점검을 할 수 있다.\n",
    "-  수명에 대한 추론은 기본이지만 가끔 수명 추론보다 명시적으로 처리해야 할 때가 발생한다. "
   ]
  },
  {
   "cell_type": "markdown",
   "id": "1d47f1f8",
   "metadata": {},
   "source": [
    "### 수명에 대한 표기법\n",
    "\n",
    "- 수명을 타입매개변수와 동일한 위치에 지정한다. 그래서 이를 수명 매개변수라고 한다.\n",
    "- 수명매개변수는 소문자로 표시하고 앞에 작은 따옴표를 붙인다. 'a\n"
   ]
  },
  {
   "cell_type": "markdown",
   "id": "fff8068a",
   "metadata": {},
   "source": [
    "### 수명매개변수(lifetime parameter)는 참조자의 생명주기를 명시적으로 표현하기 위한 개념입니다. \n",
    "\n",
    "- 참조자는 소유권이 없기 때문에 메모리 관리를 위해 수명 정보가 필요하며, 수명매개변수를 사용하여 이를 표현합니다.\n",
    "\n",
    "- 수명매개변수는 러스트의 빌림 규칙(borrowing rules)을 적용할 수 있도록 도와줍니다. \n",
    "- 빌림 규칙은 러스트에서 안전하게 메모리를 관리하기 위한 규칙으로, 동일한 메모리를 동시에 여러 개의 소유자가 가질 수 없도록 제한하고, 빌림과 관련된 메모리 사용에 제한을 둡니다.\n",
    "\n",
    "- 수명매개변수는 특정 참조자의 생명주기와 관련된 함수나 구조체의 메서드에 명시할 수 있습니다. \n",
    "- 이를 통해 컴파일러는 참조자의 생명주기를 검증하여 런타임 에러를 방지하고, 안전하게 메모리를 관리할 수 있도록 도와줍니다.\n",
    "\n",
    "- 따라서 러스트에서는 수명매개변수를 사용하여 참조자의 생명주기를 명확히 하고, 빌림 규칙을 적용하여 안전하게 메모리를 관리할 수 있습니다."
   ]
  },
  {
   "cell_type": "code",
   "execution_count": null,
   "id": "3565fd33",
   "metadata": {},
   "outputs": [],
   "source": []
  },
  {
   "cell_type": "markdown",
   "id": "3b11331f",
   "metadata": {},
   "source": [
    "### 러스트의 빌림 규칙\n",
    "\n",
    "- 은 안전하게 메모리를 관리하기 위한 규칙으로, 소유권과 참조자의 개념을 중심으로 이루어져 있습니다. \n",
    "\n",
    "- 러스트에서는 소유권을 통해 메모리 관리를 할 수 있도록 하고, 참조자를 통해 안전하게 메모리를 빌려서 사용할 수 있도록 합니다.\n",
    "\n",
    "#### 빌림 규칙은 다음과 같습니다.\n",
    "\n",
    "- 변수는 기본적으로 자신이 소유하는 메모리에 대한 소유권을 가집니다.\n",
    "- 변수를 다른 변수에게 대입할 경우, 소유권이 이전됩니다.\n",
    "- 소유권이 이전되면, 이전된 변수는 더 이상 소유권을 가지지 않습니다.\n",
    "- 참조자는 변수의 소유권을 빌려서 사용할 수 있습니다.\n",
    "- 참조자는 변수의 소유권이 유지되는 동안만 사용할 수 있습니다.\n",
    "- 참조자는 한 번에 하나의 가변 참조자 또는 여러 개의 불변 참조자만 존재할 수 있습니다.\n",
    "= 참조자는 사용 후 반드시 반환되어야 합니다.\n",
    "- 참조자가 반환되면, 해당 메모리 공간은 다른 참조자나 변수가 소유권을 가질 수 있습니다.\n",
    "\n",
    "\n",
    "이러한 빌림 규칙을 통해 러스트는 안전하게 메모리를 관리하고, 데이터 레이스 등의 메모리 오류를 방지할 수 있습니다. 또한 이러한 규칙을 따르는 코드는 컴파일 시점에서 오류를 검출할 수 있어, 더욱 안전하고 신뢰성 높은 코드를 작성할 수 있습니다."
   ]
  },
  {
   "cell_type": "code",
   "execution_count": null,
   "id": "07eee548",
   "metadata": {},
   "outputs": [],
   "source": []
  },
  {
   "cell_type": "markdown",
   "id": "7260722f",
   "metadata": {},
   "source": [
    "## 2-1 함수 내부의 참조에 대한 생명주기 지정"
   ]
  },
  {
   "cell_type": "code",
   "execution_count": null,
   "id": "8fa6a69f",
   "metadata": {},
   "outputs": [],
   "source": []
  },
  {
   "cell_type": "code",
   "execution_count": null,
   "id": "762e8454",
   "metadata": {},
   "outputs": [],
   "source": []
  },
  {
   "cell_type": "code",
   "execution_count": 3,
   "id": "6acce344",
   "metadata": {},
   "outputs": [],
   "source": [
    "fn longest<'a>(x: &'a str, y: &'a str) -> &'a str {\n",
    "    if x.len() > y.len() {\n",
    "        x\n",
    "    } else {\n",
    "        y\n",
    "    }\n",
    "}"
   ]
  },
  {
   "cell_type": "code",
   "execution_count": 7,
   "id": "691da4ef",
   "metadata": {},
   "outputs": [
    {
     "name": "stdout",
     "output_type": "stream",
     "text": [
      " 겨울이 \n"
     ]
    }
   ],
   "source": [
    "let x = longest(\"가을이\",\"겨울이\");\n",
    "\n",
    "println!(\" {} \", x);"
   ]
  },
  {
   "cell_type": "code",
   "execution_count": null,
   "id": "14bea8ab",
   "metadata": {},
   "outputs": [],
   "source": []
  }
 ],
 "metadata": {
  "kernelspec": {
   "display_name": "Rust",
   "language": "rust",
   "name": "rust"
  },
  "language_info": {
   "codemirror_mode": "rust",
   "file_extension": ".rs",
   "mimetype": "text/rust",
   "name": "Rust",
   "pygment_lexer": "rust",
   "version": ""
  }
 },
 "nbformat": 4,
 "nbformat_minor": 5
}
