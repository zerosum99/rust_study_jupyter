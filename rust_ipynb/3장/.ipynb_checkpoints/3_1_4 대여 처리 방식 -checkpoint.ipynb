{
 "cells": [
  {
   "cell_type": "code",
   "execution_count": null,
   "id": "c28e16ab",
   "metadata": {},
   "outputs": [],
   "source": []
  },
  {
   "cell_type": "markdown",
   "id": "bcd02a28",
   "metadata": {},
   "source": [
    "## 1-1 스칼라 값에 대한 참조 사용하기 "
   ]
  },
  {
   "cell_type": "markdown",
   "id": "851035ae",
   "metadata": {},
   "source": [
    "## 정수에 대한 최대값, 최소값, 비트 개수 "
   ]
  },
  {
   "cell_type": "code",
   "execution_count": 27,
   "id": "1b3f3dad",
   "metadata": {},
   "outputs": [
    {
     "name": "stdout",
     "output_type": "stream",
     "text": [
      " i8     max=                                     127, min=                                    -128 bit-length = 8\n",
      " i16    max=                                   32767, min=                                  -32768 bit-length = 16\n",
      " i32    max=                              2147483647, min=                             -2147483648 bit-length = 32\n",
      " i64    max=                     9223372036854775807, min=                    -9223372036854775808 bit-length = 64\n",
      " i128   max= 170141183460469231731687303715884105727, min=-170141183460469231731687303715884105728 bit-length = 128\n",
      " isize  max=                     9223372036854775807, min=                    -9223372036854775808 bit-length = 64\n"
     ]
    }
   ],
   "source": [
    "println!(\" i8     max={:40}, min={:40} bit-length = {}\",  i8::MAX,     i8::MIN,    i8::BITS);\n",
    "println!(\" i16    max={:40}, min={:40} bit-length = {}\",  i16::MAX,    i16::MIN,   i16::BITS);\n",
    "println!(\" i32    max={:40}, min={:40} bit-length = {}\",  i32::MAX,    i32::MIN,   i32::BITS);\n",
    "println!(\" i64    max={:40}, min={:40} bit-length = {}\",  i64::MAX,    i64::MIN,   i64::BITS);\n",
    "println!(\" i128   max={:40}, min={:40} bit-length = {}\",  i128::MAX,   i128::MIN,  i128::BITS);\n",
    "println!(\" isize  max={:40}, min={:40} bit-length = {}\",  isize::MAX,  isize::MIN, isize::BITS);"
   ]
  },
  {
   "cell_type": "code",
   "execution_count": 29,
   "id": "8f82fd72",
   "metadata": {},
   "outputs": [
    {
     "name": "stdout",
     "output_type": "stream",
     "text": [
      " u8     max =                                      255, min = 0 bit-length = 8\n",
      " u16    max =                                    65535, min = 0 bit-length = 16\n",
      " u32    max =                               4294967295, min = 0 bit-length = 32\n",
      " u64    max =                     18446744073709551615, min = 0 bit-length = 64\n",
      " u128   max =  340282366920938463463374607431768211455, min = 0 bit-length = 128\n",
      " usize  max =                     18446744073709551615, min = 0 bit-length = 64\n"
     ]
    }
   ],
   "source": [
    "println!(\" u8     max = {:40}, min = {} bit-length = {}\",  u8::MAX,  u8::MIN,    u8::BITS);\n",
    "println!(\" u16    max = {:40}, min = {} bit-length = {}\", u16::MAX,  u16::MIN,  u16::BITS);\n",
    "println!(\" u32    max = {:40}, min = {} bit-length = {}\", u32::MAX,  u32::MIN,  u32::BITS);\n",
    "println!(\" u64    max = {:40}, min = {} bit-length = {}\", u64::MAX,  u64::MIN,  u64::BITS);\n",
    "println!(\" u128   max = {:40}, min = {} bit-length = {}\", u128::MAX, u128::MIN, u128::BITS);\n",
    "println!(\" usize  max = {:40}, min = {} bit-length = {}\", usize::MAX,  usize::MIN,  usize::BITS);"
   ]
  },
  {
   "cell_type": "code",
   "execution_count": null,
   "id": "15b48c73",
   "metadata": {},
   "outputs": [],
   "source": []
  },
  {
   "cell_type": "code",
   "execution_count": 35,
   "id": "70d01b84",
   "metadata": {},
   "outputs": [
    {
     "name": "stdout",
     "output_type": "stream",
     "text": [
      " f32    max=340282350000000000000000000000000000000, min=-340282350000000000000000000000000000000 \n",
      " f64    max=179769313486231570000000000000000000000000000000000000000000000000000000000000000000000000000000000000000000000000000000000000000000000000000000000000000000000000000000000000000000000000000000000000000000000000000000000000000000000000000000000000000000000000000000000000000000000000000000000000000000000000000\n",
      " f64    min=-179769313486231570000000000000000000000000000000000000000000000000000000000000000000000000000000000000000000000000000000000000000000000000000000000000000000000000000000000000000000000000000000000000000000000000000000000000000000000000000000000000000000000000000000000000000000000000000000000000000000000000000 \n"
     ]
    }
   ],
   "source": [
    "println!(\" f32    max={}, min={} \",  f32::MAX,    f32::MIN);\n",
    "println!(\" f64    max={}\",  f64::MAX);\n",
    "println!(\" f64    min={} \", f64::MIN);"
   ]
  },
  {
   "cell_type": "code",
   "execution_count": null,
   "id": "20d6ed23",
   "metadata": {},
   "outputs": [],
   "source": []
  },
  {
   "cell_type": "markdown",
   "id": "9e8c5fda",
   "metadata": {},
   "source": [
    "## 참조 처리하기 "
   ]
  },
  {
   "cell_type": "code",
   "execution_count": 2,
   "id": "52473741",
   "metadata": {},
   "outputs": [],
   "source": [
    "use std::any::type_name;\n",
    "\n",
    "fn type_of<T>(_: T) -> &'static str {\n",
    "    type_name::<T>()\n",
    "}"
   ]
  },
  {
   "cell_type": "code",
   "execution_count": 11,
   "id": "51106ced",
   "metadata": {},
   "outputs": [],
   "source": [
    "fn main() {\n",
    "    let name = 100;\n",
    "    println!(\"{} {}\", name, type_of(name));\n",
    "    let othername = &name;            // 참조할당 \n",
    "    println!(\"{:p} {}\", othername, type_of(othername));\n",
    "    let theothername = &othername;\n",
    "    println!(\"{:p}, {}, {:p}\", theothername, type_of(theothername), theothername);\n",
    "}"
   ]
  },
  {
   "cell_type": "code",
   "execution_count": 12,
   "id": "e0ac6976",
   "metadata": {},
   "outputs": [
    {
     "name": "stdout",
     "output_type": "stream",
     "text": [
      "100 i32\n",
      "0x16eea2cac &i32\n",
      "0x16eea2cb0, &&i32, 0x16eea2cb0\n"
     ]
    },
    {
     "data": {
      "text/plain": [
       "()"
      ]
     },
     "execution_count": 12,
     "metadata": {},
     "output_type": "execute_result"
    }
   ],
   "source": [
    "main()"
   ]
  },
  {
   "cell_type": "code",
   "execution_count": null,
   "id": "13d25915",
   "metadata": {},
   "outputs": [],
   "source": []
  },
  {
   "cell_type": "code",
   "execution_count": null,
   "id": "a599a42c",
   "metadata": {},
   "outputs": [],
   "source": []
  },
  {
   "cell_type": "markdown",
   "id": "9fcb6b54",
   "metadata": {},
   "source": [
    "##  대여 정의 방식 \n",
    "\n",
    "- 객체에 대해 불변 참조를 가지는 변수: let othername = &name;\n",
    "- 객체에 대해 가변 참조를 가지는 변수: let othermut = &mut mutname;"
   ]
  },
  {
   "cell_type": "markdown",
   "id": "b0854655",
   "metadata": {},
   "source": [
    "### 변수의 참조를 사용하기 "
   ]
  },
  {
   "cell_type": "code",
   "execution_count": 38,
   "id": "19c628b8",
   "metadata": {},
   "outputs": [],
   "source": [
    "fn main() { \n",
    "    let name = 100;\n",
    "    let othername = name;            // 스칼라 객체는 복사 발생\n",
    "\n",
    "    println!(\" othername = {} \", othername);\n",
    "    println!(\" name = {} \", name);\n",
    "}"
   ]
  },
  {
   "cell_type": "code",
   "execution_count": 39,
   "id": "53a582ff",
   "metadata": {},
   "outputs": [
    {
     "name": "stdout",
     "output_type": "stream",
     "text": [
      " othername = 100 \n",
      " name = 100 \n"
     ]
    },
    {
     "data": {
      "text/plain": [
       "()"
      ]
     },
     "execution_count": 39,
     "metadata": {},
     "output_type": "execute_result"
    }
   ],
   "source": [
    "main()"
   ]
  },
  {
   "cell_type": "code",
   "execution_count": null,
   "id": "e557d890",
   "metadata": {},
   "outputs": [],
   "source": []
  },
  {
   "cell_type": "code",
   "execution_count": 36,
   "id": "51061375",
   "metadata": {},
   "outputs": [],
   "source": [
    "fn main() { \n",
    "    let name = 100;\n",
    "    let othername = &name;            // 참조할당 \n",
    "\n",
    "    println!(\" othername = {} \", *othername);\n",
    "    println!(\" name = {} \", name);\n",
    "}"
   ]
  },
  {
   "cell_type": "code",
   "execution_count": 37,
   "id": "b36b1c22",
   "metadata": {},
   "outputs": [
    {
     "name": "stdout",
     "output_type": "stream",
     "text": [
      " othername = 100 \n",
      " name = 100 \n"
     ]
    },
    {
     "data": {
      "text/plain": [
       "()"
      ]
     },
     "execution_count": 37,
     "metadata": {},
     "output_type": "execute_result"
    }
   ],
   "source": [
    "main()"
   ]
  },
  {
   "cell_type": "markdown",
   "id": "61864092",
   "metadata": {},
   "source": [
    "### 가변 참조를 사용하기"
   ]
  },
  {
   "cell_type": "code",
   "execution_count": 14,
   "id": "74b0297b",
   "metadata": {},
   "outputs": [],
   "source": [
    "fn main() { \n",
    "    let mut name = 100;\n",
    "    let othername = &mut name;  // 참조 전달 \n",
    "    *othername = 777;           // 역참조로 갱신 \n",
    "\n",
    "    println!(\" othername = {} \", *othername);\n",
    "}"
   ]
  },
  {
   "cell_type": "code",
   "execution_count": 15,
   "id": "3a54816d",
   "metadata": {},
   "outputs": [
    {
     "name": "stdout",
     "output_type": "stream",
     "text": [
      " othername = 777 \n"
     ]
    },
    {
     "data": {
      "text/plain": [
       "()"
      ]
     },
     "execution_count": 15,
     "metadata": {},
     "output_type": "execute_result"
    }
   ],
   "source": [
    "main()"
   ]
  },
  {
   "cell_type": "markdown",
   "id": "41466c27",
   "metadata": {},
   "source": [
    "### 가변참조의 계산처리 하기"
   ]
  },
  {
   "cell_type": "code",
   "execution_count": 17,
   "id": "a9cfa15e",
   "metadata": {},
   "outputs": [],
   "source": [
    "fn main() { \n",
    "    let mut name = 100;\n",
    "    let mut othername = &mut name;      // 참조 전달 \n",
    "    *othername += 777;                  // 역참조로 값을 계산 \n",
    "\n",
    "    println!(\" othername = {} \", *othername);\n",
    "}"
   ]
  },
  {
   "cell_type": "code",
   "execution_count": 18,
   "id": "0d5e14b8",
   "metadata": {},
   "outputs": [
    {
     "name": "stdout",
     "output_type": "stream",
     "text": [
      " othername = 877 \n"
     ]
    },
    {
     "data": {
      "text/plain": [
       "()"
      ]
     },
     "execution_count": 18,
     "metadata": {},
     "output_type": "execute_result"
    }
   ],
   "source": [
    "main()"
   ]
  },
  {
   "cell_type": "markdown",
   "id": "099f2f43",
   "metadata": {},
   "source": [
    "## 1-2  구조체 인스턴스의 참조 처리하기"
   ]
  },
  {
   "cell_type": "markdown",
   "id": "6ffbb816",
   "metadata": {},
   "source": [
    "### 구조체 인스턴스는 힙에 값을 보관\n",
    "- 스택에는 특정 벡터에 대한 구조체 정보만 관리"
   ]
  },
  {
   "cell_type": "code",
   "execution_count": 24,
   "id": "36cf7c5a",
   "metadata": {},
   "outputs": [],
   "source": [
    "fn main() {\n",
    "    let sf = String::from(\"대한민국\");\n",
    "    println!(\" {}\", &sf);\n",
    "    \n",
    "    let sff = &sf;\n",
    "    println!(\" {}\", sff);\n",
    "}\n"
   ]
  },
  {
   "cell_type": "code",
   "execution_count": 25,
   "id": "a299afcc",
   "metadata": {},
   "outputs": [
    {
     "name": "stdout",
     "output_type": "stream",
     "text": [
      " 대한민국\n",
      " 대한민국\n"
     ]
    },
    {
     "data": {
      "text/plain": [
       "()"
      ]
     },
     "execution_count": 25,
     "metadata": {},
     "output_type": "execute_result"
    }
   ],
   "source": [
    "main()"
   ]
  },
  {
   "cell_type": "code",
   "execution_count": null,
   "id": "b9f543eb",
   "metadata": {},
   "outputs": [],
   "source": []
  },
  {
   "cell_type": "code",
   "execution_count": 36,
   "id": "a66e2f42",
   "metadata": {},
   "outputs": [],
   "source": [
    "#[derive(Debug)]\n",
    "struct User {\n",
    "    name : String,\n",
    "    age : u16,\n",
    "}\n",
    "\n",
    "fn main() {\n",
    "    let sf = User { name : String::from(\"가을이\"), age : 33 };\n",
    "    let sss = &sf; \n",
    "    println!(\" {:?}\", sss);       // 내부에서 값을 조정해서 처리 \n",
    "    \n",
    "    let _xxx = sss;\n",
    "    \n",
    "    let sff = &sf;\n",
    "    println!(\" {:?}\", *sff);      // 내부에서 값을 조정해서 처리 \n",
    "}"
   ]
  },
  {
   "cell_type": "code",
   "execution_count": 33,
   "id": "a29bcaf9",
   "metadata": {},
   "outputs": [
    {
     "name": "stdout",
     "output_type": "stream",
     "text": [
      " User { name: \"가을이\", age: 33 }\n",
      " User { name: \"가을이\", age: 33 }\n"
     ]
    },
    {
     "data": {
      "text/plain": [
       "()"
      ]
     },
     "execution_count": 33,
     "metadata": {},
     "output_type": "execute_result"
    }
   ],
   "source": [
    "main()"
   ]
  },
  {
   "cell_type": "markdown",
   "id": "e1585280",
   "metadata": {},
   "source": [
    "## 1-3 대여 원칙"
   ]
  },
  {
   "cell_type": "markdown",
   "id": "370a7c23",
   "metadata": {},
   "source": [
    "## 대여 처리 방식 \n",
    "\n",
    "- 가변 변수는 가변 참조 변수에 빌려주고 나면 같은 범위에서는 사용할 수 없습니다. \n",
    "   동일 범위 안에 같은 객체에 대한 두 개 이상의 가변 변수가 생기면 안 됩니다. 이것을 write-write 충돌이 금지되는 것으로 이해할 수 있습니다.\n",
    "- 변수에 대해 불변 참조는 여러 개 생길 수 있습니다. \n",
    "   그러나 불변 참조가 생기고 나면 그 변수를 바꾸거나 가변 참조를 생성할 수 없습니다. read-wirte 충돌에 해당합니다. \n",
    "    즉 다른 변수가 읽기 권한을 가지고 있는데 데이터를 바꾸면 dirty-read가 될 수 있다는 것입니다.\n",
    "- 가변 참조가 동시에 여러 개 생길 수 없습니다. \n",
    "   가변 참조가 생기면 그것의 범위가 종료하기 전에는 가변 참조를 또 만들 수 없습니다.\n",
    "- 가변 변수에 대해 불변 참조를 만드는 것은 문제 없지만, 불변 변수에 대해 가변 참조를 만들 수는 없습니다."
   ]
  },
  {
   "cell_type": "markdown",
   "id": "a19aab8c",
   "metadata": {},
   "source": [
    "## 불변 변수는 여러 번 불변 참조가 가능 즉  대여는 여러 번 처리 가능 "
   ]
  },
  {
   "cell_type": "code",
   "execution_count": 5,
   "id": "84188568",
   "metadata": {},
   "outputs": [],
   "source": [
    "fn main() {\n",
    "    let country = String::from(\"대한민국\");\n",
    "    println!(\" {country}\");\n",
    "    \n",
    "    let ref_one = &country;\n",
    "    println!(\" reference 1 = {ref_one}\");\n",
    "    \n",
    "    let ref_two = &country;\n",
    "    println!(\" reference 2 = {ref_two}\");\n",
    "    \n",
    "}"
   ]
  },
  {
   "cell_type": "code",
   "execution_count": 6,
   "id": "13b708c5",
   "metadata": {},
   "outputs": [
    {
     "name": "stdout",
     "output_type": "stream",
     "text": [
      " 대한민국\n",
      " reference 1 = 대한민국\n",
      " reference 2 = 대한민국\n"
     ]
    },
    {
     "data": {
      "text/plain": [
       "()"
      ]
     },
     "execution_count": 6,
     "metadata": {},
     "output_type": "execute_result"
    }
   ],
   "source": [
    "main()"
   ]
  },
  {
   "cell_type": "markdown",
   "id": "7e00f621",
   "metadata": {},
   "source": [
    "## 가변 대여 처리 "
   ]
  },
  {
   "cell_type": "code",
   "execution_count": 19,
   "id": "42163872",
   "metadata": {},
   "outputs": [],
   "source": [
    "fn main() {\n",
    "   let mut i:i32 = 1;\n",
    "   let ref_i:&mut i32 = &mut i;\n",
    "   *ref_i = 2;\n",
    "   println!(\" i = {} \", i);\n",
    "   i = 3;\n",
    "   println!(\" i = {} \", i); \n",
    "   let ref_ii:&mut i32 = &mut i;\n",
    "   println!(\" i = {}\", ref_ii)\n",
    "}"
   ]
  },
  {
   "cell_type": "code",
   "execution_count": 20,
   "id": "84a15aa7",
   "metadata": {},
   "outputs": [
    {
     "name": "stdout",
     "output_type": "stream",
     "text": [
      " i = 2 \n",
      " i = 3 \n",
      " i = 3\n"
     ]
    },
    {
     "data": {
      "text/plain": [
       "()"
      ]
     },
     "execution_count": 20,
     "metadata": {},
     "output_type": "execute_result"
    }
   ],
   "source": [
    "main()"
   ]
  },
  {
   "cell_type": "code",
   "execution_count": null,
   "id": "3289a059",
   "metadata": {},
   "outputs": [],
   "source": []
  },
  {
   "cell_type": "code",
   "execution_count": null,
   "id": "eccb900f",
   "metadata": {},
   "outputs": [],
   "source": []
  },
  {
   "cell_type": "code",
   "execution_count": 21,
   "id": "83118470",
   "metadata": {},
   "outputs": [],
   "source": [
    "fn main() {\n",
    "   let mut i:i32 = 1;\n",
    "   let ref_i = &mut i;\n",
    "   let another_ref_i = &mut i;  // 가변 참조 빌려주기가 두 번 일어남\n",
    "//                          ^ second mutable borrow occurs here\n",
    "}\n"
   ]
  },
  {
   "cell_type": "code",
   "execution_count": 22,
   "id": "e2171c12",
   "metadata": {},
   "outputs": [
    {
     "data": {
      "text/plain": [
       "()"
      ]
     },
     "execution_count": 22,
     "metadata": {},
     "output_type": "execute_result"
    }
   ],
   "source": [
    "main()"
   ]
  },
  {
   "cell_type": "code",
   "execution_count": null,
   "id": "68e5d916",
   "metadata": {},
   "outputs": [],
   "source": []
  },
  {
   "cell_type": "code",
   "execution_count": null,
   "id": "19e119bb",
   "metadata": {},
   "outputs": [],
   "source": []
  },
  {
   "cell_type": "markdown",
   "id": "088f8047",
   "metadata": {},
   "source": [
    "## 지역변수는 참조로 반환 금지 "
   ]
  },
  {
   "cell_type": "code",
   "execution_count": 2,
   "id": "464c9d0e",
   "metadata": {},
   "outputs": [
    {
     "ename": "Error",
     "evalue": "cannot return reference to local variable `country`",
     "output_type": "error",
     "traceback": [
      "    &country",
      "\u001b[91m    ^^^^^^^^\u001b[0m \u001b[94mreturns a reference to data owned by the current function\u001b[0m",
      "cannot return reference to local variable `country`"
     ]
    }
   ],
   "source": [
    "fn return_localref() -> &'static String {\n",
    "    let country = String::from(\"대한민국\");\n",
    "    println!(\" {country}\");\n",
    "    &country\n",
    "}"
   ]
  },
  {
   "cell_type": "code",
   "execution_count": null,
   "id": "89aadec5",
   "metadata": {},
   "outputs": [],
   "source": []
  },
  {
   "cell_type": "markdown",
   "id": "2a3ee446",
   "metadata": {},
   "source": [
    "## 참조 처리하기"
   ]
  },
  {
   "cell_type": "code",
   "execution_count": 9,
   "id": "f9baef74",
   "metadata": {},
   "outputs": [],
   "source": [
    "fn return_localref(x : &u32) -> &u32 {\n",
    "     x\n",
    "}\n",
    "\n",
    "fn return_localref_1(x : &u32) -> u32 {\n",
    "     *x\n",
    "}\n",
    "\n",
    "fn main() {\n",
    "    let country = 100;\n",
    "    let x = return_localref(&country);\n",
    "    println!(\"{x}\");\n",
    "        let x = return_localref_1(&country);\n",
    "    println!(\"{x}\");\n",
    "}"
   ]
  },
  {
   "cell_type": "code",
   "execution_count": 10,
   "id": "5389b2a1",
   "metadata": {},
   "outputs": [
    {
     "name": "stdout",
     "output_type": "stream",
     "text": [
      "100\n",
      "100\n"
     ]
    },
    {
     "data": {
      "text/plain": [
       "()"
      ]
     },
     "execution_count": 10,
     "metadata": {},
     "output_type": "execute_result"
    }
   ],
   "source": [
    "main()"
   ]
  },
  {
   "cell_type": "code",
   "execution_count": null,
   "id": "f67ab395",
   "metadata": {},
   "outputs": [],
   "source": []
  },
  {
   "cell_type": "code",
   "execution_count": null,
   "id": "875a6fe0",
   "metadata": {},
   "outputs": [],
   "source": []
  },
  {
   "cell_type": "code",
   "execution_count": 44,
   "id": "0dd2c6f4",
   "metadata": {},
   "outputs": [],
   "source": [
    "fn main() {\n",
    "    \n",
    "    let ss = String::from(\"abcd\");\n",
    "    let as_ss = ss.as_bytes();\n",
    "    for (i,item) in as_ss.iter().enumerate() {\n",
    "        println!(\" {} {}\", i,item);\n",
    "    }\n",
    "}"
   ]
  },
  {
   "cell_type": "code",
   "execution_count": 45,
   "id": "02e97630",
   "metadata": {},
   "outputs": [
    {
     "name": "stdout",
     "output_type": "stream",
     "text": [
      " 0 97\n",
      " 1 98\n",
      " 2 99\n",
      " 3 100\n"
     ]
    },
    {
     "data": {
      "text/plain": [
       "()"
      ]
     },
     "execution_count": 45,
     "metadata": {},
     "output_type": "execute_result"
    }
   ],
   "source": [
    "main()"
   ]
  },
  {
   "cell_type": "code",
   "execution_count": null,
   "id": "844e5c83",
   "metadata": {},
   "outputs": [],
   "source": []
  }
 ],
 "metadata": {
  "kernelspec": {
   "display_name": "Rust",
   "language": "rust",
   "name": "rust"
  },
  "language_info": {
   "codemirror_mode": "rust",
   "file_extension": ".rs",
   "mimetype": "text/rust",
   "name": "Rust",
   "pygment_lexer": "rust",
   "version": ""
  }
 },
 "nbformat": 4,
 "nbformat_minor": 5
}
