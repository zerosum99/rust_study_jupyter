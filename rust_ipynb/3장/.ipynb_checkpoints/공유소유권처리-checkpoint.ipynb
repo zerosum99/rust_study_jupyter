{
 "cells": [
  {
   "cell_type": "code",
   "execution_count": null,
   "id": "b3afd395",
   "metadata": {},
   "outputs": [],
   "source": []
  },
  {
   "cell_type": "markdown",
   "id": "b2b6ca37",
   "metadata": {},
   "source": [
    "# RC vs Weak\n",
    "- Rc : 강력한 레퍼런스 카운팅. 참조 주기로 인해 메모리가 할당 해제되지 않을 수 있습니다.\n",
    "- Week : 약한 참조 카운팅은 할당된 메모리에 대한 소유권이 없는 참조를 보유합니다."
   ]
  },
  {
   "cell_type": "code",
   "execution_count": null,
   "id": "495b81d7",
   "metadata": {},
   "outputs": [],
   "source": []
  },
  {
   "cell_type": "markdown",
   "id": "3238d48c",
   "metadata": {},
   "source": [
    "## RC 타입 \n",
    "\n",
    "- 소유권 규칙에 따라 Rust에서 어떤 값은 여러 소유자를 가질 수 없습니다. \n",
    "- Reference Counted를 의미하는 Rc는 힙 메모리에 할당된 타입 T 값의 소유권을 공유할 수 있게 해주는 타입입니다. \n",
    "- 즉, 스마트 포인터 Rc를 사용하면 타입 T의 값에 대한 여러 개의 소유자를 만들 수 있습니다."
   ]
  },
  {
   "cell_type": "code",
   "execution_count": 21,
   "id": "38d1af88",
   "metadata": {},
   "outputs": [],
   "source": [
    "use std::rc::{Rc,Weak}"
   ]
  },
  {
   "cell_type": "code",
   "execution_count": 7,
   "id": "ec8380f1",
   "metadata": {},
   "outputs": [],
   "source": [
    "fn main() {\n",
    "    let rc = Rc::new(10);\n",
    "    println!(\"value of rc => {}\", rc);\n",
    "    println!(\"strong count => {}\", Rc::strong_count(&rc));\n",
    "    println!(\"weak count => {}\", Rc::weak_count(&rc));\n",
    "}"
   ]
  },
  {
   "cell_type": "code",
   "execution_count": 8,
   "id": "f4ab98b1",
   "metadata": {},
   "outputs": [
    {
     "name": "stdout",
     "output_type": "stream",
     "text": [
      "value of rc => 10\n",
      "strong count => 1\n",
      "weak count => 0\n"
     ]
    },
    {
     "data": {
      "text/plain": [
       "()"
      ]
     },
     "execution_count": 8,
     "metadata": {},
     "output_type": "execute_result"
    }
   ],
   "source": [
    "main()"
   ]
  },
  {
   "cell_type": "code",
   "execution_count": null,
   "id": "93d0cde7",
   "metadata": {},
   "outputs": [],
   "source": []
  },
  {
   "cell_type": "code",
   "execution_count": null,
   "id": "dc5c3479",
   "metadata": {},
   "outputs": [],
   "source": []
  },
  {
   "cell_type": "code",
   "execution_count": 13,
   "id": "e1aa537e",
   "metadata": {},
   "outputs": [],
   "source": [
    "fn main() {\n",
    "    let rc = Rc::new(10);\n",
    "    println!(\"[ 1 ]\");\n",
    "    println!(\"value of rc => {}\", rc);\n",
    "    println!(\"strong count => {}\", Rc::strong_count(&rc));\n",
    "    println!(\"weak count => {}\", Rc::weak_count(&rc));\n",
    "\n",
    "    {\n",
    "        let rc2 = rc.clone();     // 참조 증가 \n",
    "        println!(\"[ 2 ]\");\n",
    "        println!(\"value of rc2 => {}\", rc2);\n",
    "        println!(\"strong count => {}\", Rc::strong_count(&rc));\n",
    "        println!(\"weak count => {}\", Rc::weak_count(&rc));\n",
    "\n",
    "        let rc3 = Rc::clone(&rc);  // 참조 증가 \n",
    "        println!(\"[ 3 ]\");\n",
    "        println!(\"value of rc3 => {}\", rc3);\n",
    "        println!(\"strong count => {}\", Rc::strong_count(&rc));\n",
    "        println!(\"weak count => {}\", Rc::weak_count(&rc));\n",
    "    }                              // 지역에서 사용한 것은 전부 삭제됨 \n",
    "\n",
    "    println!(\"[ 4 ]\");\n",
    "    println!(\"strong count => {}\", Rc::strong_count(&rc));\n",
    "    println!(\"weak count => {}\", Rc::weak_count(&rc));\n",
    "}\n"
   ]
  },
  {
   "cell_type": "code",
   "execution_count": 14,
   "id": "f47f11d2",
   "metadata": {},
   "outputs": [
    {
     "name": "stdout",
     "output_type": "stream",
     "text": [
      "[ 1 ]\n",
      "value of rc => 10\n",
      "strong count => 1\n",
      "weak count => 0\n",
      "[ 2 ]\n",
      "value of rc2 => 10\n",
      "strong count => 2\n",
      "weak count => 0\n",
      "[ 3 ]\n",
      "value of rc3 => 10\n",
      "strong count => 3\n",
      "weak count => 0\n",
      "[ 4 ]\n",
      "strong count => 1\n",
      "weak count => 0\n"
     ]
    }
   ],
   "source": [
    "main();"
   ]
  },
  {
   "cell_type": "code",
   "execution_count": null,
   "id": "a66b6293",
   "metadata": {},
   "outputs": [],
   "source": []
  },
  {
   "cell_type": "markdown",
   "id": "2ee20373",
   "metadata": {},
   "source": [
    "## 위크 처리하기 \n",
    "\n",
    "- Weak 타입에도 생성 메서드 new가 존재하지만, 인자로 어떠한 타입 T 값도 받지 않습니다.\n",
    "- 즉, 타입 T에 대한 어떠한 값도 메모리에 할당되지 않습니다. 따라서, new로 새롭게 생성한 Weak 타입의 upgrade 메서드는 항상 None을 리턴합니다."
   ]
  },
  {
   "cell_type": "code",
   "execution_count": 19,
   "id": "26c731a4",
   "metadata": {},
   "outputs": [],
   "source": [
    "fn main() {\n",
    "    let weak: Weak<i32> = Weak::new();\n",
    "    assert!(weak.upgrade().is_none());\n",
    "}"
   ]
  },
  {
   "cell_type": "code",
   "execution_count": 22,
   "id": "03aec025",
   "metadata": {},
   "outputs": [],
   "source": [
    "main();"
   ]
  },
  {
   "cell_type": "markdown",
   "id": "c68ca622",
   "metadata": {},
   "source": [
    "### 위크 타입 처리\n",
    "\n",
    "- Rc 타입을 Weak 타입으로 downgrade 하고, Weak 타입을 Rc 타입으로 upgrade 하는 과정을 볼 수 있습니다\n",
    "\n",
    "- Weak 타입은 Rc 타입과 다르게 Deref Trait을 구현하고 있지 않기 때문에 자동으로 역참조가 일어나지 않습니다.\n",
    "- 또한, as_ptr() 메서드를 통해 T 값에 접근할 수 있지만, 아직 타입 T 값이 메모리에서 drop 되지 않았다는 것을 알 수 없기 때문에 unsafe 키워드를 사용해야 합니다. \n",
    "- 그래서 개발자는 Weak 참조자가 가리키는 값이 아직 유효하다는 것을 보장할 수 있을 때 사용해야 합니다."
   ]
  },
  {
   "cell_type": "code",
   "execution_count": 30,
   "id": "5345f23b",
   "metadata": {},
   "outputs": [],
   "source": [
    "fn main() {\n",
    "    let rc = Rc::new(10);               // Rc 생성\n",
    "    println!(\"[ 1 ]\");\n",
    "    println!(\"value of rc => {}\", rc);\n",
    "    println!(\"strong count => {}\", Rc::strong_count(&rc));\n",
    "    println!(\"weak count => {}\", Rc::weak_count(&rc));\n",
    "\n",
    "    let weak = Rc::downgrade(&rc);      // weak 생성 \n",
    "    println!(\"[ 2 ]\");\n",
    "    println!(\"value of weak => {}\", unsafe { &*weak.as_ptr() });\n",
    "    println!(\"strong count => {}\", Rc::strong_count(&rc));\n",
    "    println!(\"weak count => {}\", Rc::weak_count(&rc));\n",
    "\n",
    "    if let Some(rc2) = Weak::upgrade(&weak) {      // rc 생성 \n",
    "        println!(\"[ 3 ]\");\n",
    "        println!(\"value of rc2 => {}\", rc2);\n",
    "        println!(\"strong count => {}\", Rc::strong_count(&rc));\n",
    "        println!(\"weak count => {}\", Rc::weak_count(&rc));  \n",
    "    } else {\n",
    "        println!(\"강한 참조가 남아 있지 않습니다.\");\n",
    "    }\n",
    "             \n",
    "    println!(\"최종결과는 지역에서 처리된 것은 사리지고 없음 .\");\n",
    "    println!(\"strong count => {}\", Rc::strong_count(&rc));\n",
    "    println!(\"weak count => {}\", Rc::weak_count(&rc));\n",
    "}"
   ]
  },
  {
   "cell_type": "code",
   "execution_count": 31,
   "id": "c2d546ba",
   "metadata": {},
   "outputs": [
    {
     "name": "stdout",
     "output_type": "stream",
     "text": [
      "[ 1 ]\n",
      "value of rc => 10\n",
      "strong count => 1\n",
      "weak count => 0\n",
      "[ 2 ]\n",
      "value of weak => 10\n",
      "strong count => 1\n",
      "weak count => 1\n",
      "[ 3 ]\n",
      "value of rc2 => 10\n",
      "strong count => 2\n",
      "weak count => 1\n",
      "최종결과는 지역에서 처리된 것은 사리지고 없음 .\n",
      "strong count => 1\n",
      "weak count => 1\n"
     ]
    }
   ],
   "source": [
    "main();"
   ]
  },
  {
   "cell_type": "code",
   "execution_count": null,
   "id": "333866c9",
   "metadata": {},
   "outputs": [],
   "source": []
  },
  {
   "cell_type": "code",
   "execution_count": null,
   "id": "bfaae838",
   "metadata": {},
   "outputs": [],
   "source": []
  }
 ],
 "metadata": {
  "kernelspec": {
   "display_name": "Rust",
   "language": "rust",
   "name": "rust"
  },
  "language_info": {
   "codemirror_mode": "rust",
   "file_extension": ".rs",
   "mimetype": "text/rust",
   "name": "Rust",
   "pygment_lexer": "rust",
   "version": ""
  }
 },
 "nbformat": 4,
 "nbformat_minor": 5
}
