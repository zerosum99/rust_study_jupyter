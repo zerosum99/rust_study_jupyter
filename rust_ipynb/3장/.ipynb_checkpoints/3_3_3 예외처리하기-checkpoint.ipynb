{
 "cells": [
  {
   "cell_type": "markdown",
   "id": "e16b845e",
   "metadata": {},
   "source": [
    "## 참고자료\n",
    "\n",
    "https://www.sheshbabu.com/posts/rust-error-handling/"
   ]
  },
  {
   "cell_type": "markdown",
   "id": "e6b1560f",
   "metadata": {},
   "source": [
    "## 1. 러스트 에러 \n",
    "\n",
    "- 패닉은 러스트에서의 에러를 의미 "
   ]
  },
  {
   "cell_type": "code",
   "execution_count": 2,
   "id": "13ded538",
   "metadata": {},
   "outputs": [],
   "source": [
    "fn main() {\n",
    "    panic!(\"crash and burn\");\n",
    "}"
   ]
  },
  {
   "cell_type": "code",
   "execution_count": 3,
   "id": "6b445b09",
   "metadata": {},
   "outputs": [
    {
     "name": "stderr",
     "output_type": "stream",
     "text": [
      "thread '<unnamed>' panicked at 'crash and burn', src/lib.rs:3:5\n",
      "stack backtrace:\n",
      "   0: _rust_begin_unwind\n",
      "   1: core::panicking::panic_fmt\n",
      "   2: ctx::main\n",
      "   3: _run_user_code_2\n",
      "   4: evcxr::runtime::Runtime::run_loop\n",
      "   5: evcxr::runtime::runtime_hook\n",
      "   6: evcxr_jupyter::main\n",
      "note: Some details are omitted, run with `RUST_BACKTRACE=full` for a verbose backtrace.\n"
     ]
    }
   ],
   "source": [
    "main()"
   ]
  },
  {
   "cell_type": "markdown",
   "id": "ab81c374",
   "metadata": {},
   "source": [
    "## 러스트 인덱스 에러 \n",
    "\n",
    "- 인덱스 검색할 때 인덱스 범위를 벗어날 경우 에러가 발생"
   ]
  },
  {
   "cell_type": "code",
   "execution_count": 4,
   "id": "9d1e13db",
   "metadata": {},
   "outputs": [],
   "source": [
    "fn main() {\n",
    "    let v = vec![1, 2, 3];\n",
    "\n",
    "    v[99];\n",
    "}"
   ]
  },
  {
   "cell_type": "code",
   "execution_count": 5,
   "id": "e12d0688",
   "metadata": {},
   "outputs": [
    {
     "name": "stderr",
     "output_type": "stream",
     "text": [
      "thread '<unnamed>' panicked at 'index out of bounds: the len is 3 but the index is 99', src/lib.rs:5:5\n",
      "stack backtrace:\n",
      "   0: _rust_begin_unwind\n",
      "   1: core::panicking::panic_fmt\n",
      "   2: core::panicking::panic_bounds_check\n",
      "   3: <unknown>\n",
      "   4: <unknown>\n",
      "   5: evcxr::runtime::Runtime::run_loop\n",
      "   6: evcxr::runtime::runtime_hook\n",
      "   7: evcxr_jupyter::main\n",
      "note: Some details are omitted, run with `RUST_BACKTRACE=full` for a verbose backtrace.\n"
     ]
    }
   ],
   "source": [
    "main()"
   ]
  },
  {
   "cell_type": "markdown",
   "id": "c7d2cc46",
   "metadata": {},
   "source": [
    "## 2. Result를 사용해 에러 처리하기 "
   ]
  },
  {
   "cell_type": "code",
   "execution_count": null,
   "id": "d1092b79",
   "metadata": {},
   "outputs": [],
   "source": [
    "Result는 Rust 표준 라이브러리에 정의된 열거형(Enumeration) 타입으로, 함수나 메서드 호출 결과가 성공인지 실패인지를 나타내는 타입입니다. \n",
    "Result는 두 개의 제네릭 매개변수를 가지며, Ok(T) 또는 Err(E) 중 하나의 값을 가집니다. \n",
    "여기서 T는 성공 결과를 나타내는 값의 타입이며, E는 실패 결과를 나타내는 값의 타입입니다."
   ]
  },
  {
   "cell_type": "markdown",
   "id": "5d5026ec",
   "metadata": {},
   "source": [
    "## Recoverable Errors with Result\n",
    "\n",
    "- 별도의 예외처리 방식이 없다. \n",
    "- 대신 이넘 Result 로 처리하고 정상이면 OK이고 아니면 Err를 발생시킴.\n",
    "- OK 내의 값은 정상처리한 결과이고 Err의 값은 에러를 발생하는 메시지를 의미한다.\n",
    "\n",
    "\n",
    "### Rust에서는 Result라는 것을 반환으로 예외처리하기 \n",
    "\n",
    " - Result<T, E> 유형은 성공 값은 Ok(T), 오류 값은 Err(E)의 두 가지 변형을 가진 열거형입니다:"
   ]
  },
  {
   "cell_type": "code",
   "execution_count": null,
   "id": "4f54add1",
   "metadata": {},
   "outputs": [],
   "source": []
  },
  {
   "cell_type": "markdown",
   "id": "03aa31fd",
   "metadata": {},
   "source": [
    "## result 이넘 알아보기\n",
    "\n",
    "- Result<T, E> 유형은 성공 값인 Ok(T) 또는 오류 값인 Err(E)의 두 가지 변형이 있는 열거형입니다:\n",
    "\n",
    "\n",
    "### enum Result<T, E> {\n",
    "###   Ok(T),\n",
    "###   Err(E),\n",
    "### }"
   ]
  },
  {
   "cell_type": "code",
   "execution_count": 6,
   "id": "f4dbc263",
   "metadata": {},
   "outputs": [
    {
     "name": "stdout",
     "output_type": "stream",
     "text": [
      " Err(Os { code: 2, kind: NotFound, message: \"No such file or directory\" }) \n"
     ]
    }
   ],
   "source": [
    "use std::fs::File;\n",
    "\n",
    "println!(\" {:?} \",File::open(\"hello.txt\"));"
   ]
  },
  {
   "cell_type": "code",
   "execution_count": 7,
   "id": "64a749a1",
   "metadata": {},
   "outputs": [],
   "source": [
    "use std::fs::File;\n",
    "\n",
    "fn main() {\n",
    "    let greeting_file_result = File::open(\"hello1.txt\");\n",
    "    \n",
    "    println!(\" 파일처리 {:?}\", greeting_file_result);\n",
    "}"
   ]
  },
  {
   "cell_type": "code",
   "execution_count": 8,
   "id": "56b76fe5",
   "metadata": {},
   "outputs": [
    {
     "name": "stdout",
     "output_type": "stream",
     "text": [
      " 파일처리 Err(Os { code: 2, kind: NotFound, message: \"No such file or directory\" })\n"
     ]
    },
    {
     "data": {
      "text/plain": [
       "()"
      ]
     },
     "execution_count": 8,
     "metadata": {},
     "output_type": "execute_result"
    }
   ],
   "source": [
    "main()"
   ]
  },
  {
   "cell_type": "markdown",
   "id": "1a6648ac",
   "metadata": {},
   "source": [
    "### 파일을 읽으면 result 로 반환한다.\n",
    "\n",
    "- 이를 match를 사용해서 정상과 오류처리를 한다."
   ]
  },
  {
   "cell_type": "code",
   "execution_count": 9,
   "id": "5c54d366",
   "metadata": {},
   "outputs": [],
   "source": [
    "use std::fs::File;\n",
    "\n",
    "fn main() {\n",
    "    let greeting_file_result = File::open(\"hello2.txt\");\n",
    "\n",
    "    let greeting_file = match greeting_file_result {\n",
    "        Ok(file) => file,\n",
    "        Err(error) => panic!(\"Problem opening the file: {:?}\", error),\n",
    "    };\n",
    "}"
   ]
  },
  {
   "cell_type": "code",
   "execution_count": 10,
   "id": "1a4f4cb7",
   "metadata": {},
   "outputs": [
    {
     "name": "stderr",
     "output_type": "stream",
     "text": [
      "thread '<unnamed>' panicked at 'Problem opening the file: Os { code: 2, kind: NotFound, message: \"No such file or directory\" }', src/lib.rs:8:23\n",
      "stack backtrace:\n",
      "   0: _rust_begin_unwind\n",
      "   1: core::panicking::panic_fmt\n",
      "   2: <unknown>\n",
      "   3: <unknown>\n",
      "   4: <unknown>\n",
      "   5: evcxr::runtime::Runtime::run_loop\n",
      "   6: evcxr::runtime::runtime_hook\n",
      "   7: evcxr_jupyter::main\n",
      "note: Some details are omitted, run with `RUST_BACKTRACE=full` for a verbose backtrace.\n"
     ]
    }
   ],
   "source": [
    "main()"
   ]
  },
  {
   "cell_type": "markdown",
   "id": "8aa02be5",
   "metadata": {},
   "source": [
    "## Matching on Different Errors"
   ]
  },
  {
   "cell_type": "code",
   "execution_count": 11,
   "id": "fff39d3b",
   "metadata": {},
   "outputs": [],
   "source": [
    "use std::fs::File;\n",
    "use std::io::ErrorKind;\n",
    "\n",
    "fn main() {\n",
    "    let greeting_file_result = File::open(\"hello3.txt\");\n",
    "\n",
    "    let greeting_file = match greeting_file_result {\n",
    "        Ok(file) => file,\n",
    "        Err(error) => match error.kind() {\n",
    "            ErrorKind::NotFound => match File::create(\"hello33.txt\") {\n",
    "                Ok(fc) => fc,\n",
    "                Err(e) => panic!(\"Problem creating the file: {:?}\", e),\n",
    "            },\n",
    "            other_error => {\n",
    "                panic!(\"Problem opening the file: {:?}\", other_error);\n",
    "            }\n",
    "        },\n",
    "    };\n",
    "}"
   ]
  },
  {
   "cell_type": "code",
   "execution_count": 12,
   "id": "ce4f37d0",
   "metadata": {},
   "outputs": [
    {
     "data": {
      "text/plain": [
       "()"
      ]
     },
     "execution_count": 12,
     "metadata": {},
     "output_type": "execute_result"
    }
   ],
   "source": [
    "main()"
   ]
  },
  {
   "cell_type": "markdown",
   "id": "9172110f",
   "metadata": {},
   "source": [
    "## Ignore the error\n",
    "- 코드를 프로토타이핑 중인데 오류 처리에 시간을 소비하고 싶지 않습니다.\n",
    "- 오류가 발생하지 않을 것이라고 확신합니다."
   ]
  },
  {
   "cell_type": "markdown",
   "id": "727ec6a1",
   "metadata": {},
   "source": [
    "### unwrap 메서드를 사용해서 실제값을 가져온다. 값이 없을 경우 패닉처리\n",
    "\n",
    "- 파일이 존재한다는 것을 알고 있더라도 컴파일러는 이를 알 방법이 없습니다. \n",
    "- 따라서 unwrap을 사용하여 컴파일러에 우리를 신뢰하고 내부 값을 반환하도록 지시합니다. "
   ]
  },
  {
   "cell_type": "code",
   "execution_count": 13,
   "id": "0bdab446",
   "metadata": {},
   "outputs": [],
   "source": [
    "use std::fs;\n",
    "\n",
    "fn main() {\n",
    "  let content = fs::read_to_string(\"./Cargo.toml\").unwrap();\n",
    "  println!(\"{}\", content)\n",
    "}"
   ]
  },
  {
   "cell_type": "markdown",
   "id": "91b61a32",
   "metadata": {},
   "source": [
    "### 성공적이 값이 없을 경우 패닉을 발생 "
   ]
  },
  {
   "cell_type": "code",
   "execution_count": 14,
   "id": "be1156c8",
   "metadata": {},
   "outputs": [
    {
     "name": "stderr",
     "output_type": "stream",
     "text": [
      "thread '<unnamed>' panicked at 'called `Result::unwrap()` on an `Err` value: Os { code: 2, kind: NotFound, message: \"No such file or directory\" }', src/lib.rs:4:52\n",
      "stack backtrace:\n",
      "   0: _rust_begin_unwind\n",
      "   1: core::panicking::panic_fmt\n",
      "   2: core::result::unwrap_failed\n",
      "   3: <unknown>\n",
      "   4: <unknown>\n",
      "   5: <unknown>\n",
      "   6: evcxr::runtime::Runtime::run_loop\n",
      "   7: evcxr::runtime::runtime_hook\n",
      "   8: evcxr_jupyter::main\n",
      "note: Some details are omitted, run with `RUST_BACKTRACE=full` for a verbose backtrace.\n"
     ]
    }
   ],
   "source": [
    "main()"
   ]
  },
  {
   "cell_type": "code",
   "execution_count": null,
   "id": "0d6492d8",
   "metadata": {},
   "outputs": [],
   "source": []
  },
  {
   "cell_type": "code",
   "execution_count": null,
   "id": "f8b00002",
   "metadata": {},
   "outputs": [],
   "source": []
  },
  {
   "cell_type": "markdown",
   "id": "5f8b853d",
   "metadata": {},
   "source": [
    "## Terminate the program\n",
    "\n",
    "- 일부 오류는 처리하거나 복구가 불가해서 프로그램을 종료하여 빠르게 종료해야 한다. \n",
    "- 반드시 존재하는 파일을 읽고 있다고 가정해 보면  이 프로그램에서 해당 파일이 없으면 제대로 작동하지 않고 바로 프로그램을 종료한다.\n",
    "- unwrap과 동일하지만 추가 오류 메시지를 추가할 수 있는 expect를 사용할 수 있습니다."
   ]
  },
  {
   "cell_type": "code",
   "execution_count": 15,
   "id": "9f8b4c6f",
   "metadata": {},
   "outputs": [],
   "source": [
    "use std::fs;\n",
    "\n",
    "fn main() {\n",
    "  let content = fs::read_to_string(\"./Cargo.toml\").expect(\"Can't read Cargo.toml\");\n",
    "  println!(\"{}\", content)\n",
    "}"
   ]
  },
  {
   "cell_type": "code",
   "execution_count": 16,
   "id": "c38593a6",
   "metadata": {},
   "outputs": [
    {
     "name": "stderr",
     "output_type": "stream",
     "text": [
      "thread '<unnamed>' panicked at 'Can't read Cargo.toml: Os { code: 2, kind: NotFound, message: \"No such file or directory\" }', src/lib.rs:4:52\n",
      "stack backtrace:\n",
      "   0: _rust_begin_unwind\n",
      "   1: core::panicking::panic_fmt\n",
      "   2: core::result::unwrap_failed\n",
      "   3: <unknown>\n",
      "   4: <unknown>\n",
      "   5: <unknown>\n",
      "   6: evcxr::runtime::Runtime::run_loop\n",
      "   7: evcxr::runtime::runtime_hook\n",
      "   8: evcxr_jupyter::main\n",
      "note: Some details are omitted, run with `RUST_BACKTRACE=full` for a verbose backtrace.\n"
     ]
    }
   ],
   "source": [
    "main()"
   ]
  },
  {
   "cell_type": "code",
   "execution_count": null,
   "id": "57095dfd",
   "metadata": {},
   "outputs": [],
   "source": []
  },
  {
   "cell_type": "markdown",
   "id": "eaef2d76",
   "metadata": {},
   "source": [
    "## Use a fallback value\n",
    "\n",
    "- 경우에 따라 기본값으로 되돌아가서 오류를 처리할 수 있습니다.\n",
    "\n",
    "- 예를 들어 서버를 작성할 때 서버가 수신 대기하는 포트를 환경 변수를 사용하여 구성할 수 있다고 가정해 보겠습니다. \n",
    "- 환경 변수가 설정되어 있지 않으면 해당 값에 액세스하면 오류가 발생합니다. \n",
    "- 하지만 기본값으로 되돌아가면 이 문제를 쉽게 처리할 수 있습니다."
   ]
  },
  {
   "cell_type": "code",
   "execution_count": 17,
   "id": "5d90b056",
   "metadata": {},
   "outputs": [],
   "source": [
    "use std::env;\n",
    "\n",
    "fn main() {\n",
    "  let port = env::var(\"PORT\").unwrap_or(\"3000\".to_string());\n",
    "  println!(\"{}\", port);\n",
    "}"
   ]
  },
  {
   "cell_type": "code",
   "execution_count": 18,
   "id": "d15e75e4",
   "metadata": {},
   "outputs": [
    {
     "name": "stdout",
     "output_type": "stream",
     "text": [
      "3000\n"
     ]
    },
    {
     "data": {
      "text/plain": [
       "()"
      ]
     },
     "execution_count": 18,
     "metadata": {},
     "output_type": "execute_result"
    }
   ],
   "source": [
    "main()"
   ]
  },
  {
   "cell_type": "code",
   "execution_count": null,
   "id": "df2eb33b",
   "metadata": {},
   "outputs": [],
   "source": []
  },
  {
   "cell_type": "code",
   "execution_count": 19,
   "id": "039a27a6",
   "metadata": {},
   "outputs": [],
   "source": [
    "fn count(x: &str) -> usize { x.len() }\n"
   ]
  },
  {
   "cell_type": "code",
   "execution_count": 20,
   "id": "30536299",
   "metadata": {},
   "outputs": [
    {
     "data": {
      "text/plain": [
       "()"
      ]
     },
     "execution_count": 20,
     "metadata": {},
     "output_type": "execute_result"
    }
   ],
   "source": [
    "assert_eq!(Ok(2).unwrap_or_else(count), 2)"
   ]
  },
  {
   "cell_type": "code",
   "execution_count": 21,
   "id": "96799a30",
   "metadata": {},
   "outputs": [],
   "source": [
    "assert_eq!(Err(\"foo\").unwrap_or_else(count), 3);"
   ]
  },
  {
   "cell_type": "code",
   "execution_count": null,
   "id": "8c639b90",
   "metadata": {},
   "outputs": [],
   "source": []
  },
  {
   "cell_type": "code",
   "execution_count": 22,
   "id": "2e7f2f3f",
   "metadata": {},
   "outputs": [],
   "source": [
    "let good_year_from_input = \"1909\";\n",
    "let bad_year_from_input = \"190blarg\";\n",
    "let good_year = good_year_from_input.parse().unwrap_or_default();\n",
    "let bad_year = bad_year_from_input.parse().unwrap_or_default();\n",
    "\n",
    "assert_eq!(1909, good_year);\n",
    "assert_eq!(0, bad_year);"
   ]
  },
  {
   "cell_type": "code",
   "execution_count": null,
   "id": "5fd8163f",
   "metadata": {},
   "outputs": [],
   "source": []
  },
  {
   "cell_type": "markdown",
   "id": "a7bc241d",
   "metadata": {},
   "source": [
    "## Bubble up the error\n",
    "\n",
    "- 오류를 처리할 컨텍스트가 충분하지 않은 경우 오류를 호출자 함수에 버블업(전파)할 수 있습니다."
   ]
  },
  {
   "cell_type": "code",
   "execution_count": 23,
   "id": "56028990",
   "metadata": {},
   "outputs": [],
   "source": [
    "use std::fs::File;\n",
    "use std::io::{self, Read};\n",
    "\n",
    "fn read_username_from_file() -> Result<String, io::Error> {\n",
    "    let username_file_result = File::open(\"hello4.txt\");\n",
    "\n",
    "    let mut username_file = match username_file_result {\n",
    "        Ok(file) => file,\n",
    "        Err(e) => return Err(e),\n",
    "    };\n",
    "\n",
    "    let mut username = String::new();\n",
    "\n",
    "    match username_file.read_to_string(&mut username) {\n",
    "        Ok(_) => Ok(username),\n",
    "        Err(e) => Err(e),\n",
    "    }\n",
    "}\n",
    "\n",
    "fn main() {\n",
    "    let err_msg = read_username_from_file();\n",
    "    println!(\" {:?} \",err_msg);\n",
    "}"
   ]
  },
  {
   "cell_type": "code",
   "execution_count": 24,
   "id": "01de38d9",
   "metadata": {},
   "outputs": [
    {
     "name": "stdout",
     "output_type": "stream",
     "text": [
      " Err(Os { code: 2, kind: NotFound, message: \"No such file or directory\" }) \n"
     ]
    },
    {
     "data": {
      "text/plain": [
       "()"
      ]
     },
     "execution_count": 24,
     "metadata": {},
     "output_type": "execute_result"
    }
   ],
   "source": [
    "main()"
   ]
  },
  {
   "cell_type": "code",
   "execution_count": null,
   "id": "89edb8eb",
   "metadata": {},
   "outputs": [],
   "source": []
  },
  {
   "cell_type": "code",
   "execution_count": null,
   "id": "62c83832",
   "metadata": {},
   "outputs": [],
   "source": []
  }
 ],
 "metadata": {
  "kernelspec": {
   "display_name": "Rust",
   "language": "rust",
   "name": "rust"
  },
  "language_info": {
   "codemirror_mode": "rust",
   "file_extension": ".rs",
   "mimetype": "text/rust",
   "name": "Rust",
   "pygment_lexer": "rust",
   "version": ""
  }
 },
 "nbformat": 4,
 "nbformat_minor": 5
}
