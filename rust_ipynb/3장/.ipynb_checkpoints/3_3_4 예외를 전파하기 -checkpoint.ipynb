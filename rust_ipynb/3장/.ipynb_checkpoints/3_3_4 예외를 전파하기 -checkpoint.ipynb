{
 "cells": [
  {
   "cell_type": "markdown",
   "id": "184ab3b0",
   "metadata": {},
   "source": [
    "## 예외전파는 ? \n",
    "\n",
    "- Result 이넘을 사용할 때 ? 기호를 사용하면 상위로 예외를 전파해준다"
   ]
  },
  {
   "cell_type": "code",
   "execution_count": null,
   "id": "39054715",
   "metadata": {},
   "outputs": [],
   "source": []
  },
  {
   "cell_type": "code",
   "execution_count": null,
   "id": "ab69f2ff",
   "metadata": {},
   "outputs": [],
   "source": []
  },
  {
   "cell_type": "code",
   "execution_count": null,
   "id": "34af3f5c",
   "metadata": {},
   "outputs": [],
   "source": []
  },
  {
   "cell_type": "code",
   "execution_count": null,
   "id": "bd44894f",
   "metadata": {},
   "outputs": [],
   "source": []
  },
  {
   "cell_type": "code",
   "execution_count": null,
   "id": "814d97ed",
   "metadata": {},
   "outputs": [],
   "source": []
  }
 ],
 "metadata": {
  "kernelspec": {
   "display_name": "Rust",
   "language": "rust",
   "name": "rust"
  },
  "language_info": {
   "codemirror_mode": "rust",
   "file_extension": ".rs",
   "mimetype": "text/rust",
   "name": "Rust",
   "pygment_lexer": "rust",
   "version": ""
  }
 },
 "nbformat": 4,
 "nbformat_minor": 5
}
