{
 "cells": [
  {
   "cell_type": "code",
   "execution_count": null,
   "id": "7f40b40d",
   "metadata": {},
   "outputs": [],
   "source": []
  },
  {
   "cell_type": "markdown",
   "id": "a33620da",
   "metadata": {},
   "source": [
    "## 참조로 했을 때는 참조가 가능 "
   ]
  },
  {
   "cell_type": "markdown",
   "id": "c28ece03",
   "metadata": {},
   "source": [
    "## 수명매개변수 \n",
    "\n",
    "- 1. 모든 레퍼런스는 lifetime을 갖는다.\n",
    "- 2. 만약 인자로 입력받는 레퍼런스가 1개라면, 해당 레퍼런스의 lifetime이 모든 리턴값에 적용된다.\n",
    "- 3. 함수가 self 혹은 &mut self를 인자로 받는 메소드라면, self의 lifetime이 모든 리턴값에 적용된다."
   ]
  },
  {
   "cell_type": "code",
   "execution_count": null,
   "id": "e92cc480",
   "metadata": {},
   "outputs": [],
   "source": []
  },
  {
   "cell_type": "markdown",
   "id": "aa73c3bf",
   "metadata": {},
   "source": [
    "### 수명매개변수 : 매개변수가 1개 일때는 반환값과 매개변수의 수명은 같다\n",
    "\n",
    "- 타입매개변수와 같은 자리에 지정한다.\n",
    "- 수명매개변수 이름 앞에 '를 더 붙이고 소문자를 사용해서 타입 매개변수와 구분한다. "
   ]
  },
  {
   "cell_type": "code",
   "execution_count": 4,
   "id": "dd2df323",
   "metadata": {},
   "outputs": [],
   "source": [
    "fn add<'a>(x: &'a str) -> &'a str {\n",
    "    x\n",
    "}"
   ]
  },
  {
   "cell_type": "code",
   "execution_count": 6,
   "id": "15dac191",
   "metadata": {},
   "outputs": [
    {
     "name": "stdout",
     "output_type": "stream",
     "text": [
      " 가을이 \n"
     ]
    }
   ],
   "source": [
    "println!(\" {} \",add(\"가을이\"));"
   ]
  },
  {
   "cell_type": "markdown",
   "id": "b910ee32",
   "metadata": {},
   "source": [
    "### 문자열 참조를 지역변수에 문자열 리터럴로 할당하고 처리 "
   ]
  },
  {
   "cell_type": "code",
   "execution_count": 10,
   "id": "1b8b1527",
   "metadata": {},
   "outputs": [],
   "source": [
    "fn add_s<'a>(x: &'a String) -> &'a str {\n",
    "    let ss = x.as_str();\n",
    "    ss\n",
    "}"
   ]
  },
  {
   "cell_type": "code",
   "execution_count": 14,
   "id": "963e3c99",
   "metadata": {},
   "outputs": [
    {
     "name": "stdout",
     "output_type": "stream",
     "text": [
      " \"가을이\" \n"
     ]
    }
   ],
   "source": [
    "println!(\" {:?} \",add_s(&String::from(\"가을이\")));"
   ]
  },
  {
   "cell_type": "markdown",
   "id": "193f2a3d",
   "metadata": {},
   "source": [
    "###  반환값을 문자열 참조로 반환하기 "
   ]
  },
  {
   "cell_type": "code",
   "execution_count": 16,
   "id": "1675d085",
   "metadata": {},
   "outputs": [],
   "source": [
    "fn add_ss<'a>(x: &'a String) -> &'a String {\n",
    "    let ss = x;\n",
    "    ss\n",
    "}"
   ]
  },
  {
   "cell_type": "code",
   "execution_count": 17,
   "id": "ca2f6588",
   "metadata": {},
   "outputs": [
    {
     "name": "stdout",
     "output_type": "stream",
     "text": [
      " \"가을이\" \n"
     ]
    }
   ],
   "source": [
    "println!(\" {:?} \",add_ss(&String::from(\"가을이\")));"
   ]
  },
  {
   "cell_type": "code",
   "execution_count": null,
   "id": "739f78fc",
   "metadata": {},
   "outputs": [],
   "source": []
  },
  {
   "cell_type": "markdown",
   "id": "f3f0e42e",
   "metadata": {},
   "source": [
    "## 수명 이해하기 \n",
    "\n",
    "- 수명은 소유가 발생한 후에 대여 처리도니다.\n",
    "- 소유가 사라지면 모든 대여도 사라진다.  그래서 소유보다 긴 대여는 없다. "
   ]
  },
  {
   "cell_type": "code",
   "execution_count": 43,
   "id": "d83ddd1f",
   "metadata": {},
   "outputs": [],
   "source": [
    "// 수명은 각 변수의 생성과 소멸을 나타내는 줄로 아래에 주석이 달려 있습니다.\n",
    "// 각 변수의 생성과 소멸을 나타내는 선으로 주석 처리되어 있습니다.\n",
    "// `borrow1`과 `borrow2`를 모두 포함하기 때문에 수명이 가장 깁니다. \n",
    "// `borrow1`과 `borrow2`의 블럭이 분할로 지속시간은 서로 분리되어 있으므로 무관합니다."
   ]
  },
  {
   "cell_type": "code",
   "execution_count": 42,
   "id": "9b77045e",
   "metadata": {},
   "outputs": [],
   "source": [
    "fn main() {\n",
    "    let i = 3;    // Lifetime for `i` starts. ────────────────┐ // 소유 발생 \n",
    "                  //                                                 │\n",
    "    {             //                                                 │\n",
    "        let borrow1 = &i; // `borrow1` lifetime starts.          ──┐│ // 빌림 \n",
    "                  //                                                ││\n",
    "        println!(\"borrow1: {}\", borrow1); //                        ││\n",
    "    }             // `borrow1` ──────────────────────────┘│\n",
    "                  //                                                  │\n",
    "                  //                                                  │\n",
    "    {             //                                                  │\n",
    "        let borrow2 = &i; // `borrow2` lifetime starts.─────────┐│ // 빌림 \n",
    "                  //                                                ││\n",
    "        println!(\"borrow2: {}\", borrow2); //                        ││\n",
    "    }             // `borrow2` ends. ──────────────────────┘│\n",
    "                  //                                                  │\n",
    "}                 // Lifetime ends. ───────────────────────┘  // 소유 종료 "
   ]
  },
  {
   "cell_type": "code",
   "execution_count": 22,
   "id": "07943b42",
   "metadata": {},
   "outputs": [
    {
     "name": "stdout",
     "output_type": "stream",
     "text": [
      "borrow1: 3\n",
      "borrow2: 3\n"
     ]
    },
    {
     "data": {
      "text/plain": [
       "()"
      ]
     },
     "execution_count": 22,
     "metadata": {},
     "output_type": "execute_result"
    }
   ],
   "source": [
    "main()"
   ]
  },
  {
   "cell_type": "code",
   "execution_count": null,
   "id": "c09a5b5b",
   "metadata": {},
   "outputs": [],
   "source": []
  },
  {
   "cell_type": "markdown",
   "id": "1090836d",
   "metadata": {},
   "source": [
    "## 명시적 수명 표시하기 : Explicit annotation\n",
    "\n",
    "- foo<'a>    // `foo` has a lifetime parameter `'a`\n",
    "\n",
    "- foo<'a, 'b>  // `foo` has lifetime parameters `'a` and `'b`"
   ]
  },
  {
   "cell_type": "code",
   "execution_count": 23,
   "id": "535f5d67",
   "metadata": {},
   "outputs": [],
   "source": [
    "// `print_refs`는 `i32`에 대한 두 개의 참조를 취합니다.\n",
    "// 수명이 `'a`와 `'b`인 두 개의 참조를 받습니다. 이 두 수명은 모두 적어도 `print_refs` 함수만큼 길어야 합니다.\n",
    "fn print_refs<'a, 'b>(x: &'a i32, y: &'b i32) {\n",
    "    println!(\"x is {} and y is {}\", x, y);\n",
    "}"
   ]
  },
  {
   "cell_type": "code",
   "execution_count": 25,
   "id": "412c7343",
   "metadata": {},
   "outputs": [],
   "source": [
    "fn main() {\n",
    "    print_refs(&100,&200);\n",
    "}"
   ]
  },
  {
   "cell_type": "code",
   "execution_count": 26,
   "id": "4d77bec3",
   "metadata": {},
   "outputs": [
    {
     "name": "stdout",
     "output_type": "stream",
     "text": [
      "x is 100 and y is 200\n"
     ]
    },
    {
     "data": {
      "text/plain": [
       "()"
      ]
     },
     "execution_count": 26,
     "metadata": {},
     "output_type": "execute_result"
    }
   ],
   "source": [
    "main()"
   ]
  },
  {
   "cell_type": "markdown",
   "id": "23781cb0",
   "metadata": {},
   "source": [
    "###  수명 어노테이션만 있고 내부에서 사용하면 예외가 발생한다. "
   ]
  },
  {
   "cell_type": "code",
   "execution_count": 46,
   "id": "9c59fd07",
   "metadata": {},
   "outputs": [
    {
     "ename": "Error",
     "evalue": "`_x` does not live long enough",
     "output_type": "error",
     "traceback": [
      "    let y: &'a i32 = & _x;",
      "\u001b[91m                     ^^^^\u001b[0m \u001b[94mborrowed value does not live long enough\u001b[0m",
      "}",
      "\u001b[91m^\u001b[0m \u001b[94m`_x` dropped here while still borrowed\u001b[0m",
      "fn failed_borrow<'a>() {",
      "\u001b[91m                 ^^\u001b[0m \u001b[94mlifetime `'a` defined here\u001b[0m",
      "    let y: &'a i32 = & _x;",
      "\u001b[91m           ^^^^^^^\u001b[0m \u001b[94mtype annotation requires that `_x` is borrowed for `'a`\u001b[0m",
      "`_x` does not live long enough"
     ]
    }
   ],
   "source": [
    "// A function which takes no arguments, but has a lifetime parameter `'a`.\n",
    "fn failed_borrow<'a>() {\n",
    "    let _x = 12;\n",
    "\n",
    "    // ERROR: `_x` does not live long enough\n",
    "    let y: &'a i32 = & _x;\n",
    "    // 명시적 타입 어노테이션으로 수명 `'a`를 사용하려고 시도 중입니다. \n",
    "    // 함수 내에서 `&_x`의 수명이 `y`보다 짧기 때문에 실패합니다.\n",
    "    // 수명이 짧기 때문에 실패합니다. 짧은 수명을 더 긴 수명으로 강제할 수는 없습니다.\n",
    "    \n",
    "    println!(\" {}\", y);\n",
    "    println!(\" {}\", _x);\n",
    "}"
   ]
  },
  {
   "cell_type": "markdown",
   "id": "97b79529",
   "metadata": {},
   "source": [
    "### 수명어노테이션을 지정하면 매개변수를 지정해서 활용하는 것이 좋다"
   ]
  },
  {
   "cell_type": "code",
   "execution_count": 36,
   "id": "08be4381",
   "metadata": {},
   "outputs": [],
   "source": [
    "fn failed_borrow_<'a>(x :&'a i32) {\n",
    "    \n",
    "    let y: &'a i32 = &x;\n",
    "    \n",
    "    println!(\"y {}\", y);\n",
    "    println!(\"x {}\", x);\n",
    "}"
   ]
  },
  {
   "cell_type": "code",
   "execution_count": 40,
   "id": "f37fa749",
   "metadata": {},
   "outputs": [],
   "source": [
    "fn main() {\n",
    "    \n",
    "    failed_borrow_(&100);\n",
    "    \n",
    "}"
   ]
  },
  {
   "cell_type": "code",
   "execution_count": 41,
   "id": "241b0874",
   "metadata": {},
   "outputs": [
    {
     "name": "stdout",
     "output_type": "stream",
     "text": [
      " 100\n",
      " 100\n"
     ]
    },
    {
     "data": {
      "text/plain": [
       "()"
      ]
     },
     "execution_count": 41,
     "metadata": {},
     "output_type": "execute_result"
    }
   ],
   "source": [
    "main()"
   ]
  },
  {
   "cell_type": "code",
   "execution_count": null,
   "id": "444bca93",
   "metadata": {},
   "outputs": [],
   "source": []
  }
 ],
 "metadata": {
  "kernelspec": {
   "display_name": "Rust",
   "language": "rust",
   "name": "rust"
  },
  "language_info": {
   "codemirror_mode": "rust",
   "file_extension": ".rs",
   "mimetype": "text/rust",
   "name": "Rust",
   "pygment_lexer": "rust",
   "version": ""
  }
 },
 "nbformat": 4,
 "nbformat_minor": 5
}
