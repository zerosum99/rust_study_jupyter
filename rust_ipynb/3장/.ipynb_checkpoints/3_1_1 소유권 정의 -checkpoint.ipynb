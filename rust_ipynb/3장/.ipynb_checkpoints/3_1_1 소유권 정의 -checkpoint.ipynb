{
 "cells": [
  {
   "cell_type": "markdown",
   "id": "2f7fbcb9",
   "metadata": {},
   "source": [
    "# 1. 소유자와 소유권 알아보기 \n",
    "\n",
    "- 소유자는 변수이고 소유권은 값에 있다. \n",
    "- 그래서 변수를 정의하면 소유자에게 소유권이 할당된다. \n",
    "- 변수를 정의할 때는 let과 let mut으로 지정한다. 이때 값이 할당되어 소유권을 가진다.  \n",
    "- 변수를 블럭단위로 정의하므로 변수의 유효범위는 해당 블럭이다. 이를 스코프라고 한다."
   ]
  },
  {
   "cell_type": "markdown",
   "id": "f90fbe91",
   "metadata": {},
   "source": [
    "### 소유자(Owner)는 해당 값을 가지고 있는 변수를 의미\n",
    "### 소유권(Ownership)은 변수가 해당 값의 소유를 가지고 있다는 것을 의미\n",
    "\n",
    "\n",
    "### 소유권 시스템은 다음과 같은 규칙을 가지고 있습니다.\n",
    "\n",
    "- 각 값은 해당 값의 소유자가 있습니다.\n",
    "- 한 번에 하나의 소유자만이 해당 값의 소유자가 될 수 있습니다.\n",
    "- 소유자는 값의 생명주기 동안 유효합니다.\n",
    "- 소유자가 범위를 벗어나면 해당 값은 소멸됩니다.\n",
    "- 값에 대한 참조(빌림)는 소유권을 이전하지 않습니다.\n",
    "\n",
    "즉, 소유자가 범위를 벗어나면 해당 값은 소멸되기 때문에, 값을 참조하는 빌림이 있을 경우 소유자가 값을 사용할 수 없게 됩니다.\n",
    "이를 통해 Rust는 메모리 안전성을 보장하고, 다른 언어에서 발생할 수 있는 다양한 버그를 방지합니다."
   ]
  },
  {
   "cell_type": "code",
   "execution_count": null,
   "id": "ee5d6dca",
   "metadata": {},
   "outputs": [],
   "source": []
  },
  {
   "cell_type": "markdown",
   "id": "c983998e",
   "metadata": {},
   "source": [
    "## 1-1  소유권 시스템은 다음과 같은 규칙을 가지고 있습니다.\n",
    "\n",
    "- 각 값은 해당 값의 소유자가 있습니다.\n",
    "- 한 번에 하나의 소유자만이 해당 값의 소유자가 될 수 있습니다.\n",
    "- 소유자는 값의 생명주기 동안 유효합니다.\n",
    "- 소유자가 범위를 벗어나면 해당 값은 소멸됩니다.\n",
    "- 값에 대한 참조(빌림)는 소유권을 이전하지 않습니다."
   ]
  },
  {
   "cell_type": "markdown",
   "id": "f65f9633",
   "metadata": {},
   "source": [
    "###  정수 소유권 확인 \n",
    "\n",
    "- 변수에 정수 값을 할당하면 소유자인 변수에 값이 할당되면서 소유권이 확정\n",
    "- 변수를 다른 변수에 할당하면 값이 이동되어서 소유권이 이동한다.\n",
    "- 단, 정수 등 Copy 트레이트가 구현된 경우는 소유권 이동이 아니라 새로운 정수 값이 복사된다.\n",
    "- 이런 이유는 스택에 보관된 값은 명확히 고정길이라서 이동보다 복사 즉 새로운 소유권을 만드는게 더 좋다."
   ]
  },
  {
   "cell_type": "markdown",
   "id": "86585fd7-188b-40a7-8920-cbfe55b47654",
   "metadata": {},
   "source": [
    "### 정수 소유권확인 및 복사 처리 "
   ]
  },
  {
   "cell_type": "code",
   "execution_count": 2,
   "id": "4484745a",
   "metadata": {},
   "outputs": [],
   "source": [
    "fn main() {\n",
    "    let x = 5; // x는 5의 소유자입니다.\n",
    "    let y = x; // x의 값을 y에 대입하여 y가 5의 소유자가 됩니다.\n",
    "    println!(\"x = {}, y = {}\", x, y); // x와 y 모두 5의 소유자입니다.\n",
    "\n",
    "    println!(\"x = {}, y = {}\", x, y); // x와 y 모두 5의 소유자입니다.\n",
    "}"
   ]
  },
  {
   "cell_type": "code",
   "execution_count": 3,
   "id": "47599e46",
   "metadata": {},
   "outputs": [
    {
     "name": "stdout",
     "output_type": "stream",
     "text": [
      "x = 5, y = 5\n",
      "x = 5, y = 5\n"
     ]
    }
   ],
   "source": [
    "main();"
   ]
  },
  {
   "cell_type": "markdown",
   "id": "9d8b5bc6-9261-4d1d-85c7-1a912a89e91c",
   "metadata": {},
   "source": [
    "## 1-2 소유권 이동 "
   ]
  },
  {
   "cell_type": "markdown",
   "id": "34665b6f-0911-4e60-843d-ad9147a35eb1",
   "metadata": {},
   "source": [
    "### String 문자열은 힙 메모리에 생겨서 항상 소유권이 이동\n",
    "- 힙에 만들어지는 자료형은 Copy 트레이트로 작성을 못한다.\n",
    "- 그래서 항상 변수를 다른 변수에 할당하면 소유권이 이동되어야 한다 "
   ]
  },
  {
   "cell_type": "code",
   "execution_count": 4,
   "id": "43228e1a",
   "metadata": {},
   "outputs": [],
   "source": [
    "fn main() {\n",
    "    let x = String::from(\"hello\"); // x는 String 값 \"hello\"의 소유자입니다.\n",
    "    let y = x; // x의 소유권이 y로 이전됩니다.\n",
    "    // println!(\"x = {}\", x); // 에러! x의 소유권은 이전되었기 때문에 사용할 수 없습니다.\n",
    "    println!(\"y = {}\", y); // y는 \"hello\"의 소유자입니다.\n",
    "}"
   ]
  },
  {
   "cell_type": "code",
   "execution_count": 5,
   "id": "c3e7e37c",
   "metadata": {},
   "outputs": [
    {
     "name": "stdout",
     "output_type": "stream",
     "text": [
      "y = hello\n"
     ]
    }
   ],
   "source": [
    "main();"
   ]
  },
  {
   "cell_type": "markdown",
   "id": "30112e27",
   "metadata": {},
   "source": [
    "### 소유권 유지 기간 또는 범위 \n",
    "- 소유자는 값의 생명주기 동안 유효합니다.\n",
    "- 소유자가 범위는 소유자가 정의된 영역 내에서만 사용가능 그 범위를 벗어나면 해당 소유자가 소멸되어 그 값도 같이 소멸."
   ]
  },
  {
   "cell_type": "code",
   "execution_count": 6,
   "id": "9b2265a6",
   "metadata": {},
   "outputs": [],
   "source": [
    "fn main() {\n",
    "    let s1 = String::from(\"hello\"); // s1이 String 타입의 값을 소유합니다.\n",
    "\n",
    "    let s2 = s1; // s1의 소유권이 s2로 이전되었습니다. s1은 더 이상 유효하지 않습니다.\n",
    "\n",
    "    println!(\"{}\", s2); // s2는 여전히 값을 소유하고 있으므로, \"hello\"가 출력됩니다.\n",
    "} // s2가 스코프를 벗어나면, 소유하던 값의 메모리가 해제됩니다."
   ]
  },
  {
   "cell_type": "code",
   "execution_count": 7,
   "id": "4a20155c",
   "metadata": {},
   "outputs": [
    {
     "name": "stdout",
     "output_type": "stream",
     "text": [
      "hello\n"
     ]
    }
   ],
   "source": [
    "main();"
   ]
  },
  {
   "cell_type": "markdown",
   "id": "998d5c5f",
   "metadata": {},
   "source": [
    "### 특정 블럭에서 소유권 이동한 경우 \n",
    "\n",
    "- 함수 내부에 소유권을 지정했지만 if 블럭 내에서 이 변수를 다른 변수에 할당하면 소유권이 이동\n",
    "- 그래서 외부에 정의된 변수는 더 이상 사용할 수 없다.\n",
    "- 이 변수를 사용할 경우 컴파일 오류를 발생시킨다. "
   ]
  },
  {
   "cell_type": "code",
   "execution_count": 8,
   "id": "058f9fb6",
   "metadata": {},
   "outputs": [
    {
     "ename": "Error",
     "evalue": "borrow of moved value: `x`",
     "output_type": "error",
     "traceback": [
      "        let y = x; // x의 소유권이 y로 이전됨",
      "\u001b[91m                ^\u001b[0m \u001b[94mvalue moved here\u001b[0m",
      "    println!(\"{}\", x); // 컴파일 오류 발생",
      "\u001b[91m                   ^\u001b[0m \u001b[94mvalue borrowed here after move\u001b[0m",
      "    let x = String::from(\"Hello\"); // x는 스코프에 들어감",
      "\u001b[91m        ^\u001b[0m \u001b[94mmove occurs because `x` has type `String`, which does not implement the `Copy` trait\u001b[0m",
      "borrow of moved value: `x`"
     ]
    }
   ],
   "source": [
    "fn main() {\n",
    "    let x = String::from(\"Hello\"); // x는 스코프에 들어감\n",
    "    if true {\n",
    "        let y = x; // x의 소유권이 y로 이전됨\n",
    "        println!(\"{}\", y); // \"Hello\" 출력\n",
    "    } // y가 범위를 벗어남\n",
    "    println!(\"{}\", x); // 컴파일 오류 발생\n",
    "}"
   ]
  },
  {
   "cell_type": "markdown",
   "id": "5a3215fc-f522-42e1-a803-0a98fc3b17c7",
   "metadata": {},
   "source": [
    "## 1-3 소유권 빌림 \n",
    "\n",
    "- 참조는 실제 소유권의 주소를 빌려서 활용하다.\n",
    "- 단순하게 접근해서 활용할 경우는 & 기호를 사용한다.\n",
    "- 접근해서 내부의 값을 변경이 가능하려면 &mut 기호를 사용한다. "
   ]
  },
  {
   "cell_type": "markdown",
   "id": "54b2ef31",
   "metadata": {},
   "source": [
    "###  단순한 소유권 빌림\n",
    "- 소유자에 대한 소유권을 가지지 않으므로 단순히 값에 대한 참조(빌림)만 발생한다."
   ]
  },
  {
   "cell_type": "code",
   "execution_count": 8,
   "id": "2f4ac84b",
   "metadata": {},
   "outputs": [],
   "source": [
    "fn main() {\n",
    "    let mut my_string = String::from(\"Hello, world!\");\n",
    "\n",
    "    let string_slice = &my_string[0..5];\n",
    "\n",
    "    println!(\"The first word of my_string is: {}\", string_slice);\n",
    "}"
   ]
  },
  {
   "cell_type": "code",
   "execution_count": 9,
   "id": "05393f08",
   "metadata": {},
   "outputs": [
    {
     "name": "stdout",
     "output_type": "stream",
     "text": [
      "The first word of my_string is: Hello\n"
     ]
    }
   ],
   "source": [
    "main();"
   ]
  },
  {
   "cell_type": "code",
   "execution_count": null,
   "id": "e6012afe",
   "metadata": {},
   "outputs": [],
   "source": []
  },
  {
   "cell_type": "markdown",
   "id": "ba9d159e",
   "metadata": {},
   "source": [
    "## 2.  소유권에 대한 이동 알아보기 \n",
    "\n",
    "- 값에 대한 소유자는 하나의 변수에만 있어야 한다.\n",
    "- 힙 메모리에 저장된 값을 가진 변수인 경우는 다른 변수와 매개변수에 할당하면 항상 소유권 이동이 발생한다.\n",
    "- 소유권 이동이 발생하지 않으려면 Copy나 Clone을 해야한다.\n",
    "- 스택에 있는 값들은 기본으로 Copy가 발생한다.  힙에 있는 값들은 Clone을 사용해야한다.\n",
    "- 복사와 복제는 변수에 항상 새로운 값을 할당해서 소유권을 다시 만든다.\n",
    "- "
   ]
  },
  {
   "cell_type": "markdown",
   "id": "0a4dc314",
   "metadata": {},
   "source": [
    "## 2-1 소유권 이동 이해하기"
   ]
  },
  {
   "cell_type": "markdown",
   "id": "d86e5731",
   "metadata": {},
   "source": [
    "### 값에 대한 소유권은 변수를 지정하면서 생성된다. \n",
    "\n",
    "- 소유권을 변수에 할당하는 것을 이동(move) 라고한다.\n",
    "- 실제 값은 heap 메모리에 생기고 그것을 변수에 할당해서 소유권을 확정하기 때문이다.\n"
   ]
  },
  {
   "cell_type": "code",
   "execution_count": 10,
   "id": "c05d2bba",
   "metadata": {},
   "outputs": [],
   "source": [
    "fn main() {\n",
    "    let s1: String = String::from(\"Hello!\");\n",
    "    println!(\" s1= {}\",s1 );\n",
    "}"
   ]
  },
  {
   "cell_type": "code",
   "execution_count": 11,
   "id": "55224f5a",
   "metadata": {},
   "outputs": [
    {
     "name": "stdout",
     "output_type": "stream",
     "text": [
      " s1= Hello!\n"
     ]
    }
   ],
   "source": [
    "main();"
   ]
  },
  {
   "cell_type": "markdown",
   "id": "016adc73",
   "metadata": {},
   "source": [
    "### 소유권에는 하나의 소유자만 있어야 한다.\n",
    "\n",
    "- 기존 변수에 할당해서 소유권을 확정했지만 \n",
    "-  또 다른 변수에 기존 변수의 값을 할당하면 소유권이 옮겨간다. \n",
    "- 이것도 이동(move)이다. 그래서 기존 변수는 수명이 종료된다. "
   ]
  },
  {
   "cell_type": "code",
   "execution_count": 12,
   "id": "2eb9a54d",
   "metadata": {},
   "outputs": [
    {
     "ename": "Error",
     "evalue": "borrow of moved value: `s1`",
     "output_type": "error",
     "traceback": [
      "\u001b[31m[E0382] Error:\u001b[0m borrow of moved value: `s1`",
      "   \u001b[38;5;246m╭\u001b[0m\u001b[38;5;246m─\u001b[0m\u001b[38;5;246m[\u001b[0mcommand_12:1:1\u001b[38;5;246m]\u001b[0m",
      "   \u001b[38;5;246m│\u001b[0m",
      " \u001b[38;5;246m2 │\u001b[0m \u001b[38;5;249m \u001b[0m\u001b[38;5;249m \u001b[0m\u001b[38;5;249m \u001b[0m\u001b[38;5;249m \u001b[0m\u001b[38;5;249ml\u001b[0m\u001b[38;5;249me\u001b[0m\u001b[38;5;249mt\u001b[0m\u001b[38;5;249m \u001b[0m\u001b[38;5;68ms\u001b[0m\u001b[38;5;68m1\u001b[0m\u001b[38;5;249m:\u001b[0m\u001b[38;5;249m \u001b[0m\u001b[38;5;249mS\u001b[0m\u001b[38;5;249mt\u001b[0m\u001b[38;5;249mr\u001b[0m\u001b[38;5;249mi\u001b[0m\u001b[38;5;249mn\u001b[0m\u001b[38;5;249mg\u001b[0m\u001b[38;5;249m \u001b[0m\u001b[38;5;249m=\u001b[0m\u001b[38;5;249m \u001b[0m\u001b[38;5;249mS\u001b[0m\u001b[38;5;249mt\u001b[0m\u001b[38;5;249mr\u001b[0m\u001b[38;5;249mi\u001b[0m\u001b[38;5;249mn\u001b[0m\u001b[38;5;249mg\u001b[0m\u001b[38;5;249m:\u001b[0m\u001b[38;5;249m:\u001b[0m\u001b[38;5;249mf\u001b[0m\u001b[38;5;249mr\u001b[0m\u001b[38;5;249mo\u001b[0m\u001b[38;5;249mm\u001b[0m\u001b[38;5;249m(\u001b[0m\u001b[38;5;249m\"\u001b[0m\u001b[38;5;249mH\u001b[0m\u001b[38;5;249me\u001b[0m\u001b[38;5;249ml\u001b[0m\u001b[38;5;249ml\u001b[0m\u001b[38;5;249mo\u001b[0m\u001b[38;5;249m!\u001b[0m\u001b[38;5;249m\"\u001b[0m\u001b[38;5;249m)\u001b[0m\u001b[38;5;249m;\u001b[0m",
      " \u001b[38;5;246m  ·\u001b[0m         \u001b[38;5;68m─\u001b[0m\u001b[38;5;68m┬\u001b[0m  ",
      " \u001b[38;5;246m  ·\u001b[0m          \u001b[38;5;68m╰\u001b[0m\u001b[38;5;68m─\u001b[0m\u001b[38;5;68m─\u001b[0m move occurs because `s1` has type `String`, which does not implement the `Copy` trait",
      " \u001b[38;5;246m3 │\u001b[0m \u001b[38;5;249m \u001b[0m\u001b[38;5;249m \u001b[0m\u001b[38;5;249m \u001b[0m\u001b[38;5;249m \u001b[0m\u001b[38;5;249ml\u001b[0m\u001b[38;5;249me\u001b[0m\u001b[38;5;249mt\u001b[0m\u001b[38;5;249m \u001b[0m\u001b[38;5;249ms\u001b[0m\u001b[38;5;249m2\u001b[0m\u001b[38;5;249m:\u001b[0m\u001b[38;5;249m \u001b[0m\u001b[38;5;249mS\u001b[0m\u001b[38;5;249mt\u001b[0m\u001b[38;5;249mr\u001b[0m\u001b[38;5;249mi\u001b[0m\u001b[38;5;249mn\u001b[0m\u001b[38;5;249mg\u001b[0m\u001b[38;5;249m \u001b[0m\u001b[38;5;249m=\u001b[0m\u001b[38;5;249m \u001b[0m\u001b[38;5;54ms\u001b[0m\u001b[38;5;54m1\u001b[0m\u001b[38;5;249m;\u001b[0m",
      " \u001b[38;5;246m  ·\u001b[0m                      \u001b[38;5;54m─\u001b[0m\u001b[38;5;54m┬\u001b[0m\u001b[38;5;37m│\u001b[0m ",
      " \u001b[38;5;246m  ·\u001b[0m                       \u001b[38;5;54m╰\u001b[0m\u001b[38;5;54m─\u001b[0m\u001b[38;5;54m─\u001b[0m value moved here",
      " \u001b[38;5;246m  ·\u001b[0m                        \u001b[38;5;37m│\u001b[0m ",
      " \u001b[38;5;246m  ·\u001b[0m                        \u001b[38;5;37m╰\u001b[0m\u001b[38;5;37m─\u001b[0m help: consider cloning the value if the performance cost is acceptable: `.clone()`",
      " \u001b[38;5;246m  ·\u001b[0m ",
      " \u001b[38;5;246m5 │\u001b[0m \u001b[38;5;249m \u001b[0m\u001b[38;5;249m \u001b[0m\u001b[38;5;249m \u001b[0m\u001b[38;5;249m \u001b[0m\u001b[38;5;249mp\u001b[0m\u001b[38;5;249mr\u001b[0m\u001b[38;5;249mi\u001b[0m\u001b[38;5;249mn\u001b[0m\u001b[38;5;249mt\u001b[0m\u001b[38;5;249ml\u001b[0m\u001b[38;5;249mn\u001b[0m\u001b[38;5;249m!\u001b[0m\u001b[38;5;249m(\u001b[0m\u001b[38;5;249m\"\u001b[0m\u001b[38;5;249ms\u001b[0m\u001b[38;5;249m1\u001b[0m\u001b[38;5;249m:\u001b[0m\u001b[38;5;249m \u001b[0m\u001b[38;5;100m{\u001b[0m\u001b[38;5;100ms\u001b[0m\u001b[38;5;100m1\u001b[0m\u001b[38;5;100m}\u001b[0m\u001b[38;5;249m\"\u001b[0m\u001b[38;5;249m)\u001b[0m\u001b[38;5;249m;\u001b[0m",
      " \u001b[38;5;246m  ·\u001b[0m                   \u001b[38;5;100m─\u001b[0m\u001b[38;5;100m─\u001b[0m\u001b[38;5;100m┬\u001b[0m\u001b[38;5;100m─\u001b[0m  ",
      " \u001b[38;5;246m  ·\u001b[0m                     \u001b[38;5;100m╰\u001b[0m\u001b[38;5;100m─\u001b[0m\u001b[38;5;100m─\u001b[0m\u001b[38;5;100m─\u001b[0m value borrowed here after move",
      "\u001b[38;5;246m───╯\u001b[0m"
     ]
    }
   ],
   "source": [
    "fn main() {\n",
    "    let s1: String = String::from(\"Hello!\");\n",
    "    let s2: String = s1;\n",
    "    println!(\"s2: {s2}\");\n",
    "    println!(\"s1: {s1}\");\n",
    "}"
   ]
  },
  {
   "cell_type": "markdown",
   "id": "05a42aed",
   "metadata": {},
   "source": [
    "### 소유권이 사라진 변수를 다시 사용할 수 없다."
   ]
  },
  {
   "cell_type": "code",
   "execution_count": 13,
   "id": "9d870c64",
   "metadata": {},
   "outputs": [],
   "source": [
    "fn main() {\n",
    "    let s1: String = String::from(\"Hello!\");\n",
    "    let s2: String = s1;\n",
    "    println!(\"s2: {s2}\");\n",
    "    //println!(\"s1: {s1}\");\n",
    "}"
   ]
  },
  {
   "cell_type": "code",
   "execution_count": 14,
   "id": "3cf6fc42",
   "metadata": {},
   "outputs": [
    {
     "name": "stdout",
     "output_type": "stream",
     "text": [
      "s2: Hello!\n"
     ]
    }
   ],
   "source": [
    "main();"
   ]
  },
  {
   "cell_type": "code",
   "execution_count": null,
   "id": "f810920b",
   "metadata": {},
   "outputs": [],
   "source": []
  },
  {
   "cell_type": "markdown",
   "id": "88193cf7",
   "metadata": {},
   "source": [
    "## 2-2 소유권을 새로 생성하기 \n",
    "\n",
    "- 복사나 복제로 새로운 소유권을 만든다.\n",
    "- 기존 변수에 함수의 반환값으로 다시 소유권을 이동해서 만들 수 있다."
   ]
  },
  {
   "cell_type": "markdown",
   "id": "537905ef",
   "metadata": {},
   "source": [
    "### 새로운 변수에 소유권을 지정하려면 복제가 필수이다. \n",
    "\n",
    "- 이때는 clone 메서드를 사용한다.  "
   ]
  },
  {
   "cell_type": "code",
   "execution_count": 15,
   "id": "7c8689c0",
   "metadata": {},
   "outputs": [],
   "source": [
    "fn main() {\n",
    "    let s1: String = String::from(\"Hello!\");\n",
    "    let s2: String = s1.clone();\n",
    "    println!(\"s2: {s2}\");\n",
    "    println!(\"s1: {s1}\");\n",
    "}"
   ]
  },
  {
   "cell_type": "code",
   "execution_count": 16,
   "id": "c78964af",
   "metadata": {},
   "outputs": [
    {
     "name": "stdout",
     "output_type": "stream",
     "text": [
      "s2: Hello!\n",
      "s1: Hello!\n"
     ]
    }
   ],
   "source": [
    "main();"
   ]
  },
  {
   "cell_type": "markdown",
   "id": "1048f4e7-1909-451a-9f0d-fa918492d70d",
   "metadata": {},
   "source": [
    "### 함수의 반환값으로 소유권 이동"
   ]
  },
  {
   "cell_type": "code",
   "execution_count": 17,
   "id": "7d8a4cea-ebff-423a-9f34-0cfc55037b16",
   "metadata": {},
   "outputs": [],
   "source": [
    "// 소유권을 가지는 데이터 구조체 정의\n",
    "struct MyData {\n",
    "    data: String,\n",
    "}\n",
    "\n",
    "// 소유권을 반환하는 함수\n",
    "fn create_my_data() -> MyData {\n",
    "    let data = String::from(\"Hello\");\n",
    "    MyData { data } // 소유권을 반환\n",
    "} \n",
    "// 소유권 단순이동 \n",
    "fn return_my_data(x: MyData) -> MyData {\n",
    "    x\n",
    "}\n"
   ]
  },
  {
   "cell_type": "code",
   "execution_count": 18,
   "id": "bbdf59e7-a69a-421e-98cd-b7478da0191e",
   "metadata": {},
   "outputs": [],
   "source": [
    "fn main() {\n",
    "    // 소유권을 반환받음\n",
    "    let my_data = create_my_data();\n",
    "\n",
    "    // 반환된 값에 대한 소유권을 가짐\n",
    "    println!(\"{}\", my_data.data);\n",
    "    \n",
    "    let my_data = return_my_data(my_data);\n",
    "    // 반환된 값에 대한 소유권을 가짐\n",
    "    println!(\"{}\", my_data.data);\n",
    "}\n"
   ]
  },
  {
   "cell_type": "code",
   "execution_count": 19,
   "id": "efca1100-f89e-4b24-bb56-53b848c28517",
   "metadata": {},
   "outputs": [
    {
     "name": "stdout",
     "output_type": "stream",
     "text": [
      "Hello\n",
      "Hello\n"
     ]
    }
   ],
   "source": [
    "main();"
   ]
  },
  {
   "cell_type": "code",
   "execution_count": null,
   "id": "38c87da2-7f24-4ae1-90a9-e3ba20f2770e",
   "metadata": {},
   "outputs": [],
   "source": []
  },
  {
   "cell_type": "markdown",
   "id": "562b9056",
   "metadata": {},
   "source": [
    "## 2-3 변수 가변성으로 소유권 이동\n",
    "\n",
    "- 러스트는 변수가 기본 불변이기때문에 shadowing 처리되기 전에는 재할당이 불가\n",
    "- 그래서 변수도 가변으로 지정해야 소유권이 변경된다."
   ]
  },
  {
   "cell_type": "markdown",
   "id": "c812e513",
   "metadata": {},
   "source": [
    "### 변수에 mut으로 가변변수를 지정하면 값에 대한 소유권이 변경\n",
    "\n",
    "-  가변 변수는 값을 변경할 수 있어서 새로운 값을 가지므로 소유권을 변경할 수 있다. "
   ]
  },
  {
   "cell_type": "code",
   "execution_count": 20,
   "id": "c71196ac",
   "metadata": {},
   "outputs": [],
   "source": [
    "fn main() {\n",
    "    let mut s1: String = String::from(\"Hello!\");\n",
    "    println!(\"s1: {s1}\");\n",
    "    s1 = String::from(\"World!\");\n",
    "    println!(\"s1: {s1}\");\n",
    "}"
   ]
  },
  {
   "cell_type": "code",
   "execution_count": 21,
   "id": "d41ce37c",
   "metadata": {},
   "outputs": [
    {
     "name": "stdout",
     "output_type": "stream",
     "text": [
      "s1: Hello!\n",
      "s1: World!\n"
     ]
    }
   ],
   "source": [
    "main();"
   ]
  },
  {
   "cell_type": "code",
   "execution_count": null,
   "id": "350add9f",
   "metadata": {},
   "outputs": [],
   "source": []
  },
  {
   "cell_type": "code",
   "execution_count": null,
   "id": "eadd8b29",
   "metadata": {},
   "outputs": [],
   "source": []
  },
  {
   "cell_type": "code",
   "execution_count": null,
   "id": "426a3515",
   "metadata": {},
   "outputs": [],
   "source": []
  }
 ],
 "metadata": {
  "kernelspec": {
   "display_name": "Rust",
   "language": "rust",
   "name": "rust"
  },
  "language_info": {
   "codemirror_mode": "rust",
   "file_extension": ".rs",
   "mimetype": "text/rust",
   "name": "Rust",
   "pygment_lexer": "rust",
   "version": ""
  }
 },
 "nbformat": 4,
 "nbformat_minor": 5
}
