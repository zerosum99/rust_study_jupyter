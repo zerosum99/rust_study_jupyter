{
 "cells": [
  {
   "cell_type": "markdown",
   "id": "b48b6cb8",
   "metadata": {},
   "source": [
    "# 참조자(References)와 빌림(Borrowing)\n"
   ]
  },
  {
   "cell_type": "markdown",
   "id": "0bf7e007",
   "metadata": {},
   "source": [
    "\n",
    "- 변수 s가 유효한 스코프는 여느 함수의 파라미터의 스코프와 동일하지만, \n",
    "- 소유권을 갖고 있지 않으므로 이 참조자가 스코프 밖으로 벗어났을 때 참조자가 가리키고 있는 값은 버리지 않습니다. \n",
    "- 또한 실제 값 대신 참조자를 파라미터로 갖고 있는 함수는 소유권을 갖고 있지 않기 때문에 \n",
    "- 소유권을 되돌려주기 위해 값을 다시 반환할 필요도 없다는 뜻이 됩니다."
   ]
  },
  {
   "cell_type": "code",
   "execution_count": 2,
   "id": "ad3b5af8",
   "metadata": {},
   "outputs": [],
   "source": [
    "fn main() {\n",
    "    let s1 = String::from(\"hello\");\n",
    "\n",
    "    let len = calculate_length(&s1);\n",
    "\n",
    "    println!(\"The length of '{}' is {}.\", s1, len);\n",
    "}\n",
    "\n",
    "fn calculate_length(s: &String) -> usize { // s는 String의 참조자입니다\n",
    "    s.len()\n",
    "} // 여기서 s는 스코프 밖으로 벗어났습니다. 하지만 가리키고 있는 값에 대한 소유권이 없기\n",
    "  // 때문에, 아무런 일도 발생하지 않습니다."
   ]
  },
  {
   "cell_type": "code",
   "execution_count": 3,
   "id": "cdd6dbae",
   "metadata": {},
   "outputs": [
    {
     "name": "stdout",
     "output_type": "stream",
     "text": [
      "The length of 'hello' is 5.\n"
     ]
    },
    {
     "data": {
      "text/plain": [
       "()"
      ]
     },
     "execution_count": 3,
     "metadata": {},
     "output_type": "execute_result"
    }
   ],
   "source": [
    "main()"
   ]
  },
  {
   "cell_type": "markdown",
   "id": "1dafb874",
   "metadata": {},
   "source": [
    "## 참조는 갱신이 불가하다"
   ]
  },
  {
   "cell_type": "code",
   "execution_count": 5,
   "id": "10e025ae",
   "metadata": {},
   "outputs": [
    {
     "ename": "Error",
     "evalue": "cannot borrow `*some_string` as mutable, as it is behind a `&` reference",
     "output_type": "error",
     "traceback": [
      "    some_string.push_str(\", world\");",
      "\u001b[91m    ^^^^^^^^^^^^^^^^^^^^^^^^^^^^^^^\u001b[0m \u001b[94m`some_string` is a `&` reference, so the data it refers to cannot be borrowed as mutable\u001b[0m",
      "cannot borrow `*some_string` as mutable, as it is behind a `&` reference",
      "\u001b[1mhelp\u001b[0m: consider changing this to be a mutable reference\n\n&mut String"
     ]
    }
   ],
   "source": [
    "fn main() {\n",
    "    let s = String::from(\"hello\");\n",
    "\n",
    "    change(&s);\n",
    "}\n",
    "\n",
    "fn change(some_string: &String) {\n",
    "    some_string.push_str(\", world\");\n",
    "}"
   ]
  },
  {
   "cell_type": "markdown",
   "id": "5dd36d54",
   "metadata": {},
   "source": [
    "## 갱신은 가변 참조를 사용한다\n",
    "\n",
    "- 가변 참조자는 딱 한가지 큰 제한이 있습니다: 특정한 스코프 내에 특정한 데이터 조각에 대한 가변 참조자를 딱 하나만 만들 수 있다는 겁니다"
   ]
  },
  {
   "cell_type": "code",
   "execution_count": 12,
   "id": "711f474f",
   "metadata": {},
   "outputs": [],
   "source": [
    "fn main() {\n",
    "    let mut s = String::from(\"hello\");\n",
    "\n",
    "    change(&mut s);\n",
    "    \n",
    "    println!(\"s = {}\", s)\n",
    "}\n",
    "\n",
    "fn change(some_string: &mut String) {\n",
    "    some_string.push_str(\", world\");\n",
    "}"
   ]
  },
  {
   "cell_type": "code",
   "execution_count": 13,
   "id": "29705728",
   "metadata": {},
   "outputs": [
    {
     "name": "stdout",
     "output_type": "stream",
     "text": [
      "s = hello, world\n"
     ]
    },
    {
     "data": {
      "text/plain": [
       "()"
      ]
     },
     "execution_count": 13,
     "metadata": {},
     "output_type": "execute_result"
    }
   ],
   "source": [
    "main()"
   ]
  },
  {
   "cell_type": "markdown",
   "id": "0b1f150e",
   "metadata": {},
   "source": [
    "## 스코프 별로 가변 참조는 하나만 사용이 가능하다"
   ]
  },
  {
   "cell_type": "code",
   "execution_count": 21,
   "id": "573cd7da",
   "metadata": {},
   "outputs": [
    {
     "data": {
      "text/plain": [
       "()"
      ]
     },
     "execution_count": 21,
     "metadata": {},
     "output_type": "execute_result"
    }
   ],
   "source": [
    "let mut s = String::from(\"hello\");\n",
    "\n",
    "{\n",
    "    let _r1 = &mut s;\n",
    "\n",
    "} // 여기서 r1은 스코프 밖으로 벗어났으므로, 우리는 아무 문제 없이 새로운 참조자를 만들 수 있습니다.\n",
    "\n",
    "{\n",
    "    let _r2 = &mut s;\n",
    "}"
   ]
  },
  {
   "cell_type": "code",
   "execution_count": null,
   "id": "73eb77b1",
   "metadata": {},
   "outputs": [],
   "source": []
  },
  {
   "cell_type": "code",
   "execution_count": 27,
   "id": "47eb7c52",
   "metadata": {},
   "outputs": [],
   "source": [
    "\n",
    "fn main() { \n",
    "    let mut s1 = String::from(\"hello\");\n",
    "\n",
    "    let r11 = &s1; // 문제 없음\n",
    "    let r22 = &s1; // 문제 없음\n",
    "    let r33 = &mut s1; \n",
    "}"
   ]
  },
  {
   "cell_type": "code",
   "execution_count": 28,
   "id": "c5ea4b0b",
   "metadata": {},
   "outputs": [
    {
     "data": {
      "text/plain": [
       "()"
      ]
     },
     "execution_count": 28,
     "metadata": {},
     "output_type": "execute_result"
    }
   ],
   "source": [
    "main()"
   ]
  },
  {
   "cell_type": "code",
   "execution_count": null,
   "id": "f4a8cf2d",
   "metadata": {},
   "outputs": [],
   "source": []
  },
  {
   "cell_type": "code",
   "execution_count": null,
   "id": "88629ad8",
   "metadata": {},
   "outputs": [],
   "source": []
  },
  {
   "cell_type": "code",
   "execution_count": 29,
   "id": "64ee016f",
   "metadata": {},
   "outputs": [
    {
     "ename": "Error",
     "evalue": "missing lifetime specifier",
     "output_type": "error",
     "traceback": [
      "fn dangle() -> &String { // dangle은 String의 참조자를 반환합니다",
      "\u001b[91m               ^\u001b[0m \u001b[94mexpected named lifetime parameter\u001b[0m",
      "missing lifetime specifier",
      "\u001b[1mhelp\u001b[0m: this function's return type contains a borrowed value, but there is no value for it to be borrowed from",
      "\u001b[1mhelp\u001b[0m: consider using the `'static` lifetime\n\n&'static"
     ]
    }
   ],
   "source": [
    "fn main() {\n",
    "    let reference_to_nothing = dangle();\n",
    "}\n",
    "\n",
    "fn dangle() -> &String { // dangle은 String의 참조자를 반환합니다\n",
    "\n",
    "    let s = String::from(\"hello\"); // s는 새로운 String입니다\n",
    "\n",
    "    &s // 우리는 String s의 참조자를 반환합니다.\n",
    "} // 여기서 s는 스코프를 벗어나고 버려집니다. 이것의 메모리는 사라집니다.\n",
    "  // 위험하군요!"
   ]
  },
  {
   "cell_type": "markdown",
   "id": "2fbaf019",
   "metadata": {},
   "source": [
    "## 위의 해법 "
   ]
  },
  {
   "cell_type": "code",
   "execution_count": 30,
   "id": "d60adb5f",
   "metadata": {},
   "outputs": [],
   "source": [
    "fn main() {\n",
    "    let reference_to_nothing = dangle();\n",
    "}\n",
    "\n",
    "fn dangle() -> String { // dangle은 String의 참조자를 반환합니다\n",
    "\n",
    "    let s = String::from(\"hello\"); // s는 새로운 String입니다\n",
    "\n",
    "    s // 우리는 String s의 참조자를 반환합니다.\n",
    "} // 여기서 s는 스코프를 벗어나고 버려집니다. 이것의 메모리는 사라집니다.\n",
    "  // 위험하군요!"
   ]
  },
  {
   "cell_type": "code",
   "execution_count": 31,
   "id": "80b6277e",
   "metadata": {},
   "outputs": [
    {
     "data": {
      "text/plain": [
       "()"
      ]
     },
     "execution_count": 31,
     "metadata": {},
     "output_type": "execute_result"
    }
   ],
   "source": [
    "main()"
   ]
  },
  {
   "cell_type": "code",
   "execution_count": null,
   "id": "0c4bebba",
   "metadata": {},
   "outputs": [],
   "source": []
  },
  {
   "cell_type": "code",
   "execution_count": null,
   "id": "33799bb2",
   "metadata": {},
   "outputs": [],
   "source": []
  },
  {
   "cell_type": "code",
   "execution_count": 7,
   "id": "5cedc7cb",
   "metadata": {},
   "outputs": [],
   "source": [
    "fn main() {\n",
    "    let x = &false;\n",
    "    print_type_name_of(x);\n",
    "\n",
    "    let &x = &false;\n",
    "    print_type_name_of(x);\n",
    "\n",
    "    let ref x = &false;\n",
    "    print_type_name_of(x);\n",
    "}\n",
    "\n",
    "fn print_type_name_of<T>(_: T) {\n",
    "    println!(\"{}\", std::any::type_name::<T>() );\n",
    "}"
   ]
  },
  {
   "cell_type": "code",
   "execution_count": 8,
   "id": "3d3f3ded",
   "metadata": {},
   "outputs": [
    {
     "name": "stdout",
     "output_type": "stream",
     "text": [
      "&bool\n",
      "bool\n",
      "&&bool\n"
     ]
    },
    {
     "data": {
      "text/plain": [
       "()"
      ]
     },
     "execution_count": 8,
     "metadata": {},
     "output_type": "execute_result"
    }
   ],
   "source": [
    "main()"
   ]
  },
  {
   "cell_type": "markdown",
   "id": "ad26c460",
   "metadata": {},
   "source": [
    "## 3. ref 와 & 는 같은 표현이다\n",
    "\n",
    "- 첫 번째는 ref 를 사용하고 두 번째는 & 를 사용했지만 결국 같은 의미다. "
   ]
  },
  {
   "cell_type": "code",
   "execution_count": 32,
   "id": "b5c1205a",
   "metadata": {},
   "outputs": [],
   "source": [
    "fn main() { \n",
    "    let ref x = 1;\n",
    "    let y = &1;\n",
    "    println!(\"{}\",x);\n",
    "    print_type_name_of(x);\n",
    "    \n",
    "    println!(\"{}\",y);\n",
    "    print_type_name_of(x);\n",
    "}"
   ]
  },
  {
   "cell_type": "code",
   "execution_count": 33,
   "id": "58cc1b4f",
   "metadata": {},
   "outputs": [
    {
     "name": "stdout",
     "output_type": "stream",
     "text": [
      "1\n",
      "&i32\n",
      "1\n",
      "&i32\n"
     ]
    },
    {
     "data": {
      "text/plain": [
       "()"
      ]
     },
     "execution_count": 33,
     "metadata": {},
     "output_type": "execute_result"
    }
   ],
   "source": [
    "main()"
   ]
  },
  {
   "cell_type": "markdown",
   "id": "d852b277",
   "metadata": {},
   "source": [
    "### reference 타입이 아닌 변수를 참조값"
   ]
  },
  {
   "cell_type": "code",
   "execution_count": 20,
   "id": "3f62b23d",
   "metadata": {},
   "outputs": [],
   "source": [
    "let x = 1;"
   ]
  },
  {
   "cell_type": "code",
   "execution_count": 25,
   "id": "d79214bc",
   "metadata": {},
   "outputs": [
    {
     "name": "stdout",
     "output_type": "stream",
     "text": [
      "i32\n"
     ]
    }
   ],
   "source": [
    "let &y1 : &i32 = &x;\n",
    "print_type_name_of(y1);"
   ]
  },
  {
   "cell_type": "code",
   "execution_count": 30,
   "id": "bd57df3e",
   "metadata": {},
   "outputs": [],
   "source": [
    "let y2 : i32 = *(&x);"
   ]
  },
  {
   "cell_type": "code",
   "execution_count": 31,
   "id": "dfee2002",
   "metadata": {},
   "outputs": [
    {
     "data": {
      "text/plain": [
       "1"
      ]
     },
     "execution_count": 31,
     "metadata": {},
     "output_type": "execute_result"
    }
   ],
   "source": [
    "y2"
   ]
  },
  {
   "cell_type": "markdown",
   "id": "1d4d34fc",
   "metadata": {},
   "source": [
    "### 패턴매치할 때 "
   ]
  },
  {
   "cell_type": "code",
   "execution_count": 52,
   "id": "7accd6de",
   "metadata": {},
   "outputs": [
    {
     "name": "stdout",
     "output_type": "stream",
     "text": [
      " 100 200\n"
     ]
    },
    {
     "data": {
      "text/plain": [
       "()"
      ]
     },
     "execution_count": 52,
     "metadata": {},
     "output_type": "execute_result"
    }
   ],
   "source": [
    "{ \n",
    "    #[derive(Clone, Copy)]\n",
    "    struct Point { x1: i32, y1: i32 }\n",
    "    \n",
    "    let point = Point { x1: 100, y1: 200 };\n",
    "\n",
    "    let Point { x1:ref x1, y1} = point;\n",
    "    \n",
    "    println!(\" {} {}\",x1, y1);\n",
    "}"
   ]
  },
  {
   "cell_type": "code",
   "execution_count": 53,
   "id": "1eaeffb4",
   "metadata": {},
   "outputs": [
    {
     "name": "stdout",
     "output_type": "stream",
     "text": [
      "Matched!\n"
     ]
    },
    {
     "data": {
      "text/plain": [
       "()"
      ]
     },
     "execution_count": 53,
     "metadata": {},
     "output_type": "execute_result"
    }
   ],
   "source": [
    "struct Foo(i32);\n",
    "// ...\n",
    "let foo = &Foo(42);\n",
    "match foo {\n",
    "    x => println!(\"Matched!\"),\n",
    "}"
   ]
  },
  {
   "cell_type": "code",
   "execution_count": 54,
   "id": "5a11a2f6",
   "metadata": {},
   "outputs": [
    {
     "name": "stdout",
     "output_type": "stream",
     "text": [
      "Matched with number 42\n"
     ]
    },
    {
     "data": {
      "text/plain": [
       "()"
      ]
     },
     "execution_count": 54,
     "metadata": {},
     "output_type": "execute_result"
    }
   ],
   "source": [
    "match foo {\n",
    "    &Foo(num) => println!(\"Matched with number {}\", num),\n",
    "}"
   ]
  },
  {
   "cell_type": "markdown",
   "id": "d65e635c",
   "metadata": {},
   "source": [
    "### ref 와  &는 동일한 처리 "
   ]
  },
  {
   "cell_type": "code",
   "execution_count": 60,
   "id": "7541060c",
   "metadata": {},
   "outputs": [
    {
     "name": "stdout",
     "output_type": "stream",
     "text": [
      " 300\n",
      " 999\n"
     ]
    },
    {
     "data": {
      "text/plain": [
       "()"
      ]
     },
     "execution_count": 60,
     "metadata": {},
     "output_type": "execute_result"
    }
   ],
   "source": [
    "{ \n",
    "    let mut x = 100; \n",
    "    let y = &mut x;\n",
    "    *y = 300;\n",
    "    println!(\" {}\", x);\n",
    "    \n",
    "    let ref mut y1 = x;\n",
    "    *y1 = 999;\n",
    "    println!(\" {}\", x);\n",
    "}"
   ]
  },
  {
   "cell_type": "code",
   "execution_count": 63,
   "id": "e4d18d4f",
   "metadata": {},
   "outputs": [],
   "source": [
    "fn change(x:&mut i32) {\n",
    "    *x = 999\n",
    "}\n"
   ]
  },
  {
   "cell_type": "code",
   "execution_count": 66,
   "id": "c8f96253",
   "metadata": {},
   "outputs": [
    {
     "name": "stdout",
     "output_type": "stream",
     "text": [
      " 999 \n"
     ]
    }
   ],
   "source": [
    "let mut xx = 100;\n",
    "change(&mut xx);\n",
    "println!(\" {} \", xx);"
   ]
  },
  {
   "cell_type": "code",
   "execution_count": null,
   "id": "05f88f3e",
   "metadata": {},
   "outputs": [],
   "source": []
  }
 ],
 "metadata": {
  "kernelspec": {
   "display_name": "Rust",
   "language": "rust",
   "name": "rust"
  },
  "language_info": {
   "codemirror_mode": "rust",
   "file_extension": ".rs",
   "mimetype": "text/rust",
   "name": "Rust",
   "pygment_lexer": "rust",
   "version": ""
  }
 },
 "nbformat": 4,
 "nbformat_minor": 5
}
