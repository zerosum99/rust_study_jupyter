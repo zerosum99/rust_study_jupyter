{
 "cells": [
  {
   "cell_type": "code",
   "execution_count": null,
   "id": "7a0f9841",
   "metadata": {},
   "outputs": [],
   "source": []
  },
  {
   "cell_type": "markdown",
   "id": "625b8942",
   "metadata": {},
   "source": [
    "## 데이터의 값이 존재 유무를 처리하는 Option 이넘 알아보기"
   ]
  },
  {
   "cell_type": "code",
   "execution_count": null,
   "id": "3ebc6ca4",
   "metadata": {},
   "outputs": [],
   "source": []
  },
  {
   "cell_type": "markdown",
   "id": "575e5356",
   "metadata": {},
   "source": [
    "## 1. Option 이넘 알아보기"
   ]
  },
  {
   "cell_type": "code",
   "execution_count": 5,
   "id": "3ff34a82",
   "metadata": {},
   "outputs": [],
   "source": [
    "let a : Option<i32> = Some(100);"
   ]
  },
  {
   "cell_type": "code",
   "execution_count": 7,
   "id": "53a75ac2",
   "metadata": {},
   "outputs": [
    {
     "name": "stdout",
     "output_type": "stream",
     "text": [
      " Some(100) \n"
     ]
    }
   ],
   "source": [
    "println!(\" {:?} \", a);"
   ]
  },
  {
   "cell_type": "markdown",
   "id": "6e65b2d2",
   "metadata": {},
   "source": [
    "### Some 내의 데이터를 가져올 때는 unwrap 메서드로 처리한다"
   ]
  },
  {
   "cell_type": "code",
   "execution_count": 9,
   "id": "a7d08f43",
   "metadata": {},
   "outputs": [
    {
     "name": "stdout",
     "output_type": "stream",
     "text": [
      " 100 \n"
     ]
    }
   ],
   "source": [
    "println!(\" {:?} \", a.unwrap());"
   ]
  },
  {
   "cell_type": "markdown",
   "id": "f40d06df",
   "metadata": {},
   "source": [
    "### 아무것도 없는 값을 처리할 때\n",
    "\n",
    "- 실제 필요한 데이터 자료형을 지정해야 함"
   ]
  },
  {
   "cell_type": "code",
   "execution_count": 6,
   "id": "75bc599b",
   "metadata": {},
   "outputs": [],
   "source": [
    "let b : Option<i32> = None;"
   ]
  },
  {
   "cell_type": "code",
   "execution_count": 8,
   "id": "ebb27b1b",
   "metadata": {},
   "outputs": [
    {
     "name": "stdout",
     "output_type": "stream",
     "text": [
      " None \n"
     ]
    }
   ],
   "source": [
    "println!(\" {:?} \", b);"
   ]
  },
  {
   "cell_type": "markdown",
   "id": "b0749453",
   "metadata": {},
   "source": [
    "## 2. 함수의 반환값으로 option 처리\n",
    "\n",
    "- Option<i32>은 i32 값을 갖거나 None 값을 가질 수 있습니다."
   ]
  },
  {
   "cell_type": "markdown",
   "id": "9d2f345e",
   "metadata": {},
   "source": [
    "### 직접 값으로 반환하기 \n",
    "\n",
    "- 세부적인 값을 처리할 때는  match를 사용해서 결과를 처리"
   ]
  },
  {
   "cell_type": "code",
   "execution_count": 16,
   "id": "7b507023",
   "metadata": {},
   "outputs": [],
   "source": [
    "fn get_value() -> Option<i32> {\n",
    "    // 값이 있는 경우\n",
    "    Some(42)\n",
    "\n",
    "}"
   ]
  },
  {
   "cell_type": "code",
   "execution_count": 17,
   "id": "ccdc44b9",
   "metadata": {},
   "outputs": [],
   "source": [
    "fn get_value_1() -> Option<i32> {\n",
    " \n",
    "    None\n",
    "}"
   ]
  },
  {
   "cell_type": "code",
   "execution_count": 18,
   "id": "43845359",
   "metadata": {},
   "outputs": [],
   "source": [
    "fn main() {\n",
    "    // 값이 있는 경우\n",
    "    let x = get_value().unwrap();\n",
    "    println!(\"Value: {}\", x);\n",
    "    \n",
    "    // 값이 없는 경우\n",
    "    let y = get_value_1();\n",
    "    match y {\n",
    "        Some(value) => println!(\"Value: {}\", value),\n",
    "        None => println!(\"No value\"),\n",
    "    }\n",
    "}"
   ]
  },
  {
   "cell_type": "code",
   "execution_count": 19,
   "id": "55bcf155",
   "metadata": {},
   "outputs": [
    {
     "name": "stdout",
     "output_type": "stream",
     "text": [
      "Value: 42\n",
      "No value\n"
     ]
    }
   ],
   "source": [
    "main();"
   ]
  },
  {
   "cell_type": "markdown",
   "id": "05fd6323",
   "metadata": {},
   "source": [
    "### 특정 기능을 처리한 후에 반환하기 "
   ]
  },
  {
   "cell_type": "code",
   "execution_count": 2,
   "id": "e99b523c",
   "metadata": {},
   "outputs": [],
   "source": [
    "fn divide(dividend: i32, divisor: i32) -> Option<i32> {\n",
    "    if divisor == 0 {\n",
    "        None\n",
    "    } else {\n",
    "        Some(dividend / divisor)\n",
    "    }\n",
    "}"
   ]
  },
  {
   "cell_type": "code",
   "execution_count": 3,
   "id": "1798c753",
   "metadata": {},
   "outputs": [],
   "source": [
    "fn main() {\n",
    "    let result = divide(10, 2);\n",
    "    match result {\n",
    "        Some(x) => println!(\"Result: {}\", x),\n",
    "        None => println!(\"Cannot divide by zero\"),\n",
    "    }\n",
    "}"
   ]
  },
  {
   "cell_type": "code",
   "execution_count": 4,
   "id": "eda99de5",
   "metadata": {},
   "outputs": [
    {
     "name": "stdout",
     "output_type": "stream",
     "text": [
      "Result: 5\n"
     ]
    }
   ],
   "source": [
    "main();"
   ]
  },
  {
   "cell_type": "code",
   "execution_count": null,
   "id": "5348b207",
   "metadata": {},
   "outputs": [],
   "source": []
  }
 ],
 "metadata": {
  "kernelspec": {
   "display_name": "Rust",
   "language": "rust",
   "name": "rust"
  },
  "language_info": {
   "codemirror_mode": "rust",
   "file_extension": ".rs",
   "mimetype": "text/rust",
   "name": "Rust",
   "pygment_lexer": "rust",
   "version": ""
  }
 },
 "nbformat": 4,
 "nbformat_minor": 5
}
