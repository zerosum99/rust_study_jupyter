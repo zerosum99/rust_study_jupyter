{
 "cells": [
  {
   "cell_type": "code",
   "execution_count": null,
   "id": "358ac7dc",
   "metadata": {},
   "outputs": [],
   "source": []
  },
  {
   "cell_type": "markdown",
   "id": "b33d46c1",
   "metadata": {},
   "source": [
    "## 정적 타이핑\n",
    "\n",
    "정적 타이핑은 컴파일 시점에 모든 변수와 표현식의 유형을 알 수 있는 유형 시스템입니다. \n",
    "즉, 컴파일러가 모든 연산이 유효한지, 런타임에 유형 오류가 발생하지 않는지 확인할 수 있습니다. \n",
    "정적 타이핑은 버그를 방지하고 코드를 더욱 안정적으로 만드는 데 도움이 될 수 있습니다.\n",
    "\n",
    "\n",
    "### 정적 타이핑의 장점\n",
    "\n",
    "- 정적 타이핑은 버그를 방지하고 코드를 더 안정적으로 만드는 데 도움이 될 수 있습니다.\n",
    "- 정적 타이핑은 코드를 더 간결하고 읽기 쉽게 만들 수 있습니다.\n",
    "- 정적 타이핑은 성능 향상에 도움이 될 수 있습니다.\n",
    "\n",
    "### 정적 타이핑의 단점\n",
    "\n",
    "- 정적 타이핑은 코드를 작성하기 더 어렵게 만들 수 있습니다.\n",
    "- 정적 타이핑은 코드의 유연성을 떨어뜨릴 수 있습니다.\n",
    "- 정적 타이핑은 코드의 이식성을 떨어뜨릴 수 있습니다.\n"
   ]
  },
  {
   "cell_type": "markdown",
   "id": "86c4de55",
   "metadata": {},
   "source": [
    "## 동적 타이핑\n",
    "\n",
    "동적 타이핑은 컴파일 시점에 변수와 표현식의 유형을 알 수 없는 유형 시스템입니다. \n",
    "즉, 컴파일러가 모든 연산이 유효한지 확인할 수 없으며 런타임에 유형 오류가 발생할 수 있습니다. \n",
    "동적 타입을 사용하면 코드를 더 유연하고 쉽게 작성할 수 있지만 버그를 찾아 수정하기가 더 어려워질 수 있습니다.\n",
    "\n",
    "\n",
    "### 동적 타이핑의 장점\n",
    "\n",
    "- 동적 타이핑을 사용하면 코드를 더 유연하고 쉽게 작성할 수 있습니다.\n",
    "- 동적 타이핑은 코드의 이식성을 높일 수 있습니다.\n",
    "- 동적 타이핑은 코드의 표현력을 높일 수 있습니다.\n",
    "\n",
    "### 동적 타이핑의 단점\n",
    "\n",
    "- 동적 타이핑은 코드의 안정성을 떨어뜨릴 수 있습니다.\n",
    "- 동적 타이핑은 코드를 더 읽기 어렵게 만들 수 있습니다.\n",
    "- 동적 타이핑은 코드를 느리게 만들 수 있습니다."
   ]
  },
  {
   "cell_type": "markdown",
   "id": "16ae369b",
   "metadata": {},
   "source": [
    "## 함수 자료형 지정하기\n",
    "\n",
    "- 함수나 클로저 등도 하나의 인스턴스이므로 다른 변수에 할당이 가능\n",
    "- 함수나 클로저를 함수의 매개변수에 할당이 가능\n",
    "- 함수나 클로저를 함수의 반환값으로 사용 가능 "
   ]
  },
  {
   "cell_type": "code",
   "execution_count": 9,
   "id": "c76b6968",
   "metadata": {},
   "outputs": [],
   "source": [
    "use std::any::type_name;\n",
    "\n",
    "fn type_of<T>(_: T) -> &'static str {\n",
    "    type_name::<T>()\n",
    "}"
   ]
  },
  {
   "cell_type": "markdown",
   "id": "e00a0e8b",
   "metadata": {},
   "source": [
    "## 1. Function pointer types\n",
    "\n",
    "- fn 키워드를 사용하여 작성된 함수 포인터 유형은 컴파일 시점에 반드시 정체를 알 수 없는 함수를 나타냅니다. \n",
    "- 함수와 캡처되지 않는 클로저 모두에서 강제로 생성할 수 있습니다.\n",
    "\n",
    "- 안전하지 않은 한정자는 해당 타입의 값이 안전하지 않은 함수임을 나타내고, 외부 한정자는 외부 함수임을 나타냅니다"
   ]
  },
  {
   "cell_type": "markdown",
   "id": "44d93921",
   "metadata": {},
   "source": [
    "### 함수를 정의하고 실행한 결과를 변수에 저장\n",
    "\n",
    "- 함수의 반환값에 대한  소유권이 변수에 이동 "
   ]
  },
  {
   "cell_type": "code",
   "execution_count": 4,
   "id": "1d8e013f",
   "metadata": {},
   "outputs": [
    {
     "name": "stdout",
     "output_type": "stream",
     "text": [
      " 12\n"
     ]
    }
   ],
   "source": [
    "fn add(x: i32, y: i32) -> i32 {\n",
    "    x + y\n",
    "}\n",
    "\n",
    "let mut x = add(5,7);\n",
    "println!(\" {}\",x);"
   ]
  },
  {
   "cell_type": "markdown",
   "id": "11b97c82",
   "metadata": {},
   "source": [
    "### 함수 포인터로 함수 타입을 지정\n",
    "\n",
    "- type 예약어를 통해 자료형의 별칭을 지정"
   ]
  },
  {
   "cell_type": "code",
   "execution_count": 5,
   "id": "22793d22",
   "metadata": {},
   "outputs": [],
   "source": [
    "type Binop = fn(i32, i32) -> i32;"
   ]
  },
  {
   "cell_type": "markdown",
   "id": "afa3083e",
   "metadata": {},
   "source": [
    "### 위에서 정의한 함수를 변수에 할당 "
   ]
  },
  {
   "cell_type": "code",
   "execution_count": 10,
   "id": "09ba3c5c",
   "metadata": {},
   "outputs": [
    {
     "name": "stdout",
     "output_type": "stream",
     "text": [
      " 12\n",
      " type = fn(i32, i32) -> i32\n"
     ]
    }
   ],
   "source": [
    "let bo: Binop = add;\n",
    "x = bo(5,7);\n",
    "println!(\" {}\",x);\n",
    "println!(\" type = {}\",type_of(bo));"
   ]
  },
  {
   "cell_type": "markdown",
   "id": "190852a2",
   "metadata": {},
   "source": [
    "### 함수를 다른 변수에 할당해도 이동되지 않는다. "
   ]
  },
  {
   "cell_type": "code",
   "execution_count": 11,
   "id": "4f5388e0",
   "metadata": {},
   "outputs": [
    {
     "name": "stdout",
     "output_type": "stream",
     "text": [
      " type = fn(i32, i32) -> i32\n"
     ]
    }
   ],
   "source": [
    "let bo_mv: Binop = bo;\n",
    "\n",
    "println!(\" type = {}\",type_of(bo_mv));"
   ]
  },
  {
   "cell_type": "code",
   "execution_count": 12,
   "id": "1eb557bb",
   "metadata": {},
   "outputs": [
    {
     "data": {
      "text/plain": [
       "30"
      ]
     },
     "execution_count": 12,
     "metadata": {},
     "output_type": "execute_result"
    }
   ],
   "source": [
    "bo(10,20)"
   ]
  },
  {
   "cell_type": "code",
   "execution_count": 13,
   "id": "1f0bc8d7",
   "metadata": {},
   "outputs": [
    {
     "data": {
      "text/plain": [
       "30"
      ]
     },
     "execution_count": 13,
     "metadata": {},
     "output_type": "execute_result"
    }
   ],
   "source": [
    "bo_mv(10,20)"
   ]
  },
  {
   "cell_type": "markdown",
   "id": "3fc6e897",
   "metadata": {},
   "source": [
    "## 2. Function item types\n",
    "\n",
    "- 함수를 정의하면 가지는 타입"
   ]
  },
  {
   "cell_type": "code",
   "execution_count": null,
   "id": "808b1473",
   "metadata": {},
   "outputs": [],
   "source": []
  },
  {
   "cell_type": "code",
   "execution_count": 43,
   "id": "82bc76a1",
   "metadata": {},
   "outputs": [],
   "source": [
    "fn add(x:u32, y:u32) -> u32 {\n",
    "    x+y\n",
    "}\n",
    "fn foo<T>() { }"
   ]
  },
  {
   "cell_type": "code",
   "execution_count": 44,
   "id": "f6521a6e",
   "metadata": {},
   "outputs": [],
   "source": [
    "#![allow(unused)]\n",
    "fn main() {\n",
    "    let x = &mut foo::<i32>;\n",
    "    // *x = foo::<u32>; //~ ERROR mismatched types\n",
    "    println!(\"{:p}\",x);\n",
    "    println!(\"{}\", type_of(x));\n",
    "    \n",
    "    let foo_ptr_1 = add;\n",
    "    println!(\"{}\", type_of(foo_ptr_1));\n",
    "    println!(\"{}\", foo_ptr_1(100,200));\n",
    "    \n",
    "    let foo_ptr_2 : fn(u32,u32)->u32 = add;\n",
    "    println!(\"{}\", type_of(foo_ptr_2));\n",
    "    println!(\"{}\", foo_ptr_2(100,200));\n",
    "}"
   ]
  },
  {
   "cell_type": "code",
   "execution_count": 45,
   "id": "40d20feb",
   "metadata": {},
   "outputs": [
    {
     "name": "stdout",
     "output_type": "stream",
     "text": [
      "0x16d40ea38\n",
      "&mut ctx::foo<i32>\n",
      "ctx::add\n",
      "300\n",
      "fn(u32, u32) -> u32\n",
      "300\n"
     ]
    },
    {
     "data": {
      "text/plain": [
       "()"
      ]
     },
     "execution_count": 45,
     "metadata": {},
     "output_type": "execute_result"
    }
   ],
   "source": [
    "main()"
   ]
  },
  {
   "cell_type": "markdown",
   "id": "c5ad8a44",
   "metadata": {},
   "source": [
    "## 3. 객체 내부 타입 알아보기"
   ]
  },
  {
   "cell_type": "code",
   "execution_count": 4,
   "id": "e7636c73",
   "metadata": {},
   "outputs": [],
   "source": [
    "use std::any::type_name;\n",
    "\n",
    "fn type_of<T>(_: T) -> &'static str {\n",
    "    type_name::<T>()\n",
    "}\n",
    "fn main() {\n",
    "    let x = 21;\n",
    "    let y = 2.5;\n",
    "    println!(\"{}\", type_of(y));\n",
    "    println!(\"{}\", type_of(x));\n",
    "}"
   ]
  },
  {
   "cell_type": "code",
   "execution_count": 5,
   "id": "8a00d141",
   "metadata": {},
   "outputs": [
    {
     "name": "stdout",
     "output_type": "stream",
     "text": [
      "f64\n",
      "i32\n"
     ]
    },
    {
     "data": {
      "text/plain": [
       "()"
      ]
     },
     "execution_count": 5,
     "metadata": {},
     "output_type": "execute_result"
    }
   ],
   "source": [
    "main()"
   ]
  },
  {
   "cell_type": "code",
   "execution_count": null,
   "id": "1482babe",
   "metadata": {},
   "outputs": [],
   "source": []
  },
  {
   "cell_type": "code",
   "execution_count": 6,
   "id": "8aa1f830",
   "metadata": {},
   "outputs": [],
   "source": [
    "fn print_type_of<T>(_: &T) {\n",
    "    println!(\"{}\", std::any::type_name::<T>())\n",
    "}\n",
    "\n",
    "fn main() {\n",
    "    let s = \"Hello\";\n",
    "    let i = 42;\n",
    "\n",
    "    print_type_of(&s); // &str\n",
    "    print_type_of(&i); // i32\n",
    "    print_type_of(&main); // playground::main\n",
    "    print_type_of(&print_type_of::<i32>); // playground::print_type_of<i32>\n",
    "    print_type_of(&{ || \"Hi!\" }); // playground::main::{{closure}}\n",
    "}"
   ]
  },
  {
   "cell_type": "code",
   "execution_count": 7,
   "id": "611327a6",
   "metadata": {},
   "outputs": [
    {
     "name": "stdout",
     "output_type": "stream",
     "text": [
      "&str\n",
      "i32\n",
      "ctx::main\n",
      "ctx::print_type_of<i32>\n",
      "ctx::main::{{closure}}\n"
     ]
    },
    {
     "data": {
      "text/plain": [
       "()"
      ]
     },
     "execution_count": 7,
     "metadata": {},
     "output_type": "execute_result"
    }
   ],
   "source": [
    "main()"
   ]
  },
  {
   "cell_type": "code",
   "execution_count": 11,
   "id": "4b0a02ad",
   "metadata": {},
   "outputs": [
    {
     "name": "stdout",
     "output_type": "stream",
     "text": [
      "true false\n"
     ]
    }
   ],
   "source": [
    "println!(\"{} {}\", true || true && ! true, (true || true) && ! true);"
   ]
  },
  {
   "cell_type": "code",
   "execution_count": null,
   "id": "410a96f0",
   "metadata": {},
   "outputs": [],
   "source": []
  },
  {
   "cell_type": "code",
   "execution_count": null,
   "id": "3f1dba15",
   "metadata": {},
   "outputs": [],
   "source": []
  },
  {
   "cell_type": "code",
   "execution_count": null,
   "id": "2b01ae01",
   "metadata": {},
   "outputs": [],
   "source": []
  }
 ],
 "metadata": {
  "kernelspec": {
   "display_name": "Rust",
   "language": "rust",
   "name": "rust"
  },
  "language_info": {
   "codemirror_mode": "rust",
   "file_extension": ".rs",
   "mimetype": "text/rust",
   "name": "Rust",
   "pygment_lexer": "rust",
   "version": ""
  }
 },
 "nbformat": 4,
 "nbformat_minor": 5
}
