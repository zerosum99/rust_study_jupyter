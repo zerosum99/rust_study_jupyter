{
 "cells": [
  {
   "cell_type": "code",
   "execution_count": null,
   "id": "2fac9eb2",
   "metadata": {},
   "outputs": [],
   "source": []
  },
  {
   "cell_type": "markdown",
   "id": "435973fd",
   "metadata": {},
   "source": [
    "## 함수 포인터\n",
    "\n",
    "- 함수 포인터(function pointer)는 함수를 가리키는 포인터입니다. \n",
    "- 함수 포인터는 일반적인 포인터와 마찬가지로, 메모리 주소를 저장하고 해당 주소에 있는 함수를 호출할 수 있습니다. \n",
    "- 함수 포인터를 이용하면, 함수를 인수로 받는 함수를 구현하거나, 함수를 반환하는 함수를 구현할 수 있습니다."
   ]
  },
  {
   "cell_type": "markdown",
   "id": "0934f985",
   "metadata": {},
   "source": [
    "### 함수를 변수에 할당하기"
   ]
  },
  {
   "cell_type": "code",
   "execution_count": 2,
   "id": "70313589",
   "metadata": {},
   "outputs": [],
   "source": [
    "fn add(a: i32, b: i32) -> i32 {\n",
    "    a + b\n",
    "}\n",
    "\n",
    "fn main() {\n",
    "    let func_ptr: fn(i32, i32) -> i32 = add;\n",
    "\n",
    "    let result = func_ptr(1, 2);\n",
    "    println!(\"{}\", result);\n",
    "}"
   ]
  },
  {
   "cell_type": "code",
   "execution_count": 3,
   "id": "4255ed47",
   "metadata": {},
   "outputs": [
    {
     "name": "stdout",
     "output_type": "stream",
     "text": [
      "3\n"
     ]
    }
   ],
   "source": [
    "main();"
   ]
  },
  {
   "cell_type": "markdown",
   "id": "5094efd0",
   "metadata": {},
   "source": [
    "### 함수를 함수의 매개변수로 지정하기 "
   ]
  },
  {
   "cell_type": "code",
   "execution_count": 4,
   "id": "8fa76123",
   "metadata": {},
   "outputs": [],
   "source": [
    "fn apply_func(func: fn(i32, i32) -> i32, a: i32, b: i32) -> i32 {\n",
    "    func(a, b)\n",
    "}\n",
    "\n",
    "fn add(a: i32, b: i32) -> i32 {\n",
    "    a + b\n",
    "}\n",
    "\n",
    "fn main() {\n",
    "    let result = apply_func(add, 1, 2);\n",
    "    println!(\"{}\", result);\n",
    "}"
   ]
  },
  {
   "cell_type": "code",
   "execution_count": 5,
   "id": "a9cccfdf",
   "metadata": {},
   "outputs": [
    {
     "name": "stdout",
     "output_type": "stream",
     "text": [
      "3\n"
     ]
    }
   ],
   "source": [
    "main();"
   ]
  },
  {
   "cell_type": "markdown",
   "id": "c150a8c4",
   "metadata": {},
   "source": [
    "## 함수 반환값으로 사용하기 "
   ]
  },
  {
   "cell_type": "code",
   "execution_count": 6,
   "id": "65e8368c",
   "metadata": {},
   "outputs": [],
   "source": [
    "fn add(a: i32, b: i32) -> i32 {\n",
    "    a + b\n",
    "}\n",
    "\n",
    "fn sub(a: i32, b: i32) -> i32 {\n",
    "    a - b\n",
    "}\n",
    "\n",
    "fn choose_func(op: &str) -> fn(i32, i32) -> i32 {\n",
    "    match op {\n",
    "        \"+\" => add,\n",
    "        \"-\" => sub,\n",
    "        _ => panic!(\"Invalid operation\"),\n",
    "    }\n",
    "}\n",
    "\n",
    "fn main() {\n",
    "    let op = \"+\";\n",
    "    let func = choose_func(op);\n",
    "    let result = func(1, 2);\n",
    "    println!(\"{}\", result);\n",
    "}"
   ]
  },
  {
   "cell_type": "code",
   "execution_count": 7,
   "id": "f4cfee07",
   "metadata": {},
   "outputs": [
    {
     "name": "stdout",
     "output_type": "stream",
     "text": [
      "3\n"
     ]
    }
   ],
   "source": [
    "main();"
   ]
  },
  {
   "cell_type": "code",
   "execution_count": null,
   "id": "c4536098",
   "metadata": {},
   "outputs": [],
   "source": []
  }
 ],
 "metadata": {
  "kernelspec": {
   "display_name": "Rust",
   "language": "rust",
   "name": "rust"
  },
  "language_info": {
   "codemirror_mode": "rust",
   "file_extension": ".rs",
   "mimetype": "text/rust",
   "name": "Rust",
   "pygment_lexer": "rust",
   "version": ""
  }
 },
 "nbformat": 4,
 "nbformat_minor": 5
}
