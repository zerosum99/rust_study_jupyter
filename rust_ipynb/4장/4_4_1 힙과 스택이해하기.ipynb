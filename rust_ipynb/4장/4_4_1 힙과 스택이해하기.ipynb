{
 "cells": [
  {
   "cell_type": "code",
   "execution_count": null,
   "id": "3708e69e",
   "metadata": {},
   "outputs": [],
   "source": []
  },
  {
   "cell_type": "markdown",
   "id": "4e6269b2",
   "metadata": {},
   "source": [
    "## 힙과 스택 메모리 처리 "
   ]
  },
  {
   "cell_type": "code",
   "execution_count": 2,
   "id": "850918ff",
   "metadata": {},
   "outputs": [],
   "source": [
    "let t = (12, \"eggs\");\n",
    "let b = Box::new(t);"
   ]
  },
  {
   "cell_type": "code",
   "execution_count": 4,
   "id": "c9067328",
   "metadata": {},
   "outputs": [
    {
     "data": {
      "text/plain": [
       "(12, \"eggs\")"
      ]
     },
     "execution_count": 4,
     "metadata": {},
     "output_type": "execute_result"
    }
   ],
   "source": [
    "t"
   ]
  },
  {
   "cell_type": "code",
   "execution_count": 3,
   "id": "8c00e352",
   "metadata": {},
   "outputs": [
    {
     "data": {
      "text/plain": [
       "(12, \"eggs\")"
      ]
     },
     "execution_count": 3,
     "metadata": {},
     "output_type": "execute_result"
    }
   ],
   "source": [
    "b"
   ]
  },
  {
   "cell_type": "code",
   "execution_count": null,
   "id": "cf02ba03",
   "metadata": {},
   "outputs": [],
   "source": []
  }
 ],
 "metadata": {
  "kernelspec": {
   "display_name": "Rust",
   "language": "rust",
   "name": "rust"
  },
  "language_info": {
   "codemirror_mode": "rust",
   "file_extension": ".rs",
   "mimetype": "text/rust",
   "name": "Rust",
   "pygment_lexer": "rust",
   "version": ""
  }
 },
 "nbformat": 4,
 "nbformat_minor": 5
}
