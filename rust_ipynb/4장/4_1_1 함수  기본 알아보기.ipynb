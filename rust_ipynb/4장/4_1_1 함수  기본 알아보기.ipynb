{
 "cells": [
  {
   "cell_type": "code",
   "execution_count": null,
   "id": "95f6aaa6",
   "metadata": {},
   "outputs": [],
   "source": []
  },
  {
   "cell_type": "markdown",
   "id": "f888a170",
   "metadata": {},
   "source": [
    "#  1. 함수 정의 \n",
    "\n",
    "### 매개변수 타입 명시\n",
    "- Rust에서 함수는 반드시 매개변수의 타입을 명시해야 합니다. \n",
    "- 매개변수의 타입 명시는 함수 정의부와 함께 이루어지며, 함수 호출 시 인자의 타입이 매개변수의 타입과 일치해야 합니다.\n",
    "\n",
    "### 반환 값 타입 명시\n",
    "- 함수가 반환하는 값의 타입 역시 명시되어야 합니다. \n",
    "- 반환 값이 없는 경우에는 ()(Unit) 타입으로 명시합니다.\n",
    "\n",
    "\n",
    "### 선언과 정의 분리\n",
    "- Rust에서 함수는 선언과 정의를 분리할 수 있습니다. \n",
    "- 함수의 선언은 함수 이름, 매개변수, 반환 타입을 명시하는 함수 시그니처로 이루어지며, 함수의 정의는 함수의 본체로 이루어집니다."
   ]
  },
  {
   "cell_type": "markdown",
   "id": "db7298c1",
   "metadata": {},
   "source": [
    "## 1-1 함수 정의  및 호출 \n",
    "\n",
    "- 예약어 fn \n",
    "- 함수명은 스테이크 표기법에 따라 전체 단어를 소문자로 사용하고 두 문자일 경우는 밑줄로 연결\n",
    "- 함수명 다음에는 입력이 될 매개변수 정의 : 매개변수는 반드시 자료형을 지정해야 한다.\n",
    "- 매개변수 다음에는 반환값 지정 \n",
    "- 함수 본문은 중괄호 내부에 정의"
   ]
  },
  {
   "cell_type": "markdown",
   "id": "90b9e146",
   "metadata": {},
   "source": [
    "### 함수 선언과 정의를 분리해서 지정 가능 "
   ]
  },
  {
   "cell_type": "code",
   "execution_count": 11,
   "id": "ea02a7c7",
   "metadata": {},
   "outputs": [],
   "source": [
    "// 함수의 선언\n",
    "fn add3(x: i32, y: i32) -> i32;\n",
    "\n",
    "// 함수의 정의\n",
    "fn add3(x: i32, y: i32) -> i32 {\n",
    "    x + y\n",
    "}"
   ]
  },
  {
   "cell_type": "code",
   "execution_count": 12,
   "id": "25d26e8e",
   "metadata": {},
   "outputs": [
    {
     "data": {
      "text/plain": [
       "300"
      ]
     },
     "execution_count": 12,
     "metadata": {},
     "output_type": "execute_result"
    }
   ],
   "source": [
    "add3(100,200)"
   ]
  },
  {
   "cell_type": "markdown",
   "id": "15fb7d4b",
   "metadata": {},
   "source": [
    "### 매개변수와 반환값이 없는 함수 정의 \n",
    "\n",
    "- 함수 정의 : fn 함수명 () {} \n",
    "- 매개변수는 () 사이에 넣고 \n",
    "- 함수 본문은 { } 사이에 작성한다. "
   ]
  },
  {
   "cell_type": "code",
   "execution_count": 13,
   "id": "0150ed62",
   "metadata": {},
   "outputs": [],
   "source": [
    "fn add() {\n",
    "    println!(\" {} \", 100+200);\n",
    "}"
   ]
  },
  {
   "cell_type": "code",
   "execution_count": 14,
   "id": "0429b03a",
   "metadata": {},
   "outputs": [
    {
     "name": "stdout",
     "output_type": "stream",
     "text": [
      " 300 \n"
     ]
    }
   ],
   "source": [
    "add();"
   ]
  },
  {
   "cell_type": "code",
   "execution_count": null,
   "id": "cfffaf82",
   "metadata": {},
   "outputs": [],
   "source": []
  },
  {
   "cell_type": "markdown",
   "id": "9beb3f3c",
   "metadata": {},
   "source": [
    "##  1-2 반환 처리 \n",
    "\n",
    "- 반환처리는 마지막 표현식이나 그전에 return 처리\n",
    "- 반환값을 처리할 때는 함수 시그니처에 반환자료형을  -> 다음에 정의가 필요"
   ]
  },
  {
   "cell_type": "markdown",
   "id": "9ec1ad93",
   "metadata": {},
   "source": [
    "### 함수는 항상 반환값이  존재\n",
    "- 단지 빈 튜플로 반환은 생략이 가능하다"
   ]
  },
  {
   "cell_type": "code",
   "execution_count": 4,
   "id": "ee617c0f",
   "metadata": {},
   "outputs": [],
   "source": [
    "fn add1() -> () {\n",
    "    println!(\" {} \", 100+200);\n",
    "}"
   ]
  },
  {
   "cell_type": "code",
   "execution_count": 5,
   "id": "16fde170",
   "metadata": {},
   "outputs": [
    {
     "name": "stdout",
     "output_type": "stream",
     "text": [
      " 300 \n"
     ]
    },
    {
     "data": {
      "text/plain": [
       "()"
      ]
     },
     "execution_count": 5,
     "metadata": {},
     "output_type": "execute_result"
    }
   ],
   "source": [
    "add1()"
   ]
  },
  {
   "cell_type": "code",
   "execution_count": 15,
   "id": "38432aae",
   "metadata": {},
   "outputs": [],
   "source": [
    "fn add2()  {\n",
    "    println!(\" {} \", 100+200);\n",
    "}"
   ]
  },
  {
   "cell_type": "code",
   "execution_count": 16,
   "id": "ce8c4abd",
   "metadata": {},
   "outputs": [
    {
     "name": "stdout",
     "output_type": "stream",
     "text": [
      " 300 \n"
     ]
    }
   ],
   "source": [
    "add2();"
   ]
  },
  {
   "cell_type": "markdown",
   "id": "dcfd40c0",
   "metadata": {},
   "source": [
    "## 1-3  표현식으로 반환값을 처리하기  "
   ]
  },
  {
   "cell_type": "markdown",
   "id": "b7b43ed3",
   "metadata": {},
   "source": [
    "### 러스트는 기본으로 표현식 반환을 처리 "
   ]
  },
  {
   "cell_type": "code",
   "execution_count": 7,
   "id": "134ff726",
   "metadata": {},
   "outputs": [],
   "source": [
    "fn add3(x: i32, y:i32) -> i32 {\n",
    "    x +y \n",
    "}"
   ]
  },
  {
   "cell_type": "code",
   "execution_count": 8,
   "id": "be96ac37",
   "metadata": {},
   "outputs": [],
   "source": [
    "fn main() {\n",
    "    let y = add3(100,200);\n",
    "    println!(\"The value of x is: {}\", y);\n",
    "} "
   ]
  },
  {
   "cell_type": "code",
   "execution_count": 9,
   "id": "027ebfee",
   "metadata": {},
   "outputs": [
    {
     "name": "stdout",
     "output_type": "stream",
     "text": [
      "The value of x is: 300\n"
     ]
    }
   ],
   "source": [
    "main();"
   ]
  },
  {
   "cell_type": "markdown",
   "id": "cd91d412",
   "metadata": {},
   "source": [
    "### 함수를 리터럴 값으로 반환이 가능"
   ]
  },
  {
   "cell_type": "code",
   "execution_count": 8,
   "id": "992522c6",
   "metadata": {},
   "outputs": [],
   "source": [
    "fn five() -> i32 {\n",
    "    5\n",
    "}\n",
    "\n",
    "fn main() {\n",
    "    let x = five();\n",
    "\n",
    "    println!(\"The value of x is: {}\", x);\n",
    "}"
   ]
  },
  {
   "cell_type": "code",
   "execution_count": 9,
   "id": "b7e4ff69",
   "metadata": {},
   "outputs": [
    {
     "name": "stdout",
     "output_type": "stream",
     "text": [
      "The value of x is: 5\n"
     ]
    },
    {
     "data": {
      "text/plain": [
       "()"
      ]
     },
     "execution_count": 9,
     "metadata": {},
     "output_type": "execute_result"
    }
   ],
   "source": [
    "main()"
   ]
  },
  {
   "cell_type": "markdown",
   "id": "2b0a3d75",
   "metadata": {},
   "source": [
    "### 여러 값을 반환할 때는 튜플을 사용해서 처리"
   ]
  },
  {
   "cell_type": "code",
   "execution_count": 4,
   "id": "b9390d68",
   "metadata": {},
   "outputs": [],
   "source": [
    "fn add4(x: i32, y:i32) -> (i32,i32) {\n",
    "    (x ,y) \n",
    "}"
   ]
  },
  {
   "cell_type": "code",
   "execution_count": 7,
   "id": "78471385",
   "metadata": {},
   "outputs": [
    {
     "name": "stdout",
     "output_type": "stream",
     "text": [
      " (333, 555) \n"
     ]
    }
   ],
   "source": [
    "println!(\" {:?} \",add4(333,555));"
   ]
  },
  {
   "cell_type": "markdown",
   "id": "9ac67659",
   "metadata": {},
   "source": [
    "## 1-4  return으로 반환처리   \n",
    "- 러스트는 표현식을 주로 사용하므로 return 문 없이 반환이 가능하지만 \n",
    "- 함수의 끝에 가기전에 일찍 반환이 필요한 경우  return문을 사용함 "
   ]
  },
  {
   "cell_type": "markdown",
   "id": "6224fd10",
   "metadata": {},
   "source": [
    "### 특정 조건이나 일찍 반환이 필요할 경우 사용 "
   ]
  },
  {
   "cell_type": "code",
   "execution_count": 2,
   "id": "fd65908d",
   "metadata": {},
   "outputs": [],
   "source": [
    "fn add5(x: i32, y:i32) -> (i32,i32) {\n",
    "    return (x ,y) ;\n",
    "}"
   ]
  },
  {
   "cell_type": "code",
   "execution_count": 3,
   "id": "868bc3a2",
   "metadata": {},
   "outputs": [
    {
     "name": "stdout",
     "output_type": "stream",
     "text": [
      " (3331, 5551) \n"
     ]
    }
   ],
   "source": [
    "println!(\" {:?} \",add5(3331,5551));"
   ]
  },
  {
   "cell_type": "markdown",
   "id": "3e11494e",
   "metadata": {},
   "source": [
    "## 2.  매개변수 처리 알아보기\n",
    "\n",
    "- 매개변수에는 반드시 자료형을 지정해야 함\n"
   ]
  },
  {
   "cell_type": "code",
   "execution_count": null,
   "id": "ffca13d5",
   "metadata": {},
   "outputs": [],
   "source": []
  },
  {
   "cell_type": "markdown",
   "id": "e2c2f026",
   "metadata": {},
   "source": [
    "## 2-1 매개변수는 자료형을 지정해야 한다"
   ]
  },
  {
   "cell_type": "markdown",
   "id": "7a564b13",
   "metadata": {},
   "source": [
    "### 튜플을 매개변수로 지정하기\n",
    "\n",
    "- 여러 개의 매개변수가 있을 경우 튜플로 처리 "
   ]
  },
  {
   "cell_type": "code",
   "execution_count": 10,
   "id": "999b43a7",
   "metadata": {},
   "outputs": [],
   "source": [
    "fn sum_t(x : (i32,i32,i32)) -> i32 {\n",
    "    x.0 + x.1 + x.2\n",
    "}"
   ]
  },
  {
   "cell_type": "code",
   "execution_count": 11,
   "id": "390f52da",
   "metadata": {},
   "outputs": [
    {
     "data": {
      "text/plain": [
       "600"
      ]
     },
     "execution_count": 11,
     "metadata": {},
     "output_type": "execute_result"
    }
   ],
   "source": [
    "sum_t((100,200,300))"
   ]
  },
  {
   "cell_type": "code",
   "execution_count": null,
   "id": "72bf468f",
   "metadata": {},
   "outputs": [],
   "source": []
  },
  {
   "cell_type": "markdown",
   "id": "7adf7de9",
   "metadata": {},
   "source": [
    "## 2-2  변경 가능한 매개변수 정의 \n",
    "- 매개변수는 기본으로 변경이 불가능하다.\n",
    "- 하지만 변경할 수 있도록 지정해서 사용이 가능하다."
   ]
  },
  {
   "cell_type": "code",
   "execution_count": 4,
   "id": "a376f273",
   "metadata": {},
   "outputs": [],
   "source": [
    "fn foo(mut x: u8, y: u8) -> u8 {\n",
    "    println!(\"x={}\",x);\n",
    "    x += y;\n",
    "    println!(\"mut x={}\",x);\n",
    "    x\n",
    "}"
   ]
  },
  {
   "cell_type": "code",
   "execution_count": 5,
   "id": "65442a03",
   "metadata": {},
   "outputs": [],
   "source": [
    "fn main() { \n",
    "\n",
    "    // 가변 변수 수정.\n",
    "    let mut a = 5;\n",
    "    a = 6;\n",
    "    assert_eq!(a, 6);  // 동일한 값 확인 \n",
    "    \n",
    "    // 함수 인자 전달 \n",
    "    assert_eq!(foo(3, 4), 7);\n",
    "    println!(\"{} \", foo(3,4));\n",
    "} "
   ]
  },
  {
   "cell_type": "code",
   "execution_count": 6,
   "id": "a8f2269a",
   "metadata": {},
   "outputs": [
    {
     "name": "stdout",
     "output_type": "stream",
     "text": [
      "x=3\n",
      "mut x=7\n",
      "x=3\n",
      "mut x=7\n",
      "7 \n"
     ]
    }
   ],
   "source": [
    "main();"
   ]
  },
  {
   "cell_type": "code",
   "execution_count": null,
   "id": "411273cc",
   "metadata": {},
   "outputs": [],
   "source": []
  },
  {
   "cell_type": "markdown",
   "id": "b6760093",
   "metadata": {},
   "source": [
    "## 2-3 변경가능한  참조 매개변수  정의 \n",
    "\n",
    "- 전달되는 매개변수가 참조를 처리할 수 있고 \n",
    "- 가변 참조 매개변수를 전달 받아서 처리가 가능하다"
   ]
  },
  {
   "cell_type": "code",
   "execution_count": 2,
   "id": "9104d899",
   "metadata": {},
   "outputs": [],
   "source": [
    "// 가변 참조를받습니다.\n",
    "fn push_three(v: &mut String) {\n",
    "    println!(\" before = {}\",v);\n",
    "    v.push('a');\n",
    "    println!(\" after  = {}\",v);\n",
    "}\n"
   ]
  },
  {
   "cell_type": "code",
   "execution_count": 4,
   "id": "40efe0fb",
   "metadata": {},
   "outputs": [],
   "source": [
    "fn main() { \n",
    "                                      // 변경 가능한 참조는 변경 불가능한 변수로 가져올 수 없습니다.\n",
    "    let mut v = \"string\".to_string();     // 가변 참조로 전달할 대는 가변 변수로 지정이 필요 \n",
    "                                      // 변경 가능한 참조 전달.\n",
    "    push_three(&mut v);               // 가변 참조일 때는 항상 가변참조로 전달해야 함 \n",
    "    println!(\"{:?}\", v);\n",
    "    assert_eq!(v, String::from(\"stringa\"));\n",
    "    \n",
    "}"
   ]
  },
  {
   "cell_type": "code",
   "execution_count": 5,
   "id": "75817c0d",
   "metadata": {},
   "outputs": [
    {
     "name": "stdout",
     "output_type": "stream",
     "text": [
      " before = string\n",
      " after  = stringa\n",
      "\"stringa\"\n"
     ]
    }
   ],
   "source": [
    "main();"
   ]
  },
  {
   "cell_type": "code",
   "execution_count": null,
   "id": "4dd9ead6",
   "metadata": {},
   "outputs": [],
   "source": []
  },
  {
   "cell_type": "code",
   "execution_count": 18,
   "id": "cf314ec9",
   "metadata": {},
   "outputs": [],
   "source": [
    "// 가변 참조를받습니다.\n",
    "fn push_two(v: &mut Vec<u8>) {\n",
    "    v.push(2);\n",
    "}\n",
    "\n",
    "fn main() { \n",
    "\n",
    "                                  // 변경 가능한 참조는 변경 불가능한 변수로 가져올 수 없습니다.\n",
    "    let mut v = vec![0, 1];       // 가변 참조로 전달할 대는 가변 변수로 지정이 필요 \n",
    "                                  // 변경 가능한 참조 전달.\n",
    "    push_two(&mut v);             // 가변 참조일 때는 항상 가변참조로 전달해야 함 \n",
    "    println!(\"{:?}\", v);\n",
    "    assert_eq!(v, vec![0, 1, 2]);\n",
    "    \n",
    "}"
   ]
  },
  {
   "cell_type": "code",
   "execution_count": 19,
   "id": "40a25fc7",
   "metadata": {},
   "outputs": [
    {
     "name": "stdout",
     "output_type": "stream",
     "text": [
      "[0, 1, 2]\n"
     ]
    },
    {
     "data": {
      "text/plain": [
       "()"
      ]
     },
     "execution_count": 19,
     "metadata": {},
     "output_type": "execute_result"
    }
   ],
   "source": [
    "main()"
   ]
  },
  {
   "cell_type": "code",
   "execution_count": null,
   "id": "0fc255bf",
   "metadata": {},
   "outputs": [],
   "source": []
  },
  {
   "cell_type": "markdown",
   "id": "021882a8",
   "metadata": {},
   "source": [
    "## 3. 함수의 가시성"
   ]
  },
  {
   "cell_type": "markdown",
   "id": "4fd9e976",
   "metadata": {},
   "source": [
    "## 다른 모듈에 정의할 경우 함수의 가시성이 필요\n",
    "\n",
    "- 외부 모델에서 사용이 필요한 경우 함수 정의할 때 pub을 지정 필요"
   ]
  },
  {
   "cell_type": "code",
   "execution_count": 15,
   "id": "5069f55b",
   "metadata": {},
   "outputs": [],
   "source": [
    "mod my_module {\n",
    "    pub fn public_function() {\n",
    "        println!(\"This is a public function\");\n",
    "    }\n",
    "\n",
    "    fn private_function() {\n",
    "        println!(\"This is a private function\");\n",
    "    }\n",
    "}\n",
    "\n",
    "fn main() {\n",
    "    my_module::public_function();   // This is a public function\n",
    "    //my_module::private_function();  // error: function `private_function` is private\n",
    "}"
   ]
  },
  {
   "cell_type": "code",
   "execution_count": 16,
   "id": "976883f1",
   "metadata": {},
   "outputs": [
    {
     "name": "stdout",
     "output_type": "stream",
     "text": [
      "This is a public function\n"
     ]
    }
   ],
   "source": [
    "main();"
   ]
  },
  {
   "cell_type": "code",
   "execution_count": null,
   "id": "3b9e5c9d",
   "metadata": {},
   "outputs": [],
   "source": []
  }
 ],
 "metadata": {
  "kernelspec": {
   "display_name": "Rust",
   "language": "rust",
   "name": "rust"
  },
  "language_info": {
   "codemirror_mode": "rust",
   "file_extension": ".rs",
   "mimetype": "text/rust",
   "name": "Rust",
   "pygment_lexer": "rust",
   "version": ""
  }
 },
 "nbformat": 4,
 "nbformat_minor": 5
}
