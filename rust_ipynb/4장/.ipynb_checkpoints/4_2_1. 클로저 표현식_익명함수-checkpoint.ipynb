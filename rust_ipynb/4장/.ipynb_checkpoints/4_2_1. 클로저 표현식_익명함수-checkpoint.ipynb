{
 "cells": [
  {
   "cell_type": "markdown",
   "id": "0baac084",
   "metadata": {},
   "source": [
    "## 참조자료 \n",
    "\n",
    "https://stevedonovan.github.io/rustifications/2018/08/18/rust-closures-are-hard.html"
   ]
  },
  {
   "cell_type": "markdown",
   "id": "c2a45c56",
   "metadata": {},
   "source": [
    "# 1. 클로저 표현식\n",
    "\n",
    "- 클로저 표현식은  고유한 익명 타입의 클로저 값을 생성합니다. \n",
    "- 클로저 유형은 캡처된 변수를 포함하는 구조체와 거의 동일합니다."
   ]
  },
  {
   "cell_type": "code",
   "execution_count": null,
   "id": "503c71c0",
   "metadata": {},
   "outputs": [],
   "source": []
  },
  {
   "cell_type": "markdown",
   "id": "ae6ad927",
   "metadata": {},
   "source": [
    "## Rust 클로저 특성\n",
    "Rust 프로그래밍 언어에서 Fn, FnMut, FnOnce는 클로저와 다른 유형의 함수 객체에 대한 다양한 동작을 정의하는 특성입니다.\n",
    "\n",
    "- Fn 특성은 여러 번 호출할 수 있고 불변으로 차용할 수 있는 클로저를 나타냅니다. 이 특성에는 self에 대한 참조를 차용하는 하나의 연관된 메서드 호출(&self, args)이 있으며, 이러한 요구 사항을 충족하는 모든 클로저에서 구현할 수 있습니다.\n",
    "\n",
    "- FnMut 형질은 여러 번 호출할 수 있고 가변적으로 차용할 수 있는 클로저를 나타냅니다. 이 형질에는 self에 대한 가변 참조를 취하는 call_mut(&mut self, args) 메서드가 하나 있으며, 이러한 요구 사항을 충족하는 모든 클로저에 의해 구현될 수 있습니다.\n",
    "\n",
    "- FnOnce 형질은 한 번만 호출할 수 있는 클로저를 나타냅니다. 이 특성에는 self의 소유권을 취하는 call_once(self, args) 메서드가 하나 있으며, 이러한 요구 사항을 충족하는 모든 클로저에서 구현할 수 있습니다.\n"
   ]
  },
  {
   "cell_type": "markdown",
   "id": "7c7c12ee",
   "metadata": {},
   "source": [
    "## 1-1 클로저 정의 및 호출하기 \n",
    "\n",
    "- 주의할 점은 구조체 등은 소유권이 이동하므로 클로저 내부 사용하면 예외 발생 "
   ]
  },
  {
   "cell_type": "markdown",
   "id": "c7476f7a",
   "metadata": {},
   "source": [
    "### 클로저 정의 \n",
    "\n",
    "-  매개변수는 |매개변수 | 정의하고 \n",
    "-  반환자료형은  -> 다음에 정의\n",
    "-  본문은 { } 사이에 정의한다. "
   ]
  },
  {
   "cell_type": "code",
   "execution_count": 5,
   "id": "dd5d4748",
   "metadata": {},
   "outputs": [],
   "source": [
    "fn main() {\n",
    "    let m = 1.0;\n",
    "    let c = 2.0;\n",
    "    let _z = String::from(\"가가가\"); \n",
    "\n",
    "    let line = |x:f64|->f64 {      // 변수에 클로저 할당할 때는 main 함수 내부에 정의 할 것\n",
    "        let s = m*x + c;           // 함수의 지역변수를 클로저에서 사용이 가능 : 정수는 이동되지 않아서 사용가능 \n",
    "        //let zz = _z;             // _z는 한번 소유권 이동이 되어서 계속 호출시 문제됨 ...\n",
    "        s                          // 내부에서 소유권 변동을 주의해야 함  \n",
    "    };\n",
    "    println!(\"{} {}\", line(0.0), line(1.0));\n",
    "    println!(\"m {:.2} \", m);\n",
    "    // println!(\" z { } \", z);\n",
    "}"
   ]
  },
  {
   "cell_type": "code",
   "execution_count": 6,
   "id": "2701ae66",
   "metadata": {},
   "outputs": [
    {
     "name": "stdout",
     "output_type": "stream",
     "text": [
      "2 3\n",
      " m 1.00 \n"
     ]
    },
    {
     "data": {
      "text/plain": [
       "()"
      ]
     },
     "execution_count": 6,
     "metadata": {},
     "output_type": "execute_result"
    }
   ],
   "source": [
    "main()"
   ]
  },
  {
   "cell_type": "code",
   "execution_count": null,
   "id": "f4a3e994",
   "metadata": {},
   "outputs": [],
   "source": []
  },
  {
   "cell_type": "markdown",
   "id": "7aab394a",
   "metadata": {},
   "source": [
    "## 1-2 클로저 타입 알아보기\n",
    "\n",
    "- https://doc.rust-lang.org/reference/types/closure.html"
   ]
  },
  {
   "cell_type": "markdown",
   "id": "e09f2c73",
   "metadata": {},
   "source": [
    "### 변수에 클로저의 타입을 정의할 때는\n",
    "- 함수포인터 타입인 fn을 사용해서 정의한다\n",
    "- 이때는 캡처되는 외부 변수가 없어야 한다"
   ]
  },
  {
   "cell_type": "code",
   "execution_count": 6,
   "id": "5e7555c8",
   "metadata": {},
   "outputs": [
    {
     "name": "stdout",
     "output_type": "stream",
     "text": [
      " 101 \n"
     ]
    }
   ],
   "source": [
    "{\n",
    "    let add_one_v2: fn(u32)->u32 = |x: u32| -> u32 { x + 1 };\n",
    "    \n",
    "    println!(\" {} \", add_one_v2(100));\n",
    "    \n",
    "};"
   ]
  },
  {
   "cell_type": "markdown",
   "id": "0c6b0235",
   "metadata": {},
   "source": [
    "### 클로저에서 외부 변수를 캡처할 때는 함수포인터타입으로 처리할 수 없다. "
   ]
  },
  {
   "cell_type": "code",
   "execution_count": 7,
   "id": "9e741365",
   "metadata": {},
   "outputs": [
    {
     "ename": "Error",
     "evalue": "mismatched types",
     "output_type": "error",
     "traceback": [
      "\u001b[31m[E0308] Error:\u001b[0m mismatched types",
      "   \u001b[38;5;246m╭\u001b[0m\u001b[38;5;246m─\u001b[0m\u001b[38;5;246m[\u001b[0mcommand_7:1:1\u001b[38;5;246m]\u001b[0m",
      "   \u001b[38;5;246m│\u001b[0m",
      " \u001b[38;5;246m3 │\u001b[0m \u001b[38;5;249m \u001b[0m\u001b[38;5;249m \u001b[0m\u001b[38;5;249m \u001b[0m\u001b[38;5;249m \u001b[0m\u001b[38;5;249ml\u001b[0m\u001b[38;5;249me\u001b[0m\u001b[38;5;249mt\u001b[0m\u001b[38;5;249m \u001b[0m\u001b[38;5;249ma\u001b[0m\u001b[38;5;249md\u001b[0m\u001b[38;5;249md\u001b[0m\u001b[38;5;249m_\u001b[0m\u001b[38;5;249mo\u001b[0m\u001b[38;5;249mn\u001b[0m\u001b[38;5;249me\u001b[0m\u001b[38;5;249m_\u001b[0m\u001b[38;5;249mv\u001b[0m\u001b[38;5;249m2\u001b[0m\u001b[38;5;249m:\u001b[0m\u001b[38;5;249m \u001b[0m\u001b[38;5;100mf\u001b[0m\u001b[38;5;100mn\u001b[0m\u001b[38;5;100m(\u001b[0m\u001b[38;5;100mu\u001b[0m\u001b[38;5;100m3\u001b[0m\u001b[38;5;100m2\u001b[0m\u001b[38;5;100m)\u001b[0m\u001b[38;5;100m-\u001b[0m\u001b[38;5;100m>\u001b[0m\u001b[38;5;100mu\u001b[0m\u001b[38;5;100m3\u001b[0m\u001b[38;5;100m2\u001b[0m\u001b[38;5;249m \u001b[0m\u001b[38;5;249m=\u001b[0m\u001b[38;5;249m \u001b[0m\u001b[38;5;54m|\u001b[0m\u001b[38;5;54mx\u001b[0m\u001b[38;5;54m:\u001b[0m\u001b[38;5;54m \u001b[0m\u001b[38;5;54mu\u001b[0m\u001b[38;5;54m3\u001b[0m\u001b[38;5;54m2\u001b[0m\u001b[38;5;54m|\u001b[0m\u001b[38;5;54m \u001b[0m\u001b[38;5;54m-\u001b[0m\u001b[38;5;54m>\u001b[0m\u001b[38;5;54m \u001b[0m\u001b[38;5;54mu\u001b[0m\u001b[38;5;54m3\u001b[0m\u001b[38;5;54m2\u001b[0m\u001b[38;5;54m \u001b[0m\u001b[38;5;54m{\u001b[0m\u001b[38;5;54m \u001b[0m\u001b[38;5;54mx\u001b[0m\u001b[38;5;54m \u001b[0m\u001b[38;5;54m+\u001b[0m\u001b[38;5;54m \u001b[0m\u001b[38;5;68mc\u001b[0m\u001b[38;5;68ma\u001b[0m\u001b[38;5;68mp\u001b[0m\u001b[38;5;68m_\u001b[0m\u001b[38;5;68mv\u001b[0m\u001b[38;5;68ma\u001b[0m\u001b[38;5;68mr\u001b[0m\u001b[38;5;54m}\u001b[0m\u001b[38;5;249m;\u001b[0m",
      " \u001b[38;5;246m  ·\u001b[0m                     \u001b[38;5;100m─\u001b[0m\u001b[38;5;100m─\u001b[0m\u001b[38;5;100m─\u001b[0m\u001b[38;5;100m─\u001b[0m\u001b[38;5;100m─\u001b[0m\u001b[38;5;100m─\u001b[0m\u001b[38;5;100m┬\u001b[0m\u001b[38;5;100m─\u001b[0m\u001b[38;5;100m─\u001b[0m\u001b[38;5;100m─\u001b[0m\u001b[38;5;100m─\u001b[0m\u001b[38;5;100m─\u001b[0m   \u001b[38;5;54m─\u001b[0m\u001b[38;5;54m─\u001b[0m\u001b[38;5;54m─\u001b[0m\u001b[38;5;54m─\u001b[0m\u001b[38;5;54m─\u001b[0m\u001b[38;5;54m─\u001b[0m\u001b[38;5;54m─\u001b[0m\u001b[38;5;54m─\u001b[0m\u001b[38;5;54m─\u001b[0m\u001b[38;5;54m─\u001b[0m\u001b[38;5;54m─\u001b[0m\u001b[38;5;54m─\u001b[0m\u001b[38;5;54m─\u001b[0m\u001b[38;5;54m─\u001b[0m\u001b[38;5;54m─\u001b[0m\u001b[38;5;54m┬\u001b[0m\u001b[38;5;54m─\u001b[0m\u001b[38;5;54m─\u001b[0m\u001b[38;5;54m─\u001b[0m\u001b[38;5;54m─\u001b[0m\u001b[38;5;54m─\u001b[0m\u001b[38;5;54m─\u001b[0m\u001b[38;5;68m─\u001b[0m\u001b[38;5;68m─\u001b[0m\u001b[38;5;68m─\u001b[0m\u001b[38;5;68m┬\u001b[0m\u001b[38;5;68m─\u001b[0m\u001b[38;5;68m─\u001b[0m\u001b[38;5;68m─\u001b[0m\u001b[38;5;54m─\u001b[0m  ",
      " \u001b[38;5;246m  ·\u001b[0m                           \u001b[38;5;100m╰\u001b[0m\u001b[38;5;100m─\u001b[0m\u001b[38;5;100m─\u001b[0m\u001b[38;5;100m─\u001b[0m\u001b[38;5;100m─\u001b[0m\u001b[38;5;100m─\u001b[0m\u001b[38;5;100m─\u001b[0m\u001b[38;5;100m─\u001b[0m\u001b[38;5;100m─\u001b[0m\u001b[38;5;100m─\u001b[0m\u001b[38;5;100m─\u001b[0m\u001b[38;5;100m─\u001b[0m\u001b[38;5;100m─\u001b[0m\u001b[38;5;100m─\u001b[0m\u001b[38;5;100m─\u001b[0m\u001b[38;5;100m─\u001b[0m\u001b[38;5;100m─\u001b[0m\u001b[38;5;100m─\u001b[0m\u001b[38;5;100m─\u001b[0m\u001b[38;5;100m─\u001b[0m\u001b[38;5;100m─\u001b[0m\u001b[38;5;100m─\u001b[0m\u001b[38;5;100m─\u001b[0m\u001b[38;5;100m─\u001b[0m\u001b[38;5;100m─\u001b[0m\u001b[38;5;100m─\u001b[0m\u001b[38;5;100m─\u001b[0m\u001b[38;5;100m─\u001b[0m\u001b[38;5;100m─\u001b[0m\u001b[38;5;100m─\u001b[0m\u001b[38;5;100m─\u001b[0m\u001b[38;5;100m─\u001b[0m\u001b[38;5;100m─\u001b[0m\u001b[38;5;100m─\u001b[0m\u001b[38;5;100m─\u001b[0m\u001b[38;5;100m─\u001b[0m\u001b[38;5;100m─\u001b[0m\u001b[38;5;100m─\u001b[0m\u001b[38;5;100m─\u001b[0m\u001b[38;5;100m─\u001b[0m\u001b[38;5;100m─\u001b[0m expected due to this",
      " \u001b[38;5;246m  ·\u001b[0m                                                   \u001b[38;5;54m│\u001b[0m         \u001b[38;5;68m│\u001b[0m      ",
      " \u001b[38;5;246m  ·\u001b[0m                                                   \u001b[38;5;54m╰\u001b[0m\u001b[38;5;54m─\u001b[0m\u001b[38;5;54m─\u001b[0m\u001b[38;5;54m─\u001b[0m\u001b[38;5;54m─\u001b[0m\u001b[38;5;54m─\u001b[0m\u001b[38;5;54m─\u001b[0m\u001b[38;5;54m─\u001b[0m\u001b[38;5;54m─\u001b[0m\u001b[38;5;54m─\u001b[0m\u001b[38;5;54m─\u001b[0m\u001b[38;5;54m─\u001b[0m\u001b[38;5;54m─\u001b[0m\u001b[38;5;54m─\u001b[0m\u001b[38;5;54m─\u001b[0m\u001b[38;5;54m─\u001b[0m\u001b[38;5;54m─\u001b[0m expected fn pointer, found closure",
      " \u001b[38;5;246m  ·\u001b[0m                                                             \u001b[38;5;68m│\u001b[0m      ",
      " \u001b[38;5;246m  ·\u001b[0m                                                             \u001b[38;5;68m╰\u001b[0m\u001b[38;5;68m─\u001b[0m\u001b[38;5;68m─\u001b[0m\u001b[38;5;68m─\u001b[0m\u001b[38;5;68m─\u001b[0m\u001b[38;5;68m─\u001b[0m\u001b[38;5;68m─\u001b[0m `cap_var` captured here",
      "\u001b[38;5;246m───╯\u001b[0m"
     ]
    }
   ],
   "source": [
    "{\n",
    "    let cap_var = 300; \n",
    "    let add_one_v2: fn(u32)->u32 = |x: u32| -> u32 { x + cap_var};\n",
    "    \n",
    "    println!(\" {} \", add_one_v2(100));\n",
    "    \n",
    "};"
   ]
  },
  {
   "cell_type": "markdown",
   "id": "aa36373a",
   "metadata": {},
   "source": [
    "\n",
    "\n",
    "## 클로저가 환경에서 값을 캡처하는 세 가지 방식Permalink\n",
    "소유권 받기, 불변으로 빌려오기, 가변으로 빌려오는 방식이다.\n",
    "\n",
    "FnOnce는 캡처한 변수의 소유권을 클로저 안으로 옮긴다. 클로저가 동일한 변수에 대해 한 번만 소유권을 얻을 수 있어서 Once라는 이름이 들어갔다.\n",
    "\n",
    "Fn은 캡처한 값을 불변으로 빌려온다.\n",
    "\n",
    "FnMut은 값을 가변으로 빌려와서 환경을 변경할 수 있다."
   ]
  },
  {
   "cell_type": "code",
   "execution_count": 14,
   "id": "664365d2",
   "metadata": {},
   "outputs": [
    {
     "ename": "Error",
     "evalue": "trait objects must include the `dyn` keyword",
     "output_type": "error",
     "traceback": [
      "\u001b[31m[E0782] Error:\u001b[0m trait objects must include the `dyn` keyword",
      "   \u001b[38;5;246m╭\u001b[0m\u001b[38;5;246m─\u001b[0m\u001b[38;5;246m[\u001b[0mcommand_14:1:1\u001b[38;5;246m]\u001b[0m",
      "   \u001b[38;5;246m│\u001b[0m",
      " \u001b[38;5;246m3 │\u001b[0m \u001b[38;5;249m \u001b[0m\u001b[38;5;249m \u001b[0m\u001b[38;5;249m \u001b[0m\u001b[38;5;249m \u001b[0m\u001b[38;5;249ml\u001b[0m\u001b[38;5;249me\u001b[0m\u001b[38;5;249mt\u001b[0m\u001b[38;5;249m \u001b[0m\u001b[38;5;249ma\u001b[0m\u001b[38;5;249md\u001b[0m\u001b[38;5;249md\u001b[0m\u001b[38;5;249m_\u001b[0m\u001b[38;5;249mo\u001b[0m\u001b[38;5;249mn\u001b[0m\u001b[38;5;249me\u001b[0m\u001b[38;5;249m_\u001b[0m\u001b[38;5;249mv\u001b[0m\u001b[38;5;249m2\u001b[0m\u001b[38;5;249m:\u001b[0m\u001b[38;5;249m \u001b[0m\u001b[38;5;54mF\u001b[0m\u001b[38;5;54mn\u001b[0m\u001b[38;5;54mO\u001b[0m\u001b[38;5;54mn\u001b[0m\u001b[38;5;54mc\u001b[0m\u001b[38;5;54me\u001b[0m\u001b[38;5;54m(\u001b[0m\u001b[38;5;54mu\u001b[0m\u001b[38;5;54m3\u001b[0m\u001b[38;5;54m2\u001b[0m\u001b[38;5;54m)\u001b[0m\u001b[38;5;54m-\u001b[0m\u001b[38;5;54m>\u001b[0m\u001b[38;5;54mu\u001b[0m\u001b[38;5;54m3\u001b[0m\u001b[38;5;54m2\u001b[0m\u001b[38;5;249m \u001b[0m\u001b[38;5;249m=\u001b[0m\u001b[38;5;249m \u001b[0m\u001b[38;5;249m|\u001b[0m\u001b[38;5;249mx\u001b[0m\u001b[38;5;249m:\u001b[0m\u001b[38;5;249m \u001b[0m\u001b[38;5;249mu\u001b[0m\u001b[38;5;249m3\u001b[0m\u001b[38;5;249m2\u001b[0m\u001b[38;5;249m|\u001b[0m\u001b[38;5;249m \u001b[0m\u001b[38;5;249m-\u001b[0m\u001b[38;5;249m>\u001b[0m\u001b[38;5;249m \u001b[0m\u001b[38;5;249mu\u001b[0m\u001b[38;5;249m3\u001b[0m\u001b[38;5;249m2\u001b[0m\u001b[38;5;249m \u001b[0m\u001b[38;5;249m{\u001b[0m\u001b[38;5;249m \u001b[0m\u001b[38;5;249mx\u001b[0m\u001b[38;5;249m \u001b[0m\u001b[38;5;249m+\u001b[0m\u001b[38;5;249m \u001b[0m\u001b[38;5;249mc\u001b[0m\u001b[38;5;249ma\u001b[0m\u001b[38;5;249mp\u001b[0m\u001b[38;5;249m_\u001b[0m\u001b[38;5;249mv\u001b[0m\u001b[38;5;249ma\u001b[0m\u001b[38;5;249mr\u001b[0m\u001b[38;5;249m}\u001b[0m\u001b[38;5;249m;\u001b[0m",
      " \u001b[38;5;246m  ·\u001b[0m                     \u001b[38;5;100m┬\u001b[0m\u001b[38;5;54m─\u001b[0m\u001b[38;5;54m─\u001b[0m\u001b[38;5;54m─\u001b[0m\u001b[38;5;54m─\u001b[0m\u001b[38;5;54m─\u001b[0m\u001b[38;5;54m─\u001b[0m\u001b[38;5;54m─\u001b[0m\u001b[38;5;54m┬\u001b[0m\u001b[38;5;54m─\u001b[0m\u001b[38;5;54m─\u001b[0m\u001b[38;5;54m─\u001b[0m\u001b[38;5;54m─\u001b[0m\u001b[38;5;54m─\u001b[0m\u001b[38;5;54m─\u001b[0m\u001b[38;5;54m─\u001b[0m  ",
      " \u001b[38;5;246m  ·\u001b[0m                     \u001b[38;5;100m╰\u001b[0m\u001b[38;5;100m─\u001b[0m\u001b[38;5;100m─\u001b[0m\u001b[38;5;100m─\u001b[0m\u001b[38;5;100m─\u001b[0m\u001b[38;5;100m─\u001b[0m\u001b[38;5;100m─\u001b[0m\u001b[38;5;100m─\u001b[0m\u001b[38;5;100m─\u001b[0m\u001b[38;5;100m─\u001b[0m\u001b[38;5;100m─\u001b[0m\u001b[38;5;100m─\u001b[0m\u001b[38;5;100m─\u001b[0m\u001b[38;5;100m─\u001b[0m\u001b[38;5;100m─\u001b[0m\u001b[38;5;100m─\u001b[0m\u001b[38;5;100m─\u001b[0m\u001b[38;5;100m─\u001b[0m help: add `dyn` keyword before this trait: `dyn `",
      " \u001b[38;5;246m  ·\u001b[0m                             \u001b[38;5;54m│\u001b[0m         ",
      " \u001b[38;5;246m  ·\u001b[0m                             \u001b[38;5;54m╰\u001b[0m\u001b[38;5;54m─\u001b[0m\u001b[38;5;54m─\u001b[0m\u001b[38;5;54m─\u001b[0m\u001b[38;5;54m─\u001b[0m\u001b[38;5;54m─\u001b[0m\u001b[38;5;54m─\u001b[0m\u001b[38;5;54m─\u001b[0m\u001b[38;5;54m─\u001b[0m\u001b[38;5;54m─\u001b[0m error: trait objects must include the `dyn` keyword",
      "\u001b[38;5;246m───╯\u001b[0m"
     ]
    },
    {
     "ename": "Error",
     "evalue": "mismatched types",
     "output_type": "error",
     "traceback": [
      "\u001b[31m[E0308] Error:\u001b[0m mismatched types",
      "   \u001b[38;5;246m╭\u001b[0m\u001b[38;5;246m─\u001b[0m\u001b[38;5;246m[\u001b[0mcommand_14:1:1\u001b[38;5;246m]\u001b[0m",
      "   \u001b[38;5;246m│\u001b[0m",
      " \u001b[38;5;246m3 │\u001b[0m \u001b[38;5;249m \u001b[0m\u001b[38;5;249m \u001b[0m\u001b[38;5;249m \u001b[0m\u001b[38;5;249m \u001b[0m\u001b[38;5;249ml\u001b[0m\u001b[38;5;249me\u001b[0m\u001b[38;5;249mt\u001b[0m\u001b[38;5;249m \u001b[0m\u001b[38;5;249ma\u001b[0m\u001b[38;5;249md\u001b[0m\u001b[38;5;249md\u001b[0m\u001b[38;5;249m_\u001b[0m\u001b[38;5;249mo\u001b[0m\u001b[38;5;249mn\u001b[0m\u001b[38;5;249me\u001b[0m\u001b[38;5;249m_\u001b[0m\u001b[38;5;249mv\u001b[0m\u001b[38;5;249m2\u001b[0m\u001b[38;5;249m:\u001b[0m\u001b[38;5;249m \u001b[0m\u001b[38;5;100mF\u001b[0m\u001b[38;5;100mn\u001b[0m\u001b[38;5;100mO\u001b[0m\u001b[38;5;100mn\u001b[0m\u001b[38;5;100mc\u001b[0m\u001b[38;5;100me\u001b[0m\u001b[38;5;100m(\u001b[0m\u001b[38;5;100mu\u001b[0m\u001b[38;5;100m3\u001b[0m\u001b[38;5;100m2\u001b[0m\u001b[38;5;100m)\u001b[0m\u001b[38;5;100m-\u001b[0m\u001b[38;5;100m>\u001b[0m\u001b[38;5;100mu\u001b[0m\u001b[38;5;100m3\u001b[0m\u001b[38;5;100m2\u001b[0m\u001b[38;5;249m \u001b[0m\u001b[38;5;249m=\u001b[0m\u001b[38;5;249m \u001b[0m\u001b[38;5;54m|\u001b[0m\u001b[38;5;54mx\u001b[0m\u001b[38;5;54m:\u001b[0m\u001b[38;5;54m \u001b[0m\u001b[38;5;54mu\u001b[0m\u001b[38;5;54m3\u001b[0m\u001b[38;5;54m2\u001b[0m\u001b[38;5;54m|\u001b[0m\u001b[38;5;54m \u001b[0m\u001b[38;5;54m-\u001b[0m\u001b[38;5;54m>\u001b[0m\u001b[38;5;54m \u001b[0m\u001b[38;5;54mu\u001b[0m\u001b[38;5;54m3\u001b[0m\u001b[38;5;54m2\u001b[0m\u001b[38;5;54m \u001b[0m\u001b[38;5;54m{\u001b[0m\u001b[38;5;54m \u001b[0m\u001b[38;5;54mx\u001b[0m\u001b[38;5;54m \u001b[0m\u001b[38;5;54m+\u001b[0m\u001b[38;5;54m \u001b[0m\u001b[38;5;54mc\u001b[0m\u001b[38;5;54ma\u001b[0m\u001b[38;5;54mp\u001b[0m\u001b[38;5;54m_\u001b[0m\u001b[38;5;54mv\u001b[0m\u001b[38;5;54ma\u001b[0m\u001b[38;5;54mr\u001b[0m\u001b[38;5;54m}\u001b[0m\u001b[38;5;249m;\u001b[0m",
      " \u001b[38;5;246m  ·\u001b[0m                     \u001b[38;5;100m─\u001b[0m\u001b[38;5;100m─\u001b[0m\u001b[38;5;100m─\u001b[0m\u001b[38;5;100m─\u001b[0m\u001b[38;5;100m─\u001b[0m\u001b[38;5;100m─\u001b[0m\u001b[38;5;100m─\u001b[0m\u001b[38;5;100m─\u001b[0m\u001b[38;5;100m┬\u001b[0m\u001b[38;5;100m─\u001b[0m\u001b[38;5;100m─\u001b[0m\u001b[38;5;100m─\u001b[0m\u001b[38;5;100m─\u001b[0m\u001b[38;5;100m─\u001b[0m\u001b[38;5;100m─\u001b[0m\u001b[38;5;100m─\u001b[0m   \u001b[38;5;54m─\u001b[0m\u001b[38;5;54m─\u001b[0m\u001b[38;5;54m─\u001b[0m\u001b[38;5;54m─\u001b[0m\u001b[38;5;54m─\u001b[0m\u001b[38;5;54m─\u001b[0m\u001b[38;5;54m─\u001b[0m\u001b[38;5;54m─\u001b[0m\u001b[38;5;54m─\u001b[0m\u001b[38;5;54m─\u001b[0m\u001b[38;5;54m─\u001b[0m\u001b[38;5;54m─\u001b[0m\u001b[38;5;54m─\u001b[0m\u001b[38;5;54m─\u001b[0m\u001b[38;5;54m─\u001b[0m\u001b[38;5;54m┬\u001b[0m\u001b[38;5;54m─\u001b[0m\u001b[38;5;54m─\u001b[0m\u001b[38;5;54m─\u001b[0m\u001b[38;5;54m─\u001b[0m\u001b[38;5;54m─\u001b[0m\u001b[38;5;54m─\u001b[0m\u001b[38;5;54m─\u001b[0m\u001b[38;5;54m─\u001b[0m\u001b[38;5;54m─\u001b[0m\u001b[38;5;54m─\u001b[0m\u001b[38;5;54m─\u001b[0m\u001b[38;5;54m─\u001b[0m\u001b[38;5;54m─\u001b[0m\u001b[38;5;54m─\u001b[0m  ",
      " \u001b[38;5;246m  ·\u001b[0m                             \u001b[38;5;100m╰\u001b[0m\u001b[38;5;100m─\u001b[0m\u001b[38;5;100m─\u001b[0m\u001b[38;5;100m─\u001b[0m\u001b[38;5;100m─\u001b[0m\u001b[38;5;100m─\u001b[0m\u001b[38;5;100m─\u001b[0m\u001b[38;5;100m─\u001b[0m\u001b[38;5;100m─\u001b[0m\u001b[38;5;100m─\u001b[0m\u001b[38;5;100m─\u001b[0m\u001b[38;5;100m─\u001b[0m\u001b[38;5;100m─\u001b[0m\u001b[38;5;100m─\u001b[0m\u001b[38;5;100m─\u001b[0m\u001b[38;5;100m─\u001b[0m\u001b[38;5;100m─\u001b[0m\u001b[38;5;100m─\u001b[0m\u001b[38;5;100m─\u001b[0m\u001b[38;5;100m─\u001b[0m\u001b[38;5;100m─\u001b[0m\u001b[38;5;100m─\u001b[0m\u001b[38;5;100m─\u001b[0m\u001b[38;5;100m─\u001b[0m\u001b[38;5;100m─\u001b[0m\u001b[38;5;100m─\u001b[0m\u001b[38;5;100m─\u001b[0m\u001b[38;5;100m─\u001b[0m\u001b[38;5;100m─\u001b[0m\u001b[38;5;100m─\u001b[0m\u001b[38;5;100m─\u001b[0m\u001b[38;5;100m─\u001b[0m\u001b[38;5;100m─\u001b[0m\u001b[38;5;100m─\u001b[0m\u001b[38;5;100m─\u001b[0m\u001b[38;5;100m─\u001b[0m\u001b[38;5;100m─\u001b[0m\u001b[38;5;100m─\u001b[0m\u001b[38;5;100m─\u001b[0m\u001b[38;5;100m─\u001b[0m\u001b[38;5;100m─\u001b[0m\u001b[38;5;100m─\u001b[0m\u001b[38;5;100m─\u001b[0m expected due to this",
      " \u001b[38;5;246m  ·\u001b[0m                                                       \u001b[38;5;54m│\u001b[0m                ",
      " \u001b[38;5;246m  ·\u001b[0m                                                       \u001b[38;5;54m╰\u001b[0m\u001b[38;5;54m─\u001b[0m\u001b[38;5;54m─\u001b[0m\u001b[38;5;54m─\u001b[0m\u001b[38;5;54m─\u001b[0m\u001b[38;5;54m─\u001b[0m\u001b[38;5;54m─\u001b[0m\u001b[38;5;54m─\u001b[0m\u001b[38;5;54m─\u001b[0m\u001b[38;5;54m─\u001b[0m\u001b[38;5;54m─\u001b[0m\u001b[38;5;54m─\u001b[0m\u001b[38;5;54m─\u001b[0m\u001b[38;5;54m─\u001b[0m\u001b[38;5;54m─\u001b[0m\u001b[38;5;54m─\u001b[0m\u001b[38;5;54m─\u001b[0m expected trait object `dyn FnOnce`, found closure",
      "\u001b[38;5;246m───╯\u001b[0m"
     ]
    },
    {
     "ename": "Error",
     "evalue": "the size for values of type `dyn FnOnce(u32) -> u32` cannot be known at compilation time",
     "output_type": "error",
     "traceback": [
      "\u001b[31m[E0277] Error:\u001b[0m the size for values of type `dyn FnOnce(u32) -> u32` cannot be known at compilation time",
      "   \u001b[38;5;246m╭\u001b[0m\u001b[38;5;246m─\u001b[0m\u001b[38;5;246m[\u001b[0mcommand_14:1:1\u001b[38;5;246m]\u001b[0m",
      "   \u001b[38;5;246m│\u001b[0m",
      " \u001b[38;5;246m3 │\u001b[0m \u001b[38;5;249m \u001b[0m\u001b[38;5;249m \u001b[0m\u001b[38;5;249m \u001b[0m\u001b[38;5;249m \u001b[0m\u001b[38;5;249ml\u001b[0m\u001b[38;5;249me\u001b[0m\u001b[38;5;249mt\u001b[0m\u001b[38;5;249m \u001b[0m\u001b[38;5;54ma\u001b[0m\u001b[38;5;54md\u001b[0m\u001b[38;5;54md\u001b[0m\u001b[38;5;54m_\u001b[0m\u001b[38;5;54mo\u001b[0m\u001b[38;5;54mn\u001b[0m\u001b[38;5;54me\u001b[0m\u001b[38;5;54m_\u001b[0m\u001b[38;5;54mv\u001b[0m\u001b[38;5;54m2\u001b[0m\u001b[38;5;249m:\u001b[0m\u001b[38;5;249m \u001b[0m\u001b[38;5;249mF\u001b[0m\u001b[38;5;249mn\u001b[0m\u001b[38;5;249mO\u001b[0m\u001b[38;5;249mn\u001b[0m\u001b[38;5;249mc\u001b[0m\u001b[38;5;249me\u001b[0m\u001b[38;5;249m(\u001b[0m\u001b[38;5;249mu\u001b[0m\u001b[38;5;249m3\u001b[0m\u001b[38;5;249m2\u001b[0m\u001b[38;5;249m)\u001b[0m\u001b[38;5;249m-\u001b[0m\u001b[38;5;249m>\u001b[0m\u001b[38;5;249mu\u001b[0m\u001b[38;5;249m3\u001b[0m\u001b[38;5;249m2\u001b[0m\u001b[38;5;249m \u001b[0m\u001b[38;5;249m=\u001b[0m\u001b[38;5;249m \u001b[0m\u001b[38;5;249m|\u001b[0m\u001b[38;5;249mx\u001b[0m\u001b[38;5;249m:\u001b[0m\u001b[38;5;249m \u001b[0m\u001b[38;5;249mu\u001b[0m\u001b[38;5;249m3\u001b[0m\u001b[38;5;249m2\u001b[0m\u001b[38;5;249m|\u001b[0m\u001b[38;5;249m \u001b[0m\u001b[38;5;249m-\u001b[0m\u001b[38;5;249m>\u001b[0m\u001b[38;5;249m \u001b[0m\u001b[38;5;249mu\u001b[0m\u001b[38;5;249m3\u001b[0m\u001b[38;5;249m2\u001b[0m\u001b[38;5;249m \u001b[0m\u001b[38;5;249m{\u001b[0m\u001b[38;5;249m \u001b[0m\u001b[38;5;249mx\u001b[0m\u001b[38;5;249m \u001b[0m\u001b[38;5;249m+\u001b[0m\u001b[38;5;249m \u001b[0m\u001b[38;5;249mc\u001b[0m\u001b[38;5;249ma\u001b[0m\u001b[38;5;249mp\u001b[0m\u001b[38;5;249m_\u001b[0m\u001b[38;5;249mv\u001b[0m\u001b[38;5;249ma\u001b[0m\u001b[38;5;249mr\u001b[0m\u001b[38;5;249m}\u001b[0m\u001b[38;5;249m;\u001b[0m",
      " \u001b[38;5;246m  ·\u001b[0m         \u001b[38;5;54m─\u001b[0m\u001b[38;5;54m─\u001b[0m\u001b[38;5;54m─\u001b[0m\u001b[38;5;54m─\u001b[0m\u001b[38;5;54m─\u001b[0m\u001b[38;5;54m┬\u001b[0m\u001b[38;5;54m─\u001b[0m\u001b[38;5;54m─\u001b[0m\u001b[38;5;54m─\u001b[0m\u001b[38;5;54m─\u001b[0m  ",
      " \u001b[38;5;246m  ·\u001b[0m              \u001b[38;5;54m╰\u001b[0m\u001b[38;5;54m─\u001b[0m\u001b[38;5;54m─\u001b[0m\u001b[38;5;54m─\u001b[0m\u001b[38;5;54m─\u001b[0m\u001b[38;5;54m─\u001b[0m\u001b[38;5;54m─\u001b[0m doesn't have a size known at compile-time",
      "\u001b[38;5;246m───╯\u001b[0m"
     ]
    }
   ],
   "source": [
    "{\n",
    "    let cap_var = 300; \n",
    "    let add_one_v2: FnOnce(u32)->u32 = |x: u32| -> u32 { x + cap_var};\n",
    "    \n",
    "    println!(\" {} \", add_one_v2(100));\n",
    "    \n",
    "};"
   ]
  },
  {
   "cell_type": "markdown",
   "id": "d87acb43",
   "metadata": {},
   "source": [
    "### move 키워드로 캡처값의 소유권을 강제로 갖기"
   ]
  },
  {
   "cell_type": "code",
   "execution_count": 18,
   "id": "38aca3df",
   "metadata": {},
   "outputs": [],
   "source": [
    "use std::any::type_name;\n",
    "\n",
    "fn type_of<T>(_: T) -> &'static str {\n",
    "    type_name::<T>()\n",
    "}"
   ]
  },
  {
   "cell_type": "code",
   "execution_count": 22,
   "id": "706346ec",
   "metadata": {},
   "outputs": [],
   "source": [
    "fn main() {\n",
    "    let x = vec![1, 2, 3];\n",
    "\n",
    "    let equal_to_x = move |z| z == x;\n",
    "\n",
    "    println!(\"{:?}\", type_of(&equal_to_x));\n",
    "\n",
    "    let y = vec![1, 2, 3];\n",
    "\n",
    "    assert!(equal_to_x(y));\n",
    "}"
   ]
  },
  {
   "cell_type": "code",
   "execution_count": 23,
   "id": "b366dbe2",
   "metadata": {},
   "outputs": [
    {
     "name": "stdout",
     "output_type": "stream",
     "text": [
      "\"&ctx::main::{{closure}}\"\n"
     ]
    },
    {
     "data": {
      "text/plain": [
       "()"
      ]
     },
     "execution_count": 23,
     "metadata": {},
     "output_type": "execute_result"
    }
   ],
   "source": [
    "main()"
   ]
  },
  {
   "cell_type": "markdown",
   "id": "b50b7092",
   "metadata": {},
   "source": [
    "### 함수의 매개변수로 처리할 때 \n",
    "\n",
    "- 표준 라이브러리는 Fn, FnMut, FnOnce 트레잇을 제공하고 모든 클로저는 이 트레잇 중 하나를 구현한다.\n",
    "\n",
    "\n",
    "\n",
    "- impl FnOnce 트레이트로 정의"
   ]
  },
  {
   "cell_type": "code",
   "execution_count": 14,
   "id": "1ba4027d",
   "metadata": {},
   "outputs": [
    {
     "name": "stdout",
     "output_type": "stream",
     "text": [
      "foobar\n"
     ]
    }
   ],
   "source": [
    "fn f(g: impl FnOnce() -> String) {\n",
    "    println!(\"{}\", g());\n",
    "}\n",
    "\n",
    "let mut s = String::from(\"foo\");\n",
    "let t = String::from(\"bar\");\n",
    "\n",
    "f(|| {\n",
    "    s += &t;\n",
    "    s\n",
    "});"
   ]
  },
  {
   "cell_type": "markdown",
   "id": "429bbeb6",
   "metadata": {},
   "source": [
    "## 1-3 클로저 축약형으로 작성하기 \n",
    "\n",
    "- 클로저를 정의할 때 매개변수의 자료형이나 반환값 등을 생략할 수 있다.\n",
    "- 또한 한줄만 본문이 작성할 경우는 중괄호도 생략이 가능하다"
   ]
  },
  {
   "cell_type": "markdown",
   "id": "9b76dd7d",
   "metadata": {},
   "source": [
    "### 함수와 클러저 정의 알아보기\n",
    "\n",
    "- 함수 정의를 클로저로 변경하기\n",
    "- 클로저는 이름이 없어서 활용하려면 변수에 할당해서 사용한다. "
   ]
  },
  {
   "cell_type": "code",
   "execution_count": 31,
   "id": "93663d64",
   "metadata": {},
   "outputs": [],
   "source": [
    "fn main() {\n",
    "    fn  add_one_v1   (x: u32) -> u32 { x + 1 }   // 함수 정의 \n",
    "    \n",
    "    let add_one_v2 = |x: u32| -> u32 { x + 1 };  // 클로저 정의 \n",
    "    let add_one_v3 = |x|             { x + 1 };  // 클로저 정의 : 타입 에노테이션 생략 \n",
    "    let add_one_v4 = |x|               x + 1  ;  // 하나의 문장이라 표현식으로 지정 \n",
    "    println!(\" add_one_v1 {} \", add_one_v1(100));\n",
    "    println!(\" add_one_v2 {} \", add_one_v2(100));\n",
    "    println!(\" add_one_v3 {} \", add_one_v3(100));\n",
    "    println!(\" add_one_v4 {} \", add_one_v4(100));\n",
    "}"
   ]
  },
  {
   "cell_type": "code",
   "execution_count": 32,
   "id": "74af10a4",
   "metadata": {},
   "outputs": [
    {
     "name": "stdout",
     "output_type": "stream",
     "text": [
      " add_one_v1 101 \n",
      " add_one_v2 101 \n",
      " add_one_v3 101 \n",
      " add_one_v4 101 \n"
     ]
    },
    {
     "data": {
      "text/plain": [
       "()"
      ]
     },
     "execution_count": 32,
     "metadata": {},
     "output_type": "execute_result"
    }
   ],
   "source": [
    "main()"
   ]
  },
  {
   "cell_type": "markdown",
   "id": "e8cdd7e1",
   "metadata": {},
   "source": [
    "### 클로저의 매개변수에 자료형 지정하기\n",
    "- 매개변수의 자료형이 불명확할 때는 반드시 지정해줘야 한다. "
   ]
  },
  {
   "cell_type": "code",
   "execution_count": 35,
   "id": "33509dda",
   "metadata": {},
   "outputs": [],
   "source": [
    "fn main() {\n",
    "    let c  = |x:u32| {x+x};\n",
    "\n",
    "    println!(\" {} \",c(10))\n",
    "}"
   ]
  },
  {
   "cell_type": "code",
   "execution_count": 36,
   "id": "6f335f8c",
   "metadata": {},
   "outputs": [
    {
     "name": "stdout",
     "output_type": "stream",
     "text": [
      " 20 \n"
     ]
    },
    {
     "data": {
      "text/plain": [
       "()"
      ]
     },
     "execution_count": 36,
     "metadata": {},
     "output_type": "execute_result"
    }
   ],
   "source": [
    "main()"
   ]
  },
  {
   "cell_type": "markdown",
   "id": "06c9d748",
   "metadata": {},
   "source": [
    "## 1-4 구조체 내부에 클로저 정의하기"
   ]
  },
  {
   "cell_type": "markdown",
   "id": "5a309a5a",
   "metadata": {},
   "source": [
    "### 두 개의 클로저를 정의하고 하나를 다른 클로저에서 처리하기 "
   ]
  },
  {
   "cell_type": "code",
   "execution_count": 2,
   "id": "e72fdd45",
   "metadata": {},
   "outputs": [],
   "source": [
    "fn main() {\n",
    "    let c  = |x:u32| {x+x};\n",
    "    let d  = |y| c(y);\n",
    "\n",
    "    println!(\" {} \",d(10))\n",
    "}"
   ]
  },
  {
   "cell_type": "code",
   "execution_count": 4,
   "id": "43083368",
   "metadata": {},
   "outputs": [
    {
     "name": "stdout",
     "output_type": "stream",
     "text": [
      " 20 \n"
     ]
    }
   ],
   "source": [
    "main();"
   ]
  },
  {
   "cell_type": "markdown",
   "id": "6f6c8fa2",
   "metadata": {},
   "source": [
    "### 클로저를 반환할 때는 캡처된 변수를 이동시키기"
   ]
  },
  {
   "cell_type": "code",
   "execution_count": 7,
   "id": "0f4c04f4",
   "metadata": {},
   "outputs": [],
   "source": [
    "fn main() {\n",
    "    \n",
    "    let d  = |y| {move |x| x+y};\n",
    "\n",
    "    println!(\" {} \",d(10)(20))\n",
    "}"
   ]
  },
  {
   "cell_type": "code",
   "execution_count": 8,
   "id": "4bb369f4",
   "metadata": {},
   "outputs": [
    {
     "name": "stdout",
     "output_type": "stream",
     "text": [
      " 30 \n"
     ]
    }
   ],
   "source": [
    "main();"
   ]
  },
  {
   "cell_type": "code",
   "execution_count": null,
   "id": "4bdde616",
   "metadata": {},
   "outputs": [],
   "source": []
  },
  {
   "cell_type": "markdown",
   "id": "506ce715",
   "metadata": {},
   "source": [
    "## 1-5 스마트 포인터로 클로저 반환하기 "
   ]
  },
  {
   "cell_type": "code",
   "execution_count": null,
   "id": "7113a16e",
   "metadata": {},
   "outputs": [],
   "source": []
  },
  {
   "cell_type": "code",
   "execution_count": 13,
   "id": "5aa4299f",
   "metadata": {},
   "outputs": [],
   "source": [
    "let f: Box<dyn Fn()> = Box::new(|| {println!(\"foo\")});"
   ]
  },
  {
   "cell_type": "code",
   "execution_count": 14,
   "id": "21953e01",
   "metadata": {},
   "outputs": [
    {
     "name": "stdout",
     "output_type": "stream",
     "text": [
      "foo\n"
     ]
    },
    {
     "data": {
      "text/plain": [
       "()"
      ]
     },
     "execution_count": 14,
     "metadata": {},
     "output_type": "execute_result"
    }
   ],
   "source": [
    "f()"
   ]
  },
  {
   "cell_type": "code",
   "execution_count": 15,
   "id": "9d58a934",
   "metadata": {},
   "outputs": [],
   "source": [
    "let fc: Box<dyn Fn(u32)> = Box::new(|x| {println!(\"foo {}\",x)});"
   ]
  },
  {
   "cell_type": "code",
   "execution_count": 16,
   "id": "ebc66635",
   "metadata": {},
   "outputs": [
    {
     "name": "stdout",
     "output_type": "stream",
     "text": [
      "foo 100\n"
     ]
    },
    {
     "data": {
      "text/plain": [
       "()"
      ]
     },
     "execution_count": 16,
     "metadata": {},
     "output_type": "execute_result"
    }
   ],
   "source": [
    "fc(100)"
   ]
  },
  {
   "cell_type": "code",
   "execution_count": 17,
   "id": "60ef69dc",
   "metadata": {},
   "outputs": [],
   "source": [
    "let fc: Box<dyn Fn(u32,u32)> = Box::new(|x,y| {println!(\"foo {}\",x+y)});"
   ]
  },
  {
   "cell_type": "code",
   "execution_count": 18,
   "id": "6256fc8e",
   "metadata": {},
   "outputs": [
    {
     "name": "stdout",
     "output_type": "stream",
     "text": [
      "foo 300\n"
     ]
    },
    {
     "data": {
      "text/plain": [
       "()"
      ]
     },
     "execution_count": 18,
     "metadata": {},
     "output_type": "execute_result"
    }
   ],
   "source": [
    "fc(100,200)"
   ]
  },
  {
   "cell_type": "code",
   "execution_count": null,
   "id": "bc4b44c0",
   "metadata": {},
   "outputs": [],
   "source": []
  },
  {
   "cell_type": "code",
   "execution_count": 28,
   "id": "62b70779",
   "metadata": {},
   "outputs": [],
   "source": [
    "pub fn make_quadratic(a: f64, b: f64, c: f64) -> impl Fn(f64) -> f64 {\n",
    "    move |x| a*x*x + b*x + c\n",
    "}"
   ]
  },
  {
   "cell_type": "code",
   "execution_count": null,
   "id": "b7968754",
   "metadata": {},
   "outputs": [],
   "source": []
  },
  {
   "cell_type": "code",
   "execution_count": 36,
   "id": "4a4f3a36",
   "metadata": {},
   "outputs": [
    {
     "ename": "Error",
     "evalue": "`impl Trait` only allowed in function and inherent method return types, not in variable binding",
     "output_type": "error",
     "traceback": [
      "\u001b[31m[E0562] Error:\u001b[0m `impl Trait` only allowed in function and inherent method return types, not in variable binding",
      "   \u001b[38;5;246m╭\u001b[0m\u001b[38;5;246m─\u001b[0m\u001b[38;5;246m[\u001b[0mcommand_36:1:1\u001b[38;5;246m]\u001b[0m",
      "   \u001b[38;5;246m│\u001b[0m",
      " \u001b[38;5;246m2 │\u001b[0m \u001b[38;5;249m \u001b[0m\u001b[38;5;249m \u001b[0m\u001b[38;5;249m \u001b[0m\u001b[38;5;249m \u001b[0m\u001b[38;5;249ml\u001b[0m\u001b[38;5;249me\u001b[0m\u001b[38;5;249mt\u001b[0m\u001b[38;5;249m \u001b[0m\u001b[38;5;249mq\u001b[0m\u001b[38;5;249mu\u001b[0m\u001b[38;5;249ma\u001b[0m\u001b[38;5;249md\u001b[0m\u001b[38;5;249m_\u001b[0m\u001b[38;5;249mf\u001b[0m\u001b[38;5;249mn\u001b[0m\u001b[38;5;249m:\u001b[0m\u001b[38;5;249m \u001b[0m\u001b[38;5;54mi\u001b[0m\u001b[38;5;54mm\u001b[0m\u001b[38;5;54mp\u001b[0m\u001b[38;5;54ml\u001b[0m\u001b[38;5;54m \u001b[0m\u001b[38;5;54mF\u001b[0m\u001b[38;5;54mn\u001b[0m\u001b[38;5;54m(\u001b[0m\u001b[38;5;54mf\u001b[0m\u001b[38;5;54m6\u001b[0m\u001b[38;5;54m4\u001b[0m\u001b[38;5;54m)\u001b[0m\u001b[38;5;54m \u001b[0m\u001b[38;5;54m-\u001b[0m\u001b[38;5;54m>\u001b[0m\u001b[38;5;54m \u001b[0m\u001b[38;5;54mf\u001b[0m\u001b[38;5;54m6\u001b[0m\u001b[38;5;54m4\u001b[0m\u001b[38;5;249m \u001b[0m\u001b[38;5;249m=\u001b[0m\u001b[38;5;249m \u001b[0m\u001b[38;5;249mm\u001b[0m\u001b[38;5;249ma\u001b[0m\u001b[38;5;249mk\u001b[0m\u001b[38;5;249me\u001b[0m\u001b[38;5;249m_\u001b[0m\u001b[38;5;249mq\u001b[0m\u001b[38;5;249mu\u001b[0m\u001b[38;5;249ma\u001b[0m\u001b[38;5;249md\u001b[0m\u001b[38;5;249mr\u001b[0m\u001b[38;5;249ma\u001b[0m\u001b[38;5;249mt\u001b[0m\u001b[38;5;249mi\u001b[0m\u001b[38;5;249mc\u001b[0m\u001b[38;5;249m(\u001b[0m\u001b[38;5;249m5\u001b[0m\u001b[38;5;249m.\u001b[0m\u001b[38;5;249m0\u001b[0m\u001b[38;5;249m,\u001b[0m\u001b[38;5;249m \u001b[0m\u001b[38;5;249m4\u001b[0m\u001b[38;5;249m.\u001b[0m\u001b[38;5;249m0\u001b[0m\u001b[38;5;249m,\u001b[0m\u001b[38;5;249m \u001b[0m\u001b[38;5;249m3\u001b[0m\u001b[38;5;249m.\u001b[0m\u001b[38;5;249m0\u001b[0m\u001b[38;5;249m)\u001b[0m\u001b[38;5;249m;\u001b[0m",
      " \u001b[38;5;246m  ·\u001b[0m                  \u001b[38;5;54m─\u001b[0m\u001b[38;5;54m─\u001b[0m\u001b[38;5;54m─\u001b[0m\u001b[38;5;54m─\u001b[0m\u001b[38;5;54m─\u001b[0m\u001b[38;5;54m─\u001b[0m\u001b[38;5;54m─\u001b[0m\u001b[38;5;54m─\u001b[0m\u001b[38;5;54m─\u001b[0m\u001b[38;5;54m┬\u001b[0m\u001b[38;5;54m─\u001b[0m\u001b[38;5;54m─\u001b[0m\u001b[38;5;54m─\u001b[0m\u001b[38;5;54m─\u001b[0m\u001b[38;5;54m─\u001b[0m\u001b[38;5;54m─\u001b[0m\u001b[38;5;54m─\u001b[0m\u001b[38;5;54m─\u001b[0m\u001b[38;5;54m─\u001b[0m  ",
      " \u001b[38;5;246m  ·\u001b[0m                           \u001b[38;5;54m╰\u001b[0m\u001b[38;5;54m─\u001b[0m\u001b[38;5;54m─\u001b[0m\u001b[38;5;54m─\u001b[0m\u001b[38;5;54m─\u001b[0m\u001b[38;5;54m─\u001b[0m\u001b[38;5;54m─\u001b[0m\u001b[38;5;54m─\u001b[0m\u001b[38;5;54m─\u001b[0m\u001b[38;5;54m─\u001b[0m\u001b[38;5;54m─\u001b[0m\u001b[38;5;54m─\u001b[0m error: `impl Trait` only allowed in function and inherent method return types, not in variable binding",
      "\u001b[38;5;246m───╯\u001b[0m"
     ]
    }
   ],
   "source": [
    "{ \n",
    "    let quad_fn: impl Fn(f64) -> f64 = make_quadratic(5.0, 4.0, 3.0);\n",
    "           //error: `impl Trait` only allowed in function and inherent method return types\n",
    "    println!(\"{}\", type_of(&quad_fn));\n",
    "}"
   ]
  },
  {
   "cell_type": "code",
   "execution_count": 35,
   "id": "6baa060f",
   "metadata": {},
   "outputs": [
    {
     "name": "stdout",
     "output_type": "stream",
     "text": [
      "&ctx::make_quadratic::{{closure}}\n"
     ]
    },
    {
     "data": {
      "text/plain": [
       "()"
      ]
     },
     "execution_count": 35,
     "metadata": {},
     "output_type": "execute_result"
    }
   ],
   "source": [
    "{ \n",
    "    let quad_fn = make_quadratic(5.0, 4.0, 3.0);\n",
    "    \n",
    "    println!(\"{}\", type_of(&quad_fn));\n",
    "}"
   ]
  },
  {
   "cell_type": "code",
   "execution_count": 29,
   "id": "29580d59",
   "metadata": {},
   "outputs": [],
   "source": [
    "pub fn call_make_quadratic(x: f64) -> f64 {\n",
    "    let quad_fn = make_quadratic(5.0, 4.0, 3.0);\n",
    "    quad_fn(x) \n",
    "}"
   ]
  },
  {
   "cell_type": "code",
   "execution_count": 30,
   "id": "a13c8f57",
   "metadata": {},
   "outputs": [
    {
     "data": {
      "text/plain": [
       "543.0"
      ]
     },
     "execution_count": 30,
     "metadata": {},
     "output_type": "execute_result"
    }
   ],
   "source": [
    "call_make_quadratic(10.0)"
   ]
  },
  {
   "cell_type": "code",
   "execution_count": null,
   "id": "16c526f4",
   "metadata": {},
   "outputs": [],
   "source": []
  },
  {
   "cell_type": "code",
   "execution_count": null,
   "id": "f4783dd5",
   "metadata": {},
   "outputs": [],
   "source": []
  },
  {
   "cell_type": "code",
   "execution_count": 32,
   "id": "343dd8f6",
   "metadata": {},
   "outputs": [],
   "source": [
    "pub fn make_quadratic_box(a: f64, b: f64, c: f64) -> Box<dyn Fn(f64) -> f64> {\n",
    "    Box::new(make_quadratic(a, b, c))\n",
    "}"
   ]
  },
  {
   "cell_type": "code",
   "execution_count": 33,
   "id": "4deb86ab",
   "metadata": {},
   "outputs": [],
   "source": [
    "pub fn make_quadratic_no_capture() -> impl Fn(f64) -> f64 {\n",
    "    |x| 42.0*x*x + 84.0*x + 0.0\n",
    "}"
   ]
  },
  {
   "cell_type": "code",
   "execution_count": 34,
   "id": "bb42e89f",
   "metadata": {},
   "outputs": [],
   "source": [
    "pub fn make_quadratic_box_no_capture() -> Box<dyn Fn(f64) -> f64> {\n",
    "    Box::new(make_quadratic_no_capture())\n",
    "}"
   ]
  },
  {
   "cell_type": "code",
   "execution_count": null,
   "id": "42444f65",
   "metadata": {},
   "outputs": [],
   "source": []
  },
  {
   "cell_type": "code",
   "execution_count": 63,
   "id": "2f6e051c",
   "metadata": {},
   "outputs": [],
   "source": [
    "fn main() {\n",
    "    let x = 100; \n",
    "    fn add() {}\n",
    "    let v_char = vec!['A','c','e'];\n",
    "    let v_num = vec![1,2];\n",
    "    let clo :fn()->u32 = || {100 };\n",
    "    let fun : fn() = add;\n",
    "    let clo_mo : Box<dyn Fn() -> i32> = Box::new(move || { 100 + x});\n",
    "\n",
    "    print_variable_type(&v_char);\n",
    "    print_variable_type(&v_char[0]);\n",
    "    print_variable_type(&v_num[0]);   \n",
    "    print_variable_type(&clo);  \n",
    "    print_variable_type(&fun); \n",
    "    print_variable_type(&clo_mo);\n",
    "}\n",
    "\n",
    "fn print_variable_type<K: ?Sized>(_: &K) {\n",
    "    println!(\"{:?}\", std::any::type_name::<K>())\n",
    "}"
   ]
  },
  {
   "cell_type": "code",
   "execution_count": 64,
   "id": "34ac075a",
   "metadata": {},
   "outputs": [
    {
     "name": "stdout",
     "output_type": "stream",
     "text": [
      "\"alloc::vec::Vec<char>\"\n",
      "\"char\"\n",
      "\"i32\"\n",
      "\"fn() -> u32\"\n",
      "\"fn()\"\n",
      "\"alloc::boxed::Box<dyn core::ops::function::Fn<()>+Output = i32>\"\n"
     ]
    },
    {
     "data": {
      "text/plain": [
       "()"
      ]
     },
     "execution_count": 64,
     "metadata": {},
     "output_type": "execute_result"
    }
   ],
   "source": [
    "main()"
   ]
  },
  {
   "cell_type": "code",
   "execution_count": null,
   "id": "75db5bec",
   "metadata": {},
   "outputs": [],
   "source": []
  }
 ],
 "metadata": {
  "kernelspec": {
   "display_name": "Rust",
   "language": "rust",
   "name": "rust"
  },
  "language_info": {
   "codemirror_mode": "rust",
   "file_extension": ".rs",
   "mimetype": "text/rust",
   "name": "Rust",
   "pygment_lexer": "rust",
   "version": ""
  }
 },
 "nbformat": 4,
 "nbformat_minor": 5
}
