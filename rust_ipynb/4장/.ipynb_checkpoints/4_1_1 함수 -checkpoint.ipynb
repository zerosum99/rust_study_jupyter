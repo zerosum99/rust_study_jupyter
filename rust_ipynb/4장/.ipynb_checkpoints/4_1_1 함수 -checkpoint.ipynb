{
 "cells": [
  {
   "cell_type": "code",
   "execution_count": null,
   "id": "95f6aaa6",
   "metadata": {},
   "outputs": [],
   "source": []
  },
  {
   "cell_type": "markdown",
   "id": "f888a170",
   "metadata": {},
   "source": [
    "#  1. 함수 정의 "
   ]
  },
  {
   "cell_type": "markdown",
   "id": "db7298c1",
   "metadata": {},
   "source": [
    "## 1-1 함수 정의  및 호출 \n",
    "\n",
    "- 예약어 fn \n",
    "- 함수명은 스테이크 표기법에 따라 전체 단어를 소문자로 사용하고 두 문자일 경우는 밑줄로 연결\n",
    "- 함수명 다음에는 입력이 될 매개변수 정의 : 매개변수는 반드시 자료형을 지정해야 한다.\n",
    "- 매개변수 다음에는 반환값 지정 \n",
    "- 함수 본문은 중괄호 내부에 정의"
   ]
  },
  {
   "cell_type": "markdown",
   "id": "15fb7d4b",
   "metadata": {},
   "source": [
    "### 매개변수와 반환값이 없는 함수 정의 "
   ]
  },
  {
   "cell_type": "code",
   "execution_count": 2,
   "id": "0150ed62",
   "metadata": {},
   "outputs": [],
   "source": [
    "fn add() {\n",
    "    println!(\" {} \", 100+200);\n",
    "}"
   ]
  },
  {
   "cell_type": "code",
   "execution_count": 3,
   "id": "0429b03a",
   "metadata": {},
   "outputs": [
    {
     "name": "stdout",
     "output_type": "stream",
     "text": [
      " 300 \n"
     ]
    },
    {
     "data": {
      "text/plain": [
       "()"
      ]
     },
     "execution_count": 3,
     "metadata": {},
     "output_type": "execute_result"
    }
   ],
   "source": [
    "add()"
   ]
  },
  {
   "cell_type": "markdown",
   "id": "9ec1ad93",
   "metadata": {},
   "source": [
    "### 아무런 반환값이 없다는 것은 빈튜플로 반환하는 것이다. "
   ]
  },
  {
   "cell_type": "code",
   "execution_count": 4,
   "id": "ee617c0f",
   "metadata": {},
   "outputs": [],
   "source": [
    "fn add1() -> () {\n",
    "    println!(\" {} \", 100+200);\n",
    "}"
   ]
  },
  {
   "cell_type": "code",
   "execution_count": 5,
   "id": "16fde170",
   "metadata": {},
   "outputs": [
    {
     "name": "stdout",
     "output_type": "stream",
     "text": [
      " 300 \n"
     ]
    },
    {
     "data": {
      "text/plain": [
       "()"
      ]
     },
     "execution_count": 5,
     "metadata": {},
     "output_type": "execute_result"
    }
   ],
   "source": [
    "add1()"
   ]
  },
  {
   "cell_type": "code",
   "execution_count": null,
   "id": "222f1e70",
   "metadata": {},
   "outputs": [],
   "source": []
  },
  {
   "cell_type": "code",
   "execution_count": 11,
   "id": "134ff726",
   "metadata": {},
   "outputs": [],
   "source": [
    "fn add3(x: i32, y:i32) -> i32 {\n",
    "    x +y \n",
    "}"
   ]
  },
  {
   "cell_type": "code",
   "execution_count": 12,
   "id": "be96ac37",
   "metadata": {},
   "outputs": [
    {
     "data": {
      "text/plain": [
       "300"
      ]
     },
     "execution_count": 12,
     "metadata": {},
     "output_type": "execute_result"
    }
   ],
   "source": [
    "add3(100,200)"
   ]
  },
  {
   "cell_type": "code",
   "execution_count": null,
   "id": "aed7092a",
   "metadata": {},
   "outputs": [],
   "source": []
  },
  {
   "cell_type": "markdown",
   "id": "84e23917",
   "metadata": {},
   "source": [
    "## 1-2. 다른 함수에서 함수 호출 하기"
   ]
  },
  {
   "cell_type": "code",
   "execution_count": null,
   "id": "09e83773",
   "metadata": {},
   "outputs": [],
   "source": []
  },
  {
   "cell_type": "markdown",
   "id": "3973d5e0",
   "metadata": {},
   "source": [
    "### 메인함수에서 다른 함수 실행 "
   ]
  },
  {
   "cell_type": "code",
   "execution_count": 2,
   "id": "69f1b82d",
   "metadata": {},
   "outputs": [],
   "source": [
    "fn main() {\n",
    "    println!(\"Hello, world!\");\n",
    "\n",
    "    another_function();\n",
    "}\n",
    "\n",
    "fn another_function() {\n",
    "    println!(\"Another function.\");\n",
    "}"
   ]
  },
  {
   "cell_type": "code",
   "execution_count": 3,
   "id": "fb5e565a",
   "metadata": {},
   "outputs": [
    {
     "name": "stdout",
     "output_type": "stream",
     "text": [
      "Hello, world!\n",
      "Another function.\n"
     ]
    },
    {
     "data": {
      "text/plain": [
       "()"
      ]
     },
     "execution_count": 3,
     "metadata": {},
     "output_type": "execute_result"
    }
   ],
   "source": [
    "main()"
   ]
  },
  {
   "cell_type": "code",
   "execution_count": null,
   "id": "f024b94d",
   "metadata": {},
   "outputs": [],
   "source": []
  },
  {
   "cell_type": "markdown",
   "id": "1ccaf5c4",
   "metadata": {},
   "source": [
    "## 매개변수 "
   ]
  },
  {
   "cell_type": "code",
   "execution_count": 4,
   "id": "40ccbe94",
   "metadata": {},
   "outputs": [],
   "source": [
    "fn main() {\n",
    "    another_function(5);\n",
    "}\n",
    "\n",
    "fn another_function(x: i32) {\n",
    "    println!(\"The value of x is: {}\", x);\n",
    "}"
   ]
  },
  {
   "cell_type": "code",
   "execution_count": 5,
   "id": "d089e38d",
   "metadata": {},
   "outputs": [
    {
     "name": "stdout",
     "output_type": "stream",
     "text": [
      "The value of x is: 5\n"
     ]
    },
    {
     "data": {
      "text/plain": [
       "()"
      ]
     },
     "execution_count": 5,
     "metadata": {},
     "output_type": "execute_result"
    }
   ],
   "source": [
    "main()"
   ]
  },
  {
   "cell_type": "code",
   "execution_count": null,
   "id": "6825563c",
   "metadata": {},
   "outputs": [],
   "source": []
  },
  {
   "cell_type": "code",
   "execution_count": null,
   "id": "f6caea6a",
   "metadata": {},
   "outputs": [],
   "source": []
  },
  {
   "cell_type": "code",
   "execution_count": 6,
   "id": "c7908f62",
   "metadata": {},
   "outputs": [],
   "source": [
    "fn main() {\n",
    "    another_function(5, 6);\n",
    "}\n",
    "\n",
    "fn another_function(x: i32, y: i32) {\n",
    "    println!(\"The value of x is: {}\", x);\n",
    "    println!(\"The value of y is: {}\", y);\n",
    "}"
   ]
  },
  {
   "cell_type": "code",
   "execution_count": 7,
   "id": "19fac35c",
   "metadata": {},
   "outputs": [
    {
     "name": "stdout",
     "output_type": "stream",
     "text": [
      "The value of x is: 5\n",
      "The value of y is: 6\n"
     ]
    },
    {
     "data": {
      "text/plain": [
       "()"
      ]
     },
     "execution_count": 7,
     "metadata": {},
     "output_type": "execute_result"
    }
   ],
   "source": [
    "main()"
   ]
  },
  {
   "cell_type": "code",
   "execution_count": 8,
   "id": "cbd127d7",
   "metadata": {},
   "outputs": [
    {
     "name": "stdout",
     "output_type": "stream",
     "text": [
      "The value of x is: 5\n",
      "The value of y is: 6\n"
     ]
    }
   ],
   "source": [
    "another_function(5, 6);"
   ]
  },
  {
   "cell_type": "code",
   "execution_count": null,
   "id": "2cfeff96",
   "metadata": {},
   "outputs": [],
   "source": []
  },
  {
   "cell_type": "code",
   "execution_count": null,
   "id": "537ae135",
   "metadata": {},
   "outputs": [],
   "source": []
  },
  {
   "cell_type": "markdown",
   "id": "ecea8b00",
   "metadata": {},
   "source": [
    "##  1-3 반환 처리 \n",
    "\n",
    "- return 반환처리 "
   ]
  },
  {
   "cell_type": "code",
   "execution_count": 18,
   "id": "1161aa55",
   "metadata": {},
   "outputs": [],
   "source": [
    "fn value() -> i32 {\n",
    "    let i = 100;\n",
    "    return i\n",
    "}"
   ]
  },
  {
   "cell_type": "code",
   "execution_count": 19,
   "id": "31fa58e5",
   "metadata": {},
   "outputs": [
    {
     "data": {
      "text/plain": [
       "100"
      ]
     },
     "execution_count": 19,
     "metadata": {},
     "output_type": "execute_result"
    }
   ],
   "source": [
    "value()"
   ]
  },
  {
   "cell_type": "markdown",
   "id": "4b53ccd6",
   "metadata": {},
   "source": [
    "## 표현식으로 반환처리 "
   ]
  },
  {
   "cell_type": "code",
   "execution_count": 16,
   "id": "c3539131",
   "metadata": {},
   "outputs": [],
   "source": [
    "fn five() -> i32 {\n",
    "    5\n",
    "}\n",
    "\n",
    "fn main() {\n",
    "    let x = five();\n",
    "\n",
    "    println!(\"The value of x is: {}\", x);\n",
    "}"
   ]
  },
  {
   "cell_type": "code",
   "execution_count": 17,
   "id": "58381a1c",
   "metadata": {},
   "outputs": [
    {
     "name": "stdout",
     "output_type": "stream",
     "text": [
      "The value of x is: 5\n"
     ]
    },
    {
     "data": {
      "text/plain": [
       "()"
      ]
     },
     "execution_count": 17,
     "metadata": {},
     "output_type": "execute_result"
    }
   ],
   "source": [
    "main()"
   ]
  },
  {
   "cell_type": "markdown",
   "id": "1f7989bc",
   "metadata": {},
   "source": [
    "## 매개변수와 반환처리 "
   ]
  },
  {
   "cell_type": "code",
   "execution_count": 20,
   "id": "5dffe5c9",
   "metadata": {},
   "outputs": [],
   "source": [
    "fn main() {\n",
    "    let x = plus_one(5);\n",
    "\n",
    "    println!(\"The value of x is: {}\", x);\n",
    "}\n",
    "\n",
    "fn plus_one(x: i32) -> i32 {\n",
    "    x + 1\n",
    "}"
   ]
  },
  {
   "cell_type": "code",
   "execution_count": 21,
   "id": "423e7ced",
   "metadata": {},
   "outputs": [
    {
     "name": "stdout",
     "output_type": "stream",
     "text": [
      "The value of x is: 6\n"
     ]
    },
    {
     "data": {
      "text/plain": [
       "()"
      ]
     },
     "execution_count": 21,
     "metadata": {},
     "output_type": "execute_result"
    }
   ],
   "source": [
    "main()"
   ]
  },
  {
   "cell_type": "code",
   "execution_count": null,
   "id": "5f028e1c",
   "metadata": {},
   "outputs": [],
   "source": []
  },
  {
   "cell_type": "markdown",
   "id": "c2f881fc",
   "metadata": {},
   "source": [
    "## 함수에 함수 매개변수 처리 "
   ]
  },
  {
   "cell_type": "code",
   "execution_count": 2,
   "id": "c8966ce2",
   "metadata": {},
   "outputs": [],
   "source": [
    "fn add_one(x: i32) -> i32 {\n",
    "    x + 1\n",
    "}\n",
    "\n",
    "fn do_twice(f: fn(i32) -> i32, arg: i32) -> i32 {\n",
    "    f(arg) + f(arg)\n",
    "}\n",
    "\n",
    "fn main() {\n",
    "    let answer = do_twice(add_one, 5);\n",
    "\n",
    "    println!(\"The answer is: {}\", answer);\n",
    "}"
   ]
  },
  {
   "cell_type": "code",
   "execution_count": 3,
   "id": "7dd64713",
   "metadata": {},
   "outputs": [
    {
     "name": "stdout",
     "output_type": "stream",
     "text": [
      "The answer is: 12\n"
     ]
    },
    {
     "data": {
      "text/plain": [
       "()"
      ]
     },
     "execution_count": 3,
     "metadata": {},
     "output_type": "execute_result"
    }
   ],
   "source": [
    "main()"
   ]
  },
  {
   "cell_type": "markdown",
   "id": "05e34ce4",
   "metadata": {},
   "source": [
    "###  변수에 할당 "
   ]
  },
  {
   "cell_type": "code",
   "execution_count": 6,
   "id": "b3936afc",
   "metadata": {},
   "outputs": [],
   "source": [
    "fn add_two(mut x : i32) -> i32 {\n",
    "    x = x + 2;\n",
    "    x\n",
    "}\n",
    "\n",
    "fn main() {\n",
    "    let mut x = 100;\n",
    "    let answer = add_two(x);\n",
    "\n",
    "    println!(\"The answer is: {}\", answer);\n",
    "}"
   ]
  },
  {
   "cell_type": "code",
   "execution_count": 7,
   "id": "607b04e3",
   "metadata": {},
   "outputs": [
    {
     "name": "stdout",
     "output_type": "stream",
     "text": [
      "The answer is: 102\n"
     ]
    },
    {
     "data": {
      "text/plain": [
       "()"
      ]
     },
     "execution_count": 7,
     "metadata": {},
     "output_type": "execute_result"
    }
   ],
   "source": [
    "main()"
   ]
  },
  {
   "cell_type": "code",
   "execution_count": null,
   "id": "301ca6a1",
   "metadata": {},
   "outputs": [],
   "source": []
  },
  {
   "cell_type": "code",
   "execution_count": 8,
   "id": "5e5ae2c4",
   "metadata": {},
   "outputs": [],
   "source": [
    "fn add_three(x : &i32) -> i32 {\n",
    "    let mut y = *x;\n",
    "    y+ 3\n",
    "}\n",
    "\n",
    "fn main() {\n",
    "    let x = 200;\n",
    "    let answer = add_three(&x);\n",
    "\n",
    "    println!(\"The answer is: {}\", answer);\n",
    "}"
   ]
  },
  {
   "cell_type": "code",
   "execution_count": 9,
   "id": "45c21893",
   "metadata": {},
   "outputs": [
    {
     "name": "stdout",
     "output_type": "stream",
     "text": [
      "The answer is: 203\n"
     ]
    },
    {
     "data": {
      "text/plain": [
       "()"
      ]
     },
     "execution_count": 9,
     "metadata": {},
     "output_type": "execute_result"
    }
   ],
   "source": [
    "main()"
   ]
  },
  {
   "cell_type": "markdown",
   "id": "08b0ef81",
   "metadata": {},
   "source": [
    "## 문자열을 변경할 때 처리 "
   ]
  },
  {
   "cell_type": "code",
   "execution_count": 30,
   "id": "23e6e84f",
   "metadata": {},
   "outputs": [],
   "source": [
    "fn add_four(mut x :String) -> String {\n",
    "    x.push_str(\"four\");\n",
    "    x\n",
    "}\n",
    "\n",
    "fn main() {\n",
    "    let mut x = \"three \".to_string();\n",
    "    let answer = add_four(x);\n",
    "\n",
    "    println!(\"The answer is: {}\", answer);\n",
    "}"
   ]
  },
  {
   "cell_type": "code",
   "execution_count": 31,
   "id": "dd6386ba",
   "metadata": {},
   "outputs": [
    {
     "name": "stdout",
     "output_type": "stream",
     "text": [
      "The answer is: three four\n"
     ]
    },
    {
     "data": {
      "text/plain": [
       "()"
      ]
     },
     "execution_count": 31,
     "metadata": {},
     "output_type": "execute_result"
    }
   ],
   "source": [
    "main()"
   ]
  },
  {
   "cell_type": "code",
   "execution_count": null,
   "id": "d1ae55e4",
   "metadata": {},
   "outputs": [],
   "source": []
  }
 ],
 "metadata": {
  "kernelspec": {
   "display_name": "Rust",
   "language": "rust",
   "name": "rust"
  },
  "language_info": {
   "codemirror_mode": "rust",
   "file_extension": ".rs",
   "mimetype": "text/rust",
   "name": "Rust",
   "pygment_lexer": "rust",
   "version": ""
  }
 },
 "nbformat": 4,
 "nbformat_minor": 5
}
