{
 "cells": [
  {
   "cell_type": "markdown",
   "id": "4a2498a6",
   "metadata": {},
   "source": [
    "## 참고자료 \n",
    "\n",
    "https://doc.rust-lang.org/std/iter/trait.Iterator.html#method.reduce"
   ]
  },
  {
   "cell_type": "markdown",
   "id": "e55cd853",
   "metadata": {},
   "source": [
    "## 1. 컬렉션 자료형의 반복자 처리 \n",
    "\n",
    "#### 컬렉션의 반복자 메서드를 사용하면 기존 객체를 반복자 객체로 변환한다.\n",
    "\n",
    "- iter() : 참조로 반복처리 \n",
    "- iter_mut() : 변경가능한 참조로 반복처리 \n",
    "- into_iter() : 이동을 통한 반복처리 "
   ]
  },
  {
   "cell_type": "markdown",
   "id": "4580e905",
   "metadata": {},
   "source": [
    "## 1-1 반복자 처리 이해하기 "
   ]
  },
  {
   "cell_type": "markdown",
   "id": "18189863",
   "metadata": {},
   "source": [
    "### 범위를 반복자로 처리\n",
    "\n",
    "- 반복자의 결과값은 option 이넘 타입"
   ]
  },
  {
   "cell_type": "code",
   "execution_count": 69,
   "id": "40228c2f",
   "metadata": {},
   "outputs": [
    {
     "name": "stdout",
     "output_type": "stream",
     "text": [
      "0\n",
      "1\n",
      "2\n",
      "3\n",
      "4\n",
      "5\n",
      "6\n",
      "7\n",
      "8\n",
      "9\n"
     ]
    },
    {
     "data": {
      "text/plain": [
       "()"
      ]
     },
     "execution_count": 69,
     "metadata": {},
     "output_type": "execute_result"
    }
   ],
   "source": [
    "let mut range = 0..10;\n",
    "\n",
    "loop {\n",
    "    match range.next() {\n",
    "        Some(x) => {\n",
    "            println!(\"{}\", x);\n",
    "        },\n",
    "        None => { break }\n",
    "    }\n",
    "}"
   ]
  },
  {
   "cell_type": "markdown",
   "id": "14480152",
   "metadata": {},
   "source": [
    "### 벡터의 반복자 처리 \n",
    "\n",
    "- 반복자를 만드는 3가지 메서드를 확인"
   ]
  },
  {
   "cell_type": "code",
   "execution_count": 14,
   "id": "f6e4fdd0",
   "metadata": {},
   "outputs": [],
   "source": [
    "fn main() { \n",
    "    let v1 = vec![1, 2, 3];\n",
    "\n",
    "    let v1_iter = v1.iter();\n",
    "    println!(\"{:?}\", v1_iter);\n",
    "    \n",
    "    let mut v2 = vec![1, 2, 3];\n",
    "    let mut v2_mut_iter = v2.iter_mut();\n",
    "    println!(\"{:?}\", v2_mut_iter);\n",
    "    \n",
    "    \n",
    "    let v1_into_iter = v1.into_iter();\n",
    "    println!(\"{:?}\", v1_into_iter);\n",
    "    \n",
    "    //println!(\" v1 {:?}\", v1);   // `v1` moved due to this method call\n",
    "}"
   ]
  },
  {
   "cell_type": "code",
   "execution_count": 15,
   "id": "73d7638d",
   "metadata": {},
   "outputs": [
    {
     "name": "stdout",
     "output_type": "stream",
     "text": [
      "Iter([1, 2, 3])\n",
      "IterMut([1, 2, 3])\n",
      "IntoIter([1, 2, 3])\n"
     ]
    }
   ],
   "source": [
    "main();"
   ]
  },
  {
   "cell_type": "markdown",
   "id": "f179b158",
   "metadata": {},
   "source": [
    "### into_iter 는 기본으로 이동을 시킴\n",
    "\n",
    "- for 문에 컬렉션 객체를 사용하면 기본은 into_iter 메서드 처리\n",
    "- 그래서 이동을 시켜서 기존 값을 사용할 수 없다."
   ]
  },
  {
   "cell_type": "code",
   "execution_count": 23,
   "id": "4eb146ce",
   "metadata": {},
   "outputs": [],
   "source": [
    "fn main() { \n",
    "    let v1 = vec![1, 2, 3];\n",
    "\n",
    "    let v1_iter = v1.iter();\n",
    "\n",
    "    for val in v1_iter {\n",
    "        println!(\"Got itet: {}\", val);\n",
    "    }\n",
    "    \n",
    "    \n",
    "    for val in v1 {\n",
    "        println!(\"Got into_iter: {}\", val);\n",
    "    }\n",
    "    \n",
    "    //println!(\" v1 {:?}\", v1);   // `v1` moved due to this method call\n",
    "\n",
    "}"
   ]
  },
  {
   "cell_type": "code",
   "execution_count": 24,
   "id": "404961a3",
   "metadata": {},
   "outputs": [
    {
     "name": "stdout",
     "output_type": "stream",
     "text": [
      "Got itet: 1\n",
      "Got itet: 2\n",
      "Got itet: 3\n",
      "Got into_iter: 1\n",
      "Got into_iter: 2\n",
      "Got into_iter: 3\n"
     ]
    },
    {
     "data": {
      "text/plain": [
       "()"
      ]
     },
     "execution_count": 24,
     "metadata": {},
     "output_type": "execute_result"
    }
   ],
   "source": [
    "main()"
   ]
  },
  {
   "cell_type": "markdown",
   "id": "f5078a4b",
   "metadata": {},
   "source": [
    "### 반복자 처리의 규칙\n",
    "\n",
    "- iter 메서드를 사용해서 반복자 객체로 변환\n",
    "- 그 다음에 next 메서드를 사용해서 원소를 하나씩 꺼낸다.\n",
    "- next 메서드의 값은 내부 원소이므로 Option 이넘을 사용"
   ]
  },
  {
   "cell_type": "code",
   "execution_count": 25,
   "id": "3ad2c129",
   "metadata": {},
   "outputs": [],
   "source": [
    "fn iterator_demonstration() {\n",
    "    let v1 = vec![1, 2, 3];\n",
    "\n",
    "    let mut v1_iter = v1.iter();\n",
    "\n",
    "    assert_eq!(v1_iter.next(), Some(&1));\n",
    "    assert_eq!(v1_iter.next(), Some(&2));\n",
    "    assert_eq!(v1_iter.next(), Some(&3));\n",
    "    assert_eq!(v1_iter.next(), None);\n",
    "}"
   ]
  },
  {
   "cell_type": "code",
   "execution_count": 26,
   "id": "1d891e8f",
   "metadata": {},
   "outputs": [],
   "source": [
    "iterator_demonstration();"
   ]
  },
  {
   "cell_type": "code",
   "execution_count": null,
   "id": "5624b40f",
   "metadata": {},
   "outputs": [],
   "source": []
  },
  {
   "cell_type": "markdown",
   "id": "f6f06d4d",
   "metadata": {},
   "source": [
    "## 1-2 소비자\n",
    "\n",
    "- 컨슈머는 반복자에서 작동하여 어떤 종류의 값을 반환합니다. \n",
    "- 가장 일반적인 컨슈머는 collect()입니다. 이 코드는 컴파일되지 않지만 의도를 보여줍니다:"
   ]
  },
  {
   "cell_type": "markdown",
   "id": "ed6e4d54",
   "metadata": {},
   "source": [
    "### 대표적인 처리 메서드는 collect \n",
    "\n",
    "- 자료형을 명확히 지정해야 한다"
   ]
  },
  {
   "cell_type": "code",
   "execution_count": 70,
   "id": "5aec4e50",
   "metadata": {},
   "outputs": [
    {
     "ename": "Error",
     "evalue": "Couldn't automatically determine type of variable `one_to_one_hundred`.\nPlease give it an explicit type.",
     "output_type": "error",
     "traceback": [
      "Couldn't automatically determine type of variable `one_to_one_hundred`.\nPlease give it an explicit type."
     ]
    }
   ],
   "source": [
    "let one_to_one_hundred = (1..101).collect();"
   ]
  },
  {
   "cell_type": "markdown",
   "id": "3d147616",
   "metadata": {},
   "source": [
    "### 타입을 지정해야 원하는 타입으로 생성한다"
   ]
  },
  {
   "cell_type": "code",
   "execution_count": 73,
   "id": "536137ec",
   "metadata": {},
   "outputs": [],
   "source": [
    "let one_to_one_hundred : Vec<i32>  = (1..101).collect();"
   ]
  },
  {
   "cell_type": "code",
   "execution_count": 71,
   "id": "7f93f40e",
   "metadata": {},
   "outputs": [],
   "source": [
    "let one_to_one_hundred = (1..101).collect::<Vec<_>>();"
   ]
  },
  {
   "cell_type": "code",
   "execution_count": null,
   "id": "0c15bd64",
   "metadata": {},
   "outputs": [],
   "source": []
  },
  {
   "cell_type": "markdown",
   "id": "30e373ea",
   "metadata": {},
   "source": [
    "## 1-3 반족자의 특징  및 원소 선택하기"
   ]
  },
  {
   "cell_type": "markdown",
   "id": "2a85f2da",
   "metadata": {},
   "source": [
    "### 반복자는 한번 반환하면 더 사용이 불가능하다. "
   ]
  },
  {
   "cell_type": "code",
   "execution_count": 39,
   "id": "90565806",
   "metadata": {},
   "outputs": [],
   "source": [
    "fn main() { \n",
    "    let v1 = vec![1, 2, 3];\n",
    "\n",
    "    let v1_iter = v1.iter();\n",
    "    \n",
    "    println!(\"count {}\", v1_iter.count()); // 반복자 종료 \n",
    "    \n",
    "    let mut v1_iter = v1.iter();\n",
    "    println!(\"last {:?}\", v1_iter.last());  // 반복자 종료\n",
    "    let mut v1_iter = v1.iter();\n",
    "    println!(\"nth {:?}\", v1_iter.nth(1));\n",
    "    println!(\"nth {:?}\", v1_iter.nth(2));   // 선택해보면 더 사용이 불가해서 None 값을 반환\n",
    "}"
   ]
  },
  {
   "cell_type": "code",
   "execution_count": 40,
   "id": "d88975de",
   "metadata": {},
   "outputs": [
    {
     "name": "stdout",
     "output_type": "stream",
     "text": [
      "count 3\n",
      "last Some(3)\n",
      "nth Some(2)\n",
      "nth None\n"
     ]
    }
   ],
   "source": [
    "main();"
   ]
  },
  {
   "cell_type": "markdown",
   "id": "81ff92ab",
   "metadata": {},
   "source": [
    "### take 로 원소를 여러개 선택하기"
   ]
  },
  {
   "cell_type": "code",
   "execution_count": 58,
   "id": "d2ae496c",
   "metadata": {},
   "outputs": [],
   "source": [
    "fn main() {\n",
    "    let a = [1, 2, 3];\n",
    "\n",
    "    let mut iter = a.iter().take(2);\n",
    "    println!(\" iter {:?}\", iter);\n",
    "    \n",
    "    assert_eq!(iter.next(), Some(&1));\n",
    "    assert_eq!(iter.next(), Some(&2));\n",
    "    assert_eq!(iter.next(), None);\n",
    "}"
   ]
  },
  {
   "cell_type": "code",
   "execution_count": 59,
   "id": "fd42697d",
   "metadata": {},
   "outputs": [
    {
     "name": "stdout",
     "output_type": "stream",
     "text": [
      " iter Take { iter: Iter([1, 2, 3]), n: 2 }\n"
     ]
    }
   ],
   "source": [
    "main();"
   ]
  },
  {
   "cell_type": "code",
   "execution_count": null,
   "id": "ed1ccc38",
   "metadata": {},
   "outputs": [],
   "source": []
  },
  {
   "cell_type": "markdown",
   "id": "58516c73",
   "metadata": {},
   "source": [
    "## 2.  다양한 메서드 확인하기"
   ]
  },
  {
   "cell_type": "markdown",
   "id": "d40c95b2",
   "metadata": {},
   "source": [
    "## 2-1 반복자 정보 확인 "
   ]
  },
  {
   "cell_type": "markdown",
   "id": "4b7e4e00",
   "metadata": {},
   "source": [
    "### 반복자를 enumerate 메서드 사용하기\n",
    "\n",
    "- 이 메서드는 내부의 원소를 인덱스와 값으로 출력한다."
   ]
  },
  {
   "cell_type": "code",
   "execution_count": 41,
   "id": "c7dff5e9",
   "metadata": {},
   "outputs": [],
   "source": [
    "fn main() { \n",
    "    let a = ['a', 'b', 'c'];\n",
    "\n",
    "    let mut iter = a.iter().enumerate();\n",
    "    println!(\"{:?}\", iter);\n",
    "\n",
    "    assert_eq!(iter.next(), Some((0, &'a')));\n",
    "    assert_eq!(iter.next(), Some((1, &'b')));\n",
    "    assert_eq!(iter.next(), Some((2, &'c')));\n",
    "    assert_eq!(iter.next(), None);\n",
    "}"
   ]
  },
  {
   "cell_type": "code",
   "execution_count": 42,
   "id": "9e7b0783",
   "metadata": {},
   "outputs": [
    {
     "name": "stdout",
     "output_type": "stream",
     "text": [
      "Enumerate { iter: Iter(['a', 'b', 'c']), count: 0 }\n"
     ]
    }
   ],
   "source": [
    "main();"
   ]
  },
  {
   "cell_type": "code",
   "execution_count": null,
   "id": "85f63516",
   "metadata": {},
   "outputs": [],
   "source": []
  },
  {
   "cell_type": "markdown",
   "id": "5c40ed7f",
   "metadata": {},
   "source": [
    "### 반복자를  zip 메서드로 쌍을 구성하기"
   ]
  },
  {
   "cell_type": "code",
   "execution_count": 43,
   "id": "585586bb",
   "metadata": {},
   "outputs": [],
   "source": [
    "fn main() { \n",
    "    let a1 = [1, 2, 3];\n",
    "    let a2 = [4, 5, 6];\n",
    "\n",
    "    let mut iter = a1.iter().zip(a2.iter());\n",
    "    println!(\"{:?}\", iter);\n",
    "    \n",
    "    assert_eq!(iter.next(), Some((&1, &4)));\n",
    "    assert_eq!(iter.next(), Some((&2, &5)));\n",
    "    assert_eq!(iter.next(), Some((&3, &6)));\n",
    "    assert_eq!(iter.next(), None);\n",
    "} "
   ]
  },
  {
   "cell_type": "code",
   "execution_count": 44,
   "id": "c5ea4b3a",
   "metadata": {},
   "outputs": [
    {
     "name": "stdout",
     "output_type": "stream",
     "text": [
      "Zip\n"
     ]
    }
   ],
   "source": [
    "main();"
   ]
  },
  {
   "cell_type": "code",
   "execution_count": 45,
   "id": "c16b18b7",
   "metadata": {},
   "outputs": [],
   "source": [
    "fn main() { \n",
    "    let s1 = &[1, 2, 3];\n",
    "    let s2 = &[4, 5, 6];\n",
    "\n",
    "    let mut iter = s1.iter().zip(s2);\n",
    "    println!(\"{:?}\", iter);\n",
    "    assert_eq!(iter.next(), Some((&1, &4)));\n",
    "    assert_eq!(iter.next(), Some((&2, &5)));\n",
    "    assert_eq!(iter.next(), Some((&3, &6)));\n",
    "    assert_eq!(iter.next(), None);\n",
    "}"
   ]
  },
  {
   "cell_type": "code",
   "execution_count": 46,
   "id": "e910cc18",
   "metadata": {},
   "outputs": [
    {
     "name": "stdout",
     "output_type": "stream",
     "text": [
      "Zip\n"
     ]
    }
   ],
   "source": [
    "main();"
   ]
  },
  {
   "cell_type": "code",
   "execution_count": null,
   "id": "c4069a4f",
   "metadata": {},
   "outputs": [],
   "source": []
  },
  {
   "cell_type": "markdown",
   "id": "ef33f501",
   "metadata": {},
   "source": [
    "### collect 메서드로 반환값을 만듬 \n",
    "\n",
    "- 결과를 확인하기 위해 변수에 특정 타입을 지정한다"
   ]
  },
  {
   "cell_type": "code",
   "execution_count": 49,
   "id": "c3619b79",
   "metadata": {},
   "outputs": [],
   "source": [
    "fn main() { \n",
    "    let enumerate: Vec<_> = \"foo\".chars().enumerate().collect();\n",
    "    println!(\"{:?}\", enumerate);\n",
    "    let zipper: Vec<_> = (0..).zip(\"foo\".chars()).collect();\n",
    "    println!(\"{:?}\", zipper);\n",
    "    \n",
    "    assert_eq!((0, 'f'), enumerate[0]);\n",
    "    assert_eq!((0, 'f'), zipper[0]);\n",
    "\n",
    "    assert_eq!((1, 'o'), enumerate[1]);\n",
    "    assert_eq!((1, 'o'), zipper[1]);\n",
    "\n",
    "    assert_eq!((2, 'o'), enumerate[2]);\n",
    "    assert_eq!((2, 'o'), zipper[2]);\n",
    "}"
   ]
  },
  {
   "cell_type": "code",
   "execution_count": 50,
   "id": "ab72dbeb",
   "metadata": {},
   "outputs": [
    {
     "name": "stdout",
     "output_type": "stream",
     "text": [
      "[(0, 'f'), (1, 'o'), (2, 'o')]\n",
      "[(0, 'f'), (1, 'o'), (2, 'o')]\n"
     ]
    }
   ],
   "source": [
    "main();"
   ]
  },
  {
   "cell_type": "code",
   "execution_count": null,
   "id": "1860a5d6",
   "metadata": {},
   "outputs": [],
   "source": []
  },
  {
   "cell_type": "markdown",
   "id": "7365495d",
   "metadata": {},
   "source": [
    "## 2-2 이터레이터 어댑터\n",
    "\n",
    "- 하나의 이터레이터를 다른 이터레이터로 변경할 수 있는 메서드를 이터레이터 어댑터라고 합니다. \n",
    "- 여러 개의 반복자 어댑터를 체인으로 연결하여 복잡한 작업을 읽기 쉬운 방식으로 수행할 수 있습니다."
   ]
  },
  {
   "cell_type": "markdown",
   "id": "e5805346",
   "metadata": {},
   "source": [
    "## 컬렉션의 각각의 값을 변형하기 \n",
    "\n",
    "- map 메서드 사용해서 원소 값 변형\n",
    "- filter 메서드를 사용해서 특정 조건에 따른 원소만 선택 \n",
    "- 두 메서드는 인자로 클로저를 전달해서 클로저가 실행된다. "
   ]
  },
  {
   "cell_type": "markdown",
   "id": "3b13bacc",
   "metadata": {},
   "source": [
    "### map 처리 "
   ]
  },
  {
   "cell_type": "code",
   "execution_count": 51,
   "id": "9162c1a1",
   "metadata": {},
   "outputs": [],
   "source": [
    "fn main() {\n",
    "    let a = [1, 2, 3];\n",
    "\n",
    "    let mut iter = a.iter().map(|x| 2 * x);\n",
    "    println!(\"{:?}\", iter);\n",
    "    \n",
    "    assert_eq!(iter.next(), Some(2));\n",
    "    assert_eq!(iter.next(), Some(4));\n",
    "    assert_eq!(iter.next(), Some(6));\n",
    "    assert_eq!(iter.next(), None);\n",
    "}"
   ]
  },
  {
   "cell_type": "code",
   "execution_count": 52,
   "id": "7fe0345d",
   "metadata": {},
   "outputs": [
    {
     "name": "stdout",
     "output_type": "stream",
     "text": [
      "Map { iter: Iter([1, 2, 3]) }\n"
     ]
    }
   ],
   "source": [
    "main();"
   ]
  },
  {
   "cell_type": "markdown",
   "id": "7be41fd4",
   "metadata": {},
   "source": [
    "### filter 처리 "
   ]
  },
  {
   "cell_type": "code",
   "execution_count": 53,
   "id": "cd28d975",
   "metadata": {},
   "outputs": [],
   "source": [
    "fn main() {\n",
    "    let a = [0i32, 1, 2];\n",
    "\n",
    "    let mut iter = a.iter().filter(|x| x.is_positive());\n",
    "    println!(\"{:?}\", iter);\n",
    "\n",
    "    assert_eq!(iter.next(), Some(&1));\n",
    "    assert_eq!(iter.next(), Some(&2));\n",
    "    assert_eq!(iter.next(), None);\n",
    "}"
   ]
  },
  {
   "cell_type": "code",
   "execution_count": 54,
   "id": "0f425d5b",
   "metadata": {},
   "outputs": [
    {
     "name": "stdout",
     "output_type": "stream",
     "text": [
      "Filter { iter: Iter([0, 1, 2]) }\n"
     ]
    }
   ],
   "source": [
    "main();"
   ]
  },
  {
   "cell_type": "markdown",
   "id": "7ed35392",
   "metadata": {},
   "source": [
    "### filter_map 으로 처리하기 "
   ]
  },
  {
   "cell_type": "code",
   "execution_count": 55,
   "id": "4ecfbfbc",
   "metadata": {},
   "outputs": [],
   "source": [
    "fn main() {\n",
    "    let a = [\"1\", \"two\", \"NaN\", \"four\", \"5\"];\n",
    "\n",
    "    let mut iter = a.iter().filter_map(|s| s.parse().ok());\n",
    "    println!(\"{:?}\", iter);\n",
    "    \n",
    "    assert_eq!(iter.next(), Some(1));\n",
    "    assert_eq!(iter.next(), Some(5));\n",
    "    assert_eq!(iter.next(), None);\n",
    "}"
   ]
  },
  {
   "cell_type": "code",
   "execution_count": 56,
   "id": "920886f9",
   "metadata": {},
   "outputs": [
    {
     "name": "stdout",
     "output_type": "stream",
     "text": [
      "FilterMap { iter: Iter([\"1\", \"two\", \"NaN\", \"four\", \"5\"]) }\n"
     ]
    }
   ],
   "source": [
    "main();"
   ]
  },
  {
   "cell_type": "code",
   "execution_count": null,
   "id": "2dddf3a0",
   "metadata": {},
   "outputs": [],
   "source": []
  },
  {
   "cell_type": "markdown",
   "id": "13858b6f",
   "metadata": {},
   "source": [
    "### flat_map 처리하기 "
   ]
  },
  {
   "cell_type": "code",
   "execution_count": 63,
   "id": "3d63b798",
   "metadata": {},
   "outputs": [],
   "source": [
    "fn main() {\n",
    "    let words = [\"alpha\", \"beta\", \"gamma\"];\n",
    "\n",
    "    // chars() returns an iterator\n",
    "    let merged: String = words.iter()\n",
    "                          .flat_map(|s| s.chars())\n",
    "                          .collect();\n",
    "    println!(\"{:?}\", merged);\n",
    "    assert_eq!(merged, \"alphabetagamma\");\n",
    "}"
   ]
  },
  {
   "cell_type": "code",
   "execution_count": 64,
   "id": "c05dee62",
   "metadata": {},
   "outputs": [
    {
     "name": "stdout",
     "output_type": "stream",
     "text": [
      "\"alphabetagamma\"\n"
     ]
    }
   ],
   "source": [
    "main();"
   ]
  },
  {
   "cell_type": "code",
   "execution_count": null,
   "id": "af0a0bbe",
   "metadata": {},
   "outputs": [],
   "source": []
  },
  {
   "cell_type": "markdown",
   "id": "3b57e383",
   "metadata": {},
   "source": [
    "### reduce fold 메서드 처리하기\n",
    "\n",
    "- fold는 초기값을 넣고 계산\n",
    "- reduce는 초기값 없이 계산 => Option 이넘으로 반환"
   ]
  },
  {
   "cell_type": "code",
   "execution_count": 74,
   "id": "e0167ec9",
   "metadata": {},
   "outputs": [],
   "source": [
    "let sum = (1..4).fold(0, |sum, x| sum + x);"
   ]
  },
  {
   "cell_type": "code",
   "execution_count": 76,
   "id": "39fff93d",
   "metadata": {},
   "outputs": [
    {
     "data": {
      "text/plain": [
       "6"
      ]
     },
     "execution_count": 76,
     "metadata": {},
     "output_type": "execute_result"
    }
   ],
   "source": [
    "sum"
   ]
  },
  {
   "cell_type": "code",
   "execution_count": 75,
   "id": "08df2e88",
   "metadata": {},
   "outputs": [],
   "source": [
    "let sum_r = (1..4).reduce(|sum, x| sum + x);"
   ]
  },
  {
   "cell_type": "code",
   "execution_count": 77,
   "id": "a22ac294",
   "metadata": {},
   "outputs": [
    {
     "data": {
      "text/plain": [
       "Some(6)"
      ]
     },
     "execution_count": 77,
     "metadata": {},
     "output_type": "execute_result"
    }
   ],
   "source": [
    "sum_r"
   ]
  },
  {
   "cell_type": "code",
   "execution_count": null,
   "id": "5a8d2cfb",
   "metadata": {},
   "outputs": [],
   "source": []
  },
  {
   "cell_type": "code",
   "execution_count": 67,
   "id": "3962bd46",
   "metadata": {},
   "outputs": [],
   "source": [
    "fn main() {\n",
    "    let reduced: i32 = (1..10).reduce(|acc, e| acc + e).unwrap();\n",
    "    assert_eq!(reduced, 45);\n",
    "\n",
    "    // Which is equivalent to doing it with `fold`:\n",
    "    let folded: i32 = (1..10).fold(0, |acc, e| acc + e);\n",
    "    assert_eq!(reduced, folded);\n",
    "    println!(\"{} {}\", reduced, folded);\n",
    "}"
   ]
  },
  {
   "cell_type": "code",
   "execution_count": 68,
   "id": "7d4614ee",
   "metadata": {},
   "outputs": [
    {
     "name": "stdout",
     "output_type": "stream",
     "text": [
      "45 45\n"
     ]
    }
   ],
   "source": [
    "main();"
   ]
  },
  {
   "cell_type": "markdown",
   "id": "326c0303",
   "metadata": {},
   "source": [
    "### for_each 메서드로 순환처리하기 "
   ]
  },
  {
   "cell_type": "code",
   "execution_count": null,
   "id": "0dcd8230",
   "metadata": {},
   "outputs": [],
   "source": []
  },
  {
   "cell_type": "code",
   "execution_count": 60,
   "id": "95e317aa",
   "metadata": {},
   "outputs": [
    {
     "name": "stdout",
     "output_type": "stream",
     "text": [
      "1:101\n",
      "4:104\n",
      "7:107\n",
      "10:200\n",
      "13:203\n",
      "16:206\n",
      "19:209\n",
      "22:212\n",
      "25:215\n",
      "28:218\n",
      "30:300\n",
      "33:303\n",
      "36:306\n",
      "39:309\n",
      "42:312\n",
      "45:315\n",
      "48:318\n",
      "51:321\n",
      "54:324\n",
      "57:327\n",
      "61:401\n",
      "64:404\n",
      "67:407\n",
      "70:410\n",
      "73:413\n",
      "76:416\n",
      "79:419\n",
      "82:422\n",
      "85:425\n",
      "88:428\n",
      "91:431\n",
      "94:434\n",
      "97:437\n"
     ]
    }
   ],
   "source": [
    "(0..5).flat_map(|x| x * 100 .. x * 110)\n",
    "      .enumerate()\n",
    "      .filter(|&(i, x)| (i + x) % 3 == 0)\n",
    "      .for_each(|(i, x)| println!(\"{i}:{x}\"));"
   ]
  },
  {
   "cell_type": "code",
   "execution_count": null,
   "id": "0a2714c8",
   "metadata": {},
   "outputs": [],
   "source": []
  }
 ],
 "metadata": {
  "kernelspec": {
   "display_name": "Rust",
   "language": "rust",
   "name": "rust"
  },
  "language_info": {
   "codemirror_mode": "rust",
   "file_extension": ".rs",
   "mimetype": "text/rust",
   "name": "Rust",
   "pygment_lexer": "rust",
   "version": ""
  }
 },
 "nbformat": 4,
 "nbformat_minor": 5
}
