{
 "cells": [
  {
   "cell_type": "code",
   "execution_count": null,
   "id": "c58a9a13",
   "metadata": {},
   "outputs": [],
   "source": []
  },
  {
   "cell_type": "markdown",
   "id": "7ff02c68",
   "metadata": {},
   "source": [
    "## 1. 컬렉션 자료형의 반복자 처리 \n",
    "\n",
    "#### 컬렉션의 반복자 메서드를 사용하면 기존 객체를 반복자 객체로 변환한다.\n",
    "\n",
    "- iter() : 참조로 반복처리 \n",
    "- iter_mut() : 변경가능한 참조로 반복처리 \n",
    "- into_iter() : 이동을 통한 반복처리 "
   ]
  },
  {
   "cell_type": "code",
   "execution_count": 14,
   "id": "865afb4a",
   "metadata": {},
   "outputs": [],
   "source": [
    "fn main() { \n",
    "    let v1 = vec![1, 2, 3];\n",
    "\n",
    "    let v1_iter = v1.iter();\n",
    "    println!(\"{:?}\", v1_iter);\n",
    "    \n",
    "    let mut v2 = vec![1, 2, 3];\n",
    "    let mut v2_mut_iter = v2.iter_mut();\n",
    "    println!(\"{:?}\", v2_mut_iter);\n",
    "    \n",
    "    \n",
    "    let v1_into_iter = v1.into_iter();\n",
    "    println!(\"{:?}\", v1_into_iter);\n",
    "    \n",
    "    //println!(\" v1 {:?}\", v1);   // `v1` moved due to this method call\n",
    "}"
   ]
  },
  {
   "cell_type": "code",
   "execution_count": 15,
   "id": "e76ce59f",
   "metadata": {},
   "outputs": [
    {
     "name": "stdout",
     "output_type": "stream",
     "text": [
      "Iter([1, 2, 3])\n",
      "IterMut([1, 2, 3])\n",
      "IntoIter([1, 2, 3])\n"
     ]
    }
   ],
   "source": [
    "main();"
   ]
  },
  {
   "cell_type": "markdown",
   "id": "a8cc9136",
   "metadata": {},
   "source": [
    "### into_iter 는 기본으로 이동을 시킴\n",
    "\n",
    "- for 문에 컬렉션 객체를 사용하면 기본은 into_iter 메서드 처리\n",
    "- 그래서 이동을 시켜서 기존 값을 사용할 수 없다."
   ]
  },
  {
   "cell_type": "code",
   "execution_count": 23,
   "id": "685b1c4e",
   "metadata": {},
   "outputs": [],
   "source": [
    "fn main() { \n",
    "    let v1 = vec![1, 2, 3];\n",
    "\n",
    "    let v1_iter = v1.iter();\n",
    "\n",
    "    for val in v1_iter {\n",
    "        println!(\"Got itet: {}\", val);\n",
    "    }\n",
    "    \n",
    "    \n",
    "    for val in v1 {\n",
    "        println!(\"Got into_iter: {}\", val);\n",
    "    }\n",
    "    \n",
    "    //println!(\" v1 {:?}\", v1);   // `v1` moved due to this method call\n",
    "\n",
    "}"
   ]
  },
  {
   "cell_type": "code",
   "execution_count": 24,
   "id": "76d49b0b",
   "metadata": {},
   "outputs": [
    {
     "name": "stdout",
     "output_type": "stream",
     "text": [
      "Got itet: 1\n",
      "Got itet: 2\n",
      "Got itet: 3\n",
      "Got into_iter: 1\n",
      "Got into_iter: 2\n",
      "Got into_iter: 3\n"
     ]
    },
    {
     "data": {
      "text/plain": [
       "()"
      ]
     },
     "execution_count": 24,
     "metadata": {},
     "output_type": "execute_result"
    }
   ],
   "source": [
    "main()"
   ]
  },
  {
   "cell_type": "markdown",
   "id": "32c0d35f",
   "metadata": {},
   "source": [
    "### 반복자 처리의 규칙\n",
    "\n",
    "- iter 메서드를 사용해서 반복자 객체로 변환\n",
    "- 그 다음에 next 메서드를 사용해서 원소를 하나씩 꺼낸다.\n",
    "- next 메서드의 값은 내부 원소이므로 Option 이넘을 사용"
   ]
  },
  {
   "cell_type": "code",
   "execution_count": 25,
   "id": "1246a5e0",
   "metadata": {},
   "outputs": [],
   "source": [
    "fn iterator_demonstration() {\n",
    "    let v1 = vec![1, 2, 3];\n",
    "\n",
    "    let mut v1_iter = v1.iter();\n",
    "\n",
    "    assert_eq!(v1_iter.next(), Some(&1));\n",
    "    assert_eq!(v1_iter.next(), Some(&2));\n",
    "    assert_eq!(v1_iter.next(), Some(&3));\n",
    "    assert_eq!(v1_iter.next(), None);\n",
    "}"
   ]
  },
  {
   "cell_type": "code",
   "execution_count": 26,
   "id": "fa62c2c6",
   "metadata": {},
   "outputs": [],
   "source": [
    "iterator_demonstration();"
   ]
  },
  {
   "cell_type": "markdown",
   "id": "9f610c32",
   "metadata": {},
   "source": [
    "### 반복자는 한번 반환하면 더 사용이 불가능하다. "
   ]
  },
  {
   "cell_type": "code",
   "execution_count": 39,
   "id": "65c73f8d",
   "metadata": {},
   "outputs": [],
   "source": [
    "fn main() { \n",
    "    let v1 = vec![1, 2, 3];\n",
    "\n",
    "    let v1_iter = v1.iter();\n",
    "    \n",
    "    println!(\"count {}\", v1_iter.count()); // 반복자 종료 \n",
    "    \n",
    "    let mut v1_iter = v1.iter();\n",
    "    println!(\"last {:?}\", v1_iter.last());  // 반복자 종료\n",
    "    let mut v1_iter = v1.iter();\n",
    "    println!(\"nth {:?}\", v1_iter.nth(1));\n",
    "    println!(\"nth {:?}\", v1_iter.nth(2));   // 선택해보면 더 사용이 불가해서 None 값을 반환\n",
    "}"
   ]
  },
  {
   "cell_type": "code",
   "execution_count": 40,
   "id": "15d51dd0",
   "metadata": {},
   "outputs": [
    {
     "name": "stdout",
     "output_type": "stream",
     "text": [
      "count 3\n",
      "last Some(3)\n",
      "nth Some(2)\n",
      "nth None\n"
     ]
    }
   ],
   "source": [
    "main();"
   ]
  },
  {
   "cell_type": "markdown",
   "id": "b14383e6",
   "metadata": {},
   "source": [
    "### take 로 원소를 여러개 선택하기"
   ]
  },
  {
   "cell_type": "code",
   "execution_count": 58,
   "id": "72fbc994",
   "metadata": {},
   "outputs": [],
   "source": [
    "fn main() {\n",
    "    let a = [1, 2, 3];\n",
    "\n",
    "    let mut iter = a.iter().take(2);\n",
    "    println!(\" iter {:?}\", iter);\n",
    "    \n",
    "    assert_eq!(iter.next(), Some(&1));\n",
    "    assert_eq!(iter.next(), Some(&2));\n",
    "    assert_eq!(iter.next(), None);\n",
    "}"
   ]
  },
  {
   "cell_type": "code",
   "execution_count": 59,
   "id": "5eaa9eea",
   "metadata": {},
   "outputs": [
    {
     "name": "stdout",
     "output_type": "stream",
     "text": [
      " iter Take { iter: Iter([1, 2, 3]), n: 2 }\n"
     ]
    }
   ],
   "source": [
    "main();"
   ]
  },
  {
   "cell_type": "code",
   "execution_count": null,
   "id": "3b541f4f",
   "metadata": {},
   "outputs": [],
   "source": []
  },
  {
   "cell_type": "markdown",
   "id": "83880518",
   "metadata": {},
   "source": [
    "## 2.  다양한 메서드 확인하기"
   ]
  },
  {
   "cell_type": "markdown",
   "id": "f7f722a5",
   "metadata": {},
   "source": [
    "## 2-1 반복자 정보 확인 "
   ]
  },
  {
   "cell_type": "markdown",
   "id": "df527925",
   "metadata": {},
   "source": [
    "### 반복자를 enumerate 메서드 사용하기\n",
    "\n",
    "- 이 메서드는 내부의 원소를 인덱스와 값으로 출력한다."
   ]
  },
  {
   "cell_type": "code",
   "execution_count": 41,
   "id": "c39c2c52",
   "metadata": {},
   "outputs": [],
   "source": [
    "fn main() { \n",
    "    let a = ['a', 'b', 'c'];\n",
    "\n",
    "    let mut iter = a.iter().enumerate();\n",
    "    println!(\"{:?}\", iter);\n",
    "\n",
    "    assert_eq!(iter.next(), Some((0, &'a')));\n",
    "    assert_eq!(iter.next(), Some((1, &'b')));\n",
    "    assert_eq!(iter.next(), Some((2, &'c')));\n",
    "    assert_eq!(iter.next(), None);\n",
    "}"
   ]
  },
  {
   "cell_type": "code",
   "execution_count": 42,
   "id": "e4207ed2",
   "metadata": {},
   "outputs": [
    {
     "name": "stdout",
     "output_type": "stream",
     "text": [
      "Enumerate { iter: Iter(['a', 'b', 'c']), count: 0 }\n"
     ]
    }
   ],
   "source": [
    "main();"
   ]
  },
  {
   "cell_type": "code",
   "execution_count": null,
   "id": "90f54955",
   "metadata": {},
   "outputs": [],
   "source": []
  },
  {
   "cell_type": "markdown",
   "id": "8df278fa",
   "metadata": {},
   "source": [
    "### 반복자를  zip 메서드로 쌍을 구성하기"
   ]
  },
  {
   "cell_type": "code",
   "execution_count": 43,
   "id": "a0f974c8",
   "metadata": {},
   "outputs": [],
   "source": [
    "fn main() { \n",
    "    let a1 = [1, 2, 3];\n",
    "    let a2 = [4, 5, 6];\n",
    "\n",
    "    let mut iter = a1.iter().zip(a2.iter());\n",
    "    println!(\"{:?}\", iter);\n",
    "    \n",
    "    assert_eq!(iter.next(), Some((&1, &4)));\n",
    "    assert_eq!(iter.next(), Some((&2, &5)));\n",
    "    assert_eq!(iter.next(), Some((&3, &6)));\n",
    "    assert_eq!(iter.next(), None);\n",
    "} "
   ]
  },
  {
   "cell_type": "code",
   "execution_count": 44,
   "id": "98aa336c",
   "metadata": {},
   "outputs": [
    {
     "name": "stdout",
     "output_type": "stream",
     "text": [
      "Zip\n"
     ]
    }
   ],
   "source": [
    "main();"
   ]
  },
  {
   "cell_type": "code",
   "execution_count": 45,
   "id": "1a6d314a",
   "metadata": {},
   "outputs": [],
   "source": [
    "fn main() { \n",
    "    let s1 = &[1, 2, 3];\n",
    "    let s2 = &[4, 5, 6];\n",
    "\n",
    "    let mut iter = s1.iter().zip(s2);\n",
    "    println!(\"{:?}\", iter);\n",
    "    assert_eq!(iter.next(), Some((&1, &4)));\n",
    "    assert_eq!(iter.next(), Some((&2, &5)));\n",
    "    assert_eq!(iter.next(), Some((&3, &6)));\n",
    "    assert_eq!(iter.next(), None);\n",
    "}"
   ]
  },
  {
   "cell_type": "code",
   "execution_count": 46,
   "id": "cc4dc430",
   "metadata": {},
   "outputs": [
    {
     "name": "stdout",
     "output_type": "stream",
     "text": [
      "Zip\n"
     ]
    }
   ],
   "source": [
    "main();"
   ]
  },
  {
   "cell_type": "code",
   "execution_count": null,
   "id": "981d9d55",
   "metadata": {},
   "outputs": [],
   "source": []
  },
  {
   "cell_type": "markdown",
   "id": "98f27a36",
   "metadata": {},
   "source": [
    "### collect 메서드로 반환값을 만듬 \n",
    "\n",
    "- 결과를 확인하기 위해 변수에 특정 타입을 지정한다"
   ]
  },
  {
   "cell_type": "code",
   "execution_count": 49,
   "id": "8d5e07bc",
   "metadata": {},
   "outputs": [],
   "source": [
    "fn main() { \n",
    "    let enumerate: Vec<_> = \"foo\".chars().enumerate().collect();\n",
    "    println!(\"{:?}\", enumerate);\n",
    "    let zipper: Vec<_> = (0..).zip(\"foo\".chars()).collect();\n",
    "    println!(\"{:?}\", zipper);\n",
    "    \n",
    "    assert_eq!((0, 'f'), enumerate[0]);\n",
    "    assert_eq!((0, 'f'), zipper[0]);\n",
    "\n",
    "    assert_eq!((1, 'o'), enumerate[1]);\n",
    "    assert_eq!((1, 'o'), zipper[1]);\n",
    "\n",
    "    assert_eq!((2, 'o'), enumerate[2]);\n",
    "    assert_eq!((2, 'o'), zipper[2]);\n",
    "}"
   ]
  },
  {
   "cell_type": "code",
   "execution_count": 50,
   "id": "556f6dc3",
   "metadata": {},
   "outputs": [
    {
     "name": "stdout",
     "output_type": "stream",
     "text": [
      "[(0, 'f'), (1, 'o'), (2, 'o')]\n",
      "[(0, 'f'), (1, 'o'), (2, 'o')]\n"
     ]
    }
   ],
   "source": [
    "main();"
   ]
  },
  {
   "cell_type": "code",
   "execution_count": null,
   "id": "9e1a5125",
   "metadata": {},
   "outputs": [],
   "source": []
  },
  {
   "cell_type": "code",
   "execution_count": null,
   "id": "e58c4a09",
   "metadata": {},
   "outputs": [],
   "source": []
  },
  {
   "cell_type": "markdown",
   "id": "81b5af67",
   "metadata": {},
   "source": [
    "## 3-2  컬렉션의 각각의 값을 변형하기 \n",
    "\n",
    "- map 메서드 사용해서 원소 값 변형\n",
    "- filter 메서드를 사용해서 특정 조건에 따른 원소만 선택 \n",
    "- 두 메서드는 인자로 클로저를 전달해서 클로저가 실행된다. "
   ]
  },
  {
   "cell_type": "markdown",
   "id": "a6cd75c6",
   "metadata": {},
   "source": [
    "### map 처리 "
   ]
  },
  {
   "cell_type": "code",
   "execution_count": 51,
   "id": "e6b8483a",
   "metadata": {},
   "outputs": [],
   "source": [
    "fn main() {\n",
    "    let a = [1, 2, 3];\n",
    "\n",
    "    let mut iter = a.iter().map(|x| 2 * x);\n",
    "    println!(\"{:?}\", iter);\n",
    "    \n",
    "    assert_eq!(iter.next(), Some(2));\n",
    "    assert_eq!(iter.next(), Some(4));\n",
    "    assert_eq!(iter.next(), Some(6));\n",
    "    assert_eq!(iter.next(), None);\n",
    "}"
   ]
  },
  {
   "cell_type": "code",
   "execution_count": 52,
   "id": "792c6f15",
   "metadata": {},
   "outputs": [
    {
     "name": "stdout",
     "output_type": "stream",
     "text": [
      "Map { iter: Iter([1, 2, 3]) }\n"
     ]
    }
   ],
   "source": [
    "main();"
   ]
  },
  {
   "cell_type": "markdown",
   "id": "2addfac2",
   "metadata": {},
   "source": [
    "### filter 처리 "
   ]
  },
  {
   "cell_type": "code",
   "execution_count": 53,
   "id": "62d0dc0d",
   "metadata": {},
   "outputs": [],
   "source": [
    "fn main() {\n",
    "    let a = [0i32, 1, 2];\n",
    "\n",
    "    let mut iter = a.iter().filter(|x| x.is_positive());\n",
    "    println!(\"{:?}\", iter);\n",
    "\n",
    "    assert_eq!(iter.next(), Some(&1));\n",
    "    assert_eq!(iter.next(), Some(&2));\n",
    "    assert_eq!(iter.next(), None);\n",
    "}"
   ]
  },
  {
   "cell_type": "code",
   "execution_count": 54,
   "id": "3fe2e62b",
   "metadata": {},
   "outputs": [
    {
     "name": "stdout",
     "output_type": "stream",
     "text": [
      "Filter { iter: Iter([0, 1, 2]) }\n"
     ]
    }
   ],
   "source": [
    "main();"
   ]
  },
  {
   "cell_type": "markdown",
   "id": "f3a6a6ea",
   "metadata": {},
   "source": [
    "### filter_map 으로 처리하기 "
   ]
  },
  {
   "cell_type": "code",
   "execution_count": 55,
   "id": "94afc10c",
   "metadata": {},
   "outputs": [],
   "source": [
    "fn main() {\n",
    "    let a = [\"1\", \"two\", \"NaN\", \"four\", \"5\"];\n",
    "\n",
    "    let mut iter = a.iter().filter_map(|s| s.parse().ok());\n",
    "    println!(\"{:?}\", iter);\n",
    "    \n",
    "    assert_eq!(iter.next(), Some(1));\n",
    "    assert_eq!(iter.next(), Some(5));\n",
    "    assert_eq!(iter.next(), None);\n",
    "}"
   ]
  },
  {
   "cell_type": "code",
   "execution_count": 56,
   "id": "fba73611",
   "metadata": {},
   "outputs": [
    {
     "name": "stdout",
     "output_type": "stream",
     "text": [
      "FilterMap { iter: Iter([\"1\", \"two\", \"NaN\", \"four\", \"5\"]) }\n"
     ]
    }
   ],
   "source": [
    "main();"
   ]
  },
  {
   "cell_type": "code",
   "execution_count": null,
   "id": "71394703",
   "metadata": {},
   "outputs": [],
   "source": []
  },
  {
   "cell_type": "markdown",
   "id": "837811ee",
   "metadata": {},
   "source": [
    "### flat_map 처리하기 "
   ]
  },
  {
   "cell_type": "code",
   "execution_count": 63,
   "id": "e0848764",
   "metadata": {},
   "outputs": [],
   "source": [
    "fn main() {\n",
    "    let words = [\"alpha\", \"beta\", \"gamma\"];\n",
    "\n",
    "    // chars() returns an iterator\n",
    "    let merged: String = words.iter()\n",
    "                          .flat_map(|s| s.chars())\n",
    "                          .collect();\n",
    "    println!(\"{:?}\", merged);\n",
    "    assert_eq!(merged, \"alphabetagamma\");\n",
    "}"
   ]
  },
  {
   "cell_type": "code",
   "execution_count": 64,
   "id": "5ee4d87b",
   "metadata": {},
   "outputs": [
    {
     "name": "stdout",
     "output_type": "stream",
     "text": [
      "\"alphabetagamma\"\n"
     ]
    }
   ],
   "source": [
    "main();"
   ]
  },
  {
   "cell_type": "markdown",
   "id": "abaee742",
   "metadata": {},
   "source": [
    "### for_each 메서드로 순환처리하기 "
   ]
  },
  {
   "cell_type": "code",
   "execution_count": null,
   "id": "cfa47000",
   "metadata": {},
   "outputs": [],
   "source": []
  },
  {
   "cell_type": "code",
   "execution_count": 60,
   "id": "a974132b",
   "metadata": {},
   "outputs": [
    {
     "name": "stdout",
     "output_type": "stream",
     "text": [
      "1:101\n",
      "4:104\n",
      "7:107\n",
      "10:200\n",
      "13:203\n",
      "16:206\n",
      "19:209\n",
      "22:212\n",
      "25:215\n",
      "28:218\n",
      "30:300\n",
      "33:303\n",
      "36:306\n",
      "39:309\n",
      "42:312\n",
      "45:315\n",
      "48:318\n",
      "51:321\n",
      "54:324\n",
      "57:327\n",
      "61:401\n",
      "64:404\n",
      "67:407\n",
      "70:410\n",
      "73:413\n",
      "76:416\n",
      "79:419\n",
      "82:422\n",
      "85:425\n",
      "88:428\n",
      "91:431\n",
      "94:434\n",
      "97:437\n"
     ]
    }
   ],
   "source": [
    "(0..5).flat_map(|x| x * 100 .. x * 110)\n",
    "      .enumerate()\n",
    "      .filter(|&(i, x)| (i + x) % 3 == 0)\n",
    "      .for_each(|(i, x)| println!(\"{i}:{x}\"));"
   ]
  },
  {
   "cell_type": "code",
   "execution_count": null,
   "id": "e20b040c",
   "metadata": {},
   "outputs": [],
   "source": []
  }
 ],
 "metadata": {
  "kernelspec": {
   "display_name": "Rust",
   "language": "rust",
   "name": "rust"
  },
  "language_info": {
   "codemirror_mode": "rust",
   "file_extension": ".rs",
   "mimetype": "text/rust",
   "name": "Rust",
   "pygment_lexer": "rust",
   "version": ""
  }
 },
 "nbformat": 4,
 "nbformat_minor": 5
}
