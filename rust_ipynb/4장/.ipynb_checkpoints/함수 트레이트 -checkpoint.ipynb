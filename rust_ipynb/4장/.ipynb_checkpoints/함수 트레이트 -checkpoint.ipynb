{
 "cells": [
  {
   "cell_type": "code",
   "execution_count": null,
   "id": "9e5f6176",
   "metadata": {},
   "outputs": [],
   "source": []
  },
  {
   "cell_type": "markdown",
   "id": "29a58ab1",
   "metadata": {},
   "source": [
    "## 함수 트레이트\n",
    "\n",
    "- 러스트(Rust)에서는 함수 트레이트(Function Traits)를 사용하여 함수나 클로저를 다른 함수나 구조체 등에서 사용할 수 있습니다. \n",
    "- 함수 트레이트는 함수나 클로저를 포함하는 값(value)의 타입을 지정하여, 해당 값이 특정한 함수나 클로저의 타입 시그니처를 만족하는지를 확인할 수 있습니다.\n",
    "\n"
   ]
  },
  {
   "cell_type": "code",
   "execution_count": null,
   "id": "9e1ed7ff",
   "metadata": {},
   "outputs": [],
   "source": []
  },
  {
   "cell_type": "markdown",
   "id": "35474d2b",
   "metadata": {},
   "source": [
    "## Fn 과 FnMut 차이점 \n",
    "\n",
    "### Fn 함수 트레이트 \n",
    " - 클로저나 함수를 불변 참조(immutable reference)로 호출하는 것을 나타내며, 클로저나 함수는 인수를 빌려오는 형태로 사용됩니다. \n",
    " - 일반적인 함수 호출 방식으로 작동합니다.\n",
    "\n",
    "### FnMut 함수 트레이트 \n",
    "- 클로저나 함수를 가변 참조(mutably reference)로 호출하는 것을 나타내며, 클로저나 함수는 인수를 수정할 수 있는 형태로 사용됩니다. \n",
    "- 클로저나 함수가 가변적인 데이터를 변경하거나 갱신할 수 있도록 해주는 것이며, 이는 함수의 동작을 유연하게 변경할 수 있게 합니다."
   ]
  },
  {
   "cell_type": "code",
   "execution_count": null,
   "id": "3aa15969",
   "metadata": {},
   "outputs": [],
   "source": []
  },
  {
   "cell_type": "markdown",
   "id": "d2914516",
   "metadata": {},
   "source": [
    "### 함수 매개변수로 함수 트레이트 사용\n",
    "\n",
    "- Fn 트레이트"
   ]
  },
  {
   "cell_type": "code",
   "execution_count": 2,
   "id": "c1902ac4",
   "metadata": {},
   "outputs": [],
   "source": [
    "fn map_vec<F, T>(vec: Vec<T>, func: F) -> Vec<T>\n",
    "where\n",
    "    F: Fn(T) -> T,\n",
    "{\n",
    "    vec.into_iter().map(func).collect()\n",
    "}\n",
    "\n",
    "fn main() {\n",
    "    let vec = vec![1, 2, 3];\n",
    "    let func = |x| x * x;\n",
    "    let new_vec = map_vec(vec, func);\n",
    "    println!(\"{:?}\", new_vec);\n",
    "}"
   ]
  },
  {
   "cell_type": "code",
   "execution_count": 3,
   "id": "5155e95e",
   "metadata": {},
   "outputs": [
    {
     "name": "stdout",
     "output_type": "stream",
     "text": [
      "[1, 4, 9]\n"
     ]
    }
   ],
   "source": [
    "main();"
   ]
  },
  {
   "cell_type": "code",
   "execution_count": null,
   "id": "03c4993d",
   "metadata": {},
   "outputs": [],
   "source": []
  },
  {
   "cell_type": "markdown",
   "id": "ceb16033",
   "metadata": {},
   "source": [
    "## FnMut 트레이트 사용하기\n",
    "- 러스트(Rust)에서 FnMut 함수 트레이트는 인수로 전달된 클로저 또는 함수를 가변적으로(mutably) 참조하여 호출하는 것을 나타냅니다. \n",
    "- FnMut 함수 트레이트는 함수나 클로저를 다른 함수에서 인수로 받아서 호출할 때 사용됩니다.\n",
    "- FnMut 함수 트레이트를 사용하여 가변 참조를 사용하면, 클로저나 함수를 수정할 수 있어서, 함수의 동작을 유연하게 변경할 수 있습니다.\n",
    "\n",
    "### 함수 적용인자 확인 \n",
    "- F: FnMut(&mut i32) 부분은 F 타입이 클로저이며, 가변 참조로 i32 타입을 인수로 받아서 결과를 반환하지 않는 함수를 의미합니다. \n",
    "- 이를 통해 func 인수가 클로저인지, 그리고 인수 타입이 &mut i32에 일치하는지를 검증합니다."
   ]
  },
  {
   "cell_type": "code",
   "execution_count": 4,
   "id": "80b3461f",
   "metadata": {},
   "outputs": [],
   "source": [
    "fn modify_vec<F>(vec: &mut Vec<i32>, mut func: F)\n",
    "where\n",
    "    F: FnMut(&mut i32),\n",
    "{\n",
    "    for elem in vec {\n",
    "        func(elem);\n",
    "    }\n",
    "}\n",
    "\n",
    "fn main() {\n",
    "    let mut vec = vec![1, 2, 3];\n",
    "    modify_vec(&mut vec, |x| *x = (*x).pow(2));\n",
    "    println!(\"{:?}\", vec);\n",
    "}"
   ]
  },
  {
   "cell_type": "code",
   "execution_count": 5,
   "id": "234474f6",
   "metadata": {},
   "outputs": [
    {
     "name": "stdout",
     "output_type": "stream",
     "text": [
      "[1, 4, 9]\n"
     ]
    }
   ],
   "source": [
    "main();"
   ]
  },
  {
   "cell_type": "code",
   "execution_count": null,
   "id": "25dcf347",
   "metadata": {},
   "outputs": [],
   "source": []
  },
  {
   "cell_type": "markdown",
   "id": "743e6b58",
   "metadata": {},
   "source": [
    "## FnOnce 함수 트레이트 \n",
    "\n",
    "- 클로저나 함수를 소유권(ownership)으로 호출하는 것을 나타내며, 클로저나 함수는 인수를 소모(consume)하면서 사용됩니다. \n",
    "- 이를 통해 클로저나 함수의 인수가 재사용되지 않도록 보장하며, 이전에 호출한 클로저나 함수가 더 이상 사용되지 않도록 합니다.\n",
    "- 클로저나 함수가 재사용되지 않도록 보장하면서, 한 번만 사용될 수 있도록 합니다.\n",
    "\n"
   ]
  },
  {
   "cell_type": "code",
   "execution_count": 6,
   "id": "e8930de9",
   "metadata": {},
   "outputs": [],
   "source": [
    "fn main() {\n",
    "    let name = \"Alice\".to_string();\n",
    "    let closure = || {\n",
    "        println!(\"My name is {}\", name);\n",
    "    };\n",
    "    call_closure(closure);\n",
    "    // call_closure(closure); // 이 코드는 에러를 발생시킵니다.\n",
    "}\n",
    "\n",
    "fn call_closure<F: FnOnce()>(closure: F) {\n",
    "    closure();\n",
    "}"
   ]
  },
  {
   "cell_type": "code",
   "execution_count": 7,
   "id": "1ab9fcff",
   "metadata": {},
   "outputs": [
    {
     "name": "stdout",
     "output_type": "stream",
     "text": [
      "My name is Alice\n"
     ]
    }
   ],
   "source": [
    "main();"
   ]
  },
  {
   "cell_type": "code",
   "execution_count": null,
   "id": "9338198b",
   "metadata": {},
   "outputs": [],
   "source": []
  }
 ],
 "metadata": {
  "kernelspec": {
   "display_name": "Rust",
   "language": "rust",
   "name": "rust"
  },
  "language_info": {
   "codemirror_mode": "rust",
   "file_extension": ".rs",
   "mimetype": "text/rust",
   "name": "Rust",
   "pygment_lexer": "rust",
   "version": ""
  }
 },
 "nbformat": 4,
 "nbformat_minor": 5
}
