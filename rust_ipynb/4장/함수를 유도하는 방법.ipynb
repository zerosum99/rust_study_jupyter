{
 "cells": [
  {
   "cell_type": "code",
   "execution_count": null,
   "id": "88e0d4ef",
   "metadata": {},
   "outputs": [],
   "source": []
  },
  {
   "cell_type": "markdown",
   "id": "679c6202",
   "metadata": {},
   "source": [
    "## 최대값을 구하는 방법 "
   ]
  },
  {
   "cell_type": "code",
   "execution_count": 2,
   "id": "bbb2c9a9",
   "metadata": {},
   "outputs": [],
   "source": [
    "fn main() {\n",
    "    let number_list = vec![34, 50, 25, 100, 65];\n",
    "\n",
    "    let mut largest = number_list[0];        // 함수 내부에 로직 들어감 \n",
    "\n",
    "    for number in number_list {              // 함수 내부에 로직 들어감 \n",
    "        if number > largest {\n",
    "            largest = number;                // 가장 큰 값을 처리 \n",
    "        }\n",
    "    }\n",
    "\n",
    "    println!(\"가장 큰 숫자: {}\", largest);\n",
    "}"
   ]
  },
  {
   "cell_type": "code",
   "execution_count": 4,
   "id": "fbd5213b",
   "metadata": {},
   "outputs": [
    {
     "name": "stdout",
     "output_type": "stream",
     "text": [
      "가장 큰 숫자: 100\n"
     ]
    }
   ],
   "source": [
    "main();"
   ]
  },
  {
   "cell_type": "markdown",
   "id": "d5377a18",
   "metadata": {},
   "source": [
    "## 최대값을 구하는 함수를 지정하기 "
   ]
  },
  {
   "cell_type": "code",
   "execution_count": 5,
   "id": "49c7c80a",
   "metadata": {},
   "outputs": [],
   "source": [
    "fn largest(list: &[i32]) -> i32 {\n",
    "    let mut largest = list[0];\n",
    "\n",
    "    for &item in list.iter() {\n",
    "        if item > largest {\n",
    "            largest = item;\n",
    "        }\n",
    "    }\n",
    "\n",
    "    largest\n",
    "}\n"
   ]
  },
  {
   "cell_type": "markdown",
   "id": "ddfff93b",
   "metadata": {},
   "source": [
    "## 여러 번 함수를 호출해서 처리하기 "
   ]
  },
  {
   "cell_type": "code",
   "execution_count": 6,
   "id": "cfaaaec1",
   "metadata": {},
   "outputs": [],
   "source": [
    "fn main() {\n",
    "    let number_list = vec![34, 50, 25, 100, 65];\n",
    "\n",
    "    let result = largest(&number_list);\n",
    "    println!(\"가장 큰 숫자: {}\", result);\n",
    "\n",
    "    let number_list = vec![102, 34, 6000, 89, 54, 2, 43, 8];\n",
    "\n",
    "    let result = largest(&number_list);\n",
    "    println!(\"가장 큰 숫자: {}\", result);\n",
    "}"
   ]
  },
  {
   "cell_type": "code",
   "execution_count": 7,
   "id": "f561aa32",
   "metadata": {},
   "outputs": [
    {
     "name": "stdout",
     "output_type": "stream",
     "text": [
      "가장 큰 숫자: 100\n",
      "가장 큰 숫자: 6000\n"
     ]
    }
   ],
   "source": [
    "main();"
   ]
  },
  {
   "cell_type": "code",
   "execution_count": null,
   "id": "230bcc7b",
   "metadata": {},
   "outputs": [],
   "source": []
  }
 ],
 "metadata": {
  "kernelspec": {
   "display_name": "Rust",
   "language": "rust",
   "name": "rust"
  },
  "language_info": {
   "codemirror_mode": "rust",
   "file_extension": ".rs",
   "mimetype": "text/rust",
   "name": "Rust",
   "pygment_lexer": "rust",
   "version": ""
  }
 },
 "nbformat": 4,
 "nbformat_minor": 5
}
