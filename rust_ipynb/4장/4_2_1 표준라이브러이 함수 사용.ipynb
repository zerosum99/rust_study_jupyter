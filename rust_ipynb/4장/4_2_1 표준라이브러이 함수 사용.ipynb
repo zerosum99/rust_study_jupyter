{
 "cells": [
  {
   "cell_type": "code",
   "execution_count": null,
   "id": "8f1208e8",
   "metadata": {},
   "outputs": [],
   "source": []
  },
  {
   "cell_type": "code",
   "execution_count": null,
   "id": "620b90fd",
   "metadata": {},
   "outputs": [],
   "source": []
  },
  {
   "cell_type": "code",
   "execution_count": 2,
   "id": "73beb2b2",
   "metadata": {},
   "outputs": [
    {
     "name": "stdout",
     "output_type": "stream",
     "text": [
      "함수 호출 =  5\n",
      "메서드 호출 = 5\n"
     ]
    }
   ],
   "source": [
    "println!(\"함수 호출 =  {}\", str::len(\"abcde\"));\n",
    "println!(\"메서드 호출 = {}\",  \"abcde\".len());"
   ]
  },
  {
   "cell_type": "markdown",
   "id": "2a9792f0",
   "metadata": {},
   "source": [
    "## 대문자로 작성할 것 "
   ]
  },
  {
   "cell_type": "code",
   "execution_count": 3,
   "id": "fb83fe30",
   "metadata": {},
   "outputs": [],
   "source": [
    "const GLOBAL_A : i32 = 100;\n",
    "\n",
    "static STATIC_A : u32 = 100;\n",
    "//let b = &a;   //The variable `b` contains a reference with a non-static lifetime so can't be persisted"
   ]
  },
  {
   "cell_type": "code",
   "execution_count": 6,
   "id": "9ef7a2d5",
   "metadata": {},
   "outputs": [],
   "source": [
    "fn main() {\n",
    "    let a = 100;\n",
    "    let b = &a; \n",
    "\n",
    "    let c = a + *b;\n",
    "    println!(\"{}\",c);\n",
    "    println!(\"static = {}\", STATIC_A);\n",
    "    println!(\"global = {}\", GLOBAL_A);\n",
    "}"
   ]
  },
  {
   "cell_type": "code",
   "execution_count": 7,
   "id": "9aee8db7",
   "metadata": {},
   "outputs": [
    {
     "name": "stdout",
     "output_type": "stream",
     "text": [
      "200\n",
      "static = 100\n",
      "global = 100\n"
     ]
    },
    {
     "data": {
      "text/plain": [
       "()"
      ]
     },
     "execution_count": 7,
     "metadata": {},
     "output_type": "execute_result"
    }
   ],
   "source": [
    "main()"
   ]
  },
  {
   "cell_type": "code",
   "execution_count": 9,
   "id": "c8c5c64e",
   "metadata": {},
   "outputs": [],
   "source": [
    "let iter_a = 1..11;"
   ]
  },
  {
   "cell_type": "code",
   "execution_count": 10,
   "id": "2495749c",
   "metadata": {},
   "outputs": [
    {
     "name": "stdout",
     "output_type": "stream",
     "text": [
      "1 \n",
      "4 \n",
      "9 \n",
      "16 \n",
      "25 \n",
      "36 \n",
      "49 \n",
      "64 \n",
      "81 \n",
      "100 \n"
     ]
    },
    {
     "data": {
      "text/plain": [
       "()"
      ]
     },
     "execution_count": 10,
     "metadata": {},
     "output_type": "execute_result"
    }
   ],
   "source": [
    "for i in iter_a { \n",
    "    println!(\"{} \", i * i);\n",
    "}"
   ]
  },
  {
   "cell_type": "code",
   "execution_count": 12,
   "id": "ebec09db",
   "metadata": {},
   "outputs": [],
   "source": [
    "// iter_a   // cannot find value `iter_a` in this scope"
   ]
  },
  {
   "cell_type": "code",
   "execution_count": null,
   "id": "924c62ea",
   "metadata": {},
   "outputs": [],
   "source": []
  }
 ],
 "metadata": {
  "kernelspec": {
   "display_name": "Rust",
   "language": "rust",
   "name": "rust"
  },
  "language_info": {
   "codemirror_mode": "rust",
   "file_extension": ".rs",
   "mimetype": "text/rust",
   "name": "Rust",
   "pygment_lexer": "rust",
   "version": ""
  }
 },
 "nbformat": 4,
 "nbformat_minor": 5
}
