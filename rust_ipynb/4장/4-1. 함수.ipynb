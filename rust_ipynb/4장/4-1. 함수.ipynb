{
 "cells": [
  {
   "cell_type": "code",
   "execution_count": null,
   "id": "afa8da70",
   "metadata": {},
   "outputs": [],
   "source": []
  },
  {
   "cell_type": "markdown",
   "id": "89c3fabb",
   "metadata": {},
   "source": [
    "# 1. 함수 "
   ]
  },
  {
   "cell_type": "markdown",
   "id": "8acdf783",
   "metadata": {},
   "source": [
    "## 1-1 함수정의 "
   ]
  },
  {
   "cell_type": "code",
   "execution_count": 2,
   "id": "c557a522",
   "metadata": {},
   "outputs": [],
   "source": [
    "fn add(x:u32, y:u32) -> u32 {\n",
    "    x*y\n",
    "}"
   ]
  },
  {
   "cell_type": "markdown",
   "id": "1a46a7b9",
   "metadata": {},
   "source": [
    "## 1-2 함수 호출 "
   ]
  },
  {
   "cell_type": "code",
   "execution_count": 3,
   "id": "235a270c",
   "metadata": {},
   "outputs": [
    {
     "data": {
      "text/plain": [
       "20000"
      ]
     },
     "execution_count": 3,
     "metadata": {},
     "output_type": "execute_result"
    }
   ],
   "source": [
    "add(100,200)"
   ]
  },
  {
   "cell_type": "code",
   "execution_count": null,
   "id": "803fd43b",
   "metadata": {},
   "outputs": [],
   "source": []
  },
  {
   "cell_type": "code",
   "execution_count": 3,
   "id": "d2bba93f",
   "metadata": {},
   "outputs": [],
   "source": [
    "fn outer(x:i32) {\n",
    "               \n",
    "    fn inner(x1 : i32 ) {\n",
    "        println!(\" inner call {} \", x1);\n",
    "    }\n",
    "    \n",
    "    inner(x);\n",
    "}"
   ]
  },
  {
   "cell_type": "code",
   "execution_count": 4,
   "id": "2340d29a",
   "metadata": {},
   "outputs": [
    {
     "name": "stdout",
     "output_type": "stream",
     "text": [
      " inner call 100 \n"
     ]
    },
    {
     "data": {
      "text/plain": [
       "()"
      ]
     },
     "execution_count": 4,
     "metadata": {},
     "output_type": "execute_result"
    }
   ],
   "source": [
    "outer(100)"
   ]
  },
  {
   "cell_type": "code",
   "execution_count": null,
   "id": "4e849563",
   "metadata": {},
   "outputs": [],
   "source": []
  },
  {
   "cell_type": "code",
   "execution_count": 20,
   "id": "6c0e5fa8",
   "metadata": {},
   "outputs": [],
   "source": [
    "fn inner1<T:std::fmt::Display>(x1 : T) {\n",
    "        println!(\" inner call {} \", x1);\n",
    "}\n",
    "\n",
    "fn outer1<T:std::fmt::Display>(x:i32) -> impl Fn(T)  {\n",
    "    \n",
    "    return inner1;\n",
    "}"
   ]
  },
  {
   "cell_type": "code",
   "execution_count": 28,
   "id": "85a5ed47",
   "metadata": {},
   "outputs": [],
   "source": [
    "fn main() {\n",
    "    let s = outer1::<i32>(100);\n",
    "    s(200);\n",
    "}"
   ]
  },
  {
   "cell_type": "code",
   "execution_count": 29,
   "id": "b060b734",
   "metadata": {},
   "outputs": [
    {
     "name": "stdout",
     "output_type": "stream",
     "text": [
      " inner call 200 \n"
     ]
    },
    {
     "data": {
      "text/plain": [
       "()"
      ]
     },
     "execution_count": 29,
     "metadata": {},
     "output_type": "execute_result"
    }
   ],
   "source": [
    "main()"
   ]
  },
  {
   "cell_type": "code",
   "execution_count": null,
   "id": "c8d39424",
   "metadata": {},
   "outputs": [],
   "source": []
  },
  {
   "cell_type": "code",
   "execution_count": 5,
   "id": "bf914a23",
   "metadata": {},
   "outputs": [],
   "source": [
    "fn identity<T>(a: T) -> T {\n",
    "    return a;\n",
    "}\n",
    "\n",
    "fn right<T>(_a: T) -> impl Fn(T) -> T {\n",
    "    return identity;\n",
    "}\n",
    "\n",
    "fn main() {\n",
    "    println!(\"{}\", right(0)(42))\n",
    "}"
   ]
  },
  {
   "cell_type": "code",
   "execution_count": 6,
   "id": "dc6ffefb",
   "metadata": {},
   "outputs": [
    {
     "name": "stdout",
     "output_type": "stream",
     "text": [
      "42\n"
     ]
    },
    {
     "data": {
      "text/plain": [
       "()"
      ]
     },
     "execution_count": 6,
     "metadata": {},
     "output_type": "execute_result"
    }
   ],
   "source": [
    "main()"
   ]
  },
  {
   "cell_type": "code",
   "execution_count": null,
   "id": "12b9e89a",
   "metadata": {},
   "outputs": [],
   "source": []
  },
  {
   "cell_type": "code",
   "execution_count": 15,
   "id": "8ce122b7",
   "metadata": {},
   "outputs": [],
   "source": [
    "fn identity<T>(a: T) -> T {\n",
    "    return a;\n",
    "}\n",
    "\n",
    "fn right<T>() -> &'static dyn Fn(T)->T {\n",
    "    return &identity::<T>;\n",
    "}\n",
    "\n",
    "fn main() {\n",
    "    println!(\"{}\", right()(3.1415));\n",
    "}"
   ]
  },
  {
   "cell_type": "code",
   "execution_count": 16,
   "id": "85b89b7b",
   "metadata": {},
   "outputs": [
    {
     "name": "stdout",
     "output_type": "stream",
     "text": [
      "3.1415\n"
     ]
    },
    {
     "data": {
      "text/plain": [
       "()"
      ]
     },
     "execution_count": 16,
     "metadata": {},
     "output_type": "execute_result"
    }
   ],
   "source": [
    "main()"
   ]
  },
  {
   "cell_type": "code",
   "execution_count": null,
   "id": "16bc8e0b",
   "metadata": {},
   "outputs": [],
   "source": []
  }
 ],
 "metadata": {
  "kernelspec": {
   "display_name": "Rust",
   "language": "rust",
   "name": "rust"
  },
  "language_info": {
   "codemirror_mode": "rust",
   "file_extension": ".rs",
   "mimetype": "text/rust",
   "name": "Rust",
   "pygment_lexer": "rust",
   "version": ""
  }
 },
 "nbformat": 4,
 "nbformat_minor": 5
}
