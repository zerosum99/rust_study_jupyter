{
 "cells": [
  {
   "cell_type": "code",
   "execution_count": null,
   "id": "afa8da70",
   "metadata": {},
   "outputs": [],
   "source": []
  },
  {
   "cell_type": "markdown",
   "id": "89c3fabb",
   "metadata": {},
   "source": [
    "# 1. 함수 \n"
   ]
  },
  {
   "cell_type": "markdown",
   "id": "8acdf783",
   "metadata": {},
   "source": [
    "## 1-1 함수정의와 호출 "
   ]
  },
  {
   "cell_type": "markdown",
   "id": "6c2e2a25",
   "metadata": {},
   "source": [
    "### 함수 정의 \n",
    "- 함수는 예약어 fn + 함수명 + (매개변수:타입 애노테이션) -> 반환타입 \n",
    "- 본문은 { } 블럭에 처리 \n"
   ]
  },
  {
   "cell_type": "code",
   "execution_count": 2,
   "id": "c557a522",
   "metadata": {},
   "outputs": [],
   "source": [
    "fn add(x:u32, y:u32) -> u32 {\n",
    "    x*y\n",
    "}"
   ]
  },
  {
   "cell_type": "markdown",
   "id": "1a46a7b9",
   "metadata": {},
   "source": [
    "### 함수 호출 \n",
    "\n",
    "- 함수 이름과 호출연산자에 인자를 전달해서 실행 "
   ]
  },
  {
   "cell_type": "code",
   "execution_count": 3,
   "id": "235a270c",
   "metadata": {},
   "outputs": [
    {
     "data": {
      "text/plain": [
       "20000"
      ]
     },
     "execution_count": 3,
     "metadata": {},
     "output_type": "execute_result"
    }
   ],
   "source": [
    "add(100,200)"
   ]
  },
  {
   "cell_type": "code",
   "execution_count": null,
   "id": "716cdf95",
   "metadata": {},
   "outputs": [],
   "source": []
  },
  {
   "cell_type": "markdown",
   "id": "45ff37ff",
   "metadata": {},
   "source": [
    "## 1-2 함수 매개변수 처리 "
   ]
  },
  {
   "cell_type": "code",
   "execution_count": 17,
   "id": "19a55fa5",
   "metadata": {},
   "outputs": [],
   "source": [
    "fn sum(x:i32, y:i32, z:i32) -> i32 {\n",
    "    x+y+z\n",
    "}"
   ]
  },
  {
   "cell_type": "code",
   "execution_count": 19,
   "id": "c0e7ea0d",
   "metadata": {},
   "outputs": [
    {
     "data": {
      "text/plain": [
       "600"
      ]
     },
     "execution_count": 19,
     "metadata": {},
     "output_type": "execute_result"
    }
   ],
   "source": [
    "sum(100,200,300)"
   ]
  },
  {
   "cell_type": "code",
   "execution_count": 20,
   "id": "80d440dd",
   "metadata": {},
   "outputs": [],
   "source": [
    "fn sum_t(x : (i32,i32,i32)) -> i32 {\n",
    "    x.0 + x.1 + x.2\n",
    "}"
   ]
  },
  {
   "cell_type": "code",
   "execution_count": 22,
   "id": "01a79faa",
   "metadata": {},
   "outputs": [
    {
     "data": {
      "text/plain": [
       "600"
      ]
     },
     "execution_count": 22,
     "metadata": {},
     "output_type": "execute_result"
    }
   ],
   "source": [
    "sum_t((100,200,300))"
   ]
  },
  {
   "cell_type": "code",
   "execution_count": null,
   "id": "16884d7f",
   "metadata": {},
   "outputs": [],
   "source": []
  },
  {
   "cell_type": "markdown",
   "id": "553eadde",
   "metadata": {},
   "source": [
    "## 1-2 함수 내부에 함수 정의 "
   ]
  },
  {
   "cell_type": "markdown",
   "id": "dda5bb1b",
   "metadata": {},
   "source": [
    "### 내포된 함수를 정의해서 실행하기"
   ]
  },
  {
   "cell_type": "code",
   "execution_count": 3,
   "id": "d2bba93f",
   "metadata": {},
   "outputs": [],
   "source": [
    "fn outer(x:i32) {\n",
    "               \n",
    "    fn inner(x1 : i32 ) {\n",
    "        println!(\" inner call {} \", x1);\n",
    "    }\n",
    "    \n",
    "    inner(x);\n",
    "}"
   ]
  },
  {
   "cell_type": "code",
   "execution_count": 4,
   "id": "2340d29a",
   "metadata": {},
   "outputs": [
    {
     "name": "stdout",
     "output_type": "stream",
     "text": [
      " inner call 100 \n"
     ]
    },
    {
     "data": {
      "text/plain": [
       "()"
      ]
     },
     "execution_count": 4,
     "metadata": {},
     "output_type": "execute_result"
    }
   ],
   "source": [
    "outer(100)"
   ]
  },
  {
   "cell_type": "markdown",
   "id": "fde603e5",
   "metadata": {},
   "source": [
    "### 외부 함수를 함수 내부에서 저의하기 "
   ]
  },
  {
   "cell_type": "code",
   "execution_count": 3,
   "id": "6c0e5fa8",
   "metadata": {},
   "outputs": [],
   "source": [
    "fn inner1<T:std::fmt::Display>(x1 : T) {\n",
    "        println!(\" inner call {} \", x1);\n",
    "}\n",
    "\n",
    "fn outer1<T:std::fmt::Display>(x:i32) -> impl Fn(T)  {\n",
    "    \n",
    "    return inner1;\n",
    "}"
   ]
  },
  {
   "cell_type": "code",
   "execution_count": 4,
   "id": "85a5ed47",
   "metadata": {},
   "outputs": [],
   "source": [
    "fn main() {\n",
    "    let s = outer1::<i32>(100);\n",
    "    s(200);\n",
    "}"
   ]
  },
  {
   "cell_type": "code",
   "execution_count": 6,
   "id": "b060b734",
   "metadata": {},
   "outputs": [
    {
     "name": "stdout",
     "output_type": "stream",
     "text": [
      " inner call 200 \n"
     ]
    }
   ],
   "source": [
    "main();"
   ]
  },
  {
   "cell_type": "code",
   "execution_count": null,
   "id": "c8d39424",
   "metadata": {},
   "outputs": [],
   "source": []
  },
  {
   "cell_type": "code",
   "execution_count": 8,
   "id": "bf914a23",
   "metadata": {},
   "outputs": [],
   "source": [
    "fn identity<T>(a: T) -> T {\n",
    "    return a;\n",
    "}\n",
    "\n",
    "fn right<T>(_a: T) -> impl Fn(T) -> T {\n",
    "    return identity;\n",
    "}\n",
    "\n",
    "fn main() {\n",
    "    println!(\"{}\", right(0)(42))\n",
    "}"
   ]
  },
  {
   "cell_type": "code",
   "execution_count": 9,
   "id": "dc6ffefb",
   "metadata": {},
   "outputs": [
    {
     "name": "stdout",
     "output_type": "stream",
     "text": [
      "42\n"
     ]
    },
    {
     "data": {
      "text/plain": [
       "()"
      ]
     },
     "execution_count": 9,
     "metadata": {},
     "output_type": "execute_result"
    }
   ],
   "source": [
    "main()"
   ]
  },
  {
   "cell_type": "code",
   "execution_count": null,
   "id": "12b9e89a",
   "metadata": {},
   "outputs": [],
   "source": []
  },
  {
   "cell_type": "code",
   "execution_count": 15,
   "id": "8ce122b7",
   "metadata": {},
   "outputs": [],
   "source": [
    "fn identity<T>(a: T) -> T {\n",
    "    return a;\n",
    "}\n",
    "\n",
    "fn right<T>() -> &'static dyn Fn(T)->T {\n",
    "    return &identity::<T>;\n",
    "}\n",
    "\n",
    "fn main() {\n",
    "    println!(\"{}\", right()(3.1415));\n",
    "}"
   ]
  },
  {
   "cell_type": "code",
   "execution_count": 16,
   "id": "85b89b7b",
   "metadata": {},
   "outputs": [
    {
     "name": "stdout",
     "output_type": "stream",
     "text": [
      "3.1415\n"
     ]
    },
    {
     "data": {
      "text/plain": [
       "()"
      ]
     },
     "execution_count": 16,
     "metadata": {},
     "output_type": "execute_result"
    }
   ],
   "source": [
    "main()"
   ]
  },
  {
   "cell_type": "code",
   "execution_count": null,
   "id": "16bc8e0b",
   "metadata": {},
   "outputs": [],
   "source": []
  },
  {
   "cell_type": "code",
   "execution_count": null,
   "id": "33dfe067",
   "metadata": {},
   "outputs": [],
   "source": [
    "fn apply<F>(f: F) where\n",
    "\n",
    "F: FnOnce() {\n",
    "\n",
    "    f();  // statement, return value ()\n",
    "}"
   ]
  },
  {
   "cell_type": "code",
   "execution_count": 10,
   "id": "5e24c353",
   "metadata": {},
   "outputs": [],
   "source": [
    "fn add(f: impl FnOnce(i32)->i32) {\n",
    "    let x = 100;\n",
    "    println!(\" {} \", f(x));\n",
    "}"
   ]
  },
  {
   "cell_type": "code",
   "execution_count": 15,
   "id": "5b0beb43",
   "metadata": {},
   "outputs": [
    {
     "name": "stdout",
     "output_type": "stream",
     "text": [
      " 200 \n"
     ]
    }
   ],
   "source": [
    "add(|a:i32| {a+a});"
   ]
  },
  {
   "cell_type": "code",
   "execution_count": 16,
   "id": "9b46863e",
   "metadata": {},
   "outputs": [
    {
     "name": "stdout",
     "output_type": "stream",
     "text": [
      " 200 \n"
     ]
    }
   ],
   "source": [
    "add(|a:i32| {a+a});"
   ]
  },
  {
   "cell_type": "code",
   "execution_count": null,
   "id": "8c97c6d4",
   "metadata": {},
   "outputs": [],
   "source": []
  }
 ],
 "metadata": {
  "kernelspec": {
   "display_name": "Rust",
   "language": "rust",
   "name": "rust"
  },
  "language_info": {
   "codemirror_mode": "rust",
   "file_extension": ".rs",
   "mimetype": "text/rust",
   "name": "Rust",
   "pygment_lexer": "rust",
   "version": ""
  }
 },
 "nbformat": 4,
 "nbformat_minor": 5
}
