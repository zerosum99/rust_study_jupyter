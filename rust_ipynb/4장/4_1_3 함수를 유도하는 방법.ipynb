{
 "cells": [
  {
   "cell_type": "code",
   "execution_count": null,
   "id": "88e0d4ef",
   "metadata": {},
   "outputs": [],
   "source": []
  },
  {
   "cell_type": "markdown",
   "id": "4d50cdbb",
   "metadata": {},
   "source": [
    "## 함수를 유도하는 방법\n"
   ]
  },
  {
   "cell_type": "markdown",
   "id": "68c1d1cf",
   "metadata": {},
   "source": [
    "### 로직을 공통화하기 \n",
    "\n",
    "- 특정 로직이 반복처리될 경우 이를 하나로 묶어서 함수화한다. \n",
    "- 특정 로직이 하나의 기능으로 묶일 경우 이를 함수화한다.\n",
    "\n",
    "### 기존 함수 참조하기: \n",
    "- 이미 구현된 함수를 참조하여 새로운 함수를 유도할 수 있습니다. \n",
    "- 기존 함수의 코드를 분석하고, 필요에 따라 수정하여 새로운 함수를 작성합니다.\n",
    "\n",
    "### 트레이트와 제네릭 사용하기: \n",
    "- 트레이트와 제네릭을 사용하여 함수를 유도할 수 있습니다. \n",
    "- 트레이트는 특정 동작을 정의하고, 제네릭은 다양한 타입에 대해 동작을 추상화합니다. \n",
    "- 트레이트와 제네릭을 활용하여 다양한 타입에 대해 동작하는 유연한 함수를 작성할 수 있습니다.\n",
    "\n",
    "### 함수 조합(composition): \n",
    "- 여러 개의 함수를 조합하여 새로운 함수를 유도할 수 있습니다. \n",
    "- 함수 조합은 함수를 연결하고, 결과를 변환하거나 조작하는 등의 작업을 통해 새로운 함수를 만들어냅니다. \n",
    "- 이는 함수형 프로그래밍의 개념을 활용한 방법입니다."
   ]
  },
  {
   "cell_type": "markdown",
   "id": "3014cfb8",
   "metadata": {},
   "source": [
    "## 1. 로직을 공통화하기  "
   ]
  },
  {
   "cell_type": "markdown",
   "id": "b1d47683",
   "metadata": {},
   "source": [
    "## 1-1 최대값을 구하는 것을 하나의 기능으로 본 경우 "
   ]
  },
  {
   "cell_type": "markdown",
   "id": "679c6202",
   "metadata": {},
   "source": [
    "###  최대값을 구하는 방법 :  로직을 나열하기 "
   ]
  },
  {
   "cell_type": "code",
   "execution_count": 2,
   "id": "bbb2c9a9",
   "metadata": {},
   "outputs": [],
   "source": [
    "fn main() {\n",
    "    let number_list = vec![34, 50, 25, 100, 65];\n",
    "\n",
    "    let mut largest = number_list[0];        // 함수 내부에 로직 들어감 \n",
    "\n",
    "    for number in number_list {              // 함수 내부에 로직 들어감 \n",
    "        if number > largest {\n",
    "            largest = number;                // 가장 큰 값을 처리 \n",
    "        }\n",
    "    }\n",
    "\n",
    "    println!(\"가장 큰 숫자: {}\", largest);\n",
    "}"
   ]
  },
  {
   "cell_type": "code",
   "execution_count": 4,
   "id": "fbd5213b",
   "metadata": {},
   "outputs": [
    {
     "name": "stdout",
     "output_type": "stream",
     "text": [
      "가장 큰 숫자: 100\n"
     ]
    }
   ],
   "source": [
    "main();"
   ]
  },
  {
   "cell_type": "markdown",
   "id": "d5377a18",
   "metadata": {},
   "source": [
    "###  최대값을 구하는 함수를 지정하기 "
   ]
  },
  {
   "cell_type": "code",
   "execution_count": 5,
   "id": "49c7c80a",
   "metadata": {},
   "outputs": [],
   "source": [
    "fn largest(list: &[i32]) -> i32 {\n",
    "    let mut largest = list[0];\n",
    "\n",
    "    for &item in list.iter() {\n",
    "        if item > largest {\n",
    "            largest = item;\n",
    "        }\n",
    "    }\n",
    "\n",
    "    largest\n",
    "}\n"
   ]
  },
  {
   "cell_type": "markdown",
   "id": "ddfff93b",
   "metadata": {},
   "source": [
    "### 여러 번 함수를 호출해서 처리하기 "
   ]
  },
  {
   "cell_type": "code",
   "execution_count": 6,
   "id": "cfaaaec1",
   "metadata": {},
   "outputs": [],
   "source": [
    "fn main() {\n",
    "    let number_list = vec![34, 50, 25, 100, 65];\n",
    "\n",
    "    let result = largest(&number_list);\n",
    "    println!(\"가장 큰 숫자: {}\", result);\n",
    "\n",
    "    let number_list = vec![102, 34, 6000, 89, 54, 2, 43, 8];\n",
    "\n",
    "    let result = largest(&number_list);\n",
    "    println!(\"가장 큰 숫자: {}\", result);\n",
    "}"
   ]
  },
  {
   "cell_type": "code",
   "execution_count": 7,
   "id": "f561aa32",
   "metadata": {},
   "outputs": [
    {
     "name": "stdout",
     "output_type": "stream",
     "text": [
      "가장 큰 숫자: 100\n",
      "가장 큰 숫자: 6000\n"
     ]
    }
   ],
   "source": [
    "main();"
   ]
  },
  {
   "cell_type": "code",
   "execution_count": null,
   "id": "230bcc7b",
   "metadata": {},
   "outputs": [],
   "source": []
  },
  {
   "cell_type": "markdown",
   "id": "4abf1224",
   "metadata": {},
   "source": [
    "## 2. 기존 함수 참조하기:\n",
    "\n",
    "- 다양하게 제공되는 함수를 작성하는 함수 내부에서 호출해서 사용하기 "
   ]
  },
  {
   "cell_type": "markdown",
   "id": "3366020c",
   "metadata": {},
   "source": [
    "### 함수를 정의 "
   ]
  },
  {
   "cell_type": "code",
   "execution_count": 7,
   "id": "3c0c6234",
   "metadata": {},
   "outputs": [],
   "source": [
    "fn add(x: i32, y: i32) -> i32 {\n",
    "    x + y\n",
    "}"
   ]
  },
  {
   "cell_type": "markdown",
   "id": "6251b90d",
   "metadata": {},
   "source": [
    "### 기존 정의된 함수를 호출해서 사용 "
   ]
  },
  {
   "cell_type": "code",
   "execution_count": 16,
   "id": "f9e02524",
   "metadata": {},
   "outputs": [],
   "source": [
    "fn multiply_by_two(x: i32) -> i32 {\n",
    "    add(x, x)\n",
    "}"
   ]
  },
  {
   "cell_type": "markdown",
   "id": "3b9e4e51",
   "metadata": {},
   "source": [
    "### 함수를 실행"
   ]
  },
  {
   "cell_type": "code",
   "execution_count": 17,
   "id": "f5d669c6",
   "metadata": {},
   "outputs": [],
   "source": [
    "fn main() {\n",
    "    let result = multiply_by_two(5);\n",
    "    println!(\"Result: {}\", result);\n",
    "}"
   ]
  },
  {
   "cell_type": "code",
   "execution_count": 8,
   "id": "cdd02ef9",
   "metadata": {},
   "outputs": [
    {
     "name": "stdout",
     "output_type": "stream",
     "text": [
      "Result: 10\n"
     ]
    }
   ],
   "source": [
    "main();"
   ]
  },
  {
   "cell_type": "code",
   "execution_count": null,
   "id": "09eaff77",
   "metadata": {},
   "outputs": [],
   "source": []
  },
  {
   "cell_type": "markdown",
   "id": "cd34b2a3",
   "metadata": {},
   "source": [
    "## 3. 트레이트와 제네릭 사용하기: \n",
    "\n",
    "- 제너릭으로 함수를 구현\n",
    "- 제너릭 타입에 대한 제한을 트레이트 경계로 처리\n",
    "- 다양한 자료형에 대해 처리"
   ]
  },
  {
   "cell_type": "markdown",
   "id": "d494b3fa",
   "metadata": {},
   "source": [
    "### 트레이트 제한을 사용해서 특정 기능을 처리"
   ]
  },
  {
   "cell_type": "code",
   "execution_count": 19,
   "id": "f000442b",
   "metadata": {},
   "outputs": [],
   "source": [
    "use std::fmt::Display;\n",
    "\n",
    "fn print_value<T: Display>(value: T) {\n",
    "    println!(\"Value: {}\", value);\n",
    "}\n"
   ]
  },
  {
   "cell_type": "markdown",
   "id": "bf51cfac",
   "metadata": {},
   "source": [
    "### 다양한 타입에 대한 처리 "
   ]
  },
  {
   "cell_type": "code",
   "execution_count": 18,
   "id": "43aadf99",
   "metadata": {},
   "outputs": [],
   "source": [
    "fn main() {\n",
    "    print_value(10);\n",
    "    print_value(3.14);\n",
    "    print_value(\"Hello\");\n",
    "}"
   ]
  },
  {
   "cell_type": "code",
   "execution_count": 10,
   "id": "21934692",
   "metadata": {},
   "outputs": [
    {
     "name": "stdout",
     "output_type": "stream",
     "text": [
      "Value: 10\n",
      "Value: 3.14\n",
      "Value: Hello\n"
     ]
    }
   ],
   "source": [
    "main();"
   ]
  },
  {
   "cell_type": "code",
   "execution_count": null,
   "id": "710737dd",
   "metadata": {},
   "outputs": [],
   "source": []
  },
  {
   "cell_type": "markdown",
   "id": "08e1a274",
   "metadata": {},
   "source": [
    "## 4. 함수 조합(composition): \n",
    "\n",
    "- 실행함수와 구조화함수를 정의한다. \n",
    "- 재구성한 함수를 반환한다.\n",
    "- 데이터를 받고 재구성한 함수를 실행한다. "
   ]
  },
  {
   "cell_type": "markdown",
   "id": "c0229de5",
   "metadata": {},
   "source": [
    "### 실행함수 정의"
   ]
  },
  {
   "cell_type": "code",
   "execution_count": 11,
   "id": "5452ef6e",
   "metadata": {},
   "outputs": [],
   "source": [
    "fn add_one(x: i32) -> i32 {\n",
    "    x + 1\n",
    "}\n",
    "\n",
    "fn double(x: i32) -> i32 {\n",
    "    x * 2\n",
    "}"
   ]
  },
  {
   "cell_type": "markdown",
   "id": "ccbc9e9d",
   "metadata": {},
   "source": [
    "### 구조화함수 정의\n",
    "\n",
    "- 제너릭으로 함수를 정의 => 내부에 클로저로 두 함수를 처리하는 함수를 지정함\n",
    "- 트레이트 구현으로 함수 반환값 처리 \n"
   ]
  },
  {
   "cell_type": "code",
   "execution_count": 13,
   "id": "fd62daaa",
   "metadata": {},
   "outputs": [],
   "source": [
    "fn compose<F, G>(f: F, g: G) -> impl Fn(i32) -> i32\n",
    "where\n",
    "    F: Fn(i32) -> i32,\n",
    "    G: Fn(i32) -> i32,\n",
    "{\n",
    "    move |x| g(f(x))\n",
    "}\n"
   ]
  },
  {
   "cell_type": "markdown",
   "id": "0c0e5580",
   "metadata": {},
   "source": [
    "### 실제 함수를 처리 "
   ]
  },
  {
   "cell_type": "code",
   "execution_count": 14,
   "id": "2ce5b254",
   "metadata": {},
   "outputs": [],
   "source": [
    "fn main() {\n",
    "    let value = 5;\n",
    "\n",
    "    let composed = compose(add_one, double);\n",
    "    let result = composed(value);\n",
    "    println!(\"Result: {}\", result);\n",
    "}"
   ]
  },
  {
   "cell_type": "code",
   "execution_count": 15,
   "id": "42b76f6d",
   "metadata": {},
   "outputs": [
    {
     "name": "stdout",
     "output_type": "stream",
     "text": [
      "Result: 12\n"
     ]
    }
   ],
   "source": [
    "main();"
   ]
  },
  {
   "cell_type": "code",
   "execution_count": null,
   "id": "258ea4cb",
   "metadata": {},
   "outputs": [],
   "source": []
  }
 ],
 "metadata": {
  "kernelspec": {
   "display_name": "Rust",
   "language": "rust",
   "name": "rust"
  },
  "language_info": {
   "codemirror_mode": "rust",
   "file_extension": ".rs",
   "mimetype": "text/rust",
   "name": "Rust",
   "pygment_lexer": "rust",
   "version": ""
  }
 },
 "nbformat": 4,
 "nbformat_minor": 5
}
