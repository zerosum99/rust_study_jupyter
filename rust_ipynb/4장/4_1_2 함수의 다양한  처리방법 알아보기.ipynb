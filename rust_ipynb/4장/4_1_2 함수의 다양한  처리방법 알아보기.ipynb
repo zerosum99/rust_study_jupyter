{
 "cells": [
  {
   "cell_type": "code",
   "execution_count": null,
   "id": "afa8da70",
   "metadata": {},
   "outputs": [],
   "source": []
  },
  {
   "cell_type": "markdown",
   "id": "89c3fabb",
   "metadata": {},
   "source": [
    "# 1. 함수에서 함수 호출 처리하기  \n"
   ]
  },
  {
   "cell_type": "markdown",
   "id": "16cae833",
   "metadata": {},
   "source": [
    "## 1-1 함수 정의 순서와 상관없이 호출이 가능\n",
    "\n",
    "- main 함수보다 뒤에 정의해도 함수 내부에서 호출이 가능"
   ]
  },
  {
   "cell_type": "markdown",
   "id": "deb9598b",
   "metadata": {},
   "source": [
    "### 러스트 실행함수는 기본 main 함수이다 "
   ]
  },
  {
   "cell_type": "code",
   "execution_count": 2,
   "id": "404479ff",
   "metadata": {},
   "outputs": [],
   "source": [
    "fn main() {\n",
    "    println!(\"Hello, world!\");\n",
    "}\n"
   ]
  },
  {
   "cell_type": "code",
   "execution_count": 3,
   "id": "4229f41f",
   "metadata": {},
   "outputs": [
    {
     "name": "stdout",
     "output_type": "stream",
     "text": [
      "Hello, world!\n"
     ]
    }
   ],
   "source": [
    "main();"
   ]
  },
  {
   "cell_type": "code",
   "execution_count": null,
   "id": "b7776de2",
   "metadata": {},
   "outputs": [],
   "source": []
  },
  {
   "cell_type": "markdown",
   "id": "c54ad7c3",
   "metadata": {},
   "source": [
    "###  메인함수에서 외부에 정의된 함수 호출하기"
   ]
  },
  {
   "cell_type": "code",
   "execution_count": 4,
   "id": "f8ab7352",
   "metadata": {},
   "outputs": [],
   "source": [
    "fn main() {\n",
    "    println!(\"Hello, world!\");\n",
    "\n",
    "    another_function();\n",
    "}\n",
    "\n",
    "fn another_function() {\n",
    "    println!(\"메인함수보다 뒤에 정의.\");\n",
    "}"
   ]
  },
  {
   "cell_type": "code",
   "execution_count": 5,
   "id": "1c6d2a9d",
   "metadata": {},
   "outputs": [
    {
     "name": "stdout",
     "output_type": "stream",
     "text": [
      "Hello, world!\n",
      "메인함수보다 뒤에 정의.\n"
     ]
    },
    {
     "data": {
      "text/plain": [
       "()"
      ]
     },
     "execution_count": 5,
     "metadata": {},
     "output_type": "execute_result"
    }
   ],
   "source": [
    "main()"
   ]
  },
  {
   "cell_type": "markdown",
   "id": "7cb20916",
   "metadata": {},
   "source": [
    "### 외부에 정의된 함수의 순서에 상관없이 호출이 가능"
   ]
  },
  {
   "cell_type": "code",
   "execution_count": 6,
   "id": "c5552580",
   "metadata": {},
   "outputs": [],
   "source": [
    "fn another_function_1() {\n",
    "    println!(\"메인함수보다 먼저 정의 .\");\n",
    "}\n",
    "\n",
    "fn main() {\n",
    "    println!(\"Hello, world!\");\n",
    "\n",
    "    another_function_1();\n",
    "}"
   ]
  },
  {
   "cell_type": "code",
   "execution_count": 7,
   "id": "6dd2aca8",
   "metadata": {},
   "outputs": [
    {
     "name": "stdout",
     "output_type": "stream",
     "text": [
      "Hello, world!\n",
      "메인함수보다 먼저 정의 .\n"
     ]
    },
    {
     "data": {
      "text/plain": [
       "()"
      ]
     },
     "execution_count": 7,
     "metadata": {},
     "output_type": "execute_result"
    }
   ],
   "source": [
    "main()"
   ]
  },
  {
   "cell_type": "markdown",
   "id": "eb8bee18",
   "metadata": {},
   "source": [
    "## 1-2 함수 내부에 함수 정의\n",
    "\n",
    "\n",
    "- 함수 내부에도 함수를 정의해서 실행이 가능 \n",
    "- 함수 외부에 정의된 함수를 내부에서 호출해서 사용이 가능"
   ]
  },
  {
   "cell_type": "markdown",
   "id": "f3e515b0",
   "metadata": {},
   "source": [
    "### 일반적인 프로그램에서 내외부 함수의 스코핑 규칙\n",
    "\n",
    "- 외부 함수의 지역변수는 내부함수에서 참조가 가능하다.\n",
    "- 그래서 내부함수에서 외부함수의 지역변수를 전역변수처럼 사용한다.\n",
    "\n",
    "### 러스트에서의 내외부 함수의 스코핑 규칙\n",
    "- 외부함수의 지역변수를 내부함수에 참조할 수 없다.\n",
    "- 단 클로저 즉 익명함수를 정의해서 참조할 수 있다."
   ]
  },
  {
   "cell_type": "code",
   "execution_count": 8,
   "id": "5afddf91",
   "metadata": {},
   "outputs": [
    {
     "ename": "Error",
     "evalue": "can't capture dynamic environment in a fn item",
     "output_type": "error",
     "traceback": [
      "        println!(\"{}\", &x);       // 이런 경우는 매개변수로 전달해서 처리해야 함 ",
      "\u001b[91m                        ^\u001b[0m \u001b[94merror: can't capture dynamic environment in a fn item\u001b[0m",
      "can't capture dynamic environment in a fn item",
      "\u001b[1mhelp\u001b[0m: use the `|| { ... }` closure form instead"
     ]
    }
   ],
   "source": [
    "fn main() {\n",
    "    let x = 100;\n",
    "    \n",
    "    fn print_func() {             // 일반함수에서는 외부의 변수를 접근할 수 없다. \n",
    "        println!(\"{}\", &x);       // 이런 경우는 매개변수로 전달해서 처리해야 함 \n",
    "                                  // 외부 변수를 사용하려면 클로저를 사용해서 처리해야 함 \n",
    "    }\n",
    "    \n",
    "    print_func();\n",
    "}"
   ]
  },
  {
   "cell_type": "code",
   "execution_count": null,
   "id": "409d4edf",
   "metadata": {},
   "outputs": [],
   "source": []
  },
  {
   "cell_type": "markdown",
   "id": "c4f45ed8",
   "metadata": {},
   "source": [
    "### 내부외 함수도 접근이 안되어서 인자로 전달 처리\n",
    "\n",
    "- 러스트 내외부 함수 스코프 규칙에 따라서 외부함수의 지역변수를 내부함수의 인자로 전달해서 사용해야 함\n",
    "-\n"
   ]
  },
  {
   "cell_type": "code",
   "execution_count": 9,
   "id": "d2bba93f",
   "metadata": {},
   "outputs": [],
   "source": [
    "fn outer(x:i32) {\n",
    "               \n",
    "    fn inner(x1 : i32 ) {\n",
    "        println!(\" inner call {} \", x1);\n",
    "    }\n",
    "    \n",
    "    inner(x);\n",
    "}\n",
    "\n",
    "fn main() {\n",
    "    outer(100);\n",
    "}"
   ]
  },
  {
   "cell_type": "code",
   "execution_count": 10,
   "id": "2340d29a",
   "metadata": {},
   "outputs": [
    {
     "name": "stdout",
     "output_type": "stream",
     "text": [
      " inner call 100 \n"
     ]
    },
    {
     "data": {
      "text/plain": [
       "()"
      ]
     },
     "execution_count": 10,
     "metadata": {},
     "output_type": "execute_result"
    }
   ],
   "source": [
    "main()"
   ]
  },
  {
   "cell_type": "markdown",
   "id": "8ed7323e",
   "metadata": {},
   "source": [
    "## 1-3 함수를 변수에 할당하기\n",
    "\n",
    "- 함수를 정의하고 함수 반환 결과를 변수에 할당할 수 있다. \n",
    "- 또한 함수 자체를 변수에 할당할 수도 있다"
   ]
  },
  {
   "cell_type": "markdown",
   "id": "190f6740",
   "metadata": {},
   "source": [
    "### 함수 실행결과를 변수에 할당\n",
    "\n",
    "- 보통 함수 반환값을 변수에 할당 "
   ]
  },
  {
   "cell_type": "code",
   "execution_count": 24,
   "id": "90cc033a",
   "metadata": {},
   "outputs": [],
   "source": [
    "fn add_two(mut x : i32) -> i32 {\n",
    "    x = x + 2;\n",
    "    x\n",
    "}\n",
    "\n",
    "fn main() {\n",
    "    let mut x = 100;\n",
    "    let answer = add_two(x);\n",
    "\n",
    "    println!(\"함수반환값을 실행: {}\", answer);\n",
    "}"
   ]
  },
  {
   "cell_type": "code",
   "execution_count": 25,
   "id": "4e860655",
   "metadata": {},
   "outputs": [
    {
     "name": "stdout",
     "output_type": "stream",
     "text": [
      "함수반환값을 실행: 102\n"
     ]
    },
    {
     "data": {
      "text/plain": [
       "()"
      ]
     },
     "execution_count": 25,
     "metadata": {},
     "output_type": "execute_result"
    }
   ],
   "source": [
    "main()"
   ]
  },
  {
   "cell_type": "markdown",
   "id": "d3d3701a",
   "metadata": {},
   "source": [
    "### 함수를 정의하면 기본 함수포인터 타입이다\n",
    "- 그래서 변수에 할당할 수 있다. \n",
    "- 보통 함수 포인터 타입은 fn(매개변수 자료형) -> 반환자료형 으로 지정\n",
    "- 매개변수와 반환값이 없는 경우는 fn() 으로 지정한다, "
   ]
  },
  {
   "cell_type": "code",
   "execution_count": 26,
   "id": "afa1e209",
   "metadata": {},
   "outputs": [],
   "source": [
    "fn add_three(x : &i32) -> i32 {\n",
    "    let mut y = *x;\n",
    "    y+ 3\n",
    "}\n",
    "\n",
    "fn main() {\n",
    "    let x = 200;\n",
    "    let answer = add_three;\n",
    "\n",
    "    println!(\"함수를 실행한 값을: {}\", answer(&x));\n",
    "}"
   ]
  },
  {
   "cell_type": "code",
   "execution_count": 27,
   "id": "9c0e7436",
   "metadata": {},
   "outputs": [
    {
     "name": "stdout",
     "output_type": "stream",
     "text": [
      "함수를 실행한 값을: 203\n"
     ]
    },
    {
     "data": {
      "text/plain": [
       "()"
      ]
     },
     "execution_count": 27,
     "metadata": {},
     "output_type": "execute_result"
    }
   ],
   "source": [
    "main()"
   ]
  },
  {
   "cell_type": "code",
   "execution_count": null,
   "id": "4009bea9",
   "metadata": {},
   "outputs": [],
   "source": []
  },
  {
   "cell_type": "markdown",
   "id": "df49bd22",
   "metadata": {},
   "source": [
    "## 1-4 외부 함수를 함수 내부에서 반환하기\n",
    "\n",
    "- 함수 반환값을 구현 트레이트로 지정할 수 있다.\n",
    "- 구현 트레이트로 반환할 경우는 단일한 자료형태만 가능"
   ]
  },
  {
   "cell_type": "markdown",
   "id": "1ddae173",
   "metadata": {},
   "source": [
    "### 외부에 정의된 함수를 다른 함수에서 반환값으로 처리\n",
    "\n",
    "- 매개변수와 함수 반환값으로 함수를 전달할 때는 트레이트 구현으로 지정한다.\n",
    "\n",
    "- "
   ]
  },
  {
   "cell_type": "code",
   "execution_count": 34,
   "id": "e8b03fbf",
   "metadata": {},
   "outputs": [],
   "source": [
    "fn func_return(x1 : u32) {\n",
    "        println!(\" inner call {} \", x1);\n",
    "}\n",
    "\n",
    "fn exec(x:u32) -> impl Fn(u32)  {   // 함수에 대한 반환자료형으로 구현 트레이트로 지정 \n",
    "    \n",
    "    func_return\n",
    "}"
   ]
  },
  {
   "cell_type": "code",
   "execution_count": 35,
   "id": "6aa56a10",
   "metadata": {},
   "outputs": [],
   "source": [
    "fn main() {\n",
    "    let s = exec(100);\n",
    "    s(200);\n",
    "}"
   ]
  },
  {
   "cell_type": "code",
   "execution_count": 36,
   "id": "6c433f5d",
   "metadata": {},
   "outputs": [
    {
     "name": "stdout",
     "output_type": "stream",
     "text": [
      " inner call 200 \n"
     ]
    },
    {
     "data": {
      "text/plain": [
       "()"
      ]
     },
     "execution_count": 36,
     "metadata": {},
     "output_type": "execute_result"
    }
   ],
   "source": [
    "main()"
   ]
  },
  {
   "cell_type": "markdown",
   "id": "7f1886f4",
   "metadata": {},
   "source": [
    "### 제너릭으로 지정해서 처리할 수 있다\n",
    "\n",
    "- 함수 매개변수와 반환 자료형을 제너릭으로 처리 가능\n"
   ]
  },
  {
   "cell_type": "code",
   "execution_count": 18,
   "id": "6c0e5fa8",
   "metadata": {},
   "outputs": [],
   "source": [
    "fn inner1<T:std::fmt::Display>(x1 : T) {\n",
    "        println!(\" inner call {} \", x1);\n",
    "}\n",
    "\n",
    "fn outer1<T:std::fmt::Display>(x:i32) -> impl Fn(T)  {\n",
    "    \n",
    "    return inner1;\n",
    "}"
   ]
  },
  {
   "cell_type": "code",
   "execution_count": 19,
   "id": "85a5ed47",
   "metadata": {},
   "outputs": [],
   "source": [
    "fn main() {\n",
    "    let s = outer1::<i32>(100);\n",
    "    s(200);\n",
    "}"
   ]
  },
  {
   "cell_type": "code",
   "execution_count": 20,
   "id": "b060b734",
   "metadata": {},
   "outputs": [
    {
     "name": "stdout",
     "output_type": "stream",
     "text": [
      " inner call 200 \n"
     ]
    }
   ],
   "source": [
    "main();"
   ]
  },
  {
   "cell_type": "markdown",
   "id": "34a6d20a",
   "metadata": {},
   "source": [
    "## 1-5  함수 체인 처리하기\n",
    "\n",
    "- 연속적인 함수를 실행하려면 함수를 호출한 결과를 함수를 반환해서 처리 "
   ]
  },
  {
   "cell_type": "markdown",
   "id": "7e794dd4",
   "metadata": {},
   "source": [
    "### 2개의 함수를 지정\n",
    "\n",
    "- 하나는 다른 함수를 반환한다.\n",
    "- 트레이트 구현 내의 매개변수와 반환값은 제너릭으로 처리"
   ]
  },
  {
   "cell_type": "code",
   "execution_count": 8,
   "id": "bf914a23",
   "metadata": {},
   "outputs": [],
   "source": [
    "fn identity<T>(a: T) -> T {\n",
    "    return a;\n",
    "}\n",
    "\n",
    "fn right<T>(_a: T) -> impl Fn(T) -> T {\n",
    "    return identity;\n",
    "}\n",
    "\n",
    "fn main() {\n",
    "    println!(\"{}\", right(0)(42))\n",
    "}"
   ]
  },
  {
   "cell_type": "code",
   "execution_count": 9,
   "id": "dc6ffefb",
   "metadata": {},
   "outputs": [
    {
     "name": "stdout",
     "output_type": "stream",
     "text": [
      "42\n"
     ]
    },
    {
     "data": {
      "text/plain": [
       "()"
      ]
     },
     "execution_count": 9,
     "metadata": {},
     "output_type": "execute_result"
    }
   ],
   "source": [
    "main()"
   ]
  },
  {
   "cell_type": "code",
   "execution_count": null,
   "id": "3d53e2e8",
   "metadata": {},
   "outputs": [],
   "source": []
  },
  {
   "cell_type": "markdown",
   "id": "654c2641",
   "metadata": {},
   "source": [
    "## 1-6 함수를 매개변수로 전달하기 "
   ]
  },
  {
   "cell_type": "markdown",
   "id": "29958a2f",
   "metadata": {},
   "source": [
    "### 일반적인 함수 자료형을 지정해서 처리도 가능하다\n",
    "\n",
    "- 함수 자료형을 지정할 때는 함수 포인터 타입인 fn(매개변수)-> 반환값 으로 지정한다."
   ]
  },
  {
   "cell_type": "code",
   "execution_count": 3,
   "id": "499575fd",
   "metadata": {},
   "outputs": [],
   "source": [
    "fn add_one(x: i32) -> i32 {\n",
    "    x + 1\n",
    "}\n",
    "\n",
    "fn do_twice(f: fn(i32) -> i32, arg: i32) -> i32 {\n",
    "    f(arg) + f(arg)\n",
    "}\n",
    "\n",
    "fn main() {\n",
    "    let answer = do_twice(add_one, 5);\n",
    "\n",
    "    println!(\"The answer is: {}\", answer);\n",
    "}"
   ]
  },
  {
   "cell_type": "code",
   "execution_count": 4,
   "id": "33e433bc",
   "metadata": {},
   "outputs": [
    {
     "name": "stdout",
     "output_type": "stream",
     "text": [
      "The answer is: 12\n"
     ]
    },
    {
     "data": {
      "text/plain": [
       "()"
      ]
     },
     "execution_count": 4,
     "metadata": {},
     "output_type": "execute_result"
    }
   ],
   "source": [
    "main()"
   ]
  },
  {
   "cell_type": "markdown",
   "id": "405c9940",
   "metadata": {},
   "source": [
    "## 1-7 함수를 반환할 때도 함수 참조로 반환이 가능"
   ]
  },
  {
   "cell_type": "markdown",
   "id": "6925ba7e",
   "metadata": {},
   "source": [
    "### 함수를 참조 반환값으로 전달할 대는 트레이트 객체로 지정\n",
    "- dyn 예약어에 함수 트레이트를 지정하면 트레이트 객체가 만들어짐"
   ]
  },
  {
   "cell_type": "code",
   "execution_count": 15,
   "id": "8ce122b7",
   "metadata": {},
   "outputs": [],
   "source": [
    "fn identity<T>(a: T) -> T {\n",
    "    return a;\n",
    "}\n",
    "\n",
    "fn right<T>() -> &'static dyn Fn(T)->T {\n",
    "    return &identity::<T>;\n",
    "}\n",
    "\n",
    "fn main() {\n",
    "    println!(\"{}\", right()(3.1415));\n",
    "}"
   ]
  },
  {
   "cell_type": "code",
   "execution_count": 16,
   "id": "85b89b7b",
   "metadata": {},
   "outputs": [
    {
     "name": "stdout",
     "output_type": "stream",
     "text": [
      "3.1415\n"
     ]
    },
    {
     "data": {
      "text/plain": [
       "()"
      ]
     },
     "execution_count": 16,
     "metadata": {},
     "output_type": "execute_result"
    }
   ],
   "source": [
    "main()"
   ]
  },
  {
   "cell_type": "markdown",
   "id": "9e069820",
   "metadata": {},
   "source": [
    "## 1-8  문자열을 변경할 때 처리 "
   ]
  },
  {
   "cell_type": "markdown",
   "id": "4237adee",
   "metadata": {},
   "source": [
    "### 문자열로 전달할 경우 "
   ]
  },
  {
   "cell_type": "code",
   "execution_count": 43,
   "id": "051232d3",
   "metadata": {},
   "outputs": [],
   "source": [
    "fn str_return(x : String) -> String {\n",
    "    let x1 = x;\n",
    "    x1\n",
    "}"
   ]
  },
  {
   "cell_type": "code",
   "execution_count": 45,
   "id": "3d23f820",
   "metadata": {},
   "outputs": [
    {
     "data": {
      "text/plain": [
       "\"문자열\""
      ]
     },
     "execution_count": 45,
     "metadata": {},
     "output_type": "execute_result"
    }
   ],
   "source": [
    "let ss = \"문자열\".to_string();\n",
    "str_return(ss)"
   ]
  },
  {
   "cell_type": "markdown",
   "id": "a3a945a1",
   "metadata": {},
   "source": [
    "### 문자열을 참조로 전달해서 변경하려면 예외가 발생한다"
   ]
  },
  {
   "cell_type": "code",
   "execution_count": 46,
   "id": "ce21ecea",
   "metadata": {},
   "outputs": [
    {
     "ename": "Error",
     "evalue": "unused variable: `x`",
     "output_type": "error",
     "traceback": [
      "\u001b[31m[unused_variables] Error:\u001b[0m unused variable: `x`"
     ]
    },
    {
     "ename": "Error",
     "evalue": "cannot borrow `*some_string` as mutable, as it is behind a `&` reference",
     "output_type": "error",
     "traceback": [
      "\u001b[31m[E0596] Error:\u001b[0m cannot borrow `*some_string` as mutable, as it is behind a `&` reference",
      "   \u001b[38;5;246m╭\u001b[0m\u001b[38;5;246m─\u001b[0m\u001b[38;5;246m[\u001b[0mcommand_46:1:1\u001b[38;5;246m]\u001b[0m",
      "   \u001b[38;5;246m│\u001b[0m",
      " \u001b[38;5;246m7 │\u001b[0m \u001b[38;5;249mf\u001b[0m\u001b[38;5;249mn\u001b[0m\u001b[38;5;249m \u001b[0m\u001b[38;5;249mc\u001b[0m\u001b[38;5;249mh\u001b[0m\u001b[38;5;249ma\u001b[0m\u001b[38;5;249mn\u001b[0m\u001b[38;5;249mg\u001b[0m\u001b[38;5;249me\u001b[0m\u001b[38;5;249m(\u001b[0m\u001b[38;5;249ms\u001b[0m\u001b[38;5;249mo\u001b[0m\u001b[38;5;249mm\u001b[0m\u001b[38;5;249me\u001b[0m\u001b[38;5;249m_\u001b[0m\u001b[38;5;249ms\u001b[0m\u001b[38;5;249mt\u001b[0m\u001b[38;5;249mr\u001b[0m\u001b[38;5;249mi\u001b[0m\u001b[38;5;249mn\u001b[0m\u001b[38;5;249mg\u001b[0m\u001b[38;5;249m:\u001b[0m\u001b[38;5;249m \u001b[0m\u001b[38;5;100m&\u001b[0m\u001b[38;5;100mS\u001b[0m\u001b[38;5;100mt\u001b[0m\u001b[38;5;100mr\u001b[0m\u001b[38;5;100mi\u001b[0m\u001b[38;5;100mn\u001b[0m\u001b[38;5;100mg\u001b[0m\u001b[38;5;249m)\u001b[0m\u001b[38;5;249m \u001b[0m\u001b[38;5;249m{\u001b[0m",
      " \u001b[38;5;246m  ·\u001b[0m                        \u001b[38;5;100m─\u001b[0m\u001b[38;5;100m─\u001b[0m\u001b[38;5;100m─\u001b[0m\u001b[38;5;100m┬\u001b[0m\u001b[38;5;100m─\u001b[0m\u001b[38;5;100m─\u001b[0m\u001b[38;5;100m─\u001b[0m  ",
      " \u001b[38;5;246m  ·\u001b[0m                           \u001b[38;5;100m╰\u001b[0m\u001b[38;5;100m─\u001b[0m\u001b[38;5;100m─\u001b[0m\u001b[38;5;100m─\u001b[0m\u001b[38;5;100m─\u001b[0m\u001b[38;5;100m─\u001b[0m help: consider changing this to be a mutable reference: `&mut String`",
      " \u001b[38;5;246m8 │\u001b[0m \u001b[38;5;249m \u001b[0m\u001b[38;5;249m \u001b[0m\u001b[38;5;249m \u001b[0m\u001b[38;5;249m \u001b[0m\u001b[38;5;54ms\u001b[0m\u001b[38;5;54mo\u001b[0m\u001b[38;5;54mm\u001b[0m\u001b[38;5;54me\u001b[0m\u001b[38;5;54m_\u001b[0m\u001b[38;5;54ms\u001b[0m\u001b[38;5;54mt\u001b[0m\u001b[38;5;54mr\u001b[0m\u001b[38;5;54mi\u001b[0m\u001b[38;5;54mn\u001b[0m\u001b[38;5;54mg\u001b[0m\u001b[38;5;54m.\u001b[0m\u001b[38;5;54mp\u001b[0m\u001b[38;5;54mu\u001b[0m\u001b[38;5;54ms\u001b[0m\u001b[38;5;54mh\u001b[0m\u001b[38;5;54m_\u001b[0m\u001b[38;5;54ms\u001b[0m\u001b[38;5;54mt\u001b[0m\u001b[38;5;54mr\u001b[0m\u001b[38;5;54m(\u001b[0m\u001b[38;5;54m\"\u001b[0m\u001b[38;5;54m,\u001b[0m\u001b[38;5;54m \u001b[0m\u001b[38;5;54mw\u001b[0m\u001b[38;5;54mo\u001b[0m\u001b[38;5;54mr\u001b[0m\u001b[38;5;54ml\u001b[0m\u001b[38;5;54md\u001b[0m\u001b[38;5;54m\"\u001b[0m\u001b[38;5;54m)\u001b[0m\u001b[38;5;249m;\u001b[0m",
      " \u001b[38;5;246m  ·\u001b[0m     \u001b[38;5;54m─\u001b[0m\u001b[38;5;54m─\u001b[0m\u001b[38;5;54m─\u001b[0m\u001b[38;5;54m─\u001b[0m\u001b[38;5;54m─\u001b[0m\u001b[38;5;54m─\u001b[0m\u001b[38;5;54m─\u001b[0m\u001b[38;5;54m─\u001b[0m\u001b[38;5;54m─\u001b[0m\u001b[38;5;54m─\u001b[0m\u001b[38;5;54m─\u001b[0m\u001b[38;5;54m─\u001b[0m\u001b[38;5;54m─\u001b[0m\u001b[38;5;54m─\u001b[0m\u001b[38;5;54m─\u001b[0m\u001b[38;5;54m┬\u001b[0m\u001b[38;5;54m─\u001b[0m\u001b[38;5;54m─\u001b[0m\u001b[38;5;54m─\u001b[0m\u001b[38;5;54m─\u001b[0m\u001b[38;5;54m─\u001b[0m\u001b[38;5;54m─\u001b[0m\u001b[38;5;54m─\u001b[0m\u001b[38;5;54m─\u001b[0m\u001b[38;5;54m─\u001b[0m\u001b[38;5;54m─\u001b[0m\u001b[38;5;54m─\u001b[0m\u001b[38;5;54m─\u001b[0m\u001b[38;5;54m─\u001b[0m\u001b[38;5;54m─\u001b[0m\u001b[38;5;54m─\u001b[0m  ",
      " \u001b[38;5;246m  ·\u001b[0m                    \u001b[38;5;54m╰\u001b[0m\u001b[38;5;54m─\u001b[0m\u001b[38;5;54m─\u001b[0m\u001b[38;5;54m─\u001b[0m\u001b[38;5;54m─\u001b[0m\u001b[38;5;54m─\u001b[0m\u001b[38;5;54m─\u001b[0m\u001b[38;5;54m─\u001b[0m\u001b[38;5;54m─\u001b[0m\u001b[38;5;54m─\u001b[0m\u001b[38;5;54m─\u001b[0m\u001b[38;5;54m─\u001b[0m\u001b[38;5;54m─\u001b[0m\u001b[38;5;54m─\u001b[0m\u001b[38;5;54m─\u001b[0m\u001b[38;5;54m─\u001b[0m\u001b[38;5;54m─\u001b[0m\u001b[38;5;54m─\u001b[0m `some_string` is a `&` reference, so the data it refers to cannot be borrowed as mutable",
      " \u001b[38;5;246m  ·\u001b[0m ",
      " \u001b[38;5;246m  ·\u001b[0m \u001b[38;5;115mNote\u001b[0m: You can change an existing variable to mutable like: `let mut x = x;`",
      "\u001b[38;5;246m───╯\u001b[0m"
     ]
    }
   ],
   "source": [
    "fn main() {\n",
    "    let s = String::from(\"hello\");\n",
    "\n",
    "    change(&s);\n",
    "}\n",
    "\n",
    "fn change(some_string: &String) {\n",
    "    some_string.push_str(\", world\");\n",
    "}"
   ]
  },
  {
   "cell_type": "code",
   "execution_count": null,
   "id": "e5af8d23",
   "metadata": {},
   "outputs": [],
   "source": []
  },
  {
   "cell_type": "markdown",
   "id": "e358f3e8",
   "metadata": {},
   "source": [
    "### 문자열을 받아서 바로 갱신한 것을 반환할 경우 가변 매개변수를 사용"
   ]
  },
  {
   "cell_type": "code",
   "execution_count": 10,
   "id": "b0890422",
   "metadata": {},
   "outputs": [],
   "source": [
    "fn add_four(mut x :String) -> String {\n",
    "    x.push_str(\"four\");\n",
    "    x\n",
    "}\n",
    "\n",
    "fn main() {\n",
    "    let mut x = \"three \".to_string();\n",
    "    let answer = add_four(x);\n",
    "\n",
    "    println!(\"The answer is: {}\", answer);\n",
    "}"
   ]
  },
  {
   "cell_type": "code",
   "execution_count": 11,
   "id": "8254a5f5",
   "metadata": {},
   "outputs": [
    {
     "name": "stdout",
     "output_type": "stream",
     "text": [
      "The answer is: three four\n"
     ]
    },
    {
     "data": {
      "text/plain": [
       "()"
      ]
     },
     "execution_count": 11,
     "metadata": {},
     "output_type": "execute_result"
    }
   ],
   "source": [
    "main()"
   ]
  },
  {
   "cell_type": "markdown",
   "id": "5f854769",
   "metadata": {},
   "source": [
    "## 1-9 함수에 클로 저를 전달해서 처리하기 \n",
    "\n",
    "- 클로저를 제너릭에서 트레이트 제한으로 사용할 수 있다.\n",
    "- 클로저는 한번만 호출해서 처리되는 함수라서 FnOnce 트레이트를 사용"
   ]
  },
  {
   "cell_type": "markdown",
   "id": "447e2b5f",
   "metadata": {},
   "source": [
    "### 매개변수와 반환값이 없는 클로저 전달\n",
    "\n",
    "- 제너릭의 트레이트 제한으로 함수 자료형을 지정해서 처리"
   ]
  },
  {
   "cell_type": "code",
   "execution_count": 49,
   "id": "08e1301b",
   "metadata": {},
   "outputs": [],
   "source": [
    "fn apply<F>(f: F) where F: FnOnce() {\n",
    "\n",
    "    f();                            // statement, return value ()\n",
    "}"
   ]
  },
  {
   "cell_type": "code",
   "execution_count": 50,
   "id": "c1f3560b",
   "metadata": {},
   "outputs": [
    {
     "name": "stdout",
     "output_type": "stream",
     "text": [
      "출력\n"
     ]
    }
   ],
   "source": [
    "apply(|| {println!(\"출력\");});"
   ]
  },
  {
   "cell_type": "markdown",
   "id": "ab878467",
   "metadata": {},
   "source": [
    "### 구현 트레이트를 사용해서 하나의 매개변수와 반환값 처리 "
   ]
  },
  {
   "cell_type": "code",
   "execution_count": 51,
   "id": "df815db2",
   "metadata": {},
   "outputs": [],
   "source": [
    "fn add(f: impl FnOnce(i32)->i32) {\n",
    "    let x = 100;\n",
    "    println!(\" {} \", f(x));\n",
    "}"
   ]
  },
  {
   "cell_type": "code",
   "execution_count": 52,
   "id": "3f290c56",
   "metadata": {},
   "outputs": [
    {
     "name": "stdout",
     "output_type": "stream",
     "text": [
      " 200 \n"
     ]
    }
   ],
   "source": [
    "add(|a:i32| {a+a});"
   ]
  },
  {
   "cell_type": "code",
   "execution_count": null,
   "id": "35fbb40e",
   "metadata": {},
   "outputs": [],
   "source": []
  }
 ],
 "metadata": {
  "kernelspec": {
   "display_name": "Rust",
   "language": "rust",
   "name": "rust"
  },
  "language_info": {
   "codemirror_mode": "rust",
   "file_extension": ".rs",
   "mimetype": "text/rust",
   "name": "Rust",
   "pygment_lexer": "rust",
   "version": ""
  }
 },
 "nbformat": 4,
 "nbformat_minor": 5
}
