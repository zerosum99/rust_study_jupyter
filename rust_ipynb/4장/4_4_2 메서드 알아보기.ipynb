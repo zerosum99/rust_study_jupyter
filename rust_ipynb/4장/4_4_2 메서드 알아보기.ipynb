{
 "cells": [
  {
   "cell_type": "code",
   "execution_count": null,
   "id": "de6bf6ef",
   "metadata": {},
   "outputs": [],
   "source": []
  },
  {
   "cell_type": "code",
   "execution_count": null,
   "id": "47fe8db7",
   "metadata": {},
   "outputs": [],
   "source": []
  },
  {
   "cell_type": "markdown",
   "id": "132eda58",
   "metadata": {},
   "source": [
    "## 메서드 첫 번째 매개변수로 self 또는 &self 또는 &mut self를 사용\n",
    "\n",
    "### self: \n",
    "- 메서드가 속한 인스턴스를 소유권(ownership)으로 가져옵니다. \n",
    "- 즉, 인스턴스를 소비(consume)하고 메서드가 인스턴스를 수정할 수 있습니다. \n",
    "- 이를 이용해 인스턴스의 값을 변경하거나 인스턴스를 소멸시킬 수 있습니다.\n",
    "### '&self: \n",
    "- 메서드가 속한 인스턴스를 불변 참조자(immutable reference)로 가져옵니다. \n",
    "- 즉, 인스턴스의 값을 읽을 수는 있지만, 변경할 수는 없습니다. \n",
    "- 이를 이용해 인스턴스의 값을 조회하거나 인스턴스를 공유할 수 있습니다.\n",
    "### '&mut self: \n",
    "- 메서드가 속한 인스턴스를 가변 참조자(mutable reference)로 가져옵니다. \n",
    "- 즉, 인스턴스의 값을 읽고 변경할 수 있습니다. \n",
    "- 이를 이용해 인스턴스의 값을 수정할 수 있습니다."
   ]
  },
  {
   "cell_type": "markdown",
   "id": "0b59b660",
   "metadata": {},
   "source": [
    "## 1. 구조체의 메서드 구현 "
   ]
  },
  {
   "cell_type": "code",
   "execution_count": 2,
   "id": "a54fd330",
   "metadata": {},
   "outputs": [],
   "source": [
    "struct Rectangle {\n",
    "    width: u32,\n",
    "    height: u32,\n",
    "}\n",
    "\n",
    "impl Rectangle {\n",
    "    // `&self`를 사용한 메서드 정의\n",
    "    fn area(&self) -> u32 {\n",
    "        self.width * self.height\n",
    "    }\n",
    "    \n",
    "    // `&mut self`를 사용한 메서드 정의\n",
    "    fn scale(&mut self, factor: u32) {\n",
    "        self.width *= factor;\n",
    "        self.height *= factor;\n",
    "    }\n",
    "    \n",
    "    // `self`를 사용한 메서드 정의\n",
    "    fn destroy(self) {\n",
    "        // Rectangle 인스턴스를 소멸시킴\n",
    "    }\n",
    "}"
   ]
  },
  {
   "cell_type": "markdown",
   "id": "631ecd32",
   "metadata": {},
   "source": [
    "### 메서드 실행 "
   ]
  },
  {
   "cell_type": "code",
   "execution_count": 3,
   "id": "df86ed11",
   "metadata": {},
   "outputs": [
    {
     "name": "stdout",
     "output_type": "stream",
     "text": [
      "area: 200\n",
      "width: 20, height: 40\n"
     ]
    }
   ],
   "source": [
    "let mut rect = Rectangle {\n",
    "    width: 10,\n",
    "    height: 20,\n",
    "};\n",
    "\n",
    "println!(\"area: {}\", rect.area()); // 200\n",
    "\n",
    "rect.scale(2);\n",
    "println!(\"width: {}, height: {}\", rect.width, rect.height); // width: 20, height: 40\n",
    "\n",
    "rect.destroy(); // 인스턴스가 소멸됨"
   ]
  },
  {
   "cell_type": "markdown",
   "id": "115bcecd",
   "metadata": {},
   "source": [
    "### self 사용하면 기존 소유권이 이동됨"
   ]
  },
  {
   "cell_type": "code",
   "execution_count": 4,
   "id": "e11f2dc9",
   "metadata": {},
   "outputs": [
    {
     "ename": "Error",
     "evalue": "cannot find value `rect` in this scope",
     "output_type": "error",
     "traceback": [
      "\u001b[31m[E0425] Error:\u001b[0m cannot find value `rect` in this scope",
      "   \u001b[38;5;246m╭\u001b[0m\u001b[38;5;246m─\u001b[0m\u001b[38;5;246m[\u001b[0mcommand_4:1:1\u001b[38;5;246m]\u001b[0m",
      "   \u001b[38;5;246m│\u001b[0m",
      " \u001b[38;5;246m1 │\u001b[0m \u001b[38;5;54mr\u001b[0m\u001b[38;5;54me\u001b[0m\u001b[38;5;54mc\u001b[0m\u001b[38;5;54mt\u001b[0m",
      " \u001b[38;5;246m  ·\u001b[0m \u001b[38;5;54m─\u001b[0m\u001b[38;5;54m─\u001b[0m\u001b[38;5;54m┬\u001b[0m\u001b[38;5;54m─\u001b[0m  ",
      " \u001b[38;5;246m  ·\u001b[0m   \u001b[38;5;54m╰\u001b[0m\u001b[38;5;54m─\u001b[0m\u001b[38;5;54m─\u001b[0m\u001b[38;5;54m─\u001b[0m not found in this scope",
      "\u001b[38;5;246m───╯\u001b[0m"
     ]
    }
   ],
   "source": [
    "rect"
   ]
  },
  {
   "cell_type": "code",
   "execution_count": null,
   "id": "46960058",
   "metadata": {},
   "outputs": [],
   "source": []
  },
  {
   "cell_type": "markdown",
   "id": "b86c7691",
   "metadata": {},
   "source": [
    "## 2. 이넘의 메서드 구현 "
   ]
  },
  {
   "cell_type": "code",
   "execution_count": 8,
   "id": "6b0ace87",
   "metadata": {},
   "outputs": [],
   "source": [
    "enum Direction {\n",
    "    Up,\n",
    "    Down,\n",
    "    Left,\n",
    "    Right,\n",
    "}\n"
   ]
  },
  {
   "cell_type": "markdown",
   "id": "b6f88dc4",
   "metadata": {},
   "source": [
    "### Direction 열거형에 to_string() 메서드를 구현\n",
    "\n",
    "- 이 메서드는 열거형 항목의 값을 문자열로 변환하여 반환합니다"
   ]
  },
  {
   "cell_type": "code",
   "execution_count": 9,
   "id": "83f98e73",
   "metadata": {},
   "outputs": [],
   "source": [
    "impl Direction {\n",
    "    fn to_string(&self) -> String {\n",
    "        match self {\n",
    "            Direction::Up => \"Up\".to_string(),\n",
    "            Direction::Down => \"Down\".to_string(),\n",
    "            Direction::Left => \"Left\".to_string(),\n",
    "            Direction::Right => \"Right\".to_string(),\n",
    "        }\n",
    "    }\n",
    "}\n"
   ]
  },
  {
   "cell_type": "code",
   "execution_count": 10,
   "id": "e20c7c8c",
   "metadata": {},
   "outputs": [],
   "source": [
    "fn main() {\n",
    "    let d = Direction::Up;\n",
    "    println!(\"Direction: {}\", d.to_string()); // Direction: Up\n",
    "}"
   ]
  },
  {
   "cell_type": "code",
   "execution_count": 11,
   "id": "ff2df5d2",
   "metadata": {},
   "outputs": [
    {
     "name": "stdout",
     "output_type": "stream",
     "text": [
      "Direction: Up\n"
     ]
    }
   ],
   "source": [
    "main();"
   ]
  },
  {
   "cell_type": "code",
   "execution_count": null,
   "id": "05ee279d",
   "metadata": {},
   "outputs": [],
   "source": []
  }
 ],
 "metadata": {
  "kernelspec": {
   "display_name": "Rust",
   "language": "rust",
   "name": "rust"
  },
  "language_info": {
   "codemirror_mode": "rust",
   "file_extension": ".rs",
   "mimetype": "text/rust",
   "name": "Rust",
   "pygment_lexer": "rust",
   "version": ""
  }
 },
 "nbformat": 4,
 "nbformat_minor": 5
}
