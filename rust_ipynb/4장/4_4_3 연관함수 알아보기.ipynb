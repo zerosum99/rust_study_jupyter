{
 "cells": [
  {
   "cell_type": "code",
   "execution_count": null,
   "id": "d202bae8",
   "metadata": {},
   "outputs": [],
   "source": []
  },
  {
   "cell_type": "markdown",
   "id": "299c0ad9",
   "metadata": {},
   "source": [
    "## 연관함수\n",
    "\n",
    "- 구조체나 이넘 등에 정적 메서드 즉 실제 구조체나 이넘의 인스턴스 참조없이 작업되는 함수이다.\n",
    "\n",
    "### 연관함수 호출\n",
    "\n",
    "- 구조체명 :: 연관함수(인자) "
   ]
  },
  {
   "cell_type": "code",
   "execution_count": null,
   "id": "892020c2",
   "metadata": {},
   "outputs": [],
   "source": []
  },
  {
   "cell_type": "markdown",
   "id": "42459931",
   "metadata": {},
   "source": [
    "## 1. 구조체 내부에 연관함수와 메서드 정의 "
   ]
  },
  {
   "cell_type": "code",
   "execution_count": 12,
   "id": "eda8c2e1",
   "metadata": {},
   "outputs": [],
   "source": [
    "#[derive(Debug)]\n",
    "struct Point {\n",
    "    x: f64,\n",
    "    y: f64,\n",
    "}\n",
    "\n",
    "// Implementation block, all `Point` associated functions & methods go in here\n",
    "impl Point {\n",
    "    // This is an \"associated function\" because this function is associated with\n",
    "    // a particular type, that is, Point.\n",
    "    //\n",
    "   \n",
    "    // 매개변수 없는 연관함수 => 구조체 생성 \n",
    "    fn origin() -> Point {\n",
    "        Point { x: 0.0, y: 0.0 }\n",
    "    }\n",
    "\n",
    "    // 매개변수 있는 연관함수 Aassociated function\n",
    "    fn new(x: f64, y: f64) -> Point {\n",
    "        Point { x: x, y: y }\n",
    "    }\n",
    "    \n",
    "    fn getPrint(&self) {\n",
    "        println!(\"Point x={}, y={}\", self.x, self.y)\n",
    "    }\n",
    "}\n"
   ]
  },
  {
   "cell_type": "markdown",
   "id": "de79b6d3",
   "metadata": {},
   "source": [
    "###  객체 생성 및 메서드 호출"
   ]
  },
  {
   "cell_type": "code",
   "execution_count": 13,
   "id": "00a59af6",
   "metadata": {},
   "outputs": [],
   "source": [
    "let p = Point {x: 100.0, y:200.0};"
   ]
  },
  {
   "cell_type": "code",
   "execution_count": 14,
   "id": "ec624d57",
   "metadata": {},
   "outputs": [
    {
     "name": "stdout",
     "output_type": "stream",
     "text": [
      "Point x=100, y=200\n"
     ]
    },
    {
     "data": {
      "text/plain": [
       "()"
      ]
     },
     "execution_count": 14,
     "metadata": {},
     "output_type": "execute_result"
    }
   ],
   "source": [
    "p.getPrint()"
   ]
  },
  {
   "cell_type": "code",
   "execution_count": null,
   "id": "a453c41b",
   "metadata": {},
   "outputs": [],
   "source": []
  },
  {
   "cell_type": "markdown",
   "id": "9a90b89a",
   "metadata": {},
   "source": [
    "### 구초체 내부의 연관 함수 호출 "
   ]
  },
  {
   "cell_type": "code",
   "execution_count": 15,
   "id": "07aa5b98",
   "metadata": {},
   "outputs": [],
   "source": [
    "let po = Point::origin();"
   ]
  },
  {
   "cell_type": "code",
   "execution_count": 16,
   "id": "ac6e4e98",
   "metadata": {},
   "outputs": [
    {
     "data": {
      "text/plain": [
       "Point { x: 0.0, y: 0.0 }"
      ]
     },
     "execution_count": 16,
     "metadata": {},
     "output_type": "execute_result"
    }
   ],
   "source": [
    "po"
   ]
  },
  {
   "cell_type": "code",
   "execution_count": 17,
   "id": "0f354b87",
   "metadata": {},
   "outputs": [],
   "source": [
    "let pn = Point::new(300.3,400.4);"
   ]
  },
  {
   "cell_type": "code",
   "execution_count": 18,
   "id": "c7e5d890",
   "metadata": {},
   "outputs": [
    {
     "data": {
      "text/plain": [
       "Point { x: 300.3, y: 400.4 }"
      ]
     },
     "execution_count": 18,
     "metadata": {},
     "output_type": "execute_result"
    }
   ],
   "source": [
    "pn"
   ]
  },
  {
   "cell_type": "code",
   "execution_count": null,
   "id": "9abb7197",
   "metadata": {},
   "outputs": [],
   "source": []
  },
  {
   "cell_type": "markdown",
   "id": "ac17ab61",
   "metadata": {},
   "source": [
    "## 2. 이넘 연관함수 "
   ]
  },
  {
   "cell_type": "markdown",
   "id": "3b4a542a",
   "metadata": {},
   "source": [
    "### Direction 열거형에 from_str()이라는 연관 함수를 구현\n",
    "\n",
    "- 이 함수는 문자열을 받아 해당 문자열이 특정한 열거형 항목을 나타낼 경우, 해당 열거형 항목을 반환합니다. \n",
    "- 그렇지 않은 경우는 None을 반환합니다."
   ]
  },
  {
   "cell_type": "code",
   "execution_count": 3,
   "id": "55c30590",
   "metadata": {},
   "outputs": [],
   "source": [
    "#[derive(Debug)]\n",
    "enum Direction {\n",
    "    Up,\n",
    "    Down,\n",
    "    Left,\n",
    "    Right,\n",
    "}\n",
    "\n",
    "impl Direction {\n",
    "    fn from_str(s: &str) -> Option<Self> {\n",
    "        match s {\n",
    "            \"Up\" => Some(Direction::Up),\n",
    "            \"Down\" => Some(Direction::Down),\n",
    "            \"Left\" => Some(Direction::Left),\n",
    "            \"Right\" => Some(Direction::Right),\n",
    "            _ => None,\n",
    "        }\n",
    "    }\n",
    "}\n",
    "\n",
    "fn main() {\n",
    "    let d = Direction::from_str(\"Up\");\n",
    "    println!(\"Direction: {:?}\", d); // Direction: Some(Up)\n",
    "}"
   ]
  },
  {
   "cell_type": "code",
   "execution_count": 4,
   "id": "71414ff5",
   "metadata": {},
   "outputs": [
    {
     "name": "stdout",
     "output_type": "stream",
     "text": [
      "Direction: Some(Up)\n"
     ]
    }
   ],
   "source": [
    "main();"
   ]
  },
  {
   "cell_type": "code",
   "execution_count": null,
   "id": "34266872",
   "metadata": {},
   "outputs": [],
   "source": []
  }
 ],
 "metadata": {
  "kernelspec": {
   "display_name": "Rust",
   "language": "rust",
   "name": "rust"
  },
  "language_info": {
   "codemirror_mode": "rust",
   "file_extension": ".rs",
   "mimetype": "text/rust",
   "name": "Rust",
   "pygment_lexer": "rust",
   "version": ""
  }
 },
 "nbformat": 4,
 "nbformat_minor": 5
}
