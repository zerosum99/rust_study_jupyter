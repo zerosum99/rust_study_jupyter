{
 "cells": [
  {
   "cell_type": "code",
   "execution_count": null,
   "id": "5fa3bff6",
   "metadata": {},
   "outputs": [],
   "source": []
  },
  {
   "cell_type": "markdown",
   "id": "511ddbfe",
   "metadata": {},
   "source": [
    "## 1. 함수 내부의 매개변수가 변경할 때는 mut을 매개변수 앞에 사용 "
   ]
  },
  {
   "cell_type": "code",
   "execution_count": 8,
   "id": "73a371b5",
   "metadata": {},
   "outputs": [],
   "source": [
    "fn add(mut x:i32) -> i32 {\n",
    "    x += 100;\n",
    "    println!(\" x value ={}\", x);\n",
    "    x\n",
    "}"
   ]
  },
  {
   "cell_type": "code",
   "execution_count": 9,
   "id": "7cd6ba42",
   "metadata": {},
   "outputs": [
    {
     "name": "stdout",
     "output_type": "stream",
     "text": [
      " x value =200\n"
     ]
    }
   ],
   "source": [
    "let a = add(100);"
   ]
  },
  {
   "cell_type": "code",
   "execution_count": 10,
   "id": "0f663e8c",
   "metadata": {},
   "outputs": [
    {
     "data": {
      "text/plain": [
       "200"
      ]
     },
     "execution_count": 10,
     "metadata": {},
     "output_type": "execute_result"
    }
   ],
   "source": [
    "a"
   ]
  },
  {
   "cell_type": "markdown",
   "id": "290cd887",
   "metadata": {},
   "source": [
    "## 2. 원본까지 바꿔서 처리가 필요할 때는 참조를 변경 "
   ]
  },
  {
   "cell_type": "code",
   "execution_count": 13,
   "id": "5a47b012",
   "metadata": {},
   "outputs": [],
   "source": [
    "fn add_1(x: &mut i32) -> i32 {\n",
    "    *x += 100;\n",
    "    println!(\" x value ={}\", x);\n",
    "    *x\n",
    "}"
   ]
  },
  {
   "cell_type": "code",
   "execution_count": 14,
   "id": "74842d3f",
   "metadata": {},
   "outputs": [],
   "source": [
    "let mut b = 100;"
   ]
  },
  {
   "cell_type": "code",
   "execution_count": 15,
   "id": "72ab78f6",
   "metadata": {},
   "outputs": [
    {
     "name": "stdout",
     "output_type": "stream",
     "text": [
      " x value =200\n"
     ]
    }
   ],
   "source": [
    "let c = add_1(&mut b);"
   ]
  },
  {
   "cell_type": "code",
   "execution_count": 16,
   "id": "fd5cb321",
   "metadata": {},
   "outputs": [
    {
     "data": {
      "text/plain": [
       "200"
      ]
     },
     "execution_count": 16,
     "metadata": {},
     "output_type": "execute_result"
    }
   ],
   "source": [
    "c"
   ]
  },
  {
   "cell_type": "code",
   "execution_count": 17,
   "id": "3e71c6d8",
   "metadata": {},
   "outputs": [
    {
     "data": {
      "text/plain": [
       "200"
      ]
     },
     "execution_count": 17,
     "metadata": {},
     "output_type": "execute_result"
    }
   ],
   "source": [
    "b"
   ]
  },
  {
   "cell_type": "code",
   "execution_count": null,
   "id": "6d1e6244",
   "metadata": {},
   "outputs": [],
   "source": []
  },
  {
   "cell_type": "markdown",
   "id": "ebf4aa9e",
   "metadata": {},
   "source": [
    "## 3. 매개변수도 변경하고 가변 참조 매개변수도 사용 "
   ]
  },
  {
   "cell_type": "code",
   "execution_count": 22,
   "id": "60f69154",
   "metadata": {},
   "outputs": [],
   "source": [
    "let mut d = 300;"
   ]
  },
  {
   "cell_type": "code",
   "execution_count": 23,
   "id": "50309d7d",
   "metadata": {},
   "outputs": [],
   "source": [
    "fn add_2(mut x: &mut i32) -> i32 {\n",
    "    *x += 100;\n",
    "    println!(\" x value ={}\", x);\n",
    "    *x\n",
    "}"
   ]
  },
  {
   "cell_type": "code",
   "execution_count": 24,
   "id": "76e9e076",
   "metadata": {},
   "outputs": [
    {
     "name": "stdout",
     "output_type": "stream",
     "text": [
      " x value =400\n"
     ]
    }
   ],
   "source": [
    "let e = add_2(&mut d);"
   ]
  },
  {
   "cell_type": "code",
   "execution_count": 25,
   "id": "289f7043",
   "metadata": {},
   "outputs": [
    {
     "data": {
      "text/plain": [
       "400"
      ]
     },
     "execution_count": 25,
     "metadata": {},
     "output_type": "execute_result"
    }
   ],
   "source": [
    "d"
   ]
  },
  {
   "cell_type": "code",
   "execution_count": null,
   "id": "ff84adbc",
   "metadata": {},
   "outputs": [],
   "source": []
  }
 ],
 "metadata": {
  "kernelspec": {
   "display_name": "Rust",
   "language": "rust",
   "name": "rust"
  },
  "language_info": {
   "codemirror_mode": "rust",
   "file_extension": ".rs",
   "mimetype": "text/rust",
   "name": "Rust",
   "pygment_lexer": "rust",
   "version": ""
  }
 },
 "nbformat": 4,
 "nbformat_minor": 5
}
