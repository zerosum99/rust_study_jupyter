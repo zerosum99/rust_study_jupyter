{
 "cells": [
  {
   "cell_type": "code",
   "execution_count": null,
   "id": "b8969ebb",
   "metadata": {},
   "outputs": [],
   "source": []
  },
  {
   "cell_type": "markdown",
   "id": "4f58966e",
   "metadata": {},
   "source": [
    "## 1. 함수 내부의 매개변수가 변경할 때는 mut을 매개변수 앞에 사용 "
   ]
  },
  {
   "cell_type": "code",
   "execution_count": 8,
   "id": "119beb9c",
   "metadata": {},
   "outputs": [],
   "source": [
    "fn add(mut x:i32) -> i32 {\n",
    "    x += 100;\n",
    "    println!(\" x value ={}\", x);\n",
    "    x\n",
    "}"
   ]
  },
  {
   "cell_type": "code",
   "execution_count": 9,
   "id": "6643d50b",
   "metadata": {},
   "outputs": [
    {
     "name": "stdout",
     "output_type": "stream",
     "text": [
      " x value =200\n"
     ]
    }
   ],
   "source": [
    "let a = add(100);"
   ]
  },
  {
   "cell_type": "code",
   "execution_count": 10,
   "id": "7d1b7983",
   "metadata": {},
   "outputs": [
    {
     "data": {
      "text/plain": [
       "200"
      ]
     },
     "execution_count": 10,
     "metadata": {},
     "output_type": "execute_result"
    }
   ],
   "source": [
    "a"
   ]
  },
  {
   "cell_type": "markdown",
   "id": "98a41e74",
   "metadata": {},
   "source": [
    "## 2. 원본까지 바꿔서 처리가 필요할 때는 참조를 변경 "
   ]
  },
  {
   "cell_type": "code",
   "execution_count": 13,
   "id": "b6929ebe",
   "metadata": {},
   "outputs": [],
   "source": [
    "fn add_1(x: &mut i32) -> i32 {\n",
    "    *x += 100;\n",
    "    println!(\" x value ={}\", x);\n",
    "    *x\n",
    "}"
   ]
  },
  {
   "cell_type": "code",
   "execution_count": 14,
   "id": "22b43937",
   "metadata": {},
   "outputs": [],
   "source": [
    "let mut b = 100;"
   ]
  },
  {
   "cell_type": "code",
   "execution_count": 15,
   "id": "b05437f1",
   "metadata": {},
   "outputs": [
    {
     "name": "stdout",
     "output_type": "stream",
     "text": [
      " x value =200\n"
     ]
    }
   ],
   "source": [
    "let c = add_1(&mut b);"
   ]
  },
  {
   "cell_type": "code",
   "execution_count": 16,
   "id": "f0916c89",
   "metadata": {},
   "outputs": [
    {
     "data": {
      "text/plain": [
       "200"
      ]
     },
     "execution_count": 16,
     "metadata": {},
     "output_type": "execute_result"
    }
   ],
   "source": [
    "c"
   ]
  },
  {
   "cell_type": "code",
   "execution_count": 17,
   "id": "91f96764",
   "metadata": {},
   "outputs": [
    {
     "data": {
      "text/plain": [
       "200"
      ]
     },
     "execution_count": 17,
     "metadata": {},
     "output_type": "execute_result"
    }
   ],
   "source": [
    "b"
   ]
  },
  {
   "cell_type": "code",
   "execution_count": null,
   "id": "b592e7b3",
   "metadata": {},
   "outputs": [],
   "source": []
  }
 ],
 "metadata": {
  "kernelspec": {
   "display_name": "Rust",
   "language": "rust",
   "name": "rust"
  },
  "language_info": {
   "codemirror_mode": "rust",
   "file_extension": ".rs",
   "mimetype": "text/rust",
   "name": "Rust",
   "pygment_lexer": "rust",
   "version": ""
  }
 },
 "nbformat": 4,
 "nbformat_minor": 5
}
