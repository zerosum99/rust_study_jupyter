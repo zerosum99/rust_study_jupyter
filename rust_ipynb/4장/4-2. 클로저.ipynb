{
 "cells": [
  {
   "cell_type": "markdown",
   "id": "0baac084",
   "metadata": {},
   "source": [
    "## 참조자료 \n",
    "\n",
    "https://stevedonovan.github.io/rustifications/2018/08/18/rust-closures-are-hard.html"
   ]
  },
  {
   "cell_type": "markdown",
   "id": "c2a45c56",
   "metadata": {},
   "source": [
    "# 1. 클로저"
   ]
  },
  {
   "cell_type": "markdown",
   "id": "7c7c12ee",
   "metadata": {},
   "source": [
    "## 클로저 정의 및 호출하기 \n",
    "\n",
    "- 주의할 점은 구조체 등은 소유권이 이동하므로 클로저 내부 사용하면 예외 발생 "
   ]
  },
  {
   "cell_type": "code",
   "execution_count": 5,
   "id": "dd5d4748",
   "metadata": {},
   "outputs": [],
   "source": [
    "fn main() {\n",
    "    let m = 1.0;\n",
    "    let c = 2.0;\n",
    "    let _z = String::from(\"가가가\"); \n",
    "\n",
    "    let line = |x:f64|->f64 {      // 변수에 클로저 할당할 때는 main 함수 내부에 정의 할 것\n",
    "        let s = m*x + c;           // 함수의 지역변수를 클로저에서 사용이 가능 : 정수는 이동되지 않아서 사용가능 \n",
    "        //let zz = _z;             // _z는 한번 소유권 이동이 되어서 계속 호출시 문제됨 ...\n",
    "        s                          // 내부에서 소유권 변동을 주의해야 함  \n",
    "    };\n",
    "    println!(\"{} {}\", line(0.0), line(1.0));\n",
    "    println!(\" m {:.2} \", m);\n",
    "    // println!(\" z { } \", z);\n",
    "}"
   ]
  },
  {
   "cell_type": "code",
   "execution_count": 6,
   "id": "2701ae66",
   "metadata": {},
   "outputs": [
    {
     "name": "stdout",
     "output_type": "stream",
     "text": [
      "2 3\n",
      " m 1.00 \n"
     ]
    },
    {
     "data": {
      "text/plain": [
       "()"
      ]
     },
     "execution_count": 6,
     "metadata": {},
     "output_type": "execute_result"
    }
   ],
   "source": [
    "main()"
   ]
  },
  {
   "cell_type": "markdown",
   "id": "429bbeb6",
   "metadata": {},
   "source": [
    "## 1-2 클로저 축약형으로 작성하기 "
   ]
  },
  {
   "cell_type": "markdown",
   "id": "9b76dd7d",
   "metadata": {},
   "source": [
    "### 함수와 클러저 정의 알아보기"
   ]
  },
  {
   "cell_type": "code",
   "execution_count": 31,
   "id": "93663d64",
   "metadata": {},
   "outputs": [],
   "source": [
    "fn main() {\n",
    "    fn  add_one_v1   (x: u32) -> u32 { x + 1 }   // 함수 정의 \n",
    "    let add_one_v2 = |x: u32| -> u32 { x + 1 };  // 클로저 정의 \n",
    "    let add_one_v3 = |x|             { x + 1 };  // 클로저 정의 : 타입 에노테이션 생략 \n",
    "    let add_one_v4 = |x|               x + 1  ;  // 하나의 문장이라 표현식으로 지정 \n",
    "    println!(\" add_one_v1 {} \", add_one_v1(100));\n",
    "    println!(\" add_one_v2 {} \", add_one_v2(100));\n",
    "    println!(\" add_one_v3 {} \", add_one_v3(100));\n",
    "    println!(\" add_one_v4 {} \", add_one_v4(100));\n",
    "}"
   ]
  },
  {
   "cell_type": "code",
   "execution_count": 32,
   "id": "74af10a4",
   "metadata": {},
   "outputs": [
    {
     "name": "stdout",
     "output_type": "stream",
     "text": [
      " add_one_v1 101 \n",
      " add_one_v2 101 \n",
      " add_one_v3 101 \n",
      " add_one_v4 101 \n"
     ]
    },
    {
     "data": {
      "text/plain": [
       "()"
      ]
     },
     "execution_count": 32,
     "metadata": {},
     "output_type": "execute_result"
    }
   ],
   "source": [
    "main()"
   ]
  },
  {
   "cell_type": "markdown",
   "id": "e8cdd7e1",
   "metadata": {},
   "source": [
    "### 클로저의 매개변수에 자료형 지정하기"
   ]
  },
  {
   "cell_type": "code",
   "execution_count": 35,
   "id": "33509dda",
   "metadata": {},
   "outputs": [],
   "source": [
    "fn main() {\n",
    "    let c  = |x:u32| {x+x};\n",
    "\n",
    "    println!(\" {} \",c(10))\n",
    "}"
   ]
  },
  {
   "cell_type": "code",
   "execution_count": 36,
   "id": "6f335f8c",
   "metadata": {},
   "outputs": [
    {
     "name": "stdout",
     "output_type": "stream",
     "text": [
      " 20 \n"
     ]
    },
    {
     "data": {
      "text/plain": [
       "()"
      ]
     },
     "execution_count": 36,
     "metadata": {},
     "output_type": "execute_result"
    }
   ],
   "source": [
    "main()"
   ]
  },
  {
   "cell_type": "markdown",
   "id": "06c9d748",
   "metadata": {},
   "source": [
    "## 1-3 구조체 내부에 클로저 정의하기"
   ]
  },
  {
   "cell_type": "markdown",
   "id": "5a309a5a",
   "metadata": {},
   "source": [
    "### 두 개의 클로저를 정의하고 하나를 다른 클로저에서 처리하기 "
   ]
  },
  {
   "cell_type": "code",
   "execution_count": 2,
   "id": "e72fdd45",
   "metadata": {},
   "outputs": [],
   "source": [
    "fn main() {\n",
    "    let c  = |x:u32| {x+x};\n",
    "    let d  = |y| c(y);\n",
    "\n",
    "    println!(\" {} \",d(10))\n",
    "}"
   ]
  },
  {
   "cell_type": "code",
   "execution_count": 4,
   "id": "43083368",
   "metadata": {},
   "outputs": [
    {
     "name": "stdout",
     "output_type": "stream",
     "text": [
      " 20 \n"
     ]
    }
   ],
   "source": [
    "main();"
   ]
  },
  {
   "cell_type": "markdown",
   "id": "6f6c8fa2",
   "metadata": {},
   "source": [
    "### 클로저를 반환할 때는 캡처된 변수를 이동시키기"
   ]
  },
  {
   "cell_type": "code",
   "execution_count": 7,
   "id": "0f4c04f4",
   "metadata": {},
   "outputs": [],
   "source": [
    "fn main() {\n",
    "    \n",
    "    let d  = |y| {move |x| x+y};\n",
    "\n",
    "    println!(\" {} \",d(10)(20))\n",
    "}"
   ]
  },
  {
   "cell_type": "code",
   "execution_count": 8,
   "id": "4bb369f4",
   "metadata": {},
   "outputs": [
    {
     "name": "stdout",
     "output_type": "stream",
     "text": [
      " 30 \n"
     ]
    }
   ],
   "source": [
    "main();"
   ]
  },
  {
   "cell_type": "code",
   "execution_count": null,
   "id": "4bdde616",
   "metadata": {},
   "outputs": [],
   "source": []
  },
  {
   "cell_type": "markdown",
   "id": "506ce715",
   "metadata": {},
   "source": [
    "## 1-4 스마트 포인터로 클로저 반환하기 "
   ]
  },
  {
   "cell_type": "code",
   "execution_count": null,
   "id": "7113a16e",
   "metadata": {},
   "outputs": [],
   "source": []
  },
  {
   "cell_type": "code",
   "execution_count": 13,
   "id": "5aa4299f",
   "metadata": {},
   "outputs": [],
   "source": [
    "let f: Box<dyn Fn()> = Box::new(|| {println!(\"foo\")});"
   ]
  },
  {
   "cell_type": "code",
   "execution_count": 14,
   "id": "21953e01",
   "metadata": {},
   "outputs": [
    {
     "name": "stdout",
     "output_type": "stream",
     "text": [
      "foo\n"
     ]
    },
    {
     "data": {
      "text/plain": [
       "()"
      ]
     },
     "execution_count": 14,
     "metadata": {},
     "output_type": "execute_result"
    }
   ],
   "source": [
    "f()"
   ]
  },
  {
   "cell_type": "code",
   "execution_count": 15,
   "id": "9d58a934",
   "metadata": {},
   "outputs": [],
   "source": [
    "let fc: Box<dyn Fn(u32)> = Box::new(|x| {println!(\"foo {}\",x)});"
   ]
  },
  {
   "cell_type": "code",
   "execution_count": 16,
   "id": "ebc66635",
   "metadata": {},
   "outputs": [
    {
     "name": "stdout",
     "output_type": "stream",
     "text": [
      "foo 100\n"
     ]
    },
    {
     "data": {
      "text/plain": [
       "()"
      ]
     },
     "execution_count": 16,
     "metadata": {},
     "output_type": "execute_result"
    }
   ],
   "source": [
    "fc(100)"
   ]
  },
  {
   "cell_type": "code",
   "execution_count": 17,
   "id": "60ef69dc",
   "metadata": {},
   "outputs": [],
   "source": [
    "let fc: Box<dyn Fn(u32,u32)> = Box::new(|x,y| {println!(\"foo {}\",x+y)});"
   ]
  },
  {
   "cell_type": "code",
   "execution_count": 18,
   "id": "6256fc8e",
   "metadata": {},
   "outputs": [
    {
     "name": "stdout",
     "output_type": "stream",
     "text": [
      "foo 300\n"
     ]
    },
    {
     "data": {
      "text/plain": [
       "()"
      ]
     },
     "execution_count": 18,
     "metadata": {},
     "output_type": "execute_result"
    }
   ],
   "source": [
    "fc(100,200)"
   ]
  },
  {
   "cell_type": "code",
   "execution_count": null,
   "id": "d0b9d530",
   "metadata": {},
   "outputs": [],
   "source": []
  },
  {
   "cell_type": "code",
   "execution_count": null,
   "id": "1eba457a",
   "metadata": {},
   "outputs": [],
   "source": []
  },
  {
   "cell_type": "markdown",
   "id": "3755cd95",
   "metadata": {},
   "source": [
    "# 2. 고차함수 처리 "
   ]
  },
  {
   "cell_type": "code",
   "execution_count": null,
   "id": "61b1a666",
   "metadata": {},
   "outputs": [],
   "source": []
  },
  {
   "cell_type": "markdown",
   "id": "a28c9164",
   "metadata": {},
   "source": [
    "## 2-1 클로저를 반환값으로 처리 \n",
    "\n",
    "- 클로저를 반환할 때의 반환자료형은 트레이트 Fn으로 처리한다. "
   ]
  },
  {
   "cell_type": "markdown",
   "id": "cc09b7ad",
   "metadata": {},
   "source": [
    "### 클로저는  Fn 트레이트로 반환을 받는다"
   ]
  },
  {
   "cell_type": "code",
   "execution_count": 9,
   "id": "dd57e055",
   "metadata": {},
   "outputs": [],
   "source": [
    "// This works of course\n",
    "fn closure() -> impl Fn(i32) -> i32 {\n",
    "     |b| b                       \n",
    "}"
   ]
  },
  {
   "cell_type": "code",
   "execution_count": 10,
   "id": "6d613832",
   "metadata": {},
   "outputs": [
    {
     "data": {
      "text/plain": [
       "100"
      ]
     },
     "execution_count": 10,
     "metadata": {},
     "output_type": "execute_result"
    }
   ],
   "source": [
    "closure()(100)"
   ]
  },
  {
   "cell_type": "code",
   "execution_count": 22,
   "id": "9efa198b",
   "metadata": {},
   "outputs": [],
   "source": [
    "fn closure_1() -> impl Fn() -> () {\n",
    "     || println!(\" closure 1 \")\n",
    "}"
   ]
  },
  {
   "cell_type": "code",
   "execution_count": 23,
   "id": "6002a992",
   "metadata": {},
   "outputs": [
    {
     "name": "stdout",
     "output_type": "stream",
     "text": [
      " closure 1 \n"
     ]
    },
    {
     "data": {
      "text/plain": [
       "()"
      ]
     },
     "execution_count": 23,
     "metadata": {},
     "output_type": "execute_result"
    }
   ],
   "source": [
    "closure_1()()"
   ]
  },
  {
   "cell_type": "markdown",
   "id": "4a38c6cb",
   "metadata": {},
   "source": [
    "### 클로저를 반환할 때는 캡처된 자유변수는 move로 이동처리 "
   ]
  },
  {
   "cell_type": "code",
   "execution_count": 24,
   "id": "b766ff84",
   "metadata": {},
   "outputs": [],
   "source": [
    "fn make_adder_1(a: i32, b: i32) -> impl Fn() -> i32 {\n",
    "    move || a + b\n",
    "}"
   ]
  },
  {
   "cell_type": "code",
   "execution_count": 25,
   "id": "8fceb6c7",
   "metadata": {},
   "outputs": [
    {
     "data": {
      "text/plain": [
       "300"
      ]
     },
     "execution_count": 25,
     "metadata": {},
     "output_type": "execute_result"
    }
   ],
   "source": [
    "make_adder_1(100,200)()"
   ]
  },
  {
   "cell_type": "code",
   "execution_count": null,
   "id": "9f60403f",
   "metadata": {},
   "outputs": [],
   "source": []
  },
  {
   "cell_type": "code",
   "execution_count": 57,
   "id": "c3006c43",
   "metadata": {},
   "outputs": [],
   "source": [
    "fn counter() -> impl FnMut() -> i32 {\n",
    "    let mut value = 0;\n",
    "\n",
    "    move || -> i32 {\n",
    "        value += 1;\n",
    "        return value;\n",
    "    }\n",
    "}\n",
    "\n",
    "fn main() {\n",
    "    let mut incre = counter();\n",
    "    println!(\"Count 1: {}\", incre());\n",
    "    println!(\"Count 2: {}\", incre());\n",
    "}"
   ]
  },
  {
   "cell_type": "code",
   "execution_count": 58,
   "id": "429d8a59",
   "metadata": {},
   "outputs": [
    {
     "name": "stdout",
     "output_type": "stream",
     "text": [
      "Count 1: 1\n",
      "Count 2: 2\n"
     ]
    },
    {
     "data": {
      "text/plain": [
       "()"
      ]
     },
     "execution_count": 58,
     "metadata": {},
     "output_type": "execute_result"
    }
   ],
   "source": [
    "main()"
   ]
  },
  {
   "cell_type": "code",
   "execution_count": null,
   "id": "af2b74fa",
   "metadata": {},
   "outputs": [],
   "source": []
  },
  {
   "cell_type": "markdown",
   "id": "f73af398",
   "metadata": {},
   "source": [
    "## 2-2  변수에 할당하기 \n",
    "\n",
    "- 클로저를 변수에 할당할 때는 스마트 포인트로 처리\n",
    "- 트레이트 객체로 지정해서 처리해야 함 \n"
   ]
  },
  {
   "cell_type": "code",
   "execution_count": 18,
   "id": "5a3f9146",
   "metadata": {},
   "outputs": [],
   "source": [
    "fn closure1() -> impl Fn(i32) -> i32 {\n",
    "     |b| b                       \n",
    "}"
   ]
  },
  {
   "cell_type": "code",
   "execution_count": 20,
   "id": "547dc0d1",
   "metadata": {},
   "outputs": [],
   "source": [
    "fn main() {\n",
    "    let cl : Box<dyn Fn(i32) -> i32>  = Box::new(closure1());\n",
    "    println!(\" {} \", cl(100));\n",
    "}"
   ]
  },
  {
   "cell_type": "code",
   "execution_count": 21,
   "id": "9ebd74b5",
   "metadata": {},
   "outputs": [
    {
     "name": "stdout",
     "output_type": "stream",
     "text": [
      " 100 \n"
     ]
    },
    {
     "data": {
      "text/plain": [
       "()"
      ]
     },
     "execution_count": 21,
     "metadata": {},
     "output_type": "execute_result"
    }
   ],
   "source": [
    "main()"
   ]
  },
  {
   "cell_type": "code",
   "execution_count": null,
   "id": "c6bc632c",
   "metadata": {},
   "outputs": [],
   "source": []
  },
  {
   "cell_type": "markdown",
   "id": "c39f1dfd",
   "metadata": {},
   "source": [
    "## 2-3 클로저를 반환해서 처리하기"
   ]
  },
  {
   "cell_type": "code",
   "execution_count": 13,
   "id": "42e8147b",
   "metadata": {},
   "outputs": [],
   "source": [
    "fn make_adder(a: i32) -> impl Fn(i32) -> i32 {\n",
    "    move |b| a + b\n",
    "}\n",
    "\n",
    "fn main() {\n",
    "    println!(\"{}\", make_adder(1)(2));\n",
    "}"
   ]
  },
  {
   "cell_type": "code",
   "execution_count": 14,
   "id": "a9fa639b",
   "metadata": {},
   "outputs": [
    {
     "name": "stdout",
     "output_type": "stream",
     "text": [
      "3\n"
     ]
    },
    {
     "data": {
      "text/plain": [
       "()"
      ]
     },
     "execution_count": 14,
     "metadata": {},
     "output_type": "execute_result"
    }
   ],
   "source": [
    "main()"
   ]
  },
  {
   "cell_type": "code",
   "execution_count": null,
   "id": "00f0d9c1",
   "metadata": {},
   "outputs": [],
   "source": []
  },
  {
   "cell_type": "code",
   "execution_count": null,
   "id": "35ae4137",
   "metadata": {},
   "outputs": [],
   "source": []
  },
  {
   "cell_type": "code",
   "execution_count": 27,
   "id": "2fccbe0c",
   "metadata": {},
   "outputs": [],
   "source": [
    "fn make_adder(a: i32) -> Box<dyn Fn(i32) -> i32> {\n",
    "    Box::new(move |b| a + b)\n",
    "}\n",
    "\n",
    "fn main() {\n",
    "    println!(\"{}\", make_adder(1)(2));\n",
    "}"
   ]
  },
  {
   "cell_type": "code",
   "execution_count": 28,
   "id": "5f98ab2f",
   "metadata": {},
   "outputs": [
    {
     "name": "stdout",
     "output_type": "stream",
     "text": [
      "3\n"
     ]
    },
    {
     "data": {
      "text/plain": [
       "()"
      ]
     },
     "execution_count": 28,
     "metadata": {},
     "output_type": "execute_result"
    }
   ],
   "source": [
    "main()"
   ]
  },
  {
   "cell_type": "code",
   "execution_count": null,
   "id": "c000d5d0",
   "metadata": {},
   "outputs": [],
   "source": []
  },
  {
   "cell_type": "markdown",
   "id": "84e27a43",
   "metadata": {},
   "source": [
    "## 2-4 함수의 매개변수로 클로저 전달하기"
   ]
  },
  {
   "cell_type": "code",
   "execution_count": 26,
   "id": "afd45d3b",
   "metadata": {},
   "outputs": [],
   "source": [
    "fn func_arg (f1: impl Fn(f64)->f64,x:f64) ->  f64 {\n",
    "    f1(x)\n",
    "}"
   ]
  },
  {
   "cell_type": "code",
   "execution_count": 27,
   "id": "a03c7782",
   "metadata": {},
   "outputs": [
    {
     "data": {
      "text/plain": [
       "100.2"
      ]
     },
     "execution_count": 27,
     "metadata": {},
     "output_type": "execute_result"
    }
   ],
   "source": [
    "func_arg(|x| x , 100.2)"
   ]
  },
  {
   "cell_type": "code",
   "execution_count": null,
   "id": "71d2d07d",
   "metadata": {},
   "outputs": [],
   "source": []
  },
  {
   "cell_type": "code",
   "execution_count": null,
   "id": "d77c00a8",
   "metadata": {},
   "outputs": [],
   "source": []
  },
  {
   "cell_type": "markdown",
   "id": "daa8b48c",
   "metadata": {},
   "source": [
    "## 2-5 함수 결합하기 "
   ]
  },
  {
   "cell_type": "code",
   "execution_count": 22,
   "id": "9ae3eb75",
   "metadata": {},
   "outputs": [],
   "source": [
    "fn compose (f1: impl Fn(f64)->f64, f2: impl Fn(f64)->f64) -> impl Fn(f64)->f64 {\n",
    "    move |x| f1(f2(x))\n",
    "}\n",
    "\n",
    "fn main() {\n",
    "   let f = compose(f64::sin, |x| x*x); \n",
    "   println!(\" {} \", f(100.0));\n",
    "}\n"
   ]
  },
  {
   "cell_type": "code",
   "execution_count": 23,
   "id": "f186d681",
   "metadata": {},
   "outputs": [
    {
     "name": "stdout",
     "output_type": "stream",
     "text": [
      " -0.30561438888825215 \n"
     ]
    },
    {
     "data": {
      "text/plain": [
       "()"
      ]
     },
     "execution_count": 23,
     "metadata": {},
     "output_type": "execute_result"
    }
   ],
   "source": [
    "main()"
   ]
  },
  {
   "cell_type": "code",
   "execution_count": 30,
   "id": "eaefc90c",
   "metadata": {},
   "outputs": [],
   "source": [
    "fn compose <T>(f1: impl Fn(T)->T, f2: impl Fn(T)->T) -> impl Fn(T)->T {\n",
    "    move |x| f1(f2(x))\n",
    "}\n",
    "\n",
    "fn main() {\n",
    "    let g = compose(str::trim, |s| &s[0..2]);\n",
    "    println!(\" g= {} \", g(\" hello \"));\n",
    "}"
   ]
  },
  {
   "cell_type": "code",
   "execution_count": 31,
   "id": "ded391b8",
   "metadata": {},
   "outputs": [
    {
     "name": "stdout",
     "output_type": "stream",
     "text": [
      " g= h \n"
     ]
    },
    {
     "data": {
      "text/plain": [
       "()"
      ]
     },
     "execution_count": 31,
     "metadata": {},
     "output_type": "execute_result"
    }
   ],
   "source": [
    "main()"
   ]
  },
  {
   "cell_type": "code",
   "execution_count": null,
   "id": "e801bd6f",
   "metadata": {},
   "outputs": [],
   "source": []
  }
 ],
 "metadata": {
  "kernelspec": {
   "display_name": "Rust",
   "language": "rust",
   "name": "rust"
  },
  "language_info": {
   "codemirror_mode": "rust",
   "file_extension": ".rs",
   "mimetype": "text/rust",
   "name": "Rust",
   "pygment_lexer": "rust",
   "version": ""
  }
 },
 "nbformat": 4,
 "nbformat_minor": 5
}
