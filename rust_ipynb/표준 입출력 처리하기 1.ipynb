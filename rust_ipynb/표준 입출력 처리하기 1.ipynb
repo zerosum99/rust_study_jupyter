{
 "cells": [
  {
   "cell_type": "code",
   "execution_count": null,
   "id": "4981ea39",
   "metadata": {},
   "outputs": [],
   "source": []
  },
  {
   "cell_type": "markdown",
   "id": "6eca83e9",
   "metadata": {},
   "source": [
    "## 표준 입출력 \n",
    "\n",
    "- 러스트에서는 std::io 모듈을 사용하여 표준 입력(stdin)과 표준 출력(stdout)을 처리할 수 있습니다.\n",
    "- std::io 모듈은 Read 트레이트와 Write 트레이트를 제공합니다. \n",
    "- Read 트레이트는 바이트 시퀀스를 읽는 메서드를 정의하고 있으며, Write 트레이트는 바이트 시퀀스를 쓰는 메서드를 정의하고 있습니다."
   ]
  },
  {
   "cell_type": "code",
   "execution_count": null,
   "id": "1eefb35f",
   "metadata": {},
   "outputs": [],
   "source": []
  },
  {
   "cell_type": "code",
   "execution_count": 3,
   "id": "9bbe1197",
   "metadata": {},
   "outputs": [],
   "source": [
    "use std::io::{self, Read, Write};\n",
    "\n",
    "fn main() -> io::Result<()> {\n",
    "    let mut buffer = String::new();\n",
    "    io::stdin().read_line(&mut buffer)?;\n",
    "\n",
    "    io::stdout().write(buffer.as_bytes())?;\n",
    "\n",
    "    Ok(())\n",
    "}"
   ]
  },
  {
   "cell_type": "code",
   "execution_count": 4,
   "id": "d5801907",
   "metadata": {},
   "outputs": [
    {
     "ename": "Error",
     "evalue": "Subprocess terminated with signal 9. This is known to happen when evcxr is installed via a Homebrew shell under emulation. Try installing rustup and evcxr without using Homebrew and see if that helps.",
     "output_type": "error",
     "traceback": [
      "Subprocess terminated with signal 9. This is known to happen when evcxr is installed via a Homebrew shell under emulation. Try installing rustup and evcxr without using Homebrew and see if that helps."
     ]
    }
   ],
   "source": [
    "main();"
   ]
  },
  {
   "cell_type": "code",
   "execution_count": null,
   "id": "55670ecb",
   "metadata": {},
   "outputs": [],
   "source": []
  }
 ],
 "metadata": {
  "kernelspec": {
   "display_name": "Rust",
   "language": "rust",
   "name": "rust"
  },
  "language_info": {
   "codemirror_mode": "rust",
   "file_extension": ".rs",
   "mimetype": "text/rust",
   "name": "Rust",
   "pygment_lexer": "rust",
   "version": ""
  }
 },
 "nbformat": 4,
 "nbformat_minor": 5
}
