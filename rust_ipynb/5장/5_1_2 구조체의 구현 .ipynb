{
 "cells": [
  {
   "cell_type": "markdown",
   "id": "2d50aec8",
   "metadata": {},
   "source": [
    "## 구조체의 구현\n",
    "\n",
    "- 기본적은 구조체에 필요한 메서드를 정의한다.\n",
    "\n",
    "- 메서드 정의시 첫번째 자리는 객체를 표시한다.\n",
    "- 구조체를 참조만 하는 메서드의 객체는 &self\n",
    "- 구조체가 소유한 필드를 갱신할 경우는 메서드의 객체는 &mut self\n",
    "- 구조체를 새로운 것으로 이동할 때는 self를 사용"
   ]
  },
  {
   "cell_type": "markdown",
   "id": "e04c9eaa",
   "metadata": {},
   "source": [
    "## 1. 고유한 구현 : Inherent Implementations\n",
    "\n",
    "\n",
    "- 고유한 구현은 포함된 항목을 구현 유형에 연결합니다. \n",
    "- 고유한 구현에는 관련 함수 ( 메서드 포함 ) 및 관련 상수가 포함될 수 있습니다. "
   ]
  },
  {
   "cell_type": "code",
   "execution_count": null,
   "id": "33f5a1a8",
   "metadata": {},
   "outputs": [],
   "source": []
  },
  {
   "cell_type": "markdown",
   "id": "8d905b3b",
   "metadata": {},
   "source": [
    "## 1-1. 구조체에만 처리되는 메서드 정의 \n",
    "\n",
    "- 구조체를 정의하고 구조체의 기능 즉 메서드를 정의해서 사용할 수 있다.\n",
    "- 또한 기능중에는 구조체를 참조하지 않는 연관함수도 정의할 수 있다.\n",
    "- 이 연관함수는 구조체 이름으로만 접근이 가능해서 메서드와 차이를 가진다."
   ]
  },
  {
   "cell_type": "markdown",
   "id": "474f4ecd",
   "metadata": {},
   "source": [
    "### 구조체의 필드를 하나 정의한다.\n",
    "\n",
    "- 구초체 이름은 카멜케이스로 지정한다.\n",
    "- 이 구조체에는 하나의 필드만 정의 "
   ]
  },
  {
   "cell_type": "code",
   "execution_count": 16,
   "id": "0f480d89",
   "metadata": {},
   "outputs": [],
   "source": [
    "#[derive(Debug)]\n",
    "struct User_ {\n",
    "    name : String,\n",
    "}"
   ]
  },
  {
   "cell_type": "markdown",
   "id": "bdcbc3b7",
   "metadata": {},
   "source": [
    "### 구현체 내의 참조만 가능한 메서드를 정의\n",
    "\n",
    "- 구현은 impl 예약어 + 구조체 명으로 지정 \n",
    "- 실제 메서드는 블럭구문 내에 정의  \n",
    "- 메서드의 특징은 첫번째 매개변수에 구조체의 객체인 self가 틀어감\n",
    "- 메서드가 참조일 경우는 &self, 메서드가 객체의 값을 변경할 때는 &mut self로 지정"
   ]
  },
  {
   "cell_type": "code",
   "execution_count": 17,
   "id": "00f799f4",
   "metadata": {},
   "outputs": [],
   "source": [
    "impl User_ {                            // 구조체의 메서드를 구현하려면 impl 예약어 사용 \n",
    "    fn get_hello(&self, msg : &str ) {  // 구조체 필드만 참조하려면 &self를 사용  \n",
    "        println!(\" hello {}! \", msg);\n",
    "    }\n",
    "    \n",
    "}"
   ]
  },
  {
   "cell_type": "markdown",
   "id": "dfe0a8bb",
   "metadata": {},
   "source": [
    "### 구조체로 하나의 인스턴스를 지정해서 변수에 할당.\n",
    "\n",
    "- 모든 값은 소유자가 있어서 소유자인 변수에 할당한다. \n",
    "- 또한 구조체의 필드도 하나의 값을 소유한다. "
   ]
  },
  {
   "cell_type": "code",
   "execution_count": 16,
   "id": "c06f1e83",
   "metadata": {},
   "outputs": [],
   "source": [
    "let mut u1 = User_{name : String::from(\"러스트\")}; "
   ]
  },
  {
   "cell_type": "markdown",
   "id": "5116bce4",
   "metadata": {},
   "source": [
    "### 구조체의 인스턴스로 메서도를 호출한다. "
   ]
  },
  {
   "cell_type": "code",
   "execution_count": 17,
   "id": "fd91115f",
   "metadata": {},
   "outputs": [
    {
     "name": "stdout",
     "output_type": "stream",
     "text": [
      " hello 호호호! \n"
     ]
    }
   ],
   "source": [
    "u1.get_hello(\"호호호\");"
   ]
  },
  {
   "cell_type": "code",
   "execution_count": null,
   "id": "6a16c9c8",
   "metadata": {},
   "outputs": [],
   "source": []
  },
  {
   "cell_type": "markdown",
   "id": "f09ff1f2",
   "metadata": {},
   "source": [
    "### 내부 값을 바꾸는 메서드 정의 \n",
    "\n",
    "- 구조체의 내부의 값을 변경할 때에는 &mut self를 지정하고\n",
    "- 내부에 구조체의 필드를 갱신한다."
   ]
  },
  {
   "cell_type": "markdown",
   "id": "fddb4b77",
   "metadata": {},
   "source": [
    "#### 구조체의 메서드는 여러 개의 impl 로 지정해서 작성할 수 있다."
   ]
  },
  {
   "cell_type": "code",
   "execution_count": 18,
   "id": "80cd9a97",
   "metadata": {},
   "outputs": [],
   "source": [
    "impl User_ {\n",
    "    fn set_name(&mut self, value : &str ) {\n",
    "        self.name = String::from(value);\n",
    "    }\n",
    "    \n",
    "}"
   ]
  },
  {
   "cell_type": "code",
   "execution_count": 19,
   "id": "8711a145",
   "metadata": {},
   "outputs": [],
   "source": [
    "u1.set_name(\"가을이\");"
   ]
  },
  {
   "cell_type": "code",
   "execution_count": 20,
   "id": "6d40fb3e",
   "metadata": {},
   "outputs": [
    {
     "name": "stdout",
     "output_type": "stream",
     "text": [
      "u1  = User_ { name: \"가을이\" }\n"
     ]
    }
   ],
   "source": [
    "println!(\"u1  = {:?}\",u1);"
   ]
  },
  {
   "cell_type": "code",
   "execution_count": null,
   "id": "5db9ef9f",
   "metadata": {},
   "outputs": [],
   "source": []
  },
  {
   "cell_type": "markdown",
   "id": "0d758761",
   "metadata": {},
   "source": [
    "### 새로운 객체를 생성하는 메서드를 정의"
   ]
  },
  {
   "cell_type": "code",
   "execution_count": 20,
   "id": "a3976b3c",
   "metadata": {},
   "outputs": [],
   "source": [
    "impl User_ {\n",
    "    fn set_new_(self ) -> Self {\n",
    "        \n",
    "        User_ { name : self.name }\n",
    "    }\n",
    "    \n",
    "}"
   ]
  },
  {
   "cell_type": "code",
   "execution_count": 22,
   "id": "ef0c7a07",
   "metadata": {},
   "outputs": [],
   "source": [
    "let u2 = User_{name : String::from(\"러스트 처리\")}; "
   ]
  },
  {
   "cell_type": "code",
   "execution_count": 23,
   "id": "3559aa0f",
   "metadata": {},
   "outputs": [
    {
     "data": {
      "text/plain": [
       "User_ { name: \"러스트 처리\" }"
      ]
     },
     "execution_count": 23,
     "metadata": {},
     "output_type": "execute_result"
    }
   ],
   "source": [
    "u2.set_new_()"
   ]
  },
  {
   "cell_type": "markdown",
   "id": "68449748",
   "metadata": {},
   "source": [
    "## 1-2. 연관함수 정의 \n",
    "\n",
    "- 연관함수는 메서드에 구조체의 인스턴스 참조에 대한 것이 없다. \n",
    "- 그래서 구조체에서 직접 접근할 때 두 개의 콜론을 붙여서 호출한다.\n",
    "- 보통 다른 언어에서는 정적메서드와 유사하다."
   ]
  },
  {
   "cell_type": "markdown",
   "id": "2f50a828",
   "metadata": {},
   "source": [
    "### 동일한 구조체에 연관함수 정의\n",
    "\n",
    "- 하나의 구조체에 impl을 여러 개 작성이 가능\n",
    "- 이번에는 구조체 인스턴스를 참조하지 않는 메서드인 연관함수를 지정한다. "
   ]
  },
  {
   "cell_type": "code",
   "execution_count": 21,
   "id": "27b69531",
   "metadata": {},
   "outputs": [],
   "source": [
    "impl User_ {\n",
    "    fn new(value : &str ) ->Self {        //대문자 Self는 현재 구조체가 타입 애노테이션\n",
    "        User_ {name : value.to_string()}  // 그래서 구조체의 인스턴스를 반환한다. \n",
    "    }\n",
    "    \n",
    "}"
   ]
  },
  {
   "cell_type": "code",
   "execution_count": 22,
   "id": "9f6fd53e",
   "metadata": {},
   "outputs": [],
   "source": [
    "let u2 = User_::new(\"겨울이\");"
   ]
  },
  {
   "cell_type": "code",
   "execution_count": 23,
   "id": "2f3fe79a",
   "metadata": {},
   "outputs": [
    {
     "data": {
      "text/plain": [
       "\"겨울이\""
      ]
     },
     "execution_count": 23,
     "metadata": {},
     "output_type": "execute_result"
    }
   ],
   "source": [
    "u2.name"
   ]
  },
  {
   "cell_type": "code",
   "execution_count": null,
   "id": "726eafdb",
   "metadata": {},
   "outputs": [],
   "source": []
  },
  {
   "cell_type": "code",
   "execution_count": null,
   "id": "d422867d",
   "metadata": {},
   "outputs": [],
   "source": []
  }
 ],
 "metadata": {
  "kernelspec": {
   "display_name": "Rust",
   "language": "rust",
   "name": "rust"
  },
  "language_info": {
   "codemirror_mode": "rust",
   "file_extension": ".rs",
   "mimetype": "text/rust",
   "name": "Rust",
   "pygment_lexer": "rust",
   "version": ""
  }
 },
 "nbformat": 4,
 "nbformat_minor": 5
}
