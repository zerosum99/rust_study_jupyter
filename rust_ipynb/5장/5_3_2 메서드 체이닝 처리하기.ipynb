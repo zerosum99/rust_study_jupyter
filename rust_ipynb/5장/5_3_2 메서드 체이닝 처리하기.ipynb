{
 "cells": [
  {
   "cell_type": "code",
   "execution_count": null,
   "id": "738181d9",
   "metadata": {},
   "outputs": [],
   "source": []
  },
  {
   "cell_type": "markdown",
   "id": "6eecf88b",
   "metadata": {},
   "source": [
    "## 메서드  체이닝\n",
    "\n",
    "- 여러 개의 메서드를 연속적으로 호출하고, 그 결과를 다시 다른 메서드에 전달하는 것을 말합니다. \n",
    "- 이를 가능하게 하려면 메서드의 반환 타입을 항상 Self나 &mut Self와 같은 현재 타입으로 지정해야 합니다. \n",
    "- 이렇게 하면 메서드 체이닝을 통해 다른 메서드를 연속적으로 호출할 수 있습니다."
   ]
  },
  {
   "cell_type": "markdown",
   "id": "11e9e0d5",
   "metadata": {},
   "source": [
    "## 1. 제공타입의 메서드 체이닝 처리하기"
   ]
  },
  {
   "cell_type": "markdown",
   "id": "a3b4ac4f",
   "metadata": {},
   "source": [
    "## 1-1 문자열을 사용한 메서드 체이닝"
   ]
  },
  {
   "cell_type": "code",
   "execution_count": 6,
   "id": "ec07ce88",
   "metadata": {},
   "outputs": [
    {
     "name": "stdout",
     "output_type": "stream",
     "text": [
      "helloworld\n"
     ]
    }
   ],
   "source": [
    "let message = \"Hello, world!\".to_string();\n",
    "\n",
    "let result = message\n",
    "    .chars()\n",
    "    .filter(|c| c.is_alphabetic())\n",
    "    .map(|c| c.to_ascii_lowercase())\n",
    "    .collect::<String>();\n",
    "\n",
    "println!(\"{}\", result); // 출력 결과: helloworld"
   ]
  },
  {
   "cell_type": "code",
   "execution_count": null,
   "id": "6cb2fa57",
   "metadata": {},
   "outputs": [],
   "source": []
  },
  {
   "cell_type": "code",
   "execution_count": null,
   "id": "4a0bce38",
   "metadata": {},
   "outputs": [],
   "source": []
  },
  {
   "cell_type": "markdown",
   "id": "13a686cf",
   "metadata": {},
   "source": [
    "## 1-2.  벡터를 사용한 반복자의 메서드 체이닝"
   ]
  },
  {
   "cell_type": "code",
   "execution_count": 5,
   "id": "139d706a",
   "metadata": {},
   "outputs": [
    {
     "name": "stdout",
     "output_type": "stream",
     "text": [
      "sum = 12\n"
     ]
    }
   ],
   "source": [
    "let v = vec![1, 2, 3, 4, 5];\n",
    "\n",
    "let sum = v.iter()\n",
    "           .filter(|&x| x % 2 == 0)\n",
    "           .map(|x| x * 2)\n",
    "           .fold(0, |acc, x| acc + x);\n",
    "\n",
    "println!(\"sum = {}\", sum); // 출력 결과: sum = 12"
   ]
  },
  {
   "cell_type": "code",
   "execution_count": null,
   "id": "2c091ceb",
   "metadata": {},
   "outputs": [],
   "source": []
  },
  {
   "cell_type": "markdown",
   "id": "8eca7f0a",
   "metadata": {},
   "source": [
    "## 2. 사용자 정의 메서드 체이닝 처리"
   ]
  },
  {
   "cell_type": "code",
   "execution_count": null,
   "id": "49125394",
   "metadata": {},
   "outputs": [],
   "source": []
  },
  {
   "cell_type": "code",
   "execution_count": 2,
   "id": "b344b768",
   "metadata": {},
   "outputs": [],
   "source": [
    "struct Calculator {\n",
    "    value: f32,\n",
    "}"
   ]
  },
  {
   "cell_type": "code",
   "execution_count": null,
   "id": "e6010f96",
   "metadata": {},
   "outputs": [],
   "source": []
  },
  {
   "cell_type": "code",
   "execution_count": 3,
   "id": "751a4e42",
   "metadata": {},
   "outputs": [],
   "source": [
    "impl Calculator {\n",
    "    fn add(&mut self, value: f32) -> &mut Self {\n",
    "        self.value += value;\n",
    "        self\n",
    "    }\n",
    "\n",
    "    fn subtract(&mut self, value: f32) -> &mut Self {\n",
    "        self.value -= value;\n",
    "        self\n",
    "    }\n",
    "\n",
    "    fn multiply(&mut self, value: f32) -> &mut Self {\n",
    "        self.value *= value;\n",
    "        self\n",
    "    }\n",
    "\n",
    "    fn divide(&mut self, value: f32) -> &mut Self {\n",
    "        self.value /= value;\n",
    "        self\n",
    "    }\n",
    "}"
   ]
  },
  {
   "cell_type": "code",
   "execution_count": null,
   "id": "f6c256c6",
   "metadata": {},
   "outputs": [],
   "source": []
  },
  {
   "cell_type": "code",
   "execution_count": 4,
   "id": "7edf87e7",
   "metadata": {},
   "outputs": [
    {
     "name": "stdout",
     "output_type": "stream",
     "text": [
      "Result: 2.5\n"
     ]
    }
   ],
   "source": [
    "let mut calculator = Calculator { value: 0.0 };\n",
    "let result = calculator.add(10.0).subtract(5.0).multiply(2.0).divide(4.0).value;\n",
    "println!(\"Result: {}\", result); // 출력 결과: 2.5"
   ]
  },
  {
   "cell_type": "code",
   "execution_count": null,
   "id": "f860091d",
   "metadata": {},
   "outputs": [],
   "source": []
  }
 ],
 "metadata": {
  "kernelspec": {
   "display_name": "Rust",
   "language": "rust",
   "name": "rust"
  },
  "language_info": {
   "codemirror_mode": "rust",
   "file_extension": ".rs",
   "mimetype": "text/rust",
   "name": "Rust",
   "pygment_lexer": "rust",
   "version": ""
  }
 },
 "nbformat": 4,
 "nbformat_minor": 5
}
