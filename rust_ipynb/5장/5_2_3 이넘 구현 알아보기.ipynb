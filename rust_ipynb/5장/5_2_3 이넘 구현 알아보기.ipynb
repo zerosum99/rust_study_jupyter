{
 "cells": [
  {
   "cell_type": "code",
   "execution_count": null,
   "id": "63be27ba",
   "metadata": {},
   "outputs": [],
   "source": []
  },
  {
   "cell_type": "markdown",
   "id": "8e412ae8",
   "metadata": {},
   "source": [
    "## 이넘 구현 "
   ]
  },
  {
   "cell_type": "code",
   "execution_count": 16,
   "id": "08a4073e",
   "metadata": {},
   "outputs": [],
   "source": [
    "enum People {\n",
    "    male,\n",
    "    female,\n",
    "}"
   ]
  },
  {
   "cell_type": "code",
   "execution_count": 17,
   "id": "3544fd91",
   "metadata": {},
   "outputs": [],
   "source": [
    "impl People {\n",
    "    fn say(&self) {\n",
    "        println!(\"이넘 호출\");\n",
    "    }\n",
    "}"
   ]
  },
  {
   "cell_type": "code",
   "execution_count": 18,
   "id": "a4511b42",
   "metadata": {},
   "outputs": [
    {
     "name": "stdout",
     "output_type": "stream",
     "text": [
      "이넘 호출\n"
     ]
    }
   ],
   "source": [
    "People::male.say();"
   ]
  },
  {
   "cell_type": "code",
   "execution_count": 19,
   "id": "4ae29fd8",
   "metadata": {},
   "outputs": [
    {
     "name": "stdout",
     "output_type": "stream",
     "text": [
      "이넘 호출\n"
     ]
    }
   ],
   "source": [
    "People::female.say();"
   ]
  },
  {
   "cell_type": "code",
   "execution_count": null,
   "id": "74be34ab",
   "metadata": {},
   "outputs": [],
   "source": []
  },
  {
   "cell_type": "code",
   "execution_count": 14,
   "id": "8869ccfd",
   "metadata": {},
   "outputs": [],
   "source": [
    "trait Noise {\n",
    "    fn noise(&self);\n",
    "}"
   ]
  },
  {
   "cell_type": "markdown",
   "id": "38df5a3f",
   "metadata": {},
   "source": [
    "## 이넘으로 트레이트 구현 "
   ]
  },
  {
   "cell_type": "code",
   "execution_count": 15,
   "id": "857bfd29",
   "metadata": {},
   "outputs": [],
   "source": [
    "enum Foo {\n",
    "    Bar,\n",
    "    Baz,\n",
    "}\n",
    "\n",
    "impl Noise for Foo {\n",
    "    fn noise(&self) {\n",
    "        match self {\n",
    "            Foo::Bar => println!(\"bar bar bar\"),\n",
    "            Foo::Baz => println!(\"baz baz baz\"),\n",
    "        }\n",
    "    }\n",
    "}"
   ]
  },
  {
   "cell_type": "code",
   "execution_count": 3,
   "id": "14fe0643",
   "metadata": {},
   "outputs": [
    {
     "name": "stdout",
     "output_type": "stream",
     "text": [
      "bar bar bar\n"
     ]
    },
    {
     "data": {
      "text/plain": [
       "()"
      ]
     },
     "execution_count": 3,
     "metadata": {},
     "output_type": "execute_result"
    }
   ],
   "source": [
    "Foo::Bar.noise()"
   ]
  },
  {
   "cell_type": "code",
   "execution_count": 4,
   "id": "b511574b",
   "metadata": {},
   "outputs": [
    {
     "name": "stdout",
     "output_type": "stream",
     "text": [
      "baz baz baz\n"
     ]
    },
    {
     "data": {
      "text/plain": [
       "()"
      ]
     },
     "execution_count": 4,
     "metadata": {},
     "output_type": "execute_result"
    }
   ],
   "source": [
    "Foo::Baz.noise()"
   ]
  },
  {
   "cell_type": "code",
   "execution_count": null,
   "id": "5e2b15f6",
   "metadata": {},
   "outputs": [],
   "source": []
  },
  {
   "cell_type": "markdown",
   "id": "8dc6bc1f",
   "metadata": {},
   "source": [
    "## 이넘 내의 베리언트별 메서드를 실행을 원하면 "
   ]
  },
  {
   "cell_type": "code",
   "execution_count": 9,
   "id": "61bcc0b4",
   "metadata": {},
   "outputs": [],
   "source": [
    "enum Thing {\n",
    "  A,\n",
    "  B\n",
    "}\n",
    "\n",
    "trait Foo {\n",
    "  fn bar() -> usize;\n",
    "}\n"
   ]
  },
  {
   "cell_type": "code",
   "execution_count": 10,
   "id": "ed897ff6",
   "metadata": {},
   "outputs": [],
   "source": [
    "impl Thing {\n",
    "  pub fn bar(self) -> usize {\n",
    "    match self {\n",
    "      Thing::A => 1,\n",
    "      Thing::B => 2\n",
    "    }\n",
    "  }\n",
    "}"
   ]
  },
  {
   "cell_type": "code",
   "execution_count": 11,
   "id": "fbef8d46",
   "metadata": {},
   "outputs": [
    {
     "name": "stdout",
     "output_type": "stream",
     "text": [
      " 1 \n"
     ]
    }
   ],
   "source": [
    "let thing = Thing::A;\n",
    "\n",
    "println!(\" {} \", thing.bar());"
   ]
  },
  {
   "cell_type": "markdown",
   "id": "6e950e9d",
   "metadata": {},
   "source": [
    "## 이넘과 구조체를 사용해서 트레이트 처리하기"
   ]
  },
  {
   "cell_type": "code",
   "execution_count": 6,
   "id": "09b09b07",
   "metadata": {},
   "outputs": [],
   "source": [
    "struct Bar;\n",
    "\n",
    "impl Noise for Bar {\n",
    "    fn noise(&self) {\n",
    "        println!(\"bar bar bar\");\n",
    "    }\n",
    "}\n",
    "\n",
    "struct Baz;\n",
    "\n",
    "impl Noise for Baz {\n",
    "    fn noise(&self) {\n",
    "        println!(\"baz baz baz\");\n",
    "    }\n",
    "}\n",
    "\n",
    "enum Foo1 {\n",
    "    Bar(Bar),\n",
    "    Baz(Baz),\n",
    "}\n",
    "\n",
    "impl Noise for Foo1 {\n",
    "    fn noise(&self) {\n",
    "        match self {\n",
    "            Foo1::Bar(bar) => bar.noise(),\n",
    "            Foo1::Baz(baz) => baz.noise(),\n",
    "        }\n",
    "    }\n",
    "}"
   ]
  },
  {
   "cell_type": "code",
   "execution_count": 11,
   "id": "e760d7d5",
   "metadata": {},
   "outputs": [],
   "source": [
    "let bar = Bar {};\n",
    "let baz = Baz {};"
   ]
  },
  {
   "cell_type": "code",
   "execution_count": 10,
   "id": "cee4d12b",
   "metadata": {},
   "outputs": [
    {
     "name": "stdout",
     "output_type": "stream",
     "text": [
      "bar bar bar\n"
     ]
    },
    {
     "data": {
      "text/plain": [
       "()"
      ]
     },
     "execution_count": 10,
     "metadata": {},
     "output_type": "execute_result"
    }
   ],
   "source": [
    "Foo1::Bar(bar).noise()"
   ]
  },
  {
   "cell_type": "code",
   "execution_count": 13,
   "id": "1a253856",
   "metadata": {},
   "outputs": [
    {
     "name": "stdout",
     "output_type": "stream",
     "text": [
      "baz baz baz\n"
     ]
    },
    {
     "data": {
      "text/plain": [
       "()"
      ]
     },
     "execution_count": 13,
     "metadata": {},
     "output_type": "execute_result"
    }
   ],
   "source": [
    "Foo1::Baz(baz).noise()"
   ]
  },
  {
   "cell_type": "markdown",
   "id": "43b885e2",
   "metadata": {},
   "source": [
    "## 이넘의 값을 구현체로 처리할 때 주의사항\n",
    "\n",
    "-  구조체에 트레이트를 구현할 수 있다.\n",
    "- 하지만 이넘 내의 값으로 구조체를 정의한 경우 이 구조체의 메서드가 호출되지 않는다."
   ]
  },
  {
   "cell_type": "code",
   "execution_count": 2,
   "id": "ae4bca7c",
   "metadata": {},
   "outputs": [],
   "source": [
    "struct Alpha {}\n",
    "struct Beta {}\n",
    "\n",
    "trait FooA{\n",
    "    fn foo(self);\n",
    "}\n",
    "\n",
    "impl FooA for Alpha {\n",
    "    fn foo(self) {\n",
    "        println!(\"foo_alpha\");\n",
    "    }\n",
    "}\n",
    "\n",
    "impl FooA for Beta {\n",
    "    fn foo(self) {\n",
    "        println!(\"foo_beta\");\n",
    "    }\n",
    "}"
   ]
  },
  {
   "cell_type": "code",
   "execution_count": 7,
   "id": "29f35766",
   "metadata": {},
   "outputs": [
    {
     "ename": "Error",
     "evalue": "cannot find derive macro `FooA` in this scope",
     "output_type": "error",
     "traceback": [
      "\u001b[31mError:\u001b[0m cannot find derive macro `FooA` in this scope",
      "   \u001b[38;5;246m╭\u001b[0m\u001b[38;5;246m─\u001b[0m\u001b[38;5;246m[\u001b[0mcommand_7:1:1\u001b[38;5;246m]\u001b[0m",
      "   \u001b[38;5;246m│\u001b[0m",
      " \u001b[38;5;246m2 │\u001b[0m \u001b[38;5;249m#\u001b[0m\u001b[38;5;249m[\u001b[0m\u001b[38;5;249md\u001b[0m\u001b[38;5;249me\u001b[0m\u001b[38;5;249mr\u001b[0m\u001b[38;5;249mi\u001b[0m\u001b[38;5;249mv\u001b[0m\u001b[38;5;249me\u001b[0m\u001b[38;5;249m(\u001b[0m\u001b[38;5;54mF\u001b[0m\u001b[38;5;54mo\u001b[0m\u001b[38;5;54mo\u001b[0m\u001b[38;5;54mA\u001b[0m\u001b[38;5;249m)\u001b[0m\u001b[38;5;249m]\u001b[0m",
      " \u001b[38;5;246m  ·\u001b[0m          \u001b[38;5;54m─\u001b[0m\u001b[38;5;54m─\u001b[0m\u001b[38;5;54m┬\u001b[0m\u001b[38;5;54m─\u001b[0m  ",
      " \u001b[38;5;246m  ·\u001b[0m            \u001b[38;5;54m╰\u001b[0m\u001b[38;5;54m─\u001b[0m\u001b[38;5;54m─\u001b[0m\u001b[38;5;54m─\u001b[0m error: cannot find derive macro `FooA` in this scope",
      "\u001b[38;5;246m───╯\u001b[0m"
     ]
    }
   ],
   "source": [
    "// implement `Foo` here without writing the match manually\n",
    "enum Options {\n",
    "    A(Alpha),\n",
    "    B(Beta),\n",
    "}\n"
   ]
  },
  {
   "cell_type": "code",
   "execution_count": 6,
   "id": "55c2a98c",
   "metadata": {},
   "outputs": [
    {
     "ename": "Error",
     "evalue": "no method named `foo` found for enum `Options` in the current scope",
     "output_type": "error",
     "traceback": [
      "\u001b[31m[E0599] Error:\u001b[0m no method named `foo` found for enum `Options` in the current scope",
      "   \u001b[38;5;246m╭\u001b[0m\u001b[38;5;246m─\u001b[0m\u001b[38;5;246m[\u001b[0mcommand_6:1:1\u001b[38;5;246m]\u001b[0m",
      "   \u001b[38;5;246m│\u001b[0m",
      " \u001b[38;5;246m7 │\u001b[0m \u001b[38;5;249m \u001b[0m\u001b[38;5;249m \u001b[0m\u001b[38;5;249m \u001b[0m\u001b[38;5;249m \u001b[0m\u001b[38;5;249mo\u001b[0m\u001b[38;5;249mp\u001b[0m\u001b[38;5;249mt\u001b[0m\u001b[38;5;249mi\u001b[0m\u001b[38;5;249mo\u001b[0m\u001b[38;5;249mn\u001b[0m\u001b[38;5;249ms\u001b[0m\u001b[38;5;249m.\u001b[0m\u001b[38;5;54mf\u001b[0m\u001b[38;5;54mo\u001b[0m\u001b[38;5;54mo\u001b[0m\u001b[38;5;249m(\u001b[0m\u001b[38;5;249m)\u001b[0m\u001b[38;5;249m;\u001b[0m\u001b[38;5;249m \u001b[0m\u001b[38;5;249m/\u001b[0m\u001b[38;5;249m/\u001b[0m\u001b[38;5;249m \u001b[0m\u001b[38;5;249mn\u001b[0m\u001b[38;5;249mo\u001b[0m\u001b[38;5;249mt\u001b[0m\u001b[38;5;249m \u001b[0m\u001b[38;5;249mi\u001b[0m\u001b[38;5;249mm\u001b[0m\u001b[38;5;249mp\u001b[0m\u001b[38;5;249ml\u001b[0m\u001b[38;5;249me\u001b[0m\u001b[38;5;249mm\u001b[0m\u001b[38;5;249me\u001b[0m\u001b[38;5;249mn\u001b[0m\u001b[38;5;249mt\u001b[0m\u001b[38;5;249me\u001b[0m\u001b[38;5;249md\u001b[0m",
      " \u001b[38;5;246m  ·\u001b[0m             \u001b[38;5;54m─\u001b[0m\u001b[38;5;54m┬\u001b[0m\u001b[38;5;54m─\u001b[0m  ",
      " \u001b[38;5;246m  ·\u001b[0m              \u001b[38;5;54m╰\u001b[0m\u001b[38;5;54m─\u001b[0m\u001b[38;5;54m─\u001b[0m\u001b[38;5;54m─\u001b[0m method not found in `Options`",
      " \u001b[38;5;246m  ·\u001b[0m ",
      " \u001b[38;5;246m  ·\u001b[0m \u001b[38;5;115mNote\u001b[0m: note: `FooA` defines an item `foo`, perhaps you need to implement it",
      "\u001b[38;5;246m───╯\u001b[0m"
     ]
    }
   ],
   "source": [
    "fn main() {\n",
    "    let alpha = Alpha{};\n",
    "    alpha.foo();\n",
    "    let beta = Beta{};\n",
    "    beta.foo();\n",
    "    let options = Options::A(Alpha{});\n",
    "    options.foo(); // not implemented\n",
    "}"
   ]
  },
  {
   "cell_type": "code",
   "execution_count": 5,
   "id": "6c801390",
   "metadata": {},
   "outputs": [
    {
     "name": "stdout",
     "output_type": "stream",
     "text": [
      "foo_alpha\n",
      "foo_beta\n"
     ]
    }
   ],
   "source": [
    "main();"
   ]
  },
  {
   "cell_type": "code",
   "execution_count": null,
   "id": "38d541dc",
   "metadata": {},
   "outputs": [],
   "source": []
  }
 ],
 "metadata": {
  "kernelspec": {
   "display_name": "Rust",
   "language": "rust",
   "name": "rust"
  },
  "language_info": {
   "codemirror_mode": "rust",
   "file_extension": ".rs",
   "mimetype": "text/rust",
   "name": "Rust",
   "pygment_lexer": "rust",
   "version": ""
  }
 },
 "nbformat": 4,
 "nbformat_minor": 5
}
