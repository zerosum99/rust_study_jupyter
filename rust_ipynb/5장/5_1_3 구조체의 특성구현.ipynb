{
 "cells": [
  {
   "cell_type": "code",
   "execution_count": null,
   "id": "5e528b49",
   "metadata": {},
   "outputs": [],
   "source": []
  },
  {
   "cell_type": "markdown",
   "id": "e7da510c",
   "metadata": {},
   "source": [
    "## 2. 특성 구현\n",
    "특성 구현은 선택적 제네릭 유형 선언 뒤에 특성 , 키워드 for, 명목 유형에 대한 경로가 오는 것을 제외하고 고유 구현처럼 정의됩니다.\n",
    "\n",
    "특성은 구현된 특성 으로 알려져 있습니다 . 구현 유형은 구현된 특성을 구현합니다.\n",
    "\n",
    "특성 구현은 구현된 특성에 의해 선언된 기본이 아닌 모든 관련 항목을 정의해야 하며 구현된 특성에 의해 정의된 기본 관련 항목을 재정의할 수 있으며 다른 항목은 정의할 수 없습니다.\n",
    "\n",
    "관련 항목에 대한 경로 <다음에는 구현 유형에 대한 경로, as특성에 대한 경로, >경로 구성 요소, 관련 항목의 경로 구성 요소가 차례로 옵니다."
   ]
  },
  {
   "cell_type": "code",
   "execution_count": null,
   "id": "ff61be14",
   "metadata": {},
   "outputs": [],
   "source": []
  },
  {
   "cell_type": "code",
   "execution_count": null,
   "id": "d422867d",
   "metadata": {},
   "outputs": [],
   "source": []
  }
 ],
 "metadata": {
  "kernelspec": {
   "display_name": "Rust",
   "language": "rust",
   "name": "rust"
  },
  "language_info": {
   "codemirror_mode": "rust",
   "file_extension": ".rs",
   "mimetype": "text/rust",
   "name": "Rust",
   "pygment_lexer": "rust",
   "version": ""
  }
 },
 "nbformat": 4,
 "nbformat_minor": 5
}
