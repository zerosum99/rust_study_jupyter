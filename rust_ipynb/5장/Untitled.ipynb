{
 "cells": [
  {
   "cell_type": "code",
   "execution_count": 3,
   "id": "e2ae6d50",
   "metadata": {},
   "outputs": [],
   "source": [
    ":dep rand=\"0.8.5\""
   ]
  },
  {
   "cell_type": "code",
   "execution_count": 4,
   "id": "a5bc9218",
   "metadata": {},
   "outputs": [],
   "source": [
    "\n",
    "use rand::Rng;\n",
    "\n",
    "fn main() {\n",
    "    let mut rng = rand::thread_rng();\n",
    "\n",
    "    let n1: u8 = rng.gen();\n",
    "    let n2: u16 = rng.gen();\n",
    "    println!(\"Random u8: {}\", n1);\n",
    "    println!(\"Random u16: {}\", n2);\n",
    "    println!(\"Random u32: {}\", rng.gen::<u32>());\n",
    "    println!(\"Random i32: {}\", rng.gen::<i32>());\n",
    "    println!(\"Random float: {}\", rng.gen::<f64>());\n",
    "}\n"
   ]
  },
  {
   "cell_type": "code",
   "execution_count": 5,
   "id": "a553c083",
   "metadata": {},
   "outputs": [
    {
     "name": "stdout",
     "output_type": "stream",
     "text": [
      "Random u8: 7\n",
      "Random u16: 50445\n",
      "Random u32: 1962571889\n",
      "Random i32: -1941702546\n",
      "Random float: 0.3527529653347615\n"
     ]
    },
    {
     "data": {
      "text/plain": [
       "()"
      ]
     },
     "execution_count": 5,
     "metadata": {},
     "output_type": "execute_result"
    }
   ],
   "source": [
    "main()"
   ]
  },
  {
   "cell_type": "code",
   "execution_count": 8,
   "id": "2c22d9f0",
   "metadata": {},
   "outputs": [],
   "source": [
    "fn main() {\n",
    "    // Generate random number in the range [0, 99]\n",
    "    let num = rand::thread_rng().gen_range(1..46);\n",
    "    println!(\"1 = {}\", num);\n",
    "     let num = rand::thread_rng().gen_range(1..46);\n",
    "    println!(\"2 = {}\", num);\n",
    "     let num = rand::thread_rng().gen_range(1..46);\n",
    "    println!(\"3 = {}\", num);\n",
    "     let num = rand::thread_rng().gen_range(1..46);\n",
    "    println!(\"4 = {}\", num);\n",
    "     let num = rand::thread_rng().gen_range(1..46);\n",
    "    println!(\"5 = {}\", num);\n",
    "     let num = rand::thread_rng().gen_range(1..46);\n",
    "    println!(\"6 = {}\", num);\n",
    " \n",
    "}"
   ]
  },
  {
   "cell_type": "code",
   "execution_count": 9,
   "id": "7817d439",
   "metadata": {},
   "outputs": [
    {
     "name": "stdout",
     "output_type": "stream",
     "text": [
      "1 = 44\n",
      "2 = 45\n",
      "3 = 40\n",
      "4 = 43\n",
      "5 = 2\n",
      "6 = 3\n"
     ]
    },
    {
     "data": {
      "text/plain": [
       "()"
      ]
     },
     "execution_count": 9,
     "metadata": {},
     "output_type": "execute_result"
    }
   ],
   "source": [
    "main()"
   ]
  },
  {
   "cell_type": "code",
   "execution_count": 10,
   "id": "98b46e11",
   "metadata": {},
   "outputs": [
    {
     "name": "stdout",
     "output_type": "stream",
     "text": [
      "1 = 18\n",
      "2 = 6\n",
      "3 = 17\n",
      "4 = 22\n",
      "5 = 45\n",
      "6 = 21\n"
     ]
    },
    {
     "data": {
      "text/plain": [
       "()"
      ]
     },
     "execution_count": 10,
     "metadata": {},
     "output_type": "execute_result"
    }
   ],
   "source": [
    "main()"
   ]
  },
  {
   "cell_type": "code",
   "execution_count": 11,
   "id": "40ab4e69",
   "metadata": {},
   "outputs": [
    {
     "name": "stdout",
     "output_type": "stream",
     "text": [
      "1 = 36\n",
      "2 = 42\n",
      "3 = 37\n",
      "4 = 35\n",
      "5 = 36\n",
      "6 = 23\n"
     ]
    },
    {
     "data": {
      "text/plain": [
       "()"
      ]
     },
     "execution_count": 11,
     "metadata": {},
     "output_type": "execute_result"
    }
   ],
   "source": [
    "main()"
   ]
  },
  {
   "cell_type": "code",
   "execution_count": null,
   "id": "b2d0f914",
   "metadata": {},
   "outputs": [],
   "source": []
  }
 ],
 "metadata": {
  "kernelspec": {
   "display_name": "Rust",
   "language": "rust",
   "name": "rust"
  },
  "language_info": {
   "codemirror_mode": "rust",
   "file_extension": ".rs",
   "mimetype": "text/rust",
   "name": "Rust",
   "pygment_lexer": "rust",
   "version": ""
  }
 },
 "nbformat": 4,
 "nbformat_minor": 5
}
