{
 "cells": [
  {
   "cell_type": "markdown",
   "id": "594924eb",
   "metadata": {},
   "source": [
    "## 크레이트 가져오기 "
   ]
  },
  {
   "cell_type": "code",
   "execution_count": 13,
   "id": "93a2f966",
   "metadata": {},
   "outputs": [],
   "source": [
    ":dep rand = { version = \"0.4.6\" }"
   ]
  },
  {
   "cell_type": "markdown",
   "id": "7c2e2d3e",
   "metadata": {},
   "source": [
    "## 크레이트를 가져와서 처리하기 "
   ]
  },
  {
   "cell_type": "code",
   "execution_count": 14,
   "id": "e4e27cce",
   "metadata": {},
   "outputs": [],
   "source": [
    "extern crate rand;\n",
    "\n",
    "use std::io;\n",
    "use rand::Rng;\n",
    "\n",
    "\n",
    "fn main() {\n",
    "    println!(\"Hello, world!\");\n",
    "    println!(\" Guess the number !\");\n",
    "    let secret_number = rand::thread_rng().gen_range(1,45);\n",
    "\n",
    "    println!(\"the secret number is : {}\", secret_number);\n",
    "\n",
    "    //print!(\"Please input your guess\");\n",
    "    //let mut guess = String::new();\n",
    "\n",
    "    //io::stdin().read_line(&mut guess).expect(\"Failed to read line\");\n",
    "    //print!(\" You guessed : {}\", guess);\n",
    "\n",
    "\n",
    "}"
   ]
  },
  {
   "cell_type": "code",
   "execution_count": 15,
   "id": "b3c341ec",
   "metadata": {},
   "outputs": [
    {
     "name": "stdout",
     "output_type": "stream",
     "text": [
      "Hello, world!\n",
      " Guess the number !\n",
      "the secret number is : 40\n"
     ]
    },
    {
     "data": {
      "text/plain": [
       "()"
      ]
     },
     "execution_count": 15,
     "metadata": {},
     "output_type": "execute_result"
    }
   ],
   "source": [
    "main()"
   ]
  },
  {
   "cell_type": "code",
   "execution_count": null,
   "id": "3a20285e",
   "metadata": {},
   "outputs": [],
   "source": []
  },
  {
   "cell_type": "code",
   "execution_count": null,
   "id": "5f6b082b",
   "metadata": {},
   "outputs": [],
   "source": []
  }
 ],
 "metadata": {
  "kernelspec": {
   "display_name": "Rust",
   "language": "rust",
   "name": "rust"
  },
  "language_info": {
   "codemirror_mode": "rust",
   "file_extension": ".rs",
   "mimetype": "text/rust",
   "name": "Rust",
   "pygment_lexer": "rust",
   "version": ""
  }
 },
 "nbformat": 4,
 "nbformat_minor": 5
}
