{
 "cells": [
  {
   "cell_type": "code",
   "execution_count": null,
   "id": "726eafdb",
   "metadata": {},
   "outputs": [],
   "source": []
  },
  {
   "cell_type": "markdown",
   "id": "5190fb5a",
   "metadata": {},
   "source": [
    "## 1  구조체 접근 기준 \n",
    "\n",
    "- 동일한 모듈에서 접근이 가능하다. "
   ]
  },
  {
   "cell_type": "markdown",
   "id": "384269f6",
   "metadata": {},
   "source": [
    "### 동일한 모듈에 구조체와 메서드가 정의된 경우 바로 사용"
   ]
  },
  {
   "cell_type": "code",
   "execution_count": 2,
   "id": "7b9a6d60",
   "metadata": {},
   "outputs": [],
   "source": [
    "struct SeaCreature {\n",
    "    name: String,\n",
    "    noise: String,\n",
    "}\n",
    "\n",
    "impl SeaCreature {\n",
    "    fn get_sound(&self) -> &str {\n",
    "        &self.noise\n",
    "    }\n",
    "}\n",
    "\n",
    "fn main() {\n",
    "    let creature = SeaCreature {\n",
    "        name: String::from(\"Ferris\"),\n",
    "        noise: String::from(\"blub\"),\n",
    "    };\n",
    "    println!(\"{}\", creature.get_sound());\n",
    "}"
   ]
  },
  {
   "cell_type": "code",
   "execution_count": 3,
   "id": "58b8e9b4",
   "metadata": {},
   "outputs": [
    {
     "data": {
      "text/plain": [
       "()"
      ]
     },
     "execution_count": 3,
     "metadata": {},
     "output_type": "execute_result"
    },
    {
     "name": "stdout",
     "output_type": "stream",
     "text": [
      "blub\n"
     ]
    }
   ],
   "source": [
    "main()"
   ]
  },
  {
   "cell_type": "markdown",
   "id": "34baca74",
   "metadata": {},
   "source": [
    "### 형제 모듈일 경우는 내부 아이템을 공개해야 호출할 수 있다. "
   ]
  },
  {
   "cell_type": "code",
   "execution_count": 4,
   "id": "9603dc0a",
   "metadata": {},
   "outputs": [],
   "source": [
    "mod Aaa { \n",
    "    pub struct SeaCreature1 {        // 다른 모듈에서 사용할 때는 구조체를 공개 \n",
    "        pub name: String,            // 필드도 공개가 필요 \n",
    "        pub noise: String,\n",
    "   }\n",
    "\n",
    "   impl SeaCreature1 {\n",
    "        pub fn get_sound(&self) -> &str {\n",
    "            &self.noise\n",
    "        }\n",
    "    }\n",
    "}\n",
    "\n",
    "fn main() {\n",
    "    let creature = Aaa::SeaCreature1 {  // 인스턴스 생성할 때는 형제 모듈의 구조체를 참조 \n",
    "        name: String::from(\"Ferris\"),\n",
    "        noise: String::from(\"blub\"),\n",
    "    };\n",
    "    println!(\"{}\", creature.get_sound());\n",
    "}"
   ]
  },
  {
   "cell_type": "code",
   "execution_count": 5,
   "id": "daead231",
   "metadata": {},
   "outputs": [
    {
     "name": "stdout",
     "output_type": "stream",
     "text": [
      "blub\n"
     ]
    },
    {
     "data": {
      "text/plain": [
       "()"
      ]
     },
     "execution_count": 5,
     "metadata": {},
     "output_type": "execute_result"
    }
   ],
   "source": [
    "main()"
   ]
  },
  {
   "cell_type": "markdown",
   "id": "8f666014",
   "metadata": {},
   "source": [
    "### 자식 모듈에 있을 경우는 전부 공개되어야 접근이 가능하다\n",
    "\n",
    "- 구조체와 메서드 전부 공개해야 한다 "
   ]
  },
  {
   "cell_type": "code",
   "execution_count": 6,
   "id": "72e85b83",
   "metadata": {},
   "outputs": [],
   "source": [
    "mod Aaa1 { \n",
    "    pub mod Bbb { \n",
    "        pub struct SeaCreature {\n",
    "            pub name: String,\n",
    "            pub noise: String,\n",
    "       }\n",
    "\n",
    "       impl SeaCreature {\n",
    "            pub fn get_sound(&self) -> &str {\n",
    "                &self.noise\n",
    "            }\n",
    "        }\n",
    "    }\n",
    "}\n",
    "\n",
    "fn main() {\n",
    "    let creature = Aaa1::Bbb::SeaCreature {\n",
    "        name: String::from(\"Ferris\"),\n",
    "        noise: String::from(\"blub\"),\n",
    "    };\n",
    "    println!(\"{}\", creature.get_sound());\n",
    "}"
   ]
  },
  {
   "cell_type": "code",
   "execution_count": 7,
   "id": "a2ed83cd",
   "metadata": {},
   "outputs": [
    {
     "name": "stdout",
     "output_type": "stream",
     "text": [
      "blub\n"
     ]
    },
    {
     "data": {
      "text/plain": [
       "()"
      ]
     },
     "execution_count": 7,
     "metadata": {},
     "output_type": "execute_result"
    }
   ],
   "source": [
    "main()"
   ]
  },
  {
   "cell_type": "markdown",
   "id": "8f3a8b20",
   "metadata": {},
   "source": [
    "## 구현을 분리해도 구조체 정의에 맞춰 호출이 가능"
   ]
  },
  {
   "cell_type": "code",
   "execution_count": 8,
   "id": "dac39ebd",
   "metadata": {},
   "outputs": [],
   "source": [
    "pub mod color {\n",
    "    #[derive(Debug)]\n",
    "    pub struct Color(pub u8, pub u8, pub u8);\n",
    "\n",
    "    impl Color {\n",
    "        pub const WHITE: Color = Color(255, 255, 255);\n",
    "    }\n",
    "}\n",
    "\n",
    "pub mod values {\n",
    "    use super::color::Color;\n",
    "    impl Color {\n",
    "        pub fn red() -> Color {\n",
    "            Color(255, 0, 0)\n",
    "        }\n",
    "    }\n",
    "}\n",
    "\n",
    "pub use self::color::Color;\n",
    "fn main() {\n",
    "    // Actual path to the implementing type and impl in the same module.\n",
    "    println!(\"{:?}\", color::Color::WHITE);\n",
    "\n",
    "    // Impl blocks in different modules are still accessed through a path to the type.\n",
    "    println!(\"{:?}\",color::Color::red());\n",
    "\n",
    "    // Re-exported paths to the implementing type also work.\n",
    "    println!(\"{:?}\",Color::red());\n",
    "\n",
    "    // Does not work, because use in `values` is not pub.\n",
    "    // values::Color::red();   // Color 구조체를 인식하지 못함\n",
    "}"
   ]
  },
  {
   "cell_type": "code",
   "execution_count": 9,
   "id": "854ba331",
   "metadata": {},
   "outputs": [
    {
     "name": "stdout",
     "output_type": "stream",
     "text": [
      "Color(255, 255, 255)\n",
      "Color(255, 0, 0)\n",
      "Color(255, 0, 0)\n"
     ]
    },
    {
     "data": {
      "text/plain": [
       "()"
      ]
     },
     "execution_count": 9,
     "metadata": {},
     "output_type": "execute_result"
    }
   ],
   "source": [
    "main()"
   ]
  },
  {
   "cell_type": "code",
   "execution_count": null,
   "id": "ff61be14",
   "metadata": {},
   "outputs": [],
   "source": []
  },
  {
   "cell_type": "code",
   "execution_count": null,
   "id": "d422867d",
   "metadata": {},
   "outputs": [],
   "source": []
  }
 ],
 "metadata": {
  "kernelspec": {
   "display_name": "Rust",
   "language": "rust",
   "name": "rust"
  },
  "language_info": {
   "codemirror_mode": "rust",
   "file_extension": ".rs",
   "mimetype": "text/rust",
   "name": "Rust",
   "pygment_lexer": "rust",
   "version": ""
  }
 },
 "nbformat": 4,
 "nbformat_minor": 5
}
