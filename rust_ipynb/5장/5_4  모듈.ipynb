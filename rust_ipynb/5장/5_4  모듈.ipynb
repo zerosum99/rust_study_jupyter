{
 "cells": [
  {
   "cell_type": "code",
   "execution_count": null,
   "id": "2382897b",
   "metadata": {},
   "outputs": [],
   "source": []
  },
  {
   "cell_type": "code",
   "execution_count": null,
   "id": "f2c3632f",
   "metadata": {},
   "outputs": [],
   "source": []
  },
  {
   "cell_type": "code",
   "execution_count": 13,
   "id": "0743b36a",
   "metadata": {},
   "outputs": [],
   "source": [
    "mod network {\n",
    "    pub fn connect() {\n",
    "        println!(\"public function !!!\")\n",
    "    }\n",
    "\n",
    "    pub mod client {\n",
    "        pub fn connect() {\n",
    "             println!(\"client mod public function !!!\")\n",
    "        }\n",
    "    }\n",
    "}"
   ]
  },
  {
   "cell_type": "code",
   "execution_count": 14,
   "id": "b4ed9396",
   "metadata": {},
   "outputs": [
    {
     "name": "stdout",
     "output_type": "stream",
     "text": [
      "public function !!!\n"
     ]
    },
    {
     "data": {
      "text/plain": [
       "()"
      ]
     },
     "execution_count": 14,
     "metadata": {},
     "output_type": "execute_result"
    }
   ],
   "source": [
    "network::connect()"
   ]
  },
  {
   "cell_type": "code",
   "execution_count": 15,
   "id": "783134d3",
   "metadata": {},
   "outputs": [
    {
     "name": "stdout",
     "output_type": "stream",
     "text": [
      "client mod public function !!!\n"
     ]
    },
    {
     "data": {
      "text/plain": [
       "()"
      ]
     },
     "execution_count": 15,
     "metadata": {},
     "output_type": "execute_result"
    }
   ],
   "source": [
    "network::client::connect()"
   ]
  },
  {
   "cell_type": "code",
   "execution_count": null,
   "id": "be2e04e8",
   "metadata": {},
   "outputs": [],
   "source": []
  },
  {
   "cell_type": "code",
   "execution_count": null,
   "id": "98809073",
   "metadata": {},
   "outputs": [],
   "source": []
  },
  {
   "cell_type": "code",
   "execution_count": 20,
   "id": "1f8ba37a",
   "metadata": {},
   "outputs": [
    {
     "name": "stdout",
     "output_type": "stream",
     "text": [
      "client mod public function !!!\n"
     ]
    },
    {
     "data": {
      "text/plain": [
       "()"
      ]
     },
     "execution_count": 20,
     "metadata": {},
     "output_type": "execute_result"
    }
   ],
   "source": [
    "pub mod a {\n",
    "    pub mod series {\n",
    "        pub mod of {\n",
    "            pub fn nested_modules() {\n",
    "                println!(\"client mod public function !!!\")\n",
    "            }\n",
    "        }\n",
    "    }\n",
    "}\n",
    "\n",
    "fn main() {\n",
    "    a::series::of::nested_modules();\n",
    "}\n",
    "\n",
    "main()"
   ]
  },
  {
   "cell_type": "code",
   "execution_count": null,
   "id": "58b0c93b",
   "metadata": {},
   "outputs": [],
   "source": []
  },
  {
   "cell_type": "code",
   "execution_count": null,
   "id": "03d69497",
   "metadata": {},
   "outputs": [],
   "source": []
  },
  {
   "cell_type": "code",
   "execution_count": 21,
   "id": "f3853991",
   "metadata": {},
   "outputs": [
    {
     "name": "stdout",
     "output_type": "stream",
     "text": [
      "client mod public function !!!\n"
     ]
    },
    {
     "data": {
      "text/plain": [
       "()"
      ]
     },
     "execution_count": 21,
     "metadata": {},
     "output_type": "execute_result"
    }
   ],
   "source": [
    "pub mod ab {\n",
    "    pub mod series {\n",
    "        pub mod of {\n",
    "            pub fn nested_modules() {\n",
    "                println!(\"client mod public function !!!\")\n",
    "            }\n",
    "        }\n",
    "    }\n",
    "}\n",
    "\n",
    "use ab::series::of;\n",
    "\n",
    "fn main() {\n",
    "    of::nested_modules();\n",
    "}\n",
    "\n",
    "main()"
   ]
  },
  {
   "cell_type": "code",
   "execution_count": null,
   "id": "3743a0b2",
   "metadata": {},
   "outputs": [],
   "source": []
  },
  {
   "cell_type": "markdown",
   "id": "dae75cc0",
   "metadata": {},
   "source": [
    "## 열거형 또한 모듈과 비슷한 일종의 이름공간을 형성\n",
    "\n",
    "-  use 구문이건 하나의 이름공간으로부터 여러 개의 아이템을 가져"
   ]
  },
  {
   "cell_type": "code",
   "execution_count": 26,
   "id": "d22a380f",
   "metadata": {},
   "outputs": [],
   "source": [
    "enum TrafficLight {\n",
    "    Red,\n",
    "    Yellow,\n",
    "    Green,\n",
    "}"
   ]
  },
  {
   "cell_type": "code",
   "execution_count": 27,
   "id": "cecf9b0a",
   "metadata": {},
   "outputs": [],
   "source": [
    "use TrafficLight::{Red, Yellow};\n",
    "\n",
    "fn main() {\n",
    "    let red = Red;\n",
    "    let yellow = Yellow;\n",
    "    let green = TrafficLight::Green;\n",
    "    \n",
    "     println!(\"client mod public function !!!\")\n",
    "}"
   ]
  },
  {
   "cell_type": "code",
   "execution_count": 28,
   "id": "07aff083",
   "metadata": {},
   "outputs": [
    {
     "name": "stdout",
     "output_type": "stream",
     "text": [
      "client mod public function !!!\n"
     ]
    },
    {
     "data": {
      "text/plain": [
       "()"
      ]
     },
     "execution_count": 28,
     "metadata": {},
     "output_type": "execute_result"
    }
   ],
   "source": [
    "main()"
   ]
  },
  {
   "cell_type": "code",
   "execution_count": 29,
   "id": "5e18eed2",
   "metadata": {},
   "outputs": [],
   "source": [
    "use TrafficLight::*;\n",
    "\n",
    "fn main() {\n",
    "    let red = Red;\n",
    "    let yellow = Yellow;\n",
    "    let green = Green;\n",
    "    println!(\" xxx client mod public function !!!\")\n",
    "}"
   ]
  },
  {
   "cell_type": "code",
   "execution_count": 30,
   "id": "8b607efd",
   "metadata": {},
   "outputs": [
    {
     "name": "stdout",
     "output_type": "stream",
     "text": [
      " xxx client mod public function !!!\n"
     ]
    },
    {
     "data": {
      "text/plain": [
       "()"
      ]
     },
     "execution_count": 30,
     "metadata": {},
     "output_type": "execute_result"
    }
   ],
   "source": [
    "main()"
   ]
  },
  {
   "cell_type": "code",
   "execution_count": null,
   "id": "2c7db7db",
   "metadata": {},
   "outputs": [],
   "source": []
  }
 ],
 "metadata": {
  "kernelspec": {
   "display_name": "Rust",
   "language": "rust",
   "name": "rust"
  },
  "language_info": {
   "codemirror_mode": "rust",
   "file_extension": ".rs",
   "mimetype": "text/rust",
   "name": "Rust",
   "pygment_lexer": "rust",
   "version": ""
  }
 },
 "nbformat": 4,
 "nbformat_minor": 5
}
