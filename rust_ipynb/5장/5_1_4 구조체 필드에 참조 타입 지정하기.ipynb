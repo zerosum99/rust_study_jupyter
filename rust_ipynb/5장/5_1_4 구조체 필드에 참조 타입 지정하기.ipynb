{
 "cells": [
  {
   "cell_type": "code",
   "execution_count": null,
   "id": "7ae85acf",
   "metadata": {},
   "outputs": [],
   "source": []
  },
  {
   "cell_type": "markdown",
   "id": "4bf19ebb",
   "metadata": {},
   "source": [
    "## 1. 구조체에 수명매개변수와 참조 타입 정의 "
   ]
  },
  {
   "cell_type": "markdown",
   "id": "fd7cec7e",
   "metadata": {},
   "source": [
    "## 1-1  불변 참조(&)"
   ]
  },
  {
   "cell_type": "markdown",
   "id": "3e7ecb31",
   "metadata": {},
   "source": [
    "### 구조체에 참조 자료형을 지정하면 에러 발생 "
   ]
  },
  {
   "cell_type": "code",
   "execution_count": 6,
   "id": "a3cf1faf",
   "metadata": {},
   "outputs": [
    {
     "ename": "Error",
     "evalue": "missing lifetime specifier",
     "output_type": "error",
     "traceback": [
      "\u001b[31m[E0106] Error:\u001b[0m missing lifetime specifier",
      "   \u001b[38;5;246m╭\u001b[0m\u001b[38;5;246m─\u001b[0m\u001b[38;5;246m[\u001b[0mcommand_6:1:1\u001b[38;5;246m]\u001b[0m",
      "   \u001b[38;5;246m│\u001b[0m",
      " \u001b[38;5;246m2 │\u001b[0m \u001b[38;5;249m \u001b[0m\u001b[38;5;249m \u001b[0m\u001b[38;5;249m \u001b[0m\u001b[38;5;249m \u001b[0m\u001b[38;5;249mf\u001b[0m\u001b[38;5;249mi\u001b[0m\u001b[38;5;249me\u001b[0m\u001b[38;5;249ml\u001b[0m\u001b[38;5;249md\u001b[0m\u001b[38;5;249m1\u001b[0m\u001b[38;5;249m:\u001b[0m\u001b[38;5;249m \u001b[0m\u001b[38;5;54m&\u001b[0m\u001b[38;5;249ms\u001b[0m\u001b[38;5;249mt\u001b[0m\u001b[38;5;249mr\u001b[0m\u001b[38;5;249m,\u001b[0m",
      " \u001b[38;5;246m  ·\u001b[0m             \u001b[38;5;54m┬\u001b[0m  ",
      " \u001b[38;5;246m  ·\u001b[0m             \u001b[38;5;54m╰\u001b[0m\u001b[38;5;54m─\u001b[0m\u001b[38;5;54m─\u001b[0m expected named lifetime parameter",
      "\u001b[38;5;246m───╯\u001b[0m"
     ]
    }
   ],
   "source": [
    "struct Foo {\n",
    "    field1: &str,\n",
    "}\n",
    "\n",
    "fn main() {\n",
    "    let s = String::from(\"hello\");\n",
    "    let foo = Foo { field1: &s };\n",
    "    println!(\"{}\", foo.field1);\n",
    "}"
   ]
  },
  {
   "cell_type": "markdown",
   "id": "939faf27",
   "metadata": {},
   "source": [
    "### 수명매개변수를 지정\n",
    "\n",
    "- 참조 타입이 구조체와 동일한 수명을 갖는 것을 표시해야 함 "
   ]
  },
  {
   "cell_type": "code",
   "execution_count": 7,
   "id": "a1aae68a",
   "metadata": {},
   "outputs": [],
   "source": [
    "struct Foo<'a> {\n",
    "    field1: &'a str,\n",
    "}\n",
    "\n",
    "fn main() {\n",
    "    let s = String::from(\"hello\");\n",
    "    let foo = Foo { field1: &s };\n",
    "    println!(\"{}\", foo.field1);\n",
    "}"
   ]
  },
  {
   "cell_type": "code",
   "execution_count": 8,
   "id": "990a2a56",
   "metadata": {},
   "outputs": [
    {
     "name": "stdout",
     "output_type": "stream",
     "text": [
      "hello\n"
     ]
    }
   ],
   "source": [
    "main();"
   ]
  },
  {
   "cell_type": "code",
   "execution_count": null,
   "id": "5edb4906",
   "metadata": {},
   "outputs": [],
   "source": []
  },
  {
   "cell_type": "markdown",
   "id": "46c0047d",
   "metadata": {},
   "source": [
    "## 1-2 가변 참조(&mut)"
   ]
  },
  {
   "cell_type": "code",
   "execution_count": 4,
   "id": "59cba1ea",
   "metadata": {},
   "outputs": [],
   "source": [
    "struct Foo<'a> {\n",
    "    field1: &'a mut String,\n",
    "}\n",
    "\n",
    "fn main() {\n",
    "    let mut s = String::from(\"hello\");\n",
    "    let mut foo = Foo { field1: &mut s };\n",
    "    foo.field1.push_str(\", world!\");\n",
    "    println!(\"{}\", foo.field1);\n",
    "}"
   ]
  },
  {
   "cell_type": "code",
   "execution_count": 5,
   "id": "73bc50b6",
   "metadata": {},
   "outputs": [
    {
     "name": "stdout",
     "output_type": "stream",
     "text": [
      "hello, world!\n"
     ]
    }
   ],
   "source": [
    "main();"
   ]
  },
  {
   "cell_type": "code",
   "execution_count": null,
   "id": "67cfdefd",
   "metadata": {},
   "outputs": [],
   "source": []
  }
 ],
 "metadata": {
  "kernelspec": {
   "display_name": "Rust",
   "language": "rust",
   "name": "rust"
  },
  "language_info": {
   "codemirror_mode": "rust",
   "file_extension": ".rs",
   "mimetype": "text/rust",
   "name": "Rust",
   "pygment_lexer": "rust",
   "version": ""
  }
 },
 "nbformat": 4,
 "nbformat_minor": 5
}
