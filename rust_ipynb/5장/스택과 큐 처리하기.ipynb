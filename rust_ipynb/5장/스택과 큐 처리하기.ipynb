{
 "cells": [
  {
   "cell_type": "code",
   "execution_count": null,
   "id": "545ea316",
   "metadata": {},
   "outputs": [],
   "source": []
  },
  {
   "cell_type": "markdown",
   "id": "e81f60c0",
   "metadata": {},
   "source": [
    "## 1. 스택 "
   ]
  },
  {
   "cell_type": "markdown",
   "id": "85769c54",
   "metadata": {},
   "source": [
    "### 스택 구조체 "
   ]
  },
  {
   "cell_type": "code",
   "execution_count": 2,
   "id": "1643ed08",
   "metadata": {},
   "outputs": [],
   "source": [
    "#[derive(Debug)]\n",
    "struct Stack<T> {\n",
    "    data: Vec<T>,\n",
    "}"
   ]
  },
  {
   "cell_type": "markdown",
   "id": "752b7ba8",
   "metadata": {},
   "source": [
    "### 스택 구조체의 구현 \n",
    "\n",
    "- Stack<T> 구조체를 정의하고, \n",
    "- push(), pop(), peek(), is_empty(), len() 메서드를 구현합니다. "
   ]
  },
  {
   "cell_type": "code",
   "execution_count": 3,
   "id": "57b3a95c",
   "metadata": {},
   "outputs": [],
   "source": [
    "impl<T> Stack<T> {\n",
    "    fn new() -> Self {\n",
    "        Self { data: Vec::new() }\n",
    "    }\n",
    "\n",
    "    fn push(&mut self, value: T) {\n",
    "        self.data.push(value);\n",
    "    }\n",
    "\n",
    "    fn pop(&mut self) -> Option<T> {\n",
    "        self.data.pop()\n",
    "    }\n",
    "\n",
    "    fn peek(&self) -> Option<&T> {\n",
    "        self.data.last()\n",
    "    }\n",
    "\n",
    "    fn is_empty(&self) -> bool {\n",
    "        self.data.is_empty()\n",
    "    }\n",
    "\n",
    "    fn len(&self) -> usize {\n",
    "        self.data.len()\n",
    "    }\n",
    "}"
   ]
  },
  {
   "cell_type": "code",
   "execution_count": 4,
   "id": "787c5687",
   "metadata": {},
   "outputs": [],
   "source": [
    "fn main() {\n",
    "    let mut stack = Stack::new();\n",
    "\n",
    "    stack.push(1);\n",
    "    stack.push(2);\n",
    "    stack.push(3);\n",
    "\n",
    "    println!(\"Stack length: {}\", stack.len());\n",
    "    println!(\"Stack : {:?}\", stack);\n",
    "\n",
    "    while let Some(value) = stack.pop() {\n",
    "        println!(\"Popped value: {}\", value);\n",
    "    }\n",
    "\n",
    "    if stack.is_empty() {\n",
    "        println!(\"Stack is empty\");\n",
    "    }\n",
    "}"
   ]
  },
  {
   "cell_type": "code",
   "execution_count": 5,
   "id": "33130bd9",
   "metadata": {},
   "outputs": [
    {
     "name": "stdout",
     "output_type": "stream",
     "text": [
      "Stack length: 3\n",
      "Stack : Stack { data: [1, 2, 3] }\n",
      "Popped value: 3\n",
      "Popped value: 2\n",
      "Popped value: 1\n",
      "Stack is empty\n"
     ]
    }
   ],
   "source": [
    "main();"
   ]
  },
  {
   "cell_type": "code",
   "execution_count": null,
   "id": "f826eb71",
   "metadata": {},
   "outputs": [],
   "source": []
  },
  {
   "cell_type": "markdown",
   "id": "3312420c",
   "metadata": {},
   "source": [
    "## 2. 큐  "
   ]
  },
  {
   "cell_type": "markdown",
   "id": "148b1017",
   "metadata": {},
   "source": [
    "### 구조체 정의 "
   ]
  },
  {
   "cell_type": "code",
   "execution_count": 2,
   "id": "8a94f2cf",
   "metadata": {},
   "outputs": [],
   "source": [
    "#[derive(Debug)]\n",
    "struct Queue<T> {\n",
    "    data: Vec<T>,\n",
    "}"
   ]
  },
  {
   "cell_type": "markdown",
   "id": "f6b60079",
   "metadata": {},
   "source": [
    "### 구조체의 메서드 정의\n",
    "\n",
    "- Queue<T> 구조체를 정의하고, \n",
    "- enqueue(), dequeue(), front(), is_empty(), len() 메서드를 구현합니다. "
   ]
  },
  {
   "cell_type": "code",
   "execution_count": 3,
   "id": "b029b886",
   "metadata": {},
   "outputs": [],
   "source": [
    "impl<T> Queue<T> {\n",
    "    fn new() -> Self {\n",
    "        Self { data: Vec::new() }\n",
    "    }\n",
    "\n",
    "    fn enqueue(&mut self, value: T) {\n",
    "        self.data.push(value);\n",
    "    }\n",
    "\n",
    "    fn dequeue(&mut self) -> Option<T> {\n",
    "        if self.data.is_empty() {\n",
    "            return None;\n",
    "        }\n",
    "\n",
    "        let value = self.data.remove(0);\n",
    "        Some(value)\n",
    "    }\n",
    "\n",
    "    fn front(&self) -> Option<&T> {\n",
    "        self.data.first()\n",
    "    }\n",
    "\n",
    "}"
   ]
  },
  {
   "cell_type": "markdown",
   "id": "f67a621d",
   "metadata": {},
   "source": [
    "## 트레이트 지정"
   ]
  },
  {
   "cell_type": "code",
   "execution_count": 5,
   "id": "b68f6337",
   "metadata": {},
   "outputs": [],
   "source": [
    "trait Seq<T> {\n",
    " \n",
    "    fn is_empty(&self) -> bool;\n",
    "\n",
    "    fn len(&self) -> usize;\n",
    "}"
   ]
  },
  {
   "cell_type": "markdown",
   "id": "588a36b5",
   "metadata": {},
   "source": [
    "## 트레이트 구현 "
   ]
  },
  {
   "cell_type": "code",
   "execution_count": 6,
   "id": "a70051bc",
   "metadata": {},
   "outputs": [],
   "source": [
    "impl<T> Seq<T> for Queue<T>  {\n",
    "    fn is_empty(&self) -> bool {\n",
    "        self.data.is_empty()\n",
    "    }\n",
    "\n",
    "    fn len(&self) -> usize {\n",
    "        self.data.len()\n",
    "    }\n",
    "    \n",
    "}"
   ]
  },
  {
   "cell_type": "markdown",
   "id": "bdda4abe",
   "metadata": {},
   "source": [
    "### 실행하기 "
   ]
  },
  {
   "cell_type": "code",
   "execution_count": 7,
   "id": "98285f43",
   "metadata": {},
   "outputs": [],
   "source": [
    "fn main() {\n",
    "    let mut queue = Queue::new();\n",
    "\n",
    "    queue.enqueue(1);\n",
    "    queue.enqueue(2);\n",
    "    queue.enqueue(3);\n",
    "\n",
    "    println!(\"Queue length: {}\", queue.len());\n",
    "    println!(\"Queue : {:?}\", queue);\n",
    "\n",
    "    while let Some(value) = queue.dequeue() {\n",
    "        println!(\"Dequeued value: {}\", value);\n",
    "    }\n",
    "\n",
    "    if queue.is_empty() {\n",
    "        println!(\"Queue is empty\");\n",
    "    }\n",
    "}"
   ]
  },
  {
   "cell_type": "code",
   "execution_count": null,
   "id": "75f3be8b",
   "metadata": {},
   "outputs": [],
   "source": []
  },
  {
   "cell_type": "code",
   "execution_count": 8,
   "id": "d0857886",
   "metadata": {},
   "outputs": [
    {
     "name": "stdout",
     "output_type": "stream",
     "text": [
      "Queue length: 3\n",
      "Queue : Queue { data: [1, 2, 3] }\n",
      "Dequeued value: 1\n",
      "Dequeued value: 2\n",
      "Dequeued value: 3\n",
      "Queue is empty\n"
     ]
    }
   ],
   "source": [
    "main();"
   ]
  },
  {
   "cell_type": "code",
   "execution_count": null,
   "id": "48a13963",
   "metadata": {},
   "outputs": [],
   "source": []
  },
  {
   "cell_type": "code",
   "execution_count": null,
   "id": "10b61825",
   "metadata": {},
   "outputs": [],
   "source": []
  }
 ],
 "metadata": {
  "kernelspec": {
   "display_name": "Rust",
   "language": "rust",
   "name": "rust"
  },
  "language_info": {
   "codemirror_mode": "rust",
   "file_extension": ".rs",
   "mimetype": "text/rust",
   "name": "Rust",
   "pygment_lexer": "rust",
   "version": ""
  }
 },
 "nbformat": 4,
 "nbformat_minor": 5
}
