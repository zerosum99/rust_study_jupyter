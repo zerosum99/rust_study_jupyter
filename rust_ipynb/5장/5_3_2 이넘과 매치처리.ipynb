{
 "cells": [
  {
   "cell_type": "code",
   "execution_count": null,
   "id": "ce5664b0",
   "metadata": {},
   "outputs": [],
   "source": []
  },
  {
   "cell_type": "markdown",
   "id": "f8d6d826",
   "metadata": {},
   "source": [
    "## 3. 매치처리 알아보기"
   ]
  },
  {
   "cell_type": "markdown",
   "id": "5bb9dc0c",
   "metadata": {},
   "source": [
    "## 특정 값 여부 체크 : Option enum 처리\n",
    "\n",
    "####  enum Option<T> {\n",
    "####   Some(T),      //used to return a value\n",
    "####   None          // used to return null, as Rust doesn't support \n",
    "#### }"
   ]
  },
  {
   "cell_type": "code",
   "execution_count": 14,
   "id": "e4f4ebf4",
   "metadata": {},
   "outputs": [],
   "source": [
    "fn main() {\n",
    "   let result = is_even(3);\n",
    "   println!(\"{:?}\",result);\n",
    "   println!(\"{:?}\",is_even(30));\n",
    "}\n",
    "fn is_even(no:i32)->Option<bool> {\n",
    "   if no%2 == 0 {\n",
    "      Some(true)\n",
    "   } else {\n",
    "      None\n",
    "   }\n",
    "}"
   ]
  },
  {
   "cell_type": "code",
   "execution_count": 15,
   "id": "da1a0eb1",
   "metadata": {},
   "outputs": [
    {
     "name": "stdout",
     "output_type": "stream",
     "text": [
      "None\n",
      "Some(true)\n"
     ]
    }
   ],
   "source": [
    "main();"
   ]
  },
  {
   "cell_type": "code",
   "execution_count": null,
   "id": "79337ecf",
   "metadata": {},
   "outputs": [],
   "source": []
  },
  {
   "cell_type": "markdown",
   "id": "edc571d8",
   "metadata": {},
   "source": [
    "## 매치 처리 : option"
   ]
  },
  {
   "cell_type": "code",
   "execution_count": 18,
   "id": "fab9c2bb",
   "metadata": {},
   "outputs": [],
   "source": [
    "fn main() {\n",
    "   match is_even(5) {\n",
    "      Some(data) => {\n",
    "         if data==true {\n",
    "            println!(\"Even no\");\n",
    "         }\n",
    "      },\n",
    "      None => {\n",
    "         println!(\"not even\");\n",
    "      }\n",
    "   }\n",
    "}\n",
    "fn is_even(no:i32)->Option<bool> {\n",
    "   if no%2 == 0 {\n",
    "      Some(true)\n",
    "   } else {\n",
    "      None\n",
    "   }\n",
    "}"
   ]
  },
  {
   "cell_type": "code",
   "execution_count": 19,
   "id": "8fd26eef",
   "metadata": {},
   "outputs": [
    {
     "name": "stdout",
     "output_type": "stream",
     "text": [
      "not even\n"
     ]
    }
   ],
   "source": [
    "main();"
   ]
  },
  {
   "cell_type": "markdown",
   "id": "800880a1",
   "metadata": {},
   "source": [
    "##  매치처리 : 일반 이넘"
   ]
  },
  {
   "cell_type": "code",
   "execution_count": 16,
   "id": "4177c6d5",
   "metadata": {},
   "outputs": [],
   "source": [
    "enum CarType {\n",
    "   Hatch,\n",
    "   Sedan,\n",
    "   SUV\n",
    "}\n",
    "fn print_size(car:CarType) {\n",
    "   match car {\n",
    "      CarType::Hatch => {\n",
    "         println!(\"Small sized car\");\n",
    "      },\n",
    "      CarType::Sedan => {\n",
    "         println!(\"medium sized car\");\n",
    "      },\n",
    "      CarType::SUV =>{\n",
    "         println!(\"Large sized Sports Utility car\");\n",
    "      }\n",
    "   }\n",
    "}\n",
    "fn main(){\n",
    "   print_size(CarType::SUV);\n",
    "   print_size(CarType::Hatch);\n",
    "   print_size(CarType::Sedan);\n",
    "}"
   ]
  },
  {
   "cell_type": "code",
   "execution_count": 17,
   "id": "98647fce",
   "metadata": {},
   "outputs": [
    {
     "name": "stdout",
     "output_type": "stream",
     "text": [
      "Large sized Sports Utility car\n",
      "Small sized car\n",
      "medium sized car\n"
     ]
    }
   ],
   "source": [
    "main();"
   ]
  },
  {
   "cell_type": "code",
   "execution_count": null,
   "id": "1a6aff15",
   "metadata": {},
   "outputs": [],
   "source": []
  },
  {
   "cell_type": "markdown",
   "id": "c9550233",
   "metadata": {},
   "source": [
    "## 매치 : 이넘 내의 값 매칭 "
   ]
  },
  {
   "cell_type": "code",
   "execution_count": 20,
   "id": "5d171f5a",
   "metadata": {},
   "outputs": [],
   "source": [
    "// The `derive` attribute automatically creates the implementation\n",
    "// required to make this `enum` printable with `fmt::Debug`.\n",
    "#[derive(Debug)]\n",
    "enum GenderCategory {\n",
    "   Name(String),Usr_ID(i32)\n",
    "}\n",
    "fn main() {\n",
    "   let p1 = GenderCategory::Name(String::from(\"Mohtashim\"));\n",
    "   let p2 = GenderCategory::Usr_ID(100);\n",
    "   println!(\"{:?}\",p1);\n",
    "   println!(\"{:?}\",p2);\n",
    "\n",
    "   match p1 {\n",
    "      GenderCategory::Name(val)=> {\n",
    "         println!(\"{}\",val);\n",
    "      }\n",
    "      GenderCategory::Usr_ID(val)=> {\n",
    "         println!(\"{}\",val);\n",
    "      }\n",
    "   }\n",
    "}"
   ]
  },
  {
   "cell_type": "code",
   "execution_count": 21,
   "id": "5c21e7e0",
   "metadata": {},
   "outputs": [
    {
     "name": "stdout",
     "output_type": "stream",
     "text": [
      "Name(\"Mohtashim\")\n",
      "Usr_ID(100)\n",
      "Mohtashim\n"
     ]
    }
   ],
   "source": [
    "main();"
   ]
  },
  {
   "cell_type": "code",
   "execution_count": null,
   "id": "3173240c",
   "metadata": {},
   "outputs": [],
   "source": []
  },
  {
   "cell_type": "code",
   "execution_count": null,
   "id": "8840a775",
   "metadata": {},
   "outputs": [],
   "source": []
  }
 ],
 "metadata": {
  "kernelspec": {
   "display_name": "Rust",
   "language": "rust",
   "name": "rust"
  },
  "language_info": {
   "codemirror_mode": "rust",
   "file_extension": ".rs",
   "mimetype": "text/rust",
   "name": "Rust",
   "pygment_lexer": "rust",
   "version": ""
  }
 },
 "nbformat": 4,
 "nbformat_minor": 5
}
