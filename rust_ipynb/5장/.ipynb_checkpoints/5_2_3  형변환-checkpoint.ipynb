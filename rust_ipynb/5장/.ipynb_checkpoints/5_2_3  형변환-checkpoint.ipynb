{
 "cells": [
  {
   "cell_type": "code",
   "execution_count": null,
   "id": "65b9aa74",
   "metadata": {},
   "outputs": [],
   "source": []
  },
  {
   "cell_type": "markdown",
   "id": "02b9fe5d",
   "metadata": {},
   "source": [
    "# 1. 숫자 자료형의 형변환 "
   ]
  },
  {
   "cell_type": "code",
   "execution_count": 4,
   "id": "81c08c6f",
   "metadata": {},
   "outputs": [],
   "source": [
    "fn multiply(x: i16, y: i16) -> i16 {\n",
    "    x * y\n",
    "}"
   ]
  },
  {
   "cell_type": "markdown",
   "id": "845cf88c",
   "metadata": {},
   "source": [
    "## 묵시적 형변환은 불가"
   ]
  },
  {
   "cell_type": "code",
   "execution_count": 5,
   "id": "8040ebf0",
   "metadata": {},
   "outputs": [
    {
     "ename": "Error",
     "evalue": "mismatched types",
     "output_type": "error",
     "traceback": [
      "\u001b[31m[E0308] Error:\u001b[0m mismatched types",
      "   \u001b[38;5;246m╭\u001b[0m\u001b[38;5;246m─\u001b[0m\u001b[38;5;246m[\u001b[0mcommand_5:1:1\u001b[38;5;246m]\u001b[0m",
      "   \u001b[38;5;246m│\u001b[0m",
      " \u001b[38;5;246m5 │\u001b[0m \u001b[38;5;249m \u001b[0m\u001b[38;5;249m \u001b[0m\u001b[38;5;249m \u001b[0m\u001b[38;5;249m \u001b[0m\u001b[38;5;249mp\u001b[0m\u001b[38;5;249mr\u001b[0m\u001b[38;5;249mi\u001b[0m\u001b[38;5;249mn\u001b[0m\u001b[38;5;249mt\u001b[0m\u001b[38;5;249ml\u001b[0m\u001b[38;5;249mn\u001b[0m\u001b[38;5;249m!\u001b[0m\u001b[38;5;249m(\u001b[0m\u001b[38;5;249m\"\u001b[0m\u001b[38;5;249m{\u001b[0m\u001b[38;5;249mx\u001b[0m\u001b[38;5;249m}\u001b[0m\u001b[38;5;249m \u001b[0m\u001b[38;5;249m*\u001b[0m\u001b[38;5;249m \u001b[0m\u001b[38;5;249m{\u001b[0m\u001b[38;5;249my\u001b[0m\u001b[38;5;249m}\u001b[0m\u001b[38;5;249m \u001b[0m\u001b[38;5;249m=\u001b[0m\u001b[38;5;249m \u001b[0m\u001b[38;5;249m{\u001b[0m\u001b[38;5;249m}\u001b[0m\u001b[38;5;249m\"\u001b[0m\u001b[38;5;249m,\u001b[0m\u001b[38;5;249m \u001b[0m\u001b[38;5;100mm\u001b[0m\u001b[38;5;100mu\u001b[0m\u001b[38;5;100ml\u001b[0m\u001b[38;5;100mt\u001b[0m\u001b[38;5;100mi\u001b[0m\u001b[38;5;100mp\u001b[0m\u001b[38;5;100ml\u001b[0m\u001b[38;5;100my\u001b[0m\u001b[38;5;249m(\u001b[0m\u001b[38;5;54mx\u001b[0m\u001b[38;5;249m,\u001b[0m\u001b[38;5;249m \u001b[0m\u001b[38;5;249my\u001b[0m\u001b[38;5;249m)\u001b[0m\u001b[38;5;249m)\u001b[0m\u001b[38;5;249m;\u001b[0m",
      " \u001b[38;5;246m  ·\u001b[0m                                \u001b[38;5;100m─\u001b[0m\u001b[38;5;100m─\u001b[0m\u001b[38;5;100m─\u001b[0m\u001b[38;5;100m─\u001b[0m\u001b[38;5;100m┬\u001b[0m\u001b[38;5;100m─\u001b[0m\u001b[38;5;100m─\u001b[0m\u001b[38;5;100m─\u001b[0m \u001b[38;5;54m┬\u001b[0m\u001b[38;5;68m│\u001b[0m ",
      " \u001b[38;5;246m  ·\u001b[0m                                    \u001b[38;5;100m╰\u001b[0m\u001b[38;5;100m─\u001b[0m\u001b[38;5;100m─\u001b[0m\u001b[38;5;100m─\u001b[0m\u001b[38;5;100m─\u001b[0m\u001b[38;5;100m─\u001b[0m\u001b[38;5;100m─\u001b[0m\u001b[38;5;100m─\u001b[0m arguments to this function are incorrect",
      " \u001b[38;5;246m  ·\u001b[0m                                         \u001b[38;5;54m│\u001b[0m\u001b[38;5;68m│\u001b[0m ",
      " \u001b[38;5;246m  ·\u001b[0m                                         \u001b[38;5;54m╰\u001b[0m\u001b[38;5;54m─\u001b[0m\u001b[38;5;54m─\u001b[0m expected `i16`, found `i8`",
      " \u001b[38;5;246m  ·\u001b[0m                                          \u001b[38;5;68m│\u001b[0m ",
      " \u001b[38;5;246m  ·\u001b[0m                                          \u001b[38;5;68m╰\u001b[0m\u001b[38;5;68m─\u001b[0m help: you can convert an `i8` to an `i16`: `.into()`",
      "\u001b[38;5;246m───╯\u001b[0m"
     ]
    }
   ],
   "source": [
    "fn main() {\n",
    "    let x: i8 = 15;\n",
    "    let y: i16 = 1000;\n",
    "\n",
    "    println!(\"{x} * {y} = {}\", multiply(x, y));\n",
    "}"
   ]
  },
  {
   "cell_type": "markdown",
   "id": "ab14011b",
   "metadata": {},
   "source": [
    "## 명시적 형반환\n",
    "\n",
    "- from 함수 사용\n",
    "- into 함수 사용"
   ]
  },
  {
   "cell_type": "markdown",
   "id": "984b7198",
   "metadata": {},
   "source": [
    "### from 함수를 변환하고자 하는 자료형에서 연관함수로 호출"
   ]
  },
  {
   "cell_type": "code",
   "execution_count": 6,
   "id": "65c02594",
   "metadata": {},
   "outputs": [],
   "source": [
    "fn main() {\n",
    "    let x: i8 = 15;\n",
    "    let y: i16 = 1000;\n",
    "\n",
    "    println!(\"{x} * {y} = {}\", multiply(i16::from(x), y));\n",
    "}"
   ]
  },
  {
   "cell_type": "code",
   "execution_count": 7,
   "id": "ffa1a7b1",
   "metadata": {},
   "outputs": [
    {
     "data": {
      "text/plain": [
       "()"
      ]
     },
     "execution_count": 7,
     "metadata": {},
     "output_type": "execute_result"
    },
    {
     "name": "stdout",
     "output_type": "stream",
     "text": [
      "15 * 1000 = 15000\n"
     ]
    }
   ],
   "source": [
    "main()"
   ]
  },
  {
   "cell_type": "markdown",
   "id": "122e5de9",
   "metadata": {},
   "source": [
    "### into 메서드를 호출해서 변환하고자 하는 자료형으로 처리 "
   ]
  },
  {
   "cell_type": "code",
   "execution_count": 8,
   "id": "42859b97",
   "metadata": {},
   "outputs": [],
   "source": [
    "fn main() {\n",
    "    let x: i8 = 15;\n",
    "    let y: i16 = 1000;\n",
    "\n",
    "    println!(\"{x} * {y} = {}\", multiply(x.into(), y));\n",
    "}"
   ]
  },
  {
   "cell_type": "code",
   "execution_count": 9,
   "id": "83847ff5",
   "metadata": {},
   "outputs": [
    {
     "name": "stdout",
     "output_type": "stream",
     "text": [
      "15 * 1000 = 15000\n"
     ]
    }
   ],
   "source": [
    "main();"
   ]
  },
  {
   "cell_type": "code",
   "execution_count": null,
   "id": "2900cf69",
   "metadata": {},
   "outputs": [],
   "source": []
  },
  {
   "cell_type": "markdown",
   "id": "fa63e591",
   "metadata": {},
   "source": [
    "## 1-2 from 과 into 작성해 보기"
   ]
  },
  {
   "cell_type": "markdown",
   "id": "8d9dd6e0",
   "metadata": {},
   "source": [
    "## from "
   ]
  },
  {
   "cell_type": "code",
   "execution_count": 19,
   "id": "4d045654",
   "metadata": {},
   "outputs": [],
   "source": [
    "use std::convert::From;\n",
    "\n",
    "#[derive(Debug)]\n",
    "struct Number {\n",
    "    value: i32,\n",
    "}\n",
    "\n",
    "impl From<i32> for Number {\n",
    "    fn from(item: i32) -> Self {\n",
    "        Number { value: item }\n",
    "    }\n",
    "}\n",
    "\n",
    "fn main() {\n",
    "    let num = Number::from(30);\n",
    "    println!(\"My number is {:?}\", num);\n",
    "}"
   ]
  },
  {
   "cell_type": "code",
   "execution_count": 20,
   "id": "c4289782",
   "metadata": {},
   "outputs": [
    {
     "name": "stdout",
     "output_type": "stream",
     "text": [
      "My number is Number { value: 30 }\n"
     ]
    }
   ],
   "source": [
    "main();"
   ]
  },
  {
   "cell_type": "markdown",
   "id": "001324b5",
   "metadata": {},
   "source": [
    "## into\n",
    "\n",
    "- Into 특성은 단순히 From 특성의 역수입니다. 즉, 유형에 대해 From 특성을 구현한 경우 Into는 필요할 때 이를 호출합니다.\n",
    "\n",
    "- 컴파일러가 대부분의 경우 이를 확인할 수 없기 때문에 Into 특성을 사용하려면 일반적으로 변환할 유형을 지정해야 합니다. \n",
    "- 하지만 이 기능을 무료로 사용할 수 있다는 점을 고려하면 이는 작은 단점입니다."
   ]
  },
  {
   "cell_type": "code",
   "execution_count": 22,
   "id": "ff57e7a4",
   "metadata": {},
   "outputs": [],
   "source": [
    "use std::convert::From;\n",
    "\n",
    "#[derive(Debug)]\n",
    "struct Number {\n",
    "    value: i32,\n",
    "}\n",
    "\n",
    "impl From<i32> for Number {\n",
    "    fn from(item: i32) -> Self {\n",
    "        Number { value: item }\n",
    "    }\n",
    "}\n",
    "\n",
    "fn main() {\n",
    "    let int = 5;\n",
    "    // Try removing the type annotation\n",
    "    let num: Number = int.into();\n",
    "    println!(\"My number is {:?}\", num);\n",
    "}"
   ]
  },
  {
   "cell_type": "code",
   "execution_count": 23,
   "id": "921095f5",
   "metadata": {},
   "outputs": [
    {
     "name": "stdout",
     "output_type": "stream",
     "text": [
      "My number is Number { value: 5 }\n"
     ]
    },
    {
     "data": {
      "text/plain": [
       "()"
      ]
     },
     "execution_count": 23,
     "metadata": {},
     "output_type": "execute_result"
    }
   ],
   "source": [
    "main()"
   ]
  },
  {
   "cell_type": "markdown",
   "id": "2633dfcf",
   "metadata": {},
   "source": [
    "# 2.  문자열 자료형으로 형변환 "
   ]
  },
  {
   "cell_type": "code",
   "execution_count": 14,
   "id": "b3166c3d",
   "metadata": {},
   "outputs": [],
   "source": [
    "use std::any::type_name;\n",
    "\n",
    "fn type_of<T>(_: T) -> &'static str {\n",
    "    type_name::<T>()\n",
    "}"
   ]
  },
  {
   "cell_type": "code",
   "execution_count": 11,
   "id": "78675f48",
   "metadata": {},
   "outputs": [],
   "source": [
    "let x = 100;"
   ]
  },
  {
   "cell_type": "code",
   "execution_count": 16,
   "id": "6a7da40c",
   "metadata": {},
   "outputs": [
    {
     "data": {
      "text/plain": [
       "\"alloc::string::String\""
      ]
     },
     "execution_count": 16,
     "metadata": {},
     "output_type": "execute_result"
    }
   ],
   "source": [
    "type_of(x.to_string())"
   ]
  },
  {
   "cell_type": "code",
   "execution_count": 17,
   "id": "ce064fbe",
   "metadata": {},
   "outputs": [
    {
     "data": {
      "text/plain": [
       "\"100\""
      ]
     },
     "execution_count": 17,
     "metadata": {},
     "output_type": "execute_result"
    }
   ],
   "source": [
    "String::from(x.to_string())"
   ]
  },
  {
   "cell_type": "code",
   "execution_count": null,
   "id": "30de6789",
   "metadata": {},
   "outputs": [],
   "source": []
  }
 ],
 "metadata": {
  "kernelspec": {
   "display_name": "Rust",
   "language": "rust",
   "name": "rust"
  },
  "language_info": {
   "codemirror_mode": "rust",
   "file_extension": ".rs",
   "mimetype": "text/rust",
   "name": "Rust",
   "pygment_lexer": "rust",
   "version": ""
  }
 },
 "nbformat": 4,
 "nbformat_minor": 5
}
