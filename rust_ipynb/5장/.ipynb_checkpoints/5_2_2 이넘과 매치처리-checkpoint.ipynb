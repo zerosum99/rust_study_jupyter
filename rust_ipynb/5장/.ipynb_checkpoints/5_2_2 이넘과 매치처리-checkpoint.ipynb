{
 "cells": [
  {
   "cell_type": "code",
   "execution_count": null,
   "id": "ce5664b0",
   "metadata": {},
   "outputs": [],
   "source": []
  },
  {
   "cell_type": "markdown",
   "id": "ec19051d",
   "metadata": {},
   "source": [
    "## 1. enum 정의\n",
    "\n",
    "- enum 예약어 사용\n",
    "- 이넘 이름 정의 \n",
    "- 이넘은 하나의 자료형으로 인식\n",
    "- 본문에 variant 정의 \n",
    "\n",
    "### enum enum_name {\n",
    "###   variant1,\n",
    "###   variant2,\n",
    "###   variant3\n",
    "### }"
   ]
  },
  {
   "cell_type": "markdown",
   "id": "5f038f7b",
   "metadata": {},
   "source": [
    "### 일반적인 이넘 정의 "
   ]
  },
  {
   "cell_type": "code",
   "execution_count": 23,
   "id": "4292bdf0",
   "metadata": {},
   "outputs": [],
   "source": [
    "enum Animal {\n",
    "    Dog,\n",
    "    Cat,\n",
    "}\n",
    "\n",
    "let mut a: Animal = Animal::Dog;\n",
    "a = Animal::Cat;"
   ]
  },
  {
   "cell_type": "markdown",
   "id": "f9bd41b3",
   "metadata": {},
   "source": [
    "### 이넘도 구조체와 동일하게 std::fmt::Display 지원하지 않음\n",
    "\n",
    "- 그래서 Debug로 출력해야함"
   ]
  },
  {
   "cell_type": "code",
   "execution_count": 24,
   "id": "55e5f2cf",
   "metadata": {},
   "outputs": [
    {
     "ename": "Error",
     "evalue": "variant `Usr_ID` should have an upper camel case name",
     "output_type": "error",
     "traceback": [
      "\u001b[31m[non_camel_case_types] Error:\u001b[0m variant `Usr_ID` should have an upper camel case name"
     ]
    },
    {
     "ename": "Error",
     "evalue": "`Animal` doesn't implement `std::fmt::Display`",
     "output_type": "error",
     "traceback": [
      "\u001b[31m[E0277] Error:\u001b[0m `Animal` doesn't implement `std::fmt::Display`",
      "   \u001b[38;5;246m╭\u001b[0m\u001b[38;5;246m─\u001b[0m\u001b[38;5;246m[\u001b[0mcommand_24:1:1\u001b[38;5;246m]\u001b[0m",
      "   \u001b[38;5;246m│\u001b[0m",
      " \u001b[38;5;246m1 │\u001b[0m \u001b[38;5;249mp\u001b[0m\u001b[38;5;249mr\u001b[0m\u001b[38;5;249mi\u001b[0m\u001b[38;5;249mn\u001b[0m\u001b[38;5;249mt\u001b[0m\u001b[38;5;249ml\u001b[0m\u001b[38;5;249mn\u001b[0m\u001b[38;5;249m!\u001b[0m\u001b[38;5;249m(\u001b[0m\u001b[38;5;249m\"\u001b[0m\u001b[38;5;249m{\u001b[0m\u001b[38;5;249m}\u001b[0m\u001b[38;5;249m\"\u001b[0m\u001b[38;5;249m,\u001b[0m\u001b[38;5;54ma\u001b[0m\u001b[38;5;249m)\u001b[0m\u001b[38;5;249m;\u001b[0m",
      " \u001b[38;5;246m  ·\u001b[0m               \u001b[38;5;54m┬\u001b[0m  ",
      " \u001b[38;5;246m  ·\u001b[0m               \u001b[38;5;54m╰\u001b[0m\u001b[38;5;54m─\u001b[0m\u001b[38;5;54m─\u001b[0m `Animal` cannot be formatted with the default formatter",
      "\u001b[38;5;246m───╯\u001b[0m"
     ]
    }
   ],
   "source": [
    "println!(\"{}\",a);"
   ]
  },
  {
   "cell_type": "markdown",
   "id": "89a96fa3",
   "metadata": {},
   "source": [
    "### 속성을 추가정의해서 Debug 출력처리 "
   ]
  },
  {
   "cell_type": "code",
   "execution_count": 27,
   "id": "6eea2140",
   "metadata": {},
   "outputs": [
    {
     "name": "stdout",
     "output_type": "stream",
     "text": [
      "Cat\n"
     ]
    }
   ],
   "source": [
    "#[derive(Debug)]                  // 속성을 정의해서 debug 출력처리\n",
    "enum Animal {\n",
    "    Dog,\n",
    "    Cat,\n",
    "}\n",
    "\n",
    "let mut a1: Animal = Animal::Dog;\n",
    "a1 = Animal::Cat;\n",
    "println!(\"{:?}\",a1);"
   ]
  },
  {
   "cell_type": "code",
   "execution_count": null,
   "id": "1cc5eb0e",
   "metadata": {},
   "outputs": [],
   "source": []
  },
  {
   "cell_type": "markdown",
   "id": "c9bcbab8",
   "metadata": {},
   "source": [
    "## 이넘을 정의한 후에 구조체 필드에 지정해서 처리  "
   ]
  },
  {
   "cell_type": "code",
   "execution_count": null,
   "id": "e107c2b8",
   "metadata": {},
   "outputs": [],
   "source": []
  },
  {
   "cell_type": "code",
   "execution_count": 12,
   "id": "14825347",
   "metadata": {},
   "outputs": [],
   "source": [
    "#[derive(Debug)]\n",
    "enum ManKind {\n",
    "    MAN,\n",
    "    WOMAN,\n",
    "}\n",
    "\n",
    "// The `derive` attribute automatically creates the implementation\n",
    "// required to make this `struct` printable with `fmt::Debug`.\n",
    "#[derive(Debug)]\n",
    "struct Person {\n",
    "   name:String,\n",
    "   gender: ManKind\n",
    "}\n",
    "\n",
    "fn main() {\n",
    "   let p1 = Person {\n",
    "      name:String::from(\"문지원\"),\n",
    "      gender: ManKind::MAN\n",
    "   };\n",
    "   let p2 = Person {\n",
    "      name:String::from(\"문찬주\"),\n",
    "      gender: ManKind::WOMAN\n",
    "   };\n",
    "   println!(\"{:?}\",p1);\n",
    "   println!(\"{:?}\",p2);\n",
    "}"
   ]
  },
  {
   "cell_type": "code",
   "execution_count": 13,
   "id": "ca249bca",
   "metadata": {},
   "outputs": [
    {
     "name": "stdout",
     "output_type": "stream",
     "text": [
      "Person { name: \"문지원\", gender: MAN }\n",
      "Person { name: \"문찬주\", gender: WOMAN }\n"
     ]
    },
    {
     "data": {
      "text/plain": [
       "()"
      ]
     },
     "execution_count": 13,
     "metadata": {},
     "output_type": "execute_result"
    }
   ],
   "source": [
    "main()"
   ]
  },
  {
   "cell_type": "code",
   "execution_count": null,
   "id": "b99c63ff",
   "metadata": {},
   "outputs": [],
   "source": []
  },
  {
   "cell_type": "markdown",
   "id": "5bb9dc0c",
   "metadata": {},
   "source": [
    "## 특정 값 여부 체크 : Option enum 처리\n",
    "\n",
    "####  enum Option<T> {\n",
    "####   Some(T),      //used to return a value\n",
    "####   None          // used to return null, as Rust doesn't support \n",
    "#### }"
   ]
  },
  {
   "cell_type": "code",
   "execution_count": 14,
   "id": "e4f4ebf4",
   "metadata": {},
   "outputs": [],
   "source": [
    "fn main() {\n",
    "   let result = is_even(3);\n",
    "   println!(\"{:?}\",result);\n",
    "   println!(\"{:?}\",is_even(30));\n",
    "}\n",
    "fn is_even(no:i32)->Option<bool> {\n",
    "   if no%2 == 0 {\n",
    "      Some(true)\n",
    "   } else {\n",
    "      None\n",
    "   }\n",
    "}"
   ]
  },
  {
   "cell_type": "code",
   "execution_count": 15,
   "id": "da1a0eb1",
   "metadata": {},
   "outputs": [
    {
     "name": "stdout",
     "output_type": "stream",
     "text": [
      "None\n",
      "Some(true)\n"
     ]
    }
   ],
   "source": [
    "main();"
   ]
  },
  {
   "cell_type": "code",
   "execution_count": null,
   "id": "79337ecf",
   "metadata": {},
   "outputs": [],
   "source": []
  },
  {
   "cell_type": "markdown",
   "id": "f8d6d826",
   "metadata": {},
   "source": [
    "## 3. 매치처리 알아보기"
   ]
  },
  {
   "cell_type": "markdown",
   "id": "edc571d8",
   "metadata": {},
   "source": [
    "## 매치 처리 : option"
   ]
  },
  {
   "cell_type": "code",
   "execution_count": 18,
   "id": "fab9c2bb",
   "metadata": {},
   "outputs": [],
   "source": [
    "fn main() {\n",
    "   match is_even(5) {\n",
    "      Some(data) => {\n",
    "         if data==true {\n",
    "            println!(\"Even no\");\n",
    "         }\n",
    "      },\n",
    "      None => {\n",
    "         println!(\"not even\");\n",
    "      }\n",
    "   }\n",
    "}\n",
    "fn is_even(no:i32)->Option<bool> {\n",
    "   if no%2 == 0 {\n",
    "      Some(true)\n",
    "   } else {\n",
    "      None\n",
    "   }\n",
    "}"
   ]
  },
  {
   "cell_type": "code",
   "execution_count": 19,
   "id": "8fd26eef",
   "metadata": {},
   "outputs": [
    {
     "name": "stdout",
     "output_type": "stream",
     "text": [
      "not even\n"
     ]
    }
   ],
   "source": [
    "main();"
   ]
  },
  {
   "cell_type": "markdown",
   "id": "800880a1",
   "metadata": {},
   "source": [
    "##  매치처리 : 일반 이넘"
   ]
  },
  {
   "cell_type": "code",
   "execution_count": 16,
   "id": "4177c6d5",
   "metadata": {},
   "outputs": [],
   "source": [
    "enum CarType {\n",
    "   Hatch,\n",
    "   Sedan,\n",
    "   SUV\n",
    "}\n",
    "fn print_size(car:CarType) {\n",
    "   match car {\n",
    "      CarType::Hatch => {\n",
    "         println!(\"Small sized car\");\n",
    "      },\n",
    "      CarType::Sedan => {\n",
    "         println!(\"medium sized car\");\n",
    "      },\n",
    "      CarType::SUV =>{\n",
    "         println!(\"Large sized Sports Utility car\");\n",
    "      }\n",
    "   }\n",
    "}\n",
    "fn main(){\n",
    "   print_size(CarType::SUV);\n",
    "   print_size(CarType::Hatch);\n",
    "   print_size(CarType::Sedan);\n",
    "}"
   ]
  },
  {
   "cell_type": "code",
   "execution_count": 17,
   "id": "98647fce",
   "metadata": {},
   "outputs": [
    {
     "name": "stdout",
     "output_type": "stream",
     "text": [
      "Large sized Sports Utility car\n",
      "Small sized car\n",
      "medium sized car\n"
     ]
    }
   ],
   "source": [
    "main();"
   ]
  },
  {
   "cell_type": "code",
   "execution_count": null,
   "id": "1a6aff15",
   "metadata": {},
   "outputs": [],
   "source": []
  },
  {
   "cell_type": "markdown",
   "id": "c9550233",
   "metadata": {},
   "source": [
    "## 매치 : 이넘 내의 값 매칭 "
   ]
  },
  {
   "cell_type": "code",
   "execution_count": 20,
   "id": "5d171f5a",
   "metadata": {},
   "outputs": [],
   "source": [
    "// The `derive` attribute automatically creates the implementation\n",
    "// required to make this `enum` printable with `fmt::Debug`.\n",
    "#[derive(Debug)]\n",
    "enum GenderCategory {\n",
    "   Name(String),Usr_ID(i32)\n",
    "}\n",
    "fn main() {\n",
    "   let p1 = GenderCategory::Name(String::from(\"Mohtashim\"));\n",
    "   let p2 = GenderCategory::Usr_ID(100);\n",
    "   println!(\"{:?}\",p1);\n",
    "   println!(\"{:?}\",p2);\n",
    "\n",
    "   match p1 {\n",
    "      GenderCategory::Name(val)=> {\n",
    "         println!(\"{}\",val);\n",
    "      }\n",
    "      GenderCategory::Usr_ID(val)=> {\n",
    "         println!(\"{}\",val);\n",
    "      }\n",
    "   }\n",
    "}"
   ]
  },
  {
   "cell_type": "code",
   "execution_count": 21,
   "id": "5c21e7e0",
   "metadata": {},
   "outputs": [
    {
     "name": "stdout",
     "output_type": "stream",
     "text": [
      "Name(\"Mohtashim\")\n",
      "Usr_ID(100)\n",
      "Mohtashim\n"
     ]
    }
   ],
   "source": [
    "main();"
   ]
  },
  {
   "cell_type": "code",
   "execution_count": null,
   "id": "3173240c",
   "metadata": {},
   "outputs": [],
   "source": []
  },
  {
   "cell_type": "code",
   "execution_count": null,
   "id": "8840a775",
   "metadata": {},
   "outputs": [],
   "source": []
  }
 ],
 "metadata": {
  "kernelspec": {
   "display_name": "Rust",
   "language": "rust",
   "name": "rust"
  },
  "language_info": {
   "codemirror_mode": "rust",
   "file_extension": ".rs",
   "mimetype": "text/rust",
   "name": "Rust",
   "pygment_lexer": "rust",
   "version": ""
  }
 },
 "nbformat": 4,
 "nbformat_minor": 5
}
