{
 "cells": [
  {
   "cell_type": "markdown",
   "id": "d1829cd5",
   "metadata": {},
   "source": [
    "# 1. 구조체 정의\n",
    "\n",
    "- struct 예약어 + 구조체 명\n",
    "- 구체체는 기본으로 필드를 중괄호 내부에 정의"
   ]
  },
  {
   "cell_type": "code",
   "execution_count": null,
   "id": "e181d1fe",
   "metadata": {},
   "outputs": [],
   "source": []
  },
  {
   "cell_type": "markdown",
   "id": "cee14649",
   "metadata": {},
   "source": [
    "## 1-1. 일반 구조체"
   ]
  },
  {
   "cell_type": "code",
   "execution_count": 4,
   "id": "599bea75",
   "metadata": {},
   "outputs": [],
   "source": [
    "#[derive(Debug)]       // 속성정의 \n",
    "struct People {\n",
    "    name : String,     // 필드 정의 \n",
    "    age : u32          // 필드 정의 \n",
    "}"
   ]
  },
  {
   "cell_type": "markdown",
   "id": "1f7eeb67",
   "metadata": {},
   "source": [
    "### 구조체의 인스턴스 정의 "
   ]
  },
  {
   "cell_type": "code",
   "execution_count": 5,
   "id": "ca865e20",
   "metadata": {},
   "outputs": [],
   "source": [
    "let p = People { \n",
    "    name : String::from(\"가을이\"), \n",
    "    age : 33 \n",
    "};"
   ]
  },
  {
   "cell_type": "markdown",
   "id": "035dfbd1",
   "metadata": {},
   "source": [
    "### 구조체를 출력할 때는 debug 지정해서 출력해야 함"
   ]
  },
  {
   "cell_type": "code",
   "execution_count": 7,
   "id": "826408c6",
   "metadata": {},
   "outputs": [
    {
     "name": "stdout",
     "output_type": "stream",
     "text": [
      " 구조체 인스턴스 People { name: \"가을이\", age: 33 }\n"
     ]
    }
   ],
   "source": [
    "println!(\" 구조체 인스턴스 {:?}\", p);"
   ]
  },
  {
   "cell_type": "code",
   "execution_count": null,
   "id": "0ac6ee8c",
   "metadata": {},
   "outputs": [],
   "source": []
  },
  {
   "cell_type": "code",
   "execution_count": null,
   "id": "0b7ec8e3",
   "metadata": {},
   "outputs": [],
   "source": []
  },
  {
   "cell_type": "markdown",
   "id": "78609a15",
   "metadata": {},
   "source": [
    "## 1-2. 유사 구조체\n",
    "\n",
    "- 구조체 이름만 가진다.\n",
    "- 보통 구현체를 정의해서 사용할 때 사용"
   ]
  },
  {
   "cell_type": "markdown",
   "id": "81bd4e7b",
   "metadata": {},
   "source": [
    "### 아무런 필드가 없는 구조체 정의 "
   ]
  },
  {
   "cell_type": "code",
   "execution_count": 10,
   "id": "0b0e47ae",
   "metadata": {},
   "outputs": [],
   "source": [
    "#[derive(Debug)]\n",
    "struct User {}"
   ]
  },
  {
   "cell_type": "markdown",
   "id": "c0a7d271",
   "metadata": {},
   "source": [
    "### 구조체의 인스턴스 생성하기 "
   ]
  },
  {
   "cell_type": "code",
   "execution_count": 11,
   "id": "2a8cda36",
   "metadata": {},
   "outputs": [],
   "source": [
    "let u = User {};"
   ]
  },
  {
   "cell_type": "code",
   "execution_count": 12,
   "id": "ec52b967",
   "metadata": {},
   "outputs": [
    {
     "name": "stdout",
     "output_type": "stream",
     "text": [
      " 구조체 인스턴스 User\n"
     ]
    }
   ],
   "source": [
    "println!(\" 구조체 인스턴스 {:?}\", u);"
   ]
  },
  {
   "cell_type": "markdown",
   "id": "9604e0c7",
   "metadata": {},
   "source": [
    "### 빈 블럭을 생략해서 작성할 수 있다.\n",
    "\n",
    "- 블럭이 없으므로 구조체 정의할 때 세미콜론을 붙여야 한다"
   ]
  },
  {
   "cell_type": "code",
   "execution_count": 14,
   "id": "4692ae94",
   "metadata": {},
   "outputs": [],
   "source": [
    "#[derive(Debug)]\n",
    "struct User1;"
   ]
  },
  {
   "cell_type": "code",
   "execution_count": 16,
   "id": "b66ec27a",
   "metadata": {},
   "outputs": [],
   "source": [
    "let u1 = User1;"
   ]
  },
  {
   "cell_type": "code",
   "execution_count": 17,
   "id": "d355a2dc",
   "metadata": {},
   "outputs": [
    {
     "name": "stdout",
     "output_type": "stream",
     "text": [
      " 구조체 인스턴스 User1\n"
     ]
    }
   ],
   "source": [
    "println!(\" 구조체 인스턴스 {:?}\", u1);"
   ]
  },
  {
   "cell_type": "code",
   "execution_count": null,
   "id": "00f5d1d9",
   "metadata": {},
   "outputs": [],
   "source": []
  },
  {
   "cell_type": "markdown",
   "id": "555c2acc",
   "metadata": {},
   "source": [
    "## 1-3. 튜플 구조체\n",
    "\n",
    "- 필드 이름이 없고 대신 튜플로만 처리 "
   ]
  },
  {
   "cell_type": "markdown",
   "id": "089ca1ec",
   "metadata": {},
   "source": [
    "### 구조체의 블럭대신 튜플을 지정하기 "
   ]
  },
  {
   "cell_type": "code",
   "execution_count": 18,
   "id": "2605e6b8",
   "metadata": {},
   "outputs": [],
   "source": [
    "#[derive(Debug)]\n",
    "struct Tuple (u32,i32,i32);"
   ]
  },
  {
   "cell_type": "code",
   "execution_count": 19,
   "id": "da6fe504",
   "metadata": {},
   "outputs": [],
   "source": [
    "let t = Tuple(100,200,300);"
   ]
  },
  {
   "cell_type": "code",
   "execution_count": 20,
   "id": "e0430df2",
   "metadata": {},
   "outputs": [
    {
     "name": "stdout",
     "output_type": "stream",
     "text": [
      " 구조체 인스턴스 Tuple(100, 200, 300)\n"
     ]
    }
   ],
   "source": [
    "println!(\" 구조체 인스턴스 {:?}\", t);"
   ]
  },
  {
   "cell_type": "code",
   "execution_count": null,
   "id": "5e528b49",
   "metadata": {},
   "outputs": [],
   "source": []
  },
  {
   "cell_type": "markdown",
   "id": "8d905b3b",
   "metadata": {},
   "source": [
    "## 1-4. 메서드 정의 "
   ]
  },
  {
   "cell_type": "markdown",
   "id": "474f4ecd",
   "metadata": {},
   "source": [
    "### 조회만 가능한 메서드 정의 "
   ]
  },
  {
   "cell_type": "code",
   "execution_count": 21,
   "id": "0f480d89",
   "metadata": {},
   "outputs": [],
   "source": [
    "#[derive(Debug)]\n",
    "struct User_ {\n",
    "    name : String,\n",
    "}"
   ]
  },
  {
   "cell_type": "markdown",
   "id": "bdcbc3b7",
   "metadata": {},
   "source": [
    "### 메서드를 정의\n",
    "\n",
    "- impl 예약어 + 구조체 명\n",
    "- 블럭구문 내에 메서드 정의 \n",
    "- 메서드의 특징은 첫번째 매개변수에 구조체의 객체인 self가 틀어감\n",
    "- 메서드가 참조일 경우는 &self, 메서드가 객체의 값을 변경할 때는 &mut self로 지정"
   ]
  },
  {
   "cell_type": "code",
   "execution_count": 22,
   "id": "00f799f4",
   "metadata": {},
   "outputs": [],
   "source": [
    "impl User_ {\n",
    "    fn get_hello(&self, msg : &str ) {\n",
    "        println!(\" hello {}! \", msg);\n",
    "    }\n",
    "    \n",
    "}"
   ]
  },
  {
   "cell_type": "code",
   "execution_count": 23,
   "id": "c06f1e83",
   "metadata": {},
   "outputs": [],
   "source": [
    "let mut u1 = User_{name : String::from(\"러스트\")}; "
   ]
  },
  {
   "cell_type": "code",
   "execution_count": 24,
   "id": "fd91115f",
   "metadata": {},
   "outputs": [
    {
     "name": "stdout",
     "output_type": "stream",
     "text": [
      " hello 호호호! \n"
     ]
    }
   ],
   "source": [
    "u1.get_hello(\"호호호\");"
   ]
  },
  {
   "cell_type": "code",
   "execution_count": null,
   "id": "6a16c9c8",
   "metadata": {},
   "outputs": [],
   "source": []
  },
  {
   "cell_type": "markdown",
   "id": "f09ff1f2",
   "metadata": {},
   "source": [
    "### 내부 값을 바꾸는 메서드 정의 \n",
    "\n",
    "- 구조체의 내부의 값을 변경할 때에는 &mut self를 지정하고\n",
    "- 내부에 구조체의 필드를 갱신한다."
   ]
  },
  {
   "cell_type": "markdown",
   "id": "fddb4b77",
   "metadata": {},
   "source": [
    "#### 구조체의 메서드는 여러 개의 impl 로 지정해서 작성할 수 있다."
   ]
  },
  {
   "cell_type": "code",
   "execution_count": 25,
   "id": "80cd9a97",
   "metadata": {},
   "outputs": [],
   "source": [
    "impl User_ {\n",
    "    fn set_name(&mut self, value : &str ) {\n",
    "        self.name = String::from(value);\n",
    "    }\n",
    "    \n",
    "}"
   ]
  },
  {
   "cell_type": "code",
   "execution_count": 26,
   "id": "8711a145",
   "metadata": {},
   "outputs": [],
   "source": [
    "u1.set_name(\"가을이\");"
   ]
  },
  {
   "cell_type": "code",
   "execution_count": 15,
   "id": "6d40fb3e",
   "metadata": {},
   "outputs": [
    {
     "name": "stdout",
     "output_type": "stream",
     "text": [
      "u1  = User { name: \"가을이\" }\n"
     ]
    }
   ],
   "source": [
    "println!(\"u1  = {:?}\",u1);"
   ]
  },
  {
   "cell_type": "code",
   "execution_count": null,
   "id": "5db9ef9f",
   "metadata": {},
   "outputs": [],
   "source": []
  },
  {
   "cell_type": "code",
   "execution_count": null,
   "id": "3559aa0f",
   "metadata": {},
   "outputs": [],
   "source": []
  },
  {
   "cell_type": "markdown",
   "id": "68449748",
   "metadata": {},
   "source": [
    "## 1-5. 연관함수 정의 \n",
    "\n",
    "- 연관함수는 메서드에 구조체의 인스턴스 참조에 대한 것이 없다. \n",
    "- 그래서 구조체에서 직접 접근할 때 두 개의 콜론을 붙여서 호출한다.\n",
    "- 보통 다른 언어에서는 정적메서드와 유사하다."
   ]
  },
  {
   "cell_type": "code",
   "execution_count": 28,
   "id": "27b69531",
   "metadata": {},
   "outputs": [],
   "source": [
    "impl User_ {\n",
    "    fn new(value : &str ) ->Self {        //대문자 Self는 현재 구조체가 타입 애노테이션\n",
    "        User_ {name : value.to_string()}  // 그래서 구조체의 인스턴스를 반환한다. \n",
    "    }\n",
    "    \n",
    "}"
   ]
  },
  {
   "cell_type": "code",
   "execution_count": 30,
   "id": "9f6fd53e",
   "metadata": {},
   "outputs": [],
   "source": [
    "let u2 = User_::new(\"겨울이\");"
   ]
  },
  {
   "cell_type": "code",
   "execution_count": 31,
   "id": "2f3fe79a",
   "metadata": {},
   "outputs": [
    {
     "data": {
      "text/plain": [
       "\"겨울이\""
      ]
     },
     "execution_count": 31,
     "metadata": {},
     "output_type": "execute_result"
    }
   ],
   "source": [
    "u2.name"
   ]
  },
  {
   "cell_type": "code",
   "execution_count": null,
   "id": "726eafdb",
   "metadata": {},
   "outputs": [],
   "source": []
  },
  {
   "cell_type": "markdown",
   "id": "5190fb5a",
   "metadata": {},
   "source": [
    "## 1-6 접근 기준 \n",
    "\n",
    "- 동일한 모듈에서 접근이 가능하다. "
   ]
  },
  {
   "cell_type": "code",
   "execution_count": 36,
   "id": "7b9a6d60",
   "metadata": {},
   "outputs": [],
   "source": [
    "struct SeaCreature {\n",
    "    name: String,\n",
    "    noise: String,\n",
    "}\n",
    "\n",
    "impl SeaCreature {\n",
    "    fn get_sound(&self) -> &str {\n",
    "        &self.noise\n",
    "    }\n",
    "}\n",
    "\n",
    "fn main() {\n",
    "    let creature = SeaCreature {\n",
    "        name: String::from(\"Ferris\"),\n",
    "        noise: String::from(\"blub\"),\n",
    "    };\n",
    "    println!(\"{}\", creature.get_sound());\n",
    "}"
   ]
  },
  {
   "cell_type": "code",
   "execution_count": 37,
   "id": "58b8e9b4",
   "metadata": {},
   "outputs": [
    {
     "name": "stdout",
     "output_type": "stream",
     "text": [
      "blub\n"
     ]
    },
    {
     "data": {
      "text/plain": [
       "()"
      ]
     },
     "execution_count": 37,
     "metadata": {},
     "output_type": "execute_result"
    }
   ],
   "source": [
    "main()"
   ]
  },
  {
   "cell_type": "markdown",
   "id": "34baca74",
   "metadata": {},
   "source": [
    "### 형제 모듈일 경우는 내부 아이템을 공개해야 호출할 수 있다. "
   ]
  },
  {
   "cell_type": "code",
   "execution_count": 47,
   "id": "9603dc0a",
   "metadata": {},
   "outputs": [],
   "source": [
    "mod Aaa { \n",
    "    pub struct SeaCreature1 {        // 다른 모듈에서 사용할 때는 구조체를 공개 \n",
    "        pub name: String,            // 필드도 공개가 필요 \n",
    "        pub noise: String,\n",
    "   }\n",
    "\n",
    "   impl SeaCreature1 {\n",
    "        pub fn get_sound(&self) -> &str {\n",
    "            &self.noise\n",
    "        }\n",
    "    }\n",
    "}\n",
    "\n",
    "fn main() {\n",
    "    let creature = Aaa::SeaCreature1 {  // 인스턴스 생성할 때는 형제 모듈의 구조체를 참조 \n",
    "        name: String::from(\"Ferris\"),\n",
    "        noise: String::from(\"blub\"),\n",
    "    };\n",
    "    println!(\"{}\", creature.get_sound());\n",
    "}"
   ]
  },
  {
   "cell_type": "code",
   "execution_count": 48,
   "id": "daead231",
   "metadata": {},
   "outputs": [
    {
     "name": "stdout",
     "output_type": "stream",
     "text": [
      "blub\n"
     ]
    },
    {
     "data": {
      "text/plain": [
       "()"
      ]
     },
     "execution_count": 48,
     "metadata": {},
     "output_type": "execute_result"
    }
   ],
   "source": [
    "main()"
   ]
  },
  {
   "cell_type": "markdown",
   "id": "8f666014",
   "metadata": {},
   "source": [
    "### 모듈 내의 모듈이 있을 경우는 전부 공개되어야 접근이 가능하다"
   ]
  },
  {
   "cell_type": "code",
   "execution_count": 51,
   "id": "72e85b83",
   "metadata": {},
   "outputs": [],
   "source": [
    "mod Aaa1 { \n",
    "    pub mod Bbb { \n",
    "        pub struct SeaCreature {\n",
    "            pub name: String,\n",
    "            pub noise: String,\n",
    "       }\n",
    "\n",
    "       impl SeaCreature {\n",
    "            pub fn get_sound(&self) -> &str {\n",
    "                &self.noise\n",
    "            }\n",
    "        }\n",
    "    }\n",
    "}\n",
    "\n",
    "fn main() {\n",
    "    let creature = Aaa1::Bbb::SeaCreature {\n",
    "        name: String::from(\"Ferris\"),\n",
    "        noise: String::from(\"blub\"),\n",
    "    };\n",
    "    println!(\"{}\", creature.get_sound());\n",
    "}"
   ]
  },
  {
   "cell_type": "code",
   "execution_count": 52,
   "id": "a2ed83cd",
   "metadata": {},
   "outputs": [
    {
     "name": "stdout",
     "output_type": "stream",
     "text": [
      "blub\n"
     ]
    },
    {
     "data": {
      "text/plain": [
       "()"
      ]
     },
     "execution_count": 52,
     "metadata": {},
     "output_type": "execute_result"
    }
   ],
   "source": [
    "main()"
   ]
  },
  {
   "cell_type": "code",
   "execution_count": null,
   "id": "8cf3f5a0",
   "metadata": {},
   "outputs": [],
   "source": []
  }
 ],
 "metadata": {
  "kernelspec": {
   "display_name": "Rust",
   "language": "rust",
   "name": "rust"
  },
  "language_info": {
   "codemirror_mode": "rust",
   "file_extension": ".rs",
   "mimetype": "text/rust",
   "name": "Rust",
   "pygment_lexer": "rust",
   "version": ""
  }
 },
 "nbformat": 4,
 "nbformat_minor": 5
}
