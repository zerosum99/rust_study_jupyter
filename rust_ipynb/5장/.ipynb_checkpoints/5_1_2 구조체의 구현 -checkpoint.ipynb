{
 "cells": [
  {
   "cell_type": "code",
   "execution_count": null,
   "id": "5e528b49",
   "metadata": {},
   "outputs": [],
   "source": []
  },
  {
   "cell_type": "markdown",
   "id": "e04c9eaa",
   "metadata": {},
   "source": [
    "## 1. 고유한 구현 : Inherent Implementations\n",
    "\n",
    "\n",
    "- 고유한 구현은 포함된 항목을 구현 유형에 연결합니다. \n",
    "- 고유한 구현에는 관련 함수 ( 메서드 포함 ) 및 관련 상수가 포함될 수 있습니다. "
   ]
  },
  {
   "cell_type": "code",
   "execution_count": null,
   "id": "33f5a1a8",
   "metadata": {},
   "outputs": [],
   "source": []
  },
  {
   "cell_type": "markdown",
   "id": "8d905b3b",
   "metadata": {},
   "source": [
    "## 1-1. 구조체에만 처리되는 메서드 정의 \n",
    "\n",
    "- 구조체를 정의하고 구조체의 기능 즉 메서드를 정의해서 사용할 수 있다.\n",
    "- 또한 기능중에는 구조체를 참조하지 않는 연관함수도 정의할 수 있다.\n",
    "- 이 연관함수는 구조체 이름으로만 접근이 가능해서 메서드와 차이를 가진다."
   ]
  },
  {
   "cell_type": "markdown",
   "id": "474f4ecd",
   "metadata": {},
   "source": [
    "### 구조체를 하나 정의한다.\n",
    "\n",
    "- 구초체 이름은 카멜케이스로 지정한다.\n",
    "- 이 구조체에는 하나의 필드만 정의 "
   ]
  },
  {
   "cell_type": "code",
   "execution_count": 16,
   "id": "0f480d89",
   "metadata": {},
   "outputs": [],
   "source": [
    "#[derive(Debug)]\n",
    "struct User_ {\n",
    "    name : String,\n",
    "}"
   ]
  },
  {
   "cell_type": "markdown",
   "id": "bdcbc3b7",
   "metadata": {},
   "source": [
    "### 구현체 내의 메서드를 정의\n",
    "\n",
    "- 구현은 impl 예약어 + 구조체 명으로 지정 \n",
    "- 실제 메서드는 블럭구문 내에 정의  \n",
    "- 메서드의 특징은 첫번째 매개변수에 구조체의 객체인 self가 틀어감\n",
    "- 메서드가 참조일 경우는 &self, 메서드가 객체의 값을 변경할 때는 &mut self로 지정"
   ]
  },
  {
   "cell_type": "code",
   "execution_count": 17,
   "id": "00f799f4",
   "metadata": {},
   "outputs": [],
   "source": [
    "impl User_ {\n",
    "    fn get_hello(&self, msg : &str ) {\n",
    "        println!(\" hello {}! \", msg);\n",
    "    }\n",
    "    \n",
    "}"
   ]
  },
  {
   "cell_type": "markdown",
   "id": "5cafe2b8",
   "metadata": {},
   "source": [
    "### 구조체로 하나의 인스턴스를 지정해서 변수에 할당.\n",
    "\n",
    "- 모든 값은 소유자가 있어서 소유자인 변수에 할당한다. \n",
    "- 또한 구조체의 필드도 하나의 값을 소유한다. "
   ]
  },
  {
   "cell_type": "code",
   "execution_count": 16,
   "id": "c06f1e83",
   "metadata": {},
   "outputs": [],
   "source": [
    "let mut u1 = User_{name : String::from(\"러스트\")}; "
   ]
  },
  {
   "cell_type": "markdown",
   "id": "3a2da26d",
   "metadata": {},
   "source": [
    "### 구조체의 인스턴스로 메서도를 호출한다. "
   ]
  },
  {
   "cell_type": "code",
   "execution_count": 17,
   "id": "fd91115f",
   "metadata": {},
   "outputs": [
    {
     "name": "stdout",
     "output_type": "stream",
     "text": [
      " hello 호호호! \n"
     ]
    }
   ],
   "source": [
    "u1.get_hello(\"호호호\");"
   ]
  },
  {
   "cell_type": "code",
   "execution_count": null,
   "id": "6a16c9c8",
   "metadata": {},
   "outputs": [],
   "source": []
  },
  {
   "cell_type": "markdown",
   "id": "f09ff1f2",
   "metadata": {},
   "source": [
    "### 내부 값을 바꾸는 메서드 정의 \n",
    "\n",
    "- 구조체의 내부의 값을 변경할 때에는 &mut self를 지정하고\n",
    "- 내부에 구조체의 필드를 갱신한다."
   ]
  },
  {
   "cell_type": "markdown",
   "id": "fddb4b77",
   "metadata": {},
   "source": [
    "#### 구조체의 메서드는 여러 개의 impl 로 지정해서 작성할 수 있다."
   ]
  },
  {
   "cell_type": "code",
   "execution_count": 18,
   "id": "80cd9a97",
   "metadata": {},
   "outputs": [],
   "source": [
    "impl User_ {\n",
    "    fn set_name(&mut self, value : &str ) {\n",
    "        self.name = String::from(value);\n",
    "    }\n",
    "    \n",
    "}"
   ]
  },
  {
   "cell_type": "code",
   "execution_count": 19,
   "id": "8711a145",
   "metadata": {},
   "outputs": [],
   "source": [
    "u1.set_name(\"가을이\");"
   ]
  },
  {
   "cell_type": "code",
   "execution_count": 20,
   "id": "6d40fb3e",
   "metadata": {},
   "outputs": [
    {
     "name": "stdout",
     "output_type": "stream",
     "text": [
      "u1  = User_ { name: \"가을이\" }\n"
     ]
    }
   ],
   "source": [
    "println!(\"u1  = {:?}\",u1);"
   ]
  },
  {
   "cell_type": "code",
   "execution_count": null,
   "id": "5db9ef9f",
   "metadata": {},
   "outputs": [],
   "source": []
  },
  {
   "cell_type": "markdown",
   "id": "13c32191",
   "metadata": {},
   "source": [
    "### 새로운 객체를 생성하는 메서드를 정의"
   ]
  },
  {
   "cell_type": "code",
   "execution_count": 20,
   "id": "117ed6e5",
   "metadata": {},
   "outputs": [],
   "source": [
    "impl User_ {\n",
    "    fn set_new_(self ) -> Self {\n",
    "        \n",
    "        User_ { name : self.name }\n",
    "    }\n",
    "    \n",
    "}"
   ]
  },
  {
   "cell_type": "code",
   "execution_count": 22,
   "id": "e01a00e2",
   "metadata": {},
   "outputs": [],
   "source": [
    "let u2 = User_{name : String::from(\"러스트 처리\")}; "
   ]
  },
  {
   "cell_type": "code",
   "execution_count": 23,
   "id": "3559aa0f",
   "metadata": {},
   "outputs": [
    {
     "data": {
      "text/plain": [
       "User_ { name: \"러스트 처리\" }"
      ]
     },
     "execution_count": 23,
     "metadata": {},
     "output_type": "execute_result"
    }
   ],
   "source": [
    "u2.set_new_()"
   ]
  },
  {
   "cell_type": "markdown",
   "id": "68449748",
   "metadata": {},
   "source": [
    "## 1-2. 연관함수 정의 \n",
    "\n",
    "- 연관함수는 메서드에 구조체의 인스턴스 참조에 대한 것이 없다. \n",
    "- 그래서 구조체에서 직접 접근할 때 두 개의 콜론을 붙여서 호출한다.\n",
    "- 보통 다른 언어에서는 정적메서드와 유사하다."
   ]
  },
  {
   "cell_type": "markdown",
   "id": "2f50a828",
   "metadata": {},
   "source": [
    "### 동일한 구조체에 연관함수 정의\n",
    "\n",
    "- 하나의 구조체에 impl을 여러 개 작성이 가능\n",
    "- 이번에는 구조체 인스턴스를 참조하지 않는 메서드인 연관함수를 지정한다. "
   ]
  },
  {
   "cell_type": "code",
   "execution_count": 21,
   "id": "27b69531",
   "metadata": {},
   "outputs": [],
   "source": [
    "impl User_ {\n",
    "    fn new(value : &str ) ->Self {        //대문자 Self는 현재 구조체가 타입 애노테이션\n",
    "        User_ {name : value.to_string()}  // 그래서 구조체의 인스턴스를 반환한다. \n",
    "    }\n",
    "    \n",
    "}"
   ]
  },
  {
   "cell_type": "code",
   "execution_count": 22,
   "id": "9f6fd53e",
   "metadata": {},
   "outputs": [],
   "source": [
    "let u2 = User_::new(\"겨울이\");"
   ]
  },
  {
   "cell_type": "code",
   "execution_count": 23,
   "id": "2f3fe79a",
   "metadata": {},
   "outputs": [
    {
     "data": {
      "text/plain": [
       "\"겨울이\""
      ]
     },
     "execution_count": 23,
     "metadata": {},
     "output_type": "execute_result"
    }
   ],
   "source": [
    "u2.name"
   ]
  },
  {
   "cell_type": "code",
   "execution_count": null,
   "id": "726eafdb",
   "metadata": {},
   "outputs": [],
   "source": []
  },
  {
   "cell_type": "markdown",
   "id": "5190fb5a",
   "metadata": {},
   "source": [
    "## 1-3 구조체 접근 기준 \n",
    "\n",
    "- 동일한 모듈에서 접근이 가능하다. "
   ]
  },
  {
   "cell_type": "markdown",
   "id": "384269f6",
   "metadata": {},
   "source": [
    "### 동일한 모듈에 구조체와 메서드가 정의된 경우 바로 사용"
   ]
  },
  {
   "cell_type": "code",
   "execution_count": 24,
   "id": "7b9a6d60",
   "metadata": {},
   "outputs": [],
   "source": [
    "struct SeaCreature {\n",
    "    name: String,\n",
    "    noise: String,\n",
    "}\n",
    "\n",
    "impl SeaCreature {\n",
    "    fn get_sound(&self) -> &str {\n",
    "        &self.noise\n",
    "    }\n",
    "}\n",
    "\n",
    "fn main() {\n",
    "    let creature = SeaCreature {\n",
    "        name: String::from(\"Ferris\"),\n",
    "        noise: String::from(\"blub\"),\n",
    "    };\n",
    "    println!(\"{}\", creature.get_sound());\n",
    "}"
   ]
  },
  {
   "cell_type": "code",
   "execution_count": 25,
   "id": "58b8e9b4",
   "metadata": {},
   "outputs": [
    {
     "name": "stdout",
     "output_type": "stream",
     "text": [
      "blub\n"
     ]
    },
    {
     "data": {
      "text/plain": [
       "()"
      ]
     },
     "execution_count": 25,
     "metadata": {},
     "output_type": "execute_result"
    }
   ],
   "source": [
    "main()"
   ]
  },
  {
   "cell_type": "markdown",
   "id": "34baca74",
   "metadata": {},
   "source": [
    "### 형제 모듈일 경우는 내부 아이템을 공개해야 호출할 수 있다. "
   ]
  },
  {
   "cell_type": "code",
   "execution_count": 26,
   "id": "9603dc0a",
   "metadata": {},
   "outputs": [],
   "source": [
    "mod Aaa { \n",
    "    pub struct SeaCreature1 {        // 다른 모듈에서 사용할 때는 구조체를 공개 \n",
    "        pub name: String,            // 필드도 공개가 필요 \n",
    "        pub noise: String,\n",
    "   }\n",
    "\n",
    "   impl SeaCreature1 {\n",
    "        pub fn get_sound(&self) -> &str {\n",
    "            &self.noise\n",
    "        }\n",
    "    }\n",
    "}\n",
    "\n",
    "fn main() {\n",
    "    let creature = Aaa::SeaCreature1 {  // 인스턴스 생성할 때는 형제 모듈의 구조체를 참조 \n",
    "        name: String::from(\"Ferris\"),\n",
    "        noise: String::from(\"blub\"),\n",
    "    };\n",
    "    println!(\"{}\", creature.get_sound());\n",
    "}"
   ]
  },
  {
   "cell_type": "code",
   "execution_count": 27,
   "id": "daead231",
   "metadata": {},
   "outputs": [
    {
     "name": "stdout",
     "output_type": "stream",
     "text": [
      "blub\n"
     ]
    },
    {
     "data": {
      "text/plain": [
       "()"
      ]
     },
     "execution_count": 27,
     "metadata": {},
     "output_type": "execute_result"
    }
   ],
   "source": [
    "main()"
   ]
  },
  {
   "cell_type": "markdown",
   "id": "8f666014",
   "metadata": {},
   "source": [
    "### 자식 모듈에 있을 경우는 전부 공개되어야 접근이 가능하다\n",
    "\n",
    "- 구조체와 메서드 전부 공개해야 한다 "
   ]
  },
  {
   "cell_type": "code",
   "execution_count": 28,
   "id": "72e85b83",
   "metadata": {},
   "outputs": [],
   "source": [
    "mod Aaa1 { \n",
    "    pub mod Bbb { \n",
    "        pub struct SeaCreature {\n",
    "            pub name: String,\n",
    "            pub noise: String,\n",
    "       }\n",
    "\n",
    "       impl SeaCreature {\n",
    "            pub fn get_sound(&self) -> &str {\n",
    "                &self.noise\n",
    "            }\n",
    "        }\n",
    "    }\n",
    "}\n",
    "\n",
    "fn main() {\n",
    "    let creature = Aaa1::Bbb::SeaCreature {\n",
    "        name: String::from(\"Ferris\"),\n",
    "        noise: String::from(\"blub\"),\n",
    "    };\n",
    "    println!(\"{}\", creature.get_sound());\n",
    "}"
   ]
  },
  {
   "cell_type": "code",
   "execution_count": 29,
   "id": "a2ed83cd",
   "metadata": {},
   "outputs": [
    {
     "name": "stdout",
     "output_type": "stream",
     "text": [
      "blub\n"
     ]
    },
    {
     "data": {
      "text/plain": [
       "()"
      ]
     },
     "execution_count": 29,
     "metadata": {},
     "output_type": "execute_result"
    }
   ],
   "source": [
    "main()"
   ]
  },
  {
   "cell_type": "markdown",
   "id": "7c973678",
   "metadata": {},
   "source": [
    "## 구현을 분리해도 구조체 정의에 맞춰 호출이 가능"
   ]
  },
  {
   "cell_type": "code",
   "execution_count": 14,
   "id": "2b893a43",
   "metadata": {},
   "outputs": [],
   "source": [
    "pub mod color {\n",
    "    #[derive(Debug)]\n",
    "    pub struct Color(pub u8, pub u8, pub u8);\n",
    "\n",
    "    impl Color {\n",
    "        pub const WHITE: Color = Color(255, 255, 255);\n",
    "    }\n",
    "}\n",
    "\n",
    "pub mod values {\n",
    "    use super::color::Color;\n",
    "    impl Color {\n",
    "        pub fn red() -> Color {\n",
    "            Color(255, 0, 0)\n",
    "        }\n",
    "    }\n",
    "}\n",
    "\n",
    "pub use self::color::Color;\n",
    "fn main() {\n",
    "    // Actual path to the implementing type and impl in the same module.\n",
    "    println!(\"{:?}\", color::Color::WHITE);\n",
    "\n",
    "    // Impl blocks in different modules are still accessed through a path to the type.\n",
    "    println!(\"{:?}\",color::Color::red());\n",
    "\n",
    "    // Re-exported paths to the implementing type also work.\n",
    "    println!(\"{:?}\",Color::red());\n",
    "\n",
    "    // Does not work, because use in `values` is not pub.\n",
    "    // values::Color::red();   // Color 구조체를 인식하지 못함\n",
    "}"
   ]
  },
  {
   "cell_type": "code",
   "execution_count": 15,
   "id": "0abb6904",
   "metadata": {},
   "outputs": [
    {
     "name": "stdout",
     "output_type": "stream",
     "text": [
      "Color(255, 255, 255)\n",
      "Color(255, 0, 0)\n",
      "Color(255, 0, 0)\n"
     ]
    },
    {
     "data": {
      "text/plain": [
       "()"
      ]
     },
     "execution_count": 15,
     "metadata": {},
     "output_type": "execute_result"
    }
   ],
   "source": [
    "main()"
   ]
  },
  {
   "cell_type": "markdown",
   "id": "bc1985cc",
   "metadata": {},
   "source": [
    "## (함수) 오버로딩\n",
    "오버로딩은 지원되지 않습니다:\n",
    "\n",
    "개별함수는 단일 구현만 갖습니다.\n",
    "항상 고정된 수의 파라매터만 갖습니다.\n",
    "파라매터들의 타입은 항상 고정되어 있습니다."
   ]
  },
  {
   "cell_type": "code",
   "execution_count": null,
   "id": "d04ddd6a",
   "metadata": {},
   "outputs": [],
   "source": []
  },
  {
   "cell_type": "code",
   "execution_count": 25,
   "id": "0360ad73",
   "metadata": {},
   "outputs": [],
   "source": [
    "fn add(x:i32) {\n",
    "    println!(\" 1= {}\",x);\n",
    "}\n",
    "\n",
    "fn add(x:i32,y:i32) {\n",
    "    println!(\" 1= {}, 2={}\",x,y);\n",
    "}"
   ]
  },
  {
   "cell_type": "code",
   "execution_count": 26,
   "id": "ccd8c036",
   "metadata": {},
   "outputs": [
    {
     "ename": "Error",
     "evalue": "this function takes 2 arguments but 1 argument was supplied",
     "output_type": "error",
     "traceback": [
      "\u001b[31m[E0061] Error:\u001b[0m this function takes 2 arguments but 1 argument was supplied",
      "   \u001b[38;5;246m╭\u001b[0m\u001b[38;5;246m─\u001b[0m\u001b[38;5;246m[\u001b[0mcommand_26:1:1\u001b[38;5;246m]\u001b[0m",
      "   \u001b[38;5;246m│\u001b[0m",
      " \u001b[38;5;246m1 │\u001b[0m \u001b[38;5;54ma\u001b[0m\u001b[38;5;54md\u001b[0m\u001b[38;5;54md\u001b[0m\u001b[38;5;249m(\u001b[0m\u001b[38;5;249m1\u001b[0m\u001b[38;5;249m0\u001b[0m\u001b[38;5;249m0\u001b[0m\u001b[38;5;249m)\u001b[0m",
      " \u001b[38;5;246m  ·\u001b[0m \u001b[38;5;54m─\u001b[0m\u001b[38;5;54m┬\u001b[0m\u001b[38;5;54m─\u001b[0m  ",
      " \u001b[38;5;246m  ·\u001b[0m  \u001b[38;5;54m╰\u001b[0m\u001b[38;5;54m─\u001b[0m\u001b[38;5;54m─\u001b[0m\u001b[38;5;54m─\u001b[0m error: this function takes 2 arguments but 1 argument was supplied",
      " \u001b[38;5;246m  ·\u001b[0m ",
      " \u001b[38;5;246m  ·\u001b[0m \u001b[38;5;115mNote\u001b[0m: help: provide the argument: `(100, /* i32 */)`",
      "\u001b[38;5;246m───╯\u001b[0m"
     ]
    }
   ],
   "source": [
    "add(100)"
   ]
  },
  {
   "cell_type": "markdown",
   "id": "3260b6c0",
   "metadata": {},
   "source": [
    "### 최종으로 정의된 함수만 사용 가능 "
   ]
  },
  {
   "cell_type": "code",
   "execution_count": 27,
   "id": "9966624e",
   "metadata": {},
   "outputs": [
    {
     "name": "stdout",
     "output_type": "stream",
     "text": [
      " 1= 100, 2=200\n"
     ]
    },
    {
     "data": {
      "text/plain": [
       "()"
      ]
     },
     "execution_count": 27,
     "metadata": {},
     "output_type": "execute_result"
    }
   ],
   "source": [
    "add(100,200)"
   ]
  },
  {
   "cell_type": "markdown",
   "id": "e7da510c",
   "metadata": {},
   "source": [
    "## 2. 특성 구현\n",
    "특성 구현은 선택적 제네릭 유형 선언 뒤에 특성 , 키워드 for, 명목 유형에 대한 경로가 오는 것을 제외하고 고유 구현처럼 정의됩니다.\n",
    "\n",
    "특성은 구현된 특성 으로 알려져 있습니다 . 구현 유형은 구현된 특성을 구현합니다.\n",
    "\n",
    "특성 구현은 구현된 특성에 의해 선언된 기본이 아닌 모든 관련 항목을 정의해야 하며 구현된 특성에 의해 정의된 기본 관련 항목을 재정의할 수 있으며 다른 항목은 정의할 수 없습니다.\n",
    "\n",
    "관련 항목에 대한 경로 <다음에는 구현 유형에 대한 경로, as특성에 대한 경로, >경로 구성 요소, 관련 항목의 경로 구성 요소가 차례로 옵니다."
   ]
  },
  {
   "cell_type": "code",
   "execution_count": null,
   "id": "ff61be14",
   "metadata": {},
   "outputs": [],
   "source": []
  },
  {
   "cell_type": "code",
   "execution_count": null,
   "id": "d422867d",
   "metadata": {},
   "outputs": [],
   "source": []
  }
 ],
 "metadata": {
  "kernelspec": {
   "display_name": "Rust",
   "language": "rust",
   "name": "rust"
  },
  "language_info": {
   "codemirror_mode": "rust",
   "file_extension": ".rs",
   "mimetype": "text/rust",
   "name": "Rust",
   "pygment_lexer": "rust",
   "version": ""
  }
 },
 "nbformat": 4,
 "nbformat_minor": 5
}
