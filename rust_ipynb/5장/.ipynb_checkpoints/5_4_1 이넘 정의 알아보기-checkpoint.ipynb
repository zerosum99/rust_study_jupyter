{
 "cells": [
  {
   "cell_type": "code",
   "execution_count": null,
   "id": "ce5664b0",
   "metadata": {},
   "outputs": [],
   "source": []
  },
  {
   "cell_type": "code",
   "execution_count": 2,
   "id": "3596864c",
   "metadata": {},
   "outputs": [],
   "source": [
    "enum ManKind {\n",
    "    MAN,\n",
    "    WOMAN,\n",
    "}"
   ]
  },
  {
   "cell_type": "code",
   "execution_count": null,
   "id": "81310f91",
   "metadata": {},
   "outputs": [],
   "source": []
  },
  {
   "cell_type": "code",
   "execution_count": null,
   "id": "469dc739",
   "metadata": {},
   "outputs": [],
   "source": [
    "let four = ManKind::MAN;\n",
    "let six = IpAddrKind::V6;"
   ]
  }
 ],
 "metadata": {
  "kernelspec": {
   "display_name": "Rust",
   "language": "rust",
   "name": "rust"
  },
  "language_info": {
   "codemirror_mode": "rust",
   "file_extension": ".rs",
   "mimetype": "text/rust",
   "name": "Rust",
   "pygment_lexer": "rust",
   "version": ""
  }
 },
 "nbformat": 4,
 "nbformat_minor": 5
}
