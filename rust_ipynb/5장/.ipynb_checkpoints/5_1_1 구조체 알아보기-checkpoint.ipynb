{
 "cells": [
  {
   "cell_type": "markdown",
   "id": "d1829cd5",
   "metadata": {},
   "source": [
    "# 1. 구조체 정의\n",
    "\n",
    "- struct 예약어 + 구조체 명\n",
    "- 구체체는 기본으로 필드를 중괄호 내부에 정의"
   ]
  },
  {
   "cell_type": "markdown",
   "id": "e8bb762b",
   "metadata": {},
   "source": [
    "### 구조체의 종류\n",
    "\n",
    "- 일반 구조체 : 본문에 필드들을 지정\n",
    "- 유닛 구조체 : 구조체 명만 있고 필드가 없다.\n",
    "- 튜플 구조체 : 필드가 없고 튜플로만 지정"
   ]
  },
  {
   "cell_type": "markdown",
   "id": "cee14649",
   "metadata": {},
   "source": [
    "## 1-1. 일반 구조체\n",
    "\n",
    "- 구조체 내의 필드를 가진다.\n",
    "- 필드는 이름과 값을 가진다.\n",
    "- 필드는 소유권과 참조를 가질 수 있다. "
   ]
  },
  {
   "cell_type": "markdown",
   "id": "7d5ac701",
   "metadata": {},
   "source": [
    "### 구조체 정의 \n",
    "- struct 예약어와 구조체 이름(첫글자는 대문자)\n",
    "- 필드는 블럭 내부에 이름과 자료형을 지정한다. \n",
    "- 구조체에 속성을 정의해서 일부 트레이트를 생성할 수 있다. => 이때는 derive를 사용하고 괄호안에 트레이트 이름를 부여한다."
   ]
  },
  {
   "cell_type": "code",
   "execution_count": 2,
   "id": "599bea75",
   "metadata": {},
   "outputs": [],
   "source": [
    "#[derive(Debug)]       // 속성정의 => 출력가능 \n",
    "struct People {\n",
    "    name : String,     // 이름 필드 정의 \n",
    "    age : u32          // 나이 필드 정의 \n",
    "}"
   ]
  },
  {
   "cell_type": "markdown",
   "id": "1f7eeb67",
   "metadata": {},
   "source": [
    "### 구조체의 인스턴스 생성\n",
    "\n",
    "- 구조체를 선언하고 구조체를 사용하려면 인스턴스를 만들어야 한다.\n",
    "- 구조체 인스턴스는 구조체 리터럴을 가지고 생성한다.\n",
    "- 구조체 리터럴로 인스턴스를 생성할 경우는 내부의 필드 중에 프라이빗(다른 모듈에서 생성할 때)이 존재하지 않아야 한다. \n"
   ]
  },
  {
   "cell_type": "code",
   "execution_count": 3,
   "id": "ca865e20",
   "metadata": {},
   "outputs": [],
   "source": [
    "let p = People { \n",
    "    name : String::from(\"가을이\"), \n",
    "    age : 33 \n",
    "};"
   ]
  },
  {
   "cell_type": "markdown",
   "id": "035dfbd1",
   "metadata": {},
   "source": [
    "### 구조체를 출력할 때는 debug 지정해서 출력해야 함\n",
    "\n",
    "- Display  트레이트를 구현하지 않아서 Debug 처리 필요\n",
    "- 그래서 구조체 정의할 때 먼저 속성을 정의해서 Debug 실행하도록 정의\n",
    "- 출력할 때 문자열 내의 중괄호 안에 :? 를 표시"
   ]
  },
  {
   "cell_type": "code",
   "execution_count": 4,
   "id": "826408c6",
   "metadata": {},
   "outputs": [
    {
     "name": "stdout",
     "output_type": "stream",
     "text": [
      " 구조체 인스턴스 People { name: \"가을이\", age: 33 }\n"
     ]
    }
   ],
   "source": [
    "println!(\" 구조체 인스턴스 {:?}\", p);"
   ]
  },
  {
   "cell_type": "code",
   "execution_count": null,
   "id": "0ac6ee8c",
   "metadata": {},
   "outputs": [],
   "source": []
  },
  {
   "cell_type": "code",
   "execution_count": null,
   "id": "0b7ec8e3",
   "metadata": {},
   "outputs": [],
   "source": []
  },
  {
   "cell_type": "markdown",
   "id": "78609a15",
   "metadata": {},
   "source": [
    "## 1-2. 유사 구조체\n",
    "\n",
    "- 구조체 이름만 가진다.\n",
    "- 보통 구현체만 정의하고 메서드 등의 기능을 작성할 때 사용"
   ]
  },
  {
   "cell_type": "markdown",
   "id": "81bd4e7b",
   "metadata": {},
   "source": [
    "### 아무런 필드가 없는 구조체 정의 \n",
    "\n",
    "- 특정 타입만 지정한다.\n",
    "- 보통 이 경우는 메서드 등을 구현해서 사용할 때 많이 사용한다. "
   ]
  },
  {
   "cell_type": "code",
   "execution_count": 5,
   "id": "0b0e47ae",
   "metadata": {},
   "outputs": [],
   "source": [
    "#[derive(Debug)]\n",
    "struct User {}"
   ]
  },
  {
   "cell_type": "markdown",
   "id": "c0a7d271",
   "metadata": {},
   "source": [
    "### 구조체의 인스턴스 생성하기 \n",
    "\n"
   ]
  },
  {
   "cell_type": "code",
   "execution_count": 6,
   "id": "2a8cda36",
   "metadata": {},
   "outputs": [],
   "source": [
    "let u = User {};"
   ]
  },
  {
   "cell_type": "code",
   "execution_count": 7,
   "id": "ec52b967",
   "metadata": {},
   "outputs": [
    {
     "name": "stdout",
     "output_type": "stream",
     "text": [
      " 구조체 인스턴스 User\n"
     ]
    }
   ],
   "source": [
    "println!(\" 구조체 인스턴스 {:?}\", u);"
   ]
  },
  {
   "cell_type": "markdown",
   "id": "9604e0c7",
   "metadata": {},
   "source": [
    "### 빈 블럭을 생략해서 작성할 수 있다.\n",
    "\n",
    "- 블럭이 없으므로 구조체 정의할 때 세미콜론을 붙여야 한다"
   ]
  },
  {
   "cell_type": "code",
   "execution_count": 8,
   "id": "4692ae94",
   "metadata": {},
   "outputs": [],
   "source": [
    "#[derive(Debug)]\n",
    "struct User1;"
   ]
  },
  {
   "cell_type": "code",
   "execution_count": 9,
   "id": "b66ec27a",
   "metadata": {},
   "outputs": [],
   "source": [
    "let u1 = User1;"
   ]
  },
  {
   "cell_type": "code",
   "execution_count": 10,
   "id": "d355a2dc",
   "metadata": {},
   "outputs": [
    {
     "name": "stdout",
     "output_type": "stream",
     "text": [
      " 구조체 인스턴스 User1\n"
     ]
    }
   ],
   "source": [
    "println!(\" 구조체 인스턴스 {:?}\", u1);"
   ]
  },
  {
   "cell_type": "code",
   "execution_count": null,
   "id": "00f5d1d9",
   "metadata": {},
   "outputs": [],
   "source": []
  },
  {
   "cell_type": "markdown",
   "id": "555c2acc",
   "metadata": {},
   "source": [
    "## 1-3. 튜플 구조체\n",
    "\n",
    "- 필드 이름이 없고 대신 튜플로만 처리 \n",
    "- 새로운 타입을 만들때 사용한다. "
   ]
  },
  {
   "cell_type": "markdown",
   "id": "089ca1ec",
   "metadata": {},
   "source": [
    "### 구조체의 블럭대신 튜플을 지정하기 \n",
    "\n",
    "- 튜플에 특정 이름을 붙여서 사용하는 것과 같다.\n"
   ]
  },
  {
   "cell_type": "code",
   "execution_count": 11,
   "id": "2605e6b8",
   "metadata": {},
   "outputs": [],
   "source": [
    "#[derive(Debug)]\n",
    "struct Tuple (u32,i32,i32);"
   ]
  },
  {
   "cell_type": "markdown",
   "id": "1dd86a86",
   "metadata": {},
   "source": [
    "### 튜플 구조체 인스턴스 생성 \n",
    "- 튜플 구조체이므로 실제 값은 튜플로 처리한다. "
   ]
  },
  {
   "cell_type": "code",
   "execution_count": 12,
   "id": "da6fe504",
   "metadata": {},
   "outputs": [],
   "source": [
    "let t = Tuple(100,200,300);"
   ]
  },
  {
   "cell_type": "code",
   "execution_count": 13,
   "id": "e0430df2",
   "metadata": {},
   "outputs": [
    {
     "name": "stdout",
     "output_type": "stream",
     "text": [
      " 구조체 인스턴스 Tuple(100, 200, 300)\n"
     ]
    }
   ],
   "source": [
    "println!(\" 구조체 인스턴스 {:?}\", t);"
   ]
  },
  {
   "cell_type": "code",
   "execution_count": null,
   "id": "5e528b49",
   "metadata": {},
   "outputs": [],
   "source": []
  },
  {
   "cell_type": "code",
   "execution_count": null,
   "id": "d04ddd6a",
   "metadata": {},
   "outputs": [],
   "source": []
  }
 ],
 "metadata": {
  "kernelspec": {
   "display_name": "Rust",
   "language": "rust",
   "name": "rust"
  },
  "language_info": {
   "codemirror_mode": "rust",
   "file_extension": ".rs",
   "mimetype": "text/rust",
   "name": "Rust",
   "pygment_lexer": "rust",
   "version": ""
  }
 },
 "nbformat": 4,
 "nbformat_minor": 5
}
