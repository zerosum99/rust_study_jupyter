{
 "cells": [
  {
   "cell_type": "code",
   "execution_count": null,
   "id": "409e591c",
   "metadata": {},
   "outputs": [],
   "source": []
  },
  {
   "cell_type": "markdown",
   "id": "136df665",
   "metadata": {},
   "source": [
    "## Self는 현재 구현되어 있는 타입 자체를 나타내는 예약어입니다. \n",
    "\n",
    "- Self는 주로 메서드 반환 타입이나 구조체 생성자, 그리고 연관 함수에서 사용됩니다."
   ]
  },
  {
   "cell_type": "markdown",
   "id": "b9c7a094",
   "metadata": {},
   "source": [
    "## 1. 반환값 사용"
   ]
  },
  {
   "cell_type": "markdown",
   "id": "ede3c715",
   "metadata": {},
   "source": [
    "### 일반적인 구조체와 구조체 구현을 작성하기"
   ]
  },
  {
   "cell_type": "code",
   "execution_count": 17,
   "id": "624117ae",
   "metadata": {},
   "outputs": [],
   "source": [
    "struct Point1 {\n",
    "    x: f32,\n",
    "    y: f32,\n",
    "}\n",
    "\n",
    "impl Point1 {\n",
    "    fn distance_from_origin(&self) -> f32 {\n",
    "        (self.x.powi(2) + self.y.powi(2)).sqrt()\n",
    "    }\n",
    "}"
   ]
  },
  {
   "cell_type": "markdown",
   "id": "5a67e32c",
   "metadata": {},
   "source": [
    "### 구조체 구현에 Self 반환값 처리 "
   ]
  },
  {
   "cell_type": "code",
   "execution_count": 23,
   "id": "36b9911e",
   "metadata": {},
   "outputs": [],
   "source": [
    "#[derive(Debug)]\n",
    "struct Point2 {\n",
    "    x: f32,\n",
    "    y: f32,\n",
    "}\n",
    "\n",
    "impl Point2 {\n",
    "    fn translate(&mut self, dx: f32, dy: f32) -> &mut Self {\n",
    "        self.x += dx;\n",
    "        self.y += dy;\n",
    "        self\n",
    "    }\n",
    "}"
   ]
  },
  {
   "cell_type": "code",
   "execution_count": 24,
   "id": "88df50d8",
   "metadata": {},
   "outputs": [],
   "source": [
    "let mut point = Point2 { x: 1.0, y: 2.0 };\n",
    "point.translate(3.0, 4.0).translate(5.0, 6.0);"
   ]
  },
  {
   "cell_type": "code",
   "execution_count": 25,
   "id": "329439ab",
   "metadata": {},
   "outputs": [
    {
     "data": {
      "text/plain": [
       "Point2 { x: 9.0, y: 12.0 }"
      ]
     },
     "execution_count": 25,
     "metadata": {},
     "output_type": "execute_result"
    }
   ],
   "source": [
    "point"
   ]
  },
  {
   "cell_type": "code",
   "execution_count": null,
   "id": "0fa6cf4d",
   "metadata": {},
   "outputs": [],
   "source": []
  },
  {
   "cell_type": "markdown",
   "id": "4d8afcf3",
   "metadata": {},
   "source": [
    "## 2. 구조체 생성자에 사용 "
   ]
  },
  {
   "cell_type": "code",
   "execution_count": 9,
   "id": "bb070f2f",
   "metadata": {},
   "outputs": [],
   "source": [
    "#[derive(Debug)]\n",
    "struct Rectangle {\n",
    "    width: u32,\n",
    "    height: u32,\n",
    "}"
   ]
  },
  {
   "cell_type": "markdown",
   "id": "4fdfb178",
   "metadata": {},
   "source": [
    "### 인스턴스 생성 메서드의 반환값에 사용\n",
    "\n",
    "- 메서드 내부에서 새로운 인스턴스 생성 및 이를 반환처리 "
   ]
  },
  {
   "cell_type": "code",
   "execution_count": 10,
   "id": "656c4e72",
   "metadata": {},
   "outputs": [],
   "source": [
    "\n",
    "impl Rectangle {\n",
    "    fn area(&self) -> u32 {\n",
    "        self.width * self.height\n",
    "    }\n",
    "\n",
    "    fn square(size: u32) -> Self {     // Self는 Rectangle 타입을 의미\n",
    "        Self {\n",
    "            width: size,\n",
    "            height: size,\n",
    "        }\n",
    "    }\n",
    "}"
   ]
  },
  {
   "cell_type": "code",
   "execution_count": 11,
   "id": "3dc15cc1",
   "metadata": {},
   "outputs": [],
   "source": [
    "let rect = Rectangle { width:10, height:20};"
   ]
  },
  {
   "cell_type": "code",
   "execution_count": 12,
   "id": "b97a1891",
   "metadata": {},
   "outputs": [
    {
     "data": {
      "text/plain": [
       "200"
      ]
     },
     "execution_count": 12,
     "metadata": {},
     "output_type": "execute_result"
    }
   ],
   "source": [
    "rect.area() "
   ]
  },
  {
   "cell_type": "code",
   "execution_count": 13,
   "id": "d9f40824",
   "metadata": {},
   "outputs": [
    {
     "data": {
      "text/plain": [
       "Rectangle { width: 10, height: 10 }"
      ]
     },
     "execution_count": 13,
     "metadata": {},
     "output_type": "execute_result"
    }
   ],
   "source": [
    "Rectangle::square(10)"
   ]
  },
  {
   "cell_type": "markdown",
   "id": "226298b1",
   "metadata": {},
   "source": [
    "## 2.  연관함수 사용 \n",
    "\n",
    "- Self는 생성자 등의 연관 함수에서도 사용될 수 있습니다. \n",
    "- 생성자는 인스턴스를 만들기 위한 메서드이며, Self를 반환 타입으로 사용합니다."
   ]
  },
  {
   "cell_type": "code",
   "execution_count": 2,
   "id": "562162cc",
   "metadata": {},
   "outputs": [],
   "source": [
    "#[derive(Debug)]\n",
    "struct Point {\n",
    "    x: i32,\n",
    "    y: i32,\n",
    "}"
   ]
  },
  {
   "cell_type": "code",
   "execution_count": 3,
   "id": "1c794654",
   "metadata": {},
   "outputs": [],
   "source": [
    "impl Point {\n",
    "    fn new(x: i32, y: i32) -> Self {\n",
    "        Self { x, y }\n",
    "    }\n",
    "\n",
    "    fn origin() -> Self {\n",
    "        Self::new(0, 0)\n",
    "    }\n",
    "}"
   ]
  },
  {
   "cell_type": "code",
   "execution_count": 4,
   "id": "e5892589",
   "metadata": {},
   "outputs": [],
   "source": [
    "let p  = Point::new(10,20);"
   ]
  },
  {
   "cell_type": "code",
   "execution_count": 5,
   "id": "ce3cc277",
   "metadata": {},
   "outputs": [
    {
     "data": {
      "text/plain": [
       "Point { x: 10, y: 20 }"
      ]
     },
     "execution_count": 5,
     "metadata": {},
     "output_type": "execute_result"
    }
   ],
   "source": [
    "p"
   ]
  },
  {
   "cell_type": "code",
   "execution_count": 6,
   "id": "67780e78",
   "metadata": {},
   "outputs": [],
   "source": [
    "let po = Point::origin();"
   ]
  },
  {
   "cell_type": "code",
   "execution_count": 7,
   "id": "bce54cef",
   "metadata": {},
   "outputs": [
    {
     "data": {
      "text/plain": [
       "Point { x: 0, y: 0 }"
      ]
     },
     "execution_count": 7,
     "metadata": {},
     "output_type": "execute_result"
    }
   ],
   "source": [
    "po"
   ]
  },
  {
   "cell_type": "code",
   "execution_count": null,
   "id": "ed0ee690",
   "metadata": {},
   "outputs": [],
   "source": []
  }
 ],
 "metadata": {
  "kernelspec": {
   "display_name": "Rust",
   "language": "rust",
   "name": "rust"
  },
  "language_info": {
   "codemirror_mode": "rust",
   "file_extension": ".rs",
   "mimetype": "text/rust",
   "name": "Rust",
   "pygment_lexer": "rust",
   "version": ""
  }
 },
 "nbformat": 4,
 "nbformat_minor": 5
}
