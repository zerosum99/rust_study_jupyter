{
 "cells": [
  {
   "cell_type": "code",
   "execution_count": null,
   "id": "ce5664b0",
   "metadata": {},
   "outputs": [],
   "source": []
  },
  {
   "cell_type": "markdown",
   "id": "230cbb44",
   "metadata": {},
   "source": [
    "## 1. enum 정의\n",
    "\n",
    "- enum 예약어 사용\n",
    "- 이넘 이름 정의 \n",
    "- 이넘은 하나의 자료형으로 인식\n",
    "- 본문에 variant 정의 \n",
    "\n",
    "### enum enum_name {\n",
    "###   variant1,\n",
    "###   variant2,\n",
    "###   variant3\n",
    "### }"
   ]
  },
  {
   "cell_type": "markdown",
   "id": "a415fe65",
   "metadata": {},
   "source": [
    "### 일반적인 이넘 정의 "
   ]
  },
  {
   "cell_type": "code",
   "execution_count": 2,
   "id": "07e2897f",
   "metadata": {},
   "outputs": [],
   "source": [
    "enum Animal {\n",
    "    Dog,\n",
    "    Cat,\n",
    "}"
   ]
  },
  {
   "cell_type": "markdown",
   "id": "af3658b1",
   "metadata": {},
   "source": [
    "### 이넘의 인스턴스는 Variant 로 정의 \n",
    "\n",
    "- 이넘 인스턴스는 이넘명::variant 명으로 작성"
   ]
  },
  {
   "cell_type": "code",
   "execution_count": 3,
   "id": "1b3d4055",
   "metadata": {},
   "outputs": [],
   "source": [
    "let mut a: Animal = Animal::Dog;\n",
    "a = Animal::Cat;"
   ]
  },
  {
   "cell_type": "markdown",
   "id": "f2196acf",
   "metadata": {},
   "source": [
    "### 이넘도 구조체와 동일하게 std::fmt::Display 지원하지 않음\n",
    "\n",
    "- 그래서 Debug로 출력해야함"
   ]
  },
  {
   "cell_type": "code",
   "execution_count": 4,
   "id": "328b99d4",
   "metadata": {},
   "outputs": [
    {
     "ename": "Error",
     "evalue": "`Animal` doesn't implement `std::fmt::Display`",
     "output_type": "error",
     "traceback": [
      "\u001b[31m[E0277] Error:\u001b[0m `Animal` doesn't implement `std::fmt::Display`",
      "   \u001b[38;5;246m╭\u001b[0m\u001b[38;5;246m─\u001b[0m\u001b[38;5;246m[\u001b[0mcommand_4:1:1\u001b[38;5;246m]\u001b[0m",
      "   \u001b[38;5;246m│\u001b[0m",
      " \u001b[38;5;246m1 │\u001b[0m \u001b[38;5;249mp\u001b[0m\u001b[38;5;249mr\u001b[0m\u001b[38;5;249mi\u001b[0m\u001b[38;5;249mn\u001b[0m\u001b[38;5;249mt\u001b[0m\u001b[38;5;249ml\u001b[0m\u001b[38;5;249mn\u001b[0m\u001b[38;5;249m!\u001b[0m\u001b[38;5;249m(\u001b[0m\u001b[38;5;249m\"\u001b[0m\u001b[38;5;249m{\u001b[0m\u001b[38;5;249m}\u001b[0m\u001b[38;5;249m\"\u001b[0m\u001b[38;5;249m,\u001b[0m\u001b[38;5;54ma\u001b[0m\u001b[38;5;249m)\u001b[0m\u001b[38;5;249m;\u001b[0m",
      " \u001b[38;5;246m  ·\u001b[0m               \u001b[38;5;54m┬\u001b[0m  ",
      " \u001b[38;5;246m  ·\u001b[0m               \u001b[38;5;54m╰\u001b[0m\u001b[38;5;54m─\u001b[0m\u001b[38;5;54m─\u001b[0m `Animal` cannot be formatted with the default formatter",
      "\u001b[38;5;246m───╯\u001b[0m"
     ]
    }
   ],
   "source": [
    "println!(\"{}\",a);"
   ]
  },
  {
   "cell_type": "markdown",
   "id": "becbe32d",
   "metadata": {},
   "source": [
    "### 속성을 추가정의해서 Debug 출력처리 "
   ]
  },
  {
   "cell_type": "code",
   "execution_count": 27,
   "id": "99f0c9e6",
   "metadata": {},
   "outputs": [
    {
     "name": "stdout",
     "output_type": "stream",
     "text": [
      "Cat\n"
     ]
    }
   ],
   "source": [
    "#[derive(Debug)]                  // 속성을 정의해서 debug 출력처리\n",
    "enum Animal {\n",
    "    Dog,\n",
    "    Cat,\n",
    "}\n",
    "\n",
    "let mut a1: Animal = Animal::Dog;\n",
    "a1 = Animal::Cat;\n",
    "println!(\"{:?}\",a1);"
   ]
  },
  {
   "cell_type": "code",
   "execution_count": null,
   "id": "43c28231",
   "metadata": {},
   "outputs": [],
   "source": []
  },
  {
   "cell_type": "markdown",
   "id": "5931aaa2",
   "metadata": {},
   "source": [
    "## 이넘을 정의한 후에 구조체 필드에 지정해서 처리  "
   ]
  },
  {
   "cell_type": "code",
   "execution_count": null,
   "id": "ed8cf4af",
   "metadata": {},
   "outputs": [],
   "source": []
  },
  {
   "cell_type": "code",
   "execution_count": 12,
   "id": "28500da1",
   "metadata": {},
   "outputs": [],
   "source": [
    "#[derive(Debug)]\n",
    "enum ManKind {\n",
    "    MAN,\n",
    "    WOMAN,\n",
    "}\n",
    "\n",
    "// The `derive` attribute automatically creates the implementation\n",
    "// required to make this `struct` printable with `fmt::Debug`.\n",
    "#[derive(Debug)]\n",
    "struct Person {\n",
    "   name:String,\n",
    "   gender: ManKind\n",
    "}\n",
    "\n",
    "fn main() {\n",
    "   let p1 = Person {\n",
    "      name:String::from(\"문지원\"),\n",
    "      gender: ManKind::MAN\n",
    "   };\n",
    "   let p2 = Person {\n",
    "      name:String::from(\"문찬주\"),\n",
    "      gender: ManKind::WOMAN\n",
    "   };\n",
    "   println!(\"{:?}\",p1);\n",
    "   println!(\"{:?}\",p2);\n",
    "}"
   ]
  },
  {
   "cell_type": "code",
   "execution_count": 13,
   "id": "de305e59",
   "metadata": {},
   "outputs": [
    {
     "name": "stdout",
     "output_type": "stream",
     "text": [
      "Person { name: \"문지원\", gender: MAN }\n",
      "Person { name: \"문찬주\", gender: WOMAN }\n"
     ]
    },
    {
     "data": {
      "text/plain": [
       "()"
      ]
     },
     "execution_count": 13,
     "metadata": {},
     "output_type": "execute_result"
    }
   ],
   "source": [
    "main()"
   ]
  },
  {
   "cell_type": "code",
   "execution_count": null,
   "id": "365f2e92",
   "metadata": {},
   "outputs": [],
   "source": []
  },
  {
   "cell_type": "markdown",
   "id": "fb1b51fe",
   "metadata": {},
   "source": [
    "## 이넘 내부에 값을 넣고 처리하기"
   ]
  },
  {
   "cell_type": "markdown",
   "id": "f3db65d6",
   "metadata": {},
   "source": [
    "### 이넘에 특정값을 지정해서 처리하기"
   ]
  },
  {
   "cell_type": "code",
   "execution_count": 36,
   "id": "9307b590",
   "metadata": {},
   "outputs": [
    {
     "name": "stdout",
     "output_type": "stream",
     "text": [
      " Foo\n",
      " 3\n"
     ]
    }
   ],
   "source": [
    "#[derive(Debug)]\n",
    "enum Enum {\n",
    "    Foo = 3,\n",
    "    Bar = 2,\n",
    "    Baz = 1,\n",
    "}\n",
    "\n",
    "println!(\" {:?}\", Enum::Foo);\n",
    "println!(\" {}\", Enum::Foo as u32);"
   ]
  },
  {
   "cell_type": "markdown",
   "id": "b14353ac",
   "metadata": {},
   "source": [
    "### 특정값을 임의의 variant에 지정 "
   ]
  },
  {
   "cell_type": "code",
   "execution_count": 34,
   "id": "108f02f2",
   "metadata": {},
   "outputs": [],
   "source": [
    "enum Foo {\n",
    "    Bar,            // 0\n",
    "    Baz = 123,      // 123\n",
    "    Quux,           // 124\n",
    "}\n",
    "\n",
    "let baz_discriminant = Foo::Baz as u32;\n",
    "assert_eq!(baz_discriminant, 123);"
   ]
  },
  {
   "cell_type": "code",
   "execution_count": null,
   "id": "d526cb75",
   "metadata": {},
   "outputs": [],
   "source": []
  },
  {
   "cell_type": "markdown",
   "id": "89381e3d",
   "metadata": {},
   "source": [
    "### 이넘 variant 내에 다양하게 정의가능\n",
    "\n",
    "- 튜플, 구조체 등으로 값을 구분해서 처리할 수 있다\n",
    "- variant 옆에 빈 튜플과 빈구조체 정의 "
   ]
  },
  {
   "cell_type": "code",
   "execution_count": 28,
   "id": "ac24e24c",
   "metadata": {},
   "outputs": [],
   "source": [
    "enum Fieldless {\n",
    "    Tuple(),\n",
    "    Struct{},\n",
    "    Unit,\n",
    "}"
   ]
  },
  {
   "cell_type": "markdown",
   "id": "540d731d",
   "metadata": {},
   "source": [
    "### 튜플과 이름없는 구조체 정의하기 \n",
    "\n",
    "- variant 다음에 괄호와 자료형으로 튜플 정의 가능\n",
    "- variant 다음에 구조체 이름없이 중괄호 내에 필드와 자료형으로 이름없는 구조체 정의 가능"
   ]
  },
  {
   "cell_type": "code",
   "execution_count": 31,
   "id": "7c4781ce",
   "metadata": {},
   "outputs": [],
   "source": [
    "#[derive(Debug)]\n",
    "enum Animal_1 {\n",
    "    Dog(String, f64),\n",
    "    Cat { name: String, weight: f64 },\n",
    "}\n",
    "\n",
    "let mut a: Animal_1 = Animal_1::Dog(\"Cocoa\".to_string(), 37.2);\n",
    "a = Animal_1::Cat { name: \"Spotty\".to_string(), weight: 2.7 };"
   ]
  },
  {
   "cell_type": "code",
   "execution_count": 32,
   "id": "4876cdda",
   "metadata": {},
   "outputs": [
    {
     "name": "stdout",
     "output_type": "stream",
     "text": [
      " Cat { name: \"Spotty\", weight: 2.7 }\n"
     ]
    }
   ],
   "source": [
    "println!(\" {:?}\", a);"
   ]
  },
  {
   "cell_type": "code",
   "execution_count": null,
   "id": "a8f5d7e2",
   "metadata": {},
   "outputs": [],
   "source": []
  }
 ],
 "metadata": {
  "kernelspec": {
   "display_name": "Rust",
   "language": "rust",
   "name": "rust"
  },
  "language_info": {
   "codemirror_mode": "rust",
   "file_extension": ".rs",
   "mimetype": "text/rust",
   "name": "Rust",
   "pygment_lexer": "rust",
   "version": ""
  }
 },
 "nbformat": 4,
 "nbformat_minor": 5
}
