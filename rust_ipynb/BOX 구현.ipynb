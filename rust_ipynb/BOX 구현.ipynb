{
 "cells": [
  {
   "cell_type": "code",
   "execution_count": 15,
   "id": "106cdb3b",
   "metadata": {},
   "outputs": [],
   "source": [
    "fn main() {\n",
    "    let x = Box::new(5);\n",
    "    let y = &x;\n",
    "    let z = *x + 100; // 정수값  5 + 100\n",
    "    \n",
    "    println!(\"x={}, y={}, z={}\", x, y,z);\n",
    "}"
   ]
  },
  {
   "cell_type": "code",
   "execution_count": 16,
   "id": "743db67b",
   "metadata": {},
   "outputs": [
    {
     "name": "stdout",
     "output_type": "stream",
     "text": [
      "x=5, y=5, z=105\n"
     ]
    },
    {
     "data": {
      "text/plain": [
       "()"
      ]
     },
     "execution_count": 16,
     "metadata": {},
     "output_type": "execute_result"
    }
   ],
   "source": [
    "main()"
   ]
  },
  {
   "cell_type": "code",
   "execution_count": null,
   "id": "b9407b09",
   "metadata": {},
   "outputs": [],
   "source": []
  },
  {
   "cell_type": "code",
   "execution_count": 11,
   "id": "8121600e",
   "metadata": {},
   "outputs": [],
   "source": [
    "fn main() {\n",
    "    let my_box = Box::new(1); // This is a Box<i32>\n",
    "    let an_integer = *my_box; // This is an i32\n",
    "    println!(\"{:?}\", my_box);\n",
    "    println!(\"{:?}\", an_integer);\n",
    "    let b = an_integer + 100;\n",
    "    println!(\"{:?}\", b);\n",
    "}"
   ]
  },
  {
   "cell_type": "code",
   "execution_count": 12,
   "id": "6cc25ae2",
   "metadata": {},
   "outputs": [
    {
     "name": "stdout",
     "output_type": "stream",
     "text": [
      "1\n",
      "1\n",
      "101\n"
     ]
    },
    {
     "data": {
      "text/plain": [
       "()"
      ]
     },
     "execution_count": 12,
     "metadata": {},
     "output_type": "execute_result"
    }
   ],
   "source": [
    "main()"
   ]
  },
  {
   "cell_type": "code",
   "execution_count": null,
   "id": "a6356d9a",
   "metadata": {},
   "outputs": [],
   "source": []
  },
  {
   "cell_type": "code",
   "execution_count": null,
   "id": "98713895",
   "metadata": {},
   "outputs": [],
   "source": []
  },
  {
   "cell_type": "code",
   "execution_count": null,
   "id": "d1419961",
   "metadata": {},
   "outputs": [],
   "source": []
  },
  {
   "cell_type": "code",
   "execution_count": 64,
   "id": "ef185934",
   "metadata": {},
   "outputs": [],
   "source": [
    "fn main() { \n",
    "    let a = 100;\n",
    "    let b = &a;\n",
    "\n",
    "    let c = a + b;\n",
    "    println!(\"{}\", c);\n",
    "} "
   ]
  },
  {
   "cell_type": "code",
   "execution_count": 65,
   "id": "3c847ac9",
   "metadata": {},
   "outputs": [
    {
     "name": "stdout",
     "output_type": "stream",
     "text": [
      "200\n"
     ]
    },
    {
     "data": {
      "text/plain": [
       "()"
      ]
     },
     "execution_count": 65,
     "metadata": {},
     "output_type": "execute_result"
    }
   ],
   "source": [
    "main()"
   ]
  },
  {
   "cell_type": "code",
   "execution_count": null,
   "id": "3e5f9313",
   "metadata": {},
   "outputs": [],
   "source": []
  },
  {
   "cell_type": "code",
   "execution_count": null,
   "id": "1d72775f",
   "metadata": {},
   "outputs": [],
   "source": []
  },
  {
   "cell_type": "code",
   "execution_count": null,
   "id": "facdede2",
   "metadata": {},
   "outputs": [],
   "source": []
  },
  {
   "cell_type": "code",
   "execution_count": null,
   "id": "6a215908",
   "metadata": {},
   "outputs": [],
   "source": []
  },
  {
   "cell_type": "code",
   "execution_count": null,
   "id": "1a108b07",
   "metadata": {},
   "outputs": [],
   "source": []
  },
  {
   "cell_type": "code",
   "execution_count": null,
   "id": "ba42c272",
   "metadata": {},
   "outputs": [],
   "source": []
  },
  {
   "cell_type": "code",
   "execution_count": null,
   "id": "456af49b",
   "metadata": {},
   "outputs": [],
   "source": []
  },
  {
   "cell_type": "code",
   "execution_count": 4,
   "id": "81c158b2",
   "metadata": {},
   "outputs": [],
   "source": [
    "fn main() {\n",
    "    println!(\"Hello, world!\");\n",
    "}"
   ]
  },
  {
   "cell_type": "code",
   "execution_count": 5,
   "id": "ffaf57b9",
   "metadata": {},
   "outputs": [
    {
     "name": "stdout",
     "output_type": "stream",
     "text": [
      "Hello, world!\n"
     ]
    },
    {
     "data": {
      "text/plain": [
       "()"
      ]
     },
     "execution_count": 5,
     "metadata": {},
     "output_type": "execute_result"
    }
   ],
   "source": [
    "main()"
   ]
  },
  {
   "cell_type": "code",
   "execution_count": 6,
   "id": "b2357049",
   "metadata": {},
   "outputs": [],
   "source": [
    "fn main() {\n",
    "    let a = 100;\n",
    "    let b = 200;\n",
    "    let c = a+ b;\n",
    "    \n",
    "    println!(\" {a} + {b} = {c}\");\n",
    "}"
   ]
  },
  {
   "cell_type": "code",
   "execution_count": 7,
   "id": "1aaa863b",
   "metadata": {},
   "outputs": [
    {
     "name": "stdout",
     "output_type": "stream",
     "text": [
      " 100 + 200 = 300\n"
     ]
    },
    {
     "data": {
      "text/plain": [
       "()"
      ]
     },
     "execution_count": 7,
     "metadata": {},
     "output_type": "execute_result"
    }
   ],
   "source": [
    "main()"
   ]
  },
  {
   "cell_type": "code",
   "execution_count": 11,
   "id": "cf508ae2",
   "metadata": {},
   "outputs": [],
   "source": [
    "fn main() {\n",
    "    let a  = 100;\n",
    "    let b = &a;\n",
    "    let c = a + *b;\n",
    "    println!(\" {a} + {b} = {c}\");\n",
    "    println!(\"*b = {}\", *b);\n",
    "}"
   ]
  },
  {
   "cell_type": "code",
   "execution_count": 12,
   "id": "fbaed337",
   "metadata": {},
   "outputs": [
    {
     "name": "stdout",
     "output_type": "stream",
     "text": [
      " 100 + 100 = 200\n",
      "*b = 100\n"
     ]
    },
    {
     "data": {
      "text/plain": [
       "()"
      ]
     },
     "execution_count": 12,
     "metadata": {},
     "output_type": "execute_result"
    }
   ],
   "source": [
    "main()"
   ]
  },
  {
   "cell_type": "code",
   "execution_count": null,
   "id": "6b469d72",
   "metadata": {},
   "outputs": [],
   "source": []
  },
  {
   "cell_type": "code",
   "execution_count": 15,
   "id": "ec27cf4c",
   "metadata": {},
   "outputs": [
    {
     "name": "stdout",
     "output_type": "stream",
     "text": [
      "This is not allowed\n"
     ]
    }
   ],
   "source": [
    "println!(\"{} {}\", \"This\", \"is not allowed\");"
   ]
  },
  {
   "cell_type": "code",
   "execution_count": 16,
   "id": "01aa4772",
   "metadata": {},
   "outputs": [
    {
     "name": "stdout",
     "output_type": "stream",
     "text": [
      "These\n",
      "14\n",
      "are\n",
      "three lines\n"
     ]
    }
   ],
   "source": [
    "println!(\"{}\", \"These\n",
    "14\n",
    "are\n",
    "three lines\");"
   ]
  },
  {
   "cell_type": "code",
   "execution_count": null,
   "id": "38e5dd2a",
   "metadata": {},
   "outputs": [],
   "source": []
  },
  {
   "cell_type": "code",
   "execution_count": 17,
   "id": "e6d70d54",
   "metadata": {},
   "outputs": [
    {
     "name": "stdout",
     "output_type": "stream",
     "text": [
      "This And this is what is printed:\n",
      "is just one line\n"
     ]
    }
   ],
   "source": [
    "println!(\"{}\", \"This \\\n",
    "And this is what is printed:\n",
    "is \\\n",
    "just one line\");"
   ]
  },
  {
   "cell_type": "code",
   "execution_count": 18,
   "id": "60b76ae3",
   "metadata": {},
   "outputs": [
    {
     "name": "stdout",
     "output_type": "stream",
     "text": [
      "This is just one line\n"
     ]
    }
   ],
   "source": [
    "println!(\"{}\", \"This \\\n",
    "is \\\n",
    "just one line\");"
   ]
  },
  {
   "cell_type": "code",
   "execution_count": null,
   "id": "fdcf3cc4",
   "metadata": {},
   "outputs": [],
   "source": []
  },
  {
   "cell_type": "code",
   "execution_count": 19,
   "id": "78bbe249",
   "metadata": {},
   "outputs": [
    {
     "name": "stdout",
     "output_type": "stream",
     "text": [
      "12\n"
     ]
    }
   ],
   "source": [
    "let mut number = 12; \n",
    "println!(\"{}\", number);"
   ]
  },
  {
   "cell_type": "code",
   "execution_count": null,
   "id": "7f1f06c3",
   "metadata": {},
   "outputs": [],
   "source": []
  },
  {
   "cell_type": "code",
   "execution_count": 23,
   "id": "2c9eb873",
   "metadata": {},
   "outputs": [],
   "source": [
    "fn main() {\n",
    "    let number;\n",
    "    number = 12; \n",
    "    println!(\"{}\", number);\n",
    "}"
   ]
  },
  {
   "cell_type": "code",
   "execution_count": 24,
   "id": "668b7094",
   "metadata": {},
   "outputs": [
    {
     "name": "stdout",
     "output_type": "stream",
     "text": [
      "12\n"
     ]
    },
    {
     "data": {
      "text/plain": [
       "()"
      ]
     },
     "execution_count": 24,
     "metadata": {},
     "output_type": "execute_result"
    }
   ],
   "source": [
    "main()"
   ]
  },
  {
   "cell_type": "code",
   "execution_count": null,
   "id": "2cf9c08e",
   "metadata": {},
   "outputs": [],
   "source": []
  },
  {
   "cell_type": "code",
   "execution_count": 25,
   "id": "54fab662",
   "metadata": {},
   "outputs": [],
   "source": [
    "fn main() {\n",
    "    let number1;\n",
    "    let number2 = 22; \n",
    "    number1 = number2;\n",
    "    println!(\"{}\", number1);\n",
    "}"
   ]
  },
  {
   "cell_type": "code",
   "execution_count": 26,
   "id": "ff184ae4",
   "metadata": {},
   "outputs": [
    {
     "name": "stdout",
     "output_type": "stream",
     "text": [
      "22\n"
     ]
    },
    {
     "data": {
      "text/plain": [
       "()"
      ]
     },
     "execution_count": 26,
     "metadata": {},
     "output_type": "execute_result"
    }
   ],
   "source": [
    "main()"
   ]
  },
  {
   "cell_type": "code",
   "execution_count": null,
   "id": "66db7acc",
   "metadata": {},
   "outputs": [],
   "source": []
  },
  {
   "cell_type": "code",
   "execution_count": 31,
   "id": "e1512ddd",
   "metadata": {},
   "outputs": [
    {
     "ename": "Error",
     "evalue": "value assigned to `number1` is never read",
     "output_type": "error",
     "traceback": [
      "    number1 = 12;",
      "\u001b[91m    ^^^^^^^\u001b[0m \u001b[94m\u001b[0m",
      "value assigned to `number1` is never read",
      "\u001b[1mhelp\u001b[0m: maybe it is overwritten before being read?"
     ]
    },
    {
     "ename": "Error",
     "evalue": "borrow of possibly-uninitialized variable: `number1`",
     "output_type": "error",
     "traceback": [
      "    println!(\"{}\", number1); ",
      "\u001b[91m                   ^^^^^^^\u001b[0m \u001b[94muse of possibly-uninitialized `number1`\u001b[0m",
      "borrow of possibly-uninitialized variable: `number1`"
     ]
    }
   ],
   "source": [
    "fn main() {\n",
    "    let number1 :i32; \n",
    "    println!(\"{}\", number1); \n",
    "    number1 = 12;\n",
    "}"
   ]
  },
  {
   "cell_type": "code",
   "execution_count": 29,
   "id": "15f67ce7",
   "metadata": {},
   "outputs": [],
   "source": [
    "fn main() {\n",
    "    let number :u32;\n",
    "}"
   ]
  },
  {
   "cell_type": "code",
   "execution_count": 30,
   "id": "a1f8b9d6",
   "metadata": {},
   "outputs": [
    {
     "data": {
      "text/plain": [
       "()"
      ]
     },
     "execution_count": 30,
     "metadata": {},
     "output_type": "execute_result"
    }
   ],
   "source": [
    "main()"
   ]
  },
  {
   "cell_type": "code",
   "execution_count": null,
   "id": "5bc6e4d7",
   "metadata": {},
   "outputs": [],
   "source": []
  },
  {
   "cell_type": "code",
   "execution_count": 34,
   "id": "f11449fc",
   "metadata": {},
   "outputs": [
    {
     "name": "stdout",
     "output_type": "stream",
     "text": [
      "12\n"
     ]
    }
   ],
   "source": [
    "let _number = 12; \n",
    "println!(\"{}\", _number);"
   ]
  },
  {
   "cell_type": "code",
   "execution_count": 35,
   "id": "f7dfbe62",
   "metadata": {},
   "outputs": [
    {
     "ename": "Error",
     "evalue": "in expressions, `_` can only be used on the left-hand side of an assignment",
     "output_type": "error",
     "traceback": [
      "println!(\"{}\", _);",
      "\u001b[91m               ^\u001b[0m \u001b[94m`_` not allowed here\u001b[0m",
      "in expressions, `_` can only be used on the left-hand side of an assignment"
     ]
    }
   ],
   "source": [
    "let _ = 12; \n",
    "println!(\"{}\", _);"
   ]
  },
  {
   "cell_type": "code",
   "execution_count": 37,
   "id": "419df1d6",
   "metadata": {},
   "outputs": [
    {
     "name": "stdout",
     "output_type": "stream",
     "text": [
      "1\n",
      "2\n",
      "3\n"
     ]
    }
   ],
   "source": [
    "let mut n = 1; \n",
    "println!(\"{}\", n); \n",
    "n = 2;\n",
    "println!(\"{}\", n); \n",
    "n = 3;\n",
    "println!(\"{}\", n);"
   ]
  },
  {
   "cell_type": "code",
   "execution_count": 44,
   "id": "0301dcd2",
   "metadata": {},
   "outputs": [
    {
     "name": "stdout",
     "output_type": "stream",
     "text": [
      "정수 = 1\n",
      "실수 = 1.00\n",
      "실수 =2.0\n",
      "실수 =3.1400\n"
     ]
    }
   ],
   "source": [
    "let mut n = 1.0; \n",
    "println!(\"정수 = {}\", n); \n",
    "println!(\"실수 = {:0.2}\", n); \n",
    "n = 2.0;\n",
    "println!(\"실수 ={:0.1}\", n);\n",
    "n = 3.14; \n",
    "println!(\"실수 ={:0.4}\", n);"
   ]
  },
  {
   "cell_type": "code",
   "execution_count": null,
   "id": "78680b8f",
   "metadata": {},
   "outputs": [],
   "source": []
  },
  {
   "cell_type": "code",
   "execution_count": null,
   "id": "d3b7e3fd",
   "metadata": {},
   "outputs": [],
   "source": []
  },
  {
   "cell_type": "code",
   "execution_count": 45,
   "id": "b7ecbd95",
   "metadata": {},
   "outputs": [
    {
     "name": "stdout",
     "output_type": "stream",
     "text": [
      "1\n",
      "2\n",
      "3.14\n"
     ]
    }
   ],
   "source": [
    "let mut n = 1; \n",
    "println!(\"{}\", n); \n",
    "n = 2;\n",
    "println!(\"{}\", n); \n",
    "let n = 3.14; \n",
    "println!(\"{}\", n);"
   ]
  },
  {
   "cell_type": "code",
   "execution_count": 47,
   "id": "ae6079c4",
   "metadata": {},
   "outputs": [],
   "source": [
    "let mut _n = 1; \n",
    "_n = 2;\n",
    "let _n = 3.14; \n",
    "// _n = 5.9;   //cannot assign twice to immutable variable"
   ]
  },
  {
   "cell_type": "code",
   "execution_count": null,
   "id": "870b7be1",
   "metadata": {},
   "outputs": [],
   "source": []
  },
  {
   "cell_type": "code",
   "execution_count": 48,
   "id": "aab8497f",
   "metadata": {},
   "outputs": [
    {
     "name": "stdout",
     "output_type": "stream",
     "text": [
      "a=12\n",
      "a+1 = 13\n",
      "a-4 = 9\n",
      "a*7 = 63\n",
      "a/6 = 10\n"
     ]
    }
   ],
   "source": [
    "let mut a = 12; \n",
    "println!(\"a={}\", a);\n",
    "a = a + 1;\n",
    "println!(\"a+1 = {}\", a);\n",
    "a = a - 4;\n",
    "println!(\"a-4 = {}\", a);\n",
    "a = a * 7;\n",
    "println!(\"a*7 = {}\", a);\n",
    "a = a / 6;\n",
    "println!(\"a/6 = {}\", a);"
   ]
  },
  {
   "cell_type": "code",
   "execution_count": 49,
   "id": "00ada362",
   "metadata": {},
   "outputs": [
    {
     "name": "stdout",
     "output_type": "stream",
     "text": [
      "a=12\n",
      "a+=1 = 13\n",
      "a-=4 = 9\n",
      "a*=7 = 63\n",
      "a/=6 = 10\n"
     ]
    }
   ],
   "source": [
    "let mut a = 12; \n",
    "println!(\"a={}\", a);\n",
    "a += 1;\n",
    "println!(\"a+=1 = {}\", a);\n",
    "a -= 4;\n",
    "println!(\"a-=4 = {}\", a);\n",
    "a *= 7;\n",
    "println!(\"a*=7 = {}\", a);\n",
    "a /= 6;\n",
    "println!(\"a/=6 = {}\", a);"
   ]
  },
  {
   "cell_type": "code",
   "execution_count": null,
   "id": "9fe15278",
   "metadata": {},
   "outputs": [],
   "source": []
  }
 ],
 "metadata": {
  "kernelspec": {
   "display_name": "Rust",
   "language": "rust",
   "name": "rust"
  },
  "language_info": {
   "codemirror_mode": "rust",
   "file_extension": ".rs",
   "mimetype": "text/rust",
   "name": "Rust",
   "pygment_lexer": "rust",
   "version": ""
  }
 },
 "nbformat": 4,
 "nbformat_minor": 5
}
