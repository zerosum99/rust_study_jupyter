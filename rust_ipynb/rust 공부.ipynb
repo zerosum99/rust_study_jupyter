{
 "cells": [
  {
   "cell_type": "markdown",
   "id": "04596fdc",
   "metadata": {},
   "source": [
    "# 러스트를 주피터 노트북에서 "
   ]
  },
  {
   "cell_type": "code",
   "execution_count": 2,
   "id": "9430e28e",
   "metadata": {},
   "outputs": [],
   "source": [
    "fn main() {\n",
    "    println!(\"Hello, world!\");\n",
    "}"
   ]
  },
  {
   "cell_type": "code",
   "execution_count": 3,
   "id": "fa0da5dd",
   "metadata": {},
   "outputs": [
    {
     "name": "stdout",
     "output_type": "stream",
     "text": [
      "Hello, world!\n"
     ]
    },
    {
     "data": {
      "text/plain": [
       "()"
      ]
     },
     "execution_count": 3,
     "metadata": {},
     "output_type": "execute_result"
    }
   ],
   "source": [
    "main()"
   ]
  },
  {
   "cell_type": "markdown",
   "id": "efdfff8e",
   "metadata": {},
   "source": [
    "## 쉐도잉 처리 "
   ]
  },
  {
   "cell_type": "code",
   "execution_count": 6,
   "id": "acef7c52",
   "metadata": {},
   "outputs": [],
   "source": [
    "fn main() {\n",
    "    let age:u8= 255;\n",
    "    // 0 to 255 only allowed for u8\n",
    "    let weight:u16=256;     //overflow value is 0 \n",
    "    let height:u16=257;     //overflow value is 1 \n",
    "    let score:u16=258;      //overflow value is 2\n",
    "    println!(\"age is {} \",age); \n",
    "    println!(\"weight is {}\",weight); \n",
    "    println!(\"height is {}\",height);\n",
    "    println!(\"score is {}\",score); \n",
    "}\n"
   ]
  },
  {
   "cell_type": "code",
   "execution_count": 7,
   "id": "b2769f73",
   "metadata": {},
   "outputs": [
    {
     "name": "stdout",
     "output_type": "stream",
     "text": [
      "age is 255 \n",
      "weight is 256\n",
      "height is 257\n",
      "score is 258\n"
     ]
    },
    {
     "data": {
      "text/plain": [
       "()"
      ]
     },
     "execution_count": 7,
     "metadata": {},
     "output_type": "execute_result"
    }
   ],
   "source": [
    "main()"
   ]
  },
  {
   "cell_type": "code",
   "execution_count": 8,
   "id": "559c01bf",
   "metadata": {},
   "outputs": [],
   "source": [
    "fn main() {\n",
    "    let result=10.00;//f64 by default\n",
    "    let interest:f32=8.35;\n",
    "    let cost:f64=15000.600; //double precision \n",
    "    println!(\"result value is {}\",result); \n",
    "    println!(\"interest is {}\",interest); \n",
    "    println!(\"cost is {}\",cost);\n",
    "}\n"
   ]
  },
  {
   "cell_type": "code",
   "execution_count": 9,
   "id": "2fe12138",
   "metadata": {},
   "outputs": [
    {
     "name": "stdout",
     "output_type": "stream",
     "text": [
      "result value is 10\n",
      "interest is 8.35\n",
      "cost is 15000.6\n"
     ]
    },
    {
     "data": {
      "text/plain": [
       "()"
      ]
     },
     "execution_count": 9,
     "metadata": {},
     "output_type": "execute_result"
    }
   ],
   "source": [
    "main()"
   ]
  },
  {
   "cell_type": "code",
   "execution_count": null,
   "id": "2f507372",
   "metadata": {},
   "outputs": [],
   "source": []
  },
  {
   "cell_type": "code",
   "execution_count": 11,
   "id": "a911e5a0",
   "metadata": {},
   "outputs": [],
   "source": [
    "\n",
    "fn main() {\n",
    "    let interest:f32=8.0;// integer assigned to float variable \n",
    "    println!(\"interest is {}\",interest);\n",
    "}"
   ]
  },
  {
   "cell_type": "code",
   "execution_count": 12,
   "id": "67762f61",
   "metadata": {},
   "outputs": [
    {
     "name": "stdout",
     "output_type": "stream",
     "text": [
      "interest is 8\n"
     ]
    },
    {
     "data": {
      "text/plain": [
       "()"
      ]
     },
     "execution_count": 12,
     "metadata": {},
     "output_type": "execute_result"
    }
   ],
   "source": [
    "main()"
   ]
  },
  {
   "cell_type": "code",
   "execution_count": null,
   "id": "5d30bb0a",
   "metadata": {},
   "outputs": [],
   "source": []
  },
  {
   "cell_type": "code",
   "execution_count": 13,
   "id": "7cb08858",
   "metadata": {},
   "outputs": [],
   "source": [
    "fn main() {\n",
    "    let isfun:bool = true;\n",
    "    println!(\"Is Rust Programming Fun ? {}\",isfun);\n",
    "}"
   ]
  },
  {
   "cell_type": "code",
   "execution_count": 14,
   "id": "9ff6cbf7",
   "metadata": {},
   "outputs": [
    {
     "name": "stdout",
     "output_type": "stream",
     "text": [
      "Is Rust Programming Fun ? true\n"
     ]
    },
    {
     "data": {
      "text/plain": [
       "()"
      ]
     },
     "execution_count": 14,
     "metadata": {},
     "output_type": "execute_result"
    }
   ],
   "source": [
    "main()"
   ]
  },
  {
   "cell_type": "code",
   "execution_count": null,
   "id": "9ba12f90",
   "metadata": {},
   "outputs": [],
   "source": []
  },
  {
   "cell_type": "code",
   "execution_count": 15,
   "id": "ccac4142",
   "metadata": {},
   "outputs": [],
   "source": [
    "fn main() {\n",
    "    let special_character = '@'; //default\n",
    "    let alphabet:char = 'A';\n",
    "    let emoji:char = '😁';\n",
    "    println!(\"special character is {}\",special_character); \n",
    "    println!(\"alphabet is {}\",alphabet);\n",
    "    println!(\"emoji is {}\",emoji);\n",
    "}"
   ]
  },
  {
   "cell_type": "code",
   "execution_count": 16,
   "id": "7df3befe",
   "metadata": {},
   "outputs": [
    {
     "name": "stdout",
     "output_type": "stream",
     "text": [
      "special character is @\n",
      "alphabet is A\n",
      "emoji is 😁\n"
     ]
    },
    {
     "data": {
      "text/plain": [
       "()"
      ]
     },
     "execution_count": 16,
     "metadata": {},
     "output_type": "execute_result"
    }
   ],
   "source": [
    "main()"
   ]
  },
  {
   "cell_type": "code",
   "execution_count": null,
   "id": "cfa6efc5",
   "metadata": {},
   "outputs": [],
   "source": []
  },
  {
   "cell_type": "code",
   "execution_count": null,
   "id": "c9955049",
   "metadata": {},
   "outputs": [],
   "source": []
  },
  {
   "cell_type": "code",
   "execution_count": null,
   "id": "5c3883b4",
   "metadata": {},
   "outputs": [],
   "source": []
  }
 ],
 "metadata": {
  "kernelspec": {
   "display_name": "Rust",
   "language": "rust",
   "name": "rust"
  },
  "language_info": {
   "codemirror_mode": "rust",
   "file_extension": ".rs",
   "mimetype": "text/rust",
   "name": "Rust",
   "pygment_lexer": "rust",
   "version": ""
  }
 },
 "nbformat": 4,
 "nbformat_minor": 5
}
