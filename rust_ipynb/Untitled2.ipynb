{
 "cells": [
  {
   "cell_type": "markdown",
   "id": "db599e63",
   "metadata": {},
   "source": [
    "## 변수  정의 방식 \n",
    "\n",
    "- 객체에 대한 불변 오너십을 가지는 변수: let name = \"lee\";\n",
    "- 객체에 대해 가변 오너십을 가지는 변수: let mut mutname = String::new;"
   ]
  },
  {
   "cell_type": "code",
   "execution_count": null,
   "id": "45bd0955",
   "metadata": {},
   "outputs": [],
   "source": []
  },
  {
   "cell_type": "code",
   "execution_count": null,
   "id": "d41fe0bb",
   "metadata": {},
   "outputs": [],
   "source": []
  },
  {
   "cell_type": "markdown",
   "id": "8743a2be",
   "metadata": {},
   "source": [
    "##  대여 정의 방식 \n",
    "\n",
    "- 객체에 대해 불변 참조를 가지는 변수: let othername = &name;\n",
    "- 객체에 대해 가변 참조를 가지는 변수: let othermut = &mut mutname;\n"
   ]
  },
  {
   "cell_type": "markdown",
   "id": "08f31ec6",
   "metadata": {},
   "source": []
  },
  {
   "cell_type": "markdown",
   "id": "34aab570",
   "metadata": {},
   "source": [
    "\n",
    "\n",
    "- 가변 변수는 가변 참조 변수에 빌려주고 나면 같은 범위에서는 사용할 수 없습니다. \n",
    "   동일 범위 안에 같은 객체에 대한 두 개 이상의 가변 변수가 생기면 안 됩니다. 이것을 write-write 충돌이 금지되는 것으로 이해할 수 있습니다.\n",
    "- 변수에 대해 불변 참조는 여러 개 생길 수 있습니다. \n",
    "   그러나 불변 참조가 생기고 나면 그 변수를 바꾸거나 가변 참조를 생성할 수 없습니다. read-wirte 충돌에 해당합니다. \n",
    "    즉 다른 변수가 읽기 권한을 가지고 있는데 데이터를 바꾸면 dirty-read가 될 수 있다는 것입니다.\n",
    "- 가변 참조가 동시에 여러 개 생길 수 없습니다. \n",
    "   가변 참조가 생기면 그것의 범위가 종료하기 전에는 가변 참조를 또 만들 수 없습니다.\n",
    "- 가변 변수에 대해 불변 참조를 만드는 것은 문제 없지만, 불변 변수에 대해 가변 참조를 만들 수는 없습니다.\n"
   ]
  },
  {
   "cell_type": "code",
   "execution_count": null,
   "id": "b43c8e26",
   "metadata": {},
   "outputs": [],
   "source": []
  }
 ],
 "metadata": {
  "kernelspec": {
   "display_name": "Python 3 (ipykernel)",
   "language": "python",
   "name": "python3"
  },
  "language_info": {
   "codemirror_mode": {
    "name": "ipython",
    "version": 3
   },
   "file_extension": ".py",
   "mimetype": "text/x-python",
   "name": "python",
   "nbconvert_exporter": "python",
   "pygments_lexer": "ipython3",
   "version": "3.10.5"
  }
 },
 "nbformat": 4,
 "nbformat_minor": 5
}
