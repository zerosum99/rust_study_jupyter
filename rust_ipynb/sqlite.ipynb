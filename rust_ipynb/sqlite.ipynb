{
 "cells": [
  {
   "cell_type": "markdown",
   "id": "fc4a9150",
   "metadata": {},
   "source": [
    "## 참조자료 \n",
    "\n",
    "https://crates.io/crates/sqlite"
   ]
  },
  {
   "cell_type": "code",
   "execution_count": 2,
   "id": "b70e3be8",
   "metadata": {},
   "outputs": [],
   "source": [
    ":dep sqlite = { version = \"0.27.0\" }"
   ]
  },
  {
   "cell_type": "code",
   "execution_count": 3,
   "id": "a6f795a7",
   "metadata": {},
   "outputs": [],
   "source": [
    "extern crate sqlite;"
   ]
  },
  {
   "cell_type": "code",
   "execution_count": 14,
   "id": "795b218f",
   "metadata": {},
   "outputs": [
    {
     "name": "stdout",
     "output_type": "stream",
     "text": [
      "name = Alice\n",
      "age = 42\n",
      "name = Bob\n",
      "age = 69\n"
     ]
    }
   ],
   "source": [
    "let connection = sqlite::open(\":memory:\").unwrap();\n",
    "\n",
    "connection\n",
    "    .execute(\n",
    "        \"\n",
    "        CREATE TABLE users (name TEXT, age INTEGER);\n",
    "        INSERT INTO users VALUES ('Alice', 42);\n",
    "        INSERT INTO users VALUES ('Bob', 69);\n",
    "        \",\n",
    "    )\n",
    "    .unwrap();\n",
    "\n",
    "connection\n",
    "    .iterate(\"SELECT * FROM users WHERE age > 40\", |pairs| {\n",
    "        for &(column, value) in pairs.iter() {\n",
    "            println!(\"{} = {}\", column, value.unwrap());\n",
    "        }\n",
    "        true\n",
    "    })\n",
    "    .unwrap();"
   ]
  },
  {
   "cell_type": "code",
   "execution_count": null,
   "id": "c32f4755",
   "metadata": {},
   "outputs": [],
   "source": []
  }
 ],
 "metadata": {
  "kernelspec": {
   "display_name": "Rust",
   "language": "rust",
   "name": "rust"
  },
  "language_info": {
   "codemirror_mode": "rust",
   "file_extension": ".rs",
   "mimetype": "text/rust",
   "name": "Rust",
   "pygment_lexer": "rust",
   "version": ""
  }
 },
 "nbformat": 4,
 "nbformat_minor": 5
}
