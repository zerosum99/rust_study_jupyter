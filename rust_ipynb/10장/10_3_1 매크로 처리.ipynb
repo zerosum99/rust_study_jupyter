{
 "cells": [
  {
   "cell_type": "markdown",
   "id": "1f14b525",
   "metadata": {},
   "source": [
    "## 매크로 만들기 \n",
    "\n",
    "- macro_rules!는 단순한 매크로를 만드는 데 사용되며, proc_macro은 더 복잡한 매크로를 만드는 데 사용됩니다. 하지만 proc_macro을 사용하면 런타임 오버헤드가 발생할 수 있으므로, 가능한 경우에는 macro_rules!를 사용하는 것이 좋습니다.\n"
   ]
  },
  {
   "cell_type": "markdown",
   "id": "cd6384ed",
   "metadata": {},
   "source": [
    "## 1. macro_rules! 매크로를 사용하여 함수 정의하기\n",
    "\n",
    "- macro_rules! 매크로는 패턴 매칭(pattern matching)을 사용하여 코드를 생성합니다. "
   ]
  },
  {
   "cell_type": "markdown",
   "id": "3da1a2a6",
   "metadata": {},
   "source": [
    "### 매크로 규칙 \n",
    "\n",
    "- macro_rules! 키워드: 매크로를 정의하는 키워드입니다.\n",
    "- 매크로 이름: 매크로의 이름입니다. 함수 호출과 비슷하게 호출할 때 사용됩니다.\n",
    "- 매개변수 패턴: 매크로에 전달되는 매개변수의 패턴입니다. 패턴은 $ 기호로 시작하는 매개변수 이름으로 구성됩니다.\n",
    "- 패턴 규칙: 매크로에서 생성할 코드의 규칙입니다. 패턴 매칭을 사용하여 코드를 생성할 수 있습니다. 패턴 규칙은 => 기호 다음에 작성됩니다.\n",
    "- 코드: 패턴 규칙에 따라 생성할 코드입니다."
   ]
  },
  {
   "cell_type": "code",
   "execution_count": null,
   "id": "a940c3a2",
   "metadata": {},
   "outputs": [],
   "source": []
  },
  {
   "cell_type": "markdown",
   "id": "27223355",
   "metadata": {},
   "source": [
    "## 매크로 정의 \n",
    "\n",
    "- macro_rules! 매크로 규칙을 사용하여 add_two! 매크로를 정의합니다. \n",
    "- 이 매크로는 입력 매개변수 ($x:expr)를 가지며, $x에 대한 표현식을 입력으로 받습니다.\n",
    "- 매크로 규칙의 정의는 ($x:expr) => ($x + 2)이며, 입력 매개변수 $x에 2를 더한 결과를 반환합니다."
   ]
  },
  {
   "cell_type": "code",
   "execution_count": 2,
   "id": "3581e33c",
   "metadata": {},
   "outputs": [],
   "source": [
    "macro_rules! add {\n",
    "    ($x:expr, $y:expr) => {\n",
    "        $x + $y\n",
    "    };\n",
    "}"
   ]
  },
  {
   "cell_type": "markdown",
   "id": "58fb6ad2",
   "metadata": {},
   "source": [
    "### 정의된 매크로 사용\n",
    "\n",
    "- 매크로 이름 + ! 를 붙여서 매크로 호출 "
   ]
  },
  {
   "cell_type": "code",
   "execution_count": 3,
   "id": "ce760a53",
   "metadata": {},
   "outputs": [],
   "source": [
    "fn main() {\n",
    "    let result = add!(1 + 2, 3 + 4);\n",
    "    println!(\"Result: {}\", result);\n",
    "}"
   ]
  },
  {
   "cell_type": "code",
   "execution_count": 4,
   "id": "e5dfe51a",
   "metadata": {},
   "outputs": [
    {
     "name": "stdout",
     "output_type": "stream",
     "text": [
      "Result: 10\n"
     ]
    }
   ],
   "source": [
    "main();"
   ]
  },
  {
   "cell_type": "code",
   "execution_count": null,
   "id": "ade3d9a2",
   "metadata": {},
   "outputs": [],
   "source": []
  },
  {
   "cell_type": "code",
   "execution_count": 3,
   "id": "e7ee3089",
   "metadata": {},
   "outputs": [],
   "source": [
    "macro_rules! add_two {\n",
    "    ($x:expr) => ($x + 2);\n",
    "}"
   ]
  },
  {
   "cell_type": "code",
   "execution_count": null,
   "id": "3734e830",
   "metadata": {},
   "outputs": [],
   "source": []
  },
  {
   "cell_type": "code",
   "execution_count": 10,
   "id": "c9643523",
   "metadata": {},
   "outputs": [],
   "source": [
    "fn main() {\n",
    "    let x = 1;\n",
    "    println!(\"{} + 2 = {}\", x, add_two!(x));\n",
    "    \n",
    "}"
   ]
  },
  {
   "cell_type": "code",
   "execution_count": 11,
   "id": "a2e1a730",
   "metadata": {},
   "outputs": [
    {
     "name": "stdout",
     "output_type": "stream",
     "text": [
      "1 + 2 = 3\n"
     ]
    }
   ],
   "source": [
    "main();"
   ]
  },
  {
   "cell_type": "code",
   "execution_count": null,
   "id": "34cbf4ea",
   "metadata": {},
   "outputs": [],
   "source": []
  },
  {
   "cell_type": "code",
   "execution_count": 12,
   "id": "4755c505",
   "metadata": {},
   "outputs": [],
   "source": [
    "macro_rules! add {\n",
    "    ($x:expr, $y:expr) => {\n",
    "        $x + $y\n",
    "    };\n",
    "}"
   ]
  },
  {
   "cell_type": "code",
   "execution_count": 14,
   "id": "ea52aeb3",
   "metadata": {},
   "outputs": [
    {
     "name": "stdout",
     "output_type": "stream",
     "text": [
      "3 + 4 = 7\n"
     ]
    }
   ],
   "source": [
    "\n",
    "let a = 3;\n",
    "let b = 4;\n",
    "println!(\"{} + {} = {}\", a, b, add!(a, b));\n"
   ]
  },
  {
   "cell_type": "code",
   "execution_count": null,
   "id": "b8e006f7",
   "metadata": {},
   "outputs": [],
   "source": []
  },
  {
   "cell_type": "markdown",
   "id": "06bb1b4b",
   "metadata": {},
   "source": [
    "## 변수를 출력하는 매크로"
   ]
  },
  {
   "cell_type": "code",
   "execution_count": 6,
   "id": "1377b2f8",
   "metadata": {},
   "outputs": [],
   "source": [
    "macro_rules! print_var {\n",
    "    ($var:expr) => {\n",
    "        println!(\"{} = {:?}\", stringify!($var), $var);\n",
    "    };\n",
    "}\n",
    "\n",
    "fn main() {\n",
    "    let x = 10;\n",
    "    let y = \"Hello\";\n",
    "    print_var!(x);\n",
    "    print_var!(y);\n",
    "}"
   ]
  },
  {
   "cell_type": "code",
   "execution_count": 7,
   "id": "9991d4fb",
   "metadata": {},
   "outputs": [
    {
     "name": "stdout",
     "output_type": "stream",
     "text": [
      "x = 10\n",
      "y = \"Hello\"\n"
     ]
    }
   ],
   "source": [
    "main();"
   ]
  },
  {
   "cell_type": "markdown",
   "id": "58853d8e",
   "metadata": {},
   "source": [
    "## 벡터를 초기화하는 매크로 "
   ]
  },
  {
   "cell_type": "code",
   "execution_count": 9,
   "id": "4cad0f2f",
   "metadata": {},
   "outputs": [],
   "source": [
    "macro_rules! init_vec {\n",
    "    ($elem:expr; $n:expr) => {\n",
    "        vec![$elem; $n]\n",
    "    };\n",
    "}\n",
    "\n",
    "fn main() {\n",
    "    let v = init_vec!(0; 10);\n",
    "    println!(\"v = {:?}\", v);\n",
    "}"
   ]
  },
  {
   "cell_type": "code",
   "execution_count": 10,
   "id": "b1a0d5ff",
   "metadata": {},
   "outputs": [
    {
     "name": "stdout",
     "output_type": "stream",
     "text": [
      "v = [0, 0, 0, 0, 0, 0, 0, 0, 0, 0]\n"
     ]
    }
   ],
   "source": [
    "main();"
   ]
  },
  {
   "cell_type": "markdown",
   "id": "82fad532",
   "metadata": {},
   "source": [
    "## 두 변수를 교환하는 매크로 "
   ]
  },
  {
   "cell_type": "code",
   "execution_count": 11,
   "id": "59d2199e",
   "metadata": {},
   "outputs": [],
   "source": [
    "macro_rules! swap {\n",
    "    ($a:expr, $b:expr) => {\n",
    "        let temp = $a;\n",
    "        $a = $b;\n",
    "        $b = temp;\n",
    "    };\n",
    "}\n",
    "\n",
    "fn main() {\n",
    "    let mut x = 10;\n",
    "    let mut y = 20;\n",
    "    swap!(x, y);\n",
    "    println!(\"x = {}, y = {}\", x, y);\n",
    "}"
   ]
  },
  {
   "cell_type": "code",
   "execution_count": 12,
   "id": "57a6e8b8",
   "metadata": {},
   "outputs": [
    {
     "name": "stdout",
     "output_type": "stream",
     "text": [
      "x = 20, y = 10\n"
     ]
    }
   ],
   "source": [
    "main();"
   ]
  },
  {
   "cell_type": "markdown",
   "id": "79fbddbd",
   "metadata": {},
   "source": [
    "## for 순환을 처리하는 매크로"
   ]
  },
  {
   "cell_type": "code",
   "execution_count": null,
   "id": "fedf4219",
   "metadata": {},
   "outputs": [],
   "source": []
  }
 ],
 "metadata": {
  "kernelspec": {
   "display_name": "Rust",
   "language": "rust",
   "name": "rust"
  },
  "language_info": {
   "codemirror_mode": "rust",
   "file_extension": ".rs",
   "mimetype": "text/rust",
   "name": "Rust",
   "pygment_lexer": "rust",
   "version": ""
  }
 },
 "nbformat": 4,
 "nbformat_minor": 5
}
