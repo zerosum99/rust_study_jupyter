{
 "cells": [
  {
   "cell_type": "markdown",
   "id": "1f14b525",
   "metadata": {},
   "source": [
    "## 매크로 만들기 \n",
    "\n",
    "- macro_rules!는 단순한 매크로를 만드는 데 사용되며, proc_macro은 더 복잡한 매크로를 만드는 데 사용됩니다. 하지만 proc_macro을 사용하면 런타임 오버헤드가 발생할 수 있으므로, 가능한 경우에는 macro_rules!를 사용하는 것이 좋습니다.\n"
   ]
  },
  {
   "cell_type": "markdown",
   "id": "0d739d31",
   "metadata": {},
   "source": [
    "## 1. macro_rules! 매크로를 사용하여 함수 정의하기\n",
    "\n",
    "- macro_rules! 매크로는 패턴 매칭(pattern matching)을 사용하여 코드를 생성합니다. "
   ]
  },
  {
   "cell_type": "code",
   "execution_count": null,
   "id": "9f5cac98",
   "metadata": {},
   "outputs": [],
   "source": [
    "### 매크로 규칙 \n",
    "\n",
    "- 매크로 이름: 매크로의 이름입니다. 함수 호출과 비슷하게 호출할 때 사용됩니다.\n",
    "- 매개변수 패턴: 매크로에 전달되는 매개변수의 패턴입니다. 패턴은 $ 기호로 시작하는 매개변수 이름으로 구성됩니다.\n",
    "패턴 규칙: 매크로에서 생성할 코드의 규칙입니다. 패턴 매칭을 사용하여 코드를 생성할 수 있습니다. 패턴 규칙은 => 기호 다음에 작성됩니다.\n",
    "코드: 패턴 규칙에 따라 생성할 코드입니다."
   ]
  },
  {
   "cell_type": "code",
   "execution_count": null,
   "id": "6fd630fa",
   "metadata": {},
   "outputs": [],
   "source": []
  },
  {
   "cell_type": "markdown",
   "id": "27223355",
   "metadata": {},
   "source": [
    "## 매크로 정의 \n",
    "\n",
    "- macro_rules! 매크로 규칙을 사용하여 add_two! 매크로를 정의합니다. \n",
    "- 이 매크로는 입력 매개변수 ($x:expr)를 가지며, $x에 대한 표현식을 입력으로 받습니다.\n",
    "- 매크로 규칙의 정의는 ($x:expr) => ($x + 2)이며, 입력 매개변수 $x에 2를 더한 결과를 반환합니다."
   ]
  },
  {
   "cell_type": "code",
   "execution_count": 2,
   "id": "2554c821",
   "metadata": {},
   "outputs": [],
   "source": [
    "macro_rules! add {\n",
    "    ($x:expr, $y:expr) => {\n",
    "        $x + $y\n",
    "    };\n",
    "}"
   ]
  },
  {
   "cell_type": "markdown",
   "id": "8a5ceebf",
   "metadata": {},
   "source": [
    "### 정의된 매크로 사용\n",
    "\n",
    "- 매크로 이름 + ! 를 붙여서 매크로 호출 "
   ]
  },
  {
   "cell_type": "code",
   "execution_count": 3,
   "id": "6f05a9db",
   "metadata": {},
   "outputs": [],
   "source": [
    "fn main() {\n",
    "    let result = add!(1 + 2, 3 + 4);\n",
    "    println!(\"Result: {}\", result);\n",
    "}"
   ]
  },
  {
   "cell_type": "code",
   "execution_count": 4,
   "id": "91f3bc34",
   "metadata": {},
   "outputs": [
    {
     "name": "stdout",
     "output_type": "stream",
     "text": [
      "Result: 10\n"
     ]
    }
   ],
   "source": [
    "main();"
   ]
  },
  {
   "cell_type": "code",
   "execution_count": null,
   "id": "417fd24c",
   "metadata": {},
   "outputs": [],
   "source": []
  },
  {
   "cell_type": "code",
   "execution_count": 3,
   "id": "e7ee3089",
   "metadata": {},
   "outputs": [],
   "source": [
    "macro_rules! add_two {\n",
    "    ($x:expr) => ($x + 2);\n",
    "}"
   ]
  },
  {
   "cell_type": "code",
   "execution_count": null,
   "id": "3734e830",
   "metadata": {},
   "outputs": [],
   "source": []
  },
  {
   "cell_type": "code",
   "execution_count": 10,
   "id": "c9643523",
   "metadata": {},
   "outputs": [],
   "source": [
    "fn main() {\n",
    "    let x = 1;\n",
    "    println!(\"{} + 2 = {}\", x, add_two!(x));\n",
    "    \n",
    "}"
   ]
  },
  {
   "cell_type": "code",
   "execution_count": 11,
   "id": "a2e1a730",
   "metadata": {},
   "outputs": [
    {
     "name": "stdout",
     "output_type": "stream",
     "text": [
      "1 + 2 = 3\n"
     ]
    }
   ],
   "source": [
    "main();"
   ]
  },
  {
   "cell_type": "code",
   "execution_count": null,
   "id": "34cbf4ea",
   "metadata": {},
   "outputs": [],
   "source": []
  },
  {
   "cell_type": "code",
   "execution_count": 12,
   "id": "4755c505",
   "metadata": {},
   "outputs": [],
   "source": [
    "macro_rules! add {\n",
    "    ($x:expr, $y:expr) => {\n",
    "        $x + $y\n",
    "    };\n",
    "}"
   ]
  },
  {
   "cell_type": "code",
   "execution_count": 14,
   "id": "ea52aeb3",
   "metadata": {},
   "outputs": [
    {
     "name": "stdout",
     "output_type": "stream",
     "text": [
      "3 + 4 = 7\n"
     ]
    }
   ],
   "source": [
    "\n",
    "let a = 3;\n",
    "let b = 4;\n",
    "println!(\"{} + {} = {}\", a, b, add!(a, b));\n"
   ]
  },
  {
   "cell_type": "code",
   "execution_count": null,
   "id": "b8e006f7",
   "metadata": {},
   "outputs": [],
   "source": []
  },
  {
   "cell_type": "code",
   "execution_count": null,
   "id": "40bc1411",
   "metadata": {},
   "outputs": [],
   "source": []
  },
  {
   "cell_type": "markdown",
   "id": "e6c3efb7",
   "metadata": {},
   "source": [
    "## proc_macro :\n",
    "\n",
    "- proc_macro 매크로는 함수와 비슷하게 동작하며, 컴파일 타임에서 코드를 분석하고 생성합니다. \n",
    "\n",
    "- Rust 1.15 이후 버전에서 추가된 매크로 시스템으로, Rust의 컴파일러가 컴파일 타임에 실행하는 매크로를 작성할 수 있게 해줍니다.\n",
    "\n",
    "- proc_macro 매크로는 Rust의 attribute와 같은 언어 기능을 확장하는 데 사용됩니다. \n",
    "- 예를 들어, serde 라이브러리의 #[derive(Serialize, Deserialize)] attribute가 proc_macro 매크로를 사용하여 정의되어 있습니다."
   ]
  },
  {
   "cell_type": "code",
   "execution_count": null,
   "id": "58376d8f",
   "metadata": {},
   "outputs": [],
   "source": []
  },
  {
   "cell_type": "code",
   "execution_count": null,
   "id": "98f16605",
   "metadata": {},
   "outputs": [],
   "source": []
  },
  {
   "cell_type": "code",
   "execution_count": 5,
   "id": "e2a8092f",
   "metadata": {},
   "outputs": [
    {
     "ename": "Error",
     "evalue": "can't use a procedural macro from the same crate that defines it",
     "output_type": "error",
     "traceback": [
      "\u001b[31mError:\u001b[0m can't use a procedural macro from the same crate that defines it"
     ]
    },
    {
     "ename": "Error",
     "evalue": "the `#[proc_macro]` attribute is only usable with crates of the `proc-macro` crate type",
     "output_type": "error",
     "traceback": [
      "\u001b[31mError:\u001b[0m the `#[proc_macro]` attribute is only usable with crates of the `proc-macro` crate type",
      "   \u001b[38;5;246m╭\u001b[0m\u001b[38;5;246m─\u001b[0m\u001b[38;5;246m[\u001b[0mcommand_5:1:1\u001b[38;5;246m]\u001b[0m",
      "   \u001b[38;5;246m│\u001b[0m",
      " \u001b[38;5;246m4 │\u001b[0m \u001b[38;5;54m#\u001b[0m\u001b[38;5;54m[\u001b[0m\u001b[38;5;54mp\u001b[0m\u001b[38;5;54mr\u001b[0m\u001b[38;5;54mo\u001b[0m\u001b[38;5;54mc\u001b[0m\u001b[38;5;54m_\u001b[0m\u001b[38;5;54mm\u001b[0m\u001b[38;5;54ma\u001b[0m\u001b[38;5;54mc\u001b[0m\u001b[38;5;54mr\u001b[0m\u001b[38;5;54mo\u001b[0m\u001b[38;5;54m]\u001b[0m",
      " \u001b[38;5;246m  ·\u001b[0m \u001b[38;5;54m─\u001b[0m\u001b[38;5;54m─\u001b[0m\u001b[38;5;54m─\u001b[0m\u001b[38;5;54m─\u001b[0m\u001b[38;5;54m─\u001b[0m\u001b[38;5;54m─\u001b[0m\u001b[38;5;54m┬\u001b[0m\u001b[38;5;54m─\u001b[0m\u001b[38;5;54m─\u001b[0m\u001b[38;5;54m─\u001b[0m\u001b[38;5;54m─\u001b[0m\u001b[38;5;54m─\u001b[0m\u001b[38;5;54m─\u001b[0m  ",
      " \u001b[38;5;246m  ·\u001b[0m       \u001b[38;5;54m╰\u001b[0m\u001b[38;5;54m─\u001b[0m\u001b[38;5;54m─\u001b[0m\u001b[38;5;54m─\u001b[0m\u001b[38;5;54m─\u001b[0m\u001b[38;5;54m─\u001b[0m\u001b[38;5;54m─\u001b[0m\u001b[38;5;54m─\u001b[0m\u001b[38;5;54m─\u001b[0m error: the `#[proc_macro]` attribute is only usable with crates of the `proc-macro` crate type",
      "\u001b[38;5;246m───╯\u001b[0m"
     ]
    },
    {
     "ename": "Error",
     "evalue": "unresolved import `proc_macro`",
     "output_type": "error",
     "traceback": [
      "\u001b[31m[E0432] Error:\u001b[0m unresolved import `proc_macro`"
     ]
    },
    {
     "ename": "Error",
     "evalue": "unresolved import `quote`",
     "output_type": "error",
     "traceback": [
      "\u001b[31m[E0432] Error:\u001b[0m unresolved import `quote`"
     ]
    },
    {
     "ename": "Error",
     "evalue": "cannot determine resolution for the macro `quote`",
     "output_type": "error",
     "traceback": [
      "\u001b[31mError:\u001b[0m cannot determine resolution for the macro `quote`",
      "   \u001b[38;5;246m╭\u001b[0m\u001b[38;5;246m─\u001b[0m\u001b[38;5;246m[\u001b[0mcommand_5:1:1\u001b[38;5;246m]\u001b[0m",
      "   \u001b[38;5;246m│\u001b[0m",
      " \u001b[38;5;246m7 │\u001b[0m \u001b[38;5;249m \u001b[0m\u001b[38;5;249m \u001b[0m\u001b[38;5;249m \u001b[0m\u001b[38;5;249m \u001b[0m\u001b[38;5;249ml\u001b[0m\u001b[38;5;249me\u001b[0m\u001b[38;5;249mt\u001b[0m\u001b[38;5;249m \u001b[0m\u001b[38;5;249mt\u001b[0m\u001b[38;5;249mo\u001b[0m\u001b[38;5;249mk\u001b[0m\u001b[38;5;249me\u001b[0m\u001b[38;5;249mn\u001b[0m\u001b[38;5;249ms\u001b[0m\u001b[38;5;249m \u001b[0m\u001b[38;5;249m=\u001b[0m\u001b[38;5;249m \u001b[0m\u001b[38;5;54mq\u001b[0m\u001b[38;5;54mu\u001b[0m\u001b[38;5;54mo\u001b[0m\u001b[38;5;54mt\u001b[0m\u001b[38;5;54me\u001b[0m\u001b[38;5;249m!\u001b[0m\u001b[38;5;249m \u001b[0m\u001b[38;5;249m{\u001b[0m",
      " \u001b[38;5;246m  ·\u001b[0m                  \u001b[38;5;54m─\u001b[0m\u001b[38;5;54m─\u001b[0m\u001b[38;5;54m┬\u001b[0m\u001b[38;5;54m─\u001b[0m\u001b[38;5;54m─\u001b[0m  ",
      " \u001b[38;5;246m  ·\u001b[0m                    \u001b[38;5;54m╰\u001b[0m\u001b[38;5;54m─\u001b[0m\u001b[38;5;54m─\u001b[0m\u001b[38;5;54m─\u001b[0m\u001b[38;5;54m─\u001b[0m error: cannot determine resolution for the macro `quote`",
      "\u001b[38;5;246m───╯\u001b[0m"
     ]
    }
   ],
   "source": [
    "use proc_macro::TokenStream;\n",
    "use quote::quote;\n",
    "\n",
    "#[proc_macro]\n",
    "pub fn add(input: TokenStream) -> TokenStream {\n",
    "    let input = input.to_string();\n",
    "    let tokens = quote! {\n",
    "        #input\n",
    "    };\n",
    "    tokens.into()\n",
    "}"
   ]
  },
  {
   "cell_type": "code",
   "execution_count": null,
   "id": "f48bde89",
   "metadata": {},
   "outputs": [],
   "source": [
    "fn main() {\n",
    "    let result = add!(1 + 2, 3 + 4);\n",
    "    println!(\"Result: {}\", result);\n",
    "}"
   ]
  },
  {
   "cell_type": "code",
   "execution_count": null,
   "id": "a82c17e5",
   "metadata": {},
   "outputs": [],
   "source": []
  }
 ],
 "metadata": {
  "kernelspec": {
   "display_name": "Rust",
   "language": "rust",
   "name": "rust"
  },
  "language_info": {
   "codemirror_mode": "rust",
   "file_extension": ".rs",
   "mimetype": "text/rust",
   "name": "Rust",
   "pygment_lexer": "rust",
   "version": ""
  }
 },
 "nbformat": 4,
 "nbformat_minor": 5
}
