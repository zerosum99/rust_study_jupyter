{
 "cells": [
  {
   "cell_type": "code",
   "execution_count": null,
   "id": "dccdaa40",
   "metadata": {},
   "outputs": [],
   "source": []
  },
  {
   "cell_type": "markdown",
   "id": "ddf070b1",
   "metadata": {},
   "source": [
    "## 러스트의 unsafe 키워드는 안전하지 않은 코드 블록을 표시합니다. \n",
    "\n",
    "안전하지 않은 코드는 러스트의 보안과 안정성을 위협할 수 있는 코드로서, 일반적으로 다음과 같은 상황에서 사용됩니다:\n",
    "\n",
    "\n",
    "- Raw Pointer 사용: 러스트의 안전성은 일부 포인터 연산에 대한 제한을 포함합니다. unsafe 키워드를 사용하여 원시 포인터를 생성하고 조작할 수 있습니다. 이를 통해 저수준 메모리 조작 작업 등을 수행할 수 있습니다.\n",
    "\n",
    "- 다른 언어와의 상호 운용성: 다른 언어와의 상호 운용성을 위해 러스트에서는 외부 함수 호출 등이 가능합니다. 하지만 이러한 연동성 작업은 일반적으로 불안전하며, unsafe 키워드를 사용하여 작성해야 합니다.\n",
    "\n",
    "- 컴파일러 최적화 방지: 러스트 컴파일러는 기본적으로 안전한 코드를 생성합니다. 그러나 몇몇 최적화 단계에서는 코드의 안전성을 가정하고 최적화할 수 있습니다. 따라서 최적화를 방지하기 위해 unsafe 키워드를 사용하여 안전한 코드임을 명시할 수 있습니다."
   ]
  },
  {
   "cell_type": "code",
   "execution_count": null,
   "id": "135b0268",
   "metadata": {},
   "outputs": [],
   "source": []
  },
  {
   "cell_type": "markdown",
   "id": "81b58230",
   "metadata": {},
   "source": [
    "## 전역변수의 갱신 "
   ]
  },
  {
   "cell_type": "code",
   "execution_count": 2,
   "id": "da67ac8f",
   "metadata": {},
   "outputs": [],
   "source": [
    "static mut GLOBAL_VAR: i32 = 0;\n",
    "\n",
    "fn main() {\n",
    "    unsafe {\n",
    "        GLOBAL_VAR += 1;\n",
    "        println!(\"The value of the global variable is: {}\", GLOBAL_VAR);\n",
    "    }\n",
    "}"
   ]
  },
  {
   "cell_type": "code",
   "execution_count": 3,
   "id": "15974510",
   "metadata": {},
   "outputs": [
    {
     "name": "stdout",
     "output_type": "stream",
     "text": [
      "The value of the global variable is: 1\n"
     ]
    }
   ],
   "source": [
    "main();"
   ]
  },
  {
   "cell_type": "code",
   "execution_count": null,
   "id": "69982e72",
   "metadata": {},
   "outputs": [],
   "source": []
  },
  {
   "cell_type": "markdown",
   "id": "bd23b0d6",
   "metadata": {},
   "source": [
    "## 원시 포인터 사용\n",
    "\n",
    "- 러스트에서 원시 포인터는 *const T와 *mut T 형식으로 나타납니다. \n",
    "- *const T는 T 형식의 불변 포인터를 나타내며, *mut T는 T 형식의 가변 포인터를 나타냅니다.\n"
   ]
  },
  {
   "cell_type": "markdown",
   "id": "5bc19117",
   "metadata": {},
   "source": [
    "### 원시 포인터 사용하기 \n",
    "\n",
    "- 예제에서는 x라는 변수를 생성하고, 이 변수의 포인터를 ptr 변수에 저장합니다. \n",
    "   이때, ptr 변수의 타입은 *mut i32로, i32 형식의 가변 포인터입니다.\n",
    "\n",
    "- offset() 메서드를 사용하여 ptr 변수에서 1만큼 떨어진 위치의 포인터인 new_ptr을 생성합니다. \n",
    "- 이때, offset() 메서드의 인수는 포인터가 이동할 바이트 수를 지정합니다. \n",
    "- i32 형식은 4바이트이므로, 이 예제에서는 offset(1)을 호출하여 포인터를 4바이트만큼 이동시킵니다.\n",
    "\n",
    "- * 연산자를 사용하여 new_ptr이 가리키는 값을 읽어와 value 변수에 저장합니다. \n",
    "- 이때, unsafe 블록을 사용하여 런타임에 안전성 검사가 수행되지 않도록 합니다."
   ]
  },
  {
   "cell_type": "code",
   "execution_count": 6,
   "id": "87bb5be8",
   "metadata": {},
   "outputs": [],
   "source": [
    "fn main() {\n",
    "    let mut x = 10;\n",
    "    let ptr = &mut x as *mut i32;\n",
    "    let new_ptr = unsafe { ptr.offset(1) };\n",
    "    let value = unsafe { *new_ptr };\n",
    "    println!(\"The value at offset 1 is: {}\", value);\n",
    "}"
   ]
  },
  {
   "cell_type": "code",
   "execution_count": 7,
   "id": "53209f2f",
   "metadata": {},
   "outputs": [
    {
     "name": "stdout",
     "output_type": "stream",
     "text": [
      "The value at offset 1 is: 0\n"
     ]
    }
   ],
   "source": [
    "main();"
   ]
  },
  {
   "cell_type": "markdown",
   "id": "8e8e95bb",
   "metadata": {},
   "source": [
    "### 원시포인터 사용하기 \n",
    "- arr.get_unchecked(2)는 get() 메서드와 비슷한 역할을 하지만, 안전하지 않은 코드입니다. \n",
    "- 이 메서드는 배열의 인덱스에 대한 경계 검사를 수행하지 않고, 주어진 인덱스에 해당하는 원소에 직접 접근합니다. \n",
    "- 따라서 이 메서드는 인덱스가 배열의 범위를 벗어날 경우 런타임 오류를 발생시킬 수 있습니다."
   ]
  },
  {
   "cell_type": "code",
   "execution_count": 4,
   "id": "4498a2d4",
   "metadata": {},
   "outputs": [],
   "source": [
    "fn main() {\n",
    "    let arr = [1, 2, 3, 4, 5];\n",
    "    let elem = unsafe { \n",
    "        *arr.get_unchecked(2) \n",
    "    };\n",
    "    println!(\"The third element of the array is: {}\", elem);\n",
    "}"
   ]
  },
  {
   "cell_type": "code",
   "execution_count": 5,
   "id": "c2863f7e",
   "metadata": {},
   "outputs": [
    {
     "name": "stdout",
     "output_type": "stream",
     "text": [
      "The third element of the array is: 3\n"
     ]
    }
   ],
   "source": [
    "main();"
   ]
  },
  {
   "cell_type": "code",
   "execution_count": null,
   "id": "f2f2e5b9",
   "metadata": {},
   "outputs": [],
   "source": []
  }
 ],
 "metadata": {
  "kernelspec": {
   "display_name": "Rust",
   "language": "rust",
   "name": "rust"
  },
  "language_info": {
   "codemirror_mode": "rust",
   "file_extension": ".rs",
   "mimetype": "text/rust",
   "name": "Rust",
   "pygment_lexer": "rust",
   "version": ""
  }
 },
 "nbformat": 4,
 "nbformat_minor": 5
}
