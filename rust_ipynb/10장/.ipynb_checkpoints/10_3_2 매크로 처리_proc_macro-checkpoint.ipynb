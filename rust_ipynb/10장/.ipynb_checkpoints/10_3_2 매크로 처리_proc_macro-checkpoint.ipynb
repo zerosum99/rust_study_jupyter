{
 "cells": [
  {
   "cell_type": "markdown",
   "id": "1f14b525",
   "metadata": {},
   "source": [
    "## 매크로 만들기 \n",
    "\n",
    "- macro_rules!는 단순한 매크로를 만드는 데 사용되며, proc_macro은 더 복잡한 매크로를 만드는 데 사용됩니다. 하지만 proc_macro을 사용하면 런타임 오버헤드가 발생할 수 있으므로, 가능한 경우에는 macro_rules!를 사용하는 것이 좋습니다.\n"
   ]
  },
  {
   "cell_type": "code",
   "execution_count": null,
   "id": "b8e006f7",
   "metadata": {},
   "outputs": [],
   "source": []
  },
  {
   "cell_type": "code",
   "execution_count": null,
   "id": "40bc1411",
   "metadata": {},
   "outputs": [],
   "source": []
  },
  {
   "cell_type": "markdown",
   "id": "e6c3efb7",
   "metadata": {},
   "source": [
    "## 2. proc_macro :\n",
    "\n",
    "- proc_macro 매크로는 함수와 비슷하게 동작하며, 컴파일 타임에서 코드를 분석하고 생성합니다. \n",
    "\n",
    "- Rust 1.15 이후 버전에서 추가된 매크로 시스템으로, Rust의 컴파일러가 컴파일 타임에 실행하는 매크로를 작성할 수 있게 해줍니다.\n",
    "\n",
    "- proc_macro 매크로는 Rust의 attribute와 같은 언어 기능을 확장하는 데 사용됩니다. \n",
    "- 예를 들어, serde 라이브러리의 #[derive(Serialize, Deserialize)] attribute가 proc_macro 매크로를 사용하여 정의되어 있습니다."
   ]
  },
  {
   "cell_type": "code",
   "execution_count": null,
   "id": "f6c00816",
   "metadata": {},
   "outputs": [],
   "source": []
  },
  {
   "cell_type": "code",
   "execution_count": null,
   "id": "08b754fc",
   "metadata": {},
   "outputs": [],
   "source": []
  },
  {
   "cell_type": "code",
   "execution_count": 5,
   "id": "e2a8092f",
   "metadata": {},
   "outputs": [
    {
     "ename": "Error",
     "evalue": "can't use a procedural macro from the same crate that defines it",
     "output_type": "error",
     "traceback": [
      "\u001b[31mError:\u001b[0m can't use a procedural macro from the same crate that defines it"
     ]
    },
    {
     "ename": "Error",
     "evalue": "the `#[proc_macro]` attribute is only usable with crates of the `proc-macro` crate type",
     "output_type": "error",
     "traceback": [
      "\u001b[31mError:\u001b[0m the `#[proc_macro]` attribute is only usable with crates of the `proc-macro` crate type",
      "   \u001b[38;5;246m╭\u001b[0m\u001b[38;5;246m─\u001b[0m\u001b[38;5;246m[\u001b[0mcommand_5:1:1\u001b[38;5;246m]\u001b[0m",
      "   \u001b[38;5;246m│\u001b[0m",
      " \u001b[38;5;246m4 │\u001b[0m \u001b[38;5;54m#\u001b[0m\u001b[38;5;54m[\u001b[0m\u001b[38;5;54mp\u001b[0m\u001b[38;5;54mr\u001b[0m\u001b[38;5;54mo\u001b[0m\u001b[38;5;54mc\u001b[0m\u001b[38;5;54m_\u001b[0m\u001b[38;5;54mm\u001b[0m\u001b[38;5;54ma\u001b[0m\u001b[38;5;54mc\u001b[0m\u001b[38;5;54mr\u001b[0m\u001b[38;5;54mo\u001b[0m\u001b[38;5;54m]\u001b[0m",
      " \u001b[38;5;246m  ·\u001b[0m \u001b[38;5;54m─\u001b[0m\u001b[38;5;54m─\u001b[0m\u001b[38;5;54m─\u001b[0m\u001b[38;5;54m─\u001b[0m\u001b[38;5;54m─\u001b[0m\u001b[38;5;54m─\u001b[0m\u001b[38;5;54m┬\u001b[0m\u001b[38;5;54m─\u001b[0m\u001b[38;5;54m─\u001b[0m\u001b[38;5;54m─\u001b[0m\u001b[38;5;54m─\u001b[0m\u001b[38;5;54m─\u001b[0m\u001b[38;5;54m─\u001b[0m  ",
      " \u001b[38;5;246m  ·\u001b[0m       \u001b[38;5;54m╰\u001b[0m\u001b[38;5;54m─\u001b[0m\u001b[38;5;54m─\u001b[0m\u001b[38;5;54m─\u001b[0m\u001b[38;5;54m─\u001b[0m\u001b[38;5;54m─\u001b[0m\u001b[38;5;54m─\u001b[0m\u001b[38;5;54m─\u001b[0m\u001b[38;5;54m─\u001b[0m error: the `#[proc_macro]` attribute is only usable with crates of the `proc-macro` crate type",
      "\u001b[38;5;246m───╯\u001b[0m"
     ]
    },
    {
     "ename": "Error",
     "evalue": "unresolved import `proc_macro`",
     "output_type": "error",
     "traceback": [
      "\u001b[31m[E0432] Error:\u001b[0m unresolved import `proc_macro`"
     ]
    },
    {
     "ename": "Error",
     "evalue": "unresolved import `quote`",
     "output_type": "error",
     "traceback": [
      "\u001b[31m[E0432] Error:\u001b[0m unresolved import `quote`"
     ]
    },
    {
     "ename": "Error",
     "evalue": "cannot determine resolution for the macro `quote`",
     "output_type": "error",
     "traceback": [
      "\u001b[31mError:\u001b[0m cannot determine resolution for the macro `quote`",
      "   \u001b[38;5;246m╭\u001b[0m\u001b[38;5;246m─\u001b[0m\u001b[38;5;246m[\u001b[0mcommand_5:1:1\u001b[38;5;246m]\u001b[0m",
      "   \u001b[38;5;246m│\u001b[0m",
      " \u001b[38;5;246m7 │\u001b[0m \u001b[38;5;249m \u001b[0m\u001b[38;5;249m \u001b[0m\u001b[38;5;249m \u001b[0m\u001b[38;5;249m \u001b[0m\u001b[38;5;249ml\u001b[0m\u001b[38;5;249me\u001b[0m\u001b[38;5;249mt\u001b[0m\u001b[38;5;249m \u001b[0m\u001b[38;5;249mt\u001b[0m\u001b[38;5;249mo\u001b[0m\u001b[38;5;249mk\u001b[0m\u001b[38;5;249me\u001b[0m\u001b[38;5;249mn\u001b[0m\u001b[38;5;249ms\u001b[0m\u001b[38;5;249m \u001b[0m\u001b[38;5;249m=\u001b[0m\u001b[38;5;249m \u001b[0m\u001b[38;5;54mq\u001b[0m\u001b[38;5;54mu\u001b[0m\u001b[38;5;54mo\u001b[0m\u001b[38;5;54mt\u001b[0m\u001b[38;5;54me\u001b[0m\u001b[38;5;249m!\u001b[0m\u001b[38;5;249m \u001b[0m\u001b[38;5;249m{\u001b[0m",
      " \u001b[38;5;246m  ·\u001b[0m                  \u001b[38;5;54m─\u001b[0m\u001b[38;5;54m─\u001b[0m\u001b[38;5;54m┬\u001b[0m\u001b[38;5;54m─\u001b[0m\u001b[38;5;54m─\u001b[0m  ",
      " \u001b[38;5;246m  ·\u001b[0m                    \u001b[38;5;54m╰\u001b[0m\u001b[38;5;54m─\u001b[0m\u001b[38;5;54m─\u001b[0m\u001b[38;5;54m─\u001b[0m\u001b[38;5;54m─\u001b[0m error: cannot determine resolution for the macro `quote`",
      "\u001b[38;5;246m───╯\u001b[0m"
     ]
    }
   ],
   "source": [
    "use proc_macro::TokenStream;\n",
    "use quote::quote;\n",
    "\n",
    "#[proc_macro]\n",
    "pub fn add(input: TokenStream) -> TokenStream {\n",
    "    let input = input.to_string();\n",
    "    let tokens = quote! {\n",
    "        #input\n",
    "    };\n",
    "    tokens.into()\n",
    "}"
   ]
  },
  {
   "cell_type": "code",
   "execution_count": null,
   "id": "005a35bf",
   "metadata": {},
   "outputs": [],
   "source": [
    "fn main() {\n",
    "    let result = add!(1 + 2, 3 + 4);\n",
    "    println!(\"Result: {}\", result);\n",
    "}"
   ]
  },
  {
   "cell_type": "code",
   "execution_count": null,
   "id": "26ab6049",
   "metadata": {},
   "outputs": [],
   "source": []
  }
 ],
 "metadata": {
  "kernelspec": {
   "display_name": "Rust",
   "language": "rust",
   "name": "rust"
  },
  "language_info": {
   "codemirror_mode": "rust",
   "file_extension": ".rs",
   "mimetype": "text/rust",
   "name": "Rust",
   "pygment_lexer": "rust",
   "version": ""
  }
 },
 "nbformat": 4,
 "nbformat_minor": 5
}
