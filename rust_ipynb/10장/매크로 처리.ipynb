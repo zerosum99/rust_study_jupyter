{
 "cells": [
  {
   "cell_type": "markdown",
   "id": "1f14b525",
   "metadata": {},
   "source": [
    "## 매크로 만들기 \n",
    "\n",
    "- macro_rules!는 단순한 매크로를 만드는 데 사용되며, proc_macro은 더 복잡한 매크로를 만드는 데 사용됩니다. 하지만 proc_macro을 사용하면 런타임 오버헤드가 발생할 수 있으므로, 가능한 경우에는 macro_rules!를 사용하는 것이 좋습니다.\n"
   ]
  },
  {
   "cell_type": "code",
   "execution_count": null,
   "id": "530dd4ae",
   "metadata": {},
   "outputs": [],
   "source": []
  },
  {
   "cell_type": "markdown",
   "id": "3ecdcd0e",
   "metadata": {},
   "source": [
    "##  macro_rules! : \n",
    "\n",
    "- Rust의 내장 매크로 규칙 시스템으로, 특정 문법 패턴에 대한 규칙을 정의하고 해당 패턴이 나타날 때 매크로를 확장하여 코드를 생성합니다.\n"
   ]
  },
  {
   "cell_type": "markdown",
   "id": "27223355",
   "metadata": {},
   "source": [
    "- macro_rules! 매크로 규칙을 사용하여 add_two! 매크로를 정의합니다. \n",
    "- 이 매크로는 입력 매개변수 ($x:expr)를 가지며, $x에 대한 표현식을 입력으로 받습니다.\n",
    "- 매크로 규칙의 정의는 ($x:expr) => ($x + 2)이며, 입력 매개변수 $x에 2를 더한 결과를 반환합니다."
   ]
  },
  {
   "cell_type": "code",
   "execution_count": 3,
   "id": "e7ee3089",
   "metadata": {},
   "outputs": [],
   "source": [
    "macro_rules! add_two {\n",
    "    ($x:expr) => ($x + 2);\n",
    "}"
   ]
  },
  {
   "cell_type": "code",
   "execution_count": null,
   "id": "3734e830",
   "metadata": {},
   "outputs": [],
   "source": []
  },
  {
   "cell_type": "code",
   "execution_count": 10,
   "id": "c9643523",
   "metadata": {},
   "outputs": [],
   "source": [
    "fn main() {\n",
    "    let x = 1;\n",
    "    println!(\"{} + 2 = {}\", x, add_two!(x));\n",
    "    \n",
    "}"
   ]
  },
  {
   "cell_type": "code",
   "execution_count": 11,
   "id": "a2e1a730",
   "metadata": {},
   "outputs": [
    {
     "name": "stdout",
     "output_type": "stream",
     "text": [
      "1 + 2 = 3\n"
     ]
    }
   ],
   "source": [
    "main();"
   ]
  },
  {
   "cell_type": "code",
   "execution_count": null,
   "id": "34cbf4ea",
   "metadata": {},
   "outputs": [],
   "source": []
  },
  {
   "cell_type": "code",
   "execution_count": 12,
   "id": "4755c505",
   "metadata": {},
   "outputs": [],
   "source": [
    "macro_rules! add {\n",
    "    ($x:expr, $y:expr) => {\n",
    "        $x + $y\n",
    "    };\n",
    "}"
   ]
  },
  {
   "cell_type": "code",
   "execution_count": 14,
   "id": "ea52aeb3",
   "metadata": {},
   "outputs": [
    {
     "name": "stdout",
     "output_type": "stream",
     "text": [
      "3 + 4 = 7\n"
     ]
    }
   ],
   "source": [
    "\n",
    "let a = 3;\n",
    "let b = 4;\n",
    "println!(\"{} + {} = {}\", a, b, add!(a, b));\n"
   ]
  },
  {
   "cell_type": "code",
   "execution_count": null,
   "id": "b8e006f7",
   "metadata": {},
   "outputs": [],
   "source": []
  },
  {
   "cell_type": "code",
   "execution_count": null,
   "id": "40bc1411",
   "metadata": {},
   "outputs": [],
   "source": []
  },
  {
   "cell_type": "markdown",
   "id": "e6c3efb7",
   "metadata": {},
   "source": [
    "## proc_macro :\n",
    "\n",
    "- Rust 1.15 이후 버전에서 추가된 매크로 시스템으로, Rust의 컴파일러가 컴파일 타임에 실행하는 매크로를 작성할 수 있게 해줍니다.\n",
    "\n",
    "- proc_macro 매크로는 Rust의 attribute와 같은 언어 기능을 확장하는 데 사용됩니다. \n",
    "- 예를 들어, serde 라이브러리의 #[derive(Serialize, Deserialize)] attribute가 proc_macro 매크로를 사용하여 정의되어 있습니다."
   ]
  },
  {
   "cell_type": "code",
   "execution_count": null,
   "id": "e2a8092f",
   "metadata": {},
   "outputs": [],
   "source": []
  }
 ],
 "metadata": {
  "kernelspec": {
   "display_name": "Rust",
   "language": "rust",
   "name": "rust"
  },
  "language_info": {
   "codemirror_mode": "rust",
   "file_extension": ".rs",
   "mimetype": "text/rust",
   "name": "Rust",
   "pygment_lexer": "rust",
   "version": ""
  }
 },
 "nbformat": 4,
 "nbformat_minor": 5
}
