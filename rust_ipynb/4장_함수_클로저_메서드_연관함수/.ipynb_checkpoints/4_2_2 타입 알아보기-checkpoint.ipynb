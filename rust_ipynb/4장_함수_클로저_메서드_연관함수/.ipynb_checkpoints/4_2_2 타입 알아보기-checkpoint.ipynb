{
 "cells": [
  {
   "cell_type": "code",
   "execution_count": null,
   "id": "358ac7dc",
   "metadata": {},
   "outputs": [],
   "source": []
  },
  {
   "cell_type": "markdown",
   "id": "3cb2e260",
   "metadata": {},
   "source": [
    "## 1. Function pointer types"
   ]
  },
  {
   "cell_type": "code",
   "execution_count": 5,
   "id": "81a82bea",
   "metadata": {},
   "outputs": [
    {
     "name": "stdout",
     "output_type": "stream",
     "text": [
      " 12\n"
     ]
    }
   ],
   "source": [
    "fn add(x: i32, y: i32) -> i32 {\n",
    "    x + y\n",
    "}\n",
    "\n",
    "let mut x = add(5,7);\n",
    "println!(\" {}\",x);"
   ]
  },
  {
   "cell_type": "code",
   "execution_count": 6,
   "id": "e28ebec2",
   "metadata": {},
   "outputs": [],
   "source": [
    "type Binop = fn(i32, i32) -> i32;"
   ]
  },
  {
   "cell_type": "code",
   "execution_count": 8,
   "id": "8c8ec262",
   "metadata": {},
   "outputs": [
    {
     "name": "stdout",
     "output_type": "stream",
     "text": [
      " 12\n"
     ]
    }
   ],
   "source": [
    "let bo: Binop = add;\n",
    "x = bo(5,7);\n",
    "println!(\" {}\",x);"
   ]
  },
  {
   "cell_type": "code",
   "execution_count": null,
   "id": "82e07879",
   "metadata": {},
   "outputs": [],
   "source": []
  },
  {
   "cell_type": "code",
   "execution_count": null,
   "id": "d87b9cf3",
   "metadata": {},
   "outputs": [],
   "source": []
  },
  {
   "cell_type": "code",
   "execution_count": null,
   "id": "7b3ae349",
   "metadata": {},
   "outputs": [],
   "source": []
  },
  {
   "cell_type": "code",
   "execution_count": 4,
   "id": "e7636c73",
   "metadata": {},
   "outputs": [],
   "source": [
    "use std::any::type_name;\n",
    "\n",
    "fn type_of<T>(_: T) -> &'static str {\n",
    "    type_name::<T>()\n",
    "}\n",
    "fn main() {\n",
    "    let x = 21;\n",
    "    let y = 2.5;\n",
    "    println!(\"{}\", type_of(y));\n",
    "    println!(\"{}\", type_of(x));\n",
    "}"
   ]
  },
  {
   "cell_type": "code",
   "execution_count": 5,
   "id": "8a00d141",
   "metadata": {},
   "outputs": [
    {
     "name": "stdout",
     "output_type": "stream",
     "text": [
      "f64\n",
      "i32\n"
     ]
    },
    {
     "data": {
      "text/plain": [
       "()"
      ]
     },
     "execution_count": 5,
     "metadata": {},
     "output_type": "execute_result"
    }
   ],
   "source": [
    "main()"
   ]
  },
  {
   "cell_type": "code",
   "execution_count": null,
   "id": "1482babe",
   "metadata": {},
   "outputs": [],
   "source": []
  },
  {
   "cell_type": "code",
   "execution_count": 6,
   "id": "8aa1f830",
   "metadata": {},
   "outputs": [],
   "source": [
    "fn print_type_of<T>(_: &T) {\n",
    "    println!(\"{}\", std::any::type_name::<T>())\n",
    "}\n",
    "\n",
    "fn main() {\n",
    "    let s = \"Hello\";\n",
    "    let i = 42;\n",
    "\n",
    "    print_type_of(&s); // &str\n",
    "    print_type_of(&i); // i32\n",
    "    print_type_of(&main); // playground::main\n",
    "    print_type_of(&print_type_of::<i32>); // playground::print_type_of<i32>\n",
    "    print_type_of(&{ || \"Hi!\" }); // playground::main::{{closure}}\n",
    "}"
   ]
  },
  {
   "cell_type": "code",
   "execution_count": 7,
   "id": "611327a6",
   "metadata": {},
   "outputs": [
    {
     "name": "stdout",
     "output_type": "stream",
     "text": [
      "&str\n",
      "i32\n",
      "ctx::main\n",
      "ctx::print_type_of<i32>\n",
      "ctx::main::{{closure}}\n"
     ]
    },
    {
     "data": {
      "text/plain": [
       "()"
      ]
     },
     "execution_count": 7,
     "metadata": {},
     "output_type": "execute_result"
    }
   ],
   "source": [
    "main()"
   ]
  },
  {
   "cell_type": "code",
   "execution_count": 11,
   "id": "4b0a02ad",
   "metadata": {},
   "outputs": [
    {
     "name": "stdout",
     "output_type": "stream",
     "text": [
      "true false\n"
     ]
    }
   ],
   "source": [
    "println!(\"{} {}\", true || true && ! true, (true || true) && ! true);"
   ]
  },
  {
   "cell_type": "code",
   "execution_count": null,
   "id": "410a96f0",
   "metadata": {},
   "outputs": [],
   "source": []
  },
  {
   "cell_type": "code",
   "execution_count": null,
   "id": "3f1dba15",
   "metadata": {},
   "outputs": [],
   "source": []
  },
  {
   "cell_type": "code",
   "execution_count": null,
   "id": "2b01ae01",
   "metadata": {},
   "outputs": [],
   "source": []
  }
 ],
 "metadata": {
  "kernelspec": {
   "display_name": "Rust",
   "language": "rust",
   "name": "rust"
  },
  "language_info": {
   "codemirror_mode": "rust",
   "file_extension": ".rs",
   "mimetype": "text/rust",
   "name": "Rust",
   "pygment_lexer": "rust",
   "version": ""
  }
 },
 "nbformat": 4,
 "nbformat_minor": 5
}
