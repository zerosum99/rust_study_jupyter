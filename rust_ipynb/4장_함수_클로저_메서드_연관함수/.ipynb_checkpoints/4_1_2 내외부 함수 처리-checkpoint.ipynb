{
 "cells": [
  {
   "cell_type": "code",
   "execution_count": null,
   "id": "afa8da70",
   "metadata": {},
   "outputs": [],
   "source": []
  },
  {
   "cell_type": "markdown",
   "id": "89c3fabb",
   "metadata": {},
   "source": [
    "# 1. 함수 \n"
   ]
  },
  {
   "cell_type": "markdown",
   "id": "8acdf783",
   "metadata": {},
   "source": [
    "## 1-1 함수정의와 호출 "
   ]
  },
  {
   "cell_type": "markdown",
   "id": "2881b2a0",
   "metadata": {},
   "source": [
    "### 함수 정의 \n",
    "- 함수는 예약어 fn + 함수명 + (매개변수:타입 애노테이션) -> 반환타입 \n",
    "- 본문은 { } 블럭에 처리 \n"
   ]
  },
  {
   "cell_type": "code",
   "execution_count": 4,
   "id": "c557a522",
   "metadata": {},
   "outputs": [],
   "source": [
    "fn add(x:u32, y:u32) -> u32 {\n",
    "    x+y\n",
    "}"
   ]
  },
  {
   "cell_type": "markdown",
   "id": "1a46a7b9",
   "metadata": {},
   "source": [
    "### 함수 호출 \n",
    "\n",
    "- 함수 이름과 호출연산자에 인자를 전달해서 실행 "
   ]
  },
  {
   "cell_type": "code",
   "execution_count": 5,
   "id": "235a270c",
   "metadata": {},
   "outputs": [
    {
     "data": {
      "text/plain": [
       "300"
      ]
     },
     "execution_count": 5,
     "metadata": {},
     "output_type": "execute_result"
    }
   ],
   "source": [
    "add(100,200)"
   ]
  },
  {
   "cell_type": "code",
   "execution_count": null,
   "id": "bec7fa75",
   "metadata": {},
   "outputs": [],
   "source": []
  },
  {
   "cell_type": "markdown",
   "id": "726d601c",
   "metadata": {},
   "source": [
    "## 1-2 함수 매개변수 처리 \n",
    "\n",
    "- 함수 매개변수에는 반드시 타입애노테이션을 붙여서 타입을 지정해야함\n",
    "- 반환값은 -> 타입 애노테이션을 붙인다."
   ]
  },
  {
   "cell_type": "markdown",
   "id": "3ff84294",
   "metadata": {},
   "source": [
    "### 타입 매개변수도 일반변수처럼 불변이다"
   ]
  },
  {
   "cell_type": "code",
   "execution_count": 17,
   "id": "9feb839a",
   "metadata": {},
   "outputs": [],
   "source": [
    "fn sum(x:i32, y:i32, z:i32) -> i32 {\n",
    "    x+y+z\n",
    "}"
   ]
  },
  {
   "cell_type": "code",
   "execution_count": 19,
   "id": "246f69d6",
   "metadata": {},
   "outputs": [
    {
     "data": {
      "text/plain": [
       "600"
      ]
     },
     "execution_count": 19,
     "metadata": {},
     "output_type": "execute_result"
    }
   ],
   "source": [
    "sum(100,200,300)"
   ]
  },
  {
   "cell_type": "markdown",
   "id": "ffeb1ac3",
   "metadata": {},
   "source": [
    "### 타입이 튜플은 하나의 매개변수에 지정한다"
   ]
  },
  {
   "cell_type": "code",
   "execution_count": 20,
   "id": "bee65eec",
   "metadata": {},
   "outputs": [],
   "source": [
    "fn sum_t(x : (i32,i32,i32)) -> i32 {\n",
    "    x.0 + x.1 + x.2\n",
    "}"
   ]
  },
  {
   "cell_type": "code",
   "execution_count": 22,
   "id": "2f28832a",
   "metadata": {},
   "outputs": [
    {
     "data": {
      "text/plain": [
       "600"
      ]
     },
     "execution_count": 22,
     "metadata": {},
     "output_type": "execute_result"
    }
   ],
   "source": [
    "sum_t((100,200,300))"
   ]
  },
  {
   "cell_type": "code",
   "execution_count": null,
   "id": "53f73f57",
   "metadata": {},
   "outputs": [],
   "source": []
  },
  {
   "cell_type": "markdown",
   "id": "dd88b13b",
   "metadata": {},
   "source": [
    "### 가변 매개변수 "
   ]
  },
  {
   "cell_type": "code",
   "execution_count": 9,
   "id": "051c4f68",
   "metadata": {},
   "outputs": [],
   "source": [
    "// 함수의 매개 변수 목록에있는 가변 변수입니다.\n",
    "fn foo(mut x: u8, y: u8) -> u8 {\n",
    "    println!(\" x={}\",x);\n",
    "    x += y;\n",
    "    println!(\"mut x={}\",x);\n",
    "    x\n",
    "}"
   ]
  },
  {
   "cell_type": "code",
   "execution_count": 10,
   "id": "56136a2a",
   "metadata": {},
   "outputs": [],
   "source": [
    "fn main() { \n",
    "\n",
    "    // 가변 변수 수정.\n",
    "    let mut a = 5;\n",
    "    a = 6;\n",
    "    assert_eq!(a, 6);\n",
    "    \n",
    "    // 함수 인자 전달 \n",
    "    assert_eq!(foo(3, 4), 7);\n",
    "    println!(\"{} \", foo(3,4));\n",
    "} "
   ]
  },
  {
   "cell_type": "code",
   "execution_count": 11,
   "id": "0026b099",
   "metadata": {},
   "outputs": [
    {
     "name": "stdout",
     "output_type": "stream",
     "text": [
      " x=3\n",
      "mut x=7\n",
      " x=3\n",
      "mut x=7\n",
      "7 \n"
     ]
    }
   ],
   "source": [
    "main();"
   ]
  },
  {
   "cell_type": "markdown",
   "id": "3a7357b0",
   "metadata": {},
   "source": [
    "### 가변참조 매개변수 "
   ]
  },
  {
   "cell_type": "code",
   "execution_count": 12,
   "id": "856ba7d0",
   "metadata": {},
   "outputs": [],
   "source": [
    "// 가변 참조를받습니다.\n",
    "fn push_three(v: &mut String) {\n",
    "    println!(\" before = {}\",v);\n",
    "    v.push('a');\n",
    "    println!(\" after  = {}\",v);\n",
    "}\n"
   ]
  },
  {
   "cell_type": "code",
   "execution_count": 13,
   "id": "5d3f4846",
   "metadata": {},
   "outputs": [],
   "source": [
    "fn main() { \n",
    "\n",
    "    // 변경 가능한 참조는 변경 불가능한 변수로 가져올 수 없습니다.\n",
    "    let mut v = \"string\".to_string();         // 가변 참조로 전달할 대는 가변 변수로 지정이 필요 \n",
    "    // 변경 가능한 참조 전달.\n",
    "    push_three(&mut v);            // 가변 참조일 때는 항상 가변참조로 전달해야 함 \n",
    "    \n",
    "    println!(\"{:?}\", v);\n",
    "\n",
    "    assert_eq!(v, String::from(\"stringa\"));\n",
    "    \n",
    "}"
   ]
  },
  {
   "cell_type": "code",
   "execution_count": 14,
   "id": "8b46c810",
   "metadata": {},
   "outputs": [
    {
     "name": "stdout",
     "output_type": "stream",
     "text": [
      "\"stringa\"\n"
     ]
    }
   ],
   "source": [
    "main();"
   ]
  },
  {
   "cell_type": "code",
   "execution_count": null,
   "id": "e6e57d50",
   "metadata": {},
   "outputs": [],
   "source": []
  },
  {
   "cell_type": "code",
   "execution_count": 27,
   "id": "aa94cdfc",
   "metadata": {},
   "outputs": [],
   "source": [
    "// 가변 참조를받습니다.\n",
    "fn push_two(v: &mut Vec<u8>) {\n",
    "    v.push(2);\n",
    "}\n",
    "\n",
    "fn main() { \n",
    "\n",
    "    // 변경 가능한 참조는 변경 불가능한 변수로 가져올 수 없습니다.\n",
    "    let mut v = vec![0, 1];          // 가변 참조로 전달할 대는 가변 변수로 지정이 필요 \n",
    "    // 변경 가능한 참조 전달.\n",
    "    push_two(&mut v);            // 가변 참조일 때는 항상 가변참조로 전달해야 함 \n",
    "    \n",
    "    println!(\"{:?}\", v);\n",
    "\n",
    "    assert_eq!(v, vec![0, 1, 2]);\n",
    "    \n",
    "}"
   ]
  },
  {
   "cell_type": "code",
   "execution_count": 28,
   "id": "ced41aac",
   "metadata": {},
   "outputs": [
    {
     "name": "stdout",
     "output_type": "stream",
     "text": [
      "[0, 1, 2]\n"
     ]
    },
    {
     "data": {
      "text/plain": [
       "()"
      ]
     },
     "execution_count": 28,
     "metadata": {},
     "output_type": "execute_result"
    }
   ],
   "source": [
    "main()"
   ]
  },
  {
   "cell_type": "markdown",
   "id": "eb8bee18",
   "metadata": {},
   "source": [
    "## 1-2 함수 내부에 함수 정의 "
   ]
  },
  {
   "cell_type": "markdown",
   "id": "c4f45ed8",
   "metadata": {},
   "source": [
    "### 내포된 함수를 정의해서 실행하기"
   ]
  },
  {
   "cell_type": "code",
   "execution_count": 3,
   "id": "d2bba93f",
   "metadata": {},
   "outputs": [],
   "source": [
    "fn outer(x:i32) {\n",
    "               \n",
    "    fn inner(x1 : i32 ) {\n",
    "        println!(\" inner call {} \", x1);\n",
    "    }\n",
    "    \n",
    "    inner(x);\n",
    "}"
   ]
  },
  {
   "cell_type": "code",
   "execution_count": 4,
   "id": "2340d29a",
   "metadata": {},
   "outputs": [
    {
     "name": "stdout",
     "output_type": "stream",
     "text": [
      " inner call 100 \n"
     ]
    },
    {
     "data": {
      "text/plain": [
       "()"
      ]
     },
     "execution_count": 4,
     "metadata": {},
     "output_type": "execute_result"
    }
   ],
   "source": [
    "outer(100)"
   ]
  },
  {
   "cell_type": "markdown",
   "id": "df49bd22",
   "metadata": {},
   "source": [
    "### 외부 함수를 함수 내부에서 저의하기 "
   ]
  },
  {
   "cell_type": "code",
   "execution_count": 3,
   "id": "6c0e5fa8",
   "metadata": {},
   "outputs": [],
   "source": [
    "fn inner1<T:std::fmt::Display>(x1 : T) {\n",
    "        println!(\" inner call {} \", x1);\n",
    "}\n",
    "\n",
    "fn outer1<T:std::fmt::Display>(x:i32) -> impl Fn(T)  {\n",
    "    \n",
    "    return inner1;\n",
    "}"
   ]
  },
  {
   "cell_type": "code",
   "execution_count": 4,
   "id": "85a5ed47",
   "metadata": {},
   "outputs": [],
   "source": [
    "fn main() {\n",
    "    let s = outer1::<i32>(100);\n",
    "    s(200);\n",
    "}"
   ]
  },
  {
   "cell_type": "code",
   "execution_count": 6,
   "id": "b060b734",
   "metadata": {},
   "outputs": [
    {
     "name": "stdout",
     "output_type": "stream",
     "text": [
      " inner call 200 \n"
     ]
    }
   ],
   "source": [
    "main();"
   ]
  },
  {
   "cell_type": "code",
   "execution_count": null,
   "id": "c8d39424",
   "metadata": {},
   "outputs": [],
   "source": []
  },
  {
   "cell_type": "code",
   "execution_count": 8,
   "id": "bf914a23",
   "metadata": {},
   "outputs": [],
   "source": [
    "fn identity<T>(a: T) -> T {\n",
    "    return a;\n",
    "}\n",
    "\n",
    "fn right<T>(_a: T) -> impl Fn(T) -> T {\n",
    "    return identity;\n",
    "}\n",
    "\n",
    "fn main() {\n",
    "    println!(\"{}\", right(0)(42))\n",
    "}"
   ]
  },
  {
   "cell_type": "code",
   "execution_count": 9,
   "id": "dc6ffefb",
   "metadata": {},
   "outputs": [
    {
     "name": "stdout",
     "output_type": "stream",
     "text": [
      "42\n"
     ]
    },
    {
     "data": {
      "text/plain": [
       "()"
      ]
     },
     "execution_count": 9,
     "metadata": {},
     "output_type": "execute_result"
    }
   ],
   "source": [
    "main()"
   ]
  },
  {
   "cell_type": "code",
   "execution_count": null,
   "id": "12b9e89a",
   "metadata": {},
   "outputs": [],
   "source": []
  },
  {
   "cell_type": "code",
   "execution_count": 15,
   "id": "8ce122b7",
   "metadata": {},
   "outputs": [],
   "source": [
    "fn identity<T>(a: T) -> T {\n",
    "    return a;\n",
    "}\n",
    "\n",
    "fn right<T>() -> &'static dyn Fn(T)->T {\n",
    "    return &identity::<T>;\n",
    "}\n",
    "\n",
    "fn main() {\n",
    "    println!(\"{}\", right()(3.1415));\n",
    "}"
   ]
  },
  {
   "cell_type": "code",
   "execution_count": 16,
   "id": "85b89b7b",
   "metadata": {},
   "outputs": [
    {
     "name": "stdout",
     "output_type": "stream",
     "text": [
      "3.1415\n"
     ]
    },
    {
     "data": {
      "text/plain": [
       "()"
      ]
     },
     "execution_count": 16,
     "metadata": {},
     "output_type": "execute_result"
    }
   ],
   "source": [
    "main()"
   ]
  },
  {
   "cell_type": "code",
   "execution_count": null,
   "id": "16bc8e0b",
   "metadata": {},
   "outputs": [],
   "source": []
  },
  {
   "cell_type": "code",
   "execution_count": null,
   "id": "08e1301b",
   "metadata": {},
   "outputs": [],
   "source": [
    "fn apply<F>(f: F) where\n",
    "\n",
    "F: FnOnce() {\n",
    "\n",
    "    f();  // statement, return value ()\n",
    "}"
   ]
  },
  {
   "cell_type": "code",
   "execution_count": 10,
   "id": "df815db2",
   "metadata": {},
   "outputs": [],
   "source": [
    "fn add(f: impl FnOnce(i32)->i32) {\n",
    "    let x = 100;\n",
    "    println!(\" {} \", f(x));\n",
    "}"
   ]
  },
  {
   "cell_type": "code",
   "execution_count": 15,
   "id": "3f290c56",
   "metadata": {},
   "outputs": [
    {
     "name": "stdout",
     "output_type": "stream",
     "text": [
      " 200 \n"
     ]
    }
   ],
   "source": [
    "add(|a:i32| {a+a});"
   ]
  },
  {
   "cell_type": "code",
   "execution_count": 16,
   "id": "ad48d786",
   "metadata": {},
   "outputs": [
    {
     "name": "stdout",
     "output_type": "stream",
     "text": [
      " 200 \n"
     ]
    }
   ],
   "source": [
    "add(|a:i32| {a+a});"
   ]
  },
  {
   "cell_type": "code",
   "execution_count": null,
   "id": "35fbb40e",
   "metadata": {},
   "outputs": [],
   "source": []
  }
 ],
 "metadata": {
  "kernelspec": {
   "display_name": "Rust",
   "language": "rust",
   "name": "rust"
  },
  "language_info": {
   "codemirror_mode": "rust",
   "file_extension": ".rs",
   "mimetype": "text/rust",
   "name": "Rust",
   "pygment_lexer": "rust",
   "version": ""
  }
 },
 "nbformat": 4,
 "nbformat_minor": 5
}
