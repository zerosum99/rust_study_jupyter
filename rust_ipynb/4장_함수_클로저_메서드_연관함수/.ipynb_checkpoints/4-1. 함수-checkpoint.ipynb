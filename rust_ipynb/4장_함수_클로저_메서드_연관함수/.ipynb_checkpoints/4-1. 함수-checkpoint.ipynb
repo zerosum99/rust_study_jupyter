{
 "cells": [
  {
   "cell_type": "code",
   "execution_count": null,
   "id": "afa8da70",
   "metadata": {},
   "outputs": [],
   "source": []
  },
  {
   "cell_type": "markdown",
   "id": "89c3fabb",
   "metadata": {},
   "source": [
    "# 1. 함수 "
   ]
  },
  {
   "cell_type": "markdown",
   "id": "2f074998",
   "metadata": {},
   "source": [
    "## 1-1 함수정의 "
   ]
  },
  {
   "cell_type": "code",
   "execution_count": 2,
   "id": "c557a522",
   "metadata": {},
   "outputs": [],
   "source": [
    "fn add(x:u32, y:u32) -> u32 {\n",
    "    x*y\n",
    "}"
   ]
  },
  {
   "cell_type": "markdown",
   "id": "b444ae85",
   "metadata": {},
   "source": [
    "## 1-2 함수 호출 "
   ]
  },
  {
   "cell_type": "code",
   "execution_count": 3,
   "id": "235a270c",
   "metadata": {},
   "outputs": [
    {
     "data": {
      "text/plain": [
       "20000"
      ]
     },
     "execution_count": 3,
     "metadata": {},
     "output_type": "execute_result"
    }
   ],
   "source": [
    "add(100,200)"
   ]
  },
  {
   "cell_type": "code",
   "execution_count": null,
   "id": "803fd43b",
   "metadata": {},
   "outputs": [],
   "source": []
  },
  {
   "cell_type": "code",
   "execution_count": 2,
   "id": "e0ed05c3",
   "metadata": {},
   "outputs": [
    {
     "ename": "Error",
     "evalue": "can't capture dynamic environment in a fn item",
     "output_type": "error",
     "traceback": [
      "\u001b[31m[E0434] Error:\u001b[0m can't capture dynamic environment in a fn item",
      "   \u001b[38;5;246m╭\u001b[0m\u001b[38;5;246m─\u001b[0m\u001b[38;5;246m[\u001b[0mcommand_2:1:1\u001b[38;5;246m]\u001b[0m",
      "   \u001b[38;5;246m│\u001b[0m",
      " \u001b[38;5;246m3 │\u001b[0m \u001b[38;5;249m \u001b[0m\u001b[38;5;249m \u001b[0m\u001b[38;5;249m \u001b[0m\u001b[38;5;249m \u001b[0m\u001b[38;5;249m \u001b[0m\u001b[38;5;249m \u001b[0m\u001b[38;5;249m \u001b[0m\u001b[38;5;249m \u001b[0m\u001b[38;5;249mp\u001b[0m\u001b[38;5;249mr\u001b[0m\u001b[38;5;249mi\u001b[0m\u001b[38;5;249mn\u001b[0m\u001b[38;5;249mt\u001b[0m\u001b[38;5;249ml\u001b[0m\u001b[38;5;249mn\u001b[0m\u001b[38;5;249m!\u001b[0m\u001b[38;5;249m(\u001b[0m\u001b[38;5;249m\"\u001b[0m\u001b[38;5;249m \u001b[0m\u001b[38;5;249mi\u001b[0m\u001b[38;5;249mn\u001b[0m\u001b[38;5;249mn\u001b[0m\u001b[38;5;249me\u001b[0m\u001b[38;5;249mr\u001b[0m\u001b[38;5;249m \u001b[0m\u001b[38;5;249mc\u001b[0m\u001b[38;5;249ma\u001b[0m\u001b[38;5;249ml\u001b[0m\u001b[38;5;249ml\u001b[0m\u001b[38;5;249m \u001b[0m\u001b[38;5;249m{\u001b[0m\u001b[38;5;249m}\u001b[0m\u001b[38;5;249m \u001b[0m\u001b[38;5;249m\"\u001b[0m\u001b[38;5;249m,\u001b[0m\u001b[38;5;249m \u001b[0m\u001b[38;5;54mx\u001b[0m\u001b[38;5;249m)\u001b[0m\u001b[38;5;249m;\u001b[0m",
      " \u001b[38;5;246m  ·\u001b[0m                                     \u001b[38;5;54m┬\u001b[0m  ",
      " \u001b[38;5;246m  ·\u001b[0m                                     \u001b[38;5;54m╰\u001b[0m\u001b[38;5;54m─\u001b[0m\u001b[38;5;54m─\u001b[0m error: can't capture dynamic environment in a fn item",
      "\u001b[38;5;246m───╯\u001b[0m"
     ]
    }
   ],
   "source": [
    "fn outer(x:i32) {\n",
    "               \n",
    "    fn inner() {\n",
    "        println!(\" inner call {} \", x);\n",
    "    }\n",
    "    \n",
    "    inner();\n",
    "}"
   ]
  },
  {
   "cell_type": "code",
   "execution_count": null,
   "id": "e0b0bb92",
   "metadata": {},
   "outputs": [],
   "source": []
  }
 ],
 "metadata": {
  "kernelspec": {
   "display_name": "Rust",
   "language": "rust",
   "name": "rust"
  },
  "language_info": {
   "codemirror_mode": "rust",
   "file_extension": ".rs",
   "mimetype": "text/rust",
   "name": "Rust",
   "pygment_lexer": "rust",
   "version": ""
  }
 },
 "nbformat": 4,
 "nbformat_minor": 5
}
