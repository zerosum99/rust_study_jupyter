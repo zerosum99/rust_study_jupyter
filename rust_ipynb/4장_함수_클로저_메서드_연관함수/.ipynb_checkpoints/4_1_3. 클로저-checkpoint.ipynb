{
 "cells": [
  {
   "cell_type": "markdown",
   "id": "0baac084",
   "metadata": {},
   "source": [
    "## 참조자료 \n",
    "\n",
    "https://stevedonovan.github.io/rustifications/2018/08/18/rust-closures-are-hard.html"
   ]
  },
  {
   "cell_type": "markdown",
   "id": "c2a45c56",
   "metadata": {},
   "source": [
    "# 1. 클로저"
   ]
  },
  {
   "cell_type": "markdown",
   "id": "7c7c12ee",
   "metadata": {},
   "source": [
    "## 1-1 클로저 정의 및 호출하기 \n",
    "\n",
    "- 주의할 점은 구조체 등은 소유권이 이동하므로 클로저 내부 사용하면 예외 발생 "
   ]
  },
  {
   "cell_type": "markdown",
   "id": "bf8c34eb",
   "metadata": {},
   "source": [
    "### 클로저 정의 \n",
    "\n",
    "-  매개변수는 |매개변수 | 정의하고 \n",
    "-  반환자료형은  -> 다음에 정의\n",
    "-  본문은 { } 사이에 정의한다. "
   ]
  },
  {
   "cell_type": "code",
   "execution_count": 5,
   "id": "dd5d4748",
   "metadata": {},
   "outputs": [],
   "source": [
    "fn main() {\n",
    "    let m = 1.0;\n",
    "    let c = 2.0;\n",
    "    let _z = String::from(\"가가가\"); \n",
    "\n",
    "    let line = |x:f64|->f64 {      // 변수에 클로저 할당할 때는 main 함수 내부에 정의 할 것\n",
    "        let s = m*x + c;           // 함수의 지역변수를 클로저에서 사용이 가능 : 정수는 이동되지 않아서 사용가능 \n",
    "        //let zz = _z;             // _z는 한번 소유권 이동이 되어서 계속 호출시 문제됨 ...\n",
    "        s                          // 내부에서 소유권 변동을 주의해야 함  \n",
    "    };\n",
    "    println!(\"{} {}\", line(0.0), line(1.0));\n",
    "    println!(\" m {:.2} \", m);\n",
    "    // println!(\" z { } \", z);\n",
    "}"
   ]
  },
  {
   "cell_type": "code",
   "execution_count": 6,
   "id": "2701ae66",
   "metadata": {},
   "outputs": [
    {
     "name": "stdout",
     "output_type": "stream",
     "text": [
      "2 3\n",
      " m 1.00 \n"
     ]
    },
    {
     "data": {
      "text/plain": [
       "()"
      ]
     },
     "execution_count": 6,
     "metadata": {},
     "output_type": "execute_result"
    }
   ],
   "source": [
    "main()"
   ]
  },
  {
   "cell_type": "code",
   "execution_count": null,
   "id": "5893bc0d",
   "metadata": {},
   "outputs": [],
   "source": []
  },
  {
   "cell_type": "markdown",
   "id": "0b4a9248",
   "metadata": {},
   "source": [
    "## 1-2 클로저 타입 알아보기\n",
    "\n",
    "- https://doc.rust-lang.org/reference/types/closure.html"
   ]
  },
  {
   "cell_type": "markdown",
   "id": "27772c4c",
   "metadata": {},
   "source": [
    "### 변수에 클로저의 타입을 정의할 때는\n",
    "- fn을 사용해서 정의한다"
   ]
  },
  {
   "cell_type": "code",
   "execution_count": 12,
   "id": "b6686bf9",
   "metadata": {},
   "outputs": [
    {
     "name": "stdout",
     "output_type": "stream",
     "text": [
      " 101 \n"
     ]
    },
    {
     "data": {
      "text/plain": [
       "()"
      ]
     },
     "execution_count": 12,
     "metadata": {},
     "output_type": "execute_result"
    }
   ],
   "source": [
    "{\n",
    "    let add_one_v2: fn(u32)->u32 = |x: u32| -> u32 { x + 1 };\n",
    "    \n",
    "    println!(\" {} \", add_one_v2(100));\n",
    "    \n",
    "}"
   ]
  },
  {
   "cell_type": "markdown",
   "id": "0933fee2",
   "metadata": {},
   "source": [
    "### 함수의 매개변수로 처리할 때 \n",
    "\n",
    "- impl FnOnce 트레이트로 정의"
   ]
  },
  {
   "cell_type": "code",
   "execution_count": 14,
   "id": "6909f418",
   "metadata": {},
   "outputs": [
    {
     "name": "stdout",
     "output_type": "stream",
     "text": [
      "foobar\n"
     ]
    }
   ],
   "source": [
    "fn f(g: impl FnOnce() -> String) {\n",
    "    println!(\"{}\", g());\n",
    "}\n",
    "\n",
    "let mut s = String::from(\"foo\");\n",
    "let t = String::from(\"bar\");\n",
    "\n",
    "f(|| {\n",
    "    s += &t;\n",
    "    s\n",
    "});"
   ]
  },
  {
   "cell_type": "markdown",
   "id": "429bbeb6",
   "metadata": {},
   "source": [
    "## 1-3 클로저 축약형으로 작성하기 \n",
    "\n",
    "- 클로저를 정의할 때 매개변수의 자료형이나 반환값 등을 생략할 수 있다.\n",
    "- 또한 한줄만 본문이 작성할 경우는 중괄호도 생략이 가능하다"
   ]
  },
  {
   "cell_type": "markdown",
   "id": "9b76dd7d",
   "metadata": {},
   "source": [
    "### 함수와 클러저 정의 알아보기\n",
    "\n",
    "- 함수 정의를 클로저로 변경하기\n",
    "- 클로저는 이름이 없어서 활용하려면 변수에 할당해서 사용한다. "
   ]
  },
  {
   "cell_type": "code",
   "execution_count": 31,
   "id": "93663d64",
   "metadata": {},
   "outputs": [],
   "source": [
    "fn main() {\n",
    "    fn  add_one_v1   (x: u32) -> u32 { x + 1 }   // 함수 정의 \n",
    "    \n",
    "    let add_one_v2 = |x: u32| -> u32 { x + 1 };  // 클로저 정의 \n",
    "    let add_one_v3 = |x|             { x + 1 };  // 클로저 정의 : 타입 에노테이션 생략 \n",
    "    let add_one_v4 = |x|               x + 1  ;  // 하나의 문장이라 표현식으로 지정 \n",
    "    println!(\" add_one_v1 {} \", add_one_v1(100));\n",
    "    println!(\" add_one_v2 {} \", add_one_v2(100));\n",
    "    println!(\" add_one_v3 {} \", add_one_v3(100));\n",
    "    println!(\" add_one_v4 {} \", add_one_v4(100));\n",
    "}"
   ]
  },
  {
   "cell_type": "code",
   "execution_count": 32,
   "id": "74af10a4",
   "metadata": {},
   "outputs": [
    {
     "name": "stdout",
     "output_type": "stream",
     "text": [
      " add_one_v1 101 \n",
      " add_one_v2 101 \n",
      " add_one_v3 101 \n",
      " add_one_v4 101 \n"
     ]
    },
    {
     "data": {
      "text/plain": [
       "()"
      ]
     },
     "execution_count": 32,
     "metadata": {},
     "output_type": "execute_result"
    }
   ],
   "source": [
    "main()"
   ]
  },
  {
   "cell_type": "markdown",
   "id": "e8cdd7e1",
   "metadata": {},
   "source": [
    "### 클로저의 매개변수에 자료형 지정하기\n",
    "- 매개변수의 자료형이 불명확할 때는 반드시 지정해줘야 한다. "
   ]
  },
  {
   "cell_type": "code",
   "execution_count": 35,
   "id": "33509dda",
   "metadata": {},
   "outputs": [],
   "source": [
    "fn main() {\n",
    "    let c  = |x:u32| {x+x};\n",
    "\n",
    "    println!(\" {} \",c(10))\n",
    "}"
   ]
  },
  {
   "cell_type": "code",
   "execution_count": 36,
   "id": "6f335f8c",
   "metadata": {},
   "outputs": [
    {
     "name": "stdout",
     "output_type": "stream",
     "text": [
      " 20 \n"
     ]
    },
    {
     "data": {
      "text/plain": [
       "()"
      ]
     },
     "execution_count": 36,
     "metadata": {},
     "output_type": "execute_result"
    }
   ],
   "source": [
    "main()"
   ]
  },
  {
   "cell_type": "markdown",
   "id": "06c9d748",
   "metadata": {},
   "source": [
    "## 1-4 구조체 내부에 클로저 정의하기"
   ]
  },
  {
   "cell_type": "markdown",
   "id": "5a309a5a",
   "metadata": {},
   "source": [
    "### 두 개의 클로저를 정의하고 하나를 다른 클로저에서 처리하기 "
   ]
  },
  {
   "cell_type": "code",
   "execution_count": 2,
   "id": "e72fdd45",
   "metadata": {},
   "outputs": [],
   "source": [
    "fn main() {\n",
    "    let c  = |x:u32| {x+x};\n",
    "    let d  = |y| c(y);\n",
    "\n",
    "    println!(\" {} \",d(10))\n",
    "}"
   ]
  },
  {
   "cell_type": "code",
   "execution_count": 4,
   "id": "43083368",
   "metadata": {},
   "outputs": [
    {
     "name": "stdout",
     "output_type": "stream",
     "text": [
      " 20 \n"
     ]
    }
   ],
   "source": [
    "main();"
   ]
  },
  {
   "cell_type": "markdown",
   "id": "6f6c8fa2",
   "metadata": {},
   "source": [
    "### 클로저를 반환할 때는 캡처된 변수를 이동시키기"
   ]
  },
  {
   "cell_type": "code",
   "execution_count": 7,
   "id": "0f4c04f4",
   "metadata": {},
   "outputs": [],
   "source": [
    "fn main() {\n",
    "    \n",
    "    let d  = |y| {move |x| x+y};\n",
    "\n",
    "    println!(\" {} \",d(10)(20))\n",
    "}"
   ]
  },
  {
   "cell_type": "code",
   "execution_count": 8,
   "id": "4bb369f4",
   "metadata": {},
   "outputs": [
    {
     "name": "stdout",
     "output_type": "stream",
     "text": [
      " 30 \n"
     ]
    }
   ],
   "source": [
    "main();"
   ]
  },
  {
   "cell_type": "code",
   "execution_count": null,
   "id": "4bdde616",
   "metadata": {},
   "outputs": [],
   "source": []
  },
  {
   "cell_type": "markdown",
   "id": "506ce715",
   "metadata": {},
   "source": [
    "## 1-5 스마트 포인터로 클로저 반환하기 "
   ]
  },
  {
   "cell_type": "code",
   "execution_count": null,
   "id": "7113a16e",
   "metadata": {},
   "outputs": [],
   "source": []
  },
  {
   "cell_type": "code",
   "execution_count": 13,
   "id": "5aa4299f",
   "metadata": {},
   "outputs": [],
   "source": [
    "let f: Box<dyn Fn()> = Box::new(|| {println!(\"foo\")});"
   ]
  },
  {
   "cell_type": "code",
   "execution_count": 14,
   "id": "21953e01",
   "metadata": {},
   "outputs": [
    {
     "name": "stdout",
     "output_type": "stream",
     "text": [
      "foo\n"
     ]
    },
    {
     "data": {
      "text/plain": [
       "()"
      ]
     },
     "execution_count": 14,
     "metadata": {},
     "output_type": "execute_result"
    }
   ],
   "source": [
    "f()"
   ]
  },
  {
   "cell_type": "code",
   "execution_count": 15,
   "id": "9d58a934",
   "metadata": {},
   "outputs": [],
   "source": [
    "let fc: Box<dyn Fn(u32)> = Box::new(|x| {println!(\"foo {}\",x)});"
   ]
  },
  {
   "cell_type": "code",
   "execution_count": 16,
   "id": "ebc66635",
   "metadata": {},
   "outputs": [
    {
     "name": "stdout",
     "output_type": "stream",
     "text": [
      "foo 100\n"
     ]
    },
    {
     "data": {
      "text/plain": [
       "()"
      ]
     },
     "execution_count": 16,
     "metadata": {},
     "output_type": "execute_result"
    }
   ],
   "source": [
    "fc(100)"
   ]
  },
  {
   "cell_type": "code",
   "execution_count": 17,
   "id": "60ef69dc",
   "metadata": {},
   "outputs": [],
   "source": [
    "let fc: Box<dyn Fn(u32,u32)> = Box::new(|x,y| {println!(\"foo {}\",x+y)});"
   ]
  },
  {
   "cell_type": "code",
   "execution_count": 18,
   "id": "6256fc8e",
   "metadata": {},
   "outputs": [
    {
     "name": "stdout",
     "output_type": "stream",
     "text": [
      "foo 300\n"
     ]
    },
    {
     "data": {
      "text/plain": [
       "()"
      ]
     },
     "execution_count": 18,
     "metadata": {},
     "output_type": "execute_result"
    }
   ],
   "source": [
    "fc(100,200)"
   ]
  },
  {
   "cell_type": "code",
   "execution_count": null,
   "id": "d0b9d530",
   "metadata": {},
   "outputs": [],
   "source": []
  },
  {
   "cell_type": "code",
   "execution_count": null,
   "id": "1eba457a",
   "metadata": {},
   "outputs": [],
   "source": []
  }
 ],
 "metadata": {
  "kernelspec": {
   "display_name": "Rust",
   "language": "rust",
   "name": "rust"
  },
  "language_info": {
   "codemirror_mode": "rust",
   "file_extension": ".rs",
   "mimetype": "text/rust",
   "name": "Rust",
   "pygment_lexer": "rust",
   "version": ""
  }
 },
 "nbformat": 4,
 "nbformat_minor": 5
}
