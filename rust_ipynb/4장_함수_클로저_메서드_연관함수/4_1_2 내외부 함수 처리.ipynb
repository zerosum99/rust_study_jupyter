{
 "cells": [
  {
   "cell_type": "code",
   "execution_count": null,
   "id": "afa8da70",
   "metadata": {},
   "outputs": [],
   "source": []
  },
  {
   "cell_type": "markdown",
   "id": "89c3fabb",
   "metadata": {},
   "source": [
    "# 1. 함수 \n"
   ]
  },
  {
   "cell_type": "code",
   "execution_count": 28,
   "id": "ced41aac",
   "metadata": {},
   "outputs": [
    {
     "name": "stdout",
     "output_type": "stream",
     "text": [
      "[0, 1, 2]\n"
     ]
    },
    {
     "data": {
      "text/plain": [
       "()"
      ]
     },
     "execution_count": 28,
     "metadata": {},
     "output_type": "execute_result"
    }
   ],
   "source": [
    "main()"
   ]
  },
  {
   "cell_type": "markdown",
   "id": "eb8bee18",
   "metadata": {},
   "source": [
    "## 1-2 함수 내부에 함수 정의\n",
    "\n",
    "\n",
    "- 함수 내부에도 함수를 정의해서 실행이 가능 \n",
    "- 함수 외부에 정의된 함수를 내부에서 호출해서 사용이 가능"
   ]
  },
  {
   "cell_type": "markdown",
   "id": "c4f45ed8",
   "metadata": {},
   "source": [
    "### 내포된 함수를 정의해서 실행하기"
   ]
  },
  {
   "cell_type": "code",
   "execution_count": 3,
   "id": "d2bba93f",
   "metadata": {},
   "outputs": [],
   "source": [
    "fn outer(x:i32) {\n",
    "               \n",
    "    fn inner(x1 : i32 ) {\n",
    "        println!(\" inner call {} \", x1);\n",
    "    }\n",
    "    \n",
    "    inner(x);\n",
    "}"
   ]
  },
  {
   "cell_type": "code",
   "execution_count": 4,
   "id": "2340d29a",
   "metadata": {},
   "outputs": [
    {
     "name": "stdout",
     "output_type": "stream",
     "text": [
      " inner call 100 \n"
     ]
    },
    {
     "data": {
      "text/plain": [
       "()"
      ]
     },
     "execution_count": 4,
     "metadata": {},
     "output_type": "execute_result"
    }
   ],
   "source": [
    "outer(100)"
   ]
  },
  {
   "cell_type": "markdown",
   "id": "df49bd22",
   "metadata": {},
   "source": [
    "### 외부 함수를 함수 내부에서 반환하기"
   ]
  },
  {
   "cell_type": "code",
   "execution_count": 18,
   "id": "6c0e5fa8",
   "metadata": {},
   "outputs": [],
   "source": [
    "fn inner1<T:std::fmt::Display>(x1 : T) {\n",
    "        println!(\" inner call {} \", x1);\n",
    "}\n",
    "\n",
    "fn outer1<T:std::fmt::Display>(x:i32) -> impl Fn(T)  {\n",
    "    \n",
    "    return inner1;\n",
    "}"
   ]
  },
  {
   "cell_type": "code",
   "execution_count": 19,
   "id": "85a5ed47",
   "metadata": {},
   "outputs": [],
   "source": [
    "fn main() {\n",
    "    let s = outer1::<i32>(100);\n",
    "    s(200);\n",
    "}"
   ]
  },
  {
   "cell_type": "code",
   "execution_count": 20,
   "id": "b060b734",
   "metadata": {},
   "outputs": [
    {
     "name": "stdout",
     "output_type": "stream",
     "text": [
      " inner call 200 \n"
     ]
    }
   ],
   "source": [
    "main();"
   ]
  },
  {
   "cell_type": "markdown",
   "id": "34a6d20a",
   "metadata": {},
   "source": [
    "### 함수 체인 처리하기\n",
    "\n",
    "- 연속적인 함수를 실행하려면 함수를 호출한 결과를 함수를 반환해서 처리 "
   ]
  },
  {
   "cell_type": "code",
   "execution_count": 8,
   "id": "bf914a23",
   "metadata": {},
   "outputs": [],
   "source": [
    "fn identity<T>(a: T) -> T {\n",
    "    return a;\n",
    "}\n",
    "\n",
    "fn right<T>(_a: T) -> impl Fn(T) -> T {\n",
    "    return identity;\n",
    "}\n",
    "\n",
    "fn main() {\n",
    "    println!(\"{}\", right(0)(42))\n",
    "}"
   ]
  },
  {
   "cell_type": "code",
   "execution_count": 9,
   "id": "dc6ffefb",
   "metadata": {},
   "outputs": [
    {
     "name": "stdout",
     "output_type": "stream",
     "text": [
      "42\n"
     ]
    },
    {
     "data": {
      "text/plain": [
       "()"
      ]
     },
     "execution_count": 9,
     "metadata": {},
     "output_type": "execute_result"
    }
   ],
   "source": [
    "main()"
   ]
  },
  {
   "cell_type": "markdown",
   "id": "405c9940",
   "metadata": {},
   "source": [
    "### 함수를 반환할 때도 참조로 반환이 가능"
   ]
  },
  {
   "cell_type": "code",
   "execution_count": 15,
   "id": "8ce122b7",
   "metadata": {},
   "outputs": [],
   "source": [
    "fn identity<T>(a: T) -> T {\n",
    "    return a;\n",
    "}\n",
    "\n",
    "fn right<T>() -> &'static dyn Fn(T)->T {\n",
    "    return &identity::<T>;\n",
    "}\n",
    "\n",
    "fn main() {\n",
    "    println!(\"{}\", right()(3.1415));\n",
    "}"
   ]
  },
  {
   "cell_type": "code",
   "execution_count": 16,
   "id": "85b89b7b",
   "metadata": {},
   "outputs": [
    {
     "name": "stdout",
     "output_type": "stream",
     "text": [
      "3.1415\n"
     ]
    },
    {
     "data": {
      "text/plain": [
       "()"
      ]
     },
     "execution_count": 16,
     "metadata": {},
     "output_type": "execute_result"
    }
   ],
   "source": [
    "main()"
   ]
  },
  {
   "cell_type": "markdown",
   "id": "5f854769",
   "metadata": {},
   "source": [
    "### 함수에 클러저를 전달해서 처리하기 "
   ]
  },
  {
   "cell_type": "code",
   "execution_count": 21,
   "id": "08e1301b",
   "metadata": {},
   "outputs": [],
   "source": [
    "fn apply<F>(f: F) where F: FnOnce() {\n",
    "\n",
    "    f();  // statement, return value ()\n",
    "}"
   ]
  },
  {
   "cell_type": "code",
   "execution_count": 22,
   "id": "df815db2",
   "metadata": {},
   "outputs": [],
   "source": [
    "fn add(f: impl FnOnce(i32)->i32) {\n",
    "    let x = 100;\n",
    "    println!(\" {} \", f(x));\n",
    "}"
   ]
  },
  {
   "cell_type": "code",
   "execution_count": 23,
   "id": "3f290c56",
   "metadata": {},
   "outputs": [
    {
     "name": "stdout",
     "output_type": "stream",
     "text": [
      " 200 \n"
     ]
    }
   ],
   "source": [
    "add(|a:i32| {a+a});"
   ]
  },
  {
   "cell_type": "code",
   "execution_count": 24,
   "id": "ad48d786",
   "metadata": {},
   "outputs": [
    {
     "name": "stdout",
     "output_type": "stream",
     "text": [
      " 200 \n"
     ]
    }
   ],
   "source": [
    "add(|a:i32| {a+a});"
   ]
  },
  {
   "cell_type": "code",
   "execution_count": null,
   "id": "35fbb40e",
   "metadata": {},
   "outputs": [],
   "source": []
  }
 ],
 "metadata": {
  "kernelspec": {
   "display_name": "Rust",
   "language": "rust",
   "name": "rust"
  },
  "language_info": {
   "codemirror_mode": "rust",
   "file_extension": ".rs",
   "mimetype": "text/rust",
   "name": "Rust",
   "pygment_lexer": "rust",
   "version": ""
  }
 },
 "nbformat": 4,
 "nbformat_minor": 5
}
