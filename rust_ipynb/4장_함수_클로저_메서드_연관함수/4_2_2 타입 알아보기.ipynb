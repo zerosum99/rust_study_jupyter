{
 "cells": [
  {
   "cell_type": "code",
   "execution_count": null,
   "id": "358ac7dc",
   "metadata": {},
   "outputs": [],
   "source": []
  },
  {
   "cell_type": "markdown",
   "id": "e00a0e8b",
   "metadata": {},
   "source": [
    "## 1. Function pointer types\n",
    "\n",
    "- fn 키워드를 사용하여 작성된 함수 포인터 유형은 컴파일 시점에 반드시 정체를 알 수 없는 함수를 나타냅니다. \n",
    "- 함수와 캡처되지 않는 클로저 모두에서 강제로 생성할 수 있습니다.\n",
    "\n",
    "- 안전하지 않은 한정자는 해당 타입의 값이 안전하지 않은 함수임을 나타내고, 외부 한정자는 외부 함수임을 나타냅니다"
   ]
  },
  {
   "cell_type": "code",
   "execution_count": 5,
   "id": "1d8e013f",
   "metadata": {},
   "outputs": [
    {
     "name": "stdout",
     "output_type": "stream",
     "text": [
      " 12\n"
     ]
    }
   ],
   "source": [
    "fn add(x: i32, y: i32) -> i32 {\n",
    "    x + y\n",
    "}\n",
    "\n",
    "let mut x = add(5,7);\n",
    "println!(\" {}\",x);"
   ]
  },
  {
   "cell_type": "code",
   "execution_count": 6,
   "id": "22793d22",
   "metadata": {},
   "outputs": [],
   "source": [
    "type Binop = fn(i32, i32) -> i32;"
   ]
  },
  {
   "cell_type": "code",
   "execution_count": 8,
   "id": "09ba3c5c",
   "metadata": {},
   "outputs": [
    {
     "name": "stdout",
     "output_type": "stream",
     "text": [
      " 12\n"
     ]
    }
   ],
   "source": [
    "let bo: Binop = add;\n",
    "x = bo(5,7);\n",
    "println!(\" {}\",x);"
   ]
  },
  {
   "cell_type": "code",
   "execution_count": null,
   "id": "74f499a9",
   "metadata": {},
   "outputs": [],
   "source": []
  },
  {
   "cell_type": "markdown",
   "id": "3fc6e897",
   "metadata": {},
   "source": [
    "## 2. Function item types\n",
    "\n",
    "- 함수를 정의하면 가지는 타입"
   ]
  },
  {
   "cell_type": "code",
   "execution_count": 29,
   "id": "c76b6968",
   "metadata": {},
   "outputs": [],
   "source": [
    "use std::any::type_name;\n",
    "\n",
    "fn type_of<T>(_: T) -> &'static str {\n",
    "    type_name::<T>()\n",
    "}"
   ]
  },
  {
   "cell_type": "code",
   "execution_count": null,
   "id": "808b1473",
   "metadata": {},
   "outputs": [],
   "source": []
  },
  {
   "cell_type": "code",
   "execution_count": 43,
   "id": "82bc76a1",
   "metadata": {},
   "outputs": [],
   "source": [
    "fn add(x:u32, y:u32) -> u32 {\n",
    "    x+y\n",
    "}\n",
    "fn foo<T>() { }"
   ]
  },
  {
   "cell_type": "code",
   "execution_count": 44,
   "id": "f6521a6e",
   "metadata": {},
   "outputs": [],
   "source": [
    "#![allow(unused)]\n",
    "fn main() {\n",
    "    let x = &mut foo::<i32>;\n",
    "    // *x = foo::<u32>; //~ ERROR mismatched types\n",
    "    println!(\"{:p}\",x);\n",
    "    println!(\"{}\", type_of(x));\n",
    "    \n",
    "    let foo_ptr_1 = add;\n",
    "    println!(\"{}\", type_of(foo_ptr_1));\n",
    "    println!(\"{}\", foo_ptr_1(100,200));\n",
    "    \n",
    "    let foo_ptr_2 : fn(u32,u32)->u32 = add;\n",
    "    println!(\"{}\", type_of(foo_ptr_2));\n",
    "    println!(\"{}\", foo_ptr_2(100,200));\n",
    "}"
   ]
  },
  {
   "cell_type": "code",
   "execution_count": 45,
   "id": "40d20feb",
   "metadata": {},
   "outputs": [
    {
     "name": "stdout",
     "output_type": "stream",
     "text": [
      "0x16d40ea38\n",
      "&mut ctx::foo<i32>\n",
      "ctx::add\n",
      "300\n",
      "fn(u32, u32) -> u32\n",
      "300\n"
     ]
    },
    {
     "data": {
      "text/plain": [
       "()"
      ]
     },
     "execution_count": 45,
     "metadata": {},
     "output_type": "execute_result"
    }
   ],
   "source": [
    "main()"
   ]
  },
  {
   "cell_type": "markdown",
   "id": "c5ad8a44",
   "metadata": {},
   "source": [
    "## 3. 객체 내부 타입 알아보기"
   ]
  },
  {
   "cell_type": "code",
   "execution_count": 4,
   "id": "e7636c73",
   "metadata": {},
   "outputs": [],
   "source": [
    "use std::any::type_name;\n",
    "\n",
    "fn type_of<T>(_: T) -> &'static str {\n",
    "    type_name::<T>()\n",
    "}\n",
    "fn main() {\n",
    "    let x = 21;\n",
    "    let y = 2.5;\n",
    "    println!(\"{}\", type_of(y));\n",
    "    println!(\"{}\", type_of(x));\n",
    "}"
   ]
  },
  {
   "cell_type": "code",
   "execution_count": 5,
   "id": "8a00d141",
   "metadata": {},
   "outputs": [
    {
     "name": "stdout",
     "output_type": "stream",
     "text": [
      "f64\n",
      "i32\n"
     ]
    },
    {
     "data": {
      "text/plain": [
       "()"
      ]
     },
     "execution_count": 5,
     "metadata": {},
     "output_type": "execute_result"
    }
   ],
   "source": [
    "main()"
   ]
  },
  {
   "cell_type": "code",
   "execution_count": null,
   "id": "1482babe",
   "metadata": {},
   "outputs": [],
   "source": []
  },
  {
   "cell_type": "code",
   "execution_count": 6,
   "id": "8aa1f830",
   "metadata": {},
   "outputs": [],
   "source": [
    "fn print_type_of<T>(_: &T) {\n",
    "    println!(\"{}\", std::any::type_name::<T>())\n",
    "}\n",
    "\n",
    "fn main() {\n",
    "    let s = \"Hello\";\n",
    "    let i = 42;\n",
    "\n",
    "    print_type_of(&s); // &str\n",
    "    print_type_of(&i); // i32\n",
    "    print_type_of(&main); // playground::main\n",
    "    print_type_of(&print_type_of::<i32>); // playground::print_type_of<i32>\n",
    "    print_type_of(&{ || \"Hi!\" }); // playground::main::{{closure}}\n",
    "}"
   ]
  },
  {
   "cell_type": "code",
   "execution_count": 7,
   "id": "611327a6",
   "metadata": {},
   "outputs": [
    {
     "name": "stdout",
     "output_type": "stream",
     "text": [
      "&str\n",
      "i32\n",
      "ctx::main\n",
      "ctx::print_type_of<i32>\n",
      "ctx::main::{{closure}}\n"
     ]
    },
    {
     "data": {
      "text/plain": [
       "()"
      ]
     },
     "execution_count": 7,
     "metadata": {},
     "output_type": "execute_result"
    }
   ],
   "source": [
    "main()"
   ]
  },
  {
   "cell_type": "code",
   "execution_count": 11,
   "id": "4b0a02ad",
   "metadata": {},
   "outputs": [
    {
     "name": "stdout",
     "output_type": "stream",
     "text": [
      "true false\n"
     ]
    }
   ],
   "source": [
    "println!(\"{} {}\", true || true && ! true, (true || true) && ! true);"
   ]
  },
  {
   "cell_type": "code",
   "execution_count": null,
   "id": "410a96f0",
   "metadata": {},
   "outputs": [],
   "source": []
  },
  {
   "cell_type": "code",
   "execution_count": null,
   "id": "3f1dba15",
   "metadata": {},
   "outputs": [],
   "source": []
  },
  {
   "cell_type": "code",
   "execution_count": null,
   "id": "2b01ae01",
   "metadata": {},
   "outputs": [],
   "source": []
  }
 ],
 "metadata": {
  "kernelspec": {
   "display_name": "Rust",
   "language": "rust",
   "name": "rust"
  },
  "language_info": {
   "codemirror_mode": "rust",
   "file_extension": ".rs",
   "mimetype": "text/rust",
   "name": "Rust",
   "pygment_lexer": "rust",
   "version": ""
  }
 },
 "nbformat": 4,
 "nbformat_minor": 5
}
