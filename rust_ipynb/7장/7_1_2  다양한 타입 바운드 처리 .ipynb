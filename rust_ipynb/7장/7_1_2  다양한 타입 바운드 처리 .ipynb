{
 "cells": [
  {
   "cell_type": "markdown",
   "id": "6a9b079a",
   "metadata": {},
   "source": [
    "## 동적 타입에 대한 바운드 처리 \n",
    "\n",
    "- 스마트 포인터를 매개변수의 타입이면 실제 동적 타입이다.\n",
    "- 이때 ?Sized는 크기가 고정되지 않는 트레이트 제한이다.\n",
    "- std::fmt::Debug도 고정되지 않는 객체를 위한 트레이트이다. \n",
    "- 함수의 트레이트를 표시할 때는 실제 매개변수와 반환타입까지 지정해야 함 "
   ]
  },
  {
   "cell_type": "markdown",
   "id": "b7981854",
   "metadata": {},
   "source": [
    "### 문자열이나 벡터 처리 "
   ]
  },
  {
   "cell_type": "code",
   "execution_count": 24,
   "id": "55afffbb",
   "metadata": {},
   "outputs": [],
   "source": [
    "fn print_box<T:std::fmt::Debug + ?Sized>(b: Box<T>) {\n",
    "    println!(\"{:?}\", b);\n",
    "}"
   ]
  },
  {
   "cell_type": "code",
   "execution_count": 25,
   "id": "06784f3d",
   "metadata": {},
   "outputs": [
    {
     "name": "stdout",
     "output_type": "stream",
     "text": [
      "\"가을이\"\n"
     ]
    }
   ],
   "source": [
    "print_box(Box::new(String::from(\"가을이\")));"
   ]
  },
  {
   "cell_type": "code",
   "execution_count": 26,
   "id": "e50baaea",
   "metadata": {},
   "outputs": [
    {
     "name": "stdout",
     "output_type": "stream",
     "text": [
      "[1, 2, 3]\n"
     ]
    }
   ],
   "source": [
    "print_box(Box::new(vec![1,2,3]));"
   ]
  },
  {
   "cell_type": "code",
   "execution_count": null,
   "id": "f168931e",
   "metadata": {},
   "outputs": [],
   "source": []
  },
  {
   "cell_type": "markdown",
   "id": "37e0d6f9",
   "metadata": {},
   "source": [
    "### 동적인 함수 실행"
   ]
  },
  {
   "cell_type": "code",
   "execution_count": 29,
   "id": "67fe96fe",
   "metadata": {},
   "outputs": [],
   "source": [
    "fn add() {\n",
    "    println!(\" 출력 \");\n",
    "}"
   ]
  },
  {
   "cell_type": "code",
   "execution_count": 28,
   "id": "3e8e00e8",
   "metadata": {},
   "outputs": [],
   "source": [
    "fn print_box1<T:Fn()->() + ?Sized>(b: Box<T>) {\n",
    "    b()\n",
    "}"
   ]
  },
  {
   "cell_type": "code",
   "execution_count": 30,
   "id": "30cc40fd",
   "metadata": {},
   "outputs": [
    {
     "name": "stdout",
     "output_type": "stream",
     "text": [
      " 출력 \n"
     ]
    }
   ],
   "source": [
    "print_box1(Box::new(add));"
   ]
  },
  {
   "cell_type": "code",
   "execution_count": null,
   "id": "6e19a2ba",
   "metadata": {},
   "outputs": [],
   "source": []
  }
 ],
 "metadata": {
  "kernelspec": {
   "display_name": "Rust",
   "language": "rust",
   "name": "rust"
  },
  "language_info": {
   "codemirror_mode": "rust",
   "file_extension": ".rs",
   "mimetype": "text/rust",
   "name": "Rust",
   "pygment_lexer": "rust",
   "version": ""
  }
 },
 "nbformat": 4,
 "nbformat_minor": 5
}
