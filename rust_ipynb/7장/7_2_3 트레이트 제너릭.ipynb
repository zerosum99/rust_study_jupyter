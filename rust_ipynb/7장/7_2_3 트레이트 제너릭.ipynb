{
 "cells": [
  {
   "cell_type": "code",
   "execution_count": null,
   "id": "76a48d92",
   "metadata": {},
   "outputs": [],
   "source": []
  },
  {
   "cell_type": "markdown",
   "id": "7b55b184",
   "metadata": {},
   "source": [
    "## 트레이트 제너릭\n",
    "\n",
    "- 일반적으로 제네릭을 사용하여 여러 유형에서 구현될 수 있도록 설계됩니다. \n",
    "-  이것은 다른 유형 사이에서 공유될 수 있는 동작을 캡슐화하고, 일반적으로 코드를 재사용하고 유지보수할 수 있게 해줍니다."
   ]
  },
  {
   "cell_type": "markdown",
   "id": "fecc99b9",
   "metadata": {},
   "source": [
    "### 트레이트 제너릭  \n",
    "\n",
    "- 해당 트레이트를 여러 유형에서 구현할 수 있으며, 구현한 유형에서는 필요에 따라 다른 유형의 값을 사용할 수 있습니다.\n",
    "- 이는 다형성을 구현하는 데 유용하며, 일반적으로 코드를 재사용하고 유지보수할 수 있게 해줍니다.\n"
   ]
  },
  {
   "cell_type": "code",
   "execution_count": 2,
   "id": "e7895e33",
   "metadata": {},
   "outputs": [],
   "source": [
    "trait Printable<T> {\n",
    "    fn print(&self, value: T);\n",
    "}\n",
    "\n",
    "struct Foo;\n",
    "struct Bar;\n",
    "\n",
    "impl Printable<i32> for Foo {\n",
    "    fn print(&self, value: i32) {\n",
    "        println!(\"Foo: {}\", value);\n",
    "    }\n",
    "}\n",
    "\n",
    "impl Printable<i32> for Bar {\n",
    "    fn print(&self, value: i32) {\n",
    "        println!(\"Bar: {}\", value);\n",
    "    }\n",
    "}\n"
   ]
  },
  {
   "cell_type": "code",
   "execution_count": 3,
   "id": "98ee43c0",
   "metadata": {},
   "outputs": [],
   "source": [
    "fn main() {\n",
    "    let foo = Foo;\n",
    "    let bar = Bar;\n",
    "    \n",
    "    foo.print(42);\n",
    "    bar.print(24);\n",
    "}"
   ]
  },
  {
   "cell_type": "code",
   "execution_count": 4,
   "id": "d9b4fbf0",
   "metadata": {},
   "outputs": [
    {
     "name": "stdout",
     "output_type": "stream",
     "text": [
      "Foo: 42\n",
      "Bar: 24\n"
     ]
    }
   ],
   "source": [
    "main();"
   ]
  },
  {
   "cell_type": "code",
   "execution_count": null,
   "id": "2bd39d98",
   "metadata": {},
   "outputs": [],
   "source": []
  },
  {
   "cell_type": "markdown",
   "id": "b34d09a2",
   "metadata": {},
   "source": [
    "## 컨테이너 트레이트 처리 "
   ]
  },
  {
   "cell_type": "code",
   "execution_count": 8,
   "id": "1abf3362",
   "metadata": {},
   "outputs": [],
   "source": [
    "trait Container<T> {\n",
    "    fn add(&mut self, item: T);\n",
    "    fn contains(&self, item: &T) -> bool;\n",
    "}\n",
    "\n",
    "struct MyVec<T> {\n",
    "    data: Vec<T>,\n",
    "}\n",
    "\n",
    "impl<T: std::cmp::PartialEq> Container<T> for MyVec<T> {\n",
    "    fn add(&mut self, item: T) {\n",
    "        self.data.push(item);\n",
    "    }\n",
    "    \n",
    "    fn contains(&self, item: &T) -> bool {\n",
    "        self.data.contains(item)\n",
    "    }\n",
    "}"
   ]
  },
  {
   "cell_type": "code",
   "execution_count": 12,
   "id": "051ecfae",
   "metadata": {},
   "outputs": [],
   "source": [
    "fn main() {\n",
    "    let mut vec = MyVec { data: vec![] };\n",
    "    vec.add(42);\n",
    "    vec.add(13);\n",
    "    println!(\"vec contains 42: {}\", vec.contains(&42));\n",
    "    println!(\"vec contains 23: {}\", vec.contains(&23));\n",
    "}"
   ]
  },
  {
   "cell_type": "code",
   "execution_count": 13,
   "id": "f6085543",
   "metadata": {},
   "outputs": [
    {
     "name": "stdout",
     "output_type": "stream",
     "text": [
      "vec contains 42: true\n",
      "vec contains 23: false\n"
     ]
    }
   ],
   "source": [
    "main();"
   ]
  },
  {
   "cell_type": "code",
   "execution_count": null,
   "id": "1abbc14e",
   "metadata": {},
   "outputs": [],
   "source": []
  }
 ],
 "metadata": {
  "kernelspec": {
   "display_name": "Rust",
   "language": "rust",
   "name": "rust"
  },
  "language_info": {
   "codemirror_mode": "rust",
   "file_extension": ".rs",
   "mimetype": "text/rust",
   "name": "Rust",
   "pygment_lexer": "rust",
   "version": ""
  }
 },
 "nbformat": 4,
 "nbformat_minor": 5
}
