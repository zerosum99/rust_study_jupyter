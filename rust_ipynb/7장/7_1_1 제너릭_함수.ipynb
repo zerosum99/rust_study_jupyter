{
 "cells": [
  {
   "cell_type": "code",
   "execution_count": null,
   "id": "4faabd03",
   "metadata": {},
   "outputs": [],
   "source": []
  },
  {
   "cell_type": "markdown",
   "id": "8377d145",
   "metadata": {},
   "source": [
    "## 러스트에서 제너릭은 \n",
    "\n",
    "- 코드 재사용성과 추상화를 위해 사용되는 매우 강력한 기능입니다. 러스트에서는 크게 두 가지 종류의 제너릭이 있습니다.\n",
    "\n",
    "### 함수 제너릭 (Function generics)\n",
    "- 함수 제너릭은 함수 내에서 인자의 타입이나 반환값의 타입을 추론할 수 있게 하는 기능입니다. \n",
    "- 함수 제너릭을 사용하여 여러 타입의 인자와 반환값을 처리할 수 있습니다. \n",
    "\n",
    "### 타입 제너릭 (Type generics)\n",
    "\n",
    "- 타입 제너릭은 구조체나 열거형 등 타입 자체에 대한 제너릭입니다. \n",
    "- 타입 제너릭을 사용하여 여러 다른 타입을 포함하는 컨테이너 타입을 작성할 수 있습니다. \n"
   ]
  },
  {
   "cell_type": "code",
   "execution_count": null,
   "id": "bc4b6258",
   "metadata": {},
   "outputs": [],
   "source": []
  },
  {
   "cell_type": "markdown",
   "id": "773169d7",
   "metadata": {},
   "source": [
    "## 1. 제너릭 함수\n",
    "\n",
    "- 타입을 타입매개변수로 지정해서 여러 타입을 하나의 함수에서 처리가 가능\n",
    "- 다양한 타입의 일반화된 함수를 제공 "
   ]
  },
  {
   "cell_type": "markdown",
   "id": "c1cd79fb",
   "metadata": {},
   "source": [
    "## 1-1 타입 정의 제너릭 함수  \n",
    "\n",
    "- 일반함수를 작성할 때는 매개변수와 반환값에 대한 타입을 지정한다. "
   ]
  },
  {
   "cell_type": "markdown",
   "id": "bc4f175b",
   "metadata": {},
   "source": [
    "### 타입 출력 함수 "
   ]
  },
  {
   "cell_type": "code",
   "execution_count": 2,
   "id": "25de0299",
   "metadata": {},
   "outputs": [],
   "source": [
    "fn print_type<T>(value: T) {\n",
    "    println!(\"value has type: {}\", std::any::type_name::<T>());\n",
    "}"
   ]
  },
  {
   "cell_type": "code",
   "execution_count": 3,
   "id": "05f59ce6",
   "metadata": {},
   "outputs": [
    {
     "name": "stdout",
     "output_type": "stream",
     "text": [
      "value has type: i32\n"
     ]
    }
   ],
   "source": [
    "print_type(100);"
   ]
  },
  {
   "cell_type": "markdown",
   "id": "9ccf9132",
   "metadata": {},
   "source": [
    "### 타입확인한 결과를 문자열로 출력  제너릭 함수 정의 "
   ]
  },
  {
   "cell_type": "code",
   "execution_count": 170,
   "id": "474d6ed7",
   "metadata": {},
   "outputs": [],
   "source": [
    "\n",
    "// Get the type of given variable, return a string representation of the type  , e.g \"i8\", \"u8\", \"i32\", \"u32\"\n",
    "fn type_of<T>(_: &T) -> String {\n",
    "    format!(\"{}\", std::any::type_name::<T>())\n",
    "}"
   ]
  },
  {
   "cell_type": "markdown",
   "id": "a03ba87a",
   "metadata": {},
   "source": [
    "## 1-2. 일반제너릭 정의 \n",
    "\n",
    "- 제너릭으로 지정한 타입은 연산자를 인식할 수 없다.\n",
    "- 제너릭에 특정 연산자를 사용하려면 트레이트로 제한을 지정해야 연산자를 사용할 수 있다"
   ]
  },
  {
   "cell_type": "markdown",
   "id": "f7db13b4",
   "metadata": {},
   "source": [
    "### 덧셈을 처리하는 일반함수 "
   ]
  },
  {
   "cell_type": "code",
   "execution_count": 2,
   "id": "971f92f6",
   "metadata": {},
   "outputs": [],
   "source": [
    "fn add(x:i32,y:i32) -> i32 {\n",
    "    x + y\n",
    "}"
   ]
  },
  {
   "cell_type": "code",
   "execution_count": 3,
   "id": "cf536381",
   "metadata": {},
   "outputs": [
    {
     "data": {
      "text/plain": [
       "300"
      ]
     },
     "execution_count": 3,
     "metadata": {},
     "output_type": "execute_result"
    }
   ],
   "source": [
    "add(100,200)"
   ]
  },
  {
   "cell_type": "markdown",
   "id": "449ea73e",
   "metadata": {},
   "source": [
    "### 두 매개변수를 더하는 제너릭 함수 정의\n",
    "\n",
    "- 타입매개변수는 함수명 다름에 꺾쇠 기호 다음에 넣고 \n",
    "- 이 타입매개변수를 매개변수의 타입으로 지정한다, 또한 반환값도 지정할 수 있다.\n",
    "- 하지만 이 타입은 명확히 연산자를 사용할 수 있는지 알 수가 없다. \n",
    "- 그래서 연산자 처리에 대해서 예외를 발생시킨다, "
   ]
  },
  {
   "cell_type": "code",
   "execution_count": 4,
   "id": "b66dba81",
   "metadata": {},
   "outputs": [
    {
     "ename": "Error",
     "evalue": "cannot add `T` to `T`",
     "output_type": "error",
     "traceback": [
      "\u001b[31m[E0369] Error:\u001b[0m cannot add `T` to `T`",
      "   \u001b[38;5;246m╭\u001b[0m\u001b[38;5;246m─\u001b[0m\u001b[38;5;246m[\u001b[0mcommand_4:1:1\u001b[38;5;246m]\u001b[0m",
      "   \u001b[38;5;246m│\u001b[0m",
      " \u001b[38;5;246m1 │\u001b[0m \u001b[38;5;249mf\u001b[0m\u001b[38;5;249mn\u001b[0m\u001b[38;5;249m \u001b[0m\u001b[38;5;249ma\u001b[0m\u001b[38;5;249md\u001b[0m\u001b[38;5;249md\u001b[0m\u001b[38;5;249m_\u001b[0m\u001b[38;5;249mg\u001b[0m\u001b[38;5;249me\u001b[0m\u001b[38;5;249mn\u001b[0m\u001b[38;5;249m<\u001b[0m\u001b[38;5;249mT\u001b[0m\u001b[38;5;249m>\u001b[0m\u001b[38;5;249m \u001b[0m\u001b[38;5;249m(\u001b[0m\u001b[38;5;249mx\u001b[0m\u001b[38;5;249m:\u001b[0m\u001b[38;5;249mT\u001b[0m\u001b[38;5;249m,\u001b[0m\u001b[38;5;249m \u001b[0m\u001b[38;5;249my\u001b[0m\u001b[38;5;249m:\u001b[0m\u001b[38;5;249mT\u001b[0m\u001b[38;5;249m)\u001b[0m\u001b[38;5;249m \u001b[0m\u001b[38;5;249m-\u001b[0m\u001b[38;5;249m>\u001b[0m\u001b[38;5;249m \u001b[0m\u001b[38;5;249mT\u001b[0m\u001b[38;5;249m \u001b[0m\u001b[38;5;249m{\u001b[0m",
      " \u001b[38;5;246m  ·\u001b[0m             \u001b[38;5;37m│\u001b[0m ",
      " \u001b[38;5;246m  ·\u001b[0m             \u001b[38;5;37m╰\u001b[0m\u001b[38;5;37m─\u001b[0m help: consider restricting type parameter `T`: `: std::ops::Add<Output = T>`",
      " \u001b[38;5;246m2 │\u001b[0m \u001b[38;5;249m \u001b[0m\u001b[38;5;249m \u001b[0m\u001b[38;5;249m \u001b[0m\u001b[38;5;249m \u001b[0m\u001b[38;5;54mx\u001b[0m\u001b[38;5;68m+\u001b[0m\u001b[38;5;100my\u001b[0m",
      " \u001b[38;5;246m  ·\u001b[0m     \u001b[38;5;54m┬\u001b[0m\u001b[38;5;68m┬\u001b[0m\u001b[38;5;100m┬\u001b[0m  ",
      " \u001b[38;5;246m  ·\u001b[0m     \u001b[38;5;54m╰\u001b[0m\u001b[38;5;54m─\u001b[0m\u001b[38;5;54m─\u001b[0m\u001b[38;5;54m─\u001b[0m\u001b[38;5;54m─\u001b[0m T",
      " \u001b[38;5;246m  ·\u001b[0m      \u001b[38;5;68m│\u001b[0m\u001b[38;5;100m│\u001b[0m  ",
      " \u001b[38;5;246m  ·\u001b[0m      \u001b[38;5;68m╰\u001b[0m\u001b[38;5;68m─\u001b[0m\u001b[38;5;68m─\u001b[0m\u001b[38;5;68m─\u001b[0m error: cannot add `T` to `T`",
      " \u001b[38;5;246m  ·\u001b[0m       \u001b[38;5;100m│\u001b[0m  ",
      " \u001b[38;5;246m  ·\u001b[0m       \u001b[38;5;100m╰\u001b[0m\u001b[38;5;100m─\u001b[0m\u001b[38;5;100m─\u001b[0m T",
      "\u001b[38;5;246m───╯\u001b[0m"
     ]
    }
   ],
   "source": [
    "fn add_gen<T> (x:T, y:T) -> T {\n",
    "    x+y\n",
    "}"
   ]
  },
  {
   "cell_type": "markdown",
   "id": "445d66fd",
   "metadata": {},
   "source": [
    "## 1-3 트레이트 제한\n",
    "\n",
    "- trait bound : 트레이트 제한이나 트레이트 경계\n",
    "- 타입 매개변수에 특정한 기능을 제공하는 범위를 트레이트로 지정해서 확정한다. "
   ]
  },
  {
   "cell_type": "markdown",
   "id": "dca26bd6",
   "metadata": {},
   "source": [
    "### 바운드 \n",
    "- 제네릭 타입이 가져야 하는 특정 속성을 정의하는 것으로, \n",
    "- 제네릭 타입을 사용할 때 타입의 범위를 제한하고 안정성을 높일 수 있습니다."
   ]
  },
  {
   "cell_type": "code",
   "execution_count": 4,
   "id": "92827a6d",
   "metadata": {},
   "outputs": [],
   "source": [
    "use std::fmt::Display;\n",
    "\n",
    "fn print_type<T: Display>(value: T) {\n",
    "    println!(\"value is {}\", value);\n",
    "}"
   ]
  },
  {
   "cell_type": "code",
   "execution_count": 5,
   "id": "f1ee7738",
   "metadata": {},
   "outputs": [
    {
     "name": "stdout",
     "output_type": "stream",
     "text": [
      "value is 100\n"
     ]
    }
   ],
   "source": [
    "print_type(100);"
   ]
  },
  {
   "cell_type": "markdown",
   "id": "12ba7164",
   "metadata": {},
   "source": [
    "### 여러 개의 바운드 사용 \n",
    "\n",
    "-  덧셈 기호로 트레이트를 연결한다"
   ]
  },
  {
   "cell_type": "code",
   "execution_count": 6,
   "id": "79efde8b",
   "metadata": {},
   "outputs": [],
   "source": [
    "fn print_type_1<T: Display + Clone>(value: T) {\n",
    "    println!(\"value is {}\", value);\n",
    "}"
   ]
  },
  {
   "cell_type": "code",
   "execution_count": 7,
   "id": "387025c8",
   "metadata": {},
   "outputs": [
    {
     "name": "stdout",
     "output_type": "stream",
     "text": [
      "value is 문자열\n"
     ]
    }
   ],
   "source": [
    "print_type_1(\"문자열\".to_owned());"
   ]
  },
  {
   "cell_type": "code",
   "execution_count": null,
   "id": "2703322d",
   "metadata": {},
   "outputs": [],
   "source": []
  },
  {
   "cell_type": "markdown",
   "id": "dfc6fb82",
   "metadata": {},
   "source": [
    "## 1-4 트레이트 제한 : 연산자 "
   ]
  },
  {
   "cell_type": "markdown",
   "id": "74fdb66e",
   "metadata": {},
   "source": [
    "### 덧셈 트레이트를 사용한다\n",
    "\n",
    "- 트레이트를 지정할 때는 현재 작성된 함수에 트레이트 정보가 있어야 한다"
   ]
  },
  {
   "cell_type": "code",
   "execution_count": 5,
   "id": "ae7b1c4f",
   "metadata": {},
   "outputs": [],
   "source": [
    "use std::ops::Add"
   ]
  },
  {
   "cell_type": "markdown",
   "id": "1d0786a5",
   "metadata": {},
   "source": [
    "### Add 트레이트\n",
    "- 연관타입을 가짐 \n",
    "- 그래서 연관타입 정보도 제공한다. "
   ]
  },
  {
   "cell_type": "code",
   "execution_count": 9,
   "id": "faf84d63",
   "metadata": {},
   "outputs": [],
   "source": [
    "fn add_gen<T:Add<Output=T>>(x:T, y:T) -> T {\n",
    "    x+y\n",
    "}"
   ]
  },
  {
   "cell_type": "code",
   "execution_count": 15,
   "id": "f9325c6a",
   "metadata": {},
   "outputs": [
    {
     "data": {
      "text/plain": [
       "30"
      ]
     },
     "execution_count": 15,
     "metadata": {},
     "output_type": "execute_result"
    }
   ],
   "source": [
    "add_gen(10,20)"
   ]
  },
  {
   "cell_type": "code",
   "execution_count": 16,
   "id": "0d61b94a",
   "metadata": {},
   "outputs": [
    {
     "data": {
      "text/plain": [
       "30.5"
      ]
     },
     "execution_count": 16,
     "metadata": {},
     "output_type": "execute_result"
    }
   ],
   "source": [
    "add_gen(10.2, 20.3)"
   ]
  },
  {
   "cell_type": "markdown",
   "id": "0102453f",
   "metadata": {},
   "source": [
    "### 문자열을 덧셈처리 안됨 "
   ]
  },
  {
   "cell_type": "code",
   "execution_count": 18,
   "id": "42d6c668",
   "metadata": {},
   "outputs": [
    {
     "ename": "Error",
     "evalue": "cannot add `String` to `String`",
     "output_type": "error",
     "traceback": [
      "\u001b[31m[E0277] Error:\u001b[0m cannot add `String` to `String`",
      "   \u001b[38;5;246m╭\u001b[0m\u001b[38;5;246m─\u001b[0m\u001b[38;5;246m[\u001b[0mcommand_18:1:1\u001b[38;5;246m]\u001b[0m",
      "   \u001b[38;5;246m│\u001b[0m",
      " \u001b[38;5;246m1 │\u001b[0m \u001b[38;5;54ma\u001b[0m\u001b[38;5;54md\u001b[0m\u001b[38;5;54md\u001b[0m\u001b[38;5;54m_\u001b[0m\u001b[38;5;54mg\u001b[0m\u001b[38;5;54me\u001b[0m\u001b[38;5;54mn\u001b[0m\u001b[38;5;249m(\u001b[0m\u001b[38;5;249m\"\u001b[0m\u001b[38;5;249ma\u001b[0m\u001b[38;5;249mb\u001b[0m\u001b[38;5;249mc\u001b[0m\u001b[38;5;249m\"\u001b[0m\u001b[38;5;249m.\u001b[0m\u001b[38;5;249mt\u001b[0m\u001b[38;5;249mo\u001b[0m\u001b[38;5;249m_\u001b[0m\u001b[38;5;249ms\u001b[0m\u001b[38;5;249mt\u001b[0m\u001b[38;5;249mr\u001b[0m\u001b[38;5;249mi\u001b[0m\u001b[38;5;249mn\u001b[0m\u001b[38;5;249mg\u001b[0m\u001b[38;5;249m(\u001b[0m\u001b[38;5;249m)\u001b[0m\u001b[38;5;249m,\u001b[0m\u001b[38;5;249m \u001b[0m\u001b[38;5;249m\"\u001b[0m\u001b[38;5;249mc\u001b[0m\u001b[38;5;249md\u001b[0m\u001b[38;5;249me\u001b[0m\u001b[38;5;249m\"\u001b[0m\u001b[38;5;249m.\u001b[0m\u001b[38;5;249mt\u001b[0m\u001b[38;5;249mo\u001b[0m\u001b[38;5;249m_\u001b[0m\u001b[38;5;249ms\u001b[0m\u001b[38;5;249mt\u001b[0m\u001b[38;5;249mr\u001b[0m\u001b[38;5;249mi\u001b[0m\u001b[38;5;249mn\u001b[0m\u001b[38;5;249mg\u001b[0m\u001b[38;5;249m(\u001b[0m\u001b[38;5;249m)\u001b[0m\u001b[38;5;249m)\u001b[0m",
      " \u001b[38;5;246m  ·\u001b[0m \u001b[38;5;54m─\u001b[0m\u001b[38;5;54m─\u001b[0m\u001b[38;5;54m─\u001b[0m\u001b[38;5;54m┬\u001b[0m\u001b[38;5;54m─\u001b[0m\u001b[38;5;54m─\u001b[0m\u001b[38;5;54m─\u001b[0m  ",
      " \u001b[38;5;246m  ·\u001b[0m    \u001b[38;5;54m╰\u001b[0m\u001b[38;5;54m─\u001b[0m\u001b[38;5;54m─\u001b[0m\u001b[38;5;54m─\u001b[0m\u001b[38;5;54m─\u001b[0m\u001b[38;5;54m─\u001b[0m no implementation for `String + String`",
      " \u001b[38;5;246m  ·\u001b[0m ",
      " \u001b[38;5;246m  ·\u001b[0m \u001b[38;5;115mNote\u001b[0m: required by this bound in `add_gen`",
      "\u001b[38;5;246m───╯\u001b[0m"
     ]
    }
   ],
   "source": [
    "add_gen(\"abc\".to_string(), \"cde\".to_string())"
   ]
  },
  {
   "cell_type": "markdown",
   "id": "f56a0da7",
   "metadata": {},
   "source": [
    "### 문자열간 결합을 쉽게 하기 위해서 format 매크로를 사용한다"
   ]
  },
  {
   "cell_type": "code",
   "execution_count": 39,
   "id": "f31790b7",
   "metadata": {},
   "outputs": [],
   "source": [
    "fn add_sgen(_x:String, _y:String) -> String {\n",
    "    format!(\"{}{}\",_x,_y)\n",
    "    \n",
    "}"
   ]
  },
  {
   "cell_type": "code",
   "execution_count": 40,
   "id": "4b93a162",
   "metadata": {},
   "outputs": [
    {
     "data": {
      "text/plain": [
       "\"가을겨울\""
      ]
     },
     "execution_count": 40,
     "metadata": {},
     "output_type": "execute_result"
    }
   ],
   "source": [
    "add_sgen(\"가을\".to_string(),\"겨울\".to_string())"
   ]
  },
  {
   "cell_type": "markdown",
   "id": "e7a34a37",
   "metadata": {},
   "source": [
    "### 위의 방식중에 매크로 연결해서 처리\n",
    "\n",
    "- 매크로에 문자열리터럴을 넣고 연결해서 사용이 가능하다. "
   ]
  },
  {
   "cell_type": "code",
   "execution_count": 38,
   "id": "d1178606",
   "metadata": {},
   "outputs": [
    {
     "data": {
      "text/plain": [
       "\"가을겨울\""
      ]
     },
     "execution_count": 38,
     "metadata": {},
     "output_type": "execute_result"
    }
   ],
   "source": [
    "concat!(\"가을\",\"겨울\")"
   ]
  },
  {
   "cell_type": "code",
   "execution_count": null,
   "id": "36598f44",
   "metadata": {},
   "outputs": [],
   "source": []
  },
  {
   "cell_type": "markdown",
   "id": "0baba43c",
   "metadata": {},
   "source": [
    "## 1-4 다양한 트레이트 제한을 표시하기 : where\n",
    "\n",
    "- 여러 개의 트레이트를 제한하기 위해서는 where 표현식으로 트레이트를 제한해야 함\n",
    "\n",
    "- 반환자료형 다음에 where를 사용해서 트레이트 제한을 처리한다. 특히 트레이트 제한이 많은 경우 사용한다 \n"
   ]
  },
  {
   "cell_type": "markdown",
   "id": "c76e8a7d",
   "metadata": {},
   "source": [
    "### 제너릭 함수에 바로 where 를 사용"
   ]
  },
  {
   "cell_type": "code",
   "execution_count": 62,
   "id": "0b9cb792",
   "metadata": {},
   "outputs": [],
   "source": [
    "fn add_str(x: &str) ->String {\n",
    "    x.to_string()\n",
    "}"
   ]
  },
  {
   "cell_type": "code",
   "execution_count": 63,
   "id": "4a1f9606",
   "metadata": {},
   "outputs": [
    {
     "data": {
      "text/plain": [
       "\"겨울이\""
      ]
     },
     "execution_count": 63,
     "metadata": {},
     "output_type": "execute_result"
    }
   ],
   "source": [
    "add_str(\"겨울이\")"
   ]
  },
  {
   "cell_type": "code",
   "execution_count": 160,
   "id": "1325948e",
   "metadata": {},
   "outputs": [],
   "source": [
    "// 'static as part of a trait bound:\n",
    "\n",
    "fn generic<T>(x: T) where T: std::fmt::Debug {\n",
    "    println!(\"{:?}\",x);\n",
    "}"
   ]
  },
  {
   "cell_type": "code",
   "execution_count": 161,
   "id": "545a0029",
   "metadata": {},
   "outputs": [
    {
     "name": "stdout",
     "output_type": "stream",
     "text": [
      "\"여름이\"\n"
     ]
    },
    {
     "data": {
      "text/plain": [
       "()"
      ]
     },
     "execution_count": 161,
     "metadata": {},
     "output_type": "execute_result"
    }
   ],
   "source": [
    "generic(\"여름이\")"
   ]
  },
  {
   "cell_type": "code",
   "execution_count": 162,
   "id": "f0c6563f",
   "metadata": {},
   "outputs": [],
   "source": [
    "fn add_gen2<T>(x:T, y:T) -> String where T:std::fmt::Display {\n",
    "    format!(\"{}{}\", x, y)\n",
    "}"
   ]
  },
  {
   "cell_type": "code",
   "execution_count": 163,
   "id": "88b941d4",
   "metadata": {},
   "outputs": [
    {
     "data": {
      "text/plain": [
       "\"가을이겨울이\""
      ]
     },
     "execution_count": 163,
     "metadata": {},
     "output_type": "execute_result"
    }
   ],
   "source": [
    "\"가을이\".to_string() + \"겨울이\""
   ]
  },
  {
   "cell_type": "code",
   "execution_count": 164,
   "id": "810ea5c0",
   "metadata": {},
   "outputs": [
    {
     "data": {
      "text/plain": [
       "\"가을이겨울이\""
      ]
     },
     "execution_count": 164,
     "metadata": {},
     "output_type": "execute_result"
    }
   ],
   "source": [
    "add_gen2(\"가을이\",\"겨울이\")"
   ]
  },
  {
   "cell_type": "code",
   "execution_count": null,
   "id": "8e0c6907",
   "metadata": {},
   "outputs": [],
   "source": []
  },
  {
   "cell_type": "markdown",
   "id": "c9d05d18",
   "metadata": {},
   "source": [
    "### 구조체와 트레이트를 사용한 경우 이를 트레이트 경계로 사용 "
   ]
  },
  {
   "cell_type": "code",
   "execution_count": 2,
   "id": "523a82cd",
   "metadata": {},
   "outputs": [],
   "source": [
    "struct SeaCreature {\n",
    "    pub name: String,\n",
    "    noise: String,\n",
    "}\n",
    "\n",
    "impl SeaCreature {\n",
    "    pub fn get_sound(&self) -> &str {\n",
    "        &self.noise\n",
    "    }\n",
    "}\n",
    "\n",
    "trait NoiseMaker {\n",
    "    fn make_noise(&self);\n",
    "}\n",
    "\n",
    "impl NoiseMaker for SeaCreature {\n",
    "    fn make_noise(&self) {\n",
    "        println!(\"{}\", &self.get_sound());\n",
    "    }\n",
    "}\n",
    "\n",
    "fn generic_make_noise<T>(creature: &T)\n",
    "where\n",
    "    T: NoiseMaker,\n",
    "{\n",
    "    // 컴파일 타임에 실제 자료형을 알게 됩니다\n",
    "    creature.make_noise();\n",
    "}\n",
    "\n",
    "fn main() {\n",
    "    let creature = SeaCreature {\n",
    "        name: String::from(\"Ferris\"),\n",
    "        noise: String::from(\"blub\"),\n",
    "    };\n",
    "    generic_make_noise(&creature);\n",
    "}\n"
   ]
  },
  {
   "cell_type": "code",
   "execution_count": 3,
   "id": "12c3dbac",
   "metadata": {},
   "outputs": [
    {
     "name": "stdout",
     "output_type": "stream",
     "text": [
      "blub\n"
     ]
    }
   ],
   "source": [
    "main();"
   ]
  },
  {
   "cell_type": "markdown",
   "id": "afef1659",
   "metadata": {},
   "source": [
    "### 벡터를 출력하기 "
   ]
  },
  {
   "cell_type": "code",
   "execution_count": 9,
   "id": "15866c8b",
   "metadata": {},
   "outputs": [],
   "source": [
    "fn print_vector<T>(vector: &Vec<T>) \n",
    "where\n",
    "    T: std::fmt::Debug,\n",
    "{\n",
    "    for element in vector {\n",
    "        println!(\"{:?}\", element);\n",
    "    }\n",
    "}\n",
    "\n",
    "fn main() {\n",
    "    let v1 = vec![1, 2, 3];\n",
    "    let v2 = vec![\"a\", \"b\", \"c\"];\n",
    "\n",
    "    print_vector(&v1);\n",
    "    print_vector(&v2);\n",
    "}"
   ]
  },
  {
   "cell_type": "code",
   "execution_count": 10,
   "id": "afdd166c",
   "metadata": {},
   "outputs": [
    {
     "name": "stdout",
     "output_type": "stream",
     "text": [
      "1\n",
      "2\n",
      "3\n",
      "\"a\"\n",
      "\"b\"\n",
      "\"c\"\n"
     ]
    }
   ],
   "source": [
    "main();"
   ]
  },
  {
   "cell_type": "code",
   "execution_count": null,
   "id": "c552c03d",
   "metadata": {},
   "outputs": [],
   "source": []
  },
  {
   "cell_type": "markdown",
   "id": "9e852e9a",
   "metadata": {},
   "source": [
    "## 1-5 숫자 구하기  제너릭"
   ]
  },
  {
   "cell_type": "code",
   "execution_count": 219,
   "id": "f86f96f6",
   "metadata": {},
   "outputs": [],
   "source": [
    "use std::any::{Any, TypeId};"
   ]
  },
  {
   "cell_type": "code",
   "execution_count": 246,
   "id": "c4da3ae1",
   "metadata": {},
   "outputs": [],
   "source": [
    "fn addition_of_values<T: PartialOrd + std::ops::Add<Output = T> + Into<T> + From<T> >(num1: T, num2: T) -> T {\n",
    "    num1.into()  + num2\n",
    "   \n",
    "\n",
    "}"
   ]
  },
  {
   "cell_type": "code",
   "execution_count": 247,
   "id": "92ca067b",
   "metadata": {},
   "outputs": [
    {
     "data": {
      "text/plain": [
       "300"
      ]
     },
     "execution_count": 247,
     "metadata": {},
     "output_type": "execute_result"
    }
   ],
   "source": [
    "addition_of_values(100,200)"
   ]
  },
  {
   "cell_type": "code",
   "execution_count": 248,
   "id": "6e21fb38",
   "metadata": {},
   "outputs": [
    {
     "data": {
      "text/plain": [
       "300.55"
      ]
     },
     "execution_count": 248,
     "metadata": {},
     "output_type": "execute_result"
    }
   ],
   "source": [
    "addition_of_values(100.22,200.33)"
   ]
  },
  {
   "cell_type": "code",
   "execution_count": 252,
   "id": "43f55589",
   "metadata": {},
   "outputs": [
    {
     "ename": "Error",
     "evalue": "cannot add `&str` to `&str`",
     "output_type": "error",
     "traceback": [
      "addition_of_values(\"가을이\", \"겨율이\")",
      "\u001b[91m^^^^^^^^^^^^^^^^^^\u001b[0m \u001b[94mno implementation for `&str + &str`\u001b[0m",
      "cannot add `&str` to `&str`",
      "\u001b[1mhelp\u001b[0m: the trait `Add` is not implemented for `&str`",
      "\u001b[1mhelp\u001b[0m: the trait `Add<&str>` is implemented for `String`"
     ]
    }
   ],
   "source": [
    "addition_of_values(\"가을이\", \"겨율이\")"
   ]
  },
  {
   "cell_type": "code",
   "execution_count": 196,
   "id": "fd9a4695",
   "metadata": {},
   "outputs": [
    {
     "data": {
      "text/plain": [
       "\"aaa\""
      ]
     },
     "execution_count": 196,
     "metadata": {},
     "output_type": "execute_result"
    }
   ],
   "source": [
    "Into::<String>::into(\"aaa\")"
   ]
  },
  {
   "cell_type": "code",
   "execution_count": 181,
   "id": "c8c4ac23",
   "metadata": {},
   "outputs": [
    {
     "data": {
      "text/plain": [
       "\"alloc::string::String\""
      ]
     },
     "execution_count": 181,
     "metadata": {},
     "output_type": "execute_result"
    }
   ],
   "source": [
    "type_of(&\"str\".to_string())"
   ]
  },
  {
   "cell_type": "code",
   "execution_count": 182,
   "id": "2fea7237",
   "metadata": {},
   "outputs": [
    {
     "data": {
      "text/plain": [
       "\"std::string::String\""
      ]
     },
     "execution_count": 182,
     "metadata": {},
     "output_type": "execute_result"
    }
   ],
   "source": [
    "\"str\".to_string().type_name_of()"
   ]
  },
  {
   "cell_type": "markdown",
   "id": "2fff57b3",
   "metadata": {},
   "source": [
    "## 2. 문자열 연결 처리를 알아보기 "
   ]
  },
  {
   "cell_type": "markdown",
   "id": "bdaecb0c",
   "metadata": {},
   "source": [
    "### 더하기 연산자로 문자열을 연결하기\n",
    "\n",
    "- 더하기 연산으로 문자열을 연결할 때 첫번째는 문자열이고 두번째는 문자열 리터럴이다.  "
   ]
  },
  {
   "cell_type": "code",
   "execution_count": 90,
   "id": "b6f835d8",
   "metadata": {},
   "outputs": [],
   "source": [
    "fn main() {\n",
    "    let one = \"string\";\n",
    "    let two = \"something else\";\n",
    "\n",
    "    let three = one.to_owned() + two;   // to_owned는 소유권 데이터로 변환 -> 복제됨 \n",
    "    let four = one.to_string();\n",
    "    \n",
    "    println!(\" {} \", three);\n",
    "    println!(\" {} \", one);\n",
    "    println!(\" {} \", four);\n",
    "}"
   ]
  },
  {
   "cell_type": "code",
   "execution_count": 91,
   "id": "058dacae",
   "metadata": {},
   "outputs": [
    {
     "name": "stdout",
     "output_type": "stream",
     "text": [
      " stringsomething else \n",
      " string \n",
      " string \n"
     ]
    },
    {
     "data": {
      "text/plain": [
       "()"
      ]
     },
     "execution_count": 91,
     "metadata": {},
     "output_type": "execute_result"
    }
   ],
   "source": [
    "main()"
   ]
  },
  {
   "cell_type": "code",
   "execution_count": null,
   "id": "3047e993",
   "metadata": {},
   "outputs": [],
   "source": []
  },
  {
   "cell_type": "markdown",
   "id": "3b66a8fe",
   "metadata": {},
   "source": [
    "###  두 개의 문자리터럴 연결하기 : join 메서드 \n",
    "\n",
    "- 두 개의 문자열 리터럴을 받고 배열에 넣고 join 메서드로 처리하면 문자열로 반환한다.\n"
   ]
  },
  {
   "cell_type": "code",
   "execution_count": 97,
   "id": "5d473663",
   "metadata": {},
   "outputs": [],
   "source": [
    "fn add_join(first:&str, second:&str) -> String {\n",
    "    [first, second].join(\" \")\n",
    "}\n"
   ]
  },
  {
   "cell_type": "code",
   "execution_count": 98,
   "id": "2b5d66d4",
   "metadata": {},
   "outputs": [
    {
     "data": {
      "text/plain": [
       "\"자자 오오\""
      ]
     },
     "execution_count": 98,
     "metadata": {},
     "output_type": "execute_result"
    }
   ],
   "source": [
    "add_join(\"자자\",\"오오\")"
   ]
  },
  {
   "cell_type": "markdown",
   "id": "27856600",
   "metadata": {},
   "source": [
    "###  두 개의 문자리터럴 연결하기 : format! 매크로 사용하기 "
   ]
  },
  {
   "cell_type": "code",
   "execution_count": 99,
   "id": "5490b3a2",
   "metadata": {},
   "outputs": [],
   "source": [
    "fn add_format(first:&str, second:&str) -> String {\n",
    "    format!(\" {} {}\",first,second)\n",
    "}\n"
   ]
  },
  {
   "cell_type": "code",
   "execution_count": 100,
   "id": "46ad106f",
   "metadata": {},
   "outputs": [
    {
     "data": {
      "text/plain": [
       "\" 주주 하하\""
      ]
     },
     "execution_count": 100,
     "metadata": {},
     "output_type": "execute_result"
    }
   ],
   "source": [
    "add_format(\"주주\",\"하하\")"
   ]
  },
  {
   "cell_type": "markdown",
   "id": "9ff7ae06",
   "metadata": {},
   "source": [
    "###  두 개의 문자리터럴 연결하기 : concat! 매크로 사용하기 "
   ]
  },
  {
   "cell_type": "code",
   "execution_count": 102,
   "id": "059d84df",
   "metadata": {},
   "outputs": [],
   "source": [
    "fn add_concat()->String {\n",
    "    concat!(\"First\", \" \", \"Second\").to_string()\n",
    "}"
   ]
  },
  {
   "cell_type": "code",
   "execution_count": 103,
   "id": "727cecc1",
   "metadata": {},
   "outputs": [
    {
     "data": {
      "text/plain": [
       "\"First Second\""
      ]
     },
     "execution_count": 103,
     "metadata": {},
     "output_type": "execute_result"
    }
   ],
   "source": [
    "add_concat()"
   ]
  },
  {
   "cell_type": "code",
   "execution_count": null,
   "id": "584be754",
   "metadata": {},
   "outputs": [],
   "source": []
  },
  {
   "cell_type": "markdown",
   "id": "cab5da4e",
   "metadata": {},
   "source": [
    "###  두 개의 문자리터럴 연결하기 : 문자열의 push_str 메서드 사용하기 "
   ]
  },
  {
   "cell_type": "code",
   "execution_count": 105,
   "id": "07258bb3",
   "metadata": {},
   "outputs": [],
   "source": [
    "fn add_Str(first:&str, second:&str) -> String {\n",
    "    let mut first = first.to_string();\n",
    "    first.push_str(second);\n",
    "    first\n",
    "} "
   ]
  },
  {
   "cell_type": "code",
   "execution_count": 106,
   "id": "d3875b5b",
   "metadata": {},
   "outputs": [
    {
     "data": {
      "text/plain": [
       "\"저저야야\""
      ]
     },
     "execution_count": 106,
     "metadata": {},
     "output_type": "execute_result"
    }
   ],
   "source": [
    "add_Str(\"저저\",\"야야\")"
   ]
  },
  {
   "cell_type": "markdown",
   "id": "e50a6be7",
   "metadata": {},
   "source": [
    "###  두 개의 문자리터럴 연결하기 : 문자열의 더하기 연산자  사용하기 "
   ]
  },
  {
   "cell_type": "code",
   "execution_count": 107,
   "id": "8a8acf7a",
   "metadata": {},
   "outputs": [],
   "source": [
    "fn add_Add(first:&str, second:&str) -> String {\n",
    "    let mut first = first.to_string();\n",
    "    first + second\n",
    "} "
   ]
  },
  {
   "cell_type": "code",
   "execution_count": 108,
   "id": "d33b1619",
   "metadata": {},
   "outputs": [
    {
     "data": {
      "text/plain": [
       "\"장하다문자열\""
      ]
     },
     "execution_count": 108,
     "metadata": {},
     "output_type": "execute_result"
    }
   ],
   "source": [
    "add_Add(\"장하다\", \"문자열\")"
   ]
  },
  {
   "cell_type": "markdown",
   "id": "2b8149ed",
   "metadata": {},
   "source": [
    "###  Into 트레이트의 into 메서드로 문자열 결합하기\n",
    "\n",
    "- 더하기 연산자를 사용할 때는 반드시 두번째는 as_str로 변환해서 처리"
   ]
  },
  {
   "cell_type": "code",
   "execution_count": 131,
   "id": "9f23e8a2",
   "metadata": {},
   "outputs": [],
   "source": [
    "fn foo<T: Into<String>>(s: T, s1: T) -> String {\n",
    "    s.into() + s1.into().as_str()\n",
    "}"
   ]
  },
  {
   "cell_type": "code",
   "execution_count": 132,
   "id": "4e1d5a0a",
   "metadata": {},
   "outputs": [],
   "source": [
    "let s = String::from(\"abc\");\n",
    "let ss = String::from(\"def\");"
   ]
  },
  {
   "cell_type": "code",
   "execution_count": 133,
   "id": "8a5a3c18",
   "metadata": {},
   "outputs": [
    {
     "data": {
      "text/plain": [
       "\"abcdef\""
      ]
     },
     "execution_count": 133,
     "metadata": {},
     "output_type": "execute_result"
    }
   ],
   "source": [
    "foo(s,ss)"
   ]
  },
  {
   "cell_type": "code",
   "execution_count": 134,
   "id": "25e5af23",
   "metadata": {},
   "outputs": [
    {
     "data": {
      "text/plain": [
       "\"abcxyz\""
      ]
     },
     "execution_count": 134,
     "metadata": {},
     "output_type": "execute_result"
    }
   ],
   "source": [
    "foo(\"abc\",\"xyz\")"
   ]
  },
  {
   "cell_type": "code",
   "execution_count": null,
   "id": "3abd90a8",
   "metadata": {},
   "outputs": [],
   "source": []
  },
  {
   "cell_type": "code",
   "execution_count": null,
   "id": "b8a6b9bc",
   "metadata": {},
   "outputs": [],
   "source": []
  }
 ],
 "metadata": {
  "kernelspec": {
   "display_name": "Rust",
   "language": "rust",
   "name": "rust"
  },
  "language_info": {
   "codemirror_mode": "rust",
   "file_extension": ".rs",
   "mimetype": "text/rust",
   "name": "Rust",
   "pygment_lexer": "rust",
   "version": ""
  }
 },
 "nbformat": 4,
 "nbformat_minor": 5
}
