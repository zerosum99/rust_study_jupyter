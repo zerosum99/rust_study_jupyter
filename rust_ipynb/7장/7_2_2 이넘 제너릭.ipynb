{
 "cells": [
  {
   "cell_type": "code",
   "execution_count": null,
   "id": "ce2e11c2",
   "metadata": {},
   "outputs": [],
   "source": []
  },
  {
   "cell_type": "code",
   "execution_count": null,
   "id": "cf9c76df",
   "metadata": {},
   "outputs": [],
   "source": []
  },
  {
   "cell_type": "markdown",
   "id": "9e2843b7",
   "metadata": {},
   "source": [
    "## 이넘의 값에 대한 제너릭 처리\n",
    "\n",
    "- 각각의 값에 대한 처리 "
   ]
  },
  {
   "cell_type": "code",
   "execution_count": 2,
   "id": "17fbaa25",
   "metadata": {},
   "outputs": [],
   "source": [
    "enum MultiType<T, U> {\n",
    "    Type1(T),\n",
    "    Type2(U),\n",
    "}"
   ]
  },
  {
   "cell_type": "code",
   "execution_count": 8,
   "id": "77974b2d",
   "metadata": {},
   "outputs": [],
   "source": [
    "fn main() {\n",
    "    let m1 = MultiType::<i32,&str>::Type1(42);\n",
    "    let m2 = MultiType::<i32,&str>::Type2(\"Hello\");\n",
    "\n",
    "    match m1 {\n",
    "        MultiType::Type1(x) => println!(\"m1 is Type1 with value {}\", x),\n",
    "        MultiType::Type2(x) => println!(\"m1 is Type2 with value {}\", x),\n",
    "    }\n",
    "\n",
    "    match m2 {\n",
    "        MultiType::Type1(x) => println!(\"m2 is Type1 with value {}\", x),\n",
    "        MultiType::Type2(x) => println!(\"m2 is Type2 with value {}\", x),\n",
    "    }\n",
    "}"
   ]
  },
  {
   "cell_type": "code",
   "execution_count": 9,
   "id": "104585dd",
   "metadata": {},
   "outputs": [
    {
     "name": "stdout",
     "output_type": "stream",
     "text": [
      "m1 is Type1 with value 42\n",
      "m2 is Type2 with value Hello\n"
     ]
    }
   ],
   "source": [
    "main();"
   ]
  },
  {
   "cell_type": "code",
   "execution_count": null,
   "id": "5231c278",
   "metadata": {},
   "outputs": [],
   "source": []
  },
  {
   "cell_type": "markdown",
   "id": "00f98851",
   "metadata": {},
   "source": [
    "## 결과있는 반환값에 대한 처리 \n",
    "\n",
    "- 다양한 종류의 에러를 표현할 수 있는 Result 열거형을 구현할 수 있습니다.\n",
    "- Result 타입은 함수 실행 결과가 성공적으로 완료되었는지, 아니면 오류가 발생했는지를 표현하기 위해 사용됩니다.\n"
   ]
  },
  {
   "cell_type": "code",
   "execution_count": 10,
   "id": "69ca03e0",
   "metadata": {},
   "outputs": [],
   "source": [
    "enum Result<T, E> {\n",
    "    Ok(T),\n",
    "    Err(E),\n",
    "}\n",
    "\n",
    "fn divide(x: i32, y: i32) -> Result<i32, &'static str> {\n",
    "    if y == 0 {\n",
    "        return Result::Err(\"division by zero\");\n",
    "    }\n",
    "    Result::Ok(x / y)\n",
    "}\n"
   ]
  },
  {
   "cell_type": "code",
   "execution_count": 11,
   "id": "67363822",
   "metadata": {},
   "outputs": [],
   "source": [
    "fn main() {\n",
    "    let a = divide(10, 2);\n",
    "    let b = divide(10, 0);\n",
    "\n",
    "    match a {\n",
    "        Result::Ok(x) => println!(\"10 / 2 = {}\", x),\n",
    "        Result::Err(e) => println!(\"error: {}\", e),\n",
    "    }\n",
    "\n",
    "    match b {\n",
    "        Result::Ok(x) => println!(\"10 / 0 = {}\", x),\n",
    "        Result::Err(e) => println!(\"error: {}\", e),\n",
    "    }\n",
    "}"
   ]
  },
  {
   "cell_type": "code",
   "execution_count": 12,
   "id": "6b5deee5",
   "metadata": {},
   "outputs": [
    {
     "name": "stdout",
     "output_type": "stream",
     "text": [
      "10 / 2 = 5\n",
      "error: division by zero\n"
     ]
    }
   ],
   "source": [
    "main();"
   ]
  },
  {
   "cell_type": "code",
   "execution_count": null,
   "id": "eec54718",
   "metadata": {},
   "outputs": [],
   "source": []
  },
  {
   "cell_type": "markdown",
   "id": "99aaa157",
   "metadata": {},
   "source": [
    "## 특정 값이 존재 여부\n",
    "\n",
    "- Option 이넘에서 처리 "
   ]
  },
  {
   "cell_type": "code",
   "execution_count": 19,
   "id": "01649321",
   "metadata": {},
   "outputs": [],
   "source": [
    "fn divide_(x: f32, y: f32) -> Option<f32> {\n",
    "    if y == 0.0 {\n",
    "        return None;\n",
    "    }\n",
    "    Some(x / y)\n",
    "}\n"
   ]
  },
  {
   "cell_type": "code",
   "execution_count": 24,
   "id": "0463a5a4",
   "metadata": {},
   "outputs": [],
   "source": [
    "fn main() {\n",
    "    let a = divide_(10.0_f32, 2.0_f32);\n",
    "    let b = divide_(10.0_f32, 0.0_f32);\n",
    "\n",
    "    match a {\n",
    "        Option::Some(x) => println!(\"10.0 / 2.0 = {}\", x),\n",
    "        Option::None => println!(\"error: division by zero\"),\n",
    "    }\n",
    "\n",
    "    match b {\n",
    "        Option::Some(x) => println!(\"10.0 / 0.0 = {}\", x),\n",
    "        Option::None => println!(\"error: division by zero\"),\n",
    "    }\n",
    "}"
   ]
  },
  {
   "cell_type": "code",
   "execution_count": 25,
   "id": "e03f6eed",
   "metadata": {},
   "outputs": [
    {
     "name": "stdout",
     "output_type": "stream",
     "text": [
      "10.0 / 2.0 = 5\n",
      "error: division by zero\n"
     ]
    }
   ],
   "source": [
    "main();"
   ]
  },
  {
   "cell_type": "code",
   "execution_count": null,
   "id": "7de58803",
   "metadata": {},
   "outputs": [],
   "source": []
  }
 ],
 "metadata": {
  "kernelspec": {
   "display_name": "Rust",
   "language": "rust",
   "name": "rust"
  },
  "language_info": {
   "codemirror_mode": "rust",
   "file_extension": ".rs",
   "mimetype": "text/rust",
   "name": "Rust",
   "pygment_lexer": "rust",
   "version": ""
  }
 },
 "nbformat": 4,
 "nbformat_minor": 5
}
