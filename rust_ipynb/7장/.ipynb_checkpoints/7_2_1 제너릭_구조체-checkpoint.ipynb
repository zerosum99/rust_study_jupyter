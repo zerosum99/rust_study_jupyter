{
 "cells": [
  {
   "cell_type": "code",
   "execution_count": null,
   "id": "eecdd3fb",
   "metadata": {},
   "outputs": [],
   "source": []
  },
  {
   "cell_type": "code",
   "execution_count": null,
   "id": "a2fce7e6",
   "metadata": {},
   "outputs": [],
   "source": []
  },
  {
   "cell_type": "markdown",
   "id": "9dff117a",
   "metadata": {},
   "source": [
    "# 1. 구조체 제너릭 "
   ]
  },
  {
   "cell_type": "markdown",
   "id": "ae7fb19e-d3e2-4568-a5bd-eff00ab1d060",
   "metadata": {},
   "source": [
    "## 1-1 구체적 정의한 후에 함수의 자료형 사용 "
   ]
  },
  {
   "cell_type": "markdown",
   "id": "b1d2f68b-1f20-4044-81da-9a2dedcc2150",
   "metadata": {},
   "source": [
    "### 구조체 정의\n",
    "\n",
    "- 아무런 필드 없는 구조체와 튜플 구조체 정의\n",
    "- 튜플 구조체는 값은 이름만 있는 구조체로 세팅"
   ]
  },
  {
   "cell_type": "code",
   "execution_count": 2,
   "id": "92239aad",
   "metadata": {},
   "outputs": [],
   "source": [
    "struct A;          // Concrete type `A`.\n",
    "struct S(A);       // Concrete type `S`."
   ]
  },
  {
   "cell_type": "markdown",
   "id": "572f5907-4cc2-433b-9948-ceb67b69169d",
   "metadata": {},
   "source": [
    "### 구조체를 받는 함수 정의 "
   ]
  },
  {
   "cell_type": "code",
   "execution_count": 3,
   "id": "b30997f1",
   "metadata": {},
   "outputs": [],
   "source": [
    "fn reg_fn(_s: S) {}"
   ]
  },
  {
   "cell_type": "code",
   "execution_count": 4,
   "id": "65a61da4",
   "metadata": {},
   "outputs": [],
   "source": [
    "fn main() {\n",
    "    // Using the non-generic functions\n",
    "    let a = A;\n",
    "    let s = S(a);\n",
    "    reg_fn(s);          // Concrete type.\n",
    "\n",
    "    println!(\"Success!\");\n",
    "}\n"
   ]
  },
  {
   "cell_type": "code",
   "execution_count": 5,
   "id": "e88a1dc6",
   "metadata": {},
   "outputs": [
    {
     "name": "stdout",
     "output_type": "stream",
     "text": [
      "Success!\n"
     ]
    },
    {
     "data": {
      "text/plain": [
       "()"
      ]
     },
     "execution_count": 5,
     "metadata": {},
     "output_type": "execute_result"
    }
   ],
   "source": [
    "main()"
   ]
  },
  {
   "cell_type": "markdown",
   "id": "77419f34-c999-4943-8184-044f95442771",
   "metadata": {},
   "source": [
    "## 1-2 제너릭 구조체를 정의한 후에 제너릭 함수에 사용 "
   ]
  },
  {
   "cell_type": "markdown",
   "id": "31ae759e-c60f-434f-86a3-6fd52405792a",
   "metadata": {},
   "source": [
    "### 제너릭 구조체 정의\n",
    "\n",
    "- 여러 함수에 제너릭 구조체를 정의\n",
    "- 구조체의 특정 타입을 가진 함수 정의\n",
    "- 함수 제너릭에 제너릭 구조체를 사용하는 함수 정의  "
   ]
  },
  {
   "cell_type": "code",
   "execution_count": 6,
   "id": "61fa0b70",
   "metadata": {},
   "outputs": [],
   "source": [
    "// Fill in the blanks to make it work\n",
    "struct SGen<T>(T); // Generic type `SGen`.\n",
    "\n",
    "fn gen_spec_t(_s: SGen<A>) {}\n",
    "\n",
    "fn gen_spec_i32(_s: SGen<i32>) {}\n",
    "\n",
    "fn generic<T>(_s: SGen<T>) {}"
   ]
  },
  {
   "cell_type": "code",
   "execution_count": null,
   "id": "e6588baa",
   "metadata": {},
   "outputs": [],
   "source": []
  },
  {
   "cell_type": "code",
   "execution_count": 7,
   "id": "9e56700d",
   "metadata": {},
   "outputs": [],
   "source": [
    "fn main() {\n",
    "    // Using the non-generic functions\n",
    "    let a = A;\n",
    "    \n",
    "    let sg = SGen(a);\n",
    "    gen_spec_t(sg);   // Implicitly specified type parameter `A`.\n",
    "    \n",
    "    let a32 = 100; \n",
    "    let sg32 = SGen(a32);\n",
    "    gen_spec_i32(sg32); // Implicitly specified type parameter `i32`.\n",
    "    \n",
    "    let gen = 'b';\n",
    "    let sg322 = SGen(gen);\n",
    "    // Explicitly specified type parameter `char` to `generic()`.\n",
    "    generic::<char>(sg322);\n",
    "    let sg323 = SGen(gen);\n",
    "    // Implicitly specified type parameter `char` to `generic()`.\n",
    "    generic(sg323);\n",
    "\n",
    "    println!(\"Success!\");\n",
    "}\n"
   ]
  },
  {
   "cell_type": "code",
   "execution_count": 8,
   "id": "046b3da2",
   "metadata": {},
   "outputs": [
    {
     "name": "stdout",
     "output_type": "stream",
     "text": [
      "Success!\n"
     ]
    },
    {
     "data": {
      "text/plain": [
       "()"
      ]
     },
     "execution_count": 8,
     "metadata": {},
     "output_type": "execute_result"
    }
   ],
   "source": [
    "main()"
   ]
  },
  {
   "cell_type": "code",
   "execution_count": null,
   "id": "3545f864-d0bf-4ecc-8cfa-38eefa069554",
   "metadata": {},
   "outputs": [],
   "source": []
  },
  {
   "cell_type": "markdown",
   "id": "6c7b1e46",
   "metadata": {},
   "source": [
    "## 2. 제너릭 구조체에 필드 타입을 지정하기\n",
    "\n",
    "- 제너릭 구조체는 내부에 정의한 필드의 타입으로 지정해서 사용 "
   ]
  },
  {
   "cell_type": "markdown",
   "id": "3cecd74a",
   "metadata": {},
   "source": [
    "## 2-1 필드의 타입이 다른데 동일하게 처리한  경우 \n",
    "\n",
    "- 제너릭 구조체 지정하고 특정 값을 지정한다.\n",
    "- 타입매개변수가 하나일 경우는 모든 필드의 자료형이 동일해야 함"
   ]
  },
  {
   "cell_type": "code",
   "execution_count": 9,
   "id": "f348aa95",
   "metadata": {},
   "outputs": [
    {
     "ename": "Error",
     "evalue": "mismatched types",
     "output_type": "error",
     "traceback": [
      "\u001b[31m[E0308] Error:\u001b[0m mismatched types",
      "   \u001b[38;5;246m╭\u001b[0m\u001b[38;5;246m─\u001b[0m\u001b[38;5;246m[\u001b[0mcommand_9:1:1\u001b[38;5;246m]\u001b[0m",
      "   \u001b[38;5;246m│\u001b[0m",
      " \u001b[38;5;246m9 │\u001b[0m \u001b[38;5;249m \u001b[0m\u001b[38;5;249m \u001b[0m\u001b[38;5;249m \u001b[0m\u001b[38;5;249m \u001b[0m\u001b[38;5;249ml\u001b[0m\u001b[38;5;249me\u001b[0m\u001b[38;5;249mt\u001b[0m\u001b[38;5;249m \u001b[0m\u001b[38;5;249mp\u001b[0m\u001b[38;5;249m \u001b[0m\u001b[38;5;249m=\u001b[0m\u001b[38;5;249m \u001b[0m\u001b[38;5;249mP\u001b[0m\u001b[38;5;249mo\u001b[0m\u001b[38;5;249mi\u001b[0m\u001b[38;5;249mn\u001b[0m\u001b[38;5;249mt\u001b[0m\u001b[38;5;249m{\u001b[0m\u001b[38;5;249mx\u001b[0m\u001b[38;5;249m:\u001b[0m\u001b[38;5;249m \u001b[0m\u001b[38;5;249m5\u001b[0m\u001b[38;5;249m,\u001b[0m\u001b[38;5;249m \u001b[0m\u001b[38;5;249my\u001b[0m\u001b[38;5;249m \u001b[0m\u001b[38;5;249m:\u001b[0m\u001b[38;5;249m \u001b[0m\u001b[38;5;54m\"\u001b[0m\u001b[38;5;54mh\u001b[0m\u001b[38;5;54me\u001b[0m\u001b[38;5;54ml\u001b[0m\u001b[38;5;54ml\u001b[0m\u001b[38;5;54mo\u001b[0m\u001b[38;5;54m\"\u001b[0m\u001b[38;5;54m.\u001b[0m\u001b[38;5;54mt\u001b[0m\u001b[38;5;54mo\u001b[0m\u001b[38;5;54m_\u001b[0m\u001b[38;5;54ms\u001b[0m\u001b[38;5;54mt\u001b[0m\u001b[38;5;54mr\u001b[0m\u001b[38;5;54mi\u001b[0m\u001b[38;5;54mn\u001b[0m\u001b[38;5;54mg\u001b[0m\u001b[38;5;54m(\u001b[0m\u001b[38;5;54m)\u001b[0m\u001b[38;5;249m}\u001b[0m\u001b[38;5;249m;\u001b[0m",
      " \u001b[38;5;246m  ·\u001b[0m                             \u001b[38;5;54m─\u001b[0m\u001b[38;5;54m─\u001b[0m\u001b[38;5;54m─\u001b[0m\u001b[38;5;54m─\u001b[0m\u001b[38;5;54m─\u001b[0m\u001b[38;5;54m─\u001b[0m\u001b[38;5;54m─\u001b[0m\u001b[38;5;54m─\u001b[0m\u001b[38;5;54m─\u001b[0m\u001b[38;5;54m┬\u001b[0m\u001b[38;5;54m─\u001b[0m\u001b[38;5;54m─\u001b[0m\u001b[38;5;54m─\u001b[0m\u001b[38;5;54m─\u001b[0m\u001b[38;5;54m─\u001b[0m\u001b[38;5;54m─\u001b[0m\u001b[38;5;54m─\u001b[0m\u001b[38;5;54m─\u001b[0m\u001b[38;5;54m─\u001b[0m  ",
      " \u001b[38;5;246m  ·\u001b[0m                                      \u001b[38;5;54m╰\u001b[0m\u001b[38;5;54m─\u001b[0m\u001b[38;5;54m─\u001b[0m\u001b[38;5;54m─\u001b[0m\u001b[38;5;54m─\u001b[0m\u001b[38;5;54m─\u001b[0m\u001b[38;5;54m─\u001b[0m\u001b[38;5;54m─\u001b[0m\u001b[38;5;54m─\u001b[0m\u001b[38;5;54m─\u001b[0m\u001b[38;5;54m─\u001b[0m\u001b[38;5;54m─\u001b[0m expected integer, found `String`",
      "\u001b[38;5;246m───╯\u001b[0m"
     ]
    }
   ],
   "source": [
    "// Modify this struct to make the code work\n",
    "struct Point<T> {\n",
    "    x: T,\n",
    "    y: T,\n",
    "}\n",
    "\n",
    "fn main() {\n",
    "    // DON'T modify this code.\n",
    "    let p = Point{x: 5, y : \"hello\".to_string()};\n",
    "\n",
    "    println!(\"Success!\");\n",
    "}"
   ]
  },
  {
   "cell_type": "markdown",
   "id": "804539e2",
   "metadata": {},
   "source": [
    "## 2-2 필드의 타입이 다른 경우 \n",
    "\n",
    "-  제너릭 구조체의 타입이 다른 경우는  타입매개변수를 여러 개 지정해서 처리함 "
   ]
  },
  {
   "cell_type": "code",
   "execution_count": 10,
   "id": "3073a226",
   "metadata": {},
   "outputs": [],
   "source": [
    "struct Point<T,U> {\n",
    "    x: T,\n",
    "    y: U,\n",
    "}\n",
    "\n",
    "fn main() {\n",
    "    // DON'T modify this code.\n",
    "    let p = Point{x: 5, y : \"hello\".to_string()};\n",
    "\n",
    "    println!(\"Success!\");\n",
    "}"
   ]
  },
  {
   "cell_type": "code",
   "execution_count": 11,
   "id": "497e4297",
   "metadata": {},
   "outputs": [
    {
     "name": "stdout",
     "output_type": "stream",
     "text": [
      "Success!\n"
     ]
    },
    {
     "data": {
      "text/plain": [
       "()"
      ]
     },
     "execution_count": 11,
     "metadata": {},
     "output_type": "execute_result"
    }
   ],
   "source": [
    "main()"
   ]
  },
  {
   "cell_type": "markdown",
   "id": "c374e489-9f0e-4570-b056-8d6e85fdc8b9",
   "metadata": {},
   "source": [
    "## 3. 제너릭 구조체를 정의해서 사용하는 경우 "
   ]
  },
  {
   "cell_type": "markdown",
   "id": "1a959cf7-50be-4c2d-b60b-8ffaa79114f3",
   "metadata": {},
   "source": [
    "## 3-1 다른 타입을 가진 구조체가 있는 경우 "
   ]
  },
  {
   "cell_type": "markdown",
   "id": "64d6515e-75bc-4e96-8ae6-f30434964e8c",
   "metadata": {},
   "source": [
    "### 하나의 자료형이 아닌 경우는 에러 "
   ]
  },
  {
   "cell_type": "code",
   "execution_count": 12,
   "id": "20c3cc5c",
   "metadata": {},
   "outputs": [
    {
     "ename": "Error",
     "evalue": "mismatched types",
     "output_type": "error",
     "traceback": [
      "\u001b[31m[E0308] Error:\u001b[0m mismatched types",
      "    \u001b[38;5;246m╭\u001b[0m\u001b[38;5;246m─\u001b[0m\u001b[38;5;246m[\u001b[0mcommand_12:1:1\u001b[38;5;246m]\u001b[0m",
      "    \u001b[38;5;246m│\u001b[0m",
      " \u001b[38;5;246m14 │\u001b[0m \u001b[38;5;249m \u001b[0m\u001b[38;5;249m \u001b[0m\u001b[38;5;249m \u001b[0m\u001b[38;5;249m \u001b[0m\u001b[38;5;249ml\u001b[0m\u001b[38;5;249me\u001b[0m\u001b[38;5;249mt\u001b[0m\u001b[38;5;249m \u001b[0m\u001b[38;5;249my\u001b[0m\u001b[38;5;249m \u001b[0m\u001b[38;5;249m=\u001b[0m\u001b[38;5;249m \u001b[0m\u001b[38;5;249mV\u001b[0m\u001b[38;5;249ma\u001b[0m\u001b[38;5;249ml\u001b[0m\u001b[38;5;249m{\u001b[0m\u001b[38;5;249m \u001b[0m\u001b[38;5;249mv\u001b[0m\u001b[38;5;249ma\u001b[0m\u001b[38;5;249ml\u001b[0m\u001b[38;5;249m:\u001b[0m\u001b[38;5;249m \u001b[0m\u001b[38;5;54m\"\u001b[0m\u001b[38;5;54mh\u001b[0m\u001b[38;5;54me\u001b[0m\u001b[38;5;54ml\u001b[0m\u001b[38;5;54ml\u001b[0m\u001b[38;5;54mo\u001b[0m\u001b[38;5;54m\"\u001b[0m\u001b[38;5;54m.\u001b[0m\u001b[38;5;54mt\u001b[0m\u001b[38;5;54mo\u001b[0m\u001b[38;5;54m_\u001b[0m\u001b[38;5;54ms\u001b[0m\u001b[38;5;54mt\u001b[0m\u001b[38;5;54mr\u001b[0m\u001b[38;5;54mi\u001b[0m\u001b[38;5;54mn\u001b[0m\u001b[38;5;54mg\u001b[0m\u001b[38;5;54m(\u001b[0m\u001b[38;5;54m)\u001b[0m\u001b[38;5;249m}\u001b[0m\u001b[38;5;249m;\u001b[0m",
      " \u001b[38;5;246m   ·\u001b[0m                       \u001b[38;5;54m─\u001b[0m\u001b[38;5;54m─\u001b[0m\u001b[38;5;54m─\u001b[0m\u001b[38;5;54m─\u001b[0m\u001b[38;5;54m─\u001b[0m\u001b[38;5;54m─\u001b[0m\u001b[38;5;54m─\u001b[0m\u001b[38;5;54m─\u001b[0m\u001b[38;5;54m─\u001b[0m\u001b[38;5;54m┬\u001b[0m\u001b[38;5;54m─\u001b[0m\u001b[38;5;54m─\u001b[0m\u001b[38;5;54m─\u001b[0m\u001b[38;5;54m─\u001b[0m\u001b[38;5;54m─\u001b[0m\u001b[38;5;54m─\u001b[0m\u001b[38;5;54m─\u001b[0m\u001b[38;5;54m─\u001b[0m\u001b[38;5;54m─\u001b[0m  ",
      " \u001b[38;5;246m   ·\u001b[0m                                \u001b[38;5;54m╰\u001b[0m\u001b[38;5;54m─\u001b[0m\u001b[38;5;54m─\u001b[0m\u001b[38;5;54m─\u001b[0m\u001b[38;5;54m─\u001b[0m\u001b[38;5;54m─\u001b[0m\u001b[38;5;54m─\u001b[0m\u001b[38;5;54m─\u001b[0m\u001b[38;5;54m─\u001b[0m\u001b[38;5;54m─\u001b[0m\u001b[38;5;54m─\u001b[0m\u001b[38;5;54m─\u001b[0m expected `f64`, found `String`",
      "\u001b[38;5;246m────╯\u001b[0m"
     ]
    }
   ],
   "source": [
    "struct Val {\n",
    "    val: f64,\n",
    "}\n",
    "\n",
    "impl Val {\n",
    "    fn value(&self) -> &f64 {\n",
    "        &self.val\n",
    "    }\n",
    "}\n",
    "\n",
    "\n",
    "fn main() {\n",
    "    let x = Val{ val: 3.0 };\n",
    "    let y = Val{ val: \"hello\".to_string()};\n",
    "    println!(\"{}, {}\", x.value(), y.value());\n",
    "}\n"
   ]
  },
  {
   "cell_type": "markdown",
   "id": "107c7295-2cc5-49aa-b1b5-98925b702f75",
   "metadata": {},
   "source": [
    "### 하나의 자료형으로 처리 "
   ]
  },
  {
   "cell_type": "code",
   "execution_count": 7,
   "id": "91dbad5f",
   "metadata": {},
   "outputs": [],
   "source": [
    "struct Val {\n",
    "    val: f64,\n",
    "}\n",
    "\n",
    "impl Val {\n",
    "    fn value(&self) -> &f64 {\n",
    "        &self.val\n",
    "    }\n",
    "}\n",
    "\n",
    "\n",
    "fn main() {\n",
    "    let x = Val{ val: 3.0 };\n",
    "    let y = Val{ val: 10.0};\n",
    "    println!(\"{}, {}\", x.value(), y.value());\n",
    "}\n"
   ]
  },
  {
   "cell_type": "code",
   "execution_count": 8,
   "id": "bd488988",
   "metadata": {},
   "outputs": [
    {
     "name": "stdout",
     "output_type": "stream",
     "text": [
      "3, 10\n"
     ]
    },
    {
     "data": {
      "text/plain": [
       "()"
      ]
     },
     "execution_count": 8,
     "metadata": {},
     "output_type": "execute_result"
    }
   ],
   "source": [
    "main()"
   ]
  },
  {
   "cell_type": "markdown",
   "id": "51015139",
   "metadata": {},
   "source": [
    "## 3-2  구조체 제너릭\n",
    "\n",
    "- 벡터를 사용자 정의 벡터로 만들기 "
   ]
  },
  {
   "cell_type": "markdown",
   "id": "9f7f3d56-9843-4b03-88b3-8b53309a0fe4",
   "metadata": {},
   "source": [
    "### 타입매개변수를 지정하고 필드의 자료형으로 지정"
   ]
  },
  {
   "cell_type": "code",
   "execution_count": 13,
   "id": "ae8474ab",
   "metadata": {},
   "outputs": [],
   "source": [
    "struct MyVec<T> {\n",
    "    data: Vec<T>,\n",
    "}\n"
   ]
  },
  {
   "cell_type": "markdown",
   "id": "748d5f87",
   "metadata": {},
   "source": [
    "### 메서드 구현을 위해서는 impl 다음에 타입매개변수를 지정해야 함 "
   ]
  },
  {
   "cell_type": "code",
   "execution_count": 14,
   "id": "e002418b",
   "metadata": {},
   "outputs": [],
   "source": [
    "impl<T> MyVec<T> {\n",
    "    fn new() -> MyVec<T> {\n",
    "        MyVec { data: Vec::new() }\n",
    "    }\n",
    "\n",
    "    fn push(&mut self, value: T) {\n",
    "        self.data.push(value);\n",
    "    }\n",
    "\n",
    "    fn pop(&mut self) -> Option<T> {\n",
    "        self.data.pop()\n",
    "    }\n",
    "}"
   ]
  },
  {
   "cell_type": "code",
   "execution_count": null,
   "id": "d87222b5",
   "metadata": {},
   "outputs": [],
   "source": []
  },
  {
   "cell_type": "code",
   "execution_count": 15,
   "id": "3daf2176",
   "metadata": {},
   "outputs": [],
   "source": [
    "fn main() {\n",
    "    let mut v = MyVec::new();\n",
    "    v.push(1);\n",
    "    v.push(2);\n",
    "    v.push(3);\n",
    "\n",
    "    while let Some(x) = v.pop() {\n",
    "        println!(\"{}\", x);\n",
    "    }\n",
    "}"
   ]
  },
  {
   "cell_type": "code",
   "execution_count": 16,
   "id": "ce356193",
   "metadata": {},
   "outputs": [
    {
     "name": "stdout",
     "output_type": "stream",
     "text": [
      "3\n",
      "2\n",
      "1\n"
     ]
    }
   ],
   "source": [
    "main();"
   ]
  },
  {
   "cell_type": "code",
   "execution_count": null,
   "id": "3435737b",
   "metadata": {},
   "outputs": [],
   "source": []
  }
 ],
 "metadata": {
  "kernelspec": {
   "display_name": "Rust",
   "language": "rust",
   "name": "rust"
  },
  "language_info": {
   "codemirror_mode": "rust",
   "file_extension": ".rs",
   "mimetype": "text/rust",
   "name": "Rust",
   "pygment_lexer": "rust",
   "version": ""
  }
 },
 "nbformat": 4,
 "nbformat_minor": 5
}
