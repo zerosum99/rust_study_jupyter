{
 "cells": [
  {
   "cell_type": "code",
   "execution_count": null,
   "id": "474d6ed7",
   "metadata": {},
   "outputs": [],
   "source": []
  },
  {
   "cell_type": "markdown",
   "id": "5050439e",
   "metadata": {},
   "source": [
    "## 일반함수 정의 "
   ]
  },
  {
   "cell_type": "code",
   "execution_count": 2,
   "id": "971f92f6",
   "metadata": {},
   "outputs": [],
   "source": [
    "fn add(x:i32,y:i32) -> i32 {\n",
    "    x + y\n",
    "}"
   ]
  },
  {
   "cell_type": "code",
   "execution_count": 3,
   "id": "cf536381",
   "metadata": {},
   "outputs": [
    {
     "data": {
      "text/plain": [
       "300"
      ]
     },
     "execution_count": 3,
     "metadata": {},
     "output_type": "execute_result"
    }
   ],
   "source": [
    "add(100,200)"
   ]
  },
  {
   "cell_type": "markdown",
   "id": "bf5d3e19",
   "metadata": {},
   "source": [
    "## 일반제너릭 정의 "
   ]
  },
  {
   "cell_type": "markdown",
   "id": "dfc05657",
   "metadata": {},
   "source": [
    "### 연산자가 없어서 처리하지 못함 "
   ]
  },
  {
   "cell_type": "code",
   "execution_count": 4,
   "id": "b66dba81",
   "metadata": {},
   "outputs": [
    {
     "ename": "Error",
     "evalue": "cannot add `T` to `T`",
     "output_type": "error",
     "traceback": [
      "\u001b[31m[E0369] Error:\u001b[0m cannot add `T` to `T`",
      "   \u001b[38;5;246m╭\u001b[0m\u001b[38;5;246m─\u001b[0m\u001b[38;5;246m[\u001b[0mcommand_4:1:1\u001b[38;5;246m]\u001b[0m",
      "   \u001b[38;5;246m│\u001b[0m",
      " \u001b[38;5;246m1 │\u001b[0m \u001b[38;5;249mf\u001b[0m\u001b[38;5;249mn\u001b[0m\u001b[38;5;249m \u001b[0m\u001b[38;5;249ma\u001b[0m\u001b[38;5;249md\u001b[0m\u001b[38;5;249md\u001b[0m\u001b[38;5;249m_\u001b[0m\u001b[38;5;249mg\u001b[0m\u001b[38;5;249me\u001b[0m\u001b[38;5;249mn\u001b[0m\u001b[38;5;249m<\u001b[0m\u001b[38;5;249mT\u001b[0m\u001b[38;5;249m>\u001b[0m\u001b[38;5;249m \u001b[0m\u001b[38;5;249m(\u001b[0m\u001b[38;5;249mx\u001b[0m\u001b[38;5;249m:\u001b[0m\u001b[38;5;249mT\u001b[0m\u001b[38;5;249m,\u001b[0m\u001b[38;5;249m \u001b[0m\u001b[38;5;249my\u001b[0m\u001b[38;5;249m:\u001b[0m\u001b[38;5;249mT\u001b[0m\u001b[38;5;249m)\u001b[0m\u001b[38;5;249m \u001b[0m\u001b[38;5;249m-\u001b[0m\u001b[38;5;249m>\u001b[0m\u001b[38;5;249m \u001b[0m\u001b[38;5;249mT\u001b[0m\u001b[38;5;249m \u001b[0m\u001b[38;5;249m{\u001b[0m",
      " \u001b[38;5;246m  ·\u001b[0m             \u001b[38;5;37m│\u001b[0m ",
      " \u001b[38;5;246m  ·\u001b[0m             \u001b[38;5;37m╰\u001b[0m\u001b[38;5;37m─\u001b[0m help: consider restricting type parameter `T`: `: std::ops::Add<Output = T>`",
      " \u001b[38;5;246m2 │\u001b[0m \u001b[38;5;249m \u001b[0m\u001b[38;5;249m \u001b[0m\u001b[38;5;249m \u001b[0m\u001b[38;5;249m \u001b[0m\u001b[38;5;54mx\u001b[0m\u001b[38;5;68m+\u001b[0m\u001b[38;5;100my\u001b[0m",
      " \u001b[38;5;246m  ·\u001b[0m     \u001b[38;5;54m┬\u001b[0m\u001b[38;5;68m┬\u001b[0m\u001b[38;5;100m┬\u001b[0m  ",
      " \u001b[38;5;246m  ·\u001b[0m     \u001b[38;5;54m╰\u001b[0m\u001b[38;5;54m─\u001b[0m\u001b[38;5;54m─\u001b[0m\u001b[38;5;54m─\u001b[0m\u001b[38;5;54m─\u001b[0m T",
      " \u001b[38;5;246m  ·\u001b[0m      \u001b[38;5;68m│\u001b[0m\u001b[38;5;100m│\u001b[0m  ",
      " \u001b[38;5;246m  ·\u001b[0m      \u001b[38;5;68m╰\u001b[0m\u001b[38;5;68m─\u001b[0m\u001b[38;5;68m─\u001b[0m\u001b[38;5;68m─\u001b[0m error: cannot add `T` to `T`",
      " \u001b[38;5;246m  ·\u001b[0m       \u001b[38;5;100m│\u001b[0m  ",
      " \u001b[38;5;246m  ·\u001b[0m       \u001b[38;5;100m╰\u001b[0m\u001b[38;5;100m─\u001b[0m\u001b[38;5;100m─\u001b[0m T",
      "\u001b[38;5;246m───╯\u001b[0m"
     ]
    }
   ],
   "source": [
    "fn add_gen<T> (x:T, y:T) -> T {\n",
    "    x+y\n",
    "}"
   ]
  },
  {
   "cell_type": "markdown",
   "id": "eb419fbd",
   "metadata": {},
   "source": [
    "### 트레이트 제한"
   ]
  },
  {
   "cell_type": "code",
   "execution_count": 5,
   "id": "ae7b1c4f",
   "metadata": {},
   "outputs": [],
   "source": [
    "use std::ops::Add"
   ]
  },
  {
   "cell_type": "code",
   "execution_count": 9,
   "id": "faf84d63",
   "metadata": {},
   "outputs": [],
   "source": [
    "fn add_gen<T:Add<Output=T>>(x:T, y:T) -> T {\n",
    "    x+y\n",
    "}"
   ]
  },
  {
   "cell_type": "code",
   "execution_count": 15,
   "id": "f9325c6a",
   "metadata": {},
   "outputs": [
    {
     "data": {
      "text/plain": [
       "30"
      ]
     },
     "execution_count": 15,
     "metadata": {},
     "output_type": "execute_result"
    }
   ],
   "source": [
    "add_gen(10,20)"
   ]
  },
  {
   "cell_type": "code",
   "execution_count": 16,
   "id": "0d61b94a",
   "metadata": {},
   "outputs": [
    {
     "data": {
      "text/plain": [
       "30.5"
      ]
     },
     "execution_count": 16,
     "metadata": {},
     "output_type": "execute_result"
    }
   ],
   "source": [
    "add_gen(10.2, 20.3)"
   ]
  },
  {
   "cell_type": "markdown",
   "id": "4c29bdf8",
   "metadata": {},
   "source": [
    "### 문자열을 덧셈처리 안됨 "
   ]
  },
  {
   "cell_type": "code",
   "execution_count": 18,
   "id": "42d6c668",
   "metadata": {},
   "outputs": [
    {
     "ename": "Error",
     "evalue": "cannot add `String` to `String`",
     "output_type": "error",
     "traceback": [
      "\u001b[31m[E0277] Error:\u001b[0m cannot add `String` to `String`",
      "   \u001b[38;5;246m╭\u001b[0m\u001b[38;5;246m─\u001b[0m\u001b[38;5;246m[\u001b[0mcommand_18:1:1\u001b[38;5;246m]\u001b[0m",
      "   \u001b[38;5;246m│\u001b[0m",
      " \u001b[38;5;246m1 │\u001b[0m \u001b[38;5;54ma\u001b[0m\u001b[38;5;54md\u001b[0m\u001b[38;5;54md\u001b[0m\u001b[38;5;54m_\u001b[0m\u001b[38;5;54mg\u001b[0m\u001b[38;5;54me\u001b[0m\u001b[38;5;54mn\u001b[0m\u001b[38;5;249m(\u001b[0m\u001b[38;5;249m\"\u001b[0m\u001b[38;5;249ma\u001b[0m\u001b[38;5;249mb\u001b[0m\u001b[38;5;249mc\u001b[0m\u001b[38;5;249m\"\u001b[0m\u001b[38;5;249m.\u001b[0m\u001b[38;5;249mt\u001b[0m\u001b[38;5;249mo\u001b[0m\u001b[38;5;249m_\u001b[0m\u001b[38;5;249ms\u001b[0m\u001b[38;5;249mt\u001b[0m\u001b[38;5;249mr\u001b[0m\u001b[38;5;249mi\u001b[0m\u001b[38;5;249mn\u001b[0m\u001b[38;5;249mg\u001b[0m\u001b[38;5;249m(\u001b[0m\u001b[38;5;249m)\u001b[0m\u001b[38;5;249m,\u001b[0m\u001b[38;5;249m \u001b[0m\u001b[38;5;249m\"\u001b[0m\u001b[38;5;249mc\u001b[0m\u001b[38;5;249md\u001b[0m\u001b[38;5;249me\u001b[0m\u001b[38;5;249m\"\u001b[0m\u001b[38;5;249m.\u001b[0m\u001b[38;5;249mt\u001b[0m\u001b[38;5;249mo\u001b[0m\u001b[38;5;249m_\u001b[0m\u001b[38;5;249ms\u001b[0m\u001b[38;5;249mt\u001b[0m\u001b[38;5;249mr\u001b[0m\u001b[38;5;249mi\u001b[0m\u001b[38;5;249mn\u001b[0m\u001b[38;5;249mg\u001b[0m\u001b[38;5;249m(\u001b[0m\u001b[38;5;249m)\u001b[0m\u001b[38;5;249m)\u001b[0m",
      " \u001b[38;5;246m  ·\u001b[0m \u001b[38;5;54m─\u001b[0m\u001b[38;5;54m─\u001b[0m\u001b[38;5;54m─\u001b[0m\u001b[38;5;54m┬\u001b[0m\u001b[38;5;54m─\u001b[0m\u001b[38;5;54m─\u001b[0m\u001b[38;5;54m─\u001b[0m  ",
      " \u001b[38;5;246m  ·\u001b[0m    \u001b[38;5;54m╰\u001b[0m\u001b[38;5;54m─\u001b[0m\u001b[38;5;54m─\u001b[0m\u001b[38;5;54m─\u001b[0m\u001b[38;5;54m─\u001b[0m\u001b[38;5;54m─\u001b[0m no implementation for `String + String`",
      " \u001b[38;5;246m  ·\u001b[0m ",
      " \u001b[38;5;246m  ·\u001b[0m \u001b[38;5;115mNote\u001b[0m: required by this bound in `add_gen`",
      "\u001b[38;5;246m───╯\u001b[0m"
     ]
    }
   ],
   "source": [
    "add_gen(\"abc\".to_string(), \"cde\".to_string())"
   ]
  },
  {
   "cell_type": "code",
   "execution_count": 39,
   "id": "f31790b7",
   "metadata": {},
   "outputs": [],
   "source": [
    "fn add_sgen(_x:String, _y:String) -> String {\n",
    "    format!(\"{}{}\",_x,_y)\n",
    "    \n",
    "}"
   ]
  },
  {
   "cell_type": "code",
   "execution_count": 40,
   "id": "4b93a162",
   "metadata": {},
   "outputs": [
    {
     "data": {
      "text/plain": [
       "\"가을겨울\""
      ]
     },
     "execution_count": 40,
     "metadata": {},
     "output_type": "execute_result"
    }
   ],
   "source": [
    "add_sgen(\"가을\".to_string(),\"겨울\".to_string())"
   ]
  },
  {
   "cell_type": "markdown",
   "id": "798fe748",
   "metadata": {},
   "source": [
    "### 매크로 연결할 때는 직접 리터럴 처리 "
   ]
  },
  {
   "cell_type": "code",
   "execution_count": 38,
   "id": "d1178606",
   "metadata": {},
   "outputs": [
    {
     "data": {
      "text/plain": [
       "\"가을겨울\""
      ]
     },
     "execution_count": 38,
     "metadata": {},
     "output_type": "execute_result"
    }
   ],
   "source": [
    "concat!(\"가을\",\"겨울\")"
   ]
  },
  {
   "cell_type": "code",
   "execution_count": null,
   "id": "7254964e",
   "metadata": {},
   "outputs": [],
   "source": []
  },
  {
   "cell_type": "code",
   "execution_count": 44,
   "id": "51cdd1af",
   "metadata": {},
   "outputs": [],
   "source": [
    ":dep typename = \"0.1.2\""
   ]
  },
  {
   "cell_type": "code",
   "execution_count": 45,
   "id": "ae9d286c",
   "metadata": {},
   "outputs": [],
   "source": [
    "use typename::TypeName;"
   ]
  },
  {
   "cell_type": "code",
   "execution_count": 47,
   "id": "2ef726e4",
   "metadata": {},
   "outputs": [],
   "source": [
    "let s : &'static str = \"가을\";"
   ]
  },
  {
   "cell_type": "code",
   "execution_count": 48,
   "id": "5cbbe029",
   "metadata": {},
   "outputs": [
    {
     "data": {
      "text/plain": [
       "\"str\""
      ]
     },
     "execution_count": 48,
     "metadata": {},
     "output_type": "execute_result"
    }
   ],
   "source": [
    "s.type_name_of()"
   ]
  },
  {
   "cell_type": "code",
   "execution_count": 49,
   "id": "fad18b6c",
   "metadata": {},
   "outputs": [
    {
     "ename": "Error",
     "evalue": "expected a literal",
     "output_type": "error",
     "traceback": [
      "\u001b[31mError:\u001b[0m expected a literal",
      "   \u001b[38;5;246m╭\u001b[0m\u001b[38;5;246m─\u001b[0m\u001b[38;5;246m[\u001b[0mcommand_49:1:1\u001b[38;5;246m]\u001b[0m",
      "   \u001b[38;5;246m│\u001b[0m",
      " \u001b[38;5;246m1 │\u001b[0m \u001b[38;5;249mc\u001b[0m\u001b[38;5;249mo\u001b[0m\u001b[38;5;249mn\u001b[0m\u001b[38;5;249mc\u001b[0m\u001b[38;5;249ma\u001b[0m\u001b[38;5;249mt\u001b[0m\u001b[38;5;249m!\u001b[0m\u001b[38;5;249m(\u001b[0m\u001b[38;5;54ms\u001b[0m\u001b[38;5;249m,\u001b[0m\u001b[38;5;100ms\u001b[0m\u001b[38;5;249m)\u001b[0m",
      " \u001b[38;5;246m  ·\u001b[0m         \u001b[38;5;54m┬\u001b[0m \u001b[38;5;100m┬\u001b[0m  ",
      " \u001b[38;5;246m  ·\u001b[0m         \u001b[38;5;54m╰\u001b[0m\u001b[38;5;54m─\u001b[0m\u001b[38;5;54m─\u001b[0m\u001b[38;5;54m─\u001b[0m\u001b[38;5;54m─\u001b[0m error: expected a literal",
      " \u001b[38;5;246m  ·\u001b[0m           \u001b[38;5;100m│\u001b[0m  ",
      " \u001b[38;5;246m  ·\u001b[0m           \u001b[38;5;100m╰\u001b[0m\u001b[38;5;100m─\u001b[0m\u001b[38;5;100m─\u001b[0m error: expected a literal",
      "\u001b[38;5;246m───╯\u001b[0m"
     ]
    }
   ],
   "source": [
    "concat!(s,s)"
   ]
  },
  {
   "cell_type": "code",
   "execution_count": null,
   "id": "56e4bd66",
   "metadata": {},
   "outputs": [],
   "source": []
  },
  {
   "cell_type": "markdown",
   "id": "1737d320",
   "metadata": {},
   "source": [
    "## 트레이트 제한 : where"
   ]
  },
  {
   "cell_type": "code",
   "execution_count": 62,
   "id": "0b9cb792",
   "metadata": {},
   "outputs": [],
   "source": [
    "fn add_str(x: &str) ->String {\n",
    "    x.to_string()\n",
    "}"
   ]
  },
  {
   "cell_type": "code",
   "execution_count": 63,
   "id": "4a1f9606",
   "metadata": {},
   "outputs": [
    {
     "data": {
      "text/plain": [
       "\"겨울이\""
      ]
     },
     "execution_count": 63,
     "metadata": {},
     "output_type": "execute_result"
    }
   ],
   "source": [
    "add_str(\"겨울이\")"
   ]
  },
  {
   "cell_type": "code",
   "execution_count": 160,
   "id": "1325948e",
   "metadata": {},
   "outputs": [],
   "source": [
    "// 'static as part of a trait bound:\n",
    "\n",
    "fn generic<T>(x: T) where T: std::fmt::Debug {\n",
    "    println!(\"{:?}\",x);\n",
    "}"
   ]
  },
  {
   "cell_type": "code",
   "execution_count": 161,
   "id": "ed5c723a",
   "metadata": {},
   "outputs": [
    {
     "name": "stdout",
     "output_type": "stream",
     "text": [
      "\"여름이\"\n"
     ]
    },
    {
     "data": {
      "text/plain": [
       "()"
      ]
     },
     "execution_count": 161,
     "metadata": {},
     "output_type": "execute_result"
    }
   ],
   "source": [
    "generic(\"여름이\")"
   ]
  },
  {
   "cell_type": "code",
   "execution_count": 162,
   "id": "34250e91",
   "metadata": {},
   "outputs": [],
   "source": [
    "fn add_gen2<T>(x:T, y:T) -> String where T:std::fmt::Display {\n",
    "    format!(\"{}{}\", x, y)\n",
    "}"
   ]
  },
  {
   "cell_type": "code",
   "execution_count": 163,
   "id": "0188ace5",
   "metadata": {},
   "outputs": [
    {
     "data": {
      "text/plain": [
       "\"가을이겨울이\""
      ]
     },
     "execution_count": 163,
     "metadata": {},
     "output_type": "execute_result"
    }
   ],
   "source": [
    "\"가을이\".to_string() + \"겨울이\""
   ]
  },
  {
   "cell_type": "code",
   "execution_count": 164,
   "id": "3131b858",
   "metadata": {},
   "outputs": [
    {
     "data": {
      "text/plain": [
       "\"가을이겨울이\""
      ]
     },
     "execution_count": 164,
     "metadata": {},
     "output_type": "execute_result"
    }
   ],
   "source": [
    "add_gen2(\"가을이\",\"겨울이\")"
   ]
  },
  {
   "cell_type": "code",
   "execution_count": null,
   "id": "615893a3",
   "metadata": {},
   "outputs": [],
   "source": []
  },
  {
   "cell_type": "markdown",
   "id": "cebbf551",
   "metadata": {},
   "source": [
    "## 숫자 구하기 "
   ]
  },
  {
   "cell_type": "code",
   "execution_count": 165,
   "id": "6a0f6257",
   "metadata": {},
   "outputs": [],
   "source": [
    "fn addition_of_values<T: PartialOrd + std::ops::Add<Output = T>  >(num1: T, num2: T) -> T {\n",
    "    num1+ num2\n",
    "}"
   ]
  },
  {
   "cell_type": "code",
   "execution_count": 166,
   "id": "8f29aa22",
   "metadata": {},
   "outputs": [
    {
     "data": {
      "text/plain": [
       "300"
      ]
     },
     "execution_count": 166,
     "metadata": {},
     "output_type": "execute_result"
    }
   ],
   "source": [
    "addition_of_values(100,200)"
   ]
  },
  {
   "cell_type": "code",
   "execution_count": 167,
   "id": "931ec618",
   "metadata": {},
   "outputs": [
    {
     "data": {
      "text/plain": [
       "300.55"
      ]
     },
     "execution_count": 167,
     "metadata": {},
     "output_type": "execute_result"
    }
   ],
   "source": [
    "addition_of_values(100.22,200.33)"
   ]
  },
  {
   "cell_type": "code",
   "execution_count": null,
   "id": "c64abd59",
   "metadata": {},
   "outputs": [],
   "source": []
  },
  {
   "cell_type": "code",
   "execution_count": null,
   "id": "81a73be2",
   "metadata": {},
   "outputs": [],
   "source": []
  },
  {
   "cell_type": "markdown",
   "id": "84988682",
   "metadata": {},
   "source": [
    "## 문자열 연결 알아보기"
   ]
  },
  {
   "cell_type": "code",
   "execution_count": 90,
   "id": "d1eaef04",
   "metadata": {},
   "outputs": [],
   "source": [
    "fn main() {\n",
    "    let one = \"string\";\n",
    "    let two = \"something else\";\n",
    "\n",
    "    let three = one.to_owned() + two;   // to_owned는 소유권 데이터로 변환 -> 복제됨 \n",
    "    let four = one.to_string();\n",
    "    \n",
    "    println!(\" {} \", three);\n",
    "    println!(\" {} \", one);\n",
    "    println!(\" {} \", four);\n",
    "}"
   ]
  },
  {
   "cell_type": "code",
   "execution_count": 91,
   "id": "7941c0ba",
   "metadata": {},
   "outputs": [
    {
     "name": "stdout",
     "output_type": "stream",
     "text": [
      " stringsomething else \n",
      " string \n",
      " string \n"
     ]
    },
    {
     "data": {
      "text/plain": [
       "()"
      ]
     },
     "execution_count": 91,
     "metadata": {},
     "output_type": "execute_result"
    }
   ],
   "source": [
    "main()"
   ]
  },
  {
   "cell_type": "code",
   "execution_count": null,
   "id": "f3d58027",
   "metadata": {},
   "outputs": [],
   "source": []
  },
  {
   "cell_type": "markdown",
   "id": "7a789730",
   "metadata": {},
   "source": [
    "## 문자리터럴 연결하기"
   ]
  },
  {
   "cell_type": "code",
   "execution_count": 97,
   "id": "eb9478cb",
   "metadata": {},
   "outputs": [],
   "source": [
    "fn add_join(first:&str, second:&str) -> String {\n",
    "    [first, second].join(\" \")\n",
    "}\n"
   ]
  },
  {
   "cell_type": "code",
   "execution_count": 98,
   "id": "005f3017",
   "metadata": {},
   "outputs": [
    {
     "data": {
      "text/plain": [
       "\"자자 오오\""
      ]
     },
     "execution_count": 98,
     "metadata": {},
     "output_type": "execute_result"
    }
   ],
   "source": [
    "add_join(\"자자\",\"오오\")"
   ]
  },
  {
   "cell_type": "code",
   "execution_count": 99,
   "id": "fc9469f8",
   "metadata": {},
   "outputs": [],
   "source": [
    "fn add_format(first:&str, second:&str) -> String {\n",
    "    format!(\" {} {}\",first,second)\n",
    "}\n"
   ]
  },
  {
   "cell_type": "code",
   "execution_count": 100,
   "id": "cfb44e10",
   "metadata": {},
   "outputs": [
    {
     "data": {
      "text/plain": [
       "\" 주주 하하\""
      ]
     },
     "execution_count": 100,
     "metadata": {},
     "output_type": "execute_result"
    }
   ],
   "source": [
    "add_format(\"주주\",\"하하\")"
   ]
  },
  {
   "cell_type": "code",
   "execution_count": 102,
   "id": "0ca9db8a",
   "metadata": {},
   "outputs": [],
   "source": [
    "fn add_concat()->String {\n",
    "    concat!(\"First\", \" \", \"Second\").to_string()\n",
    "}"
   ]
  },
  {
   "cell_type": "code",
   "execution_count": 103,
   "id": "a4b3e437",
   "metadata": {},
   "outputs": [
    {
     "data": {
      "text/plain": [
       "\"First Second\""
      ]
     },
     "execution_count": 103,
     "metadata": {},
     "output_type": "execute_result"
    }
   ],
   "source": [
    "add_concat()"
   ]
  },
  {
   "cell_type": "code",
   "execution_count": 105,
   "id": "2ef30bef",
   "metadata": {},
   "outputs": [],
   "source": [
    "fn add_Str(first:&str, second:&str) -> String {\n",
    "    let mut first = first.to_string();\n",
    "    first.push_str(second);\n",
    "    first\n",
    "} "
   ]
  },
  {
   "cell_type": "code",
   "execution_count": 106,
   "id": "01e24da6",
   "metadata": {},
   "outputs": [
    {
     "data": {
      "text/plain": [
       "\"저저야야\""
      ]
     },
     "execution_count": 106,
     "metadata": {},
     "output_type": "execute_result"
    }
   ],
   "source": [
    "add_Str(\"저저\",\"야야\")"
   ]
  },
  {
   "cell_type": "code",
   "execution_count": 107,
   "id": "06071f3b",
   "metadata": {},
   "outputs": [],
   "source": [
    "fn add_Add(first:&str, second:&str) -> String {\n",
    "    let mut first = first.to_string();\n",
    "    first + second\n",
    "} "
   ]
  },
  {
   "cell_type": "code",
   "execution_count": 108,
   "id": "a45e43ca",
   "metadata": {},
   "outputs": [
    {
     "data": {
      "text/plain": [
       "\"장하다문자열\""
      ]
     },
     "execution_count": 108,
     "metadata": {},
     "output_type": "execute_result"
    }
   ],
   "source": [
    "add_Add(\"장하다\", \"문자열\")"
   ]
  },
  {
   "cell_type": "markdown",
   "id": "4957d5db",
   "metadata": {},
   "source": [
    "## Into 트레이트로 문자열 결합하기"
   ]
  },
  {
   "cell_type": "code",
   "execution_count": 131,
   "id": "d2be7565",
   "metadata": {},
   "outputs": [],
   "source": [
    "fn foo<T: Into<String>>(s: T, s1: T) -> String {\n",
    "    s.into() + s1.into().as_str()\n",
    "}"
   ]
  },
  {
   "cell_type": "code",
   "execution_count": 132,
   "id": "5aacd30d",
   "metadata": {},
   "outputs": [],
   "source": [
    "let s = String::from(\"abc\");\n",
    "let ss = String::from(\"def\");"
   ]
  },
  {
   "cell_type": "code",
   "execution_count": 133,
   "id": "daba40ea",
   "metadata": {},
   "outputs": [
    {
     "data": {
      "text/plain": [
       "\"abcdef\""
      ]
     },
     "execution_count": 133,
     "metadata": {},
     "output_type": "execute_result"
    }
   ],
   "source": [
    "foo(s,ss)"
   ]
  },
  {
   "cell_type": "code",
   "execution_count": 134,
   "id": "066b1bcd",
   "metadata": {},
   "outputs": [
    {
     "data": {
      "text/plain": [
       "\"abcxyz\""
      ]
     },
     "execution_count": 134,
     "metadata": {},
     "output_type": "execute_result"
    }
   ],
   "source": [
    "foo(\"abc\",\"xyz\")"
   ]
  },
  {
   "cell_type": "code",
   "execution_count": null,
   "id": "e8142164",
   "metadata": {},
   "outputs": [],
   "source": []
  },
  {
   "cell_type": "code",
   "execution_count": null,
   "id": "411fb0da",
   "metadata": {},
   "outputs": [],
   "source": []
  }
 ],
 "metadata": {
  "kernelspec": {
   "display_name": "Rust",
   "language": "rust",
   "name": "rust"
  },
  "language_info": {
   "codemirror_mode": "rust",
   "file_extension": ".rs",
   "mimetype": "text/rust",
   "name": "Rust",
   "pygment_lexer": "rust",
   "version": ""
  }
 },
 "nbformat": 4,
 "nbformat_minor": 5
}
