{
 "cells": [
  {
   "cell_type": "code",
   "execution_count": null,
   "id": "76a48d92",
   "metadata": {},
   "outputs": [],
   "source": []
  },
  {
   "cell_type": "markdown",
   "id": "7b55b184",
   "metadata": {},
   "source": [
    "## 1. 트레이트 제너릭\n",
    "\n",
    "- 일반적으로 제네릭을 사용하여 여러 유형에서 구현될 수 있도록 설계됩니다. \n",
    "-  이것은 다른 유형 사이에서 공유될 수 있는 동작을 캡슐화하고, 일반적으로 코드를 재사용하고 유지보수할 수 있게 해줍니다."
   ]
  },
  {
   "cell_type": "markdown",
   "id": "fecc99b9",
   "metadata": {},
   "source": [
    "## 1-1 트레이트 제너릭  \n",
    "\n",
    "- 해당 트레이트를 여러 유형에서 구현할 수 있으며, 구현한 유형에서는 필요에 따라 다른 유형의 값을 사용할 수 있습니다.\n",
    "- 이는 다형성을 구현하는 데 유용하며, 일반적으로 코드를 재사용하고 유지보수할 수 있게 해줍니다.\n"
   ]
  },
  {
   "cell_type": "markdown",
   "id": "5a090ff3-8540-44f4-9e7f-95c0d9baa4ff",
   "metadata": {},
   "source": [
    "### 트레이트 제너릭을 정의\n",
    "\n",
    "- 트레이트 제너릭을 정의 "
   ]
  },
  {
   "cell_type": "code",
   "execution_count": 2,
   "id": "e7895e33",
   "metadata": {},
   "outputs": [],
   "source": [
    "trait Printable<T> {\n",
    "    fn print(&self, value: T);\n",
    "}\n"
   ]
  },
  {
   "cell_type": "markdown",
   "id": "4b7e77c9-6606-4559-812b-f90fb10cb933",
   "metadata": {},
   "source": [
    "### 구조제 정의 후에 트레이트를 적용\n",
    "- 트레이트 제너릭을 반영할 때는 구체 타입을 전달해서 작성"
   ]
  },
  {
   "cell_type": "code",
   "execution_count": 3,
   "id": "f764a6fd-3c9e-46a6-97a4-5cb3b4c53c9e",
   "metadata": {},
   "outputs": [],
   "source": [
    "struct Foo;\n",
    "struct Bar;\n",
    "\n",
    "impl Printable<i32> for Foo {\n",
    "    fn print(&self, value: i32) {\n",
    "        println!(\"Foo: {}\", value);\n",
    "    }\n",
    "}\n",
    "\n",
    "impl Printable<i32> for Bar {\n",
    "    fn print(&self, value: i32) {\n",
    "        println!(\"Bar: {}\", value);\n",
    "    }\n",
    "}\n"
   ]
  },
  {
   "cell_type": "code",
   "execution_count": 4,
   "id": "98ee43c0",
   "metadata": {},
   "outputs": [],
   "source": [
    "fn main() {\n",
    "    let foo = Foo;\n",
    "    let bar = Bar;\n",
    "    \n",
    "    foo.print(42);\n",
    "    bar.print(24);\n",
    "}"
   ]
  },
  {
   "cell_type": "code",
   "execution_count": 5,
   "id": "d9b4fbf0",
   "metadata": {},
   "outputs": [
    {
     "name": "stdout",
     "output_type": "stream",
     "text": [
      "Bar: 24\n",
      "Foo: 42\n"
     ]
    }
   ],
   "source": [
    "main();"
   ]
  },
  {
   "cell_type": "code",
   "execution_count": null,
   "id": "2bd39d98",
   "metadata": {},
   "outputs": [],
   "source": []
  },
  {
   "cell_type": "markdown",
   "id": "b34d09a2",
   "metadata": {},
   "source": [
    "## 1-2 트레이트 제너릭과 구조체 제너릭을 사용해서 정의하기"
   ]
  },
  {
   "cell_type": "markdown",
   "id": "9060999b-1f1c-4b4d-ad43-444edd654117",
   "metadata": {},
   "source": [
    "### 트레이트 정의\n",
    "- 정의된 메서드내의 매개변수에 타입 매개변수로 타입을 지정하기 "
   ]
  },
  {
   "cell_type": "code",
   "execution_count": 6,
   "id": "cee32d34-45b1-419e-a546-31e719652255",
   "metadata": {},
   "outputs": [],
   "source": [
    "trait Container<T> {\n",
    "    fn add(&mut self, item: T);\n",
    "    fn contains(&self, item: &T) -> bool;\n",
    "}\n"
   ]
  },
  {
   "cell_type": "markdown",
   "id": "914bd381-edc9-4b87-89d9-5b4da0ff40b8",
   "metadata": {},
   "source": [
    "### 구조체 제너릭 정의 "
   ]
  },
  {
   "cell_type": "code",
   "execution_count": 7,
   "id": "6bd9b49d-9057-4c29-834b-d3f486cdd89e",
   "metadata": {},
   "outputs": [],
   "source": [
    "struct MyVec<T> {\n",
    "    data: Vec<T>,\n",
    "}"
   ]
  },
  {
   "cell_type": "markdown",
   "id": "642b9aab-ddab-40a0-8cce-d7727e0288f4",
   "metadata": {},
   "source": [
    "### 구조체 제너릭을 정의하고 트레이트 제너릭 반영하기 \n",
    "\n",
    "- 트레이트 제너릭을 반영하는 타입매개변수에 대한 타입제한을 지정한다.\n",
    "- 트레이트 제한은 impl 다음에 타입매개변수를 지정해서 정희 "
   ]
  },
  {
   "cell_type": "code",
   "execution_count": 8,
   "id": "1abf3362",
   "metadata": {},
   "outputs": [],
   "source": [
    "\n",
    "impl<T: std::cmp::PartialEq> Container<T> for MyVec<T> {\n",
    "    fn add(&mut self, item: T) {\n",
    "        self.data.push(item);\n",
    "    }\n",
    "    \n",
    "    fn contains(&self, item: &T) -> bool {\n",
    "        self.data.contains(item)\n",
    "    }\n",
    "}"
   ]
  },
  {
   "cell_type": "code",
   "execution_count": 9,
   "id": "051ecfae",
   "metadata": {},
   "outputs": [],
   "source": [
    "fn main() {\n",
    "    let mut vec = MyVec { data: vec![] };\n",
    "    vec.add(42);\n",
    "    vec.add(13);\n",
    "    println!(\"vec contains 42: {}\", vec.contains(&42));\n",
    "    println!(\"vec contains 23: {}\", vec.contains(&23));\n",
    "}"
   ]
  },
  {
   "cell_type": "code",
   "execution_count": 10,
   "id": "f6085543",
   "metadata": {},
   "outputs": [
    {
     "name": "stdout",
     "output_type": "stream",
     "text": [
      "vec contains 42: true\n",
      "vec contains 23: false\n"
     ]
    }
   ],
   "source": [
    "main();"
   ]
  },
  {
   "cell_type": "code",
   "execution_count": null,
   "id": "1c3b7114-c591-4107-bb6f-2a69513979d2",
   "metadata": {},
   "outputs": [],
   "source": []
  },
  {
   "cell_type": "markdown",
   "id": "672a825f",
   "metadata": {},
   "source": [
    "## 1-3 해시세트으로 트레이트 제너릭 처리\n",
    "\n",
    "- hash, eq 트레이트를 사용해서 지정해야 함 "
   ]
  },
  {
   "cell_type": "code",
   "execution_count": 11,
   "id": "2f94aaa1",
   "metadata": {},
   "outputs": [],
   "source": [
    "use std::collections::HashSet;\n",
    "\n",
    "fn main() {\n",
    "    let mut set = HashSet::new();\n",
    "\n",
    "    assert!(set.insert(\"foo\")); // \"foo\" 추가, 반환값: true\n",
    "    assert!(set.insert(\"bar\")); // \"bar\" 추가, 반환값: true\n",
    "    assert!(!set.insert(\"foo\")); // \"foo\"는 이미 존재, 반환값: false\n",
    "}"
   ]
  },
  {
   "cell_type": "code",
   "execution_count": 12,
   "id": "f90bd98b",
   "metadata": {},
   "outputs": [],
   "source": [
    "main();"
   ]
  },
  {
   "cell_type": "markdown",
   "id": "a50d52d3",
   "metadata": {},
   "source": [
    "## 1-4 해시를 사용한 제너릭 함수 지정하기 "
   ]
  },
  {
   "cell_type": "code",
   "execution_count": 13,
   "id": "2a505973",
   "metadata": {},
   "outputs": [],
   "source": [
    "use std::hash::Hash;\n",
    "\n",
    "fn foo<T: Hash + Eq + std::fmt::Debug>(x: T) {\n",
    "    println!(\"{:?}\", x);\n",
    "}\n",
    "\n",
    "fn main() {\n",
    "    foo(String::from(\"hello\"));\n",
    "}"
   ]
  },
  {
   "cell_type": "code",
   "execution_count": 19,
   "id": "f91e1c1c",
   "metadata": {},
   "outputs": [
    {
     "name": "stdout",
     "output_type": "stream",
     "text": [
      "\"hello\"\n"
     ]
    }
   ],
   "source": [
    "main();"
   ]
  },
  {
   "cell_type": "markdown",
   "id": "2ed2836a",
   "metadata": {},
   "source": [
    "## 1-5 해시세트를 위한 트레이트 경계 지정하기 "
   ]
  },
  {
   "cell_type": "code",
   "execution_count": 14,
   "id": "f437fedd",
   "metadata": {},
   "outputs": [],
   "source": [
    "use std::collections::HashSet;\n",
    "use std::hash::Hash;\n",
    "\n",
    "struct MySet<T> {\n",
    "    data: std::collections::HashSet<T>,\n",
    "}\n",
    "\n",
    "impl<T: Hash + Eq> Container<T> for MySet<T> {\n",
    "    fn add(&mut self, item: T) {\n",
    "        self.data.insert(item);\n",
    "    }\n",
    "    \n",
    "    fn contains(&self, item: &T) -> bool {\n",
    "        self.data.contains(item)\n",
    "    }\n",
    "}"
   ]
  },
  {
   "cell_type": "markdown",
   "id": "31c80e02",
   "metadata": {},
   "source": [
    "### 실행하기 "
   ]
  },
  {
   "cell_type": "code",
   "execution_count": 15,
   "id": "5be01e20",
   "metadata": {},
   "outputs": [],
   "source": [
    "fn main() {\n",
    "    \n",
    "    let mut set = MySet { data: std::collections::HashSet::new() };\n",
    "    set.add(\"foo\");\n",
    "    set.add(\"bar\");\n",
    "    println!(\"set contains 'foo': {}\", set.contains(&\"foo\"));\n",
    "    println!(\"set contains 'baz': {}\", set.contains(&\"baz\"));\n",
    "}"
   ]
  },
  {
   "cell_type": "code",
   "execution_count": 16,
   "id": "7bfd8b5c",
   "metadata": {},
   "outputs": [
    {
     "name": "stdout",
     "output_type": "stream",
     "text": [
      "set contains 'foo': true\n",
      "set contains 'baz': false\n"
     ]
    }
   ],
   "source": [
    "main();"
   ]
  },
  {
   "cell_type": "code",
   "execution_count": null,
   "id": "fb34787f",
   "metadata": {},
   "outputs": [],
   "source": []
  }
 ],
 "metadata": {
  "kernelspec": {
   "display_name": "Rust",
   "language": "rust",
   "name": "rust"
  },
  "language_info": {
   "codemirror_mode": "rust",
   "file_extension": ".rs",
   "mimetype": "text/rust",
   "name": "Rust",
   "pygment_lexer": "rust",
   "version": ""
  }
 },
 "nbformat": 4,
 "nbformat_minor": 5
}
