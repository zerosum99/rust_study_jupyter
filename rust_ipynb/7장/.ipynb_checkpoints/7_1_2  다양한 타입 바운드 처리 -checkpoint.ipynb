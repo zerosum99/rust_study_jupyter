{
 "cells": [
  {
   "cell_type": "markdown",
   "id": "5da4ee66",
   "metadata": {},
   "source": [
    "## 동적 타입에 대한 바운드 처리 "
   ]
  },
  {
   "cell_type": "markdown",
   "id": "67ac3b3d",
   "metadata": {},
   "source": [
    "### 문자열이나 벡터 처리 "
   ]
  },
  {
   "cell_type": "code",
   "execution_count": 24,
   "id": "1abf1b47",
   "metadata": {},
   "outputs": [],
   "source": [
    "fn print_box<T:std::fmt::Debug + ?Sized>(b: Box<T>) {\n",
    "    println!(\"{:?}\", b);\n",
    "}"
   ]
  },
  {
   "cell_type": "code",
   "execution_count": 25,
   "id": "26bcd646",
   "metadata": {},
   "outputs": [
    {
     "name": "stdout",
     "output_type": "stream",
     "text": [
      "\"가을이\"\n"
     ]
    }
   ],
   "source": [
    "print_box(Box::new(String::from(\"가을이\")));"
   ]
  },
  {
   "cell_type": "code",
   "execution_count": 26,
   "id": "131836d0",
   "metadata": {},
   "outputs": [
    {
     "name": "stdout",
     "output_type": "stream",
     "text": [
      "[1, 2, 3]\n"
     ]
    }
   ],
   "source": [
    "print_box(Box::new(vec![1,2,3]));"
   ]
  },
  {
   "cell_type": "code",
   "execution_count": null,
   "id": "129adbf7",
   "metadata": {},
   "outputs": [],
   "source": []
  },
  {
   "cell_type": "markdown",
   "id": "2a358614",
   "metadata": {},
   "source": [
    "### 동적인 함수 실행"
   ]
  },
  {
   "cell_type": "code",
   "execution_count": 29,
   "id": "6da48a5e",
   "metadata": {},
   "outputs": [],
   "source": [
    "fn add() {\n",
    "    println!(\" 출력 \");\n",
    "}"
   ]
  },
  {
   "cell_type": "code",
   "execution_count": 28,
   "id": "f4e9cd6b",
   "metadata": {},
   "outputs": [],
   "source": [
    "fn print_box1<T:Fn()->() + ?Sized>(b: Box<T>) {\n",
    "    b()\n",
    "}"
   ]
  },
  {
   "cell_type": "code",
   "execution_count": 30,
   "id": "57b546a9",
   "metadata": {},
   "outputs": [
    {
     "name": "stdout",
     "output_type": "stream",
     "text": [
      " 출력 \n"
     ]
    }
   ],
   "source": [
    "print_box1(Box::new(add));"
   ]
  },
  {
   "cell_type": "code",
   "execution_count": null,
   "id": "09f7fbbd",
   "metadata": {},
   "outputs": [],
   "source": []
  }
 ],
 "metadata": {
  "kernelspec": {
   "display_name": "Rust",
   "language": "rust",
   "name": "rust"
  },
  "language_info": {
   "codemirror_mode": "rust",
   "file_extension": ".rs",
   "mimetype": "text/rust",
   "name": "Rust",
   "pygment_lexer": "rust",
   "version": ""
  }
 },
 "nbformat": 4,
 "nbformat_minor": 5
}
