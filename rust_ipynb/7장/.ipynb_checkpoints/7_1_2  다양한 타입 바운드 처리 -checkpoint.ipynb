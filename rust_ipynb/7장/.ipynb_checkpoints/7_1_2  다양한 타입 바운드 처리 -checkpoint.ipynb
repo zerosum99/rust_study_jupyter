{
 "cells": [
  {
   "cell_type": "markdown",
   "id": "6a9b079a",
   "metadata": {},
   "source": [
    "## 1. 동적 타입에 대한 바운드 처리 \n",
    "\n",
    "- 스마트 포인터를 매개변수의 타입이면 실제 동적 타입이다.\n",
    "- 이때 ?Sized는 크기가 고정되지 않는 트레이트 제한이다.\n",
    "- std::fmt::Debug도 고정되지 않는 객체를 위한 트레이트이다. \n",
    "- 함수의 트레이트를 표시할 때는 실제 매개변수와 반환타입까지 지정해야 함 "
   ]
  },
  {
   "cell_type": "markdown",
   "id": "b7981854",
   "metadata": {},
   "source": [
    "## 1-1 문자열이나 벡터 처리 \n",
    "\n",
    "- 정적은 메모리가 고정이지만 동적은 메모리가 제한할 수 없음\n",
    "- 그래서 타입매개변수를 지정하고 매개변수에 Box내의 타입매개변수를 전달하도록 처리 "
   ]
  },
  {
   "cell_type": "code",
   "execution_count": 2,
   "id": "55afffbb",
   "metadata": {},
   "outputs": [],
   "source": [
    "fn print_box<T:std::fmt::Debug + ?Sized>(b: Box<T>) {\n",
    "    println!(\"{:?}\", b);\n",
    "}"
   ]
  },
  {
   "cell_type": "code",
   "execution_count": 3,
   "id": "06784f3d",
   "metadata": {},
   "outputs": [
    {
     "name": "stdout",
     "output_type": "stream",
     "text": [
      "\"가을이\"\n"
     ]
    }
   ],
   "source": [
    "print_box(Box::new(String::from(\"가을이\")));"
   ]
  },
  {
   "cell_type": "code",
   "execution_count": 4,
   "id": "e50baaea",
   "metadata": {},
   "outputs": [
    {
     "name": "stdout",
     "output_type": "stream",
     "text": [
      "[1, 2, 3]\n"
     ]
    }
   ],
   "source": [
    "print_box(Box::new(vec![1,2,3]));"
   ]
  },
  {
   "cell_type": "code",
   "execution_count": null,
   "id": "f168931e",
   "metadata": {},
   "outputs": [],
   "source": []
  },
  {
   "cell_type": "markdown",
   "id": "37e0d6f9",
   "metadata": {},
   "source": [
    "## 1-2  동적인 함수 실행\n",
    "\n",
    "-  함수에 대한 자료형과 사이즈 변동을 지정하고\n",
    "-  Box로 저장해서 힙에서 처리하도록 함"
   ]
  },
  {
   "cell_type": "code",
   "execution_count": 5,
   "id": "67fe96fe",
   "metadata": {},
   "outputs": [],
   "source": [
    "fn add() {\n",
    "    println!(\" 출력 \");\n",
    "}"
   ]
  },
  {
   "cell_type": "code",
   "execution_count": 6,
   "id": "3e8e00e8",
   "metadata": {},
   "outputs": [],
   "source": [
    "fn print_box1<T:Fn()->() + ?Sized>(b: Box<T>) {\n",
    "    b()\n",
    "}"
   ]
  },
  {
   "cell_type": "code",
   "execution_count": 7,
   "id": "30cc40fd",
   "metadata": {},
   "outputs": [
    {
     "name": "stdout",
     "output_type": "stream",
     "text": [
      " 출력 \n"
     ]
    }
   ],
   "source": [
    "print_box1(Box::new(add));"
   ]
  },
  {
   "cell_type": "code",
   "execution_count": null,
   "id": "6e19a2ba",
   "metadata": {},
   "outputs": [],
   "source": []
  },
  {
   "cell_type": "markdown",
   "id": "e0dc57ef-28bc-4325-8a2f-cd55cf0ad3f6",
   "metadata": {},
   "source": [
    "## 2. 동적 트레이트 처리 \n",
    "\n"
   ]
  },
  {
   "cell_type": "markdown",
   "id": "bc7b597c-3773-400c-98e5-2947c1eb3a0d",
   "metadata": {},
   "source": [
    "## 2-1 트레이트 객체를 사용해서 처리하기 "
   ]
  },
  {
   "cell_type": "markdown",
   "id": "a0c46539-5b27-4dbd-abfb-07965a86ef3c",
   "metadata": {},
   "source": [
    "### 트레이트를 구조체에 적용"
   ]
  },
  {
   "cell_type": "code",
   "execution_count": 9,
   "id": "7476c6ee-07d5-4848-bb8a-cc1360e043dc",
   "metadata": {},
   "outputs": [],
   "source": [
    "// 동물 트레이트 정의\n",
    "trait Animal {\n",
    "    fn sound(&self) -> &'static str;\n",
    "}\n",
    "\n",
    "// Dog 구조체 정의 및 Animal 트레이트 구현\n",
    "struct Dog;\n",
    "\n",
    "impl Animal for Dog {\n",
    "    fn sound(&self) -> &'static str {\n",
    "        \"Woof!\"\n",
    "    }\n",
    "}\n",
    "\n",
    "// Cat 구조체 정의 및 Animal 트레이트 구현\n",
    "struct Cat;\n",
    "\n",
    "impl Animal for Cat {\n",
    "    fn sound(&self) -> &'static str {\n",
    "        \"Meow!\"\n",
    "    }\n",
    "}\n",
    "\n"
   ]
  },
  {
   "cell_type": "markdown",
   "id": "b2e5b09c-81ef-4d0a-8527-bb66d7b4ce74",
   "metadata": {},
   "source": [
    "### 동적트레이트를 벡터에 저장 "
   ]
  },
  {
   "cell_type": "code",
   "execution_count": 10,
   "id": "8c20377d-1c74-4346-b26f-7e0478219d85",
   "metadata": {},
   "outputs": [],
   "source": [
    "fn main() {\n",
    "    // 동적 다형성을 위해 Box<dyn Animal>을 사용하는 벡터 생성\n",
    "    let mut animals: Vec<Box<dyn Animal>> = Vec::new();\n",
    "\n",
    "    // Box를 사용하여 Dog와 Cat을 저장\n",
    "    let dog = Box::new(Dog);\n",
    "    let cat = Box::new(Cat);\n",
    "\n",
    "    // 벡터에 추가\n",
    "    animals.push(dog);\n",
    "    animals.push(cat);\n",
    "\n",
    "    // 벡터의 모든 동물 소리 출력\n",
    "    for animal in animals.iter() {\n",
    "        println!(\"{}\", animal.sound());\n",
    "    }\n",
    "}\n"
   ]
  },
  {
   "cell_type": "code",
   "execution_count": 11,
   "id": "8a6331bd-132d-4a0a-a00d-f77e3eb0caed",
   "metadata": {},
   "outputs": [
    {
     "name": "stdout",
     "output_type": "stream",
     "text": [
      "Woof!\n",
      "Meow!\n"
     ]
    }
   ],
   "source": [
    "main();"
   ]
  },
  {
   "cell_type": "code",
   "execution_count": null,
   "id": "c8a09dc2-66a3-40b0-86bb-f2a46a294512",
   "metadata": {},
   "outputs": [],
   "source": []
  },
  {
   "cell_type": "markdown",
   "id": "fef1c021-729c-4c43-ad02-08e5b7a8ee9c",
   "metadata": {},
   "source": [
    "## 2-2  제너릭과 트레이트 객체의 차이점 \n",
    "\n",
    "- 제네릭은 컴파일 타임에 타입을 알고 있는 경우에 사용됩니다. \n",
    "- 반면에 트레이트 객체는 런타임에 구체적인 타입을 알 수 없는 경우에 사용됩니다."
   ]
  },
  {
   "cell_type": "markdown",
   "id": "134db169-1d76-4f03-ad6a-7a4e89f88c56",
   "metadata": {},
   "source": [
    "### 제너릭 함수 및 트레이트 객체 사용 \n",
    "\n",
    "- 제너릭으로 처리할 때는 명확히 타입 매개변수를 지정한다.\n",
    "- 트레이트 객체는 동적으로 타입을 받아서 처리해서 별도로 제너릭으로 처리할 필요가 없다"
   ]
  },
  {
   "cell_type": "code",
   "execution_count": 14,
   "id": "ae195a91-ca1c-4478-ac97-fd1af784b178",
   "metadata": {},
   "outputs": [],
   "source": [
    "// 제네릭 함수\n",
    "fn make_sound<T: Animal>(animal: &T) {\n",
    "    println!(\"{}\", animal.sound());\n",
    "}\n",
    "\n",
    "// 트레이트 객체를 사용하는 함수\n",
    "fn make_sound_dyn(animal: &dyn Animal) {\n",
    "    println!(\"{}\", animal.sound());\n",
    "}"
   ]
  },
  {
   "cell_type": "code",
   "execution_count": 15,
   "id": "b1fa5595-c099-474f-87f0-0a0e6ad32463",
   "metadata": {},
   "outputs": [],
   "source": [
    "\n",
    "\n",
    "fn main() {\n",
    "    let dog = Dog;\n",
    "    let cat = Cat;\n",
    "\n",
    "    // 제네릭 함수 호출\n",
    "    make_sound(&dog);\n",
    "    make_sound(&cat);\n",
    "\n",
    "    // 트레이트 객체를 사용하는 함수 호출\n",
    "    make_sound_dyn(&dog);\n",
    "    make_sound_dyn(&cat);\n",
    "}"
   ]
  },
  {
   "cell_type": "code",
   "execution_count": 16,
   "id": "88431d59-799c-432c-a54a-d1e31880224b",
   "metadata": {},
   "outputs": [
    {
     "name": "stdout",
     "output_type": "stream",
     "text": [
      "Woof!\n",
      "Meow!\n",
      "Woof!\n",
      "Meow!\n"
     ]
    }
   ],
   "source": [
    "main();"
   ]
  },
  {
   "cell_type": "code",
   "execution_count": null,
   "id": "83c1ea20-12cb-4c4c-bf78-3ce26f8df7f4",
   "metadata": {},
   "outputs": [],
   "source": []
  }
 ],
 "metadata": {
  "kernelspec": {
   "display_name": "Rust",
   "language": "rust",
   "name": "rust"
  },
  "language_info": {
   "codemirror_mode": "rust",
   "file_extension": ".rs",
   "mimetype": "text/rust",
   "name": "Rust",
   "pygment_lexer": "rust",
   "version": ""
  }
 },
 "nbformat": 4,
 "nbformat_minor": 5
}
