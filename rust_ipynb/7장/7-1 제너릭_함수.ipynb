{
 "cells": [
  {
   "cell_type": "markdown",
   "id": "9ccf9132",
   "metadata": {},
   "source": [
    "## 타입확인 "
   ]
  },
  {
   "cell_type": "code",
   "execution_count": 170,
   "id": "474d6ed7",
   "metadata": {},
   "outputs": [],
   "source": [
    "\n",
    "// Get the type of given variable, return a string representation of the type  , e.g \"i8\", \"u8\", \"i32\", \"u32\"\n",
    "fn type_of<T>(_: &T) -> String {\n",
    "    format!(\"{}\", std::any::type_name::<T>())\n",
    "}"
   ]
  },
  {
   "cell_type": "markdown",
   "id": "c1cd79fb",
   "metadata": {},
   "source": [
    "## 일반함수 정의 "
   ]
  },
  {
   "cell_type": "code",
   "execution_count": 2,
   "id": "971f92f6",
   "metadata": {},
   "outputs": [],
   "source": [
    "fn add(x:i32,y:i32) -> i32 {\n",
    "    x + y\n",
    "}"
   ]
  },
  {
   "cell_type": "code",
   "execution_count": 3,
   "id": "cf536381",
   "metadata": {},
   "outputs": [
    {
     "data": {
      "text/plain": [
       "300"
      ]
     },
     "execution_count": 3,
     "metadata": {},
     "output_type": "execute_result"
    }
   ],
   "source": [
    "add(100,200)"
   ]
  },
  {
   "cell_type": "markdown",
   "id": "a03ba87a",
   "metadata": {},
   "source": [
    "## 일반제너릭 정의 \n",
    "\n",
    "- 제너릭으로 지정한 타입은 연산자를 인식할 수 없다.\n",
    "- 제너릭에 특정 연산자를 사용하려면 트레이트로 제한을 지정해야 연산자를 사용할 수 있다"
   ]
  },
  {
   "cell_type": "markdown",
   "id": "449ea73e",
   "metadata": {},
   "source": [
    "### 연산자가 없어서 처리하지 못함 "
   ]
  },
  {
   "cell_type": "code",
   "execution_count": 4,
   "id": "b66dba81",
   "metadata": {},
   "outputs": [
    {
     "ename": "Error",
     "evalue": "cannot add `T` to `T`",
     "output_type": "error",
     "traceback": [
      "\u001b[31m[E0369] Error:\u001b[0m cannot add `T` to `T`",
      "   \u001b[38;5;246m╭\u001b[0m\u001b[38;5;246m─\u001b[0m\u001b[38;5;246m[\u001b[0mcommand_4:1:1\u001b[38;5;246m]\u001b[0m",
      "   \u001b[38;5;246m│\u001b[0m",
      " \u001b[38;5;246m1 │\u001b[0m \u001b[38;5;249mf\u001b[0m\u001b[38;5;249mn\u001b[0m\u001b[38;5;249m \u001b[0m\u001b[38;5;249ma\u001b[0m\u001b[38;5;249md\u001b[0m\u001b[38;5;249md\u001b[0m\u001b[38;5;249m_\u001b[0m\u001b[38;5;249mg\u001b[0m\u001b[38;5;249me\u001b[0m\u001b[38;5;249mn\u001b[0m\u001b[38;5;249m<\u001b[0m\u001b[38;5;249mT\u001b[0m\u001b[38;5;249m>\u001b[0m\u001b[38;5;249m \u001b[0m\u001b[38;5;249m(\u001b[0m\u001b[38;5;249mx\u001b[0m\u001b[38;5;249m:\u001b[0m\u001b[38;5;249mT\u001b[0m\u001b[38;5;249m,\u001b[0m\u001b[38;5;249m \u001b[0m\u001b[38;5;249my\u001b[0m\u001b[38;5;249m:\u001b[0m\u001b[38;5;249mT\u001b[0m\u001b[38;5;249m)\u001b[0m\u001b[38;5;249m \u001b[0m\u001b[38;5;249m-\u001b[0m\u001b[38;5;249m>\u001b[0m\u001b[38;5;249m \u001b[0m\u001b[38;5;249mT\u001b[0m\u001b[38;5;249m \u001b[0m\u001b[38;5;249m{\u001b[0m",
      " \u001b[38;5;246m  ·\u001b[0m             \u001b[38;5;37m│\u001b[0m ",
      " \u001b[38;5;246m  ·\u001b[0m             \u001b[38;5;37m╰\u001b[0m\u001b[38;5;37m─\u001b[0m help: consider restricting type parameter `T`: `: std::ops::Add<Output = T>`",
      " \u001b[38;5;246m2 │\u001b[0m \u001b[38;5;249m \u001b[0m\u001b[38;5;249m \u001b[0m\u001b[38;5;249m \u001b[0m\u001b[38;5;249m \u001b[0m\u001b[38;5;54mx\u001b[0m\u001b[38;5;68m+\u001b[0m\u001b[38;5;100my\u001b[0m",
      " \u001b[38;5;246m  ·\u001b[0m     \u001b[38;5;54m┬\u001b[0m\u001b[38;5;68m┬\u001b[0m\u001b[38;5;100m┬\u001b[0m  ",
      " \u001b[38;5;246m  ·\u001b[0m     \u001b[38;5;54m╰\u001b[0m\u001b[38;5;54m─\u001b[0m\u001b[38;5;54m─\u001b[0m\u001b[38;5;54m─\u001b[0m\u001b[38;5;54m─\u001b[0m T",
      " \u001b[38;5;246m  ·\u001b[0m      \u001b[38;5;68m│\u001b[0m\u001b[38;5;100m│\u001b[0m  ",
      " \u001b[38;5;246m  ·\u001b[0m      \u001b[38;5;68m╰\u001b[0m\u001b[38;5;68m─\u001b[0m\u001b[38;5;68m─\u001b[0m\u001b[38;5;68m─\u001b[0m error: cannot add `T` to `T`",
      " \u001b[38;5;246m  ·\u001b[0m       \u001b[38;5;100m│\u001b[0m  ",
      " \u001b[38;5;246m  ·\u001b[0m       \u001b[38;5;100m╰\u001b[0m\u001b[38;5;100m─\u001b[0m\u001b[38;5;100m─\u001b[0m T",
      "\u001b[38;5;246m───╯\u001b[0m"
     ]
    }
   ],
   "source": [
    "fn add_gen<T> (x:T, y:T) -> T {\n",
    "    x+y\n",
    "}"
   ]
  },
  {
   "cell_type": "markdown",
   "id": "445d66fd",
   "metadata": {},
   "source": [
    "### 트레이트 제한"
   ]
  },
  {
   "cell_type": "code",
   "execution_count": 5,
   "id": "ae7b1c4f",
   "metadata": {},
   "outputs": [],
   "source": [
    "use std::ops::Add"
   ]
  },
  {
   "cell_type": "code",
   "execution_count": 9,
   "id": "faf84d63",
   "metadata": {},
   "outputs": [],
   "source": [
    "fn add_gen<T:Add<Output=T>>(x:T, y:T) -> T {\n",
    "    x+y\n",
    "}"
   ]
  },
  {
   "cell_type": "code",
   "execution_count": 15,
   "id": "f9325c6a",
   "metadata": {},
   "outputs": [
    {
     "data": {
      "text/plain": [
       "30"
      ]
     },
     "execution_count": 15,
     "metadata": {},
     "output_type": "execute_result"
    }
   ],
   "source": [
    "add_gen(10,20)"
   ]
  },
  {
   "cell_type": "code",
   "execution_count": 16,
   "id": "0d61b94a",
   "metadata": {},
   "outputs": [
    {
     "data": {
      "text/plain": [
       "30.5"
      ]
     },
     "execution_count": 16,
     "metadata": {},
     "output_type": "execute_result"
    }
   ],
   "source": [
    "add_gen(10.2, 20.3)"
   ]
  },
  {
   "cell_type": "markdown",
   "id": "0102453f",
   "metadata": {},
   "source": [
    "### 문자열을 덧셈처리 안됨 "
   ]
  },
  {
   "cell_type": "code",
   "execution_count": 18,
   "id": "42d6c668",
   "metadata": {},
   "outputs": [
    {
     "ename": "Error",
     "evalue": "cannot add `String` to `String`",
     "output_type": "error",
     "traceback": [
      "\u001b[31m[E0277] Error:\u001b[0m cannot add `String` to `String`",
      "   \u001b[38;5;246m╭\u001b[0m\u001b[38;5;246m─\u001b[0m\u001b[38;5;246m[\u001b[0mcommand_18:1:1\u001b[38;5;246m]\u001b[0m",
      "   \u001b[38;5;246m│\u001b[0m",
      " \u001b[38;5;246m1 │\u001b[0m \u001b[38;5;54ma\u001b[0m\u001b[38;5;54md\u001b[0m\u001b[38;5;54md\u001b[0m\u001b[38;5;54m_\u001b[0m\u001b[38;5;54mg\u001b[0m\u001b[38;5;54me\u001b[0m\u001b[38;5;54mn\u001b[0m\u001b[38;5;249m(\u001b[0m\u001b[38;5;249m\"\u001b[0m\u001b[38;5;249ma\u001b[0m\u001b[38;5;249mb\u001b[0m\u001b[38;5;249mc\u001b[0m\u001b[38;5;249m\"\u001b[0m\u001b[38;5;249m.\u001b[0m\u001b[38;5;249mt\u001b[0m\u001b[38;5;249mo\u001b[0m\u001b[38;5;249m_\u001b[0m\u001b[38;5;249ms\u001b[0m\u001b[38;5;249mt\u001b[0m\u001b[38;5;249mr\u001b[0m\u001b[38;5;249mi\u001b[0m\u001b[38;5;249mn\u001b[0m\u001b[38;5;249mg\u001b[0m\u001b[38;5;249m(\u001b[0m\u001b[38;5;249m)\u001b[0m\u001b[38;5;249m,\u001b[0m\u001b[38;5;249m \u001b[0m\u001b[38;5;249m\"\u001b[0m\u001b[38;5;249mc\u001b[0m\u001b[38;5;249md\u001b[0m\u001b[38;5;249me\u001b[0m\u001b[38;5;249m\"\u001b[0m\u001b[38;5;249m.\u001b[0m\u001b[38;5;249mt\u001b[0m\u001b[38;5;249mo\u001b[0m\u001b[38;5;249m_\u001b[0m\u001b[38;5;249ms\u001b[0m\u001b[38;5;249mt\u001b[0m\u001b[38;5;249mr\u001b[0m\u001b[38;5;249mi\u001b[0m\u001b[38;5;249mn\u001b[0m\u001b[38;5;249mg\u001b[0m\u001b[38;5;249m(\u001b[0m\u001b[38;5;249m)\u001b[0m\u001b[38;5;249m)\u001b[0m",
      " \u001b[38;5;246m  ·\u001b[0m \u001b[38;5;54m─\u001b[0m\u001b[38;5;54m─\u001b[0m\u001b[38;5;54m─\u001b[0m\u001b[38;5;54m┬\u001b[0m\u001b[38;5;54m─\u001b[0m\u001b[38;5;54m─\u001b[0m\u001b[38;5;54m─\u001b[0m  ",
      " \u001b[38;5;246m  ·\u001b[0m    \u001b[38;5;54m╰\u001b[0m\u001b[38;5;54m─\u001b[0m\u001b[38;5;54m─\u001b[0m\u001b[38;5;54m─\u001b[0m\u001b[38;5;54m─\u001b[0m\u001b[38;5;54m─\u001b[0m no implementation for `String + String`",
      " \u001b[38;5;246m  ·\u001b[0m ",
      " \u001b[38;5;246m  ·\u001b[0m \u001b[38;5;115mNote\u001b[0m: required by this bound in `add_gen`",
      "\u001b[38;5;246m───╯\u001b[0m"
     ]
    }
   ],
   "source": [
    "add_gen(\"abc\".to_string(), \"cde\".to_string())"
   ]
  },
  {
   "cell_type": "code",
   "execution_count": 39,
   "id": "f31790b7",
   "metadata": {},
   "outputs": [],
   "source": [
    "fn add_sgen(_x:String, _y:String) -> String {\n",
    "    format!(\"{}{}\",_x,_y)\n",
    "    \n",
    "}"
   ]
  },
  {
   "cell_type": "code",
   "execution_count": 40,
   "id": "4b93a162",
   "metadata": {},
   "outputs": [
    {
     "data": {
      "text/plain": [
       "\"가을겨울\""
      ]
     },
     "execution_count": 40,
     "metadata": {},
     "output_type": "execute_result"
    }
   ],
   "source": [
    "add_sgen(\"가을\".to_string(),\"겨울\".to_string())"
   ]
  },
  {
   "cell_type": "markdown",
   "id": "e7a34a37",
   "metadata": {},
   "source": [
    "### 매크로 연결할 때는 직접 리터럴 처리 "
   ]
  },
  {
   "cell_type": "code",
   "execution_count": 38,
   "id": "d1178606",
   "metadata": {},
   "outputs": [
    {
     "data": {
      "text/plain": [
       "\"가을겨울\""
      ]
     },
     "execution_count": 38,
     "metadata": {},
     "output_type": "execute_result"
    }
   ],
   "source": [
    "concat!(\"가을\",\"겨울\")"
   ]
  },
  {
   "cell_type": "code",
   "execution_count": null,
   "id": "7254964e",
   "metadata": {},
   "outputs": [],
   "source": []
  },
  {
   "cell_type": "code",
   "execution_count": 44,
   "id": "51cdd1af",
   "metadata": {},
   "outputs": [],
   "source": [
    ":dep typename = \"0.1.2\""
   ]
  },
  {
   "cell_type": "code",
   "execution_count": 45,
   "id": "ae9d286c",
   "metadata": {},
   "outputs": [],
   "source": [
    "use typename::TypeName;"
   ]
  },
  {
   "cell_type": "code",
   "execution_count": 47,
   "id": "2ef726e4",
   "metadata": {},
   "outputs": [],
   "source": [
    "let s : &'static str = \"가을\";"
   ]
  },
  {
   "cell_type": "code",
   "execution_count": 48,
   "id": "5cbbe029",
   "metadata": {},
   "outputs": [
    {
     "data": {
      "text/plain": [
       "\"str\""
      ]
     },
     "execution_count": 48,
     "metadata": {},
     "output_type": "execute_result"
    }
   ],
   "source": [
    "s.type_name_of()"
   ]
  },
  {
   "cell_type": "code",
   "execution_count": 49,
   "id": "fad18b6c",
   "metadata": {},
   "outputs": [
    {
     "ename": "Error",
     "evalue": "expected a literal",
     "output_type": "error",
     "traceback": [
      "\u001b[31mError:\u001b[0m expected a literal",
      "   \u001b[38;5;246m╭\u001b[0m\u001b[38;5;246m─\u001b[0m\u001b[38;5;246m[\u001b[0mcommand_49:1:1\u001b[38;5;246m]\u001b[0m",
      "   \u001b[38;5;246m│\u001b[0m",
      " \u001b[38;5;246m1 │\u001b[0m \u001b[38;5;249mc\u001b[0m\u001b[38;5;249mo\u001b[0m\u001b[38;5;249mn\u001b[0m\u001b[38;5;249mc\u001b[0m\u001b[38;5;249ma\u001b[0m\u001b[38;5;249mt\u001b[0m\u001b[38;5;249m!\u001b[0m\u001b[38;5;249m(\u001b[0m\u001b[38;5;54ms\u001b[0m\u001b[38;5;249m,\u001b[0m\u001b[38;5;100ms\u001b[0m\u001b[38;5;249m)\u001b[0m",
      " \u001b[38;5;246m  ·\u001b[0m         \u001b[38;5;54m┬\u001b[0m \u001b[38;5;100m┬\u001b[0m  ",
      " \u001b[38;5;246m  ·\u001b[0m         \u001b[38;5;54m╰\u001b[0m\u001b[38;5;54m─\u001b[0m\u001b[38;5;54m─\u001b[0m\u001b[38;5;54m─\u001b[0m\u001b[38;5;54m─\u001b[0m error: expected a literal",
      " \u001b[38;5;246m  ·\u001b[0m           \u001b[38;5;100m│\u001b[0m  ",
      " \u001b[38;5;246m  ·\u001b[0m           \u001b[38;5;100m╰\u001b[0m\u001b[38;5;100m─\u001b[0m\u001b[38;5;100m─\u001b[0m error: expected a literal",
      "\u001b[38;5;246m───╯\u001b[0m"
     ]
    }
   ],
   "source": [
    "concat!(s,s)"
   ]
  },
  {
   "cell_type": "code",
   "execution_count": null,
   "id": "36598f44",
   "metadata": {},
   "outputs": [],
   "source": []
  },
  {
   "cell_type": "markdown",
   "id": "0baba43c",
   "metadata": {},
   "source": [
    "## 트레이트 제한 : where"
   ]
  },
  {
   "cell_type": "code",
   "execution_count": 62,
   "id": "0b9cb792",
   "metadata": {},
   "outputs": [],
   "source": [
    "fn add_str(x: &str) ->String {\n",
    "    x.to_string()\n",
    "}"
   ]
  },
  {
   "cell_type": "code",
   "execution_count": 63,
   "id": "4a1f9606",
   "metadata": {},
   "outputs": [
    {
     "data": {
      "text/plain": [
       "\"겨울이\""
      ]
     },
     "execution_count": 63,
     "metadata": {},
     "output_type": "execute_result"
    }
   ],
   "source": [
    "add_str(\"겨울이\")"
   ]
  },
  {
   "cell_type": "code",
   "execution_count": 160,
   "id": "1325948e",
   "metadata": {},
   "outputs": [],
   "source": [
    "// 'static as part of a trait bound:\n",
    "\n",
    "fn generic<T>(x: T) where T: std::fmt::Debug {\n",
    "    println!(\"{:?}\",x);\n",
    "}"
   ]
  },
  {
   "cell_type": "code",
   "execution_count": 161,
   "id": "545a0029",
   "metadata": {},
   "outputs": [
    {
     "name": "stdout",
     "output_type": "stream",
     "text": [
      "\"여름이\"\n"
     ]
    },
    {
     "data": {
      "text/plain": [
       "()"
      ]
     },
     "execution_count": 161,
     "metadata": {},
     "output_type": "execute_result"
    }
   ],
   "source": [
    "generic(\"여름이\")"
   ]
  },
  {
   "cell_type": "code",
   "execution_count": 162,
   "id": "f0c6563f",
   "metadata": {},
   "outputs": [],
   "source": [
    "fn add_gen2<T>(x:T, y:T) -> String where T:std::fmt::Display {\n",
    "    format!(\"{}{}\", x, y)\n",
    "}"
   ]
  },
  {
   "cell_type": "code",
   "execution_count": 163,
   "id": "88b941d4",
   "metadata": {},
   "outputs": [
    {
     "data": {
      "text/plain": [
       "\"가을이겨울이\""
      ]
     },
     "execution_count": 163,
     "metadata": {},
     "output_type": "execute_result"
    }
   ],
   "source": [
    "\"가을이\".to_string() + \"겨울이\""
   ]
  },
  {
   "cell_type": "code",
   "execution_count": 164,
   "id": "810ea5c0",
   "metadata": {},
   "outputs": [
    {
     "data": {
      "text/plain": [
       "\"가을이겨울이\""
      ]
     },
     "execution_count": 164,
     "metadata": {},
     "output_type": "execute_result"
    }
   ],
   "source": [
    "add_gen2(\"가을이\",\"겨울이\")"
   ]
  },
  {
   "cell_type": "code",
   "execution_count": null,
   "id": "8e0c6907",
   "metadata": {},
   "outputs": [],
   "source": []
  },
  {
   "cell_type": "code",
   "execution_count": 2,
   "id": "523a82cd",
   "metadata": {},
   "outputs": [],
   "source": [
    "struct SeaCreature {\n",
    "    pub name: String,\n",
    "    noise: String,\n",
    "}\n",
    "\n",
    "impl SeaCreature {\n",
    "    pub fn get_sound(&self) -> &str {\n",
    "        &self.noise\n",
    "    }\n",
    "}\n",
    "\n",
    "trait NoiseMaker {\n",
    "    fn make_noise(&self);\n",
    "}\n",
    "\n",
    "impl NoiseMaker for SeaCreature {\n",
    "    fn make_noise(&self) {\n",
    "        println!(\"{}\", &self.get_sound());\n",
    "    }\n",
    "}\n",
    "\n",
    "fn generic_make_noise<T>(creature: &T)\n",
    "where\n",
    "    T: NoiseMaker,\n",
    "{\n",
    "    // 컴파일 타임에 실제 자료형을 알게 됩니다\n",
    "    creature.make_noise();\n",
    "}\n",
    "\n",
    "fn main() {\n",
    "    let creature = SeaCreature {\n",
    "        name: String::from(\"Ferris\"),\n",
    "        noise: String::from(\"blub\"),\n",
    "    };\n",
    "    generic_make_noise(&creature);\n",
    "}\n"
   ]
  },
  {
   "cell_type": "code",
   "execution_count": 3,
   "id": "12c3dbac",
   "metadata": {},
   "outputs": [
    {
     "name": "stdout",
     "output_type": "stream",
     "text": [
      "blub\n"
     ]
    }
   ],
   "source": [
    "main();"
   ]
  },
  {
   "cell_type": "code",
   "execution_count": null,
   "id": "66fa5da7",
   "metadata": {},
   "outputs": [],
   "source": []
  },
  {
   "cell_type": "code",
   "execution_count": null,
   "id": "afdd166c",
   "metadata": {},
   "outputs": [],
   "source": []
  },
  {
   "cell_type": "markdown",
   "id": "9e852e9a",
   "metadata": {},
   "source": [
    "## 숫자 구하기  제너릭"
   ]
  },
  {
   "cell_type": "code",
   "execution_count": 219,
   "id": "f86f96f6",
   "metadata": {},
   "outputs": [],
   "source": [
    "use std::any::{Any, TypeId};"
   ]
  },
  {
   "cell_type": "code",
   "execution_count": 246,
   "id": "c4da3ae1",
   "metadata": {},
   "outputs": [],
   "source": [
    "fn addition_of_values<T: PartialOrd + std::ops::Add<Output = T> + Into<T> + From<T> >(num1: T, num2: T) -> T {\n",
    "    num1.into()  + num2\n",
    "   \n",
    "\n",
    "}"
   ]
  },
  {
   "cell_type": "code",
   "execution_count": 247,
   "id": "92ca067b",
   "metadata": {},
   "outputs": [
    {
     "data": {
      "text/plain": [
       "300"
      ]
     },
     "execution_count": 247,
     "metadata": {},
     "output_type": "execute_result"
    }
   ],
   "source": [
    "addition_of_values(100,200)"
   ]
  },
  {
   "cell_type": "code",
   "execution_count": 248,
   "id": "6e21fb38",
   "metadata": {},
   "outputs": [
    {
     "data": {
      "text/plain": [
       "300.55"
      ]
     },
     "execution_count": 248,
     "metadata": {},
     "output_type": "execute_result"
    }
   ],
   "source": [
    "addition_of_values(100.22,200.33)"
   ]
  },
  {
   "cell_type": "code",
   "execution_count": 252,
   "id": "43f55589",
   "metadata": {},
   "outputs": [
    {
     "ename": "Error",
     "evalue": "cannot add `&str` to `&str`",
     "output_type": "error",
     "traceback": [
      "addition_of_values(\"가을이\", \"겨율이\")",
      "\u001b[91m^^^^^^^^^^^^^^^^^^\u001b[0m \u001b[94mno implementation for `&str + &str`\u001b[0m",
      "cannot add `&str` to `&str`",
      "\u001b[1mhelp\u001b[0m: the trait `Add` is not implemented for `&str`",
      "\u001b[1mhelp\u001b[0m: the trait `Add<&str>` is implemented for `String`"
     ]
    }
   ],
   "source": [
    "addition_of_values(\"가을이\", \"겨율이\")"
   ]
  },
  {
   "cell_type": "code",
   "execution_count": 196,
   "id": "fd9a4695",
   "metadata": {},
   "outputs": [
    {
     "data": {
      "text/plain": [
       "\"aaa\""
      ]
     },
     "execution_count": 196,
     "metadata": {},
     "output_type": "execute_result"
    }
   ],
   "source": [
    "Into::<String>::into(\"aaa\")"
   ]
  },
  {
   "cell_type": "code",
   "execution_count": 181,
   "id": "c8c4ac23",
   "metadata": {},
   "outputs": [
    {
     "data": {
      "text/plain": [
       "\"alloc::string::String\""
      ]
     },
     "execution_count": 181,
     "metadata": {},
     "output_type": "execute_result"
    }
   ],
   "source": [
    "type_of(&\"str\".to_string())"
   ]
  },
  {
   "cell_type": "code",
   "execution_count": 182,
   "id": "2fea7237",
   "metadata": {},
   "outputs": [
    {
     "data": {
      "text/plain": [
       "\"std::string::String\""
      ]
     },
     "execution_count": 182,
     "metadata": {},
     "output_type": "execute_result"
    }
   ],
   "source": [
    "\"str\".to_string().type_name_of()"
   ]
  },
  {
   "cell_type": "markdown",
   "id": "bdaecb0c",
   "metadata": {},
   "source": [
    "## 문자열 연결 알아보기"
   ]
  },
  {
   "cell_type": "code",
   "execution_count": 90,
   "id": "b6f835d8",
   "metadata": {},
   "outputs": [],
   "source": [
    "fn main() {\n",
    "    let one = \"string\";\n",
    "    let two = \"something else\";\n",
    "\n",
    "    let three = one.to_owned() + two;   // to_owned는 소유권 데이터로 변환 -> 복제됨 \n",
    "    let four = one.to_string();\n",
    "    \n",
    "    println!(\" {} \", three);\n",
    "    println!(\" {} \", one);\n",
    "    println!(\" {} \", four);\n",
    "}"
   ]
  },
  {
   "cell_type": "code",
   "execution_count": 91,
   "id": "058dacae",
   "metadata": {},
   "outputs": [
    {
     "name": "stdout",
     "output_type": "stream",
     "text": [
      " stringsomething else \n",
      " string \n",
      " string \n"
     ]
    },
    {
     "data": {
      "text/plain": [
       "()"
      ]
     },
     "execution_count": 91,
     "metadata": {},
     "output_type": "execute_result"
    }
   ],
   "source": [
    "main()"
   ]
  },
  {
   "cell_type": "code",
   "execution_count": null,
   "id": "3047e993",
   "metadata": {},
   "outputs": [],
   "source": []
  },
  {
   "cell_type": "markdown",
   "id": "3b66a8fe",
   "metadata": {},
   "source": [
    "## 문자리터럴 연결하기"
   ]
  },
  {
   "cell_type": "code",
   "execution_count": 97,
   "id": "5d473663",
   "metadata": {},
   "outputs": [],
   "source": [
    "fn add_join(first:&str, second:&str) -> String {\n",
    "    [first, second].join(\" \")\n",
    "}\n"
   ]
  },
  {
   "cell_type": "code",
   "execution_count": 98,
   "id": "2b5d66d4",
   "metadata": {},
   "outputs": [
    {
     "data": {
      "text/plain": [
       "\"자자 오오\""
      ]
     },
     "execution_count": 98,
     "metadata": {},
     "output_type": "execute_result"
    }
   ],
   "source": [
    "add_join(\"자자\",\"오오\")"
   ]
  },
  {
   "cell_type": "code",
   "execution_count": 99,
   "id": "5490b3a2",
   "metadata": {},
   "outputs": [],
   "source": [
    "fn add_format(first:&str, second:&str) -> String {\n",
    "    format!(\" {} {}\",first,second)\n",
    "}\n"
   ]
  },
  {
   "cell_type": "code",
   "execution_count": 100,
   "id": "46ad106f",
   "metadata": {},
   "outputs": [
    {
     "data": {
      "text/plain": [
       "\" 주주 하하\""
      ]
     },
     "execution_count": 100,
     "metadata": {},
     "output_type": "execute_result"
    }
   ],
   "source": [
    "add_format(\"주주\",\"하하\")"
   ]
  },
  {
   "cell_type": "code",
   "execution_count": 102,
   "id": "059d84df",
   "metadata": {},
   "outputs": [],
   "source": [
    "fn add_concat()->String {\n",
    "    concat!(\"First\", \" \", \"Second\").to_string()\n",
    "}"
   ]
  },
  {
   "cell_type": "code",
   "execution_count": 103,
   "id": "727cecc1",
   "metadata": {},
   "outputs": [
    {
     "data": {
      "text/plain": [
       "\"First Second\""
      ]
     },
     "execution_count": 103,
     "metadata": {},
     "output_type": "execute_result"
    }
   ],
   "source": [
    "add_concat()"
   ]
  },
  {
   "cell_type": "code",
   "execution_count": 105,
   "id": "07258bb3",
   "metadata": {},
   "outputs": [],
   "source": [
    "fn add_Str(first:&str, second:&str) -> String {\n",
    "    let mut first = first.to_string();\n",
    "    first.push_str(second);\n",
    "    first\n",
    "} "
   ]
  },
  {
   "cell_type": "code",
   "execution_count": 106,
   "id": "d3875b5b",
   "metadata": {},
   "outputs": [
    {
     "data": {
      "text/plain": [
       "\"저저야야\""
      ]
     },
     "execution_count": 106,
     "metadata": {},
     "output_type": "execute_result"
    }
   ],
   "source": [
    "add_Str(\"저저\",\"야야\")"
   ]
  },
  {
   "cell_type": "code",
   "execution_count": 107,
   "id": "8a8acf7a",
   "metadata": {},
   "outputs": [],
   "source": [
    "fn add_Add(first:&str, second:&str) -> String {\n",
    "    let mut first = first.to_string();\n",
    "    first + second\n",
    "} "
   ]
  },
  {
   "cell_type": "code",
   "execution_count": 108,
   "id": "d33b1619",
   "metadata": {},
   "outputs": [
    {
     "data": {
      "text/plain": [
       "\"장하다문자열\""
      ]
     },
     "execution_count": 108,
     "metadata": {},
     "output_type": "execute_result"
    }
   ],
   "source": [
    "add_Add(\"장하다\", \"문자열\")"
   ]
  },
  {
   "cell_type": "markdown",
   "id": "2b8149ed",
   "metadata": {},
   "source": [
    "## Into 트레이트로 문자열 결합하기"
   ]
  },
  {
   "cell_type": "code",
   "execution_count": 131,
   "id": "9f23e8a2",
   "metadata": {},
   "outputs": [],
   "source": [
    "fn foo<T: Into<String>>(s: T, s1: T) -> String {\n",
    "    s.into() + s1.into().as_str()\n",
    "}"
   ]
  },
  {
   "cell_type": "code",
   "execution_count": 132,
   "id": "4e1d5a0a",
   "metadata": {},
   "outputs": [],
   "source": [
    "let s = String::from(\"abc\");\n",
    "let ss = String::from(\"def\");"
   ]
  },
  {
   "cell_type": "code",
   "execution_count": 133,
   "id": "8a5a3c18",
   "metadata": {},
   "outputs": [
    {
     "data": {
      "text/plain": [
       "\"abcdef\""
      ]
     },
     "execution_count": 133,
     "metadata": {},
     "output_type": "execute_result"
    }
   ],
   "source": [
    "foo(s,ss)"
   ]
  },
  {
   "cell_type": "code",
   "execution_count": 134,
   "id": "25e5af23",
   "metadata": {},
   "outputs": [
    {
     "data": {
      "text/plain": [
       "\"abcxyz\""
      ]
     },
     "execution_count": 134,
     "metadata": {},
     "output_type": "execute_result"
    }
   ],
   "source": [
    "foo(\"abc\",\"xyz\")"
   ]
  },
  {
   "cell_type": "code",
   "execution_count": null,
   "id": "3abd90a8",
   "metadata": {},
   "outputs": [],
   "source": []
  },
  {
   "cell_type": "code",
   "execution_count": null,
   "id": "b8a6b9bc",
   "metadata": {},
   "outputs": [],
   "source": []
  }
 ],
 "metadata": {
  "kernelspec": {
   "display_name": "Rust",
   "language": "rust",
   "name": "rust"
  },
  "language_info": {
   "codemirror_mode": "rust",
   "file_extension": ".rs",
   "mimetype": "text/rust",
   "name": "Rust",
   "pygment_lexer": "rust",
   "version": ""
  }
 },
 "nbformat": 4,
 "nbformat_minor": 5
}
