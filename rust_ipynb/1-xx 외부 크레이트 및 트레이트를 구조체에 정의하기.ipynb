{
 "cells": [
  {
   "cell_type": "markdown",
   "id": "e6184709",
   "metadata": {},
   "source": [
    "# 0. 타입 확인 : 외부 크레이트 사용하기"
   ]
  },
  {
   "cell_type": "markdown",
   "id": "e08a8ccb",
   "metadata": {},
   "source": [
    "## 0-1. crate 를 현재 개발 환경에 가져오기\n",
    "\n",
    "- 타입에 대한 정보를 처리하기 위해 외부에서 크레이트를 가져온다\n",
    "- :dep 크레이트명 = 버전\n",
    "- 크레이트 버전은 crates.io 에서 크레이트 명을 확인하고 처리 \n"
   ]
  },
  {
   "cell_type": "markdown",
   "id": "ba686f74",
   "metadata": {},
   "source": [
    "### 의존하는 크레이트를 가져온다 \n",
    "\n",
    "- .toml 파일 내의 [dependency] 섹션 내에 의존 중의 크레이트를 지정하듯이 \n",
    "- :dep를 통해 주피터노트북으로 크레이트를 가져올 수 있다.  "
   ]
  },
  {
   "cell_type": "code",
   "execution_count": 2,
   "id": "69ecd799",
   "metadata": {},
   "outputs": [],
   "source": [
    ":dep typename = \"0.1.2\""
   ]
  },
  {
   "cell_type": "markdown",
   "id": "c9993f7e",
   "metadata": {},
   "source": [
    "## 0-2. 크레이트 내의 트레이트 사용하기\n",
    "\n",
    "- 크레이트를 가져와서 사용할 때는 use 예약어를 사용\n",
    "- 크레이트:: 트레이트명"
   ]
  },
  {
   "cell_type": "markdown",
   "id": "2007a203",
   "metadata": {},
   "source": [
    "### 해당 메서드를 사용하려면 트레이트를 사용\n",
    "\n",
    "- use 크레이트명::트레이트명"
   ]
  },
  {
   "cell_type": "code",
   "execution_count": 3,
   "id": "6a8fd209",
   "metadata": {},
   "outputs": [],
   "source": [
    "use typename::TypeName;"
   ]
  },
  {
   "cell_type": "code",
   "execution_count": null,
   "id": "508d2844",
   "metadata": {},
   "outputs": [],
   "source": []
  },
  {
   "cell_type": "code",
   "execution_count": null,
   "id": "97cbbfed",
   "metadata": {},
   "outputs": [],
   "source": []
  },
  {
   "cell_type": "markdown",
   "id": "c312f570",
   "metadata": {},
   "source": [
    "## 1-7. 구조체를 정의할 때 속성을 정의해서 적용\n",
    "\n",
    "- 속성을 정의해서 특정 기능을 바로 적용할 수 있다.\n",
    "- 이때는 구조체 위에 속성을 정의한다.\n",
    "- 속성에 바로 컴파일러에서 적용을 원하면 derive(적용가능한 트레이트) 표시"
   ]
  },
  {
   "cell_type": "markdown",
   "id": "1b94f619",
   "metadata": {},
   "source": [
    "### 구조체 정의한 후에 타입을 확인하기\n",
    "\n",
    "- 트레이트를 적용하려면 구현을 해야한다.\n",
    "- 하지만 구현없어 처리하면 예외가 발생한다 "
   ]
  },
  {
   "cell_type": "code",
   "execution_count": 4,
   "id": "c3e5bcaa",
   "metadata": {},
   "outputs": [],
   "source": [
    "struct AAA<T> {\n",
    "    somet_t : T\n",
    "}"
   ]
  },
  {
   "cell_type": "code",
   "execution_count": 5,
   "id": "0a8e8017",
   "metadata": {},
   "outputs": [
    {
     "ename": "Error",
     "evalue": "the function or associated item `type_name` exists for struct `AAA<u32>`, but its trait bounds were not satisfied",
     "output_type": "error",
     "traceback": [
      "\u001b[31m[E0599] Error:\u001b[0m the function or associated item `type_name` exists for struct `AAA<u32>`, but its trait bounds were not satisfied",
      "   \u001b[38;5;246m╭\u001b[0m\u001b[38;5;246m─\u001b[0m\u001b[38;5;246m[\u001b[0mcommand_5:1:1\u001b[38;5;246m]\u001b[0m",
      "   \u001b[38;5;246m│\u001b[0m",
      " \u001b[38;5;246m1 │\u001b[0m \u001b[38;5;249mA\u001b[0m\u001b[38;5;249mA\u001b[0m\u001b[38;5;249mA\u001b[0m\u001b[38;5;249m:\u001b[0m\u001b[38;5;249m:\u001b[0m\u001b[38;5;249m<\u001b[0m\u001b[38;5;249mu\u001b[0m\u001b[38;5;249m3\u001b[0m\u001b[38;5;249m2\u001b[0m\u001b[38;5;249m>\u001b[0m\u001b[38;5;249m:\u001b[0m\u001b[38;5;249m:\u001b[0m\u001b[38;5;54mt\u001b[0m\u001b[38;5;54my\u001b[0m\u001b[38;5;54mp\u001b[0m\u001b[38;5;54me\u001b[0m\u001b[38;5;54m_\u001b[0m\u001b[38;5;54mn\u001b[0m\u001b[38;5;54ma\u001b[0m\u001b[38;5;54mm\u001b[0m\u001b[38;5;54me\u001b[0m\u001b[38;5;249m(\u001b[0m\u001b[38;5;249m)\u001b[0m",
      " \u001b[38;5;246m  ·\u001b[0m             \u001b[38;5;54m─\u001b[0m\u001b[38;5;54m─\u001b[0m\u001b[38;5;54m─\u001b[0m\u001b[38;5;54m─\u001b[0m\u001b[38;5;54m┬\u001b[0m\u001b[38;5;54m─\u001b[0m\u001b[38;5;54m─\u001b[0m\u001b[38;5;54m─\u001b[0m\u001b[38;5;54m─\u001b[0m  ",
      " \u001b[38;5;246m  ·\u001b[0m                 \u001b[38;5;54m╰\u001b[0m\u001b[38;5;54m─\u001b[0m\u001b[38;5;54m─\u001b[0m\u001b[38;5;54m─\u001b[0m\u001b[38;5;54m─\u001b[0m\u001b[38;5;54m─\u001b[0m\u001b[38;5;54m─\u001b[0m function or associated item cannot be called on `AAA<u32>` due to unsatisfied trait bounds",
      " \u001b[38;5;246m  ·\u001b[0m ",
      " \u001b[38;5;246m  ·\u001b[0m \u001b[38;5;115mNote\u001b[0m: note: the following trait must be implemented",
      "\u001b[38;5;246m───╯\u001b[0m"
     ]
    }
   ],
   "source": [
    "AAA::<u32>::type_name()"
   ]
  },
  {
   "cell_type": "markdown",
   "id": "83303acf",
   "metadata": {},
   "source": [
    "### 이때는 속성으로 구조체에 트레이트를 지정한다. \n",
    "\n",
    "- 구현없이 함수나 메서드를 사용하려면 derive 속성을 지정한다.\n",
    "- 그러면 구조체에 트레이트에 지정된 함수나 메서드를 실행할 수 있다."
   ]
  },
  {
   "cell_type": "code",
   "execution_count": 6,
   "id": "513fdee3",
   "metadata": {},
   "outputs": [],
   "source": [
    "#[derive(TypeName)]\n",
    "struct Custom<T> {\n",
    "    some_t: T,\n",
    "}"
   ]
  },
  {
   "cell_type": "markdown",
   "id": "8bf2fc9f",
   "metadata": {},
   "source": [
    "### 현재 상태를 크레이트로 보고 그 다음에 구조체 표시"
   ]
  },
  {
   "cell_type": "code",
   "execution_count": 7,
   "id": "cb15f38f",
   "metadata": {},
   "outputs": [
    {
     "data": {
      "text/plain": [
       "\"ctx::Custom<u32>\""
      ]
     },
     "execution_count": 7,
     "metadata": {},
     "output_type": "execute_result"
    }
   ],
   "source": [
    "Custom::<u32>::type_name()"
   ]
  },
  {
   "cell_type": "code",
   "execution_count": 8,
   "id": "98e9f80f",
   "metadata": {},
   "outputs": [],
   "source": [
    "let cus = Custom { some_t : 1000};"
   ]
  },
  {
   "cell_type": "code",
   "execution_count": 9,
   "id": "40847537",
   "metadata": {},
   "outputs": [
    {
     "data": {
      "text/plain": [
       "\"ctx::Custom<i32>\""
      ]
     },
     "execution_count": 9,
     "metadata": {},
     "output_type": "execute_result"
    }
   ],
   "source": [
    "cus.type_name_of()"
   ]
  },
  {
   "cell_type": "code",
   "execution_count": null,
   "id": "71db6532",
   "metadata": {},
   "outputs": [],
   "source": []
  }
 ],
 "metadata": {
  "kernelspec": {
   "display_name": "Rust",
   "language": "rust",
   "name": "rust"
  },
  "language_info": {
   "codemirror_mode": "rust",
   "file_extension": ".rs",
   "mimetype": "text/rust",
   "name": "Rust",
   "pygment_lexer": "rust",
   "version": ""
  }
 },
 "nbformat": 4,
 "nbformat_minor": 5
}
