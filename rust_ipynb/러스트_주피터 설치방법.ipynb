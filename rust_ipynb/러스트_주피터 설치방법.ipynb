{
 "cells": [
  {
   "cell_type": "code",
   "execution_count": null,
   "id": "d2f4af9c",
   "metadata": {},
   "outputs": [],
   "source": []
  },
  {
   "cell_type": "markdown",
   "id": "4e6b7c9c",
   "metadata": {},
   "source": [
    "## 참고자료\n",
    "\n",
    "https://github.com/google/evcxr/tree/main/evcxr_jupyter"
   ]
  },
  {
   "cell_type": "markdown",
   "id": "ea84b5b2",
   "metadata": {},
   "source": [
    "## 프롬프트 처리"
   ]
  },
  {
   "cell_type": "code",
   "execution_count": 2,
   "id": "38d0c439",
   "metadata": {},
   "outputs": [
    {
     "name": "stdout",
     "output_type": "stream",
     "text": [
      "Name?가을이\n",
      "Password?········\n"
     ]
    }
   ],
   "source": [
    ":dep evcxr_input\n",
    "let name = evcxr_input::get_string(\"Name?\");\n",
    "let password = evcxr_input::get_password(\"Password?\");"
   ]
  },
  {
   "cell_type": "code",
   "execution_count": null,
   "id": "54f05bed",
   "metadata": {},
   "outputs": [],
   "source": []
  }
 ],
 "metadata": {
  "kernelspec": {
   "display_name": "Rust",
   "language": "rust",
   "name": "rust"
  },
  "language_info": {
   "codemirror_mode": "rust",
   "file_extension": ".rs",
   "mimetype": "text/rust",
   "name": "Rust",
   "pygment_lexer": "rust",
   "version": ""
  }
 },
 "nbformat": 4,
 "nbformat_minor": 5
}
