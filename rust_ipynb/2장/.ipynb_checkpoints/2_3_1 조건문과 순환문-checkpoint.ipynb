{
 "cells": [
  {
   "cell_type": "markdown",
   "id": "28d5f681",
   "metadata": {},
   "source": [
    "## 조건문 \n",
    "\n",
    "- 특정 조건식이 만족할 경우 처리한다. 특정 로직의 분기 처리를 수행한다.\n",
    "- 조건식의 결과는 항상 논리값으로만 평가되어야 된다.\n",
    "- 논리값도 변수에 할당하는 표현식으로 사용된다. \n"
   ]
  },
  {
   "cell_type": "markdown",
   "id": "e0acfe88",
   "metadata": {},
   "source": [
    "### 단일 if 문..\n",
    "- 항상 참인 경우만 체클 할 때 사용 "
   ]
  },
  {
   "cell_type": "code",
   "execution_count": 6,
   "id": "5a700f28",
   "metadata": {},
   "outputs": [],
   "source": [
    "fn main() {\n",
    "    let number = 3;\n",
    "\n",
    "    if number == 3 {\n",
    "        println!(\" 동일한 결과일 경우 \");\n",
    "    }\n",
    "}"
   ]
  },
  {
   "cell_type": "markdown",
   "id": "d1b2c697",
   "metadata": {},
   "source": [
    "###  조건식일 때는 항상 논리값을 결과로 처리"
   ]
  },
  {
   "cell_type": "code",
   "execution_count": 3,
   "id": "b2766b4a",
   "metadata": {},
   "outputs": [
    {
     "ename": "Error",
     "evalue": "mismatched types",
     "output_type": "error",
     "traceback": [
      "    if number {",
      "\u001b[91m       ^^^^^^\u001b[0m \u001b[94mexpected `bool`, found integer\u001b[0m",
      "mismatched types"
     ]
    }
   ],
   "source": [
    "fn main() {\n",
    "    let number = 3;\n",
    "\n",
    "    if number {\n",
    "        println!(\"number was three\");\n",
    "    }\n",
    "}\n"
   ]
  },
  {
   "cell_type": "markdown",
   "id": "478f85a4",
   "metadata": {},
   "source": [
    "### 단일 if else 문\n",
    "- 특정 조건식이 참과 거짓을 판단할 때 사용 "
   ]
  },
  {
   "cell_type": "code",
   "execution_count": 2,
   "id": "b6184cf7",
   "metadata": {},
   "outputs": [],
   "source": [
    "fn main() {\n",
    "    let number = 3;\n",
    "\n",
    "    if number < 5 {\n",
    "        println!(\"condition was true\");\n",
    "    } else {\n",
    "        println!(\"condition was false\");\n",
    "    }\n",
    "}"
   ]
  },
  {
   "cell_type": "code",
   "execution_count": 3,
   "id": "a59a6c6c",
   "metadata": {},
   "outputs": [
    {
     "name": "stdout",
     "output_type": "stream",
     "text": [
      "condition was true\n"
     ]
    },
    {
     "data": {
      "text/plain": [
       "()"
      ]
     },
     "execution_count": 3,
     "metadata": {},
     "output_type": "execute_result"
    }
   ],
   "source": [
    "main()"
   ]
  },
  {
   "cell_type": "markdown",
   "id": "1e6263d9",
   "metadata": {},
   "source": [
    "### 논리식 즉 특정값을 비교연산해서 참과 거짓으로 처리 "
   ]
  },
  {
   "cell_type": "code",
   "execution_count": 4,
   "id": "e520ebd0",
   "metadata": {},
   "outputs": [],
   "source": [
    "fn main() {\n",
    "    let number = 3;\n",
    "\n",
    "    if number != 0 {\n",
    "        println!(\"number was something other than zero\");\n",
    "    }\n",
    "}"
   ]
  },
  {
   "cell_type": "code",
   "execution_count": 5,
   "id": "8a425388",
   "metadata": {},
   "outputs": [
    {
     "name": "stdout",
     "output_type": "stream",
     "text": [
      "number was something other than zero\n"
     ]
    },
    {
     "data": {
      "text/plain": [
       "()"
      ]
     },
     "execution_count": 5,
     "metadata": {},
     "output_type": "execute_result"
    }
   ],
   "source": [
    "main()"
   ]
  },
  {
   "cell_type": "markdown",
   "id": "87169a26",
   "metadata": {},
   "source": [
    "## 복합 제어문\n",
    "\n",
    "- 조건식이 여러 개일 경우 else if를 추가해서 사용한다. "
   ]
  },
  {
   "cell_type": "code",
   "execution_count": 6,
   "id": "932cf64e",
   "metadata": {},
   "outputs": [],
   "source": [
    "fn main() {\n",
    "    let number = 6;\n",
    "\n",
    "    if number % 4 == 0 {\n",
    "        println!(\"number is divisible by 4\");\n",
    "    } else if number % 3 == 0 {\n",
    "        println!(\"number is divisible by 3\");\n",
    "    } else if number % 2 == 0 {\n",
    "        println!(\"number is divisible by 2\");\n",
    "    } else {\n",
    "        println!(\"number is not divisible by 4, 3, or 2\");\n",
    "    }\n",
    "}"
   ]
  },
  {
   "cell_type": "code",
   "execution_count": 7,
   "id": "0dd3cc24",
   "metadata": {},
   "outputs": [
    {
     "name": "stdout",
     "output_type": "stream",
     "text": [
      "number is divisible by 3\n"
     ]
    },
    {
     "data": {
      "text/plain": [
       "()"
      ]
     },
     "execution_count": 7,
     "metadata": {},
     "output_type": "execute_result"
    }
   ],
   "source": [
    "main()"
   ]
  },
  {
   "cell_type": "code",
   "execution_count": null,
   "id": "4b5a2fef",
   "metadata": {},
   "outputs": [],
   "source": []
  },
  {
   "cell_type": "markdown",
   "id": "eb46e039",
   "metadata": {},
   "source": [
    "### 조건표현식 처리하기\n",
    "\n",
    "- 조건의 결과를 변수에 할당할 수 있다. \n",
    "- 평가된 결과를 반환해야 하므로 참과 거짓의 결과가 값으로 반환되어야 한다. "
   ]
  },
  {
   "cell_type": "code",
   "execution_count": 7,
   "id": "fd0620df",
   "metadata": {},
   "outputs": [],
   "source": [
    "fn main() {\n",
    "    let condition = true;\n",
    "    let number = if condition {\n",
    "        5\n",
    "    } else {\n",
    "        6\n",
    "    };\n",
    "\n",
    "    println!(\" 반환된 값 : {}\", number);\n",
    "}"
   ]
  },
  {
   "cell_type": "code",
   "execution_count": 8,
   "id": "14f0a1ff",
   "metadata": {},
   "outputs": [
    {
     "name": "stdout",
     "output_type": "stream",
     "text": [
      " 반환된 값 : 5\n"
     ]
    },
    {
     "data": {
      "text/plain": [
       "()"
      ]
     },
     "execution_count": 8,
     "metadata": {},
     "output_type": "execute_result"
    }
   ],
   "source": [
    "main()"
   ]
  },
  {
   "cell_type": "code",
   "execution_count": null,
   "id": "20605942",
   "metadata": {},
   "outputs": [],
   "source": []
  },
  {
   "cell_type": "markdown",
   "id": "9940ad77",
   "metadata": {},
   "source": [
    "# 2. 순환문 \n",
    "\n",
    "- 반복해서 처리하는 문장 \n",
    "- 무한반복 : loop\n",
    "- 반복자 반복 : for\n",
    "- 조건식 반복 : while"
   ]
  },
  {
   "cell_type": "markdown",
   "id": "14a617c7",
   "metadata": {},
   "source": [
    "### 조건식 반복\n",
    "\n",
    "-  while 구문에 조건식이 참일 경우에 반복해서 처리 "
   ]
  },
  {
   "cell_type": "code",
   "execution_count": 11,
   "id": "41bf4a0c",
   "metadata": {},
   "outputs": [],
   "source": [
    "fn main() {\n",
    "    let mut number = 3;\n",
    "\n",
    "    while number != 0 {\n",
    "        println!(\"{}!\", number);\n",
    "\n",
    "        number = number - 1;\n",
    "    }\n",
    "\n",
    "    println!(\"순환이 종료\");\n",
    "}"
   ]
  },
  {
   "cell_type": "code",
   "execution_count": 12,
   "id": "2afce6e8",
   "metadata": {},
   "outputs": [
    {
     "name": "stdout",
     "output_type": "stream",
     "text": [
      "3!\n",
      "2!\n",
      "1!\n",
      "순환이 종료\n"
     ]
    },
    {
     "data": {
      "text/plain": [
       "()"
      ]
     },
     "execution_count": 12,
     "metadata": {},
     "output_type": "execute_result"
    }
   ],
   "source": [
    "main()"
   ]
  },
  {
   "cell_type": "markdown",
   "id": "e5e84dde",
   "metadata": {},
   "source": [
    "### 배열의 원소를 조회\n",
    "\n",
    "- 조건식도 배열의 인덱스를 확인해서 처리 가능 "
   ]
  },
  {
   "cell_type": "code",
   "execution_count": 13,
   "id": "76d364b3",
   "metadata": {},
   "outputs": [],
   "source": [
    "fn main() {\n",
    "    let a = [10, 20, 30, 40, 50];\n",
    "    let mut index = 0;\n",
    "\n",
    "    while index < 5 {\n",
    "        println!(\"the value is: {}\", a[index]);\n",
    "\n",
    "        index = index + 1;\n",
    "    }\n",
    "    println!(\"순환이 종료\");\n",
    "}"
   ]
  },
  {
   "cell_type": "code",
   "execution_count": 14,
   "id": "4157dafb",
   "metadata": {},
   "outputs": [
    {
     "name": "stdout",
     "output_type": "stream",
     "text": [
      "the value is: 10\n",
      "the value is: 20\n",
      "the value is: 30\n",
      "the value is: 40\n",
      "the value is: 50\n",
      "순환이 종료\n"
     ]
    },
    {
     "data": {
      "text/plain": [
       "()"
      ]
     },
     "execution_count": 14,
     "metadata": {},
     "output_type": "execute_result"
    }
   ],
   "source": [
    "main()"
   ]
  },
  {
   "cell_type": "markdown",
   "id": "db7d3056",
   "metadata": {},
   "source": [
    "## 반복자 순환 \n",
    "\n",
    "- for 절은 배열 등 여러 원소를 가지는 객체를 반복자에 위해 순환처리 "
   ]
  },
  {
   "cell_type": "code",
   "execution_count": null,
   "id": "585c8330",
   "metadata": {},
   "outputs": [],
   "source": []
  },
  {
   "cell_type": "code",
   "execution_count": 21,
   "id": "613dc4ae",
   "metadata": {},
   "outputs": [],
   "source": [
    "fn main() {\n",
    "    let a = [10, 20, 30, 40, 50];\n",
    "\n",
    "    for element in a {\n",
    "        println!(\" 반복자의 값 : {}\", element);\n",
    "    }\n",
    "    \n",
    "    println!(\" aa= {:?}\", a);\n",
    "    \n",
    "}"
   ]
  },
  {
   "cell_type": "code",
   "execution_count": 22,
   "id": "b8d8f115",
   "metadata": {},
   "outputs": [
    {
     "name": "stdout",
     "output_type": "stream",
     "text": [
      " 반복자의 값 : 10\n",
      " 반복자의 값 : 20\n",
      " 반복자의 값 : 30\n",
      " 반복자의 값 : 40\n",
      " 반복자의 값 : 50\n",
      " aa= [10, 20, 30, 40, 50]\n"
     ]
    },
    {
     "data": {
      "text/plain": [
       "()"
      ]
     },
     "execution_count": 22,
     "metadata": {},
     "output_type": "execute_result"
    }
   ],
   "source": [
    "main()"
   ]
  },
  {
   "cell_type": "markdown",
   "id": "4a269cff",
   "metadata": {},
   "source": [
    "### 반복자 메서드를 사용해서 처리하기"
   ]
  },
  {
   "cell_type": "code",
   "execution_count": 25,
   "id": "275fb747",
   "metadata": {},
   "outputs": [],
   "source": [
    "fn main() {\n",
    "    let a = [10, 20, 30, 40, 50];\n",
    "\n",
    "    for element in a.iter() {\n",
    "        println!(\"순환되는 값 :  {}\", element);\n",
    "    }\n",
    "    \n",
    "     for element in a.iter().rev() {\n",
    "        println!(\"역으로 순환되는 값 {}\", element);\n",
    "    }\n",
    "}"
   ]
  },
  {
   "cell_type": "code",
   "execution_count": 26,
   "id": "35f01a72",
   "metadata": {},
   "outputs": [
    {
     "name": "stdout",
     "output_type": "stream",
     "text": [
      "순환되는 값 :  20\n",
      "순환되는 값 :  10\n",
      "순환되는 값 :  30\n",
      "순환되는 값 :  40\n",
      "순환되는 값 :  50\n",
      "역으로 순환되는 값 50\n",
      "역으로 순환되는 값 40\n",
      "역으로 순환되는 값 30\n",
      "역으로 순환되는 값 20\n",
      "역으로 순환되는 값 10\n"
     ]
    },
    {
     "data": {
      "text/plain": [
       "()"
      ]
     },
     "execution_count": 26,
     "metadata": {},
     "output_type": "execute_result"
    }
   ],
   "source": [
    "main()"
   ]
  },
  {
   "cell_type": "markdown",
   "id": "02a8f173",
   "metadata": {},
   "source": [
    "### 배열의 원소가 문자열일 경우\n",
    "\n",
    "- 문자열은 소유권을 가지므로 into_iter로 처리하면 이동\n",
    "- 한번 배열의 원소가 다 이동되면 이 배열의 저장된 변수가 삭제\n",
    "- 그 다음 순환문은 처리가 안되어서 패닉 발생 "
   ]
  },
  {
   "cell_type": "code",
   "execution_count": 34,
   "id": "769179f2",
   "metadata": {},
   "outputs": [
    {
     "ename": "Error",
     "evalue": "borrow of moved value: `a`",
     "output_type": "error",
     "traceback": [
      "    for element in a.into_iter() {",
      "\u001b[91m                     ^^^^^^^^^^^\u001b[0m \u001b[94m`a` moved due to this method call\u001b[0m",
      "     for element in a.iter() {",
      "\u001b[91m                    ^^^^^^^^\u001b[0m \u001b[94mvalue borrowed here after move\u001b[0m",
      "    let a = [\"가을\".to_string(),\"겨울\".to_string()];",
      "\u001b[91m        ^\u001b[0m \u001b[94mmove occurs because `a` has type `[String; 2]`, which does not implement the `Copy` trait\u001b[0m",
      "borrow of moved value: `a`"
     ]
    }
   ],
   "source": [
    "fn main() {\n",
    "    let a = [\"가을\".to_string(),\"겨울\".to_string()];\n",
    "  \n",
    "    for element in a.into_iter() {\n",
    "        println!(\" into_iter 값 :  {}\", element);\n",
    "    }\n",
    "    \n",
    "     for element in a.iter() {\n",
    "        println!(\" iter 값 {}\", element);\n",
    "    }\n",
    "}"
   ]
  },
  {
   "cell_type": "markdown",
   "id": "66d50cef",
   "metadata": {},
   "source": [
    "### 위의 문제를 해결하려면\n",
    "\n",
    "- iter() 메서드로 처리해서 참조를 사용하게 처리해야 한다"
   ]
  },
  {
   "cell_type": "code",
   "execution_count": null,
   "id": "7a8d307a",
   "metadata": {},
   "outputs": [],
   "source": [
    "fn main() {\n",
    "    let a = [\"가을\".to_string(),\"겨울\".to_string()];\n",
    "    \n",
    "     for element in a.iter() {\n",
    "        println!(\" iter 값 {}\", element);\n",
    "    }\n",
    "}"
   ]
  },
  {
   "cell_type": "code",
   "execution_count": 29,
   "id": "4af0f131",
   "metadata": {},
   "outputs": [
    {
     "name": "stdout",
     "output_type": "stream",
     "text": [
      "순환되는 값 :  가을\n",
      "순환되는 값 :  겨울\n",
      "역으로 순환되는 값 겨울\n",
      "역으로 순환되는 값 가을\n"
     ]
    }
   ],
   "source": [
    "main();"
   ]
  },
  {
   "cell_type": "code",
   "execution_count": null,
   "id": "16f95983",
   "metadata": {},
   "outputs": [],
   "source": []
  },
  {
   "cell_type": "markdown",
   "id": "c5f6e3f2",
   "metadata": {},
   "source": [
    "## 반복자 처리를 범위(Range) 처리하기\n",
    "\n",
    "- 범위를 가지고 반복되는 숫자를 처리한다. "
   ]
  },
  {
   "cell_type": "code",
   "execution_count": 35,
   "id": "1ac23a1f",
   "metadata": {},
   "outputs": [],
   "source": [
    "fn main() {\n",
    "    \n",
    "    for number in (1..4) {\n",
    "        println!(\"범위 : {}!\", number);\n",
    "    }\n",
    "    println!(\" 순환문 처리 !!!\");\n",
    "    \n",
    "    for number in (1..4).rev() {\n",
    "        println!(\"역방향 범위: {}!\", number);\n",
    "    }\n",
    "    println!(\"역순으로 순환문 처리 !!!\");\n",
    "}"
   ]
  },
  {
   "cell_type": "code",
   "execution_count": 36,
   "id": "90efcfea",
   "metadata": {},
   "outputs": [
    {
     "name": "stdout",
     "output_type": "stream",
     "text": [
      "범위 : 1!\n",
      "범위 : 2!\n",
      "범위 : 3!\n",
      " 순환문 처리 !!!\n",
      "역방향 범위: 3!\n",
      "역방향 범위: 2!\n",
      "역방향 범위: 1!\n",
      "역순으로 순환문 처리 !!!\n"
     ]
    },
    {
     "data": {
      "text/plain": [
       "()"
      ]
     },
     "execution_count": 36,
     "metadata": {},
     "output_type": "execute_result"
    }
   ],
   "source": [
    "main()"
   ]
  },
  {
   "cell_type": "markdown",
   "id": "624eb781",
   "metadata": {},
   "source": [
    "### 문자열 처리\n",
    "\n",
    "- 문자리터럴을 처리하려면 chars, bytes 매서드로 처리가 필요"
   ]
  },
  {
   "cell_type": "code",
   "execution_count": 42,
   "id": "67e0a1b9",
   "metadata": {},
   "outputs": [],
   "source": [
    "fn main() {\n",
    "    \n",
    "    for number in \"가을\".chars() {\n",
    "        println!(\"문자 리터럴 : {}!\", number);\n",
    "    }\n",
    "    println!(\" 순환문 처리 !!!\");\n",
    "    \n",
    "    for number in \"가을\".bytes() {\n",
    "        println!(\"문자 리터럴 : {}!\", number);\n",
    "    }\n",
    "    \n",
    "} "
   ]
  },
  {
   "cell_type": "code",
   "execution_count": 43,
   "id": "7e6988d8",
   "metadata": {},
   "outputs": [
    {
     "name": "stdout",
     "output_type": "stream",
     "text": [
      "문자 리터럴 : 가!\n",
      "문자 리터럴 : 을!\n",
      " 순환문 처리 !!!\n",
      "문자 리터럴 : 234!\n",
      "문자 리터럴 : 176!\n",
      "문자 리터럴 : 128!\n",
      "문자 리터럴 : 236!\n",
      "문자 리터럴 : 157!\n",
      "문자 리터럴 : 132!\n"
     ]
    }
   ],
   "source": [
    "main();"
   ]
  },
  {
   "cell_type": "code",
   "execution_count": null,
   "id": "d18889d4",
   "metadata": {},
   "outputs": [],
   "source": [
    "### 문자열 리터럴을 문자열로 변환해서 처리가 가능"
   ]
  },
  {
   "cell_type": "code",
   "execution_count": 50,
   "id": "b313f9aa",
   "metadata": {},
   "outputs": [],
   "source": [
    "fn main() {\n",
    "    \n",
    "    let ss = \"가을\".to_string();\n",
    "    for s in ss.chars() {\n",
    "        println!(\"문자열 : {}!\", s);\n",
    "    }\n",
    "    println!(\" 문자열 변수 = {} !!!\", ss);\n",
    "    \n",
    "    for number in \"가을\".to_string().bytes() {\n",
    "        println!(\"문자열 : {}!\", number);\n",
    "    }\n",
    "    \n",
    "} "
   ]
  },
  {
   "cell_type": "code",
   "execution_count": 51,
   "id": "4216ddab",
   "metadata": {},
   "outputs": [
    {
     "name": "stdout",
     "output_type": "stream",
     "text": [
      "문자열 : 가!\n",
      "문자열 : 을!\n",
      " 문자열 변수 = 가을 !!!\n",
      "문자열 : 234!\n",
      "문자열 : 176!\n",
      "문자열 : 128!\n",
      "문자열 : 236!\n",
      "문자열 : 157!\n",
      "문자열 : 132!\n"
     ]
    },
    {
     "data": {
      "text/plain": [
       "()"
      ]
     },
     "execution_count": 51,
     "metadata": {},
     "output_type": "execute_result"
    }
   ],
   "source": [
    "main()"
   ]
  },
  {
   "cell_type": "code",
   "execution_count": null,
   "id": "2a17a797",
   "metadata": {},
   "outputs": [],
   "source": []
  },
  {
   "cell_type": "markdown",
   "id": "56fcfa43",
   "metadata": {},
   "source": [
    "### 무한 순환\n",
    "\n",
    "- loop 는 무한 순환\n",
    "- 그래서 break 문을 사용해서 종료 처리가 필요"
   ]
  },
  {
   "cell_type": "code",
   "execution_count": 52,
   "id": "765276b5",
   "metadata": {},
   "outputs": [],
   "source": [
    "fn main() {\n",
    "    let mut count = 0; \n",
    "    loop {\n",
    "        println!(\" 순환 처리 \");\n",
    "        count += 1;\n",
    "        if count > 4 {\n",
    "            break;\n",
    "        }\n",
    "    }\n",
    "}"
   ]
  },
  {
   "cell_type": "code",
   "execution_count": 53,
   "id": "296a8caa",
   "metadata": {},
   "outputs": [
    {
     "name": "stdout",
     "output_type": "stream",
     "text": [
      " 순환 처리 \n",
      " 순환 처리 \n",
      " 순환 처리 \n",
      " 순환 처리 \n",
      " 순환 처리 \n"
     ]
    }
   ],
   "source": [
    "main();"
   ]
  },
  {
   "cell_type": "markdown",
   "id": "26569a5f",
   "metadata": {},
   "source": [
    "### break를 통한 반환값 처리 "
   ]
  },
  {
   "cell_type": "code",
   "execution_count": 56,
   "id": "6e623374",
   "metadata": {},
   "outputs": [],
   "source": [
    "fn main() {\n",
    "    let mut counter = 0;\n",
    "\n",
    "    let result = loop {\n",
    "        counter += 1;\n",
    "\n",
    "        if counter == 10 {\n",
    "            break counter * 2;\n",
    "        }\n",
    "    };\n",
    "\n",
    "    assert_eq!(result, 20);\n",
    "    println!(\"result ={}\", result);\n",
    "}"
   ]
  },
  {
   "cell_type": "code",
   "execution_count": 57,
   "id": "990664dc",
   "metadata": {},
   "outputs": [
    {
     "name": "stdout",
     "output_type": "stream",
     "text": [
      "result =20\n"
     ]
    }
   ],
   "source": [
    "main();"
   ]
  },
  {
   "cell_type": "code",
   "execution_count": null,
   "id": "06d95c38",
   "metadata": {},
   "outputs": [],
   "source": []
  }
 ],
 "metadata": {
  "kernelspec": {
   "display_name": "Rust",
   "language": "rust",
   "name": "rust"
  },
  "language_info": {
   "codemirror_mode": "rust",
   "file_extension": ".rs",
   "mimetype": "text/rust",
   "name": "Rust",
   "pygment_lexer": "rust",
   "version": ""
  }
 },
 "nbformat": 4,
 "nbformat_minor": 5
}
