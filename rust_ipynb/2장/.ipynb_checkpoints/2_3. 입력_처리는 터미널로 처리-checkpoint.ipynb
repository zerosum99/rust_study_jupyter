{
 "cells": [
  {
   "cell_type": "code",
   "execution_count": 2,
   "id": "e4d83edf",
   "metadata": {},
   "outputs": [],
   "source": [
    "use std::io;"
   ]
  },
  {
   "cell_type": "markdown",
   "id": "d496e5b6",
   "metadata": {},
   "source": [
    "### 외부 크레이트 사용"
   ]
  },
  {
   "cell_type": "code",
   "execution_count": 2,
   "id": "353404c0",
   "metadata": {},
   "outputs": [],
   "source": [
    ":dep evcxr_input"
   ]
  },
  {
   "cell_type": "code",
   "execution_count": 3,
   "id": "45cd39ed",
   "metadata": {},
   "outputs": [
    {
     "name": "stdout",
     "output_type": "stream",
     "text": [
      "Name?사람\n",
      "Password?········\n"
     ]
    }
   ],
   "source": [
    "let name = evcxr_input::get_string(\"Name?\");\n",
    "let password = evcxr_input::get_password(\"Password?\");"
   ]
  },
  {
   "cell_type": "code",
   "execution_count": null,
   "id": "93e9cb83",
   "metadata": {},
   "outputs": [],
   "source": []
  },
  {
   "cell_type": "code",
   "execution_count": 7,
   "id": "c9637cb8",
   "metadata": {},
   "outputs": [],
   "source": [
    "fn main() {\n",
    "    println!(\"숫자를 맞혀봅시다!\");\n",
    "    \n",
    "    //println!(\"정답이라고 생각하는 숫자를 입력하세요.\");\n",
    "    \n",
    "    let mut guess = String::new();\n",
    "    guess = evcxr_input::get_string(\"정답이라고 생각하는 숫자를 입력하세요.\");\n",
    "    \n",
    "    //io::stdin().read_line(&mut guess).expect(\"입력한 값을 읽지 못했습니다.\");\n",
    "    \n",
    "    println!(\"입력한 값 : {}\", guess.parse::<i32>().unwrap());\n",
    "}"
   ]
  },
  {
   "cell_type": "code",
   "execution_count": 8,
   "id": "c851b93a",
   "metadata": {},
   "outputs": [
    {
     "name": "stdout",
     "output_type": "stream",
     "text": [
      "숫자를 맞혀봅시다!\n",
      "정답이라고 생각하는 숫자를 입력하세요.100\n",
      "입력한 값 : 100\n"
     ]
    },
    {
     "data": {
      "text/plain": [
       "()"
      ]
     },
     "execution_count": 8,
     "metadata": {},
     "output_type": "execute_result"
    }
   ],
   "source": [
    "main()"
   ]
  },
  {
   "cell_type": "code",
   "execution_count": null,
   "id": "b233df72",
   "metadata": {},
   "outputs": [],
   "source": []
  }
 ],
 "metadata": {
  "kernelspec": {
   "display_name": "Rust",
   "language": "rust",
   "name": "rust"
  },
  "language_info": {
   "codemirror_mode": "rust",
   "file_extension": ".rs",
   "mimetype": "text/rust",
   "name": "Rust",
   "pygment_lexer": "rust",
   "version": ""
  }
 },
 "nbformat": 4,
 "nbformat_minor": 5
}
