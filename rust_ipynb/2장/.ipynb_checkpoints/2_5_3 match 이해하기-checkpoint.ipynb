{
 "cells": [
  {
   "cell_type": "markdown",
   "id": "0e42320c",
   "metadata": {},
   "source": [
    "# 1. match 이해하기\n",
    "\n",
    "- 특정 값을 패턴매칭해서 조건에 맞는 것을 처리하는 기능"
   ]
  },
  {
   "cell_type": "code",
   "execution_count": null,
   "id": "4959393d",
   "metadata": {},
   "outputs": [],
   "source": []
  },
  {
   "cell_type": "markdown",
   "id": "3dc58cc1",
   "metadata": {},
   "source": [
    "## 1-1 값에 대한 매치 처리 \n",
    "\n",
    "- 특정 값을 매칭 시켜 처리 \n",
    "- 하나의 값, 여러 값, 범위 등을 처리한다. "
   ]
  },
  {
   "cell_type": "markdown",
   "id": "f94e2b06",
   "metadata": {},
   "source": [
    "### Matching Literals \n",
    "\n",
    "- 변수의 값을 매칭처리한다.\n",
    "- 매치처리할 때는 모든 값을 다 처리할 수 있어야 한다. "
   ]
  },
  {
   "cell_type": "code",
   "execution_count": 73,
   "id": "bddb1317",
   "metadata": {},
   "outputs": [],
   "source": [
    "fn main() {\n",
    "    let x = 1;\n",
    "\n",
    "    match x {\n",
    "        1 => println!(\"하나\"),\n",
    "        2 => println!(\"둘\"),\n",
    "        3 => println!(\"셋\"),\n",
    "        _ => println!(\"모든 수\"),\n",
    "    }\n",
    "}"
   ]
  },
  {
   "cell_type": "code",
   "execution_count": 74,
   "id": "d661d52a",
   "metadata": {},
   "outputs": [
    {
     "name": "stdout",
     "output_type": "stream",
     "text": [
      "하나\n"
     ]
    }
   ],
   "source": [
    "main();"
   ]
  },
  {
   "cell_type": "markdown",
   "id": "669243b4",
   "metadata": {},
   "source": [
    "### Matching Ranges of Values with ..=\n",
    "\n",
    "- 특정값이 아닌 범위를 가지고 처리할 수 있다. "
   ]
  },
  {
   "cell_type": "code",
   "execution_count": 75,
   "id": "632cd261",
   "metadata": {},
   "outputs": [],
   "source": [
    "fn main() {\n",
    "    let x = 5;\n",
    "\n",
    "    match x {\n",
    "        1..=5 => println!(\"1부터 5까지 수 \"),\n",
    "        _ => println!(\"나머지 수\"),\n",
    "    }\n",
    "}"
   ]
  },
  {
   "cell_type": "code",
   "execution_count": 76,
   "id": "1f0a4138",
   "metadata": {},
   "outputs": [
    {
     "name": "stdout",
     "output_type": "stream",
     "text": [
      "1부터 5까지 수 \n"
     ]
    }
   ],
   "source": [
    "main();"
   ]
  },
  {
   "cell_type": "markdown",
   "id": "f7fd97b7",
   "metadata": {},
   "source": [
    "### Multiple Patterns\n",
    "\n",
    "- 여러 개의 수를 처리할 때는 | 연산자로 여러 가지 값을 나열할 수 있다.\n"
   ]
  },
  {
   "cell_type": "code",
   "execution_count": 77,
   "id": "d2a5d36c",
   "metadata": {},
   "outputs": [],
   "source": [
    "fn main() {\n",
    "    let number = 13;\n",
    "    \n",
    "    println!(\"기준값 = {}\", number);\n",
    "    match number {   \n",
    "        1                  => println!(\" 일 \"),               // 하나의 값 매치 \n",
    "        2 | 3 | 5 | 7 | 11 => println!(\" 소수 \"),             // 여러 개 중에 하나 매치 \n",
    "        13..=19            => println!(\"13에서 19사이의 값 \"),  // 범위 매치 \n",
    "        _                 => println!(\"나머지 값 \"),          // 나머지 \n",
    "    }\n",
    "}"
   ]
  },
  {
   "cell_type": "code",
   "execution_count": 78,
   "id": "fe3bada7",
   "metadata": {},
   "outputs": [
    {
     "name": "stdout",
     "output_type": "stream",
     "text": [
      "기준값 = 13\n",
      "13에서 19사이의 값 \n"
     ]
    }
   ],
   "source": [
    "main();"
   ]
  },
  {
   "cell_type": "markdown",
   "id": "d2316177",
   "metadata": {},
   "source": [
    "### Matching Named Variables\n",
    "\n",
    "- 특정 값을 변수로 지정해서 처리할 수 있다. "
   ]
  },
  {
   "cell_type": "code",
   "execution_count": 25,
   "id": "a2c0cc82",
   "metadata": {},
   "outputs": [],
   "source": [
    "fn main() {\n",
    "    let number : Option<u32> = Some(100);        // option 이넘의 특정 값 처리 \n",
    "    \n",
    "    println!(\"기준값 = {:?}\", number);\n",
    "    match number {   \n",
    "        Some(V)   => println!(\" 값 출력={} \",V),   // 특정 값을 변수로 매치 \n",
    "        None   => println!(\"나머지 값 \"),           // 아무런 값이 없을 경우  \n",
    "    }\n",
    "}"
   ]
  },
  {
   "cell_type": "code",
   "execution_count": 26,
   "id": "44136ccb",
   "metadata": {},
   "outputs": [
    {
     "name": "stdout",
     "output_type": "stream",
     "text": [
      "기준값 = Some(100)\n",
      " 값 출력=100 \n"
     ]
    }
   ],
   "source": [
    "main();"
   ]
  },
  {
   "cell_type": "markdown",
   "id": "c6a4d053",
   "metadata": {},
   "source": [
    "### 변수로 지정해서 매칠할 때 특정값을 바인딩 처리\n",
    "\n",
    "- 변수 뒤에 @로 바인딩하고 범위를 지정해서 처리\n",
    "- 그러면 변수의 값이 범위 안에 포함될 경우 매칭 처리한다. \n"
   ]
  },
  {
   "cell_type": "code",
   "execution_count": 71,
   "id": "af92321f",
   "metadata": {},
   "outputs": [],
   "source": [
    "fn main() {\n",
    "    let number  = 200;                   // option 이넘의 특정 값 처리 \n",
    "    \n",
    "    println!(\"기준값 = {}\", number);\n",
    "    match number {   \n",
    "        v @ 1..=100    => println!(\" v 값 출력={} \",v),   // 하나의 값 매치 \n",
    "        x @ 101..=200  => println!(\" x 값 출력={} \",x),   // 하나의 값 매치 \n",
    "        _              => println!(\"나머지 값 \"),          // 나머지 \n",
    "    }\n",
    "}"
   ]
  },
  {
   "cell_type": "code",
   "execution_count": 72,
   "id": "f6fcc5d2",
   "metadata": {},
   "outputs": [
    {
     "name": "stdout",
     "output_type": "stream",
     "text": [
      "기준값 = 200\n",
      " 값 출력=200 \n"
     ]
    },
    {
     "data": {
      "text/plain": [
       "()"
      ]
     },
     "execution_count": 72,
     "metadata": {},
     "output_type": "execute_result"
    }
   ],
   "source": [
    "main()"
   ]
  },
  {
   "cell_type": "markdown",
   "id": "d6f6284b",
   "metadata": {},
   "source": [
    "## 1-2 조건식의 값으로 처리하기\n",
    "\n",
    "- 2개의 값을 가진 조건식의 값을 매칭 처리하기 "
   ]
  },
  {
   "cell_type": "code",
   "execution_count": 7,
   "id": "8bc251f8",
   "metadata": {},
   "outputs": [],
   "source": [
    "fn main() {\n",
    "    let boolean = true;\n",
    "\n",
    "    let binary = match boolean {   // 매칭된 결과를 변수에 할당 \n",
    "        false => 0,\n",
    "        true => 1,\n",
    "    };\n",
    "\n",
    "    println!(\"{} -> {}\", boolean, binary);\n",
    "}"
   ]
  },
  {
   "cell_type": "code",
   "execution_count": 8,
   "id": "cfb4248f",
   "metadata": {},
   "outputs": [
    {
     "name": "stdout",
     "output_type": "stream",
     "text": [
      "true -> 1\n"
     ]
    },
    {
     "data": {
      "text/plain": [
       "()"
      ]
     },
     "execution_count": 8,
     "metadata": {},
     "output_type": "execute_result"
    }
   ],
   "source": [
    "main()"
   ]
  },
  {
   "cell_type": "markdown",
   "id": "119aabda",
   "metadata": {},
   "source": [
    "### Catch-all 패턴\n",
    "\n",
    "- match에서 일부 패턴만 처리하고 나머지 패턴들에 대해서는 하나의 실행코드를 실행할 수 있다 (즉, C/C#에서의 default 블럭처럼).\n",
    "\n",
    "- 아래 예제는 변수 n의 값을 체크해서 0이면 \"Zero\", 1이면 \"One\" 을 출력하고 나머지 모두에 대해서는 숫자를 문자열로 변환해서 리턴하는 match 식을 표현하고 있다. \n",
    "- 아래에서 Catch-all 패턴은 변수 x를 사용하고 있는데, 이는 임의의 변수명을 사용할 수 있다. \n",
    "Catch-all 패턴은 항상 match 의 마지막에 있어야 한다."
   ]
  },
  {
   "cell_type": "code",
   "execution_count": 79,
   "id": "e47e552b",
   "metadata": {},
   "outputs": [],
   "source": [
    "fn main() {\n",
    "    let n: u8 = 2;\n",
    " \n",
    "    let res = match n {\n",
    "        0 => String::from(\"0\"),\n",
    "        1 => String::from(\"1\"),\n",
    "        x => x.to_string()\n",
    "    };\n",
    " \n",
    "    println!(\"{}\", res);\n",
    "}"
   ]
  },
  {
   "cell_type": "code",
   "execution_count": 80,
   "id": "30c70968",
   "metadata": {},
   "outputs": [
    {
     "name": "stdout",
     "output_type": "stream",
     "text": [
      "2\n"
     ]
    }
   ],
   "source": [
    "main();"
   ]
  },
  {
   "cell_type": "code",
   "execution_count": null,
   "id": "d5bbb89c",
   "metadata": {},
   "outputs": [],
   "source": []
  },
  {
   "cell_type": "markdown",
   "id": "5295762e",
   "metadata": {},
   "source": [
    "### Catch-all 패턴에서 만약 나머지의 경우 어떤 특별한 일을 할 필요가 없다면, \n",
    "\n",
    "- 아래와 같이 패턴 변수명에 밑줄(_) 을 사용하고 실행 코드에 unit 타입 () 을 적으면 된다."
   ]
  },
  {
   "cell_type": "code",
   "execution_count": 45,
   "id": "9695935f",
   "metadata": {},
   "outputs": [],
   "source": [
    "fn main() {\n",
    "    let n: u8 = 2;\n",
    "    let res = match n {\n",
    "        0 => String::from(\"Zero\"),\n",
    "        1 => String::from(\"One\"),\n",
    "        _ => String::from(\" \"),\n",
    "    };\n",
    "    \n",
    "    println!(\"매치 값 {}\", res);\n",
    "}"
   ]
  },
  {
   "cell_type": "code",
   "execution_count": 46,
   "id": "4b40cca3",
   "metadata": {},
   "outputs": [
    {
     "name": "stdout",
     "output_type": "stream",
     "text": [
      "매치 값  \n"
     ]
    }
   ],
   "source": [
    "main(); "
   ]
  },
  {
   "cell_type": "markdown",
   "id": "7c22d640",
   "metadata": {},
   "source": [
    "## 1-3 분해해서 매칭 처리 \n",
    "\n",
    "- 튜플 구조분해\n",
    "- 배열 및 슬라이스 구조분해\n",
    "- 열거형 구조분해\n",
    "- 포인터 구조분해\n",
    "- 구조체 구조분해"
   ]
  },
  {
   "cell_type": "markdown",
   "id": "63b4ac76",
   "metadata": {},
   "source": [
    "### 튜플 분해\n",
    "\n",
    "- 매치의 변수의 값이 튜플 인스턴스인 경우\n",
    "- 튜플 구조분해의 방식과 동일하게 처리된다. "
   ]
  },
  {
   "cell_type": "code",
   "execution_count": 16,
   "id": "b085fa3d",
   "metadata": {},
   "outputs": [],
   "source": [
    "fn main() { \n",
    "    \n",
    "    let triple = (0, -2, 3);            // 3개의 원소를 가지는 튜플\n",
    "    println!(\"튜플 출력= {:?}\", triple);\n",
    " \n",
    "    match triple {\n",
    "        (0, y, z) => println!(\"`0`, `y`={:?},`z`={:?}\", y, z), // 2개의 자리 매칭\n",
    "        (1, ..)  => println!(\"첫번째 값 매칭 `1` 나머지는 무시\"),                // 1번째 자리 매칭 \n",
    "        (.., 2)  => println!(\"마지막값 매칭 `2` 나머지는 무시\"),          \n",
    "        (3, .., 4)  => println!(\"첫번째 `3`, 마지막 `4`, 가운데는 무시 \"),\n",
    "         _      => println!(\"미매핑 전부 처리 \"),\n",
    "     }\n",
    "}"
   ]
  },
  {
   "cell_type": "code",
   "execution_count": 17,
   "id": "432f3118",
   "metadata": {},
   "outputs": [
    {
     "name": "stdout",
     "output_type": "stream",
     "text": [
      "튜플 출력= (0, -2, 3)\n",
      "`0`, `y`=-2,`z`=3\n"
     ]
    },
    {
     "data": {
      "text/plain": [
       "()"
      ]
     },
     "execution_count": 17,
     "metadata": {},
     "output_type": "execute_result"
    }
   ],
   "source": [
    "main()"
   ]
  },
  {
   "cell_type": "markdown",
   "id": "e7804eee",
   "metadata": {},
   "source": [
    "### 배열/슬라이스"
   ]
  },
  {
   "cell_type": "code",
   "execution_count": 58,
   "id": "360ef9b2",
   "metadata": {},
   "outputs": [],
   "source": [
    "fn main() {\n",
    "    let array = [1, -2, 6];   // 배열 정의 \n",
    "\n",
    "    match array {\n",
    "        [0, second, third] => println!(\"array[0] = 0, array[1] = {}, array[2] = {}\", \n",
    "                              second, third),\n",
    "        [1, _, third]      => println!(\"array[0] = 1, array[2] = {} array[1] 무시\",\n",
    "                              third),\n",
    "        [-1, second, ..]   => println!(\"array[0] = -1, array[1] = {} 나머지 무시 \",\n",
    "                              second),\n",
    "        _ => println!(\" All matching\"),\n",
    "    }\n",
    "}\n"
   ]
  },
  {
   "cell_type": "code",
   "execution_count": 59,
   "id": "173235a7",
   "metadata": {},
   "outputs": [
    {
     "name": "stdout",
     "output_type": "stream",
     "text": [
      "array[0] = 1, array[2] = 6 array[1] 무시\n"
     ]
    }
   ],
   "source": [
    "main();"
   ]
  },
  {
   "cell_type": "markdown",
   "id": "929b49dd",
   "metadata": {},
   "source": [
    "### 배열의 변수에 @로 바인딩 처리하기 \n",
    "\n",
    "\n",
    "- 연산자 @을 사용하면 패턴 일치 여부를 테스트하는 동시에 값을 보유하는 변수를 만들 수 있습니다. \n",
    "- tail 을 이름으로 지정하고 값까지 체크하려면 1..=10 을 지정해서 범위까지 확인한다.\n",
    "\n"
   ]
  },
  {
   "cell_type": "code",
   "execution_count": 69,
   "id": "e42d6786",
   "metadata": {},
   "outputs": [],
   "source": [
    "fn main() {\n",
    "    let array = [1, -2, 6];   // 배열 정의 \n",
    "\n",
    "    match array {\n",
    "        [1, second, tail @ 1..=10] => println!(\"array[0] = 1, array[1] = {} and the other elements were {}\",\n",
    "            second, tail),\n",
    "\n",
    "        _ => println!(\" All matching\"),\n",
    "    }\n",
    "}"
   ]
  },
  {
   "cell_type": "code",
   "execution_count": 70,
   "id": "fc255adb",
   "metadata": {},
   "outputs": [
    {
     "name": "stdout",
     "output_type": "stream",
     "text": [
      "array[0] = 1, array[1] = -2 and the other elements were 6\n"
     ]
    }
   ],
   "source": [
    "main();"
   ]
  },
  {
   "cell_type": "markdown",
   "id": "542bf042",
   "metadata": {},
   "source": [
    "### 변수에 @ 바인딩 처리할 때 모든 값을 처리 \n",
    "\n",
    "- 특정 값이 없이 생략하면(..) 값을 체크하지 않으므로 출력할때도 {:?} 처리"
   ]
  },
  {
   "cell_type": "code",
   "execution_count": 56,
   "id": "5acc45c0",
   "metadata": {},
   "outputs": [],
   "source": [
    "fn main() {\n",
    "    let array = [1, -2, 6];   // 배열 정의 \n",
    "\n",
    "    match array {\n",
    "        [first, middle @ .., last] => println!(\"array[0] = {}, middle = {:?}, array[2] = {}\",\n",
    "            first, middle, last),\n",
    "        _ => println!(\" All matching\"),\n",
    "    }\n",
    "}"
   ]
  },
  {
   "cell_type": "code",
   "execution_count": 57,
   "id": "f7d3a38e",
   "metadata": {},
   "outputs": [
    {
     "name": "stdout",
     "output_type": "stream",
     "text": [
      "array[0] = 1, middle = [-2], array[2] = 6\n"
     ]
    }
   ],
   "source": [
    "main();"
   ]
  },
  {
   "cell_type": "markdown",
   "id": "598595e5",
   "metadata": {},
   "source": [
    "## 1-4 이넘 패턴매칭처리 \n",
    "\n",
    "- 이넘은 하나의 자료형이지만 variant를 여러가지 형태로 지정할 수 있다. "
   ]
  },
  {
   "cell_type": "code",
   "execution_count": 8,
   "id": "469cdc0d",
   "metadata": {},
   "outputs": [],
   "source": [
    "#[allow(dead_code)]\n",
    "enum Color {\n",
    "    Red,                    // 하나의 값만 가지는 이넘 내의 variant\n",
    "    Blue,\n",
    "    Green,\n",
    "    RGB(u32, u32, u32),     // 튜플값을 가지는 이넘 내의 variant\n",
    "    HSV(u32, u32, u32),\n",
    "    HSL(u32, u32, u32),\n",
    "    CMY(u32, u32, u32),\n",
    "    CMYK(u32, u32, u32, u32),\n",
    "}\n",
    "\n",
    "fn main() {\n",
    "    let color = Color::RGB(122, 17, 40);\n",
    "    \n",
    "    println!(\"What color is it?\");\n",
    "    \n",
    "    match color {\n",
    "                               // 단일값을 가지는 이넘 패턴 매칭 \n",
    "        Color::Red   => println!(\"The color is Red!\"),\n",
    "        Color::Blue  => println!(\"The color is Blue!\"),\n",
    "        Color::Green => println!(\"The color is Green!\"),\n",
    "                               // 튜플 값을 가지는 이넘 패턴 매칭 \n",
    "        Color::RGB(r, g, b) =>\n",
    "            println!(\"Red: {}, green: {}, and blue: {}!\", r, g, b),\n",
    "        Color::HSV(h, s, v) =>\n",
    "            println!(\"Hue: {}, saturation: {}, value: {}!\", h, s, v),\n",
    "        Color::HSL(h, s, l) =>\n",
    "            println!(\"Hue: {}, saturation: {}, lightness: {}!\", h, s, l),\n",
    "        Color::CMY(c, m, y) =>\n",
    "            println!(\"Cyan: {}, magenta: {}, yellow: {}!\", c, m, y),\n",
    "        Color::CMYK(c, m, y, k) =>\n",
    "            println!(\"Cyan: {}, magenta: {}, yellow: {}, key (black): {}!\",\n",
    "                c, m, y, k),\n",
    "       // 이넘으로 매칭하면 이넘 내의 variant 처리를 다하면 모든 패턴 매칭 처리간 된다. \n",
    "    }\n",
    "}\n"
   ]
  },
  {
   "cell_type": "code",
   "execution_count": 9,
   "id": "0cd870fd",
   "metadata": {},
   "outputs": [
    {
     "name": "stdout",
     "output_type": "stream",
     "text": [
      "What color is it?\n",
      "Red: 122, green: 17, and blue: 40!\n"
     ]
    },
    {
     "data": {
      "text/plain": [
       "()"
      ]
     },
     "execution_count": 9,
     "metadata": {},
     "output_type": "execute_result"
    }
   ],
   "source": [
    "main()"
   ]
  },
  {
   "cell_type": "markdown",
   "id": "ad1ecd6d",
   "metadata": {},
   "source": [
    "## 1-5 포인터 참조 패턴 매칭 "
   ]
  },
  {
   "cell_type": "code",
   "execution_count": 91,
   "id": "e90ab680",
   "metadata": {},
   "outputs": [],
   "source": [
    "fn main() {\n",
    "    \n",
    "    let reference = &4;  // 참조를 변수에 저장하기 \n",
    "\n",
    "    match reference { \n",
    "        // 참조값을 처리하는 변수를 지정해서 처리 \n",
    "        &val => println!(\" 변수의 참조를 처리: {:?}\", val),\n",
    "    }\n",
    "\n",
    "    // 참조가 전달될 경우 역참조를 통해 값을 처리 \n",
    "    match *reference {\n",
    "        val => println!(\"역참조를 통해 값을 처리: {:?}\", val),\n",
    "    }\n",
    "\n",
    "    // 변수에 값을 정의 \n",
    "    let _not_a_reference = 3;\n",
    "\n",
    "    // 변수를 정의할 때 레퍼런스를 지정하기 위해서 ref를 정의 \n",
    "    let ref _is_a_reference = 3;\n",
    "\n",
    "    \n",
    "    // 변경이 가능하거나 변경이 불가능한 변수를 정의\n",
    "    let value = 5;\n",
    "    let mut mut_value = 6;\n",
    "\n",
    "    // 매칭 패턴이 참조라서 ref를 변수앞에 정의한다. \n",
    "    match value {\n",
    "        ref r => println!(\"참조의 값을 출력: {:?}\", r),\n",
    "    }\n",
    "\n",
    "    // 변경가능한 참조를 변수 앞에 정의하고 실제 값을 갱신\n",
    "    match mut_value {\n",
    "        ref mut m => {\n",
    "            // 값을 갱신한다. \n",
    "            *m += 10;\n",
    "            println!(\"변수에 특정 값을 갱신처리 : {:?}\", m);\n",
    "        },\n",
    "    }\n",
    "}\n"
   ]
  },
  {
   "cell_type": "code",
   "execution_count": 92,
   "id": "a262a186",
   "metadata": {},
   "outputs": [
    {
     "name": "stdout",
     "output_type": "stream",
     "text": [
      " 변수의 참조를 처리: 4\n",
      "역참조를 통해 값을 처리: 4\n",
      "참조의 값을 출력: 5\n",
      "변수에 특정 값을 갱신처리 : 16\n"
     ]
    },
    {
     "data": {
      "text/plain": [
       "()"
      ]
     },
     "execution_count": 92,
     "metadata": {},
     "output_type": "execute_result"
    }
   ],
   "source": [
    "main()"
   ]
  },
  {
   "cell_type": "markdown",
   "id": "120bc8d5",
   "metadata": {},
   "source": [
    "## 1-6 구조체 패턴 매칭 "
   ]
  },
  {
   "cell_type": "code",
   "execution_count": 93,
   "id": "79bb6962",
   "metadata": {},
   "outputs": [],
   "source": [
    "fn main() {\n",
    "    // 구조체를 정의한다 \n",
    "    struct Foo {\n",
    "        x: (u32, u32),\n",
    "        y: u32,\n",
    "    }\n",
    "\n",
    "    // 구조체 인스턴스를 변수에 할당한다. \n",
    "    let foo = Foo { x: (1, 2), y: 3 };\n",
    "\n",
    "    // 구조체의 인스턴스에 대한 구조분해 패턴매칭 처리 \n",
    "    match foo {\n",
    "        Foo { x: (1, b), y } => println!(\"First of x is 1, b = {},  y = {} \", b, y),\n",
    "\n",
    "        // 패턴매칭 순서는 중요하지 않다. 튜플을 변수로 처리 \n",
    "        Foo { y: 2, x: i } => println!(\"y is 2, i = {:?}\", i),\n",
    "        // 특정 필드만 처리 가능 \n",
    "        Foo { y, .. } => println!(\"y = {}, we don't care about x\", y),\n",
    "       \n",
    "    }\n",
    "}\n"
   ]
  },
  {
   "cell_type": "code",
   "execution_count": 94,
   "id": "834ee15b",
   "metadata": {},
   "outputs": [
    {
     "name": "stdout",
     "output_type": "stream",
     "text": [
      "First of x is 1, b = 2,  y = 3 \n"
     ]
    },
    {
     "data": {
      "text/plain": [
       "()"
      ]
     },
     "execution_count": 94,
     "metadata": {},
     "output_type": "execute_result"
    }
   ],
   "source": [
    "main()"
   ]
  },
  {
   "cell_type": "code",
   "execution_count": null,
   "id": "784ebd2e",
   "metadata": {},
   "outputs": [],
   "source": []
  },
  {
   "cell_type": "markdown",
   "id": "8f46a51f",
   "metadata": {},
   "source": [
    "## 1-7 가드 처리"
   ]
  },
  {
   "cell_type": "code",
   "execution_count": 95,
   "id": "92248e1f",
   "metadata": {},
   "outputs": [],
   "source": [
    "enum Temperature {\n",
    "    Celsius(i32),\n",
    "    Fahrenheit(i32),\n",
    "}\n",
    "\n",
    "fn main() {\n",
    "    let temperature = Temperature::Celsius(35);\n",
    "    \n",
    "    match temperature {\n",
    "        // 이넘 패턴 매칭을 하는 변수에 대한 특정 조건을 처리할 때 가드를 사용\n",
    "        Temperature::Celsius(t) if t > 30 => println!(\"{}C is above 30 Celsius\", t),\n",
    "        // The `if condition` part ^ is a guard\n",
    "        Temperature::Celsius(t) => println!(\"{}C is below 30 Celsius\", t),\n",
    "\n",
    "        Temperature::Fahrenheit(t) if t > 86 => println!(\"{}F is above 86 Fahrenheit\", t),\n",
    "        Temperature::Fahrenheit(t) => println!(\"{}F is below 86 Fahrenheit\", t),\n",
    "    }\n",
    "}"
   ]
  },
  {
   "cell_type": "code",
   "execution_count": 96,
   "id": "a5ca5cf5",
   "metadata": {},
   "outputs": [
    {
     "name": "stdout",
     "output_type": "stream",
     "text": [
      "35C is above 30 Celsius\n"
     ]
    },
    {
     "data": {
      "text/plain": [
       "()"
      ]
     },
     "execution_count": 96,
     "metadata": {},
     "output_type": "execute_result"
    }
   ],
   "source": [
    "main()"
   ]
  },
  {
   "cell_type": "code",
   "execution_count": null,
   "id": "4444fbed",
   "metadata": {},
   "outputs": [],
   "source": []
  },
  {
   "cell_type": "markdown",
   "id": "e6055c1b",
   "metadata": {},
   "source": [
    "### 가드와 @ 비교"
   ]
  },
  {
   "cell_type": "code",
   "execution_count": 18,
   "id": "c6f501df",
   "metadata": {},
   "outputs": [],
   "source": [
    "fn main() {\n",
    "    let number: u8 = 4;\n",
    "\n",
    "    match number {\n",
    "        i if i == 0 => println!(\"Zero\"),\n",
    "        i if i > 0 => println!(\"Greater than zero\"),\n",
    "        _ => unreachable!(\"Should never happen.\"),\n",
    "        // TODO ^ uncomment to fix compilation\n",
    "    }\n",
    "}"
   ]
  },
  {
   "cell_type": "code",
   "execution_count": 19,
   "id": "0da77f95",
   "metadata": {},
   "outputs": [
    {
     "name": "stdout",
     "output_type": "stream",
     "text": [
      "Greater than zero\n"
     ]
    },
    {
     "data": {
      "text/plain": [
       "()"
      ]
     },
     "execution_count": 19,
     "metadata": {},
     "output_type": "execute_result"
    }
   ],
   "source": [
    "main()"
   ]
  },
  {
   "cell_type": "markdown",
   "id": "44ca634d",
   "metadata": {},
   "source": [
    "## 1-8 바인딩\n",
    "\n",
    "- 변수에 간접적으로 액세스하면 다시 바인딩하지 않고는 해당 변수를 분기하여 사용할 수 없습니다. \n",
    "- match는 이름에 값을 바인딩하기 위해 @ 기호를 제공합니다:"
   ]
  },
  {
   "cell_type": "code",
   "execution_count": 98,
   "id": "23773b4e",
   "metadata": {},
   "outputs": [],
   "source": [
    "// A function `age` which returns a `u32`.\n",
    "fn age() -> u32 {\n",
    "    15\n",
    "}\n",
    "\n",
    "fn main() {\n",
    "    println!(\"Tell me what type of person you are\");\n",
    "    // 함수의 반환값을 패턴매칭 처리 \n",
    "    match age() {\n",
    "        0             => println!(\"I haven't celebrated my first birthday yet\"),\n",
    "        // 특정 조건을 바인딩 처리 \n",
    "        n @ 1  ..= 12 => println!(\"I'm a child of age {:?}\", n),\n",
    "        n @ 13 ..= 19 => println!(\"I'm a teen of age {:?}\", n),\n",
    "        // 나머지가 있으면 마지막에 추가\n",
    "        n             => println!(\"I'm an old person of age {:?}\", n),\n",
    "    }\n",
    "}\n"
   ]
  },
  {
   "cell_type": "code",
   "execution_count": 99,
   "id": "9f00e120",
   "metadata": {},
   "outputs": [
    {
     "name": "stdout",
     "output_type": "stream",
     "text": [
      "Tell me what type of person you are\n",
      "I'm a teen of age 15\n"
     ]
    },
    {
     "data": {
      "text/plain": [
       "()"
      ]
     },
     "execution_count": 99,
     "metadata": {},
     "output_type": "execute_result"
    }
   ],
   "source": [
    "main()"
   ]
  },
  {
   "cell_type": "code",
   "execution_count": 100,
   "id": "7c38f17a",
   "metadata": {},
   "outputs": [],
   "source": [
    "fn some_number() -> Option<u32> {\n",
    "    Some(42)\n",
    "}\n",
    "\n",
    "fn main() {\n",
    "    match some_number() {\n",
    "        // Option 이넘 내의 변수에도 @ 바인딩이 가능하다 \n",
    "        Some(n @ 42) => println!(\"The Answer: {}!\", n),\n",
    "        // 이때도 나머지 값에 대해서도 패턴매칭 처리 필요\n",
    "        Some(n)      => println!(\"Not interesting... {}\", n),\n",
    "        // 나머지에 대한 처리\n",
    "        _            => (),\n",
    "    }\n",
    "}\n"
   ]
  },
  {
   "cell_type": "code",
   "execution_count": 101,
   "id": "c514572a",
   "metadata": {},
   "outputs": [
    {
     "name": "stdout",
     "output_type": "stream",
     "text": [
      "The Answer: 42!\n"
     ]
    },
    {
     "data": {
      "text/plain": [
       "()"
      ]
     },
     "execution_count": 101,
     "metadata": {},
     "output_type": "execute_result"
    }
   ],
   "source": [
    "main()"
   ]
  },
  {
   "cell_type": "code",
   "execution_count": null,
   "id": "a8ff7394",
   "metadata": {},
   "outputs": [],
   "source": []
  },
  {
   "cell_type": "markdown",
   "id": "4a92ec7c",
   "metadata": {},
   "source": [
    "## 특정 매칭만 처리 : if let \n",
    "\n",
    "- 특정 조건만 만족할 경우에 대한 패턴매칭 처리"
   ]
  },
  {
   "cell_type": "code",
   "execution_count": 102,
   "id": "149abf1e",
   "metadata": {},
   "outputs": [
    {
     "name": "stdout",
     "output_type": "stream",
     "text": [
      "This is a really long string and `7`\n"
     ]
    }
   ],
   "source": [
    "// Make `optional` of type `Option<i32>`\n",
    "let optional = Some(7);\n",
    "\n",
    "match optional {\n",
    "    Some(i) => {\n",
    "        println!(\"This is a really long string and `{:?}`\", i);\n",
    "    },\n",
    "    _ => {},\n",
    "   \n",
    "};"
   ]
  },
  {
   "cell_type": "markdown",
   "id": "bd08ca93",
   "metadata": {},
   "source": [
    "### 하나의 조건만 만족할 때 if let을 사용\n",
    "\n",
    "- 매턴 매칭이 필요한 것을 if let 다음에 지정해서 처리"
   ]
  },
  {
   "cell_type": "code",
   "execution_count": 25,
   "id": "d778945b",
   "metadata": {},
   "outputs": [],
   "source": [
    "fn main() {\n",
    "    // All have type `Option<i32>`\n",
    "    let number = Some(7);\n",
    "    let letter: Option<i32> = None;\n",
    "    let emoticon: Option<i32> = None;\n",
    "\n",
    "    // The `if let` construct reads: \"if `let` destructures `number` into\n",
    "    // `Some(i)`, evaluate the block (`{}`).\n",
    "    if let Some(i) = number {\n",
    "        println!(\"Matched {:?}!\", i);\n",
    "    }\n",
    "\n",
    "    // If you need to specify a failure, use an else:\n",
    "    if let Some(i) = letter {\n",
    "        println!(\"Matched {:?}!\", i);\n",
    "    } else {\n",
    "        // Destructure failed. Change to the failure case.\n",
    "        println!(\"Didn't match a number. Let's go with a letter!\");\n",
    "    }\n",
    "\n",
    "    // Provide an altered failing condition.\n",
    "    let i_like_letters = false;\n",
    "\n",
    "    if let Some(i) = emoticon {\n",
    "        println!(\"Matched {:?}!\", i);\n",
    "    // Destructure failed. Evaluate an `else if` condition to see if the\n",
    "    // alternate failure branch should be taken:\n",
    "    } else if i_like_letters {\n",
    "        println!(\"Didn't match a number. Let's go with a letter!\");\n",
    "    } else {\n",
    "        // The condition evaluated false. This branch is the default:\n",
    "        println!(\"I don't like letters. Let's go with an emoticon :)!\");\n",
    "    }\n",
    "}\n"
   ]
  },
  {
   "cell_type": "code",
   "execution_count": 26,
   "id": "08aa0d55",
   "metadata": {},
   "outputs": [
    {
     "name": "stdout",
     "output_type": "stream",
     "text": [
      "Matched 7!\n",
      "Didn't match a number. Let's go with a letter!\n",
      "I don't like letters. Let's go with an emoticon :)!\n"
     ]
    },
    {
     "data": {
      "text/plain": [
       "()"
      ]
     },
     "execution_count": 26,
     "metadata": {},
     "output_type": "execute_result"
    }
   ],
   "source": [
    "main()"
   ]
  },
  {
   "cell_type": "markdown",
   "id": "25f3ed7f",
   "metadata": {},
   "source": [
    "## 1-9 특정 매칭만 처리 : while let\n",
    "\n",
    "- 특정한 패턴매칭일 경우만 순환 처리에 사용 "
   ]
  },
  {
   "cell_type": "code",
   "execution_count": 27,
   "id": "20e3db35",
   "metadata": {},
   "outputs": [
    {
     "name": "stdout",
     "output_type": "stream",
     "text": [
      "`i` is `0`. Try again.\n",
      "`i` is `1`. Try again.\n",
      "`i` is `2`. Try again.\n",
      "`i` is `3`. Try again.\n",
      "`i` is `4`. Try again.\n",
      "`i` is `5`. Try again.\n",
      "`i` is `6`. Try again.\n",
      "`i` is `7`. Try again.\n",
      "`i` is `8`. Try again.\n",
      "`i` is `9`. Try again.\n",
      "Greater than 9, quit!\n"
     ]
    },
    {
     "data": {
      "text/plain": [
       "()"
      ]
     },
     "execution_count": 27,
     "metadata": {},
     "output_type": "execute_result"
    }
   ],
   "source": [
    "// Make `optional` of type `Option<i32>`\n",
    "let mut optional = Some(0);\n",
    "\n",
    "// Repeatedly try this test.\n",
    "loop {\n",
    "    match optional {\n",
    "        // If `optional` destructures, evaluate the block.\n",
    "        Some(i) => {\n",
    "            if i > 9 {\n",
    "                println!(\"Greater than 9, quit!\");\n",
    "                optional = None;\n",
    "            } else {\n",
    "                println!(\"`i` is `{:?}`. Try again.\", i);\n",
    "                optional = Some(i + 1);\n",
    "            }\n",
    "            // ^ Requires 3 indentations!\n",
    "        },\n",
    "        // Quit the loop when the destructure fails:\n",
    "        _ => { break; }\n",
    "        // ^ Why should this be required? There must be a better way!\n",
    "    }\n",
    "}"
   ]
  },
  {
   "cell_type": "code",
   "execution_count": null,
   "id": "d0a26750",
   "metadata": {},
   "outputs": [],
   "source": []
  },
  {
   "cell_type": "code",
   "execution_count": 28,
   "id": "1e22e6e7",
   "metadata": {},
   "outputs": [],
   "source": [
    "fn main() {\n",
    "    // Make `optional` of type `Option<i32>`\n",
    "    let mut optional = Some(0);\n",
    "\n",
    "    // This reads: \"while `let` destructures `optional` into\n",
    "    // `Some(i)`, evaluate the block (`{}`). Else `break`.\n",
    "    while let Some(i) = optional {\n",
    "        if i > 9 {\n",
    "            println!(\"Greater than 9, quit!\");\n",
    "            optional = None;\n",
    "        } else {\n",
    "            println!(\"`i` is `{:?}`. Try again.\", i);\n",
    "            optional = Some(i + 1);\n",
    "        }\n",
    "        // ^ Less rightward drift and doesn't require\n",
    "        // explicitly handling the failing case.\n",
    "    }\n",
    "    // ^ `if let` had additional optional `else`/`else if`\n",
    "    // clauses. `while let` does not have these.\n",
    "}"
   ]
  },
  {
   "cell_type": "code",
   "execution_count": 29,
   "id": "70c4f362",
   "metadata": {},
   "outputs": [
    {
     "name": "stdout",
     "output_type": "stream",
     "text": [
      "`i` is `0`. Try again.\n",
      "`i` is `1`. Try again.\n",
      "`i` is `2`. Try again.\n",
      "`i` is `3`. Try again.\n",
      "`i` is `4`. Try again.\n",
      "`i` is `5`. Try again.\n",
      "`i` is `6`. Try again.\n",
      "`i` is `7`. Try again.\n",
      "`i` is `8`. Try again.\n",
      "`i` is `9`. Try again.\n",
      "Greater than 9, quit!\n"
     ]
    },
    {
     "data": {
      "text/plain": [
       "()"
      ]
     },
     "execution_count": 29,
     "metadata": {},
     "output_type": "execute_result"
    }
   ],
   "source": [
    "main()"
   ]
  },
  {
   "cell_type": "code",
   "execution_count": null,
   "id": "fb1c2f28",
   "metadata": {},
   "outputs": [],
   "source": []
  }
 ],
 "metadata": {
  "kernelspec": {
   "display_name": "Rust",
   "language": "rust",
   "name": "rust"
  },
  "language_info": {
   "codemirror_mode": "rust",
   "file_extension": ".rs",
   "mimetype": "text/rust",
   "name": "Rust",
   "pygment_lexer": "rust",
   "version": ""
  }
 },
 "nbformat": 4,
 "nbformat_minor": 5
}
