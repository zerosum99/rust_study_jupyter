{
 "cells": [
  {
   "cell_type": "code",
   "execution_count": null,
   "id": "03a9b4bb",
   "metadata": {},
   "outputs": [],
   "source": []
  },
  {
   "cell_type": "markdown",
   "id": "59383a77",
   "metadata": {},
   "source": [
    "## 1. 문자열 처리 \n",
    "\n",
    "- 문자열 리터럴과 문자열 구분"
   ]
  },
  {
   "cell_type": "code",
   "execution_count": null,
   "id": "6e74a585",
   "metadata": {},
   "outputs": [],
   "source": []
  },
  {
   "cell_type": "markdown",
   "id": "b7bb27eb",
   "metadata": {},
   "source": [
    "## 문자열 리터럴\n",
    "\n",
    "- 문자열 리터럴은 &str 로 실제 내부에 변경불가한 문자열의 슬라이스이다. \n",
    "- 그래서 문자열은 실제 문자열 포인터와 길이를 가진 포인터 "
   ]
  },
  {
   "cell_type": "code",
   "execution_count": 9,
   "id": "7b7718c8",
   "metadata": {},
   "outputs": [],
   "source": [
    "use std::any::type_name;\n",
    "\n",
    "fn type_of<T>(_: T) -> &'static str {\n",
    "    type_name::<T>()\n",
    "}"
   ]
  },
  {
   "cell_type": "markdown",
   "id": "2c6b0686",
   "metadata": {},
   "source": [
    "### str이란?\n",
    "- str은 Rust의 기본 유형으로, 문자열 리터럴을 나타내며 애플리케이션 바이너리의 데이터 세그먼트에 데이터가 할당됩니다.\n",
    "\n",
    "### 문자열 리터럴이란 무엇인가요?\n",
    "- 문자열 리터럴은 문자열 슬라이스 또는 큰따옴표(\"\")로 묶인 문자 시퀀스입니다."
   ]
  },
  {
   "cell_type": "code",
   "execution_count": 11,
   "id": "70a50a68",
   "metadata": {},
   "outputs": [
    {
     "name": "stdout",
     "output_type": "stream",
     "text": [
      "type of : &str\n",
      "12\n"
     ]
    }
   ],
   "source": [
    "let s = \"Hello, Rust!\";\n",
    "println!(\"type of : {}\", type_of(s));  // 현재의 타입 \n",
    "println!(\"{}\", s.len());                // 문자열 길이 "
   ]
  },
  {
   "cell_type": "markdown",
   "id": "5b7917c9",
   "metadata": {},
   "source": [
    "## 문자열 \n",
    "\n",
    "- 문자열은 포인터와 전체 용량과 문자열 길이를 가지 구조이다."
   ]
  },
  {
   "cell_type": "code",
   "execution_count": 13,
   "id": "7e43c970",
   "metadata": {},
   "outputs": [
    {
     "name": "stdout",
     "output_type": "stream",
     "text": [
      "type of : &alloc::string::String\n",
      "12\n",
      "24\n"
     ]
    }
   ],
   "source": [
    "let mut s = String::from(\"Hello, Rust!\");\n",
    "println!(\"type of : {}\", type_of(&s));     // 현재의 타입 \n",
    "println!(\"{}\", s.capacity());             // prints 12\n",
    "s.push_str(\"Here I come!\");\n",
    "println!(\"{}\", s.len());                  // prints 24"
   ]
  },
  {
   "cell_type": "code",
   "execution_count": null,
   "id": "7af871c1",
   "metadata": {},
   "outputs": [],
   "source": []
  },
  {
   "cell_type": "markdown",
   "id": "64d31dc5",
   "metadata": {},
   "source": [
    "## 문자열 참조와 문자열 리터럴 비교해보기\n",
    "\n",
    "- 문자열 참조는 &String\n",
    "- 문자열 리터럴은 &str"
   ]
  },
  {
   "cell_type": "markdown",
   "id": "e91ed1b5",
   "metadata": {},
   "source": [
    "### 함수의 매개변수 타입의 문자열리터럴 타입\n",
    "\n",
    "- 문자열 참조를 전달해서 동일하게 처리된다 "
   ]
  },
  {
   "cell_type": "code",
   "execution_count": 5,
   "id": "127f13df",
   "metadata": {},
   "outputs": [],
   "source": [
    "fn main() {\n",
    "    let s = String::from(\"Hello, Rust!\");\n",
    "    foo(&s);\n",
    "}\n",
    "\n",
    "fn foo(s: &str) {\n",
    "    println!(\"{}\", s);\n",
    "}"
   ]
  },
  {
   "cell_type": "code",
   "execution_count": 6,
   "id": "04c22e4e",
   "metadata": {},
   "outputs": [
    {
     "name": "stdout",
     "output_type": "stream",
     "text": [
      "Hello, Rust!\n"
     ]
    }
   ],
   "source": [
    "main();"
   ]
  },
  {
   "cell_type": "markdown",
   "id": "0127902f",
   "metadata": {},
   "source": [
    "### 문자열 참조로 변경할 때는 문자열 리터럴이 아닌 문자열 참조를 사용\n",
    "\n",
    "- 문자열 참조로 변경할 때는 &mut String으로 처리"
   ]
  },
  {
   "cell_type": "code",
   "execution_count": 7,
   "id": "6766bf46",
   "metadata": {},
   "outputs": [],
   "source": [
    "fn main() {\n",
    "    let mut s = String::from(\"Hello, Rust!\");\n",
    "    foo(&mut s);\n",
    "}\n",
    "\n",
    "fn foo(s: &mut String) {\n",
    "    s.push_str(\"appending foo..\");\n",
    "    println!(\"{}\", s);\n",
    "}"
   ]
  },
  {
   "cell_type": "code",
   "execution_count": 8,
   "id": "8913e341",
   "metadata": {},
   "outputs": [
    {
     "name": "stdout",
     "output_type": "stream",
     "text": [
      "Hello, Rust!appending foo..\n"
     ]
    }
   ],
   "source": [
    "main();"
   ]
  },
  {
   "cell_type": "code",
   "execution_count": null,
   "id": "8453b57b",
   "metadata": {},
   "outputs": [],
   "source": []
  },
  {
   "cell_type": "code",
   "execution_count": null,
   "id": "f2761d53",
   "metadata": {},
   "outputs": [],
   "source": []
  },
  {
   "cell_type": "markdown",
   "id": "66eb8d7f",
   "metadata": {},
   "source": [
    "## 2. 문자열 생성"
   ]
  },
  {
   "cell_type": "markdown",
   "id": "6b4aee5e",
   "metadata": {},
   "source": [
    "## 문자열 생성하기 \n",
    "- 문자열 용량의 사이즈를 정해서 처리 "
   ]
  },
  {
   "cell_type": "code",
   "execution_count": 17,
   "id": "dc498ba1",
   "metadata": {},
   "outputs": [
    {
     "name": "stdout",
     "output_type": "stream",
     "text": [
      "my_string: 3\n"
     ]
    }
   ],
   "source": [
    "let mut my_string = String::with_capacity(3);\n",
    "println!(\"my_string: {}\", my_string.capacity()); \n",
    "my_string.push('a'); // capacity is 3, length is 1\n",
    "my_string.push('b'); // capacity is 3, length is 2\n",
    "my_string.push('c'); // capacity is 3, length is 3\n",
    "my_string.push('d'); // capacity could double, length is 4"
   ]
  },
  {
   "cell_type": "code",
   "execution_count": 18,
   "id": "46f41a07",
   "metadata": {},
   "outputs": [
    {
     "data": {
      "text/plain": [
       "\"abcd\""
      ]
     },
     "execution_count": 18,
     "metadata": {},
     "output_type": "execute_result"
    }
   ],
   "source": [
    "my_string"
   ]
  },
  {
   "cell_type": "code",
   "execution_count": 19,
   "id": "bf760103",
   "metadata": {},
   "outputs": [
    {
     "name": "stdout",
     "output_type": "stream",
     "text": [
      "my_string: 8\n"
     ]
    }
   ],
   "source": [
    "println!(\"my_string: {}\", my_string.capacity());             "
   ]
  },
  {
   "cell_type": "code",
   "execution_count": null,
   "id": "41be6a40",
   "metadata": {},
   "outputs": [],
   "source": []
  },
  {
   "cell_type": "markdown",
   "id": "5c683cfc",
   "metadata": {},
   "source": [
    "### 문자열 리터럴을 문자열로 변환\n",
    "- 문자열 슬라이스를 소유권을 가진 String으로 바꿀 때는 to_owned()가 to_string()보다 빠르다고 한다. \n",
    "- 왜냐하면 to_owned가 문자열 리터럴 등을 소유권을 가진 문자열로 바꾸는데 더 특화된 메서드이기 때문이라고 한다.\n",
    "- 이와 대조적으로, to_string()은 문자열뿐만 아니라 다양한 타입을 문자열로 바꾸는데 사용되기 때문에 그러한 값들을 문자열로 바꾸는 추가적인 작업이 있기 때문에 to_owned()보다 느린 것이라고 한다."
   ]
  },
  {
   "cell_type": "code",
   "execution_count": 22,
   "id": "dd2b3eef",
   "metadata": {},
   "outputs": [
    {
     "name": "stdout",
     "output_type": "stream",
     "text": [
      " sts = alloc::string::String\n"
     ]
    }
   ],
   "source": [
    "let ss = \"문자열리터럴\";\n",
    "\n",
    "let sts = ss.to_owned();\n",
    "\n",
    "println!(\" sts = {}\", type_of(sts));"
   ]
  },
  {
   "cell_type": "code",
   "execution_count": 23,
   "id": "0d242e0d",
   "metadata": {},
   "outputs": [
    {
     "name": "stdout",
     "output_type": "stream",
     "text": [
      " sts = alloc::string::String\n"
     ]
    }
   ],
   "source": [
    "let ss1 = \"문자열리터럴\";\n",
    "\n",
    "let sts1 = ss1.to_string();\n",
    "\n",
    "println!(\" sts1 = {}\", type_of(sts1));"
   ]
  },
  {
   "cell_type": "code",
   "execution_count": null,
   "id": "b74c4d9e",
   "metadata": {},
   "outputs": [],
   "source": []
  },
  {
   "cell_type": "markdown",
   "id": "da677bd7",
   "metadata": {},
   "source": [
    "## 3. 차이점\n",
    "\n",
    "- 문자열은 소유권을 가진다.\n",
    "- 문자열리터럴은 문자열슬라이스라서 참조만 가진다. 즉 소유권이 없다."
   ]
  },
  {
   "cell_type": "markdown",
   "id": "56d2051b",
   "metadata": {},
   "source": [
    "### 함수에 인자로 전달할 때 소유권이 이동되어서 에러 "
   ]
  },
  {
   "cell_type": "code",
   "execution_count": 24,
   "id": "822ce050",
   "metadata": {},
   "outputs": [
    {
     "ename": "Error",
     "evalue": "borrow of moved value: `my_string`",
     "output_type": "error",
     "traceback": [
      "\u001b[31m[E0382] Error:\u001b[0m borrow of moved value: `my_string`",
      "   \u001b[38;5;246m╭\u001b[0m\u001b[38;5;246m─\u001b[0m\u001b[38;5;246m[\u001b[0mcommand_24:1:1\u001b[38;5;246m]\u001b[0m",
      "   \u001b[38;5;246m│\u001b[0m",
      " \u001b[38;5;246m2 │\u001b[0m \u001b[38;5;249m \u001b[0m\u001b[38;5;249m \u001b[0m\u001b[38;5;249m \u001b[0m\u001b[38;5;249m \u001b[0m\u001b[38;5;249ml\u001b[0m\u001b[38;5;249me\u001b[0m\u001b[38;5;249mt\u001b[0m\u001b[38;5;249m \u001b[0m\u001b[38;5;68mm\u001b[0m\u001b[38;5;68my\u001b[0m\u001b[38;5;68m_\u001b[0m\u001b[38;5;68ms\u001b[0m\u001b[38;5;68mt\u001b[0m\u001b[38;5;68mr\u001b[0m\u001b[38;5;68mi\u001b[0m\u001b[38;5;68mn\u001b[0m\u001b[38;5;68mg\u001b[0m\u001b[38;5;249m \u001b[0m\u001b[38;5;249m=\u001b[0m\u001b[38;5;249m \u001b[0m\u001b[38;5;249mS\u001b[0m\u001b[38;5;249mt\u001b[0m\u001b[38;5;249mr\u001b[0m\u001b[38;5;249mi\u001b[0m\u001b[38;5;249mn\u001b[0m\u001b[38;5;249mg\u001b[0m\u001b[38;5;249m:\u001b[0m\u001b[38;5;249m:\u001b[0m\u001b[38;5;249mf\u001b[0m\u001b[38;5;249mr\u001b[0m\u001b[38;5;249mo\u001b[0m\u001b[38;5;249mm\u001b[0m\u001b[38;5;249m(\u001b[0m\u001b[38;5;249m\"\u001b[0m\u001b[38;5;249mU\u001b[0m\u001b[38;5;249mn\u001b[0m\u001b[38;5;249md\u001b[0m\u001b[38;5;249me\u001b[0m\u001b[38;5;249mr\u001b[0m\u001b[38;5;249ms\u001b[0m\u001b[38;5;249mt\u001b[0m\u001b[38;5;249ma\u001b[0m\u001b[38;5;249mn\u001b[0m\u001b[38;5;249md\u001b[0m\u001b[38;5;249mi\u001b[0m\u001b[38;5;249mn\u001b[0m\u001b[38;5;249mg\u001b[0m\u001b[38;5;249m \u001b[0m\u001b[38;5;249mt\u001b[0m\u001b[38;5;249mh\u001b[0m\u001b[38;5;249me\u001b[0m\u001b[38;5;249m \u001b[0m\u001b[38;5;249mS\u001b[0m\u001b[38;5;249mt\u001b[0m\u001b[38;5;249mr\u001b[0m\u001b[38;5;249mi\u001b[0m\u001b[38;5;249mn\u001b[0m\u001b[38;5;249mg\u001b[0m\u001b[38;5;249m \u001b[0m\u001b[38;5;249mc\u001b[0m\u001b[38;5;249mo\u001b[0m\u001b[38;5;249mn\u001b[0m\u001b[38;5;249mc\u001b[0m\u001b[38;5;249me\u001b[0m\u001b[38;5;249mp\u001b[0m\u001b[38;5;249mt\u001b[0m\u001b[38;5;249m?\u001b[0m\u001b[38;5;249m\"\u001b[0m\u001b[38;5;249m)\u001b[0m\u001b[38;5;249m;\u001b[0m",
      " \u001b[38;5;246m  ·\u001b[0m         \u001b[38;5;68m─\u001b[0m\u001b[38;5;68m─\u001b[0m\u001b[38;5;68m─\u001b[0m\u001b[38;5;68m─\u001b[0m\u001b[38;5;68m┬\u001b[0m\u001b[38;5;68m─\u001b[0m\u001b[38;5;68m─\u001b[0m\u001b[38;5;68m─\u001b[0m\u001b[38;5;68m─\u001b[0m  ",
      " \u001b[38;5;246m  ·\u001b[0m             \u001b[38;5;68m╰\u001b[0m\u001b[38;5;68m─\u001b[0m\u001b[38;5;68m─\u001b[0m\u001b[38;5;68m─\u001b[0m\u001b[38;5;68m─\u001b[0m\u001b[38;5;68m─\u001b[0m\u001b[38;5;68m─\u001b[0m move occurs because `my_string` has type `String`, which does not implement the `Copy` trait",
      " \u001b[38;5;246m  ·\u001b[0m ",
      " \u001b[38;5;246m4 │\u001b[0m \u001b[38;5;249m \u001b[0m\u001b[38;5;249m \u001b[0m\u001b[38;5;249m \u001b[0m\u001b[38;5;249m \u001b[0m\u001b[38;5;249mp\u001b[0m\u001b[38;5;249mr\u001b[0m\u001b[38;5;249mi\u001b[0m\u001b[38;5;249mn\u001b[0m\u001b[38;5;249mt\u001b[0m\u001b[38;5;249m_\u001b[0m\u001b[38;5;249md\u001b[0m\u001b[38;5;249ma\u001b[0m\u001b[38;5;249mt\u001b[0m\u001b[38;5;249ma\u001b[0m\u001b[38;5;249m(\u001b[0m\u001b[38;5;54mm\u001b[0m\u001b[38;5;54my\u001b[0m\u001b[38;5;54m_\u001b[0m\u001b[38;5;54ms\u001b[0m\u001b[38;5;54mt\u001b[0m\u001b[38;5;54mr\u001b[0m\u001b[38;5;54mi\u001b[0m\u001b[38;5;54mn\u001b[0m\u001b[38;5;54mg\u001b[0m\u001b[38;5;249m)\u001b[0m\u001b[38;5;249m;\u001b[0m\u001b[38;5;249m \u001b[0m\u001b[38;5;249m/\u001b[0m\u001b[38;5;249m/\u001b[0m\u001b[38;5;249m \u001b[0m\u001b[38;5;249mo\u001b[0m\u001b[38;5;249mw\u001b[0m\u001b[38;5;249mn\u001b[0m\u001b[38;5;249me\u001b[0m\u001b[38;5;249mr\u001b[0m\u001b[38;5;249ms\u001b[0m\u001b[38;5;249mh\u001b[0m\u001b[38;5;249mi\u001b[0m\u001b[38;5;249mp\u001b[0m\u001b[38;5;249m \u001b[0m\u001b[38;5;249mo\u001b[0m\u001b[38;5;249mf\u001b[0m\u001b[38;5;249m \u001b[0m\u001b[38;5;249mm\u001b[0m\u001b[38;5;249my\u001b[0m\u001b[38;5;249m_\u001b[0m\u001b[38;5;249ms\u001b[0m\u001b[38;5;249mt\u001b[0m\u001b[38;5;249mr\u001b[0m\u001b[38;5;249mi\u001b[0m\u001b[38;5;249mn\u001b[0m\u001b[38;5;249mg\u001b[0m\u001b[38;5;249m \u001b[0m\u001b[38;5;249mi\u001b[0m\u001b[38;5;249ms\u001b[0m\u001b[38;5;249m \u001b[0m\u001b[38;5;249mt\u001b[0m\u001b[38;5;249mr\u001b[0m\u001b[38;5;249ma\u001b[0m\u001b[38;5;249mn\u001b[0m\u001b[38;5;249ms\u001b[0m\u001b[38;5;249mf\u001b[0m\u001b[38;5;249me\u001b[0m\u001b[38;5;249mr\u001b[0m\u001b[38;5;249me\u001b[0m\u001b[38;5;249md\u001b[0m",
      " \u001b[38;5;246m  ·\u001b[0m                \u001b[38;5;54m─\u001b[0m\u001b[38;5;54m─\u001b[0m\u001b[38;5;54m─\u001b[0m\u001b[38;5;54m─\u001b[0m\u001b[38;5;54m┬\u001b[0m\u001b[38;5;54m─\u001b[0m\u001b[38;5;54m─\u001b[0m\u001b[38;5;54m─\u001b[0m\u001b[38;5;54m─\u001b[0m  ",
      " \u001b[38;5;246m  ·\u001b[0m                    \u001b[38;5;54m╰\u001b[0m\u001b[38;5;54m─\u001b[0m\u001b[38;5;54m─\u001b[0m\u001b[38;5;54m─\u001b[0m\u001b[38;5;54m─\u001b[0m\u001b[38;5;54m─\u001b[0m\u001b[38;5;54m─\u001b[0m value moved here",
      " \u001b[38;5;246m  ·\u001b[0m ",
      " \u001b[38;5;246m6 │\u001b[0m \u001b[38;5;249m \u001b[0m\u001b[38;5;249m \u001b[0m\u001b[38;5;249m \u001b[0m\u001b[38;5;249m \u001b[0m\u001b[38;5;249mp\u001b[0m\u001b[38;5;249mr\u001b[0m\u001b[38;5;249mi\u001b[0m\u001b[38;5;249mn\u001b[0m\u001b[38;5;249mt\u001b[0m\u001b[38;5;249m!\u001b[0m\u001b[38;5;249m(\u001b[0m\u001b[38;5;249m\"\u001b[0m\u001b[38;5;249mp\u001b[0m\u001b[38;5;249mr\u001b[0m\u001b[38;5;249mi\u001b[0m\u001b[38;5;249mn\u001b[0m\u001b[38;5;249mt\u001b[0m\u001b[38;5;249mi\u001b[0m\u001b[38;5;249mn\u001b[0m\u001b[38;5;249mg\u001b[0m\u001b[38;5;249m \u001b[0m\u001b[38;5;249mi\u001b[0m\u001b[38;5;249mn\u001b[0m\u001b[38;5;249ms\u001b[0m\u001b[38;5;249mi\u001b[0m\u001b[38;5;249md\u001b[0m\u001b[38;5;249me\u001b[0m\u001b[38;5;249m \u001b[0m\u001b[38;5;249mm\u001b[0m\u001b[38;5;249ma\u001b[0m\u001b[38;5;249mi\u001b[0m\u001b[38;5;249mn\u001b[0m\u001b[38;5;249m \u001b[0m\u001b[38;5;249m{\u001b[0m\u001b[38;5;249m}\u001b[0m\u001b[38;5;249m\"\u001b[0m\u001b[38;5;249m,\u001b[0m\u001b[38;5;249m \u001b[0m\u001b[38;5;100mm\u001b[0m\u001b[38;5;100my\u001b[0m\u001b[38;5;100m_\u001b[0m\u001b[38;5;100ms\u001b[0m\u001b[38;5;100mt\u001b[0m\u001b[38;5;100mr\u001b[0m\u001b[38;5;100mi\u001b[0m\u001b[38;5;100mn\u001b[0m\u001b[38;5;100mg\u001b[0m\u001b[38;5;249m)\u001b[0m\u001b[38;5;249m;\u001b[0m\u001b[38;5;249m \u001b[0m\u001b[38;5;249m/\u001b[0m\u001b[38;5;249m/\u001b[0m\u001b[38;5;249m \u001b[0m\u001b[38;5;249me\u001b[0m\u001b[38;5;249mr\u001b[0m\u001b[38;5;249mr\u001b[0m\u001b[38;5;249mo\u001b[0m\u001b[38;5;249mr\u001b[0m\u001b[38;5;249m \u001b[0m\u001b[38;5;249ma\u001b[0m\u001b[38;5;249mt\u001b[0m\u001b[38;5;249m \u001b[0m\u001b[38;5;249mc\u001b[0m\u001b[38;5;249mo\u001b[0m\u001b[38;5;249mm\u001b[0m\u001b[38;5;249mp\u001b[0m\u001b[38;5;249mi\u001b[0m\u001b[38;5;249ml\u001b[0m\u001b[38;5;249me\u001b[0m\u001b[38;5;249m \u001b[0m\u001b[38;5;249mt\u001b[0m\u001b[38;5;249mi\u001b[0m\u001b[38;5;249mm\u001b[0m\u001b[38;5;249me\u001b[0m\u001b[38;5;249m \u001b[0m\u001b[38;5;249mh\u001b[0m\u001b[38;5;249me\u001b[0m\u001b[38;5;249mr\u001b[0m\u001b[38;5;249me\u001b[0m",
      " \u001b[38;5;246m  ·\u001b[0m                                       \u001b[38;5;100m─\u001b[0m\u001b[38;5;100m─\u001b[0m\u001b[38;5;100m─\u001b[0m\u001b[38;5;100m─\u001b[0m\u001b[38;5;100m┬\u001b[0m\u001b[38;5;100m─\u001b[0m\u001b[38;5;100m─\u001b[0m\u001b[38;5;100m─\u001b[0m\u001b[38;5;100m─\u001b[0m  ",
      " \u001b[38;5;246m  ·\u001b[0m                                           \u001b[38;5;100m╰\u001b[0m\u001b[38;5;100m─\u001b[0m\u001b[38;5;100m─\u001b[0m\u001b[38;5;100m─\u001b[0m\u001b[38;5;100m─\u001b[0m\u001b[38;5;100m─\u001b[0m\u001b[38;5;100m─\u001b[0m value borrowed here after move",
      "\u001b[38;5;246m───╯\u001b[0m"
     ]
    }
   ],
   "source": [
    "fn main() {\n",
    "    let my_string = String::from(\"Understanding the String concept?\");\n",
    "\n",
    "    print_data(my_string); // ownership of my_string is transfered\n",
    "\n",
    "    print!(\"printing inside main {}\", my_string); // error at compile time here\n",
    "}\n",
    "\n",
    "fn  print_data(data: String) {\n",
    "    println!(\"printing my data {} \", data);\n",
    "}"
   ]
  },
  {
   "cell_type": "markdown",
   "id": "391714f5",
   "metadata": {},
   "source": [
    "### 소유권 이동없이 사용하려면 함수에 참조만 전달해야 함 "
   ]
  },
  {
   "cell_type": "code",
   "execution_count": 39,
   "id": "bc3935be",
   "metadata": {},
   "outputs": [],
   "source": [
    "fn main() {\n",
    "    let my_string = String::from(\"Understanding the String concept?\");\n",
    "\n",
    "    print_data(&my_string); // ownership of my_string is transfered\n",
    "\n",
    "    println!(\"printing inside main {}\", my_string); // error at compile time here\n",
    "}\n",
    "\n",
    "fn  print_data(data: &String) {\n",
    "    println!(\"printing my data {} \", data);\n",
    "}"
   ]
  },
  {
   "cell_type": "code",
   "execution_count": 40,
   "id": "926cd335",
   "metadata": {},
   "outputs": [
    {
     "name": "stdout",
     "output_type": "stream",
     "text": [
      "printing my data Understanding the String concept? \n",
      "printing inside main Understanding the String concept?\n"
     ]
    }
   ],
   "source": [
    "main();"
   ]
  },
  {
   "cell_type": "code",
   "execution_count": null,
   "id": "e4dbdfd3",
   "metadata": {},
   "outputs": [],
   "source": []
  },
  {
   "cell_type": "markdown",
   "id": "4407c6bd",
   "metadata": {},
   "source": [
    "### 어떤 참조를 사용하면 좋을지..\n",
    "\n",
    "- 보통 문자열리터럴로 표시해서 처리한다. "
   ]
  },
  {
   "cell_type": "code",
   "execution_count": 41,
   "id": "d1ccffde",
   "metadata": {},
   "outputs": [],
   "source": [
    "fn  print_data_S(data: &String) {\n",
    "    println!(\"printing my data {} \", data);\n",
    "}\n",
    "\n",
    "// 2. or data: &str\n",
    "fn  print_data_s(data: &str) {\n",
    "   println!(\"printing my data {} \", data);\n",
    "}"
   ]
  },
  {
   "cell_type": "code",
   "execution_count": 42,
   "id": "dc3361c7",
   "metadata": {},
   "outputs": [],
   "source": [
    "fn main() {\n",
    "    let my_string = String::from(\"Understanding the String concept? \");\n",
    "\n",
    "    print_data_S(&my_string); // ownership of my_string is transfered\n",
    "    print_data_s(&my_string); // ownership of my_string is transfered\n",
    "\n",
    "    println!(\"printing inside main {}\", my_string); // error at compile time here\n",
    "}"
   ]
  },
  {
   "cell_type": "code",
   "execution_count": 43,
   "id": "bf7395af",
   "metadata": {},
   "outputs": [
    {
     "name": "stdout",
     "output_type": "stream",
     "text": [
      "printing my data Understanding the String concept?  \n",
      "printing my data Understanding the String concept?  \n",
      "printing inside main Understanding the String concept? \n"
     ]
    }
   ],
   "source": [
    "main();"
   ]
  },
  {
   "cell_type": "code",
   "execution_count": null,
   "id": "98acf2d0",
   "metadata": {},
   "outputs": [],
   "source": []
  },
  {
   "cell_type": "code",
   "execution_count": 44,
   "id": "fe5f1cf6",
   "metadata": {},
   "outputs": [],
   "source": [
    "fn main() {\n",
    "    // (all the type annotations are superfluous)\n",
    "    // A reference to a string allocated in read only memory\n",
    "    let pangram: &'static str = \"the quick brown fox jumps over the lazy dog\";\n",
    "    println!(\"Pangram: {}\", pangram);\n",
    "\n",
    "    // Iterate over words in reverse, no new string is allocated\n",
    "    println!(\"Words in reverse\");\n",
    "    for word in pangram.split_whitespace().rev() {\n",
    "        println!(\"> {}\", word);\n",
    "    }\n",
    "}"
   ]
  },
  {
   "cell_type": "code",
   "execution_count": 45,
   "id": "389d84be",
   "metadata": {},
   "outputs": [
    {
     "name": "stdout",
     "output_type": "stream",
     "text": [
      "Pangram: the quick brown fox jumps over the lazy dog\n",
      "Words in reverse\n",
      "> dog\n",
      "> lazy\n",
      "> the\n",
      "> over\n",
      "> jumps\n",
      "> fox\n",
      "> brown\n",
      "> quick\n",
      "> the\n"
     ]
    }
   ],
   "source": [
    "main();"
   ]
  },
  {
   "cell_type": "code",
   "execution_count": null,
   "id": "7edf8002",
   "metadata": {},
   "outputs": [],
   "source": []
  },
  {
   "cell_type": "code",
   "execution_count": null,
   "id": "9aafcb3d",
   "metadata": {},
   "outputs": [],
   "source": []
  },
  {
   "cell_type": "code",
   "execution_count": 52,
   "id": "ef2d7f75",
   "metadata": {},
   "outputs": [],
   "source": [
    "fn main() {\n",
    "    \n",
    "    let pangram: &'static str = \"the quick brown fox jumps over the lazy dog\";\n",
    "    println!(\"Pangram: {}\", pangram);\n",
    "    // Copy chars into a vector, sort and remove duplicates\n",
    "    let mut chars: Vec<char> = pangram.chars().collect();\n",
    "    chars.sort();\n",
    "    chars.dedup();\n",
    "    // Create an empty and growable `String`\n",
    "    let mut string = String::new();\n",
    "    for c in chars {\n",
    "        // Insert a char at the end of string\n",
    "        string.push(c);\n",
    "        // Insert a string at the end of string\n",
    "        string.push_str(\", \");\n",
    "    }\n",
    "    // The trimmed string is a slice to the original string, hence no new\n",
    "    // allocation is performed\n",
    "    let chars_to_trim: &[char] = &[' ', ','];\n",
    "    let trimmed_str: &str = string.trim_matches(chars_to_trim);\n",
    "    println!(\"Used characters: {}\", trimmed_str);\n",
    "\n",
    "    // Heap allocate a string\n",
    "    let alice = String::from(\"I like dogs\");\n",
    "    // Allocate new memory and store the modified string there\n",
    "    let bob: String = alice.replace(\"dog\", \"cat\");\n",
    "\n",
    "    println!(\"Alice says: {}\", alice);\n",
    "    println!(\"Bob says: {}\", bob);\n",
    "}"
   ]
  },
  {
   "cell_type": "code",
   "execution_count": 53,
   "id": "c8b6819f",
   "metadata": {},
   "outputs": [
    {
     "name": "stdout",
     "output_type": "stream",
     "text": [
      "Pangram: the quick brown fox jumps over the lazy dog\n",
      "Used characters: a, b, c, d, e, f, g, h, i, j, k, l, m, n, o, p, q, r, s, t, u, v, w, x, y, z\n",
      "Alice says: I like dogs\n",
      "Bob says: I like cats\n"
     ]
    }
   ],
   "source": [
    "main();"
   ]
  },
  {
   "cell_type": "code",
   "execution_count": null,
   "id": "7d5ad72e",
   "metadata": {},
   "outputs": [],
   "source": []
  }
 ],
 "metadata": {
  "kernelspec": {
   "display_name": "Rust",
   "language": "rust",
   "name": "rust"
  },
  "language_info": {
   "codemirror_mode": "rust",
   "file_extension": ".rs",
   "mimetype": "text/rust",
   "name": "Rust",
   "pygment_lexer": "rust",
   "version": ""
  }
 },
 "nbformat": 4,
 "nbformat_minor": 5
}
