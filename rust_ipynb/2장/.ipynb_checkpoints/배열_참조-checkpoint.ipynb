{
 "cells": [
  {
   "cell_type": "markdown",
   "id": "1671aa65",
   "metadata": {},
   "source": [
    "# 1. 튜플 "
   ]
  },
  {
   "cell_type": "markdown",
   "id": "047e96da",
   "metadata": {},
   "source": [
    "## 1-1 튜플 정의  \n",
    "\n",
    "- 튜플 타입은 괄호와 내부에 여러 타입을 쉼표로 분리해서 지정\n",
    "- 튜플 리터럴은 괄호와 리터럴 값을 쉼표로 구분해서 정의\n",
    "- 동일한 튜플 타입은 항상 자료형과 개수가 같을 때만 처리 됨\n"
   ]
  },
  {
   "cell_type": "markdown",
   "id": "1a7dba69",
   "metadata": {},
   "source": [
    "### 변수 내부의 타입 확인하기 \n",
    "\n",
    "- 크레이트 typename 을 :dep 로 가져온다.\n",
    "- 그리고 use typename::ㅅTypeName을 처리"
   ]
  },
  {
   "cell_type": "code",
   "execution_count": 12,
   "id": "53e4b3bb",
   "metadata": {},
   "outputs": [],
   "source": [
    ":dep typename = \"0.1.2\""
   ]
  },
  {
   "cell_type": "code",
   "execution_count": 13,
   "id": "e8a8d7ba",
   "metadata": {},
   "outputs": [],
   "source": [
    "use typename::TypeName;"
   ]
  },
  {
   "cell_type": "markdown",
   "id": "99b01bc9",
   "metadata": {},
   "source": [
    "### 2개의 원소를 가지 튜플 정의 "
   ]
  },
  {
   "cell_type": "code",
   "execution_count": 4,
   "id": "c83beb4a",
   "metadata": {},
   "outputs": [],
   "source": [
    "let t : (u16, i16) = (100,200);"
   ]
  },
  {
   "cell_type": "code",
   "execution_count": 14,
   "id": "136a6288",
   "metadata": {},
   "outputs": [
    {
     "data": {
      "text/plain": [
       "\"(u16, i16)\""
      ]
     },
     "execution_count": 14,
     "metadata": {},
     "output_type": "execute_result"
    }
   ],
   "source": [
    "t.type_name_of()"
   ]
  },
  {
   "cell_type": "code",
   "execution_count": null,
   "id": "3360880b",
   "metadata": {},
   "outputs": [],
   "source": []
  },
  {
   "cell_type": "markdown",
   "id": "484dc830",
   "metadata": {},
   "source": [
    "## 1-2 튜플 분해\n",
    "\n",
    "- 튜플의 원소를 분해해서 각각의 값을 처리할 수 있다. "
   ]
  },
  {
   "cell_type": "code",
   "execution_count": 7,
   "id": "9f468cc8",
   "metadata": {},
   "outputs": [],
   "source": [
    "let (f,s) = t;"
   ]
  },
  {
   "cell_type": "code",
   "execution_count": 8,
   "id": "d964ef2a",
   "metadata": {},
   "outputs": [
    {
     "data": {
      "text/plain": [
       "100"
      ]
     },
     "execution_count": 8,
     "metadata": {},
     "output_type": "execute_result"
    }
   ],
   "source": [
    "f"
   ]
  },
  {
   "cell_type": "code",
   "execution_count": 9,
   "id": "187c08e9",
   "metadata": {},
   "outputs": [
    {
     "data": {
      "text/plain": [
       "200"
      ]
     },
     "execution_count": 9,
     "metadata": {},
     "output_type": "execute_result"
    }
   ],
   "source": [
    "s"
   ]
  },
  {
   "cell_type": "code",
   "execution_count": null,
   "id": "280ce170",
   "metadata": {},
   "outputs": [],
   "source": []
  },
  {
   "cell_type": "markdown",
   "id": "f7b6aada",
   "metadata": {},
   "source": [
    "## 스왑 처리하기"
   ]
  },
  {
   "cell_type": "code",
   "execution_count": null,
   "id": "82fb7828",
   "metadata": {},
   "outputs": [],
   "source": [
    "fn swap_int(x :i32, y :i32) -> (i32, i32) {\n",
    "    let (x,y) = (y,x);\n",
    "    println!(\"x={}, y={}\", x,y);\n",
    "    (x,y)\n",
    "}"
   ]
  },
  {
   "cell_type": "code",
   "execution_count": null,
   "id": "72787297",
   "metadata": {},
   "outputs": [],
   "source": []
  },
  {
   "cell_type": "markdown",
   "id": "6870b374",
   "metadata": {},
   "source": [
    "## 1-3 튜플내의 원소를 인덱스로 참조하기"
   ]
  },
  {
   "cell_type": "code",
   "execution_count": 15,
   "id": "b842c882",
   "metadata": {},
   "outputs": [
    {
     "data": {
      "text/plain": [
       "100"
      ]
     },
     "execution_count": 15,
     "metadata": {},
     "output_type": "execute_result"
    }
   ],
   "source": [
    "t.0"
   ]
  },
  {
   "cell_type": "code",
   "execution_count": 16,
   "id": "e9fb9536",
   "metadata": {},
   "outputs": [
    {
     "data": {
      "text/plain": [
       "200"
      ]
     },
     "execution_count": 16,
     "metadata": {},
     "output_type": "execute_result"
    }
   ],
   "source": [
    "t.1"
   ]
  },
  {
   "cell_type": "code",
   "execution_count": null,
   "id": "d9c6e65f",
   "metadata": {},
   "outputs": [],
   "source": []
  },
  {
   "cell_type": "code",
   "execution_count": null,
   "id": "dc377e6d",
   "metadata": {},
   "outputs": [],
   "source": []
  },
  {
   "cell_type": "markdown",
   "id": "e5562725",
   "metadata": {},
   "source": [
    "## 1-4. 튜플 내의 원소도 이동이 가능 "
   ]
  },
  {
   "cell_type": "markdown",
   "id": "2d162f82",
   "metadata": {},
   "source": [
    "### 문자열, 배열을 튜플의 원소로 처리할 때 \n",
    "\n",
    "- 내부의 원소는 이동해서 소유권이 변경됨 "
   ]
  },
  {
   "cell_type": "code",
   "execution_count": 18,
   "id": "eb19a5d9",
   "metadata": {},
   "outputs": [],
   "source": [
    "let ts = (\"hello\".to_string(), [1,2,3]);"
   ]
  },
  {
   "cell_type": "code",
   "execution_count": 19,
   "id": "cb7c9212",
   "metadata": {},
   "outputs": [],
   "source": [
    "let (ts1, ts2) = ts;"
   ]
  },
  {
   "cell_type": "markdown",
   "id": "fe2041c8",
   "metadata": {},
   "source": [
    "### 인스턴스는 소유권이 변경되어서 참조할 수 없다."
   ]
  },
  {
   "cell_type": "code",
   "execution_count": 20,
   "id": "a78ea709",
   "metadata": {},
   "outputs": [
    {
     "ename": "Error",
     "evalue": "cannot find value `ts` in this scope",
     "output_type": "error",
     "traceback": [
      "\u001b[31m[E0425] Error:\u001b[0m cannot find value `ts` in this scope",
      "   \u001b[38;5;246m╭\u001b[0m\u001b[38;5;246m─\u001b[0m\u001b[38;5;246m[\u001b[0mcommand_20:1:1\u001b[38;5;246m]\u001b[0m",
      "   \u001b[38;5;246m│\u001b[0m",
      " \u001b[38;5;246m1 │\u001b[0m \u001b[38;5;54mt\u001b[0m\u001b[38;5;54ms\u001b[0m\u001b[38;5;249m.\u001b[0m\u001b[38;5;249m0\u001b[0m",
      " \u001b[38;5;246m  ·\u001b[0m \u001b[38;5;54m─\u001b[0m\u001b[38;5;54m┬\u001b[0m  ",
      " \u001b[38;5;246m  ·\u001b[0m  \u001b[38;5;54m╰\u001b[0m\u001b[38;5;54m─\u001b[0m\u001b[38;5;54m─\u001b[0m error: cannot find value `ts` in this scope",
      " \u001b[38;5;246m  ·\u001b[0m  \u001b[38;5;100m│\u001b[0m  ",
      " \u001b[38;5;246m  ·\u001b[0m  \u001b[38;5;100m╰\u001b[0m\u001b[38;5;100m─\u001b[0m\u001b[38;5;100m─\u001b[0m help: a local variable with a similar name exists: `t`",
      "\u001b[38;5;246m───╯\u001b[0m"
     ]
    }
   ],
   "source": [
    "ts.0"
   ]
  },
  {
   "cell_type": "code",
   "execution_count": null,
   "id": "fba1077b",
   "metadata": {},
   "outputs": [],
   "source": []
  },
  {
   "cell_type": "markdown",
   "id": "b2ff4d9c",
   "metadata": {},
   "source": [
    "### 소유권이 변경하지 않으려면 참조로 처리 "
   ]
  },
  {
   "cell_type": "code",
   "execution_count": 25,
   "id": "f84bdd4a",
   "metadata": {},
   "outputs": [],
   "source": [
    "fn main() {\n",
    "    let tss = (\"hello\".to_string(), [1,2,3]);\n",
    "    let (tss1, tss2) = &tss;\n",
    "    println!(\" tuple 0 = {}\", tss.0);\n",
    "}"
   ]
  },
  {
   "cell_type": "code",
   "execution_count": 26,
   "id": "57d8de0f",
   "metadata": {},
   "outputs": [
    {
     "name": "stdout",
     "output_type": "stream",
     "text": [
      " tuple 0 = hello\n"
     ]
    },
    {
     "data": {
      "text/plain": [
       "()"
      ]
     },
     "execution_count": 26,
     "metadata": {},
     "output_type": "execute_result"
    }
   ],
   "source": [
    "main()"
   ]
  },
  {
   "cell_type": "code",
   "execution_count": null,
   "id": "637ad9b4",
   "metadata": {},
   "outputs": [],
   "source": []
  },
  {
   "cell_type": "code",
   "execution_count": null,
   "id": "3a36ca38",
   "metadata": {},
   "outputs": [],
   "source": []
  },
  {
   "cell_type": "code",
   "execution_count": 2,
   "id": "2ae302a3",
   "metadata": {},
   "outputs": [],
   "source": [
    "let text = \"I see the eigenvalue in thine eye\";\n",
    "let (head, tail) = text.split_at(21);\n",
    "assert_eq!(head, \"I see the eigenvalue \");\n",
    "assert_eq!(tail, \"in thine eye\");"
   ]
  },
  {
   "cell_type": "code",
   "execution_count": 3,
   "id": "4e148934",
   "metadata": {},
   "outputs": [
    {
     "data": {
      "text/plain": [
       "\"I see the eigenvalue \""
      ]
     },
     "execution_count": 3,
     "metadata": {},
     "output_type": "execute_result"
    }
   ],
   "source": [
    "head"
   ]
  },
  {
   "cell_type": "code",
   "execution_count": 4,
   "id": "18789a9e",
   "metadata": {},
   "outputs": [
    {
     "data": {
      "text/plain": [
       "\"in thine eye\""
      ]
     },
     "execution_count": 4,
     "metadata": {},
     "output_type": "execute_result"
    }
   ],
   "source": [
    "tail"
   ]
  },
  {
   "cell_type": "code",
   "execution_count": null,
   "id": "acecc3a5",
   "metadata": {},
   "outputs": [],
   "source": []
  },
  {
   "cell_type": "code",
   "execution_count": 38,
   "id": "8c2bff78",
   "metadata": {},
   "outputs": [],
   "source": [
    "// Tuples can be used as function arguments and as return values\n",
    "fn reverse(pair: (i32, bool)) -> (bool, i32) {\n",
    "    // `let` can be used to bind the members of a tuple to variables\n",
    "    let (integer, boolean) = pair;\n",
    "\n",
    "    (boolean, integer)\n",
    "}"
   ]
  },
  {
   "cell_type": "code",
   "execution_count": 39,
   "id": "d2e3bdae",
   "metadata": {},
   "outputs": [
    {
     "data": {
      "text/plain": [
       "(true, 100)"
      ]
     },
     "execution_count": 39,
     "metadata": {},
     "output_type": "execute_result"
    }
   ],
   "source": [
    "reverse((100,true))"
   ]
  },
  {
   "cell_type": "markdown",
   "id": "7ba9e191",
   "metadata": {},
   "source": [
    "## 스왑함수 처리 하기"
   ]
  },
  {
   "cell_type": "code",
   "execution_count": 43,
   "id": "99de6559",
   "metadata": {},
   "outputs": [],
   "source": [
    "fn swap_int(x :i32, y :i32) -> (i32, i32) {\n",
    "    let (x,y) = (y,x);\n",
    "    println!(\"x={}, y={}\", x,y);\n",
    "    (x,y)\n",
    "}"
   ]
  },
  {
   "cell_type": "code",
   "execution_count": 44,
   "id": "02b8fd13",
   "metadata": {},
   "outputs": [
    {
     "name": "stdout",
     "output_type": "stream",
     "text": [
      "x=200, y=100\n"
     ]
    },
    {
     "data": {
      "text/plain": [
       "(200, 100)"
      ]
     },
     "execution_count": 44,
     "metadata": {},
     "output_type": "execute_result"
    }
   ],
   "source": [
    "swap_int(100,200)"
   ]
  },
  {
   "cell_type": "code",
   "execution_count": 50,
   "id": "808a747f",
   "metadata": {},
   "outputs": [],
   "source": [
    "fn swap_flt(x :f32, y :f32) -> (f32, f32) {\n",
    "    let (x,y) = (y,x);\n",
    "    println!(\"x={}, y={}\", x,y);\n",
    "    return (x,y)\n",
    "}"
   ]
  },
  {
   "cell_type": "code",
   "execution_count": 51,
   "id": "c300e414",
   "metadata": {},
   "outputs": [
    {
     "name": "stdout",
     "output_type": "stream",
     "text": [
      "x=200.2, y=100.1\n"
     ]
    },
    {
     "data": {
      "text/plain": [
       "(200.2, 100.1)"
      ]
     },
     "execution_count": 51,
     "metadata": {},
     "output_type": "execute_result"
    }
   ],
   "source": [
    "swap_flt(100.1,200.2)"
   ]
  },
  {
   "cell_type": "markdown",
   "id": "fb0655e8",
   "metadata": {},
   "source": [
    "## 제너릭 함수 "
   ]
  },
  {
   "cell_type": "code",
   "execution_count": 46,
   "id": "bbb18872",
   "metadata": {},
   "outputs": [],
   "source": [
    "fn swap<T:std::fmt::Display>(x: &mut T, y: &mut T) -> () {\n",
    "    let (x,y) = (y,x);\n",
    "    println!(\"x={}, y={}\", x,y);\n",
    "    //(x,y)\n",
    "}"
   ]
  },
  {
   "cell_type": "code",
   "execution_count": 47,
   "id": "15cbe644",
   "metadata": {},
   "outputs": [
    {
     "name": "stdout",
     "output_type": "stream",
     "text": [
      "x=200, y=100\n"
     ]
    }
   ],
   "source": [
    "let mut a = 100;\n",
    "let mut b = 200;\n",
    "\n",
    "swap(&mut a,&mut b);"
   ]
  },
  {
   "cell_type": "code",
   "execution_count": 48,
   "id": "141835b2",
   "metadata": {},
   "outputs": [
    {
     "data": {
      "text/plain": [
       "100"
      ]
     },
     "execution_count": 48,
     "metadata": {},
     "output_type": "execute_result"
    }
   ],
   "source": [
    "a"
   ]
  },
  {
   "cell_type": "code",
   "execution_count": 49,
   "id": "b654ce8f",
   "metadata": {},
   "outputs": [
    {
     "data": {
      "text/plain": [
       "200"
      ]
     },
     "execution_count": 49,
     "metadata": {},
     "output_type": "execute_result"
    }
   ],
   "source": [
    "b"
   ]
  },
  {
   "cell_type": "markdown",
   "id": "175a1404",
   "metadata": {},
   "source": [
    "# 배열 "
   ]
  },
  {
   "cell_type": "code",
   "execution_count": null,
   "id": "db4ebc85",
   "metadata": {},
   "outputs": [],
   "source": []
  },
  {
   "cell_type": "code",
   "execution_count": 2,
   "id": "401b52dc",
   "metadata": {},
   "outputs": [],
   "source": [
    "let lazy_caterer: [u32; 6] = [1, 2, 4, 7, 11, 16]; \n",
    "let taxonomy = [\"Animalia\", \"Arthropoda\", \"Insecta\"];\n",
    "\n",
    "assert_eq!(lazy_caterer[3], 7);\n",
    "assert_eq!(taxonomy.len(), 3);"
   ]
  },
  {
   "cell_type": "code",
   "execution_count": null,
   "id": "014191e5",
   "metadata": {},
   "outputs": [],
   "source": []
  },
  {
   "cell_type": "code",
   "execution_count": 4,
   "id": "521da437",
   "metadata": {},
   "outputs": [],
   "source": [
    "let mut sieve = [true; 10000]; \n",
    "for i in 2..100 {\n",
    "    if sieve[i] { \n",
    "        let mut j=i*i;\n",
    "        while j < 10000 {\n",
    "            sieve[j] = false;\n",
    "            j+=i; }\n",
    "    } \n",
    "}\n",
    "    \n",
    "assert!(sieve[211]);\n",
    "assert!(!sieve[9876]);"
   ]
  },
  {
   "cell_type": "code",
   "execution_count": null,
   "id": "867c2bae",
   "metadata": {},
   "outputs": [],
   "source": []
  },
  {
   "cell_type": "code",
   "execution_count": 6,
   "id": "4b4eae22",
   "metadata": {},
   "outputs": [],
   "source": [
    "let mut chaos=[3,5,4,1,2]; \n",
    "\n",
    "chaos.sort();\n",
    "\n",
    "assert_eq!(chaos, [1, 2, 3, 4, 5]);"
   ]
  },
  {
   "cell_type": "code",
   "execution_count": null,
   "id": "6e9d6da0",
   "metadata": {},
   "outputs": [],
   "source": []
  },
  {
   "cell_type": "code",
   "execution_count": null,
   "id": "f3ef7c54",
   "metadata": {},
   "outputs": [],
   "source": []
  },
  {
   "cell_type": "markdown",
   "id": "8587361e",
   "metadata": {},
   "source": [
    "# 벡터 "
   ]
  },
  {
   "cell_type": "code",
   "execution_count": 7,
   "id": "22e84a62",
   "metadata": {},
   "outputs": [],
   "source": [
    "let mut v = vec![2, 3, 5, 7]; \n",
    "\n",
    "assert_eq!(v.iter().fold(1, |a, b| a * b), 210);"
   ]
  },
  {
   "cell_type": "code",
   "execution_count": null,
   "id": "d3207eac",
   "metadata": {},
   "outputs": [],
   "source": []
  },
  {
   "cell_type": "code",
   "execution_count": 8,
   "id": "0be1fd26",
   "metadata": {},
   "outputs": [],
   "source": [
    "v.push(11);\n",
    "\n",
    "v.push(13);\n",
    "\n",
    "assert_eq!(v.iter().fold(1, |a, b| a * b), 30030);"
   ]
  },
  {
   "cell_type": "code",
   "execution_count": null,
   "id": "bef3990a",
   "metadata": {},
   "outputs": [],
   "source": []
  },
  {
   "cell_type": "code",
   "execution_count": 9,
   "id": "c3225754",
   "metadata": {},
   "outputs": [],
   "source": [
    "fn new_pixel_buffer(rows: usize, cols: usize) -> Vec<u8> { \n",
    "    vec![0; rows * cols]\n",
    "}"
   ]
  },
  {
   "cell_type": "code",
   "execution_count": null,
   "id": "366d4585",
   "metadata": {},
   "outputs": [],
   "source": []
  },
  {
   "cell_type": "code",
   "execution_count": 10,
   "id": "c9edb29d",
   "metadata": {},
   "outputs": [],
   "source": [
    "let mut v = Vec::new();\n",
    "v.push(\"step\");\n",
    "v.push(\"on\");\n",
    "v.push(\"no\");\n",
    "v.push(\"pets\");\n",
    "assert_eq!(v, vec![\"step\", \"on\", \"no\", \"pets\"]);"
   ]
  },
  {
   "cell_type": "code",
   "execution_count": null,
   "id": "6b745a37",
   "metadata": {},
   "outputs": [],
   "source": []
  },
  {
   "cell_type": "code",
   "execution_count": 11,
   "id": "f868d997",
   "metadata": {},
   "outputs": [],
   "source": [
    "let v: Vec<i32> = (0..5).collect(); \n",
    "\n",
    "assert_eq!(v, [0, 1, 2, 3, 4]);"
   ]
  },
  {
   "cell_type": "code",
   "execution_count": null,
   "id": "4c0e59e9",
   "metadata": {},
   "outputs": [],
   "source": []
  },
  {
   "cell_type": "code",
   "execution_count": 12,
   "id": "60b70d22",
   "metadata": {},
   "outputs": [],
   "source": [
    " // A palindrome!\n",
    "let mut v = vec![\"a man\", \"a plan\", \"a canal\", \"panama\"]; \n",
    "v.reverse();\n",
    "// Reasonable yet disappointing:\n",
    "assert_eq!(v, vec![\"panama\", \"a canal\", \"a plan\", \"a man\"]);"
   ]
  },
  {
   "cell_type": "code",
   "execution_count": null,
   "id": "8c2cd934",
   "metadata": {},
   "outputs": [],
   "source": []
  },
  {
   "cell_type": "code",
   "execution_count": null,
   "id": "e4fcff63",
   "metadata": {},
   "outputs": [],
   "source": []
  },
  {
   "cell_type": "code",
   "execution_count": 13,
   "id": "e3a9fd44",
   "metadata": {},
   "outputs": [],
   "source": [
    "let mut v = Vec::with_capacity(2); \n",
    "assert_eq!(v.len(), 0); \n",
    "assert_eq!(v.capacity(), 2);\n",
    "\n",
    "v.push(1);\n",
    "v.push(2);\n",
    "assert_eq!(v.len(), 2);\n",
    "assert_eq!(v.capacity(), 2);\n",
    "\n",
    "v.push(3);\n",
    "assert_eq!(v.len(), 3);\n",
    "assert_eq!(v.capacity(), 4);"
   ]
  },
  {
   "cell_type": "code",
   "execution_count": null,
   "id": "3efb4651",
   "metadata": {},
   "outputs": [],
   "source": []
  },
  {
   "cell_type": "code",
   "execution_count": 14,
   "id": "1c78c3c7",
   "metadata": {},
   "outputs": [],
   "source": [
    "let mut v = vec![10, 20, 30, 40, 50];\n",
    "// Make the element at index 3 be 35.\n",
    "v.insert(3, 35);\n",
    "assert_eq!(v, [10, 20, 30, 35, 40, 50]);\n",
    "// Remove the element at index 1.\n",
    "v.remove(1);\n",
    "assert_eq!(v, [10, 30, 35, 40, 50]);"
   ]
  },
  {
   "cell_type": "code",
   "execution_count": null,
   "id": "fc03de2c",
   "metadata": {},
   "outputs": [],
   "source": []
  },
  {
   "cell_type": "code",
   "execution_count": 15,
   "id": "2579d0bb",
   "metadata": {},
   "outputs": [],
   "source": [
    "let mut v = vec![\"carmen\", \"miranda\"]; \n",
    "\n",
    "assert_eq!(v.pop(), Some(\"miranda\")); \n",
    "assert_eq!(v.pop(), Some(\"carmen\")); \n",
    "assert_eq!(v.pop(), None);"
   ]
  },
  {
   "cell_type": "code",
   "execution_count": null,
   "id": "1e66571e",
   "metadata": {},
   "outputs": [],
   "source": []
  },
  {
   "cell_type": "code",
   "execution_count": 21,
   "id": "9670d955",
   "metadata": {},
   "outputs": [
    {
     "data": {
      "text/plain": [
       "()"
      ]
     },
     "execution_count": 21,
     "metadata": {},
     "output_type": "execute_result"
    }
   ],
   "source": [
    "// Get our command-line arguments as a vector of Strings.\n",
    "let languages: Vec<String> = std::env::args().skip(1).collect(); \n",
    "for l in languages {\n",
    "    println!(\"{}: {}\", l, \n",
    "        if l.len()%2==0 {\n",
    "            \"functional\"\n",
    "        }else{ \n",
    "            \"imperative\"\n",
    "    });\n",
    "}"
   ]
  },
  {
   "cell_type": "code",
   "execution_count": null,
   "id": "b7bfad2c",
   "metadata": {},
   "outputs": [],
   "source": []
  }
 ],
 "metadata": {
  "kernelspec": {
   "display_name": "Rust",
   "language": "rust",
   "name": "rust"
  },
  "language_info": {
   "codemirror_mode": "rust",
   "file_extension": ".rs",
   "mimetype": "text/rust",
   "name": "Rust",
   "pygment_lexer": "rust",
   "version": ""
  }
 },
 "nbformat": 4,
 "nbformat_minor": 5
}
