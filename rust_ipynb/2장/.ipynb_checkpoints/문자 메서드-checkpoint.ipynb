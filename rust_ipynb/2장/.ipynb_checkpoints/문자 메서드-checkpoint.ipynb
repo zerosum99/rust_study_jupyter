{
 "cells": [
  {
   "cell_type": "code",
   "execution_count": null,
   "id": "f7b2d9b1",
   "metadata": {},
   "outputs": [],
   "source": []
  },
  {
   "cell_type": "markdown",
   "id": "eafebb71",
   "metadata": {},
   "source": [
    "### 문자를 생성할 때는 u8 타입으로 처리"
   ]
  },
  {
   "cell_type": "code",
   "execution_count": 13,
   "id": "a4aa67dc",
   "metadata": {},
   "outputs": [
    {
     "data": {
      "text/plain": [
       "()"
      ]
     },
     "execution_count": 13,
     "metadata": {},
     "output_type": "execute_result"
    }
   ],
   "source": [
    "use std::mem;\n",
    "\n",
    "let u = 32 as u8;\n",
    "let c = char::from(u);\n",
    "assert!(4 == mem::size_of_val(&c))"
   ]
  },
  {
   "cell_type": "code",
   "execution_count": null,
   "id": "45875b40",
   "metadata": {},
   "outputs": [],
   "source": []
  },
  {
   "cell_type": "markdown",
   "id": "18fc09a9",
   "metadata": {},
   "source": [
    "## 숫자를 문자로 처리하기"
   ]
  },
  {
   "cell_type": "code",
   "execution_count": 5,
   "id": "3bcf569f",
   "metadata": {},
   "outputs": [],
   "source": [
    "fn main() {\n",
    "    let c = char::from_digit(4, 10);\n",
    "    \n",
    "    println!(\" {:?},  {} \", c, c.unwrap());\n",
    "\n",
    "    // Decimal 11 is a single digit in base 16\n",
    "    let c = char::from_digit(11, 16);\n",
    "    \n",
    "    println!(\" {:?}, {} \", c,c.unwrap());\n",
    "}"
   ]
  },
  {
   "cell_type": "code",
   "execution_count": 6,
   "id": "684781a8",
   "metadata": {},
   "outputs": [
    {
     "name": "stdout",
     "output_type": "stream",
     "text": [
      " Some('4'),  4 \n",
      " Some('b'), b \n"
     ]
    }
   ],
   "source": [
    "main();"
   ]
  },
  {
   "cell_type": "markdown",
   "id": "663e9c85",
   "metadata": {},
   "source": [
    "### 유니코드 처리"
   ]
  },
  {
   "cell_type": "code",
   "execution_count": 7,
   "id": "e8dd21e2",
   "metadata": {},
   "outputs": [
    {
     "name": "stdout",
     "output_type": "stream",
     "text": [
      "\\u{2764}\n"
     ]
    }
   ],
   "source": [
    "for c in '❤'.escape_unicode() {\n",
    "    print!(\"{c}\");\n",
    "}\n",
    "println!();"
   ]
  },
  {
   "cell_type": "code",
   "execution_count": 11,
   "id": "a91c6597",
   "metadata": {},
   "outputs": [
    {
     "name": "stdout",
     "output_type": "stream",
     "text": [
      "❤\n"
     ]
    },
    {
     "data": {
      "text/plain": [
       "()"
      ]
     },
     "execution_count": 11,
     "metadata": {},
     "output_type": "execute_result"
    }
   ],
   "source": [
    "println!(\"{}\", '\\u{2764}')"
   ]
  },
  {
   "cell_type": "markdown",
   "id": "d6a0646a",
   "metadata": {},
   "source": [
    "###  대소문자 알파벳 확인 "
   ]
  },
  {
   "cell_type": "code",
   "execution_count": 12,
   "id": "e819d87c",
   "metadata": {},
   "outputs": [],
   "source": [
    "let uppercase_a = 'A';\n",
    "let uppercase_g = 'G';\n",
    "let a = 'a';\n",
    "let g = 'g';\n",
    "let zero = '0';\n",
    "let percent = '%';\n",
    "let space = ' ';\n",
    "let lf = '\\n';\n",
    "let esc = '\\x1b';\n",
    "\n",
    "assert!(uppercase_a.is_ascii_alphabetic());\n",
    "assert!(uppercase_g.is_ascii_alphabetic());\n",
    "assert!(a.is_ascii_alphabetic());\n",
    "assert!(g.is_ascii_alphabetic());\n",
    "assert!(!zero.is_ascii_alphabetic());\n",
    "assert!(!percent.is_ascii_alphabetic());\n",
    "assert!(!space.is_ascii_alphabetic());\n",
    "assert!(!lf.is_ascii_alphabetic());\n",
    "assert!(!esc.is_ascii_alphabetic());"
   ]
  },
  {
   "cell_type": "code",
   "execution_count": null,
   "id": "d0bc506a",
   "metadata": {},
   "outputs": [],
   "source": []
  }
 ],
 "metadata": {
  "kernelspec": {
   "display_name": "Rust",
   "language": "rust",
   "name": "rust"
  },
  "language_info": {
   "codemirror_mode": "rust",
   "file_extension": ".rs",
   "mimetype": "text/rust",
   "name": "Rust",
   "pygment_lexer": "rust",
   "version": ""
  }
 },
 "nbformat": 4,
 "nbformat_minor": 5
}
