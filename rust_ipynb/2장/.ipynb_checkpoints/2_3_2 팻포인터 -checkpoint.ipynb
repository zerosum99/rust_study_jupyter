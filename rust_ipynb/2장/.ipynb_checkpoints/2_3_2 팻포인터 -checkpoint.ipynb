{
 "cells": [
  {
   "cell_type": "code",
   "execution_count": null,
   "id": "bb5e4415",
   "metadata": {},
   "outputs": [],
   "source": []
  },
  {
   "cell_type": "markdown",
   "id": "8ce272fd",
   "metadata": {},
   "source": [
    "## 포인터 \n",
    "\n",
    "- 러스트(Rust)에서는 포인터(pointer)를 사용하여 메모리를 관리합니다. \n",
    "- 러스트에서는 스마트 포인터(smart pointer)와 팻 포인터(fat pointer) 두 가지 유형의 포인터가 있습니다."
   ]
  },
  {
   "cell_type": "markdown",
   "id": "22aa7c31",
   "metadata": {},
   "source": [
    "## 팻포인터 \n",
    "\n",
    "- 스마트 포인터와 달리 고정된 크기가 아닌 가변적인 크기의 데이터 타입을 참조하기 위한 포인터입니다. \n",
    "- 보통 팻 포인터는 슬라이스(slice)나 트레잇 객체(trait object)를 참조하기 위해 사용됩니다."
   ]
  },
  {
   "cell_type": "code",
   "execution_count": null,
   "id": "1dbc0f29",
   "metadata": {},
   "outputs": [],
   "source": []
  },
  {
   "cell_type": "markdown",
   "id": "b9eb6c61",
   "metadata": {},
   "source": [
    "## 슬라이스를 사용한 팻포인터"
   ]
  },
  {
   "cell_type": "code",
   "execution_count": 2,
   "id": "d1ea34ab",
   "metadata": {},
   "outputs": [],
   "source": [
    "fn main() {\n",
    "    let arr: [i32; 5] = [1, 2, 3, 4, 5];\n",
    "    let slice: &[i32] = &arr[1..4];  // 팻 포인터를 이용한 슬라이스 참조\n",
    "\n",
    "    println!(\"{:?}\", slice);\n",
    "}"
   ]
  },
  {
   "cell_type": "code",
   "execution_count": 3,
   "id": "f3ffd6ce",
   "metadata": {},
   "outputs": [
    {
     "name": "stdout",
     "output_type": "stream",
     "text": [
      "[2, 3, 4]\n"
     ]
    }
   ],
   "source": [
    "main();"
   ]
  },
  {
   "cell_type": "markdown",
   "id": "e12446db",
   "metadata": {},
   "source": [
    "## 트레이트 객체 사용한 팻포인트"
   ]
  },
  {
   "cell_type": "code",
   "execution_count": 4,
   "id": "ca783861",
   "metadata": {},
   "outputs": [],
   "source": [
    "trait Animal {\n",
    "    fn name(&self) -> &'static str;\n",
    "}\n",
    "\n",
    "struct Dog {\n",
    "    name: &'static str,\n",
    "}\n",
    "\n",
    "impl Animal for Dog {\n",
    "    fn name(&self) -> &'static str {\n",
    "        self.name\n",
    "    }\n",
    "}"
   ]
  },
  {
   "cell_type": "code",
   "execution_count": 5,
   "id": "c8fddd68",
   "metadata": {},
   "outputs": [],
   "source": [
    "fn main() {\n",
    "    let dog = Dog { name: \"Puppy\" };\n",
    "    let animal: &dyn Animal = &dog;  // 팻 포인터를 이용한 트레잇 객체 참조\n",
    "\n",
    "    println!(\"{}\", animal.name());\n",
    "}"
   ]
  },
  {
   "cell_type": "code",
   "execution_count": 6,
   "id": "c373c8e3",
   "metadata": {},
   "outputs": [
    {
     "name": "stdout",
     "output_type": "stream",
     "text": [
      "Puppy\n"
     ]
    }
   ],
   "source": [
    "main();"
   ]
  },
  {
   "cell_type": "code",
   "execution_count": null,
   "id": "8dc219c0",
   "metadata": {},
   "outputs": [],
   "source": []
  }
 ],
 "metadata": {
  "kernelspec": {
   "display_name": "Rust",
   "language": "rust",
   "name": "rust"
  },
  "language_info": {
   "codemirror_mode": "rust",
   "file_extension": ".rs",
   "mimetype": "text/rust",
   "name": "Rust",
   "pygment_lexer": "rust",
   "version": ""
  }
 },
 "nbformat": 4,
 "nbformat_minor": 5
}
