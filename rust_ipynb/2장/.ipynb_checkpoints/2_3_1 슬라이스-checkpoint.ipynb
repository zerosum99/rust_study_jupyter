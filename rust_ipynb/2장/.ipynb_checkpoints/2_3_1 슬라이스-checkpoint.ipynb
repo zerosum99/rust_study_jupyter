{
 "cells": [
  {
   "cell_type": "markdown",
   "id": "9fa72b7a",
   "metadata": {},
   "source": [
    "## 타입을 확인하는 함수 "
   ]
  },
  {
   "cell_type": "code",
   "execution_count": 4,
   "id": "533b39b6",
   "metadata": {},
   "outputs": [],
   "source": [
    "use std::any::type_name;\n",
    "\n",
    "fn type_of<T>(_: T) -> &'static str {\n",
    "    type_name::<T>()\n",
    "}"
   ]
  },
  {
   "cell_type": "markdown",
   "id": "acf915a1",
   "metadata": {},
   "source": [
    "## 1. 슬라이스\n",
    "\n",
    "- 슬라이스는 항상 참조로 처리한다.\n",
    "- 기존 내용을 참조하는 레퍼런스로 만들어진다.\n",
    "\n",
    "- 슬라이스는 마지막을 포함하지 않는다.\n",
    "- 포함되려면 숫자는 = 다음에 표시\n"
   ]
  },
  {
   "cell_type": "markdown",
   "id": "be7bb806",
   "metadata": {},
   "source": [
    "### 슬라이스의 팻포인터 \n",
    "\n",
    "- Fat pointer는 메모리 영역에 대한 포인터와 크기 정보를 모두 가지고 있습니다. \n",
    "- 이러한 fat pointer는 Slice 타입에서 사용되며, Slice 타입에 대한 포인터인 &str과 &mut [T]는 fat pointer의 형태를 가지고 있습니다.\n",
    "\n",
    "- 따라서, Rust에서 Slice를 사용할 때는 포인터의 개념과 함께 fat pointer를 사용하게 됩니다. fat pointer는 C++에서의 포인터와 유사한 개념으로, 해당 메모리 공간의 시작 주소와 길이를 가지고 있는 포인터입니다. \n",
    "- 이러한 포인터를 사용하면 Slice 타입의 데이터를 보다 안전하게 다룰 수 있습니다."
   ]
  },
  {
   "cell_type": "markdown",
   "id": "5f2b5f60",
   "metadata": {},
   "source": [
    "## 1-1 슬라이스 타입 표기 \n",
    "\n",
    "### 불변 슬라이스 \n",
    "- &[T]:  공유된 슬라이스 , 대여만 가능 \n",
    "\n",
    "### 가변 슬라이스\n",
    "- &mut [T]: 갱신 가능한 슬라이스 , 상호배타적으로 갱신만 가능 \n",
    "\n",
    "### 힙에 슬라이스 처리 \n",
    "- Box<[T]>: 박스드 슬라이스, 힙에 슬라이스를 만든다. "
   ]
  },
  {
   "cell_type": "markdown",
   "id": "82f9202f",
   "metadata": {},
   "source": [
    "###  배열을 정의와 슬라이스 정의 확인\n",
    "\n",
    "- 배열은 동일한 자료형과 길이를 대괄호에 표시\n",
    "- 슬라이스는 대괄호에 자료형을 표시하고 대괄호 앞에 참조를 표시"
   ]
  },
  {
   "cell_type": "code",
   "execution_count": 7,
   "id": "74241d81",
   "metadata": {},
   "outputs": [],
   "source": [
    "fn main() {\n",
    "    let a: [i32; 6] = [10, 20, 30, 40, 50, 60];  // 배열 정의 \n",
    "    println!(\"배열의 타입 : {a:?} {} \",type_of(a));\n",
    "\n",
    "    let s: &[i32] = &a[2..4];                    // 배열의 특정 인텍스를 처리 \n",
    "    println!(\"슬라이스 타입: {s:?}, {}\",type_of(s));\n",
    "}"
   ]
  },
  {
   "cell_type": "code",
   "execution_count": 8,
   "id": "5f0e328d",
   "metadata": {},
   "outputs": [
    {
     "name": "stdout",
     "output_type": "stream",
     "text": [
      "배열의 타입 : [10, 20, 30, 40, 50, 60] [i32; 6] \n",
      "슬라이스 타입: [30, 40], &[i32]\n"
     ]
    }
   ],
   "source": [
    "main();"
   ]
  },
  {
   "cell_type": "code",
   "execution_count": null,
   "id": "449a426a",
   "metadata": {},
   "outputs": [],
   "source": []
  },
  {
   "cell_type": "markdown",
   "id": "d75476e8",
   "metadata": {},
   "source": [
    "## 1-2 슬라이스 내의 범위 지정 하기 \n",
    "\n",
    "- 슬라이스는 참조이므로 &[참조되는 범위]\n",
    "- 러스트 범위연산은 (시작점)..(종료점+ 1)\n",
    "- 범위연산에서 종료점을 포함하려면  (시작점)..=(종료점+ 1)"
   ]
  },
  {
   "cell_type": "markdown",
   "id": "5d4ae312",
   "metadata": {},
   "source": [
    "### 범위를 표시"
   ]
  },
  {
   "cell_type": "code",
   "execution_count": 10,
   "id": "4f030f1d",
   "metadata": {},
   "outputs": [],
   "source": [
    "let range_a = 1..10;"
   ]
  },
  {
   "cell_type": "code",
   "execution_count": 11,
   "id": "a96133f5",
   "metadata": {},
   "outputs": [
    {
     "data": {
      "text/plain": [
       "\"core::ops::range::Range<i32>\""
      ]
     },
     "execution_count": 11,
     "metadata": {},
     "output_type": "execute_result"
    }
   ],
   "source": [
    "type_of(range_a)"
   ]
  },
  {
   "cell_type": "markdown",
   "id": "1aa3a9f7",
   "metadata": {},
   "source": [
    "### 문자열리터럴을 원소를 가지는 배열을 슬라이스 처리하기 "
   ]
  },
  {
   "cell_type": "code",
   "execution_count": 3,
   "id": "e77ae2ec",
   "metadata": {},
   "outputs": [],
   "source": [
    "fn main() {\n",
    "    let seasons = [\"봄\", \"여름\", \"가을\", \"겨울\"]; // 배열 정의 \n",
    "    println!(\"{:?}\", seasons);                // 배열 출력 \n",
    "    \n",
    "    println!(\"{:? } \", &seasons[0..2]);       // 슬라이스를 참조할 때는 레퍼런스로 처리해야 함\n",
    "    \n",
    "    let ss = &seasons[0..=2];                 // 슬라이스 값을 변수에 정의    \n",
    "    println!(\"{:?}\", ss);\n",
    "}   "
   ]
  },
  {
   "cell_type": "code",
   "execution_count": 4,
   "id": "dc92b23b",
   "metadata": {},
   "outputs": [
    {
     "data": {
      "text/plain": [
       "()"
      ]
     },
     "execution_count": 4,
     "metadata": {},
     "output_type": "execute_result"
    },
    {
     "name": "stdout",
     "output_type": "stream",
     "text": [
      "[\"봄\", \"여름\", \"가을\", \"겨울\"]\n",
      "[\"봄\", \"여름\"] \n",
      "[\"봄\", \"여름\", \"가을\"]\n"
     ]
    }
   ],
   "source": [
    "main()"
   ]
  },
  {
   "cell_type": "markdown",
   "id": "0fa5fcac",
   "metadata": {},
   "source": [
    "## 2  문자열을 슬라이스로 처리하기 "
   ]
  },
  {
   "cell_type": "markdown",
   "id": "7330b373",
   "metadata": {},
   "source": [
    "## 2-1 문자열을 생성하고 슬라이스 처리하기\n"
   ]
  },
  {
   "cell_type": "code",
   "execution_count": 12,
   "id": "2202008d",
   "metadata": {},
   "outputs": [],
   "source": [
    "fn main() { \n",
    "    let s = String::from(\"hello\");      // 문자열을 생성 \n",
    "\n",
    "    let slice1 = &s[0..2];              // 두 개의 문자를 가지는 슬라이스 \n",
    "    println!(\"slice1 = {} typename = {:?}\", slice1, type_of(slice1)); \n",
    "    let slice2 = &s[..2];               // 두 개의 문자를 가지는 슬라이스\n",
    "    println!(\"slice2 = {} typename = {:?}\", slice2, type_of(slice2)); \n",
    "    \n",
    "    let len = s.len();                  // 문자열 슬라이스의 길이 \n",
    "\n",
    "    let slice3 = &s[3..len];            // 특정 길이를 슬라이스 처리    \n",
    "    println!(\"slice3 = {} \", slice3); \n",
    "    let slice4 = &s[3..];\n",
    "    println!(\"slice4 = {} \", slice4); \n",
    "    \n",
    "    let slice5 = &s[0..len];            // 문자열 전체를 슬라이스하기 \n",
    "    println!(\"slice5 = {} \", slice5); \n",
    "    let slice6 = &s[..];\n",
    "    println!(\"slice6 = {} \", slice6); \n",
    "}"
   ]
  },
  {
   "cell_type": "code",
   "execution_count": 13,
   "id": "6ad53435",
   "metadata": {},
   "outputs": [
    {
     "name": "stdout",
     "output_type": "stream",
     "text": [
      "slice1 = he typename = \"&str\"\n",
      "slice2 = he typename = \"&str\"\n",
      "slice3 = lo \n",
      "slice4 = lo \n",
      "slice5 = hello \n",
      "slice6 = hello \n"
     ]
    },
    {
     "data": {
      "text/plain": [
       "()"
      ]
     },
     "execution_count": 13,
     "metadata": {},
     "output_type": "execute_result"
    }
   ],
   "source": [
    "main()"
   ]
  },
  {
   "cell_type": "markdown",
   "id": "66fa67f6",
   "metadata": {},
   "source": [
    "###  문자열 리터럴에 대한 자료형 지정\n",
    "\n",
    "- 문자열 리터럴은 슬라이스라서 자료형을 (&str)로 표기 \n",
    "- 변경불가능한 참조이므로 단순히 조회만 가능 "
   ]
  },
  {
   "cell_type": "code",
   "execution_count": 14,
   "id": "060a502e",
   "metadata": {},
   "outputs": [],
   "source": [
    "fn main() { \n",
    "    let s: &str = \"Hello, world!\";\n",
    "\n",
    "    println!(\" string literal : {} typename = {:?}\", s,type_of(s)); \n",
    "} "
   ]
  },
  {
   "cell_type": "code",
   "execution_count": 15,
   "id": "ff615d93",
   "metadata": {},
   "outputs": [
    {
     "name": "stdout",
     "output_type": "stream",
     "text": [
      " string literal : Hello, world! typename = \"&str\"\n"
     ]
    },
    {
     "data": {
      "text/plain": [
       "()"
      ]
     },
     "execution_count": 15,
     "metadata": {},
     "output_type": "execute_result"
    }
   ],
   "source": [
    "main()"
   ]
  },
  {
   "cell_type": "markdown",
   "id": "2791d58f",
   "metadata": {},
   "source": [
    "### 문자열을 가지고 슬라이스 처리하기\n",
    "- 문자열은 변경이 가능하다. \n",
    "- 하나의 함수를 정의해서 문자열을 참조로 전달한다. \n",
    "- 그 함수는 문자열을 참조로 받고 하나의 문자열 리터럴(즉 슬라이스)로 처리한다.\n",
    "- 문자열이 변경가능하므로 clear 메서드로 문자열 내부를 정리한다.\n"
   ]
  },
  {
   "cell_type": "code",
   "execution_count": 16,
   "id": "a0a1837c",
   "metadata": {},
   "outputs": [],
   "source": [
    "fn main() {\n",
    "    let mut s = String::from(\"hello world\");     // 문자열을 생성, 가변 변수를 지정 \n",
    "\n",
    "    let word = first_word(&s);                   // 첫번째 단어 \n",
    "    \n",
    "    println!(\"word = {}\", word);                 // 문자열은 Display 트레이트가 구현되어 바로 출력가능 \n",
    "\n",
    "    s.clear();                                   // 이 코드는 String을 비워서 \"\"로 만들게 됩니다.\n",
    "\n",
    "}\n",
    "\n",
    "// 문자열 참조를 받아서 문자열 리터럴로 반환하기 \n",
    "// 문자열을 참조로 전달해서 전달된 참조는 이 함수 내에서만 수명을 한다. \n",
    "fn first_word(s: &String) -> &str {\n",
    "    let bytes = s.as_bytes();                     // 문자열을 바이트로 변환 \n",
    "\n",
    "    for (i, &item) in bytes.iter().enumerate() {  // 바이트를 반복자로 변환하고 인덱스와 값을 참조로 전달 \n",
    "        if item == b' ' {                         // 바이트 빈 문자열을 만나면 그 인덱스 바로 앞까지 단어를 반환 \n",
    "            return &s[0..i];\n",
    "        }\n",
    "    }\n",
    "\n",
    "    &s[..]                                        // 슬라이스로 반환하기 \n",
    "}"
   ]
  },
  {
   "cell_type": "code",
   "execution_count": 17,
   "id": "2c24e248",
   "metadata": {},
   "outputs": [
    {
     "name": "stdout",
     "output_type": "stream",
     "text": [
      "word = hello\n"
     ]
    },
    {
     "data": {
      "text/plain": [
       "()"
      ]
     },
     "execution_count": 17,
     "metadata": {},
     "output_type": "execute_result"
    }
   ],
   "source": [
    "main()"
   ]
  },
  {
   "cell_type": "markdown",
   "id": "448d92c4",
   "metadata": {},
   "source": [
    "## 2-2 함수의 매개변수를 변환하기 \n",
    "\n",
    "- 함수의 매개변수를 문자열을 참조에서 문자열 슬라이스로 "
   ]
  },
  {
   "cell_type": "code",
   "execution_count": 13,
   "id": "dceb1053",
   "metadata": {},
   "outputs": [],
   "source": [
    "fn main() {\n",
    "    let mut s = String::from(\"hello world\");\n",
    "\n",
    "    let word = first_word_1(&s);                   // 첫번째 단어 \n",
    "    \n",
    "    println!(\"문자열 리터럴로 변환한 word = {}\", word); // 문자열은 Display 트레이트가 구현되어 바로 출력가능 \n",
    "\n",
    "    s.clear();                                     // 이 코드는 String을 비워서 \"\"로 만들게 됩니다.\n",
    "\n",
    "}\n",
    "\n",
    "// 문자열 참조를 받아서 문자열 리터럴로 반환하기 \n",
    "// 문자열을 참조로 전달해서 전달된 참조는 이 함수 내에서만 수명을 한다. \n",
    "fn first_word_1(s: &str) -> &str {\n",
    "    let bytes = s.as_bytes();                     // 문자열을 바이트로 변환 \n",
    "\n",
    "    for (i, &item) in bytes.iter().enumerate() {  // 바이트를 반복자로 변환하고 인덱스와 값을 참조로 전달 \n",
    "        if item == b' ' {                         // 바이트 빈 문자열을 만나면 그 인덱스 바로 앞까지 단어를 반환 \n",
    "            return &s[0..i];\n",
    "        }\n",
    "    }\n",
    "\n",
    "    &s[..]                                        // 슬라이스로 반환하기 \n",
    "}"
   ]
  },
  {
   "cell_type": "code",
   "execution_count": 14,
   "id": "f1fc1184",
   "metadata": {},
   "outputs": [
    {
     "name": "stdout",
     "output_type": "stream",
     "text": [
      "문자열 리터럴로 변환한 word = hello\n"
     ]
    },
    {
     "data": {
      "text/plain": [
       "()"
      ]
     },
     "execution_count": 14,
     "metadata": {},
     "output_type": "execute_result"
    }
   ],
   "source": [
    "main()"
   ]
  },
  {
   "cell_type": "code",
   "execution_count": null,
   "id": "3fa3f866",
   "metadata": {},
   "outputs": [],
   "source": []
  },
  {
   "cell_type": "markdown",
   "id": "812ac234",
   "metadata": {},
   "source": [
    "## 3. 벡터와 배열에 대한 슬라이스 처리\n",
    "\n",
    "- 슬라이스 타입은 &[자료형]으로 표기한다\n",
    "- 슬라이스의 길이는 배열과 다르게 자료형에 포함하지 않는다."
   ]
  },
  {
   "cell_type": "code",
   "execution_count": 15,
   "id": "1d346afd",
   "metadata": {},
   "outputs": [
    {
     "name": "stdout",
     "output_type": "stream",
     "text": [
      "0\n",
      "0.707\n",
      "1\n",
      "0.707\n"
     ]
    }
   ],
   "source": [
    "let v: Vec<f64> = vec![0.0, 0.707, 1.0, 0.707];\n",
    "let a: [f64; 4] = [0.0, -0.707, -1.0, -0.707];\n",
    "\n",
    "fn print(n: &[f64]) { \n",
    "    for elt in n{\n",
    "            println!(\"{}\", elt);\n",
    "        }\n",
    "}\n",
    "print(&v); // works on vectors\n"
   ]
  },
  {
   "cell_type": "code",
   "execution_count": 16,
   "id": "c5fa04af",
   "metadata": {},
   "outputs": [
    {
     "name": "stdout",
     "output_type": "stream",
     "text": [
      "0\n",
      "-0.707\n",
      "-1\n",
      "-0.707\n"
     ]
    }
   ],
   "source": [
    "print(&a); // works on arrays"
   ]
  },
  {
   "cell_type": "markdown",
   "id": "04f8137e",
   "metadata": {},
   "source": [
    "### 참조는 슬라이스로 전달이 가능하다"
   ]
  },
  {
   "cell_type": "code",
   "execution_count": 31,
   "id": "73d3eb35",
   "metadata": {},
   "outputs": [
    {
     "name": "stdout",
     "output_type": "stream",
     "text": [
      "0\n",
      "0.707\n"
     ]
    }
   ],
   "source": [
    "print(&v[0..2]);  // print the first two elements of v"
   ]
  },
  {
   "cell_type": "code",
   "execution_count": 33,
   "id": "0ab7cc24",
   "metadata": {},
   "outputs": [
    {
     "name": "stdout",
     "output_type": "stream",
     "text": [
      "-1\n",
      "-0.707\n"
     ]
    }
   ],
   "source": [
    "print(&a[2..]);  // print elements of a starting with a[2]"
   ]
  },
  {
   "cell_type": "code",
   "execution_count": 32,
   "id": "e6d15e69",
   "metadata": {},
   "outputs": [
    {
     "name": "stdout",
     "output_type": "stream",
     "text": [
      "0.707\n",
      "1\n"
     ]
    }
   ],
   "source": [
    "print(&v[1..3]);  // print v[1] and v[2]"
   ]
  },
  {
   "cell_type": "code",
   "execution_count": null,
   "id": "eb3aaeb6",
   "metadata": {},
   "outputs": [],
   "source": []
  },
  {
   "cell_type": "code",
   "execution_count": null,
   "id": "792eeae4",
   "metadata": {},
   "outputs": [],
   "source": []
  },
  {
   "cell_type": "markdown",
   "id": "7e634788",
   "metadata": {},
   "source": [
    "## 슬라이스 복사\n",
    "\n",
    "-  원본 데이터의 소유권이 이전되므로, 슬라이스의 원본 데이터가 변경되면 새로운 벡터도 변경됩니다."
   ]
  },
  {
   "cell_type": "code",
   "execution_count": 3,
   "id": "a39ca721",
   "metadata": {},
   "outputs": [],
   "source": [
    "fn main() {\n",
    "    let slice = &[1, 2, 3];\n",
    "    let vector: Vec<i32> = slice.to_vec();\n",
    "    \n",
    "    println!(\" copy = {:?}\", vector);\n",
    "}\n"
   ]
  },
  {
   "cell_type": "code",
   "execution_count": 4,
   "id": "21613994",
   "metadata": {},
   "outputs": [
    {
     "name": "stdout",
     "output_type": "stream",
     "text": [
      " copy = [1, 2, 3]\n"
     ]
    }
   ],
   "source": [
    "main();"
   ]
  },
  {
   "cell_type": "markdown",
   "id": "06e49596",
   "metadata": {},
   "source": [
    "### 고정형 슬라이스를 배열로 변환하기 "
   ]
  },
  {
   "cell_type": "code",
   "execution_count": 14,
   "id": "996d0a3c",
   "metadata": {},
   "outputs": [],
   "source": [
    "fn main() {\n",
    "    let slice = &[1, 2, 3];\n",
    "    let array: [i32; 3] = (*slice).try_into().unwrap();\n",
    "    \n",
    "    println!(\" array = {:?}\", array);\n",
    "}"
   ]
  },
  {
   "cell_type": "code",
   "execution_count": 15,
   "id": "98ac5064",
   "metadata": {},
   "outputs": [
    {
     "name": "stdout",
     "output_type": "stream",
     "text": [
      " array = [1, 2, 3]\n"
     ]
    }
   ],
   "source": [
    "main();"
   ]
  },
  {
   "cell_type": "markdown",
   "id": "a0b91b93",
   "metadata": {},
   "source": [
    "### 가변형 슬라이스를 배열처럼 처리하기 "
   ]
  },
  {
   "cell_type": "code",
   "execution_count": 17,
   "id": "dc44c44a",
   "metadata": {},
   "outputs": [],
   "source": [
    "fn main() {\n",
    "    let slice = &[1, 2, 3];\n",
    "    let boxed_slice: Box<[i32]> = slice.to_vec().into_boxed_slice();\n",
    "    \n",
    "    println!(\" \");\n",
    "    let array: &[i32] = &*boxed_slice;\n",
    "    println!(\" array = {:?}\", array);\n",
    "}"
   ]
  },
  {
   "cell_type": "code",
   "execution_count": 18,
   "id": "673c6d59",
   "metadata": {},
   "outputs": [
    {
     "name": "stdout",
     "output_type": "stream",
     "text": [
      " \n",
      " array = [1, 2, 3]\n"
     ]
    }
   ],
   "source": [
    "main();"
   ]
  },
  {
   "cell_type": "code",
   "execution_count": null,
   "id": "e5b0f19a",
   "metadata": {},
   "outputs": [],
   "source": []
  }
 ],
 "metadata": {
  "kernelspec": {
   "display_name": "Rust",
   "language": "rust",
   "name": "rust"
  },
  "language_info": {
   "codemirror_mode": "rust",
   "file_extension": ".rs",
   "mimetype": "text/rust",
   "name": "Rust",
   "pygment_lexer": "rust",
   "version": ""
  }
 },
 "nbformat": 4,
 "nbformat_minor": 5
}
