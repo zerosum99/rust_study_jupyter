{
 "cells": [
  {
   "cell_type": "markdown",
   "id": "711fdeb0",
   "metadata": {},
   "source": [
    "## 문자 \n",
    "\n",
    "- 는 일단 u8 => char로 처리"
   ]
  },
  {
   "cell_type": "code",
   "execution_count": 3,
   "id": "a78ebf0b",
   "metadata": {},
   "outputs": [],
   "source": [
    "let s : u8 = 61 ;"
   ]
  },
  {
   "cell_type": "code",
   "execution_count": 6,
   "id": "4c70841a",
   "metadata": {},
   "outputs": [
    {
     "name": "stdout",
     "output_type": "stream",
     "text": [
      "61\n"
     ]
    }
   ],
   "source": [
    "println!(\"{s}\");"
   ]
  },
  {
   "cell_type": "code",
   "execution_count": null,
   "id": "885fe28a",
   "metadata": {},
   "outputs": [],
   "source": [
    "let c = s as char"
   ]
  },
  {
   "cell_type": "code",
   "execution_count": null,
   "id": "f32dd1a7",
   "metadata": {},
   "outputs": [],
   "source": []
  },
  {
   "cell_type": "code",
   "execution_count": null,
   "id": "5bd1e987",
   "metadata": {},
   "outputs": [],
   "source": []
  },
  {
   "cell_type": "code",
   "execution_count": null,
   "id": "6f8a0ce4",
   "metadata": {},
   "outputs": [],
   "source": []
  },
  {
   "cell_type": "code",
   "execution_count": 2,
   "id": "ccccf830",
   "metadata": {},
   "outputs": [
    {
     "ename": "Error",
     "evalue": "only `u8` can be cast as `char`, not `i32`",
     "output_type": "error",
     "traceback": [
      "    println!(\"{}\", my_number as char); // ⚠️",
      "\u001b[91m                   ^^^^^^^^^^^^^^^^^\u001b[0m \u001b[94minvalid cast\u001b[0m",
      "only `u8` can be cast as `char`, not `i32`",
      "\u001b[1mhelp\u001b[0m: try `char::from_u32` instead (via a `u32`)"
     ]
    }
   ],
   "source": [
    "fn main() { // main() is where Rust programs start to run. Code goes inside {} (curly brackets)\n",
    "\n",
    "    let my_number = 100; // We didn't write a type of integer,\n",
    "                         // so Rust chooses i32. Rust always\n",
    "                         // chooses i32 for integers if you don't\n",
    "                         // tell it to use a different type\n",
    "\n",
    "    println!(\"{}\", my_number as char); // ⚠️\n",
    "}"
   ]
  },
  {
   "cell_type": "markdown",
   "id": "47d76a08",
   "metadata": {},
   "source": [
    "## 그래서 숫자를 u8로 변환 후에 char로 변환"
   ]
  },
  {
   "cell_type": "code",
   "execution_count": 9,
   "id": "79aeb165",
   "metadata": {},
   "outputs": [],
   "source": [
    "fn main() { // main() is where Rust programs start to run. Code goes inside {} (curly brackets)\n",
    "\n",
    "    let my_number = 100; // We didn't write a type of integer,\n",
    "                         // so Rust chooses i32. Rust always\n",
    "                         // chooses i32 for integers if you don't\n",
    "                         // tell it to use a different type\n",
    "\n",
    "    println!(\"{}\", my_number as u8 as char ); // ⚠️\n",
    "}"
   ]
  },
  {
   "cell_type": "code",
   "execution_count": 6,
   "id": "faade815",
   "metadata": {},
   "outputs": [
    {
     "name": "stdout",
     "output_type": "stream",
     "text": [
      "d\n"
     ]
    },
    {
     "data": {
      "text/plain": [
       "()"
      ]
     },
     "execution_count": 6,
     "metadata": {},
     "output_type": "execute_result"
    }
   ],
   "source": [
    "main()"
   ]
  },
  {
   "cell_type": "markdown",
   "id": "0e3e0b17",
   "metadata": {},
   "source": [
    "## 유니코드로 처리할 때는 u32로 처리 \n",
    "\n",
    "- 출력할 때는 :? 로 처리 "
   ]
  },
  {
   "cell_type": "code",
   "execution_count": 41,
   "id": "29da14af",
   "metadata": {},
   "outputs": [],
   "source": [
    "\n",
    "fn main() { // main() is where Rust programs start to run. Code goes inside {} (curly brackets)\n",
    "\n",
    "    let my_number = 54620 ; // We didn't write a type of integer,\n",
    "                         // so Rust chooses i32. Rust always\n",
    "                         // chooses i32 for integers if you don't\n",
    "                         // tell it to use a different type\n",
    "\n",
    "    println!(\"{:?}\", char::from_u32(my_number) ); // `Option<char>` doesn't implement `std::fmt::Display`\n",
    "}"
   ]
  },
  {
   "cell_type": "code",
   "execution_count": 42,
   "id": "8ce0355c",
   "metadata": {},
   "outputs": [
    {
     "name": "stdout",
     "output_type": "stream",
     "text": [
      "Some('한')\n"
     ]
    },
    {
     "data": {
      "text/plain": [
       "()"
      ]
     },
     "execution_count": 42,
     "metadata": {},
     "output_type": "execute_result"
    }
   ],
   "source": [
    "main()"
   ]
  },
  {
   "cell_type": "markdown",
   "id": "8b1ef6ad",
   "metadata": {},
   "source": [
    "## 유니코드 처리 "
   ]
  },
  {
   "cell_type": "code",
   "execution_count": 43,
   "id": "1c8c2159",
   "metadata": {},
   "outputs": [],
   "source": [
    "let a =  '\\u{D55C}';"
   ]
  },
  {
   "cell_type": "code",
   "execution_count": 44,
   "id": "566fe91a",
   "metadata": {},
   "outputs": [
    {
     "data": {
      "text/plain": [
       "'한'"
      ]
     },
     "execution_count": 44,
     "metadata": {},
     "output_type": "execute_result"
    }
   ],
   "source": [
    "a"
   ]
  },
  {
   "cell_type": "code",
   "execution_count": 48,
   "id": "e08c24cc",
   "metadata": {},
   "outputs": [],
   "source": [
    "let b : u32 = 0xD55C;"
   ]
  },
  {
   "cell_type": "code",
   "execution_count": 50,
   "id": "1f7022a2",
   "metadata": {},
   "outputs": [
    {
     "data": {
      "text/plain": [
       "Some('한')"
      ]
     },
     "execution_count": 50,
     "metadata": {},
     "output_type": "execute_result"
    }
   ],
   "source": [
    "char::from_u32(b)"
   ]
  },
  {
   "cell_type": "code",
   "execution_count": null,
   "id": "9c88a392",
   "metadata": {},
   "outputs": [],
   "source": []
  },
  {
   "cell_type": "markdown",
   "id": "01a7aba0",
   "metadata": {},
   "source": [
    "## 메모리의 길이 확인 "
   ]
  },
  {
   "cell_type": "code",
   "execution_count": 53,
   "id": "485b7676",
   "metadata": {},
   "outputs": [],
   "source": [
    "fn main() {\n",
    "    println!(\"Size of a char: {}\", std::mem::size_of::<char>());\n",
    "    println!(\"Size of a u8: {}\", std::mem::size_of::<u8>());\n",
    "}"
   ]
  },
  {
   "cell_type": "code",
   "execution_count": 54,
   "id": "ea2db680",
   "metadata": {},
   "outputs": [
    {
     "name": "stdout",
     "output_type": "stream",
     "text": [
      "Size of a char: 4\n",
      "Size of a u8: 1\n"
     ]
    },
    {
     "data": {
      "text/plain": [
       "()"
      ]
     },
     "execution_count": 54,
     "metadata": {},
     "output_type": "execute_result"
    }
   ],
   "source": [
    "main()"
   ]
  },
  {
   "cell_type": "markdown",
   "id": "e6dadb10",
   "metadata": {},
   "source": [
    "## 문자열 구분"
   ]
  },
  {
   "cell_type": "code",
   "execution_count": 55,
   "id": "29696b41",
   "metadata": {},
   "outputs": [],
   "source": [
    "fn main() {\n",
    "    println!(\"Size of a char: {}\", std::mem::size_of::<char>()); // 4 bytes\n",
    "    println!(\"Size of string containing 'a': {}\", \"a\".len()); // .len() gives the size of the string in bytes\n",
    "    println!(\"Size of string containing 'ß': {}\", \"ß\".len());\n",
    "    println!(\"Size of string containing '国': {}\", \"国\".len());\n",
    "    println!(\"Size of string containing '𓅱': {}\", \"𓅱\".len());\n",
    "    println!(\"Size of string containing '한': {}\", \"한\".len());\n",
    "}"
   ]
  },
  {
   "cell_type": "code",
   "execution_count": 56,
   "id": "c5a624c0",
   "metadata": {},
   "outputs": [
    {
     "name": "stdout",
     "output_type": "stream",
     "text": [
      "Size of a char: 4\n",
      "Size of string containing 'a': 1\n",
      "Size of string containing 'ß': 2\n",
      "Size of string containing '国': 3\n",
      "Size of string containing '𓅱': 4\n",
      "Size of string containing '한': 3\n"
     ]
    },
    {
     "data": {
      "text/plain": [
       "()"
      ]
     },
     "execution_count": 56,
     "metadata": {},
     "output_type": "execute_result"
    }
   ],
   "source": [
    "main()"
   ]
  },
  {
   "cell_type": "code",
   "execution_count": null,
   "id": "be63c19f",
   "metadata": {},
   "outputs": [],
   "source": []
  }
 ],
 "metadata": {
  "kernelspec": {
   "display_name": "Rust",
   "language": "rust",
   "name": "rust"
  },
  "language_info": {
   "codemirror_mode": "rust",
   "file_extension": ".rs",
   "mimetype": "text/rust",
   "name": "Rust",
   "pygment_lexer": "rust",
   "version": ""
  }
 },
 "nbformat": 4,
 "nbformat_minor": 5
}
