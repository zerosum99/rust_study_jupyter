{
 "cells": [
  {
   "cell_type": "code",
   "execution_count": null,
   "id": "5a9626e1",
   "metadata": {},
   "outputs": [],
   "source": []
  },
  {
   "cell_type": "code",
   "execution_count": null,
   "id": "add193ca",
   "metadata": {},
   "outputs": [],
   "source": []
  },
  {
   "cell_type": "markdown",
   "id": "711fdeb0",
   "metadata": {},
   "source": [
    "## 1. 문자 \n",
    "\n",
    "- 는 일단 u8 => char로 처리"
   ]
  },
  {
   "cell_type": "code",
   "execution_count": 2,
   "id": "1a0d6a7f",
   "metadata": {},
   "outputs": [],
   "source": [
    "let s : u8 = 65 ;"
   ]
  },
  {
   "cell_type": "code",
   "execution_count": 3,
   "id": "46041a8c",
   "metadata": {},
   "outputs": [
    {
     "name": "stdout",
     "output_type": "stream",
     "text": [
      "65\n"
     ]
    }
   ],
   "source": [
    "println!(\"{s}\");"
   ]
  },
  {
   "cell_type": "markdown",
   "id": "5ddf7d90",
   "metadata": {},
   "source": [
    "### as 연산자는 프리미티브 타입만 가능\n",
    "\n",
    "- u8 타입 일 경우만 가능 "
   ]
  },
  {
   "cell_type": "code",
   "execution_count": 4,
   "id": "fbfab9bc",
   "metadata": {},
   "outputs": [],
   "source": [
    "let c = s as char;"
   ]
  },
  {
   "cell_type": "code",
   "execution_count": 5,
   "id": "deeaac78",
   "metadata": {},
   "outputs": [
    {
     "name": "stdout",
     "output_type": "stream",
     "text": [
      "A\n"
     ]
    }
   ],
   "source": [
    "println!(\"{c}\");"
   ]
  },
  {
   "cell_type": "code",
   "execution_count": null,
   "id": "2bc3391d",
   "metadata": {},
   "outputs": [],
   "source": []
  },
  {
   "cell_type": "code",
   "execution_count": 21,
   "id": "43a1f630",
   "metadata": {},
   "outputs": [],
   "source": [
    "fn main() { \n",
    "    let ch = std::char::from_u32(65);\n",
    "\n",
    "    match ch {\n",
    "        Some(c) => println!(\"char value is {}\", c),\n",
    "        None => println!(\"couldn't convert to char\"),\n",
    "    }\n",
    "    \n",
    "    \n",
    "    let ch = std::char::from_u32(0x10FFFF);\n",
    "\n",
    "    match ch {\n",
    "        Some(c) => println!(\"char value is {}\", c),\n",
    "        None => println!(\"couldn't convert to char\"),\n",
    "    }\n",
    "}"
   ]
  },
  {
   "cell_type": "code",
   "execution_count": 22,
   "id": "f459066c",
   "metadata": {},
   "outputs": [
    {
     "name": "stdout",
     "output_type": "stream",
     "text": [
      "char value is A\n",
      "char value is 􏿿\n"
     ]
    }
   ],
   "source": [
    "main();"
   ]
  },
  {
   "cell_type": "code",
   "execution_count": null,
   "id": "1b99f317",
   "metadata": {},
   "outputs": [],
   "source": []
  },
  {
   "cell_type": "markdown",
   "id": "687638b2",
   "metadata": {},
   "source": [
    "## 한글 처리 \n",
    "\n",
    "- 한글은 3바이트 기준으로 처리 : bytes 메서드로 변환하면 3 바이트로 생성\n",
    "- 그중에 take 메서도르 처리하면 특정 위치를 가져옴\n",
    "- collect 메서드로 처리하면 앞에 메서드 까지 처리한 결과를 가져옴 "
   ]
  },
  {
   "cell_type": "code",
   "execution_count": 26,
   "id": "a4fa88e1",
   "metadata": {},
   "outputs": [],
   "source": [
    "fn main() {\n",
    "    let a = \"가\".bytes();\n",
    "    println!(\" a bytes = {:?}\", a);\n",
    "    \n",
    "    let a = \"가\".bytes().take(1); \n",
    "    println!(\" a bytes take = {:?}\", a);\n",
    "    \n",
    "    let a = \"가\".bytes().take(1).collect::<Vec<u8>>();\n",
    "    println!(\" a= {:?}\", a);\n",
    "    \n",
    "}"
   ]
  },
  {
   "cell_type": "code",
   "execution_count": 27,
   "id": "53cc8dea",
   "metadata": {},
   "outputs": [
    {
     "name": "stdout",
     "output_type": "stream",
     "text": [
      " a bytes = Bytes(Copied { it: Iter([234, 176, 128]) })\n",
      " a bytes take = Take { iter: Bytes(Copied { it: Iter([234, 176, 128]) }), n: 1 }\n",
      " a= [234]\n"
     ]
    }
   ],
   "source": [
    "main();"
   ]
  },
  {
   "cell_type": "code",
   "execution_count": null,
   "id": "a385675d",
   "metadata": {},
   "outputs": [],
   "source": []
  },
  {
   "cell_type": "markdown",
   "id": "47d76a08",
   "metadata": {},
   "source": [
    "## 그래서 숫자를 u8로 변환 후에 char로 변환\n",
    "\n",
    "- 정수를 u8로 변환 후 다시  char로 변환해야 char 로 처리 "
   ]
  },
  {
   "cell_type": "code",
   "execution_count": 9,
   "id": "79aeb165",
   "metadata": {},
   "outputs": [],
   "source": [
    "fn main() { // main() is where Rust programs start to run. Code goes inside {} (curly brackets)\n",
    "\n",
    "    let my_number = 100;        // 정수 할당 \n",
    "\n",
    "    println!(\"{}\", my_number as u8 as char ); // ⚠️\n",
    "}"
   ]
  },
  {
   "cell_type": "code",
   "execution_count": 6,
   "id": "faade815",
   "metadata": {},
   "outputs": [
    {
     "name": "stdout",
     "output_type": "stream",
     "text": [
      "d\n"
     ]
    },
    {
     "data": {
      "text/plain": [
       "()"
      ]
     },
     "execution_count": 6,
     "metadata": {},
     "output_type": "execute_result"
    }
   ],
   "source": [
    "main()"
   ]
  },
  {
   "cell_type": "markdown",
   "id": "0e3e0b17",
   "metadata": {},
   "source": [
    "## 유니코드로 처리할 때는 u32로 처리 \n",
    "\n",
    "- 그래서 u32 숫자형은 별도의 연관함수인 from_u32를 제공한다.\n",
    "- 반환값은 Option으로 처리됨 출력할 때는 :? 로 처리 "
   ]
  },
  {
   "cell_type": "code",
   "execution_count": 41,
   "id": "29da14af",
   "metadata": {},
   "outputs": [],
   "source": [
    "fn main() { \n",
    "    \n",
    "    let my_number = 54620 ;                       // 숫자 입력 \n",
    "\n",
    "    println!(\"{:?}\", char::from_u32(my_number) ); // 문자로 변환후에 출력 \n",
    "}"
   ]
  },
  {
   "cell_type": "code",
   "execution_count": 42,
   "id": "8ce0355c",
   "metadata": {},
   "outputs": [
    {
     "name": "stdout",
     "output_type": "stream",
     "text": [
      "Some('한')\n"
     ]
    },
    {
     "data": {
      "text/plain": [
       "()"
      ]
     },
     "execution_count": 42,
     "metadata": {},
     "output_type": "execute_result"
    }
   ],
   "source": [
    "main()"
   ]
  },
  {
   "cell_type": "markdown",
   "id": "8b1ef6ad",
   "metadata": {},
   "source": [
    "## 유니코드 처리 "
   ]
  },
  {
   "cell_type": "code",
   "execution_count": 43,
   "id": "1c8c2159",
   "metadata": {},
   "outputs": [],
   "source": [
    "let a =  '\\u{D55C}';"
   ]
  },
  {
   "cell_type": "code",
   "execution_count": 44,
   "id": "566fe91a",
   "metadata": {},
   "outputs": [
    {
     "data": {
      "text/plain": [
       "'한'"
      ]
     },
     "execution_count": 44,
     "metadata": {},
     "output_type": "execute_result"
    }
   ],
   "source": [
    "a"
   ]
  },
  {
   "cell_type": "code",
   "execution_count": 48,
   "id": "e08c24cc",
   "metadata": {},
   "outputs": [],
   "source": [
    "let b : u32 = 0xD55C;"
   ]
  },
  {
   "cell_type": "code",
   "execution_count": 50,
   "id": "1f7022a2",
   "metadata": {},
   "outputs": [
    {
     "data": {
      "text/plain": [
       "Some('한')"
      ]
     },
     "execution_count": 50,
     "metadata": {},
     "output_type": "execute_result"
    }
   ],
   "source": [
    "char::from_u32(b)"
   ]
  },
  {
   "cell_type": "code",
   "execution_count": null,
   "id": "9c88a392",
   "metadata": {},
   "outputs": [],
   "source": []
  },
  {
   "cell_type": "markdown",
   "id": "01a7aba0",
   "metadata": {},
   "source": [
    "## 메모리의 길이 확인 "
   ]
  },
  {
   "cell_type": "code",
   "execution_count": 28,
   "id": "485b7676",
   "metadata": {},
   "outputs": [],
   "source": [
    "fn main() {\n",
    "    println!(\"Size of a char: {}\", \n",
    "        std::mem::size_of::<char>());\n",
    "    println!(\"Size of a u8: {}\", \n",
    "        std::mem::size_of::<u8>());\n",
    "}"
   ]
  },
  {
   "cell_type": "code",
   "execution_count": 29,
   "id": "ea2db680",
   "metadata": {},
   "outputs": [
    {
     "name": "stdout",
     "output_type": "stream",
     "text": [
      "Size of a char: 4\n",
      "Size of a u8: 1\n"
     ]
    },
    {
     "data": {
      "text/plain": [
       "()"
      ]
     },
     "execution_count": 29,
     "metadata": {},
     "output_type": "execute_result"
    }
   ],
   "source": [
    "main()"
   ]
  },
  {
   "cell_type": "code",
   "execution_count": 55,
   "id": "29696b41",
   "metadata": {},
   "outputs": [],
   "source": [
    "fn main() {\n",
    "    println!(\"Size of a char: {}\", std::mem::size_of::<char>()); // 4 bytes\n",
    "    println!(\"Size of string containing 'a': {}\", \"a\".len()); // .len() gives the size of the string in bytes\n",
    "    println!(\"Size of string containing 'ß': {}\", \"ß\".len());\n",
    "    println!(\"Size of string containing '国': {}\", \"国\".len());\n",
    "    println!(\"Size of string containing '𓅱': {}\", \"𓅱\".len());\n",
    "    println!(\"Size of string containing '한': {}\", \"한\".len());\n",
    "}"
   ]
  },
  {
   "cell_type": "code",
   "execution_count": 56,
   "id": "c5a624c0",
   "metadata": {},
   "outputs": [
    {
     "name": "stdout",
     "output_type": "stream",
     "text": [
      "Size of a char: 4\n",
      "Size of string containing 'a': 1\n",
      "Size of string containing 'ß': 2\n",
      "Size of string containing '国': 3\n",
      "Size of string containing '𓅱': 4\n",
      "Size of string containing '한': 3\n"
     ]
    },
    {
     "data": {
      "text/plain": [
       "()"
      ]
     },
     "execution_count": 56,
     "metadata": {},
     "output_type": "execute_result"
    }
   ],
   "source": [
    "main()"
   ]
  },
  {
   "cell_type": "code",
   "execution_count": null,
   "id": "be63c19f",
   "metadata": {},
   "outputs": [],
   "source": []
  },
  {
   "cell_type": "code",
   "execution_count": null,
   "id": "fb17a23c",
   "metadata": {},
   "outputs": [],
   "source": []
  },
  {
   "cell_type": "markdown",
   "id": "60360c81",
   "metadata": {},
   "source": [
    "## 메서드 \n",
    "\n",
    "- is_digit(): 문자가 10진수 숫자인지 여부를 확인합니다.\n",
    "- is_alphanumeric(): 문자가 영숫자 문자인지 여부를 확인합니다.\n",
    "- is_ascii(): 문자가 ASCII 문자인지 여부를 확인합니다.\n",
    "- is_lowercase(): 문자가 소문자인지 여부를 확인합니다.\n",
    "- is_uppercase(): 문자가 대문자인지 여부를 확인합니다.\n",
    "- to_lowercase(): 문자의 소문자 버전을 반환합니다.\n",
    "- to_uppercase(): 문자의 대문자 버전을 반환합니다.\n",
    "- escape_unicode(): 유니코드 이스케이프 시퀀스(\\u{})를 사용하여 문자를 이스케이프합니다.\n",
    "- len_utf8(): 문자의 UTF-8 인코딩 된 길이를 반환합니다.\n",
    "- len_utf16(): 문자의 UTF-16 인코딩 된 길이를 반환합니다.\n",
    "- encode_utf8(): 문자의 UTF-8 인코딩 된 시퀀스를 반환합니다.\n",
    "- encode_utf16(): 문자의 UTF-16 인코딩 된 시퀀스를 반환합니다."
   ]
  },
  {
   "cell_type": "code",
   "execution_count": 31,
   "id": "b379b53b",
   "metadata": {},
   "outputs": [],
   "source": [
    "fn main() {\n",
    "    let ch = 'A';\n",
    "\n",
    "    // 문자가 10진수 숫자인지 확인하기\n",
    "    println!(\"is_digit: {}\", ch.is_digit(10));\n",
    "\n",
    "    // 문자가 영숫자 문자인지 확인하기\n",
    "    println!(\"is_alphanumeric: {}\", ch.is_alphanumeric());\n",
    "\n",
    "    // 문자가 ASCII 문자인지 확인하기\n",
    "    println!(\"is_ascii: {}\", ch.is_ascii());\n",
    "\n",
    "    // 문자가 소문자인지 확인하기\n",
    "    println!(\"is_lowercase: {}\", ch.is_lowercase());\n",
    "\n",
    "    // 문자가 대문자인지 확인하기\n",
    "    println!(\"is_uppercase: {}\", ch.is_uppercase());\n",
    "\n",
    "    // 문자의 소문자 버전 가져오기\n",
    "    println!(\"to_lowercase: {}\", ch.to_lowercase());\n",
    "\n",
    "    // 문자의 대문자 버전 가져오기\n",
    "    println!(\"to_uppercase: {}\", ch.to_uppercase());\n",
    "\n",
    "    // 유니코드 이스케이프 시퀀스를 사용하여 이스케이핑하기\n",
    "    println!(\"escape_unicode: {}\", ch.escape_unicode());\n",
    "\n",
    "    // UTF-8로 인코딩된 문자의 길이 가져오기\n",
    "    println!(\"len_utf8: {}\", ch.len_utf8());\n",
    "\n",
    "    // UTF-16으로 인코딩된 문자의 길이 가져오기\n",
    "    println!(\"len_utf16: {}\", ch.len_utf16());\n",
    "}"
   ]
  },
  {
   "cell_type": "code",
   "execution_count": 32,
   "id": "c2655d08",
   "metadata": {},
   "outputs": [
    {
     "name": "stdout",
     "output_type": "stream",
     "text": [
      "is_digit: false\n",
      "is_alphanumeric: true\n",
      "is_ascii: true\n",
      "is_uppercase: true\n",
      "is_lowercase: false\n",
      "to_lowercase: a\n",
      "to_uppercase: A\n",
      "escape_unicode: \\u{41}\n",
      "len_utf8: 1\n",
      "len_utf16: 1\n"
     ]
    }
   ],
   "source": [
    "main();"
   ]
  },
  {
   "cell_type": "code",
   "execution_count": null,
   "id": "fe7cd4b3",
   "metadata": {},
   "outputs": [],
   "source": []
  },
  {
   "cell_type": "code",
   "execution_count": 41,
   "id": "fcd11697",
   "metadata": {},
   "outputs": [],
   "source": [
    "fn main() {\n",
    "    let mut b = [0; 2];\n",
    "\n",
    "    let result = 'ß'.encode_utf8(&mut b);\n",
    "\n",
    "    assert_eq!(result, \"ß\");\n",
    "\n",
    "    assert_eq!(result.len(), 2);\n",
    "}"
   ]
  },
  {
   "cell_type": "code",
   "execution_count": 42,
   "id": "ffa546df",
   "metadata": {},
   "outputs": [],
   "source": [
    "main();"
   ]
  },
  {
   "cell_type": "code",
   "execution_count": null,
   "id": "bdc10453",
   "metadata": {},
   "outputs": [],
   "source": []
  },
  {
   "cell_type": "code",
   "execution_count": 57,
   "id": "e61f1ae4",
   "metadata": {},
   "outputs": [],
   "source": [
    "fn main() {\n",
    "    let ch = '😊'; // 이모지 문자\n",
    "\n",
    "    // 문자를 UTF-8 인코딩된 시퀀스로 변환하여 출력하기\n",
    "    let mut b = [0; 4];\n",
    "   \n",
    "    println!(\"{:?} \", ch.encode_utf8(&mut b));\n",
    "\n",
    "}"
   ]
  },
  {
   "cell_type": "code",
   "execution_count": 58,
   "id": "58003cdf",
   "metadata": {},
   "outputs": [
    {
     "name": "stdout",
     "output_type": "stream",
     "text": [
      "\"😊\" \n"
     ]
    }
   ],
   "source": [
    "main();"
   ]
  },
  {
   "cell_type": "code",
   "execution_count": null,
   "id": "9d980c36",
   "metadata": {},
   "outputs": [],
   "source": []
  },
  {
   "cell_type": "code",
   "execution_count": 48,
   "id": "7ad313a0",
   "metadata": {},
   "outputs": [],
   "source": [
    "\n",
    "fn main() {\n",
    "    \n",
    "    let mut ch = 'A';\n",
    "    let mut b = [0; 2];\n",
    "    let cc = ch.encode_utf8(&mut b);\n",
    "    \n",
    "    println!(\"encode_utf8: {:?}\", cc);\n",
    "\n",
    "    // UTF-16으로 인코딩된 문자의 시퀀스 가져오기\n",
    "    let mut bc = [0; 2];\n",
    "    let ccc = ch.encode_utf8(&mut bc);\n",
    "    println!(\"encode_utf16: {:?}\", ccc);\n",
    "}"
   ]
  },
  {
   "cell_type": "code",
   "execution_count": 49,
   "id": "fb324b3b",
   "metadata": {},
   "outputs": [
    {
     "name": "stdout",
     "output_type": "stream",
     "text": [
      "encode_utf8: \"A\"\n",
      "encode_utf16: \"A\"\n"
     ]
    }
   ],
   "source": [
    "main();"
   ]
  },
  {
   "cell_type": "code",
   "execution_count": null,
   "id": "e95f6250",
   "metadata": {},
   "outputs": [],
   "source": []
  }
 ],
 "metadata": {
  "kernelspec": {
   "display_name": "Rust",
   "language": "rust",
   "name": "rust"
  },
  "language_info": {
   "codemirror_mode": "rust",
   "file_extension": ".rs",
   "mimetype": "text/rust",
   "name": "Rust",
   "pygment_lexer": "rust",
   "version": ""
  }
 },
 "nbformat": 4,
 "nbformat_minor": 5
}
