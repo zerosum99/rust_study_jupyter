{
 "cells": [
  {
   "cell_type": "code",
   "execution_count": null,
   "id": "3675aa65",
   "metadata": {},
   "outputs": [],
   "source": []
  },
  {
   "cell_type": "code",
   "execution_count": null,
   "id": "5e2c8032",
   "metadata": {},
   "outputs": [],
   "source": []
  },
  {
   "cell_type": "markdown",
   "id": "e4fe08d8",
   "metadata": {},
   "source": [
    "## &str과 &String은 모두 문자열을 참조하는 참조자(reference).\n",
    "\n",
    "### &str\n",
    "- &str은 문자열의 슬라이스(slice)를 나타내며, 문자열의 길이와 문자열 내용에 대한 포인터를 가지고 있습니다. \n",
    "\n",
    "### &String\n",
    "- &String은 String 타입의 값의 참조자입니다."
   ]
  },
  {
   "cell_type": "markdown",
   "id": "03358cb4",
   "metadata": {},
   "source": [
    "## 1. 함수의 매개변수 타입을 문자열리터럴로 지정\n",
    "\n",
    "- 문자열리터럴은 문자열슬라이스이다.\n",
    "- 그래서 문자열을 참조한 것도 문자열슬라이스로 바로 처리가 가능하다.\n"
   ]
  },
  {
   "cell_type": "code",
   "execution_count": 2,
   "id": "f7c94a42",
   "metadata": {},
   "outputs": [],
   "source": [
    "fn print_string(s: &str) {\n",
    "    println!(\"{}\", s);\n",
    "}"
   ]
  },
  {
   "cell_type": "code",
   "execution_count": 3,
   "id": "3ca93927",
   "metadata": {},
   "outputs": [],
   "source": [
    "let s = \"문자열\".to_string();"
   ]
  },
  {
   "cell_type": "code",
   "execution_count": 4,
   "id": "642c0331",
   "metadata": {},
   "outputs": [
    {
     "name": "stdout",
     "output_type": "stream",
     "text": [
      "문자열\n"
     ]
    }
   ],
   "source": [
    "print_string(&s);"
   ]
  },
  {
   "cell_type": "code",
   "execution_count": 5,
   "id": "d264dea6",
   "metadata": {},
   "outputs": [
    {
     "name": "stdout",
     "output_type": "stream",
     "text": [
      "문자열리터럴\n"
     ]
    }
   ],
   "source": [
    "print_string(\"문자열리터럴\");"
   ]
  },
  {
   "cell_type": "code",
   "execution_count": null,
   "id": "ba71d994",
   "metadata": {},
   "outputs": [],
   "source": []
  },
  {
   "cell_type": "markdown",
   "id": "e384a160",
   "metadata": {},
   "source": [
    "## 2. 문자열 참조로 갱신하기 "
   ]
  },
  {
   "cell_type": "code",
   "execution_count": 6,
   "id": "2c30ba87",
   "metadata": {},
   "outputs": [],
   "source": [
    "fn append_hello(s: &mut String) {\n",
    "    s.push_str(\", hello\");\n",
    "}\n",
    "\n",
    "fn main() {\n",
    "    let mut s = String::from(\"world\");\n",
    "    append_hello(&mut s);\n",
    "    println!(\"{}\", s); // \"world, hello\" 출력\n",
    "}"
   ]
  },
  {
   "cell_type": "code",
   "execution_count": 7,
   "id": "6fed4a21",
   "metadata": {},
   "outputs": [
    {
     "name": "stdout",
     "output_type": "stream",
     "text": [
      "world, hello\n"
     ]
    }
   ],
   "source": [
    "main();"
   ]
  },
  {
   "cell_type": "code",
   "execution_count": null,
   "id": "d292e61d",
   "metadata": {},
   "outputs": [],
   "source": []
  }
 ],
 "metadata": {
  "kernelspec": {
   "display_name": "Rust",
   "language": "rust",
   "name": "rust"
  },
  "language_info": {
   "codemirror_mode": "rust",
   "file_extension": ".rs",
   "mimetype": "text/rust",
   "name": "Rust",
   "pygment_lexer": "rust",
   "version": ""
  }
 },
 "nbformat": 4,
 "nbformat_minor": 5
}
