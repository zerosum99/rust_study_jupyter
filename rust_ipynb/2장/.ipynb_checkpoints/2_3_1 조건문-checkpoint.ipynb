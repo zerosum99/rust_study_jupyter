{
 "cells": [
  {
   "cell_type": "markdown",
   "id": "28d5f681",
   "metadata": {},
   "source": [
    "## 조건문 \n",
    "\n",
    "- 특정 조건식이 만족할 경우 처리한다. 특정 로직의 분기 처리를 수행한다.\n",
    "- 조건식의 결과는 항상 논리값으로만 평가되어야 된다.\n",
    "- 논리값도 변수에 할당하는 표현식으로 사용된다. \n"
   ]
  },
  {
   "cell_type": "markdown",
   "id": "8dd70d0d",
   "metadata": {},
   "source": [
    "### 단일 if 문..\n",
    "- 항상 참인 경우만 체클 할 때 사용 "
   ]
  },
  {
   "cell_type": "code",
   "execution_count": 6,
   "id": "37e74d0d",
   "metadata": {},
   "outputs": [],
   "source": [
    "fn main() {\n",
    "    let number = 3;\n",
    "\n",
    "    if number == 3 {\n",
    "        println!(\" 동일한 결과일 경우 \");\n",
    "    }\n",
    "}"
   ]
  },
  {
   "cell_type": "markdown",
   "id": "d1b2c697",
   "metadata": {},
   "source": [
    "###  조건식일 때는 항상 논리값을 결과로 처리"
   ]
  },
  {
   "cell_type": "code",
   "execution_count": 3,
   "id": "b2766b4a",
   "metadata": {},
   "outputs": [
    {
     "ename": "Error",
     "evalue": "mismatched types",
     "output_type": "error",
     "traceback": [
      "    if number {",
      "\u001b[91m       ^^^^^^\u001b[0m \u001b[94mexpected `bool`, found integer\u001b[0m",
      "mismatched types"
     ]
    }
   ],
   "source": [
    "fn main() {\n",
    "    let number = 3;\n",
    "\n",
    "    if number {\n",
    "        println!(\"number was three\");\n",
    "    }\n",
    "}\n"
   ]
  },
  {
   "cell_type": "markdown",
   "id": "75927efb",
   "metadata": {},
   "source": [
    "### 단일 if else 문\n",
    "- 특정 조건식이 참과 거짓을 판단할 때 사용 "
   ]
  },
  {
   "cell_type": "code",
   "execution_count": 2,
   "id": "b6184cf7",
   "metadata": {},
   "outputs": [],
   "source": [
    "fn main() {\n",
    "    let number = 3;\n",
    "\n",
    "    if number < 5 {\n",
    "        println!(\"condition was true\");\n",
    "    } else {\n",
    "        println!(\"condition was false\");\n",
    "    }\n",
    "}"
   ]
  },
  {
   "cell_type": "code",
   "execution_count": 3,
   "id": "304f1f52",
   "metadata": {},
   "outputs": [
    {
     "name": "stdout",
     "output_type": "stream",
     "text": [
      "condition was true\n"
     ]
    },
    {
     "data": {
      "text/plain": [
       "()"
      ]
     },
     "execution_count": 3,
     "metadata": {},
     "output_type": "execute_result"
    }
   ],
   "source": [
    "main()"
   ]
  },
  {
   "cell_type": "markdown",
   "id": "b5dfa1b4",
   "metadata": {},
   "source": [
    "### 논리식 즉 특정값을 비교연산해서 참과 거짓으로 처리 "
   ]
  },
  {
   "cell_type": "code",
   "execution_count": 4,
   "id": "e520ebd0",
   "metadata": {},
   "outputs": [],
   "source": [
    "fn main() {\n",
    "    let number = 3;\n",
    "\n",
    "    if number != 0 {\n",
    "        println!(\"number was something other than zero\");\n",
    "    }\n",
    "}"
   ]
  },
  {
   "cell_type": "code",
   "execution_count": 5,
   "id": "8a425388",
   "metadata": {},
   "outputs": [
    {
     "name": "stdout",
     "output_type": "stream",
     "text": [
      "number was something other than zero\n"
     ]
    },
    {
     "data": {
      "text/plain": [
       "()"
      ]
     },
     "execution_count": 5,
     "metadata": {},
     "output_type": "execute_result"
    }
   ],
   "source": [
    "main()"
   ]
  },
  {
   "cell_type": "markdown",
   "id": "87169a26",
   "metadata": {},
   "source": [
    "## 복합 제어문\n",
    "\n",
    "- 조건식이 여러 개일 경우 else if를 추가해서 사용한다. "
   ]
  },
  {
   "cell_type": "code",
   "execution_count": 6,
   "id": "932cf64e",
   "metadata": {},
   "outputs": [],
   "source": [
    "fn main() {\n",
    "    let number = 6;\n",
    "\n",
    "    if number % 4 == 0 {\n",
    "        println!(\"number is divisible by 4\");\n",
    "    } else if number % 3 == 0 {\n",
    "        println!(\"number is divisible by 3\");\n",
    "    } else if number % 2 == 0 {\n",
    "        println!(\"number is divisible by 2\");\n",
    "    } else {\n",
    "        println!(\"number is not divisible by 4, 3, or 2\");\n",
    "    }\n",
    "}"
   ]
  },
  {
   "cell_type": "code",
   "execution_count": 7,
   "id": "0dd3cc24",
   "metadata": {},
   "outputs": [
    {
     "name": "stdout",
     "output_type": "stream",
     "text": [
      "number is divisible by 3\n"
     ]
    },
    {
     "data": {
      "text/plain": [
       "()"
      ]
     },
     "execution_count": 7,
     "metadata": {},
     "output_type": "execute_result"
    }
   ],
   "source": [
    "main()"
   ]
  },
  {
   "cell_type": "code",
   "execution_count": null,
   "id": "4b5a2fef",
   "metadata": {},
   "outputs": [],
   "source": []
  },
  {
   "cell_type": "markdown",
   "id": "eb46e039",
   "metadata": {},
   "source": [
    "### 조건표현식 처리하기\n",
    "\n",
    "- 조건의 결과를 변수에 할당할 수 있다. \n",
    "- 평가된 결과를 반환해야 하므로 참과 거짓의 결과가 값으로 반환되어야 한다. "
   ]
  },
  {
   "cell_type": "code",
   "execution_count": 7,
   "id": "fd0620df",
   "metadata": {},
   "outputs": [],
   "source": [
    "fn main() {\n",
    "    let condition = true;\n",
    "    let number = if condition {\n",
    "        5\n",
    "    } else {\n",
    "        6\n",
    "    };\n",
    "\n",
    "    println!(\" 반환된 값 : {}\", number);\n",
    "}"
   ]
  },
  {
   "cell_type": "code",
   "execution_count": 8,
   "id": "14f0a1ff",
   "metadata": {},
   "outputs": [
    {
     "name": "stdout",
     "output_type": "stream",
     "text": [
      " 반환된 값 : 5\n"
     ]
    },
    {
     "data": {
      "text/plain": [
       "()"
      ]
     },
     "execution_count": 8,
     "metadata": {},
     "output_type": "execute_result"
    }
   ],
   "source": [
    "main()"
   ]
  },
  {
   "cell_type": "code",
   "execution_count": null,
   "id": "20605942",
   "metadata": {},
   "outputs": [],
   "source": []
  },
  {
   "cell_type": "code",
   "execution_count": null,
   "id": "3035deb6",
   "metadata": {},
   "outputs": [],
   "source": []
  }
 ],
 "metadata": {
  "kernelspec": {
   "display_name": "Rust",
   "language": "rust",
   "name": "rust"
  },
  "language_info": {
   "codemirror_mode": "rust",
   "file_extension": ".rs",
   "mimetype": "text/rust",
   "name": "Rust",
   "pygment_lexer": "rust",
   "version": ""
  }
 },
 "nbformat": 4,
 "nbformat_minor": 5
}
