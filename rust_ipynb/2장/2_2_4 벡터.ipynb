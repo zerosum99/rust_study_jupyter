{
 "cells": [
  {
   "cell_type": "code",
   "execution_count": null,
   "id": "e467e0bc",
   "metadata": {},
   "outputs": [],
   "source": []
  },
  {
   "cell_type": "markdown",
   "id": "4ad5fa1c",
   "metadata": {},
   "source": [
    "## 벡터 \n",
    "\n",
    "- 간편 정의 vec! 매크로에 대괄호를 사용해서 벡터 인스턴스 생성\n",
    "- Vec::new 를 사용해서 벡터 인스턴스 생성 "
   ]
  },
  {
   "cell_type": "code",
   "execution_count": 13,
   "id": "2d17d461",
   "metadata": {},
   "outputs": [],
   "source": [
    "fn main() { \n",
    "\n",
    "    let v1 = vec![1, 2, 3];         // 매크로로 벡터 만들기 \n",
    "    println!(\" v1={:?}\", v1);\n",
    " \n",
    "    let v: Vec<i32> = Vec::new();   // 연관함수로 빈벡터 \n",
    "    println!(\" v={:?}\", v);\n",
    "}"
   ]
  },
  {
   "cell_type": "code",
   "execution_count": 14,
   "id": "a82ffaf8",
   "metadata": {},
   "outputs": [
    {
     "name": "stdout",
     "output_type": "stream",
     "text": [
      " v1=[1, 2, 3]\n",
      " v=[]\n"
     ]
    },
    {
     "data": {
      "text/plain": [
       "()"
      ]
     },
     "execution_count": 14,
     "metadata": {},
     "output_type": "execute_result"
    }
   ],
   "source": [
    "main()"
   ]
  },
  {
   "cell_type": "markdown",
   "id": "b9f73d12",
   "metadata": {},
   "source": [
    "### 벡터의 원소 추가 하기 \n",
    "\n",
    "- 벡터는 가변이므로 원소 갱신과 추가가 가능하다.\n",
    "- 빈 벡터를 만들고 메서드로 원소를 추가 삭제할 수 있다."
   ]
  },
  {
   "cell_type": "code",
   "execution_count": 17,
   "id": "052183c5",
   "metadata": {},
   "outputs": [],
   "source": [
    "fn main() {\n",
    "    let mut v = Vec::new();\n",
    "\n",
    "    v.push(5);\n",
    "    v.push(6);\n",
    "    v.push(7);\n",
    "    v.push(8);\n",
    "    println!(\" v={:?}\", v);\n",
    "    v.pop();\n",
    "    println!(\" v={:?}\", v);\n",
    "} "
   ]
  },
  {
   "cell_type": "code",
   "execution_count": 18,
   "id": "a6471b2c",
   "metadata": {},
   "outputs": [
    {
     "name": "stdout",
     "output_type": "stream",
     "text": [
      " v=[5, 6, 7, 8]\n",
      " v=[5, 6, 7]\n"
     ]
    },
    {
     "data": {
      "text/plain": [
       "()"
      ]
     },
     "execution_count": 18,
     "metadata": {},
     "output_type": "execute_result"
    }
   ],
   "source": [
    "main()"
   ]
  },
  {
   "cell_type": "code",
   "execution_count": null,
   "id": "f36011f1",
   "metadata": {},
   "outputs": [],
   "source": []
  },
  {
   "cell_type": "markdown",
   "id": "2b953192",
   "metadata": {},
   "source": [
    "### 스코프 이해하기 \n",
    "\n",
    "- 러스트는 블럭 내에 정의된 모든 인스턴스는 변수의 범위에 따라 수명을 종료한다. \n",
    "- 변수가 범위를 벗어나면 해제되므로 저장된 값도 사라진다. "
   ]
  },
  {
   "cell_type": "code",
   "execution_count": 20,
   "id": "99e8d38a",
   "metadata": {},
   "outputs": [],
   "source": [
    "{\n",
    "    let vv = vec![1, 2, 3, 4];\n",
    "\n",
    "    // vv를 가지고 뭔가 합니다\n",
    "\n",
    "} // <- vv가 스코프 밖으로 벗어났고, 여기서 해제됩니다"
   ]
  },
  {
   "cell_type": "code",
   "execution_count": 21,
   "id": "270f78c6",
   "metadata": {},
   "outputs": [
    {
     "ename": "Error",
     "evalue": "cannot find value `vv` in this scope",
     "output_type": "error",
     "traceback": [
      "\u001b[31m[E0425] Error:\u001b[0m cannot find value `vv` in this scope",
      "   \u001b[38;5;246m╭\u001b[0m\u001b[38;5;246m─\u001b[0m\u001b[38;5;246m[\u001b[0mcommand_21:1:1\u001b[38;5;246m]\u001b[0m",
      "   \u001b[38;5;246m│\u001b[0m",
      " \u001b[38;5;246m1 │\u001b[0m \u001b[38;5;54mv\u001b[0m\u001b[38;5;54mv\u001b[0m",
      " \u001b[38;5;246m  ·\u001b[0m \u001b[38;5;54m─\u001b[0m\u001b[38;5;54m┬\u001b[0m  ",
      " \u001b[38;5;246m  ·\u001b[0m  \u001b[38;5;54m╰\u001b[0m\u001b[38;5;54m─\u001b[0m\u001b[38;5;54m─\u001b[0m error: cannot find value `vv` in this scope",
      " \u001b[38;5;246m  ·\u001b[0m  \u001b[38;5;100m│\u001b[0m  ",
      " \u001b[38;5;246m  ·\u001b[0m  \u001b[38;5;100m╰\u001b[0m\u001b[38;5;100m─\u001b[0m\u001b[38;5;100m─\u001b[0m help: a local variable with a similar name exists: `v`",
      "\u001b[38;5;246m───╯\u001b[0m"
     ]
    }
   ],
   "source": [
    "vv"
   ]
  },
  {
   "cell_type": "code",
   "execution_count": null,
   "id": "e828aabc",
   "metadata": {},
   "outputs": [],
   "source": []
  },
  {
   "cell_type": "markdown",
   "id": "bf268ee4",
   "metadata": {},
   "source": [
    "### 벡터의 원소 검색 하기\n",
    "\n",
    "- 인덱스 검색연산자를 사용하거나 메서드 get으로 처리\n",
    "- get으로 처리할 경우 없을 경우는 None으로 반환 처리"
   ]
  },
  {
   "cell_type": "code",
   "execution_count": 26,
   "id": "41c2fdd0",
   "metadata": {},
   "outputs": [
    {
     "name": "stdout",
     "output_type": "stream",
     "text": [
      " third : 3\n",
      " third_1 : Some(3)\n"
     ]
    },
    {
     "data": {
      "text/plain": [
       "()"
      ]
     },
     "execution_count": 26,
     "metadata": {},
     "output_type": "execute_result"
    }
   ],
   "source": [
    "\n",
    "{\n",
    "    let v = vec![1, 2, 3, 4, 5];\n",
    "\n",
    "    let third: &i32 = &v[2];\n",
    "    println!(\" third : {}\", third);\n",
    "    let third_1: Option<&i32> = v.get(2);\n",
    "    println!(\" third_1 : {:?}\", third_1);\n",
    "}"
   ]
  },
  {
   "cell_type": "markdown",
   "id": "5886f1ce",
   "metadata": {},
   "source": [
    "### 인덱스 검색할 때 인덱스 범위가 벗어나면 예외를 발생한다. "
   ]
  },
  {
   "cell_type": "code",
   "execution_count": 27,
   "id": "12055cd8",
   "metadata": {},
   "outputs": [
    {
     "name": "stderr",
     "output_type": "stream",
     "text": [
      "thread '<unnamed>' panicked at 'index out of bounds: the len is 5 but the index is 100', src/lib.rs:134:27\n",
      "stack backtrace:\n",
      "   0: _rust_begin_unwind\n",
      "   1: core::panicking::panic_fmt\n",
      "   2: core::panicking::panic_bounds_check\n",
      "   3: <core::panic::unwind_safe::AssertUnwindSafe<F> as core::ops::function::FnOnce<()>>::call_once\n",
      "   4: _run_user_code_18\n",
      "   5: evcxr::runtime::Runtime::run_loop\n",
      "   6: evcxr::runtime::runtime_hook\n",
      "   7: evcxr_jupyter::main\n",
      "note: Some details are omitted, run with `RUST_BACKTRACE=full` for a verbose backtrace.\n"
     ]
    }
   ],
   "source": [
    "{\n",
    "    let v = vec![1, 2, 3, 4, 5];\n",
    "\n",
    "    let does_not_exist = &v[100];\n",
    "    let does_not_exist = v.get(100);\n",
    "}"
   ]
  },
  {
   "cell_type": "markdown",
   "id": "490a13f4",
   "metadata": {},
   "source": [
    "### 벡터의 타입 알아보기 \n",
    "- 외부 크레이트에 정의된 트레이트를 사용해서 자료형을 알아보기 "
   ]
  },
  {
   "cell_type": "code",
   "execution_count": 42,
   "id": "3ac41680",
   "metadata": {},
   "outputs": [],
   "source": [
    ":dep typename = \"0.1.2\""
   ]
  },
  {
   "cell_type": "code",
   "execution_count": 43,
   "id": "ba99dcf4",
   "metadata": {},
   "outputs": [],
   "source": [
    "use typename::TypeName;"
   ]
  },
  {
   "cell_type": "code",
   "execution_count": 44,
   "id": "a3a8dba8",
   "metadata": {},
   "outputs": [],
   "source": [
    "fn main() {\n",
    "    let mut v = vec![String::from(\"가을\"), String::from(\"나을\")];\n",
    "    println!(\"벡터 타입 : {}\", v.type_name_of());\n",
    "\n",
    "\n",
    "    v.push(\"다을\".to_string());\n",
    "    \n",
    "    let first = &v[0];\n",
    "    println!(\"first : {}\", first);\n",
    "}"
   ]
  },
  {
   "cell_type": "code",
   "execution_count": 45,
   "id": "6d5d9d95",
   "metadata": {},
   "outputs": [
    {
     "name": "stdout",
     "output_type": "stream",
     "text": [
      "벡터 타입 : std::vec::Vec<std::string::String>\n",
      "first : 가을\n"
     ]
    },
    {
     "data": {
      "text/plain": [
       "()"
      ]
     },
     "execution_count": 45,
     "metadata": {},
     "output_type": "execute_result"
    }
   ],
   "source": [
    "main()"
   ]
  },
  {
   "cell_type": "code",
   "execution_count": null,
   "id": "04660025",
   "metadata": {},
   "outputs": [],
   "source": []
  },
  {
   "cell_type": "markdown",
   "id": "a56f9c3a",
   "metadata": {},
   "source": [
    "### 벡터에 대한 변경 \n",
    "\n",
    "- 변경가능한 참조를 사용해서 벡터의 값을 변경 "
   ]
  },
  {
   "cell_type": "code",
   "execution_count": 46,
   "id": "25c7d4e1",
   "metadata": {},
   "outputs": [
    {
     "name": "stdout",
     "output_type": "stream",
     "text": [
      "100\n",
      "32\n",
      "57\n"
     ]
    },
    {
     "data": {
      "text/plain": [
       "()"
      ]
     },
     "execution_count": 46,
     "metadata": {},
     "output_type": "execute_result"
    }
   ],
   "source": [
    "let v = vec![100, 32, 57];\n",
    "for i in &v {\n",
    "    println!(\"{}\", i);\n",
    "}"
   ]
  },
  {
   "cell_type": "code",
   "execution_count": 48,
   "id": "13aeffa3",
   "metadata": {},
   "outputs": [
    {
     "name": "stdout",
     "output_type": "stream",
     "text": [
      " 벡터 : [150, 82, 107]\n"
     ]
    }
   ],
   "source": [
    "let mut v = vec![100, 32, 57];\n",
    "for i in &mut v {\n",
    "    *i += 50;\n",
    "}\n",
    "\n",
    "println!(\" 벡터 : {:?}\", v);"
   ]
  },
  {
   "cell_type": "code",
   "execution_count": null,
   "id": "2049a641",
   "metadata": {},
   "outputs": [],
   "source": []
  },
  {
   "cell_type": "markdown",
   "id": "15bf43ab",
   "metadata": {},
   "source": [
    "### 벡터를 그대로 순환하면 값이 이동이 발생한다. "
   ]
  },
  {
   "cell_type": "code",
   "execution_count": 49,
   "id": "4686cf49",
   "metadata": {},
   "outputs": [
    {
     "ename": "Error",
     "evalue": "borrow of moved value: `v2`",
     "output_type": "error",
     "traceback": [
      "for i in  v2 {",
      "\u001b[91m          ^^\u001b[0m \u001b[94m`v2` moved due to this implicit call to `.into_iter()`\u001b[0m",
      "println!(\" 벡터 : {:?}\", v2);",
      "\u001b[91m                       ^^\u001b[0m \u001b[94mvalue borrowed here after move\u001b[0m",
      "let mut v2 = vec![100, 32, 57];",
      "\u001b[91m    ^^^^^^\u001b[0m \u001b[94mmove occurs because `v2` has type `Vec<i32>`, which does not implement the `Copy` trait\u001b[0m",
      "borrow of moved value: `v2`",
      "\u001b[1mhelp\u001b[0m: consider iterating over a slice of the `Vec<i32>`'s content to avoid moving into the `for` loop\n\n&"
     ]
    }
   ],
   "source": [
    "let mut v2 = vec![100, 32, 57];\n",
    "for i in  v2 {\n",
    "    println!(\"{}\", i);\n",
    "}\n",
    "println!(\" 벡터 : {:?}\", v2);"
   ]
  },
  {
   "cell_type": "markdown",
   "id": "f9540bf0",
   "metadata": {},
   "source": [
    "### 참조를 사용하지 않고 백터를 순환하려면 반복자로 변환\n",
    "\n",
    "- 반복자로 변환하면 자동으로 참조가 된다. \n",
    "- 반복자를 만들어서 처리\n",
    "- 또한 인덱스와 값을 처리할 때는 iter().enumerate()까지 사용"
   ]
  },
  {
   "cell_type": "code",
   "execution_count": 11,
   "id": "510434fa",
   "metadata": {},
   "outputs": [],
   "source": [
    "fn main() { \n",
    "    let v1 = vec![1, 2, 3];\n",
    "    for val in v1.iter() {\n",
    "        println!(\"Got: {}\", val);\n",
    "    }\n",
    "    //  키와 값 쌍을 반환하므로 구조분해를 사용해서 처리 \n",
    "    for (ind,val) in v1.iter().enumerate() {\n",
    "        println!(\"index : {}, value : {}\", ind, val);\n",
    "    }\n",
    "}"
   ]
  },
  {
   "cell_type": "code",
   "execution_count": 12,
   "id": "253f6aab",
   "metadata": {},
   "outputs": [
    {
     "name": "stdout",
     "output_type": "stream",
     "text": [
      "Got: 1\n",
      "Got: 2\n",
      "Got: 3\n",
      "index : 0, value : 1\n",
      "index : 1, value : 2\n",
      "index : 2, value : 3\n"
     ]
    },
    {
     "data": {
      "text/plain": [
       "()"
      ]
     },
     "execution_count": 12,
     "metadata": {},
     "output_type": "execute_result"
    }
   ],
   "source": [
    "main()"
   ]
  },
  {
   "cell_type": "code",
   "execution_count": null,
   "id": "75f98f16",
   "metadata": {},
   "outputs": [],
   "source": []
  },
  {
   "cell_type": "code",
   "execution_count": null,
   "id": "ae5de477",
   "metadata": {},
   "outputs": [],
   "source": []
  },
  {
   "cell_type": "code",
   "execution_count": null,
   "id": "c1a301a2",
   "metadata": {},
   "outputs": [],
   "source": []
  }
 ],
 "metadata": {
  "kernelspec": {
   "display_name": "Rust",
   "language": "rust",
   "name": "rust"
  },
  "language_info": {
   "codemirror_mode": "rust",
   "file_extension": ".rs",
   "mimetype": "text/rust",
   "name": "Rust",
   "pygment_lexer": "rust",
   "version": ""
  }
 },
 "nbformat": 4,
 "nbformat_minor": 5
}
