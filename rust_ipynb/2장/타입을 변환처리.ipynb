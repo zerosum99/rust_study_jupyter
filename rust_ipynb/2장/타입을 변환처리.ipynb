{
 "cells": [
  {
   "cell_type": "code",
   "execution_count": null,
   "id": "b6182dc6",
   "metadata": {},
   "outputs": [],
   "source": []
  },
  {
   "cell_type": "markdown",
   "id": "854f3afd",
   "metadata": {},
   "source": [
    "## 문자열을 바이트로 변환"
   ]
  },
  {
   "cell_type": "code",
   "execution_count": 4,
   "id": "074a915c",
   "metadata": {},
   "outputs": [],
   "source": [
    "fn main() {\n",
    "    let s = String::from(\"hello\");\n",
    "    let v: Vec<u8> = s.into_bytes();\n",
    "    \n",
    "    println!(\" v = {:?}\", v);\n",
    "}"
   ]
  },
  {
   "cell_type": "code",
   "execution_count": 5,
   "id": "79e335a8",
   "metadata": {},
   "outputs": [
    {
     "data": {
      "text/plain": [
       "()"
      ]
     },
     "execution_count": 5,
     "metadata": {},
     "output_type": "execute_result"
    },
    {
     "name": "stdout",
     "output_type": "stream",
     "text": [
      " v = [104, 101, 108, 108, 111]\n"
     ]
    }
   ],
   "source": [
    "main()"
   ]
  },
  {
   "cell_type": "markdown",
   "id": "a2cfa902",
   "metadata": {},
   "source": [
    "## 문자열을 바이트로 변환"
   ]
  },
  {
   "cell_type": "code",
   "execution_count": 16,
   "id": "c48bf412",
   "metadata": {},
   "outputs": [],
   "source": [
    "use std::str;\n",
    "\n",
    "fn from<'a> (vec: &'a Vec<u8>) -> Result<&'a str, str::Utf8Error> {\n",
    "    str::from_utf8(vec)\n",
    "}"
   ]
  },
  {
   "cell_type": "code",
   "execution_count": 18,
   "id": "c3319940",
   "metadata": {},
   "outputs": [],
   "source": [
    "fn main() {\n",
    "    let vec = vec![104, 101, 108, 108, 111]; // \"hello\"의 UTF-8 인코딩\n",
    "    let result = from(&vec);\n",
    "    match result {\n",
    "        Ok(s) => println!(\"{}\", s),\n",
    "        Err(e) => println!(\"error: {}\", e),\n",
    "    }\n",
    "}"
   ]
  },
  {
   "cell_type": "code",
   "execution_count": 19,
   "id": "86238041",
   "metadata": {},
   "outputs": [
    {
     "name": "stdout",
     "output_type": "stream",
     "text": [
      "hello\n"
     ]
    }
   ],
   "source": [
    "main();"
   ]
  },
  {
   "cell_type": "code",
   "execution_count": null,
   "id": "7cb31bfc",
   "metadata": {},
   "outputs": [],
   "source": []
  },
  {
   "cell_type": "markdown",
   "id": "5ea21e4d",
   "metadata": {},
   "source": [
    "##  정수를 문자열로 변환하기 "
   ]
  },
  {
   "cell_type": "code",
   "execution_count": null,
   "id": "90e1f811",
   "metadata": {},
   "outputs": [],
   "source": []
  },
  {
   "cell_type": "code",
   "execution_count": 23,
   "id": "66820a7a",
   "metadata": {},
   "outputs": [],
   "source": [
    "fn to_string(value: i32) -> String {\n",
    "    value.to_string()\n",
    "}"
   ]
  },
  {
   "cell_type": "code",
   "execution_count": 26,
   "id": "9372e7f7",
   "metadata": {},
   "outputs": [],
   "source": [
    "fn main() {\n",
    "    let value = 123;\n",
    "    let result = to_string(value);\n",
    "    println!(\"문자열 = {}\", result);\n",
    "}"
   ]
  },
  {
   "cell_type": "code",
   "execution_count": 27,
   "id": "152a40db",
   "metadata": {},
   "outputs": [
    {
     "name": "stdout",
     "output_type": "stream",
     "text": [
      "문자열 = 123\n"
     ]
    }
   ],
   "source": [
    "main();"
   ]
  },
  {
   "cell_type": "code",
   "execution_count": null,
   "id": "1722320d",
   "metadata": {},
   "outputs": [],
   "source": []
  }
 ],
 "metadata": {
  "kernelspec": {
   "display_name": "Rust",
   "language": "rust",
   "name": "rust"
  },
  "language_info": {
   "codemirror_mode": "rust",
   "file_extension": ".rs",
   "mimetype": "text/rust",
   "name": "Rust",
   "pygment_lexer": "rust",
   "version": ""
  }
 },
 "nbformat": 4,
 "nbformat_minor": 5
}
