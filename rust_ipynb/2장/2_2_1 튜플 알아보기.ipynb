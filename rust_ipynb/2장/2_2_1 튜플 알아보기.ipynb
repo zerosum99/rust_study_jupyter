{
 "cells": [
  {
   "cell_type": "code",
   "execution_count": null,
   "id": "fc97b5b0",
   "metadata": {},
   "outputs": [],
   "source": []
  },
  {
   "cell_type": "markdown",
   "id": "72842b30",
   "metadata": {},
   "source": [
    "## 튜플 타입 알아보기\n",
    "\n",
    "\n",
    "\n",
    "- 배열과 마찬가지로 튜플은 고정 길이를 갖습니다.\n",
    "\n",
    "- 튜플은 서로 다른 타입의 값들을 하나의 복합 타입으로 묶습니다.\n",
    "\n",
    "- 튜플에 속한 값은 t.0, t.1과 같이 인덱스로 접근할 수 있습니다.\n",
    "\n",
    "- 비어있는 튜플()은 단위 타입(unit type)이라고도 합니다. 이는 타입이면서 해당 타입의 유일하며 유효한 값입니다. 즉 타입과 값이 모두 ()입니다. 예를 들어 함수나 식에서 반환 값이 없음을 나타낼 때 사용합니다.\n",
    "\n",
    "- 다른 언어에서 익숙한 void 개념으로 생각할 수 있습니다."
   ]
  },
  {
   "cell_type": "markdown",
   "id": "692296f4",
   "metadata": {},
   "source": [
    "### 외부 클레이트 로딩 및 트레이트 참조하기"
   ]
  },
  {
   "cell_type": "code",
   "execution_count": 2,
   "id": "54385fc1",
   "metadata": {},
   "outputs": [],
   "source": [
    ":dep typename = \"0.1.2\""
   ]
  },
  {
   "cell_type": "code",
   "execution_count": 3,
   "id": "3b319c4c",
   "metadata": {},
   "outputs": [],
   "source": [
    "use typename::TypeName;"
   ]
  },
  {
   "cell_type": "code",
   "execution_count": null,
   "id": "86c2041c",
   "metadata": {},
   "outputs": [],
   "source": []
  },
  {
   "cell_type": "markdown",
   "id": "ee699e93",
   "metadata": {},
   "source": [
    "## 1.  다양한 튜플 정의하기 \n",
    "\n",
    "- 아무것도 없는 튜플 : () (unit)\n",
    "- (f64, f64)\n",
    "- (String, i32)\n",
    "- (i32, String)  // 순서대로 타입을 지정\n",
    "- (i32, f64, Vec<String>, Option<bool>)"
   ]
  },
  {
   "cell_type": "code",
   "execution_count": null,
   "id": "a29c9a59",
   "metadata": {},
   "outputs": [],
   "source": []
  },
  {
   "cell_type": "markdown",
   "id": "dd222912",
   "metadata": {},
   "source": [
    "### 튜플의 타입을 알아보기\n",
    "\n",
    "- 튜플 리터럴은 괄호와 값을 쉼표로 분리 "
   ]
  },
  {
   "cell_type": "code",
   "execution_count": 4,
   "id": "b0052da4",
   "metadata": {},
   "outputs": [],
   "source": [
    "fn main() {\n",
    "    let tup = (1,2,3,4,5);  // 여러 원소를 나열해서 정의 \n",
    "    \n",
    "    println!(\" type = {}\", tup.type_name_of());\n",
    "}\n"
   ]
  },
  {
   "cell_type": "code",
   "execution_count": 5,
   "id": "2525edb8",
   "metadata": {},
   "outputs": [
    {
     "name": "stdout",
     "output_type": "stream",
     "text": [
      " type = (i32, i32, i32, i32, i32)\n"
     ]
    },
    {
     "data": {
      "text/plain": [
       "()"
      ]
     },
     "execution_count": 5,
     "metadata": {},
     "output_type": "execute_result"
    }
   ],
   "source": [
    "main()"
   ]
  },
  {
   "cell_type": "markdown",
   "id": "4a3d630f",
   "metadata": {},
   "source": [
    "### 튜플의 타입을 지정\n",
    "\n",
    "- 두 개의 원소를 가지는 튜플의 타입을 지정"
   ]
  },
  {
   "cell_type": "code",
   "execution_count": 2,
   "id": "fa921b83",
   "metadata": {},
   "outputs": [],
   "source": [
    "let t : (u16, i16) = (100,200);"
   ]
  },
  {
   "cell_type": "code",
   "execution_count": 3,
   "id": "d4fb06a9",
   "metadata": {},
   "outputs": [],
   "source": [
    "fn main() {\n",
    "    let t: (i8, bool) = (7, true);\n",
    "    println!(\"1st index: {}\", t.0);\n",
    "    println!(\"2nd index: {}\", t.1);\n",
    "}"
   ]
  },
  {
   "cell_type": "code",
   "execution_count": 4,
   "id": "8126a539",
   "metadata": {},
   "outputs": [
    {
     "name": "stdout",
     "output_type": "stream",
     "text": [
      "1st index: 7\n",
      "2nd index: true\n"
     ]
    }
   ],
   "source": [
    "main();"
   ]
  },
  {
   "cell_type": "markdown",
   "id": "98b472c7",
   "metadata": {},
   "source": [
    "## 2. 구조분해  및 인덱스 참조"
   ]
  },
  {
   "cell_type": "code",
   "execution_count": null,
   "id": "9ebb1b61",
   "metadata": {},
   "outputs": [],
   "source": []
  },
  {
   "cell_type": "markdown",
   "id": "9455681b",
   "metadata": {},
   "source": [
    "###  동일한 변수를 지정해서 튜플을 분리"
   ]
  },
  {
   "cell_type": "code",
   "execution_count": 15,
   "id": "83b8f84f",
   "metadata": {},
   "outputs": [],
   "source": [
    "let (a,b,c) = (10,20,30);"
   ]
  },
  {
   "cell_type": "code",
   "execution_count": 18,
   "id": "74e3c63c",
   "metadata": {},
   "outputs": [
    {
     "name": "stdout",
     "output_type": "stream",
     "text": [
      " a=10, b=20, c=30\n"
     ]
    }
   ],
   "source": [
    "println!(\" a={}, b={}, c={}\",a,b,c);"
   ]
  },
  {
   "cell_type": "markdown",
   "id": "e5e6dbd8",
   "metadata": {},
   "source": [
    "### 문자열 리터럴을 분리해서 튜플로 처리하기"
   ]
  },
  {
   "cell_type": "code",
   "execution_count": 22,
   "id": "5d4af4a5",
   "metadata": {},
   "outputs": [],
   "source": [
    "let text = \"I see the eigenvalue in thine eye\";\n",
    "let (head, tail) = text.split_at(21);"
   ]
  },
  {
   "cell_type": "code",
   "execution_count": 23,
   "id": "33e578ac",
   "metadata": {},
   "outputs": [
    {
     "data": {
      "text/plain": [
       "\"I see the eigenvalue \""
      ]
     },
     "execution_count": 23,
     "metadata": {},
     "output_type": "execute_result"
    }
   ],
   "source": [
    "head"
   ]
  },
  {
   "cell_type": "code",
   "execution_count": 24,
   "id": "9bb172c1",
   "metadata": {},
   "outputs": [
    {
     "data": {
      "text/plain": [
       "\"in thine eye\""
      ]
     },
     "execution_count": 24,
     "metadata": {},
     "output_type": "execute_result"
    }
   ],
   "source": [
    "tail"
   ]
  },
  {
   "cell_type": "markdown",
   "id": "2c6de019",
   "metadata": {},
   "source": [
    "### 튜플 분해시 미사용 처리"
   ]
  },
  {
   "cell_type": "code",
   "execution_count": 25,
   "id": "45ead1c4",
   "metadata": {},
   "outputs": [],
   "source": [
    "fn main() {\n",
    "    let t4 = (100,200,300,400,500);\n",
    "    let (ii0,_,_,_,ii4) = t4;\n",
    "    println!(\"ii0={}, ii4={}\", ii0, ii4);\n",
    "}"
   ]
  },
  {
   "cell_type": "code",
   "execution_count": 26,
   "id": "68e48f38",
   "metadata": {},
   "outputs": [
    {
     "name": "stdout",
     "output_type": "stream",
     "text": [
      "ii0=100, ii4=500\n"
     ]
    }
   ],
   "source": [
    "main();"
   ]
  },
  {
   "cell_type": "markdown",
   "id": "83d9b4fe",
   "metadata": {},
   "source": [
    "### 튜플 분해시 생략해서 처리 "
   ]
  },
  {
   "cell_type": "code",
   "execution_count": 32,
   "id": "5f9d3bc3",
   "metadata": {},
   "outputs": [],
   "source": [
    "fn main() {\n",
    "    let t5 = (100,200,300,400,500);\n",
    "    let (i0,..,i4) = t5;\n",
    "    println!(\"i0={}, i4={}\", i0, i4);\n",
    "    \n",
    "    let (ij0,..) = t5;\n",
    "    println!(\"ij0={}\", ij0);\n",
    "    \n",
    "    let (..,ij4) = t5;\n",
    "    println!(\"ij4={}\", ij4);\n",
    "}"
   ]
  },
  {
   "cell_type": "code",
   "execution_count": 33,
   "id": "797e7282",
   "metadata": {},
   "outputs": [
    {
     "name": "stdout",
     "output_type": "stream",
     "text": [
      "i0=100, i4=500\n",
      "ij0=100\n",
      "ij4=500\n"
     ]
    }
   ],
   "source": [
    "main();"
   ]
  },
  {
   "cell_type": "markdown",
   "id": "0895b951",
   "metadata": {},
   "source": [
    "### 구조분해로 스왑처리"
   ]
  },
  {
   "cell_type": "code",
   "execution_count": 34,
   "id": "fa2b5867",
   "metadata": {},
   "outputs": [],
   "source": [
    "fn swap_int(x :i32, y :i32) -> (i32, i32) {\n",
    "    let (x,y) = (y,x);\n",
    "    println!(\"x={}, y={}\", x,y);\n",
    "    (x,y)\n",
    "}"
   ]
  },
  {
   "cell_type": "code",
   "execution_count": 35,
   "id": "ebaa3f66",
   "metadata": {},
   "outputs": [
    {
     "name": "stdout",
     "output_type": "stream",
     "text": [
      "x=200, y=100\n"
     ]
    }
   ],
   "source": [
    "swap_int(100,200);"
   ]
  },
  {
   "cell_type": "markdown",
   "id": "2da3d828",
   "metadata": {},
   "source": [
    "### 제너릭으로 스왑처리 "
   ]
  },
  {
   "cell_type": "code",
   "execution_count": 37,
   "id": "5aec4ec1",
   "metadata": {},
   "outputs": [],
   "source": [
    "fn swap<T:std::fmt::Display>(x: &mut T, y: &mut T) -> () {\n",
    "    let (x,y) = (y,x);\n",
    "    println!(\"x={}, y={}\", x,y);\n",
    "    //(x,y)\n",
    "}"
   ]
  },
  {
   "cell_type": "code",
   "execution_count": 38,
   "id": "9f8fb7eb",
   "metadata": {},
   "outputs": [
    {
     "name": "stdout",
     "output_type": "stream",
     "text": [
      "x=200, y=100\n"
     ]
    }
   ],
   "source": [
    "let mut a = 100;\n",
    "let mut b = 200;\n",
    "\n",
    "swap(&mut a,&mut b);"
   ]
  },
  {
   "cell_type": "markdown",
   "id": "a2aae5ee",
   "metadata": {},
   "source": [
    "### 튜플은 별도의 인덱스를 제공"
   ]
  },
  {
   "cell_type": "code",
   "execution_count": 19,
   "id": "17e448fa",
   "metadata": {},
   "outputs": [],
   "source": [
    "let tup = (20,30,40);"
   ]
  },
  {
   "cell_type": "code",
   "execution_count": 20,
   "id": "fc637314",
   "metadata": {},
   "outputs": [
    {
     "name": "stdout",
     "output_type": "stream",
     "text": [
      " tup.0=20, tup.1=30, tup.2=40\n"
     ]
    }
   ],
   "source": [
    "println!(\" tup.0={}, tup.1={}, tup.2={}\", tup.0,tup.1, tup.2);"
   ]
  },
  {
   "cell_type": "markdown",
   "id": "1307cd7a",
   "metadata": {},
   "source": [
    "## 3.  튜플 변경 "
   ]
  },
  {
   "cell_type": "code",
   "execution_count": 12,
   "id": "91b306f3",
   "metadata": {},
   "outputs": [
    {
     "ename": "Error",
     "evalue": "cannot assign to `tup1.0`, as `tup1` is not declared as mutable",
     "output_type": "error",
     "traceback": [
      "    tup1.0 = 100;",
      "\u001b[91m    ^^^^^^^^^^^^\u001b[0m \u001b[94mcannot assign\u001b[0m",
      "cannot assign to `tup1.0`, as `tup1` is not declared as mutable",
      "\u001b[1mhelp\u001b[0m: consider changing this to be mutable\n\nmut tup1"
     ]
    }
   ],
   "source": [
    "fn main() {\n",
    "    let tup1 = (1,2,3,4,5);  // 여러 원소를 나열해서 정의 \n",
    "    \n",
    "    println!(\" type = {}\", tup1.type_name_of());\n",
    "    \n",
    "    tup1.0 = 100;\n",
    "    \n",
    "    println!(\" type = {:?}\", tup1);\n",
    "}"
   ]
  },
  {
   "cell_type": "markdown",
   "id": "d0ccb2f4",
   "metadata": {},
   "source": [
    "## 튜플 변경"
   ]
  },
  {
   "cell_type": "code",
   "execution_count": 10,
   "id": "ed10acee",
   "metadata": {},
   "outputs": [],
   "source": [
    "fn main() {\n",
    "    let mut tup2 = (1,2,3,4,5);  // 여러 원소를 나열해서 정의 \n",
    "    \n",
    "    println!(\" type = {}\", tup2.type_name_of());\n",
    "    \n",
    "    tup2.0 = 100;\n",
    "    \n",
    "    println!(\" type = {:?}\", tup2);\n",
    "}"
   ]
  },
  {
   "cell_type": "code",
   "execution_count": 11,
   "id": "be41fa75",
   "metadata": {},
   "outputs": [
    {
     "name": "stdout",
     "output_type": "stream",
     "text": [
      " type = (i32, i32, i32, i32, i32)\n",
      " type = (100, 2, 3, 4, 5)\n"
     ]
    }
   ],
   "source": [
    "main();"
   ]
  },
  {
   "cell_type": "code",
   "execution_count": null,
   "id": "89442337",
   "metadata": {},
   "outputs": [],
   "source": []
  },
  {
   "cell_type": "markdown",
   "id": "76bd8077",
   "metadata": {},
   "source": [
    "## 4. 튜플 내의 원소도 이동이 가능 "
   ]
  },
  {
   "cell_type": "markdown",
   "id": "2a2c6f3d",
   "metadata": {},
   "source": [
    "### 이동이 가능한 원소 \n",
    "\n",
    "- String과 배열"
   ]
  },
  {
   "cell_type": "code",
   "execution_count": 44,
   "id": "9aa00e04",
   "metadata": {},
   "outputs": [],
   "source": [
    "let ts = (\"hello\".to_string(), [1,2,3]);"
   ]
  },
  {
   "cell_type": "markdown",
   "id": "695a9d67",
   "metadata": {},
   "source": [
    "### 구조분해로 내부 원소 이동"
   ]
  },
  {
   "cell_type": "code",
   "execution_count": 45,
   "id": "4c739718",
   "metadata": {},
   "outputs": [],
   "source": [
    "let (ts1, ts2) = ts;"
   ]
  },
  {
   "cell_type": "markdown",
   "id": "df28df97",
   "metadata": {},
   "source": [
    "### 원소가 다 이동해서 ts는 다시 사용금지"
   ]
  },
  {
   "cell_type": "code",
   "execution_count": 46,
   "id": "8b5bad63",
   "metadata": {},
   "outputs": [
    {
     "ename": "Error",
     "evalue": "cannot find value `ts` in this scope",
     "output_type": "error",
     "traceback": [
      "\u001b[31m[E0425] Error:\u001b[0m cannot find value `ts` in this scope",
      "   \u001b[38;5;246m╭\u001b[0m\u001b[38;5;246m─\u001b[0m\u001b[38;5;246m[\u001b[0mcommand_46:1:1\u001b[38;5;246m]\u001b[0m",
      "   \u001b[38;5;246m│\u001b[0m",
      " \u001b[38;5;246m1 │\u001b[0m \u001b[38;5;54mt\u001b[0m\u001b[38;5;54ms\u001b[0m",
      " \u001b[38;5;246m  ·\u001b[0m \u001b[38;5;54m─\u001b[0m\u001b[38;5;54m┬\u001b[0m  ",
      " \u001b[38;5;246m  ·\u001b[0m  \u001b[38;5;54m╰\u001b[0m\u001b[38;5;54m─\u001b[0m\u001b[38;5;54m─\u001b[0m error: cannot find value `ts` in this scope",
      " \u001b[38;5;246m  ·\u001b[0m  \u001b[38;5;100m│\u001b[0m  ",
      " \u001b[38;5;246m  ·\u001b[0m  \u001b[38;5;100m╰\u001b[0m\u001b[38;5;100m─\u001b[0m\u001b[38;5;100m─\u001b[0m help: a local variable with a similar name exists: `ts1`",
      "\u001b[38;5;246m───╯\u001b[0m"
     ]
    }
   ],
   "source": [
    "ts"
   ]
  },
  {
   "cell_type": "markdown",
   "id": "fea86457",
   "metadata": {},
   "source": [
    "### 소유권 변경이 없으려면 참조 즉 대여해야 함"
   ]
  },
  {
   "cell_type": "code",
   "execution_count": 47,
   "id": "9d84a72d",
   "metadata": {},
   "outputs": [],
   "source": [
    "fn main() {\n",
    "    let tss = (\"hello\".to_string(), [1,2,3]);\n",
    "    let (tss1, tss2) = &tss;\n",
    "    println!(\" tuple 0 = {}\", tss.0);\n",
    "}"
   ]
  },
  {
   "cell_type": "code",
   "execution_count": 48,
   "id": "3ef4bc17",
   "metadata": {},
   "outputs": [
    {
     "name": "stdout",
     "output_type": "stream",
     "text": [
      " tuple 0 = hello\n"
     ]
    },
    {
     "data": {
      "text/plain": [
       "()"
      ]
     },
     "execution_count": 48,
     "metadata": {},
     "output_type": "execute_result"
    }
   ],
   "source": [
    "main();"
   ]
  },
  {
   "cell_type": "markdown",
   "id": "ae747520",
   "metadata": {},
   "source": [
    "## 5. 유닛 타입 리터럴\n",
    "\n",
    "- 아무런 원소가 없는 튜플을 () : unit tuple\n",
    "- 보통 반환값이 없을 때 사용한다"
   ]
  },
  {
   "cell_type": "code",
   "execution_count": 39,
   "id": "564c0eb4",
   "metadata": {},
   "outputs": [],
   "source": [
    "fn implicitly_ret_unit() {\n",
    "    println!(\"I will return a ()\");\n",
    "}\n",
    "\n",
    "// Don't use this one\n",
    "fn explicitly_ret_unit() -> () {\n",
    "    println!(\"I will return a ()\");\n",
    "}"
   ]
  },
  {
   "cell_type": "code",
   "execution_count": 40,
   "id": "67035c2c",
   "metadata": {},
   "outputs": [],
   "source": [
    "// Get the type of given variable, return a string representation of the type  , e.g \"i8\", \"u8\", \"i32\", \"u32\"\n",
    "fn type_of<T>(_: &T) -> String {\n",
    "    format!(\"{}\", std::any::type_name::<T>())\n",
    "}"
   ]
  },
  {
   "cell_type": "code",
   "execution_count": 41,
   "id": "7a17f7ba",
   "metadata": {},
   "outputs": [],
   "source": [
    "fn main() {\n",
    "    let _v: () = ();\n",
    "    implicitly_ret_unit();\n",
    "    explicitly_ret_unit();\n",
    "    \n",
    "    let v = (2, 3);\n",
    "    println!(\" 튜플 타입 {}\", type_of(&v));\n",
    "    println!(\"Success!\");\n",
    "}"
   ]
  },
  {
   "cell_type": "code",
   "execution_count": 42,
   "id": "9289e6a7",
   "metadata": {},
   "outputs": [
    {
     "name": "stdout",
     "output_type": "stream",
     "text": [
      "I will return a ()\n",
      "I will return a ()\n",
      " 튜플 타입 (i32, i32)\n",
      "Success!\n"
     ]
    },
    {
     "data": {
      "text/plain": [
       "()"
      ]
     },
     "execution_count": 42,
     "metadata": {},
     "output_type": "execute_result"
    }
   ],
   "source": [
    "main()"
   ]
  },
  {
   "cell_type": "code",
   "execution_count": null,
   "id": "731ba8e1",
   "metadata": {},
   "outputs": [],
   "source": []
  }
 ],
 "metadata": {
  "kernelspec": {
   "display_name": "Rust",
   "language": "rust",
   "name": "rust"
  },
  "language_info": {
   "codemirror_mode": "rust",
   "file_extension": ".rs",
   "mimetype": "text/rust",
   "name": "Rust",
   "pygment_lexer": "rust",
   "version": ""
  }
 },
 "nbformat": 4,
 "nbformat_minor": 5
}
