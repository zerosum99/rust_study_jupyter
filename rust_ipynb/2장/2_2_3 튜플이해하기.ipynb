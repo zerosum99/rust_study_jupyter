{
 "cells": [
  {
   "cell_type": "markdown",
   "id": "1671aa65",
   "metadata": {},
   "source": [
    "# 1. 튜플 "
   ]
  },
  {
   "cell_type": "markdown",
   "id": "f10cc401",
   "metadata": {},
   "source": [
    "## 1-1 튜플 정의  \n",
    "\n",
    "- 튜플 타입은 괄호와 내부에 여러 타입을 쉼표로 분리해서 지정\n",
    "- 튜플 리터럴은 괄호와 리터럴 값을 쉼표로 구분해서 정의\n",
    "- 동일한 튜플 타입은 항상 자료형과 개수가 같을 때만 처리 됨\n"
   ]
  },
  {
   "cell_type": "markdown",
   "id": "d9297687",
   "metadata": {},
   "source": [
    "### 변수 내부의 타입 확인하기 \n",
    "\n",
    "- 크레이트 typename 을 :dep 로 가져온다.\n",
    "- 그리고 use typename::ㅅTypeName을 처리"
   ]
  },
  {
   "cell_type": "code",
   "execution_count": 12,
   "id": "f9a35da5",
   "metadata": {},
   "outputs": [],
   "source": [
    ":dep typename = \"0.1.2\""
   ]
  },
  {
   "cell_type": "code",
   "execution_count": 13,
   "id": "d7cdb4fd",
   "metadata": {},
   "outputs": [],
   "source": [
    "use typename::TypeName;"
   ]
  },
  {
   "cell_type": "markdown",
   "id": "91708fc2",
   "metadata": {},
   "source": [
    "### 2개의 원소를 가지 튜플 정의 "
   ]
  },
  {
   "cell_type": "code",
   "execution_count": 4,
   "id": "c83beb4a",
   "metadata": {},
   "outputs": [],
   "source": [
    "let t : (u16, i16) = (100,200);"
   ]
  },
  {
   "cell_type": "code",
   "execution_count": 14,
   "id": "c6d28ebd",
   "metadata": {},
   "outputs": [
    {
     "data": {
      "text/plain": [
       "\"(u16, i16)\""
      ]
     },
     "execution_count": 14,
     "metadata": {},
     "output_type": "execute_result"
    }
   ],
   "source": [
    "t.type_name_of()"
   ]
  },
  {
   "cell_type": "markdown",
   "id": "f622ad77",
   "metadata": {},
   "source": [
    "### 문자열리터럴을 분리해서 처리"
   ]
  },
  {
   "cell_type": "code",
   "execution_count": 34,
   "id": "fd7af924",
   "metadata": {},
   "outputs": [],
   "source": [
    "let text = \"I see the eigenvalue in thine eye\";\n",
    "let (head, tail) = text.split_at(21);"
   ]
  },
  {
   "cell_type": "code",
   "execution_count": 38,
   "id": "ec10d454",
   "metadata": {},
   "outputs": [
    {
     "data": {
      "text/plain": [
       "(\"I see the eigenvalue \", \"in thine eye\")"
      ]
     },
     "execution_count": 38,
     "metadata": {},
     "output_type": "execute_result"
    }
   ],
   "source": [
    "text.split_at(21)"
   ]
  },
  {
   "cell_type": "code",
   "execution_count": 35,
   "id": "a416b4a8",
   "metadata": {},
   "outputs": [
    {
     "data": {
      "text/plain": [
       "\"I see the eigenvalue \""
      ]
     },
     "execution_count": 35,
     "metadata": {},
     "output_type": "execute_result"
    }
   ],
   "source": [
    "head"
   ]
  },
  {
   "cell_type": "code",
   "execution_count": 36,
   "id": "bd438191",
   "metadata": {},
   "outputs": [
    {
     "data": {
      "text/plain": [
       "\"in thine eye\""
      ]
     },
     "execution_count": 36,
     "metadata": {},
     "output_type": "execute_result"
    }
   ],
   "source": [
    "tail"
   ]
  },
  {
   "cell_type": "markdown",
   "id": "0b7d3f74",
   "metadata": {},
   "source": [
    "## 1-2 튜플 분해\n",
    "\n",
    "- 튜플의 원소를 분해해서 각각의 값을 처리할 수 있다. "
   ]
  },
  {
   "cell_type": "code",
   "execution_count": 7,
   "id": "9f468cc8",
   "metadata": {},
   "outputs": [],
   "source": [
    "let (f,s) = t;"
   ]
  },
  {
   "cell_type": "code",
   "execution_count": 8,
   "id": "d964ef2a",
   "metadata": {},
   "outputs": [
    {
     "data": {
      "text/plain": [
       "100"
      ]
     },
     "execution_count": 8,
     "metadata": {},
     "output_type": "execute_result"
    }
   ],
   "source": [
    "f"
   ]
  },
  {
   "cell_type": "code",
   "execution_count": 9,
   "id": "187c08e9",
   "metadata": {},
   "outputs": [
    {
     "data": {
      "text/plain": [
       "200"
      ]
     },
     "execution_count": 9,
     "metadata": {},
     "output_type": "execute_result"
    }
   ],
   "source": [
    "s"
   ]
  },
  {
   "cell_type": "markdown",
   "id": "88a2a32b",
   "metadata": {},
   "source": [
    "### 튜플 분해시 미사용 처리"
   ]
  },
  {
   "cell_type": "code",
   "execution_count": 48,
   "id": "f642605f",
   "metadata": {},
   "outputs": [],
   "source": [
    "let t4 = (100,200,300,400,500);"
   ]
  },
  {
   "cell_type": "code",
   "execution_count": 49,
   "id": "37c0a070",
   "metadata": {},
   "outputs": [],
   "source": [
    "let (ii0,_,_,_,ii4) = t4;"
   ]
  },
  {
   "cell_type": "code",
   "execution_count": 51,
   "id": "5428fb98",
   "metadata": {},
   "outputs": [
    {
     "data": {
      "text/plain": [
       "100"
      ]
     },
     "execution_count": 51,
     "metadata": {},
     "output_type": "execute_result"
    }
   ],
   "source": [
    "ii0"
   ]
  },
  {
   "cell_type": "code",
   "execution_count": 52,
   "id": "f8b65cac",
   "metadata": {},
   "outputs": [
    {
     "data": {
      "text/plain": [
       "500"
      ]
     },
     "execution_count": 52,
     "metadata": {},
     "output_type": "execute_result"
    }
   ],
   "source": [
    "ii4"
   ]
  },
  {
   "cell_type": "markdown",
   "id": "6e2dd880",
   "metadata": {},
   "source": [
    "## 튜플 분해시 생략해서 처리 "
   ]
  },
  {
   "cell_type": "code",
   "execution_count": 43,
   "id": "1c97f46f",
   "metadata": {},
   "outputs": [],
   "source": [
    "let t5 = (100,200,300,400,500);"
   ]
  },
  {
   "cell_type": "code",
   "execution_count": 44,
   "id": "82ec97de",
   "metadata": {},
   "outputs": [],
   "source": [
    "let (i0,..,i4) = t5;"
   ]
  },
  {
   "cell_type": "code",
   "execution_count": 45,
   "id": "b74803c1",
   "metadata": {},
   "outputs": [
    {
     "data": {
      "text/plain": [
       "100"
      ]
     },
     "execution_count": 45,
     "metadata": {},
     "output_type": "execute_result"
    }
   ],
   "source": [
    "i0"
   ]
  },
  {
   "cell_type": "code",
   "execution_count": 46,
   "id": "79dfaf13",
   "metadata": {},
   "outputs": [
    {
     "data": {
      "text/plain": [
       "500"
      ]
     },
     "execution_count": 46,
     "metadata": {},
     "output_type": "execute_result"
    }
   ],
   "source": [
    "i4"
   ]
  },
  {
   "cell_type": "code",
   "execution_count": null,
   "id": "be4551bc",
   "metadata": {},
   "outputs": [],
   "source": []
  },
  {
   "cell_type": "code",
   "execution_count": 53,
   "id": "50c99dc7",
   "metadata": {},
   "outputs": [],
   "source": [
    "let (ij0,..) = t5;"
   ]
  },
  {
   "cell_type": "code",
   "execution_count": 54,
   "id": "cd597f1b",
   "metadata": {},
   "outputs": [
    {
     "data": {
      "text/plain": [
       "100"
      ]
     },
     "execution_count": 54,
     "metadata": {},
     "output_type": "execute_result"
    }
   ],
   "source": [
    "ij0"
   ]
  },
  {
   "cell_type": "code",
   "execution_count": null,
   "id": "7ee8aefe",
   "metadata": {},
   "outputs": [],
   "source": []
  },
  {
   "cell_type": "code",
   "execution_count": 55,
   "id": "94516808",
   "metadata": {},
   "outputs": [],
   "source": [
    "let (..,ij4) = t5;"
   ]
  },
  {
   "cell_type": "code",
   "execution_count": 56,
   "id": "2aaaf987",
   "metadata": {},
   "outputs": [
    {
     "data": {
      "text/plain": [
       "500"
      ]
     },
     "execution_count": 56,
     "metadata": {},
     "output_type": "execute_result"
    }
   ],
   "source": [
    "ij4"
   ]
  },
  {
   "cell_type": "markdown",
   "id": "50bc9f1d",
   "metadata": {},
   "source": [
    "### 스왑 처리하기"
   ]
  },
  {
   "cell_type": "code",
   "execution_count": 28,
   "id": "ddda5d96",
   "metadata": {},
   "outputs": [],
   "source": [
    "fn swap_int(x :i32, y :i32) -> (i32, i32) {\n",
    "    let (x,y) = (y,x);\n",
    "    println!(\"x={}, y={}\", x,y);\n",
    "    (x,y)\n",
    "}"
   ]
  },
  {
   "cell_type": "code",
   "execution_count": 29,
   "id": "486f6a55",
   "metadata": {},
   "outputs": [
    {
     "name": "stdout",
     "output_type": "stream",
     "text": [
      "x=200, y=100\n"
     ]
    },
    {
     "data": {
      "text/plain": [
       "(200, 100)"
      ]
     },
     "execution_count": 29,
     "metadata": {},
     "output_type": "execute_result"
    }
   ],
   "source": [
    "swap_int(100,200)"
   ]
  },
  {
   "cell_type": "code",
   "execution_count": 30,
   "id": "68db1c26",
   "metadata": {},
   "outputs": [],
   "source": [
    "fn swap<T:std::fmt::Display>(x: &mut T, y: &mut T) -> () {\n",
    "    let (x,y) = (y,x);\n",
    "    println!(\"x={}, y={}\", x,y);\n",
    "    //(x,y)\n",
    "}"
   ]
  },
  {
   "cell_type": "code",
   "execution_count": 31,
   "id": "a8e58565",
   "metadata": {},
   "outputs": [
    {
     "name": "stdout",
     "output_type": "stream",
     "text": [
      "x=200, y=100\n"
     ]
    }
   ],
   "source": [
    "let mut a = 100;\n",
    "let mut b = 200;\n",
    "\n",
    "swap(&mut a,&mut b);"
   ]
  },
  {
   "cell_type": "markdown",
   "id": "5a9c5e5f",
   "metadata": {},
   "source": [
    "### 리버스로 변환하기"
   ]
  },
  {
   "cell_type": "code",
   "execution_count": 32,
   "id": "1f1f976e",
   "metadata": {},
   "outputs": [],
   "source": [
    "// Tuples can be used as function arguments and as return values\n",
    "fn reverse(pair: (i32, bool)) -> (bool, i32) {\n",
    "    // `let` can be used to bind the members of a tuple to variables\n",
    "    let (integer, boolean) = pair;\n",
    "\n",
    "    (boolean, integer)\n",
    "}"
   ]
  },
  {
   "cell_type": "code",
   "execution_count": 33,
   "id": "e5b98a96",
   "metadata": {},
   "outputs": [
    {
     "data": {
      "text/plain": [
       "(true, 100)"
      ]
     },
     "execution_count": 33,
     "metadata": {},
     "output_type": "execute_result"
    }
   ],
   "source": [
    "reverse((100,true))"
   ]
  },
  {
   "cell_type": "markdown",
   "id": "7600a9f6",
   "metadata": {},
   "source": [
    "## 1-3 튜플내의 원소를 인덱스로 참조하기"
   ]
  },
  {
   "cell_type": "code",
   "execution_count": 15,
   "id": "b842c882",
   "metadata": {},
   "outputs": [
    {
     "data": {
      "text/plain": [
       "100"
      ]
     },
     "execution_count": 15,
     "metadata": {},
     "output_type": "execute_result"
    }
   ],
   "source": [
    "t.0"
   ]
  },
  {
   "cell_type": "code",
   "execution_count": 16,
   "id": "e9fb9536",
   "metadata": {},
   "outputs": [
    {
     "data": {
      "text/plain": [
       "200"
      ]
     },
     "execution_count": 16,
     "metadata": {},
     "output_type": "execute_result"
    }
   ],
   "source": [
    "t.1"
   ]
  },
  {
   "cell_type": "code",
   "execution_count": null,
   "id": "b489ad73",
   "metadata": {},
   "outputs": [],
   "source": []
  },
  {
   "cell_type": "code",
   "execution_count": null,
   "id": "0699277c",
   "metadata": {},
   "outputs": [],
   "source": []
  },
  {
   "cell_type": "markdown",
   "id": "6344b72e",
   "metadata": {},
   "source": [
    "## 1-4. 튜플 내의 원소도 이동이 가능 "
   ]
  },
  {
   "cell_type": "markdown",
   "id": "991049be",
   "metadata": {},
   "source": [
    "### 문자열, 배열을 튜플의 원소로 처리할 때 \n",
    "\n",
    "- 내부의 원소는 이동해서 소유권이 변경됨 "
   ]
  },
  {
   "cell_type": "code",
   "execution_count": 18,
   "id": "5c327f40",
   "metadata": {},
   "outputs": [],
   "source": [
    "let ts = (\"hello\".to_string(), [1,2,3]);"
   ]
  },
  {
   "cell_type": "code",
   "execution_count": 19,
   "id": "81d11a76",
   "metadata": {},
   "outputs": [],
   "source": [
    "let (ts1, ts2) = ts;"
   ]
  },
  {
   "cell_type": "markdown",
   "id": "51acd193",
   "metadata": {},
   "source": [
    "### 인스턴스는 소유권이 변경되어서 참조할 수 없다."
   ]
  },
  {
   "cell_type": "code",
   "execution_count": 20,
   "id": "ea1729b9",
   "metadata": {},
   "outputs": [
    {
     "ename": "Error",
     "evalue": "cannot find value `ts` in this scope",
     "output_type": "error",
     "traceback": [
      "\u001b[31m[E0425] Error:\u001b[0m cannot find value `ts` in this scope",
      "   \u001b[38;5;246m╭\u001b[0m\u001b[38;5;246m─\u001b[0m\u001b[38;5;246m[\u001b[0mcommand_20:1:1\u001b[38;5;246m]\u001b[0m",
      "   \u001b[38;5;246m│\u001b[0m",
      " \u001b[38;5;246m1 │\u001b[0m \u001b[38;5;54mt\u001b[0m\u001b[38;5;54ms\u001b[0m\u001b[38;5;249m.\u001b[0m\u001b[38;5;249m0\u001b[0m",
      " \u001b[38;5;246m  ·\u001b[0m \u001b[38;5;54m─\u001b[0m\u001b[38;5;54m┬\u001b[0m  ",
      " \u001b[38;5;246m  ·\u001b[0m  \u001b[38;5;54m╰\u001b[0m\u001b[38;5;54m─\u001b[0m\u001b[38;5;54m─\u001b[0m error: cannot find value `ts` in this scope",
      " \u001b[38;5;246m  ·\u001b[0m  \u001b[38;5;100m│\u001b[0m  ",
      " \u001b[38;5;246m  ·\u001b[0m  \u001b[38;5;100m╰\u001b[0m\u001b[38;5;100m─\u001b[0m\u001b[38;5;100m─\u001b[0m help: a local variable with a similar name exists: `t`",
      "\u001b[38;5;246m───╯\u001b[0m"
     ]
    }
   ],
   "source": [
    "ts.0"
   ]
  },
  {
   "cell_type": "code",
   "execution_count": null,
   "id": "982dab8d",
   "metadata": {},
   "outputs": [],
   "source": []
  },
  {
   "cell_type": "markdown",
   "id": "c66d225b",
   "metadata": {},
   "source": [
    "### 소유권이 변경하지 않으려면 참조로 처리 "
   ]
  },
  {
   "cell_type": "code",
   "execution_count": 25,
   "id": "b583b56e",
   "metadata": {},
   "outputs": [],
   "source": [
    "fn main() {\n",
    "    let tss = (\"hello\".to_string(), [1,2,3]);\n",
    "    let (tss1, tss2) = &tss;\n",
    "    println!(\" tuple 0 = {}\", tss.0);\n",
    "}"
   ]
  },
  {
   "cell_type": "code",
   "execution_count": 26,
   "id": "bfdb7791",
   "metadata": {},
   "outputs": [
    {
     "name": "stdout",
     "output_type": "stream",
     "text": [
      " tuple 0 = hello\n"
     ]
    },
    {
     "data": {
      "text/plain": [
       "()"
      ]
     },
     "execution_count": 26,
     "metadata": {},
     "output_type": "execute_result"
    }
   ],
   "source": [
    "main()"
   ]
  },
  {
   "cell_type": "code",
   "execution_count": null,
   "id": "b97eadfc",
   "metadata": {},
   "outputs": [],
   "source": []
  },
  {
   "cell_type": "code",
   "execution_count": null,
   "id": "0d9202e2",
   "metadata": {},
   "outputs": [],
   "source": []
  },
  {
   "cell_type": "code",
   "execution_count": null,
   "id": "f3ef7c54",
   "metadata": {},
   "outputs": [],
   "source": []
  }
 ],
 "metadata": {
  "kernelspec": {
   "display_name": "Rust",
   "language": "rust",
   "name": "rust"
  },
  "language_info": {
   "codemirror_mode": "rust",
   "file_extension": ".rs",
   "mimetype": "text/rust",
   "name": "Rust",
   "pygment_lexer": "rust",
   "version": ""
  }
 },
 "nbformat": 4,
 "nbformat_minor": 5
}
