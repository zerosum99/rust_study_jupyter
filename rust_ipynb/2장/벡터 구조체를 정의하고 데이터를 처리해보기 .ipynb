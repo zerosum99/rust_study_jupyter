{
 "cells": [
  {
   "cell_type": "code",
   "execution_count": null,
   "id": "7a28e983",
   "metadata": {},
   "outputs": [],
   "source": []
  },
  {
   "cell_type": "code",
   "execution_count": 6,
   "id": "8075eb72",
   "metadata": {},
   "outputs": [],
   "source": [
    "#[derive(Debug)]\n",
    "struct Vec1<T> {\n",
    "    items: Vec<T>,\n",
    "}\n",
    "\n",
    "impl<T> Vec1<T> {\n",
    "    fn new() -> Self {\n",
    "        Vec1 { items: Vec::new() }\n",
    "    }\n",
    "\n",
    "    fn push(&mut self, item: T) {\n",
    "        self.items.push(item);\n",
    "    }\n",
    "\n",
    "    fn pop(&mut self) -> Option<T> {\n",
    "        self.items.pop()\n",
    "    }\n",
    "}"
   ]
  },
  {
   "cell_type": "code",
   "execution_count": 16,
   "id": "e725fda4",
   "metadata": {},
   "outputs": [],
   "source": [
    "fn main() {\n",
    "    let mut v : Vec1<u32> = Vec1::new();\n",
    "    \n",
    "    v.push(100);\n",
    "    v.push(200);\n",
    "    \n",
    "    println!(\" v=> {:?}\", v);\n",
    "    \n",
    "    match v.pop() {\n",
    "        Some(v) => println!(\"some v = {}\", v),\n",
    "        None    => println!(\"None\")\n",
    "    }\n",
    "    \n",
    "    println!(\" v => {:?}\", v);\n",
    "}"
   ]
  },
  {
   "cell_type": "code",
   "execution_count": 17,
   "id": "f1ed63e4",
   "metadata": {},
   "outputs": [
    {
     "name": "stdout",
     "output_type": "stream",
     "text": [
      " v=> Vec1 { items: [100, 200] }\n",
      "some v = 200\n",
      " v => Vec1 { items: [100] }\n"
     ]
    }
   ],
   "source": [
    "main();"
   ]
  },
  {
   "cell_type": "code",
   "execution_count": null,
   "id": "e9700aae",
   "metadata": {},
   "outputs": [],
   "source": []
  }
 ],
 "metadata": {
  "kernelspec": {
   "display_name": "Rust",
   "language": "rust",
   "name": "rust"
  },
  "language_info": {
   "codemirror_mode": "rust",
   "file_extension": ".rs",
   "mimetype": "text/rust",
   "name": "Rust",
   "pygment_lexer": "rust",
   "version": ""
  }
 },
 "nbformat": 4,
 "nbformat_minor": 5
}
