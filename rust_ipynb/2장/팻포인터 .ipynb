{
 "cells": [
  {
   "cell_type": "code",
   "execution_count": null,
   "id": "69fc642a",
   "metadata": {},
   "outputs": [],
   "source": []
  },
  {
   "cell_type": "markdown",
   "id": "f8ae007d",
   "metadata": {},
   "source": [
    "## 포인터 \n",
    "\n",
    "- 러스트(Rust)에서는 포인터(pointer)를 사용하여 메모리를 관리합니다. \n",
    "- 러스트에서는 스마트 포인터(smart pointer)와 팻 포인터(fat pointer) 두 가지 유형의 포인터가 있습니다."
   ]
  },
  {
   "cell_type": "markdown",
   "id": "22c1492c",
   "metadata": {},
   "source": [
    "## 팻포인터 \n",
    "\n",
    "- 스마트 포인터와 달리 고정된 크기가 아닌 가변적인 크기의 데이터 타입을 참조하기 위한 포인터입니다. \n",
    "- 보통 팻 포인터는 슬라이스(slice)나 트레잇 객체(trait object)를 참조하기 위해 사용됩니다."
   ]
  },
  {
   "cell_type": "code",
   "execution_count": null,
   "id": "74ad6b57",
   "metadata": {},
   "outputs": [],
   "source": []
  },
  {
   "cell_type": "markdown",
   "id": "1ae66074",
   "metadata": {},
   "source": [
    "## 슬라이스를 사용한 팻포인터"
   ]
  },
  {
   "cell_type": "code",
   "execution_count": 2,
   "id": "d62d27e1",
   "metadata": {},
   "outputs": [],
   "source": [
    "fn main() {\n",
    "    let arr: [i32; 5] = [1, 2, 3, 4, 5];\n",
    "    let slice: &[i32] = &arr[1..4];  // 팻 포인터를 이용한 슬라이스 참조\n",
    "\n",
    "    println!(\"{:?}\", slice);\n",
    "}"
   ]
  },
  {
   "cell_type": "code",
   "execution_count": 3,
   "id": "a08a1dca",
   "metadata": {},
   "outputs": [
    {
     "name": "stdout",
     "output_type": "stream",
     "text": [
      "[2, 3, 4]\n"
     ]
    }
   ],
   "source": [
    "main();"
   ]
  },
  {
   "cell_type": "markdown",
   "id": "43df4323",
   "metadata": {},
   "source": [
    "## 트레이트 객체 사용한 팻포인트\n",
    "\n",
    "- 트레잇 객체(trait object)는 러스트에서 특별한 형태의 객체로, 동적 디스패치(dynamic dispatch)를 이용하여 런타임에 여러 타입의 객체를 참조할 수 있습니다. \n",
    "- 트레잇 객체는 크기가 고정되어 있지 않기 때문에, 일반적인 포인터나 참조자로는 참조할 수 없습니다."
   ]
  },
  {
   "cell_type": "markdown",
   "id": "cbe0b209",
   "metadata": {},
   "source": [
    "\n",
    "\n",
    "## 트레잇 객체의 특징은 다음과 같습니다.\n",
    "\n",
    "- 런타임에 여러 타입의 객체를 참조할 수 있습니다.\n",
    "- 크기가 고정되어 있지 않기 때문에, 일반적인 포인터나 참조자로는 참조할 수 없습니다.\n",
    "- 동적 디스패치를 이용하여 메서드 호출이 가능합니다.\n",
    "- 스마트 포인터를 이용하여 트레잇 객체를 참조합니다.\n",
    "- 오버헤드가 있기 때문에, 성능상의 이슈가 발생할 수 있습니다."
   ]
  },
  {
   "cell_type": "code",
   "execution_count": null,
   "id": "7c24c828",
   "metadata": {},
   "outputs": [],
   "source": []
  },
  {
   "cell_type": "code",
   "execution_count": 7,
   "id": "3f003d1f",
   "metadata": {},
   "outputs": [],
   "source": [
    "trait Animal {\n",
    "    fn name(&self) -> &'static str;\n",
    "}\n",
    "\n",
    "struct Dog {\n",
    "    name: &'static str,\n",
    "}\n",
    "\n",
    "impl Animal for Dog {\n",
    "    fn name(&self) -> &'static str {\n",
    "        self.name\n",
    "    }\n",
    "}\n",
    "\n",
    "\n",
    "struct Cat{\n",
    "    name: &'static str,\n",
    "}\n",
    "\n",
    "\n",
    "impl Animal for Cat {\n",
    "    fn name(&self) -> &'static str {\n",
    "        self.name\n",
    "    }\n",
    "}"
   ]
  },
  {
   "cell_type": "code",
   "execution_count": 10,
   "id": "2d6d354b",
   "metadata": {},
   "outputs": [],
   "source": [
    "fn main() {\n",
    "    let dog = Dog { name: \"Puppy\" };\n",
    "    let cat = Cat { name: \"Tom\" };\n",
    "    let animal: &dyn Animal = &dog;  // 팻 포인터를 이용한 트레잇 객체 참조\n",
    "\n",
    "    println!(\"{}\", animal.name());\n",
    "    \n",
    "    let animal : &dyn Animal = &cat;\n",
    "    println!(\"{}\", animal.name());\n",
    "}"
   ]
  },
  {
   "cell_type": "code",
   "execution_count": 11,
   "id": "da02f8cb",
   "metadata": {},
   "outputs": [
    {
     "name": "stdout",
     "output_type": "stream",
     "text": [
      "Puppy\n",
      "Tom\n"
     ]
    }
   ],
   "source": [
    "main();"
   ]
  },
  {
   "cell_type": "code",
   "execution_count": null,
   "id": "93364f72",
   "metadata": {},
   "outputs": [],
   "source": []
  }
 ],
 "metadata": {
  "kernelspec": {
   "display_name": "Rust",
   "language": "rust",
   "name": "rust"
  },
  "language_info": {
   "codemirror_mode": "rust",
   "file_extension": ".rs",
   "mimetype": "text/rust",
   "name": "Rust",
   "pygment_lexer": "rust",
   "version": ""
  }
 },
 "nbformat": 4,
 "nbformat_minor": 5
}
