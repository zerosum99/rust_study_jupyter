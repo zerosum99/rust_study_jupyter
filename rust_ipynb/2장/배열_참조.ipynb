{
 "cells": [
  {
   "cell_type": "markdown",
   "id": "175a1404",
   "metadata": {},
   "source": [
    "# 배열 "
   ]
  },
  {
   "cell_type": "code",
   "execution_count": null,
   "id": "db4ebc85",
   "metadata": {},
   "outputs": [],
   "source": []
  },
  {
   "cell_type": "code",
   "execution_count": 2,
   "id": "401b52dc",
   "metadata": {},
   "outputs": [],
   "source": [
    "let lazy_caterer: [u32; 6] = [1, 2, 4, 7, 11, 16]; \n",
    "let taxonomy = [\"Animalia\", \"Arthropoda\", \"Insecta\"];\n",
    "\n",
    "assert_eq!(lazy_caterer[3], 7);\n",
    "assert_eq!(taxonomy.len(), 3);"
   ]
  },
  {
   "cell_type": "code",
   "execution_count": null,
   "id": "014191e5",
   "metadata": {},
   "outputs": [],
   "source": []
  },
  {
   "cell_type": "code",
   "execution_count": 4,
   "id": "521da437",
   "metadata": {},
   "outputs": [],
   "source": [
    "let mut sieve = [true; 10000]; \n",
    "for i in 2..100 {\n",
    "    if sieve[i] { \n",
    "        let mut j=i*i;\n",
    "        while j < 10000 {\n",
    "            sieve[j] = false;\n",
    "            j+=i; }\n",
    "    } \n",
    "}\n",
    "    \n",
    "assert!(sieve[211]);\n",
    "assert!(!sieve[9876]);"
   ]
  },
  {
   "cell_type": "code",
   "execution_count": null,
   "id": "867c2bae",
   "metadata": {},
   "outputs": [],
   "source": []
  },
  {
   "cell_type": "code",
   "execution_count": 6,
   "id": "4b4eae22",
   "metadata": {},
   "outputs": [],
   "source": [
    "let mut chaos=[3,5,4,1,2]; \n",
    "\n",
    "chaos.sort();\n",
    "\n",
    "assert_eq!(chaos, [1, 2, 3, 4, 5]);"
   ]
  },
  {
   "cell_type": "code",
   "execution_count": null,
   "id": "6e9d6da0",
   "metadata": {},
   "outputs": [],
   "source": []
  },
  {
   "cell_type": "code",
   "execution_count": null,
   "id": "f3ef7c54",
   "metadata": {},
   "outputs": [],
   "source": []
  },
  {
   "cell_type": "markdown",
   "id": "8587361e",
   "metadata": {},
   "source": [
    "# 벡터 "
   ]
  },
  {
   "cell_type": "code",
   "execution_count": 7,
   "id": "22e84a62",
   "metadata": {},
   "outputs": [],
   "source": [
    "let mut v = vec![2, 3, 5, 7]; \n",
    "\n",
    "assert_eq!(v.iter().fold(1, |a, b| a * b), 210);"
   ]
  },
  {
   "cell_type": "code",
   "execution_count": null,
   "id": "d3207eac",
   "metadata": {},
   "outputs": [],
   "source": []
  },
  {
   "cell_type": "code",
   "execution_count": 8,
   "id": "0be1fd26",
   "metadata": {},
   "outputs": [],
   "source": [
    "v.push(11);\n",
    "\n",
    "v.push(13);\n",
    "\n",
    "assert_eq!(v.iter().fold(1, |a, b| a * b), 30030);"
   ]
  },
  {
   "cell_type": "code",
   "execution_count": null,
   "id": "bef3990a",
   "metadata": {},
   "outputs": [],
   "source": []
  },
  {
   "cell_type": "code",
   "execution_count": 9,
   "id": "c3225754",
   "metadata": {},
   "outputs": [],
   "source": [
    "fn new_pixel_buffer(rows: usize, cols: usize) -> Vec<u8> { \n",
    "    vec![0; rows * cols]\n",
    "}"
   ]
  },
  {
   "cell_type": "code",
   "execution_count": null,
   "id": "366d4585",
   "metadata": {},
   "outputs": [],
   "source": []
  },
  {
   "cell_type": "code",
   "execution_count": 10,
   "id": "c9edb29d",
   "metadata": {},
   "outputs": [],
   "source": [
    "let mut v = Vec::new();\n",
    "v.push(\"step\");\n",
    "v.push(\"on\");\n",
    "v.push(\"no\");\n",
    "v.push(\"pets\");\n",
    "assert_eq!(v, vec![\"step\", \"on\", \"no\", \"pets\"]);"
   ]
  },
  {
   "cell_type": "code",
   "execution_count": null,
   "id": "6b745a37",
   "metadata": {},
   "outputs": [],
   "source": []
  },
  {
   "cell_type": "code",
   "execution_count": 11,
   "id": "f868d997",
   "metadata": {},
   "outputs": [],
   "source": [
    "let v: Vec<i32> = (0..5).collect(); \n",
    "\n",
    "assert_eq!(v, [0, 1, 2, 3, 4]);"
   ]
  },
  {
   "cell_type": "code",
   "execution_count": null,
   "id": "4c0e59e9",
   "metadata": {},
   "outputs": [],
   "source": []
  },
  {
   "cell_type": "code",
   "execution_count": 12,
   "id": "60b70d22",
   "metadata": {},
   "outputs": [],
   "source": [
    " // A palindrome!\n",
    "let mut v = vec![\"a man\", \"a plan\", \"a canal\", \"panama\"]; \n",
    "v.reverse();\n",
    "// Reasonable yet disappointing:\n",
    "assert_eq!(v, vec![\"panama\", \"a canal\", \"a plan\", \"a man\"]);"
   ]
  },
  {
   "cell_type": "code",
   "execution_count": null,
   "id": "8c2cd934",
   "metadata": {},
   "outputs": [],
   "source": []
  },
  {
   "cell_type": "code",
   "execution_count": null,
   "id": "e4fcff63",
   "metadata": {},
   "outputs": [],
   "source": []
  },
  {
   "cell_type": "code",
   "execution_count": 13,
   "id": "e3a9fd44",
   "metadata": {},
   "outputs": [],
   "source": [
    "let mut v = Vec::with_capacity(2); \n",
    "assert_eq!(v.len(), 0); \n",
    "assert_eq!(v.capacity(), 2);\n",
    "\n",
    "v.push(1);\n",
    "v.push(2);\n",
    "assert_eq!(v.len(), 2);\n",
    "assert_eq!(v.capacity(), 2);\n",
    "\n",
    "v.push(3);\n",
    "assert_eq!(v.len(), 3);\n",
    "assert_eq!(v.capacity(), 4);"
   ]
  },
  {
   "cell_type": "code",
   "execution_count": null,
   "id": "3efb4651",
   "metadata": {},
   "outputs": [],
   "source": []
  },
  {
   "cell_type": "code",
   "execution_count": 14,
   "id": "1c78c3c7",
   "metadata": {},
   "outputs": [],
   "source": [
    "let mut v = vec![10, 20, 30, 40, 50];\n",
    "// Make the element at index 3 be 35.\n",
    "v.insert(3, 35);\n",
    "assert_eq!(v, [10, 20, 30, 35, 40, 50]);\n",
    "// Remove the element at index 1.\n",
    "v.remove(1);\n",
    "assert_eq!(v, [10, 30, 35, 40, 50]);"
   ]
  },
  {
   "cell_type": "code",
   "execution_count": null,
   "id": "fc03de2c",
   "metadata": {},
   "outputs": [],
   "source": []
  },
  {
   "cell_type": "code",
   "execution_count": 15,
   "id": "2579d0bb",
   "metadata": {},
   "outputs": [],
   "source": [
    "let mut v = vec![\"carmen\", \"miranda\"]; \n",
    "\n",
    "assert_eq!(v.pop(), Some(\"miranda\")); \n",
    "assert_eq!(v.pop(), Some(\"carmen\")); \n",
    "assert_eq!(v.pop(), None);"
   ]
  },
  {
   "cell_type": "code",
   "execution_count": null,
   "id": "1e66571e",
   "metadata": {},
   "outputs": [],
   "source": []
  },
  {
   "cell_type": "code",
   "execution_count": 21,
   "id": "9670d955",
   "metadata": {},
   "outputs": [
    {
     "data": {
      "text/plain": [
       "()"
      ]
     },
     "execution_count": 21,
     "metadata": {},
     "output_type": "execute_result"
    }
   ],
   "source": [
    "// Get our command-line arguments as a vector of Strings.\n",
    "let languages: Vec<String> = std::env::args().skip(1).collect(); \n",
    "for l in languages {\n",
    "    println!(\"{}: {}\", l, \n",
    "        if l.len()%2==0 {\n",
    "            \"functional\"\n",
    "        }else{ \n",
    "            \"imperative\"\n",
    "    });\n",
    "}"
   ]
  },
  {
   "cell_type": "code",
   "execution_count": null,
   "id": "b7bfad2c",
   "metadata": {},
   "outputs": [],
   "source": []
  }
 ],
 "metadata": {
  "kernelspec": {
   "display_name": "Rust",
   "language": "rust",
   "name": "rust"
  },
  "language_info": {
   "codemirror_mode": "rust",
   "file_extension": ".rs",
   "mimetype": "text/rust",
   "name": "Rust",
   "pygment_lexer": "rust",
   "version": ""
  }
 },
 "nbformat": 4,
 "nbformat_minor": 5
}
