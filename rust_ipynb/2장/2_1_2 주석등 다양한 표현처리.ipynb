{
 "cells": [
  {
   "cell_type": "markdown",
   "id": "e55028c7",
   "metadata": {},
   "source": [
    "## 주석"
   ]
  },
  {
   "cell_type": "markdown",
   "id": "83c2508e",
   "metadata": {},
   "source": [
    "## 1. 한줄 주석 \n",
    "\n",
    "-  // 설명을 작성하면 이 문장은 무시한다"
   ]
  },
  {
   "cell_type": "code",
   "execution_count": 7,
   "id": "835fbe37",
   "metadata": {},
   "outputs": [],
   "source": [
    "fn main() {\n",
    "    // 러스트 시작은 main 함수\n",
    "    // 한줄 주석 \n",
    "    let some_number = 100; // 변수 할당.  \n",
    "    let some_number1 : i32 = 100;// 자료형 지정\n",
    "    \n",
    "    println!(\" number1 : {}\", some_number);   // 콘솔에 출력\n",
    "    println!(\" number2 : {}\", some_number1);\n",
    "    \n",
    "}"
   ]
  },
  {
   "cell_type": "code",
   "execution_count": 8,
   "id": "8352d411",
   "metadata": {},
   "outputs": [
    {
     "name": "stdout",
     "output_type": "stream",
     "text": [
      " number1 : 100\n",
      " number2 : 100\n"
     ]
    },
    {
     "data": {
      "text/plain": [
       "()"
      ]
     },
     "execution_count": 8,
     "metadata": {},
     "output_type": "execute_result"
    }
   ],
   "source": [
    "main()"
   ]
  },
  {
   "cell_type": "markdown",
   "id": "1f480ce3",
   "metadata": {},
   "source": [
    "## 2 여러 줄 주석\n",
    "\n",
    "- /* 설명 */ 으로 표기한다"
   ]
  },
  {
   "cell_type": "code",
   "execution_count": 2,
   "id": "2106de0b",
   "metadata": {},
   "outputs": [],
   "source": [
    "fn main() {\n",
    "    let some_number = 100; \n",
    "    /* 여러줄 주석\n",
    "    아래는 프린트 매크로 출력 등을 처리 \n",
    "    .. */\n",
    "    println!(\" number1 : {}\", some_number);   // 콘솔에 출력\n",
    "    let some_number = 100; \n",
    "    /* \n",
    "     다시 출력을 한다. \n",
    "    */\n",
    "    println!(\" number2 : {}\", some_number);   // 콘솔에 출력\n",
    "}"
   ]
  },
  {
   "cell_type": "code",
   "execution_count": 3,
   "id": "3bc201a2",
   "metadata": {},
   "outputs": [
    {
     "data": {
      "text/plain": [
       "()"
      ]
     },
     "execution_count": 3,
     "metadata": {},
     "output_type": "execute_result"
    },
    {
     "name": "stdout",
     "output_type": "stream",
     "text": [
      " number1 : 100\n",
      " number2 : 100\n"
     ]
    }
   ],
   "source": [
    "main()"
   ]
  },
  {
   "cell_type": "code",
   "execution_count": null,
   "id": "28dfece1",
   "metadata": {},
   "outputs": [],
   "source": []
  },
  {
   "cell_type": "markdown",
   "id": "9b2b4583",
   "metadata": {},
   "source": [
    "## 변수를 미사용할 경우 \n",
    "\n",
    "- 변수명 앞에 _을 붙여주면 경고 메시지가 나오지 않는다. "
   ]
  },
  {
   "cell_type": "code",
   "execution_count": 4,
   "id": "6863c094",
   "metadata": {},
   "outputs": [],
   "source": [
    "fn main() {\n",
    "    \n",
    "    let _내숫자 = 100;\n",
    "    \n",
    "    let 내숫자 = 300;\n",
    "    println!(\" 내숫자 {}\", 내숫자);\n",
    "    \n",
    "    \n",
    "}"
   ]
  },
  {
   "cell_type": "code",
   "execution_count": 5,
   "id": "be03b61a",
   "metadata": {},
   "outputs": [
    {
     "name": "stdout",
     "output_type": "stream",
     "text": [
      " 내숫자 300\n"
     ]
    },
    {
     "data": {
      "text/plain": [
       "()"
      ]
     },
     "execution_count": 5,
     "metadata": {},
     "output_type": "execute_result"
    }
   ],
   "source": [
    "main()"
   ]
  },
  {
   "cell_type": "code",
   "execution_count": null,
   "id": "c1fb4938",
   "metadata": {},
   "outputs": [],
   "source": []
  },
  {
   "cell_type": "markdown",
   "id": "26329bac",
   "metadata": {},
   "source": [
    "## 3. 타입 접미사\n",
    "\n",
    "- 정수 등에 끝에 타입을 붙여서 주석처럼 사요"
   ]
  },
  {
   "cell_type": "markdown",
   "id": "cb82b799",
   "metadata": {},
   "source": [
    "### 정수나 실수 다음에 _를 붙여서 타입 어노테이션을 붙인다.\n",
    "\n",
    "- 또는 _ 없이 타입 어노테이션을 붙인다."
   ]
  },
  {
   "cell_type": "code",
   "execution_count": 7,
   "id": "44515927",
   "metadata": {},
   "outputs": [],
   "source": [
    "let a = 100_i16;"
   ]
  },
  {
   "cell_type": "code",
   "execution_count": 8,
   "id": "5888128e",
   "metadata": {},
   "outputs": [],
   "source": [
    "let b = 200.0f32;"
   ]
  },
  {
   "cell_type": "code",
   "execution_count": null,
   "id": "89104c5d",
   "metadata": {},
   "outputs": [],
   "source": []
  },
  {
   "cell_type": "code",
   "execution_count": null,
   "id": "7bdf45e2",
   "metadata": {},
   "outputs": [],
   "source": []
  },
  {
   "cell_type": "markdown",
   "id": "e0e8053f",
   "metadata": {},
   "source": [
    "## 4. 문자열 접두사 "
   ]
  },
  {
   "cell_type": "markdown",
   "id": "edac4b20",
   "metadata": {},
   "source": [
    "### raw 문자열\n",
    "- 이스케이프 문자열이 그대로 문자로 출력된다"
   ]
  },
  {
   "cell_type": "code",
   "execution_count": 10,
   "id": "49d7133d",
   "metadata": {},
   "outputs": [
    {
     "name": "stdout",
     "output_type": "stream",
     "text": [
      " 가나다\\n \n"
     ]
    }
   ],
   "source": [
    "let c = r\"가나다\\n\";\n",
    "println!(\" {} \", c);"
   ]
  },
  {
   "cell_type": "markdown",
   "id": "8f601797",
   "metadata": {},
   "source": [
    "### 문자열 내부에 따옴표가 있을경우\n",
    "- #를 시작과 마지막에 붙여서 처리한다."
   ]
  },
  {
   "cell_type": "code",
   "execution_count": 14,
   "id": "78c4c513",
   "metadata": {},
   "outputs": [],
   "source": [
    "let toml_str = r#\"\n",
    "        global_string = \"test\"\n",
    "        global_integer = 5\n",
    "        [server]\n",
    "        ip = \"127.0.0.1\"\n",
    "        port = 80\n",
    "        [[peers]]\n",
    "        ip = \"127.0.0.1\"\n",
    "        port = 8080\n",
    "        [[peers]]\n",
    "        ip = \"127.0.0.1\"\n",
    "    \"#;"
   ]
  },
  {
   "cell_type": "code",
   "execution_count": 15,
   "id": "66e3e0f3",
   "metadata": {},
   "outputs": [
    {
     "name": "stdout",
     "output_type": "stream",
     "text": [
      " \n",
      "        global_string = \"test\"\n",
      "        global_integer = 5\n",
      "        [server]\n",
      "        ip = \"127.0.0.1\"\n",
      "        port = 80\n",
      "        [[peers]]\n",
      "        ip = \"127.0.0.1\"\n",
      "        port = 8080\n",
      "        [[peers]]\n",
      "        ip = \"127.0.0.1\"\n",
      "     \n"
     ]
    }
   ],
   "source": [
    "println!(\" {} \", toml_str);"
   ]
  },
  {
   "cell_type": "markdown",
   "id": "c05842ac",
   "metadata": {},
   "source": [
    "### 바이트 문자열\n",
    "\n",
    "- 각 문자가 하나의 숫자로 표시되는 문자열\n",
    "- 영어 알파벳만 제공 "
   ]
  },
  {
   "cell_type": "code",
   "execution_count": 13,
   "id": "6c8bcfed",
   "metadata": {},
   "outputs": [
    {
     "name": "stdout",
     "output_type": "stream",
     "text": [
      " [97, 98, 99, 100, 101] \n"
     ]
    }
   ],
   "source": [
    "let bb = b\"abcde\";\n",
    "println!(\" {:?} \", bb);"
   ]
  },
  {
   "cell_type": "code",
   "execution_count": null,
   "id": "90cec246",
   "metadata": {},
   "outputs": [],
   "source": []
  }
 ],
 "metadata": {
  "kernelspec": {
   "display_name": "Rust",
   "language": "rust",
   "name": "rust"
  },
  "language_info": {
   "codemirror_mode": "rust",
   "file_extension": ".rs",
   "mimetype": "text/rust",
   "name": "Rust",
   "pygment_lexer": "rust",
   "version": ""
  }
 },
 "nbformat": 4,
 "nbformat_minor": 5
}
