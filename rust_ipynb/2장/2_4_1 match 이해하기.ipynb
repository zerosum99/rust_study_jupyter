{
 "cells": [
  {
   "cell_type": "markdown",
   "id": "0e42320c",
   "metadata": {},
   "source": [
    "# 1. match 이해하기"
   ]
  },
  {
   "cell_type": "code",
   "execution_count": null,
   "id": "4959393d",
   "metadata": {},
   "outputs": [],
   "source": []
  },
  {
   "cell_type": "markdown",
   "id": "3dc58cc1",
   "metadata": {},
   "source": [
    "## 1-1 값에 대한 매치 처리 \n",
    "\n",
    "- 특정 값을 매칭 시켜 처리 \n",
    "- 하나의 값, 여러 값, 범위 등을 처리한다. "
   ]
  },
  {
   "cell_type": "code",
   "execution_count": 3,
   "id": "d2a5d36c",
   "metadata": {},
   "outputs": [
    {
     "name": "stdout",
     "output_type": "stream",
     "text": [
      "Tell me about 13\n",
      "A teen\n"
     ]
    },
    {
     "data": {
      "text/plain": [
       "()"
      ]
     },
     "execution_count": 3,
     "metadata": {},
     "output_type": "execute_result"
    }
   ],
   "source": [
    "let number = 13;\n",
    "    \n",
    "println!(\"Tell me about {}\", number);\n",
    "match number {   \n",
    "    1                  => println!(\"One!\"),              // 하나의 값 매치 \n",
    "    2 | 3 | 5 | 7 | 11 => println!(\"This is a prime\"),   // 여러 개 중에 하나 매치 \n",
    "    13..=19            => println!(\"A teen\"),            // 범위 매치 \n",
    "     _                 => println!(\"Ain't special\"),     // 나머지 \n",
    "}"
   ]
  },
  {
   "cell_type": "markdown",
   "id": "d6f6284b",
   "metadata": {},
   "source": [
    "## 1-2 표현식으로 처리하기"
   ]
  },
  {
   "cell_type": "code",
   "execution_count": 4,
   "id": "8bc251f8",
   "metadata": {},
   "outputs": [
    {
     "name": "stdout",
     "output_type": "stream",
     "text": [
      "true -> 1\n"
     ]
    }
   ],
   "source": [
    "let boolean = true;\n",
    "\n",
    "let binary = match boolean {   // 매칭된 결과를 변수에 할당 \n",
    "        false => 0,\n",
    "        true => 1,\n",
    "    };\n",
    "\n",
    "println!(\"{} -> {}\", boolean, binary);"
   ]
  },
  {
   "cell_type": "code",
   "execution_count": null,
   "id": "cfb4248f",
   "metadata": {},
   "outputs": [],
   "source": []
  },
  {
   "cell_type": "markdown",
   "id": "7c22d640",
   "metadata": {},
   "source": [
    "## 1-3 분해해서 매칭 처리 "
   ]
  },
  {
   "cell_type": "markdown",
   "id": "63b4ac76",
   "metadata": {},
   "source": [
    "### 튜플 분해"
   ]
  },
  {
   "cell_type": "code",
   "execution_count": 5,
   "id": "b085fa3d",
   "metadata": {},
   "outputs": [
    {
     "name": "stdout",
     "output_type": "stream",
     "text": [
      "Tell me about (0, -2, 3)\n",
      "First is `0`, `y` is -2, and `z` is 3\n"
     ]
    },
    {
     "data": {
      "text/plain": [
       "()"
      ]
     },
     "execution_count": 5,
     "metadata": {},
     "output_type": "execute_result"
    }
   ],
   "source": [
    "let triple = (0, -2, 3);\n",
    "    // TODO ^ Try different values for `triple`\n",
    "\n",
    "println!(\"Tell me about {:?}\", triple);\n",
    "    // Match can be used to destructure a tuple\n",
    "match triple {\n",
    "        // Destructure the second and third elements\n",
    "        (0, y, z) => println!(\"First is `0`, `y` is {:?}, and `z` is {:?}\", y, z),\n",
    "        (1, ..)  => println!(\"First is `1` and the rest doesn't matter\"),\n",
    "        (.., 2)  => println!(\"last is `2` and the rest doesn't matter\"),\n",
    "        (3, .., 4)  => println!(\"First is `3`, last is `4`, and the rest doesn't matter\"),\n",
    "        // `..` can be used to ignore the rest of the tuple\n",
    "        _      => println!(\"It doesn't matter what they are\"),\n",
    "        // `_` means don't bind the value to a variable\n",
    " }"
   ]
  },
  {
   "cell_type": "markdown",
   "id": "e7804eee",
   "metadata": {},
   "source": [
    "### 배열/슬라이스"
   ]
  },
  {
   "cell_type": "code",
   "execution_count": 6,
   "id": "360ef9b2",
   "metadata": {},
   "outputs": [
    {
     "name": "stdout",
     "output_type": "stream",
     "text": [
      "array[0] = 1, array[2] = 6 and array[1] was ignored\n"
     ]
    },
    {
     "data": {
      "text/plain": [
       "()"
      ]
     },
     "execution_count": 6,
     "metadata": {},
     "output_type": "execute_result"
    }
   ],
   "source": [
    "// Try changing the values in the array, or make it a slice!\n",
    "let array = [1, -2, 6];\n",
    "\n",
    "match array {\n",
    "        // Binds the second and the third elements to the respective variables\n",
    "        [0, second, third] =>\n",
    "            println!(\"array[0] = 0, array[1] = {}, array[2] = {}\", second, third),\n",
    "\n",
    "        // Single values can be ignored with _\n",
    "        [1, _, third] => println!(\n",
    "            \"array[0] = 1, array[2] = {} and array[1] was ignored\",\n",
    "            third\n",
    "        ),\n",
    "\n",
    "        // You can also bind some and ignore the rest\n",
    "        [-1, second, ..] => println!(\n",
    "            \"array[0] = -1, array[1] = {} and all the other ones were ignored\",\n",
    "            second\n",
    "        ),\n",
    "        // The code below would not compile\n",
    "        // [-1, second] => ...\n",
    "\n",
    "        // Or store them in another array/slice (the type depends on\n",
    "        // that of the value that is being matched against)\n",
    "        [3, second, tail @ ..] => println!(\n",
    "            \"array[0] = 3, array[1] = {} and the other elements were {:?}\",\n",
    "            second, tail\n",
    "        ),\n",
    "\n",
    "        // Combining these patterns, we can, for example, bind the first and\n",
    "        // last values, and store the rest of them in a single array\n",
    "        [first, middle @ .., last] => println!(\n",
    "            \"array[0] = {}, middle = {:?}, array[2] = {}\",\n",
    "            first, middle, last\n",
    "        ),\n",
    "}"
   ]
  },
  {
   "cell_type": "markdown",
   "id": "598595e5",
   "metadata": {},
   "source": [
    "## 1-4 이넘 패칭처리 "
   ]
  },
  {
   "cell_type": "code",
   "execution_count": 8,
   "id": "469cdc0d",
   "metadata": {},
   "outputs": [],
   "source": [
    "#[allow(dead_code)]\n",
    "enum Color {\n",
    "    // These 3 are specified solely by their name.\n",
    "    Red,\n",
    "    Blue,\n",
    "    Green,\n",
    "    // These likewise tie `u32` tuples to different names: color models.\n",
    "    RGB(u32, u32, u32),\n",
    "    HSV(u32, u32, u32),\n",
    "    HSL(u32, u32, u32),\n",
    "    CMY(u32, u32, u32),\n",
    "    CMYK(u32, u32, u32, u32),\n",
    "}\n",
    "\n",
    "fn main() {\n",
    "    let color = Color::RGB(122, 17, 40);\n",
    "    // TODO ^ Try different variants for `color`\n",
    "\n",
    "    println!(\"What color is it?\");\n",
    "    // An `enum` can be destructured using a `match`.\n",
    "    match color {\n",
    "        Color::Red   => println!(\"The color is Red!\"),\n",
    "        Color::Blue  => println!(\"The color is Blue!\"),\n",
    "        Color::Green => println!(\"The color is Green!\"),\n",
    "        Color::RGB(r, g, b) =>\n",
    "            println!(\"Red: {}, green: {}, and blue: {}!\", r, g, b),\n",
    "        Color::HSV(h, s, v) =>\n",
    "            println!(\"Hue: {}, saturation: {}, value: {}!\", h, s, v),\n",
    "        Color::HSL(h, s, l) =>\n",
    "            println!(\"Hue: {}, saturation: {}, lightness: {}!\", h, s, l),\n",
    "        Color::CMY(c, m, y) =>\n",
    "            println!(\"Cyan: {}, magenta: {}, yellow: {}!\", c, m, y),\n",
    "        Color::CMYK(c, m, y, k) =>\n",
    "            println!(\"Cyan: {}, magenta: {}, yellow: {}, key (black): {}!\",\n",
    "                c, m, y, k),\n",
    "        // Don't need another arm because all variants have been examined\n",
    "    }\n",
    "}\n"
   ]
  },
  {
   "cell_type": "code",
   "execution_count": 9,
   "id": "0cd870fd",
   "metadata": {},
   "outputs": [
    {
     "name": "stdout",
     "output_type": "stream",
     "text": [
      "What color is it?\n",
      "Red: 122, green: 17, and blue: 40!\n"
     ]
    },
    {
     "data": {
      "text/plain": [
       "()"
      ]
     },
     "execution_count": 9,
     "metadata": {},
     "output_type": "execute_result"
    }
   ],
   "source": [
    "main()"
   ]
  },
  {
   "cell_type": "markdown",
   "id": "ad1ecd6d",
   "metadata": {},
   "source": [
    "## 1-5 포인터 참조 패턴 매칭 "
   ]
  },
  {
   "cell_type": "code",
   "execution_count": 10,
   "id": "e90ab680",
   "metadata": {},
   "outputs": [],
   "source": [
    "fn main() {\n",
    "    // Assign a reference of type `i32`. The `&` signifies there\n",
    "    // is a reference being assigned.\n",
    "    let reference = &4;\n",
    "\n",
    "    match reference {\n",
    "        // If `reference` is pattern matched against `&val`, it results\n",
    "        // in a comparison like:\n",
    "        // `&i32`\n",
    "        // `&val`\n",
    "        // ^ We see that if the matching `&`s are dropped, then the `i32`\n",
    "        // should be assigned to `val`.\n",
    "        &val => println!(\"Got a value via destructuring: {:?}\", val),\n",
    "    }\n",
    "\n",
    "    // To avoid the `&`, you dereference before matching.\n",
    "    match *reference {\n",
    "        val => println!(\"Got a value via dereferencing: {:?}\", val),\n",
    "    }\n",
    "\n",
    "    // What if you don't start with a reference? `reference` was a `&`\n",
    "    // because the right side was already a reference. This is not\n",
    "    // a reference because the right side is not one.\n",
    "    let _not_a_reference = 3;\n",
    "\n",
    "    // Rust provides `ref` for exactly this purpose. It modifies the\n",
    "    // assignment so that a reference is created for the element; this\n",
    "    // reference is assigned.\n",
    "    let ref _is_a_reference = 3;\n",
    "\n",
    "    // Accordingly, by defining 2 values without references, references\n",
    "    // can be retrieved via `ref` and `ref mut`.\n",
    "    let value = 5;\n",
    "    let mut mut_value = 6;\n",
    "\n",
    "    // Use `ref` keyword to create a reference.\n",
    "    match value {\n",
    "        ref r => println!(\"Got a reference to a value: {:?}\", r),\n",
    "    }\n",
    "\n",
    "    // Use `ref mut` similarly.\n",
    "    match mut_value {\n",
    "        ref mut m => {\n",
    "            // Got a reference. Gotta dereference it before we can\n",
    "            // add anything to it.\n",
    "            *m += 10;\n",
    "            println!(\"We added 10. `mut_value`: {:?}\", m);\n",
    "        },\n",
    "    }\n",
    "}\n"
   ]
  },
  {
   "cell_type": "code",
   "execution_count": 12,
   "id": "a262a186",
   "metadata": {},
   "outputs": [
    {
     "name": "stdout",
     "output_type": "stream",
     "text": [
      "Got a value via destructuring: 4\n",
      "Got a value via dereferencing: 4\n",
      "Got a reference to a value: 5\n",
      "We added 10. `mut_value`: 16\n"
     ]
    },
    {
     "data": {
      "text/plain": [
       "()"
      ]
     },
     "execution_count": 12,
     "metadata": {},
     "output_type": "execute_result"
    }
   ],
   "source": [
    "main()"
   ]
  },
  {
   "cell_type": "markdown",
   "id": "120bc8d5",
   "metadata": {},
   "source": [
    "## 1-6 구조체 패턴 매칭 "
   ]
  },
  {
   "cell_type": "code",
   "execution_count": 13,
   "id": "79bb6962",
   "metadata": {},
   "outputs": [],
   "source": [
    "fn main() {\n",
    "    struct Foo {\n",
    "        x: (u32, u32),\n",
    "        y: u32,\n",
    "    }\n",
    "\n",
    "    // Try changing the values in the struct to see what happens\n",
    "    let foo = Foo { x: (1, 2), y: 3 };\n",
    "\n",
    "    match foo {\n",
    "        Foo { x: (1, b), y } => println!(\"First of x is 1, b = {},  y = {} \", b, y),\n",
    "\n",
    "        // you can destructure structs and rename the variables,\n",
    "        // the order is not important\n",
    "        Foo { y: 2, x: i } => println!(\"y is 2, i = {:?}\", i),\n",
    "\n",
    "        // and you can also ignore some variables:\n",
    "        Foo { y, .. } => println!(\"y = {}, we don't care about x\", y),\n",
    "        // this will give an error: pattern does not mention field `x`\n",
    "        //Foo { y } => println!(\"y = {}\", y),\n",
    "    }\n",
    "}\n"
   ]
  },
  {
   "cell_type": "code",
   "execution_count": 14,
   "id": "834ee15b",
   "metadata": {},
   "outputs": [
    {
     "name": "stdout",
     "output_type": "stream",
     "text": [
      "First of x is 1, b = 2,  y = 3 \n"
     ]
    },
    {
     "data": {
      "text/plain": [
       "()"
      ]
     },
     "execution_count": 14,
     "metadata": {},
     "output_type": "execute_result"
    }
   ],
   "source": [
    "main()"
   ]
  },
  {
   "cell_type": "code",
   "execution_count": null,
   "id": "784ebd2e",
   "metadata": {},
   "outputs": [],
   "source": []
  },
  {
   "cell_type": "markdown",
   "id": "8f46a51f",
   "metadata": {},
   "source": [
    "## 1-7 가드 처리"
   ]
  },
  {
   "cell_type": "code",
   "execution_count": 15,
   "id": "92248e1f",
   "metadata": {},
   "outputs": [],
   "source": [
    "enum Temperature {\n",
    "    Celsius(i32),\n",
    "    Fahrenheit(i32),\n",
    "}\n",
    "\n",
    "fn main() {\n",
    "    let temperature = Temperature::Celsius(35);\n",
    "    // ^ TODO try different values for `temperature`\n",
    "\n",
    "    match temperature {\n",
    "        Temperature::Celsius(t) if t > 30 => println!(\"{}C is above 30 Celsius\", t),\n",
    "        // The `if condition` part ^ is a guard\n",
    "        Temperature::Celsius(t) => println!(\"{}C is below 30 Celsius\", t),\n",
    "\n",
    "        Temperature::Fahrenheit(t) if t > 86 => println!(\"{}F is above 86 Fahrenheit\", t),\n",
    "        Temperature::Fahrenheit(t) => println!(\"{}F is below 86 Fahrenheit\", t),\n",
    "    }\n",
    "}"
   ]
  },
  {
   "cell_type": "code",
   "execution_count": 16,
   "id": "a5ca5cf5",
   "metadata": {},
   "outputs": [
    {
     "name": "stdout",
     "output_type": "stream",
     "text": [
      "35C is above 30 Celsius\n"
     ]
    },
    {
     "data": {
      "text/plain": [
       "()"
      ]
     },
     "execution_count": 16,
     "metadata": {},
     "output_type": "execute_result"
    }
   ],
   "source": [
    "main()"
   ]
  },
  {
   "cell_type": "code",
   "execution_count": 18,
   "id": "c6f501df",
   "metadata": {},
   "outputs": [],
   "source": [
    "fn main() {\n",
    "    let number: u8 = 4;\n",
    "\n",
    "    match number {\n",
    "        i if i == 0 => println!(\"Zero\"),\n",
    "        i if i > 0 => println!(\"Greater than zero\"),\n",
    "        _ => unreachable!(\"Should never happen.\"),\n",
    "        // TODO ^ uncomment to fix compilation\n",
    "    }\n",
    "}"
   ]
  },
  {
   "cell_type": "code",
   "execution_count": 19,
   "id": "0da77f95",
   "metadata": {},
   "outputs": [
    {
     "name": "stdout",
     "output_type": "stream",
     "text": [
      "Greater than zero\n"
     ]
    },
    {
     "data": {
      "text/plain": [
       "()"
      ]
     },
     "execution_count": 19,
     "metadata": {},
     "output_type": "execute_result"
    }
   ],
   "source": [
    "main()"
   ]
  },
  {
   "cell_type": "markdown",
   "id": "44ca634d",
   "metadata": {},
   "source": [
    "## 1-8 바인딩"
   ]
  },
  {
   "cell_type": "code",
   "execution_count": 20,
   "id": "23773b4e",
   "metadata": {},
   "outputs": [],
   "source": [
    "// A function `age` which returns a `u32`.\n",
    "fn age() -> u32 {\n",
    "    15\n",
    "}\n",
    "\n",
    "fn main() {\n",
    "    println!(\"Tell me what type of person you are\");\n",
    "\n",
    "    match age() {\n",
    "        0             => println!(\"I haven't celebrated my first birthday yet\"),\n",
    "        // Could `match` 1 ..= 12 directly but then what age\n",
    "        // would the child be? Instead, bind to `n` for the\n",
    "        // sequence of 1 ..= 12. Now the age can be reported.\n",
    "        n @ 1  ..= 12 => println!(\"I'm a child of age {:?}\", n),\n",
    "        n @ 13 ..= 19 => println!(\"I'm a teen of age {:?}\", n),\n",
    "        // Nothing bound. Return the result.\n",
    "        n             => println!(\"I'm an old person of age {:?}\", n),\n",
    "    }\n",
    "}\n"
   ]
  },
  {
   "cell_type": "code",
   "execution_count": 21,
   "id": "9f00e120",
   "metadata": {},
   "outputs": [
    {
     "name": "stdout",
     "output_type": "stream",
     "text": [
      "Tell me what type of person you are\n",
      "I'm a teen of age 15\n"
     ]
    },
    {
     "data": {
      "text/plain": [
       "()"
      ]
     },
     "execution_count": 21,
     "metadata": {},
     "output_type": "execute_result"
    }
   ],
   "source": [
    "main()"
   ]
  },
  {
   "cell_type": "code",
   "execution_count": 22,
   "id": "7c38f17a",
   "metadata": {},
   "outputs": [],
   "source": [
    "fn some_number() -> Option<u32> {\n",
    "    Some(42)\n",
    "}\n",
    "\n",
    "fn main() {\n",
    "    match some_number() {\n",
    "        // Got `Some` variant, match if its value, bound to `n`,\n",
    "        // is equal to 42.\n",
    "        Some(n @ 42) => println!(\"The Answer: {}!\", n),\n",
    "        // Match any other number.\n",
    "        Some(n)      => println!(\"Not interesting... {}\", n),\n",
    "        // Match anything else (`None` variant).\n",
    "        _            => (),\n",
    "    }\n",
    "}\n"
   ]
  },
  {
   "cell_type": "code",
   "execution_count": 23,
   "id": "c514572a",
   "metadata": {},
   "outputs": [
    {
     "name": "stdout",
     "output_type": "stream",
     "text": [
      "The Answer: 42!\n"
     ]
    },
    {
     "data": {
      "text/plain": [
       "()"
      ]
     },
     "execution_count": 23,
     "metadata": {},
     "output_type": "execute_result"
    }
   ],
   "source": [
    "main()"
   ]
  },
  {
   "cell_type": "markdown",
   "id": "4a92ec7c",
   "metadata": {},
   "source": [
    "## if let "
   ]
  },
  {
   "cell_type": "code",
   "execution_count": 24,
   "id": "149abf1e",
   "metadata": {},
   "outputs": [
    {
     "name": "stdout",
     "output_type": "stream",
     "text": [
      "This is a really long string and `7`\n"
     ]
    }
   ],
   "source": [
    "// Make `optional` of type `Option<i32>`\n",
    "let optional = Some(7);\n",
    "\n",
    "match optional {\n",
    "    Some(i) => {\n",
    "        println!(\"This is a really long string and `{:?}`\", i);\n",
    "        // ^ Needed 2 indentations just so we could destructure\n",
    "        // `i` from the option.\n",
    "    },\n",
    "    _ => {},\n",
    "    // ^ Required because `match` is exhaustive. Doesn't it seem\n",
    "    // like wasted space?\n",
    "};"
   ]
  },
  {
   "cell_type": "code",
   "execution_count": null,
   "id": "2350a9fb",
   "metadata": {},
   "outputs": [],
   "source": []
  },
  {
   "cell_type": "code",
   "execution_count": 25,
   "id": "d778945b",
   "metadata": {},
   "outputs": [],
   "source": [
    "fn main() {\n",
    "    // All have type `Option<i32>`\n",
    "    let number = Some(7);\n",
    "    let letter: Option<i32> = None;\n",
    "    let emoticon: Option<i32> = None;\n",
    "\n",
    "    // The `if let` construct reads: \"if `let` destructures `number` into\n",
    "    // `Some(i)`, evaluate the block (`{}`).\n",
    "    if let Some(i) = number {\n",
    "        println!(\"Matched {:?}!\", i);\n",
    "    }\n",
    "\n",
    "    // If you need to specify a failure, use an else:\n",
    "    if let Some(i) = letter {\n",
    "        println!(\"Matched {:?}!\", i);\n",
    "    } else {\n",
    "        // Destructure failed. Change to the failure case.\n",
    "        println!(\"Didn't match a number. Let's go with a letter!\");\n",
    "    }\n",
    "\n",
    "    // Provide an altered failing condition.\n",
    "    let i_like_letters = false;\n",
    "\n",
    "    if let Some(i) = emoticon {\n",
    "        println!(\"Matched {:?}!\", i);\n",
    "    // Destructure failed. Evaluate an `else if` condition to see if the\n",
    "    // alternate failure branch should be taken:\n",
    "    } else if i_like_letters {\n",
    "        println!(\"Didn't match a number. Let's go with a letter!\");\n",
    "    } else {\n",
    "        // The condition evaluated false. This branch is the default:\n",
    "        println!(\"I don't like letters. Let's go with an emoticon :)!\");\n",
    "    }\n",
    "}\n"
   ]
  },
  {
   "cell_type": "code",
   "execution_count": 26,
   "id": "08aa0d55",
   "metadata": {},
   "outputs": [
    {
     "name": "stdout",
     "output_type": "stream",
     "text": [
      "Matched 7!\n",
      "Didn't match a number. Let's go with a letter!\n",
      "I don't like letters. Let's go with an emoticon :)!\n"
     ]
    },
    {
     "data": {
      "text/plain": [
       "()"
      ]
     },
     "execution_count": 26,
     "metadata": {},
     "output_type": "execute_result"
    }
   ],
   "source": [
    "main()"
   ]
  },
  {
   "cell_type": "markdown",
   "id": "25f3ed7f",
   "metadata": {},
   "source": [
    "## 1-9 while let"
   ]
  },
  {
   "cell_type": "code",
   "execution_count": 27,
   "id": "20e3db35",
   "metadata": {},
   "outputs": [
    {
     "name": "stdout",
     "output_type": "stream",
     "text": [
      "`i` is `0`. Try again.\n",
      "`i` is `1`. Try again.\n",
      "`i` is `2`. Try again.\n",
      "`i` is `3`. Try again.\n",
      "`i` is `4`. Try again.\n",
      "`i` is `5`. Try again.\n",
      "`i` is `6`. Try again.\n",
      "`i` is `7`. Try again.\n",
      "`i` is `8`. Try again.\n",
      "`i` is `9`. Try again.\n",
      "Greater than 9, quit!\n"
     ]
    },
    {
     "data": {
      "text/plain": [
       "()"
      ]
     },
     "execution_count": 27,
     "metadata": {},
     "output_type": "execute_result"
    }
   ],
   "source": [
    "// Make `optional` of type `Option<i32>`\n",
    "let mut optional = Some(0);\n",
    "\n",
    "// Repeatedly try this test.\n",
    "loop {\n",
    "    match optional {\n",
    "        // If `optional` destructures, evaluate the block.\n",
    "        Some(i) => {\n",
    "            if i > 9 {\n",
    "                println!(\"Greater than 9, quit!\");\n",
    "                optional = None;\n",
    "            } else {\n",
    "                println!(\"`i` is `{:?}`. Try again.\", i);\n",
    "                optional = Some(i + 1);\n",
    "            }\n",
    "            // ^ Requires 3 indentations!\n",
    "        },\n",
    "        // Quit the loop when the destructure fails:\n",
    "        _ => { break; }\n",
    "        // ^ Why should this be required? There must be a better way!\n",
    "    }\n",
    "}"
   ]
  },
  {
   "cell_type": "code",
   "execution_count": null,
   "id": "d0a26750",
   "metadata": {},
   "outputs": [],
   "source": []
  },
  {
   "cell_type": "code",
   "execution_count": 28,
   "id": "1e22e6e7",
   "metadata": {},
   "outputs": [],
   "source": [
    "fn main() {\n",
    "    // Make `optional` of type `Option<i32>`\n",
    "    let mut optional = Some(0);\n",
    "\n",
    "    // This reads: \"while `let` destructures `optional` into\n",
    "    // `Some(i)`, evaluate the block (`{}`). Else `break`.\n",
    "    while let Some(i) = optional {\n",
    "        if i > 9 {\n",
    "            println!(\"Greater than 9, quit!\");\n",
    "            optional = None;\n",
    "        } else {\n",
    "            println!(\"`i` is `{:?}`. Try again.\", i);\n",
    "            optional = Some(i + 1);\n",
    "        }\n",
    "        // ^ Less rightward drift and doesn't require\n",
    "        // explicitly handling the failing case.\n",
    "    }\n",
    "    // ^ `if let` had additional optional `else`/`else if`\n",
    "    // clauses. `while let` does not have these.\n",
    "}"
   ]
  },
  {
   "cell_type": "code",
   "execution_count": 29,
   "id": "70c4f362",
   "metadata": {},
   "outputs": [
    {
     "name": "stdout",
     "output_type": "stream",
     "text": [
      "`i` is `0`. Try again.\n",
      "`i` is `1`. Try again.\n",
      "`i` is `2`. Try again.\n",
      "`i` is `3`. Try again.\n",
      "`i` is `4`. Try again.\n",
      "`i` is `5`. Try again.\n",
      "`i` is `6`. Try again.\n",
      "`i` is `7`. Try again.\n",
      "`i` is `8`. Try again.\n",
      "`i` is `9`. Try again.\n",
      "Greater than 9, quit!\n"
     ]
    },
    {
     "data": {
      "text/plain": [
       "()"
      ]
     },
     "execution_count": 29,
     "metadata": {},
     "output_type": "execute_result"
    }
   ],
   "source": [
    "main()"
   ]
  },
  {
   "cell_type": "code",
   "execution_count": null,
   "id": "fb1c2f28",
   "metadata": {},
   "outputs": [],
   "source": []
  }
 ],
 "metadata": {
  "kernelspec": {
   "display_name": "Rust",
   "language": "rust",
   "name": "rust"
  },
  "language_info": {
   "codemirror_mode": "rust",
   "file_extension": ".rs",
   "mimetype": "text/rust",
   "name": "Rust",
   "pygment_lexer": "rust",
   "version": ""
  }
 },
 "nbformat": 4,
 "nbformat_minor": 5
}
