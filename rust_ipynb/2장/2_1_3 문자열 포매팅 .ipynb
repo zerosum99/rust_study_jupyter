{
 "cells": [
  {
   "cell_type": "markdown",
   "id": "2717bb56",
   "metadata": {},
   "source": [
    "# 1. 문자열 포매팅 : String Interpolation "
   ]
  },
  {
   "cell_type": "markdown",
   "id": "7ee3da8b",
   "metadata": {},
   "source": [
    "## 1-1 변수 참조"
   ]
  },
  {
   "cell_type": "code",
   "execution_count": 2,
   "id": "06127c6e",
   "metadata": {},
   "outputs": [],
   "source": [
    "fn main() {\n",
    "    let city = \"seoul\";\n",
    "    let year = 2022;\n",
    "    \n",
    "    println!(\" I love {city} in {year}\");\n",
    "}"
   ]
  },
  {
   "cell_type": "code",
   "execution_count": 3,
   "id": "4a51893d",
   "metadata": {},
   "outputs": [
    {
     "name": "stdout",
     "output_type": "stream",
     "text": [
      " I love seoul in 2022\n"
     ]
    },
    {
     "data": {
      "text/plain": [
       "()"
      ]
     },
     "execution_count": 3,
     "metadata": {},
     "output_type": "execute_result"
    }
   ],
   "source": [
    "main()"
   ]
  },
  {
   "cell_type": "code",
   "execution_count": null,
   "id": "e1728325",
   "metadata": {},
   "outputs": [],
   "source": []
  },
  {
   "cell_type": "markdown",
   "id": "032437ca",
   "metadata": {},
   "source": [
    "## 1-2 순서확인"
   ]
  },
  {
   "cell_type": "code",
   "execution_count": 4,
   "id": "6bf8b752",
   "metadata": {},
   "outputs": [],
   "source": [
    "fn main() {\n",
    "    let city = \"seoul\";\n",
    "    let year = 2022;\n",
    "    \n",
    "    println!(\" I love {} in {}\", city, year);\n",
    "}"
   ]
  },
  {
   "cell_type": "code",
   "execution_count": 5,
   "id": "9b33216d",
   "metadata": {},
   "outputs": [
    {
     "name": "stdout",
     "output_type": "stream",
     "text": [
      " I love seoul in 2022\n"
     ]
    },
    {
     "data": {
      "text/plain": [
       "()"
      ]
     },
     "execution_count": 5,
     "metadata": {},
     "output_type": "execute_result"
    }
   ],
   "source": [
    "main()"
   ]
  },
  {
   "cell_type": "markdown",
   "id": "5d4e77a8",
   "metadata": {},
   "source": [
    "## 1-3 이름 확인 "
   ]
  },
  {
   "cell_type": "code",
   "execution_count": 7,
   "id": "a2566ef5",
   "metadata": {},
   "outputs": [],
   "source": [
    "fn main() {\n",
    "    let city = \"seoul\";\n",
    "    let year = 2022;\n",
    "    \n",
    "    println!(\" I love {city_} in {year_}\", city_=city, year_=year);\n",
    "}"
   ]
  },
  {
   "cell_type": "code",
   "execution_count": 8,
   "id": "49947ad0",
   "metadata": {},
   "outputs": [
    {
     "name": "stdout",
     "output_type": "stream",
     "text": [
      " I love seoul in 2022\n"
     ]
    },
    {
     "data": {
      "text/plain": [
       "()"
      ]
     },
     "execution_count": 8,
     "metadata": {},
     "output_type": "execute_result"
    }
   ],
   "source": [
    "main()"
   ]
  },
  {
   "cell_type": "markdown",
   "id": "e1cd05f6",
   "metadata": {},
   "source": [
    "## 1-4 위치 확인"
   ]
  },
  {
   "cell_type": "code",
   "execution_count": 9,
   "id": "00423590",
   "metadata": {},
   "outputs": [],
   "source": [
    "fn main() {\n",
    "    let city = \"seoul\";\n",
    "    let year = 2022;\n",
    "    \n",
    "    println!(\" I love {0} in {1}....{0}\", city, year);\n",
    "}"
   ]
  },
  {
   "cell_type": "code",
   "execution_count": 10,
   "id": "d3d59bae",
   "metadata": {},
   "outputs": [
    {
     "name": "stdout",
     "output_type": "stream",
     "text": [
      " I love seoul in 2022....seoul\n"
     ]
    },
    {
     "data": {
      "text/plain": [
       "()"
      ]
     },
     "execution_count": 10,
     "metadata": {},
     "output_type": "execute_result"
    }
   ],
   "source": [
    "main()"
   ]
  },
  {
   "cell_type": "code",
   "execution_count": null,
   "id": "c16c2b94",
   "metadata": {},
   "outputs": [],
   "source": []
  }
 ],
 "metadata": {
  "kernelspec": {
   "display_name": "Rust",
   "language": "rust",
   "name": "rust"
  },
  "language_info": {
   "codemirror_mode": "rust",
   "file_extension": ".rs",
   "mimetype": "text/rust",
   "name": "Rust",
   "pygment_lexer": "rust",
   "version": ""
  }
 },
 "nbformat": 4,
 "nbformat_minor": 5
}
