{
 "cells": [
  {
   "cell_type": "code",
   "execution_count": null,
   "id": "03a9b4bb",
   "metadata": {},
   "outputs": [],
   "source": []
  },
  {
   "cell_type": "markdown",
   "id": "6de231c5",
   "metadata": {},
   "source": [
    "## 1. 문자열 처리 \n",
    "\n",
    "- 문자열 리터럴과 문자열 구분"
   ]
  },
  {
   "cell_type": "code",
   "execution_count": null,
   "id": "6e74a585",
   "metadata": {},
   "outputs": [],
   "source": []
  },
  {
   "cell_type": "markdown",
   "id": "74b39336",
   "metadata": {},
   "source": [
    "## 문자열 리터럴\n",
    "\n",
    "- 문자열 리터럴은 &str 로 실제 내부에 변경불가한 문자열의 슬라이스이다. \n",
    "- 그래서 문자열은 실제 문자열 포인터와 길이를 가진 포인터 "
   ]
  },
  {
   "cell_type": "code",
   "execution_count": 9,
   "id": "1f95b133",
   "metadata": {},
   "outputs": [],
   "source": [
    "use std::any::type_name;\n",
    "\n",
    "fn type_of<T>(_: T) -> &'static str {\n",
    "    type_name::<T>()\n",
    "}"
   ]
  },
  {
   "cell_type": "markdown",
   "id": "e9c7a7a7",
   "metadata": {},
   "source": [
    "### str이란?\n",
    "- str은 Rust의 기본 유형으로, 문자열 리터럴을 나타내며 애플리케이션 바이너리의 데이터 세그먼트에 데이터가 할당됩니다.\n",
    "\n",
    "### 문자열 리터럴이란 무엇인가요?\n",
    "- 문자열 리터럴은 문자열 슬라이스 또는 큰따옴표(\"\")로 묶인 문자 시퀀스입니다."
   ]
  },
  {
   "cell_type": "code",
   "execution_count": 11,
   "id": "6169b752",
   "metadata": {},
   "outputs": [
    {
     "name": "stdout",
     "output_type": "stream",
     "text": [
      "type of : &str\n",
      "12\n"
     ]
    }
   ],
   "source": [
    "let s = \"Hello, Rust!\";\n",
    "println!(\"type of : {}\", type_of(s));  // 현재의 타입 \n",
    "println!(\"{}\", s.len());                // 문자열 길이 "
   ]
  },
  {
   "cell_type": "markdown",
   "id": "e193c052",
   "metadata": {},
   "source": [
    "## 문자열 \n",
    "\n",
    "- 문자열은 포인터와 전체 용량과 문자열 길이를 가지 구조이다."
   ]
  },
  {
   "cell_type": "code",
   "execution_count": 13,
   "id": "fccbf2cf",
   "metadata": {},
   "outputs": [
    {
     "name": "stdout",
     "output_type": "stream",
     "text": [
      "type of : &alloc::string::String\n",
      "12\n",
      "24\n"
     ]
    }
   ],
   "source": [
    "let mut s = String::from(\"Hello, Rust!\");\n",
    "println!(\"type of : {}\", type_of(&s));     // 현재의 타입 \n",
    "println!(\"{}\", s.capacity());             // prints 12\n",
    "s.push_str(\"Here I come!\");\n",
    "println!(\"{}\", s.len());                  // prints 24"
   ]
  },
  {
   "cell_type": "code",
   "execution_count": null,
   "id": "eb45a069",
   "metadata": {},
   "outputs": [],
   "source": []
  },
  {
   "cell_type": "markdown",
   "id": "c098d966",
   "metadata": {},
   "source": [
    "## 문자열 참조와 문자열 리터럴 비교해보기\n",
    "\n",
    "- 문자열 참조는 &String\n",
    "- 문자열 리터럴은 &str"
   ]
  },
  {
   "cell_type": "markdown",
   "id": "303dbadc",
   "metadata": {},
   "source": [
    "### 함수의 매개변수 타입의 문자열리터럴 타입\n",
    "\n",
    "- 문자열 참조를 전달해서 동일하게 처리된다 "
   ]
  },
  {
   "cell_type": "code",
   "execution_count": 5,
   "id": "40f9ad6e",
   "metadata": {},
   "outputs": [],
   "source": [
    "fn main() {\n",
    "    let s = String::from(\"Hello, Rust!\");\n",
    "    foo(&s);\n",
    "}\n",
    "\n",
    "fn foo(s: &str) {\n",
    "    println!(\"{}\", s);\n",
    "}"
   ]
  },
  {
   "cell_type": "code",
   "execution_count": 6,
   "id": "67b14a82",
   "metadata": {},
   "outputs": [
    {
     "name": "stdout",
     "output_type": "stream",
     "text": [
      "Hello, Rust!\n"
     ]
    }
   ],
   "source": [
    "main();"
   ]
  },
  {
   "cell_type": "markdown",
   "id": "5866f5dd",
   "metadata": {},
   "source": [
    "### 문자열 참조로 변경할 때는 문자열 리터럴이 아닌 문자열 참조를 사용\n",
    "\n",
    "- 문자열 참조로 변경할 때는 &mut String으로 처리"
   ]
  },
  {
   "cell_type": "code",
   "execution_count": 7,
   "id": "51cc8047",
   "metadata": {},
   "outputs": [],
   "source": [
    "fn main() {\n",
    "    let mut s = String::from(\"Hello, Rust!\");\n",
    "    foo(&mut s);\n",
    "}\n",
    "\n",
    "fn foo(s: &mut String) {\n",
    "    s.push_str(\"appending foo..\");\n",
    "    println!(\"{}\", s);\n",
    "}"
   ]
  },
  {
   "cell_type": "code",
   "execution_count": 8,
   "id": "e51766f2",
   "metadata": {},
   "outputs": [
    {
     "name": "stdout",
     "output_type": "stream",
     "text": [
      "Hello, Rust!appending foo..\n"
     ]
    }
   ],
   "source": [
    "main();"
   ]
  },
  {
   "cell_type": "code",
   "execution_count": null,
   "id": "7236a23f",
   "metadata": {},
   "outputs": [],
   "source": []
  },
  {
   "cell_type": "code",
   "execution_count": null,
   "id": "826155f0",
   "metadata": {},
   "outputs": [],
   "source": []
  },
  {
   "cell_type": "markdown",
   "id": "38abbda2",
   "metadata": {},
   "source": [
    "## 2. 문자열 생성"
   ]
  },
  {
   "cell_type": "markdown",
   "id": "c5403b80",
   "metadata": {},
   "source": [
    "### 문자열 생성하기 \n",
    "- 문자열 용량의 사이즈를 정해서 처리 "
   ]
  },
  {
   "cell_type": "code",
   "execution_count": 17,
   "id": "4c07686c",
   "metadata": {},
   "outputs": [
    {
     "name": "stdout",
     "output_type": "stream",
     "text": [
      "my_string: 3\n"
     ]
    }
   ],
   "source": [
    "let mut my_string = String::with_capacity(3);\n",
    "println!(\"my_string: {}\", my_string.capacity()); \n",
    "my_string.push('a'); // capacity is 3, length is 1\n",
    "my_string.push('b'); // capacity is 3, length is 2\n",
    "my_string.push('c'); // capacity is 3, length is 3\n",
    "my_string.push('d'); // capacity could double, length is 4"
   ]
  },
  {
   "cell_type": "code",
   "execution_count": 18,
   "id": "38b7461f",
   "metadata": {},
   "outputs": [
    {
     "data": {
      "text/plain": [
       "\"abcd\""
      ]
     },
     "execution_count": 18,
     "metadata": {},
     "output_type": "execute_result"
    }
   ],
   "source": [
    "my_string"
   ]
  },
  {
   "cell_type": "code",
   "execution_count": 19,
   "id": "87cf3638",
   "metadata": {},
   "outputs": [
    {
     "name": "stdout",
     "output_type": "stream",
     "text": [
      "my_string: 8\n"
     ]
    }
   ],
   "source": [
    "println!(\"my_string: {}\", my_string.capacity());             "
   ]
  },
  {
   "cell_type": "code",
   "execution_count": null,
   "id": "ef5f5857",
   "metadata": {},
   "outputs": [],
   "source": []
  },
  {
   "cell_type": "markdown",
   "id": "5d88e260",
   "metadata": {},
   "source": [
    "### 문자열 리터럴을 문자열로 변환\n",
    "- 문자열 슬라이스를 소유권을 가진 String으로 바꿀 때는 to_owned()가 to_string()보다 빠르다고 한다. \n",
    "- 왜냐하면 to_owned가 문자열 리터럴 등을 소유권을 가진 문자열로 바꾸는데 더 특화된 메서드이기 때문이라고 한다.\n",
    "- 이와 대조적으로, to_string()은 문자열뿐만 아니라 다양한 타입을 문자열로 바꾸는데 사용되기 때문에 그러한 값들을 문자열로 바꾸는 추가적인 작업이 있기 때문에 to_owned()보다 느린 것이라고 한다."
   ]
  },
  {
   "cell_type": "code",
   "execution_count": 22,
   "id": "a6ebdb6c",
   "metadata": {},
   "outputs": [
    {
     "name": "stdout",
     "output_type": "stream",
     "text": [
      " sts = alloc::string::String\n"
     ]
    }
   ],
   "source": [
    "let ss = \"문자열리터럴\";\n",
    "\n",
    "let sts = ss.to_owned();\n",
    "\n",
    "println!(\" sts = {}\", type_of(sts));"
   ]
  },
  {
   "cell_type": "code",
   "execution_count": 23,
   "id": "e3296096",
   "metadata": {},
   "outputs": [
    {
     "name": "stdout",
     "output_type": "stream",
     "text": [
      " sts = alloc::string::String\n"
     ]
    }
   ],
   "source": [
    "let ss1 = \"문자열리터럴\";\n",
    "\n",
    "let sts1 = ss1.to_string();\n",
    "\n",
    "println!(\" sts1 = {}\", type_of(sts1));"
   ]
  },
  {
   "cell_type": "code",
   "execution_count": null,
   "id": "7bcfdc17",
   "metadata": {},
   "outputs": [],
   "source": []
  }
 ],
 "metadata": {
  "kernelspec": {
   "display_name": "Rust",
   "language": "rust",
   "name": "rust"
  },
  "language_info": {
   "codemirror_mode": "rust",
   "file_extension": ".rs",
   "mimetype": "text/rust",
   "name": "Rust",
   "pygment_lexer": "rust",
   "version": ""
  }
 },
 "nbformat": 4,
 "nbformat_minor": 5
}
