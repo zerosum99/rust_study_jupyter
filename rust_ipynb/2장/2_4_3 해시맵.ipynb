{
 "cells": [
  {
   "cell_type": "code",
   "execution_count": null,
   "id": "59a78159",
   "metadata": {},
   "outputs": [],
   "source": []
  },
  {
   "cell_type": "markdown",
   "id": "a851136a",
   "metadata": {},
   "source": [
    "## 해시맵 알아보기"
   ]
  },
  {
   "cell_type": "markdown",
   "id": "0e986d9c",
   "metadata": {},
   "source": [
    "### 해시맵을 기본이 아니라서 추가적으로 사용하도록 지정이 필요"
   ]
  },
  {
   "cell_type": "code",
   "execution_count": 18,
   "id": "1a63a474",
   "metadata": {},
   "outputs": [],
   "source": [
    "use std::collections::HashMap;"
   ]
  },
  {
   "cell_type": "markdown",
   "id": "df2e8fdf",
   "metadata": {},
   "source": [
    "### 빈 해시맵 만들어서 원소 추가하기"
   ]
  },
  {
   "cell_type": "code",
   "execution_count": 2,
   "id": "b58a6d1a",
   "metadata": {},
   "outputs": [],
   "source": [
    "use std::collections::HashMap;\n",
    "\n",
    "fn main() {\n",
    "    let mut scores = HashMap::new();\n",
    "\n",
    "    scores.insert(String::from(\"Blue\"), 10);\n",
    "    scores.insert(String::from(\"Yellow\"), 50);\n",
    "    \n",
    "    println!(\"map : {:?}\", scores);\n",
    "}"
   ]
  },
  {
   "cell_type": "code",
   "execution_count": 3,
   "id": "bf387c4d",
   "metadata": {},
   "outputs": [
    {
     "name": "stdout",
     "output_type": "stream",
     "text": [
      "map : {\"Yellow\": 50, \"Blue\": 10}\n"
     ]
    }
   ],
   "source": [
    "main();"
   ]
  },
  {
   "cell_type": "code",
   "execution_count": null,
   "id": "9c4a0edc",
   "metadata": {},
   "outputs": [],
   "source": []
  },
  {
   "cell_type": "markdown",
   "id": "37bf1e76",
   "metadata": {},
   "source": [
    "### 해시맵을 출력할 때는 키와 값을 쌍으로 편집하기\n",
    "\n",
    "- placeholder 내에 #을 처리"
   ]
  },
  {
   "cell_type": "code",
   "execution_count": 4,
   "id": "684d7b02",
   "metadata": {},
   "outputs": [],
   "source": [
    "fn main() {\n",
    "    let mut scores = HashMap::new();\n",
    "\n",
    "    scores.insert(String::from(\"Blue\"), 10);\n",
    "    scores.insert(String::from(\"Yellow\"), 50);\n",
    "    \n",
    "    println!(\"map : {:#?}\", scores);\n",
    "}"
   ]
  },
  {
   "cell_type": "code",
   "execution_count": 5,
   "id": "f54ba479",
   "metadata": {},
   "outputs": [
    {
     "name": "stdout",
     "output_type": "stream",
     "text": [
      "map : {\n",
      "    \"Blue\": 10,\n",
      "    \"Yellow\": 50,\n",
      "}\n"
     ]
    }
   ],
   "source": [
    "main();"
   ]
  },
  {
   "cell_type": "markdown",
   "id": "8e649d9c",
   "metadata": {},
   "source": [
    "### 해시맵의 구조\n",
    "\n",
    "- 키와 값을 쌍으로 구성하는 이유는 실제 해시맵을 만들때 튜플로 키와 값을 순서쌍을 만들어서 처리 가능"
   ]
  },
  {
   "cell_type": "code",
   "execution_count": 10,
   "id": "4bbfb2ff",
   "metadata": {},
   "outputs": [],
   "source": [
    "fn main() { \n",
    "    let teams  = vec![String::from(\"Blue\"), String::from(\"Yellow\")];\n",
    "    let initial_scores = vec![10, 50];\n",
    "\n",
    "    let scores: HashMap<_, _> = teams.iter().zip(initial_scores.iter()).collect();\n",
    "    println!(\"Zip 처리는 완변한 실행이 된게 아니다 : {:#?}\", \n",
    "                                     teams.iter().zip(initial_scores.iter()));\n",
    "    println!(\"map : {:#?}\", scores);\n",
    "}\n"
   ]
  },
  {
   "cell_type": "code",
   "execution_count": 11,
   "id": "89a7b4fb",
   "metadata": {},
   "outputs": [
    {
     "name": "stdout",
     "output_type": "stream",
     "text": [
      "Zip 처리는 완변한 실행이 된게 아니다 : Zip\n",
      "map : {\n",
      "    \"Yellow\": 50,\n",
      "    \"Blue\": 10,\n",
      "}\n"
     ]
    }
   ],
   "source": [
    "main();"
   ]
  },
  {
   "cell_type": "code",
   "execution_count": null,
   "id": "780b0a14",
   "metadata": {},
   "outputs": [],
   "source": []
  },
  {
   "cell_type": "markdown",
   "id": "b61e8f17",
   "metadata": {},
   "source": [
    "### 해시맵을 많들 때 소유권 적용 알아보기\n",
    "\n",
    "- 변수에 지정된 문자열은 해시가 만들어지면서 이동한다.\n",
    "- 그래서 기존 변수는 drop 된다. "
   ]
  },
  {
   "cell_type": "code",
   "execution_count": 12,
   "id": "94e9f37c",
   "metadata": {},
   "outputs": [
    {
     "ename": "Error",
     "evalue": "borrow of moved value: `field_name`",
     "output_type": "error",
     "traceback": [
      "    map.insert(field_name, field_value);",
      "\u001b[91m               ^^^^^^^^^^\u001b[0m \u001b[94mvalue moved here\u001b[0m",
      "    println!(\"field_name : {}\", field_name);",
      "\u001b[91m                                ^^^^^^^^^^\u001b[0m \u001b[94mvalue borrowed here after move\u001b[0m",
      "    let field_name = String::from(\"Favorite color\");",
      "\u001b[91m        ^^^^^^^^^^\u001b[0m \u001b[94mmove occurs because `field_name` has type `String`, which does not implement the `Copy` trait\u001b[0m",
      "borrow of moved value: `field_name`"
     ]
    }
   ],
   "source": [
    "fn main() {\n",
    "    let field_name = String::from(\"Favorite color\");\n",
    "    let field_value = String::from(\"Blue\");\n",
    "\n",
    "    let mut map = HashMap::new();\n",
    "    map.insert(field_name, field_value);\n",
    "    // field_name과 field_value은 이 지점부터 유효하지 않습니다.\n",
    "    // 이들을 이용하는 시도를 해보고 어떤 컴파일러 에러가 나오는지 보세요!\n",
    "    println!(\"field_name : {}\", field_name);\n",
    "}"
   ]
  },
  {
   "cell_type": "markdown",
   "id": "b04ef793",
   "metadata": {},
   "source": [
    "### 해시 맵을 만들 때 원시 자료형은 복사가 된다."
   ]
  },
  {
   "cell_type": "code",
   "execution_count": 16,
   "id": "46b8bf91",
   "metadata": {},
   "outputs": [],
   "source": [
    "fn main() {\n",
    "    let field_name = 100;\n",
    "    let field_value = 100;\n",
    "\n",
    "    let mut map = HashMap::new();\n",
    "    map.insert(field_name, field_value);\n",
    "    println!(\"field_name : {}\", field_name);\n",
    "    println!(\"field_value : {}\", field_value);\n",
    "}"
   ]
  },
  {
   "cell_type": "code",
   "execution_count": 17,
   "id": "30ff7036",
   "metadata": {},
   "outputs": [
    {
     "name": "stdout",
     "output_type": "stream",
     "text": [
      "field_name : 100\n",
      "field_value : 100\n"
     ]
    }
   ],
   "source": [
    "main();"
   ]
  },
  {
   "cell_type": "code",
   "execution_count": null,
   "id": "78276c59",
   "metadata": {},
   "outputs": [],
   "source": []
  },
  {
   "cell_type": "markdown",
   "id": "2a6ba423",
   "metadata": {},
   "source": [
    "### 해시맵 내의 값 접근하기\n",
    "\n",
    "- get 메서드는 사용하면 Option 이넘이므로 값이 있으면 Some(값)이고 없으면 None 이다"
   ]
  },
  {
   "cell_type": "code",
   "execution_count": 20,
   "id": "62761f97",
   "metadata": {},
   "outputs": [],
   "source": [
    "fn main() {\n",
    "    let mut scores = HashMap::new();\n",
    "\n",
    "    scores.insert(String::from(\"Blue\"), 10);\n",
    "    scores.insert(String::from(\"Yellow\"), 50);\n",
    "\n",
    "    let team_name = String::from(\"Blue\");\n",
    "    let score = scores.get(&team_name);\n",
    "    \n",
    "    println!(\" 맵의 하나 원소 : {:?}\",score);\n",
    "\n",
    "}"
   ]
  },
  {
   "cell_type": "code",
   "execution_count": 21,
   "id": "02df6022",
   "metadata": {},
   "outputs": [
    {
     "name": "stdout",
     "output_type": "stream",
     "text": [
      " 맵의 하나 원소 : Some(10)\n"
     ]
    }
   ],
   "source": [
    "main();"
   ]
  },
  {
   "cell_type": "code",
   "execution_count": null,
   "id": "9de5fdc4",
   "metadata": {},
   "outputs": [],
   "source": []
  },
  {
   "cell_type": "markdown",
   "id": "5d0896d1",
   "metadata": {},
   "source": [
    "### 순환문으로 원소를 접근하기 \n",
    "\n",
    "- 참조를 사용하지 않으면 해시맵이 원소가 다 이동한다. "
   ]
  },
  {
   "cell_type": "code",
   "execution_count": 26,
   "id": "a5fb209d",
   "metadata": {},
   "outputs": [
    {
     "ename": "Error",
     "evalue": "`HashMap<String, {integer}>` doesn't implement `std::fmt::Display`",
     "output_type": "error",
     "traceback": [
      "\u001b[31m[E0277] Error:\u001b[0m `HashMap<String, {integer}>` doesn't implement `std::fmt::Display`",
      "    \u001b[38;5;246m╭\u001b[0m\u001b[38;5;246m─\u001b[0m\u001b[38;5;246m[\u001b[0mcommand_26:1:1\u001b[38;5;246m]\u001b[0m",
      "    \u001b[38;5;246m│\u001b[0m",
      " \u001b[38;5;246m11 │\u001b[0m \u001b[38;5;249m \u001b[0m\u001b[38;5;249m \u001b[0m\u001b[38;5;249m \u001b[0m\u001b[38;5;249m \u001b[0m\u001b[38;5;249mp\u001b[0m\u001b[38;5;249mr\u001b[0m\u001b[38;5;249mi\u001b[0m\u001b[38;5;249mn\u001b[0m\u001b[38;5;249mt\u001b[0m\u001b[38;5;249ml\u001b[0m\u001b[38;5;249mn\u001b[0m\u001b[38;5;249m!\u001b[0m\u001b[38;5;249m(\u001b[0m\u001b[38;5;249m\"\u001b[0m\u001b[38;5;249ms\u001b[0m\u001b[38;5;249mc\u001b[0m\u001b[38;5;249mo\u001b[0m\u001b[38;5;249mr\u001b[0m\u001b[38;5;249me\u001b[0m\u001b[38;5;249ms\u001b[0m\u001b[38;5;249m \u001b[0m\u001b[38;5;249m:\u001b[0m\u001b[38;5;249m \u001b[0m\u001b[38;5;249m{\u001b[0m\u001b[38;5;249m}\u001b[0m\u001b[38;5;249m:\u001b[0m\u001b[38;5;249m?\u001b[0m\u001b[38;5;249m\"\u001b[0m\u001b[38;5;249m,\u001b[0m\u001b[38;5;249m \u001b[0m\u001b[38;5;54ms\u001b[0m\u001b[38;5;54mc\u001b[0m\u001b[38;5;54mo\u001b[0m\u001b[38;5;54mr\u001b[0m\u001b[38;5;54me\u001b[0m\u001b[38;5;54ms\u001b[0m\u001b[38;5;249m)\u001b[0m\u001b[38;5;249m;\u001b[0m",
      " \u001b[38;5;246m   ·\u001b[0m                               \u001b[38;5;54m─\u001b[0m\u001b[38;5;54m─\u001b[0m\u001b[38;5;54m─\u001b[0m\u001b[38;5;54m┬\u001b[0m\u001b[38;5;54m─\u001b[0m\u001b[38;5;54m─\u001b[0m  ",
      " \u001b[38;5;246m   ·\u001b[0m                                  \u001b[38;5;54m╰\u001b[0m\u001b[38;5;54m─\u001b[0m\u001b[38;5;54m─\u001b[0m\u001b[38;5;54m─\u001b[0m\u001b[38;5;54m─\u001b[0m `HashMap<String, {integer}>` cannot be formatted with the default formatter",
      "\u001b[38;5;246m────╯\u001b[0m"
     ]
    }
   ],
   "source": [
    "fn main() {\n",
    "    let mut scores = HashMap::new();\n",
    "\n",
    "    scores.insert(String::from(\"Blue\"), 10);\n",
    "    scores.insert(String::from(\"Yellow\"), 50);\n",
    "\n",
    "    for (key, value) in scores {\n",
    "        println!(\"{}: {}\", key, value);\n",
    "    }\n",
    "    \n",
    "    println!(\"scores : {}:?\", scores);\n",
    "}"
   ]
  },
  {
   "cell_type": "markdown",
   "id": "6979ec1a",
   "metadata": {},
   "source": [
    "### 해시맵 인스턴스를 계속 사용하려면 반드시 참조로 접근해서 사용"
   ]
  },
  {
   "cell_type": "code",
   "execution_count": 22,
   "id": "964c0ab0",
   "metadata": {},
   "outputs": [],
   "source": [
    "fn main() {\n",
    "    let mut scores = HashMap::new();\n",
    "\n",
    "    scores.insert(String::from(\"Blue\"), 10);\n",
    "    scores.insert(String::from(\"Yellow\"), 50);\n",
    "\n",
    "    for (key, value) in &scores {\n",
    "        println!(\"{}: {}\", key, value);\n",
    "    }\n",
    "}"
   ]
  },
  {
   "cell_type": "code",
   "execution_count": 23,
   "id": "eff73533",
   "metadata": {},
   "outputs": [
    {
     "name": "stdout",
     "output_type": "stream",
     "text": [
      "Blue: 10\n",
      "Yellow: 50\n"
     ]
    },
    {
     "data": {
      "text/plain": [
       "()"
      ]
     },
     "execution_count": 23,
     "metadata": {},
     "output_type": "execute_result"
    }
   ],
   "source": [
    "main()"
   ]
  },
  {
   "cell_type": "code",
   "execution_count": null,
   "id": "7aec806b",
   "metadata": {},
   "outputs": [],
   "source": []
  },
  {
   "cell_type": "markdown",
   "id": "777be143",
   "metadata": {},
   "source": [
    "### 해시맵의 값 처리 방식 "
   ]
  },
  {
   "cell_type": "code",
   "execution_count": 27,
   "id": "0d6ee813",
   "metadata": {},
   "outputs": [],
   "source": [
    "fn main() {\n",
    "    let mut scores = HashMap::new();\n",
    "\n",
    "    scores.insert(String::from(\"Blue\"), 10);\n",
    "    scores.insert(String::from(\"Blue\"), 25);\n",
    "\n",
    "    println!(\"{:?}\", scores);\n",
    "}"
   ]
  },
  {
   "cell_type": "code",
   "execution_count": 28,
   "id": "39a3d95f",
   "metadata": {},
   "outputs": [
    {
     "name": "stdout",
     "output_type": "stream",
     "text": [
      "{\"Blue\": 25}\n"
     ]
    },
    {
     "data": {
      "text/plain": [
       "()"
      ]
     },
     "execution_count": 28,
     "metadata": {},
     "output_type": "execute_result"
    }
   ],
   "source": [
    "main()"
   ]
  },
  {
   "cell_type": "markdown",
   "id": "9850b4bb",
   "metadata": {},
   "source": [
    "### 키에 할당된 값이 없을 경우에만 삽입하기\n",
    "- 특정 키가 값을 가지고 있는지 검사하고, 만일 가지고 있지 않다면 이 키에 대한 값을 삽입하고자 하는 경우는 흔히 발생합니다. \n",
    "- 해쉬맵은 이를 위하여 entry라고 하는 특별한 API를 가지고 있는데, 이는 우리가 검사하고자 하는 키를 파라미터로 받습니다. \n",
    "- entry 함수의 리턴값은 열거형 Entry인데, 해당 키가 있는지 혹은 없는지를 나타냅니다. \n",
    "- 우리가 옐로우 팀에 대한 키가 연관된 값을 가지고 있는지 검사하고 싶어한다고 해봅시다. \n",
    "- 만일 없다면, 값 50을 삽입하고, 블루팀에 대해서도 똑같이 하고 싶습니다. "
   ]
  },
  {
   "cell_type": "code",
   "execution_count": 29,
   "id": "aa90cebb",
   "metadata": {},
   "outputs": [],
   "source": [
    "fn main() {\n",
    "    let mut scores = HashMap::new();\n",
    "    scores.insert(String::from(\"Blue\"), 10);\n",
    "\n",
    "    scores.entry(String::from(\"Yellow\")).or_insert(50);\n",
    "    scores.entry(String::from(\"Blue\")).or_insert(50);\n",
    "\n",
    "    println!(\"{:?}\", scores);\n",
    "}"
   ]
  },
  {
   "cell_type": "code",
   "execution_count": 30,
   "id": "0840b04a",
   "metadata": {},
   "outputs": [
    {
     "name": "stdout",
     "output_type": "stream",
     "text": [
      "{\"Blue\": 10, \"Yellow\": 50}\n"
     ]
    },
    {
     "data": {
      "text/plain": [
       "()"
      ]
     },
     "execution_count": 30,
     "metadata": {},
     "output_type": "execute_result"
    }
   ],
   "source": [
    "main()"
   ]
  },
  {
   "cell_type": "code",
   "execution_count": null,
   "id": "f6395211",
   "metadata": {},
   "outputs": [],
   "source": []
  },
  {
   "cell_type": "markdown",
   "id": "3db2c0b6",
   "metadata": {},
   "source": [
    "### 문자열 개수를 세는 해시 맵 처리\n",
    "\n",
    "- or_insert 메소드는 실제로는 해당 키에 대한 값의 가변 참조자 (&mut V)를 반환합니다. \n",
    "- 여기서는 count 변수에 가변 참조자를 저장하였고, 여기에 값을 할당하기 위해 먼저 애스터리스크 (*)를 사용하여 count를 역참조해야 합니다. \n",
    "- 가변 참조자는 for 루프의 끝에서 스코프 밖으로 벗어나고, 따라서 모든 값들의 변경은 안전하며 빌림 규칙에 위배되지 않습니다."
   ]
  },
  {
   "cell_type": "code",
   "execution_count": 35,
   "id": "c90cade2",
   "metadata": {},
   "outputs": [],
   "source": [
    "fn main() {\n",
    "    let text = \"hello world wonderful world\";\n",
    "\n",
    "    let mut map = HashMap::new();\n",
    "\n",
    "    for word in text.split_whitespace() {\n",
    "        let count = map.entry(word).or_insert(0);\n",
    "        println!(\" word : {}, count : {:?}\", word,count);\n",
    "        *count += 1;\n",
    "    }\n",
    "\n",
    "    println!(\"{:?}\", map);\n",
    "}"
   ]
  },
  {
   "cell_type": "code",
   "execution_count": 36,
   "id": "8f5b84f4",
   "metadata": {},
   "outputs": [
    {
     "name": "stdout",
     "output_type": "stream",
     "text": [
      " word : hello, count : 0\n",
      " word : world, count : 0\n",
      " word : wonderful, count : 0\n",
      " word : world, count : 1\n",
      "{\"world\": 2, \"hello\": 1, \"wonderful\": 1}\n"
     ]
    },
    {
     "data": {
      "text/plain": [
       "()"
      ]
     },
     "execution_count": 36,
     "metadata": {},
     "output_type": "execute_result"
    }
   ],
   "source": [
    "main()"
   ]
  },
  {
   "cell_type": "code",
   "execution_count": null,
   "id": "51229a26",
   "metadata": {},
   "outputs": [],
   "source": []
  }
 ],
 "metadata": {
  "kernelspec": {
   "display_name": "Rust",
   "language": "rust",
   "name": "rust"
  },
  "language_info": {
   "codemirror_mode": "rust",
   "file_extension": ".rs",
   "mimetype": "text/rust",
   "name": "Rust",
   "pygment_lexer": "rust",
   "version": ""
  }
 },
 "nbformat": 4,
 "nbformat_minor": 5
}
