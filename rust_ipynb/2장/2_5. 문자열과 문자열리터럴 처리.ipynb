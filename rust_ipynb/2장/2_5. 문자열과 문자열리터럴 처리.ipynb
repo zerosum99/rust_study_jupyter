{
 "cells": [
  {
   "cell_type": "markdown",
   "id": "711fdeb0",
   "metadata": {},
   "source": [
    "## 문자 \n",
    "\n",
    "- 는 일단 u8 => char로 처리"
   ]
  },
  {
   "cell_type": "code",
   "execution_count": 17,
   "id": "1a0d6a7f",
   "metadata": {},
   "outputs": [],
   "source": [
    "let s : u8 = 65 ;"
   ]
  },
  {
   "cell_type": "code",
   "execution_count": 18,
   "id": "46041a8c",
   "metadata": {},
   "outputs": [
    {
     "name": "stdout",
     "output_type": "stream",
     "text": [
      "65\n"
     ]
    }
   ],
   "source": [
    "println!(\"{s}\");"
   ]
  },
  {
   "cell_type": "markdown",
   "id": "5ddf7d90",
   "metadata": {},
   "source": [
    "### as 연산자는 프리미티브 타입만 가능"
   ]
  },
  {
   "cell_type": "code",
   "execution_count": 19,
   "id": "fbfab9bc",
   "metadata": {},
   "outputs": [],
   "source": [
    "let c = s as char;"
   ]
  },
  {
   "cell_type": "code",
   "execution_count": 20,
   "id": "deeaac78",
   "metadata": {},
   "outputs": [
    {
     "name": "stdout",
     "output_type": "stream",
     "text": [
      "A\n"
     ]
    }
   ],
   "source": [
    "println!(\"{c}\");"
   ]
  },
  {
   "cell_type": "code",
   "execution_count": 44,
   "id": "9afea8e5",
   "metadata": {},
   "outputs": [],
   "source": [
    "use std::iter::Iterator;"
   ]
  },
  {
   "cell_type": "code",
   "execution_count": 46,
   "id": "a4fa88e1",
   "metadata": {},
   "outputs": [
    {
     "ename": "Error",
     "evalue": "generic parameters without surrounding angle brackets",
     "output_type": "error",
     "traceback": [
      "\"가\".bytes().take(1).collect::Iterator<Item=u8>();",
      "\u001b[91m                             ^^^^^^^^^^^^^^^^^\u001b[0m \u001b[94merror: generic parameters without surrounding angle brackets\u001b[0m",
      "generic parameters without surrounding angle brackets",
      "\u001b[1mhelp\u001b[0m: surround the type parameters with angle brackets\n\n<"
     ]
    },
    {
     "ename": "Error",
     "evalue": "trait objects must include the `dyn` keyword",
     "output_type": "error",
     "traceback": [
      "\"가\".bytes().take(1).collect::Iterator<Item=u8>();",
      "\u001b[91m                             ^^^^^^^^^^^^^^^^^\u001b[0m \u001b[94merror: trait objects must include the `dyn` keyword\u001b[0m",
      "trait objects must include the `dyn` keyword",
      "\u001b[1mhelp\u001b[0m: add `dyn` keyword before this trait\n\ndyn"
     ]
    },
    {
     "ename": "Error",
     "evalue": "the size for values of type `dyn Iterator<Item = u8>` cannot be known at compilation time",
     "output_type": "error",
     "traceback": [
      "\"가\".bytes().take(1).collect::Iterator<Item=u8>();",
      "\u001b[91m                             ^^^^^^^^^^^^^^^^^\u001b[0m \u001b[94mdoesn't have a size known at compile-time\u001b[0m",
      "the size for values of type `dyn Iterator<Item = u8>` cannot be known at compilation time",
      "\u001b[1mhelp\u001b[0m: the trait `Sized` is not implemented for `dyn Iterator<Item = u8>`"
     ]
    },
    {
     "ename": "Error",
     "evalue": "a value of type `dyn Iterator<Item = u8>` cannot be built from an iterator over elements of type `u8`",
     "output_type": "error",
     "traceback": [
      "\"가\".bytes().take(1).collect::Iterator<Item=u8>();",
      "\u001b[91m^^^^^^^^^^^^^^^^^^^\u001b[0m \u001b[94mvalue of type `dyn Iterator<Item = u8>` cannot be built from `std::iter::Iterator<Item=u8>`\u001b[0m",
      "\"가\".bytes().take(1).collect::Iterator<Item=u8>();",
      "\u001b[91m                    ^^^^^^^\u001b[0m \u001b[94mrequired by a bound introduced by this call\u001b[0m",
      "a value of type `dyn Iterator<Item = u8>` cannot be built from an iterator over elements of type `u8`",
      "\u001b[1mhelp\u001b[0m: the trait `FromIterator<u8>` is not implemented for `dyn Iterator<Item = u8>`"
     ]
    }
   ],
   "source": [
    "\"가\".bytes().take(1).collect::Iterator<Item=u8>();"
   ]
  },
  {
   "cell_type": "code",
   "execution_count": null,
   "id": "53cc8dea",
   "metadata": {},
   "outputs": [],
   "source": []
  },
  {
   "cell_type": "code",
   "execution_count": 47,
   "id": "d3f3429f",
   "metadata": {},
   "outputs": [
    {
     "ename": "Error",
     "evalue": "generic parameters without surrounding angle brackets",
     "output_type": "error",
     "traceback": [
      "let h :[u8;3] = \"가\".bytes().take(1).collect::Iterator<Item=u8>();",
      "\u001b[91m                                             ^^^^^^^^^^^^^^^^^\u001b[0m \u001b[94merror: generic parameters without surrounding angle brackets\u001b[0m",
      "generic parameters without surrounding angle brackets",
      "\u001b[1mhelp\u001b[0m: surround the type parameters with angle brackets\n\n<"
     ]
    },
    {
     "ename": "Error",
     "evalue": "trait objects must include the `dyn` keyword",
     "output_type": "error",
     "traceback": [
      "let h :[u8;3] = \"가\".bytes().take(1).collect::Iterator<Item=u8>();",
      "\u001b[91m                                             ^^^^^^^^^^^^^^^^^\u001b[0m \u001b[94merror: trait objects must include the `dyn` keyword\u001b[0m",
      "trait objects must include the `dyn` keyword",
      "\u001b[1mhelp\u001b[0m: add `dyn` keyword before this trait\n\ndyn"
     ]
    },
    {
     "ename": "Error",
     "evalue": "the size for values of type `dyn Iterator<Item = u8>` cannot be known at compilation time",
     "output_type": "error",
     "traceback": [
      "let h :[u8;3] = \"가\".bytes().take(1).collect::Iterator<Item=u8>();",
      "\u001b[91m                                             ^^^^^^^^^^^^^^^^^\u001b[0m \u001b[94mdoesn't have a size known at compile-time\u001b[0m",
      "the size for values of type `dyn Iterator<Item = u8>` cannot be known at compilation time",
      "\u001b[1mhelp\u001b[0m: the trait `Sized` is not implemented for `dyn Iterator<Item = u8>`"
     ]
    },
    {
     "ename": "Error",
     "evalue": "a value of type `dyn Iterator<Item = u8>` cannot be built from an iterator over elements of type `u8`",
     "output_type": "error",
     "traceback": [
      "let h :[u8;3] = \"가\".bytes().take(1).collect::Iterator<Item=u8>();",
      "\u001b[91m                ^^^^^^^^^^^^^^^^^^^\u001b[0m \u001b[94mvalue of type `dyn Iterator<Item = u8>` cannot be built from `std::iter::Iterator<Item=u8>`\u001b[0m",
      "let h :[u8;3] = \"가\".bytes().take(1).collect::Iterator<Item=u8>();",
      "\u001b[91m                                    ^^^^^^^\u001b[0m \u001b[94mrequired by a bound introduced by this call\u001b[0m",
      "a value of type `dyn Iterator<Item = u8>` cannot be built from an iterator over elements of type `u8`",
      "\u001b[1mhelp\u001b[0m: the trait `FromIterator<u8>` is not implemented for `dyn Iterator<Item = u8>`"
     ]
    },
    {
     "ename": "Error",
     "evalue": "mismatched types",
     "output_type": "error",
     "traceback": [
      "let h :[u8;3] = \"가\".bytes().take(1).collect::Iterator<Item=u8>();",
      "\u001b[91m                ^^^^^^^^^^^^^^^^^^^^^^^^^^^^^^^^^^^^^^^^^^^^^^^^\u001b[0m \u001b[94mexpected array `[u8; 3]`, found trait object `dyn Iterator`\u001b[0m",
      "let h :[u8;3] = \"가\".bytes().take(1).collect::Iterator<Item=u8>();",
      "\u001b[91m       ^^^^^^\u001b[0m \u001b[94mexpected due to this\u001b[0m",
      "mismatched types"
     ]
    }
   ],
   "source": [
    "let h :[u8;3] = \"가\".bytes().take(1).collect::Iterator<Item=u8>();"
   ]
  },
  {
   "cell_type": "code",
   "execution_count": 31,
   "id": "7c72986f",
   "metadata": {},
   "outputs": [
    {
     "ename": "Error",
     "evalue": "non-primitive cast: `String` as `char`",
     "output_type": "error",
     "traceback": [
      "\u001b[31m[E0605] Error:\u001b[0m non-primitive cast: `String` as `char`",
      "   \u001b[38;5;246m╭\u001b[0m\u001b[38;5;246m─\u001b[0m\u001b[38;5;246m[\u001b[0mcommand_31:1:1\u001b[38;5;246m]\u001b[0m",
      "   \u001b[38;5;246m│\u001b[0m",
      " \u001b[38;5;246m1 │\u001b[0m \u001b[38;5;249ml\u001b[0m\u001b[38;5;249me\u001b[0m\u001b[38;5;249mt\u001b[0m\u001b[38;5;249m \u001b[0m\u001b[38;5;249mc\u001b[0m\u001b[38;5;249mh\u001b[0m\u001b[38;5;249m \u001b[0m\u001b[38;5;249m=\u001b[0m\u001b[38;5;249m \u001b[0m\u001b[38;5;54mh\u001b[0m\u001b[38;5;54m \u001b[0m\u001b[38;5;54ma\u001b[0m\u001b[38;5;54ms\u001b[0m\u001b[38;5;54m \u001b[0m\u001b[38;5;54mc\u001b[0m\u001b[38;5;54mh\u001b[0m\u001b[38;5;54ma\u001b[0m\u001b[38;5;54mr\u001b[0m\u001b[38;5;249m;\u001b[0m",
      " \u001b[38;5;246m  ·\u001b[0m          \u001b[38;5;54m─\u001b[0m\u001b[38;5;54m─\u001b[0m\u001b[38;5;54m─\u001b[0m\u001b[38;5;54m─\u001b[0m\u001b[38;5;54m┬\u001b[0m\u001b[38;5;54m─\u001b[0m\u001b[38;5;54m─\u001b[0m\u001b[38;5;54m─\u001b[0m\u001b[38;5;54m─\u001b[0m  ",
      " \u001b[38;5;246m  ·\u001b[0m              \u001b[38;5;54m╰\u001b[0m\u001b[38;5;54m─\u001b[0m\u001b[38;5;54m─\u001b[0m\u001b[38;5;54m─\u001b[0m\u001b[38;5;54m─\u001b[0m\u001b[38;5;54m─\u001b[0m\u001b[38;5;54m─\u001b[0m an `as` expression can only be used to convert between primitive types or to coerce to a specific trait object",
      "\u001b[38;5;246m───╯\u001b[0m"
     ]
    }
   ],
   "source": [
    "let ch = h as char;"
   ]
  },
  {
   "cell_type": "code",
   "execution_count": 30,
   "id": "638e5461",
   "metadata": {},
   "outputs": [
    {
     "name": "stdout",
     "output_type": "stream",
     "text": [
      "65\n"
     ]
    },
    {
     "data": {
      "text/plain": [
       "()"
      ]
     },
     "execution_count": 30,
     "metadata": {},
     "output_type": "execute_result"
    }
   ],
   "source": [
    "println!(\"{ch}\")"
   ]
  },
  {
   "cell_type": "code",
   "execution_count": null,
   "id": "a385675d",
   "metadata": {},
   "outputs": [],
   "source": []
  },
  {
   "cell_type": "code",
   "execution_count": 2,
   "id": "ccccf830",
   "metadata": {},
   "outputs": [
    {
     "ename": "Error",
     "evalue": "only `u8` can be cast as `char`, not `i32`",
     "output_type": "error",
     "traceback": [
      "    println!(\"{}\", my_number as char); // ⚠️",
      "\u001b[91m                   ^^^^^^^^^^^^^^^^^\u001b[0m \u001b[94minvalid cast\u001b[0m",
      "only `u8` can be cast as `char`, not `i32`",
      "\u001b[1mhelp\u001b[0m: try `char::from_u32` instead (via a `u32`)"
     ]
    }
   ],
   "source": [
    "fn main() { // main() is where Rust programs start to run. Code goes inside {} (curly brackets)\n",
    "\n",
    "    let my_number = 100; // We didn't write a type of integer,\n",
    "                         // so Rust chooses i32. Rust always\n",
    "                         // chooses i32 for integers if you don't\n",
    "                         // tell it to use a different type\n",
    "\n",
    "    println!(\"{}\", my_number as char); // ⚠️\n",
    "}"
   ]
  },
  {
   "cell_type": "markdown",
   "id": "47d76a08",
   "metadata": {},
   "source": [
    "## 그래서 숫자를 u8로 변환 후에 char로 변환"
   ]
  },
  {
   "cell_type": "code",
   "execution_count": 9,
   "id": "79aeb165",
   "metadata": {},
   "outputs": [],
   "source": [
    "fn main() { // main() is where Rust programs start to run. Code goes inside {} (curly brackets)\n",
    "\n",
    "    let my_number = 100; // We didn't write a type of integer,\n",
    "                         // so Rust chooses i32. Rust always\n",
    "                         // chooses i32 for integers if you don't\n",
    "                         // tell it to use a different type\n",
    "\n",
    "    println!(\"{}\", my_number as u8 as char ); // ⚠️\n",
    "}"
   ]
  },
  {
   "cell_type": "code",
   "execution_count": 6,
   "id": "faade815",
   "metadata": {},
   "outputs": [
    {
     "name": "stdout",
     "output_type": "stream",
     "text": [
      "d\n"
     ]
    },
    {
     "data": {
      "text/plain": [
       "()"
      ]
     },
     "execution_count": 6,
     "metadata": {},
     "output_type": "execute_result"
    }
   ],
   "source": [
    "main()"
   ]
  },
  {
   "cell_type": "markdown",
   "id": "0e3e0b17",
   "metadata": {},
   "source": [
    "## 유니코드로 처리할 때는 u32로 처리 \n",
    "\n",
    "- 출력할 때는 :? 로 처리 "
   ]
  },
  {
   "cell_type": "code",
   "execution_count": 41,
   "id": "29da14af",
   "metadata": {},
   "outputs": [],
   "source": [
    "\n",
    "fn main() { // main() is where Rust programs start to run. Code goes inside {} (curly brackets)\n",
    "\n",
    "    let my_number = 54620 ; // We didn't write a type of integer,\n",
    "                         // so Rust chooses i32. Rust always\n",
    "                         // chooses i32 for integers if you don't\n",
    "                         // tell it to use a different type\n",
    "\n",
    "    println!(\"{:?}\", char::from_u32(my_number) ); // `Option<char>` doesn't implement `std::fmt::Display`\n",
    "}"
   ]
  },
  {
   "cell_type": "code",
   "execution_count": 42,
   "id": "8ce0355c",
   "metadata": {},
   "outputs": [
    {
     "name": "stdout",
     "output_type": "stream",
     "text": [
      "Some('한')\n"
     ]
    },
    {
     "data": {
      "text/plain": [
       "()"
      ]
     },
     "execution_count": 42,
     "metadata": {},
     "output_type": "execute_result"
    }
   ],
   "source": [
    "main()"
   ]
  },
  {
   "cell_type": "markdown",
   "id": "8b1ef6ad",
   "metadata": {},
   "source": [
    "## 유니코드 처리 "
   ]
  },
  {
   "cell_type": "code",
   "execution_count": 43,
   "id": "1c8c2159",
   "metadata": {},
   "outputs": [],
   "source": [
    "let a =  '\\u{D55C}';"
   ]
  },
  {
   "cell_type": "code",
   "execution_count": 44,
   "id": "566fe91a",
   "metadata": {},
   "outputs": [
    {
     "data": {
      "text/plain": [
       "'한'"
      ]
     },
     "execution_count": 44,
     "metadata": {},
     "output_type": "execute_result"
    }
   ],
   "source": [
    "a"
   ]
  },
  {
   "cell_type": "code",
   "execution_count": 48,
   "id": "e08c24cc",
   "metadata": {},
   "outputs": [],
   "source": [
    "let b : u32 = 0xD55C;"
   ]
  },
  {
   "cell_type": "code",
   "execution_count": 50,
   "id": "1f7022a2",
   "metadata": {},
   "outputs": [
    {
     "data": {
      "text/plain": [
       "Some('한')"
      ]
     },
     "execution_count": 50,
     "metadata": {},
     "output_type": "execute_result"
    }
   ],
   "source": [
    "char::from_u32(b)"
   ]
  },
  {
   "cell_type": "code",
   "execution_count": null,
   "id": "9c88a392",
   "metadata": {},
   "outputs": [],
   "source": []
  },
  {
   "cell_type": "markdown",
   "id": "01a7aba0",
   "metadata": {},
   "source": [
    "## 메모리의 길이 확인 "
   ]
  },
  {
   "cell_type": "code",
   "execution_count": 53,
   "id": "485b7676",
   "metadata": {},
   "outputs": [],
   "source": [
    "fn main() {\n",
    "    println!(\"Size of a char: {}\", std::mem::size_of::<char>());\n",
    "    println!(\"Size of a u8: {}\", std::mem::size_of::<u8>());\n",
    "}"
   ]
  },
  {
   "cell_type": "code",
   "execution_count": 54,
   "id": "ea2db680",
   "metadata": {},
   "outputs": [
    {
     "name": "stdout",
     "output_type": "stream",
     "text": [
      "Size of a char: 4\n",
      "Size of a u8: 1\n"
     ]
    },
    {
     "data": {
      "text/plain": [
       "()"
      ]
     },
     "execution_count": 54,
     "metadata": {},
     "output_type": "execute_result"
    }
   ],
   "source": [
    "main()"
   ]
  },
  {
   "cell_type": "markdown",
   "id": "e6dadb10",
   "metadata": {},
   "source": [
    "## 문자열 구분"
   ]
  },
  {
   "cell_type": "code",
   "execution_count": 55,
   "id": "29696b41",
   "metadata": {},
   "outputs": [],
   "source": [
    "fn main() {\n",
    "    println!(\"Size of a char: {}\", std::mem::size_of::<char>()); // 4 bytes\n",
    "    println!(\"Size of string containing 'a': {}\", \"a\".len()); // .len() gives the size of the string in bytes\n",
    "    println!(\"Size of string containing 'ß': {}\", \"ß\".len());\n",
    "    println!(\"Size of string containing '国': {}\", \"国\".len());\n",
    "    println!(\"Size of string containing '𓅱': {}\", \"𓅱\".len());\n",
    "    println!(\"Size of string containing '한': {}\", \"한\".len());\n",
    "}"
   ]
  },
  {
   "cell_type": "code",
   "execution_count": 56,
   "id": "c5a624c0",
   "metadata": {},
   "outputs": [
    {
     "name": "stdout",
     "output_type": "stream",
     "text": [
      "Size of a char: 4\n",
      "Size of string containing 'a': 1\n",
      "Size of string containing 'ß': 2\n",
      "Size of string containing '国': 3\n",
      "Size of string containing '𓅱': 4\n",
      "Size of string containing '한': 3\n"
     ]
    },
    {
     "data": {
      "text/plain": [
       "()"
      ]
     },
     "execution_count": 56,
     "metadata": {},
     "output_type": "execute_result"
    }
   ],
   "source": [
    "main()"
   ]
  },
  {
   "cell_type": "code",
   "execution_count": null,
   "id": "be63c19f",
   "metadata": {},
   "outputs": [],
   "source": []
  }
 ],
 "metadata": {
  "kernelspec": {
   "display_name": "Rust",
   "language": "rust",
   "name": "rust"
  },
  "language_info": {
   "codemirror_mode": "rust",
   "file_extension": ".rs",
   "mimetype": "text/rust",
   "name": "Rust",
   "pygment_lexer": "rust",
   "version": ""
  }
 },
 "nbformat": 4,
 "nbformat_minor": 5
}
