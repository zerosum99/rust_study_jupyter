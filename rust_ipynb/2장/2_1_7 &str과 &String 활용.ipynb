{
 "cells": [
  {
   "cell_type": "code",
   "execution_count": null,
   "id": "15d39623",
   "metadata": {},
   "outputs": [],
   "source": []
  },
  {
   "cell_type": "code",
   "execution_count": null,
   "id": "2f82c809",
   "metadata": {},
   "outputs": [],
   "source": []
  },
  {
   "cell_type": "markdown",
   "id": "0b1efff2",
   "metadata": {},
   "source": [
    "## &str과 &String은 모두 문자열을 참조하는 참조자(reference).\n",
    "\n",
    "### &str\n",
    "- &str은 문자열의 슬라이스(slice)를 나타내며, 문자열의 길이와 문자열 내용에 대한 포인터를 가지고 있습니다. \n",
    "\n",
    "### &String\n",
    "- &String은 String 타입의 값의 참조자입니다."
   ]
  },
  {
   "cell_type": "markdown",
   "id": "98506819",
   "metadata": {},
   "source": [
    "## 1. 함수의 매개변수 타입을 문자열리터럴로 지정\n",
    "\n",
    "- 문자열리터럴은 문자열슬라이스이다.\n",
    "- 그래서 문자열을 참조한 것도 문자열슬라이스로 바로 처리가 가능하다.\n"
   ]
  },
  {
   "cell_type": "code",
   "execution_count": 2,
   "id": "f2733866",
   "metadata": {},
   "outputs": [],
   "source": [
    "fn print_string(s: &str) {\n",
    "    println!(\"{}\", s);\n",
    "}"
   ]
  },
  {
   "cell_type": "code",
   "execution_count": 3,
   "id": "5ff00333",
   "metadata": {},
   "outputs": [],
   "source": [
    "let s = \"문자열\".to_string();"
   ]
  },
  {
   "cell_type": "markdown",
   "id": "16160aaf",
   "metadata": {},
   "source": [
    "### 문자열 참조를 함수 인자로 전달하기 "
   ]
  },
  {
   "cell_type": "code",
   "execution_count": 8,
   "id": "516f5f14",
   "metadata": {},
   "outputs": [
    {
     "name": "stdout",
     "output_type": "stream",
     "text": [
      "문자열\n"
     ]
    }
   ],
   "source": [
    "print_string(&s);"
   ]
  },
  {
   "cell_type": "code",
   "execution_count": 9,
   "id": "38278c49",
   "metadata": {},
   "outputs": [
    {
     "name": "stdout",
     "output_type": "stream",
     "text": [
      "문자열리터럴\n"
     ]
    }
   ],
   "source": [
    "print_string(\"문자열리터럴\");"
   ]
  },
  {
   "cell_type": "code",
   "execution_count": null,
   "id": "a42622fd",
   "metadata": {},
   "outputs": [],
   "source": []
  },
  {
   "cell_type": "markdown",
   "id": "3647fcf2",
   "metadata": {},
   "source": [
    "## 2. 문자열 참조로 갱신하기 "
   ]
  },
  {
   "cell_type": "code",
   "execution_count": 6,
   "id": "225a6e6c",
   "metadata": {},
   "outputs": [],
   "source": [
    "fn append_hello(s: &mut String) {\n",
    "    s.push_str(\", hello\");\n",
    "}\n",
    "\n",
    "fn main() {\n",
    "    let mut s = String::from(\"world\");\n",
    "    append_hello(&mut s);\n",
    "    println!(\"{}\", s); // \"world, hello\" 출력\n",
    "}"
   ]
  },
  {
   "cell_type": "code",
   "execution_count": 7,
   "id": "8867c964",
   "metadata": {},
   "outputs": [
    {
     "name": "stdout",
     "output_type": "stream",
     "text": [
      "world, hello\n"
     ]
    }
   ],
   "source": [
    "main();"
   ]
  },
  {
   "cell_type": "code",
   "execution_count": null,
   "id": "6b99df7b",
   "metadata": {},
   "outputs": [],
   "source": []
  }
 ],
 "metadata": {
  "kernelspec": {
   "display_name": "Rust",
   "language": "rust",
   "name": "rust"
  },
  "language_info": {
   "codemirror_mode": "rust",
   "file_extension": ".rs",
   "mimetype": "text/rust",
   "name": "Rust",
   "pygment_lexer": "rust",
   "version": ""
  }
 },
 "nbformat": 4,
 "nbformat_minor": 5
}
