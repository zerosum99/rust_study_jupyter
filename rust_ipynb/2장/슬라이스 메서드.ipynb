{
 "cells": [
  {
   "cell_type": "code",
   "execution_count": null,
   "id": "9771abb7",
   "metadata": {},
   "outputs": [],
   "source": []
  },
  {
   "cell_type": "markdown",
   "id": "1e4efced",
   "metadata": {},
   "source": [
    "## 메서드\n",
    "\n",
    "- iter(): 슬라이스의 요소를 반복하는 반복자(iterator)를 반환합니다.\n",
    "- iter_mut(): 슬라이스의 요소를 가변적으로 반복하는 반복자(iterator)를 반환합니다.\n",
    "- split(): 지정한 구분자를 기준으로 슬라이스를 분리하고, 분리된 부분을 담은 새로운 슬라이스를 반환합니다.\n",
    "- join(): 슬라이스의 요소를 지정한 구분자로 이어 붙인 새로운 문자열을 반환합니다.\n",
    "- sort(): 슬라이스의 요소를 정렬합니다.\n",
    "- contains(): 슬라이스에 지정한 값이 포함되어 있는지 여부를 반환합니다."
   ]
  },
  {
   "cell_type": "code",
   "execution_count": 7,
   "id": "5ec31ada",
   "metadata": {},
   "outputs": [],
   "source": [
    "fn main() {\n",
    "    let mut numbers = [\"봄\", \"여름\", \"가을\", \"겨울\"];\n",
    "    let slice = &mut numbers[1..4];\n",
    "\n",
    "    for n in slice.iter() {\n",
    "        println!(\"{}\", n);\n",
    "    }\n",
    "\n",
    "    slice.sort();\n",
    "    println!(\"Sorted slice: {:?}\", slice);\n",
    "\n",
    "    let joined = slice.join(\", \");             // 문자열일때만 가능 \n",
    "    println!(\"Joined slice: {}\", joined);\n",
    "\n",
    "    let mut words = \"The quick brown fox\".split(' ');\n",
    "    println!(\"First word: {}\", words.next().unwrap());\n",
    "    println!(\"Second word: {}\", words.next().unwrap());\n",
    "\n",
    "    let contains_five = numbers.contains(&\"봄\");\n",
    "    println!(\"Contains five? {}\", contains_five);\n",
    "}"
   ]
  },
  {
   "cell_type": "code",
   "execution_count": 8,
   "id": "ee0e2dda",
   "metadata": {},
   "outputs": [
    {
     "name": "stdout",
     "output_type": "stream",
     "text": [
      "여름\n",
      "가을\n",
      "겨울\n",
      "Sorted slice: [\"가을\", \"겨울\", \"여름\"]\n",
      "Joined slice: 가을, 겨울, 여름\n",
      "First word: The\n",
      "Second word: quick\n",
      "Contains five? true\n"
     ]
    }
   ],
   "source": [
    "main();"
   ]
  },
  {
   "cell_type": "code",
   "execution_count": null,
   "id": "633e466e",
   "metadata": {},
   "outputs": [],
   "source": []
  }
 ],
 "metadata": {
  "kernelspec": {
   "display_name": "Rust",
   "language": "rust",
   "name": "rust"
  },
  "language_info": {
   "codemirror_mode": "rust",
   "file_extension": ".rs",
   "mimetype": "text/rust",
   "name": "Rust",
   "pygment_lexer": "rust",
   "version": ""
  }
 },
 "nbformat": 4,
 "nbformat_minor": 5
}
