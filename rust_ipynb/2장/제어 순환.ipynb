{
 "cells": [
  {
   "cell_type": "markdown",
   "id": "efd7f620",
   "metadata": {},
   "source": [
    "# 1. 제어"
   ]
  },
  {
   "cell_type": "code",
   "execution_count": null,
   "id": "2cccbaab",
   "metadata": {},
   "outputs": [],
   "source": []
  },
  {
   "cell_type": "markdown",
   "id": "f5b31b75",
   "metadata": {},
   "source": [
    "## 1-1 if 문"
   ]
  },
  {
   "cell_type": "code",
   "execution_count": 2,
   "id": "3dde1d4f",
   "metadata": {},
   "outputs": [],
   "source": [
    "let l = true;"
   ]
  },
  {
   "cell_type": "code",
   "execution_count": null,
   "id": "65cbed77",
   "metadata": {},
   "outputs": [],
   "source": []
  },
  {
   "cell_type": "code",
   "execution_count": 3,
   "id": "66924e69",
   "metadata": {},
   "outputs": [
    {
     "name": "stdout",
     "output_type": "stream",
     "text": [
      "참인 조건\n"
     ]
    },
    {
     "data": {
      "text/plain": [
       "()"
      ]
     },
     "execution_count": 3,
     "metadata": {},
     "output_type": "execute_result"
    }
   ],
   "source": [
    "if  l {\n",
    "    println!(\"참인 조건\");\n",
    "}"
   ]
  },
  {
   "cell_type": "code",
   "execution_count": null,
   "id": "aa470fb5",
   "metadata": {},
   "outputs": [],
   "source": []
  },
  {
   "cell_type": "markdown",
   "id": "67b04682",
   "metadata": {},
   "source": [
    "# 1-2. if else 문"
   ]
  },
  {
   "cell_type": "code",
   "execution_count": 4,
   "id": "11247b95",
   "metadata": {},
   "outputs": [],
   "source": [
    "let number = 100;"
   ]
  },
  {
   "cell_type": "code",
   "execution_count": 5,
   "id": "0ce5f512",
   "metadata": {},
   "outputs": [
    {
     "name": "stdout",
     "output_type": "stream",
     "text": [
      "거짓인 조건\n"
     ]
    },
    {
     "data": {
      "text/plain": [
       "()"
      ]
     },
     "execution_count": 5,
     "metadata": {},
     "output_type": "execute_result"
    }
   ],
   "source": [
    "if number < 100  {\n",
    "    println!(\"참인 조건\");\n",
    "} else {\n",
    "    println!(\"거짓인 조건\");\n",
    "}"
   ]
  },
  {
   "cell_type": "code",
   "execution_count": null,
   "id": "83ccef89",
   "metadata": {},
   "outputs": [],
   "source": []
  },
  {
   "cell_type": "markdown",
   "id": "fc1283f6",
   "metadata": {},
   "source": [
    "## 1-3. if else if else 문"
   ]
  },
  {
   "cell_type": "code",
   "execution_count": 6,
   "id": "ec23ab33",
   "metadata": {},
   "outputs": [],
   "source": [
    "let max = 100;"
   ]
  },
  {
   "cell_type": "code",
   "execution_count": 8,
   "id": "d43775cd",
   "metadata": {},
   "outputs": [
    {
     "name": "stdout",
     "output_type": "stream",
     "text": [
      "특정 조건\n"
     ]
    },
    {
     "data": {
      "text/plain": [
       "()"
      ]
     },
     "execution_count": 8,
     "metadata": {},
     "output_type": "execute_result"
    }
   ],
   "source": [
    "if max < 100  {\n",
    "    println!(\"참인 조건\");\n",
    "} else if max < 110 {\n",
    "    println!(\"특정 조건\")\n",
    "} else {\n",
    "    println!(\"거짓인 조건\");\n",
    "}"
   ]
  },
  {
   "cell_type": "code",
   "execution_count": null,
   "id": "2ab0f753",
   "metadata": {},
   "outputs": [],
   "source": []
  },
  {
   "cell_type": "markdown",
   "id": "f0e09c0b",
   "metadata": {},
   "source": [
    "## 1-4. if let 문"
   ]
  },
  {
   "cell_type": "code",
   "execution_count": 11,
   "id": "1d62e56f",
   "metadata": {},
   "outputs": [
    {
     "name": "stdout",
     "output_type": "stream",
     "text": [
      "특정값 처리\n"
     ]
    },
    {
     "data": {
      "text/plain": [
       "()"
      ]
     },
     "execution_count": 11,
     "metadata": {},
     "output_type": "execute_result"
    }
   ],
   "source": [
    "if let ma = max {\n",
    "    println!(\"특정값 처리\");\n",
    "}"
   ]
  },
  {
   "cell_type": "code",
   "execution_count": null,
   "id": "4ed8b169",
   "metadata": {},
   "outputs": [],
   "source": []
  },
  {
   "cell_type": "markdown",
   "id": "b108b0af",
   "metadata": {},
   "source": [
    "## 1-5 if 표현식"
   ]
  },
  {
   "cell_type": "code",
   "execution_count": 9,
   "id": "e1c55191",
   "metadata": {},
   "outputs": [],
   "source": [
    "let min = if max > 110 { max } else { 90 };"
   ]
  },
  {
   "cell_type": "code",
   "execution_count": 10,
   "id": "6baf0761",
   "metadata": {},
   "outputs": [
    {
     "data": {
      "text/plain": [
       "90"
      ]
     },
     "execution_count": 10,
     "metadata": {},
     "output_type": "execute_result"
    }
   ],
   "source": [
    "min"
   ]
  },
  {
   "cell_type": "code",
   "execution_count": null,
   "id": "f1081a1e",
   "metadata": {},
   "outputs": [],
   "source": []
  }
 ],
 "metadata": {
  "kernelspec": {
   "display_name": "Rust",
   "language": "rust",
   "name": "rust"
  },
  "language_info": {
   "codemirror_mode": "rust",
   "file_extension": ".rs",
   "mimetype": "text/rust",
   "name": "Rust",
   "pygment_lexer": "rust",
   "version": ""
  }
 },
 "nbformat": 4,
 "nbformat_minor": 5
}
