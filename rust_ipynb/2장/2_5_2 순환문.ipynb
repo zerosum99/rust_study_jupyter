{
 "cells": [
  {
   "cell_type": "code",
   "execution_count": null,
   "id": "20605942",
   "metadata": {},
   "outputs": [],
   "source": []
  },
  {
   "cell_type": "markdown",
   "id": "9940ad77",
   "metadata": {},
   "source": [
    "# 2. 순환문 \n",
    "\n",
    "- 반복해서 처리하는 문장 \n",
    "- 무한반복 : loop\n",
    "- 반복자 반복 : for\n",
    "- 조건식 반복 : while"
   ]
  },
  {
   "cell_type": "markdown",
   "id": "489ad805",
   "metadata": {},
   "source": [
    "### 조건식 반복\n",
    "\n",
    "-  while 구문에 조건식이 참일 경우에 반복해서 처리 "
   ]
  },
  {
   "cell_type": "code",
   "execution_count": 11,
   "id": "41bf4a0c",
   "metadata": {},
   "outputs": [],
   "source": [
    "fn main() {\n",
    "    let mut number = 3;\n",
    "\n",
    "    while number != 0 {\n",
    "        println!(\"{}!\", number);\n",
    "\n",
    "        number = number - 1;\n",
    "    }\n",
    "\n",
    "    println!(\"순환이 종료\");\n",
    "}"
   ]
  },
  {
   "cell_type": "code",
   "execution_count": 12,
   "id": "2afce6e8",
   "metadata": {},
   "outputs": [
    {
     "name": "stdout",
     "output_type": "stream",
     "text": [
      "3!\n",
      "2!\n",
      "1!\n",
      "순환이 종료\n"
     ]
    },
    {
     "data": {
      "text/plain": [
       "()"
      ]
     },
     "execution_count": 12,
     "metadata": {},
     "output_type": "execute_result"
    }
   ],
   "source": [
    "main()"
   ]
  },
  {
   "cell_type": "markdown",
   "id": "998042c1",
   "metadata": {},
   "source": [
    "### 배열의 원소를 조회\n",
    "\n",
    "- 조건식도 배열의 인덱스를 확인해서 처리 가능 "
   ]
  },
  {
   "cell_type": "code",
   "execution_count": 13,
   "id": "76d364b3",
   "metadata": {},
   "outputs": [],
   "source": [
    "fn main() {\n",
    "    let a = [10, 20, 30, 40, 50];\n",
    "    let mut index = 0;\n",
    "\n",
    "    while index < 5 {\n",
    "        println!(\"the value is: {}\", a[index]);\n",
    "\n",
    "        index = index + 1;\n",
    "    }\n",
    "    println!(\"순환이 종료\");\n",
    "}"
   ]
  },
  {
   "cell_type": "code",
   "execution_count": 14,
   "id": "4157dafb",
   "metadata": {},
   "outputs": [
    {
     "name": "stdout",
     "output_type": "stream",
     "text": [
      "the value is: 10\n",
      "the value is: 20\n",
      "the value is: 30\n",
      "the value is: 40\n",
      "the value is: 50\n",
      "순환이 종료\n"
     ]
    },
    {
     "data": {
      "text/plain": [
       "()"
      ]
     },
     "execution_count": 14,
     "metadata": {},
     "output_type": "execute_result"
    }
   ],
   "source": [
    "main()"
   ]
  },
  {
   "cell_type": "markdown",
   "id": "e9585f99",
   "metadata": {},
   "source": [
    "## 반복자 순환 \n",
    "\n",
    "- for 절은 배열 등 여러 원소를 가지는 객체를 반복자에 위해 순환처리 "
   ]
  },
  {
   "cell_type": "code",
   "execution_count": null,
   "id": "b88402a6",
   "metadata": {},
   "outputs": [],
   "source": []
  },
  {
   "cell_type": "code",
   "execution_count": 21,
   "id": "d8ede5a3",
   "metadata": {},
   "outputs": [],
   "source": [
    "fn main() {\n",
    "    let a = [10, 20, 30, 40, 50];\n",
    "\n",
    "    for element in a {\n",
    "        println!(\" 반복자의 값 : {}\", element);\n",
    "    }\n",
    "    \n",
    "    println!(\" aa= {:?}\", a);\n",
    "    \n",
    "}"
   ]
  },
  {
   "cell_type": "code",
   "execution_count": 22,
   "id": "2d042183",
   "metadata": {},
   "outputs": [
    {
     "name": "stdout",
     "output_type": "stream",
     "text": [
      " 반복자의 값 : 10\n",
      " 반복자의 값 : 20\n",
      " 반복자의 값 : 30\n",
      " 반복자의 값 : 40\n",
      " 반복자의 값 : 50\n",
      " aa= [10, 20, 30, 40, 50]\n"
     ]
    },
    {
     "data": {
      "text/plain": [
       "()"
      ]
     },
     "execution_count": 22,
     "metadata": {},
     "output_type": "execute_result"
    }
   ],
   "source": [
    "main()"
   ]
  },
  {
   "cell_type": "markdown",
   "id": "e28f13c7",
   "metadata": {},
   "source": [
    "### 반복자 메서드를 사용해서 처리하기\n"
   ]
  },
  {
   "cell_type": "code",
   "execution_count": 25,
   "id": "275fb747",
   "metadata": {},
   "outputs": [],
   "source": [
    "fn main() {\n",
    "    let a = [10, 20, 30, 40, 50];\n",
    "\n",
    "    for element in a.iter() {\n",
    "        println!(\"순환되는 값 :  {}\", element);\n",
    "    }\n",
    "    \n",
    "     for element in a.iter().rev() {\n",
    "        println!(\"역으로 순환되는 값 {}\", element);\n",
    "    }\n",
    "}"
   ]
  },
  {
   "cell_type": "code",
   "execution_count": 26,
   "id": "35f01a72",
   "metadata": {},
   "outputs": [
    {
     "name": "stdout",
     "output_type": "stream",
     "text": [
      "순환되는 값 :  20\n",
      "순환되는 값 :  10\n",
      "순환되는 값 :  30\n",
      "순환되는 값 :  40\n",
      "순환되는 값 :  50\n",
      "역으로 순환되는 값 50\n",
      "역으로 순환되는 값 40\n",
      "역으로 순환되는 값 30\n",
      "역으로 순환되는 값 20\n",
      "역으로 순환되는 값 10\n"
     ]
    },
    {
     "data": {
      "text/plain": [
       "()"
      ]
     },
     "execution_count": 26,
     "metadata": {},
     "output_type": "execute_result"
    }
   ],
   "source": [
    "main()"
   ]
  },
  {
   "cell_type": "markdown",
   "id": "8176a3bd",
   "metadata": {},
   "source": [
    "### 배열의 원소가 문자열일 경우\n",
    "\n",
    "- 문자열은 소유권을 가지므로 into_iter로 처리하면 이동\n",
    "- 한번 배열의 원소가 다 이동되면 이 배열의 저장된 변수가 삭제\n",
    "- 그 다음 순환문은 처리가 안되어서 패닉 발생 "
   ]
  },
  {
   "cell_type": "markdown",
   "id": "3248e965",
   "metadata": {},
   "source": [
    "### 순환시 이동 발생 \n",
    "- into_iter :  컬렉션을 소비하여 각 반복마다 정확한 데이터가 제공되도록 합니다. \n",
    "- 컬렉션이 소비되고 나면 루프 내에서 '이동'되었으므로 더 이상 재사용할 수 없습니다."
   ]
  },
  {
   "cell_type": "code",
   "execution_count": 34,
   "id": "095f7526",
   "metadata": {},
   "outputs": [
    {
     "ename": "Error",
     "evalue": "borrow of moved value: `a`",
     "output_type": "error",
     "traceback": [
      "    for element in a.into_iter() {",
      "\u001b[91m                     ^^^^^^^^^^^\u001b[0m \u001b[94m`a` moved due to this method call\u001b[0m",
      "     for element in a.iter() {",
      "\u001b[91m                    ^^^^^^^^\u001b[0m \u001b[94mvalue borrowed here after move\u001b[0m",
      "    let a = [\"가을\".to_string(),\"겨울\".to_string()];",
      "\u001b[91m        ^\u001b[0m \u001b[94mmove occurs because `a` has type `[String; 2]`, which does not implement the `Copy` trait\u001b[0m",
      "borrow of moved value: `a`"
     ]
    }
   ],
   "source": [
    "fn main() {\n",
    "    let a = [\"가을\".to_string(),\"겨울\".to_string()];\n",
    "  \n",
    "    for element in a.into_iter() {\n",
    "        println!(\" into_iter 값 :  {}\", element);\n",
    "    }\n",
    "    \n",
    "     for element in a.iter() {\n",
    "        println!(\" iter 값 {}\", element);\n",
    "    }\n",
    "}"
   ]
  },
  {
   "cell_type": "markdown",
   "id": "5a60414e",
   "metadata": {},
   "source": [
    "### 위의 문제를 해결하려면\n",
    "\n",
    "- iter() 메서드로 처리해서 참조를 사용하게 처리해야 한다\n",
    "\n",
    "- 각 반복을 통해 컬렉션의 각 요소를 차용합니다. \n",
    "- 따라서 컬렉션을 그대로 유지하여 루프 후에 재사용할 수 있습니다."
   ]
  },
  {
   "cell_type": "code",
   "execution_count": 21,
   "id": "10db2e5f",
   "metadata": {},
   "outputs": [],
   "source": [
    "fn main() {\n",
    "    let a = [\"가을\".to_string(),\"겨울\".to_string()];\n",
    "  \n",
    "    for element in a.iter() {\n",
    "        println!(\" iter 값 {}\", element);\n",
    "    }\n",
    "}"
   ]
  },
  {
   "cell_type": "code",
   "execution_count": 22,
   "id": "9f17da80",
   "metadata": {},
   "outputs": [
    {
     "name": "stdout",
     "output_type": "stream",
     "text": [
      " iter 값 가을\n",
      " iter 값 겨울\n"
     ]
    }
   ],
   "source": [
    "main();"
   ]
  },
  {
   "cell_type": "markdown",
   "id": "d25ad5d2",
   "metadata": {},
   "source": [
    "### 벡터의 문자열 리터럴 값을 변경하는 방법"
   ]
  },
  {
   "cell_type": "code",
   "execution_count": 29,
   "id": "cd50df4a",
   "metadata": {},
   "outputs": [],
   "source": [
    "fn main() {\n",
    "    let mut names = vec![\"Bob\", \"Frank\", \"Ferris\"]; //문자열 참조 \n",
    "\n",
    "    \n",
    "    for element in names.iter() {\n",
    "        println!(\" iter 값 {}\", element);\n",
    "    }\n",
    "    \n",
    "    let mut a =  &mut names;      // 변경가능한 변수 벡터 앞에 참조를 변경하는 &mut를 지정해서 자료형을 변경 \n",
    "    a[2] = \"벡터값을 변경\";\n",
    "    println!(\" 값 {:?}\",a);\n",
    "}"
   ]
  },
  {
   "cell_type": "code",
   "execution_count": 30,
   "id": "9c613aa2",
   "metadata": {},
   "outputs": [
    {
     "name": "stdout",
     "output_type": "stream",
     "text": [
      " iter 값 Bob\n",
      " iter 값 Frank\n",
      " iter 값 Ferris\n",
      " 값 [\"Bob\", \"Frank\", \"벡터값을 변경\"]\n"
     ]
    }
   ],
   "source": [
    "main();"
   ]
  },
  {
   "cell_type": "code",
   "execution_count": null,
   "id": "e38d696e",
   "metadata": {},
   "outputs": [],
   "source": []
  },
  {
   "cell_type": "markdown",
   "id": "eb52438a",
   "metadata": {},
   "source": [
    "###  순환중에 참조값 변경하기\n",
    "\n",
    "- iter_mut - 컬렉션의 각 요소를 가변적으로 차용하여 컬렉션을 제자리에서 수정할 수 있도록 합니다."
   ]
  },
  {
   "cell_type": "code",
   "execution_count": 10,
   "id": "0f0fc86f",
   "metadata": {},
   "outputs": [],
   "source": [
    ":dep typename = \"0.1.2\""
   ]
  },
  {
   "cell_type": "code",
   "execution_count": 11,
   "id": "ce49750b",
   "metadata": {},
   "outputs": [],
   "source": [
    "use typename::TypeName;"
   ]
  },
  {
   "cell_type": "code",
   "execution_count": 17,
   "id": "52e4de45",
   "metadata": {},
   "outputs": [],
   "source": [
    "fn main() {\n",
    "    let mut names = vec![\"Bob\", \"Frank\", \"Ferris\"]; //문자열 참조 \n",
    "\n",
    "    for name in names.iter_mut() {\n",
    "        println!(\" name ={}, type = {}\", name, name.type_name_of());\n",
    "        *name = match name {                         // name 이 타입은  `&mut &str`\n",
    "            &mut \"Ferris\" => \"There is a rustacean among us!\",\n",
    "            _ => \"Hello\",\n",
    "        }\n",
    "    }\n",
    "\n",
    "    println!(\"names: {:?}\", names);\n",
    "}"
   ]
  },
  {
   "cell_type": "code",
   "execution_count": 18,
   "id": "ec111517",
   "metadata": {},
   "outputs": [
    {
     "name": "stdout",
     "output_type": "stream",
     "text": [
      " name =Bob, type = str\n",
      " name =Frank, type = str\n",
      " name =Ferris, type = str\n",
      "names: [\"Hello\", \"Hello\", \"There is a rustacean among us!\"]\n"
     ]
    },
    {
     "data": {
      "text/plain": [
       "()"
      ]
     },
     "execution_count": 18,
     "metadata": {},
     "output_type": "execute_result"
    }
   ],
   "source": [
    "main()"
   ]
  },
  {
   "cell_type": "code",
   "execution_count": null,
   "id": "af2de65b",
   "metadata": {},
   "outputs": [],
   "source": []
  },
  {
   "cell_type": "markdown",
   "id": "9435ee1d",
   "metadata": {},
   "source": [
    "## 반복자 처리를 범위(Range) 처리하기\n",
    "\n",
    "- 범위를 가지고 반복되는 숫자를 처리한다. "
   ]
  },
  {
   "cell_type": "code",
   "execution_count": 35,
   "id": "1ac23a1f",
   "metadata": {},
   "outputs": [],
   "source": [
    "fn main() {\n",
    "    \n",
    "    for number in (1..4) {\n",
    "        println!(\"범위 : {}!\", number);\n",
    "    }\n",
    "    println!(\" 순환문 처리 !!!\");\n",
    "    \n",
    "    for number in (1..4).rev() {\n",
    "        println!(\"역방향 범위: {}!\", number);\n",
    "    }\n",
    "    println!(\"역순으로 순환문 처리 !!!\");\n",
    "}"
   ]
  },
  {
   "cell_type": "code",
   "execution_count": 36,
   "id": "90efcfea",
   "metadata": {},
   "outputs": [
    {
     "name": "stdout",
     "output_type": "stream",
     "text": [
      "범위 : 1!\n",
      "범위 : 2!\n",
      "범위 : 3!\n",
      " 순환문 처리 !!!\n",
      "역방향 범위: 3!\n",
      "역방향 범위: 2!\n",
      "역방향 범위: 1!\n",
      "역순으로 순환문 처리 !!!\n"
     ]
    },
    {
     "data": {
      "text/plain": [
       "()"
      ]
     },
     "execution_count": 36,
     "metadata": {},
     "output_type": "execute_result"
    }
   ],
   "source": [
    "main()"
   ]
  },
  {
   "cell_type": "markdown",
   "id": "d261096f",
   "metadata": {},
   "source": [
    "### 문자열 처리\n",
    "\n",
    "- 문자리터럴을 처리하려면 chars, bytes 매서드로 처리가 필요"
   ]
  },
  {
   "cell_type": "code",
   "execution_count": 42,
   "id": "69c5c156",
   "metadata": {},
   "outputs": [],
   "source": [
    "fn main() {\n",
    "    \n",
    "    for number in \"가을\".chars() {\n",
    "        println!(\"문자 리터럴 : {}!\", number);\n",
    "    }\n",
    "    println!(\" 순환문 처리 !!!\");\n",
    "    \n",
    "    for number in \"가을\".bytes() {\n",
    "        println!(\"문자 리터럴 : {}!\", number);\n",
    "    }\n",
    "    \n",
    "} "
   ]
  },
  {
   "cell_type": "code",
   "execution_count": 43,
   "id": "23b2cf6c",
   "metadata": {},
   "outputs": [
    {
     "name": "stdout",
     "output_type": "stream",
     "text": [
      "문자 리터럴 : 가!\n",
      "문자 리터럴 : 을!\n",
      " 순환문 처리 !!!\n",
      "문자 리터럴 : 234!\n",
      "문자 리터럴 : 176!\n",
      "문자 리터럴 : 128!\n",
      "문자 리터럴 : 236!\n",
      "문자 리터럴 : 157!\n",
      "문자 리터럴 : 132!\n"
     ]
    }
   ],
   "source": [
    "main();"
   ]
  },
  {
   "cell_type": "code",
   "execution_count": null,
   "id": "8c90e30f",
   "metadata": {},
   "outputs": [],
   "source": [
    "### 문자열 리터럴을 문자열로 변환해서 처리가 가능"
   ]
  },
  {
   "cell_type": "code",
   "execution_count": 50,
   "id": "61c0e4e9",
   "metadata": {},
   "outputs": [],
   "source": [
    "fn main() {\n",
    "    \n",
    "    let ss = \"가을\".to_string();\n",
    "    for s in ss.chars() {\n",
    "        println!(\"문자열 : {}!\", s);\n",
    "    }\n",
    "    println!(\" 문자열 변수 = {} !!!\", ss);\n",
    "    \n",
    "    for number in \"가을\".to_string().bytes() {\n",
    "        println!(\"문자열 : {}!\", number);\n",
    "    }\n",
    "    \n",
    "} "
   ]
  },
  {
   "cell_type": "code",
   "execution_count": 51,
   "id": "6010d2c3",
   "metadata": {},
   "outputs": [
    {
     "name": "stdout",
     "output_type": "stream",
     "text": [
      "문자열 : 가!\n",
      "문자열 : 을!\n",
      " 문자열 변수 = 가을 !!!\n",
      "문자열 : 234!\n",
      "문자열 : 176!\n",
      "문자열 : 128!\n",
      "문자열 : 236!\n",
      "문자열 : 157!\n",
      "문자열 : 132!\n"
     ]
    },
    {
     "data": {
      "text/plain": [
       "()"
      ]
     },
     "execution_count": 51,
     "metadata": {},
     "output_type": "execute_result"
    }
   ],
   "source": [
    "main()"
   ]
  },
  {
   "cell_type": "code",
   "execution_count": null,
   "id": "f5f8e1f9",
   "metadata": {},
   "outputs": [],
   "source": []
  },
  {
   "cell_type": "markdown",
   "id": "7cb5699c",
   "metadata": {},
   "source": [
    "### 무한 순환\n",
    "\n",
    "- loop 는 무한 순환\n",
    "- 그래서 break 문을 사용해서 종료 처리가 필요"
   ]
  },
  {
   "cell_type": "code",
   "execution_count": 52,
   "id": "f244116f",
   "metadata": {},
   "outputs": [],
   "source": [
    "fn main() {\n",
    "    let mut count = 0; \n",
    "    loop {\n",
    "        println!(\" 순환 처리 \");\n",
    "        count += 1;\n",
    "        if count > 4 {\n",
    "            break;\n",
    "        }\n",
    "    }\n",
    "}"
   ]
  },
  {
   "cell_type": "code",
   "execution_count": 53,
   "id": "4d8601f5",
   "metadata": {},
   "outputs": [
    {
     "name": "stdout",
     "output_type": "stream",
     "text": [
      " 순환 처리 \n",
      " 순환 처리 \n",
      " 순환 처리 \n",
      " 순환 처리 \n",
      " 순환 처리 \n"
     ]
    }
   ],
   "source": [
    "main();"
   ]
  },
  {
   "cell_type": "markdown",
   "id": "3b8ddcaa",
   "metadata": {},
   "source": [
    "### break를 통한 반환값 처리 "
   ]
  },
  {
   "cell_type": "code",
   "execution_count": 56,
   "id": "df5d1515",
   "metadata": {},
   "outputs": [],
   "source": [
    "fn main() {\n",
    "    let mut counter = 0;\n",
    "\n",
    "    let result = loop {\n",
    "        counter += 1;\n",
    "\n",
    "        if counter == 10 {\n",
    "            break counter * 2;\n",
    "        }\n",
    "    };\n",
    "\n",
    "    assert_eq!(result, 20);\n",
    "    println!(\"result ={}\", result);\n",
    "}"
   ]
  },
  {
   "cell_type": "code",
   "execution_count": 57,
   "id": "5e405a47",
   "metadata": {},
   "outputs": [
    {
     "name": "stdout",
     "output_type": "stream",
     "text": [
      "result =20\n"
     ]
    }
   ],
   "source": [
    "main();"
   ]
  },
  {
   "cell_type": "markdown",
   "id": "c5b71e0f",
   "metadata": {},
   "source": [
    "### break로 내포된 순환문 안에서 전체 순환문을 빠져나오기\n",
    "\n",
    "- break나 continue 는 하나의 순환문만 빠져나온다.\n",
    "- 그래서 이중 순환문이 있을 경우 레이블을 지정해서 빠져나올 수 있다.\n",
    "- 레이블은 'outer을 지정해서 break 다음에 작성해서 빠져나와야 한다."
   ]
  },
  {
   "cell_type": "code",
   "execution_count": null,
   "id": "d87e8d0a",
   "metadata": {},
   "outputs": [],
   "source": []
  },
  {
   "cell_type": "code",
   "execution_count": 2,
   "id": "93fff41c",
   "metadata": {},
   "outputs": [],
   "source": [
    "fn main() {\n",
    "    'outer: loop {\n",
    "        println!(\"Entered the outer loop\");\n",
    "\n",
    "        'inner: loop {\n",
    "            println!(\"Entered the inner loop\");\n",
    "\n",
    "            // This would break only the inner loop\n",
    "            break;\n",
    "        }\n",
    "\n",
    "        println!(\"This point will never be reached\");\n",
    "        break;\n",
    "    }\n",
    "\n",
    "    println!(\"Exited the outer loop\");\n",
    "}"
   ]
  },
  {
   "cell_type": "code",
   "execution_count": 3,
   "id": "9941ff68",
   "metadata": {},
   "outputs": [
    {
     "name": "stdout",
     "output_type": "stream",
     "text": [
      "Entered the outer loop\n",
      "Entered the inner loop\n",
      "This point will never be reached\n",
      "Exited the outer loop\n"
     ]
    },
    {
     "data": {
      "text/plain": [
       "()"
      ]
     },
     "execution_count": 3,
     "metadata": {},
     "output_type": "execute_result"
    }
   ],
   "source": [
    "main()"
   ]
  },
  {
   "cell_type": "markdown",
   "id": "ad854f1c",
   "metadata": {},
   "source": [
    "### break 문을 하나만 사용해서 처리하기 \n",
    "- 바로 break 문 다음에 레이블을 지정해서 처리하기\n"
   ]
  },
  {
   "cell_type": "code",
   "execution_count": 6,
   "id": "66a5a0d0",
   "metadata": {},
   "outputs": [],
   "source": [
    "fn main() {\n",
    "    'Outer_label : loop {\n",
    "        println!(\"Entered the outer loop\");\n",
    "\n",
    "        'inner: loop {\n",
    "            println!(\"Entered the inner loop\");\n",
    "            // This breaks the outer loop\n",
    "            break 'Outer_label;\n",
    "        }\n",
    "\n",
    "        println!(\"This point will never be reached\");\n",
    "    }\n",
    "\n",
    "    println!(\"Exited the outer loop\");\n",
    "}"
   ]
  },
  {
   "cell_type": "code",
   "execution_count": 7,
   "id": "5a1f41a8",
   "metadata": {},
   "outputs": [
    {
     "name": "stdout",
     "output_type": "stream",
     "text": [
      "Entered the outer loop\n",
      "Entered the inner loop\n",
      "Exited the outer loop\n"
     ]
    },
    {
     "data": {
      "text/plain": [
       "()"
      ]
     },
     "execution_count": 7,
     "metadata": {},
     "output_type": "execute_result"
    }
   ],
   "source": [
    "main()"
   ]
  },
  {
   "cell_type": "code",
   "execution_count": null,
   "id": "3035deb6",
   "metadata": {},
   "outputs": [],
   "source": []
  }
 ],
 "metadata": {
  "kernelspec": {
   "display_name": "Rust",
   "language": "rust",
   "name": "rust"
  },
  "language_info": {
   "codemirror_mode": "rust",
   "file_extension": ".rs",
   "mimetype": "text/rust",
   "name": "Rust",
   "pygment_lexer": "rust",
   "version": ""
  }
 },
 "nbformat": 4,
 "nbformat_minor": 5
}
