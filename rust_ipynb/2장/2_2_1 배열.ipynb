{
 "cells": [
  {
   "cell_type": "markdown",
   "id": "a2f96b9d",
   "metadata": {},
   "source": [
    "## 배열\n",
    "\n",
    "\n",
    "- 배열 리터럴  :  let variable_name = [value1,value2,value3];\n",
    "\n",
    "- 배열 자료형 지정과 배열 리터럴 할당  : let variable_name:[dataType;size] = [value1,value2,value3];\n",
    "\n",
    "- 배열 자료형 지정과 배열 초기화 할당 : let variable_name:[dataType;size] = [default_value_for_elements;size];"
   ]
  },
  {
   "cell_type": "markdown",
   "id": "614536dc",
   "metadata": {},
   "source": [
    "# 1. 배열 리터럴 "
   ]
  },
  {
   "cell_type": "markdown",
   "id": "e62f0d04",
   "metadata": {},
   "source": [
    "## 외부 크레이트 가져오기 "
   ]
  },
  {
   "cell_type": "code",
   "execution_count": 2,
   "id": "3fd1bb56",
   "metadata": {},
   "outputs": [],
   "source": [
    ":dep typename = \"0.1.2\""
   ]
  },
  {
   "cell_type": "markdown",
   "id": "5b65c38c",
   "metadata": {},
   "source": [
    "## 외부 트레이트 사용하기 "
   ]
  },
  {
   "cell_type": "code",
   "execution_count": 3,
   "id": "324001c8",
   "metadata": {},
   "outputs": [],
   "source": [
    "use typename::TypeName;"
   ]
  },
  {
   "cell_type": "markdown",
   "id": "71d1a36d",
   "metadata": {},
   "source": [
    "## 1-1 배열 생성 및 타입확인 "
   ]
  },
  {
   "cell_type": "markdown",
   "id": "acbf939c",
   "metadata": {},
   "source": [
    "### 배열 리터럴은 대괄호 내의 동일한 자료형의 값으로 표시"
   ]
  },
  {
   "cell_type": "code",
   "execution_count": 2,
   "id": "afdf54e3",
   "metadata": {},
   "outputs": [],
   "source": [
    "let arr1 = [1,2,3,4,5];"
   ]
  },
  {
   "cell_type": "markdown",
   "id": "c8da0cf8",
   "metadata": {},
   "source": [
    "### 배열 에대한 출력 \n",
    "\n",
    "- 배열도 단일 원소가 아니므로 출력할 때 {:?} 로 처리 "
   ]
  },
  {
   "cell_type": "code",
   "execution_count": 4,
   "id": "9a927784",
   "metadata": {},
   "outputs": [],
   "source": [
    "fn main() {\n",
    "    let arr = [1,2,3,4,5];                       // 배열 리터럴을 대괄호를 사용한다. \n",
    "    \n",
    "    println!(\"{:?}\", arr);                       // 배열도 출력할 때는 디버그 타입을 사용 \n",
    "    \n",
    "    println!(\" type {} \", arr.type_name_of());   // 인스턴스의 타입으 확인하기 \n",
    "    \n",
    "    println!(\"index search : {}\", arr[0])        // 하나의 원소를 선택할 때는 인덱스 검색으로 사용\n",
    "}"
   ]
  },
  {
   "cell_type": "code",
   "execution_count": 5,
   "id": "3773d1e0",
   "metadata": {},
   "outputs": [
    {
     "name": "stdout",
     "output_type": "stream",
     "text": [
      "[1, 2, 3, 4, 5]\n",
      " type [i32; 5] \n",
      "index search : 1\n"
     ]
    },
    {
     "data": {
      "text/plain": [
       "()"
      ]
     },
     "execution_count": 5,
     "metadata": {},
     "output_type": "execute_result"
    }
   ],
   "source": [
    "main()"
   ]
  },
  {
   "cell_type": "markdown",
   "id": "9d539ae8",
   "metadata": {},
   "source": [
    "## 1-2 배열 원소 조회 "
   ]
  },
  {
   "cell_type": "markdown",
   "id": "78e2da7e",
   "metadata": {},
   "source": [
    "### 배열의 원소는 검색연산자인 대괄호를 사용\n",
    "\n",
    "-  대괄호 내부에 인덱스를 정수로 지정해서 검색 "
   ]
  },
  {
   "cell_type": "code",
   "execution_count": 16,
   "id": "dd4c2ad5",
   "metadata": {},
   "outputs": [],
   "source": [
    "fn main() {\n",
    "    let x = [\"English\", \"This\", \"sentence\", \"a\", \"in\", \"is\"];\n",
    "    println!(\"{} {} {} {} {} {}\", x[1], x[5], x[3], x[2], x[4], x[0]);\n",
    "    \n",
    "    for i in x {\n",
    "        print!(\"{}, \",i);\n",
    "    }\n",
    "    println!();\n",
    "    println!(\"데이터 처리 \");\n",
    "}"
   ]
  },
  {
   "cell_type": "code",
   "execution_count": 17,
   "id": "2b5f86bb",
   "metadata": {},
   "outputs": [
    {
     "name": "stdout",
     "output_type": "stream",
     "text": [
      "This is a sentence in English\n",
      "English, This, sentence, a, in, is, \n",
      "데이터 처리 \n"
     ]
    },
    {
     "data": {
      "text/plain": [
       "()"
      ]
     },
     "execution_count": 17,
     "metadata": {},
     "output_type": "execute_result"
    }
   ],
   "source": [
    "main()"
   ]
  },
  {
   "cell_type": "markdown",
   "id": "c8f15073",
   "metadata": {},
   "source": [
    "### 배열 출력할 때 주의  "
   ]
  },
  {
   "cell_type": "code",
   "execution_count": 10,
   "id": "b08dcfbb",
   "metadata": {},
   "outputs": [],
   "source": [
    "fn main() {\n",
    "    let x = [\"English\", \"This\", \"sentence\", \"a\", \"in\", \"is\"];\n",
    "    let y = \"출력\";\n",
    "    let z = &x;\n",
    "    println!(\"x = {:?}\", x);\n",
    "    println!(\"y = {y}\");\n",
    "    //println!(\"{ z}\");  //[&str; 6]` cannot be formatted with the default formatter, \n",
    "                         // doesn't implement `std::fmt::Display`\n",
    "    println!(\"z = {:?} \", z);\n",
    "}"
   ]
  },
  {
   "cell_type": "code",
   "execution_count": 11,
   "id": "099ac06a",
   "metadata": {},
   "outputs": [
    {
     "name": "stdout",
     "output_type": "stream",
     "text": [
      "x = [\"English\", \"This\", \"sentence\", \"a\", \"in\", \"is\"]\n",
      "y = 출력\n",
      "z = [\"English\", \"This\", \"sentence\", \"a\", \"in\", \"is\"] \n"
     ]
    },
    {
     "data": {
      "text/plain": [
       "()"
      ]
     },
     "execution_count": 11,
     "metadata": {},
     "output_type": "execute_result"
    }
   ],
   "source": [
    "main()"
   ]
  },
  {
   "cell_type": "markdown",
   "id": "675cd3b4",
   "metadata": {},
   "source": [
    "## 배열 타입 지정 처리\n",
    "\n",
    "- 대괄호에 타입을 지정하고 세미콜론을 붙이고 배열의 원소개수를 지정\n",
    "- 배열 자료형을 결정할 때는 자료형과 원소개수까지 포함한다. "
   ]
  },
  {
   "cell_type": "code",
   "execution_count": 24,
   "id": "0759f3da",
   "metadata": {},
   "outputs": [],
   "source": [
    "fn main() {\n",
    "    let ar = [0,0,0,0,0,0,0,0,0,0];   \n",
    "    println!(\"{:?} \", ar);\n",
    "    let ar1 : [u8;10] = [1,1,1,1,1,1,1,1,1,1];\n",
    "    println!(\"{:?} \", ar1);\n",
    "    \n",
    "    let ar1 : [u8;10] = [0;10];\n",
    "    println!(\"{:?} \", ar1);\n",
    "    let ar1 : [u8;10] = [1;10];\n",
    "    println!(\"{:?} \", ar1);\n",
    "}"
   ]
  },
  {
   "cell_type": "code",
   "execution_count": 25,
   "id": "32112b7a",
   "metadata": {},
   "outputs": [
    {
     "name": "stdout",
     "output_type": "stream",
     "text": [
      "[0, 0, 0, 0, 0, 0, 0, 0, 0, 0] \n",
      "[1, 1, 1, 1, 1, 1, 1, 1, 1, 1] \n",
      "[0, 0, 0, 0, 0, 0, 0, 0, 0, 0] \n",
      "[1, 1, 1, 1, 1, 1, 1, 1, 1, 1] \n"
     ]
    },
    {
     "data": {
      "text/plain": [
       "()"
      ]
     },
     "execution_count": 25,
     "metadata": {},
     "output_type": "execute_result"
    }
   ],
   "source": [
    "main()"
   ]
  },
  {
   "cell_type": "code",
   "execution_count": null,
   "id": "4835d546",
   "metadata": {},
   "outputs": [],
   "source": []
  },
  {
   "cell_type": "code",
   "execution_count": null,
   "id": "3a648227",
   "metadata": {},
   "outputs": [],
   "source": []
  },
  {
   "cell_type": "code",
   "execution_count": null,
   "id": "3247b186",
   "metadata": {},
   "outputs": [],
   "source": []
  },
  {
   "cell_type": "markdown",
   "id": "582f2c0b",
   "metadata": {},
   "source": [
    "## 2.  배열 내부 갱신 "
   ]
  },
  {
   "cell_type": "markdown",
   "id": "d8f89dfc",
   "metadata": {},
   "source": [
    "### 변수가 변경이 불가할 때는 배열을 변경할 수 없다"
   ]
  },
  {
   "cell_type": "code",
   "execution_count": 9,
   "id": "782ea0ba",
   "metadata": {},
   "outputs": [],
   "source": [
    "fn main() {\n",
    "    let x = [\"This\", \"is\", \"a\", \"sentence\"];\n",
    "    // x[2] = \"a nice\";                 cannot assign to `x[_]`, as `x` is not declared as mutable\n",
    "    println!(\"{} {} {} {}.\", x[0], x[1], x[2], x[3]);\n",
    "}"
   ]
  },
  {
   "cell_type": "code",
   "execution_count": 10,
   "id": "9fe894fd",
   "metadata": {},
   "outputs": [
    {
     "name": "stdout",
     "output_type": "stream",
     "text": [
      "This is a sentence.\n"
     ]
    },
    {
     "data": {
      "text/plain": [
       "()"
      ]
     },
     "execution_count": 10,
     "metadata": {},
     "output_type": "execute_result"
    }
   ],
   "source": [
    "main()"
   ]
  },
  {
   "cell_type": "code",
   "execution_count": null,
   "id": "f0e5facf",
   "metadata": {},
   "outputs": [],
   "source": []
  },
  {
   "cell_type": "code",
   "execution_count": 6,
   "id": "676bd2d5",
   "metadata": {},
   "outputs": [],
   "source": [
    "fn main() {\n",
    "    let mut x = [\"This\", \"is\", \"a\", \"sentence\"];\n",
    "    println!(\"{} {} {} {}.\", x[0], x[1], x[2], x[3]);\n",
    "    x[2] = \"a nice\";\n",
    "    println!(\"{} {} {} {}.\", x[0], x[1], x[2], x[3]);\n",
    "}"
   ]
  },
  {
   "cell_type": "code",
   "execution_count": 7,
   "id": "27cf2943",
   "metadata": {},
   "outputs": [
    {
     "name": "stdout",
     "output_type": "stream",
     "text": [
      "This is a sentence.\n",
      "This is a nice sentence.\n"
     ]
    },
    {
     "data": {
      "text/plain": [
       "()"
      ]
     },
     "execution_count": 7,
     "metadata": {},
     "output_type": "execute_result"
    }
   ],
   "source": [
    "main()"
   ]
  },
  {
   "cell_type": "code",
   "execution_count": null,
   "id": "3cf427c3",
   "metadata": {},
   "outputs": [],
   "source": []
  }
 ],
 "metadata": {
  "kernelspec": {
   "display_name": "Rust",
   "language": "rust",
   "name": "rust"
  },
  "language_info": {
   "codemirror_mode": "rust",
   "file_extension": ".rs",
   "mimetype": "text/rust",
   "name": "Rust",
   "pygment_lexer": "rust",
   "version": ""
  }
 },
 "nbformat": 4,
 "nbformat_minor": 5
}
